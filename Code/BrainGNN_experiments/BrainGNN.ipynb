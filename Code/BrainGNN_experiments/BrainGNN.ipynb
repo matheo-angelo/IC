{
  "nbformat": 4,
  "nbformat_minor": 0,
  "metadata": {
    "colab": {
      "provenance": [],
      "gpuType": "T4"
    },
    "kernelspec": {
      "name": "python3",
      "display_name": "Python 3"
    },
    "language_info": {
      "name": "python"
    },
    "accelerator": "GPU"
  },
  "cells": [
    {
      "cell_type": "markdown",
      "source": [
        "# BrainGNN\n",
        "A Python Notebook that trains the [BrainGNN](https://www.sciencedirect.com/science/article/abs/pii/S1361841521002784) neural network on autism fMRI data sourced from [ABIDE I](https://fcon_1000.projects.nitrc.org/indi/abide/abide_I.html) on Google Colab. The necessary dependencies might change as the code gets outdated."
      ],
      "metadata": {
        "id": "oAbGavNr8h5o"
      }
    },
    {
      "cell_type": "markdown",
      "source": [
        "## Cloning the BrainGNN GitHub repository\n",
        "\n",
        "An additional fork was created to guarantee that the dependencies are updated (20/04/2025)"
      ],
      "metadata": {
        "id": "ZhGFpNewxoMR"
      }
    },
    {
      "cell_type": "code",
      "execution_count": null,
      "metadata": {
        "colab": {
          "base_uri": "https://localhost:8080/"
        },
        "id": "XtaaNb2t51jV",
        "outputId": "292a5247-0eed-48a0-f127-3c0b969a386a"
      },
      "outputs": [
        {
          "output_type": "stream",
          "name": "stdout",
          "text": [
            "Cloning into 'BrainGNN'...\n",
            "remote: Enumerating objects: 5365, done.\u001b[K\n",
            "remote: Counting objects: 100% (104/104), done.\u001b[K\n",
            "remote: Compressing objects: 100% (95/95), done.\u001b[K\n",
            "remote: Total 5365 (delta 52), reused 6 (delta 6), pack-reused 5261 (from 3)\u001b[K\n",
            "Receiving objects: 100% (5365/5365), 1.29 GiB | 33.48 MiB/s, done.\n",
            "Resolving deltas: 100% (74/74), done.\n",
            "Updating files: 100% (4172/4172), done.\n"
          ]
        }
      ],
      "source": [
        "!git clone https://github.com/matheo-angelo/BrainGNN_Pytorch BrainGNN"
      ]
    },
    {
      "cell_type": "markdown",
      "source": [
        "## Installing necessary dependencies\n",
        "\n",
        "You may have to restart the runtime after running the cell below."
      ],
      "metadata": {
        "id": "NX3P64-sxz1G"
      }
    },
    {
      "cell_type": "code",
      "source": [
        "!pip install -r BrainGNN/requirements.txt"
      ],
      "metadata": {
        "colab": {
          "base_uri": "https://localhost:8080/",
          "height": 1000
        },
        "id": "UlSWioPg6iOC",
        "outputId": "57be4f41-cfbf-4461-8c3d-7c614e321e77"
      },
      "execution_count": null,
      "outputs": [
        {
          "output_type": "stream",
          "name": "stdout",
          "text": [
            "Looking in links: https://data.pyg.org/whl/torch-2.1.1+cu121.html\n",
            "Collecting torch-scatter (from -r BrainGNN/requirements.txt (line 1))\n",
            "  Downloading https://data.pyg.org/whl/torch-2.1.0%2Bcu121/torch_scatter-2.1.2%2Bpt21cu121-cp311-cp311-linux_x86_64.whl (10.8 MB)\n",
            "\u001b[2K     \u001b[90m━━━━━━━━━━━━━━━━━━━━━━━━━━━━━━━━━━━━━━━\u001b[0m \u001b[32m10.8/10.8 MB\u001b[0m \u001b[31m113.9 MB/s\u001b[0m eta \u001b[36m0:00:00\u001b[0m\n",
            "\u001b[?25hCollecting torch-sparse (from -r BrainGNN/requirements.txt (line 2))\n",
            "  Downloading https://data.pyg.org/whl/torch-2.1.0%2Bcu121/torch_sparse-0.6.18%2Bpt21cu121-cp311-cp311-linux_x86_64.whl (5.1 MB)\n",
            "\u001b[2K     \u001b[90m━━━━━━━━━━━━━━━━━━━━━━━━━━━━━━━━━━━━━━━━\u001b[0m \u001b[32m5.1/5.1 MB\u001b[0m \u001b[31m4.1 MB/s\u001b[0m eta \u001b[36m0:00:00\u001b[0m\n",
            "\u001b[?25hCollecting torch-cluster (from -r BrainGNN/requirements.txt (line 3))\n",
            "  Downloading https://data.pyg.org/whl/torch-2.1.0%2Bcu121/torch_cluster-1.6.3%2Bpt21cu121-cp311-cp311-linux_x86_64.whl (3.3 MB)\n",
            "\u001b[2K     \u001b[90m━━━━━━━━━━━━━━━━━━━━━━━━━━━━━━━━━━━━━━━━\u001b[0m \u001b[32m3.3/3.3 MB\u001b[0m \u001b[31m72.4 MB/s\u001b[0m eta \u001b[36m0:00:00\u001b[0m\n",
            "\u001b[?25hCollecting torch-spline-conv (from -r BrainGNN/requirements.txt (line 4))\n",
            "  Downloading https://data.pyg.org/whl/torch-2.1.0%2Bcu121/torch_spline_conv-1.2.2%2Bpt21cu121-cp311-cp311-linux_x86_64.whl (935 kB)\n",
            "\u001b[2K     \u001b[90m━━━━━━━━━━━━━━━━━━━━━━━━━━━━━━━━━━━━━━━\u001b[0m \u001b[32m936.0/936.0 kB\u001b[0m \u001b[31m1.2 MB/s\u001b[0m eta \u001b[36m0:00:00\u001b[0m\n",
            "\u001b[?25hCollecting absl-py==2.0.0 (from -r BrainGNN/requirements.txt (line 6))\n",
            "  Downloading absl_py-2.0.0-py3-none-any.whl.metadata (2.3 kB)\n",
            "Collecting blosc2==2.3.1 (from -r BrainGNN/requirements.txt (line 7))\n",
            "  Downloading blosc2-2.3.1-cp311-cp311-manylinux_2_17_x86_64.manylinux2014_x86_64.whl.metadata (9.1 kB)\n",
            "Collecting cachetools==5.3.2 (from -r BrainGNN/requirements.txt (line 8))\n",
            "  Downloading cachetools-5.3.2-py3-none-any.whl.metadata (5.2 kB)\n",
            "Collecting certifi==2023.11.17 (from -r BrainGNN/requirements.txt (line 9))\n",
            "  Downloading certifi-2023.11.17-py3-none-any.whl.metadata (2.2 kB)\n",
            "Collecting charset-normalizer==3.3.2 (from -r BrainGNN/requirements.txt (line 10))\n",
            "  Downloading charset_normalizer-3.3.2-cp311-cp311-manylinux_2_17_x86_64.manylinux2014_x86_64.whl.metadata (33 kB)\n",
            "Collecting deepdish==0.3.7 (from -r BrainGNN/requirements.txt (line 11))\n",
            "  Downloading deepdish-0.3.7-py2.py3-none-any.whl.metadata (856 bytes)\n",
            "Collecting filelock==3.13.1 (from -r BrainGNN/requirements.txt (line 12))\n",
            "  Downloading filelock-3.13.1-py3-none-any.whl.metadata (2.8 kB)\n",
            "Collecting fsspec==2023.10.0 (from -r BrainGNN/requirements.txt (line 13))\n",
            "  Downloading fsspec-2023.10.0-py3-none-any.whl.metadata (6.8 kB)\n",
            "Collecting google-auth==2.23.4 (from -r BrainGNN/requirements.txt (line 14))\n",
            "  Downloading google_auth-2.23.4-py2.py3-none-any.whl.metadata (4.7 kB)\n",
            "Collecting google-auth-oauthlib==1.1.0 (from -r BrainGNN/requirements.txt (line 15))\n",
            "  Downloading google_auth_oauthlib-1.1.0-py2.py3-none-any.whl.metadata (2.7 kB)\n",
            "Collecting grpcio==1.59.3 (from -r BrainGNN/requirements.txt (line 16))\n",
            "  Downloading grpcio-1.59.3-cp311-cp311-manylinux_2_17_x86_64.manylinux2014_x86_64.whl.metadata (4.0 kB)\n",
            "Collecting h5py==3.10.0 (from -r BrainGNN/requirements.txt (line 17))\n",
            "  Downloading h5py-3.10.0-cp311-cp311-manylinux_2_17_x86_64.manylinux2014_x86_64.whl.metadata (2.5 kB)\n",
            "Collecting idna==3.6 (from -r BrainGNN/requirements.txt (line 18))\n",
            "  Downloading idna-3.6-py3-none-any.whl.metadata (9.9 kB)\n",
            "Collecting importlib-metadata==6.8.0 (from -r BrainGNN/requirements.txt (line 19))\n",
            "  Downloading importlib_metadata-6.8.0-py3-none-any.whl.metadata (5.1 kB)\n",
            "Collecting Jinja2==3.1.2 (from -r BrainGNN/requirements.txt (line 20))\n",
            "  Downloading Jinja2-3.1.2-py3-none-any.whl.metadata (3.5 kB)\n",
            "Collecting joblib==1.3.2 (from -r BrainGNN/requirements.txt (line 21))\n",
            "  Downloading joblib-1.3.2-py3-none-any.whl.metadata (5.4 kB)\n",
            "Collecting lxml==4.9.3 (from -r BrainGNN/requirements.txt (line 22))\n",
            "  Downloading lxml-4.9.3-cp311-cp311-manylinux_2_28_x86_64.whl.metadata (3.8 kB)\n",
            "Collecting Markdown==3.5.1 (from -r BrainGNN/requirements.txt (line 23))\n",
            "  Downloading Markdown-3.5.1-py3-none-any.whl.metadata (7.1 kB)\n",
            "Collecting MarkupSafe==2.1.3 (from -r BrainGNN/requirements.txt (line 24))\n",
            "  Downloading MarkupSafe-2.1.3-cp311-cp311-manylinux_2_17_x86_64.manylinux2014_x86_64.whl.metadata (3.0 kB)\n",
            "Requirement already satisfied: mpmath==1.3.0 in /usr/local/lib/python3.11/dist-packages (from -r BrainGNN/requirements.txt (line 25)) (1.3.0)\n",
            "Collecting msgpack==1.0.7 (from -r BrainGNN/requirements.txt (line 26))\n",
            "  Downloading msgpack-1.0.7-cp311-cp311-manylinux_2_17_x86_64.manylinux2014_x86_64.whl.metadata (9.1 kB)\n",
            "Collecting ndindex==1.7 (from -r BrainGNN/requirements.txt (line 27))\n",
            "  Downloading ndindex-1.7-py3-none-any.whl.metadata (3.4 kB)\n",
            "Collecting networkx==3.2.1 (from -r BrainGNN/requirements.txt (line 28))\n",
            "  Downloading networkx-3.2.1-py3-none-any.whl.metadata (5.2 kB)\n",
            "Collecting nibabel==5.1.0 (from -r BrainGNN/requirements.txt (line 29))\n",
            "  Downloading nibabel-5.1.0-py3-none-any.whl.metadata (8.7 kB)\n",
            "Collecting nilearn==0.10.2 (from -r BrainGNN/requirements.txt (line 30))\n",
            "  Downloading nilearn-0.10.2-py3-none-any.whl.metadata (7.8 kB)\n",
            "Collecting numexpr==2.8.7 (from -r BrainGNN/requirements.txt (line 31))\n",
            "  Downloading numexpr-2.8.7-cp311-cp311-manylinux_2_17_x86_64.manylinux2014_x86_64.whl.metadata (8.7 kB)\n",
            "Collecting numpy==1.26.2 (from -r BrainGNN/requirements.txt (line 32))\n",
            "  Downloading numpy-1.26.2-cp311-cp311-manylinux_2_17_x86_64.manylinux2014_x86_64.whl.metadata (61 kB)\n",
            "\u001b[2K     \u001b[90m━━━━━━━━━━━━━━━━━━━━━━━━━━━━━━━━━━━━━━━━\u001b[0m \u001b[32m61.2/61.2 kB\u001b[0m \u001b[31m5.5 MB/s\u001b[0m eta \u001b[36m0:00:00\u001b[0m\n",
            "\u001b[?25hRequirement already satisfied: oauthlib==3.2.2 in /usr/local/lib/python3.11/dist-packages (from -r BrainGNN/requirements.txt (line 33)) (3.2.2)\n",
            "Collecting packaging==23.2 (from -r BrainGNN/requirements.txt (line 34))\n",
            "  Downloading packaging-23.2-py3-none-any.whl.metadata (3.2 kB)\n",
            "Collecting pandas==2.1.3 (from -r BrainGNN/requirements.txt (line 35))\n",
            "  Downloading pandas-2.1.3-cp311-cp311-manylinux_2_17_x86_64.manylinux2014_x86_64.whl.metadata (18 kB)\n",
            "Collecting Pillow==10.1.0 (from -r BrainGNN/requirements.txt (line 36))\n",
            "  Downloading Pillow-10.1.0-cp311-cp311-manylinux_2_28_x86_64.whl.metadata (9.5 kB)\n",
            "Collecting protobuf==4.23.4 (from -r BrainGNN/requirements.txt (line 37))\n",
            "  Downloading protobuf-4.23.4-cp37-abi3-manylinux2014_x86_64.whl.metadata (540 bytes)\n",
            "Collecting psutil==5.9.6 (from -r BrainGNN/requirements.txt (line 38))\n",
            "  Downloading psutil-5.9.6-cp36-abi3-manylinux_2_12_x86_64.manylinux2010_x86_64.manylinux_2_17_x86_64.manylinux2014_x86_64.whl.metadata (21 kB)\n",
            "Requirement already satisfied: py-cpuinfo==9.0.0 in /usr/local/lib/python3.11/dist-packages (from -r BrainGNN/requirements.txt (line 39)) (9.0.0)\n",
            "Collecting pyasn1==0.5.1 (from -r BrainGNN/requirements.txt (line 40))\n",
            "  Downloading pyasn1-0.5.1-py2.py3-none-any.whl.metadata (8.6 kB)\n",
            "Collecting pyasn1-modules==0.3.0 (from -r BrainGNN/requirements.txt (line 41))\n",
            "  Downloading pyasn1_modules-0.3.0-py2.py3-none-any.whl.metadata (3.6 kB)\n",
            "Collecting pyparsing==3.1.1 (from -r BrainGNN/requirements.txt (line 42))\n",
            "  Downloading pyparsing-3.1.1-py3-none-any.whl.metadata (5.1 kB)\n",
            "Requirement already satisfied: python-dateutil==2.8.2 in /usr/local/lib/python3.11/dist-packages (from -r BrainGNN/requirements.txt (line 43)) (2.8.2)\n",
            "Collecting pytz==2023.3.post1 (from -r BrainGNN/requirements.txt (line 44))\n",
            "  Downloading pytz-2023.3.post1-py2.py3-none-any.whl.metadata (22 kB)\n",
            "Collecting requests==2.31.0 (from -r BrainGNN/requirements.txt (line 45))\n",
            "  Downloading requests-2.31.0-py3-none-any.whl.metadata (4.6 kB)\n",
            "Collecting requests-oauthlib==1.3.1 (from -r BrainGNN/requirements.txt (line 46))\n",
            "  Downloading requests_oauthlib-1.3.1-py2.py3-none-any.whl.metadata (10 kB)\n",
            "Collecting rsa==4.9 (from -r BrainGNN/requirements.txt (line 47))\n",
            "  Downloading rsa-4.9-py3-none-any.whl.metadata (4.2 kB)\n",
            "Collecting scikit-learn==1.3.2 (from -r BrainGNN/requirements.txt (line 48))\n",
            "  Downloading scikit_learn-1.3.2-cp311-cp311-manylinux_2_17_x86_64.manylinux2014_x86_64.whl.metadata (11 kB)\n",
            "Collecting scipy==1.11.4 (from -r BrainGNN/requirements.txt (line 49))\n",
            "  Downloading scipy-1.11.4-cp311-cp311-manylinux_2_17_x86_64.manylinux2014_x86_64.whl.metadata (60 kB)\n",
            "\u001b[2K     \u001b[90m━━━━━━━━━━━━━━━━━━━━━━━━━━━━━━━━━━━━━━━━\u001b[0m \u001b[32m60.4/60.4 kB\u001b[0m \u001b[31m5.4 MB/s\u001b[0m eta \u001b[36m0:00:00\u001b[0m\n",
            "\u001b[?25hCollecting six==1.16.0 (from -r BrainGNN/requirements.txt (line 50))\n",
            "  Downloading six-1.16.0-py2.py3-none-any.whl.metadata (1.8 kB)\n",
            "Collecting sympy==1.12 (from -r BrainGNN/requirements.txt (line 51))\n",
            "  Downloading sympy-1.12-py3-none-any.whl.metadata (12 kB)\n",
            "Collecting tables==3.9.2 (from -r BrainGNN/requirements.txt (line 52))\n",
            "  Downloading tables-3.9.2-cp311-cp311-manylinux_2_17_x86_64.manylinux2014_x86_64.whl.metadata (2.3 kB)\n",
            "Collecting tensorboard==2.15.1 (from -r BrainGNN/requirements.txt (line 53))\n",
            "  Downloading tensorboard-2.15.1-py3-none-any.whl.metadata (1.7 kB)\n",
            "Requirement already satisfied: tensorboard-data-server==0.7.2 in /usr/local/lib/python3.11/dist-packages (from -r BrainGNN/requirements.txt (line 54)) (0.7.2)\n",
            "Collecting tensorboardX==2.6.2.2 (from -r BrainGNN/requirements.txt (line 55))\n",
            "  Downloading tensorboardX-2.6.2.2-py2.py3-none-any.whl.metadata (5.8 kB)\n",
            "Collecting threadpoolctl==3.2.0 (from -r BrainGNN/requirements.txt (line 56))\n",
            "  Downloading threadpoolctl-3.2.0-py3-none-any.whl.metadata (10.0 kB)\n",
            "Collecting torch==2.1.1 (from -r BrainGNN/requirements.txt (line 57))\n",
            "  Downloading torch-2.1.1-cp311-cp311-manylinux1_x86_64.whl.metadata (25 kB)\n",
            "Collecting torch-tb-profiler==0.4.3 (from -r BrainGNN/requirements.txt (line 58))\n",
            "  Downloading torch_tb_profiler-0.4.3-py3-none-any.whl.metadata (1.4 kB)\n",
            "Collecting torch_geometric==2.4.0 (from -r BrainGNN/requirements.txt (line 59))\n",
            "  Downloading torch_geometric-2.4.0-py3-none-any.whl.metadata (63 kB)\n",
            "\u001b[2K     \u001b[90m━━━━━━━━━━━━━━━━━━━━━━━━━━━━━━━━━━━━━━━━\u001b[0m \u001b[32m63.9/63.9 kB\u001b[0m \u001b[31m6.6 MB/s\u001b[0m eta \u001b[36m0:00:00\u001b[0m\n",
            "\u001b[?25hCollecting torchaudio==2.1.1 (from -r BrainGNN/requirements.txt (line 60))\n",
            "  Downloading torchaudio-2.1.1-cp311-cp311-manylinux1_x86_64.whl.metadata (6.4 kB)\n",
            "Collecting torchvision==0.16.1 (from -r BrainGNN/requirements.txt (line 61))\n",
            "  Downloading torchvision-0.16.1-cp311-cp311-manylinux1_x86_64.whl.metadata (6.6 kB)\n",
            "Collecting tqdm==4.66.1 (from -r BrainGNN/requirements.txt (line 62))\n",
            "  Downloading tqdm-4.66.1-py3-none-any.whl.metadata (57 kB)\n",
            "\u001b[2K     \u001b[90m━━━━━━━━━━━━━━━━━━━━━━━━━━━━━━━━━━━━━━━━\u001b[0m \u001b[32m57.6/57.6 kB\u001b[0m \u001b[31m5.5 MB/s\u001b[0m eta \u001b[36m0:00:00\u001b[0m\n",
            "\u001b[?25hCollecting typing_extensions==4.8.0 (from -r BrainGNN/requirements.txt (line 63))\n",
            "  Downloading typing_extensions-4.8.0-py3-none-any.whl.metadata (3.0 kB)\n",
            "Collecting tzdata==2023.3 (from -r BrainGNN/requirements.txt (line 64))\n",
            "  Downloading tzdata-2023.3-py2.py3-none-any.whl.metadata (1.4 kB)\n",
            "Collecting urllib3==2.1.0 (from -r BrainGNN/requirements.txt (line 65))\n",
            "  Downloading urllib3-2.1.0-py3-none-any.whl.metadata (6.4 kB)\n",
            "Collecting Werkzeug==3.0.1 (from -r BrainGNN/requirements.txt (line 66))\n",
            "  Downloading werkzeug-3.0.1-py3-none-any.whl.metadata (4.1 kB)\n",
            "Collecting zipp==3.17.0 (from -r BrainGNN/requirements.txt (line 67))\n",
            "  Downloading zipp-3.17.0-py3-none-any.whl.metadata (3.7 kB)\n",
            "Requirement already satisfied: setuptools>=41.0.0 in /usr/local/lib/python3.11/dist-packages (from tensorboard==2.15.1->-r BrainGNN/requirements.txt (line 53)) (75.2.0)\n",
            "Collecting nvidia-cuda-nvrtc-cu12==12.1.105 (from torch==2.1.1->-r BrainGNN/requirements.txt (line 57))\n",
            "  Downloading nvidia_cuda_nvrtc_cu12-12.1.105-py3-none-manylinux1_x86_64.whl.metadata (1.5 kB)\n",
            "Collecting nvidia-cuda-runtime-cu12==12.1.105 (from torch==2.1.1->-r BrainGNN/requirements.txt (line 57))\n",
            "  Downloading nvidia_cuda_runtime_cu12-12.1.105-py3-none-manylinux1_x86_64.whl.metadata (1.5 kB)\n",
            "Collecting nvidia-cuda-cupti-cu12==12.1.105 (from torch==2.1.1->-r BrainGNN/requirements.txt (line 57))\n",
            "  Downloading nvidia_cuda_cupti_cu12-12.1.105-py3-none-manylinux1_x86_64.whl.metadata (1.6 kB)\n",
            "Collecting nvidia-cudnn-cu12==8.9.2.26 (from torch==2.1.1->-r BrainGNN/requirements.txt (line 57))\n",
            "  Downloading nvidia_cudnn_cu12-8.9.2.26-py3-none-manylinux1_x86_64.whl.metadata (1.6 kB)\n",
            "Collecting nvidia-cublas-cu12==12.1.3.1 (from torch==2.1.1->-r BrainGNN/requirements.txt (line 57))\n",
            "  Downloading nvidia_cublas_cu12-12.1.3.1-py3-none-manylinux1_x86_64.whl.metadata (1.5 kB)\n",
            "Collecting nvidia-cufft-cu12==11.0.2.54 (from torch==2.1.1->-r BrainGNN/requirements.txt (line 57))\n",
            "  Downloading nvidia_cufft_cu12-11.0.2.54-py3-none-manylinux1_x86_64.whl.metadata (1.5 kB)\n",
            "Collecting nvidia-curand-cu12==10.3.2.106 (from torch==2.1.1->-r BrainGNN/requirements.txt (line 57))\n",
            "  Downloading nvidia_curand_cu12-10.3.2.106-py3-none-manylinux1_x86_64.whl.metadata (1.5 kB)\n",
            "Collecting nvidia-cusolver-cu12==11.4.5.107 (from torch==2.1.1->-r BrainGNN/requirements.txt (line 57))\n",
            "  Downloading nvidia_cusolver_cu12-11.4.5.107-py3-none-manylinux1_x86_64.whl.metadata (1.6 kB)\n",
            "Collecting nvidia-cusparse-cu12==12.1.0.106 (from torch==2.1.1->-r BrainGNN/requirements.txt (line 57))\n",
            "  Downloading nvidia_cusparse_cu12-12.1.0.106-py3-none-manylinux1_x86_64.whl.metadata (1.6 kB)\n",
            "Collecting nvidia-nccl-cu12==2.18.1 (from torch==2.1.1->-r BrainGNN/requirements.txt (line 57))\n",
            "  Downloading nvidia_nccl_cu12-2.18.1-py3-none-manylinux1_x86_64.whl.metadata (1.8 kB)\n",
            "Collecting nvidia-nvtx-cu12==12.1.105 (from torch==2.1.1->-r BrainGNN/requirements.txt (line 57))\n",
            "  Downloading nvidia_nvtx_cu12-12.1.105-py3-none-manylinux1_x86_64.whl.metadata (1.7 kB)\n",
            "Collecting triton==2.1.0 (from torch==2.1.1->-r BrainGNN/requirements.txt (line 57))\n",
            "  Downloading triton-2.1.0-0-cp311-cp311-manylinux2014_x86_64.manylinux_2_17_x86_64.whl.metadata (1.3 kB)\n",
            "Requirement already satisfied: nvidia-nvjitlink-cu12 in /usr/local/lib/python3.11/dist-packages (from nvidia-cusolver-cu12==11.4.5.107->torch==2.1.1->-r BrainGNN/requirements.txt (line 57)) (12.5.82)\n",
            "Downloading absl_py-2.0.0-py3-none-any.whl (130 kB)\n",
            "\u001b[2K   \u001b[90m━━━━━━━━━━━━━━━━━━━━━━━━━━━━━━━━━━━━━━━━\u001b[0m \u001b[32m130.2/130.2 kB\u001b[0m \u001b[31m14.2 MB/s\u001b[0m eta \u001b[36m0:00:00\u001b[0m\n",
            "\u001b[?25hDownloading blosc2-2.3.1-cp311-cp311-manylinux_2_17_x86_64.manylinux2014_x86_64.whl (4.3 MB)\n",
            "\u001b[2K   \u001b[90m━━━━━━━━━━━━━━━━━━━━━━━━━━━━━━━━━━━━━━━━\u001b[0m \u001b[32m4.3/4.3 MB\u001b[0m \u001b[31m11.0 MB/s\u001b[0m eta \u001b[36m0:00:00\u001b[0m\n",
            "\u001b[?25hDownloading cachetools-5.3.2-py3-none-any.whl (9.3 kB)\n",
            "Downloading certifi-2023.11.17-py3-none-any.whl (162 kB)\n",
            "\u001b[2K   \u001b[90m━━━━━━━━━━━━━━━━━━━━━━━━━━━━━━━━━━━━━━━━\u001b[0m \u001b[32m162.5/162.5 kB\u001b[0m \u001b[31m16.9 MB/s\u001b[0m eta \u001b[36m0:00:00\u001b[0m\n",
            "\u001b[?25hDownloading charset_normalizer-3.3.2-cp311-cp311-manylinux_2_17_x86_64.manylinux2014_x86_64.whl (140 kB)\n",
            "\u001b[2K   \u001b[90m━━━━━━━━━━━━━━━━━━━━━━━━━━━━━━━━━━━━━━━━\u001b[0m \u001b[32m140.3/140.3 kB\u001b[0m \u001b[31m15.7 MB/s\u001b[0m eta \u001b[36m0:00:00\u001b[0m\n",
            "\u001b[?25hDownloading deepdish-0.3.7-py2.py3-none-any.whl (37 kB)\n",
            "Downloading filelock-3.13.1-py3-none-any.whl (11 kB)\n",
            "Downloading fsspec-2023.10.0-py3-none-any.whl (166 kB)\n",
            "\u001b[2K   \u001b[90m━━━━━━━━━━━━━━━━━━━━━━━━━━━━━━━━━━━━━━━━\u001b[0m \u001b[32m166.4/166.4 kB\u001b[0m \u001b[31m17.3 MB/s\u001b[0m eta \u001b[36m0:00:00\u001b[0m\n",
            "\u001b[?25hDownloading google_auth-2.23.4-py2.py3-none-any.whl (183 kB)\n",
            "\u001b[2K   \u001b[90m━━━━━━━━━━━━━━━━━━━━━━━━━━━━━━━━━━━━━━━━\u001b[0m \u001b[32m183.3/183.3 kB\u001b[0m \u001b[31m20.5 MB/s\u001b[0m eta \u001b[36m0:00:00\u001b[0m\n",
            "\u001b[?25hDownloading google_auth_oauthlib-1.1.0-py2.py3-none-any.whl (19 kB)\n",
            "Downloading grpcio-1.59.3-cp311-cp311-manylinux_2_17_x86_64.manylinux2014_x86_64.whl (5.3 MB)\n",
            "\u001b[2K   \u001b[90m━━━━━━━━━━━━━━━━━━━━━━━━━━━━━━━━━━━━━━━━\u001b[0m \u001b[32m5.3/5.3 MB\u001b[0m \u001b[31m13.3 MB/s\u001b[0m eta \u001b[36m0:00:00\u001b[0m\n",
            "\u001b[?25hDownloading h5py-3.10.0-cp311-cp311-manylinux_2_17_x86_64.manylinux2014_x86_64.whl (4.8 MB)\n",
            "\u001b[2K   \u001b[90m━━━━━━━━━━━━━━━━━━━━━━━━━━━━━━━━━━━━━━━━\u001b[0m \u001b[32m4.8/4.8 MB\u001b[0m \u001b[31m117.4 MB/s\u001b[0m eta \u001b[36m0:00:00\u001b[0m\n",
            "\u001b[?25hDownloading idna-3.6-py3-none-any.whl (61 kB)\n",
            "\u001b[2K   \u001b[90m━━━━━━━━━━━━━━━━━━━━━━━━━━━━━━━━━━━━━━━━\u001b[0m \u001b[32m61.6/61.6 kB\u001b[0m \u001b[31m6.4 MB/s\u001b[0m eta \u001b[36m0:00:00\u001b[0m\n",
            "\u001b[?25hDownloading importlib_metadata-6.8.0-py3-none-any.whl (22 kB)\n",
            "Downloading Jinja2-3.1.2-py3-none-any.whl (133 kB)\n",
            "\u001b[2K   \u001b[90m━━━━━━━━━━━━━━━━━━━━━━━━━━━━━━━━━━━━━━━━\u001b[0m \u001b[32m133.1/133.1 kB\u001b[0m \u001b[31m14.5 MB/s\u001b[0m eta \u001b[36m0:00:00\u001b[0m\n",
            "\u001b[?25hDownloading joblib-1.3.2-py3-none-any.whl (302 kB)\n",
            "\u001b[2K   \u001b[90m━━━━━━━━━━━━━━━━━━━━━━━━━━━━━━━━━━━━━━━━\u001b[0m \u001b[32m302.2/302.2 kB\u001b[0m \u001b[31m30.3 MB/s\u001b[0m eta \u001b[36m0:00:00\u001b[0m\n",
            "\u001b[?25hDownloading lxml-4.9.3-cp311-cp311-manylinux_2_28_x86_64.whl (7.9 MB)\n",
            "\u001b[2K   \u001b[90m━━━━━━━━━━━━━━━━━━━━━━━━━━━━━━━━━━━━━━━━\u001b[0m \u001b[32m7.9/7.9 MB\u001b[0m \u001b[31m101.1 MB/s\u001b[0m eta \u001b[36m0:00:00\u001b[0m\n",
            "\u001b[?25hDownloading Markdown-3.5.1-py3-none-any.whl (102 kB)\n",
            "\u001b[2K   \u001b[90m━━━━━━━━━━━━━━━━━━━━━━━━━━━━━━━━━━━━━━━━\u001b[0m \u001b[32m102.2/102.2 kB\u001b[0m \u001b[31m10.7 MB/s\u001b[0m eta \u001b[36m0:00:00\u001b[0m\n",
            "\u001b[?25hDownloading MarkupSafe-2.1.3-cp311-cp311-manylinux_2_17_x86_64.manylinux2014_x86_64.whl (28 kB)\n",
            "Downloading msgpack-1.0.7-cp311-cp311-manylinux_2_17_x86_64.manylinux2014_x86_64.whl (557 kB)\n",
            "\u001b[2K   \u001b[90m━━━━━━━━━━━━━━━━━━━━━━━━━━━━━━━━━━━━━━━━\u001b[0m \u001b[32m558.0/558.0 kB\u001b[0m \u001b[31m47.0 MB/s\u001b[0m eta \u001b[36m0:00:00\u001b[0m\n",
            "\u001b[?25hDownloading ndindex-1.7-py3-none-any.whl (85 kB)\n",
            "\u001b[2K   \u001b[90m━━━━━━━━━━━━━━━━━━━━━━━━━━━━━━━━━━━━━━━━\u001b[0m \u001b[32m85.7/85.7 kB\u001b[0m \u001b[31m8.9 MB/s\u001b[0m eta \u001b[36m0:00:00\u001b[0m\n",
            "\u001b[?25hDownloading networkx-3.2.1-py3-none-any.whl (1.6 MB)\n",
            "\u001b[2K   \u001b[90m━━━━━━━━━━━━━━━━━━━━━━━━━━━━━━━━━━━━━━━━\u001b[0m \u001b[32m1.6/1.6 MB\u001b[0m \u001b[31m62.4 MB/s\u001b[0m eta \u001b[36m0:00:00\u001b[0m\n",
            "\u001b[?25hDownloading nibabel-5.1.0-py3-none-any.whl (3.3 MB)\n",
            "\u001b[2K   \u001b[90m━━━━━━━━━━━━━━━━━━━━━━━━━━━━━━━━━━━━━━━━\u001b[0m \u001b[32m3.3/3.3 MB\u001b[0m \u001b[31m16.2 MB/s\u001b[0m eta \u001b[36m0:00:00\u001b[0m\n",
            "\u001b[?25hDownloading nilearn-0.10.2-py3-none-any.whl (10.4 MB)\n",
            "\u001b[2K   \u001b[90m━━━━━━━━━━━━━━━━━━━━━━━━━━━━━━━━━━━━━━━━\u001b[0m \u001b[32m10.4/10.4 MB\u001b[0m \u001b[31m12.3 MB/s\u001b[0m eta \u001b[36m0:00:00\u001b[0m\n",
            "\u001b[?25hDownloading numexpr-2.8.7-cp311-cp311-manylinux_2_17_x86_64.manylinux2014_x86_64.whl (386 kB)\n",
            "\u001b[2K   \u001b[90m━━━━━━━━━━━━━━━━━━━━━━━━━━━━━━━━━━━━━━━━\u001b[0m \u001b[32m386.4/386.4 kB\u001b[0m \u001b[31m28.8 MB/s\u001b[0m eta \u001b[36m0:00:00\u001b[0m\n",
            "\u001b[?25hDownloading numpy-1.26.2-cp311-cp311-manylinux_2_17_x86_64.manylinux2014_x86_64.whl (18.2 MB)\n",
            "\u001b[2K   \u001b[90m━━━━━━━━━━━━━━━━━━━━━━━━━━━━━━━━━━━━━━━━\u001b[0m \u001b[32m18.2/18.2 MB\u001b[0m \u001b[31m64.1 MB/s\u001b[0m eta \u001b[36m0:00:00\u001b[0m\n",
            "\u001b[?25hDownloading packaging-23.2-py3-none-any.whl (53 kB)\n",
            "\u001b[2K   \u001b[90m━━━━━━━━━━━━━━━━━━━━━━━━━━━━━━━━━━━━━━━━\u001b[0m \u001b[32m53.0/53.0 kB\u001b[0m \u001b[31m5.7 MB/s\u001b[0m eta \u001b[36m0:00:00\u001b[0m\n",
            "\u001b[?25hDownloading pandas-2.1.3-cp311-cp311-manylinux_2_17_x86_64.manylinux2014_x86_64.whl (12.2 MB)\n",
            "\u001b[2K   \u001b[90m━━━━━━━━━━━━━━━━━━━━━━━━━━━━━━━━━━━━━━━━\u001b[0m \u001b[32m12.2/12.2 MB\u001b[0m \u001b[31m99.2 MB/s\u001b[0m eta \u001b[36m0:00:00\u001b[0m\n",
            "\u001b[?25hDownloading Pillow-10.1.0-cp311-cp311-manylinux_2_28_x86_64.whl (3.6 MB)\n",
            "\u001b[2K   \u001b[90m━━━━━━━━━━━━━━━━━━━━━━━━━━━━━━━━━━━━━━━━\u001b[0m \u001b[32m3.6/3.6 MB\u001b[0m \u001b[31m80.2 MB/s\u001b[0m eta \u001b[36m0:00:00\u001b[0m\n",
            "\u001b[?25hDownloading protobuf-4.23.4-cp37-abi3-manylinux2014_x86_64.whl (304 kB)\n",
            "\u001b[2K   \u001b[90m━━━━━━━━━━━━━━━━━━━━━━━━━━━━━━━━━━━━━━━━\u001b[0m \u001b[32m304.5/304.5 kB\u001b[0m \u001b[31m30.2 MB/s\u001b[0m eta \u001b[36m0:00:00\u001b[0m\n",
            "\u001b[?25hDownloading psutil-5.9.6-cp36-abi3-manylinux_2_12_x86_64.manylinux2010_x86_64.manylinux_2_17_x86_64.manylinux2014_x86_64.whl (283 kB)\n",
            "\u001b[2K   \u001b[90m━━━━━━━━━━━━━━━━━━━━━━━━━━━━━━━━━━━━━━━━\u001b[0m \u001b[32m283.6/283.6 kB\u001b[0m \u001b[31m26.1 MB/s\u001b[0m eta \u001b[36m0:00:00\u001b[0m\n",
            "\u001b[?25hDownloading pyasn1-0.5.1-py2.py3-none-any.whl (84 kB)\n",
            "\u001b[2K   \u001b[90m━━━━━━━━━━━━━━━━━━━━━━━━━━━━━━━━━━━━━━━━\u001b[0m \u001b[32m84.9/84.9 kB\u001b[0m \u001b[31m9.0 MB/s\u001b[0m eta \u001b[36m0:00:00\u001b[0m\n",
            "\u001b[?25hDownloading pyasn1_modules-0.3.0-py2.py3-none-any.whl (181 kB)\n",
            "\u001b[2K   \u001b[90m━━━━━━━━━━━━━━━━━━━━━━━━━━━━━━━━━━━━━━━━\u001b[0m \u001b[32m181.3/181.3 kB\u001b[0m \u001b[31m15.2 MB/s\u001b[0m eta \u001b[36m0:00:00\u001b[0m\n",
            "\u001b[?25hDownloading pyparsing-3.1.1-py3-none-any.whl (103 kB)\n",
            "\u001b[2K   \u001b[90m━━━━━━━━━━━━━━━━━━━━━━━━━━━━━━━━━━━━━━━━\u001b[0m \u001b[32m103.1/103.1 kB\u001b[0m \u001b[31m11.2 MB/s\u001b[0m eta \u001b[36m0:00:00\u001b[0m\n",
            "\u001b[?25hDownloading pytz-2023.3.post1-py2.py3-none-any.whl (502 kB)\n",
            "\u001b[2K   \u001b[90m━━━━━━━━━━━━━━━━━━━━━━━━━━━━━━━━━━━━━━━━\u001b[0m \u001b[32m502.5/502.5 kB\u001b[0m \u001b[31m37.0 MB/s\u001b[0m eta \u001b[36m0:00:00\u001b[0m\n",
            "\u001b[?25hDownloading requests-2.31.0-py3-none-any.whl (62 kB)\n",
            "\u001b[2K   \u001b[90m━━━━━━━━━━━━━━━━━━━━━━━━━━━━━━━━━━━━━━━━\u001b[0m \u001b[32m62.6/62.6 kB\u001b[0m \u001b[31m6.6 MB/s\u001b[0m eta \u001b[36m0:00:00\u001b[0m\n",
            "\u001b[?25hDownloading requests_oauthlib-1.3.1-py2.py3-none-any.whl (23 kB)\n",
            "Downloading rsa-4.9-py3-none-any.whl (34 kB)\n",
            "Downloading scikit_learn-1.3.2-cp311-cp311-manylinux_2_17_x86_64.manylinux2014_x86_64.whl (10.9 MB)\n",
            "\u001b[2K   \u001b[90m━━━━━━━━━━━━━━━━━━━━━━━━━━━━━━━━━━━━━━━━\u001b[0m \u001b[32m10.9/10.9 MB\u001b[0m \u001b[31m92.0 MB/s\u001b[0m eta \u001b[36m0:00:00\u001b[0m\n",
            "\u001b[?25hDownloading scipy-1.11.4-cp311-cp311-manylinux_2_17_x86_64.manylinux2014_x86_64.whl (36.4 MB)\n",
            "\u001b[2K   \u001b[90m━━━━━━━━━━━━━━━━━━━━━━━━━━━━━━━━━━━━━━━━\u001b[0m \u001b[32m36.4/36.4 MB\u001b[0m \u001b[31m20.8 MB/s\u001b[0m eta \u001b[36m0:00:00\u001b[0m\n",
            "\u001b[?25hDownloading six-1.16.0-py2.py3-none-any.whl (11 kB)\n",
            "Downloading sympy-1.12-py3-none-any.whl (5.7 MB)\n",
            "\u001b[2K   \u001b[90m━━━━━━━━━━━━━━━━━━━━━━━━━━━━━━━━━━━━━━━━\u001b[0m \u001b[32m5.7/5.7 MB\u001b[0m \u001b[31m109.7 MB/s\u001b[0m eta \u001b[36m0:00:00\u001b[0m\n",
            "\u001b[?25hDownloading tables-3.9.2-cp311-cp311-manylinux_2_17_x86_64.manylinux2014_x86_64.whl (7.5 MB)\n",
            "\u001b[2K   \u001b[90m━━━━━━━━━━━━━━━━━━━━━━━━━━━━━━━━━━━━━━━━\u001b[0m \u001b[32m7.5/7.5 MB\u001b[0m \u001b[31m45.4 MB/s\u001b[0m eta \u001b[36m0:00:00\u001b[0m\n",
            "\u001b[?25hDownloading tensorboard-2.15.1-py3-none-any.whl (5.5 MB)\n",
            "\u001b[2K   \u001b[90m━━━━━━━━━━━━━━━━━━━━━━━━━━━━━━━━━━━━━━━━\u001b[0m \u001b[32m5.5/5.5 MB\u001b[0m \u001b[31m111.9 MB/s\u001b[0m eta \u001b[36m0:00:00\u001b[0m\n",
            "\u001b[?25hDownloading tensorboardX-2.6.2.2-py2.py3-none-any.whl (101 kB)\n",
            "\u001b[2K   \u001b[90m━━━━━━━━━━━━━━━━━━━━━━━━━━━━━━━━━━━━━━━━\u001b[0m \u001b[32m101.7/101.7 kB\u001b[0m \u001b[31m11.3 MB/s\u001b[0m eta \u001b[36m0:00:00\u001b[0m\n",
            "\u001b[?25hDownloading threadpoolctl-3.2.0-py3-none-any.whl (15 kB)\n",
            "Downloading torch-2.1.1-cp311-cp311-manylinux1_x86_64.whl (670.2 MB)\n",
            "\u001b[2K   \u001b[90m━━━━━━━━━━━━━━━━━━━━━━━━━━━━━━━━━━━━━━━━\u001b[0m \u001b[32m670.2/670.2 MB\u001b[0m \u001b[31m2.9 MB/s\u001b[0m eta \u001b[36m0:00:00\u001b[0m\n",
            "\u001b[?25hDownloading torch_tb_profiler-0.4.3-py3-none-any.whl (1.1 MB)\n",
            "\u001b[2K   \u001b[90m━━━━━━━━━━━━━━━━━━━━━━━━━━━━━━━━━━━━━━━━\u001b[0m \u001b[32m1.1/1.1 MB\u001b[0m \u001b[31m65.0 MB/s\u001b[0m eta \u001b[36m0:00:00\u001b[0m\n",
            "\u001b[?25hDownloading torch_geometric-2.4.0-py3-none-any.whl (1.0 MB)\n",
            "\u001b[2K   \u001b[90m━━━━━━━━━━━━━━━━━━━━━━━━━━━━━━━━━━━━━━━━\u001b[0m \u001b[32m1.0/1.0 MB\u001b[0m \u001b[31m69.8 MB/s\u001b[0m eta \u001b[36m0:00:00\u001b[0m\n",
            "\u001b[?25hDownloading torchaudio-2.1.1-cp311-cp311-manylinux1_x86_64.whl (3.3 MB)\n",
            "\u001b[2K   \u001b[90m━━━━━━━━━━━━━━━━━━━━━━━━━━━━━━━━━━━━━━━━\u001b[0m \u001b[32m3.3/3.3 MB\u001b[0m \u001b[31m15.6 MB/s\u001b[0m eta \u001b[36m0:00:00\u001b[0m\n",
            "\u001b[?25hDownloading torchvision-0.16.1-cp311-cp311-manylinux1_x86_64.whl (6.8 MB)\n",
            "\u001b[2K   \u001b[90m━━━━━━━━━━━━━━━━━━━━━━━━━━━━━━━━━━━━━━━━\u001b[0m \u001b[32m6.8/6.8 MB\u001b[0m \u001b[31m21.9 MB/s\u001b[0m eta \u001b[36m0:00:00\u001b[0m\n",
            "\u001b[?25hDownloading tqdm-4.66.1-py3-none-any.whl (78 kB)\n",
            "\u001b[2K   \u001b[90m━━━━━━━━━━━━━━━━━━━━━━━━━━━━━━━━━━━━━━━━\u001b[0m \u001b[32m78.3/78.3 kB\u001b[0m \u001b[31m9.0 MB/s\u001b[0m eta \u001b[36m0:00:00\u001b[0m\n",
            "\u001b[?25hDownloading typing_extensions-4.8.0-py3-none-any.whl (31 kB)\n",
            "Downloading tzdata-2023.3-py2.py3-none-any.whl (341 kB)\n",
            "\u001b[2K   \u001b[90m━━━━━━━━━━━━━━━━━━━━━━━━━━━━━━━━━━━━━━━━\u001b[0m \u001b[32m341.8/341.8 kB\u001b[0m \u001b[31m33.7 MB/s\u001b[0m eta \u001b[36m0:00:00\u001b[0m\n",
            "\u001b[?25hDownloading urllib3-2.1.0-py3-none-any.whl (104 kB)\n",
            "\u001b[2K   \u001b[90m━━━━━━━━━━━━━━━━━━━━━━━━━━━━━━━━━━━━━━━━\u001b[0m \u001b[32m104.6/104.6 kB\u001b[0m \u001b[31m10.3 MB/s\u001b[0m eta \u001b[36m0:00:00\u001b[0m\n",
            "\u001b[?25hDownloading werkzeug-3.0.1-py3-none-any.whl (226 kB)\n",
            "\u001b[2K   \u001b[90m━━━━━━━━━━━━━━━━━━━━━━━━━━━━━━━━━━━━━━━━\u001b[0m \u001b[32m226.7/226.7 kB\u001b[0m \u001b[31m22.4 MB/s\u001b[0m eta \u001b[36m0:00:00\u001b[0m\n",
            "\u001b[?25hDownloading zipp-3.17.0-py3-none-any.whl (7.4 kB)\n",
            "Downloading nvidia_cublas_cu12-12.1.3.1-py3-none-manylinux1_x86_64.whl (410.6 MB)\n",
            "\u001b[2K   \u001b[90m━━━━━━━━━━━━━━━━━━━━━━━━━━━━━━━━━━━━━━━━\u001b[0m \u001b[32m410.6/410.6 MB\u001b[0m \u001b[31m3.6 MB/s\u001b[0m eta \u001b[36m0:00:00\u001b[0m\n",
            "\u001b[?25hDownloading nvidia_cuda_cupti_cu12-12.1.105-py3-none-manylinux1_x86_64.whl (14.1 MB)\n",
            "\u001b[2K   \u001b[90m━━━━━━━━━━━━━━━━━━━━━━━━━━━━━━━━━━━━━━━━\u001b[0m \u001b[32m14.1/14.1 MB\u001b[0m \u001b[31m67.5 MB/s\u001b[0m eta \u001b[36m0:00:00\u001b[0m\n",
            "\u001b[?25hDownloading nvidia_cuda_nvrtc_cu12-12.1.105-py3-none-manylinux1_x86_64.whl (23.7 MB)\n",
            "\u001b[2K   \u001b[90m━━━━━━━━━━━━━━━━━━━━━━━━━━━━━━━━━━━━━━━━\u001b[0m \u001b[32m23.7/23.7 MB\u001b[0m \u001b[31m38.0 MB/s\u001b[0m eta \u001b[36m0:00:00\u001b[0m\n",
            "\u001b[?25hDownloading nvidia_cuda_runtime_cu12-12.1.105-py3-none-manylinux1_x86_64.whl (823 kB)\n",
            "\u001b[2K   \u001b[90m━━━━━━━━━━━━━━━━━━━━━━━━━━━━━━━━━━━━━━━━\u001b[0m \u001b[32m823.6/823.6 kB\u001b[0m \u001b[31m45.8 MB/s\u001b[0m eta \u001b[36m0:00:00\u001b[0m\n",
            "\u001b[?25hDownloading nvidia_cudnn_cu12-8.9.2.26-py3-none-manylinux1_x86_64.whl (731.7 MB)\n",
            "\u001b[2K   \u001b[90m━━━━━━━━━━━━━━━━━━━━━━━━━━━━━━━━━━━━━━━━\u001b[0m \u001b[32m731.7/731.7 MB\u001b[0m \u001b[31m2.7 MB/s\u001b[0m eta \u001b[36m0:00:00\u001b[0m\n",
            "\u001b[?25hDownloading nvidia_cufft_cu12-11.0.2.54-py3-none-manylinux1_x86_64.whl (121.6 MB)\n",
            "\u001b[2K   \u001b[90m━━━━━━━━━━━━━━━━━━━━━━━━━━━━━━━━━━━━━━━━\u001b[0m \u001b[32m121.6/121.6 MB\u001b[0m \u001b[31m7.7 MB/s\u001b[0m eta \u001b[36m0:00:00\u001b[0m\n",
            "\u001b[?25hDownloading nvidia_curand_cu12-10.3.2.106-py3-none-manylinux1_x86_64.whl (56.5 MB)\n",
            "\u001b[2K   \u001b[90m━━━━━━━━━━━━━━━━━━━━━━━━━━━━━━━━━━━━━━━━\u001b[0m \u001b[32m56.5/56.5 MB\u001b[0m \u001b[31m13.1 MB/s\u001b[0m eta \u001b[36m0:00:00\u001b[0m\n",
            "\u001b[?25hDownloading nvidia_cusolver_cu12-11.4.5.107-py3-none-manylinux1_x86_64.whl (124.2 MB)\n",
            "\u001b[2K   \u001b[90m━━━━━━━━━━━━━━━━━━━━━━━━━━━━━━━━━━━━━━━━\u001b[0m \u001b[32m124.2/124.2 MB\u001b[0m \u001b[31m7.6 MB/s\u001b[0m eta \u001b[36m0:00:00\u001b[0m\n",
            "\u001b[?25hDownloading nvidia_cusparse_cu12-12.1.0.106-py3-none-manylinux1_x86_64.whl (196.0 MB)\n",
            "\u001b[2K   \u001b[90m━━━━━━━━━━━━━━━━━━━━━━━━━━━━━━━━━━━━━━━━\u001b[0m \u001b[32m196.0/196.0 MB\u001b[0m \u001b[31m6.0 MB/s\u001b[0m eta \u001b[36m0:00:00\u001b[0m\n",
            "\u001b[?25hDownloading nvidia_nccl_cu12-2.18.1-py3-none-manylinux1_x86_64.whl (209.8 MB)\n",
            "\u001b[2K   \u001b[90m━━━━━━━━━━━━━━━━━━━━━━━━━━━━━━━━━━━━━━━━\u001b[0m \u001b[32m209.8/209.8 MB\u001b[0m \u001b[31m5.4 MB/s\u001b[0m eta \u001b[36m0:00:00\u001b[0m\n",
            "\u001b[?25hDownloading nvidia_nvtx_cu12-12.1.105-py3-none-manylinux1_x86_64.whl (99 kB)\n",
            "\u001b[2K   \u001b[90m━━━━━━━━━━━━━━━━━━━━━━━━━━━━━━━━━━━━━━━━\u001b[0m \u001b[32m99.1/99.1 kB\u001b[0m \u001b[31m9.3 MB/s\u001b[0m eta \u001b[36m0:00:00\u001b[0m\n",
            "\u001b[?25hDownloading triton-2.1.0-0-cp311-cp311-manylinux2014_x86_64.manylinux_2_17_x86_64.whl (89.2 MB)\n",
            "\u001b[2K   \u001b[90m━━━━━━━━━━━━━━━━━━━━━━━━━━━━━━━━━━━━━━━━\u001b[0m \u001b[32m89.2/89.2 MB\u001b[0m \u001b[31m9.2 MB/s\u001b[0m eta \u001b[36m0:00:00\u001b[0m\n",
            "\u001b[?25hInstalling collected packages: pytz, zipp, urllib3, tzdata, typing_extensions, tqdm, torch-spline-conv, torch-scatter, threadpoolctl, sympy, six, pyparsing, pyasn1, psutil, protobuf, Pillow, packaging, nvidia-nvtx-cu12, nvidia-nccl-cu12, nvidia-cusparse-cu12, nvidia-curand-cu12, nvidia-cufft-cu12, nvidia-cuda-runtime-cu12, nvidia-cuda-nvrtc-cu12, nvidia-cuda-cupti-cu12, nvidia-cublas-cu12, numpy, networkx, ndindex, msgpack, MarkupSafe, Markdown, lxml, joblib, idna, grpcio, fsspec, filelock, charset-normalizer, certifi, cachetools, absl-py, Werkzeug, triton, tensorboardX, scipy, rsa, requests, pyasn1-modules, nvidia-cusolver-cu12, nvidia-cudnn-cu12, numexpr, nibabel, Jinja2, importlib-metadata, h5py, blosc2, torch-sparse, torch-cluster, torch, tables, scikit-learn, requests-oauthlib, pandas, google-auth, torchvision, torchaudio, torch_geometric, nilearn, google-auth-oauthlib, deepdish, tensorboard, torch-tb-profiler\n",
            "  Attempting uninstall: pytz\n",
            "    Found existing installation: pytz 2025.2\n",
            "    Uninstalling pytz-2025.2:\n",
            "      Successfully uninstalled pytz-2025.2\n",
            "  Attempting uninstall: zipp\n",
            "    Found existing installation: zipp 3.21.0\n",
            "    Uninstalling zipp-3.21.0:\n",
            "      Successfully uninstalled zipp-3.21.0\n",
            "  Attempting uninstall: urllib3\n",
            "    Found existing installation: urllib3 2.3.0\n",
            "    Uninstalling urllib3-2.3.0:\n",
            "      Successfully uninstalled urllib3-2.3.0\n",
            "  Attempting uninstall: tzdata\n",
            "    Found existing installation: tzdata 2025.2\n",
            "    Uninstalling tzdata-2025.2:\n",
            "      Successfully uninstalled tzdata-2025.2\n",
            "  Attempting uninstall: typing_extensions\n",
            "    Found existing installation: typing_extensions 4.13.2\n",
            "    Uninstalling typing_extensions-4.13.2:\n",
            "      Successfully uninstalled typing_extensions-4.13.2\n",
            "  Attempting uninstall: tqdm\n",
            "    Found existing installation: tqdm 4.67.1\n",
            "    Uninstalling tqdm-4.67.1:\n",
            "      Successfully uninstalled tqdm-4.67.1\n",
            "  Attempting uninstall: threadpoolctl\n",
            "    Found existing installation: threadpoolctl 3.6.0\n",
            "    Uninstalling threadpoolctl-3.6.0:\n",
            "      Successfully uninstalled threadpoolctl-3.6.0\n",
            "  Attempting uninstall: sympy\n",
            "    Found existing installation: sympy 1.13.1\n",
            "    Uninstalling sympy-1.13.1:\n",
            "      Successfully uninstalled sympy-1.13.1\n",
            "  Attempting uninstall: six\n",
            "    Found existing installation: six 1.17.0\n",
            "    Uninstalling six-1.17.0:\n",
            "      Successfully uninstalled six-1.17.0\n",
            "  Attempting uninstall: pyparsing\n",
            "    Found existing installation: pyparsing 3.2.3\n",
            "    Uninstalling pyparsing-3.2.3:\n",
            "      Successfully uninstalled pyparsing-3.2.3\n",
            "  Attempting uninstall: pyasn1\n",
            "    Found existing installation: pyasn1 0.6.1\n",
            "    Uninstalling pyasn1-0.6.1:\n",
            "      Successfully uninstalled pyasn1-0.6.1\n",
            "  Attempting uninstall: psutil\n",
            "    Found existing installation: psutil 5.9.5\n",
            "    Uninstalling psutil-5.9.5:\n",
            "      Successfully uninstalled psutil-5.9.5\n",
            "  Attempting uninstall: protobuf\n",
            "    Found existing installation: protobuf 5.29.4\n",
            "    Uninstalling protobuf-5.29.4:\n",
            "      Successfully uninstalled protobuf-5.29.4\n",
            "  Attempting uninstall: Pillow\n",
            "    Found existing installation: pillow 11.1.0\n",
            "    Uninstalling pillow-11.1.0:\n",
            "      Successfully uninstalled pillow-11.1.0\n",
            "  Attempting uninstall: packaging\n",
            "    Found existing installation: packaging 24.2\n",
            "    Uninstalling packaging-24.2:\n",
            "      Successfully uninstalled packaging-24.2\n",
            "  Attempting uninstall: nvidia-nvtx-cu12\n",
            "    Found existing installation: nvidia-nvtx-cu12 12.4.127\n",
            "    Uninstalling nvidia-nvtx-cu12-12.4.127:\n",
            "      Successfully uninstalled nvidia-nvtx-cu12-12.4.127\n",
            "  Attempting uninstall: nvidia-nccl-cu12\n",
            "    Found existing installation: nvidia-nccl-cu12 2.21.5\n",
            "    Uninstalling nvidia-nccl-cu12-2.21.5:\n",
            "      Successfully uninstalled nvidia-nccl-cu12-2.21.5\n",
            "  Attempting uninstall: nvidia-cusparse-cu12\n",
            "    Found existing installation: nvidia-cusparse-cu12 12.5.1.3\n",
            "    Uninstalling nvidia-cusparse-cu12-12.5.1.3:\n",
            "      Successfully uninstalled nvidia-cusparse-cu12-12.5.1.3\n",
            "  Attempting uninstall: nvidia-curand-cu12\n",
            "    Found existing installation: nvidia-curand-cu12 10.3.6.82\n",
            "    Uninstalling nvidia-curand-cu12-10.3.6.82:\n",
            "      Successfully uninstalled nvidia-curand-cu12-10.3.6.82\n",
            "  Attempting uninstall: nvidia-cufft-cu12\n",
            "    Found existing installation: nvidia-cufft-cu12 11.2.3.61\n",
            "    Uninstalling nvidia-cufft-cu12-11.2.3.61:\n",
            "      Successfully uninstalled nvidia-cufft-cu12-11.2.3.61\n",
            "  Attempting uninstall: nvidia-cuda-runtime-cu12\n",
            "    Found existing installation: nvidia-cuda-runtime-cu12 12.5.82\n",
            "    Uninstalling nvidia-cuda-runtime-cu12-12.5.82:\n",
            "      Successfully uninstalled nvidia-cuda-runtime-cu12-12.5.82\n",
            "  Attempting uninstall: nvidia-cuda-nvrtc-cu12\n",
            "    Found existing installation: nvidia-cuda-nvrtc-cu12 12.5.82\n",
            "    Uninstalling nvidia-cuda-nvrtc-cu12-12.5.82:\n",
            "      Successfully uninstalled nvidia-cuda-nvrtc-cu12-12.5.82\n",
            "  Attempting uninstall: nvidia-cuda-cupti-cu12\n",
            "    Found existing installation: nvidia-cuda-cupti-cu12 12.5.82\n",
            "    Uninstalling nvidia-cuda-cupti-cu12-12.5.82:\n",
            "      Successfully uninstalled nvidia-cuda-cupti-cu12-12.5.82\n",
            "  Attempting uninstall: nvidia-cublas-cu12\n",
            "    Found existing installation: nvidia-cublas-cu12 12.5.3.2\n",
            "    Uninstalling nvidia-cublas-cu12-12.5.3.2:\n",
            "      Successfully uninstalled nvidia-cublas-cu12-12.5.3.2\n",
            "  Attempting uninstall: numpy\n",
            "    Found existing installation: numpy 2.0.2\n",
            "    Uninstalling numpy-2.0.2:\n",
            "      Successfully uninstalled numpy-2.0.2\n",
            "  Attempting uninstall: networkx\n",
            "    Found existing installation: networkx 3.4.2\n",
            "    Uninstalling networkx-3.4.2:\n",
            "      Successfully uninstalled networkx-3.4.2\n",
            "  Attempting uninstall: ndindex\n",
            "    Found existing installation: ndindex 1.9.2\n",
            "    Uninstalling ndindex-1.9.2:\n",
            "      Successfully uninstalled ndindex-1.9.2\n",
            "  Attempting uninstall: msgpack\n",
            "    Found existing installation: msgpack 1.1.0\n",
            "    Uninstalling msgpack-1.1.0:\n",
            "      Successfully uninstalled msgpack-1.1.0\n",
            "  Attempting uninstall: MarkupSafe\n",
            "    Found existing installation: MarkupSafe 3.0.2\n",
            "    Uninstalling MarkupSafe-3.0.2:\n",
            "      Successfully uninstalled MarkupSafe-3.0.2\n",
            "  Attempting uninstall: Markdown\n",
            "    Found existing installation: Markdown 3.8\n",
            "    Uninstalling Markdown-3.8:\n",
            "      Successfully uninstalled Markdown-3.8\n",
            "  Attempting uninstall: lxml\n",
            "    Found existing installation: lxml 5.3.2\n",
            "    Uninstalling lxml-5.3.2:\n",
            "      Successfully uninstalled lxml-5.3.2\n",
            "  Attempting uninstall: joblib\n",
            "    Found existing installation: joblib 1.4.2\n",
            "    Uninstalling joblib-1.4.2:\n",
            "      Successfully uninstalled joblib-1.4.2\n",
            "  Attempting uninstall: idna\n",
            "    Found existing installation: idna 3.10\n",
            "    Uninstalling idna-3.10:\n",
            "      Successfully uninstalled idna-3.10\n",
            "  Attempting uninstall: grpcio\n",
            "    Found existing installation: grpcio 1.71.0\n",
            "    Uninstalling grpcio-1.71.0:\n",
            "      Successfully uninstalled grpcio-1.71.0\n",
            "  Attempting uninstall: fsspec\n",
            "    Found existing installation: fsspec 2025.3.2\n",
            "    Uninstalling fsspec-2025.3.2:\n",
            "      Successfully uninstalled fsspec-2025.3.2\n",
            "  Attempting uninstall: filelock\n",
            "    Found existing installation: filelock 3.18.0\n",
            "    Uninstalling filelock-3.18.0:\n",
            "      Successfully uninstalled filelock-3.18.0\n",
            "  Attempting uninstall: charset-normalizer\n",
            "    Found existing installation: charset-normalizer 3.4.1\n",
            "    Uninstalling charset-normalizer-3.4.1:\n",
            "      Successfully uninstalled charset-normalizer-3.4.1\n",
            "  Attempting uninstall: certifi\n",
            "    Found existing installation: certifi 2025.1.31\n",
            "    Uninstalling certifi-2025.1.31:\n",
            "      Successfully uninstalled certifi-2025.1.31\n",
            "  Attempting uninstall: cachetools\n",
            "    Found existing installation: cachetools 5.5.2\n",
            "    Uninstalling cachetools-5.5.2:\n",
            "      Successfully uninstalled cachetools-5.5.2\n",
            "  Attempting uninstall: absl-py\n",
            "    Found existing installation: absl-py 1.4.0\n",
            "    Uninstalling absl-py-1.4.0:\n",
            "      Successfully uninstalled absl-py-1.4.0\n",
            "  Attempting uninstall: Werkzeug\n",
            "    Found existing installation: Werkzeug 3.1.3\n",
            "    Uninstalling Werkzeug-3.1.3:\n",
            "      Successfully uninstalled Werkzeug-3.1.3\n",
            "  Attempting uninstall: triton\n",
            "    Found existing installation: triton 3.2.0\n",
            "    Uninstalling triton-3.2.0:\n",
            "      Successfully uninstalled triton-3.2.0\n",
            "  Attempting uninstall: scipy\n",
            "    Found existing installation: scipy 1.14.1\n",
            "    Uninstalling scipy-1.14.1:\n",
            "      Successfully uninstalled scipy-1.14.1\n",
            "  Attempting uninstall: rsa\n",
            "    Found existing installation: rsa 4.9.1\n",
            "    Uninstalling rsa-4.9.1:\n",
            "      Successfully uninstalled rsa-4.9.1\n",
            "  Attempting uninstall: requests\n",
            "    Found existing installation: requests 2.32.3\n",
            "    Uninstalling requests-2.32.3:\n",
            "      Successfully uninstalled requests-2.32.3\n",
            "  Attempting uninstall: pyasn1-modules\n",
            "    Found existing installation: pyasn1_modules 0.4.2\n",
            "    Uninstalling pyasn1_modules-0.4.2:\n",
            "      Successfully uninstalled pyasn1_modules-0.4.2\n",
            "  Attempting uninstall: nvidia-cusolver-cu12\n",
            "    Found existing installation: nvidia-cusolver-cu12 11.6.3.83\n",
            "    Uninstalling nvidia-cusolver-cu12-11.6.3.83:\n",
            "      Successfully uninstalled nvidia-cusolver-cu12-11.6.3.83\n",
            "  Attempting uninstall: nvidia-cudnn-cu12\n",
            "    Found existing installation: nvidia-cudnn-cu12 9.3.0.75\n",
            "    Uninstalling nvidia-cudnn-cu12-9.3.0.75:\n",
            "      Successfully uninstalled nvidia-cudnn-cu12-9.3.0.75\n",
            "  Attempting uninstall: numexpr\n",
            "    Found existing installation: numexpr 2.10.2\n",
            "    Uninstalling numexpr-2.10.2:\n",
            "      Successfully uninstalled numexpr-2.10.2\n",
            "  Attempting uninstall: nibabel\n",
            "    Found existing installation: nibabel 5.3.2\n",
            "    Uninstalling nibabel-5.3.2:\n",
            "      Successfully uninstalled nibabel-5.3.2\n",
            "  Attempting uninstall: Jinja2\n",
            "    Found existing installation: Jinja2 3.1.6\n",
            "    Uninstalling Jinja2-3.1.6:\n",
            "      Successfully uninstalled Jinja2-3.1.6\n",
            "  Attempting uninstall: importlib-metadata\n",
            "    Found existing installation: importlib_metadata 8.6.1\n",
            "    Uninstalling importlib_metadata-8.6.1:\n",
            "      Successfully uninstalled importlib_metadata-8.6.1\n",
            "  Attempting uninstall: h5py\n",
            "    Found existing installation: h5py 3.13.0\n",
            "    Uninstalling h5py-3.13.0:\n",
            "      Successfully uninstalled h5py-3.13.0\n",
            "  Attempting uninstall: blosc2\n",
            "    Found existing installation: blosc2 3.3.1\n",
            "    Uninstalling blosc2-3.3.1:\n",
            "      Successfully uninstalled blosc2-3.3.1\n",
            "  Attempting uninstall: torch\n",
            "    Found existing installation: torch 2.6.0+cu124\n",
            "    Uninstalling torch-2.6.0+cu124:\n",
            "      Successfully uninstalled torch-2.6.0+cu124\n",
            "  Attempting uninstall: tables\n",
            "    Found existing installation: tables 3.10.2\n",
            "    Uninstalling tables-3.10.2:\n",
            "      Successfully uninstalled tables-3.10.2\n",
            "  Attempting uninstall: scikit-learn\n",
            "    Found existing installation: scikit-learn 1.6.1\n",
            "    Uninstalling scikit-learn-1.6.1:\n",
            "      Successfully uninstalled scikit-learn-1.6.1\n",
            "  Attempting uninstall: requests-oauthlib\n",
            "    Found existing installation: requests-oauthlib 2.0.0\n",
            "    Uninstalling requests-oauthlib-2.0.0:\n",
            "      Successfully uninstalled requests-oauthlib-2.0.0\n",
            "  Attempting uninstall: pandas\n",
            "    Found existing installation: pandas 2.2.2\n",
            "    Uninstalling pandas-2.2.2:\n",
            "      Successfully uninstalled pandas-2.2.2\n",
            "  Attempting uninstall: google-auth\n",
            "    Found existing installation: google-auth 2.38.0\n",
            "    Uninstalling google-auth-2.38.0:\n",
            "      Successfully uninstalled google-auth-2.38.0\n",
            "  Attempting uninstall: torchvision\n",
            "    Found existing installation: torchvision 0.21.0+cu124\n",
            "    Uninstalling torchvision-0.21.0+cu124:\n",
            "      Successfully uninstalled torchvision-0.21.0+cu124\n",
            "  Attempting uninstall: torchaudio\n",
            "    Found existing installation: torchaudio 2.6.0+cu124\n",
            "    Uninstalling torchaudio-2.6.0+cu124:\n",
            "      Successfully uninstalled torchaudio-2.6.0+cu124\n",
            "  Attempting uninstall: google-auth-oauthlib\n",
            "    Found existing installation: google-auth-oauthlib 1.2.2\n",
            "    Uninstalling google-auth-oauthlib-1.2.2:\n",
            "      Successfully uninstalled google-auth-oauthlib-1.2.2\n",
            "  Attempting uninstall: tensorboard\n",
            "    Found existing installation: tensorboard 2.18.0\n",
            "    Uninstalling tensorboard-2.18.0:\n",
            "      Successfully uninstalled tensorboard-2.18.0\n",
            "\u001b[31mERROR: pip's dependency resolver does not currently take into account all the packages that are installed. This behaviour is the source of the following dependency conflicts.\n",
            "google-colab 1.0.0 requires google-auth==2.38.0, but you have google-auth 2.23.4 which is incompatible.\n",
            "google-colab 1.0.0 requires pandas==2.2.2, but you have pandas 2.1.3 which is incompatible.\n",
            "google-colab 1.0.0 requires requests==2.32.3, but you have requests 2.31.0 which is incompatible.\n",
            "tensorflow-metadata 1.17.1 requires protobuf<6.0.0,>=4.25.2; python_version >= \"3.11\", but you have protobuf 4.23.4 which is incompatible.\n",
            "grpcio-status 1.71.0 requires grpcio>=1.71.0, but you have grpcio 1.59.3 which is incompatible.\n",
            "grpcio-status 1.71.0 requires protobuf<6.0dev,>=5.26.1, but you have protobuf 4.23.4 which is incompatible.\n",
            "thinc 8.3.6 requires numpy<3.0.0,>=2.0.0, but you have numpy 1.26.2 which is incompatible.\n",
            "typing-inspection 0.4.0 requires typing-extensions>=4.12.0, but you have typing-extensions 4.8.0 which is incompatible.\n",
            "flask 3.1.0 requires Werkzeug>=3.1, but you have werkzeug 3.0.1 which is incompatible.\n",
            "openai 1.75.0 requires typing-extensions<5,>=4.11, but you have typing-extensions 4.8.0 which is incompatible.\n",
            "ydf 0.11.0 requires protobuf<6.0.0,>=5.29.1, but you have protobuf 4.23.4 which is incompatible.\n",
            "plotnine 0.14.5 requires pandas>=2.2.0, but you have pandas 2.1.3 which is incompatible.\n",
            "altair 5.5.0 requires typing-extensions>=4.10.0; python_version < \"3.14\", but you have typing-extensions 4.8.0 which is incompatible.\n",
            "gcsfs 2025.3.2 requires fsspec==2025.3.2, but you have fsspec 2023.10.0 which is incompatible.\n",
            "google-genai 1.11.0 requires typing-extensions<5.0.0,>=4.11.0, but you have typing-extensions 4.8.0 which is incompatible.\n",
            "tensorflow 2.18.0 requires h5py>=3.11.0, but you have h5py 3.10.0 which is incompatible.\n",
            "tensorflow 2.18.0 requires tensorboard<2.19,>=2.18, but you have tensorboard 2.15.1 which is incompatible.\n",
            "google-cloud-bigquery 3.31.0 requires packaging>=24.2.0, but you have packaging 23.2 which is incompatible.\n",
            "pydantic 2.11.3 requires typing-extensions>=4.12.2, but you have typing-extensions 4.8.0 which is incompatible.\n",
            "typeguard 4.4.2 requires typing_extensions>=4.10.0, but you have typing-extensions 4.8.0 which is incompatible.\n",
            "google-cloud-storage 2.19.0 requires google-auth<3.0dev,>=2.26.1, but you have google-auth 2.23.4 which is incompatible.\n",
            "pytensor 2.30.3 requires filelock>=3.15, but you have filelock 3.13.1 which is incompatible.\n",
            "mizani 0.13.3 requires pandas>=2.2.0, but you have pandas 2.1.3 which is incompatible.\u001b[0m\u001b[31m\n",
            "\u001b[0mSuccessfully installed Jinja2-3.1.2 Markdown-3.5.1 MarkupSafe-2.1.3 Pillow-10.1.0 Werkzeug-3.0.1 absl-py-2.0.0 blosc2-2.3.1 cachetools-5.3.2 certifi-2023.11.17 charset-normalizer-3.3.2 deepdish-0.3.7 filelock-3.13.1 fsspec-2023.10.0 google-auth-2.23.4 google-auth-oauthlib-1.1.0 grpcio-1.59.3 h5py-3.10.0 idna-3.6 importlib-metadata-6.8.0 joblib-1.3.2 lxml-4.9.3 msgpack-1.0.7 ndindex-1.7 networkx-3.2.1 nibabel-5.1.0 nilearn-0.10.2 numexpr-2.8.7 numpy-1.26.2 nvidia-cublas-cu12-12.1.3.1 nvidia-cuda-cupti-cu12-12.1.105 nvidia-cuda-nvrtc-cu12-12.1.105 nvidia-cuda-runtime-cu12-12.1.105 nvidia-cudnn-cu12-8.9.2.26 nvidia-cufft-cu12-11.0.2.54 nvidia-curand-cu12-10.3.2.106 nvidia-cusolver-cu12-11.4.5.107 nvidia-cusparse-cu12-12.1.0.106 nvidia-nccl-cu12-2.18.1 nvidia-nvtx-cu12-12.1.105 packaging-23.2 pandas-2.1.3 protobuf-4.23.4 psutil-5.9.6 pyasn1-0.5.1 pyasn1-modules-0.3.0 pyparsing-3.1.1 pytz-2023.3.post1 requests-2.31.0 requests-oauthlib-1.3.1 rsa-4.9 scikit-learn-1.3.2 scipy-1.11.4 six-1.16.0 sympy-1.12 tables-3.9.2 tensorboard-2.15.1 tensorboardX-2.6.2.2 threadpoolctl-3.2.0 torch-2.1.1 torch-cluster-1.6.3+pt21cu121 torch-scatter-2.1.2+pt21cu121 torch-sparse-0.6.18+pt21cu121 torch-spline-conv-1.2.2+pt21cu121 torch-tb-profiler-0.4.3 torch_geometric-2.4.0 torchaudio-2.1.1 torchvision-0.16.1 tqdm-4.66.1 triton-2.1.0 typing_extensions-4.8.0 tzdata-2023.3 urllib3-2.1.0 zipp-3.17.0\n"
          ]
        },
        {
          "output_type": "display_data",
          "data": {
            "application/vnd.colab-display-data+json": {
              "pip_warning": {
                "packages": [
                  "PIL",
                  "certifi",
                  "google",
                  "importlib_metadata",
                  "psutil",
                  "six",
                  "zipp"
                ]
              },
              "id": "9ac81894e5a140108c31a80c0e369253"
            }
          },
          "metadata": {}
        }
      ]
    },
    {
      "cell_type": "markdown",
      "source": [
        "## Downloading and pre-processing the data\n",
        "\n",
        "We are choosing the Harvard-Oxford atlas (with background + 110 brain regions) for better interpretability."
      ],
      "metadata": {
        "id": "mi6MSliIx3rz"
      }
    },
    {
      "cell_type": "code",
      "source": [
        "%run /content/BrainGNN/01-fetch_data.py --atlas='ho'\n",
        "%run /content/BrainGNN/02-process_data.py --atlas='ho'"
      ],
      "metadata": {
        "colab": {
          "base_uri": "https://localhost:8080/"
        },
        "id": "9aflGl2T89vE",
        "outputId": "2a8423c8-9b51-457d-f0f1-3c2e0134e5f7"
      },
      "execution_count": null,
      "outputs": [
        {
          "output_type": "stream",
          "name": "stdout",
          "text": [
            "Namespace(pipeline='cpac', atlas='ho', download=True)\n",
            "Downloading data from https://s3.amazonaws.com/fcp-indi/data/Projects/ABIDE_Initiative/Outputs/cpac/filt_noglobal/rois_ho/Pitt_0050003_rois_ho.1D ...\n"
          ]
        },
        {
          "output_type": "stream",
          "name": "stderr",
          "text": [
            " ...done. (1 seconds, 0 min)\n"
          ]
        },
        {
          "output_type": "stream",
          "name": "stdout",
          "text": [
            "Downloading data from https://s3.amazonaws.com/fcp-indi/data/Projects/ABIDE_Initiative/Outputs/cpac/filt_noglobal/rois_ho/Pitt_0050004_rois_ho.1D ...\n"
          ]
        },
        {
          "output_type": "stream",
          "name": "stderr",
          "text": [
            " ...done. (1 seconds, 0 min)\n"
          ]
        },
        {
          "output_type": "stream",
          "name": "stdout",
          "text": [
            "Downloading data from https://s3.amazonaws.com/fcp-indi/data/Projects/ABIDE_Initiative/Outputs/cpac/filt_noglobal/rois_ho/Pitt_0050005_rois_ho.1D ...\n"
          ]
        },
        {
          "output_type": "stream",
          "name": "stderr",
          "text": [
            " ...done. (1 seconds, 0 min)\n"
          ]
        },
        {
          "output_type": "stream",
          "name": "stdout",
          "text": [
            "Downloading data from https://s3.amazonaws.com/fcp-indi/data/Projects/ABIDE_Initiative/Outputs/cpac/filt_noglobal/rois_ho/Pitt_0050006_rois_ho.1D ...\n"
          ]
        },
        {
          "output_type": "stream",
          "name": "stderr",
          "text": [
            " ...done. (1 seconds, 0 min)\n"
          ]
        },
        {
          "output_type": "stream",
          "name": "stdout",
          "text": [
            "Downloading data from https://s3.amazonaws.com/fcp-indi/data/Projects/ABIDE_Initiative/Outputs/cpac/filt_noglobal/rois_ho/Pitt_0050007_rois_ho.1D ...\n"
          ]
        },
        {
          "output_type": "stream",
          "name": "stderr",
          "text": [
            " ...done. (1 seconds, 0 min)\n"
          ]
        },
        {
          "output_type": "stream",
          "name": "stdout",
          "text": [
            "Downloading data from https://s3.amazonaws.com/fcp-indi/data/Projects/ABIDE_Initiative/Outputs/cpac/filt_noglobal/rois_ho/Pitt_0050008_rois_ho.1D ...\n"
          ]
        },
        {
          "output_type": "stream",
          "name": "stderr",
          "text": [
            " ...done. (1 seconds, 0 min)\n"
          ]
        },
        {
          "output_type": "stream",
          "name": "stdout",
          "text": [
            "Downloading data from https://s3.amazonaws.com/fcp-indi/data/Projects/ABIDE_Initiative/Outputs/cpac/filt_noglobal/rois_ho/Pitt_0050009_rois_ho.1D ...\n"
          ]
        },
        {
          "output_type": "stream",
          "name": "stderr",
          "text": [
            " ...done. (1 seconds, 0 min)\n"
          ]
        },
        {
          "output_type": "stream",
          "name": "stdout",
          "text": [
            "Downloading data from https://s3.amazonaws.com/fcp-indi/data/Projects/ABIDE_Initiative/Outputs/cpac/filt_noglobal/rois_ho/Pitt_0050010_rois_ho.1D ...\n"
          ]
        },
        {
          "output_type": "stream",
          "name": "stderr",
          "text": [
            " ...done. (1 seconds, 0 min)\n"
          ]
        },
        {
          "output_type": "stream",
          "name": "stdout",
          "text": [
            "Downloading data from https://s3.amazonaws.com/fcp-indi/data/Projects/ABIDE_Initiative/Outputs/cpac/filt_noglobal/rois_ho/Pitt_0050011_rois_ho.1D ...\n"
          ]
        },
        {
          "output_type": "stream",
          "name": "stderr",
          "text": [
            " ...done. (1 seconds, 0 min)\n"
          ]
        },
        {
          "output_type": "stream",
          "name": "stdout",
          "text": [
            "Downloading data from https://s3.amazonaws.com/fcp-indi/data/Projects/ABIDE_Initiative/Outputs/cpac/filt_noglobal/rois_ho/Pitt_0050012_rois_ho.1D ...\n"
          ]
        },
        {
          "output_type": "stream",
          "name": "stderr",
          "text": [
            " ...done. (1 seconds, 0 min)\n"
          ]
        },
        {
          "output_type": "stream",
          "name": "stdout",
          "text": [
            "Downloading data from https://s3.amazonaws.com/fcp-indi/data/Projects/ABIDE_Initiative/Outputs/cpac/filt_noglobal/rois_ho/Pitt_0050013_rois_ho.1D ...\n"
          ]
        },
        {
          "output_type": "stream",
          "name": "stderr",
          "text": [
            " ...done. (1 seconds, 0 min)\n"
          ]
        },
        {
          "output_type": "stream",
          "name": "stdout",
          "text": [
            "Downloading data from https://s3.amazonaws.com/fcp-indi/data/Projects/ABIDE_Initiative/Outputs/cpac/filt_noglobal/rois_ho/Pitt_0050014_rois_ho.1D ...\n"
          ]
        },
        {
          "output_type": "stream",
          "name": "stderr",
          "text": [
            " ...done. (1 seconds, 0 min)\n"
          ]
        },
        {
          "output_type": "stream",
          "name": "stdout",
          "text": [
            "Downloading data from https://s3.amazonaws.com/fcp-indi/data/Projects/ABIDE_Initiative/Outputs/cpac/filt_noglobal/rois_ho/Pitt_0050015_rois_ho.1D ...\n"
          ]
        },
        {
          "output_type": "stream",
          "name": "stderr",
          "text": [
            " ...done. (1 seconds, 0 min)\n"
          ]
        },
        {
          "output_type": "stream",
          "name": "stdout",
          "text": [
            "Downloading data from https://s3.amazonaws.com/fcp-indi/data/Projects/ABIDE_Initiative/Outputs/cpac/filt_noglobal/rois_ho/Pitt_0050016_rois_ho.1D ...\n"
          ]
        },
        {
          "output_type": "stream",
          "name": "stderr",
          "text": [
            " ...done. (1 seconds, 0 min)\n"
          ]
        },
        {
          "output_type": "stream",
          "name": "stdout",
          "text": [
            "Downloading data from https://s3.amazonaws.com/fcp-indi/data/Projects/ABIDE_Initiative/Outputs/cpac/filt_noglobal/rois_ho/Pitt_0050017_rois_ho.1D ...\n"
          ]
        },
        {
          "output_type": "stream",
          "name": "stderr",
          "text": [
            " ...done. (1 seconds, 0 min)\n"
          ]
        },
        {
          "output_type": "stream",
          "name": "stdout",
          "text": [
            "Downloading data from https://s3.amazonaws.com/fcp-indi/data/Projects/ABIDE_Initiative/Outputs/cpac/filt_noglobal/rois_ho/Pitt_0050019_rois_ho.1D ...\n"
          ]
        },
        {
          "output_type": "stream",
          "name": "stderr",
          "text": [
            " ...done. (1 seconds, 0 min)\n"
          ]
        },
        {
          "output_type": "stream",
          "name": "stdout",
          "text": [
            "Downloading data from https://s3.amazonaws.com/fcp-indi/data/Projects/ABIDE_Initiative/Outputs/cpac/filt_noglobal/rois_ho/Pitt_0050020_rois_ho.1D ...\n"
          ]
        },
        {
          "output_type": "stream",
          "name": "stderr",
          "text": [
            " ...done. (1 seconds, 0 min)\n"
          ]
        },
        {
          "output_type": "stream",
          "name": "stdout",
          "text": [
            "Downloading data from https://s3.amazonaws.com/fcp-indi/data/Projects/ABIDE_Initiative/Outputs/cpac/filt_noglobal/rois_ho/Pitt_0050022_rois_ho.1D ...\n"
          ]
        },
        {
          "output_type": "stream",
          "name": "stderr",
          "text": [
            " ...done. (1 seconds, 0 min)\n"
          ]
        },
        {
          "output_type": "stream",
          "name": "stdout",
          "text": [
            "Downloading data from https://s3.amazonaws.com/fcp-indi/data/Projects/ABIDE_Initiative/Outputs/cpac/filt_noglobal/rois_ho/Pitt_0050023_rois_ho.1D ...\n"
          ]
        },
        {
          "output_type": "stream",
          "name": "stderr",
          "text": [
            " ...done. (1 seconds, 0 min)\n"
          ]
        },
        {
          "output_type": "stream",
          "name": "stdout",
          "text": [
            "Downloading data from https://s3.amazonaws.com/fcp-indi/data/Projects/ABIDE_Initiative/Outputs/cpac/filt_noglobal/rois_ho/Pitt_0050024_rois_ho.1D ...\n"
          ]
        },
        {
          "output_type": "stream",
          "name": "stderr",
          "text": [
            " ...done. (1 seconds, 0 min)\n"
          ]
        },
        {
          "output_type": "stream",
          "name": "stdout",
          "text": [
            "Downloading data from https://s3.amazonaws.com/fcp-indi/data/Projects/ABIDE_Initiative/Outputs/cpac/filt_noglobal/rois_ho/Pitt_0050025_rois_ho.1D ...\n"
          ]
        },
        {
          "output_type": "stream",
          "name": "stderr",
          "text": [
            " ...done. (1 seconds, 0 min)\n"
          ]
        },
        {
          "output_type": "stream",
          "name": "stdout",
          "text": [
            "Downloading data from https://s3.amazonaws.com/fcp-indi/data/Projects/ABIDE_Initiative/Outputs/cpac/filt_noglobal/rois_ho/Pitt_0050026_rois_ho.1D ...\n"
          ]
        },
        {
          "output_type": "stream",
          "name": "stderr",
          "text": [
            " ...done. (1 seconds, 0 min)\n"
          ]
        },
        {
          "output_type": "stream",
          "name": "stdout",
          "text": [
            "Downloading data from https://s3.amazonaws.com/fcp-indi/data/Projects/ABIDE_Initiative/Outputs/cpac/filt_noglobal/rois_ho/Pitt_0050027_rois_ho.1D ...\n"
          ]
        },
        {
          "output_type": "stream",
          "name": "stderr",
          "text": [
            " ...done. (1 seconds, 0 min)\n"
          ]
        },
        {
          "output_type": "stream",
          "name": "stdout",
          "text": [
            "Downloading data from https://s3.amazonaws.com/fcp-indi/data/Projects/ABIDE_Initiative/Outputs/cpac/filt_noglobal/rois_ho/Pitt_0050028_rois_ho.1D ...\n"
          ]
        },
        {
          "output_type": "stream",
          "name": "stderr",
          "text": [
            " ...done. (1 seconds, 0 min)\n"
          ]
        },
        {
          "output_type": "stream",
          "name": "stdout",
          "text": [
            "Downloading data from https://s3.amazonaws.com/fcp-indi/data/Projects/ABIDE_Initiative/Outputs/cpac/filt_noglobal/rois_ho/Pitt_0050029_rois_ho.1D ...\n"
          ]
        },
        {
          "output_type": "stream",
          "name": "stderr",
          "text": [
            " ...done. (1 seconds, 0 min)\n"
          ]
        },
        {
          "output_type": "stream",
          "name": "stdout",
          "text": [
            "Downloading data from https://s3.amazonaws.com/fcp-indi/data/Projects/ABIDE_Initiative/Outputs/cpac/filt_noglobal/rois_ho/Pitt_0050030_rois_ho.1D ...\n"
          ]
        },
        {
          "output_type": "stream",
          "name": "stderr",
          "text": [
            " ...done. (1 seconds, 0 min)\n"
          ]
        },
        {
          "output_type": "stream",
          "name": "stdout",
          "text": [
            "Downloading data from https://s3.amazonaws.com/fcp-indi/data/Projects/ABIDE_Initiative/Outputs/cpac/filt_noglobal/rois_ho/Pitt_0050031_rois_ho.1D ...\n"
          ]
        },
        {
          "output_type": "stream",
          "name": "stderr",
          "text": [
            " ...done. (1 seconds, 0 min)\n"
          ]
        },
        {
          "output_type": "stream",
          "name": "stdout",
          "text": [
            "Downloading data from https://s3.amazonaws.com/fcp-indi/data/Projects/ABIDE_Initiative/Outputs/cpac/filt_noglobal/rois_ho/Pitt_0050032_rois_ho.1D ...\n"
          ]
        },
        {
          "output_type": "stream",
          "name": "stderr",
          "text": [
            " ...done. (1 seconds, 0 min)\n"
          ]
        },
        {
          "output_type": "stream",
          "name": "stdout",
          "text": [
            "Downloading data from https://s3.amazonaws.com/fcp-indi/data/Projects/ABIDE_Initiative/Outputs/cpac/filt_noglobal/rois_ho/Pitt_0050033_rois_ho.1D ...\n"
          ]
        },
        {
          "output_type": "stream",
          "name": "stderr",
          "text": [
            " ...done. (1 seconds, 0 min)\n"
          ]
        },
        {
          "output_type": "stream",
          "name": "stdout",
          "text": [
            "Downloading data from https://s3.amazonaws.com/fcp-indi/data/Projects/ABIDE_Initiative/Outputs/cpac/filt_noglobal/rois_ho/Pitt_0050034_rois_ho.1D ...\n"
          ]
        },
        {
          "output_type": "stream",
          "name": "stderr",
          "text": [
            " ...done. (1 seconds, 0 min)\n"
          ]
        },
        {
          "output_type": "stream",
          "name": "stdout",
          "text": [
            "Downloading data from https://s3.amazonaws.com/fcp-indi/data/Projects/ABIDE_Initiative/Outputs/cpac/filt_noglobal/rois_ho/Pitt_0050035_rois_ho.1D ...\n"
          ]
        },
        {
          "output_type": "stream",
          "name": "stderr",
          "text": [
            " ...done. (1 seconds, 0 min)\n"
          ]
        },
        {
          "output_type": "stream",
          "name": "stdout",
          "text": [
            "Downloading data from https://s3.amazonaws.com/fcp-indi/data/Projects/ABIDE_Initiative/Outputs/cpac/filt_noglobal/rois_ho/Pitt_0050036_rois_ho.1D ...\n"
          ]
        },
        {
          "output_type": "stream",
          "name": "stderr",
          "text": [
            " ...done. (1 seconds, 0 min)\n"
          ]
        },
        {
          "output_type": "stream",
          "name": "stdout",
          "text": [
            "Downloading data from https://s3.amazonaws.com/fcp-indi/data/Projects/ABIDE_Initiative/Outputs/cpac/filt_noglobal/rois_ho/Pitt_0050037_rois_ho.1D ...\n"
          ]
        },
        {
          "output_type": "stream",
          "name": "stderr",
          "text": [
            " ...done. (1 seconds, 0 min)\n"
          ]
        },
        {
          "output_type": "stream",
          "name": "stdout",
          "text": [
            "Downloading data from https://s3.amazonaws.com/fcp-indi/data/Projects/ABIDE_Initiative/Outputs/cpac/filt_noglobal/rois_ho/Pitt_0050038_rois_ho.1D ...\n"
          ]
        },
        {
          "output_type": "stream",
          "name": "stderr",
          "text": [
            " ...done. (1 seconds, 0 min)\n"
          ]
        },
        {
          "output_type": "stream",
          "name": "stdout",
          "text": [
            "Downloading data from https://s3.amazonaws.com/fcp-indi/data/Projects/ABIDE_Initiative/Outputs/cpac/filt_noglobal/rois_ho/Pitt_0050039_rois_ho.1D ...\n"
          ]
        },
        {
          "output_type": "stream",
          "name": "stderr",
          "text": [
            " ...done. (1 seconds, 0 min)\n"
          ]
        },
        {
          "output_type": "stream",
          "name": "stdout",
          "text": [
            "Downloading data from https://s3.amazonaws.com/fcp-indi/data/Projects/ABIDE_Initiative/Outputs/cpac/filt_noglobal/rois_ho/Pitt_0050040_rois_ho.1D ...\n"
          ]
        },
        {
          "output_type": "stream",
          "name": "stderr",
          "text": [
            " ...done. (1 seconds, 0 min)\n"
          ]
        },
        {
          "output_type": "stream",
          "name": "stdout",
          "text": [
            "Downloading data from https://s3.amazonaws.com/fcp-indi/data/Projects/ABIDE_Initiative/Outputs/cpac/filt_noglobal/rois_ho/Pitt_0050041_rois_ho.1D ...\n"
          ]
        },
        {
          "output_type": "stream",
          "name": "stderr",
          "text": [
            " ...done. (1 seconds, 0 min)\n"
          ]
        },
        {
          "output_type": "stream",
          "name": "stdout",
          "text": [
            "Downloading data from https://s3.amazonaws.com/fcp-indi/data/Projects/ABIDE_Initiative/Outputs/cpac/filt_noglobal/rois_ho/Pitt_0050042_rois_ho.1D ...\n"
          ]
        },
        {
          "output_type": "stream",
          "name": "stderr",
          "text": [
            " ...done. (1 seconds, 0 min)\n"
          ]
        },
        {
          "output_type": "stream",
          "name": "stdout",
          "text": [
            "Downloading data from https://s3.amazonaws.com/fcp-indi/data/Projects/ABIDE_Initiative/Outputs/cpac/filt_noglobal/rois_ho/Pitt_0050043_rois_ho.1D ...\n"
          ]
        },
        {
          "output_type": "stream",
          "name": "stderr",
          "text": [
            " ...done. (1 seconds, 0 min)\n"
          ]
        },
        {
          "output_type": "stream",
          "name": "stdout",
          "text": [
            "Downloading data from https://s3.amazonaws.com/fcp-indi/data/Projects/ABIDE_Initiative/Outputs/cpac/filt_noglobal/rois_ho/Pitt_0050044_rois_ho.1D ...\n"
          ]
        },
        {
          "output_type": "stream",
          "name": "stderr",
          "text": [
            " ...done. (1 seconds, 0 min)\n"
          ]
        },
        {
          "output_type": "stream",
          "name": "stdout",
          "text": [
            "Downloading data from https://s3.amazonaws.com/fcp-indi/data/Projects/ABIDE_Initiative/Outputs/cpac/filt_noglobal/rois_ho/Pitt_0050045_rois_ho.1D ...\n"
          ]
        },
        {
          "output_type": "stream",
          "name": "stderr",
          "text": [
            " ...done. (1 seconds, 0 min)\n"
          ]
        },
        {
          "output_type": "stream",
          "name": "stdout",
          "text": [
            "Downloading data from https://s3.amazonaws.com/fcp-indi/data/Projects/ABIDE_Initiative/Outputs/cpac/filt_noglobal/rois_ho/Pitt_0050046_rois_ho.1D ...\n"
          ]
        },
        {
          "output_type": "stream",
          "name": "stderr",
          "text": [
            " ...done. (1 seconds, 0 min)\n"
          ]
        },
        {
          "output_type": "stream",
          "name": "stdout",
          "text": [
            "Downloading data from https://s3.amazonaws.com/fcp-indi/data/Projects/ABIDE_Initiative/Outputs/cpac/filt_noglobal/rois_ho/Pitt_0050047_rois_ho.1D ...\n"
          ]
        },
        {
          "output_type": "stream",
          "name": "stderr",
          "text": [
            " ...done. (1 seconds, 0 min)\n"
          ]
        },
        {
          "output_type": "stream",
          "name": "stdout",
          "text": [
            "Downloading data from https://s3.amazonaws.com/fcp-indi/data/Projects/ABIDE_Initiative/Outputs/cpac/filt_noglobal/rois_ho/Pitt_0050048_rois_ho.1D ...\n"
          ]
        },
        {
          "output_type": "stream",
          "name": "stderr",
          "text": [
            " ...done. (1 seconds, 0 min)\n"
          ]
        },
        {
          "output_type": "stream",
          "name": "stdout",
          "text": [
            "Downloading data from https://s3.amazonaws.com/fcp-indi/data/Projects/ABIDE_Initiative/Outputs/cpac/filt_noglobal/rois_ho/Pitt_0050049_rois_ho.1D ...\n"
          ]
        },
        {
          "output_type": "stream",
          "name": "stderr",
          "text": [
            " ...done. (1 seconds, 0 min)\n"
          ]
        },
        {
          "output_type": "stream",
          "name": "stdout",
          "text": [
            "Downloading data from https://s3.amazonaws.com/fcp-indi/data/Projects/ABIDE_Initiative/Outputs/cpac/filt_noglobal/rois_ho/Pitt_0050050_rois_ho.1D ...\n"
          ]
        },
        {
          "output_type": "stream",
          "name": "stderr",
          "text": [
            " ...done. (1 seconds, 0 min)\n"
          ]
        },
        {
          "output_type": "stream",
          "name": "stdout",
          "text": [
            "Downloading data from https://s3.amazonaws.com/fcp-indi/data/Projects/ABIDE_Initiative/Outputs/cpac/filt_noglobal/rois_ho/Pitt_0050051_rois_ho.1D ...\n"
          ]
        },
        {
          "output_type": "stream",
          "name": "stderr",
          "text": [
            " ...done. (1 seconds, 0 min)\n"
          ]
        },
        {
          "output_type": "stream",
          "name": "stdout",
          "text": [
            "Downloading data from https://s3.amazonaws.com/fcp-indi/data/Projects/ABIDE_Initiative/Outputs/cpac/filt_noglobal/rois_ho/Pitt_0050052_rois_ho.1D ...\n"
          ]
        },
        {
          "output_type": "stream",
          "name": "stderr",
          "text": [
            " ...done. (1 seconds, 0 min)\n"
          ]
        },
        {
          "output_type": "stream",
          "name": "stdout",
          "text": [
            "Downloading data from https://s3.amazonaws.com/fcp-indi/data/Projects/ABIDE_Initiative/Outputs/cpac/filt_noglobal/rois_ho/Pitt_0050053_rois_ho.1D ...\n"
          ]
        },
        {
          "output_type": "stream",
          "name": "stderr",
          "text": [
            " ...done. (1 seconds, 0 min)\n"
          ]
        },
        {
          "output_type": "stream",
          "name": "stdout",
          "text": [
            "Downloading data from https://s3.amazonaws.com/fcp-indi/data/Projects/ABIDE_Initiative/Outputs/cpac/filt_noglobal/rois_ho/Pitt_0050054_rois_ho.1D ...\n"
          ]
        },
        {
          "output_type": "stream",
          "name": "stderr",
          "text": [
            " ...done. (1 seconds, 0 min)\n"
          ]
        },
        {
          "output_type": "stream",
          "name": "stdout",
          "text": [
            "Downloading data from https://s3.amazonaws.com/fcp-indi/data/Projects/ABIDE_Initiative/Outputs/cpac/filt_noglobal/rois_ho/Pitt_0050055_rois_ho.1D ...\n"
          ]
        },
        {
          "output_type": "stream",
          "name": "stderr",
          "text": [
            " ...done. (1 seconds, 0 min)\n"
          ]
        },
        {
          "output_type": "stream",
          "name": "stdout",
          "text": [
            "Downloading data from https://s3.amazonaws.com/fcp-indi/data/Projects/ABIDE_Initiative/Outputs/cpac/filt_noglobal/rois_ho/Pitt_0050056_rois_ho.1D ...\n"
          ]
        },
        {
          "output_type": "stream",
          "name": "stderr",
          "text": [
            " ...done. (1 seconds, 0 min)\n"
          ]
        },
        {
          "output_type": "stream",
          "name": "stdout",
          "text": [
            "Downloading data from https://s3.amazonaws.com/fcp-indi/data/Projects/ABIDE_Initiative/Outputs/cpac/filt_noglobal/rois_ho/Pitt_0050057_rois_ho.1D ...\n"
          ]
        },
        {
          "output_type": "stream",
          "name": "stderr",
          "text": [
            " ...done. (1 seconds, 0 min)\n"
          ]
        },
        {
          "output_type": "stream",
          "name": "stdout",
          "text": [
            "Downloading data from https://s3.amazonaws.com/fcp-indi/data/Projects/ABIDE_Initiative/Outputs/cpac/filt_noglobal/rois_ho/Pitt_0050058_rois_ho.1D ...\n"
          ]
        },
        {
          "output_type": "stream",
          "name": "stderr",
          "text": [
            " ...done. (1 seconds, 0 min)\n"
          ]
        },
        {
          "output_type": "stream",
          "name": "stdout",
          "text": [
            "Downloading data from https://s3.amazonaws.com/fcp-indi/data/Projects/ABIDE_Initiative/Outputs/cpac/filt_noglobal/rois_ho/Pitt_0050059_rois_ho.1D ...\n"
          ]
        },
        {
          "output_type": "stream",
          "name": "stderr",
          "text": [
            " ...done. (1 seconds, 0 min)\n"
          ]
        },
        {
          "output_type": "stream",
          "name": "stdout",
          "text": [
            "Downloading data from https://s3.amazonaws.com/fcp-indi/data/Projects/ABIDE_Initiative/Outputs/cpac/filt_noglobal/rois_ho/Pitt_0050060_rois_ho.1D ...\n"
          ]
        },
        {
          "output_type": "stream",
          "name": "stderr",
          "text": [
            " ...done. (1 seconds, 0 min)\n"
          ]
        },
        {
          "output_type": "stream",
          "name": "stdout",
          "text": [
            "Downloading data from https://s3.amazonaws.com/fcp-indi/data/Projects/ABIDE_Initiative/Outputs/cpac/filt_noglobal/rois_ho/Olin_0050102_rois_ho.1D ...\n"
          ]
        },
        {
          "output_type": "stream",
          "name": "stderr",
          "text": [
            " ...done. (1 seconds, 0 min)\n"
          ]
        },
        {
          "output_type": "stream",
          "name": "stdout",
          "text": [
            "Downloading data from https://s3.amazonaws.com/fcp-indi/data/Projects/ABIDE_Initiative/Outputs/cpac/filt_noglobal/rois_ho/Olin_0050103_rois_ho.1D ...\n"
          ]
        },
        {
          "output_type": "stream",
          "name": "stderr",
          "text": [
            " ...done. (1 seconds, 0 min)\n"
          ]
        },
        {
          "output_type": "stream",
          "name": "stdout",
          "text": [
            "Downloading data from https://s3.amazonaws.com/fcp-indi/data/Projects/ABIDE_Initiative/Outputs/cpac/filt_noglobal/rois_ho/Olin_0050104_rois_ho.1D ...\n"
          ]
        },
        {
          "output_type": "stream",
          "name": "stderr",
          "text": [
            " ...done. (1 seconds, 0 min)\n"
          ]
        },
        {
          "output_type": "stream",
          "name": "stdout",
          "text": [
            "Downloading data from https://s3.amazonaws.com/fcp-indi/data/Projects/ABIDE_Initiative/Outputs/cpac/filt_noglobal/rois_ho/Olin_0050105_rois_ho.1D ...\n"
          ]
        },
        {
          "output_type": "stream",
          "name": "stderr",
          "text": [
            " ...done. (1 seconds, 0 min)\n"
          ]
        },
        {
          "output_type": "stream",
          "name": "stdout",
          "text": [
            "Downloading data from https://s3.amazonaws.com/fcp-indi/data/Projects/ABIDE_Initiative/Outputs/cpac/filt_noglobal/rois_ho/Olin_0050106_rois_ho.1D ...\n"
          ]
        },
        {
          "output_type": "stream",
          "name": "stderr",
          "text": [
            " ...done. (1 seconds, 0 min)\n"
          ]
        },
        {
          "output_type": "stream",
          "name": "stdout",
          "text": [
            "Downloading data from https://s3.amazonaws.com/fcp-indi/data/Projects/ABIDE_Initiative/Outputs/cpac/filt_noglobal/rois_ho/Olin_0050107_rois_ho.1D ...\n"
          ]
        },
        {
          "output_type": "stream",
          "name": "stderr",
          "text": [
            " ...done. (1 seconds, 0 min)\n"
          ]
        },
        {
          "output_type": "stream",
          "name": "stdout",
          "text": [
            "Downloading data from https://s3.amazonaws.com/fcp-indi/data/Projects/ABIDE_Initiative/Outputs/cpac/filt_noglobal/rois_ho/Olin_0050109_rois_ho.1D ...\n"
          ]
        },
        {
          "output_type": "stream",
          "name": "stderr",
          "text": [
            " ...done. (1 seconds, 0 min)\n"
          ]
        },
        {
          "output_type": "stream",
          "name": "stdout",
          "text": [
            "Downloading data from https://s3.amazonaws.com/fcp-indi/data/Projects/ABIDE_Initiative/Outputs/cpac/filt_noglobal/rois_ho/Olin_0050110_rois_ho.1D ...\n"
          ]
        },
        {
          "output_type": "stream",
          "name": "stderr",
          "text": [
            " ...done. (1 seconds, 0 min)\n"
          ]
        },
        {
          "output_type": "stream",
          "name": "stdout",
          "text": [
            "Downloading data from https://s3.amazonaws.com/fcp-indi/data/Projects/ABIDE_Initiative/Outputs/cpac/filt_noglobal/rois_ho/Olin_0050111_rois_ho.1D ...\n"
          ]
        },
        {
          "output_type": "stream",
          "name": "stderr",
          "text": [
            " ...done. (1 seconds, 0 min)\n"
          ]
        },
        {
          "output_type": "stream",
          "name": "stdout",
          "text": [
            "Downloading data from https://s3.amazonaws.com/fcp-indi/data/Projects/ABIDE_Initiative/Outputs/cpac/filt_noglobal/rois_ho/Olin_0050112_rois_ho.1D ...\n"
          ]
        },
        {
          "output_type": "stream",
          "name": "stderr",
          "text": [
            " ...done. (1 seconds, 0 min)\n"
          ]
        },
        {
          "output_type": "stream",
          "name": "stdout",
          "text": [
            "Downloading data from https://s3.amazonaws.com/fcp-indi/data/Projects/ABIDE_Initiative/Outputs/cpac/filt_noglobal/rois_ho/Olin_0050113_rois_ho.1D ...\n"
          ]
        },
        {
          "output_type": "stream",
          "name": "stderr",
          "text": [
            " ...done. (1 seconds, 0 min)\n"
          ]
        },
        {
          "output_type": "stream",
          "name": "stdout",
          "text": [
            "Downloading data from https://s3.amazonaws.com/fcp-indi/data/Projects/ABIDE_Initiative/Outputs/cpac/filt_noglobal/rois_ho/Olin_0050114_rois_ho.1D ...\n"
          ]
        },
        {
          "output_type": "stream",
          "name": "stderr",
          "text": [
            " ...done. (1 seconds, 0 min)\n"
          ]
        },
        {
          "output_type": "stream",
          "name": "stdout",
          "text": [
            "Downloading data from https://s3.amazonaws.com/fcp-indi/data/Projects/ABIDE_Initiative/Outputs/cpac/filt_noglobal/rois_ho/Olin_0050115_rois_ho.1D ...\n"
          ]
        },
        {
          "output_type": "stream",
          "name": "stderr",
          "text": [
            " ...done. (1 seconds, 0 min)\n"
          ]
        },
        {
          "output_type": "stream",
          "name": "stdout",
          "text": [
            "Downloading data from https://s3.amazonaws.com/fcp-indi/data/Projects/ABIDE_Initiative/Outputs/cpac/filt_noglobal/rois_ho/Olin_0050116_rois_ho.1D ...\n"
          ]
        },
        {
          "output_type": "stream",
          "name": "stderr",
          "text": [
            " ...done. (1 seconds, 0 min)\n"
          ]
        },
        {
          "output_type": "stream",
          "name": "stdout",
          "text": [
            "Downloading data from https://s3.amazonaws.com/fcp-indi/data/Projects/ABIDE_Initiative/Outputs/cpac/filt_noglobal/rois_ho/Olin_0050117_rois_ho.1D ...\n"
          ]
        },
        {
          "output_type": "stream",
          "name": "stderr",
          "text": [
            " ...done. (1 seconds, 0 min)\n"
          ]
        },
        {
          "output_type": "stream",
          "name": "stdout",
          "text": [
            "Downloading data from https://s3.amazonaws.com/fcp-indi/data/Projects/ABIDE_Initiative/Outputs/cpac/filt_noglobal/rois_ho/Olin_0050118_rois_ho.1D ...\n"
          ]
        },
        {
          "output_type": "stream",
          "name": "stderr",
          "text": [
            " ...done. (1 seconds, 0 min)\n"
          ]
        },
        {
          "output_type": "stream",
          "name": "stdout",
          "text": [
            "Downloading data from https://s3.amazonaws.com/fcp-indi/data/Projects/ABIDE_Initiative/Outputs/cpac/filt_noglobal/rois_ho/Olin_0050119_rois_ho.1D ...\n"
          ]
        },
        {
          "output_type": "stream",
          "name": "stderr",
          "text": [
            " ...done. (1 seconds, 0 min)\n"
          ]
        },
        {
          "output_type": "stream",
          "name": "stdout",
          "text": [
            "Downloading data from https://s3.amazonaws.com/fcp-indi/data/Projects/ABIDE_Initiative/Outputs/cpac/filt_noglobal/rois_ho/Olin_0050120_rois_ho.1D ...\n"
          ]
        },
        {
          "output_type": "stream",
          "name": "stderr",
          "text": [
            " ...done. (1 seconds, 0 min)\n"
          ]
        },
        {
          "output_type": "stream",
          "name": "stdout",
          "text": [
            "Downloading data from https://s3.amazonaws.com/fcp-indi/data/Projects/ABIDE_Initiative/Outputs/cpac/filt_noglobal/rois_ho/Olin_0050121_rois_ho.1D ...\n"
          ]
        },
        {
          "output_type": "stream",
          "name": "stderr",
          "text": [
            " ...done. (1 seconds, 0 min)\n"
          ]
        },
        {
          "output_type": "stream",
          "name": "stdout",
          "text": [
            "Downloading data from https://s3.amazonaws.com/fcp-indi/data/Projects/ABIDE_Initiative/Outputs/cpac/filt_noglobal/rois_ho/Olin_0050122_rois_ho.1D ...\n"
          ]
        },
        {
          "output_type": "stream",
          "name": "stderr",
          "text": [
            " ...done. (1 seconds, 0 min)\n"
          ]
        },
        {
          "output_type": "stream",
          "name": "stdout",
          "text": [
            "Downloading data from https://s3.amazonaws.com/fcp-indi/data/Projects/ABIDE_Initiative/Outputs/cpac/filt_noglobal/rois_ho/Olin_0050123_rois_ho.1D ...\n"
          ]
        },
        {
          "output_type": "stream",
          "name": "stderr",
          "text": [
            " ...done. (1 seconds, 0 min)\n"
          ]
        },
        {
          "output_type": "stream",
          "name": "stdout",
          "text": [
            "Downloading data from https://s3.amazonaws.com/fcp-indi/data/Projects/ABIDE_Initiative/Outputs/cpac/filt_noglobal/rois_ho/Olin_0050124_rois_ho.1D ...\n"
          ]
        },
        {
          "output_type": "stream",
          "name": "stderr",
          "text": [
            " ...done. (1 seconds, 0 min)\n"
          ]
        },
        {
          "output_type": "stream",
          "name": "stdout",
          "text": [
            "Downloading data from https://s3.amazonaws.com/fcp-indi/data/Projects/ABIDE_Initiative/Outputs/cpac/filt_noglobal/rois_ho/Olin_0050125_rois_ho.1D ...\n"
          ]
        },
        {
          "output_type": "stream",
          "name": "stderr",
          "text": [
            " ...done. (1 seconds, 0 min)\n"
          ]
        },
        {
          "output_type": "stream",
          "name": "stdout",
          "text": [
            "Downloading data from https://s3.amazonaws.com/fcp-indi/data/Projects/ABIDE_Initiative/Outputs/cpac/filt_noglobal/rois_ho/Olin_0050126_rois_ho.1D ...\n"
          ]
        },
        {
          "output_type": "stream",
          "name": "stderr",
          "text": [
            " ...done. (1 seconds, 0 min)\n"
          ]
        },
        {
          "output_type": "stream",
          "name": "stdout",
          "text": [
            "Downloading data from https://s3.amazonaws.com/fcp-indi/data/Projects/ABIDE_Initiative/Outputs/cpac/filt_noglobal/rois_ho/Olin_0050127_rois_ho.1D ...\n"
          ]
        },
        {
          "output_type": "stream",
          "name": "stderr",
          "text": [
            " ...done. (1 seconds, 0 min)\n"
          ]
        },
        {
          "output_type": "stream",
          "name": "stdout",
          "text": [
            "Downloading data from https://s3.amazonaws.com/fcp-indi/data/Projects/ABIDE_Initiative/Outputs/cpac/filt_noglobal/rois_ho/Olin_0050128_rois_ho.1D ...\n"
          ]
        },
        {
          "output_type": "stream",
          "name": "stderr",
          "text": [
            " ...done. (1 seconds, 0 min)\n"
          ]
        },
        {
          "output_type": "stream",
          "name": "stdout",
          "text": [
            "Downloading data from https://s3.amazonaws.com/fcp-indi/data/Projects/ABIDE_Initiative/Outputs/cpac/filt_noglobal/rois_ho/Olin_0050129_rois_ho.1D ...\n"
          ]
        },
        {
          "output_type": "stream",
          "name": "stderr",
          "text": [
            " ...done. (1 seconds, 0 min)\n"
          ]
        },
        {
          "output_type": "stream",
          "name": "stdout",
          "text": [
            "Downloading data from https://s3.amazonaws.com/fcp-indi/data/Projects/ABIDE_Initiative/Outputs/cpac/filt_noglobal/rois_ho/Olin_0050130_rois_ho.1D ...\n"
          ]
        },
        {
          "output_type": "stream",
          "name": "stderr",
          "text": [
            " ...done. (1 seconds, 0 min)\n"
          ]
        },
        {
          "output_type": "stream",
          "name": "stdout",
          "text": [
            "Downloading data from https://s3.amazonaws.com/fcp-indi/data/Projects/ABIDE_Initiative/Outputs/cpac/filt_noglobal/rois_ho/Olin_0050131_rois_ho.1D ...\n"
          ]
        },
        {
          "output_type": "stream",
          "name": "stderr",
          "text": [
            " ...done. (1 seconds, 0 min)\n"
          ]
        },
        {
          "output_type": "stream",
          "name": "stdout",
          "text": [
            "Downloading data from https://s3.amazonaws.com/fcp-indi/data/Projects/ABIDE_Initiative/Outputs/cpac/filt_noglobal/rois_ho/Olin_0050132_rois_ho.1D ...\n"
          ]
        },
        {
          "output_type": "stream",
          "name": "stderr",
          "text": [
            " ...done. (1 seconds, 0 min)\n"
          ]
        },
        {
          "output_type": "stream",
          "name": "stdout",
          "text": [
            "Downloading data from https://s3.amazonaws.com/fcp-indi/data/Projects/ABIDE_Initiative/Outputs/cpac/filt_noglobal/rois_ho/Olin_0050133_rois_ho.1D ...\n"
          ]
        },
        {
          "output_type": "stream",
          "name": "stderr",
          "text": [
            " ...done. (1 seconds, 0 min)\n"
          ]
        },
        {
          "output_type": "stream",
          "name": "stdout",
          "text": [
            "Downloading data from https://s3.amazonaws.com/fcp-indi/data/Projects/ABIDE_Initiative/Outputs/cpac/filt_noglobal/rois_ho/Olin_0050134_rois_ho.1D ...\n"
          ]
        },
        {
          "output_type": "stream",
          "name": "stderr",
          "text": [
            " ...done. (1 seconds, 0 min)\n"
          ]
        },
        {
          "output_type": "stream",
          "name": "stdout",
          "text": [
            "Downloading data from https://s3.amazonaws.com/fcp-indi/data/Projects/ABIDE_Initiative/Outputs/cpac/filt_noglobal/rois_ho/Olin_0050135_rois_ho.1D ...\n"
          ]
        },
        {
          "output_type": "stream",
          "name": "stderr",
          "text": [
            " ...done. (1 seconds, 0 min)\n"
          ]
        },
        {
          "output_type": "stream",
          "name": "stdout",
          "text": [
            "Downloading data from https://s3.amazonaws.com/fcp-indi/data/Projects/ABIDE_Initiative/Outputs/cpac/filt_noglobal/rois_ho/Olin_0050136_rois_ho.1D ...\n"
          ]
        },
        {
          "output_type": "stream",
          "name": "stderr",
          "text": [
            " ...done. (1 seconds, 0 min)\n"
          ]
        },
        {
          "output_type": "stream",
          "name": "stdout",
          "text": [
            "Downloading data from https://s3.amazonaws.com/fcp-indi/data/Projects/ABIDE_Initiative/Outputs/cpac/filt_noglobal/rois_ho/OHSU_0050142_rois_ho.1D ...\n"
          ]
        },
        {
          "output_type": "stream",
          "name": "stderr",
          "text": [
            " ...done. (1 seconds, 0 min)\n"
          ]
        },
        {
          "output_type": "stream",
          "name": "stdout",
          "text": [
            "Downloading data from https://s3.amazonaws.com/fcp-indi/data/Projects/ABIDE_Initiative/Outputs/cpac/filt_noglobal/rois_ho/OHSU_0050143_rois_ho.1D ...\n"
          ]
        },
        {
          "output_type": "stream",
          "name": "stderr",
          "text": [
            " ...done. (1 seconds, 0 min)\n"
          ]
        },
        {
          "output_type": "stream",
          "name": "stdout",
          "text": [
            "Downloading data from https://s3.amazonaws.com/fcp-indi/data/Projects/ABIDE_Initiative/Outputs/cpac/filt_noglobal/rois_ho/OHSU_0050144_rois_ho.1D ...\n"
          ]
        },
        {
          "output_type": "stream",
          "name": "stderr",
          "text": [
            " ...done. (1 seconds, 0 min)\n"
          ]
        },
        {
          "output_type": "stream",
          "name": "stdout",
          "text": [
            "Downloading data from https://s3.amazonaws.com/fcp-indi/data/Projects/ABIDE_Initiative/Outputs/cpac/filt_noglobal/rois_ho/OHSU_0050145_rois_ho.1D ...\n"
          ]
        },
        {
          "output_type": "stream",
          "name": "stderr",
          "text": [
            " ...done. (1 seconds, 0 min)\n"
          ]
        },
        {
          "output_type": "stream",
          "name": "stdout",
          "text": [
            "Downloading data from https://s3.amazonaws.com/fcp-indi/data/Projects/ABIDE_Initiative/Outputs/cpac/filt_noglobal/rois_ho/OHSU_0050146_rois_ho.1D ...\n"
          ]
        },
        {
          "output_type": "stream",
          "name": "stderr",
          "text": [
            " ...done. (1 seconds, 0 min)\n"
          ]
        },
        {
          "output_type": "stream",
          "name": "stdout",
          "text": [
            "Downloading data from https://s3.amazonaws.com/fcp-indi/data/Projects/ABIDE_Initiative/Outputs/cpac/filt_noglobal/rois_ho/OHSU_0050147_rois_ho.1D ...\n"
          ]
        },
        {
          "output_type": "stream",
          "name": "stderr",
          "text": [
            " ...done. (1 seconds, 0 min)\n"
          ]
        },
        {
          "output_type": "stream",
          "name": "stdout",
          "text": [
            "Downloading data from https://s3.amazonaws.com/fcp-indi/data/Projects/ABIDE_Initiative/Outputs/cpac/filt_noglobal/rois_ho/OHSU_0050148_rois_ho.1D ...\n"
          ]
        },
        {
          "output_type": "stream",
          "name": "stderr",
          "text": [
            " ...done. (1 seconds, 0 min)\n"
          ]
        },
        {
          "output_type": "stream",
          "name": "stdout",
          "text": [
            "Downloading data from https://s3.amazonaws.com/fcp-indi/data/Projects/ABIDE_Initiative/Outputs/cpac/filt_noglobal/rois_ho/OHSU_0050149_rois_ho.1D ...\n"
          ]
        },
        {
          "output_type": "stream",
          "name": "stderr",
          "text": [
            " ...done. (1 seconds, 0 min)\n"
          ]
        },
        {
          "output_type": "stream",
          "name": "stdout",
          "text": [
            "Downloading data from https://s3.amazonaws.com/fcp-indi/data/Projects/ABIDE_Initiative/Outputs/cpac/filt_noglobal/rois_ho/OHSU_0050150_rois_ho.1D ...\n"
          ]
        },
        {
          "output_type": "stream",
          "name": "stderr",
          "text": [
            " ...done. (1 seconds, 0 min)\n"
          ]
        },
        {
          "output_type": "stream",
          "name": "stdout",
          "text": [
            "Downloading data from https://s3.amazonaws.com/fcp-indi/data/Projects/ABIDE_Initiative/Outputs/cpac/filt_noglobal/rois_ho/OHSU_0050152_rois_ho.1D ...\n"
          ]
        },
        {
          "output_type": "stream",
          "name": "stderr",
          "text": [
            " ...done. (1 seconds, 0 min)\n"
          ]
        },
        {
          "output_type": "stream",
          "name": "stdout",
          "text": [
            "Downloading data from https://s3.amazonaws.com/fcp-indi/data/Projects/ABIDE_Initiative/Outputs/cpac/filt_noglobal/rois_ho/OHSU_0050153_rois_ho.1D ...\n"
          ]
        },
        {
          "output_type": "stream",
          "name": "stderr",
          "text": [
            " ...done. (1 seconds, 0 min)\n"
          ]
        },
        {
          "output_type": "stream",
          "name": "stdout",
          "text": [
            "Downloading data from https://s3.amazonaws.com/fcp-indi/data/Projects/ABIDE_Initiative/Outputs/cpac/filt_noglobal/rois_ho/OHSU_0050156_rois_ho.1D ...\n"
          ]
        },
        {
          "output_type": "stream",
          "name": "stderr",
          "text": [
            " ...done. (1 seconds, 0 min)\n"
          ]
        },
        {
          "output_type": "stream",
          "name": "stdout",
          "text": [
            "Downloading data from https://s3.amazonaws.com/fcp-indi/data/Projects/ABIDE_Initiative/Outputs/cpac/filt_noglobal/rois_ho/OHSU_0050157_rois_ho.1D ...\n"
          ]
        },
        {
          "output_type": "stream",
          "name": "stderr",
          "text": [
            " ...done. (1 seconds, 0 min)\n"
          ]
        },
        {
          "output_type": "stream",
          "name": "stdout",
          "text": [
            "Downloading data from https://s3.amazonaws.com/fcp-indi/data/Projects/ABIDE_Initiative/Outputs/cpac/filt_noglobal/rois_ho/OHSU_0050158_rois_ho.1D ...\n"
          ]
        },
        {
          "output_type": "stream",
          "name": "stderr",
          "text": [
            " ...done. (1 seconds, 0 min)\n"
          ]
        },
        {
          "output_type": "stream",
          "name": "stdout",
          "text": [
            "Downloading data from https://s3.amazonaws.com/fcp-indi/data/Projects/ABIDE_Initiative/Outputs/cpac/filt_noglobal/rois_ho/OHSU_0050159_rois_ho.1D ...\n"
          ]
        },
        {
          "output_type": "stream",
          "name": "stderr",
          "text": [
            " ...done. (1 seconds, 0 min)\n"
          ]
        },
        {
          "output_type": "stream",
          "name": "stdout",
          "text": [
            "Downloading data from https://s3.amazonaws.com/fcp-indi/data/Projects/ABIDE_Initiative/Outputs/cpac/filt_noglobal/rois_ho/OHSU_0050160_rois_ho.1D ...\n"
          ]
        },
        {
          "output_type": "stream",
          "name": "stderr",
          "text": [
            " ...done. (1 seconds, 0 min)\n"
          ]
        },
        {
          "output_type": "stream",
          "name": "stdout",
          "text": [
            "Downloading data from https://s3.amazonaws.com/fcp-indi/data/Projects/ABIDE_Initiative/Outputs/cpac/filt_noglobal/rois_ho/OHSU_0050161_rois_ho.1D ...\n"
          ]
        },
        {
          "output_type": "stream",
          "name": "stderr",
          "text": [
            " ...done. (1 seconds, 0 min)\n"
          ]
        },
        {
          "output_type": "stream",
          "name": "stdout",
          "text": [
            "Downloading data from https://s3.amazonaws.com/fcp-indi/data/Projects/ABIDE_Initiative/Outputs/cpac/filt_noglobal/rois_ho/OHSU_0050162_rois_ho.1D ...\n"
          ]
        },
        {
          "output_type": "stream",
          "name": "stderr",
          "text": [
            " ...done. (1 seconds, 0 min)\n"
          ]
        },
        {
          "output_type": "stream",
          "name": "stdout",
          "text": [
            "Downloading data from https://s3.amazonaws.com/fcp-indi/data/Projects/ABIDE_Initiative/Outputs/cpac/filt_noglobal/rois_ho/OHSU_0050163_rois_ho.1D ...\n"
          ]
        },
        {
          "output_type": "stream",
          "name": "stderr",
          "text": [
            " ...done. (1 seconds, 0 min)\n"
          ]
        },
        {
          "output_type": "stream",
          "name": "stdout",
          "text": [
            "Downloading data from https://s3.amazonaws.com/fcp-indi/data/Projects/ABIDE_Initiative/Outputs/cpac/filt_noglobal/rois_ho/OHSU_0050164_rois_ho.1D ...\n"
          ]
        },
        {
          "output_type": "stream",
          "name": "stderr",
          "text": [
            " ...done. (1 seconds, 0 min)\n"
          ]
        },
        {
          "output_type": "stream",
          "name": "stdout",
          "text": [
            "Downloading data from https://s3.amazonaws.com/fcp-indi/data/Projects/ABIDE_Initiative/Outputs/cpac/filt_noglobal/rois_ho/OHSU_0050166_rois_ho.1D ...\n"
          ]
        },
        {
          "output_type": "stream",
          "name": "stderr",
          "text": [
            " ...done. (1 seconds, 0 min)\n"
          ]
        },
        {
          "output_type": "stream",
          "name": "stdout",
          "text": [
            "Downloading data from https://s3.amazonaws.com/fcp-indi/data/Projects/ABIDE_Initiative/Outputs/cpac/filt_noglobal/rois_ho/OHSU_0050167_rois_ho.1D ...\n"
          ]
        },
        {
          "output_type": "stream",
          "name": "stderr",
          "text": [
            " ...done. (1 seconds, 0 min)\n"
          ]
        },
        {
          "output_type": "stream",
          "name": "stdout",
          "text": [
            "Downloading data from https://s3.amazonaws.com/fcp-indi/data/Projects/ABIDE_Initiative/Outputs/cpac/filt_noglobal/rois_ho/OHSU_0050168_rois_ho.1D ...\n"
          ]
        },
        {
          "output_type": "stream",
          "name": "stderr",
          "text": [
            " ...done. (1 seconds, 0 min)\n"
          ]
        },
        {
          "output_type": "stream",
          "name": "stdout",
          "text": [
            "Downloading data from https://s3.amazonaws.com/fcp-indi/data/Projects/ABIDE_Initiative/Outputs/cpac/filt_noglobal/rois_ho/OHSU_0050169_rois_ho.1D ...\n"
          ]
        },
        {
          "output_type": "stream",
          "name": "stderr",
          "text": [
            " ...done. (1 seconds, 0 min)\n"
          ]
        },
        {
          "output_type": "stream",
          "name": "stdout",
          "text": [
            "Downloading data from https://s3.amazonaws.com/fcp-indi/data/Projects/ABIDE_Initiative/Outputs/cpac/filt_noglobal/rois_ho/OHSU_0050170_rois_ho.1D ...\n"
          ]
        },
        {
          "output_type": "stream",
          "name": "stderr",
          "text": [
            " ...done. (1 seconds, 0 min)\n"
          ]
        },
        {
          "output_type": "stream",
          "name": "stdout",
          "text": [
            "Downloading data from https://s3.amazonaws.com/fcp-indi/data/Projects/ABIDE_Initiative/Outputs/cpac/filt_noglobal/rois_ho/OHSU_0050171_rois_ho.1D ...\n"
          ]
        },
        {
          "output_type": "stream",
          "name": "stderr",
          "text": [
            " ...done. (1 seconds, 0 min)\n"
          ]
        },
        {
          "output_type": "stream",
          "name": "stdout",
          "text": [
            "Downloading data from https://s3.amazonaws.com/fcp-indi/data/Projects/ABIDE_Initiative/Outputs/cpac/filt_noglobal/rois_ho/SDSU_0050182_rois_ho.1D ...\n"
          ]
        },
        {
          "output_type": "stream",
          "name": "stderr",
          "text": [
            " ...done. (1 seconds, 0 min)\n"
          ]
        },
        {
          "output_type": "stream",
          "name": "stdout",
          "text": [
            "Downloading data from https://s3.amazonaws.com/fcp-indi/data/Projects/ABIDE_Initiative/Outputs/cpac/filt_noglobal/rois_ho/SDSU_0050183_rois_ho.1D ...\n"
          ]
        },
        {
          "output_type": "stream",
          "name": "stderr",
          "text": [
            " ...done. (1 seconds, 0 min)\n"
          ]
        },
        {
          "output_type": "stream",
          "name": "stdout",
          "text": [
            "Downloading data from https://s3.amazonaws.com/fcp-indi/data/Projects/ABIDE_Initiative/Outputs/cpac/filt_noglobal/rois_ho/SDSU_0050184_rois_ho.1D ...\n"
          ]
        },
        {
          "output_type": "stream",
          "name": "stderr",
          "text": [
            " ...done. (1 seconds, 0 min)\n"
          ]
        },
        {
          "output_type": "stream",
          "name": "stdout",
          "text": [
            "Downloading data from https://s3.amazonaws.com/fcp-indi/data/Projects/ABIDE_Initiative/Outputs/cpac/filt_noglobal/rois_ho/SDSU_0050185_rois_ho.1D ...\n"
          ]
        },
        {
          "output_type": "stream",
          "name": "stderr",
          "text": [
            " ...done. (1 seconds, 0 min)\n"
          ]
        },
        {
          "output_type": "stream",
          "name": "stdout",
          "text": [
            "Downloading data from https://s3.amazonaws.com/fcp-indi/data/Projects/ABIDE_Initiative/Outputs/cpac/filt_noglobal/rois_ho/SDSU_0050186_rois_ho.1D ...\n"
          ]
        },
        {
          "output_type": "stream",
          "name": "stderr",
          "text": [
            " ...done. (1 seconds, 0 min)\n"
          ]
        },
        {
          "output_type": "stream",
          "name": "stdout",
          "text": [
            "Downloading data from https://s3.amazonaws.com/fcp-indi/data/Projects/ABIDE_Initiative/Outputs/cpac/filt_noglobal/rois_ho/SDSU_0050187_rois_ho.1D ...\n"
          ]
        },
        {
          "output_type": "stream",
          "name": "stderr",
          "text": [
            " ...done. (1 seconds, 0 min)\n"
          ]
        },
        {
          "output_type": "stream",
          "name": "stdout",
          "text": [
            "Downloading data from https://s3.amazonaws.com/fcp-indi/data/Projects/ABIDE_Initiative/Outputs/cpac/filt_noglobal/rois_ho/SDSU_0050188_rois_ho.1D ...\n"
          ]
        },
        {
          "output_type": "stream",
          "name": "stderr",
          "text": [
            " ...done. (1 seconds, 0 min)\n"
          ]
        },
        {
          "output_type": "stream",
          "name": "stdout",
          "text": [
            "Downloading data from https://s3.amazonaws.com/fcp-indi/data/Projects/ABIDE_Initiative/Outputs/cpac/filt_noglobal/rois_ho/SDSU_0050189_rois_ho.1D ...\n"
          ]
        },
        {
          "output_type": "stream",
          "name": "stderr",
          "text": [
            " ...done. (1 seconds, 0 min)\n"
          ]
        },
        {
          "output_type": "stream",
          "name": "stdout",
          "text": [
            "Downloading data from https://s3.amazonaws.com/fcp-indi/data/Projects/ABIDE_Initiative/Outputs/cpac/filt_noglobal/rois_ho/SDSU_0050190_rois_ho.1D ...\n"
          ]
        },
        {
          "output_type": "stream",
          "name": "stderr",
          "text": [
            " ...done. (1 seconds, 0 min)\n"
          ]
        },
        {
          "output_type": "stream",
          "name": "stdout",
          "text": [
            "Downloading data from https://s3.amazonaws.com/fcp-indi/data/Projects/ABIDE_Initiative/Outputs/cpac/filt_noglobal/rois_ho/SDSU_0050191_rois_ho.1D ...\n"
          ]
        },
        {
          "output_type": "stream",
          "name": "stderr",
          "text": [
            " ...done. (1 seconds, 0 min)\n"
          ]
        },
        {
          "output_type": "stream",
          "name": "stdout",
          "text": [
            "Downloading data from https://s3.amazonaws.com/fcp-indi/data/Projects/ABIDE_Initiative/Outputs/cpac/filt_noglobal/rois_ho/SDSU_0050192_rois_ho.1D ...\n"
          ]
        },
        {
          "output_type": "stream",
          "name": "stderr",
          "text": [
            " ...done. (1 seconds, 0 min)\n"
          ]
        },
        {
          "output_type": "stream",
          "name": "stdout",
          "text": [
            "Downloading data from https://s3.amazonaws.com/fcp-indi/data/Projects/ABIDE_Initiative/Outputs/cpac/filt_noglobal/rois_ho/SDSU_0050193_rois_ho.1D ...\n"
          ]
        },
        {
          "output_type": "stream",
          "name": "stderr",
          "text": [
            " ...done. (1 seconds, 0 min)\n"
          ]
        },
        {
          "output_type": "stream",
          "name": "stdout",
          "text": [
            "Downloading data from https://s3.amazonaws.com/fcp-indi/data/Projects/ABIDE_Initiative/Outputs/cpac/filt_noglobal/rois_ho/SDSU_0050194_rois_ho.1D ...\n"
          ]
        },
        {
          "output_type": "stream",
          "name": "stderr",
          "text": [
            " ...done. (1 seconds, 0 min)\n"
          ]
        },
        {
          "output_type": "stream",
          "name": "stdout",
          "text": [
            "Downloading data from https://s3.amazonaws.com/fcp-indi/data/Projects/ABIDE_Initiative/Outputs/cpac/filt_noglobal/rois_ho/SDSU_0050195_rois_ho.1D ...\n"
          ]
        },
        {
          "output_type": "stream",
          "name": "stderr",
          "text": [
            " ...done. (1 seconds, 0 min)\n"
          ]
        },
        {
          "output_type": "stream",
          "name": "stdout",
          "text": [
            "Downloading data from https://s3.amazonaws.com/fcp-indi/data/Projects/ABIDE_Initiative/Outputs/cpac/filt_noglobal/rois_ho/SDSU_0050196_rois_ho.1D ...\n"
          ]
        },
        {
          "output_type": "stream",
          "name": "stderr",
          "text": [
            " ...done. (1 seconds, 0 min)\n"
          ]
        },
        {
          "output_type": "stream",
          "name": "stdout",
          "text": [
            "Downloading data from https://s3.amazonaws.com/fcp-indi/data/Projects/ABIDE_Initiative/Outputs/cpac/filt_noglobal/rois_ho/SDSU_0050197_rois_ho.1D ...\n"
          ]
        },
        {
          "output_type": "stream",
          "name": "stderr",
          "text": [
            " ...done. (1 seconds, 0 min)\n"
          ]
        },
        {
          "output_type": "stream",
          "name": "stdout",
          "text": [
            "Downloading data from https://s3.amazonaws.com/fcp-indi/data/Projects/ABIDE_Initiative/Outputs/cpac/filt_noglobal/rois_ho/SDSU_0050198_rois_ho.1D ...\n"
          ]
        },
        {
          "output_type": "stream",
          "name": "stderr",
          "text": [
            " ...done. (1 seconds, 0 min)\n"
          ]
        },
        {
          "output_type": "stream",
          "name": "stdout",
          "text": [
            "Downloading data from https://s3.amazonaws.com/fcp-indi/data/Projects/ABIDE_Initiative/Outputs/cpac/filt_noglobal/rois_ho/SDSU_0050199_rois_ho.1D ...\n"
          ]
        },
        {
          "output_type": "stream",
          "name": "stderr",
          "text": [
            " ...done. (1 seconds, 0 min)\n"
          ]
        },
        {
          "output_type": "stream",
          "name": "stdout",
          "text": [
            "Downloading data from https://s3.amazonaws.com/fcp-indi/data/Projects/ABIDE_Initiative/Outputs/cpac/filt_noglobal/rois_ho/SDSU_0050200_rois_ho.1D ...\n"
          ]
        },
        {
          "output_type": "stream",
          "name": "stderr",
          "text": [
            " ...done. (1 seconds, 0 min)\n"
          ]
        },
        {
          "output_type": "stream",
          "name": "stdout",
          "text": [
            "Downloading data from https://s3.amazonaws.com/fcp-indi/data/Projects/ABIDE_Initiative/Outputs/cpac/filt_noglobal/rois_ho/SDSU_0050201_rois_ho.1D ...\n"
          ]
        },
        {
          "output_type": "stream",
          "name": "stderr",
          "text": [
            " ...done. (1 seconds, 0 min)\n"
          ]
        },
        {
          "output_type": "stream",
          "name": "stdout",
          "text": [
            "Downloading data from https://s3.amazonaws.com/fcp-indi/data/Projects/ABIDE_Initiative/Outputs/cpac/filt_noglobal/rois_ho/SDSU_0050202_rois_ho.1D ...\n"
          ]
        },
        {
          "output_type": "stream",
          "name": "stderr",
          "text": [
            " ...done. (1 seconds, 0 min)\n"
          ]
        },
        {
          "output_type": "stream",
          "name": "stdout",
          "text": [
            "Downloading data from https://s3.amazonaws.com/fcp-indi/data/Projects/ABIDE_Initiative/Outputs/cpac/filt_noglobal/rois_ho/SDSU_0050203_rois_ho.1D ...\n"
          ]
        },
        {
          "output_type": "stream",
          "name": "stderr",
          "text": [
            " ...done. (1 seconds, 0 min)\n"
          ]
        },
        {
          "output_type": "stream",
          "name": "stdout",
          "text": [
            "Downloading data from https://s3.amazonaws.com/fcp-indi/data/Projects/ABIDE_Initiative/Outputs/cpac/filt_noglobal/rois_ho/SDSU_0050204_rois_ho.1D ...\n"
          ]
        },
        {
          "output_type": "stream",
          "name": "stderr",
          "text": [
            " ...done. (1 seconds, 0 min)\n"
          ]
        },
        {
          "output_type": "stream",
          "name": "stdout",
          "text": [
            "Downloading data from https://s3.amazonaws.com/fcp-indi/data/Projects/ABIDE_Initiative/Outputs/cpac/filt_noglobal/rois_ho/SDSU_0050205_rois_ho.1D ...\n"
          ]
        },
        {
          "output_type": "stream",
          "name": "stderr",
          "text": [
            " ...done. (1 seconds, 0 min)\n"
          ]
        },
        {
          "output_type": "stream",
          "name": "stdout",
          "text": [
            "Downloading data from https://s3.amazonaws.com/fcp-indi/data/Projects/ABIDE_Initiative/Outputs/cpac/filt_noglobal/rois_ho/SDSU_0050206_rois_ho.1D ...\n"
          ]
        },
        {
          "output_type": "stream",
          "name": "stderr",
          "text": [
            " ...done. (1 seconds, 0 min)\n"
          ]
        },
        {
          "output_type": "stream",
          "name": "stdout",
          "text": [
            "Downloading data from https://s3.amazonaws.com/fcp-indi/data/Projects/ABIDE_Initiative/Outputs/cpac/filt_noglobal/rois_ho/SDSU_0050207_rois_ho.1D ...\n"
          ]
        },
        {
          "output_type": "stream",
          "name": "stderr",
          "text": [
            " ...done. (1 seconds, 0 min)\n"
          ]
        },
        {
          "output_type": "stream",
          "name": "stdout",
          "text": [
            "Downloading data from https://s3.amazonaws.com/fcp-indi/data/Projects/ABIDE_Initiative/Outputs/cpac/filt_noglobal/rois_ho/SDSU_0050208_rois_ho.1D ...\n"
          ]
        },
        {
          "output_type": "stream",
          "name": "stderr",
          "text": [
            " ...done. (1 seconds, 0 min)\n"
          ]
        },
        {
          "output_type": "stream",
          "name": "stdout",
          "text": [
            "Downloading data from https://s3.amazonaws.com/fcp-indi/data/Projects/ABIDE_Initiative/Outputs/cpac/filt_noglobal/rois_ho/SDSU_0050209_rois_ho.1D ...\n"
          ]
        },
        {
          "output_type": "stream",
          "name": "stderr",
          "text": [
            " ...done. (1 seconds, 0 min)\n"
          ]
        },
        {
          "output_type": "stream",
          "name": "stdout",
          "text": [
            "Downloading data from https://s3.amazonaws.com/fcp-indi/data/Projects/ABIDE_Initiative/Outputs/cpac/filt_noglobal/rois_ho/SDSU_0050210_rois_ho.1D ...\n"
          ]
        },
        {
          "output_type": "stream",
          "name": "stderr",
          "text": [
            " ...done. (1 seconds, 0 min)\n"
          ]
        },
        {
          "output_type": "stream",
          "name": "stdout",
          "text": [
            "Downloading data from https://s3.amazonaws.com/fcp-indi/data/Projects/ABIDE_Initiative/Outputs/cpac/filt_noglobal/rois_ho/SDSU_0050211_rois_ho.1D ...\n"
          ]
        },
        {
          "output_type": "stream",
          "name": "stderr",
          "text": [
            " ...done. (1 seconds, 0 min)\n"
          ]
        },
        {
          "output_type": "stream",
          "name": "stdout",
          "text": [
            "Downloading data from https://s3.amazonaws.com/fcp-indi/data/Projects/ABIDE_Initiative/Outputs/cpac/filt_noglobal/rois_ho/SDSU_0050212_rois_ho.1D ...\n"
          ]
        },
        {
          "output_type": "stream",
          "name": "stderr",
          "text": [
            " ...done. (1 seconds, 0 min)\n"
          ]
        },
        {
          "output_type": "stream",
          "name": "stdout",
          "text": [
            "Downloading data from https://s3.amazonaws.com/fcp-indi/data/Projects/ABIDE_Initiative/Outputs/cpac/filt_noglobal/rois_ho/SDSU_0050213_rois_ho.1D ...\n"
          ]
        },
        {
          "output_type": "stream",
          "name": "stderr",
          "text": [
            " ...done. (1 seconds, 0 min)\n"
          ]
        },
        {
          "output_type": "stream",
          "name": "stdout",
          "text": [
            "Downloading data from https://s3.amazonaws.com/fcp-indi/data/Projects/ABIDE_Initiative/Outputs/cpac/filt_noglobal/rois_ho/SDSU_0050214_rois_ho.1D ...\n"
          ]
        },
        {
          "output_type": "stream",
          "name": "stderr",
          "text": [
            " ...done. (1 seconds, 0 min)\n"
          ]
        },
        {
          "output_type": "stream",
          "name": "stdout",
          "text": [
            "Downloading data from https://s3.amazonaws.com/fcp-indi/data/Projects/ABIDE_Initiative/Outputs/cpac/filt_noglobal/rois_ho/SDSU_0050215_rois_ho.1D ...\n"
          ]
        },
        {
          "output_type": "stream",
          "name": "stderr",
          "text": [
            " ...done. (1 seconds, 0 min)\n"
          ]
        },
        {
          "output_type": "stream",
          "name": "stdout",
          "text": [
            "Downloading data from https://s3.amazonaws.com/fcp-indi/data/Projects/ABIDE_Initiative/Outputs/cpac/filt_noglobal/rois_ho/SDSU_0050216_rois_ho.1D ...\n"
          ]
        },
        {
          "output_type": "stream",
          "name": "stderr",
          "text": [
            " ...done. (1 seconds, 0 min)\n"
          ]
        },
        {
          "output_type": "stream",
          "name": "stdout",
          "text": [
            "Downloading data from https://s3.amazonaws.com/fcp-indi/data/Projects/ABIDE_Initiative/Outputs/cpac/filt_noglobal/rois_ho/SDSU_0050217_rois_ho.1D ...\n"
          ]
        },
        {
          "output_type": "stream",
          "name": "stderr",
          "text": [
            " ...done. (1 seconds, 0 min)\n"
          ]
        },
        {
          "output_type": "stream",
          "name": "stdout",
          "text": [
            "Downloading data from https://s3.amazonaws.com/fcp-indi/data/Projects/ABIDE_Initiative/Outputs/cpac/filt_noglobal/rois_ho/Trinity_0050232_rois_ho.1D ...\n"
          ]
        },
        {
          "output_type": "stream",
          "name": "stderr",
          "text": [
            " ...done. (1 seconds, 0 min)\n"
          ]
        },
        {
          "output_type": "stream",
          "name": "stdout",
          "text": [
            "Downloading data from https://s3.amazonaws.com/fcp-indi/data/Projects/ABIDE_Initiative/Outputs/cpac/filt_noglobal/rois_ho/Trinity_0050233_rois_ho.1D ...\n"
          ]
        },
        {
          "output_type": "stream",
          "name": "stderr",
          "text": [
            " ...done. (1 seconds, 0 min)\n"
          ]
        },
        {
          "output_type": "stream",
          "name": "stdout",
          "text": [
            "Downloading data from https://s3.amazonaws.com/fcp-indi/data/Projects/ABIDE_Initiative/Outputs/cpac/filt_noglobal/rois_ho/Trinity_0050234_rois_ho.1D ...\n"
          ]
        },
        {
          "output_type": "stream",
          "name": "stderr",
          "text": [
            " ...done. (1 seconds, 0 min)\n"
          ]
        },
        {
          "output_type": "stream",
          "name": "stdout",
          "text": [
            "Downloading data from https://s3.amazonaws.com/fcp-indi/data/Projects/ABIDE_Initiative/Outputs/cpac/filt_noglobal/rois_ho/Trinity_0050235_rois_ho.1D ...\n"
          ]
        },
        {
          "output_type": "stream",
          "name": "stderr",
          "text": [
            " ...done. (1 seconds, 0 min)\n"
          ]
        },
        {
          "output_type": "stream",
          "name": "stdout",
          "text": [
            "Downloading data from https://s3.amazonaws.com/fcp-indi/data/Projects/ABIDE_Initiative/Outputs/cpac/filt_noglobal/rois_ho/Trinity_0050236_rois_ho.1D ...\n"
          ]
        },
        {
          "output_type": "stream",
          "name": "stderr",
          "text": [
            " ...done. (1 seconds, 0 min)\n"
          ]
        },
        {
          "output_type": "stream",
          "name": "stdout",
          "text": [
            "Downloading data from https://s3.amazonaws.com/fcp-indi/data/Projects/ABIDE_Initiative/Outputs/cpac/filt_noglobal/rois_ho/Trinity_0050237_rois_ho.1D ...\n"
          ]
        },
        {
          "output_type": "stream",
          "name": "stderr",
          "text": [
            " ...done. (1 seconds, 0 min)\n"
          ]
        },
        {
          "output_type": "stream",
          "name": "stdout",
          "text": [
            "Downloading data from https://s3.amazonaws.com/fcp-indi/data/Projects/ABIDE_Initiative/Outputs/cpac/filt_noglobal/rois_ho/Trinity_0050239_rois_ho.1D ...\n"
          ]
        },
        {
          "output_type": "stream",
          "name": "stderr",
          "text": [
            " ...done. (1 seconds, 0 min)\n"
          ]
        },
        {
          "output_type": "stream",
          "name": "stdout",
          "text": [
            "Downloading data from https://s3.amazonaws.com/fcp-indi/data/Projects/ABIDE_Initiative/Outputs/cpac/filt_noglobal/rois_ho/Trinity_0050240_rois_ho.1D ...\n"
          ]
        },
        {
          "output_type": "stream",
          "name": "stderr",
          "text": [
            " ...done. (1 seconds, 0 min)\n"
          ]
        },
        {
          "output_type": "stream",
          "name": "stdout",
          "text": [
            "Downloading data from https://s3.amazonaws.com/fcp-indi/data/Projects/ABIDE_Initiative/Outputs/cpac/filt_noglobal/rois_ho/Trinity_0050241_rois_ho.1D ...\n"
          ]
        },
        {
          "output_type": "stream",
          "name": "stderr",
          "text": [
            " ...done. (1 seconds, 0 min)\n"
          ]
        },
        {
          "output_type": "stream",
          "name": "stdout",
          "text": [
            "Downloading data from https://s3.amazonaws.com/fcp-indi/data/Projects/ABIDE_Initiative/Outputs/cpac/filt_noglobal/rois_ho/Trinity_0050242_rois_ho.1D ...\n"
          ]
        },
        {
          "output_type": "stream",
          "name": "stderr",
          "text": [
            " ...done. (1 seconds, 0 min)\n"
          ]
        },
        {
          "output_type": "stream",
          "name": "stdout",
          "text": [
            "Downloading data from https://s3.amazonaws.com/fcp-indi/data/Projects/ABIDE_Initiative/Outputs/cpac/filt_noglobal/rois_ho/Trinity_0050243_rois_ho.1D ...\n"
          ]
        },
        {
          "output_type": "stream",
          "name": "stderr",
          "text": [
            " ...done. (1 seconds, 0 min)\n"
          ]
        },
        {
          "output_type": "stream",
          "name": "stdout",
          "text": [
            "Downloading data from https://s3.amazonaws.com/fcp-indi/data/Projects/ABIDE_Initiative/Outputs/cpac/filt_noglobal/rois_ho/Trinity_0050245_rois_ho.1D ...\n"
          ]
        },
        {
          "output_type": "stream",
          "name": "stderr",
          "text": [
            " ...done. (1 seconds, 0 min)\n"
          ]
        },
        {
          "output_type": "stream",
          "name": "stdout",
          "text": [
            "Downloading data from https://s3.amazonaws.com/fcp-indi/data/Projects/ABIDE_Initiative/Outputs/cpac/filt_noglobal/rois_ho/Trinity_0050246_rois_ho.1D ...\n"
          ]
        },
        {
          "output_type": "stream",
          "name": "stderr",
          "text": [
            " ...done. (1 seconds, 0 min)\n"
          ]
        },
        {
          "output_type": "stream",
          "name": "stdout",
          "text": [
            "Downloading data from https://s3.amazonaws.com/fcp-indi/data/Projects/ABIDE_Initiative/Outputs/cpac/filt_noglobal/rois_ho/Trinity_0050247_rois_ho.1D ...\n"
          ]
        },
        {
          "output_type": "stream",
          "name": "stderr",
          "text": [
            " ...done. (1 seconds, 0 min)\n"
          ]
        },
        {
          "output_type": "stream",
          "name": "stdout",
          "text": [
            "Downloading data from https://s3.amazonaws.com/fcp-indi/data/Projects/ABIDE_Initiative/Outputs/cpac/filt_noglobal/rois_ho/Trinity_0050248_rois_ho.1D ...\n"
          ]
        },
        {
          "output_type": "stream",
          "name": "stderr",
          "text": [
            " ...done. (1 seconds, 0 min)\n"
          ]
        },
        {
          "output_type": "stream",
          "name": "stdout",
          "text": [
            "Downloading data from https://s3.amazonaws.com/fcp-indi/data/Projects/ABIDE_Initiative/Outputs/cpac/filt_noglobal/rois_ho/Trinity_0050249_rois_ho.1D ...\n"
          ]
        },
        {
          "output_type": "stream",
          "name": "stderr",
          "text": [
            " ...done. (1 seconds, 0 min)\n"
          ]
        },
        {
          "output_type": "stream",
          "name": "stdout",
          "text": [
            "Downloading data from https://s3.amazonaws.com/fcp-indi/data/Projects/ABIDE_Initiative/Outputs/cpac/filt_noglobal/rois_ho/Trinity_0050250_rois_ho.1D ...\n"
          ]
        },
        {
          "output_type": "stream",
          "name": "stderr",
          "text": [
            " ...done. (1 seconds, 0 min)\n"
          ]
        },
        {
          "output_type": "stream",
          "name": "stdout",
          "text": [
            "Downloading data from https://s3.amazonaws.com/fcp-indi/data/Projects/ABIDE_Initiative/Outputs/cpac/filt_noglobal/rois_ho/Trinity_0050251_rois_ho.1D ...\n"
          ]
        },
        {
          "output_type": "stream",
          "name": "stderr",
          "text": [
            " ...done. (1 seconds, 0 min)\n"
          ]
        },
        {
          "output_type": "stream",
          "name": "stdout",
          "text": [
            "Downloading data from https://s3.amazonaws.com/fcp-indi/data/Projects/ABIDE_Initiative/Outputs/cpac/filt_noglobal/rois_ho/Trinity_0050252_rois_ho.1D ...\n"
          ]
        },
        {
          "output_type": "stream",
          "name": "stderr",
          "text": [
            " ...done. (1 seconds, 0 min)\n"
          ]
        },
        {
          "output_type": "stream",
          "name": "stdout",
          "text": [
            "Downloading data from https://s3.amazonaws.com/fcp-indi/data/Projects/ABIDE_Initiative/Outputs/cpac/filt_noglobal/rois_ho/Trinity_0050253_rois_ho.1D ...\n"
          ]
        },
        {
          "output_type": "stream",
          "name": "stderr",
          "text": [
            " ...done. (1 seconds, 0 min)\n"
          ]
        },
        {
          "output_type": "stream",
          "name": "stdout",
          "text": [
            "Downloading data from https://s3.amazonaws.com/fcp-indi/data/Projects/ABIDE_Initiative/Outputs/cpac/filt_noglobal/rois_ho/Trinity_0050254_rois_ho.1D ...\n"
          ]
        },
        {
          "output_type": "stream",
          "name": "stderr",
          "text": [
            " ...done. (1 seconds, 0 min)\n"
          ]
        },
        {
          "output_type": "stream",
          "name": "stdout",
          "text": [
            "Downloading data from https://s3.amazonaws.com/fcp-indi/data/Projects/ABIDE_Initiative/Outputs/cpac/filt_noglobal/rois_ho/Trinity_0050255_rois_ho.1D ...\n"
          ]
        },
        {
          "output_type": "stream",
          "name": "stderr",
          "text": [
            " ...done. (1 seconds, 0 min)\n"
          ]
        },
        {
          "output_type": "stream",
          "name": "stdout",
          "text": [
            "Downloading data from https://s3.amazonaws.com/fcp-indi/data/Projects/ABIDE_Initiative/Outputs/cpac/filt_noglobal/rois_ho/Trinity_0050257_rois_ho.1D ...\n"
          ]
        },
        {
          "output_type": "stream",
          "name": "stderr",
          "text": [
            " ...done. (1 seconds, 0 min)\n"
          ]
        },
        {
          "output_type": "stream",
          "name": "stdout",
          "text": [
            "Downloading data from https://s3.amazonaws.com/fcp-indi/data/Projects/ABIDE_Initiative/Outputs/cpac/filt_noglobal/rois_ho/Trinity_0050259_rois_ho.1D ...\n"
          ]
        },
        {
          "output_type": "stream",
          "name": "stderr",
          "text": [
            " ...done. (1 seconds, 0 min)\n"
          ]
        },
        {
          "output_type": "stream",
          "name": "stdout",
          "text": [
            "Downloading data from https://s3.amazonaws.com/fcp-indi/data/Projects/ABIDE_Initiative/Outputs/cpac/filt_noglobal/rois_ho/Trinity_0050260_rois_ho.1D ...\n"
          ]
        },
        {
          "output_type": "stream",
          "name": "stderr",
          "text": [
            " ...done. (1 seconds, 0 min)\n"
          ]
        },
        {
          "output_type": "stream",
          "name": "stdout",
          "text": [
            "Downloading data from https://s3.amazonaws.com/fcp-indi/data/Projects/ABIDE_Initiative/Outputs/cpac/filt_noglobal/rois_ho/Trinity_0050261_rois_ho.1D ...\n"
          ]
        },
        {
          "output_type": "stream",
          "name": "stderr",
          "text": [
            " ...done. (1 seconds, 0 min)\n"
          ]
        },
        {
          "output_type": "stream",
          "name": "stdout",
          "text": [
            "Downloading data from https://s3.amazonaws.com/fcp-indi/data/Projects/ABIDE_Initiative/Outputs/cpac/filt_noglobal/rois_ho/Trinity_0050262_rois_ho.1D ...\n"
          ]
        },
        {
          "output_type": "stream",
          "name": "stderr",
          "text": [
            " ...done. (1 seconds, 0 min)\n"
          ]
        },
        {
          "output_type": "stream",
          "name": "stdout",
          "text": [
            "Downloading data from https://s3.amazonaws.com/fcp-indi/data/Projects/ABIDE_Initiative/Outputs/cpac/filt_noglobal/rois_ho/Trinity_0050263_rois_ho.1D ...\n"
          ]
        },
        {
          "output_type": "stream",
          "name": "stderr",
          "text": [
            " ...done. (1 seconds, 0 min)\n"
          ]
        },
        {
          "output_type": "stream",
          "name": "stdout",
          "text": [
            "Downloading data from https://s3.amazonaws.com/fcp-indi/data/Projects/ABIDE_Initiative/Outputs/cpac/filt_noglobal/rois_ho/Trinity_0050264_rois_ho.1D ...\n"
          ]
        },
        {
          "output_type": "stream",
          "name": "stderr",
          "text": [
            " ...done. (1 seconds, 0 min)\n"
          ]
        },
        {
          "output_type": "stream",
          "name": "stdout",
          "text": [
            "Downloading data from https://s3.amazonaws.com/fcp-indi/data/Projects/ABIDE_Initiative/Outputs/cpac/filt_noglobal/rois_ho/Trinity_0050265_rois_ho.1D ...\n"
          ]
        },
        {
          "output_type": "stream",
          "name": "stderr",
          "text": [
            " ...done. (1 seconds, 0 min)\n"
          ]
        },
        {
          "output_type": "stream",
          "name": "stdout",
          "text": [
            "Downloading data from https://s3.amazonaws.com/fcp-indi/data/Projects/ABIDE_Initiative/Outputs/cpac/filt_noglobal/rois_ho/Trinity_0050266_rois_ho.1D ...\n"
          ]
        },
        {
          "output_type": "stream",
          "name": "stderr",
          "text": [
            " ...done. (1 seconds, 0 min)\n"
          ]
        },
        {
          "output_type": "stream",
          "name": "stdout",
          "text": [
            "Downloading data from https://s3.amazonaws.com/fcp-indi/data/Projects/ABIDE_Initiative/Outputs/cpac/filt_noglobal/rois_ho/Trinity_0050267_rois_ho.1D ...\n"
          ]
        },
        {
          "output_type": "stream",
          "name": "stderr",
          "text": [
            " ...done. (1 seconds, 0 min)\n"
          ]
        },
        {
          "output_type": "stream",
          "name": "stdout",
          "text": [
            "Downloading data from https://s3.amazonaws.com/fcp-indi/data/Projects/ABIDE_Initiative/Outputs/cpac/filt_noglobal/rois_ho/Trinity_0050268_rois_ho.1D ...\n"
          ]
        },
        {
          "output_type": "stream",
          "name": "stderr",
          "text": [
            " ...done. (1 seconds, 0 min)\n"
          ]
        },
        {
          "output_type": "stream",
          "name": "stdout",
          "text": [
            "Downloading data from https://s3.amazonaws.com/fcp-indi/data/Projects/ABIDE_Initiative/Outputs/cpac/filt_noglobal/rois_ho/Trinity_0050269_rois_ho.1D ...\n"
          ]
        },
        {
          "output_type": "stream",
          "name": "stderr",
          "text": [
            " ...done. (1 seconds, 0 min)\n"
          ]
        },
        {
          "output_type": "stream",
          "name": "stdout",
          "text": [
            "Downloading data from https://s3.amazonaws.com/fcp-indi/data/Projects/ABIDE_Initiative/Outputs/cpac/filt_noglobal/rois_ho/Trinity_0050270_rois_ho.1D ...\n"
          ]
        },
        {
          "output_type": "stream",
          "name": "stderr",
          "text": [
            " ...done. (1 seconds, 0 min)\n"
          ]
        },
        {
          "output_type": "stream",
          "name": "stdout",
          "text": [
            "Downloading data from https://s3.amazonaws.com/fcp-indi/data/Projects/ABIDE_Initiative/Outputs/cpac/filt_noglobal/rois_ho/Trinity_0050271_rois_ho.1D ...\n"
          ]
        },
        {
          "output_type": "stream",
          "name": "stderr",
          "text": [
            " ...done. (1 seconds, 0 min)\n"
          ]
        },
        {
          "output_type": "stream",
          "name": "stdout",
          "text": [
            "Downloading data from https://s3.amazonaws.com/fcp-indi/data/Projects/ABIDE_Initiative/Outputs/cpac/filt_noglobal/rois_ho/UM_1_0050272_rois_ho.1D ...\n"
          ]
        },
        {
          "output_type": "stream",
          "name": "stderr",
          "text": [
            " ...done. (1 seconds, 0 min)\n"
          ]
        },
        {
          "output_type": "stream",
          "name": "stdout",
          "text": [
            "Downloading data from https://s3.amazonaws.com/fcp-indi/data/Projects/ABIDE_Initiative/Outputs/cpac/filt_noglobal/rois_ho/UM_1_0050273_rois_ho.1D ...\n"
          ]
        },
        {
          "output_type": "stream",
          "name": "stderr",
          "text": [
            " ...done. (1 seconds, 0 min)\n"
          ]
        },
        {
          "output_type": "stream",
          "name": "stdout",
          "text": [
            "Downloading data from https://s3.amazonaws.com/fcp-indi/data/Projects/ABIDE_Initiative/Outputs/cpac/filt_noglobal/rois_ho/UM_1_0050274_rois_ho.1D ...\n"
          ]
        },
        {
          "output_type": "stream",
          "name": "stderr",
          "text": [
            " ...done. (1 seconds, 0 min)\n"
          ]
        },
        {
          "output_type": "stream",
          "name": "stdout",
          "text": [
            "Downloading data from https://s3.amazonaws.com/fcp-indi/data/Projects/ABIDE_Initiative/Outputs/cpac/filt_noglobal/rois_ho/UM_1_0050275_rois_ho.1D ...\n"
          ]
        },
        {
          "output_type": "stream",
          "name": "stderr",
          "text": [
            " ...done. (1 seconds, 0 min)\n"
          ]
        },
        {
          "output_type": "stream",
          "name": "stdout",
          "text": [
            "Downloading data from https://s3.amazonaws.com/fcp-indi/data/Projects/ABIDE_Initiative/Outputs/cpac/filt_noglobal/rois_ho/UM_1_0050276_rois_ho.1D ...\n"
          ]
        },
        {
          "output_type": "stream",
          "name": "stderr",
          "text": [
            " ...done. (1 seconds, 0 min)\n"
          ]
        },
        {
          "output_type": "stream",
          "name": "stdout",
          "text": [
            "Downloading data from https://s3.amazonaws.com/fcp-indi/data/Projects/ABIDE_Initiative/Outputs/cpac/filt_noglobal/rois_ho/UM_1_0050277_rois_ho.1D ...\n"
          ]
        },
        {
          "output_type": "stream",
          "name": "stderr",
          "text": [
            " ...done. (1 seconds, 0 min)\n"
          ]
        },
        {
          "output_type": "stream",
          "name": "stdout",
          "text": [
            "Downloading data from https://s3.amazonaws.com/fcp-indi/data/Projects/ABIDE_Initiative/Outputs/cpac/filt_noglobal/rois_ho/UM_1_0050278_rois_ho.1D ...\n"
          ]
        },
        {
          "output_type": "stream",
          "name": "stderr",
          "text": [
            " ...done. (1 seconds, 0 min)\n"
          ]
        },
        {
          "output_type": "stream",
          "name": "stdout",
          "text": [
            "Downloading data from https://s3.amazonaws.com/fcp-indi/data/Projects/ABIDE_Initiative/Outputs/cpac/filt_noglobal/rois_ho/UM_1_0050279_rois_ho.1D ...\n"
          ]
        },
        {
          "output_type": "stream",
          "name": "stderr",
          "text": [
            " ...done. (1 seconds, 0 min)\n"
          ]
        },
        {
          "output_type": "stream",
          "name": "stdout",
          "text": [
            "Downloading data from https://s3.amazonaws.com/fcp-indi/data/Projects/ABIDE_Initiative/Outputs/cpac/filt_noglobal/rois_ho/UM_1_0050280_rois_ho.1D ...\n"
          ]
        },
        {
          "output_type": "stream",
          "name": "stderr",
          "text": [
            " ...done. (1 seconds, 0 min)\n"
          ]
        },
        {
          "output_type": "stream",
          "name": "stdout",
          "text": [
            "Downloading data from https://s3.amazonaws.com/fcp-indi/data/Projects/ABIDE_Initiative/Outputs/cpac/filt_noglobal/rois_ho/UM_1_0050281_rois_ho.1D ...\n"
          ]
        },
        {
          "output_type": "stream",
          "name": "stderr",
          "text": [
            " ...done. (1 seconds, 0 min)\n"
          ]
        },
        {
          "output_type": "stream",
          "name": "stdout",
          "text": [
            "Downloading data from https://s3.amazonaws.com/fcp-indi/data/Projects/ABIDE_Initiative/Outputs/cpac/filt_noglobal/rois_ho/UM_1_0050282_rois_ho.1D ...\n"
          ]
        },
        {
          "output_type": "stream",
          "name": "stderr",
          "text": [
            " ...done. (1 seconds, 0 min)\n"
          ]
        },
        {
          "output_type": "stream",
          "name": "stdout",
          "text": [
            "Downloading data from https://s3.amazonaws.com/fcp-indi/data/Projects/ABIDE_Initiative/Outputs/cpac/filt_noglobal/rois_ho/UM_1_0050283_rois_ho.1D ...\n"
          ]
        },
        {
          "output_type": "stream",
          "name": "stderr",
          "text": [
            " ...done. (1 seconds, 0 min)\n"
          ]
        },
        {
          "output_type": "stream",
          "name": "stdout",
          "text": [
            "Downloading data from https://s3.amazonaws.com/fcp-indi/data/Projects/ABIDE_Initiative/Outputs/cpac/filt_noglobal/rois_ho/UM_1_0050284_rois_ho.1D ...\n"
          ]
        },
        {
          "output_type": "stream",
          "name": "stderr",
          "text": [
            " ...done. (1 seconds, 0 min)\n"
          ]
        },
        {
          "output_type": "stream",
          "name": "stdout",
          "text": [
            "Downloading data from https://s3.amazonaws.com/fcp-indi/data/Projects/ABIDE_Initiative/Outputs/cpac/filt_noglobal/rois_ho/UM_1_0050285_rois_ho.1D ...\n"
          ]
        },
        {
          "output_type": "stream",
          "name": "stderr",
          "text": [
            " ...done. (1 seconds, 0 min)\n"
          ]
        },
        {
          "output_type": "stream",
          "name": "stdout",
          "text": [
            "Downloading data from https://s3.amazonaws.com/fcp-indi/data/Projects/ABIDE_Initiative/Outputs/cpac/filt_noglobal/rois_ho/UM_1_0050286_rois_ho.1D ...\n"
          ]
        },
        {
          "output_type": "stream",
          "name": "stderr",
          "text": [
            " ...done. (1 seconds, 0 min)\n"
          ]
        },
        {
          "output_type": "stream",
          "name": "stdout",
          "text": [
            "Downloading data from https://s3.amazonaws.com/fcp-indi/data/Projects/ABIDE_Initiative/Outputs/cpac/filt_noglobal/rois_ho/UM_1_0050287_rois_ho.1D ...\n"
          ]
        },
        {
          "output_type": "stream",
          "name": "stderr",
          "text": [
            " ...done. (1 seconds, 0 min)\n"
          ]
        },
        {
          "output_type": "stream",
          "name": "stdout",
          "text": [
            "Downloading data from https://s3.amazonaws.com/fcp-indi/data/Projects/ABIDE_Initiative/Outputs/cpac/filt_noglobal/rois_ho/UM_1_0050288_rois_ho.1D ...\n"
          ]
        },
        {
          "output_type": "stream",
          "name": "stderr",
          "text": [
            " ...done. (1 seconds, 0 min)\n"
          ]
        },
        {
          "output_type": "stream",
          "name": "stdout",
          "text": [
            "Downloading data from https://s3.amazonaws.com/fcp-indi/data/Projects/ABIDE_Initiative/Outputs/cpac/filt_noglobal/rois_ho/UM_1_0050289_rois_ho.1D ...\n"
          ]
        },
        {
          "output_type": "stream",
          "name": "stderr",
          "text": [
            " ...done. (1 seconds, 0 min)\n"
          ]
        },
        {
          "output_type": "stream",
          "name": "stdout",
          "text": [
            "Downloading data from https://s3.amazonaws.com/fcp-indi/data/Projects/ABIDE_Initiative/Outputs/cpac/filt_noglobal/rois_ho/UM_1_0050290_rois_ho.1D ...\n"
          ]
        },
        {
          "output_type": "stream",
          "name": "stderr",
          "text": [
            " ...done. (1 seconds, 0 min)\n"
          ]
        },
        {
          "output_type": "stream",
          "name": "stdout",
          "text": [
            "Downloading data from https://s3.amazonaws.com/fcp-indi/data/Projects/ABIDE_Initiative/Outputs/cpac/filt_noglobal/rois_ho/UM_1_0050291_rois_ho.1D ...\n"
          ]
        },
        {
          "output_type": "stream",
          "name": "stderr",
          "text": [
            " ...done. (1 seconds, 0 min)\n"
          ]
        },
        {
          "output_type": "stream",
          "name": "stdout",
          "text": [
            "Downloading data from https://s3.amazonaws.com/fcp-indi/data/Projects/ABIDE_Initiative/Outputs/cpac/filt_noglobal/rois_ho/UM_1_0050292_rois_ho.1D ...\n"
          ]
        },
        {
          "output_type": "stream",
          "name": "stderr",
          "text": [
            " ...done. (1 seconds, 0 min)\n"
          ]
        },
        {
          "output_type": "stream",
          "name": "stdout",
          "text": [
            "Downloading data from https://s3.amazonaws.com/fcp-indi/data/Projects/ABIDE_Initiative/Outputs/cpac/filt_noglobal/rois_ho/UM_1_0050293_rois_ho.1D ...\n"
          ]
        },
        {
          "output_type": "stream",
          "name": "stderr",
          "text": [
            " ...done. (1 seconds, 0 min)\n"
          ]
        },
        {
          "output_type": "stream",
          "name": "stdout",
          "text": [
            "Downloading data from https://s3.amazonaws.com/fcp-indi/data/Projects/ABIDE_Initiative/Outputs/cpac/filt_noglobal/rois_ho/UM_1_0050294_rois_ho.1D ...\n"
          ]
        },
        {
          "output_type": "stream",
          "name": "stderr",
          "text": [
            " ...done. (1 seconds, 0 min)\n"
          ]
        },
        {
          "output_type": "stream",
          "name": "stdout",
          "text": [
            "Downloading data from https://s3.amazonaws.com/fcp-indi/data/Projects/ABIDE_Initiative/Outputs/cpac/filt_noglobal/rois_ho/UM_1_0050295_rois_ho.1D ...\n"
          ]
        },
        {
          "output_type": "stream",
          "name": "stderr",
          "text": [
            " ...done. (1 seconds, 0 min)\n"
          ]
        },
        {
          "output_type": "stream",
          "name": "stdout",
          "text": [
            "Downloading data from https://s3.amazonaws.com/fcp-indi/data/Projects/ABIDE_Initiative/Outputs/cpac/filt_noglobal/rois_ho/UM_1_0050296_rois_ho.1D ...\n"
          ]
        },
        {
          "output_type": "stream",
          "name": "stderr",
          "text": [
            " ...done. (1 seconds, 0 min)\n"
          ]
        },
        {
          "output_type": "stream",
          "name": "stdout",
          "text": [
            "Downloading data from https://s3.amazonaws.com/fcp-indi/data/Projects/ABIDE_Initiative/Outputs/cpac/filt_noglobal/rois_ho/UM_1_0050297_rois_ho.1D ...\n"
          ]
        },
        {
          "output_type": "stream",
          "name": "stderr",
          "text": [
            " ...done. (1 seconds, 0 min)\n"
          ]
        },
        {
          "output_type": "stream",
          "name": "stdout",
          "text": [
            "Downloading data from https://s3.amazonaws.com/fcp-indi/data/Projects/ABIDE_Initiative/Outputs/cpac/filt_noglobal/rois_ho/UM_1_0050298_rois_ho.1D ...\n"
          ]
        },
        {
          "output_type": "stream",
          "name": "stderr",
          "text": [
            " ...done. (1 seconds, 0 min)\n"
          ]
        },
        {
          "output_type": "stream",
          "name": "stdout",
          "text": [
            "Downloading data from https://s3.amazonaws.com/fcp-indi/data/Projects/ABIDE_Initiative/Outputs/cpac/filt_noglobal/rois_ho/UM_1_0050299_rois_ho.1D ...\n"
          ]
        },
        {
          "output_type": "stream",
          "name": "stderr",
          "text": [
            " ...done. (1 seconds, 0 min)\n"
          ]
        },
        {
          "output_type": "stream",
          "name": "stdout",
          "text": [
            "Downloading data from https://s3.amazonaws.com/fcp-indi/data/Projects/ABIDE_Initiative/Outputs/cpac/filt_noglobal/rois_ho/UM_1_0050300_rois_ho.1D ...\n"
          ]
        },
        {
          "output_type": "stream",
          "name": "stderr",
          "text": [
            " ...done. (1 seconds, 0 min)\n"
          ]
        },
        {
          "output_type": "stream",
          "name": "stdout",
          "text": [
            "Downloading data from https://s3.amazonaws.com/fcp-indi/data/Projects/ABIDE_Initiative/Outputs/cpac/filt_noglobal/rois_ho/UM_1_0050301_rois_ho.1D ...\n"
          ]
        },
        {
          "output_type": "stream",
          "name": "stderr",
          "text": [
            " ...done. (1 seconds, 0 min)\n"
          ]
        },
        {
          "output_type": "stream",
          "name": "stdout",
          "text": [
            "Downloading data from https://s3.amazonaws.com/fcp-indi/data/Projects/ABIDE_Initiative/Outputs/cpac/filt_noglobal/rois_ho/UM_1_0050302_rois_ho.1D ...\n"
          ]
        },
        {
          "output_type": "stream",
          "name": "stderr",
          "text": [
            " ...done. (1 seconds, 0 min)\n"
          ]
        },
        {
          "output_type": "stream",
          "name": "stdout",
          "text": [
            "Downloading data from https://s3.amazonaws.com/fcp-indi/data/Projects/ABIDE_Initiative/Outputs/cpac/filt_noglobal/rois_ho/UM_1_0050303_rois_ho.1D ...\n"
          ]
        },
        {
          "output_type": "stream",
          "name": "stderr",
          "text": [
            " ...done. (1 seconds, 0 min)\n"
          ]
        },
        {
          "output_type": "stream",
          "name": "stdout",
          "text": [
            "Downloading data from https://s3.amazonaws.com/fcp-indi/data/Projects/ABIDE_Initiative/Outputs/cpac/filt_noglobal/rois_ho/UM_1_0050304_rois_ho.1D ...\n"
          ]
        },
        {
          "output_type": "stream",
          "name": "stderr",
          "text": [
            " ...done. (1 seconds, 0 min)\n"
          ]
        },
        {
          "output_type": "stream",
          "name": "stdout",
          "text": [
            "Downloading data from https://s3.amazonaws.com/fcp-indi/data/Projects/ABIDE_Initiative/Outputs/cpac/filt_noglobal/rois_ho/UM_1_0050305_rois_ho.1D ...\n"
          ]
        },
        {
          "output_type": "stream",
          "name": "stderr",
          "text": [
            " ...done. (1 seconds, 0 min)\n"
          ]
        },
        {
          "output_type": "stream",
          "name": "stdout",
          "text": [
            "Downloading data from https://s3.amazonaws.com/fcp-indi/data/Projects/ABIDE_Initiative/Outputs/cpac/filt_noglobal/rois_ho/UM_1_0050306_rois_ho.1D ...\n"
          ]
        },
        {
          "output_type": "stream",
          "name": "stderr",
          "text": [
            " ...done. (1 seconds, 0 min)\n"
          ]
        },
        {
          "output_type": "stream",
          "name": "stdout",
          "text": [
            "Downloading data from https://s3.amazonaws.com/fcp-indi/data/Projects/ABIDE_Initiative/Outputs/cpac/filt_noglobal/rois_ho/UM_1_0050307_rois_ho.1D ...\n"
          ]
        },
        {
          "output_type": "stream",
          "name": "stderr",
          "text": [
            " ...done. (1 seconds, 0 min)\n"
          ]
        },
        {
          "output_type": "stream",
          "name": "stdout",
          "text": [
            "Downloading data from https://s3.amazonaws.com/fcp-indi/data/Projects/ABIDE_Initiative/Outputs/cpac/filt_noglobal/rois_ho/UM_1_0050308_rois_ho.1D ...\n"
          ]
        },
        {
          "output_type": "stream",
          "name": "stderr",
          "text": [
            " ...done. (1 seconds, 0 min)\n"
          ]
        },
        {
          "output_type": "stream",
          "name": "stdout",
          "text": [
            "Downloading data from https://s3.amazonaws.com/fcp-indi/data/Projects/ABIDE_Initiative/Outputs/cpac/filt_noglobal/rois_ho/UM_1_0050310_rois_ho.1D ...\n"
          ]
        },
        {
          "output_type": "stream",
          "name": "stderr",
          "text": [
            " ...done. (1 seconds, 0 min)\n"
          ]
        },
        {
          "output_type": "stream",
          "name": "stdout",
          "text": [
            "Downloading data from https://s3.amazonaws.com/fcp-indi/data/Projects/ABIDE_Initiative/Outputs/cpac/filt_noglobal/rois_ho/UM_1_0050311_rois_ho.1D ...\n"
          ]
        },
        {
          "output_type": "stream",
          "name": "stderr",
          "text": [
            " ...done. (1 seconds, 0 min)\n"
          ]
        },
        {
          "output_type": "stream",
          "name": "stdout",
          "text": [
            "Downloading data from https://s3.amazonaws.com/fcp-indi/data/Projects/ABIDE_Initiative/Outputs/cpac/filt_noglobal/rois_ho/UM_1_0050312_rois_ho.1D ...\n"
          ]
        },
        {
          "output_type": "stream",
          "name": "stderr",
          "text": [
            " ...done. (1 seconds, 0 min)\n"
          ]
        },
        {
          "output_type": "stream",
          "name": "stdout",
          "text": [
            "Downloading data from https://s3.amazonaws.com/fcp-indi/data/Projects/ABIDE_Initiative/Outputs/cpac/filt_noglobal/rois_ho/UM_1_0050313_rois_ho.1D ...\n"
          ]
        },
        {
          "output_type": "stream",
          "name": "stderr",
          "text": [
            " ...done. (1 seconds, 0 min)\n"
          ]
        },
        {
          "output_type": "stream",
          "name": "stdout",
          "text": [
            "Downloading data from https://s3.amazonaws.com/fcp-indi/data/Projects/ABIDE_Initiative/Outputs/cpac/filt_noglobal/rois_ho/UM_1_0050314_rois_ho.1D ...\n"
          ]
        },
        {
          "output_type": "stream",
          "name": "stderr",
          "text": [
            " ...done. (1 seconds, 0 min)\n"
          ]
        },
        {
          "output_type": "stream",
          "name": "stdout",
          "text": [
            "Downloading data from https://s3.amazonaws.com/fcp-indi/data/Projects/ABIDE_Initiative/Outputs/cpac/filt_noglobal/rois_ho/UM_1_0050315_rois_ho.1D ...\n"
          ]
        },
        {
          "output_type": "stream",
          "name": "stderr",
          "text": [
            " ...done. (1 seconds, 0 min)\n"
          ]
        },
        {
          "output_type": "stream",
          "name": "stdout",
          "text": [
            "Downloading data from https://s3.amazonaws.com/fcp-indi/data/Projects/ABIDE_Initiative/Outputs/cpac/filt_noglobal/rois_ho/UM_1_0050316_rois_ho.1D ...\n"
          ]
        },
        {
          "output_type": "stream",
          "name": "stderr",
          "text": [
            " ...done. (1 seconds, 0 min)\n"
          ]
        },
        {
          "output_type": "stream",
          "name": "stdout",
          "text": [
            "Downloading data from https://s3.amazonaws.com/fcp-indi/data/Projects/ABIDE_Initiative/Outputs/cpac/filt_noglobal/rois_ho/UM_1_0050317_rois_ho.1D ...\n"
          ]
        },
        {
          "output_type": "stream",
          "name": "stderr",
          "text": [
            " ...done. (1 seconds, 0 min)\n"
          ]
        },
        {
          "output_type": "stream",
          "name": "stdout",
          "text": [
            "Downloading data from https://s3.amazonaws.com/fcp-indi/data/Projects/ABIDE_Initiative/Outputs/cpac/filt_noglobal/rois_ho/UM_1_0050318_rois_ho.1D ...\n"
          ]
        },
        {
          "output_type": "stream",
          "name": "stderr",
          "text": [
            " ...done. (1 seconds, 0 min)\n"
          ]
        },
        {
          "output_type": "stream",
          "name": "stdout",
          "text": [
            "Downloading data from https://s3.amazonaws.com/fcp-indi/data/Projects/ABIDE_Initiative/Outputs/cpac/filt_noglobal/rois_ho/UM_1_0050319_rois_ho.1D ...\n"
          ]
        },
        {
          "output_type": "stream",
          "name": "stderr",
          "text": [
            " ...done. (1 seconds, 0 min)\n"
          ]
        },
        {
          "output_type": "stream",
          "name": "stdout",
          "text": [
            "Downloading data from https://s3.amazonaws.com/fcp-indi/data/Projects/ABIDE_Initiative/Outputs/cpac/filt_noglobal/rois_ho/UM_1_0050320_rois_ho.1D ...\n"
          ]
        },
        {
          "output_type": "stream",
          "name": "stderr",
          "text": [
            " ...done. (1 seconds, 0 min)\n"
          ]
        },
        {
          "output_type": "stream",
          "name": "stdout",
          "text": [
            "Downloading data from https://s3.amazonaws.com/fcp-indi/data/Projects/ABIDE_Initiative/Outputs/cpac/filt_noglobal/rois_ho/UM_1_0050321_rois_ho.1D ...\n"
          ]
        },
        {
          "output_type": "stream",
          "name": "stderr",
          "text": [
            " ...done. (1 seconds, 0 min)\n"
          ]
        },
        {
          "output_type": "stream",
          "name": "stdout",
          "text": [
            "Downloading data from https://s3.amazonaws.com/fcp-indi/data/Projects/ABIDE_Initiative/Outputs/cpac/filt_noglobal/rois_ho/UM_1_0050322_rois_ho.1D ...\n"
          ]
        },
        {
          "output_type": "stream",
          "name": "stderr",
          "text": [
            " ...done. (1 seconds, 0 min)\n"
          ]
        },
        {
          "output_type": "stream",
          "name": "stdout",
          "text": [
            "Downloading data from https://s3.amazonaws.com/fcp-indi/data/Projects/ABIDE_Initiative/Outputs/cpac/filt_noglobal/rois_ho/UM_1_0050324_rois_ho.1D ...\n"
          ]
        },
        {
          "output_type": "stream",
          "name": "stderr",
          "text": [
            " ...done. (1 seconds, 0 min)\n"
          ]
        },
        {
          "output_type": "stream",
          "name": "stdout",
          "text": [
            "Downloading data from https://s3.amazonaws.com/fcp-indi/data/Projects/ABIDE_Initiative/Outputs/cpac/filt_noglobal/rois_ho/UM_1_0050325_rois_ho.1D ...\n"
          ]
        },
        {
          "output_type": "stream",
          "name": "stderr",
          "text": [
            " ...done. (1 seconds, 0 min)\n"
          ]
        },
        {
          "output_type": "stream",
          "name": "stdout",
          "text": [
            "Downloading data from https://s3.amazonaws.com/fcp-indi/data/Projects/ABIDE_Initiative/Outputs/cpac/filt_noglobal/rois_ho/UM_1_0050326_rois_ho.1D ...\n"
          ]
        },
        {
          "output_type": "stream",
          "name": "stderr",
          "text": [
            " ...done. (1 seconds, 0 min)\n"
          ]
        },
        {
          "output_type": "stream",
          "name": "stdout",
          "text": [
            "Downloading data from https://s3.amazonaws.com/fcp-indi/data/Projects/ABIDE_Initiative/Outputs/cpac/filt_noglobal/rois_ho/UM_1_0050327_rois_ho.1D ...\n"
          ]
        },
        {
          "output_type": "stream",
          "name": "stderr",
          "text": [
            " ...done. (1 seconds, 0 min)\n"
          ]
        },
        {
          "output_type": "stream",
          "name": "stdout",
          "text": [
            "Downloading data from https://s3.amazonaws.com/fcp-indi/data/Projects/ABIDE_Initiative/Outputs/cpac/filt_noglobal/rois_ho/UM_1_0050329_rois_ho.1D ...\n"
          ]
        },
        {
          "output_type": "stream",
          "name": "stderr",
          "text": [
            " ...done. (1 seconds, 0 min)\n"
          ]
        },
        {
          "output_type": "stream",
          "name": "stdout",
          "text": [
            "Downloading data from https://s3.amazonaws.com/fcp-indi/data/Projects/ABIDE_Initiative/Outputs/cpac/filt_noglobal/rois_ho/UM_1_0050330_rois_ho.1D ...\n"
          ]
        },
        {
          "output_type": "stream",
          "name": "stderr",
          "text": [
            " ...done. (1 seconds, 0 min)\n"
          ]
        },
        {
          "output_type": "stream",
          "name": "stdout",
          "text": [
            "Downloading data from https://s3.amazonaws.com/fcp-indi/data/Projects/ABIDE_Initiative/Outputs/cpac/filt_noglobal/rois_ho/UM_1_0050331_rois_ho.1D ...\n"
          ]
        },
        {
          "output_type": "stream",
          "name": "stderr",
          "text": [
            " ...done. (1 seconds, 0 min)\n"
          ]
        },
        {
          "output_type": "stream",
          "name": "stdout",
          "text": [
            "Downloading data from https://s3.amazonaws.com/fcp-indi/data/Projects/ABIDE_Initiative/Outputs/cpac/filt_noglobal/rois_ho/UM_1_0050332_rois_ho.1D ...\n"
          ]
        },
        {
          "output_type": "stream",
          "name": "stderr",
          "text": [
            " ...done. (1 seconds, 0 min)\n"
          ]
        },
        {
          "output_type": "stream",
          "name": "stdout",
          "text": [
            "Downloading data from https://s3.amazonaws.com/fcp-indi/data/Projects/ABIDE_Initiative/Outputs/cpac/filt_noglobal/rois_ho/UM_1_0050333_rois_ho.1D ...\n"
          ]
        },
        {
          "output_type": "stream",
          "name": "stderr",
          "text": [
            " ...done. (1 seconds, 0 min)\n"
          ]
        },
        {
          "output_type": "stream",
          "name": "stdout",
          "text": [
            "Downloading data from https://s3.amazonaws.com/fcp-indi/data/Projects/ABIDE_Initiative/Outputs/cpac/filt_noglobal/rois_ho/UM_1_0050334_rois_ho.1D ...\n"
          ]
        },
        {
          "output_type": "stream",
          "name": "stderr",
          "text": [
            " ...done. (1 seconds, 0 min)\n"
          ]
        },
        {
          "output_type": "stream",
          "name": "stdout",
          "text": [
            "Downloading data from https://s3.amazonaws.com/fcp-indi/data/Projects/ABIDE_Initiative/Outputs/cpac/filt_noglobal/rois_ho/UM_1_0050335_rois_ho.1D ...\n"
          ]
        },
        {
          "output_type": "stream",
          "name": "stderr",
          "text": [
            " ...done. (1 seconds, 0 min)\n"
          ]
        },
        {
          "output_type": "stream",
          "name": "stdout",
          "text": [
            "Downloading data from https://s3.amazonaws.com/fcp-indi/data/Projects/ABIDE_Initiative/Outputs/cpac/filt_noglobal/rois_ho/UM_1_0050336_rois_ho.1D ...\n"
          ]
        },
        {
          "output_type": "stream",
          "name": "stderr",
          "text": [
            " ...done. (1 seconds, 0 min)\n"
          ]
        },
        {
          "output_type": "stream",
          "name": "stdout",
          "text": [
            "Downloading data from https://s3.amazonaws.com/fcp-indi/data/Projects/ABIDE_Initiative/Outputs/cpac/filt_noglobal/rois_ho/UM_1_0050337_rois_ho.1D ...\n"
          ]
        },
        {
          "output_type": "stream",
          "name": "stderr",
          "text": [
            " ...done. (1 seconds, 0 min)\n"
          ]
        },
        {
          "output_type": "stream",
          "name": "stdout",
          "text": [
            "Downloading data from https://s3.amazonaws.com/fcp-indi/data/Projects/ABIDE_Initiative/Outputs/cpac/filt_noglobal/rois_ho/UM_1_0050338_rois_ho.1D ...\n"
          ]
        },
        {
          "output_type": "stream",
          "name": "stderr",
          "text": [
            " ...done. (1 seconds, 0 min)\n"
          ]
        },
        {
          "output_type": "stream",
          "name": "stdout",
          "text": [
            "Downloading data from https://s3.amazonaws.com/fcp-indi/data/Projects/ABIDE_Initiative/Outputs/cpac/filt_noglobal/rois_ho/UM_1_0050339_rois_ho.1D ...\n"
          ]
        },
        {
          "output_type": "stream",
          "name": "stderr",
          "text": [
            " ...done. (1 seconds, 0 min)\n"
          ]
        },
        {
          "output_type": "stream",
          "name": "stdout",
          "text": [
            "Downloading data from https://s3.amazonaws.com/fcp-indi/data/Projects/ABIDE_Initiative/Outputs/cpac/filt_noglobal/rois_ho/UM_1_0050340_rois_ho.1D ...\n"
          ]
        },
        {
          "output_type": "stream",
          "name": "stderr",
          "text": [
            " ...done. (1 seconds, 0 min)\n"
          ]
        },
        {
          "output_type": "stream",
          "name": "stdout",
          "text": [
            "Downloading data from https://s3.amazonaws.com/fcp-indi/data/Projects/ABIDE_Initiative/Outputs/cpac/filt_noglobal/rois_ho/UM_1_0050341_rois_ho.1D ...\n"
          ]
        },
        {
          "output_type": "stream",
          "name": "stderr",
          "text": [
            " ...done. (1 seconds, 0 min)\n"
          ]
        },
        {
          "output_type": "stream",
          "name": "stdout",
          "text": [
            "Downloading data from https://s3.amazonaws.com/fcp-indi/data/Projects/ABIDE_Initiative/Outputs/cpac/filt_noglobal/rois_ho/UM_1_0050342_rois_ho.1D ...\n"
          ]
        },
        {
          "output_type": "stream",
          "name": "stderr",
          "text": [
            " ...done. (1 seconds, 0 min)\n"
          ]
        },
        {
          "output_type": "stream",
          "name": "stdout",
          "text": [
            "Downloading data from https://s3.amazonaws.com/fcp-indi/data/Projects/ABIDE_Initiative/Outputs/cpac/filt_noglobal/rois_ho/UM_1_0050343_rois_ho.1D ...\n"
          ]
        },
        {
          "output_type": "stream",
          "name": "stderr",
          "text": [
            " ...done. (1 seconds, 0 min)\n"
          ]
        },
        {
          "output_type": "stream",
          "name": "stdout",
          "text": [
            "Downloading data from https://s3.amazonaws.com/fcp-indi/data/Projects/ABIDE_Initiative/Outputs/cpac/filt_noglobal/rois_ho/UM_1_0050344_rois_ho.1D ...\n"
          ]
        },
        {
          "output_type": "stream",
          "name": "stderr",
          "text": [
            " ...done. (1 seconds, 0 min)\n"
          ]
        },
        {
          "output_type": "stream",
          "name": "stdout",
          "text": [
            "Downloading data from https://s3.amazonaws.com/fcp-indi/data/Projects/ABIDE_Initiative/Outputs/cpac/filt_noglobal/rois_ho/UM_1_0050345_rois_ho.1D ...\n"
          ]
        },
        {
          "output_type": "stream",
          "name": "stderr",
          "text": [
            " ...done. (1 seconds, 0 min)\n"
          ]
        },
        {
          "output_type": "stream",
          "name": "stdout",
          "text": [
            "Downloading data from https://s3.amazonaws.com/fcp-indi/data/Projects/ABIDE_Initiative/Outputs/cpac/filt_noglobal/rois_ho/UM_1_0050346_rois_ho.1D ...\n"
          ]
        },
        {
          "output_type": "stream",
          "name": "stderr",
          "text": [
            " ...done. (1 seconds, 0 min)\n"
          ]
        },
        {
          "output_type": "stream",
          "name": "stdout",
          "text": [
            "Downloading data from https://s3.amazonaws.com/fcp-indi/data/Projects/ABIDE_Initiative/Outputs/cpac/filt_noglobal/rois_ho/UM_1_0050347_rois_ho.1D ...\n"
          ]
        },
        {
          "output_type": "stream",
          "name": "stderr",
          "text": [
            " ...done. (1 seconds, 0 min)\n"
          ]
        },
        {
          "output_type": "stream",
          "name": "stdout",
          "text": [
            "Downloading data from https://s3.amazonaws.com/fcp-indi/data/Projects/ABIDE_Initiative/Outputs/cpac/filt_noglobal/rois_ho/UM_1_0050348_rois_ho.1D ...\n"
          ]
        },
        {
          "output_type": "stream",
          "name": "stderr",
          "text": [
            " ...done. (1 seconds, 0 min)\n"
          ]
        },
        {
          "output_type": "stream",
          "name": "stdout",
          "text": [
            "Downloading data from https://s3.amazonaws.com/fcp-indi/data/Projects/ABIDE_Initiative/Outputs/cpac/filt_noglobal/rois_ho/UM_1_0050349_rois_ho.1D ...\n"
          ]
        },
        {
          "output_type": "stream",
          "name": "stderr",
          "text": [
            " ...done. (1 seconds, 0 min)\n"
          ]
        },
        {
          "output_type": "stream",
          "name": "stdout",
          "text": [
            "Downloading data from https://s3.amazonaws.com/fcp-indi/data/Projects/ABIDE_Initiative/Outputs/cpac/filt_noglobal/rois_ho/UM_1_0050350_rois_ho.1D ...\n"
          ]
        },
        {
          "output_type": "stream",
          "name": "stderr",
          "text": [
            " ...done. (1 seconds, 0 min)\n"
          ]
        },
        {
          "output_type": "stream",
          "name": "stdout",
          "text": [
            "Downloading data from https://s3.amazonaws.com/fcp-indi/data/Projects/ABIDE_Initiative/Outputs/cpac/filt_noglobal/rois_ho/UM_1_0050351_rois_ho.1D ...\n"
          ]
        },
        {
          "output_type": "stream",
          "name": "stderr",
          "text": [
            " ...done. (1 seconds, 0 min)\n"
          ]
        },
        {
          "output_type": "stream",
          "name": "stdout",
          "text": [
            "Downloading data from https://s3.amazonaws.com/fcp-indi/data/Projects/ABIDE_Initiative/Outputs/cpac/filt_noglobal/rois_ho/UM_1_0050352_rois_ho.1D ...\n"
          ]
        },
        {
          "output_type": "stream",
          "name": "stderr",
          "text": [
            " ...done. (1 seconds, 0 min)\n"
          ]
        },
        {
          "output_type": "stream",
          "name": "stdout",
          "text": [
            "Downloading data from https://s3.amazonaws.com/fcp-indi/data/Projects/ABIDE_Initiative/Outputs/cpac/filt_noglobal/rois_ho/UM_1_0050353_rois_ho.1D ...\n"
          ]
        },
        {
          "output_type": "stream",
          "name": "stderr",
          "text": [
            " ...done. (1 seconds, 0 min)\n"
          ]
        },
        {
          "output_type": "stream",
          "name": "stdout",
          "text": [
            "Downloading data from https://s3.amazonaws.com/fcp-indi/data/Projects/ABIDE_Initiative/Outputs/cpac/filt_noglobal/rois_ho/UM_1_0050354_rois_ho.1D ...\n"
          ]
        },
        {
          "output_type": "stream",
          "name": "stderr",
          "text": [
            " ...done. (1 seconds, 0 min)\n"
          ]
        },
        {
          "output_type": "stream",
          "name": "stdout",
          "text": [
            "Downloading data from https://s3.amazonaws.com/fcp-indi/data/Projects/ABIDE_Initiative/Outputs/cpac/filt_noglobal/rois_ho/UM_1_0050355_rois_ho.1D ...\n"
          ]
        },
        {
          "output_type": "stream",
          "name": "stderr",
          "text": [
            " ...done. (1 seconds, 0 min)\n"
          ]
        },
        {
          "output_type": "stream",
          "name": "stdout",
          "text": [
            "Downloading data from https://s3.amazonaws.com/fcp-indi/data/Projects/ABIDE_Initiative/Outputs/cpac/filt_noglobal/rois_ho/UM_1_0050356_rois_ho.1D ...\n"
          ]
        },
        {
          "output_type": "stream",
          "name": "stderr",
          "text": [
            " ...done. (1 seconds, 0 min)\n"
          ]
        },
        {
          "output_type": "stream",
          "name": "stdout",
          "text": [
            "Downloading data from https://s3.amazonaws.com/fcp-indi/data/Projects/ABIDE_Initiative/Outputs/cpac/filt_noglobal/rois_ho/UM_1_0050357_rois_ho.1D ...\n"
          ]
        },
        {
          "output_type": "stream",
          "name": "stderr",
          "text": [
            " ...done. (1 seconds, 0 min)\n"
          ]
        },
        {
          "output_type": "stream",
          "name": "stdout",
          "text": [
            "Downloading data from https://s3.amazonaws.com/fcp-indi/data/Projects/ABIDE_Initiative/Outputs/cpac/filt_noglobal/rois_ho/UM_1_0050358_rois_ho.1D ...\n"
          ]
        },
        {
          "output_type": "stream",
          "name": "stderr",
          "text": [
            " ...done. (1 seconds, 0 min)\n"
          ]
        },
        {
          "output_type": "stream",
          "name": "stdout",
          "text": [
            "Downloading data from https://s3.amazonaws.com/fcp-indi/data/Projects/ABIDE_Initiative/Outputs/cpac/filt_noglobal/rois_ho/UM_1_0050359_rois_ho.1D ...\n"
          ]
        },
        {
          "output_type": "stream",
          "name": "stderr",
          "text": [
            " ...done. (1 seconds, 0 min)\n"
          ]
        },
        {
          "output_type": "stream",
          "name": "stdout",
          "text": [
            "Downloading data from https://s3.amazonaws.com/fcp-indi/data/Projects/ABIDE_Initiative/Outputs/cpac/filt_noglobal/rois_ho/UM_1_0050360_rois_ho.1D ...\n"
          ]
        },
        {
          "output_type": "stream",
          "name": "stderr",
          "text": [
            " ...done. (1 seconds, 0 min)\n"
          ]
        },
        {
          "output_type": "stream",
          "name": "stdout",
          "text": [
            "Downloading data from https://s3.amazonaws.com/fcp-indi/data/Projects/ABIDE_Initiative/Outputs/cpac/filt_noglobal/rois_ho/UM_1_0050361_rois_ho.1D ...\n"
          ]
        },
        {
          "output_type": "stream",
          "name": "stderr",
          "text": [
            " ...done. (1 seconds, 0 min)\n"
          ]
        },
        {
          "output_type": "stream",
          "name": "stdout",
          "text": [
            "Downloading data from https://s3.amazonaws.com/fcp-indi/data/Projects/ABIDE_Initiative/Outputs/cpac/filt_noglobal/rois_ho/UM_1_0050362_rois_ho.1D ...\n"
          ]
        },
        {
          "output_type": "stream",
          "name": "stderr",
          "text": [
            " ...done. (1 seconds, 0 min)\n"
          ]
        },
        {
          "output_type": "stream",
          "name": "stdout",
          "text": [
            "Downloading data from https://s3.amazonaws.com/fcp-indi/data/Projects/ABIDE_Initiative/Outputs/cpac/filt_noglobal/rois_ho/UM_1_0050363_rois_ho.1D ...\n"
          ]
        },
        {
          "output_type": "stream",
          "name": "stderr",
          "text": [
            " ...done. (1 seconds, 0 min)\n"
          ]
        },
        {
          "output_type": "stream",
          "name": "stdout",
          "text": [
            "Downloading data from https://s3.amazonaws.com/fcp-indi/data/Projects/ABIDE_Initiative/Outputs/cpac/filt_noglobal/rois_ho/UM_1_0050364_rois_ho.1D ...\n"
          ]
        },
        {
          "output_type": "stream",
          "name": "stderr",
          "text": [
            " ...done. (1 seconds, 0 min)\n"
          ]
        },
        {
          "output_type": "stream",
          "name": "stdout",
          "text": [
            "Downloading data from https://s3.amazonaws.com/fcp-indi/data/Projects/ABIDE_Initiative/Outputs/cpac/filt_noglobal/rois_ho/UM_1_0050365_rois_ho.1D ...\n"
          ]
        },
        {
          "output_type": "stream",
          "name": "stderr",
          "text": [
            " ...done. (1 seconds, 0 min)\n"
          ]
        },
        {
          "output_type": "stream",
          "name": "stdout",
          "text": [
            "Downloading data from https://s3.amazonaws.com/fcp-indi/data/Projects/ABIDE_Initiative/Outputs/cpac/filt_noglobal/rois_ho/UM_1_0050366_rois_ho.1D ...\n"
          ]
        },
        {
          "output_type": "stream",
          "name": "stderr",
          "text": [
            " ...done. (1 seconds, 0 min)\n"
          ]
        },
        {
          "output_type": "stream",
          "name": "stdout",
          "text": [
            "Downloading data from https://s3.amazonaws.com/fcp-indi/data/Projects/ABIDE_Initiative/Outputs/cpac/filt_noglobal/rois_ho/UM_1_0050367_rois_ho.1D ...\n"
          ]
        },
        {
          "output_type": "stream",
          "name": "stderr",
          "text": [
            " ...done. (1 seconds, 0 min)\n"
          ]
        },
        {
          "output_type": "stream",
          "name": "stdout",
          "text": [
            "Downloading data from https://s3.amazonaws.com/fcp-indi/data/Projects/ABIDE_Initiative/Outputs/cpac/filt_noglobal/rois_ho/UM_1_0050368_rois_ho.1D ...\n"
          ]
        },
        {
          "output_type": "stream",
          "name": "stderr",
          "text": [
            " ...done. (1 seconds, 0 min)\n"
          ]
        },
        {
          "output_type": "stream",
          "name": "stdout",
          "text": [
            "Downloading data from https://s3.amazonaws.com/fcp-indi/data/Projects/ABIDE_Initiative/Outputs/cpac/filt_noglobal/rois_ho/UM_1_0050369_rois_ho.1D ...\n"
          ]
        },
        {
          "output_type": "stream",
          "name": "stderr",
          "text": [
            " ...done. (1 seconds, 0 min)\n"
          ]
        },
        {
          "output_type": "stream",
          "name": "stdout",
          "text": [
            "Downloading data from https://s3.amazonaws.com/fcp-indi/data/Projects/ABIDE_Initiative/Outputs/cpac/filt_noglobal/rois_ho/UM_1_0050370_rois_ho.1D ...\n"
          ]
        },
        {
          "output_type": "stream",
          "name": "stderr",
          "text": [
            " ...done. (1 seconds, 0 min)\n"
          ]
        },
        {
          "output_type": "stream",
          "name": "stdout",
          "text": [
            "Downloading data from https://s3.amazonaws.com/fcp-indi/data/Projects/ABIDE_Initiative/Outputs/cpac/filt_noglobal/rois_ho/UM_1_0050371_rois_ho.1D ...\n"
          ]
        },
        {
          "output_type": "stream",
          "name": "stderr",
          "text": [
            " ...done. (1 seconds, 0 min)\n"
          ]
        },
        {
          "output_type": "stream",
          "name": "stdout",
          "text": [
            "Downloading data from https://s3.amazonaws.com/fcp-indi/data/Projects/ABIDE_Initiative/Outputs/cpac/filt_noglobal/rois_ho/UM_1_0050372_rois_ho.1D ...\n"
          ]
        },
        {
          "output_type": "stream",
          "name": "stderr",
          "text": [
            " ...done. (1 seconds, 0 min)\n"
          ]
        },
        {
          "output_type": "stream",
          "name": "stdout",
          "text": [
            "Downloading data from https://s3.amazonaws.com/fcp-indi/data/Projects/ABIDE_Initiative/Outputs/cpac/filt_noglobal/rois_ho/UM_1_0050373_rois_ho.1D ...\n"
          ]
        },
        {
          "output_type": "stream",
          "name": "stderr",
          "text": [
            " ...done. (1 seconds, 0 min)\n"
          ]
        },
        {
          "output_type": "stream",
          "name": "stdout",
          "text": [
            "Downloading data from https://s3.amazonaws.com/fcp-indi/data/Projects/ABIDE_Initiative/Outputs/cpac/filt_noglobal/rois_ho/UM_1_0050374_rois_ho.1D ...\n"
          ]
        },
        {
          "output_type": "stream",
          "name": "stderr",
          "text": [
            " ...done. (1 seconds, 0 min)\n"
          ]
        },
        {
          "output_type": "stream",
          "name": "stdout",
          "text": [
            "Downloading data from https://s3.amazonaws.com/fcp-indi/data/Projects/ABIDE_Initiative/Outputs/cpac/filt_noglobal/rois_ho/UM_1_0050375_rois_ho.1D ...\n"
          ]
        },
        {
          "output_type": "stream",
          "name": "stderr",
          "text": [
            " ...done. (1 seconds, 0 min)\n"
          ]
        },
        {
          "output_type": "stream",
          "name": "stdout",
          "text": [
            "Downloading data from https://s3.amazonaws.com/fcp-indi/data/Projects/ABIDE_Initiative/Outputs/cpac/filt_noglobal/rois_ho/UM_1_0050376_rois_ho.1D ...\n"
          ]
        },
        {
          "output_type": "stream",
          "name": "stderr",
          "text": [
            " ...done. (1 seconds, 0 min)\n"
          ]
        },
        {
          "output_type": "stream",
          "name": "stdout",
          "text": [
            "Downloading data from https://s3.amazonaws.com/fcp-indi/data/Projects/ABIDE_Initiative/Outputs/cpac/filt_noglobal/rois_ho/UM_1_0050377_rois_ho.1D ...\n"
          ]
        },
        {
          "output_type": "stream",
          "name": "stderr",
          "text": [
            " ...done. (1 seconds, 0 min)\n"
          ]
        },
        {
          "output_type": "stream",
          "name": "stdout",
          "text": [
            "Downloading data from https://s3.amazonaws.com/fcp-indi/data/Projects/ABIDE_Initiative/Outputs/cpac/filt_noglobal/rois_ho/UM_1_0050379_rois_ho.1D ...\n"
          ]
        },
        {
          "output_type": "stream",
          "name": "stderr",
          "text": [
            " ...done. (1 seconds, 0 min)\n"
          ]
        },
        {
          "output_type": "stream",
          "name": "stdout",
          "text": [
            "Downloading data from https://s3.amazonaws.com/fcp-indi/data/Projects/ABIDE_Initiative/Outputs/cpac/filt_noglobal/rois_ho/UM_1_0050380_rois_ho.1D ...\n"
          ]
        },
        {
          "output_type": "stream",
          "name": "stderr",
          "text": [
            " ...done. (1 seconds, 0 min)\n"
          ]
        },
        {
          "output_type": "stream",
          "name": "stdout",
          "text": [
            "Downloading data from https://s3.amazonaws.com/fcp-indi/data/Projects/ABIDE_Initiative/Outputs/cpac/filt_noglobal/rois_ho/UM_1_0050381_rois_ho.1D ...\n"
          ]
        },
        {
          "output_type": "stream",
          "name": "stderr",
          "text": [
            " ...done. (1 seconds, 0 min)\n"
          ]
        },
        {
          "output_type": "stream",
          "name": "stdout",
          "text": [
            "Downloading data from https://s3.amazonaws.com/fcp-indi/data/Projects/ABIDE_Initiative/Outputs/cpac/filt_noglobal/rois_ho/UM_2_0050382_rois_ho.1D ...\n"
          ]
        },
        {
          "output_type": "stream",
          "name": "stderr",
          "text": [
            " ...done. (1 seconds, 0 min)\n"
          ]
        },
        {
          "output_type": "stream",
          "name": "stdout",
          "text": [
            "Downloading data from https://s3.amazonaws.com/fcp-indi/data/Projects/ABIDE_Initiative/Outputs/cpac/filt_noglobal/rois_ho/UM_2_0050383_rois_ho.1D ...\n"
          ]
        },
        {
          "output_type": "stream",
          "name": "stderr",
          "text": [
            " ...done. (1 seconds, 0 min)\n"
          ]
        },
        {
          "output_type": "stream",
          "name": "stdout",
          "text": [
            "Downloading data from https://s3.amazonaws.com/fcp-indi/data/Projects/ABIDE_Initiative/Outputs/cpac/filt_noglobal/rois_ho/UM_2_0050385_rois_ho.1D ...\n"
          ]
        },
        {
          "output_type": "stream",
          "name": "stderr",
          "text": [
            " ...done. (1 seconds, 0 min)\n"
          ]
        },
        {
          "output_type": "stream",
          "name": "stdout",
          "text": [
            "Downloading data from https://s3.amazonaws.com/fcp-indi/data/Projects/ABIDE_Initiative/Outputs/cpac/filt_noglobal/rois_ho/UM_2_0050386_rois_ho.1D ...\n"
          ]
        },
        {
          "output_type": "stream",
          "name": "stderr",
          "text": [
            " ...done. (1 seconds, 0 min)\n"
          ]
        },
        {
          "output_type": "stream",
          "name": "stdout",
          "text": [
            "Downloading data from https://s3.amazonaws.com/fcp-indi/data/Projects/ABIDE_Initiative/Outputs/cpac/filt_noglobal/rois_ho/UM_2_0050387_rois_ho.1D ...\n"
          ]
        },
        {
          "output_type": "stream",
          "name": "stderr",
          "text": [
            " ...done. (1 seconds, 0 min)\n"
          ]
        },
        {
          "output_type": "stream",
          "name": "stdout",
          "text": [
            "Downloading data from https://s3.amazonaws.com/fcp-indi/data/Projects/ABIDE_Initiative/Outputs/cpac/filt_noglobal/rois_ho/UM_2_0050388_rois_ho.1D ...\n"
          ]
        },
        {
          "output_type": "stream",
          "name": "stderr",
          "text": [
            " ...done. (1 seconds, 0 min)\n"
          ]
        },
        {
          "output_type": "stream",
          "name": "stdout",
          "text": [
            "Downloading data from https://s3.amazonaws.com/fcp-indi/data/Projects/ABIDE_Initiative/Outputs/cpac/filt_noglobal/rois_ho/UM_2_0050390_rois_ho.1D ...\n"
          ]
        },
        {
          "output_type": "stream",
          "name": "stderr",
          "text": [
            " ...done. (1 seconds, 0 min)\n"
          ]
        },
        {
          "output_type": "stream",
          "name": "stdout",
          "text": [
            "Downloading data from https://s3.amazonaws.com/fcp-indi/data/Projects/ABIDE_Initiative/Outputs/cpac/filt_noglobal/rois_ho/UM_2_0050391_rois_ho.1D ...\n"
          ]
        },
        {
          "output_type": "stream",
          "name": "stderr",
          "text": [
            " ...done. (1 seconds, 0 min)\n"
          ]
        },
        {
          "output_type": "stream",
          "name": "stdout",
          "text": [
            "Downloading data from https://s3.amazonaws.com/fcp-indi/data/Projects/ABIDE_Initiative/Outputs/cpac/filt_noglobal/rois_ho/UM_2_0050397_rois_ho.1D ...\n"
          ]
        },
        {
          "output_type": "stream",
          "name": "stderr",
          "text": [
            " ...done. (1 seconds, 0 min)\n"
          ]
        },
        {
          "output_type": "stream",
          "name": "stdout",
          "text": [
            "Downloading data from https://s3.amazonaws.com/fcp-indi/data/Projects/ABIDE_Initiative/Outputs/cpac/filt_noglobal/rois_ho/UM_2_0050399_rois_ho.1D ...\n"
          ]
        },
        {
          "output_type": "stream",
          "name": "stderr",
          "text": [
            " ...done. (1 seconds, 0 min)\n"
          ]
        },
        {
          "output_type": "stream",
          "name": "stdout",
          "text": [
            "Downloading data from https://s3.amazonaws.com/fcp-indi/data/Projects/ABIDE_Initiative/Outputs/cpac/filt_noglobal/rois_ho/UM_2_0050402_rois_ho.1D ...\n"
          ]
        },
        {
          "output_type": "stream",
          "name": "stderr",
          "text": [
            " ...done. (1 seconds, 0 min)\n"
          ]
        },
        {
          "output_type": "stream",
          "name": "stdout",
          "text": [
            "Downloading data from https://s3.amazonaws.com/fcp-indi/data/Projects/ABIDE_Initiative/Outputs/cpac/filt_noglobal/rois_ho/UM_2_0050403_rois_ho.1D ...\n"
          ]
        },
        {
          "output_type": "stream",
          "name": "stderr",
          "text": [
            " ...done. (1 seconds, 0 min)\n"
          ]
        },
        {
          "output_type": "stream",
          "name": "stdout",
          "text": [
            "Downloading data from https://s3.amazonaws.com/fcp-indi/data/Projects/ABIDE_Initiative/Outputs/cpac/filt_noglobal/rois_ho/UM_2_0050404_rois_ho.1D ...\n"
          ]
        },
        {
          "output_type": "stream",
          "name": "stderr",
          "text": [
            " ...done. (1 seconds, 0 min)\n"
          ]
        },
        {
          "output_type": "stream",
          "name": "stdout",
          "text": [
            "Downloading data from https://s3.amazonaws.com/fcp-indi/data/Projects/ABIDE_Initiative/Outputs/cpac/filt_noglobal/rois_ho/UM_2_0050405_rois_ho.1D ...\n"
          ]
        },
        {
          "output_type": "stream",
          "name": "stderr",
          "text": [
            " ...done. (1 seconds, 0 min)\n"
          ]
        },
        {
          "output_type": "stream",
          "name": "stdout",
          "text": [
            "Downloading data from https://s3.amazonaws.com/fcp-indi/data/Projects/ABIDE_Initiative/Outputs/cpac/filt_noglobal/rois_ho/UM_2_0050406_rois_ho.1D ...\n"
          ]
        },
        {
          "output_type": "stream",
          "name": "stderr",
          "text": [
            " ...done. (1 seconds, 0 min)\n"
          ]
        },
        {
          "output_type": "stream",
          "name": "stdout",
          "text": [
            "Downloading data from https://s3.amazonaws.com/fcp-indi/data/Projects/ABIDE_Initiative/Outputs/cpac/filt_noglobal/rois_ho/UM_2_0050407_rois_ho.1D ...\n"
          ]
        },
        {
          "output_type": "stream",
          "name": "stderr",
          "text": [
            " ...done. (1 seconds, 0 min)\n"
          ]
        },
        {
          "output_type": "stream",
          "name": "stdout",
          "text": [
            "Downloading data from https://s3.amazonaws.com/fcp-indi/data/Projects/ABIDE_Initiative/Outputs/cpac/filt_noglobal/rois_ho/UM_2_0050408_rois_ho.1D ...\n"
          ]
        },
        {
          "output_type": "stream",
          "name": "stderr",
          "text": [
            " ...done. (1 seconds, 0 min)\n"
          ]
        },
        {
          "output_type": "stream",
          "name": "stdout",
          "text": [
            "Downloading data from https://s3.amazonaws.com/fcp-indi/data/Projects/ABIDE_Initiative/Outputs/cpac/filt_noglobal/rois_ho/UM_2_0050410_rois_ho.1D ...\n"
          ]
        },
        {
          "output_type": "stream",
          "name": "stderr",
          "text": [
            " ...done. (1 seconds, 0 min)\n"
          ]
        },
        {
          "output_type": "stream",
          "name": "stdout",
          "text": [
            "Downloading data from https://s3.amazonaws.com/fcp-indi/data/Projects/ABIDE_Initiative/Outputs/cpac/filt_noglobal/rois_ho/UM_2_0050411_rois_ho.1D ...\n"
          ]
        },
        {
          "output_type": "stream",
          "name": "stderr",
          "text": [
            " ...done. (1 seconds, 0 min)\n"
          ]
        },
        {
          "output_type": "stream",
          "name": "stdout",
          "text": [
            "Downloading data from https://s3.amazonaws.com/fcp-indi/data/Projects/ABIDE_Initiative/Outputs/cpac/filt_noglobal/rois_ho/UM_2_0050412_rois_ho.1D ...\n"
          ]
        },
        {
          "output_type": "stream",
          "name": "stderr",
          "text": [
            " ...done. (1 seconds, 0 min)\n"
          ]
        },
        {
          "output_type": "stream",
          "name": "stdout",
          "text": [
            "Downloading data from https://s3.amazonaws.com/fcp-indi/data/Projects/ABIDE_Initiative/Outputs/cpac/filt_noglobal/rois_ho/UM_2_0050413_rois_ho.1D ...\n"
          ]
        },
        {
          "output_type": "stream",
          "name": "stderr",
          "text": [
            " ...done. (1 seconds, 0 min)\n"
          ]
        },
        {
          "output_type": "stream",
          "name": "stdout",
          "text": [
            "Downloading data from https://s3.amazonaws.com/fcp-indi/data/Projects/ABIDE_Initiative/Outputs/cpac/filt_noglobal/rois_ho/UM_2_0050414_rois_ho.1D ...\n"
          ]
        },
        {
          "output_type": "stream",
          "name": "stderr",
          "text": [
            " ...done. (1 seconds, 0 min)\n"
          ]
        },
        {
          "output_type": "stream",
          "name": "stdout",
          "text": [
            "Downloading data from https://s3.amazonaws.com/fcp-indi/data/Projects/ABIDE_Initiative/Outputs/cpac/filt_noglobal/rois_ho/UM_2_0050415_rois_ho.1D ...\n"
          ]
        },
        {
          "output_type": "stream",
          "name": "stderr",
          "text": [
            " ...done. (1 seconds, 0 min)\n"
          ]
        },
        {
          "output_type": "stream",
          "name": "stdout",
          "text": [
            "Downloading data from https://s3.amazonaws.com/fcp-indi/data/Projects/ABIDE_Initiative/Outputs/cpac/filt_noglobal/rois_ho/UM_2_0050416_rois_ho.1D ...\n"
          ]
        },
        {
          "output_type": "stream",
          "name": "stderr",
          "text": [
            " ...done. (1 seconds, 0 min)\n"
          ]
        },
        {
          "output_type": "stream",
          "name": "stdout",
          "text": [
            "Downloading data from https://s3.amazonaws.com/fcp-indi/data/Projects/ABIDE_Initiative/Outputs/cpac/filt_noglobal/rois_ho/UM_2_0050417_rois_ho.1D ...\n"
          ]
        },
        {
          "output_type": "stream",
          "name": "stderr",
          "text": [
            " ...done. (1 seconds, 0 min)\n"
          ]
        },
        {
          "output_type": "stream",
          "name": "stdout",
          "text": [
            "Downloading data from https://s3.amazonaws.com/fcp-indi/data/Projects/ABIDE_Initiative/Outputs/cpac/filt_noglobal/rois_ho/UM_2_0050418_rois_ho.1D ...\n"
          ]
        },
        {
          "output_type": "stream",
          "name": "stderr",
          "text": [
            " ...done. (1 seconds, 0 min)\n"
          ]
        },
        {
          "output_type": "stream",
          "name": "stdout",
          "text": [
            "Downloading data from https://s3.amazonaws.com/fcp-indi/data/Projects/ABIDE_Initiative/Outputs/cpac/filt_noglobal/rois_ho/UM_2_0050419_rois_ho.1D ...\n"
          ]
        },
        {
          "output_type": "stream",
          "name": "stderr",
          "text": [
            " ...done. (1 seconds, 0 min)\n"
          ]
        },
        {
          "output_type": "stream",
          "name": "stdout",
          "text": [
            "Downloading data from https://s3.amazonaws.com/fcp-indi/data/Projects/ABIDE_Initiative/Outputs/cpac/filt_noglobal/rois_ho/UM_2_0050421_rois_ho.1D ...\n"
          ]
        },
        {
          "output_type": "stream",
          "name": "stderr",
          "text": [
            " ...done. (1 seconds, 0 min)\n"
          ]
        },
        {
          "output_type": "stream",
          "name": "stdout",
          "text": [
            "Downloading data from https://s3.amazonaws.com/fcp-indi/data/Projects/ABIDE_Initiative/Outputs/cpac/filt_noglobal/rois_ho/UM_2_0050422_rois_ho.1D ...\n"
          ]
        },
        {
          "output_type": "stream",
          "name": "stderr",
          "text": [
            " ...done. (1 seconds, 0 min)\n"
          ]
        },
        {
          "output_type": "stream",
          "name": "stdout",
          "text": [
            "Downloading data from https://s3.amazonaws.com/fcp-indi/data/Projects/ABIDE_Initiative/Outputs/cpac/filt_noglobal/rois_ho/UM_2_0050424_rois_ho.1D ...\n"
          ]
        },
        {
          "output_type": "stream",
          "name": "stderr",
          "text": [
            " ...done. (1 seconds, 0 min)\n"
          ]
        },
        {
          "output_type": "stream",
          "name": "stdout",
          "text": [
            "Downloading data from https://s3.amazonaws.com/fcp-indi/data/Projects/ABIDE_Initiative/Outputs/cpac/filt_noglobal/rois_ho/UM_2_0050425_rois_ho.1D ...\n"
          ]
        },
        {
          "output_type": "stream",
          "name": "stderr",
          "text": [
            " ...done. (1 seconds, 0 min)\n"
          ]
        },
        {
          "output_type": "stream",
          "name": "stdout",
          "text": [
            "Downloading data from https://s3.amazonaws.com/fcp-indi/data/Projects/ABIDE_Initiative/Outputs/cpac/filt_noglobal/rois_ho/UM_2_0050426_rois_ho.1D ...\n"
          ]
        },
        {
          "output_type": "stream",
          "name": "stderr",
          "text": [
            " ...done. (1 seconds, 0 min)\n"
          ]
        },
        {
          "output_type": "stream",
          "name": "stdout",
          "text": [
            "Downloading data from https://s3.amazonaws.com/fcp-indi/data/Projects/ABIDE_Initiative/Outputs/cpac/filt_noglobal/rois_ho/UM_2_0050427_rois_ho.1D ...\n"
          ]
        },
        {
          "output_type": "stream",
          "name": "stderr",
          "text": [
            " ...done. (1 seconds, 0 min)\n"
          ]
        },
        {
          "output_type": "stream",
          "name": "stdout",
          "text": [
            "Downloading data from https://s3.amazonaws.com/fcp-indi/data/Projects/ABIDE_Initiative/Outputs/cpac/filt_noglobal/rois_ho/UM_2_0050428_rois_ho.1D ...\n"
          ]
        },
        {
          "output_type": "stream",
          "name": "stderr",
          "text": [
            " ...done. (1 seconds, 0 min)\n"
          ]
        },
        {
          "output_type": "stream",
          "name": "stdout",
          "text": [
            "Downloading data from https://s3.amazonaws.com/fcp-indi/data/Projects/ABIDE_Initiative/Outputs/cpac/filt_noglobal/rois_ho/USM_0050433_rois_ho.1D ...\n"
          ]
        },
        {
          "output_type": "stream",
          "name": "stderr",
          "text": [
            " ...done. (1 seconds, 0 min)\n"
          ]
        },
        {
          "output_type": "stream",
          "name": "stdout",
          "text": [
            "Downloading data from https://s3.amazonaws.com/fcp-indi/data/Projects/ABIDE_Initiative/Outputs/cpac/filt_noglobal/rois_ho/USM_0050434_rois_ho.1D ...\n"
          ]
        },
        {
          "output_type": "stream",
          "name": "stderr",
          "text": [
            " ...done. (1 seconds, 0 min)\n"
          ]
        },
        {
          "output_type": "stream",
          "name": "stdout",
          "text": [
            "Downloading data from https://s3.amazonaws.com/fcp-indi/data/Projects/ABIDE_Initiative/Outputs/cpac/filt_noglobal/rois_ho/USM_0050435_rois_ho.1D ...\n"
          ]
        },
        {
          "output_type": "stream",
          "name": "stderr",
          "text": [
            " ...done. (1 seconds, 0 min)\n"
          ]
        },
        {
          "output_type": "stream",
          "name": "stdout",
          "text": [
            "Downloading data from https://s3.amazonaws.com/fcp-indi/data/Projects/ABIDE_Initiative/Outputs/cpac/filt_noglobal/rois_ho/USM_0050436_rois_ho.1D ...\n"
          ]
        },
        {
          "output_type": "stream",
          "name": "stderr",
          "text": [
            " ...done. (1 seconds, 0 min)\n"
          ]
        },
        {
          "output_type": "stream",
          "name": "stdout",
          "text": [
            "Downloading data from https://s3.amazonaws.com/fcp-indi/data/Projects/ABIDE_Initiative/Outputs/cpac/filt_noglobal/rois_ho/USM_0050437_rois_ho.1D ...\n"
          ]
        },
        {
          "output_type": "stream",
          "name": "stderr",
          "text": [
            " ...done. (1 seconds, 0 min)\n"
          ]
        },
        {
          "output_type": "stream",
          "name": "stdout",
          "text": [
            "Downloading data from https://s3.amazonaws.com/fcp-indi/data/Projects/ABIDE_Initiative/Outputs/cpac/filt_noglobal/rois_ho/USM_0050438_rois_ho.1D ...\n"
          ]
        },
        {
          "output_type": "stream",
          "name": "stderr",
          "text": [
            " ...done. (1 seconds, 0 min)\n"
          ]
        },
        {
          "output_type": "stream",
          "name": "stdout",
          "text": [
            "Downloading data from https://s3.amazonaws.com/fcp-indi/data/Projects/ABIDE_Initiative/Outputs/cpac/filt_noglobal/rois_ho/USM_0050439_rois_ho.1D ...\n"
          ]
        },
        {
          "output_type": "stream",
          "name": "stderr",
          "text": [
            " ...done. (1 seconds, 0 min)\n"
          ]
        },
        {
          "output_type": "stream",
          "name": "stdout",
          "text": [
            "Downloading data from https://s3.amazonaws.com/fcp-indi/data/Projects/ABIDE_Initiative/Outputs/cpac/filt_noglobal/rois_ho/USM_0050440_rois_ho.1D ...\n"
          ]
        },
        {
          "output_type": "stream",
          "name": "stderr",
          "text": [
            " ...done. (1 seconds, 0 min)\n"
          ]
        },
        {
          "output_type": "stream",
          "name": "stdout",
          "text": [
            "Downloading data from https://s3.amazonaws.com/fcp-indi/data/Projects/ABIDE_Initiative/Outputs/cpac/filt_noglobal/rois_ho/USM_0050441_rois_ho.1D ...\n"
          ]
        },
        {
          "output_type": "stream",
          "name": "stderr",
          "text": [
            " ...done. (1 seconds, 0 min)\n"
          ]
        },
        {
          "output_type": "stream",
          "name": "stdout",
          "text": [
            "Downloading data from https://s3.amazonaws.com/fcp-indi/data/Projects/ABIDE_Initiative/Outputs/cpac/filt_noglobal/rois_ho/USM_0050442_rois_ho.1D ...\n"
          ]
        },
        {
          "output_type": "stream",
          "name": "stderr",
          "text": [
            " ...done. (1 seconds, 0 min)\n"
          ]
        },
        {
          "output_type": "stream",
          "name": "stdout",
          "text": [
            "Downloading data from https://s3.amazonaws.com/fcp-indi/data/Projects/ABIDE_Initiative/Outputs/cpac/filt_noglobal/rois_ho/USM_0050443_rois_ho.1D ...\n"
          ]
        },
        {
          "output_type": "stream",
          "name": "stderr",
          "text": [
            " ...done. (1 seconds, 0 min)\n"
          ]
        },
        {
          "output_type": "stream",
          "name": "stdout",
          "text": [
            "Downloading data from https://s3.amazonaws.com/fcp-indi/data/Projects/ABIDE_Initiative/Outputs/cpac/filt_noglobal/rois_ho/USM_0050444_rois_ho.1D ...\n"
          ]
        },
        {
          "output_type": "stream",
          "name": "stderr",
          "text": [
            " ...done. (1 seconds, 0 min)\n"
          ]
        },
        {
          "output_type": "stream",
          "name": "stdout",
          "text": [
            "Downloading data from https://s3.amazonaws.com/fcp-indi/data/Projects/ABIDE_Initiative/Outputs/cpac/filt_noglobal/rois_ho/USM_0050445_rois_ho.1D ...\n"
          ]
        },
        {
          "output_type": "stream",
          "name": "stderr",
          "text": [
            " ...done. (1 seconds, 0 min)\n"
          ]
        },
        {
          "output_type": "stream",
          "name": "stdout",
          "text": [
            "Downloading data from https://s3.amazonaws.com/fcp-indi/data/Projects/ABIDE_Initiative/Outputs/cpac/filt_noglobal/rois_ho/USM_0050446_rois_ho.1D ...\n"
          ]
        },
        {
          "output_type": "stream",
          "name": "stderr",
          "text": [
            " ...done. (1 seconds, 0 min)\n"
          ]
        },
        {
          "output_type": "stream",
          "name": "stdout",
          "text": [
            "Downloading data from https://s3.amazonaws.com/fcp-indi/data/Projects/ABIDE_Initiative/Outputs/cpac/filt_noglobal/rois_ho/USM_0050447_rois_ho.1D ...\n"
          ]
        },
        {
          "output_type": "stream",
          "name": "stderr",
          "text": [
            " ...done. (1 seconds, 0 min)\n"
          ]
        },
        {
          "output_type": "stream",
          "name": "stdout",
          "text": [
            "Downloading data from https://s3.amazonaws.com/fcp-indi/data/Projects/ABIDE_Initiative/Outputs/cpac/filt_noglobal/rois_ho/USM_0050448_rois_ho.1D ...\n"
          ]
        },
        {
          "output_type": "stream",
          "name": "stderr",
          "text": [
            " ...done. (1 seconds, 0 min)\n"
          ]
        },
        {
          "output_type": "stream",
          "name": "stdout",
          "text": [
            "Downloading data from https://s3.amazonaws.com/fcp-indi/data/Projects/ABIDE_Initiative/Outputs/cpac/filt_noglobal/rois_ho/USM_0050449_rois_ho.1D ...\n"
          ]
        },
        {
          "output_type": "stream",
          "name": "stderr",
          "text": [
            " ...done. (1 seconds, 0 min)\n"
          ]
        },
        {
          "output_type": "stream",
          "name": "stdout",
          "text": [
            "Downloading data from https://s3.amazonaws.com/fcp-indi/data/Projects/ABIDE_Initiative/Outputs/cpac/filt_noglobal/rois_ho/USM_0050453_rois_ho.1D ...\n"
          ]
        },
        {
          "output_type": "stream",
          "name": "stderr",
          "text": [
            " ...done. (1 seconds, 0 min)\n"
          ]
        },
        {
          "output_type": "stream",
          "name": "stdout",
          "text": [
            "Downloading data from https://s3.amazonaws.com/fcp-indi/data/Projects/ABIDE_Initiative/Outputs/cpac/filt_noglobal/rois_ho/USM_0050455_rois_ho.1D ...\n"
          ]
        },
        {
          "output_type": "stream",
          "name": "stderr",
          "text": [
            " ...done. (1 seconds, 0 min)\n"
          ]
        },
        {
          "output_type": "stream",
          "name": "stdout",
          "text": [
            "Downloading data from https://s3.amazonaws.com/fcp-indi/data/Projects/ABIDE_Initiative/Outputs/cpac/filt_noglobal/rois_ho/USM_0050463_rois_ho.1D ...\n"
          ]
        },
        {
          "output_type": "stream",
          "name": "stderr",
          "text": [
            " ...done. (1 seconds, 0 min)\n"
          ]
        },
        {
          "output_type": "stream",
          "name": "stdout",
          "text": [
            "Downloading data from https://s3.amazonaws.com/fcp-indi/data/Projects/ABIDE_Initiative/Outputs/cpac/filt_noglobal/rois_ho/USM_0050466_rois_ho.1D ...\n"
          ]
        },
        {
          "output_type": "stream",
          "name": "stderr",
          "text": [
            " ...done. (1 seconds, 0 min)\n"
          ]
        },
        {
          "output_type": "stream",
          "name": "stdout",
          "text": [
            "Downloading data from https://s3.amazonaws.com/fcp-indi/data/Projects/ABIDE_Initiative/Outputs/cpac/filt_noglobal/rois_ho/USM_0050467_rois_ho.1D ...\n"
          ]
        },
        {
          "output_type": "stream",
          "name": "stderr",
          "text": [
            " ...done. (1 seconds, 0 min)\n"
          ]
        },
        {
          "output_type": "stream",
          "name": "stdout",
          "text": [
            "Downloading data from https://s3.amazonaws.com/fcp-indi/data/Projects/ABIDE_Initiative/Outputs/cpac/filt_noglobal/rois_ho/USM_0050468_rois_ho.1D ...\n"
          ]
        },
        {
          "output_type": "stream",
          "name": "stderr",
          "text": [
            " ...done. (1 seconds, 0 min)\n"
          ]
        },
        {
          "output_type": "stream",
          "name": "stdout",
          "text": [
            "Downloading data from https://s3.amazonaws.com/fcp-indi/data/Projects/ABIDE_Initiative/Outputs/cpac/filt_noglobal/rois_ho/USM_0050469_rois_ho.1D ...\n"
          ]
        },
        {
          "output_type": "stream",
          "name": "stderr",
          "text": [
            " ...done. (1 seconds, 0 min)\n"
          ]
        },
        {
          "output_type": "stream",
          "name": "stdout",
          "text": [
            "Downloading data from https://s3.amazonaws.com/fcp-indi/data/Projects/ABIDE_Initiative/Outputs/cpac/filt_noglobal/rois_ho/USM_0050470_rois_ho.1D ...\n"
          ]
        },
        {
          "output_type": "stream",
          "name": "stderr",
          "text": [
            " ...done. (1 seconds, 0 min)\n"
          ]
        },
        {
          "output_type": "stream",
          "name": "stdout",
          "text": [
            "Downloading data from https://s3.amazonaws.com/fcp-indi/data/Projects/ABIDE_Initiative/Outputs/cpac/filt_noglobal/rois_ho/USM_0050477_rois_ho.1D ...\n"
          ]
        },
        {
          "output_type": "stream",
          "name": "stderr",
          "text": [
            " ...done. (1 seconds, 0 min)\n"
          ]
        },
        {
          "output_type": "stream",
          "name": "stdout",
          "text": [
            "Downloading data from https://s3.amazonaws.com/fcp-indi/data/Projects/ABIDE_Initiative/Outputs/cpac/filt_noglobal/rois_ho/USM_0050480_rois_ho.1D ...\n"
          ]
        },
        {
          "output_type": "stream",
          "name": "stderr",
          "text": [
            " ...done. (1 seconds, 0 min)\n"
          ]
        },
        {
          "output_type": "stream",
          "name": "stdout",
          "text": [
            "Downloading data from https://s3.amazonaws.com/fcp-indi/data/Projects/ABIDE_Initiative/Outputs/cpac/filt_noglobal/rois_ho/USM_0050481_rois_ho.1D ...\n"
          ]
        },
        {
          "output_type": "stream",
          "name": "stderr",
          "text": [
            " ...done. (1 seconds, 0 min)\n"
          ]
        },
        {
          "output_type": "stream",
          "name": "stdout",
          "text": [
            "Downloading data from https://s3.amazonaws.com/fcp-indi/data/Projects/ABIDE_Initiative/Outputs/cpac/filt_noglobal/rois_ho/USM_0050482_rois_ho.1D ...\n"
          ]
        },
        {
          "output_type": "stream",
          "name": "stderr",
          "text": [
            " ...done. (1 seconds, 0 min)\n"
          ]
        },
        {
          "output_type": "stream",
          "name": "stdout",
          "text": [
            "Downloading data from https://s3.amazonaws.com/fcp-indi/data/Projects/ABIDE_Initiative/Outputs/cpac/filt_noglobal/rois_ho/USM_0050483_rois_ho.1D ...\n"
          ]
        },
        {
          "output_type": "stream",
          "name": "stderr",
          "text": [
            " ...done. (1 seconds, 0 min)\n"
          ]
        },
        {
          "output_type": "stream",
          "name": "stdout",
          "text": [
            "Downloading data from https://s3.amazonaws.com/fcp-indi/data/Projects/ABIDE_Initiative/Outputs/cpac/filt_noglobal/rois_ho/USM_0050485_rois_ho.1D ...\n"
          ]
        },
        {
          "output_type": "stream",
          "name": "stderr",
          "text": [
            " ...done. (1 seconds, 0 min)\n"
          ]
        },
        {
          "output_type": "stream",
          "name": "stdout",
          "text": [
            "Downloading data from https://s3.amazonaws.com/fcp-indi/data/Projects/ABIDE_Initiative/Outputs/cpac/filt_noglobal/rois_ho/USM_0050486_rois_ho.1D ...\n"
          ]
        },
        {
          "output_type": "stream",
          "name": "stderr",
          "text": [
            " ...done. (1 seconds, 0 min)\n"
          ]
        },
        {
          "output_type": "stream",
          "name": "stdout",
          "text": [
            "Downloading data from https://s3.amazonaws.com/fcp-indi/data/Projects/ABIDE_Initiative/Outputs/cpac/filt_noglobal/rois_ho/USM_0050487_rois_ho.1D ...\n"
          ]
        },
        {
          "output_type": "stream",
          "name": "stderr",
          "text": [
            " ...done. (1 seconds, 0 min)\n"
          ]
        },
        {
          "output_type": "stream",
          "name": "stdout",
          "text": [
            "Downloading data from https://s3.amazonaws.com/fcp-indi/data/Projects/ABIDE_Initiative/Outputs/cpac/filt_noglobal/rois_ho/USM_0050488_rois_ho.1D ...\n"
          ]
        },
        {
          "output_type": "stream",
          "name": "stderr",
          "text": [
            " ...done. (1 seconds, 0 min)\n"
          ]
        },
        {
          "output_type": "stream",
          "name": "stdout",
          "text": [
            "Downloading data from https://s3.amazonaws.com/fcp-indi/data/Projects/ABIDE_Initiative/Outputs/cpac/filt_noglobal/rois_ho/USM_0050489_rois_ho.1D ...\n"
          ]
        },
        {
          "output_type": "stream",
          "name": "stderr",
          "text": [
            " ...done. (1 seconds, 0 min)\n"
          ]
        },
        {
          "output_type": "stream",
          "name": "stdout",
          "text": [
            "Downloading data from https://s3.amazonaws.com/fcp-indi/data/Projects/ABIDE_Initiative/Outputs/cpac/filt_noglobal/rois_ho/USM_0050490_rois_ho.1D ...\n"
          ]
        },
        {
          "output_type": "stream",
          "name": "stderr",
          "text": [
            " ...done. (1 seconds, 0 min)\n"
          ]
        },
        {
          "output_type": "stream",
          "name": "stdout",
          "text": [
            "Downloading data from https://s3.amazonaws.com/fcp-indi/data/Projects/ABIDE_Initiative/Outputs/cpac/filt_noglobal/rois_ho/USM_0050491_rois_ho.1D ...\n"
          ]
        },
        {
          "output_type": "stream",
          "name": "stderr",
          "text": [
            " ...done. (1 seconds, 0 min)\n"
          ]
        },
        {
          "output_type": "stream",
          "name": "stdout",
          "text": [
            "Downloading data from https://s3.amazonaws.com/fcp-indi/data/Projects/ABIDE_Initiative/Outputs/cpac/filt_noglobal/rois_ho/USM_0050492_rois_ho.1D ...\n"
          ]
        },
        {
          "output_type": "stream",
          "name": "stderr",
          "text": [
            " ...done. (1 seconds, 0 min)\n"
          ]
        },
        {
          "output_type": "stream",
          "name": "stdout",
          "text": [
            "Downloading data from https://s3.amazonaws.com/fcp-indi/data/Projects/ABIDE_Initiative/Outputs/cpac/filt_noglobal/rois_ho/USM_0050493_rois_ho.1D ...\n"
          ]
        },
        {
          "output_type": "stream",
          "name": "stderr",
          "text": [
            " ...done. (1 seconds, 0 min)\n"
          ]
        },
        {
          "output_type": "stream",
          "name": "stdout",
          "text": [
            "Downloading data from https://s3.amazonaws.com/fcp-indi/data/Projects/ABIDE_Initiative/Outputs/cpac/filt_noglobal/rois_ho/USM_0050494_rois_ho.1D ...\n"
          ]
        },
        {
          "output_type": "stream",
          "name": "stderr",
          "text": [
            " ...done. (1 seconds, 0 min)\n"
          ]
        },
        {
          "output_type": "stream",
          "name": "stdout",
          "text": [
            "Downloading data from https://s3.amazonaws.com/fcp-indi/data/Projects/ABIDE_Initiative/Outputs/cpac/filt_noglobal/rois_ho/USM_0050496_rois_ho.1D ...\n"
          ]
        },
        {
          "output_type": "stream",
          "name": "stderr",
          "text": [
            " ...done. (1 seconds, 0 min)\n"
          ]
        },
        {
          "output_type": "stream",
          "name": "stdout",
          "text": [
            "Downloading data from https://s3.amazonaws.com/fcp-indi/data/Projects/ABIDE_Initiative/Outputs/cpac/filt_noglobal/rois_ho/USM_0050497_rois_ho.1D ...\n"
          ]
        },
        {
          "output_type": "stream",
          "name": "stderr",
          "text": [
            " ...done. (1 seconds, 0 min)\n"
          ]
        },
        {
          "output_type": "stream",
          "name": "stdout",
          "text": [
            "Downloading data from https://s3.amazonaws.com/fcp-indi/data/Projects/ABIDE_Initiative/Outputs/cpac/filt_noglobal/rois_ho/USM_0050498_rois_ho.1D ...\n"
          ]
        },
        {
          "output_type": "stream",
          "name": "stderr",
          "text": [
            " ...done. (1 seconds, 0 min)\n"
          ]
        },
        {
          "output_type": "stream",
          "name": "stdout",
          "text": [
            "Downloading data from https://s3.amazonaws.com/fcp-indi/data/Projects/ABIDE_Initiative/Outputs/cpac/filt_noglobal/rois_ho/USM_0050499_rois_ho.1D ...\n"
          ]
        },
        {
          "output_type": "stream",
          "name": "stderr",
          "text": [
            " ...done. (1 seconds, 0 min)\n"
          ]
        },
        {
          "output_type": "stream",
          "name": "stdout",
          "text": [
            "Downloading data from https://s3.amazonaws.com/fcp-indi/data/Projects/ABIDE_Initiative/Outputs/cpac/filt_noglobal/rois_ho/USM_0050500_rois_ho.1D ...\n"
          ]
        },
        {
          "output_type": "stream",
          "name": "stderr",
          "text": [
            " ...done. (1 seconds, 0 min)\n"
          ]
        },
        {
          "output_type": "stream",
          "name": "stdout",
          "text": [
            "Downloading data from https://s3.amazonaws.com/fcp-indi/data/Projects/ABIDE_Initiative/Outputs/cpac/filt_noglobal/rois_ho/USM_0050501_rois_ho.1D ...\n"
          ]
        },
        {
          "output_type": "stream",
          "name": "stderr",
          "text": [
            " ...done. (1 seconds, 0 min)\n"
          ]
        },
        {
          "output_type": "stream",
          "name": "stdout",
          "text": [
            "Downloading data from https://s3.amazonaws.com/fcp-indi/data/Projects/ABIDE_Initiative/Outputs/cpac/filt_noglobal/rois_ho/USM_0050502_rois_ho.1D ...\n"
          ]
        },
        {
          "output_type": "stream",
          "name": "stderr",
          "text": [
            " ...done. (1 seconds, 0 min)\n"
          ]
        },
        {
          "output_type": "stream",
          "name": "stdout",
          "text": [
            "Downloading data from https://s3.amazonaws.com/fcp-indi/data/Projects/ABIDE_Initiative/Outputs/cpac/filt_noglobal/rois_ho/USM_0050503_rois_ho.1D ...\n"
          ]
        },
        {
          "output_type": "stream",
          "name": "stderr",
          "text": [
            " ...done. (1 seconds, 0 min)\n"
          ]
        },
        {
          "output_type": "stream",
          "name": "stdout",
          "text": [
            "Downloading data from https://s3.amazonaws.com/fcp-indi/data/Projects/ABIDE_Initiative/Outputs/cpac/filt_noglobal/rois_ho/USM_0050504_rois_ho.1D ...\n"
          ]
        },
        {
          "output_type": "stream",
          "name": "stderr",
          "text": [
            " ...done. (1 seconds, 0 min)\n"
          ]
        },
        {
          "output_type": "stream",
          "name": "stdout",
          "text": [
            "Downloading data from https://s3.amazonaws.com/fcp-indi/data/Projects/ABIDE_Initiative/Outputs/cpac/filt_noglobal/rois_ho/USM_0050505_rois_ho.1D ...\n"
          ]
        },
        {
          "output_type": "stream",
          "name": "stderr",
          "text": [
            " ...done. (1 seconds, 0 min)\n"
          ]
        },
        {
          "output_type": "stream",
          "name": "stdout",
          "text": [
            "Downloading data from https://s3.amazonaws.com/fcp-indi/data/Projects/ABIDE_Initiative/Outputs/cpac/filt_noglobal/rois_ho/USM_0050507_rois_ho.1D ...\n"
          ]
        },
        {
          "output_type": "stream",
          "name": "stderr",
          "text": [
            " ...done. (1 seconds, 0 min)\n"
          ]
        },
        {
          "output_type": "stream",
          "name": "stdout",
          "text": [
            "Downloading data from https://s3.amazonaws.com/fcp-indi/data/Projects/ABIDE_Initiative/Outputs/cpac/filt_noglobal/rois_ho/USM_0050509_rois_ho.1D ...\n"
          ]
        },
        {
          "output_type": "stream",
          "name": "stderr",
          "text": [
            " ...done. (1 seconds, 0 min)\n"
          ]
        },
        {
          "output_type": "stream",
          "name": "stdout",
          "text": [
            "Downloading data from https://s3.amazonaws.com/fcp-indi/data/Projects/ABIDE_Initiative/Outputs/cpac/filt_noglobal/rois_ho/USM_0050510_rois_ho.1D ...\n"
          ]
        },
        {
          "output_type": "stream",
          "name": "stderr",
          "text": [
            " ...done. (1 seconds, 0 min)\n"
          ]
        },
        {
          "output_type": "stream",
          "name": "stdout",
          "text": [
            "Downloading data from https://s3.amazonaws.com/fcp-indi/data/Projects/ABIDE_Initiative/Outputs/cpac/filt_noglobal/rois_ho/USM_0050511_rois_ho.1D ...\n"
          ]
        },
        {
          "output_type": "stream",
          "name": "stderr",
          "text": [
            " ...done. (1 seconds, 0 min)\n"
          ]
        },
        {
          "output_type": "stream",
          "name": "stdout",
          "text": [
            "Downloading data from https://s3.amazonaws.com/fcp-indi/data/Projects/ABIDE_Initiative/Outputs/cpac/filt_noglobal/rois_ho/USM_0050514_rois_ho.1D ...\n"
          ]
        },
        {
          "output_type": "stream",
          "name": "stderr",
          "text": [
            " ...done. (1 seconds, 0 min)\n"
          ]
        },
        {
          "output_type": "stream",
          "name": "stdout",
          "text": [
            "Downloading data from https://s3.amazonaws.com/fcp-indi/data/Projects/ABIDE_Initiative/Outputs/cpac/filt_noglobal/rois_ho/USM_0050515_rois_ho.1D ...\n"
          ]
        },
        {
          "output_type": "stream",
          "name": "stderr",
          "text": [
            " ...done. (1 seconds, 0 min)\n"
          ]
        },
        {
          "output_type": "stream",
          "name": "stdout",
          "text": [
            "Downloading data from https://s3.amazonaws.com/fcp-indi/data/Projects/ABIDE_Initiative/Outputs/cpac/filt_noglobal/rois_ho/USM_0050516_rois_ho.1D ...\n"
          ]
        },
        {
          "output_type": "stream",
          "name": "stderr",
          "text": [
            " ...done. (1 seconds, 0 min)\n"
          ]
        },
        {
          "output_type": "stream",
          "name": "stdout",
          "text": [
            "Downloading data from https://s3.amazonaws.com/fcp-indi/data/Projects/ABIDE_Initiative/Outputs/cpac/filt_noglobal/rois_ho/USM_0050518_rois_ho.1D ...\n"
          ]
        },
        {
          "output_type": "stream",
          "name": "stderr",
          "text": [
            " ...done. (1 seconds, 0 min)\n"
          ]
        },
        {
          "output_type": "stream",
          "name": "stdout",
          "text": [
            "Downloading data from https://s3.amazonaws.com/fcp-indi/data/Projects/ABIDE_Initiative/Outputs/cpac/filt_noglobal/rois_ho/USM_0050519_rois_ho.1D ...\n"
          ]
        },
        {
          "output_type": "stream",
          "name": "stderr",
          "text": [
            " ...done. (1 seconds, 0 min)\n"
          ]
        },
        {
          "output_type": "stream",
          "name": "stdout",
          "text": [
            "Downloading data from https://s3.amazonaws.com/fcp-indi/data/Projects/ABIDE_Initiative/Outputs/cpac/filt_noglobal/rois_ho/USM_0050520_rois_ho.1D ...\n"
          ]
        },
        {
          "output_type": "stream",
          "name": "stderr",
          "text": [
            " ...done. (1 seconds, 0 min)\n"
          ]
        },
        {
          "output_type": "stream",
          "name": "stdout",
          "text": [
            "Downloading data from https://s3.amazonaws.com/fcp-indi/data/Projects/ABIDE_Initiative/Outputs/cpac/filt_noglobal/rois_ho/USM_0050521_rois_ho.1D ...\n"
          ]
        },
        {
          "output_type": "stream",
          "name": "stderr",
          "text": [
            " ...done. (1 seconds, 0 min)\n"
          ]
        },
        {
          "output_type": "stream",
          "name": "stdout",
          "text": [
            "Downloading data from https://s3.amazonaws.com/fcp-indi/data/Projects/ABIDE_Initiative/Outputs/cpac/filt_noglobal/rois_ho/USM_0050523_rois_ho.1D ...\n"
          ]
        },
        {
          "output_type": "stream",
          "name": "stderr",
          "text": [
            " ...done. (1 seconds, 0 min)\n"
          ]
        },
        {
          "output_type": "stream",
          "name": "stdout",
          "text": [
            "Downloading data from https://s3.amazonaws.com/fcp-indi/data/Projects/ABIDE_Initiative/Outputs/cpac/filt_noglobal/rois_ho/USM_0050524_rois_ho.1D ...\n"
          ]
        },
        {
          "output_type": "stream",
          "name": "stderr",
          "text": [
            " ...done. (1 seconds, 0 min)\n"
          ]
        },
        {
          "output_type": "stream",
          "name": "stdout",
          "text": [
            "Downloading data from https://s3.amazonaws.com/fcp-indi/data/Projects/ABIDE_Initiative/Outputs/cpac/filt_noglobal/rois_ho/USM_0050525_rois_ho.1D ...\n"
          ]
        },
        {
          "output_type": "stream",
          "name": "stderr",
          "text": [
            " ...done. (1 seconds, 0 min)\n"
          ]
        },
        {
          "output_type": "stream",
          "name": "stdout",
          "text": [
            "Downloading data from https://s3.amazonaws.com/fcp-indi/data/Projects/ABIDE_Initiative/Outputs/cpac/filt_noglobal/rois_ho/USM_0050526_rois_ho.1D ...\n"
          ]
        },
        {
          "output_type": "stream",
          "name": "stderr",
          "text": [
            " ...done. (1 seconds, 0 min)\n"
          ]
        },
        {
          "output_type": "stream",
          "name": "stdout",
          "text": [
            "Downloading data from https://s3.amazonaws.com/fcp-indi/data/Projects/ABIDE_Initiative/Outputs/cpac/filt_noglobal/rois_ho/USM_0050527_rois_ho.1D ...\n"
          ]
        },
        {
          "output_type": "stream",
          "name": "stderr",
          "text": [
            " ...done. (1 seconds, 0 min)\n"
          ]
        },
        {
          "output_type": "stream",
          "name": "stdout",
          "text": [
            "Downloading data from https://s3.amazonaws.com/fcp-indi/data/Projects/ABIDE_Initiative/Outputs/cpac/filt_noglobal/rois_ho/USM_0050528_rois_ho.1D ...\n"
          ]
        },
        {
          "output_type": "stream",
          "name": "stderr",
          "text": [
            " ...done. (1 seconds, 0 min)\n"
          ]
        },
        {
          "output_type": "stream",
          "name": "stdout",
          "text": [
            "Downloading data from https://s3.amazonaws.com/fcp-indi/data/Projects/ABIDE_Initiative/Outputs/cpac/filt_noglobal/rois_ho/USM_0050529_rois_ho.1D ...\n"
          ]
        },
        {
          "output_type": "stream",
          "name": "stderr",
          "text": [
            " ...done. (1 seconds, 0 min)\n"
          ]
        },
        {
          "output_type": "stream",
          "name": "stdout",
          "text": [
            "Downloading data from https://s3.amazonaws.com/fcp-indi/data/Projects/ABIDE_Initiative/Outputs/cpac/filt_noglobal/rois_ho/USM_0050530_rois_ho.1D ...\n"
          ]
        },
        {
          "output_type": "stream",
          "name": "stderr",
          "text": [
            " ...done. (1 seconds, 0 min)\n"
          ]
        },
        {
          "output_type": "stream",
          "name": "stdout",
          "text": [
            "Downloading data from https://s3.amazonaws.com/fcp-indi/data/Projects/ABIDE_Initiative/Outputs/cpac/filt_noglobal/rois_ho/USM_0050531_rois_ho.1D ...\n"
          ]
        },
        {
          "output_type": "stream",
          "name": "stderr",
          "text": [
            " ...done. (1 seconds, 0 min)\n"
          ]
        },
        {
          "output_type": "stream",
          "name": "stdout",
          "text": [
            "Downloading data from https://s3.amazonaws.com/fcp-indi/data/Projects/ABIDE_Initiative/Outputs/cpac/filt_noglobal/rois_ho/USM_0050532_rois_ho.1D ...\n"
          ]
        },
        {
          "output_type": "stream",
          "name": "stderr",
          "text": [
            " ...done. (1 seconds, 0 min)\n"
          ]
        },
        {
          "output_type": "stream",
          "name": "stdout",
          "text": [
            "Downloading data from https://s3.amazonaws.com/fcp-indi/data/Projects/ABIDE_Initiative/Outputs/cpac/filt_noglobal/rois_ho/Yale_0050551_rois_ho.1D ...\n"
          ]
        },
        {
          "output_type": "stream",
          "name": "stderr",
          "text": [
            " ...done. (1 seconds, 0 min)\n"
          ]
        },
        {
          "output_type": "stream",
          "name": "stdout",
          "text": [
            "Downloading data from https://s3.amazonaws.com/fcp-indi/data/Projects/ABIDE_Initiative/Outputs/cpac/filt_noglobal/rois_ho/Yale_0050552_rois_ho.1D ...\n"
          ]
        },
        {
          "output_type": "stream",
          "name": "stderr",
          "text": [
            " ...done. (1 seconds, 0 min)\n"
          ]
        },
        {
          "output_type": "stream",
          "name": "stdout",
          "text": [
            "Downloading data from https://s3.amazonaws.com/fcp-indi/data/Projects/ABIDE_Initiative/Outputs/cpac/filt_noglobal/rois_ho/Yale_0050553_rois_ho.1D ...\n"
          ]
        },
        {
          "output_type": "stream",
          "name": "stderr",
          "text": [
            " ...done. (1 seconds, 0 min)\n"
          ]
        },
        {
          "output_type": "stream",
          "name": "stdout",
          "text": [
            "Downloading data from https://s3.amazonaws.com/fcp-indi/data/Projects/ABIDE_Initiative/Outputs/cpac/filt_noglobal/rois_ho/Yale_0050554_rois_ho.1D ...\n"
          ]
        },
        {
          "output_type": "stream",
          "name": "stderr",
          "text": [
            " ...done. (1 seconds, 0 min)\n"
          ]
        },
        {
          "output_type": "stream",
          "name": "stdout",
          "text": [
            "Downloading data from https://s3.amazonaws.com/fcp-indi/data/Projects/ABIDE_Initiative/Outputs/cpac/filt_noglobal/rois_ho/Yale_0050555_rois_ho.1D ...\n"
          ]
        },
        {
          "output_type": "stream",
          "name": "stderr",
          "text": [
            " ...done. (1 seconds, 0 min)\n"
          ]
        },
        {
          "output_type": "stream",
          "name": "stdout",
          "text": [
            "Downloading data from https://s3.amazonaws.com/fcp-indi/data/Projects/ABIDE_Initiative/Outputs/cpac/filt_noglobal/rois_ho/Yale_0050556_rois_ho.1D ...\n"
          ]
        },
        {
          "output_type": "stream",
          "name": "stderr",
          "text": [
            " ...done. (1 seconds, 0 min)\n"
          ]
        },
        {
          "output_type": "stream",
          "name": "stdout",
          "text": [
            "Downloading data from https://s3.amazonaws.com/fcp-indi/data/Projects/ABIDE_Initiative/Outputs/cpac/filt_noglobal/rois_ho/Yale_0050557_rois_ho.1D ...\n"
          ]
        },
        {
          "output_type": "stream",
          "name": "stderr",
          "text": [
            " ...done. (1 seconds, 0 min)\n"
          ]
        },
        {
          "output_type": "stream",
          "name": "stdout",
          "text": [
            "Downloading data from https://s3.amazonaws.com/fcp-indi/data/Projects/ABIDE_Initiative/Outputs/cpac/filt_noglobal/rois_ho/Yale_0050558_rois_ho.1D ...\n"
          ]
        },
        {
          "output_type": "stream",
          "name": "stderr",
          "text": [
            " ...done. (1 seconds, 0 min)\n"
          ]
        },
        {
          "output_type": "stream",
          "name": "stdout",
          "text": [
            "Downloading data from https://s3.amazonaws.com/fcp-indi/data/Projects/ABIDE_Initiative/Outputs/cpac/filt_noglobal/rois_ho/Yale_0050559_rois_ho.1D ...\n"
          ]
        },
        {
          "output_type": "stream",
          "name": "stderr",
          "text": [
            " ...done. (1 seconds, 0 min)\n"
          ]
        },
        {
          "output_type": "stream",
          "name": "stdout",
          "text": [
            "Downloading data from https://s3.amazonaws.com/fcp-indi/data/Projects/ABIDE_Initiative/Outputs/cpac/filt_noglobal/rois_ho/Yale_0050560_rois_ho.1D ...\n"
          ]
        },
        {
          "output_type": "stream",
          "name": "stderr",
          "text": [
            " ...done. (1 seconds, 0 min)\n"
          ]
        },
        {
          "output_type": "stream",
          "name": "stdout",
          "text": [
            "Downloading data from https://s3.amazonaws.com/fcp-indi/data/Projects/ABIDE_Initiative/Outputs/cpac/filt_noglobal/rois_ho/Yale_0050561_rois_ho.1D ...\n"
          ]
        },
        {
          "output_type": "stream",
          "name": "stderr",
          "text": [
            " ...done. (1 seconds, 0 min)\n"
          ]
        },
        {
          "output_type": "stream",
          "name": "stdout",
          "text": [
            "Downloading data from https://s3.amazonaws.com/fcp-indi/data/Projects/ABIDE_Initiative/Outputs/cpac/filt_noglobal/rois_ho/Yale_0050562_rois_ho.1D ...\n"
          ]
        },
        {
          "output_type": "stream",
          "name": "stderr",
          "text": [
            " ...done. (1 seconds, 0 min)\n"
          ]
        },
        {
          "output_type": "stream",
          "name": "stdout",
          "text": [
            "Downloading data from https://s3.amazonaws.com/fcp-indi/data/Projects/ABIDE_Initiative/Outputs/cpac/filt_noglobal/rois_ho/Yale_0050563_rois_ho.1D ...\n"
          ]
        },
        {
          "output_type": "stream",
          "name": "stderr",
          "text": [
            " ...done. (1 seconds, 0 min)\n"
          ]
        },
        {
          "output_type": "stream",
          "name": "stdout",
          "text": [
            "Downloading data from https://s3.amazonaws.com/fcp-indi/data/Projects/ABIDE_Initiative/Outputs/cpac/filt_noglobal/rois_ho/Yale_0050564_rois_ho.1D ...\n"
          ]
        },
        {
          "output_type": "stream",
          "name": "stderr",
          "text": [
            " ...done. (1 seconds, 0 min)\n"
          ]
        },
        {
          "output_type": "stream",
          "name": "stdout",
          "text": [
            "Downloading data from https://s3.amazonaws.com/fcp-indi/data/Projects/ABIDE_Initiative/Outputs/cpac/filt_noglobal/rois_ho/Yale_0050565_rois_ho.1D ...\n"
          ]
        },
        {
          "output_type": "stream",
          "name": "stderr",
          "text": [
            " ...done. (1 seconds, 0 min)\n"
          ]
        },
        {
          "output_type": "stream",
          "name": "stdout",
          "text": [
            "Downloading data from https://s3.amazonaws.com/fcp-indi/data/Projects/ABIDE_Initiative/Outputs/cpac/filt_noglobal/rois_ho/Yale_0050566_rois_ho.1D ...\n"
          ]
        },
        {
          "output_type": "stream",
          "name": "stderr",
          "text": [
            " ...done. (1 seconds, 0 min)\n"
          ]
        },
        {
          "output_type": "stream",
          "name": "stdout",
          "text": [
            "Downloading data from https://s3.amazonaws.com/fcp-indi/data/Projects/ABIDE_Initiative/Outputs/cpac/filt_noglobal/rois_ho/Yale_0050567_rois_ho.1D ...\n"
          ]
        },
        {
          "output_type": "stream",
          "name": "stderr",
          "text": [
            " ...done. (1 seconds, 0 min)\n"
          ]
        },
        {
          "output_type": "stream",
          "name": "stdout",
          "text": [
            "Downloading data from https://s3.amazonaws.com/fcp-indi/data/Projects/ABIDE_Initiative/Outputs/cpac/filt_noglobal/rois_ho/Yale_0050568_rois_ho.1D ...\n"
          ]
        },
        {
          "output_type": "stream",
          "name": "stderr",
          "text": [
            " ...done. (1 seconds, 0 min)\n"
          ]
        },
        {
          "output_type": "stream",
          "name": "stdout",
          "text": [
            "Downloading data from https://s3.amazonaws.com/fcp-indi/data/Projects/ABIDE_Initiative/Outputs/cpac/filt_noglobal/rois_ho/Yale_0050569_rois_ho.1D ...\n"
          ]
        },
        {
          "output_type": "stream",
          "name": "stderr",
          "text": [
            " ...done. (1 seconds, 0 min)\n"
          ]
        },
        {
          "output_type": "stream",
          "name": "stdout",
          "text": [
            "Downloading data from https://s3.amazonaws.com/fcp-indi/data/Projects/ABIDE_Initiative/Outputs/cpac/filt_noglobal/rois_ho/Yale_0050570_rois_ho.1D ...\n"
          ]
        },
        {
          "output_type": "stream",
          "name": "stderr",
          "text": [
            " ...done. (1 seconds, 0 min)\n"
          ]
        },
        {
          "output_type": "stream",
          "name": "stdout",
          "text": [
            "Downloading data from https://s3.amazonaws.com/fcp-indi/data/Projects/ABIDE_Initiative/Outputs/cpac/filt_noglobal/rois_ho/Yale_0050571_rois_ho.1D ...\n"
          ]
        },
        {
          "output_type": "stream",
          "name": "stderr",
          "text": [
            " ...done. (1 seconds, 0 min)\n"
          ]
        },
        {
          "output_type": "stream",
          "name": "stdout",
          "text": [
            "Downloading data from https://s3.amazonaws.com/fcp-indi/data/Projects/ABIDE_Initiative/Outputs/cpac/filt_noglobal/rois_ho/Yale_0050572_rois_ho.1D ...\n"
          ]
        },
        {
          "output_type": "stream",
          "name": "stderr",
          "text": [
            " ...done. (1 seconds, 0 min)\n"
          ]
        },
        {
          "output_type": "stream",
          "name": "stdout",
          "text": [
            "Downloading data from https://s3.amazonaws.com/fcp-indi/data/Projects/ABIDE_Initiative/Outputs/cpac/filt_noglobal/rois_ho/Yale_0050573_rois_ho.1D ...\n"
          ]
        },
        {
          "output_type": "stream",
          "name": "stderr",
          "text": [
            " ...done. (1 seconds, 0 min)\n"
          ]
        },
        {
          "output_type": "stream",
          "name": "stdout",
          "text": [
            "Downloading data from https://s3.amazonaws.com/fcp-indi/data/Projects/ABIDE_Initiative/Outputs/cpac/filt_noglobal/rois_ho/Yale_0050574_rois_ho.1D ...\n"
          ]
        },
        {
          "output_type": "stream",
          "name": "stderr",
          "text": [
            " ...done. (1 seconds, 0 min)\n"
          ]
        },
        {
          "output_type": "stream",
          "name": "stdout",
          "text": [
            "Downloading data from https://s3.amazonaws.com/fcp-indi/data/Projects/ABIDE_Initiative/Outputs/cpac/filt_noglobal/rois_ho/Yale_0050575_rois_ho.1D ...\n"
          ]
        },
        {
          "output_type": "stream",
          "name": "stderr",
          "text": [
            " ...done. (1 seconds, 0 min)\n"
          ]
        },
        {
          "output_type": "stream",
          "name": "stdout",
          "text": [
            "Downloading data from https://s3.amazonaws.com/fcp-indi/data/Projects/ABIDE_Initiative/Outputs/cpac/filt_noglobal/rois_ho/Yale_0050576_rois_ho.1D ...\n"
          ]
        },
        {
          "output_type": "stream",
          "name": "stderr",
          "text": [
            " ...done. (1 seconds, 0 min)\n"
          ]
        },
        {
          "output_type": "stream",
          "name": "stdout",
          "text": [
            "Downloading data from https://s3.amazonaws.com/fcp-indi/data/Projects/ABIDE_Initiative/Outputs/cpac/filt_noglobal/rois_ho/Yale_0050577_rois_ho.1D ...\n"
          ]
        },
        {
          "output_type": "stream",
          "name": "stderr",
          "text": [
            " ...done. (1 seconds, 0 min)\n"
          ]
        },
        {
          "output_type": "stream",
          "name": "stdout",
          "text": [
            "Downloading data from https://s3.amazonaws.com/fcp-indi/data/Projects/ABIDE_Initiative/Outputs/cpac/filt_noglobal/rois_ho/Yale_0050578_rois_ho.1D ...\n"
          ]
        },
        {
          "output_type": "stream",
          "name": "stderr",
          "text": [
            " ...done. (1 seconds, 0 min)\n"
          ]
        },
        {
          "output_type": "stream",
          "name": "stdout",
          "text": [
            "Downloading data from https://s3.amazonaws.com/fcp-indi/data/Projects/ABIDE_Initiative/Outputs/cpac/filt_noglobal/rois_ho/Yale_0050601_rois_ho.1D ...\n"
          ]
        },
        {
          "output_type": "stream",
          "name": "stderr",
          "text": [
            " ...done. (1 seconds, 0 min)\n"
          ]
        },
        {
          "output_type": "stream",
          "name": "stdout",
          "text": [
            "Downloading data from https://s3.amazonaws.com/fcp-indi/data/Projects/ABIDE_Initiative/Outputs/cpac/filt_noglobal/rois_ho/Yale_0050602_rois_ho.1D ...\n"
          ]
        },
        {
          "output_type": "stream",
          "name": "stderr",
          "text": [
            " ...done. (1 seconds, 0 min)\n"
          ]
        },
        {
          "output_type": "stream",
          "name": "stdout",
          "text": [
            "Downloading data from https://s3.amazonaws.com/fcp-indi/data/Projects/ABIDE_Initiative/Outputs/cpac/filt_noglobal/rois_ho/Yale_0050603_rois_ho.1D ...\n"
          ]
        },
        {
          "output_type": "stream",
          "name": "stderr",
          "text": [
            " ...done. (1 seconds, 0 min)\n"
          ]
        },
        {
          "output_type": "stream",
          "name": "stdout",
          "text": [
            "Downloading data from https://s3.amazonaws.com/fcp-indi/data/Projects/ABIDE_Initiative/Outputs/cpac/filt_noglobal/rois_ho/Yale_0050604_rois_ho.1D ...\n"
          ]
        },
        {
          "output_type": "stream",
          "name": "stderr",
          "text": [
            " ...done. (1 seconds, 0 min)\n"
          ]
        },
        {
          "output_type": "stream",
          "name": "stdout",
          "text": [
            "Downloading data from https://s3.amazonaws.com/fcp-indi/data/Projects/ABIDE_Initiative/Outputs/cpac/filt_noglobal/rois_ho/Yale_0050605_rois_ho.1D ...\n"
          ]
        },
        {
          "output_type": "stream",
          "name": "stderr",
          "text": [
            " ...done. (1 seconds, 0 min)\n"
          ]
        },
        {
          "output_type": "stream",
          "name": "stdout",
          "text": [
            "Downloading data from https://s3.amazonaws.com/fcp-indi/data/Projects/ABIDE_Initiative/Outputs/cpac/filt_noglobal/rois_ho/Yale_0050606_rois_ho.1D ...\n"
          ]
        },
        {
          "output_type": "stream",
          "name": "stderr",
          "text": [
            " ...done. (1 seconds, 0 min)\n"
          ]
        },
        {
          "output_type": "stream",
          "name": "stdout",
          "text": [
            "Downloading data from https://s3.amazonaws.com/fcp-indi/data/Projects/ABIDE_Initiative/Outputs/cpac/filt_noglobal/rois_ho/Yale_0050607_rois_ho.1D ...\n"
          ]
        },
        {
          "output_type": "stream",
          "name": "stderr",
          "text": [
            " ...done. (1 seconds, 0 min)\n"
          ]
        },
        {
          "output_type": "stream",
          "name": "stdout",
          "text": [
            "Downloading data from https://s3.amazonaws.com/fcp-indi/data/Projects/ABIDE_Initiative/Outputs/cpac/filt_noglobal/rois_ho/Yale_0050608_rois_ho.1D ...\n"
          ]
        },
        {
          "output_type": "stream",
          "name": "stderr",
          "text": [
            " ...done. (1 seconds, 0 min)\n"
          ]
        },
        {
          "output_type": "stream",
          "name": "stdout",
          "text": [
            "Downloading data from https://s3.amazonaws.com/fcp-indi/data/Projects/ABIDE_Initiative/Outputs/cpac/filt_noglobal/rois_ho/Yale_0050609_rois_ho.1D ...\n"
          ]
        },
        {
          "output_type": "stream",
          "name": "stderr",
          "text": [
            " ...done. (1 seconds, 0 min)\n"
          ]
        },
        {
          "output_type": "stream",
          "name": "stdout",
          "text": [
            "Downloading data from https://s3.amazonaws.com/fcp-indi/data/Projects/ABIDE_Initiative/Outputs/cpac/filt_noglobal/rois_ho/Yale_0050610_rois_ho.1D ...\n"
          ]
        },
        {
          "output_type": "stream",
          "name": "stderr",
          "text": [
            " ...done. (1 seconds, 0 min)\n"
          ]
        },
        {
          "output_type": "stream",
          "name": "stdout",
          "text": [
            "Downloading data from https://s3.amazonaws.com/fcp-indi/data/Projects/ABIDE_Initiative/Outputs/cpac/filt_noglobal/rois_ho/Yale_0050611_rois_ho.1D ...\n"
          ]
        },
        {
          "output_type": "stream",
          "name": "stderr",
          "text": [
            " ...done. (1 seconds, 0 min)\n"
          ]
        },
        {
          "output_type": "stream",
          "name": "stdout",
          "text": [
            "Downloading data from https://s3.amazonaws.com/fcp-indi/data/Projects/ABIDE_Initiative/Outputs/cpac/filt_noglobal/rois_ho/Yale_0050612_rois_ho.1D ...\n"
          ]
        },
        {
          "output_type": "stream",
          "name": "stderr",
          "text": [
            " ...done. (1 seconds, 0 min)\n"
          ]
        },
        {
          "output_type": "stream",
          "name": "stdout",
          "text": [
            "Downloading data from https://s3.amazonaws.com/fcp-indi/data/Projects/ABIDE_Initiative/Outputs/cpac/filt_noglobal/rois_ho/Yale_0050613_rois_ho.1D ...\n"
          ]
        },
        {
          "output_type": "stream",
          "name": "stderr",
          "text": [
            " ...done. (1 seconds, 0 min)\n"
          ]
        },
        {
          "output_type": "stream",
          "name": "stdout",
          "text": [
            "Downloading data from https://s3.amazonaws.com/fcp-indi/data/Projects/ABIDE_Initiative/Outputs/cpac/filt_noglobal/rois_ho/Yale_0050614_rois_ho.1D ...\n"
          ]
        },
        {
          "output_type": "stream",
          "name": "stderr",
          "text": [
            " ...done. (1 seconds, 0 min)\n"
          ]
        },
        {
          "output_type": "stream",
          "name": "stdout",
          "text": [
            "Downloading data from https://s3.amazonaws.com/fcp-indi/data/Projects/ABIDE_Initiative/Outputs/cpac/filt_noglobal/rois_ho/Yale_0050615_rois_ho.1D ...\n"
          ]
        },
        {
          "output_type": "stream",
          "name": "stderr",
          "text": [
            " ...done. (1 seconds, 0 min)\n"
          ]
        },
        {
          "output_type": "stream",
          "name": "stdout",
          "text": [
            "Downloading data from https://s3.amazonaws.com/fcp-indi/data/Projects/ABIDE_Initiative/Outputs/cpac/filt_noglobal/rois_ho/Yale_0050616_rois_ho.1D ...\n"
          ]
        },
        {
          "output_type": "stream",
          "name": "stderr",
          "text": [
            " ...done. (1 seconds, 0 min)\n"
          ]
        },
        {
          "output_type": "stream",
          "name": "stdout",
          "text": [
            "Downloading data from https://s3.amazonaws.com/fcp-indi/data/Projects/ABIDE_Initiative/Outputs/cpac/filt_noglobal/rois_ho/Yale_0050617_rois_ho.1D ...\n"
          ]
        },
        {
          "output_type": "stream",
          "name": "stderr",
          "text": [
            " ...done. (1 seconds, 0 min)\n"
          ]
        },
        {
          "output_type": "stream",
          "name": "stdout",
          "text": [
            "Downloading data from https://s3.amazonaws.com/fcp-indi/data/Projects/ABIDE_Initiative/Outputs/cpac/filt_noglobal/rois_ho/Yale_0050618_rois_ho.1D ...\n"
          ]
        },
        {
          "output_type": "stream",
          "name": "stderr",
          "text": [
            " ...done. (1 seconds, 0 min)\n"
          ]
        },
        {
          "output_type": "stream",
          "name": "stdout",
          "text": [
            "Downloading data from https://s3.amazonaws.com/fcp-indi/data/Projects/ABIDE_Initiative/Outputs/cpac/filt_noglobal/rois_ho/Yale_0050619_rois_ho.1D ...\n"
          ]
        },
        {
          "output_type": "stream",
          "name": "stderr",
          "text": [
            " ...done. (1 seconds, 0 min)\n"
          ]
        },
        {
          "output_type": "stream",
          "name": "stdout",
          "text": [
            "Downloading data from https://s3.amazonaws.com/fcp-indi/data/Projects/ABIDE_Initiative/Outputs/cpac/filt_noglobal/rois_ho/Yale_0050620_rois_ho.1D ...\n"
          ]
        },
        {
          "output_type": "stream",
          "name": "stderr",
          "text": [
            " ...done. (1 seconds, 0 min)\n"
          ]
        },
        {
          "output_type": "stream",
          "name": "stdout",
          "text": [
            "Downloading data from https://s3.amazonaws.com/fcp-indi/data/Projects/ABIDE_Initiative/Outputs/cpac/filt_noglobal/rois_ho/Yale_0050621_rois_ho.1D ...\n"
          ]
        },
        {
          "output_type": "stream",
          "name": "stderr",
          "text": [
            " ...done. (1 seconds, 0 min)\n"
          ]
        },
        {
          "output_type": "stream",
          "name": "stdout",
          "text": [
            "Downloading data from https://s3.amazonaws.com/fcp-indi/data/Projects/ABIDE_Initiative/Outputs/cpac/filt_noglobal/rois_ho/Yale_0050622_rois_ho.1D ...\n"
          ]
        },
        {
          "output_type": "stream",
          "name": "stderr",
          "text": [
            " ...done. (1 seconds, 0 min)\n"
          ]
        },
        {
          "output_type": "stream",
          "name": "stdout",
          "text": [
            "Downloading data from https://s3.amazonaws.com/fcp-indi/data/Projects/ABIDE_Initiative/Outputs/cpac/filt_noglobal/rois_ho/Yale_0050623_rois_ho.1D ...\n"
          ]
        },
        {
          "output_type": "stream",
          "name": "stderr",
          "text": [
            " ...done. (1 seconds, 0 min)\n"
          ]
        },
        {
          "output_type": "stream",
          "name": "stdout",
          "text": [
            "Downloading data from https://s3.amazonaws.com/fcp-indi/data/Projects/ABIDE_Initiative/Outputs/cpac/filt_noglobal/rois_ho/Yale_0050624_rois_ho.1D ...\n"
          ]
        },
        {
          "output_type": "stream",
          "name": "stderr",
          "text": [
            " ...done. (1 seconds, 0 min)\n"
          ]
        },
        {
          "output_type": "stream",
          "name": "stdout",
          "text": [
            "Downloading data from https://s3.amazonaws.com/fcp-indi/data/Projects/ABIDE_Initiative/Outputs/cpac/filt_noglobal/rois_ho/Yale_0050625_rois_ho.1D ...\n"
          ]
        },
        {
          "output_type": "stream",
          "name": "stderr",
          "text": [
            " ...done. (1 seconds, 0 min)\n"
          ]
        },
        {
          "output_type": "stream",
          "name": "stdout",
          "text": [
            "Downloading data from https://s3.amazonaws.com/fcp-indi/data/Projects/ABIDE_Initiative/Outputs/cpac/filt_noglobal/rois_ho/Yale_0050626_rois_ho.1D ...\n"
          ]
        },
        {
          "output_type": "stream",
          "name": "stderr",
          "text": [
            " ...done. (1 seconds, 0 min)\n"
          ]
        },
        {
          "output_type": "stream",
          "name": "stdout",
          "text": [
            "Downloading data from https://s3.amazonaws.com/fcp-indi/data/Projects/ABIDE_Initiative/Outputs/cpac/filt_noglobal/rois_ho/Yale_0050627_rois_ho.1D ...\n"
          ]
        },
        {
          "output_type": "stream",
          "name": "stderr",
          "text": [
            " ...done. (1 seconds, 0 min)\n"
          ]
        },
        {
          "output_type": "stream",
          "name": "stdout",
          "text": [
            "Downloading data from https://s3.amazonaws.com/fcp-indi/data/Projects/ABIDE_Initiative/Outputs/cpac/filt_noglobal/rois_ho/Yale_0050628_rois_ho.1D ...\n"
          ]
        },
        {
          "output_type": "stream",
          "name": "stderr",
          "text": [
            " ...done. (1 seconds, 0 min)\n"
          ]
        },
        {
          "output_type": "stream",
          "name": "stdout",
          "text": [
            "Downloading data from https://s3.amazonaws.com/fcp-indi/data/Projects/ABIDE_Initiative/Outputs/cpac/filt_noglobal/rois_ho/CMU_a_0050642_rois_ho.1D ...\n"
          ]
        },
        {
          "output_type": "stream",
          "name": "stderr",
          "text": [
            " ...done. (1 seconds, 0 min)\n"
          ]
        },
        {
          "output_type": "stream",
          "name": "stdout",
          "text": [
            "Downloading data from https://s3.amazonaws.com/fcp-indi/data/Projects/ABIDE_Initiative/Outputs/cpac/filt_noglobal/rois_ho/CMU_b_0050643_rois_ho.1D ...\n"
          ]
        },
        {
          "output_type": "stream",
          "name": "stderr",
          "text": [
            " ...done. (1 seconds, 0 min)\n"
          ]
        },
        {
          "output_type": "stream",
          "name": "stdout",
          "text": [
            "Downloading data from https://s3.amazonaws.com/fcp-indi/data/Projects/ABIDE_Initiative/Outputs/cpac/filt_noglobal/rois_ho/CMU_b_0050644_rois_ho.1D ...\n"
          ]
        },
        {
          "output_type": "stream",
          "name": "stderr",
          "text": [
            " ...done. (1 seconds, 0 min)\n"
          ]
        },
        {
          "output_type": "stream",
          "name": "stdout",
          "text": [
            "Downloading data from https://s3.amazonaws.com/fcp-indi/data/Projects/ABIDE_Initiative/Outputs/cpac/filt_noglobal/rois_ho/CMU_b_0050645_rois_ho.1D ...\n"
          ]
        },
        {
          "output_type": "stream",
          "name": "stderr",
          "text": [
            " ...done. (1 seconds, 0 min)\n"
          ]
        },
        {
          "output_type": "stream",
          "name": "stdout",
          "text": [
            "Downloading data from https://s3.amazonaws.com/fcp-indi/data/Projects/ABIDE_Initiative/Outputs/cpac/filt_noglobal/rois_ho/CMU_a_0050646_rois_ho.1D ...\n"
          ]
        },
        {
          "output_type": "stream",
          "name": "stderr",
          "text": [
            " ...done. (1 seconds, 0 min)\n"
          ]
        },
        {
          "output_type": "stream",
          "name": "stdout",
          "text": [
            "Downloading data from https://s3.amazonaws.com/fcp-indi/data/Projects/ABIDE_Initiative/Outputs/cpac/filt_noglobal/rois_ho/CMU_a_0050647_rois_ho.1D ...\n"
          ]
        },
        {
          "output_type": "stream",
          "name": "stderr",
          "text": [
            " ...done. (1 seconds, 0 min)\n"
          ]
        },
        {
          "output_type": "stream",
          "name": "stdout",
          "text": [
            "Downloading data from https://s3.amazonaws.com/fcp-indi/data/Projects/ABIDE_Initiative/Outputs/cpac/filt_noglobal/rois_ho/CMU_b_0050648_rois_ho.1D ...\n"
          ]
        },
        {
          "output_type": "stream",
          "name": "stderr",
          "text": [
            " ...done. (1 seconds, 0 min)\n"
          ]
        },
        {
          "output_type": "stream",
          "name": "stdout",
          "text": [
            "Downloading data from https://s3.amazonaws.com/fcp-indi/data/Projects/ABIDE_Initiative/Outputs/cpac/filt_noglobal/rois_ho/CMU_a_0050649_rois_ho.1D ...\n"
          ]
        },
        {
          "output_type": "stream",
          "name": "stderr",
          "text": [
            " ...done. (1 seconds, 0 min)\n"
          ]
        },
        {
          "output_type": "stream",
          "name": "stdout",
          "text": [
            "Downloading data from https://s3.amazonaws.com/fcp-indi/data/Projects/ABIDE_Initiative/Outputs/cpac/filt_noglobal/rois_ho/CMU_b_0050650_rois_ho.1D ...\n"
          ]
        },
        {
          "output_type": "stream",
          "name": "stderr",
          "text": [
            " ...done. (1 seconds, 0 min)\n"
          ]
        },
        {
          "output_type": "stream",
          "name": "stdout",
          "text": [
            "Downloading data from https://s3.amazonaws.com/fcp-indi/data/Projects/ABIDE_Initiative/Outputs/cpac/filt_noglobal/rois_ho/CMU_b_0050651_rois_ho.1D ...\n"
          ]
        },
        {
          "output_type": "stream",
          "name": "stderr",
          "text": [
            " ...done. (1 seconds, 0 min)\n"
          ]
        },
        {
          "output_type": "stream",
          "name": "stdout",
          "text": [
            "Downloading data from https://s3.amazonaws.com/fcp-indi/data/Projects/ABIDE_Initiative/Outputs/cpac/filt_noglobal/rois_ho/CMU_b_0050652_rois_ho.1D ...\n"
          ]
        },
        {
          "output_type": "stream",
          "name": "stderr",
          "text": [
            " ...done. (1 seconds, 0 min)\n"
          ]
        },
        {
          "output_type": "stream",
          "name": "stdout",
          "text": [
            "Downloading data from https://s3.amazonaws.com/fcp-indi/data/Projects/ABIDE_Initiative/Outputs/cpac/filt_noglobal/rois_ho/CMU_a_0050653_rois_ho.1D ...\n"
          ]
        },
        {
          "output_type": "stream",
          "name": "stderr",
          "text": [
            " ...done. (1 seconds, 0 min)\n"
          ]
        },
        {
          "output_type": "stream",
          "name": "stdout",
          "text": [
            "Downloading data from https://s3.amazonaws.com/fcp-indi/data/Projects/ABIDE_Initiative/Outputs/cpac/filt_noglobal/rois_ho/CMU_a_0050654_rois_ho.1D ...\n"
          ]
        },
        {
          "output_type": "stream",
          "name": "stderr",
          "text": [
            " ...done. (1 seconds, 0 min)\n"
          ]
        },
        {
          "output_type": "stream",
          "name": "stdout",
          "text": [
            "Downloading data from https://s3.amazonaws.com/fcp-indi/data/Projects/ABIDE_Initiative/Outputs/cpac/filt_noglobal/rois_ho/CMU_b_0050655_rois_ho.1D ...\n"
          ]
        },
        {
          "output_type": "stream",
          "name": "stderr",
          "text": [
            " ...done. (1 seconds, 0 min)\n"
          ]
        },
        {
          "output_type": "stream",
          "name": "stdout",
          "text": [
            "Downloading data from https://s3.amazonaws.com/fcp-indi/data/Projects/ABIDE_Initiative/Outputs/cpac/filt_noglobal/rois_ho/CMU_a_0050656_rois_ho.1D ...\n"
          ]
        },
        {
          "output_type": "stream",
          "name": "stderr",
          "text": [
            " ...done. (1 seconds, 0 min)\n"
          ]
        },
        {
          "output_type": "stream",
          "name": "stdout",
          "text": [
            "Downloading data from https://s3.amazonaws.com/fcp-indi/data/Projects/ABIDE_Initiative/Outputs/cpac/filt_noglobal/rois_ho/CMU_b_0050657_rois_ho.1D ...\n"
          ]
        },
        {
          "output_type": "stream",
          "name": "stderr",
          "text": [
            " ...done. (1 seconds, 0 min)\n"
          ]
        },
        {
          "output_type": "stream",
          "name": "stdout",
          "text": [
            "Downloading data from https://s3.amazonaws.com/fcp-indi/data/Projects/ABIDE_Initiative/Outputs/cpac/filt_noglobal/rois_ho/CMU_b_0050658_rois_ho.1D ...\n"
          ]
        },
        {
          "output_type": "stream",
          "name": "stderr",
          "text": [
            " ...done. (1 seconds, 0 min)\n"
          ]
        },
        {
          "output_type": "stream",
          "name": "stdout",
          "text": [
            "Downloading data from https://s3.amazonaws.com/fcp-indi/data/Projects/ABIDE_Initiative/Outputs/cpac/filt_noglobal/rois_ho/CMU_a_0050659_rois_ho.1D ...\n"
          ]
        },
        {
          "output_type": "stream",
          "name": "stderr",
          "text": [
            " ...done. (1 seconds, 0 min)\n"
          ]
        },
        {
          "output_type": "stream",
          "name": "stdout",
          "text": [
            "Downloading data from https://s3.amazonaws.com/fcp-indi/data/Projects/ABIDE_Initiative/Outputs/cpac/filt_noglobal/rois_ho/CMU_a_0050660_rois_ho.1D ...\n"
          ]
        },
        {
          "output_type": "stream",
          "name": "stderr",
          "text": [
            " ...done. (1 seconds, 0 min)\n"
          ]
        },
        {
          "output_type": "stream",
          "name": "stdout",
          "text": [
            "Downloading data from https://s3.amazonaws.com/fcp-indi/data/Projects/ABIDE_Initiative/Outputs/cpac/filt_noglobal/rois_ho/CMU_b_0050661_rois_ho.1D ...\n"
          ]
        },
        {
          "output_type": "stream",
          "name": "stderr",
          "text": [
            " ...done. (1 seconds, 0 min)\n"
          ]
        },
        {
          "output_type": "stream",
          "name": "stdout",
          "text": [
            "Downloading data from https://s3.amazonaws.com/fcp-indi/data/Projects/ABIDE_Initiative/Outputs/cpac/filt_noglobal/rois_ho/CMU_a_0050663_rois_ho.1D ...\n"
          ]
        },
        {
          "output_type": "stream",
          "name": "stderr",
          "text": [
            " ...done. (1 seconds, 0 min)\n"
          ]
        },
        {
          "output_type": "stream",
          "name": "stdout",
          "text": [
            "Downloading data from https://s3.amazonaws.com/fcp-indi/data/Projects/ABIDE_Initiative/Outputs/cpac/filt_noglobal/rois_ho/CMU_a_0050664_rois_ho.1D ...\n"
          ]
        },
        {
          "output_type": "stream",
          "name": "stderr",
          "text": [
            " ...done. (1 seconds, 0 min)\n"
          ]
        },
        {
          "output_type": "stream",
          "name": "stdout",
          "text": [
            "Downloading data from https://s3.amazonaws.com/fcp-indi/data/Projects/ABIDE_Initiative/Outputs/cpac/filt_noglobal/rois_ho/CMU_a_0050665_rois_ho.1D ...\n"
          ]
        },
        {
          "output_type": "stream",
          "name": "stderr",
          "text": [
            " ...done. (1 seconds, 0 min)\n"
          ]
        },
        {
          "output_type": "stream",
          "name": "stdout",
          "text": [
            "Downloading data from https://s3.amazonaws.com/fcp-indi/data/Projects/ABIDE_Initiative/Outputs/cpac/filt_noglobal/rois_ho/CMU_a_0050666_rois_ho.1D ...\n"
          ]
        },
        {
          "output_type": "stream",
          "name": "stderr",
          "text": [
            " ...done. (1 seconds, 0 min)\n"
          ]
        },
        {
          "output_type": "stream",
          "name": "stdout",
          "text": [
            "Downloading data from https://s3.amazonaws.com/fcp-indi/data/Projects/ABIDE_Initiative/Outputs/cpac/filt_noglobal/rois_ho/CMU_b_0050667_rois_ho.1D ...\n"
          ]
        },
        {
          "output_type": "stream",
          "name": "stderr",
          "text": [
            " ...done. (1 seconds, 0 min)\n"
          ]
        },
        {
          "output_type": "stream",
          "name": "stdout",
          "text": [
            "Downloading data from https://s3.amazonaws.com/fcp-indi/data/Projects/ABIDE_Initiative/Outputs/cpac/filt_noglobal/rois_ho/CMU_a_0050668_rois_ho.1D ...\n"
          ]
        },
        {
          "output_type": "stream",
          "name": "stderr",
          "text": [
            " ...done. (1 seconds, 0 min)\n"
          ]
        },
        {
          "output_type": "stream",
          "name": "stdout",
          "text": [
            "Downloading data from https://s3.amazonaws.com/fcp-indi/data/Projects/ABIDE_Initiative/Outputs/cpac/filt_noglobal/rois_ho/CMU_b_0050669_rois_ho.1D ...\n"
          ]
        },
        {
          "output_type": "stream",
          "name": "stderr",
          "text": [
            " ...done. (1 seconds, 0 min)\n"
          ]
        },
        {
          "output_type": "stream",
          "name": "stdout",
          "text": [
            "Downloading data from https://s3.amazonaws.com/fcp-indi/data/Projects/ABIDE_Initiative/Outputs/cpac/filt_noglobal/rois_ho/Leuven_1_0050682_rois_ho.1D ...\n"
          ]
        },
        {
          "output_type": "stream",
          "name": "stderr",
          "text": [
            " ...done. (1 seconds, 0 min)\n"
          ]
        },
        {
          "output_type": "stream",
          "name": "stdout",
          "text": [
            "Downloading data from https://s3.amazonaws.com/fcp-indi/data/Projects/ABIDE_Initiative/Outputs/cpac/filt_noglobal/rois_ho/Leuven_1_0050683_rois_ho.1D ...\n"
          ]
        },
        {
          "output_type": "stream",
          "name": "stderr",
          "text": [
            " ...done. (1 seconds, 0 min)\n"
          ]
        },
        {
          "output_type": "stream",
          "name": "stdout",
          "text": [
            "Downloading data from https://s3.amazonaws.com/fcp-indi/data/Projects/ABIDE_Initiative/Outputs/cpac/filt_noglobal/rois_ho/Leuven_1_0050685_rois_ho.1D ...\n"
          ]
        },
        {
          "output_type": "stream",
          "name": "stderr",
          "text": [
            " ...done. (1 seconds, 0 min)\n"
          ]
        },
        {
          "output_type": "stream",
          "name": "stdout",
          "text": [
            "Downloading data from https://s3.amazonaws.com/fcp-indi/data/Projects/ABIDE_Initiative/Outputs/cpac/filt_noglobal/rois_ho/Leuven_1_0050686_rois_ho.1D ...\n"
          ]
        },
        {
          "output_type": "stream",
          "name": "stderr",
          "text": [
            " ...done. (1 seconds, 0 min)\n"
          ]
        },
        {
          "output_type": "stream",
          "name": "stdout",
          "text": [
            "Downloading data from https://s3.amazonaws.com/fcp-indi/data/Projects/ABIDE_Initiative/Outputs/cpac/filt_noglobal/rois_ho/Leuven_1_0050687_rois_ho.1D ...\n"
          ]
        },
        {
          "output_type": "stream",
          "name": "stderr",
          "text": [
            " ...done. (1 seconds, 0 min)\n"
          ]
        },
        {
          "output_type": "stream",
          "name": "stdout",
          "text": [
            "Downloading data from https://s3.amazonaws.com/fcp-indi/data/Projects/ABIDE_Initiative/Outputs/cpac/filt_noglobal/rois_ho/Leuven_1_0050688_rois_ho.1D ...\n"
          ]
        },
        {
          "output_type": "stream",
          "name": "stderr",
          "text": [
            " ...done. (1 seconds, 0 min)\n"
          ]
        },
        {
          "output_type": "stream",
          "name": "stdout",
          "text": [
            "Downloading data from https://s3.amazonaws.com/fcp-indi/data/Projects/ABIDE_Initiative/Outputs/cpac/filt_noglobal/rois_ho/Leuven_1_0050689_rois_ho.1D ...\n"
          ]
        },
        {
          "output_type": "stream",
          "name": "stderr",
          "text": [
            " ...done. (1 seconds, 0 min)\n"
          ]
        },
        {
          "output_type": "stream",
          "name": "stdout",
          "text": [
            "Downloading data from https://s3.amazonaws.com/fcp-indi/data/Projects/ABIDE_Initiative/Outputs/cpac/filt_noglobal/rois_ho/Leuven_1_0050690_rois_ho.1D ...\n"
          ]
        },
        {
          "output_type": "stream",
          "name": "stderr",
          "text": [
            " ...done. (1 seconds, 0 min)\n"
          ]
        },
        {
          "output_type": "stream",
          "name": "stdout",
          "text": [
            "Downloading data from https://s3.amazonaws.com/fcp-indi/data/Projects/ABIDE_Initiative/Outputs/cpac/filt_noglobal/rois_ho/Leuven_1_0050691_rois_ho.1D ...\n"
          ]
        },
        {
          "output_type": "stream",
          "name": "stderr",
          "text": [
            " ...done. (1 seconds, 0 min)\n"
          ]
        },
        {
          "output_type": "stream",
          "name": "stdout",
          "text": [
            "Downloading data from https://s3.amazonaws.com/fcp-indi/data/Projects/ABIDE_Initiative/Outputs/cpac/filt_noglobal/rois_ho/Leuven_1_0050692_rois_ho.1D ...\n"
          ]
        },
        {
          "output_type": "stream",
          "name": "stderr",
          "text": [
            " ...done. (1 seconds, 0 min)\n"
          ]
        },
        {
          "output_type": "stream",
          "name": "stdout",
          "text": [
            "Downloading data from https://s3.amazonaws.com/fcp-indi/data/Projects/ABIDE_Initiative/Outputs/cpac/filt_noglobal/rois_ho/Leuven_1_0050693_rois_ho.1D ...\n"
          ]
        },
        {
          "output_type": "stream",
          "name": "stderr",
          "text": [
            " ...done. (1 seconds, 0 min)\n"
          ]
        },
        {
          "output_type": "stream",
          "name": "stdout",
          "text": [
            "Downloading data from https://s3.amazonaws.com/fcp-indi/data/Projects/ABIDE_Initiative/Outputs/cpac/filt_noglobal/rois_ho/Leuven_1_0050694_rois_ho.1D ...\n"
          ]
        },
        {
          "output_type": "stream",
          "name": "stderr",
          "text": [
            " ...done. (1 seconds, 0 min)\n"
          ]
        },
        {
          "output_type": "stream",
          "name": "stdout",
          "text": [
            "Downloading data from https://s3.amazonaws.com/fcp-indi/data/Projects/ABIDE_Initiative/Outputs/cpac/filt_noglobal/rois_ho/Leuven_1_0050695_rois_ho.1D ...\n"
          ]
        },
        {
          "output_type": "stream",
          "name": "stderr",
          "text": [
            " ...done. (1 seconds, 0 min)\n"
          ]
        },
        {
          "output_type": "stream",
          "name": "stdout",
          "text": [
            "Downloading data from https://s3.amazonaws.com/fcp-indi/data/Projects/ABIDE_Initiative/Outputs/cpac/filt_noglobal/rois_ho/Leuven_1_0050696_rois_ho.1D ...\n"
          ]
        },
        {
          "output_type": "stream",
          "name": "stderr",
          "text": [
            " ...done. (1 seconds, 0 min)\n"
          ]
        },
        {
          "output_type": "stream",
          "name": "stdout",
          "text": [
            "Downloading data from https://s3.amazonaws.com/fcp-indi/data/Projects/ABIDE_Initiative/Outputs/cpac/filt_noglobal/rois_ho/Leuven_1_0050697_rois_ho.1D ...\n"
          ]
        },
        {
          "output_type": "stream",
          "name": "stderr",
          "text": [
            " ...done. (1 seconds, 0 min)\n"
          ]
        },
        {
          "output_type": "stream",
          "name": "stdout",
          "text": [
            "Downloading data from https://s3.amazonaws.com/fcp-indi/data/Projects/ABIDE_Initiative/Outputs/cpac/filt_noglobal/rois_ho/Leuven_1_0050698_rois_ho.1D ...\n"
          ]
        },
        {
          "output_type": "stream",
          "name": "stderr",
          "text": [
            " ...done. (1 seconds, 0 min)\n"
          ]
        },
        {
          "output_type": "stream",
          "name": "stdout",
          "text": [
            "Downloading data from https://s3.amazonaws.com/fcp-indi/data/Projects/ABIDE_Initiative/Outputs/cpac/filt_noglobal/rois_ho/Leuven_1_0050699_rois_ho.1D ...\n"
          ]
        },
        {
          "output_type": "stream",
          "name": "stderr",
          "text": [
            " ...done. (1 seconds, 0 min)\n"
          ]
        },
        {
          "output_type": "stream",
          "name": "stdout",
          "text": [
            "Downloading data from https://s3.amazonaws.com/fcp-indi/data/Projects/ABIDE_Initiative/Outputs/cpac/filt_noglobal/rois_ho/Leuven_1_0050700_rois_ho.1D ...\n"
          ]
        },
        {
          "output_type": "stream",
          "name": "stderr",
          "text": [
            " ...done. (1 seconds, 0 min)\n"
          ]
        },
        {
          "output_type": "stream",
          "name": "stdout",
          "text": [
            "Downloading data from https://s3.amazonaws.com/fcp-indi/data/Projects/ABIDE_Initiative/Outputs/cpac/filt_noglobal/rois_ho/Leuven_1_0050701_rois_ho.1D ...\n"
          ]
        },
        {
          "output_type": "stream",
          "name": "stderr",
          "text": [
            " ...done. (1 seconds, 0 min)\n"
          ]
        },
        {
          "output_type": "stream",
          "name": "stdout",
          "text": [
            "Downloading data from https://s3.amazonaws.com/fcp-indi/data/Projects/ABIDE_Initiative/Outputs/cpac/filt_noglobal/rois_ho/Leuven_1_0050702_rois_ho.1D ...\n"
          ]
        },
        {
          "output_type": "stream",
          "name": "stderr",
          "text": [
            " ...done. (1 seconds, 0 min)\n"
          ]
        },
        {
          "output_type": "stream",
          "name": "stdout",
          "text": [
            "Downloading data from https://s3.amazonaws.com/fcp-indi/data/Projects/ABIDE_Initiative/Outputs/cpac/filt_noglobal/rois_ho/Leuven_1_0050703_rois_ho.1D ...\n"
          ]
        },
        {
          "output_type": "stream",
          "name": "stderr",
          "text": [
            " ...done. (1 seconds, 0 min)\n"
          ]
        },
        {
          "output_type": "stream",
          "name": "stdout",
          "text": [
            "Downloading data from https://s3.amazonaws.com/fcp-indi/data/Projects/ABIDE_Initiative/Outputs/cpac/filt_noglobal/rois_ho/Leuven_1_0050704_rois_ho.1D ...\n"
          ]
        },
        {
          "output_type": "stream",
          "name": "stderr",
          "text": [
            " ...done. (1 seconds, 0 min)\n"
          ]
        },
        {
          "output_type": "stream",
          "name": "stdout",
          "text": [
            "Downloading data from https://s3.amazonaws.com/fcp-indi/data/Projects/ABIDE_Initiative/Outputs/cpac/filt_noglobal/rois_ho/Leuven_1_0050705_rois_ho.1D ...\n"
          ]
        },
        {
          "output_type": "stream",
          "name": "stderr",
          "text": [
            " ...done. (1 seconds, 0 min)\n"
          ]
        },
        {
          "output_type": "stream",
          "name": "stdout",
          "text": [
            "Downloading data from https://s3.amazonaws.com/fcp-indi/data/Projects/ABIDE_Initiative/Outputs/cpac/filt_noglobal/rois_ho/Leuven_1_0050706_rois_ho.1D ...\n"
          ]
        },
        {
          "output_type": "stream",
          "name": "stderr",
          "text": [
            " ...done. (1 seconds, 0 min)\n"
          ]
        },
        {
          "output_type": "stream",
          "name": "stdout",
          "text": [
            "Downloading data from https://s3.amazonaws.com/fcp-indi/data/Projects/ABIDE_Initiative/Outputs/cpac/filt_noglobal/rois_ho/Leuven_1_0050707_rois_ho.1D ...\n"
          ]
        },
        {
          "output_type": "stream",
          "name": "stderr",
          "text": [
            " ...done. (1 seconds, 0 min)\n"
          ]
        },
        {
          "output_type": "stream",
          "name": "stdout",
          "text": [
            "Downloading data from https://s3.amazonaws.com/fcp-indi/data/Projects/ABIDE_Initiative/Outputs/cpac/filt_noglobal/rois_ho/Leuven_1_0050708_rois_ho.1D ...\n"
          ]
        },
        {
          "output_type": "stream",
          "name": "stderr",
          "text": [
            " ...done. (1 seconds, 0 min)\n"
          ]
        },
        {
          "output_type": "stream",
          "name": "stdout",
          "text": [
            "Downloading data from https://s3.amazonaws.com/fcp-indi/data/Projects/ABIDE_Initiative/Outputs/cpac/filt_noglobal/rois_ho/Leuven_1_0050709_rois_ho.1D ...\n"
          ]
        },
        {
          "output_type": "stream",
          "name": "stderr",
          "text": [
            " ...done. (1 seconds, 0 min)\n"
          ]
        },
        {
          "output_type": "stream",
          "name": "stdout",
          "text": [
            "Downloading data from https://s3.amazonaws.com/fcp-indi/data/Projects/ABIDE_Initiative/Outputs/cpac/filt_noglobal/rois_ho/Leuven_1_0050710_rois_ho.1D ...\n"
          ]
        },
        {
          "output_type": "stream",
          "name": "stderr",
          "text": [
            " ...done. (1 seconds, 0 min)\n"
          ]
        },
        {
          "output_type": "stream",
          "name": "stdout",
          "text": [
            "Downloading data from https://s3.amazonaws.com/fcp-indi/data/Projects/ABIDE_Initiative/Outputs/cpac/filt_noglobal/rois_ho/Leuven_1_0050711_rois_ho.1D ...\n"
          ]
        },
        {
          "output_type": "stream",
          "name": "stderr",
          "text": [
            " ...done. (1 seconds, 0 min)\n"
          ]
        },
        {
          "output_type": "stream",
          "name": "stdout",
          "text": [
            "Downloading data from https://s3.amazonaws.com/fcp-indi/data/Projects/ABIDE_Initiative/Outputs/cpac/filt_noglobal/rois_ho/Leuven_2_0050722_rois_ho.1D ...\n"
          ]
        },
        {
          "output_type": "stream",
          "name": "stderr",
          "text": [
            " ...done. (1 seconds, 0 min)\n"
          ]
        },
        {
          "output_type": "stream",
          "name": "stdout",
          "text": [
            "Downloading data from https://s3.amazonaws.com/fcp-indi/data/Projects/ABIDE_Initiative/Outputs/cpac/filt_noglobal/rois_ho/Leuven_2_0050723_rois_ho.1D ...\n"
          ]
        },
        {
          "output_type": "stream",
          "name": "stderr",
          "text": [
            " ...done. (1 seconds, 0 min)\n"
          ]
        },
        {
          "output_type": "stream",
          "name": "stdout",
          "text": [
            "Downloading data from https://s3.amazonaws.com/fcp-indi/data/Projects/ABIDE_Initiative/Outputs/cpac/filt_noglobal/rois_ho/Leuven_2_0050724_rois_ho.1D ...\n"
          ]
        },
        {
          "output_type": "stream",
          "name": "stderr",
          "text": [
            " ...done. (1 seconds, 0 min)\n"
          ]
        },
        {
          "output_type": "stream",
          "name": "stdout",
          "text": [
            "Downloading data from https://s3.amazonaws.com/fcp-indi/data/Projects/ABIDE_Initiative/Outputs/cpac/filt_noglobal/rois_ho/Leuven_2_0050725_rois_ho.1D ...\n"
          ]
        },
        {
          "output_type": "stream",
          "name": "stderr",
          "text": [
            " ...done. (1 seconds, 0 min)\n"
          ]
        },
        {
          "output_type": "stream",
          "name": "stdout",
          "text": [
            "Downloading data from https://s3.amazonaws.com/fcp-indi/data/Projects/ABIDE_Initiative/Outputs/cpac/filt_noglobal/rois_ho/Leuven_2_0050726_rois_ho.1D ...\n"
          ]
        },
        {
          "output_type": "stream",
          "name": "stderr",
          "text": [
            " ...done. (1 seconds, 0 min)\n"
          ]
        },
        {
          "output_type": "stream",
          "name": "stdout",
          "text": [
            "Downloading data from https://s3.amazonaws.com/fcp-indi/data/Projects/ABIDE_Initiative/Outputs/cpac/filt_noglobal/rois_ho/Leuven_2_0050727_rois_ho.1D ...\n"
          ]
        },
        {
          "output_type": "stream",
          "name": "stderr",
          "text": [
            " ...done. (1 seconds, 0 min)\n"
          ]
        },
        {
          "output_type": "stream",
          "name": "stdout",
          "text": [
            "Downloading data from https://s3.amazonaws.com/fcp-indi/data/Projects/ABIDE_Initiative/Outputs/cpac/filt_noglobal/rois_ho/Leuven_2_0050728_rois_ho.1D ...\n"
          ]
        },
        {
          "output_type": "stream",
          "name": "stderr",
          "text": [
            " ...done. (1 seconds, 0 min)\n"
          ]
        },
        {
          "output_type": "stream",
          "name": "stdout",
          "text": [
            "Downloading data from https://s3.amazonaws.com/fcp-indi/data/Projects/ABIDE_Initiative/Outputs/cpac/filt_noglobal/rois_ho/Leuven_2_0050730_rois_ho.1D ...\n"
          ]
        },
        {
          "output_type": "stream",
          "name": "stderr",
          "text": [
            " ...done. (1 seconds, 0 min)\n"
          ]
        },
        {
          "output_type": "stream",
          "name": "stdout",
          "text": [
            "Downloading data from https://s3.amazonaws.com/fcp-indi/data/Projects/ABIDE_Initiative/Outputs/cpac/filt_noglobal/rois_ho/Leuven_2_0050731_rois_ho.1D ...\n"
          ]
        },
        {
          "output_type": "stream",
          "name": "stderr",
          "text": [
            " ...done. (1 seconds, 0 min)\n"
          ]
        },
        {
          "output_type": "stream",
          "name": "stdout",
          "text": [
            "Downloading data from https://s3.amazonaws.com/fcp-indi/data/Projects/ABIDE_Initiative/Outputs/cpac/filt_noglobal/rois_ho/Leuven_2_0050732_rois_ho.1D ...\n"
          ]
        },
        {
          "output_type": "stream",
          "name": "stderr",
          "text": [
            " ...done. (1 seconds, 0 min)\n"
          ]
        },
        {
          "output_type": "stream",
          "name": "stdout",
          "text": [
            "Downloading data from https://s3.amazonaws.com/fcp-indi/data/Projects/ABIDE_Initiative/Outputs/cpac/filt_noglobal/rois_ho/Leuven_2_0050733_rois_ho.1D ...\n"
          ]
        },
        {
          "output_type": "stream",
          "name": "stderr",
          "text": [
            " ...done. (1 seconds, 0 min)\n"
          ]
        },
        {
          "output_type": "stream",
          "name": "stdout",
          "text": [
            "Downloading data from https://s3.amazonaws.com/fcp-indi/data/Projects/ABIDE_Initiative/Outputs/cpac/filt_noglobal/rois_ho/Leuven_2_0050735_rois_ho.1D ...\n"
          ]
        },
        {
          "output_type": "stream",
          "name": "stderr",
          "text": [
            " ...done. (1 seconds, 0 min)\n"
          ]
        },
        {
          "output_type": "stream",
          "name": "stdout",
          "text": [
            "Downloading data from https://s3.amazonaws.com/fcp-indi/data/Projects/ABIDE_Initiative/Outputs/cpac/filt_noglobal/rois_ho/Leuven_2_0050736_rois_ho.1D ...\n"
          ]
        },
        {
          "output_type": "stream",
          "name": "stderr",
          "text": [
            " ...done. (1 seconds, 0 min)\n"
          ]
        },
        {
          "output_type": "stream",
          "name": "stdout",
          "text": [
            "Downloading data from https://s3.amazonaws.com/fcp-indi/data/Projects/ABIDE_Initiative/Outputs/cpac/filt_noglobal/rois_ho/Leuven_2_0050737_rois_ho.1D ...\n"
          ]
        },
        {
          "output_type": "stream",
          "name": "stderr",
          "text": [
            " ...done. (1 seconds, 0 min)\n"
          ]
        },
        {
          "output_type": "stream",
          "name": "stdout",
          "text": [
            "Downloading data from https://s3.amazonaws.com/fcp-indi/data/Projects/ABIDE_Initiative/Outputs/cpac/filt_noglobal/rois_ho/Leuven_2_0050738_rois_ho.1D ...\n"
          ]
        },
        {
          "output_type": "stream",
          "name": "stderr",
          "text": [
            " ...done. (1 seconds, 0 min)\n"
          ]
        },
        {
          "output_type": "stream",
          "name": "stdout",
          "text": [
            "Downloading data from https://s3.amazonaws.com/fcp-indi/data/Projects/ABIDE_Initiative/Outputs/cpac/filt_noglobal/rois_ho/Leuven_2_0050739_rois_ho.1D ...\n"
          ]
        },
        {
          "output_type": "stream",
          "name": "stderr",
          "text": [
            " ...done. (1 seconds, 0 min)\n"
          ]
        },
        {
          "output_type": "stream",
          "name": "stdout",
          "text": [
            "Downloading data from https://s3.amazonaws.com/fcp-indi/data/Projects/ABIDE_Initiative/Outputs/cpac/filt_noglobal/rois_ho/Leuven_2_0050740_rois_ho.1D ...\n"
          ]
        },
        {
          "output_type": "stream",
          "name": "stderr",
          "text": [
            " ...done. (1 seconds, 0 min)\n"
          ]
        },
        {
          "output_type": "stream",
          "name": "stdout",
          "text": [
            "Downloading data from https://s3.amazonaws.com/fcp-indi/data/Projects/ABIDE_Initiative/Outputs/cpac/filt_noglobal/rois_ho/Leuven_2_0050741_rois_ho.1D ...\n"
          ]
        },
        {
          "output_type": "stream",
          "name": "stderr",
          "text": [
            " ...done. (1 seconds, 0 min)\n"
          ]
        },
        {
          "output_type": "stream",
          "name": "stdout",
          "text": [
            "Downloading data from https://s3.amazonaws.com/fcp-indi/data/Projects/ABIDE_Initiative/Outputs/cpac/filt_noglobal/rois_ho/Leuven_2_0050742_rois_ho.1D ...\n"
          ]
        },
        {
          "output_type": "stream",
          "name": "stderr",
          "text": [
            " ...done. (1 seconds, 0 min)\n"
          ]
        },
        {
          "output_type": "stream",
          "name": "stdout",
          "text": [
            "Downloading data from https://s3.amazonaws.com/fcp-indi/data/Projects/ABIDE_Initiative/Outputs/cpac/filt_noglobal/rois_ho/Leuven_2_0050743_rois_ho.1D ...\n"
          ]
        },
        {
          "output_type": "stream",
          "name": "stderr",
          "text": [
            " ...done. (1 seconds, 0 min)\n"
          ]
        },
        {
          "output_type": "stream",
          "name": "stdout",
          "text": [
            "Downloading data from https://s3.amazonaws.com/fcp-indi/data/Projects/ABIDE_Initiative/Outputs/cpac/filt_noglobal/rois_ho/Leuven_2_0050744_rois_ho.1D ...\n"
          ]
        },
        {
          "output_type": "stream",
          "name": "stderr",
          "text": [
            " ...done. (1 seconds, 0 min)\n"
          ]
        },
        {
          "output_type": "stream",
          "name": "stdout",
          "text": [
            "Downloading data from https://s3.amazonaws.com/fcp-indi/data/Projects/ABIDE_Initiative/Outputs/cpac/filt_noglobal/rois_ho/Leuven_2_0050745_rois_ho.1D ...\n"
          ]
        },
        {
          "output_type": "stream",
          "name": "stderr",
          "text": [
            " ...done. (1 seconds, 0 min)\n"
          ]
        },
        {
          "output_type": "stream",
          "name": "stdout",
          "text": [
            "Downloading data from https://s3.amazonaws.com/fcp-indi/data/Projects/ABIDE_Initiative/Outputs/cpac/filt_noglobal/rois_ho/Leuven_2_0050746_rois_ho.1D ...\n"
          ]
        },
        {
          "output_type": "stream",
          "name": "stderr",
          "text": [
            " ...done. (1 seconds, 0 min)\n"
          ]
        },
        {
          "output_type": "stream",
          "name": "stdout",
          "text": [
            "Downloading data from https://s3.amazonaws.com/fcp-indi/data/Projects/ABIDE_Initiative/Outputs/cpac/filt_noglobal/rois_ho/Leuven_2_0050747_rois_ho.1D ...\n"
          ]
        },
        {
          "output_type": "stream",
          "name": "stderr",
          "text": [
            " ...done. (1 seconds, 0 min)\n"
          ]
        },
        {
          "output_type": "stream",
          "name": "stdout",
          "text": [
            "Downloading data from https://s3.amazonaws.com/fcp-indi/data/Projects/ABIDE_Initiative/Outputs/cpac/filt_noglobal/rois_ho/Leuven_2_0050748_rois_ho.1D ...\n"
          ]
        },
        {
          "output_type": "stream",
          "name": "stderr",
          "text": [
            " ...done. (1 seconds, 0 min)\n"
          ]
        },
        {
          "output_type": "stream",
          "name": "stdout",
          "text": [
            "Downloading data from https://s3.amazonaws.com/fcp-indi/data/Projects/ABIDE_Initiative/Outputs/cpac/filt_noglobal/rois_ho/Leuven_2_0050749_rois_ho.1D ...\n"
          ]
        },
        {
          "output_type": "stream",
          "name": "stderr",
          "text": [
            " ...done. (1 seconds, 0 min)\n"
          ]
        },
        {
          "output_type": "stream",
          "name": "stdout",
          "text": [
            "Downloading data from https://s3.amazonaws.com/fcp-indi/data/Projects/ABIDE_Initiative/Outputs/cpac/filt_noglobal/rois_ho/Leuven_2_0050750_rois_ho.1D ...\n"
          ]
        },
        {
          "output_type": "stream",
          "name": "stderr",
          "text": [
            " ...done. (1 seconds, 0 min)\n"
          ]
        },
        {
          "output_type": "stream",
          "name": "stdout",
          "text": [
            "Downloading data from https://s3.amazonaws.com/fcp-indi/data/Projects/ABIDE_Initiative/Outputs/cpac/filt_noglobal/rois_ho/Leuven_2_0050751_rois_ho.1D ...\n"
          ]
        },
        {
          "output_type": "stream",
          "name": "stderr",
          "text": [
            " ...done. (1 seconds, 0 min)\n"
          ]
        },
        {
          "output_type": "stream",
          "name": "stdout",
          "text": [
            "Downloading data from https://s3.amazonaws.com/fcp-indi/data/Projects/ABIDE_Initiative/Outputs/cpac/filt_noglobal/rois_ho/Leuven_2_0050752_rois_ho.1D ...\n"
          ]
        },
        {
          "output_type": "stream",
          "name": "stderr",
          "text": [
            " ...done. (1 seconds, 0 min)\n"
          ]
        },
        {
          "output_type": "stream",
          "name": "stdout",
          "text": [
            "Downloading data from https://s3.amazonaws.com/fcp-indi/data/Projects/ABIDE_Initiative/Outputs/cpac/filt_noglobal/rois_ho/Leuven_2_0050753_rois_ho.1D ...\n"
          ]
        },
        {
          "output_type": "stream",
          "name": "stderr",
          "text": [
            " ...done. (1 seconds, 0 min)\n"
          ]
        },
        {
          "output_type": "stream",
          "name": "stdout",
          "text": [
            "Downloading data from https://s3.amazonaws.com/fcp-indi/data/Projects/ABIDE_Initiative/Outputs/cpac/filt_noglobal/rois_ho/Leuven_2_0050754_rois_ho.1D ...\n"
          ]
        },
        {
          "output_type": "stream",
          "name": "stderr",
          "text": [
            " ...done. (1 seconds, 0 min)\n"
          ]
        },
        {
          "output_type": "stream",
          "name": "stdout",
          "text": [
            "Downloading data from https://s3.amazonaws.com/fcp-indi/data/Projects/ABIDE_Initiative/Outputs/cpac/filt_noglobal/rois_ho/Leuven_2_0050755_rois_ho.1D ...\n"
          ]
        },
        {
          "output_type": "stream",
          "name": "stderr",
          "text": [
            " ...done. (1 seconds, 0 min)\n"
          ]
        },
        {
          "output_type": "stream",
          "name": "stdout",
          "text": [
            "Downloading data from https://s3.amazonaws.com/fcp-indi/data/Projects/ABIDE_Initiative/Outputs/cpac/filt_noglobal/rois_ho/Leuven_2_0050756_rois_ho.1D ...\n"
          ]
        },
        {
          "output_type": "stream",
          "name": "stderr",
          "text": [
            " ...done. (1 seconds, 0 min)\n"
          ]
        },
        {
          "output_type": "stream",
          "name": "stdout",
          "text": [
            "Downloading data from https://s3.amazonaws.com/fcp-indi/data/Projects/ABIDE_Initiative/Outputs/cpac/filt_noglobal/rois_ho/Leuven_2_0050757_rois_ho.1D ...\n"
          ]
        },
        {
          "output_type": "stream",
          "name": "stderr",
          "text": [
            " ...done. (1 seconds, 0 min)\n"
          ]
        },
        {
          "output_type": "stream",
          "name": "stdout",
          "text": [
            "Downloading data from https://s3.amazonaws.com/fcp-indi/data/Projects/ABIDE_Initiative/Outputs/cpac/filt_noglobal/rois_ho/KKI_0050772_rois_ho.1D ...\n"
          ]
        },
        {
          "output_type": "stream",
          "name": "stderr",
          "text": [
            " ...done. (1 seconds, 0 min)\n"
          ]
        },
        {
          "output_type": "stream",
          "name": "stdout",
          "text": [
            "Downloading data from https://s3.amazonaws.com/fcp-indi/data/Projects/ABIDE_Initiative/Outputs/cpac/filt_noglobal/rois_ho/KKI_0050773_rois_ho.1D ...\n"
          ]
        },
        {
          "output_type": "stream",
          "name": "stderr",
          "text": [
            " ...done. (1 seconds, 0 min)\n"
          ]
        },
        {
          "output_type": "stream",
          "name": "stdout",
          "text": [
            "Downloading data from https://s3.amazonaws.com/fcp-indi/data/Projects/ABIDE_Initiative/Outputs/cpac/filt_noglobal/rois_ho/KKI_0050774_rois_ho.1D ...\n"
          ]
        },
        {
          "output_type": "stream",
          "name": "stderr",
          "text": [
            " ...done. (1 seconds, 0 min)\n"
          ]
        },
        {
          "output_type": "stream",
          "name": "stdout",
          "text": [
            "Downloading data from https://s3.amazonaws.com/fcp-indi/data/Projects/ABIDE_Initiative/Outputs/cpac/filt_noglobal/rois_ho/KKI_0050775_rois_ho.1D ...\n"
          ]
        },
        {
          "output_type": "stream",
          "name": "stderr",
          "text": [
            " ...done. (1 seconds, 0 min)\n"
          ]
        },
        {
          "output_type": "stream",
          "name": "stdout",
          "text": [
            "Downloading data from https://s3.amazonaws.com/fcp-indi/data/Projects/ABIDE_Initiative/Outputs/cpac/filt_noglobal/rois_ho/KKI_0050776_rois_ho.1D ...\n"
          ]
        },
        {
          "output_type": "stream",
          "name": "stderr",
          "text": [
            " ...done. (1 seconds, 0 min)\n"
          ]
        },
        {
          "output_type": "stream",
          "name": "stdout",
          "text": [
            "Downloading data from https://s3.amazonaws.com/fcp-indi/data/Projects/ABIDE_Initiative/Outputs/cpac/filt_noglobal/rois_ho/KKI_0050777_rois_ho.1D ...\n"
          ]
        },
        {
          "output_type": "stream",
          "name": "stderr",
          "text": [
            " ...done. (1 seconds, 0 min)\n"
          ]
        },
        {
          "output_type": "stream",
          "name": "stdout",
          "text": [
            "Downloading data from https://s3.amazonaws.com/fcp-indi/data/Projects/ABIDE_Initiative/Outputs/cpac/filt_noglobal/rois_ho/KKI_0050778_rois_ho.1D ...\n"
          ]
        },
        {
          "output_type": "stream",
          "name": "stderr",
          "text": [
            " ...done. (1 seconds, 0 min)\n"
          ]
        },
        {
          "output_type": "stream",
          "name": "stdout",
          "text": [
            "Downloading data from https://s3.amazonaws.com/fcp-indi/data/Projects/ABIDE_Initiative/Outputs/cpac/filt_noglobal/rois_ho/KKI_0050779_rois_ho.1D ...\n"
          ]
        },
        {
          "output_type": "stream",
          "name": "stderr",
          "text": [
            " ...done. (1 seconds, 0 min)\n"
          ]
        },
        {
          "output_type": "stream",
          "name": "stdout",
          "text": [
            "Downloading data from https://s3.amazonaws.com/fcp-indi/data/Projects/ABIDE_Initiative/Outputs/cpac/filt_noglobal/rois_ho/KKI_0050780_rois_ho.1D ...\n"
          ]
        },
        {
          "output_type": "stream",
          "name": "stderr",
          "text": [
            " ...done. (1 seconds, 0 min)\n"
          ]
        },
        {
          "output_type": "stream",
          "name": "stdout",
          "text": [
            "Downloading data from https://s3.amazonaws.com/fcp-indi/data/Projects/ABIDE_Initiative/Outputs/cpac/filt_noglobal/rois_ho/KKI_0050781_rois_ho.1D ...\n"
          ]
        },
        {
          "output_type": "stream",
          "name": "stderr",
          "text": [
            " ...done. (1 seconds, 0 min)\n"
          ]
        },
        {
          "output_type": "stream",
          "name": "stdout",
          "text": [
            "Downloading data from https://s3.amazonaws.com/fcp-indi/data/Projects/ABIDE_Initiative/Outputs/cpac/filt_noglobal/rois_ho/KKI_0050782_rois_ho.1D ...\n"
          ]
        },
        {
          "output_type": "stream",
          "name": "stderr",
          "text": [
            " ...done. (1 seconds, 0 min)\n"
          ]
        },
        {
          "output_type": "stream",
          "name": "stdout",
          "text": [
            "Downloading data from https://s3.amazonaws.com/fcp-indi/data/Projects/ABIDE_Initiative/Outputs/cpac/filt_noglobal/rois_ho/KKI_0050783_rois_ho.1D ...\n"
          ]
        },
        {
          "output_type": "stream",
          "name": "stderr",
          "text": [
            " ...done. (1 seconds, 0 min)\n"
          ]
        },
        {
          "output_type": "stream",
          "name": "stdout",
          "text": [
            "Downloading data from https://s3.amazonaws.com/fcp-indi/data/Projects/ABIDE_Initiative/Outputs/cpac/filt_noglobal/rois_ho/KKI_0050784_rois_ho.1D ...\n"
          ]
        },
        {
          "output_type": "stream",
          "name": "stderr",
          "text": [
            " ...done. (1 seconds, 0 min)\n"
          ]
        },
        {
          "output_type": "stream",
          "name": "stdout",
          "text": [
            "Downloading data from https://s3.amazonaws.com/fcp-indi/data/Projects/ABIDE_Initiative/Outputs/cpac/filt_noglobal/rois_ho/KKI_0050785_rois_ho.1D ...\n"
          ]
        },
        {
          "output_type": "stream",
          "name": "stderr",
          "text": [
            " ...done. (1 seconds, 0 min)\n"
          ]
        },
        {
          "output_type": "stream",
          "name": "stdout",
          "text": [
            "Downloading data from https://s3.amazonaws.com/fcp-indi/data/Projects/ABIDE_Initiative/Outputs/cpac/filt_noglobal/rois_ho/KKI_0050786_rois_ho.1D ...\n"
          ]
        },
        {
          "output_type": "stream",
          "name": "stderr",
          "text": [
            " ...done. (1 seconds, 0 min)\n"
          ]
        },
        {
          "output_type": "stream",
          "name": "stdout",
          "text": [
            "Downloading data from https://s3.amazonaws.com/fcp-indi/data/Projects/ABIDE_Initiative/Outputs/cpac/filt_noglobal/rois_ho/KKI_0050787_rois_ho.1D ...\n"
          ]
        },
        {
          "output_type": "stream",
          "name": "stderr",
          "text": [
            " ...done. (1 seconds, 0 min)\n"
          ]
        },
        {
          "output_type": "stream",
          "name": "stdout",
          "text": [
            "Downloading data from https://s3.amazonaws.com/fcp-indi/data/Projects/ABIDE_Initiative/Outputs/cpac/filt_noglobal/rois_ho/KKI_0050788_rois_ho.1D ...\n"
          ]
        },
        {
          "output_type": "stream",
          "name": "stderr",
          "text": [
            " ...done. (1 seconds, 0 min)\n"
          ]
        },
        {
          "output_type": "stream",
          "name": "stdout",
          "text": [
            "Downloading data from https://s3.amazonaws.com/fcp-indi/data/Projects/ABIDE_Initiative/Outputs/cpac/filt_noglobal/rois_ho/KKI_0050789_rois_ho.1D ...\n"
          ]
        },
        {
          "output_type": "stream",
          "name": "stderr",
          "text": [
            " ...done. (1 seconds, 0 min)\n"
          ]
        },
        {
          "output_type": "stream",
          "name": "stdout",
          "text": [
            "Downloading data from https://s3.amazonaws.com/fcp-indi/data/Projects/ABIDE_Initiative/Outputs/cpac/filt_noglobal/rois_ho/KKI_0050790_rois_ho.1D ...\n"
          ]
        },
        {
          "output_type": "stream",
          "name": "stderr",
          "text": [
            " ...done. (1 seconds, 0 min)\n"
          ]
        },
        {
          "output_type": "stream",
          "name": "stdout",
          "text": [
            "Downloading data from https://s3.amazonaws.com/fcp-indi/data/Projects/ABIDE_Initiative/Outputs/cpac/filt_noglobal/rois_ho/KKI_0050791_rois_ho.1D ...\n"
          ]
        },
        {
          "output_type": "stream",
          "name": "stderr",
          "text": [
            " ...done. (1 seconds, 0 min)\n"
          ]
        },
        {
          "output_type": "stream",
          "name": "stdout",
          "text": [
            "Downloading data from https://s3.amazonaws.com/fcp-indi/data/Projects/ABIDE_Initiative/Outputs/cpac/filt_noglobal/rois_ho/KKI_0050792_rois_ho.1D ...\n"
          ]
        },
        {
          "output_type": "stream",
          "name": "stderr",
          "text": [
            " ...done. (1 seconds, 0 min)\n"
          ]
        },
        {
          "output_type": "stream",
          "name": "stdout",
          "text": [
            "Downloading data from https://s3.amazonaws.com/fcp-indi/data/Projects/ABIDE_Initiative/Outputs/cpac/filt_noglobal/rois_ho/KKI_0050793_rois_ho.1D ...\n"
          ]
        },
        {
          "output_type": "stream",
          "name": "stderr",
          "text": [
            " ...done. (1 seconds, 0 min)\n"
          ]
        },
        {
          "output_type": "stream",
          "name": "stdout",
          "text": [
            "Downloading data from https://s3.amazonaws.com/fcp-indi/data/Projects/ABIDE_Initiative/Outputs/cpac/filt_noglobal/rois_ho/KKI_0050794_rois_ho.1D ...\n"
          ]
        },
        {
          "output_type": "stream",
          "name": "stderr",
          "text": [
            " ...done. (1 seconds, 0 min)\n"
          ]
        },
        {
          "output_type": "stream",
          "name": "stdout",
          "text": [
            "Downloading data from https://s3.amazonaws.com/fcp-indi/data/Projects/ABIDE_Initiative/Outputs/cpac/filt_noglobal/rois_ho/KKI_0050795_rois_ho.1D ...\n"
          ]
        },
        {
          "output_type": "stream",
          "name": "stderr",
          "text": [
            " ...done. (1 seconds, 0 min)\n"
          ]
        },
        {
          "output_type": "stream",
          "name": "stdout",
          "text": [
            "Downloading data from https://s3.amazonaws.com/fcp-indi/data/Projects/ABIDE_Initiative/Outputs/cpac/filt_noglobal/rois_ho/KKI_0050796_rois_ho.1D ...\n"
          ]
        },
        {
          "output_type": "stream",
          "name": "stderr",
          "text": [
            " ...done. (1 seconds, 0 min)\n"
          ]
        },
        {
          "output_type": "stream",
          "name": "stdout",
          "text": [
            "Downloading data from https://s3.amazonaws.com/fcp-indi/data/Projects/ABIDE_Initiative/Outputs/cpac/filt_noglobal/rois_ho/KKI_0050797_rois_ho.1D ...\n"
          ]
        },
        {
          "output_type": "stream",
          "name": "stderr",
          "text": [
            " ...done. (1 seconds, 0 min)\n"
          ]
        },
        {
          "output_type": "stream",
          "name": "stdout",
          "text": [
            "Downloading data from https://s3.amazonaws.com/fcp-indi/data/Projects/ABIDE_Initiative/Outputs/cpac/filt_noglobal/rois_ho/KKI_0050798_rois_ho.1D ...\n"
          ]
        },
        {
          "output_type": "stream",
          "name": "stderr",
          "text": [
            " ...done. (1 seconds, 0 min)\n"
          ]
        },
        {
          "output_type": "stream",
          "name": "stdout",
          "text": [
            "Downloading data from https://s3.amazonaws.com/fcp-indi/data/Projects/ABIDE_Initiative/Outputs/cpac/filt_noglobal/rois_ho/KKI_0050799_rois_ho.1D ...\n"
          ]
        },
        {
          "output_type": "stream",
          "name": "stderr",
          "text": [
            " ...done. (1 seconds, 0 min)\n"
          ]
        },
        {
          "output_type": "stream",
          "name": "stdout",
          "text": [
            "Downloading data from https://s3.amazonaws.com/fcp-indi/data/Projects/ABIDE_Initiative/Outputs/cpac/filt_noglobal/rois_ho/KKI_0050800_rois_ho.1D ...\n"
          ]
        },
        {
          "output_type": "stream",
          "name": "stderr",
          "text": [
            " ...done. (1 seconds, 0 min)\n"
          ]
        },
        {
          "output_type": "stream",
          "name": "stdout",
          "text": [
            "Downloading data from https://s3.amazonaws.com/fcp-indi/data/Projects/ABIDE_Initiative/Outputs/cpac/filt_noglobal/rois_ho/KKI_0050801_rois_ho.1D ...\n"
          ]
        },
        {
          "output_type": "stream",
          "name": "stderr",
          "text": [
            " ...done. (1 seconds, 0 min)\n"
          ]
        },
        {
          "output_type": "stream",
          "name": "stdout",
          "text": [
            "Downloading data from https://s3.amazonaws.com/fcp-indi/data/Projects/ABIDE_Initiative/Outputs/cpac/filt_noglobal/rois_ho/KKI_0050802_rois_ho.1D ...\n"
          ]
        },
        {
          "output_type": "stream",
          "name": "stderr",
          "text": [
            " ...done. (1 seconds, 0 min)\n"
          ]
        },
        {
          "output_type": "stream",
          "name": "stdout",
          "text": [
            "Downloading data from https://s3.amazonaws.com/fcp-indi/data/Projects/ABIDE_Initiative/Outputs/cpac/filt_noglobal/rois_ho/KKI_0050803_rois_ho.1D ...\n"
          ]
        },
        {
          "output_type": "stream",
          "name": "stderr",
          "text": [
            " ...done. (1 seconds, 0 min)\n"
          ]
        },
        {
          "output_type": "stream",
          "name": "stdout",
          "text": [
            "Downloading data from https://s3.amazonaws.com/fcp-indi/data/Projects/ABIDE_Initiative/Outputs/cpac/filt_noglobal/rois_ho/KKI_0050804_rois_ho.1D ...\n"
          ]
        },
        {
          "output_type": "stream",
          "name": "stderr",
          "text": [
            " ...done. (1 seconds, 0 min)\n"
          ]
        },
        {
          "output_type": "stream",
          "name": "stdout",
          "text": [
            "Downloading data from https://s3.amazonaws.com/fcp-indi/data/Projects/ABIDE_Initiative/Outputs/cpac/filt_noglobal/rois_ho/KKI_0050807_rois_ho.1D ...\n"
          ]
        },
        {
          "output_type": "stream",
          "name": "stderr",
          "text": [
            " ...done. (1 seconds, 0 min)\n"
          ]
        },
        {
          "output_type": "stream",
          "name": "stdout",
          "text": [
            "Downloading data from https://s3.amazonaws.com/fcp-indi/data/Projects/ABIDE_Initiative/Outputs/cpac/filt_noglobal/rois_ho/KKI_0050812_rois_ho.1D ...\n"
          ]
        },
        {
          "output_type": "stream",
          "name": "stderr",
          "text": [
            " ...done. (1 seconds, 0 min)\n"
          ]
        },
        {
          "output_type": "stream",
          "name": "stdout",
          "text": [
            "Downloading data from https://s3.amazonaws.com/fcp-indi/data/Projects/ABIDE_Initiative/Outputs/cpac/filt_noglobal/rois_ho/KKI_0050814_rois_ho.1D ...\n"
          ]
        },
        {
          "output_type": "stream",
          "name": "stderr",
          "text": [
            " ...done. (1 seconds, 0 min)\n"
          ]
        },
        {
          "output_type": "stream",
          "name": "stdout",
          "text": [
            "Downloading data from https://s3.amazonaws.com/fcp-indi/data/Projects/ABIDE_Initiative/Outputs/cpac/filt_noglobal/rois_ho/KKI_0050815_rois_ho.1D ...\n"
          ]
        },
        {
          "output_type": "stream",
          "name": "stderr",
          "text": [
            " ...done. (1 seconds, 0 min)\n"
          ]
        },
        {
          "output_type": "stream",
          "name": "stdout",
          "text": [
            "Downloading data from https://s3.amazonaws.com/fcp-indi/data/Projects/ABIDE_Initiative/Outputs/cpac/filt_noglobal/rois_ho/KKI_0050816_rois_ho.1D ...\n"
          ]
        },
        {
          "output_type": "stream",
          "name": "stderr",
          "text": [
            " ...done. (1 seconds, 0 min)\n"
          ]
        },
        {
          "output_type": "stream",
          "name": "stdout",
          "text": [
            "Downloading data from https://s3.amazonaws.com/fcp-indi/data/Projects/ABIDE_Initiative/Outputs/cpac/filt_noglobal/rois_ho/KKI_0050817_rois_ho.1D ...\n"
          ]
        },
        {
          "output_type": "stream",
          "name": "stderr",
          "text": [
            " ...done. (1 seconds, 0 min)\n"
          ]
        },
        {
          "output_type": "stream",
          "name": "stdout",
          "text": [
            "Downloading data from https://s3.amazonaws.com/fcp-indi/data/Projects/ABIDE_Initiative/Outputs/cpac/filt_noglobal/rois_ho/KKI_0050818_rois_ho.1D ...\n"
          ]
        },
        {
          "output_type": "stream",
          "name": "stderr",
          "text": [
            " ...done. (1 seconds, 0 min)\n"
          ]
        },
        {
          "output_type": "stream",
          "name": "stdout",
          "text": [
            "Downloading data from https://s3.amazonaws.com/fcp-indi/data/Projects/ABIDE_Initiative/Outputs/cpac/filt_noglobal/rois_ho/KKI_0050819_rois_ho.1D ...\n"
          ]
        },
        {
          "output_type": "stream",
          "name": "stderr",
          "text": [
            " ...done. (1 seconds, 0 min)\n"
          ]
        },
        {
          "output_type": "stream",
          "name": "stdout",
          "text": [
            "Downloading data from https://s3.amazonaws.com/fcp-indi/data/Projects/ABIDE_Initiative/Outputs/cpac/filt_noglobal/rois_ho/KKI_0050820_rois_ho.1D ...\n"
          ]
        },
        {
          "output_type": "stream",
          "name": "stderr",
          "text": [
            " ...done. (1 seconds, 0 min)\n"
          ]
        },
        {
          "output_type": "stream",
          "name": "stdout",
          "text": [
            "Downloading data from https://s3.amazonaws.com/fcp-indi/data/Projects/ABIDE_Initiative/Outputs/cpac/filt_noglobal/rois_ho/KKI_0050821_rois_ho.1D ...\n"
          ]
        },
        {
          "output_type": "stream",
          "name": "stderr",
          "text": [
            " ...done. (1 seconds, 0 min)\n"
          ]
        },
        {
          "output_type": "stream",
          "name": "stdout",
          "text": [
            "Downloading data from https://s3.amazonaws.com/fcp-indi/data/Projects/ABIDE_Initiative/Outputs/cpac/filt_noglobal/rois_ho/KKI_0050822_rois_ho.1D ...\n"
          ]
        },
        {
          "output_type": "stream",
          "name": "stderr",
          "text": [
            " ...done. (1 seconds, 0 min)\n"
          ]
        },
        {
          "output_type": "stream",
          "name": "stdout",
          "text": [
            "Downloading data from https://s3.amazonaws.com/fcp-indi/data/Projects/ABIDE_Initiative/Outputs/cpac/filt_noglobal/rois_ho/KKI_0050823_rois_ho.1D ...\n"
          ]
        },
        {
          "output_type": "stream",
          "name": "stderr",
          "text": [
            " ...done. (1 seconds, 0 min)\n"
          ]
        },
        {
          "output_type": "stream",
          "name": "stdout",
          "text": [
            "Downloading data from https://s3.amazonaws.com/fcp-indi/data/Projects/ABIDE_Initiative/Outputs/cpac/filt_noglobal/rois_ho/KKI_0050824_rois_ho.1D ...\n"
          ]
        },
        {
          "output_type": "stream",
          "name": "stderr",
          "text": [
            " ...done. (1 seconds, 0 min)\n"
          ]
        },
        {
          "output_type": "stream",
          "name": "stdout",
          "text": [
            "Downloading data from https://s3.amazonaws.com/fcp-indi/data/Projects/ABIDE_Initiative/Outputs/cpac/filt_noglobal/rois_ho/KKI_0050825_rois_ho.1D ...\n"
          ]
        },
        {
          "output_type": "stream",
          "name": "stderr",
          "text": [
            " ...done. (1 seconds, 0 min)\n"
          ]
        },
        {
          "output_type": "stream",
          "name": "stdout",
          "text": [
            "Downloading data from https://s3.amazonaws.com/fcp-indi/data/Projects/ABIDE_Initiative/Outputs/cpac/filt_noglobal/rois_ho/KKI_0050826_rois_ho.1D ...\n"
          ]
        },
        {
          "output_type": "stream",
          "name": "stderr",
          "text": [
            " ...done. (1 seconds, 0 min)\n"
          ]
        },
        {
          "output_type": "stream",
          "name": "stdout",
          "text": [
            "Downloading data from https://s3.amazonaws.com/fcp-indi/data/Projects/ABIDE_Initiative/Outputs/cpac/filt_noglobal/rois_ho/NYU_0050952_rois_ho.1D ...\n"
          ]
        },
        {
          "output_type": "stream",
          "name": "stderr",
          "text": [
            " ...done. (1 seconds, 0 min)\n"
          ]
        },
        {
          "output_type": "stream",
          "name": "stdout",
          "text": [
            "Downloading data from https://s3.amazonaws.com/fcp-indi/data/Projects/ABIDE_Initiative/Outputs/cpac/filt_noglobal/rois_ho/NYU_0050954_rois_ho.1D ...\n"
          ]
        },
        {
          "output_type": "stream",
          "name": "stderr",
          "text": [
            " ...done. (1 seconds, 0 min)\n"
          ]
        },
        {
          "output_type": "stream",
          "name": "stdout",
          "text": [
            "Downloading data from https://s3.amazonaws.com/fcp-indi/data/Projects/ABIDE_Initiative/Outputs/cpac/filt_noglobal/rois_ho/NYU_0050955_rois_ho.1D ...\n"
          ]
        },
        {
          "output_type": "stream",
          "name": "stderr",
          "text": [
            " ...done. (1 seconds, 0 min)\n"
          ]
        },
        {
          "output_type": "stream",
          "name": "stdout",
          "text": [
            "Downloading data from https://s3.amazonaws.com/fcp-indi/data/Projects/ABIDE_Initiative/Outputs/cpac/filt_noglobal/rois_ho/NYU_0050956_rois_ho.1D ...\n"
          ]
        },
        {
          "output_type": "stream",
          "name": "stderr",
          "text": [
            " ...done. (1 seconds, 0 min)\n"
          ]
        },
        {
          "output_type": "stream",
          "name": "stdout",
          "text": [
            "Downloading data from https://s3.amazonaws.com/fcp-indi/data/Projects/ABIDE_Initiative/Outputs/cpac/filt_noglobal/rois_ho/NYU_0050957_rois_ho.1D ...\n"
          ]
        },
        {
          "output_type": "stream",
          "name": "stderr",
          "text": [
            " ...done. (1 seconds, 0 min)\n"
          ]
        },
        {
          "output_type": "stream",
          "name": "stdout",
          "text": [
            "Downloading data from https://s3.amazonaws.com/fcp-indi/data/Projects/ABIDE_Initiative/Outputs/cpac/filt_noglobal/rois_ho/NYU_0050958_rois_ho.1D ...\n"
          ]
        },
        {
          "output_type": "stream",
          "name": "stderr",
          "text": [
            " ...done. (1 seconds, 0 min)\n"
          ]
        },
        {
          "output_type": "stream",
          "name": "stdout",
          "text": [
            "Downloading data from https://s3.amazonaws.com/fcp-indi/data/Projects/ABIDE_Initiative/Outputs/cpac/filt_noglobal/rois_ho/NYU_0050959_rois_ho.1D ...\n"
          ]
        },
        {
          "output_type": "stream",
          "name": "stderr",
          "text": [
            " ...done. (1 seconds, 0 min)\n"
          ]
        },
        {
          "output_type": "stream",
          "name": "stdout",
          "text": [
            "Downloading data from https://s3.amazonaws.com/fcp-indi/data/Projects/ABIDE_Initiative/Outputs/cpac/filt_noglobal/rois_ho/NYU_0050960_rois_ho.1D ...\n"
          ]
        },
        {
          "output_type": "stream",
          "name": "stderr",
          "text": [
            " ...done. (1 seconds, 0 min)\n"
          ]
        },
        {
          "output_type": "stream",
          "name": "stdout",
          "text": [
            "Downloading data from https://s3.amazonaws.com/fcp-indi/data/Projects/ABIDE_Initiative/Outputs/cpac/filt_noglobal/rois_ho/NYU_0050961_rois_ho.1D ...\n"
          ]
        },
        {
          "output_type": "stream",
          "name": "stderr",
          "text": [
            " ...done. (1 seconds, 0 min)\n"
          ]
        },
        {
          "output_type": "stream",
          "name": "stdout",
          "text": [
            "Downloading data from https://s3.amazonaws.com/fcp-indi/data/Projects/ABIDE_Initiative/Outputs/cpac/filt_noglobal/rois_ho/NYU_0050962_rois_ho.1D ...\n"
          ]
        },
        {
          "output_type": "stream",
          "name": "stderr",
          "text": [
            " ...done. (1 seconds, 0 min)\n"
          ]
        },
        {
          "output_type": "stream",
          "name": "stdout",
          "text": [
            "Downloading data from https://s3.amazonaws.com/fcp-indi/data/Projects/ABIDE_Initiative/Outputs/cpac/filt_noglobal/rois_ho/NYU_0050964_rois_ho.1D ...\n"
          ]
        },
        {
          "output_type": "stream",
          "name": "stderr",
          "text": [
            " ...done. (1 seconds, 0 min)\n"
          ]
        },
        {
          "output_type": "stream",
          "name": "stdout",
          "text": [
            "Downloading data from https://s3.amazonaws.com/fcp-indi/data/Projects/ABIDE_Initiative/Outputs/cpac/filt_noglobal/rois_ho/NYU_0050965_rois_ho.1D ...\n"
          ]
        },
        {
          "output_type": "stream",
          "name": "stderr",
          "text": [
            " ...done. (1 seconds, 0 min)\n"
          ]
        },
        {
          "output_type": "stream",
          "name": "stdout",
          "text": [
            "Downloading data from https://s3.amazonaws.com/fcp-indi/data/Projects/ABIDE_Initiative/Outputs/cpac/filt_noglobal/rois_ho/NYU_0050966_rois_ho.1D ...\n"
          ]
        },
        {
          "output_type": "stream",
          "name": "stderr",
          "text": [
            " ...done. (1 seconds, 0 min)\n"
          ]
        },
        {
          "output_type": "stream",
          "name": "stdout",
          "text": [
            "Downloading data from https://s3.amazonaws.com/fcp-indi/data/Projects/ABIDE_Initiative/Outputs/cpac/filt_noglobal/rois_ho/NYU_0050967_rois_ho.1D ...\n"
          ]
        },
        {
          "output_type": "stream",
          "name": "stderr",
          "text": [
            " ...done. (1 seconds, 0 min)\n"
          ]
        },
        {
          "output_type": "stream",
          "name": "stdout",
          "text": [
            "Downloading data from https://s3.amazonaws.com/fcp-indi/data/Projects/ABIDE_Initiative/Outputs/cpac/filt_noglobal/rois_ho/NYU_0050968_rois_ho.1D ...\n"
          ]
        },
        {
          "output_type": "stream",
          "name": "stderr",
          "text": [
            " ...done. (1 seconds, 0 min)\n"
          ]
        },
        {
          "output_type": "stream",
          "name": "stdout",
          "text": [
            "Downloading data from https://s3.amazonaws.com/fcp-indi/data/Projects/ABIDE_Initiative/Outputs/cpac/filt_noglobal/rois_ho/NYU_0050969_rois_ho.1D ...\n"
          ]
        },
        {
          "output_type": "stream",
          "name": "stderr",
          "text": [
            " ...done. (1 seconds, 0 min)\n"
          ]
        },
        {
          "output_type": "stream",
          "name": "stdout",
          "text": [
            "Downloading data from https://s3.amazonaws.com/fcp-indi/data/Projects/ABIDE_Initiative/Outputs/cpac/filt_noglobal/rois_ho/NYU_0050970_rois_ho.1D ...\n"
          ]
        },
        {
          "output_type": "stream",
          "name": "stderr",
          "text": [
            " ...done. (1 seconds, 0 min)\n"
          ]
        },
        {
          "output_type": "stream",
          "name": "stdout",
          "text": [
            "Downloading data from https://s3.amazonaws.com/fcp-indi/data/Projects/ABIDE_Initiative/Outputs/cpac/filt_noglobal/rois_ho/NYU_0050972_rois_ho.1D ...\n"
          ]
        },
        {
          "output_type": "stream",
          "name": "stderr",
          "text": [
            " ...done. (1 seconds, 0 min)\n"
          ]
        },
        {
          "output_type": "stream",
          "name": "stdout",
          "text": [
            "Downloading data from https://s3.amazonaws.com/fcp-indi/data/Projects/ABIDE_Initiative/Outputs/cpac/filt_noglobal/rois_ho/NYU_0050973_rois_ho.1D ...\n"
          ]
        },
        {
          "output_type": "stream",
          "name": "stderr",
          "text": [
            " ...done. (1 seconds, 0 min)\n"
          ]
        },
        {
          "output_type": "stream",
          "name": "stdout",
          "text": [
            "Downloading data from https://s3.amazonaws.com/fcp-indi/data/Projects/ABIDE_Initiative/Outputs/cpac/filt_noglobal/rois_ho/NYU_0050974_rois_ho.1D ...\n"
          ]
        },
        {
          "output_type": "stream",
          "name": "stderr",
          "text": [
            " ...done. (1 seconds, 0 min)\n"
          ]
        },
        {
          "output_type": "stream",
          "name": "stdout",
          "text": [
            "Downloading data from https://s3.amazonaws.com/fcp-indi/data/Projects/ABIDE_Initiative/Outputs/cpac/filt_noglobal/rois_ho/NYU_0050976_rois_ho.1D ...\n"
          ]
        },
        {
          "output_type": "stream",
          "name": "stderr",
          "text": [
            " ...done. (1 seconds, 0 min)\n"
          ]
        },
        {
          "output_type": "stream",
          "name": "stdout",
          "text": [
            "Downloading data from https://s3.amazonaws.com/fcp-indi/data/Projects/ABIDE_Initiative/Outputs/cpac/filt_noglobal/rois_ho/NYU_0050977_rois_ho.1D ...\n"
          ]
        },
        {
          "output_type": "stream",
          "name": "stderr",
          "text": [
            " ...done. (1 seconds, 0 min)\n"
          ]
        },
        {
          "output_type": "stream",
          "name": "stdout",
          "text": [
            "Downloading data from https://s3.amazonaws.com/fcp-indi/data/Projects/ABIDE_Initiative/Outputs/cpac/filt_noglobal/rois_ho/NYU_0050978_rois_ho.1D ...\n"
          ]
        },
        {
          "output_type": "stream",
          "name": "stderr",
          "text": [
            " ...done. (1 seconds, 0 min)\n"
          ]
        },
        {
          "output_type": "stream",
          "name": "stdout",
          "text": [
            "Downloading data from https://s3.amazonaws.com/fcp-indi/data/Projects/ABIDE_Initiative/Outputs/cpac/filt_noglobal/rois_ho/NYU_0050979_rois_ho.1D ...\n"
          ]
        },
        {
          "output_type": "stream",
          "name": "stderr",
          "text": [
            " ...done. (1 seconds, 0 min)\n"
          ]
        },
        {
          "output_type": "stream",
          "name": "stdout",
          "text": [
            "Downloading data from https://s3.amazonaws.com/fcp-indi/data/Projects/ABIDE_Initiative/Outputs/cpac/filt_noglobal/rois_ho/NYU_0050981_rois_ho.1D ...\n"
          ]
        },
        {
          "output_type": "stream",
          "name": "stderr",
          "text": [
            " ...done. (1 seconds, 0 min)\n"
          ]
        },
        {
          "output_type": "stream",
          "name": "stdout",
          "text": [
            "Downloading data from https://s3.amazonaws.com/fcp-indi/data/Projects/ABIDE_Initiative/Outputs/cpac/filt_noglobal/rois_ho/NYU_0050982_rois_ho.1D ...\n"
          ]
        },
        {
          "output_type": "stream",
          "name": "stderr",
          "text": [
            " ...done. (1 seconds, 0 min)\n"
          ]
        },
        {
          "output_type": "stream",
          "name": "stdout",
          "text": [
            "Downloading data from https://s3.amazonaws.com/fcp-indi/data/Projects/ABIDE_Initiative/Outputs/cpac/filt_noglobal/rois_ho/NYU_0050983_rois_ho.1D ...\n"
          ]
        },
        {
          "output_type": "stream",
          "name": "stderr",
          "text": [
            " ...done. (1 seconds, 0 min)\n"
          ]
        },
        {
          "output_type": "stream",
          "name": "stdout",
          "text": [
            "Downloading data from https://s3.amazonaws.com/fcp-indi/data/Projects/ABIDE_Initiative/Outputs/cpac/filt_noglobal/rois_ho/NYU_0050984_rois_ho.1D ...\n"
          ]
        },
        {
          "output_type": "stream",
          "name": "stderr",
          "text": [
            " ...done. (1 seconds, 0 min)\n"
          ]
        },
        {
          "output_type": "stream",
          "name": "stdout",
          "text": [
            "Downloading data from https://s3.amazonaws.com/fcp-indi/data/Projects/ABIDE_Initiative/Outputs/cpac/filt_noglobal/rois_ho/NYU_0050985_rois_ho.1D ...\n"
          ]
        },
        {
          "output_type": "stream",
          "name": "stderr",
          "text": [
            " ...done. (1 seconds, 0 min)\n"
          ]
        },
        {
          "output_type": "stream",
          "name": "stdout",
          "text": [
            "Downloading data from https://s3.amazonaws.com/fcp-indi/data/Projects/ABIDE_Initiative/Outputs/cpac/filt_noglobal/rois_ho/NYU_0050986_rois_ho.1D ...\n"
          ]
        },
        {
          "output_type": "stream",
          "name": "stderr",
          "text": [
            " ...done. (1 seconds, 0 min)\n"
          ]
        },
        {
          "output_type": "stream",
          "name": "stdout",
          "text": [
            "Downloading data from https://s3.amazonaws.com/fcp-indi/data/Projects/ABIDE_Initiative/Outputs/cpac/filt_noglobal/rois_ho/NYU_0050987_rois_ho.1D ...\n"
          ]
        },
        {
          "output_type": "stream",
          "name": "stderr",
          "text": [
            " ...done. (1 seconds, 0 min)\n"
          ]
        },
        {
          "output_type": "stream",
          "name": "stdout",
          "text": [
            "Downloading data from https://s3.amazonaws.com/fcp-indi/data/Projects/ABIDE_Initiative/Outputs/cpac/filt_noglobal/rois_ho/NYU_0050988_rois_ho.1D ...\n"
          ]
        },
        {
          "output_type": "stream",
          "name": "stderr",
          "text": [
            " ...done. (1 seconds, 0 min)\n"
          ]
        },
        {
          "output_type": "stream",
          "name": "stdout",
          "text": [
            "Downloading data from https://s3.amazonaws.com/fcp-indi/data/Projects/ABIDE_Initiative/Outputs/cpac/filt_noglobal/rois_ho/NYU_0050989_rois_ho.1D ...\n"
          ]
        },
        {
          "output_type": "stream",
          "name": "stderr",
          "text": [
            " ...done. (1 seconds, 0 min)\n"
          ]
        },
        {
          "output_type": "stream",
          "name": "stdout",
          "text": [
            "Downloading data from https://s3.amazonaws.com/fcp-indi/data/Projects/ABIDE_Initiative/Outputs/cpac/filt_noglobal/rois_ho/NYU_0050990_rois_ho.1D ...\n"
          ]
        },
        {
          "output_type": "stream",
          "name": "stderr",
          "text": [
            " ...done. (1 seconds, 0 min)\n"
          ]
        },
        {
          "output_type": "stream",
          "name": "stdout",
          "text": [
            "Downloading data from https://s3.amazonaws.com/fcp-indi/data/Projects/ABIDE_Initiative/Outputs/cpac/filt_noglobal/rois_ho/NYU_0050991_rois_ho.1D ...\n"
          ]
        },
        {
          "output_type": "stream",
          "name": "stderr",
          "text": [
            " ...done. (1 seconds, 0 min)\n"
          ]
        },
        {
          "output_type": "stream",
          "name": "stdout",
          "text": [
            "Downloading data from https://s3.amazonaws.com/fcp-indi/data/Projects/ABIDE_Initiative/Outputs/cpac/filt_noglobal/rois_ho/NYU_0050992_rois_ho.1D ...\n"
          ]
        },
        {
          "output_type": "stream",
          "name": "stderr",
          "text": [
            " ...done. (1 seconds, 0 min)\n"
          ]
        },
        {
          "output_type": "stream",
          "name": "stdout",
          "text": [
            "Downloading data from https://s3.amazonaws.com/fcp-indi/data/Projects/ABIDE_Initiative/Outputs/cpac/filt_noglobal/rois_ho/NYU_0050993_rois_ho.1D ...\n"
          ]
        },
        {
          "output_type": "stream",
          "name": "stderr",
          "text": [
            " ...done. (1 seconds, 0 min)\n"
          ]
        },
        {
          "output_type": "stream",
          "name": "stdout",
          "text": [
            "Downloading data from https://s3.amazonaws.com/fcp-indi/data/Projects/ABIDE_Initiative/Outputs/cpac/filt_noglobal/rois_ho/NYU_0050994_rois_ho.1D ...\n"
          ]
        },
        {
          "output_type": "stream",
          "name": "stderr",
          "text": [
            " ...done. (1 seconds, 0 min)\n"
          ]
        },
        {
          "output_type": "stream",
          "name": "stdout",
          "text": [
            "Downloading data from https://s3.amazonaws.com/fcp-indi/data/Projects/ABIDE_Initiative/Outputs/cpac/filt_noglobal/rois_ho/NYU_0050995_rois_ho.1D ...\n"
          ]
        },
        {
          "output_type": "stream",
          "name": "stderr",
          "text": [
            " ...done. (1 seconds, 0 min)\n"
          ]
        },
        {
          "output_type": "stream",
          "name": "stdout",
          "text": [
            "Downloading data from https://s3.amazonaws.com/fcp-indi/data/Projects/ABIDE_Initiative/Outputs/cpac/filt_noglobal/rois_ho/NYU_0050996_rois_ho.1D ...\n"
          ]
        },
        {
          "output_type": "stream",
          "name": "stderr",
          "text": [
            " ...done. (1 seconds, 0 min)\n"
          ]
        },
        {
          "output_type": "stream",
          "name": "stdout",
          "text": [
            "Downloading data from https://s3.amazonaws.com/fcp-indi/data/Projects/ABIDE_Initiative/Outputs/cpac/filt_noglobal/rois_ho/NYU_0050997_rois_ho.1D ...\n"
          ]
        },
        {
          "output_type": "stream",
          "name": "stderr",
          "text": [
            " ...done. (1 seconds, 0 min)\n"
          ]
        },
        {
          "output_type": "stream",
          "name": "stdout",
          "text": [
            "Downloading data from https://s3.amazonaws.com/fcp-indi/data/Projects/ABIDE_Initiative/Outputs/cpac/filt_noglobal/rois_ho/NYU_0050998_rois_ho.1D ...\n"
          ]
        },
        {
          "output_type": "stream",
          "name": "stderr",
          "text": [
            " ...done. (1 seconds, 0 min)\n"
          ]
        },
        {
          "output_type": "stream",
          "name": "stdout",
          "text": [
            "Downloading data from https://s3.amazonaws.com/fcp-indi/data/Projects/ABIDE_Initiative/Outputs/cpac/filt_noglobal/rois_ho/NYU_0050999_rois_ho.1D ...\n"
          ]
        },
        {
          "output_type": "stream",
          "name": "stderr",
          "text": [
            " ...done. (1 seconds, 0 min)\n"
          ]
        },
        {
          "output_type": "stream",
          "name": "stdout",
          "text": [
            "Downloading data from https://s3.amazonaws.com/fcp-indi/data/Projects/ABIDE_Initiative/Outputs/cpac/filt_noglobal/rois_ho/NYU_0051000_rois_ho.1D ...\n"
          ]
        },
        {
          "output_type": "stream",
          "name": "stderr",
          "text": [
            " ...done. (1 seconds, 0 min)\n"
          ]
        },
        {
          "output_type": "stream",
          "name": "stdout",
          "text": [
            "Downloading data from https://s3.amazonaws.com/fcp-indi/data/Projects/ABIDE_Initiative/Outputs/cpac/filt_noglobal/rois_ho/NYU_0051001_rois_ho.1D ...\n"
          ]
        },
        {
          "output_type": "stream",
          "name": "stderr",
          "text": [
            " ...done. (1 seconds, 0 min)\n"
          ]
        },
        {
          "output_type": "stream",
          "name": "stdout",
          "text": [
            "Downloading data from https://s3.amazonaws.com/fcp-indi/data/Projects/ABIDE_Initiative/Outputs/cpac/filt_noglobal/rois_ho/NYU_0051002_rois_ho.1D ...\n"
          ]
        },
        {
          "output_type": "stream",
          "name": "stderr",
          "text": [
            " ...done. (1 seconds, 0 min)\n"
          ]
        },
        {
          "output_type": "stream",
          "name": "stdout",
          "text": [
            "Downloading data from https://s3.amazonaws.com/fcp-indi/data/Projects/ABIDE_Initiative/Outputs/cpac/filt_noglobal/rois_ho/NYU_0051003_rois_ho.1D ...\n"
          ]
        },
        {
          "output_type": "stream",
          "name": "stderr",
          "text": [
            " ...done. (1 seconds, 0 min)\n"
          ]
        },
        {
          "output_type": "stream",
          "name": "stdout",
          "text": [
            "Downloading data from https://s3.amazonaws.com/fcp-indi/data/Projects/ABIDE_Initiative/Outputs/cpac/filt_noglobal/rois_ho/NYU_0051006_rois_ho.1D ...\n"
          ]
        },
        {
          "output_type": "stream",
          "name": "stderr",
          "text": [
            " ...done. (1 seconds, 0 min)\n"
          ]
        },
        {
          "output_type": "stream",
          "name": "stdout",
          "text": [
            "Downloading data from https://s3.amazonaws.com/fcp-indi/data/Projects/ABIDE_Initiative/Outputs/cpac/filt_noglobal/rois_ho/NYU_0051007_rois_ho.1D ...\n"
          ]
        },
        {
          "output_type": "stream",
          "name": "stderr",
          "text": [
            " ...done. (1 seconds, 0 min)\n"
          ]
        },
        {
          "output_type": "stream",
          "name": "stdout",
          "text": [
            "Downloading data from https://s3.amazonaws.com/fcp-indi/data/Projects/ABIDE_Initiative/Outputs/cpac/filt_noglobal/rois_ho/NYU_0051008_rois_ho.1D ...\n"
          ]
        },
        {
          "output_type": "stream",
          "name": "stderr",
          "text": [
            " ...done. (1 seconds, 0 min)\n"
          ]
        },
        {
          "output_type": "stream",
          "name": "stdout",
          "text": [
            "Downloading data from https://s3.amazonaws.com/fcp-indi/data/Projects/ABIDE_Initiative/Outputs/cpac/filt_noglobal/rois_ho/NYU_0051009_rois_ho.1D ...\n"
          ]
        },
        {
          "output_type": "stream",
          "name": "stderr",
          "text": [
            " ...done. (1 seconds, 0 min)\n"
          ]
        },
        {
          "output_type": "stream",
          "name": "stdout",
          "text": [
            "Downloading data from https://s3.amazonaws.com/fcp-indi/data/Projects/ABIDE_Initiative/Outputs/cpac/filt_noglobal/rois_ho/NYU_0051010_rois_ho.1D ...\n"
          ]
        },
        {
          "output_type": "stream",
          "name": "stderr",
          "text": [
            " ...done. (1 seconds, 0 min)\n"
          ]
        },
        {
          "output_type": "stream",
          "name": "stdout",
          "text": [
            "Downloading data from https://s3.amazonaws.com/fcp-indi/data/Projects/ABIDE_Initiative/Outputs/cpac/filt_noglobal/rois_ho/NYU_0051011_rois_ho.1D ...\n"
          ]
        },
        {
          "output_type": "stream",
          "name": "stderr",
          "text": [
            " ...done. (1 seconds, 0 min)\n"
          ]
        },
        {
          "output_type": "stream",
          "name": "stdout",
          "text": [
            "Downloading data from https://s3.amazonaws.com/fcp-indi/data/Projects/ABIDE_Initiative/Outputs/cpac/filt_noglobal/rois_ho/NYU_0051012_rois_ho.1D ...\n"
          ]
        },
        {
          "output_type": "stream",
          "name": "stderr",
          "text": [
            " ...done. (1 seconds, 0 min)\n"
          ]
        },
        {
          "output_type": "stream",
          "name": "stdout",
          "text": [
            "Downloading data from https://s3.amazonaws.com/fcp-indi/data/Projects/ABIDE_Initiative/Outputs/cpac/filt_noglobal/rois_ho/NYU_0051013_rois_ho.1D ...\n"
          ]
        },
        {
          "output_type": "stream",
          "name": "stderr",
          "text": [
            " ...done. (1 seconds, 0 min)\n"
          ]
        },
        {
          "output_type": "stream",
          "name": "stdout",
          "text": [
            "Downloading data from https://s3.amazonaws.com/fcp-indi/data/Projects/ABIDE_Initiative/Outputs/cpac/filt_noglobal/rois_ho/NYU_0051014_rois_ho.1D ...\n"
          ]
        },
        {
          "output_type": "stream",
          "name": "stderr",
          "text": [
            " ...done. (1 seconds, 0 min)\n"
          ]
        },
        {
          "output_type": "stream",
          "name": "stdout",
          "text": [
            "Downloading data from https://s3.amazonaws.com/fcp-indi/data/Projects/ABIDE_Initiative/Outputs/cpac/filt_noglobal/rois_ho/NYU_0051015_rois_ho.1D ...\n"
          ]
        },
        {
          "output_type": "stream",
          "name": "stderr",
          "text": [
            " ...done. (1 seconds, 0 min)\n"
          ]
        },
        {
          "output_type": "stream",
          "name": "stdout",
          "text": [
            "Downloading data from https://s3.amazonaws.com/fcp-indi/data/Projects/ABIDE_Initiative/Outputs/cpac/filt_noglobal/rois_ho/NYU_0051016_rois_ho.1D ...\n"
          ]
        },
        {
          "output_type": "stream",
          "name": "stderr",
          "text": [
            " ...done. (1 seconds, 0 min)\n"
          ]
        },
        {
          "output_type": "stream",
          "name": "stdout",
          "text": [
            "Downloading data from https://s3.amazonaws.com/fcp-indi/data/Projects/ABIDE_Initiative/Outputs/cpac/filt_noglobal/rois_ho/NYU_0051017_rois_ho.1D ...\n"
          ]
        },
        {
          "output_type": "stream",
          "name": "stderr",
          "text": [
            " ...done. (1 seconds, 0 min)\n"
          ]
        },
        {
          "output_type": "stream",
          "name": "stdout",
          "text": [
            "Downloading data from https://s3.amazonaws.com/fcp-indi/data/Projects/ABIDE_Initiative/Outputs/cpac/filt_noglobal/rois_ho/NYU_0051018_rois_ho.1D ...\n"
          ]
        },
        {
          "output_type": "stream",
          "name": "stderr",
          "text": [
            " ...done. (1 seconds, 0 min)\n"
          ]
        },
        {
          "output_type": "stream",
          "name": "stdout",
          "text": [
            "Downloading data from https://s3.amazonaws.com/fcp-indi/data/Projects/ABIDE_Initiative/Outputs/cpac/filt_noglobal/rois_ho/NYU_0051019_rois_ho.1D ...\n"
          ]
        },
        {
          "output_type": "stream",
          "name": "stderr",
          "text": [
            " ...done. (1 seconds, 0 min)\n"
          ]
        },
        {
          "output_type": "stream",
          "name": "stdout",
          "text": [
            "Downloading data from https://s3.amazonaws.com/fcp-indi/data/Projects/ABIDE_Initiative/Outputs/cpac/filt_noglobal/rois_ho/NYU_0051020_rois_ho.1D ...\n"
          ]
        },
        {
          "output_type": "stream",
          "name": "stderr",
          "text": [
            " ...done. (1 seconds, 0 min)\n"
          ]
        },
        {
          "output_type": "stream",
          "name": "stdout",
          "text": [
            "Downloading data from https://s3.amazonaws.com/fcp-indi/data/Projects/ABIDE_Initiative/Outputs/cpac/filt_noglobal/rois_ho/NYU_0051021_rois_ho.1D ...\n"
          ]
        },
        {
          "output_type": "stream",
          "name": "stderr",
          "text": [
            " ...done. (1 seconds, 0 min)\n"
          ]
        },
        {
          "output_type": "stream",
          "name": "stdout",
          "text": [
            "Downloading data from https://s3.amazonaws.com/fcp-indi/data/Projects/ABIDE_Initiative/Outputs/cpac/filt_noglobal/rois_ho/NYU_0051023_rois_ho.1D ...\n"
          ]
        },
        {
          "output_type": "stream",
          "name": "stderr",
          "text": [
            " ...done. (1 seconds, 0 min)\n"
          ]
        },
        {
          "output_type": "stream",
          "name": "stdout",
          "text": [
            "Downloading data from https://s3.amazonaws.com/fcp-indi/data/Projects/ABIDE_Initiative/Outputs/cpac/filt_noglobal/rois_ho/NYU_0051024_rois_ho.1D ...\n"
          ]
        },
        {
          "output_type": "stream",
          "name": "stderr",
          "text": [
            " ...done. (1 seconds, 0 min)\n"
          ]
        },
        {
          "output_type": "stream",
          "name": "stdout",
          "text": [
            "Downloading data from https://s3.amazonaws.com/fcp-indi/data/Projects/ABIDE_Initiative/Outputs/cpac/filt_noglobal/rois_ho/NYU_0051025_rois_ho.1D ...\n"
          ]
        },
        {
          "output_type": "stream",
          "name": "stderr",
          "text": [
            " ...done. (1 seconds, 0 min)\n"
          ]
        },
        {
          "output_type": "stream",
          "name": "stdout",
          "text": [
            "Downloading data from https://s3.amazonaws.com/fcp-indi/data/Projects/ABIDE_Initiative/Outputs/cpac/filt_noglobal/rois_ho/NYU_0051026_rois_ho.1D ...\n"
          ]
        },
        {
          "output_type": "stream",
          "name": "stderr",
          "text": [
            " ...done. (1 seconds, 0 min)\n"
          ]
        },
        {
          "output_type": "stream",
          "name": "stdout",
          "text": [
            "Downloading data from https://s3.amazonaws.com/fcp-indi/data/Projects/ABIDE_Initiative/Outputs/cpac/filt_noglobal/rois_ho/NYU_0051027_rois_ho.1D ...\n"
          ]
        },
        {
          "output_type": "stream",
          "name": "stderr",
          "text": [
            " ...done. (1 seconds, 0 min)\n"
          ]
        },
        {
          "output_type": "stream",
          "name": "stdout",
          "text": [
            "Downloading data from https://s3.amazonaws.com/fcp-indi/data/Projects/ABIDE_Initiative/Outputs/cpac/filt_noglobal/rois_ho/NYU_0051028_rois_ho.1D ...\n"
          ]
        },
        {
          "output_type": "stream",
          "name": "stderr",
          "text": [
            " ...done. (1 seconds, 0 min)\n"
          ]
        },
        {
          "output_type": "stream",
          "name": "stdout",
          "text": [
            "Downloading data from https://s3.amazonaws.com/fcp-indi/data/Projects/ABIDE_Initiative/Outputs/cpac/filt_noglobal/rois_ho/NYU_0051029_rois_ho.1D ...\n"
          ]
        },
        {
          "output_type": "stream",
          "name": "stderr",
          "text": [
            " ...done. (1 seconds, 0 min)\n"
          ]
        },
        {
          "output_type": "stream",
          "name": "stdout",
          "text": [
            "Downloading data from https://s3.amazonaws.com/fcp-indi/data/Projects/ABIDE_Initiative/Outputs/cpac/filt_noglobal/rois_ho/NYU_0051030_rois_ho.1D ...\n"
          ]
        },
        {
          "output_type": "stream",
          "name": "stderr",
          "text": [
            " ...done. (1 seconds, 0 min)\n"
          ]
        },
        {
          "output_type": "stream",
          "name": "stdout",
          "text": [
            "Downloading data from https://s3.amazonaws.com/fcp-indi/data/Projects/ABIDE_Initiative/Outputs/cpac/filt_noglobal/rois_ho/NYU_0051032_rois_ho.1D ...\n"
          ]
        },
        {
          "output_type": "stream",
          "name": "stderr",
          "text": [
            " ...done. (1 seconds, 0 min)\n"
          ]
        },
        {
          "output_type": "stream",
          "name": "stdout",
          "text": [
            "Downloading data from https://s3.amazonaws.com/fcp-indi/data/Projects/ABIDE_Initiative/Outputs/cpac/filt_noglobal/rois_ho/NYU_0051033_rois_ho.1D ...\n"
          ]
        },
        {
          "output_type": "stream",
          "name": "stderr",
          "text": [
            " ...done. (1 seconds, 0 min)\n"
          ]
        },
        {
          "output_type": "stream",
          "name": "stdout",
          "text": [
            "Downloading data from https://s3.amazonaws.com/fcp-indi/data/Projects/ABIDE_Initiative/Outputs/cpac/filt_noglobal/rois_ho/NYU_0051034_rois_ho.1D ...\n"
          ]
        },
        {
          "output_type": "stream",
          "name": "stderr",
          "text": [
            " ...done. (1 seconds, 0 min)\n"
          ]
        },
        {
          "output_type": "stream",
          "name": "stdout",
          "text": [
            "Downloading data from https://s3.amazonaws.com/fcp-indi/data/Projects/ABIDE_Initiative/Outputs/cpac/filt_noglobal/rois_ho/NYU_0051035_rois_ho.1D ...\n"
          ]
        },
        {
          "output_type": "stream",
          "name": "stderr",
          "text": [
            " ...done. (1 seconds, 0 min)\n"
          ]
        },
        {
          "output_type": "stream",
          "name": "stdout",
          "text": [
            "Downloading data from https://s3.amazonaws.com/fcp-indi/data/Projects/ABIDE_Initiative/Outputs/cpac/filt_noglobal/rois_ho/NYU_0051036_rois_ho.1D ...\n"
          ]
        },
        {
          "output_type": "stream",
          "name": "stderr",
          "text": [
            " ...done. (1 seconds, 0 min)\n"
          ]
        },
        {
          "output_type": "stream",
          "name": "stdout",
          "text": [
            "Downloading data from https://s3.amazonaws.com/fcp-indi/data/Projects/ABIDE_Initiative/Outputs/cpac/filt_noglobal/rois_ho/NYU_0051038_rois_ho.1D ...\n"
          ]
        },
        {
          "output_type": "stream",
          "name": "stderr",
          "text": [
            " ...done. (1 seconds, 0 min)\n"
          ]
        },
        {
          "output_type": "stream",
          "name": "stdout",
          "text": [
            "Downloading data from https://s3.amazonaws.com/fcp-indi/data/Projects/ABIDE_Initiative/Outputs/cpac/filt_noglobal/rois_ho/NYU_0051039_rois_ho.1D ...\n"
          ]
        },
        {
          "output_type": "stream",
          "name": "stderr",
          "text": [
            " ...done. (1 seconds, 0 min)\n"
          ]
        },
        {
          "output_type": "stream",
          "name": "stdout",
          "text": [
            "Downloading data from https://s3.amazonaws.com/fcp-indi/data/Projects/ABIDE_Initiative/Outputs/cpac/filt_noglobal/rois_ho/NYU_0051040_rois_ho.1D ...\n"
          ]
        },
        {
          "output_type": "stream",
          "name": "stderr",
          "text": [
            " ...done. (1 seconds, 0 min)\n"
          ]
        },
        {
          "output_type": "stream",
          "name": "stdout",
          "text": [
            "Downloading data from https://s3.amazonaws.com/fcp-indi/data/Projects/ABIDE_Initiative/Outputs/cpac/filt_noglobal/rois_ho/NYU_0051041_rois_ho.1D ...\n"
          ]
        },
        {
          "output_type": "stream",
          "name": "stderr",
          "text": [
            " ...done. (1 seconds, 0 min)\n"
          ]
        },
        {
          "output_type": "stream",
          "name": "stdout",
          "text": [
            "Downloading data from https://s3.amazonaws.com/fcp-indi/data/Projects/ABIDE_Initiative/Outputs/cpac/filt_noglobal/rois_ho/NYU_0051042_rois_ho.1D ...\n"
          ]
        },
        {
          "output_type": "stream",
          "name": "stderr",
          "text": [
            " ...done. (1 seconds, 0 min)\n"
          ]
        },
        {
          "output_type": "stream",
          "name": "stdout",
          "text": [
            "Downloading data from https://s3.amazonaws.com/fcp-indi/data/Projects/ABIDE_Initiative/Outputs/cpac/filt_noglobal/rois_ho/NYU_0051044_rois_ho.1D ...\n"
          ]
        },
        {
          "output_type": "stream",
          "name": "stderr",
          "text": [
            " ...done. (1 seconds, 0 min)\n"
          ]
        },
        {
          "output_type": "stream",
          "name": "stdout",
          "text": [
            "Downloading data from https://s3.amazonaws.com/fcp-indi/data/Projects/ABIDE_Initiative/Outputs/cpac/filt_noglobal/rois_ho/NYU_0051045_rois_ho.1D ...\n"
          ]
        },
        {
          "output_type": "stream",
          "name": "stderr",
          "text": [
            " ...done. (1 seconds, 0 min)\n"
          ]
        },
        {
          "output_type": "stream",
          "name": "stdout",
          "text": [
            "Downloading data from https://s3.amazonaws.com/fcp-indi/data/Projects/ABIDE_Initiative/Outputs/cpac/filt_noglobal/rois_ho/NYU_0051046_rois_ho.1D ...\n"
          ]
        },
        {
          "output_type": "stream",
          "name": "stderr",
          "text": [
            " ...done. (1 seconds, 0 min)\n"
          ]
        },
        {
          "output_type": "stream",
          "name": "stdout",
          "text": [
            "Downloading data from https://s3.amazonaws.com/fcp-indi/data/Projects/ABIDE_Initiative/Outputs/cpac/filt_noglobal/rois_ho/NYU_0051047_rois_ho.1D ...\n"
          ]
        },
        {
          "output_type": "stream",
          "name": "stderr",
          "text": [
            " ...done. (1 seconds, 0 min)\n"
          ]
        },
        {
          "output_type": "stream",
          "name": "stdout",
          "text": [
            "Downloading data from https://s3.amazonaws.com/fcp-indi/data/Projects/ABIDE_Initiative/Outputs/cpac/filt_noglobal/rois_ho/NYU_0051048_rois_ho.1D ...\n"
          ]
        },
        {
          "output_type": "stream",
          "name": "stderr",
          "text": [
            " ...done. (1 seconds, 0 min)\n"
          ]
        },
        {
          "output_type": "stream",
          "name": "stdout",
          "text": [
            "Downloading data from https://s3.amazonaws.com/fcp-indi/data/Projects/ABIDE_Initiative/Outputs/cpac/filt_noglobal/rois_ho/NYU_0051049_rois_ho.1D ...\n"
          ]
        },
        {
          "output_type": "stream",
          "name": "stderr",
          "text": [
            " ...done. (1 seconds, 0 min)\n"
          ]
        },
        {
          "output_type": "stream",
          "name": "stdout",
          "text": [
            "Downloading data from https://s3.amazonaws.com/fcp-indi/data/Projects/ABIDE_Initiative/Outputs/cpac/filt_noglobal/rois_ho/NYU_0051050_rois_ho.1D ...\n"
          ]
        },
        {
          "output_type": "stream",
          "name": "stderr",
          "text": [
            " ...done. (1 seconds, 0 min)\n"
          ]
        },
        {
          "output_type": "stream",
          "name": "stdout",
          "text": [
            "Downloading data from https://s3.amazonaws.com/fcp-indi/data/Projects/ABIDE_Initiative/Outputs/cpac/filt_noglobal/rois_ho/NYU_0051051_rois_ho.1D ...\n"
          ]
        },
        {
          "output_type": "stream",
          "name": "stderr",
          "text": [
            " ...done. (1 seconds, 0 min)\n"
          ]
        },
        {
          "output_type": "stream",
          "name": "stdout",
          "text": [
            "Downloading data from https://s3.amazonaws.com/fcp-indi/data/Projects/ABIDE_Initiative/Outputs/cpac/filt_noglobal/rois_ho/NYU_0051052_rois_ho.1D ...\n"
          ]
        },
        {
          "output_type": "stream",
          "name": "stderr",
          "text": [
            " ...done. (1 seconds, 0 min)\n"
          ]
        },
        {
          "output_type": "stream",
          "name": "stdout",
          "text": [
            "Downloading data from https://s3.amazonaws.com/fcp-indi/data/Projects/ABIDE_Initiative/Outputs/cpac/filt_noglobal/rois_ho/NYU_0051053_rois_ho.1D ...\n"
          ]
        },
        {
          "output_type": "stream",
          "name": "stderr",
          "text": [
            " ...done. (1 seconds, 0 min)\n"
          ]
        },
        {
          "output_type": "stream",
          "name": "stdout",
          "text": [
            "Downloading data from https://s3.amazonaws.com/fcp-indi/data/Projects/ABIDE_Initiative/Outputs/cpac/filt_noglobal/rois_ho/NYU_0051054_rois_ho.1D ...\n"
          ]
        },
        {
          "output_type": "stream",
          "name": "stderr",
          "text": [
            " ...done. (1 seconds, 0 min)\n"
          ]
        },
        {
          "output_type": "stream",
          "name": "stdout",
          "text": [
            "Downloading data from https://s3.amazonaws.com/fcp-indi/data/Projects/ABIDE_Initiative/Outputs/cpac/filt_noglobal/rois_ho/NYU_0051055_rois_ho.1D ...\n"
          ]
        },
        {
          "output_type": "stream",
          "name": "stderr",
          "text": [
            " ...done. (1 seconds, 0 min)\n"
          ]
        },
        {
          "output_type": "stream",
          "name": "stdout",
          "text": [
            "Downloading data from https://s3.amazonaws.com/fcp-indi/data/Projects/ABIDE_Initiative/Outputs/cpac/filt_noglobal/rois_ho/NYU_0051056_rois_ho.1D ...\n"
          ]
        },
        {
          "output_type": "stream",
          "name": "stderr",
          "text": [
            " ...done. (1 seconds, 0 min)\n"
          ]
        },
        {
          "output_type": "stream",
          "name": "stdout",
          "text": [
            "Downloading data from https://s3.amazonaws.com/fcp-indi/data/Projects/ABIDE_Initiative/Outputs/cpac/filt_noglobal/rois_ho/NYU_0051057_rois_ho.1D ...\n"
          ]
        },
        {
          "output_type": "stream",
          "name": "stderr",
          "text": [
            " ...done. (1 seconds, 0 min)\n"
          ]
        },
        {
          "output_type": "stream",
          "name": "stdout",
          "text": [
            "Downloading data from https://s3.amazonaws.com/fcp-indi/data/Projects/ABIDE_Initiative/Outputs/cpac/filt_noglobal/rois_ho/NYU_0051058_rois_ho.1D ...\n"
          ]
        },
        {
          "output_type": "stream",
          "name": "stderr",
          "text": [
            " ...done. (1 seconds, 0 min)\n"
          ]
        },
        {
          "output_type": "stream",
          "name": "stdout",
          "text": [
            "Downloading data from https://s3.amazonaws.com/fcp-indi/data/Projects/ABIDE_Initiative/Outputs/cpac/filt_noglobal/rois_ho/NYU_0051059_rois_ho.1D ...\n"
          ]
        },
        {
          "output_type": "stream",
          "name": "stderr",
          "text": [
            " ...done. (1 seconds, 0 min)\n"
          ]
        },
        {
          "output_type": "stream",
          "name": "stdout",
          "text": [
            "Downloading data from https://s3.amazonaws.com/fcp-indi/data/Projects/ABIDE_Initiative/Outputs/cpac/filt_noglobal/rois_ho/NYU_0051060_rois_ho.1D ...\n"
          ]
        },
        {
          "output_type": "stream",
          "name": "stderr",
          "text": [
            " ...done. (1 seconds, 0 min)\n"
          ]
        },
        {
          "output_type": "stream",
          "name": "stdout",
          "text": [
            "Downloading data from https://s3.amazonaws.com/fcp-indi/data/Projects/ABIDE_Initiative/Outputs/cpac/filt_noglobal/rois_ho/NYU_0051061_rois_ho.1D ...\n"
          ]
        },
        {
          "output_type": "stream",
          "name": "stderr",
          "text": [
            " ...done. (1 seconds, 0 min)\n"
          ]
        },
        {
          "output_type": "stream",
          "name": "stdout",
          "text": [
            "Downloading data from https://s3.amazonaws.com/fcp-indi/data/Projects/ABIDE_Initiative/Outputs/cpac/filt_noglobal/rois_ho/NYU_0051062_rois_ho.1D ...\n"
          ]
        },
        {
          "output_type": "stream",
          "name": "stderr",
          "text": [
            " ...done. (1 seconds, 0 min)\n"
          ]
        },
        {
          "output_type": "stream",
          "name": "stdout",
          "text": [
            "Downloading data from https://s3.amazonaws.com/fcp-indi/data/Projects/ABIDE_Initiative/Outputs/cpac/filt_noglobal/rois_ho/NYU_0051063_rois_ho.1D ...\n"
          ]
        },
        {
          "output_type": "stream",
          "name": "stderr",
          "text": [
            " ...done. (1 seconds, 0 min)\n"
          ]
        },
        {
          "output_type": "stream",
          "name": "stdout",
          "text": [
            "Downloading data from https://s3.amazonaws.com/fcp-indi/data/Projects/ABIDE_Initiative/Outputs/cpac/filt_noglobal/rois_ho/NYU_0051064_rois_ho.1D ...\n"
          ]
        },
        {
          "output_type": "stream",
          "name": "stderr",
          "text": [
            " ...done. (1 seconds, 0 min)\n"
          ]
        },
        {
          "output_type": "stream",
          "name": "stdout",
          "text": [
            "Downloading data from https://s3.amazonaws.com/fcp-indi/data/Projects/ABIDE_Initiative/Outputs/cpac/filt_noglobal/rois_ho/NYU_0051065_rois_ho.1D ...\n"
          ]
        },
        {
          "output_type": "stream",
          "name": "stderr",
          "text": [
            " ...done. (1 seconds, 0 min)\n"
          ]
        },
        {
          "output_type": "stream",
          "name": "stdout",
          "text": [
            "Downloading data from https://s3.amazonaws.com/fcp-indi/data/Projects/ABIDE_Initiative/Outputs/cpac/filt_noglobal/rois_ho/NYU_0051066_rois_ho.1D ...\n"
          ]
        },
        {
          "output_type": "stream",
          "name": "stderr",
          "text": [
            " ...done. (1 seconds, 0 min)\n"
          ]
        },
        {
          "output_type": "stream",
          "name": "stdout",
          "text": [
            "Downloading data from https://s3.amazonaws.com/fcp-indi/data/Projects/ABIDE_Initiative/Outputs/cpac/filt_noglobal/rois_ho/NYU_0051067_rois_ho.1D ...\n"
          ]
        },
        {
          "output_type": "stream",
          "name": "stderr",
          "text": [
            " ...done. (1 seconds, 0 min)\n"
          ]
        },
        {
          "output_type": "stream",
          "name": "stdout",
          "text": [
            "Downloading data from https://s3.amazonaws.com/fcp-indi/data/Projects/ABIDE_Initiative/Outputs/cpac/filt_noglobal/rois_ho/NYU_0051068_rois_ho.1D ...\n"
          ]
        },
        {
          "output_type": "stream",
          "name": "stderr",
          "text": [
            " ...done. (1 seconds, 0 min)\n"
          ]
        },
        {
          "output_type": "stream",
          "name": "stdout",
          "text": [
            "Downloading data from https://s3.amazonaws.com/fcp-indi/data/Projects/ABIDE_Initiative/Outputs/cpac/filt_noglobal/rois_ho/NYU_0051069_rois_ho.1D ...\n"
          ]
        },
        {
          "output_type": "stream",
          "name": "stderr",
          "text": [
            " ...done. (1 seconds, 0 min)\n"
          ]
        },
        {
          "output_type": "stream",
          "name": "stdout",
          "text": [
            "Downloading data from https://s3.amazonaws.com/fcp-indi/data/Projects/ABIDE_Initiative/Outputs/cpac/filt_noglobal/rois_ho/NYU_0051070_rois_ho.1D ...\n"
          ]
        },
        {
          "output_type": "stream",
          "name": "stderr",
          "text": [
            " ...done. (1 seconds, 0 min)\n"
          ]
        },
        {
          "output_type": "stream",
          "name": "stdout",
          "text": [
            "Downloading data from https://s3.amazonaws.com/fcp-indi/data/Projects/ABIDE_Initiative/Outputs/cpac/filt_noglobal/rois_ho/NYU_0051071_rois_ho.1D ...\n"
          ]
        },
        {
          "output_type": "stream",
          "name": "stderr",
          "text": [
            " ...done. (1 seconds, 0 min)\n"
          ]
        },
        {
          "output_type": "stream",
          "name": "stdout",
          "text": [
            "Downloading data from https://s3.amazonaws.com/fcp-indi/data/Projects/ABIDE_Initiative/Outputs/cpac/filt_noglobal/rois_ho/NYU_0051072_rois_ho.1D ...\n"
          ]
        },
        {
          "output_type": "stream",
          "name": "stderr",
          "text": [
            " ...done. (1 seconds, 0 min)\n"
          ]
        },
        {
          "output_type": "stream",
          "name": "stdout",
          "text": [
            "Downloading data from https://s3.amazonaws.com/fcp-indi/data/Projects/ABIDE_Initiative/Outputs/cpac/filt_noglobal/rois_ho/NYU_0051073_rois_ho.1D ...\n"
          ]
        },
        {
          "output_type": "stream",
          "name": "stderr",
          "text": [
            " ...done. (1 seconds, 0 min)\n"
          ]
        },
        {
          "output_type": "stream",
          "name": "stdout",
          "text": [
            "Downloading data from https://s3.amazonaws.com/fcp-indi/data/Projects/ABIDE_Initiative/Outputs/cpac/filt_noglobal/rois_ho/NYU_0051074_rois_ho.1D ...\n"
          ]
        },
        {
          "output_type": "stream",
          "name": "stderr",
          "text": [
            " ...done. (1 seconds, 0 min)\n"
          ]
        },
        {
          "output_type": "stream",
          "name": "stdout",
          "text": [
            "Downloading data from https://s3.amazonaws.com/fcp-indi/data/Projects/ABIDE_Initiative/Outputs/cpac/filt_noglobal/rois_ho/NYU_0051075_rois_ho.1D ...\n"
          ]
        },
        {
          "output_type": "stream",
          "name": "stderr",
          "text": [
            " ...done. (1 seconds, 0 min)\n"
          ]
        },
        {
          "output_type": "stream",
          "name": "stdout",
          "text": [
            "Downloading data from https://s3.amazonaws.com/fcp-indi/data/Projects/ABIDE_Initiative/Outputs/cpac/filt_noglobal/rois_ho/NYU_0051076_rois_ho.1D ...\n"
          ]
        },
        {
          "output_type": "stream",
          "name": "stderr",
          "text": [
            " ...done. (1 seconds, 0 min)\n"
          ]
        },
        {
          "output_type": "stream",
          "name": "stdout",
          "text": [
            "Downloading data from https://s3.amazonaws.com/fcp-indi/data/Projects/ABIDE_Initiative/Outputs/cpac/filt_noglobal/rois_ho/NYU_0051077_rois_ho.1D ...\n"
          ]
        },
        {
          "output_type": "stream",
          "name": "stderr",
          "text": [
            " ...done. (1 seconds, 0 min)\n"
          ]
        },
        {
          "output_type": "stream",
          "name": "stdout",
          "text": [
            "Downloading data from https://s3.amazonaws.com/fcp-indi/data/Projects/ABIDE_Initiative/Outputs/cpac/filt_noglobal/rois_ho/NYU_0051078_rois_ho.1D ...\n"
          ]
        },
        {
          "output_type": "stream",
          "name": "stderr",
          "text": [
            " ...done. (1 seconds, 0 min)\n"
          ]
        },
        {
          "output_type": "stream",
          "name": "stdout",
          "text": [
            "Downloading data from https://s3.amazonaws.com/fcp-indi/data/Projects/ABIDE_Initiative/Outputs/cpac/filt_noglobal/rois_ho/NYU_0051079_rois_ho.1D ...\n"
          ]
        },
        {
          "output_type": "stream",
          "name": "stderr",
          "text": [
            " ...done. (1 seconds, 0 min)\n"
          ]
        },
        {
          "output_type": "stream",
          "name": "stdout",
          "text": [
            "Downloading data from https://s3.amazonaws.com/fcp-indi/data/Projects/ABIDE_Initiative/Outputs/cpac/filt_noglobal/rois_ho/NYU_0051080_rois_ho.1D ...\n"
          ]
        },
        {
          "output_type": "stream",
          "name": "stderr",
          "text": [
            " ...done. (1 seconds, 0 min)\n"
          ]
        },
        {
          "output_type": "stream",
          "name": "stdout",
          "text": [
            "Downloading data from https://s3.amazonaws.com/fcp-indi/data/Projects/ABIDE_Initiative/Outputs/cpac/filt_noglobal/rois_ho/NYU_0051081_rois_ho.1D ...\n"
          ]
        },
        {
          "output_type": "stream",
          "name": "stderr",
          "text": [
            " ...done. (1 seconds, 0 min)\n"
          ]
        },
        {
          "output_type": "stream",
          "name": "stdout",
          "text": [
            "Downloading data from https://s3.amazonaws.com/fcp-indi/data/Projects/ABIDE_Initiative/Outputs/cpac/filt_noglobal/rois_ho/NYU_0051082_rois_ho.1D ...\n"
          ]
        },
        {
          "output_type": "stream",
          "name": "stderr",
          "text": [
            " ...done. (1 seconds, 0 min)\n"
          ]
        },
        {
          "output_type": "stream",
          "name": "stdout",
          "text": [
            "Downloading data from https://s3.amazonaws.com/fcp-indi/data/Projects/ABIDE_Initiative/Outputs/cpac/filt_noglobal/rois_ho/NYU_0051083_rois_ho.1D ...\n"
          ]
        },
        {
          "output_type": "stream",
          "name": "stderr",
          "text": [
            " ...done. (1 seconds, 0 min)\n"
          ]
        },
        {
          "output_type": "stream",
          "name": "stdout",
          "text": [
            "Downloading data from https://s3.amazonaws.com/fcp-indi/data/Projects/ABIDE_Initiative/Outputs/cpac/filt_noglobal/rois_ho/NYU_0051084_rois_ho.1D ...\n"
          ]
        },
        {
          "output_type": "stream",
          "name": "stderr",
          "text": [
            " ...done. (1 seconds, 0 min)\n"
          ]
        },
        {
          "output_type": "stream",
          "name": "stdout",
          "text": [
            "Downloading data from https://s3.amazonaws.com/fcp-indi/data/Projects/ABIDE_Initiative/Outputs/cpac/filt_noglobal/rois_ho/NYU_0051085_rois_ho.1D ...\n"
          ]
        },
        {
          "output_type": "stream",
          "name": "stderr",
          "text": [
            " ...done. (1 seconds, 0 min)\n"
          ]
        },
        {
          "output_type": "stream",
          "name": "stdout",
          "text": [
            "Downloading data from https://s3.amazonaws.com/fcp-indi/data/Projects/ABIDE_Initiative/Outputs/cpac/filt_noglobal/rois_ho/NYU_0051086_rois_ho.1D ...\n"
          ]
        },
        {
          "output_type": "stream",
          "name": "stderr",
          "text": [
            " ...done. (1 seconds, 0 min)\n"
          ]
        },
        {
          "output_type": "stream",
          "name": "stdout",
          "text": [
            "Downloading data from https://s3.amazonaws.com/fcp-indi/data/Projects/ABIDE_Initiative/Outputs/cpac/filt_noglobal/rois_ho/NYU_0051087_rois_ho.1D ...\n"
          ]
        },
        {
          "output_type": "stream",
          "name": "stderr",
          "text": [
            " ...done. (1 seconds, 0 min)\n"
          ]
        },
        {
          "output_type": "stream",
          "name": "stdout",
          "text": [
            "Downloading data from https://s3.amazonaws.com/fcp-indi/data/Projects/ABIDE_Initiative/Outputs/cpac/filt_noglobal/rois_ho/NYU_0051088_rois_ho.1D ...\n"
          ]
        },
        {
          "output_type": "stream",
          "name": "stderr",
          "text": [
            " ...done. (1 seconds, 0 min)\n"
          ]
        },
        {
          "output_type": "stream",
          "name": "stdout",
          "text": [
            "Downloading data from https://s3.amazonaws.com/fcp-indi/data/Projects/ABIDE_Initiative/Outputs/cpac/filt_noglobal/rois_ho/NYU_0051089_rois_ho.1D ...\n"
          ]
        },
        {
          "output_type": "stream",
          "name": "stderr",
          "text": [
            " ...done. (1 seconds, 0 min)\n"
          ]
        },
        {
          "output_type": "stream",
          "name": "stdout",
          "text": [
            "Downloading data from https://s3.amazonaws.com/fcp-indi/data/Projects/ABIDE_Initiative/Outputs/cpac/filt_noglobal/rois_ho/NYU_0051090_rois_ho.1D ...\n"
          ]
        },
        {
          "output_type": "stream",
          "name": "stderr",
          "text": [
            " ...done. (1 seconds, 0 min)\n"
          ]
        },
        {
          "output_type": "stream",
          "name": "stdout",
          "text": [
            "Downloading data from https://s3.amazonaws.com/fcp-indi/data/Projects/ABIDE_Initiative/Outputs/cpac/filt_noglobal/rois_ho/NYU_0051091_rois_ho.1D ...\n"
          ]
        },
        {
          "output_type": "stream",
          "name": "stderr",
          "text": [
            " ...done. (1 seconds, 0 min)\n"
          ]
        },
        {
          "output_type": "stream",
          "name": "stdout",
          "text": [
            "Downloading data from https://s3.amazonaws.com/fcp-indi/data/Projects/ABIDE_Initiative/Outputs/cpac/filt_noglobal/rois_ho/NYU_0051093_rois_ho.1D ...\n"
          ]
        },
        {
          "output_type": "stream",
          "name": "stderr",
          "text": [
            " ...done. (1 seconds, 0 min)\n"
          ]
        },
        {
          "output_type": "stream",
          "name": "stdout",
          "text": [
            "Downloading data from https://s3.amazonaws.com/fcp-indi/data/Projects/ABIDE_Initiative/Outputs/cpac/filt_noglobal/rois_ho/NYU_0051094_rois_ho.1D ...\n"
          ]
        },
        {
          "output_type": "stream",
          "name": "stderr",
          "text": [
            " ...done. (1 seconds, 0 min)\n"
          ]
        },
        {
          "output_type": "stream",
          "name": "stdout",
          "text": [
            "Downloading data from https://s3.amazonaws.com/fcp-indi/data/Projects/ABIDE_Initiative/Outputs/cpac/filt_noglobal/rois_ho/NYU_0051095_rois_ho.1D ...\n"
          ]
        },
        {
          "output_type": "stream",
          "name": "stderr",
          "text": [
            " ...done. (1 seconds, 0 min)\n"
          ]
        },
        {
          "output_type": "stream",
          "name": "stdout",
          "text": [
            "Downloading data from https://s3.amazonaws.com/fcp-indi/data/Projects/ABIDE_Initiative/Outputs/cpac/filt_noglobal/rois_ho/NYU_0051096_rois_ho.1D ...\n"
          ]
        },
        {
          "output_type": "stream",
          "name": "stderr",
          "text": [
            " ...done. (1 seconds, 0 min)\n"
          ]
        },
        {
          "output_type": "stream",
          "name": "stdout",
          "text": [
            "Downloading data from https://s3.amazonaws.com/fcp-indi/data/Projects/ABIDE_Initiative/Outputs/cpac/filt_noglobal/rois_ho/NYU_0051097_rois_ho.1D ...\n"
          ]
        },
        {
          "output_type": "stream",
          "name": "stderr",
          "text": [
            " ...done. (1 seconds, 0 min)\n"
          ]
        },
        {
          "output_type": "stream",
          "name": "stdout",
          "text": [
            "Downloading data from https://s3.amazonaws.com/fcp-indi/data/Projects/ABIDE_Initiative/Outputs/cpac/filt_noglobal/rois_ho/NYU_0051098_rois_ho.1D ...\n"
          ]
        },
        {
          "output_type": "stream",
          "name": "stderr",
          "text": [
            " ...done. (1 seconds, 0 min)\n"
          ]
        },
        {
          "output_type": "stream",
          "name": "stdout",
          "text": [
            "Downloading data from https://s3.amazonaws.com/fcp-indi/data/Projects/ABIDE_Initiative/Outputs/cpac/filt_noglobal/rois_ho/NYU_0051099_rois_ho.1D ...\n"
          ]
        },
        {
          "output_type": "stream",
          "name": "stderr",
          "text": [
            " ...done. (1 seconds, 0 min)\n"
          ]
        },
        {
          "output_type": "stream",
          "name": "stdout",
          "text": [
            "Downloading data from https://s3.amazonaws.com/fcp-indi/data/Projects/ABIDE_Initiative/Outputs/cpac/filt_noglobal/rois_ho/NYU_0051100_rois_ho.1D ...\n"
          ]
        },
        {
          "output_type": "stream",
          "name": "stderr",
          "text": [
            " ...done. (1 seconds, 0 min)\n"
          ]
        },
        {
          "output_type": "stream",
          "name": "stdout",
          "text": [
            "Downloading data from https://s3.amazonaws.com/fcp-indi/data/Projects/ABIDE_Initiative/Outputs/cpac/filt_noglobal/rois_ho/NYU_0051101_rois_ho.1D ...\n"
          ]
        },
        {
          "output_type": "stream",
          "name": "stderr",
          "text": [
            " ...done. (1 seconds, 0 min)\n"
          ]
        },
        {
          "output_type": "stream",
          "name": "stdout",
          "text": [
            "Downloading data from https://s3.amazonaws.com/fcp-indi/data/Projects/ABIDE_Initiative/Outputs/cpac/filt_noglobal/rois_ho/NYU_0051102_rois_ho.1D ...\n"
          ]
        },
        {
          "output_type": "stream",
          "name": "stderr",
          "text": [
            " ...done. (1 seconds, 0 min)\n"
          ]
        },
        {
          "output_type": "stream",
          "name": "stdout",
          "text": [
            "Downloading data from https://s3.amazonaws.com/fcp-indi/data/Projects/ABIDE_Initiative/Outputs/cpac/filt_noglobal/rois_ho/NYU_0051103_rois_ho.1D ...\n"
          ]
        },
        {
          "output_type": "stream",
          "name": "stderr",
          "text": [
            " ...done. (1 seconds, 0 min)\n"
          ]
        },
        {
          "output_type": "stream",
          "name": "stdout",
          "text": [
            "Downloading data from https://s3.amazonaws.com/fcp-indi/data/Projects/ABIDE_Initiative/Outputs/cpac/filt_noglobal/rois_ho/NYU_0051104_rois_ho.1D ...\n"
          ]
        },
        {
          "output_type": "stream",
          "name": "stderr",
          "text": [
            " ...done. (1 seconds, 0 min)\n"
          ]
        },
        {
          "output_type": "stream",
          "name": "stdout",
          "text": [
            "Downloading data from https://s3.amazonaws.com/fcp-indi/data/Projects/ABIDE_Initiative/Outputs/cpac/filt_noglobal/rois_ho/NYU_0051105_rois_ho.1D ...\n"
          ]
        },
        {
          "output_type": "stream",
          "name": "stderr",
          "text": [
            " ...done. (1 seconds, 0 min)\n"
          ]
        },
        {
          "output_type": "stream",
          "name": "stdout",
          "text": [
            "Downloading data from https://s3.amazonaws.com/fcp-indi/data/Projects/ABIDE_Initiative/Outputs/cpac/filt_noglobal/rois_ho/NYU_0051106_rois_ho.1D ...\n"
          ]
        },
        {
          "output_type": "stream",
          "name": "stderr",
          "text": [
            " ...done. (1 seconds, 0 min)\n"
          ]
        },
        {
          "output_type": "stream",
          "name": "stdout",
          "text": [
            "Downloading data from https://s3.amazonaws.com/fcp-indi/data/Projects/ABIDE_Initiative/Outputs/cpac/filt_noglobal/rois_ho/NYU_0051107_rois_ho.1D ...\n"
          ]
        },
        {
          "output_type": "stream",
          "name": "stderr",
          "text": [
            " ...done. (1 seconds, 0 min)\n"
          ]
        },
        {
          "output_type": "stream",
          "name": "stdout",
          "text": [
            "Downloading data from https://s3.amazonaws.com/fcp-indi/data/Projects/ABIDE_Initiative/Outputs/cpac/filt_noglobal/rois_ho/NYU_0051109_rois_ho.1D ...\n"
          ]
        },
        {
          "output_type": "stream",
          "name": "stderr",
          "text": [
            " ...done. (1 seconds, 0 min)\n"
          ]
        },
        {
          "output_type": "stream",
          "name": "stdout",
          "text": [
            "Downloading data from https://s3.amazonaws.com/fcp-indi/data/Projects/ABIDE_Initiative/Outputs/cpac/filt_noglobal/rois_ho/NYU_0051110_rois_ho.1D ...\n"
          ]
        },
        {
          "output_type": "stream",
          "name": "stderr",
          "text": [
            " ...done. (1 seconds, 0 min)\n"
          ]
        },
        {
          "output_type": "stream",
          "name": "stdout",
          "text": [
            "Downloading data from https://s3.amazonaws.com/fcp-indi/data/Projects/ABIDE_Initiative/Outputs/cpac/filt_noglobal/rois_ho/NYU_0051111_rois_ho.1D ...\n"
          ]
        },
        {
          "output_type": "stream",
          "name": "stderr",
          "text": [
            " ...done. (1 seconds, 0 min)\n"
          ]
        },
        {
          "output_type": "stream",
          "name": "stdout",
          "text": [
            "Downloading data from https://s3.amazonaws.com/fcp-indi/data/Projects/ABIDE_Initiative/Outputs/cpac/filt_noglobal/rois_ho/NYU_0051112_rois_ho.1D ...\n"
          ]
        },
        {
          "output_type": "stream",
          "name": "stderr",
          "text": [
            " ...done. (1 seconds, 0 min)\n"
          ]
        },
        {
          "output_type": "stream",
          "name": "stdout",
          "text": [
            "Downloading data from https://s3.amazonaws.com/fcp-indi/data/Projects/ABIDE_Initiative/Outputs/cpac/filt_noglobal/rois_ho/NYU_0051113_rois_ho.1D ...\n"
          ]
        },
        {
          "output_type": "stream",
          "name": "stderr",
          "text": [
            " ...done. (1 seconds, 0 min)\n"
          ]
        },
        {
          "output_type": "stream",
          "name": "stdout",
          "text": [
            "Downloading data from https://s3.amazonaws.com/fcp-indi/data/Projects/ABIDE_Initiative/Outputs/cpac/filt_noglobal/rois_ho/NYU_0051114_rois_ho.1D ...\n"
          ]
        },
        {
          "output_type": "stream",
          "name": "stderr",
          "text": [
            " ...done. (1 seconds, 0 min)\n"
          ]
        },
        {
          "output_type": "stream",
          "name": "stdout",
          "text": [
            "Downloading data from https://s3.amazonaws.com/fcp-indi/data/Projects/ABIDE_Initiative/Outputs/cpac/filt_noglobal/rois_ho/NYU_0051116_rois_ho.1D ...\n"
          ]
        },
        {
          "output_type": "stream",
          "name": "stderr",
          "text": [
            " ...done. (1 seconds, 0 min)\n"
          ]
        },
        {
          "output_type": "stream",
          "name": "stdout",
          "text": [
            "Downloading data from https://s3.amazonaws.com/fcp-indi/data/Projects/ABIDE_Initiative/Outputs/cpac/filt_noglobal/rois_ho/NYU_0051117_rois_ho.1D ...\n"
          ]
        },
        {
          "output_type": "stream",
          "name": "stderr",
          "text": [
            " ...done. (1 seconds, 0 min)\n"
          ]
        },
        {
          "output_type": "stream",
          "name": "stdout",
          "text": [
            "Downloading data from https://s3.amazonaws.com/fcp-indi/data/Projects/ABIDE_Initiative/Outputs/cpac/filt_noglobal/rois_ho/NYU_0051118_rois_ho.1D ...\n"
          ]
        },
        {
          "output_type": "stream",
          "name": "stderr",
          "text": [
            " ...done. (1 seconds, 0 min)\n"
          ]
        },
        {
          "output_type": "stream",
          "name": "stdout",
          "text": [
            "Downloading data from https://s3.amazonaws.com/fcp-indi/data/Projects/ABIDE_Initiative/Outputs/cpac/filt_noglobal/rois_ho/NYU_0051121_rois_ho.1D ...\n"
          ]
        },
        {
          "output_type": "stream",
          "name": "stderr",
          "text": [
            " ...done. (1 seconds, 0 min)\n"
          ]
        },
        {
          "output_type": "stream",
          "name": "stdout",
          "text": [
            "Downloading data from https://s3.amazonaws.com/fcp-indi/data/Projects/ABIDE_Initiative/Outputs/cpac/filt_noglobal/rois_ho/NYU_0051122_rois_ho.1D ...\n"
          ]
        },
        {
          "output_type": "stream",
          "name": "stderr",
          "text": [
            " ...done. (1 seconds, 0 min)\n"
          ]
        },
        {
          "output_type": "stream",
          "name": "stdout",
          "text": [
            "Downloading data from https://s3.amazonaws.com/fcp-indi/data/Projects/ABIDE_Initiative/Outputs/cpac/filt_noglobal/rois_ho/NYU_0051123_rois_ho.1D ...\n"
          ]
        },
        {
          "output_type": "stream",
          "name": "stderr",
          "text": [
            " ...done. (1 seconds, 0 min)\n"
          ]
        },
        {
          "output_type": "stream",
          "name": "stdout",
          "text": [
            "Downloading data from https://s3.amazonaws.com/fcp-indi/data/Projects/ABIDE_Initiative/Outputs/cpac/filt_noglobal/rois_ho/NYU_0051124_rois_ho.1D ...\n"
          ]
        },
        {
          "output_type": "stream",
          "name": "stderr",
          "text": [
            " ...done. (1 seconds, 0 min)\n"
          ]
        },
        {
          "output_type": "stream",
          "name": "stdout",
          "text": [
            "Downloading data from https://s3.amazonaws.com/fcp-indi/data/Projects/ABIDE_Initiative/Outputs/cpac/filt_noglobal/rois_ho/NYU_0051126_rois_ho.1D ...\n"
          ]
        },
        {
          "output_type": "stream",
          "name": "stderr",
          "text": [
            " ...done. (1 seconds, 0 min)\n"
          ]
        },
        {
          "output_type": "stream",
          "name": "stdout",
          "text": [
            "Downloading data from https://s3.amazonaws.com/fcp-indi/data/Projects/ABIDE_Initiative/Outputs/cpac/filt_noglobal/rois_ho/NYU_0051127_rois_ho.1D ...\n"
          ]
        },
        {
          "output_type": "stream",
          "name": "stderr",
          "text": [
            " ...done. (1 seconds, 0 min)\n"
          ]
        },
        {
          "output_type": "stream",
          "name": "stdout",
          "text": [
            "Downloading data from https://s3.amazonaws.com/fcp-indi/data/Projects/ABIDE_Initiative/Outputs/cpac/filt_noglobal/rois_ho/NYU_0051128_rois_ho.1D ...\n"
          ]
        },
        {
          "output_type": "stream",
          "name": "stderr",
          "text": [
            " ...done. (1 seconds, 0 min)\n"
          ]
        },
        {
          "output_type": "stream",
          "name": "stdout",
          "text": [
            "Downloading data from https://s3.amazonaws.com/fcp-indi/data/Projects/ABIDE_Initiative/Outputs/cpac/filt_noglobal/rois_ho/NYU_0051129_rois_ho.1D ...\n"
          ]
        },
        {
          "output_type": "stream",
          "name": "stderr",
          "text": [
            " ...done. (1 seconds, 0 min)\n"
          ]
        },
        {
          "output_type": "stream",
          "name": "stdout",
          "text": [
            "Downloading data from https://s3.amazonaws.com/fcp-indi/data/Projects/ABIDE_Initiative/Outputs/cpac/filt_noglobal/rois_ho/NYU_0051130_rois_ho.1D ...\n"
          ]
        },
        {
          "output_type": "stream",
          "name": "stderr",
          "text": [
            " ...done. (1 seconds, 0 min)\n"
          ]
        },
        {
          "output_type": "stream",
          "name": "stdout",
          "text": [
            "Downloading data from https://s3.amazonaws.com/fcp-indi/data/Projects/ABIDE_Initiative/Outputs/cpac/filt_noglobal/rois_ho/NYU_0051131_rois_ho.1D ...\n"
          ]
        },
        {
          "output_type": "stream",
          "name": "stderr",
          "text": [
            " ...done. (1 seconds, 0 min)\n"
          ]
        },
        {
          "output_type": "stream",
          "name": "stdout",
          "text": [
            "Downloading data from https://s3.amazonaws.com/fcp-indi/data/Projects/ABIDE_Initiative/Outputs/cpac/filt_noglobal/rois_ho/Trinity_0051132_rois_ho.1D ...\n"
          ]
        },
        {
          "output_type": "stream",
          "name": "stderr",
          "text": [
            " ...done. (1 seconds, 0 min)\n"
          ]
        },
        {
          "output_type": "stream",
          "name": "stdout",
          "text": [
            "Downloading data from https://s3.amazonaws.com/fcp-indi/data/Projects/ABIDE_Initiative/Outputs/cpac/filt_noglobal/rois_ho/Trinity_0051133_rois_ho.1D ...\n"
          ]
        },
        {
          "output_type": "stream",
          "name": "stderr",
          "text": [
            " ...done. (1 seconds, 0 min)\n"
          ]
        },
        {
          "output_type": "stream",
          "name": "stdout",
          "text": [
            "Downloading data from https://s3.amazonaws.com/fcp-indi/data/Projects/ABIDE_Initiative/Outputs/cpac/filt_noglobal/rois_ho/Trinity_0051134_rois_ho.1D ...\n"
          ]
        },
        {
          "output_type": "stream",
          "name": "stderr",
          "text": [
            " ...done. (1 seconds, 0 min)\n"
          ]
        },
        {
          "output_type": "stream",
          "name": "stdout",
          "text": [
            "Downloading data from https://s3.amazonaws.com/fcp-indi/data/Projects/ABIDE_Initiative/Outputs/cpac/filt_noglobal/rois_ho/Trinity_0051135_rois_ho.1D ...\n"
          ]
        },
        {
          "output_type": "stream",
          "name": "stderr",
          "text": [
            " ...done. (1 seconds, 0 min)\n"
          ]
        },
        {
          "output_type": "stream",
          "name": "stdout",
          "text": [
            "Downloading data from https://s3.amazonaws.com/fcp-indi/data/Projects/ABIDE_Initiative/Outputs/cpac/filt_noglobal/rois_ho/Trinity_0051136_rois_ho.1D ...\n"
          ]
        },
        {
          "output_type": "stream",
          "name": "stderr",
          "text": [
            " ...done. (1 seconds, 0 min)\n"
          ]
        },
        {
          "output_type": "stream",
          "name": "stdout",
          "text": [
            "Downloading data from https://s3.amazonaws.com/fcp-indi/data/Projects/ABIDE_Initiative/Outputs/cpac/filt_noglobal/rois_ho/Trinity_0051137_rois_ho.1D ...\n"
          ]
        },
        {
          "output_type": "stream",
          "name": "stderr",
          "text": [
            " ...done. (1 seconds, 0 min)\n"
          ]
        },
        {
          "output_type": "stream",
          "name": "stdout",
          "text": [
            "Downloading data from https://s3.amazonaws.com/fcp-indi/data/Projects/ABIDE_Initiative/Outputs/cpac/filt_noglobal/rois_ho/Trinity_0051138_rois_ho.1D ...\n"
          ]
        },
        {
          "output_type": "stream",
          "name": "stderr",
          "text": [
            " ...done. (1 seconds, 0 min)\n"
          ]
        },
        {
          "output_type": "stream",
          "name": "stdout",
          "text": [
            "Downloading data from https://s3.amazonaws.com/fcp-indi/data/Projects/ABIDE_Initiative/Outputs/cpac/filt_noglobal/rois_ho/Trinity_0051139_rois_ho.1D ...\n"
          ]
        },
        {
          "output_type": "stream",
          "name": "stderr",
          "text": [
            " ...done. (1 seconds, 0 min)\n"
          ]
        },
        {
          "output_type": "stream",
          "name": "stdout",
          "text": [
            "Downloading data from https://s3.amazonaws.com/fcp-indi/data/Projects/ABIDE_Initiative/Outputs/cpac/filt_noglobal/rois_ho/Trinity_0051140_rois_ho.1D ...\n"
          ]
        },
        {
          "output_type": "stream",
          "name": "stderr",
          "text": [
            " ...done. (1 seconds, 0 min)\n"
          ]
        },
        {
          "output_type": "stream",
          "name": "stdout",
          "text": [
            "Downloading data from https://s3.amazonaws.com/fcp-indi/data/Projects/ABIDE_Initiative/Outputs/cpac/filt_noglobal/rois_ho/Trinity_0051141_rois_ho.1D ...\n"
          ]
        },
        {
          "output_type": "stream",
          "name": "stderr",
          "text": [
            " ...done. (1 seconds, 0 min)\n"
          ]
        },
        {
          "output_type": "stream",
          "name": "stdout",
          "text": [
            "Downloading data from https://s3.amazonaws.com/fcp-indi/data/Projects/ABIDE_Initiative/Outputs/cpac/filt_noglobal/rois_ho/Trinity_0051142_rois_ho.1D ...\n"
          ]
        },
        {
          "output_type": "stream",
          "name": "stderr",
          "text": [
            " ...done. (1 seconds, 0 min)\n"
          ]
        },
        {
          "output_type": "stream",
          "name": "stdout",
          "text": [
            "Downloading data from https://s3.amazonaws.com/fcp-indi/data/Projects/ABIDE_Initiative/Outputs/cpac/filt_noglobal/rois_ho/NYU_0051146_rois_ho.1D ...\n"
          ]
        },
        {
          "output_type": "stream",
          "name": "stderr",
          "text": [
            " ...done. (1 seconds, 0 min)\n"
          ]
        },
        {
          "output_type": "stream",
          "name": "stdout",
          "text": [
            "Downloading data from https://s3.amazonaws.com/fcp-indi/data/Projects/ABIDE_Initiative/Outputs/cpac/filt_noglobal/rois_ho/NYU_0051147_rois_ho.1D ...\n"
          ]
        },
        {
          "output_type": "stream",
          "name": "stderr",
          "text": [
            " ...done. (1 seconds, 0 min)\n"
          ]
        },
        {
          "output_type": "stream",
          "name": "stdout",
          "text": [
            "Downloading data from https://s3.amazonaws.com/fcp-indi/data/Projects/ABIDE_Initiative/Outputs/cpac/filt_noglobal/rois_ho/NYU_0051148_rois_ho.1D ...\n"
          ]
        },
        {
          "output_type": "stream",
          "name": "stderr",
          "text": [
            " ...done. (1 seconds, 0 min)\n"
          ]
        },
        {
          "output_type": "stream",
          "name": "stdout",
          "text": [
            "Downloading data from https://s3.amazonaws.com/fcp-indi/data/Projects/ABIDE_Initiative/Outputs/cpac/filt_noglobal/rois_ho/NYU_0051149_rois_ho.1D ...\n"
          ]
        },
        {
          "output_type": "stream",
          "name": "stderr",
          "text": [
            " ...done. (1 seconds, 0 min)\n"
          ]
        },
        {
          "output_type": "stream",
          "name": "stdout",
          "text": [
            "Downloading data from https://s3.amazonaws.com/fcp-indi/data/Projects/ABIDE_Initiative/Outputs/cpac/filt_noglobal/rois_ho/NYU_0051150_rois_ho.1D ...\n"
          ]
        },
        {
          "output_type": "stream",
          "name": "stderr",
          "text": [
            " ...done. (1 seconds, 0 min)\n"
          ]
        },
        {
          "output_type": "stream",
          "name": "stdout",
          "text": [
            "Downloading data from https://s3.amazonaws.com/fcp-indi/data/Projects/ABIDE_Initiative/Outputs/cpac/filt_noglobal/rois_ho/NYU_0051151_rois_ho.1D ...\n"
          ]
        },
        {
          "output_type": "stream",
          "name": "stderr",
          "text": [
            " ...done. (1 seconds, 0 min)\n"
          ]
        },
        {
          "output_type": "stream",
          "name": "stdout",
          "text": [
            "Downloading data from https://s3.amazonaws.com/fcp-indi/data/Projects/ABIDE_Initiative/Outputs/cpac/filt_noglobal/rois_ho/NYU_0051152_rois_ho.1D ...\n"
          ]
        },
        {
          "output_type": "stream",
          "name": "stderr",
          "text": [
            " ...done. (1 seconds, 0 min)\n"
          ]
        },
        {
          "output_type": "stream",
          "name": "stdout",
          "text": [
            "Downloading data from https://s3.amazonaws.com/fcp-indi/data/Projects/ABIDE_Initiative/Outputs/cpac/filt_noglobal/rois_ho/NYU_0051153_rois_ho.1D ...\n"
          ]
        },
        {
          "output_type": "stream",
          "name": "stderr",
          "text": [
            " ...done. (1 seconds, 0 min)\n"
          ]
        },
        {
          "output_type": "stream",
          "name": "stdout",
          "text": [
            "Downloading data from https://s3.amazonaws.com/fcp-indi/data/Projects/ABIDE_Initiative/Outputs/cpac/filt_noglobal/rois_ho/NYU_0051154_rois_ho.1D ...\n"
          ]
        },
        {
          "output_type": "stream",
          "name": "stderr",
          "text": [
            " ...done. (1 seconds, 0 min)\n"
          ]
        },
        {
          "output_type": "stream",
          "name": "stdout",
          "text": [
            "Downloading data from https://s3.amazonaws.com/fcp-indi/data/Projects/ABIDE_Initiative/Outputs/cpac/filt_noglobal/rois_ho/NYU_0051155_rois_ho.1D ...\n"
          ]
        },
        {
          "output_type": "stream",
          "name": "stderr",
          "text": [
            " ...done. (1 seconds, 0 min)\n"
          ]
        },
        {
          "output_type": "stream",
          "name": "stdout",
          "text": [
            "Downloading data from https://s3.amazonaws.com/fcp-indi/data/Projects/ABIDE_Initiative/Outputs/cpac/filt_noglobal/rois_ho/NYU_0051156_rois_ho.1D ...\n"
          ]
        },
        {
          "output_type": "stream",
          "name": "stderr",
          "text": [
            " ...done. (1 seconds, 0 min)\n"
          ]
        },
        {
          "output_type": "stream",
          "name": "stdout",
          "text": [
            "Downloading data from https://s3.amazonaws.com/fcp-indi/data/Projects/ABIDE_Initiative/Outputs/cpac/filt_noglobal/rois_ho/NYU_0051159_rois_ho.1D ...\n"
          ]
        },
        {
          "output_type": "stream",
          "name": "stderr",
          "text": [
            " ...done. (1 seconds, 0 min)\n"
          ]
        },
        {
          "output_type": "stream",
          "name": "stdout",
          "text": [
            "Downloading data from https://s3.amazonaws.com/fcp-indi/data/Projects/ABIDE_Initiative/Outputs/cpac/filt_noglobal/rois_ho/Stanford_0051160_rois_ho.1D ...\n"
          ]
        },
        {
          "output_type": "stream",
          "name": "stderr",
          "text": [
            " ...done. (1 seconds, 0 min)\n"
          ]
        },
        {
          "output_type": "stream",
          "name": "stdout",
          "text": [
            "Downloading data from https://s3.amazonaws.com/fcp-indi/data/Projects/ABIDE_Initiative/Outputs/cpac/filt_noglobal/rois_ho/Stanford_0051161_rois_ho.1D ...\n"
          ]
        },
        {
          "output_type": "stream",
          "name": "stderr",
          "text": [
            " ...done. (1 seconds, 0 min)\n"
          ]
        },
        {
          "output_type": "stream",
          "name": "stdout",
          "text": [
            "Downloading data from https://s3.amazonaws.com/fcp-indi/data/Projects/ABIDE_Initiative/Outputs/cpac/filt_noglobal/rois_ho/Stanford_0051162_rois_ho.1D ...\n"
          ]
        },
        {
          "output_type": "stream",
          "name": "stderr",
          "text": [
            " ...done. (1 seconds, 0 min)\n"
          ]
        },
        {
          "output_type": "stream",
          "name": "stdout",
          "text": [
            "Downloading data from https://s3.amazonaws.com/fcp-indi/data/Projects/ABIDE_Initiative/Outputs/cpac/filt_noglobal/rois_ho/Stanford_0051163_rois_ho.1D ...\n"
          ]
        },
        {
          "output_type": "stream",
          "name": "stderr",
          "text": [
            " ...done. (1 seconds, 0 min)\n"
          ]
        },
        {
          "output_type": "stream",
          "name": "stdout",
          "text": [
            "Downloading data from https://s3.amazonaws.com/fcp-indi/data/Projects/ABIDE_Initiative/Outputs/cpac/filt_noglobal/rois_ho/Stanford_0051164_rois_ho.1D ...\n"
          ]
        },
        {
          "output_type": "stream",
          "name": "stderr",
          "text": [
            " ...done. (1 seconds, 0 min)\n"
          ]
        },
        {
          "output_type": "stream",
          "name": "stdout",
          "text": [
            "Downloading data from https://s3.amazonaws.com/fcp-indi/data/Projects/ABIDE_Initiative/Outputs/cpac/filt_noglobal/rois_ho/Stanford_0051165_rois_ho.1D ...\n"
          ]
        },
        {
          "output_type": "stream",
          "name": "stderr",
          "text": [
            " ...done. (1 seconds, 0 min)\n"
          ]
        },
        {
          "output_type": "stream",
          "name": "stdout",
          "text": [
            "Downloading data from https://s3.amazonaws.com/fcp-indi/data/Projects/ABIDE_Initiative/Outputs/cpac/filt_noglobal/rois_ho/Stanford_0051166_rois_ho.1D ...\n"
          ]
        },
        {
          "output_type": "stream",
          "name": "stderr",
          "text": [
            " ...done. (1 seconds, 0 min)\n"
          ]
        },
        {
          "output_type": "stream",
          "name": "stdout",
          "text": [
            "Downloading data from https://s3.amazonaws.com/fcp-indi/data/Projects/ABIDE_Initiative/Outputs/cpac/filt_noglobal/rois_ho/Stanford_0051167_rois_ho.1D ...\n"
          ]
        },
        {
          "output_type": "stream",
          "name": "stderr",
          "text": [
            " ...done. (1 seconds, 0 min)\n"
          ]
        },
        {
          "output_type": "stream",
          "name": "stdout",
          "text": [
            "Downloading data from https://s3.amazonaws.com/fcp-indi/data/Projects/ABIDE_Initiative/Outputs/cpac/filt_noglobal/rois_ho/Stanford_0051168_rois_ho.1D ...\n"
          ]
        },
        {
          "output_type": "stream",
          "name": "stderr",
          "text": [
            " ...done. (1 seconds, 0 min)\n"
          ]
        },
        {
          "output_type": "stream",
          "name": "stdout",
          "text": [
            "Downloading data from https://s3.amazonaws.com/fcp-indi/data/Projects/ABIDE_Initiative/Outputs/cpac/filt_noglobal/rois_ho/Stanford_0051169_rois_ho.1D ...\n"
          ]
        },
        {
          "output_type": "stream",
          "name": "stderr",
          "text": [
            " ...done. (1 seconds, 0 min)\n"
          ]
        },
        {
          "output_type": "stream",
          "name": "stdout",
          "text": [
            "Downloading data from https://s3.amazonaws.com/fcp-indi/data/Projects/ABIDE_Initiative/Outputs/cpac/filt_noglobal/rois_ho/Stanford_0051170_rois_ho.1D ...\n"
          ]
        },
        {
          "output_type": "stream",
          "name": "stderr",
          "text": [
            " ...done. (1 seconds, 0 min)\n"
          ]
        },
        {
          "output_type": "stream",
          "name": "stdout",
          "text": [
            "Downloading data from https://s3.amazonaws.com/fcp-indi/data/Projects/ABIDE_Initiative/Outputs/cpac/filt_noglobal/rois_ho/Stanford_0051171_rois_ho.1D ...\n"
          ]
        },
        {
          "output_type": "stream",
          "name": "stderr",
          "text": [
            " ...done. (1 seconds, 0 min)\n"
          ]
        },
        {
          "output_type": "stream",
          "name": "stdout",
          "text": [
            "Downloading data from https://s3.amazonaws.com/fcp-indi/data/Projects/ABIDE_Initiative/Outputs/cpac/filt_noglobal/rois_ho/Stanford_0051172_rois_ho.1D ...\n"
          ]
        },
        {
          "output_type": "stream",
          "name": "stderr",
          "text": [
            " ...done. (1 seconds, 0 min)\n"
          ]
        },
        {
          "output_type": "stream",
          "name": "stdout",
          "text": [
            "Downloading data from https://s3.amazonaws.com/fcp-indi/data/Projects/ABIDE_Initiative/Outputs/cpac/filt_noglobal/rois_ho/Stanford_0051173_rois_ho.1D ...\n"
          ]
        },
        {
          "output_type": "stream",
          "name": "stderr",
          "text": [
            " ...done. (1 seconds, 0 min)\n"
          ]
        },
        {
          "output_type": "stream",
          "name": "stdout",
          "text": [
            "Downloading data from https://s3.amazonaws.com/fcp-indi/data/Projects/ABIDE_Initiative/Outputs/cpac/filt_noglobal/rois_ho/Stanford_0051174_rois_ho.1D ...\n"
          ]
        },
        {
          "output_type": "stream",
          "name": "stderr",
          "text": [
            " ...done. (1 seconds, 0 min)\n"
          ]
        },
        {
          "output_type": "stream",
          "name": "stdout",
          "text": [
            "Downloading data from https://s3.amazonaws.com/fcp-indi/data/Projects/ABIDE_Initiative/Outputs/cpac/filt_noglobal/rois_ho/Stanford_0051175_rois_ho.1D ...\n"
          ]
        },
        {
          "output_type": "stream",
          "name": "stderr",
          "text": [
            " ...done. (1 seconds, 0 min)\n"
          ]
        },
        {
          "output_type": "stream",
          "name": "stdout",
          "text": [
            "Downloading data from https://s3.amazonaws.com/fcp-indi/data/Projects/ABIDE_Initiative/Outputs/cpac/filt_noglobal/rois_ho/Stanford_0051177_rois_ho.1D ...\n"
          ]
        },
        {
          "output_type": "stream",
          "name": "stderr",
          "text": [
            " ...done. (1 seconds, 0 min)\n"
          ]
        },
        {
          "output_type": "stream",
          "name": "stdout",
          "text": [
            "Downloading data from https://s3.amazonaws.com/fcp-indi/data/Projects/ABIDE_Initiative/Outputs/cpac/filt_noglobal/rois_ho/Stanford_0051178_rois_ho.1D ...\n"
          ]
        },
        {
          "output_type": "stream",
          "name": "stderr",
          "text": [
            " ...done. (1 seconds, 0 min)\n"
          ]
        },
        {
          "output_type": "stream",
          "name": "stdout",
          "text": [
            "Downloading data from https://s3.amazonaws.com/fcp-indi/data/Projects/ABIDE_Initiative/Outputs/cpac/filt_noglobal/rois_ho/Stanford_0051179_rois_ho.1D ...\n"
          ]
        },
        {
          "output_type": "stream",
          "name": "stderr",
          "text": [
            " ...done. (1 seconds, 0 min)\n"
          ]
        },
        {
          "output_type": "stream",
          "name": "stdout",
          "text": [
            "Downloading data from https://s3.amazonaws.com/fcp-indi/data/Projects/ABIDE_Initiative/Outputs/cpac/filt_noglobal/rois_ho/Stanford_0051180_rois_ho.1D ...\n"
          ]
        },
        {
          "output_type": "stream",
          "name": "stderr",
          "text": [
            " ...done. (1 seconds, 0 min)\n"
          ]
        },
        {
          "output_type": "stream",
          "name": "stdout",
          "text": [
            "Downloading data from https://s3.amazonaws.com/fcp-indi/data/Projects/ABIDE_Initiative/Outputs/cpac/filt_noglobal/rois_ho/Stanford_0051181_rois_ho.1D ...\n"
          ]
        },
        {
          "output_type": "stream",
          "name": "stderr",
          "text": [
            " ...done. (1 seconds, 0 min)\n"
          ]
        },
        {
          "output_type": "stream",
          "name": "stdout",
          "text": [
            "Downloading data from https://s3.amazonaws.com/fcp-indi/data/Projects/ABIDE_Initiative/Outputs/cpac/filt_noglobal/rois_ho/Stanford_0051182_rois_ho.1D ...\n"
          ]
        },
        {
          "output_type": "stream",
          "name": "stderr",
          "text": [
            " ...done. (1 seconds, 0 min)\n"
          ]
        },
        {
          "output_type": "stream",
          "name": "stdout",
          "text": [
            "Downloading data from https://s3.amazonaws.com/fcp-indi/data/Projects/ABIDE_Initiative/Outputs/cpac/filt_noglobal/rois_ho/Stanford_0051183_rois_ho.1D ...\n"
          ]
        },
        {
          "output_type": "stream",
          "name": "stderr",
          "text": [
            " ...done. (1 seconds, 0 min)\n"
          ]
        },
        {
          "output_type": "stream",
          "name": "stdout",
          "text": [
            "Downloading data from https://s3.amazonaws.com/fcp-indi/data/Projects/ABIDE_Initiative/Outputs/cpac/filt_noglobal/rois_ho/Stanford_0051184_rois_ho.1D ...\n"
          ]
        },
        {
          "output_type": "stream",
          "name": "stderr",
          "text": [
            " ...done. (1 seconds, 0 min)\n"
          ]
        },
        {
          "output_type": "stream",
          "name": "stdout",
          "text": [
            "Downloading data from https://s3.amazonaws.com/fcp-indi/data/Projects/ABIDE_Initiative/Outputs/cpac/filt_noglobal/rois_ho/Stanford_0051185_rois_ho.1D ...\n"
          ]
        },
        {
          "output_type": "stream",
          "name": "stderr",
          "text": [
            " ...done. (1 seconds, 0 min)\n"
          ]
        },
        {
          "output_type": "stream",
          "name": "stdout",
          "text": [
            "Downloading data from https://s3.amazonaws.com/fcp-indi/data/Projects/ABIDE_Initiative/Outputs/cpac/filt_noglobal/rois_ho/Stanford_0051186_rois_ho.1D ...\n"
          ]
        },
        {
          "output_type": "stream",
          "name": "stderr",
          "text": [
            " ...done. (1 seconds, 0 min)\n"
          ]
        },
        {
          "output_type": "stream",
          "name": "stdout",
          "text": [
            "Downloading data from https://s3.amazonaws.com/fcp-indi/data/Projects/ABIDE_Initiative/Outputs/cpac/filt_noglobal/rois_ho/Stanford_0051187_rois_ho.1D ...\n"
          ]
        },
        {
          "output_type": "stream",
          "name": "stderr",
          "text": [
            " ...done. (1 seconds, 0 min)\n"
          ]
        },
        {
          "output_type": "stream",
          "name": "stdout",
          "text": [
            "Downloading data from https://s3.amazonaws.com/fcp-indi/data/Projects/ABIDE_Initiative/Outputs/cpac/filt_noglobal/rois_ho/Stanford_0051188_rois_ho.1D ...\n"
          ]
        },
        {
          "output_type": "stream",
          "name": "stderr",
          "text": [
            " ...done. (1 seconds, 0 min)\n"
          ]
        },
        {
          "output_type": "stream",
          "name": "stdout",
          "text": [
            "Downloading data from https://s3.amazonaws.com/fcp-indi/data/Projects/ABIDE_Initiative/Outputs/cpac/filt_noglobal/rois_ho/Stanford_0051189_rois_ho.1D ...\n"
          ]
        },
        {
          "output_type": "stream",
          "name": "stderr",
          "text": [
            " ...done. (1 seconds, 0 min)\n"
          ]
        },
        {
          "output_type": "stream",
          "name": "stdout",
          "text": [
            "Downloading data from https://s3.amazonaws.com/fcp-indi/data/Projects/ABIDE_Initiative/Outputs/cpac/filt_noglobal/rois_ho/Stanford_0051190_rois_ho.1D ...\n"
          ]
        },
        {
          "output_type": "stream",
          "name": "stderr",
          "text": [
            " ...done. (1 seconds, 0 min)\n"
          ]
        },
        {
          "output_type": "stream",
          "name": "stdout",
          "text": [
            "Downloading data from https://s3.amazonaws.com/fcp-indi/data/Projects/ABIDE_Initiative/Outputs/cpac/filt_noglobal/rois_ho/Stanford_0051191_rois_ho.1D ...\n"
          ]
        },
        {
          "output_type": "stream",
          "name": "stderr",
          "text": [
            " ...done. (1 seconds, 0 min)\n"
          ]
        },
        {
          "output_type": "stream",
          "name": "stdout",
          "text": [
            "Downloading data from https://s3.amazonaws.com/fcp-indi/data/Projects/ABIDE_Initiative/Outputs/cpac/filt_noglobal/rois_ho/Stanford_0051192_rois_ho.1D ...\n"
          ]
        },
        {
          "output_type": "stream",
          "name": "stderr",
          "text": [
            " ...done. (1 seconds, 0 min)\n"
          ]
        },
        {
          "output_type": "stream",
          "name": "stdout",
          "text": [
            "Downloading data from https://s3.amazonaws.com/fcp-indi/data/Projects/ABIDE_Initiative/Outputs/cpac/filt_noglobal/rois_ho/Stanford_0051193_rois_ho.1D ...\n"
          ]
        },
        {
          "output_type": "stream",
          "name": "stderr",
          "text": [
            " ...done. (1 seconds, 0 min)\n"
          ]
        },
        {
          "output_type": "stream",
          "name": "stdout",
          "text": [
            "Downloading data from https://s3.amazonaws.com/fcp-indi/data/Projects/ABIDE_Initiative/Outputs/cpac/filt_noglobal/rois_ho/Stanford_0051194_rois_ho.1D ...\n"
          ]
        },
        {
          "output_type": "stream",
          "name": "stderr",
          "text": [
            " ...done. (1 seconds, 0 min)\n"
          ]
        },
        {
          "output_type": "stream",
          "name": "stdout",
          "text": [
            "Downloading data from https://s3.amazonaws.com/fcp-indi/data/Projects/ABIDE_Initiative/Outputs/cpac/filt_noglobal/rois_ho/Stanford_0051195_rois_ho.1D ...\n"
          ]
        },
        {
          "output_type": "stream",
          "name": "stderr",
          "text": [
            " ...done. (1 seconds, 0 min)\n"
          ]
        },
        {
          "output_type": "stream",
          "name": "stdout",
          "text": [
            "Downloading data from https://s3.amazonaws.com/fcp-indi/data/Projects/ABIDE_Initiative/Outputs/cpac/filt_noglobal/rois_ho/Stanford_0051196_rois_ho.1D ...\n"
          ]
        },
        {
          "output_type": "stream",
          "name": "stderr",
          "text": [
            " ...done. (1 seconds, 0 min)\n"
          ]
        },
        {
          "output_type": "stream",
          "name": "stdout",
          "text": [
            "Downloading data from https://s3.amazonaws.com/fcp-indi/data/Projects/ABIDE_Initiative/Outputs/cpac/filt_noglobal/rois_ho/Stanford_0051197_rois_ho.1D ...\n"
          ]
        },
        {
          "output_type": "stream",
          "name": "stderr",
          "text": [
            " ...done. (1 seconds, 0 min)\n"
          ]
        },
        {
          "output_type": "stream",
          "name": "stdout",
          "text": [
            "Downloading data from https://s3.amazonaws.com/fcp-indi/data/Projects/ABIDE_Initiative/Outputs/cpac/filt_noglobal/rois_ho/Stanford_0051198_rois_ho.1D ...\n"
          ]
        },
        {
          "output_type": "stream",
          "name": "stderr",
          "text": [
            " ...done. (1 seconds, 0 min)\n"
          ]
        },
        {
          "output_type": "stream",
          "name": "stdout",
          "text": [
            "Downloading data from https://s3.amazonaws.com/fcp-indi/data/Projects/ABIDE_Initiative/Outputs/cpac/filt_noglobal/rois_ho/Stanford_0051199_rois_ho.1D ...\n"
          ]
        },
        {
          "output_type": "stream",
          "name": "stderr",
          "text": [
            " ...done. (1 seconds, 0 min)\n"
          ]
        },
        {
          "output_type": "stream",
          "name": "stdout",
          "text": [
            "Downloading data from https://s3.amazonaws.com/fcp-indi/data/Projects/ABIDE_Initiative/Outputs/cpac/filt_noglobal/rois_ho/UCLA_1_0051201_rois_ho.1D ...\n"
          ]
        },
        {
          "output_type": "stream",
          "name": "stderr",
          "text": [
            " ...done. (1 seconds, 0 min)\n"
          ]
        },
        {
          "output_type": "stream",
          "name": "stdout",
          "text": [
            "Downloading data from https://s3.amazonaws.com/fcp-indi/data/Projects/ABIDE_Initiative/Outputs/cpac/filt_noglobal/rois_ho/UCLA_1_0051202_rois_ho.1D ...\n"
          ]
        },
        {
          "output_type": "stream",
          "name": "stderr",
          "text": [
            " ...done. (1 seconds, 0 min)\n"
          ]
        },
        {
          "output_type": "stream",
          "name": "stdout",
          "text": [
            "Downloading data from https://s3.amazonaws.com/fcp-indi/data/Projects/ABIDE_Initiative/Outputs/cpac/filt_noglobal/rois_ho/UCLA_1_0051203_rois_ho.1D ...\n"
          ]
        },
        {
          "output_type": "stream",
          "name": "stderr",
          "text": [
            " ...done. (1 seconds, 0 min)\n"
          ]
        },
        {
          "output_type": "stream",
          "name": "stdout",
          "text": [
            "Downloading data from https://s3.amazonaws.com/fcp-indi/data/Projects/ABIDE_Initiative/Outputs/cpac/filt_noglobal/rois_ho/UCLA_1_0051204_rois_ho.1D ...\n"
          ]
        },
        {
          "output_type": "stream",
          "name": "stderr",
          "text": [
            " ...done. (1 seconds, 0 min)\n"
          ]
        },
        {
          "output_type": "stream",
          "name": "stdout",
          "text": [
            "Downloading data from https://s3.amazonaws.com/fcp-indi/data/Projects/ABIDE_Initiative/Outputs/cpac/filt_noglobal/rois_ho/UCLA_1_0051205_rois_ho.1D ...\n"
          ]
        },
        {
          "output_type": "stream",
          "name": "stderr",
          "text": [
            " ...done. (1 seconds, 0 min)\n"
          ]
        },
        {
          "output_type": "stream",
          "name": "stdout",
          "text": [
            "Downloading data from https://s3.amazonaws.com/fcp-indi/data/Projects/ABIDE_Initiative/Outputs/cpac/filt_noglobal/rois_ho/UCLA_1_0051206_rois_ho.1D ...\n"
          ]
        },
        {
          "output_type": "stream",
          "name": "stderr",
          "text": [
            " ...done. (1 seconds, 0 min)\n"
          ]
        },
        {
          "output_type": "stream",
          "name": "stdout",
          "text": [
            "Downloading data from https://s3.amazonaws.com/fcp-indi/data/Projects/ABIDE_Initiative/Outputs/cpac/filt_noglobal/rois_ho/UCLA_1_0051207_rois_ho.1D ...\n"
          ]
        },
        {
          "output_type": "stream",
          "name": "stderr",
          "text": [
            " ...done. (1 seconds, 0 min)\n"
          ]
        },
        {
          "output_type": "stream",
          "name": "stdout",
          "text": [
            "Downloading data from https://s3.amazonaws.com/fcp-indi/data/Projects/ABIDE_Initiative/Outputs/cpac/filt_noglobal/rois_ho/UCLA_1_0051208_rois_ho.1D ...\n"
          ]
        },
        {
          "output_type": "stream",
          "name": "stderr",
          "text": [
            " ...done. (1 seconds, 0 min)\n"
          ]
        },
        {
          "output_type": "stream",
          "name": "stdout",
          "text": [
            "Downloading data from https://s3.amazonaws.com/fcp-indi/data/Projects/ABIDE_Initiative/Outputs/cpac/filt_noglobal/rois_ho/UCLA_1_0051209_rois_ho.1D ...\n"
          ]
        },
        {
          "output_type": "stream",
          "name": "stderr",
          "text": [
            " ...done. (1 seconds, 0 min)\n"
          ]
        },
        {
          "output_type": "stream",
          "name": "stdout",
          "text": [
            "Downloading data from https://s3.amazonaws.com/fcp-indi/data/Projects/ABIDE_Initiative/Outputs/cpac/filt_noglobal/rois_ho/UCLA_1_0051210_rois_ho.1D ...\n"
          ]
        },
        {
          "output_type": "stream",
          "name": "stderr",
          "text": [
            " ...done. (1 seconds, 0 min)\n"
          ]
        },
        {
          "output_type": "stream",
          "name": "stdout",
          "text": [
            "Downloading data from https://s3.amazonaws.com/fcp-indi/data/Projects/ABIDE_Initiative/Outputs/cpac/filt_noglobal/rois_ho/UCLA_1_0051211_rois_ho.1D ...\n"
          ]
        },
        {
          "output_type": "stream",
          "name": "stderr",
          "text": [
            " ...done. (1 seconds, 0 min)\n"
          ]
        },
        {
          "output_type": "stream",
          "name": "stdout",
          "text": [
            "Downloading data from https://s3.amazonaws.com/fcp-indi/data/Projects/ABIDE_Initiative/Outputs/cpac/filt_noglobal/rois_ho/UCLA_1_0051212_rois_ho.1D ...\n"
          ]
        },
        {
          "output_type": "stream",
          "name": "stderr",
          "text": [
            " ...done. (1 seconds, 0 min)\n"
          ]
        },
        {
          "output_type": "stream",
          "name": "stdout",
          "text": [
            "Downloading data from https://s3.amazonaws.com/fcp-indi/data/Projects/ABIDE_Initiative/Outputs/cpac/filt_noglobal/rois_ho/UCLA_1_0051213_rois_ho.1D ...\n"
          ]
        },
        {
          "output_type": "stream",
          "name": "stderr",
          "text": [
            " ...done. (1 seconds, 0 min)\n"
          ]
        },
        {
          "output_type": "stream",
          "name": "stdout",
          "text": [
            "Downloading data from https://s3.amazonaws.com/fcp-indi/data/Projects/ABIDE_Initiative/Outputs/cpac/filt_noglobal/rois_ho/UCLA_1_0051214_rois_ho.1D ...\n"
          ]
        },
        {
          "output_type": "stream",
          "name": "stderr",
          "text": [
            " ...done. (1 seconds, 0 min)\n"
          ]
        },
        {
          "output_type": "stream",
          "name": "stdout",
          "text": [
            "Downloading data from https://s3.amazonaws.com/fcp-indi/data/Projects/ABIDE_Initiative/Outputs/cpac/filt_noglobal/rois_ho/UCLA_1_0051215_rois_ho.1D ...\n"
          ]
        },
        {
          "output_type": "stream",
          "name": "stderr",
          "text": [
            " ...done. (1 seconds, 0 min)\n"
          ]
        },
        {
          "output_type": "stream",
          "name": "stdout",
          "text": [
            "Downloading data from https://s3.amazonaws.com/fcp-indi/data/Projects/ABIDE_Initiative/Outputs/cpac/filt_noglobal/rois_ho/UCLA_1_0051216_rois_ho.1D ...\n"
          ]
        },
        {
          "output_type": "stream",
          "name": "stderr",
          "text": [
            " ...done. (1 seconds, 0 min)\n"
          ]
        },
        {
          "output_type": "stream",
          "name": "stdout",
          "text": [
            "Downloading data from https://s3.amazonaws.com/fcp-indi/data/Projects/ABIDE_Initiative/Outputs/cpac/filt_noglobal/rois_ho/UCLA_1_0051217_rois_ho.1D ...\n"
          ]
        },
        {
          "output_type": "stream",
          "name": "stderr",
          "text": [
            " ...done. (1 seconds, 0 min)\n"
          ]
        },
        {
          "output_type": "stream",
          "name": "stdout",
          "text": [
            "Downloading data from https://s3.amazonaws.com/fcp-indi/data/Projects/ABIDE_Initiative/Outputs/cpac/filt_noglobal/rois_ho/UCLA_1_0051218_rois_ho.1D ...\n"
          ]
        },
        {
          "output_type": "stream",
          "name": "stderr",
          "text": [
            " ...done. (1 seconds, 0 min)\n"
          ]
        },
        {
          "output_type": "stream",
          "name": "stdout",
          "text": [
            "Downloading data from https://s3.amazonaws.com/fcp-indi/data/Projects/ABIDE_Initiative/Outputs/cpac/filt_noglobal/rois_ho/UCLA_1_0051219_rois_ho.1D ...\n"
          ]
        },
        {
          "output_type": "stream",
          "name": "stderr",
          "text": [
            " ...done. (1 seconds, 0 min)\n"
          ]
        },
        {
          "output_type": "stream",
          "name": "stdout",
          "text": [
            "Downloading data from https://s3.amazonaws.com/fcp-indi/data/Projects/ABIDE_Initiative/Outputs/cpac/filt_noglobal/rois_ho/UCLA_1_0051220_rois_ho.1D ...\n"
          ]
        },
        {
          "output_type": "stream",
          "name": "stderr",
          "text": [
            " ...done. (1 seconds, 0 min)\n"
          ]
        },
        {
          "output_type": "stream",
          "name": "stdout",
          "text": [
            "Downloading data from https://s3.amazonaws.com/fcp-indi/data/Projects/ABIDE_Initiative/Outputs/cpac/filt_noglobal/rois_ho/UCLA_1_0051221_rois_ho.1D ...\n"
          ]
        },
        {
          "output_type": "stream",
          "name": "stderr",
          "text": [
            " ...done. (1 seconds, 0 min)\n"
          ]
        },
        {
          "output_type": "stream",
          "name": "stdout",
          "text": [
            "Downloading data from https://s3.amazonaws.com/fcp-indi/data/Projects/ABIDE_Initiative/Outputs/cpac/filt_noglobal/rois_ho/UCLA_1_0051222_rois_ho.1D ...\n"
          ]
        },
        {
          "output_type": "stream",
          "name": "stderr",
          "text": [
            " ...done. (1 seconds, 0 min)\n"
          ]
        },
        {
          "output_type": "stream",
          "name": "stdout",
          "text": [
            "Downloading data from https://s3.amazonaws.com/fcp-indi/data/Projects/ABIDE_Initiative/Outputs/cpac/filt_noglobal/rois_ho/UCLA_1_0051223_rois_ho.1D ...\n"
          ]
        },
        {
          "output_type": "stream",
          "name": "stderr",
          "text": [
            " ...done. (1 seconds, 0 min)\n"
          ]
        },
        {
          "output_type": "stream",
          "name": "stdout",
          "text": [
            "Downloading data from https://s3.amazonaws.com/fcp-indi/data/Projects/ABIDE_Initiative/Outputs/cpac/filt_noglobal/rois_ho/UCLA_1_0051224_rois_ho.1D ...\n"
          ]
        },
        {
          "output_type": "stream",
          "name": "stderr",
          "text": [
            " ...done. (1 seconds, 0 min)\n"
          ]
        },
        {
          "output_type": "stream",
          "name": "stdout",
          "text": [
            "Downloading data from https://s3.amazonaws.com/fcp-indi/data/Projects/ABIDE_Initiative/Outputs/cpac/filt_noglobal/rois_ho/UCLA_1_0051225_rois_ho.1D ...\n"
          ]
        },
        {
          "output_type": "stream",
          "name": "stderr",
          "text": [
            " ...done. (1 seconds, 0 min)\n"
          ]
        },
        {
          "output_type": "stream",
          "name": "stdout",
          "text": [
            "Downloading data from https://s3.amazonaws.com/fcp-indi/data/Projects/ABIDE_Initiative/Outputs/cpac/filt_noglobal/rois_ho/UCLA_1_0051226_rois_ho.1D ...\n"
          ]
        },
        {
          "output_type": "stream",
          "name": "stderr",
          "text": [
            " ...done. (1 seconds, 0 min)\n"
          ]
        },
        {
          "output_type": "stream",
          "name": "stdout",
          "text": [
            "Downloading data from https://s3.amazonaws.com/fcp-indi/data/Projects/ABIDE_Initiative/Outputs/cpac/filt_noglobal/rois_ho/UCLA_1_0051227_rois_ho.1D ...\n"
          ]
        },
        {
          "output_type": "stream",
          "name": "stderr",
          "text": [
            " ...done. (1 seconds, 0 min)\n"
          ]
        },
        {
          "output_type": "stream",
          "name": "stdout",
          "text": [
            "Downloading data from https://s3.amazonaws.com/fcp-indi/data/Projects/ABIDE_Initiative/Outputs/cpac/filt_noglobal/rois_ho/UCLA_1_0051228_rois_ho.1D ...\n"
          ]
        },
        {
          "output_type": "stream",
          "name": "stderr",
          "text": [
            " ...done. (1 seconds, 0 min)\n"
          ]
        },
        {
          "output_type": "stream",
          "name": "stdout",
          "text": [
            "Downloading data from https://s3.amazonaws.com/fcp-indi/data/Projects/ABIDE_Initiative/Outputs/cpac/filt_noglobal/rois_ho/UCLA_1_0051229_rois_ho.1D ...\n"
          ]
        },
        {
          "output_type": "stream",
          "name": "stderr",
          "text": [
            " ...done. (1 seconds, 0 min)\n"
          ]
        },
        {
          "output_type": "stream",
          "name": "stdout",
          "text": [
            "Downloading data from https://s3.amazonaws.com/fcp-indi/data/Projects/ABIDE_Initiative/Outputs/cpac/filt_noglobal/rois_ho/UCLA_1_0051230_rois_ho.1D ...\n"
          ]
        },
        {
          "output_type": "stream",
          "name": "stderr",
          "text": [
            " ...done. (1 seconds, 0 min)\n"
          ]
        },
        {
          "output_type": "stream",
          "name": "stdout",
          "text": [
            "Downloading data from https://s3.amazonaws.com/fcp-indi/data/Projects/ABIDE_Initiative/Outputs/cpac/filt_noglobal/rois_ho/UCLA_1_0051231_rois_ho.1D ...\n"
          ]
        },
        {
          "output_type": "stream",
          "name": "stderr",
          "text": [
            " ...done. (1 seconds, 0 min)\n"
          ]
        },
        {
          "output_type": "stream",
          "name": "stdout",
          "text": [
            "Downloading data from https://s3.amazonaws.com/fcp-indi/data/Projects/ABIDE_Initiative/Outputs/cpac/filt_noglobal/rois_ho/UCLA_1_0051234_rois_ho.1D ...\n"
          ]
        },
        {
          "output_type": "stream",
          "name": "stderr",
          "text": [
            " ...done. (1 seconds, 0 min)\n"
          ]
        },
        {
          "output_type": "stream",
          "name": "stdout",
          "text": [
            "Downloading data from https://s3.amazonaws.com/fcp-indi/data/Projects/ABIDE_Initiative/Outputs/cpac/filt_noglobal/rois_ho/UCLA_1_0051235_rois_ho.1D ...\n"
          ]
        },
        {
          "output_type": "stream",
          "name": "stderr",
          "text": [
            " ...done. (1 seconds, 0 min)\n"
          ]
        },
        {
          "output_type": "stream",
          "name": "stdout",
          "text": [
            "Downloading data from https://s3.amazonaws.com/fcp-indi/data/Projects/ABIDE_Initiative/Outputs/cpac/filt_noglobal/rois_ho/UCLA_1_0051236_rois_ho.1D ...\n"
          ]
        },
        {
          "output_type": "stream",
          "name": "stderr",
          "text": [
            " ...done. (1 seconds, 0 min)\n"
          ]
        },
        {
          "output_type": "stream",
          "name": "stdout",
          "text": [
            "Downloading data from https://s3.amazonaws.com/fcp-indi/data/Projects/ABIDE_Initiative/Outputs/cpac/filt_noglobal/rois_ho/UCLA_1_0051237_rois_ho.1D ...\n"
          ]
        },
        {
          "output_type": "stream",
          "name": "stderr",
          "text": [
            " ...done. (1 seconds, 0 min)\n"
          ]
        },
        {
          "output_type": "stream",
          "name": "stdout",
          "text": [
            "Downloading data from https://s3.amazonaws.com/fcp-indi/data/Projects/ABIDE_Initiative/Outputs/cpac/filt_noglobal/rois_ho/UCLA_1_0051238_rois_ho.1D ...\n"
          ]
        },
        {
          "output_type": "stream",
          "name": "stderr",
          "text": [
            " ...done. (1 seconds, 0 min)\n"
          ]
        },
        {
          "output_type": "stream",
          "name": "stdout",
          "text": [
            "Downloading data from https://s3.amazonaws.com/fcp-indi/data/Projects/ABIDE_Initiative/Outputs/cpac/filt_noglobal/rois_ho/UCLA_1_0051239_rois_ho.1D ...\n"
          ]
        },
        {
          "output_type": "stream",
          "name": "stderr",
          "text": [
            " ...done. (1 seconds, 0 min)\n"
          ]
        },
        {
          "output_type": "stream",
          "name": "stdout",
          "text": [
            "Downloading data from https://s3.amazonaws.com/fcp-indi/data/Projects/ABIDE_Initiative/Outputs/cpac/filt_noglobal/rois_ho/UCLA_1_0051240_rois_ho.1D ...\n"
          ]
        },
        {
          "output_type": "stream",
          "name": "stderr",
          "text": [
            " ...done. (1 seconds, 0 min)\n"
          ]
        },
        {
          "output_type": "stream",
          "name": "stdout",
          "text": [
            "Downloading data from https://s3.amazonaws.com/fcp-indi/data/Projects/ABIDE_Initiative/Outputs/cpac/filt_noglobal/rois_ho/UCLA_1_0051241_rois_ho.1D ...\n"
          ]
        },
        {
          "output_type": "stream",
          "name": "stderr",
          "text": [
            " ...done. (1 seconds, 0 min)\n"
          ]
        },
        {
          "output_type": "stream",
          "name": "stdout",
          "text": [
            "Downloading data from https://s3.amazonaws.com/fcp-indi/data/Projects/ABIDE_Initiative/Outputs/cpac/filt_noglobal/rois_ho/UCLA_1_0051248_rois_ho.1D ...\n"
          ]
        },
        {
          "output_type": "stream",
          "name": "stderr",
          "text": [
            " ...done. (1 seconds, 0 min)\n"
          ]
        },
        {
          "output_type": "stream",
          "name": "stdout",
          "text": [
            "Downloading data from https://s3.amazonaws.com/fcp-indi/data/Projects/ABIDE_Initiative/Outputs/cpac/filt_noglobal/rois_ho/UCLA_1_0051249_rois_ho.1D ...\n"
          ]
        },
        {
          "output_type": "stream",
          "name": "stderr",
          "text": [
            " ...done. (1 seconds, 0 min)\n"
          ]
        },
        {
          "output_type": "stream",
          "name": "stdout",
          "text": [
            "Downloading data from https://s3.amazonaws.com/fcp-indi/data/Projects/ABIDE_Initiative/Outputs/cpac/filt_noglobal/rois_ho/UCLA_1_0051250_rois_ho.1D ...\n"
          ]
        },
        {
          "output_type": "stream",
          "name": "stderr",
          "text": [
            " ...done. (1 seconds, 0 min)\n"
          ]
        },
        {
          "output_type": "stream",
          "name": "stdout",
          "text": [
            "Downloading data from https://s3.amazonaws.com/fcp-indi/data/Projects/ABIDE_Initiative/Outputs/cpac/filt_noglobal/rois_ho/UCLA_1_0051251_rois_ho.1D ...\n"
          ]
        },
        {
          "output_type": "stream",
          "name": "stderr",
          "text": [
            " ...done. (1 seconds, 0 min)\n"
          ]
        },
        {
          "output_type": "stream",
          "name": "stdout",
          "text": [
            "Downloading data from https://s3.amazonaws.com/fcp-indi/data/Projects/ABIDE_Initiative/Outputs/cpac/filt_noglobal/rois_ho/UCLA_1_0051252_rois_ho.1D ...\n"
          ]
        },
        {
          "output_type": "stream",
          "name": "stderr",
          "text": [
            " ...done. (1 seconds, 0 min)\n"
          ]
        },
        {
          "output_type": "stream",
          "name": "stdout",
          "text": [
            "Downloading data from https://s3.amazonaws.com/fcp-indi/data/Projects/ABIDE_Initiative/Outputs/cpac/filt_noglobal/rois_ho/UCLA_1_0051253_rois_ho.1D ...\n"
          ]
        },
        {
          "output_type": "stream",
          "name": "stderr",
          "text": [
            " ...done. (1 seconds, 0 min)\n"
          ]
        },
        {
          "output_type": "stream",
          "name": "stdout",
          "text": [
            "Downloading data from https://s3.amazonaws.com/fcp-indi/data/Projects/ABIDE_Initiative/Outputs/cpac/filt_noglobal/rois_ho/UCLA_1_0051254_rois_ho.1D ...\n"
          ]
        },
        {
          "output_type": "stream",
          "name": "stderr",
          "text": [
            " ...done. (1 seconds, 0 min)\n"
          ]
        },
        {
          "output_type": "stream",
          "name": "stdout",
          "text": [
            "Downloading data from https://s3.amazonaws.com/fcp-indi/data/Projects/ABIDE_Initiative/Outputs/cpac/filt_noglobal/rois_ho/UCLA_1_0051255_rois_ho.1D ...\n"
          ]
        },
        {
          "output_type": "stream",
          "name": "stderr",
          "text": [
            " ...done. (1 seconds, 0 min)\n"
          ]
        },
        {
          "output_type": "stream",
          "name": "stdout",
          "text": [
            "Downloading data from https://s3.amazonaws.com/fcp-indi/data/Projects/ABIDE_Initiative/Outputs/cpac/filt_noglobal/rois_ho/UCLA_1_0051256_rois_ho.1D ...\n"
          ]
        },
        {
          "output_type": "stream",
          "name": "stderr",
          "text": [
            " ...done. (1 seconds, 0 min)\n"
          ]
        },
        {
          "output_type": "stream",
          "name": "stdout",
          "text": [
            "Downloading data from https://s3.amazonaws.com/fcp-indi/data/Projects/ABIDE_Initiative/Outputs/cpac/filt_noglobal/rois_ho/UCLA_1_0051257_rois_ho.1D ...\n"
          ]
        },
        {
          "output_type": "stream",
          "name": "stderr",
          "text": [
            " ...done. (1 seconds, 0 min)\n"
          ]
        },
        {
          "output_type": "stream",
          "name": "stdout",
          "text": [
            "Downloading data from https://s3.amazonaws.com/fcp-indi/data/Projects/ABIDE_Initiative/Outputs/cpac/filt_noglobal/rois_ho/UCLA_1_0051258_rois_ho.1D ...\n"
          ]
        },
        {
          "output_type": "stream",
          "name": "stderr",
          "text": [
            " ...done. (1 seconds, 0 min)\n"
          ]
        },
        {
          "output_type": "stream",
          "name": "stdout",
          "text": [
            "Downloading data from https://s3.amazonaws.com/fcp-indi/data/Projects/ABIDE_Initiative/Outputs/cpac/filt_noglobal/rois_ho/UCLA_1_0051260_rois_ho.1D ...\n"
          ]
        },
        {
          "output_type": "stream",
          "name": "stderr",
          "text": [
            " ...done. (1 seconds, 0 min)\n"
          ]
        },
        {
          "output_type": "stream",
          "name": "stdout",
          "text": [
            "Downloading data from https://s3.amazonaws.com/fcp-indi/data/Projects/ABIDE_Initiative/Outputs/cpac/filt_noglobal/rois_ho/UCLA_1_0051261_rois_ho.1D ...\n"
          ]
        },
        {
          "output_type": "stream",
          "name": "stderr",
          "text": [
            " ...done. (1 seconds, 0 min)\n"
          ]
        },
        {
          "output_type": "stream",
          "name": "stdout",
          "text": [
            "Downloading data from https://s3.amazonaws.com/fcp-indi/data/Projects/ABIDE_Initiative/Outputs/cpac/filt_noglobal/rois_ho/UCLA_1_0051262_rois_ho.1D ...\n"
          ]
        },
        {
          "output_type": "stream",
          "name": "stderr",
          "text": [
            " ...done. (1 seconds, 0 min)\n"
          ]
        },
        {
          "output_type": "stream",
          "name": "stdout",
          "text": [
            "Downloading data from https://s3.amazonaws.com/fcp-indi/data/Projects/ABIDE_Initiative/Outputs/cpac/filt_noglobal/rois_ho/UCLA_1_0051263_rois_ho.1D ...\n"
          ]
        },
        {
          "output_type": "stream",
          "name": "stderr",
          "text": [
            " ...done. (1 seconds, 0 min)\n"
          ]
        },
        {
          "output_type": "stream",
          "name": "stdout",
          "text": [
            "Downloading data from https://s3.amazonaws.com/fcp-indi/data/Projects/ABIDE_Initiative/Outputs/cpac/filt_noglobal/rois_ho/UCLA_1_0051264_rois_ho.1D ...\n"
          ]
        },
        {
          "output_type": "stream",
          "name": "stderr",
          "text": [
            " ...done. (1 seconds, 0 min)\n"
          ]
        },
        {
          "output_type": "stream",
          "name": "stdout",
          "text": [
            "Downloading data from https://s3.amazonaws.com/fcp-indi/data/Projects/ABIDE_Initiative/Outputs/cpac/filt_noglobal/rois_ho/UCLA_1_0051265_rois_ho.1D ...\n"
          ]
        },
        {
          "output_type": "stream",
          "name": "stderr",
          "text": [
            " ...done. (1 seconds, 0 min)\n"
          ]
        },
        {
          "output_type": "stream",
          "name": "stdout",
          "text": [
            "Downloading data from https://s3.amazonaws.com/fcp-indi/data/Projects/ABIDE_Initiative/Outputs/cpac/filt_noglobal/rois_ho/UCLA_1_0051266_rois_ho.1D ...\n"
          ]
        },
        {
          "output_type": "stream",
          "name": "stderr",
          "text": [
            " ...done. (1 seconds, 0 min)\n"
          ]
        },
        {
          "output_type": "stream",
          "name": "stdout",
          "text": [
            "Downloading data from https://s3.amazonaws.com/fcp-indi/data/Projects/ABIDE_Initiative/Outputs/cpac/filt_noglobal/rois_ho/UCLA_1_0051267_rois_ho.1D ...\n"
          ]
        },
        {
          "output_type": "stream",
          "name": "stderr",
          "text": [
            " ...done. (1 seconds, 0 min)\n"
          ]
        },
        {
          "output_type": "stream",
          "name": "stdout",
          "text": [
            "Downloading data from https://s3.amazonaws.com/fcp-indi/data/Projects/ABIDE_Initiative/Outputs/cpac/filt_noglobal/rois_ho/UCLA_1_0051268_rois_ho.1D ...\n"
          ]
        },
        {
          "output_type": "stream",
          "name": "stderr",
          "text": [
            " ...done. (1 seconds, 0 min)\n"
          ]
        },
        {
          "output_type": "stream",
          "name": "stdout",
          "text": [
            "Downloading data from https://s3.amazonaws.com/fcp-indi/data/Projects/ABIDE_Initiative/Outputs/cpac/filt_noglobal/rois_ho/UCLA_1_0051269_rois_ho.1D ...\n"
          ]
        },
        {
          "output_type": "stream",
          "name": "stderr",
          "text": [
            " ...done. (1 seconds, 0 min)\n"
          ]
        },
        {
          "output_type": "stream",
          "name": "stdout",
          "text": [
            "Downloading data from https://s3.amazonaws.com/fcp-indi/data/Projects/ABIDE_Initiative/Outputs/cpac/filt_noglobal/rois_ho/UCLA_1_0051271_rois_ho.1D ...\n"
          ]
        },
        {
          "output_type": "stream",
          "name": "stderr",
          "text": [
            " ...done. (1 seconds, 0 min)\n"
          ]
        },
        {
          "output_type": "stream",
          "name": "stdout",
          "text": [
            "Downloading data from https://s3.amazonaws.com/fcp-indi/data/Projects/ABIDE_Initiative/Outputs/cpac/filt_noglobal/rois_ho/UCLA_1_0051272_rois_ho.1D ...\n"
          ]
        },
        {
          "output_type": "stream",
          "name": "stderr",
          "text": [
            " ...done. (1 seconds, 0 min)\n"
          ]
        },
        {
          "output_type": "stream",
          "name": "stdout",
          "text": [
            "Downloading data from https://s3.amazonaws.com/fcp-indi/data/Projects/ABIDE_Initiative/Outputs/cpac/filt_noglobal/rois_ho/UCLA_1_0051273_rois_ho.1D ...\n"
          ]
        },
        {
          "output_type": "stream",
          "name": "stderr",
          "text": [
            " ...done. (1 seconds, 0 min)\n"
          ]
        },
        {
          "output_type": "stream",
          "name": "stdout",
          "text": [
            "Downloading data from https://s3.amazonaws.com/fcp-indi/data/Projects/ABIDE_Initiative/Outputs/cpac/filt_noglobal/rois_ho/UCLA_1_0051274_rois_ho.1D ...\n"
          ]
        },
        {
          "output_type": "stream",
          "name": "stderr",
          "text": [
            " ...done. (1 seconds, 0 min)\n"
          ]
        },
        {
          "output_type": "stream",
          "name": "stdout",
          "text": [
            "Downloading data from https://s3.amazonaws.com/fcp-indi/data/Projects/ABIDE_Initiative/Outputs/cpac/filt_noglobal/rois_ho/UCLA_1_0051275_rois_ho.1D ...\n"
          ]
        },
        {
          "output_type": "stream",
          "name": "stderr",
          "text": [
            " ...done. (1 seconds, 0 min)\n"
          ]
        },
        {
          "output_type": "stream",
          "name": "stdout",
          "text": [
            "Downloading data from https://s3.amazonaws.com/fcp-indi/data/Projects/ABIDE_Initiative/Outputs/cpac/filt_noglobal/rois_ho/UCLA_1_0051276_rois_ho.1D ...\n"
          ]
        },
        {
          "output_type": "stream",
          "name": "stderr",
          "text": [
            " ...done. (1 seconds, 0 min)\n"
          ]
        },
        {
          "output_type": "stream",
          "name": "stdout",
          "text": [
            "Downloading data from https://s3.amazonaws.com/fcp-indi/data/Projects/ABIDE_Initiative/Outputs/cpac/filt_noglobal/rois_ho/UCLA_1_0051277_rois_ho.1D ...\n"
          ]
        },
        {
          "output_type": "stream",
          "name": "stderr",
          "text": [
            " ...done. (1 seconds, 0 min)\n"
          ]
        },
        {
          "output_type": "stream",
          "name": "stdout",
          "text": [
            "Downloading data from https://s3.amazonaws.com/fcp-indi/data/Projects/ABIDE_Initiative/Outputs/cpac/filt_noglobal/rois_ho/UCLA_1_0051278_rois_ho.1D ...\n"
          ]
        },
        {
          "output_type": "stream",
          "name": "stderr",
          "text": [
            " ...done. (1 seconds, 0 min)\n"
          ]
        },
        {
          "output_type": "stream",
          "name": "stdout",
          "text": [
            "Downloading data from https://s3.amazonaws.com/fcp-indi/data/Projects/ABIDE_Initiative/Outputs/cpac/filt_noglobal/rois_ho/UCLA_1_0051279_rois_ho.1D ...\n"
          ]
        },
        {
          "output_type": "stream",
          "name": "stderr",
          "text": [
            " ...done. (1 seconds, 0 min)\n"
          ]
        },
        {
          "output_type": "stream",
          "name": "stdout",
          "text": [
            "Downloading data from https://s3.amazonaws.com/fcp-indi/data/Projects/ABIDE_Initiative/Outputs/cpac/filt_noglobal/rois_ho/UCLA_1_0051280_rois_ho.1D ...\n"
          ]
        },
        {
          "output_type": "stream",
          "name": "stderr",
          "text": [
            " ...done. (1 seconds, 0 min)\n"
          ]
        },
        {
          "output_type": "stream",
          "name": "stdout",
          "text": [
            "Downloading data from https://s3.amazonaws.com/fcp-indi/data/Projects/ABIDE_Initiative/Outputs/cpac/filt_noglobal/rois_ho/UCLA_1_0051281_rois_ho.1D ...\n"
          ]
        },
        {
          "output_type": "stream",
          "name": "stderr",
          "text": [
            " ...done. (1 seconds, 0 min)\n"
          ]
        },
        {
          "output_type": "stream",
          "name": "stdout",
          "text": [
            "Downloading data from https://s3.amazonaws.com/fcp-indi/data/Projects/ABIDE_Initiative/Outputs/cpac/filt_noglobal/rois_ho/UCLA_1_0051282_rois_ho.1D ...\n"
          ]
        },
        {
          "output_type": "stream",
          "name": "stderr",
          "text": [
            " ...done. (1 seconds, 0 min)\n"
          ]
        },
        {
          "output_type": "stream",
          "name": "stdout",
          "text": [
            "Downloading data from https://s3.amazonaws.com/fcp-indi/data/Projects/ABIDE_Initiative/Outputs/cpac/filt_noglobal/rois_ho/UCLA_2_0051291_rois_ho.1D ...\n"
          ]
        },
        {
          "output_type": "stream",
          "name": "stderr",
          "text": [
            " ...done. (1 seconds, 0 min)\n"
          ]
        },
        {
          "output_type": "stream",
          "name": "stdout",
          "text": [
            "Downloading data from https://s3.amazonaws.com/fcp-indi/data/Projects/ABIDE_Initiative/Outputs/cpac/filt_noglobal/rois_ho/UCLA_2_0051292_rois_ho.1D ...\n"
          ]
        },
        {
          "output_type": "stream",
          "name": "stderr",
          "text": [
            " ...done. (1 seconds, 0 min)\n"
          ]
        },
        {
          "output_type": "stream",
          "name": "stdout",
          "text": [
            "Downloading data from https://s3.amazonaws.com/fcp-indi/data/Projects/ABIDE_Initiative/Outputs/cpac/filt_noglobal/rois_ho/UCLA_2_0051293_rois_ho.1D ...\n"
          ]
        },
        {
          "output_type": "stream",
          "name": "stderr",
          "text": [
            " ...done. (1 seconds, 0 min)\n"
          ]
        },
        {
          "output_type": "stream",
          "name": "stdout",
          "text": [
            "Downloading data from https://s3.amazonaws.com/fcp-indi/data/Projects/ABIDE_Initiative/Outputs/cpac/filt_noglobal/rois_ho/UCLA_2_0051294_rois_ho.1D ...\n"
          ]
        },
        {
          "output_type": "stream",
          "name": "stderr",
          "text": [
            " ...done. (1 seconds, 0 min)\n"
          ]
        },
        {
          "output_type": "stream",
          "name": "stdout",
          "text": [
            "Downloading data from https://s3.amazonaws.com/fcp-indi/data/Projects/ABIDE_Initiative/Outputs/cpac/filt_noglobal/rois_ho/UCLA_2_0051295_rois_ho.1D ...\n"
          ]
        },
        {
          "output_type": "stream",
          "name": "stderr",
          "text": [
            " ...done. (1 seconds, 0 min)\n"
          ]
        },
        {
          "output_type": "stream",
          "name": "stdout",
          "text": [
            "Downloading data from https://s3.amazonaws.com/fcp-indi/data/Projects/ABIDE_Initiative/Outputs/cpac/filt_noglobal/rois_ho/UCLA_2_0051296_rois_ho.1D ...\n"
          ]
        },
        {
          "output_type": "stream",
          "name": "stderr",
          "text": [
            " ...done. (1 seconds, 0 min)\n"
          ]
        },
        {
          "output_type": "stream",
          "name": "stdout",
          "text": [
            "Downloading data from https://s3.amazonaws.com/fcp-indi/data/Projects/ABIDE_Initiative/Outputs/cpac/filt_noglobal/rois_ho/UCLA_2_0051297_rois_ho.1D ...\n"
          ]
        },
        {
          "output_type": "stream",
          "name": "stderr",
          "text": [
            " ...done. (1 seconds, 0 min)\n"
          ]
        },
        {
          "output_type": "stream",
          "name": "stdout",
          "text": [
            "Downloading data from https://s3.amazonaws.com/fcp-indi/data/Projects/ABIDE_Initiative/Outputs/cpac/filt_noglobal/rois_ho/UCLA_2_0051298_rois_ho.1D ...\n"
          ]
        },
        {
          "output_type": "stream",
          "name": "stderr",
          "text": [
            " ...done. (1 seconds, 0 min)\n"
          ]
        },
        {
          "output_type": "stream",
          "name": "stdout",
          "text": [
            "Downloading data from https://s3.amazonaws.com/fcp-indi/data/Projects/ABIDE_Initiative/Outputs/cpac/filt_noglobal/rois_ho/UCLA_2_0051299_rois_ho.1D ...\n"
          ]
        },
        {
          "output_type": "stream",
          "name": "stderr",
          "text": [
            " ...done. (1 seconds, 0 min)\n"
          ]
        },
        {
          "output_type": "stream",
          "name": "stdout",
          "text": [
            "Downloading data from https://s3.amazonaws.com/fcp-indi/data/Projects/ABIDE_Initiative/Outputs/cpac/filt_noglobal/rois_ho/UCLA_2_0051300_rois_ho.1D ...\n"
          ]
        },
        {
          "output_type": "stream",
          "name": "stderr",
          "text": [
            " ...done. (1 seconds, 0 min)\n"
          ]
        },
        {
          "output_type": "stream",
          "name": "stdout",
          "text": [
            "Downloading data from https://s3.amazonaws.com/fcp-indi/data/Projects/ABIDE_Initiative/Outputs/cpac/filt_noglobal/rois_ho/UCLA_2_0051301_rois_ho.1D ...\n"
          ]
        },
        {
          "output_type": "stream",
          "name": "stderr",
          "text": [
            " ...done. (1 seconds, 0 min)\n"
          ]
        },
        {
          "output_type": "stream",
          "name": "stdout",
          "text": [
            "Downloading data from https://s3.amazonaws.com/fcp-indi/data/Projects/ABIDE_Initiative/Outputs/cpac/filt_noglobal/rois_ho/UCLA_2_0051302_rois_ho.1D ...\n"
          ]
        },
        {
          "output_type": "stream",
          "name": "stderr",
          "text": [
            " ...done. (1 seconds, 0 min)\n"
          ]
        },
        {
          "output_type": "stream",
          "name": "stdout",
          "text": [
            "Downloading data from https://s3.amazonaws.com/fcp-indi/data/Projects/ABIDE_Initiative/Outputs/cpac/filt_noglobal/rois_ho/UCLA_2_0051303_rois_ho.1D ...\n"
          ]
        },
        {
          "output_type": "stream",
          "name": "stderr",
          "text": [
            " ...done. (1 seconds, 0 min)\n"
          ]
        },
        {
          "output_type": "stream",
          "name": "stdout",
          "text": [
            "Downloading data from https://s3.amazonaws.com/fcp-indi/data/Projects/ABIDE_Initiative/Outputs/cpac/filt_noglobal/rois_ho/UCLA_2_0051304_rois_ho.1D ...\n"
          ]
        },
        {
          "output_type": "stream",
          "name": "stderr",
          "text": [
            " ...done. (1 seconds, 0 min)\n"
          ]
        },
        {
          "output_type": "stream",
          "name": "stdout",
          "text": [
            "Downloading data from https://s3.amazonaws.com/fcp-indi/data/Projects/ABIDE_Initiative/Outputs/cpac/filt_noglobal/rois_ho/UCLA_2_0051305_rois_ho.1D ...\n"
          ]
        },
        {
          "output_type": "stream",
          "name": "stderr",
          "text": [
            " ...done. (1 seconds, 0 min)\n"
          ]
        },
        {
          "output_type": "stream",
          "name": "stdout",
          "text": [
            "Downloading data from https://s3.amazonaws.com/fcp-indi/data/Projects/ABIDE_Initiative/Outputs/cpac/filt_noglobal/rois_ho/UCLA_2_0051306_rois_ho.1D ...\n"
          ]
        },
        {
          "output_type": "stream",
          "name": "stderr",
          "text": [
            " ...done. (1 seconds, 0 min)\n"
          ]
        },
        {
          "output_type": "stream",
          "name": "stdout",
          "text": [
            "Downloading data from https://s3.amazonaws.com/fcp-indi/data/Projects/ABIDE_Initiative/Outputs/cpac/filt_noglobal/rois_ho/UCLA_2_0051307_rois_ho.1D ...\n"
          ]
        },
        {
          "output_type": "stream",
          "name": "stderr",
          "text": [
            " ...done. (1 seconds, 0 min)\n"
          ]
        },
        {
          "output_type": "stream",
          "name": "stdout",
          "text": [
            "Downloading data from https://s3.amazonaws.com/fcp-indi/data/Projects/ABIDE_Initiative/Outputs/cpac/filt_noglobal/rois_ho/UCLA_2_0051308_rois_ho.1D ...\n"
          ]
        },
        {
          "output_type": "stream",
          "name": "stderr",
          "text": [
            " ...done. (1 seconds, 0 min)\n"
          ]
        },
        {
          "output_type": "stream",
          "name": "stdout",
          "text": [
            "Downloading data from https://s3.amazonaws.com/fcp-indi/data/Projects/ABIDE_Initiative/Outputs/cpac/filt_noglobal/rois_ho/UCLA_2_0051309_rois_ho.1D ...\n"
          ]
        },
        {
          "output_type": "stream",
          "name": "stderr",
          "text": [
            " ...done. (1 seconds, 0 min)\n"
          ]
        },
        {
          "output_type": "stream",
          "name": "stdout",
          "text": [
            "Downloading data from https://s3.amazonaws.com/fcp-indi/data/Projects/ABIDE_Initiative/Outputs/cpac/filt_noglobal/rois_ho/UCLA_2_0051311_rois_ho.1D ...\n"
          ]
        },
        {
          "output_type": "stream",
          "name": "stderr",
          "text": [
            " ...done. (1 seconds, 0 min)\n"
          ]
        },
        {
          "output_type": "stream",
          "name": "stdout",
          "text": [
            "Downloading data from https://s3.amazonaws.com/fcp-indi/data/Projects/ABIDE_Initiative/Outputs/cpac/filt_noglobal/rois_ho/UCLA_2_0051312_rois_ho.1D ...\n"
          ]
        },
        {
          "output_type": "stream",
          "name": "stderr",
          "text": [
            " ...done. (1 seconds, 0 min)\n"
          ]
        },
        {
          "output_type": "stream",
          "name": "stdout",
          "text": [
            "Downloading data from https://s3.amazonaws.com/fcp-indi/data/Projects/ABIDE_Initiative/Outputs/cpac/filt_noglobal/rois_ho/UCLA_2_0051313_rois_ho.1D ...\n"
          ]
        },
        {
          "output_type": "stream",
          "name": "stderr",
          "text": [
            " ...done. (1 seconds, 0 min)\n"
          ]
        },
        {
          "output_type": "stream",
          "name": "stdout",
          "text": [
            "Downloading data from https://s3.amazonaws.com/fcp-indi/data/Projects/ABIDE_Initiative/Outputs/cpac/filt_noglobal/rois_ho/UCLA_2_0051314_rois_ho.1D ...\n"
          ]
        },
        {
          "output_type": "stream",
          "name": "stderr",
          "text": [
            " ...done. (1 seconds, 0 min)\n"
          ]
        },
        {
          "output_type": "stream",
          "name": "stdout",
          "text": [
            "Downloading data from https://s3.amazonaws.com/fcp-indi/data/Projects/ABIDE_Initiative/Outputs/cpac/filt_noglobal/rois_ho/UCLA_2_0051315_rois_ho.1D ...\n"
          ]
        },
        {
          "output_type": "stream",
          "name": "stderr",
          "text": [
            " ...done. (1 seconds, 0 min)\n"
          ]
        },
        {
          "output_type": "stream",
          "name": "stdout",
          "text": [
            "Downloading data from https://s3.amazonaws.com/fcp-indi/data/Projects/ABIDE_Initiative/Outputs/cpac/filt_noglobal/rois_ho/UCLA_2_0051316_rois_ho.1D ...\n"
          ]
        },
        {
          "output_type": "stream",
          "name": "stderr",
          "text": [
            " ...done. (1 seconds, 0 min)\n"
          ]
        },
        {
          "output_type": "stream",
          "name": "stdout",
          "text": [
            "Downloading data from https://s3.amazonaws.com/fcp-indi/data/Projects/ABIDE_Initiative/Outputs/cpac/filt_noglobal/rois_ho/UCLA_2_0051317_rois_ho.1D ...\n"
          ]
        },
        {
          "output_type": "stream",
          "name": "stderr",
          "text": [
            " ...done. (1 seconds, 0 min)\n"
          ]
        },
        {
          "output_type": "stream",
          "name": "stdout",
          "text": [
            "Downloading data from https://s3.amazonaws.com/fcp-indi/data/Projects/ABIDE_Initiative/Outputs/cpac/filt_noglobal/rois_ho/MaxMun_a_0051318_rois_ho.1D ...\n"
          ]
        },
        {
          "output_type": "stream",
          "name": "stderr",
          "text": [
            " ...done. (1 seconds, 0 min)\n"
          ]
        },
        {
          "output_type": "stream",
          "name": "stdout",
          "text": [
            "Downloading data from https://s3.amazonaws.com/fcp-indi/data/Projects/ABIDE_Initiative/Outputs/cpac/filt_noglobal/rois_ho/MaxMun_a_0051319_rois_ho.1D ...\n"
          ]
        },
        {
          "output_type": "stream",
          "name": "stderr",
          "text": [
            " ...done. (1 seconds, 0 min)\n"
          ]
        },
        {
          "output_type": "stream",
          "name": "stdout",
          "text": [
            "Downloading data from https://s3.amazonaws.com/fcp-indi/data/Projects/ABIDE_Initiative/Outputs/cpac/filt_noglobal/rois_ho/MaxMun_a_0051320_rois_ho.1D ...\n"
          ]
        },
        {
          "output_type": "stream",
          "name": "stderr",
          "text": [
            " ...done. (1 seconds, 0 min)\n"
          ]
        },
        {
          "output_type": "stream",
          "name": "stdout",
          "text": [
            "Downloading data from https://s3.amazonaws.com/fcp-indi/data/Projects/ABIDE_Initiative/Outputs/cpac/filt_noglobal/rois_ho/MaxMun_a_0051321_rois_ho.1D ...\n"
          ]
        },
        {
          "output_type": "stream",
          "name": "stderr",
          "text": [
            " ...done. (1 seconds, 0 min)\n"
          ]
        },
        {
          "output_type": "stream",
          "name": "stdout",
          "text": [
            "Downloading data from https://s3.amazonaws.com/fcp-indi/data/Projects/ABIDE_Initiative/Outputs/cpac/filt_noglobal/rois_ho/MaxMun_b_0051322_rois_ho.1D ...\n"
          ]
        },
        {
          "output_type": "stream",
          "name": "stderr",
          "text": [
            " ...done. (1 seconds, 0 min)\n"
          ]
        },
        {
          "output_type": "stream",
          "name": "stdout",
          "text": [
            "Downloading data from https://s3.amazonaws.com/fcp-indi/data/Projects/ABIDE_Initiative/Outputs/cpac/filt_noglobal/rois_ho/MaxMun_b_0051323_rois_ho.1D ...\n"
          ]
        },
        {
          "output_type": "stream",
          "name": "stderr",
          "text": [
            " ...done. (1 seconds, 0 min)\n"
          ]
        },
        {
          "output_type": "stream",
          "name": "stdout",
          "text": [
            "Downloading data from https://s3.amazonaws.com/fcp-indi/data/Projects/ABIDE_Initiative/Outputs/cpac/filt_noglobal/rois_ho/MaxMun_b_0051324_rois_ho.1D ...\n"
          ]
        },
        {
          "output_type": "stream",
          "name": "stderr",
          "text": [
            " ...done. (1 seconds, 0 min)\n"
          ]
        },
        {
          "output_type": "stream",
          "name": "stdout",
          "text": [
            "Downloading data from https://s3.amazonaws.com/fcp-indi/data/Projects/ABIDE_Initiative/Outputs/cpac/filt_noglobal/rois_ho/MaxMun_b_0051325_rois_ho.1D ...\n"
          ]
        },
        {
          "output_type": "stream",
          "name": "stderr",
          "text": [
            " ...done. (1 seconds, 0 min)\n"
          ]
        },
        {
          "output_type": "stream",
          "name": "stdout",
          "text": [
            "Downloading data from https://s3.amazonaws.com/fcp-indi/data/Projects/ABIDE_Initiative/Outputs/cpac/filt_noglobal/rois_ho/MaxMun_b_0051326_rois_ho.1D ...\n"
          ]
        },
        {
          "output_type": "stream",
          "name": "stderr",
          "text": [
            " ...done. (1 seconds, 0 min)\n"
          ]
        },
        {
          "output_type": "stream",
          "name": "stdout",
          "text": [
            "Downloading data from https://s3.amazonaws.com/fcp-indi/data/Projects/ABIDE_Initiative/Outputs/cpac/filt_noglobal/rois_ho/MaxMun_b_0051327_rois_ho.1D ...\n"
          ]
        },
        {
          "output_type": "stream",
          "name": "stderr",
          "text": [
            " ...done. (1 seconds, 0 min)\n"
          ]
        },
        {
          "output_type": "stream",
          "name": "stdout",
          "text": [
            "Downloading data from https://s3.amazonaws.com/fcp-indi/data/Projects/ABIDE_Initiative/Outputs/cpac/filt_noglobal/rois_ho/MaxMun_c_0051328_rois_ho.1D ...\n"
          ]
        },
        {
          "output_type": "stream",
          "name": "stderr",
          "text": [
            " ...done. (1 seconds, 0 min)\n"
          ]
        },
        {
          "output_type": "stream",
          "name": "stdout",
          "text": [
            "Downloading data from https://s3.amazonaws.com/fcp-indi/data/Projects/ABIDE_Initiative/Outputs/cpac/filt_noglobal/rois_ho/MaxMun_d_0051329_rois_ho.1D ...\n"
          ]
        },
        {
          "output_type": "stream",
          "name": "stderr",
          "text": [
            " ...done. (1 seconds, 0 min)\n"
          ]
        },
        {
          "output_type": "stream",
          "name": "stdout",
          "text": [
            "Downloading data from https://s3.amazonaws.com/fcp-indi/data/Projects/ABIDE_Initiative/Outputs/cpac/filt_noglobal/rois_ho/MaxMun_d_0051330_rois_ho.1D ...\n"
          ]
        },
        {
          "output_type": "stream",
          "name": "stderr",
          "text": [
            " ...done. (1 seconds, 0 min)\n"
          ]
        },
        {
          "output_type": "stream",
          "name": "stdout",
          "text": [
            "Downloading data from https://s3.amazonaws.com/fcp-indi/data/Projects/ABIDE_Initiative/Outputs/cpac/filt_noglobal/rois_ho/MaxMun_d_0051331_rois_ho.1D ...\n"
          ]
        },
        {
          "output_type": "stream",
          "name": "stderr",
          "text": [
            " ...done. (1 seconds, 0 min)\n"
          ]
        },
        {
          "output_type": "stream",
          "name": "stdout",
          "text": [
            "Downloading data from https://s3.amazonaws.com/fcp-indi/data/Projects/ABIDE_Initiative/Outputs/cpac/filt_noglobal/rois_ho/MaxMun_c_0051332_rois_ho.1D ...\n"
          ]
        },
        {
          "output_type": "stream",
          "name": "stderr",
          "text": [
            " ...done. (1 seconds, 0 min)\n"
          ]
        },
        {
          "output_type": "stream",
          "name": "stdout",
          "text": [
            "Downloading data from https://s3.amazonaws.com/fcp-indi/data/Projects/ABIDE_Initiative/Outputs/cpac/filt_noglobal/rois_ho/MaxMun_c_0051333_rois_ho.1D ...\n"
          ]
        },
        {
          "output_type": "stream",
          "name": "stderr",
          "text": [
            " ...done. (1 seconds, 0 min)\n"
          ]
        },
        {
          "output_type": "stream",
          "name": "stdout",
          "text": [
            "Downloading data from https://s3.amazonaws.com/fcp-indi/data/Projects/ABIDE_Initiative/Outputs/cpac/filt_noglobal/rois_ho/MaxMun_c_0051334_rois_ho.1D ...\n"
          ]
        },
        {
          "output_type": "stream",
          "name": "stderr",
          "text": [
            " ...done. (1 seconds, 0 min)\n"
          ]
        },
        {
          "output_type": "stream",
          "name": "stdout",
          "text": [
            "Downloading data from https://s3.amazonaws.com/fcp-indi/data/Projects/ABIDE_Initiative/Outputs/cpac/filt_noglobal/rois_ho/MaxMun_c_0051335_rois_ho.1D ...\n"
          ]
        },
        {
          "output_type": "stream",
          "name": "stderr",
          "text": [
            " ...done. (1 seconds, 0 min)\n"
          ]
        },
        {
          "output_type": "stream",
          "name": "stdout",
          "text": [
            "Downloading data from https://s3.amazonaws.com/fcp-indi/data/Projects/ABIDE_Initiative/Outputs/cpac/filt_noglobal/rois_ho/MaxMun_c_0051336_rois_ho.1D ...\n"
          ]
        },
        {
          "output_type": "stream",
          "name": "stderr",
          "text": [
            " ...done. (1 seconds, 0 min)\n"
          ]
        },
        {
          "output_type": "stream",
          "name": "stdout",
          "text": [
            "Downloading data from https://s3.amazonaws.com/fcp-indi/data/Projects/ABIDE_Initiative/Outputs/cpac/filt_noglobal/rois_ho/MaxMun_c_0051338_rois_ho.1D ...\n"
          ]
        },
        {
          "output_type": "stream",
          "name": "stderr",
          "text": [
            " ...done. (1 seconds, 0 min)\n"
          ]
        },
        {
          "output_type": "stream",
          "name": "stdout",
          "text": [
            "Downloading data from https://s3.amazonaws.com/fcp-indi/data/Projects/ABIDE_Initiative/Outputs/cpac/filt_noglobal/rois_ho/MaxMun_c_0051339_rois_ho.1D ...\n"
          ]
        },
        {
          "output_type": "stream",
          "name": "stderr",
          "text": [
            " ...done. (1 seconds, 0 min)\n"
          ]
        },
        {
          "output_type": "stream",
          "name": "stdout",
          "text": [
            "Downloading data from https://s3.amazonaws.com/fcp-indi/data/Projects/ABIDE_Initiative/Outputs/cpac/filt_noglobal/rois_ho/MaxMun_c_0051340_rois_ho.1D ...\n"
          ]
        },
        {
          "output_type": "stream",
          "name": "stderr",
          "text": [
            " ...done. (1 seconds, 0 min)\n"
          ]
        },
        {
          "output_type": "stream",
          "name": "stdout",
          "text": [
            "Downloading data from https://s3.amazonaws.com/fcp-indi/data/Projects/ABIDE_Initiative/Outputs/cpac/filt_noglobal/rois_ho/MaxMun_c_0051341_rois_ho.1D ...\n"
          ]
        },
        {
          "output_type": "stream",
          "name": "stderr",
          "text": [
            " ...done. (1 seconds, 0 min)\n"
          ]
        },
        {
          "output_type": "stream",
          "name": "stdout",
          "text": [
            "Downloading data from https://s3.amazonaws.com/fcp-indi/data/Projects/ABIDE_Initiative/Outputs/cpac/filt_noglobal/rois_ho/MaxMun_c_0051342_rois_ho.1D ...\n"
          ]
        },
        {
          "output_type": "stream",
          "name": "stderr",
          "text": [
            " ...done. (1 seconds, 0 min)\n"
          ]
        },
        {
          "output_type": "stream",
          "name": "stdout",
          "text": [
            "Downloading data from https://s3.amazonaws.com/fcp-indi/data/Projects/ABIDE_Initiative/Outputs/cpac/filt_noglobal/rois_ho/MaxMun_c_0051343_rois_ho.1D ...\n"
          ]
        },
        {
          "output_type": "stream",
          "name": "stderr",
          "text": [
            " ...done. (1 seconds, 0 min)\n"
          ]
        },
        {
          "output_type": "stream",
          "name": "stdout",
          "text": [
            "Downloading data from https://s3.amazonaws.com/fcp-indi/data/Projects/ABIDE_Initiative/Outputs/cpac/filt_noglobal/rois_ho/MaxMun_c_0051344_rois_ho.1D ...\n"
          ]
        },
        {
          "output_type": "stream",
          "name": "stderr",
          "text": [
            " ...done. (1 seconds, 0 min)\n"
          ]
        },
        {
          "output_type": "stream",
          "name": "stdout",
          "text": [
            "Downloading data from https://s3.amazonaws.com/fcp-indi/data/Projects/ABIDE_Initiative/Outputs/cpac/filt_noglobal/rois_ho/MaxMun_c_0051345_rois_ho.1D ...\n"
          ]
        },
        {
          "output_type": "stream",
          "name": "stderr",
          "text": [
            " ...done. (1 seconds, 0 min)\n"
          ]
        },
        {
          "output_type": "stream",
          "name": "stdout",
          "text": [
            "Downloading data from https://s3.amazonaws.com/fcp-indi/data/Projects/ABIDE_Initiative/Outputs/cpac/filt_noglobal/rois_ho/MaxMun_c_0051346_rois_ho.1D ...\n"
          ]
        },
        {
          "output_type": "stream",
          "name": "stderr",
          "text": [
            " ...done. (1 seconds, 0 min)\n"
          ]
        },
        {
          "output_type": "stream",
          "name": "stdout",
          "text": [
            "Downloading data from https://s3.amazonaws.com/fcp-indi/data/Projects/ABIDE_Initiative/Outputs/cpac/filt_noglobal/rois_ho/MaxMun_c_0051347_rois_ho.1D ...\n"
          ]
        },
        {
          "output_type": "stream",
          "name": "stderr",
          "text": [
            " ...done. (1 seconds, 0 min)\n"
          ]
        },
        {
          "output_type": "stream",
          "name": "stdout",
          "text": [
            "Downloading data from https://s3.amazonaws.com/fcp-indi/data/Projects/ABIDE_Initiative/Outputs/cpac/filt_noglobal/rois_ho/MaxMun_c_0051348_rois_ho.1D ...\n"
          ]
        },
        {
          "output_type": "stream",
          "name": "stderr",
          "text": [
            " ...done. (1 seconds, 0 min)\n"
          ]
        },
        {
          "output_type": "stream",
          "name": "stdout",
          "text": [
            "Downloading data from https://s3.amazonaws.com/fcp-indi/data/Projects/ABIDE_Initiative/Outputs/cpac/filt_noglobal/rois_ho/MaxMun_d_0051349_rois_ho.1D ...\n"
          ]
        },
        {
          "output_type": "stream",
          "name": "stderr",
          "text": [
            " ...done. (1 seconds, 0 min)\n"
          ]
        },
        {
          "output_type": "stream",
          "name": "stdout",
          "text": [
            "Downloading data from https://s3.amazonaws.com/fcp-indi/data/Projects/ABIDE_Initiative/Outputs/cpac/filt_noglobal/rois_ho/MaxMun_d_0051350_rois_ho.1D ...\n"
          ]
        },
        {
          "output_type": "stream",
          "name": "stderr",
          "text": [
            " ...done. (1 seconds, 0 min)\n"
          ]
        },
        {
          "output_type": "stream",
          "name": "stdout",
          "text": [
            "Downloading data from https://s3.amazonaws.com/fcp-indi/data/Projects/ABIDE_Initiative/Outputs/cpac/filt_noglobal/rois_ho/MaxMun_d_0051351_rois_ho.1D ...\n"
          ]
        },
        {
          "output_type": "stream",
          "name": "stderr",
          "text": [
            " ...done. (1 seconds, 0 min)\n"
          ]
        },
        {
          "output_type": "stream",
          "name": "stdout",
          "text": [
            "Downloading data from https://s3.amazonaws.com/fcp-indi/data/Projects/ABIDE_Initiative/Outputs/cpac/filt_noglobal/rois_ho/MaxMun_d_0051352_rois_ho.1D ...\n"
          ]
        },
        {
          "output_type": "stream",
          "name": "stderr",
          "text": [
            " ...done. (1 seconds, 0 min)\n"
          ]
        },
        {
          "output_type": "stream",
          "name": "stdout",
          "text": [
            "Downloading data from https://s3.amazonaws.com/fcp-indi/data/Projects/ABIDE_Initiative/Outputs/cpac/filt_noglobal/rois_ho/MaxMun_d_0051353_rois_ho.1D ...\n"
          ]
        },
        {
          "output_type": "stream",
          "name": "stderr",
          "text": [
            " ...done. (1 seconds, 0 min)\n"
          ]
        },
        {
          "output_type": "stream",
          "name": "stdout",
          "text": [
            "Downloading data from https://s3.amazonaws.com/fcp-indi/data/Projects/ABIDE_Initiative/Outputs/cpac/filt_noglobal/rois_ho/MaxMun_d_0051354_rois_ho.1D ...\n"
          ]
        },
        {
          "output_type": "stream",
          "name": "stderr",
          "text": [
            " ...done. (1 seconds, 0 min)\n"
          ]
        },
        {
          "output_type": "stream",
          "name": "stdout",
          "text": [
            "Downloading data from https://s3.amazonaws.com/fcp-indi/data/Projects/ABIDE_Initiative/Outputs/cpac/filt_noglobal/rois_ho/MaxMun_d_0051355_rois_ho.1D ...\n"
          ]
        },
        {
          "output_type": "stream",
          "name": "stderr",
          "text": [
            " ...done. (1 seconds, 0 min)\n"
          ]
        },
        {
          "output_type": "stream",
          "name": "stdout",
          "text": [
            "Downloading data from https://s3.amazonaws.com/fcp-indi/data/Projects/ABIDE_Initiative/Outputs/cpac/filt_noglobal/rois_ho/MaxMun_d_0051356_rois_ho.1D ...\n"
          ]
        },
        {
          "output_type": "stream",
          "name": "stderr",
          "text": [
            " ...done. (1 seconds, 0 min)\n"
          ]
        },
        {
          "output_type": "stream",
          "name": "stdout",
          "text": [
            "Downloading data from https://s3.amazonaws.com/fcp-indi/data/Projects/ABIDE_Initiative/Outputs/cpac/filt_noglobal/rois_ho/MaxMun_d_0051357_rois_ho.1D ...\n"
          ]
        },
        {
          "output_type": "stream",
          "name": "stderr",
          "text": [
            " ...done. (1 seconds, 0 min)\n"
          ]
        },
        {
          "output_type": "stream",
          "name": "stdout",
          "text": [
            "Downloading data from https://s3.amazonaws.com/fcp-indi/data/Projects/ABIDE_Initiative/Outputs/cpac/filt_noglobal/rois_ho/MaxMun_d_0051358_rois_ho.1D ...\n"
          ]
        },
        {
          "output_type": "stream",
          "name": "stderr",
          "text": [
            " ...done. (1 seconds, 0 min)\n"
          ]
        },
        {
          "output_type": "stream",
          "name": "stdout",
          "text": [
            "Downloading data from https://s3.amazonaws.com/fcp-indi/data/Projects/ABIDE_Initiative/Outputs/cpac/filt_noglobal/rois_ho/MaxMun_d_0051359_rois_ho.1D ...\n"
          ]
        },
        {
          "output_type": "stream",
          "name": "stderr",
          "text": [
            " ...done. (1 seconds, 0 min)\n"
          ]
        },
        {
          "output_type": "stream",
          "name": "stdout",
          "text": [
            "Downloading data from https://s3.amazonaws.com/fcp-indi/data/Projects/ABIDE_Initiative/Outputs/cpac/filt_noglobal/rois_ho/MaxMun_d_0051360_rois_ho.1D ...\n"
          ]
        },
        {
          "output_type": "stream",
          "name": "stderr",
          "text": [
            " ...done. (1 seconds, 0 min)\n"
          ]
        },
        {
          "output_type": "stream",
          "name": "stdout",
          "text": [
            "Downloading data from https://s3.amazonaws.com/fcp-indi/data/Projects/ABIDE_Initiative/Outputs/cpac/filt_noglobal/rois_ho/MaxMun_d_0051361_rois_ho.1D ...\n"
          ]
        },
        {
          "output_type": "stream",
          "name": "stderr",
          "text": [
            " ...done. (1 seconds, 0 min)\n"
          ]
        },
        {
          "output_type": "stream",
          "name": "stdout",
          "text": [
            "Downloading data from https://s3.amazonaws.com/fcp-indi/data/Projects/ABIDE_Initiative/Outputs/cpac/filt_noglobal/rois_ho/MaxMun_a_0051362_rois_ho.1D ...\n"
          ]
        },
        {
          "output_type": "stream",
          "name": "stderr",
          "text": [
            " ...done. (1 seconds, 0 min)\n"
          ]
        },
        {
          "output_type": "stream",
          "name": "stdout",
          "text": [
            "Downloading data from https://s3.amazonaws.com/fcp-indi/data/Projects/ABIDE_Initiative/Outputs/cpac/filt_noglobal/rois_ho/MaxMun_a_0051363_rois_ho.1D ...\n"
          ]
        },
        {
          "output_type": "stream",
          "name": "stderr",
          "text": [
            " ...done. (1 seconds, 0 min)\n"
          ]
        },
        {
          "output_type": "stream",
          "name": "stdout",
          "text": [
            "Downloading data from https://s3.amazonaws.com/fcp-indi/data/Projects/ABIDE_Initiative/Outputs/cpac/filt_noglobal/rois_ho/MaxMun_a_0051364_rois_ho.1D ...\n"
          ]
        },
        {
          "output_type": "stream",
          "name": "stderr",
          "text": [
            " ...done. (1 seconds, 0 min)\n"
          ]
        },
        {
          "output_type": "stream",
          "name": "stdout",
          "text": [
            "Downloading data from https://s3.amazonaws.com/fcp-indi/data/Projects/ABIDE_Initiative/Outputs/cpac/filt_noglobal/rois_ho/MaxMun_a_0051365_rois_ho.1D ...\n"
          ]
        },
        {
          "output_type": "stream",
          "name": "stderr",
          "text": [
            " ...done. (1 seconds, 0 min)\n"
          ]
        },
        {
          "output_type": "stream",
          "name": "stdout",
          "text": [
            "Downloading data from https://s3.amazonaws.com/fcp-indi/data/Projects/ABIDE_Initiative/Outputs/cpac/filt_noglobal/rois_ho/MaxMun_a_0051369_rois_ho.1D ...\n"
          ]
        },
        {
          "output_type": "stream",
          "name": "stderr",
          "text": [
            " ...done. (1 seconds, 0 min)\n"
          ]
        },
        {
          "output_type": "stream",
          "name": "stdout",
          "text": [
            "Downloading data from https://s3.amazonaws.com/fcp-indi/data/Projects/ABIDE_Initiative/Outputs/cpac/filt_noglobal/rois_ho/MaxMun_a_0051370_rois_ho.1D ...\n"
          ]
        },
        {
          "output_type": "stream",
          "name": "stderr",
          "text": [
            " ...done. (1 seconds, 0 min)\n"
          ]
        },
        {
          "output_type": "stream",
          "name": "stdout",
          "text": [
            "Downloading data from https://s3.amazonaws.com/fcp-indi/data/Projects/ABIDE_Initiative/Outputs/cpac/filt_noglobal/rois_ho/MaxMun_a_0051373_rois_ho.1D ...\n"
          ]
        },
        {
          "output_type": "stream",
          "name": "stderr",
          "text": [
            " ...done. (1 seconds, 0 min)\n"
          ]
        },
        {
          "output_type": "stream",
          "name": "stdout",
          "text": [
            "Downloading data from https://s3.amazonaws.com/fcp-indi/data/Projects/ABIDE_Initiative/Outputs/cpac/filt_noglobal/rois_ho/Caltech_0051456_rois_ho.1D ...\n"
          ]
        },
        {
          "output_type": "stream",
          "name": "stderr",
          "text": [
            " ...done. (1 seconds, 0 min)\n"
          ]
        },
        {
          "output_type": "stream",
          "name": "stdout",
          "text": [
            "Downloading data from https://s3.amazonaws.com/fcp-indi/data/Projects/ABIDE_Initiative/Outputs/cpac/filt_noglobal/rois_ho/Caltech_0051457_rois_ho.1D ...\n"
          ]
        },
        {
          "output_type": "stream",
          "name": "stderr",
          "text": [
            " ...done. (1 seconds, 0 min)\n"
          ]
        },
        {
          "output_type": "stream",
          "name": "stdout",
          "text": [
            "Downloading data from https://s3.amazonaws.com/fcp-indi/data/Projects/ABIDE_Initiative/Outputs/cpac/filt_noglobal/rois_ho/Caltech_0051458_rois_ho.1D ...\n"
          ]
        },
        {
          "output_type": "stream",
          "name": "stderr",
          "text": [
            " ...done. (1 seconds, 0 min)\n"
          ]
        },
        {
          "output_type": "stream",
          "name": "stdout",
          "text": [
            "Downloading data from https://s3.amazonaws.com/fcp-indi/data/Projects/ABIDE_Initiative/Outputs/cpac/filt_noglobal/rois_ho/Caltech_0051459_rois_ho.1D ...\n"
          ]
        },
        {
          "output_type": "stream",
          "name": "stderr",
          "text": [
            " ...done. (1 seconds, 0 min)\n"
          ]
        },
        {
          "output_type": "stream",
          "name": "stdout",
          "text": [
            "Downloading data from https://s3.amazonaws.com/fcp-indi/data/Projects/ABIDE_Initiative/Outputs/cpac/filt_noglobal/rois_ho/Caltech_0051460_rois_ho.1D ...\n"
          ]
        },
        {
          "output_type": "stream",
          "name": "stderr",
          "text": [
            " ...done. (1 seconds, 0 min)\n"
          ]
        },
        {
          "output_type": "stream",
          "name": "stdout",
          "text": [
            "Downloading data from https://s3.amazonaws.com/fcp-indi/data/Projects/ABIDE_Initiative/Outputs/cpac/filt_noglobal/rois_ho/Caltech_0051461_rois_ho.1D ...\n"
          ]
        },
        {
          "output_type": "stream",
          "name": "stderr",
          "text": [
            " ...done. (1 seconds, 0 min)\n"
          ]
        },
        {
          "output_type": "stream",
          "name": "stdout",
          "text": [
            "Downloading data from https://s3.amazonaws.com/fcp-indi/data/Projects/ABIDE_Initiative/Outputs/cpac/filt_noglobal/rois_ho/Caltech_0051462_rois_ho.1D ...\n"
          ]
        },
        {
          "output_type": "stream",
          "name": "stderr",
          "text": [
            " ...done. (1 seconds, 0 min)\n"
          ]
        },
        {
          "output_type": "stream",
          "name": "stdout",
          "text": [
            "Downloading data from https://s3.amazonaws.com/fcp-indi/data/Projects/ABIDE_Initiative/Outputs/cpac/filt_noglobal/rois_ho/Caltech_0051463_rois_ho.1D ...\n"
          ]
        },
        {
          "output_type": "stream",
          "name": "stderr",
          "text": [
            " ...done. (1 seconds, 0 min)\n"
          ]
        },
        {
          "output_type": "stream",
          "name": "stdout",
          "text": [
            "Downloading data from https://s3.amazonaws.com/fcp-indi/data/Projects/ABIDE_Initiative/Outputs/cpac/filt_noglobal/rois_ho/Caltech_0051464_rois_ho.1D ...\n"
          ]
        },
        {
          "output_type": "stream",
          "name": "stderr",
          "text": [
            " ...done. (1 seconds, 0 min)\n"
          ]
        },
        {
          "output_type": "stream",
          "name": "stdout",
          "text": [
            "Downloading data from https://s3.amazonaws.com/fcp-indi/data/Projects/ABIDE_Initiative/Outputs/cpac/filt_noglobal/rois_ho/Caltech_0051465_rois_ho.1D ...\n"
          ]
        },
        {
          "output_type": "stream",
          "name": "stderr",
          "text": [
            " ...done. (1 seconds, 0 min)\n"
          ]
        },
        {
          "output_type": "stream",
          "name": "stdout",
          "text": [
            "Downloading data from https://s3.amazonaws.com/fcp-indi/data/Projects/ABIDE_Initiative/Outputs/cpac/filt_noglobal/rois_ho/Caltech_0051466_rois_ho.1D ...\n"
          ]
        },
        {
          "output_type": "stream",
          "name": "stderr",
          "text": [
            " ...done. (1 seconds, 0 min)\n"
          ]
        },
        {
          "output_type": "stream",
          "name": "stdout",
          "text": [
            "Downloading data from https://s3.amazonaws.com/fcp-indi/data/Projects/ABIDE_Initiative/Outputs/cpac/filt_noglobal/rois_ho/Caltech_0051467_rois_ho.1D ...\n"
          ]
        },
        {
          "output_type": "stream",
          "name": "stderr",
          "text": [
            " ...done. (1 seconds, 0 min)\n"
          ]
        },
        {
          "output_type": "stream",
          "name": "stdout",
          "text": [
            "Downloading data from https://s3.amazonaws.com/fcp-indi/data/Projects/ABIDE_Initiative/Outputs/cpac/filt_noglobal/rois_ho/Caltech_0051468_rois_ho.1D ...\n"
          ]
        },
        {
          "output_type": "stream",
          "name": "stderr",
          "text": [
            " ...done. (1 seconds, 0 min)\n"
          ]
        },
        {
          "output_type": "stream",
          "name": "stdout",
          "text": [
            "Downloading data from https://s3.amazonaws.com/fcp-indi/data/Projects/ABIDE_Initiative/Outputs/cpac/filt_noglobal/rois_ho/Caltech_0051469_rois_ho.1D ...\n"
          ]
        },
        {
          "output_type": "stream",
          "name": "stderr",
          "text": [
            " ...done. (1 seconds, 0 min)\n"
          ]
        },
        {
          "output_type": "stream",
          "name": "stdout",
          "text": [
            "Downloading data from https://s3.amazonaws.com/fcp-indi/data/Projects/ABIDE_Initiative/Outputs/cpac/filt_noglobal/rois_ho/Caltech_0051470_rois_ho.1D ...\n"
          ]
        },
        {
          "output_type": "stream",
          "name": "stderr",
          "text": [
            " ...done. (1 seconds, 0 min)\n"
          ]
        },
        {
          "output_type": "stream",
          "name": "stdout",
          "text": [
            "Downloading data from https://s3.amazonaws.com/fcp-indi/data/Projects/ABIDE_Initiative/Outputs/cpac/filt_noglobal/rois_ho/Caltech_0051471_rois_ho.1D ...\n"
          ]
        },
        {
          "output_type": "stream",
          "name": "stderr",
          "text": [
            " ...done. (1 seconds, 0 min)\n"
          ]
        },
        {
          "output_type": "stream",
          "name": "stdout",
          "text": [
            "Downloading data from https://s3.amazonaws.com/fcp-indi/data/Projects/ABIDE_Initiative/Outputs/cpac/filt_noglobal/rois_ho/Caltech_0051472_rois_ho.1D ...\n"
          ]
        },
        {
          "output_type": "stream",
          "name": "stderr",
          "text": [
            " ...done. (1 seconds, 0 min)\n"
          ]
        },
        {
          "output_type": "stream",
          "name": "stdout",
          "text": [
            "Downloading data from https://s3.amazonaws.com/fcp-indi/data/Projects/ABIDE_Initiative/Outputs/cpac/filt_noglobal/rois_ho/Caltech_0051473_rois_ho.1D ...\n"
          ]
        },
        {
          "output_type": "stream",
          "name": "stderr",
          "text": [
            " ...done. (1 seconds, 0 min)\n"
          ]
        },
        {
          "output_type": "stream",
          "name": "stdout",
          "text": [
            "Downloading data from https://s3.amazonaws.com/fcp-indi/data/Projects/ABIDE_Initiative/Outputs/cpac/filt_noglobal/rois_ho/Caltech_0051474_rois_ho.1D ...\n"
          ]
        },
        {
          "output_type": "stream",
          "name": "stderr",
          "text": [
            " ...done. (1 seconds, 0 min)\n"
          ]
        },
        {
          "output_type": "stream",
          "name": "stdout",
          "text": [
            "Downloading data from https://s3.amazonaws.com/fcp-indi/data/Projects/ABIDE_Initiative/Outputs/cpac/filt_noglobal/rois_ho/Caltech_0051476_rois_ho.1D ...\n"
          ]
        },
        {
          "output_type": "stream",
          "name": "stderr",
          "text": [
            " ...done. (1 seconds, 0 min)\n"
          ]
        },
        {
          "output_type": "stream",
          "name": "stdout",
          "text": [
            "Downloading data from https://s3.amazonaws.com/fcp-indi/data/Projects/ABIDE_Initiative/Outputs/cpac/filt_noglobal/rois_ho/Caltech_0051477_rois_ho.1D ...\n"
          ]
        },
        {
          "output_type": "stream",
          "name": "stderr",
          "text": [
            " ...done. (1 seconds, 0 min)\n"
          ]
        },
        {
          "output_type": "stream",
          "name": "stdout",
          "text": [
            "Downloading data from https://s3.amazonaws.com/fcp-indi/data/Projects/ABIDE_Initiative/Outputs/cpac/filt_noglobal/rois_ho/Caltech_0051478_rois_ho.1D ...\n"
          ]
        },
        {
          "output_type": "stream",
          "name": "stderr",
          "text": [
            " ...done. (1 seconds, 0 min)\n"
          ]
        },
        {
          "output_type": "stream",
          "name": "stdout",
          "text": [
            "Downloading data from https://s3.amazonaws.com/fcp-indi/data/Projects/ABIDE_Initiative/Outputs/cpac/filt_noglobal/rois_ho/Caltech_0051479_rois_ho.1D ...\n"
          ]
        },
        {
          "output_type": "stream",
          "name": "stderr",
          "text": [
            " ...done. (1 seconds, 0 min)\n"
          ]
        },
        {
          "output_type": "stream",
          "name": "stdout",
          "text": [
            "Downloading data from https://s3.amazonaws.com/fcp-indi/data/Projects/ABIDE_Initiative/Outputs/cpac/filt_noglobal/rois_ho/Caltech_0051480_rois_ho.1D ...\n"
          ]
        },
        {
          "output_type": "stream",
          "name": "stderr",
          "text": [
            " ...done. (1 seconds, 0 min)\n"
          ]
        },
        {
          "output_type": "stream",
          "name": "stdout",
          "text": [
            "Downloading data from https://s3.amazonaws.com/fcp-indi/data/Projects/ABIDE_Initiative/Outputs/cpac/filt_noglobal/rois_ho/Caltech_0051481_rois_ho.1D ...\n"
          ]
        },
        {
          "output_type": "stream",
          "name": "stderr",
          "text": [
            " ...done. (1 seconds, 0 min)\n"
          ]
        },
        {
          "output_type": "stream",
          "name": "stdout",
          "text": [
            "Downloading data from https://s3.amazonaws.com/fcp-indi/data/Projects/ABIDE_Initiative/Outputs/cpac/filt_noglobal/rois_ho/Caltech_0051482_rois_ho.1D ...\n"
          ]
        },
        {
          "output_type": "stream",
          "name": "stderr",
          "text": [
            " ...done. (1 seconds, 0 min)\n"
          ]
        },
        {
          "output_type": "stream",
          "name": "stdout",
          "text": [
            "Downloading data from https://s3.amazonaws.com/fcp-indi/data/Projects/ABIDE_Initiative/Outputs/cpac/filt_noglobal/rois_ho/Caltech_0051483_rois_ho.1D ...\n"
          ]
        },
        {
          "output_type": "stream",
          "name": "stderr",
          "text": [
            " ...done. (1 seconds, 0 min)\n"
          ]
        },
        {
          "output_type": "stream",
          "name": "stdout",
          "text": [
            "Downloading data from https://s3.amazonaws.com/fcp-indi/data/Projects/ABIDE_Initiative/Outputs/cpac/filt_noglobal/rois_ho/Caltech_0051484_rois_ho.1D ...\n"
          ]
        },
        {
          "output_type": "stream",
          "name": "stderr",
          "text": [
            " ...done. (1 seconds, 0 min)\n"
          ]
        },
        {
          "output_type": "stream",
          "name": "stdout",
          "text": [
            "Downloading data from https://s3.amazonaws.com/fcp-indi/data/Projects/ABIDE_Initiative/Outputs/cpac/filt_noglobal/rois_ho/Caltech_0051485_rois_ho.1D ...\n"
          ]
        },
        {
          "output_type": "stream",
          "name": "stderr",
          "text": [
            " ...done. (1 seconds, 0 min)\n"
          ]
        },
        {
          "output_type": "stream",
          "name": "stdout",
          "text": [
            "Downloading data from https://s3.amazonaws.com/fcp-indi/data/Projects/ABIDE_Initiative/Outputs/cpac/filt_noglobal/rois_ho/Caltech_0051486_rois_ho.1D ...\n"
          ]
        },
        {
          "output_type": "stream",
          "name": "stderr",
          "text": [
            " ...done. (1 seconds, 0 min)\n"
          ]
        },
        {
          "output_type": "stream",
          "name": "stdout",
          "text": [
            "Downloading data from https://s3.amazonaws.com/fcp-indi/data/Projects/ABIDE_Initiative/Outputs/cpac/filt_noglobal/rois_ho/Caltech_0051487_rois_ho.1D ...\n"
          ]
        },
        {
          "output_type": "stream",
          "name": "stderr",
          "text": [
            " ...done. (1 seconds, 0 min)\n"
          ]
        },
        {
          "output_type": "stream",
          "name": "stdout",
          "text": [
            "Downloading data from https://s3.amazonaws.com/fcp-indi/data/Projects/ABIDE_Initiative/Outputs/cpac/filt_noglobal/rois_ho/Caltech_0051488_rois_ho.1D ...\n"
          ]
        },
        {
          "output_type": "stream",
          "name": "stderr",
          "text": [
            " ...done. (1 seconds, 0 min)\n"
          ]
        },
        {
          "output_type": "stream",
          "name": "stdout",
          "text": [
            "Downloading data from https://s3.amazonaws.com/fcp-indi/data/Projects/ABIDE_Initiative/Outputs/cpac/filt_noglobal/rois_ho/Caltech_0051489_rois_ho.1D ...\n"
          ]
        },
        {
          "output_type": "stream",
          "name": "stderr",
          "text": [
            " ...done. (1 seconds, 0 min)\n"
          ]
        },
        {
          "output_type": "stream",
          "name": "stdout",
          "text": [
            "Downloading data from https://s3.amazonaws.com/fcp-indi/data/Projects/ABIDE_Initiative/Outputs/cpac/filt_noglobal/rois_ho/Caltech_0051490_rois_ho.1D ...\n"
          ]
        },
        {
          "output_type": "stream",
          "name": "stderr",
          "text": [
            " ...done. (1 seconds, 0 min)\n"
          ]
        },
        {
          "output_type": "stream",
          "name": "stdout",
          "text": [
            "Downloading data from https://s3.amazonaws.com/fcp-indi/data/Projects/ABIDE_Initiative/Outputs/cpac/filt_noglobal/rois_ho/Caltech_0051491_rois_ho.1D ...\n"
          ]
        },
        {
          "output_type": "stream",
          "name": "stderr",
          "text": [
            " ...done. (1 seconds, 0 min)\n"
          ]
        },
        {
          "output_type": "stream",
          "name": "stdout",
          "text": [
            "Downloading data from https://s3.amazonaws.com/fcp-indi/data/Projects/ABIDE_Initiative/Outputs/cpac/filt_noglobal/rois_ho/Caltech_0051492_rois_ho.1D ...\n"
          ]
        },
        {
          "output_type": "stream",
          "name": "stderr",
          "text": [
            " ...done. (1 seconds, 0 min)\n"
          ]
        },
        {
          "output_type": "stream",
          "name": "stdout",
          "text": [
            "Downloading data from https://s3.amazonaws.com/fcp-indi/data/Projects/ABIDE_Initiative/Outputs/cpac/filt_noglobal/rois_ho/Caltech_0051493_rois_ho.1D ...\n"
          ]
        },
        {
          "output_type": "stream",
          "name": "stderr",
          "text": [
            " ...done. (1 seconds, 0 min)\n"
          ]
        },
        {
          "output_type": "stream",
          "name": "stdout",
          "text": [
            "Downloading data from https://s3.amazonaws.com/fcp-indi/data/Projects/ABIDE_Initiative/Outputs/cpac/filt_noglobal/rois_ho/SBL_0051556_rois_ho.1D ...\n"
          ]
        },
        {
          "output_type": "stream",
          "name": "stderr",
          "text": [
            " ...done. (1 seconds, 0 min)\n"
          ]
        },
        {
          "output_type": "stream",
          "name": "stdout",
          "text": [
            "Downloading data from https://s3.amazonaws.com/fcp-indi/data/Projects/ABIDE_Initiative/Outputs/cpac/filt_noglobal/rois_ho/SBL_0051557_rois_ho.1D ...\n"
          ]
        },
        {
          "output_type": "stream",
          "name": "stderr",
          "text": [
            " ...done. (1 seconds, 0 min)\n"
          ]
        },
        {
          "output_type": "stream",
          "name": "stdout",
          "text": [
            "Downloading data from https://s3.amazonaws.com/fcp-indi/data/Projects/ABIDE_Initiative/Outputs/cpac/filt_noglobal/rois_ho/SBL_0051558_rois_ho.1D ...\n"
          ]
        },
        {
          "output_type": "stream",
          "name": "stderr",
          "text": [
            " ...done. (1 seconds, 0 min)\n"
          ]
        },
        {
          "output_type": "stream",
          "name": "stdout",
          "text": [
            "Downloading data from https://s3.amazonaws.com/fcp-indi/data/Projects/ABIDE_Initiative/Outputs/cpac/filt_noglobal/rois_ho/SBL_0051559_rois_ho.1D ...\n"
          ]
        },
        {
          "output_type": "stream",
          "name": "stderr",
          "text": [
            " ...done. (1 seconds, 0 min)\n"
          ]
        },
        {
          "output_type": "stream",
          "name": "stdout",
          "text": [
            "Downloading data from https://s3.amazonaws.com/fcp-indi/data/Projects/ABIDE_Initiative/Outputs/cpac/filt_noglobal/rois_ho/SBL_0051560_rois_ho.1D ...\n"
          ]
        },
        {
          "output_type": "stream",
          "name": "stderr",
          "text": [
            " ...done. (1 seconds, 0 min)\n"
          ]
        },
        {
          "output_type": "stream",
          "name": "stdout",
          "text": [
            "Downloading data from https://s3.amazonaws.com/fcp-indi/data/Projects/ABIDE_Initiative/Outputs/cpac/filt_noglobal/rois_ho/SBL_0051561_rois_ho.1D ...\n"
          ]
        },
        {
          "output_type": "stream",
          "name": "stderr",
          "text": [
            " ...done. (1 seconds, 0 min)\n"
          ]
        },
        {
          "output_type": "stream",
          "name": "stdout",
          "text": [
            "Downloading data from https://s3.amazonaws.com/fcp-indi/data/Projects/ABIDE_Initiative/Outputs/cpac/filt_noglobal/rois_ho/SBL_0051562_rois_ho.1D ...\n"
          ]
        },
        {
          "output_type": "stream",
          "name": "stderr",
          "text": [
            " ...done. (1 seconds, 0 min)\n"
          ]
        },
        {
          "output_type": "stream",
          "name": "stdout",
          "text": [
            "Downloading data from https://s3.amazonaws.com/fcp-indi/data/Projects/ABIDE_Initiative/Outputs/cpac/filt_noglobal/rois_ho/SBL_0051563_rois_ho.1D ...\n"
          ]
        },
        {
          "output_type": "stream",
          "name": "stderr",
          "text": [
            " ...done. (1 seconds, 0 min)\n"
          ]
        },
        {
          "output_type": "stream",
          "name": "stdout",
          "text": [
            "Downloading data from https://s3.amazonaws.com/fcp-indi/data/Projects/ABIDE_Initiative/Outputs/cpac/filt_noglobal/rois_ho/SBL_0051564_rois_ho.1D ...\n"
          ]
        },
        {
          "output_type": "stream",
          "name": "stderr",
          "text": [
            " ...done. (1 seconds, 0 min)\n"
          ]
        },
        {
          "output_type": "stream",
          "name": "stdout",
          "text": [
            "Downloading data from https://s3.amazonaws.com/fcp-indi/data/Projects/ABIDE_Initiative/Outputs/cpac/filt_noglobal/rois_ho/SBL_0051565_rois_ho.1D ...\n"
          ]
        },
        {
          "output_type": "stream",
          "name": "stderr",
          "text": [
            " ...done. (1 seconds, 0 min)\n"
          ]
        },
        {
          "output_type": "stream",
          "name": "stdout",
          "text": [
            "Downloading data from https://s3.amazonaws.com/fcp-indi/data/Projects/ABIDE_Initiative/Outputs/cpac/filt_noglobal/rois_ho/SBL_0051566_rois_ho.1D ...\n"
          ]
        },
        {
          "output_type": "stream",
          "name": "stderr",
          "text": [
            " ...done. (1 seconds, 0 min)\n"
          ]
        },
        {
          "output_type": "stream",
          "name": "stdout",
          "text": [
            "Downloading data from https://s3.amazonaws.com/fcp-indi/data/Projects/ABIDE_Initiative/Outputs/cpac/filt_noglobal/rois_ho/SBL_0051567_rois_ho.1D ...\n"
          ]
        },
        {
          "output_type": "stream",
          "name": "stderr",
          "text": [
            " ...done. (1 seconds, 0 min)\n"
          ]
        },
        {
          "output_type": "stream",
          "name": "stdout",
          "text": [
            "Downloading data from https://s3.amazonaws.com/fcp-indi/data/Projects/ABIDE_Initiative/Outputs/cpac/filt_noglobal/rois_ho/SBL_0051568_rois_ho.1D ...\n"
          ]
        },
        {
          "output_type": "stream",
          "name": "stderr",
          "text": [
            " ...done. (1 seconds, 0 min)\n"
          ]
        },
        {
          "output_type": "stream",
          "name": "stdout",
          "text": [
            "Downloading data from https://s3.amazonaws.com/fcp-indi/data/Projects/ABIDE_Initiative/Outputs/cpac/filt_noglobal/rois_ho/SBL_0051569_rois_ho.1D ...\n"
          ]
        },
        {
          "output_type": "stream",
          "name": "stderr",
          "text": [
            " ...done. (1 seconds, 0 min)\n"
          ]
        },
        {
          "output_type": "stream",
          "name": "stdout",
          "text": [
            "Downloading data from https://s3.amazonaws.com/fcp-indi/data/Projects/ABIDE_Initiative/Outputs/cpac/filt_noglobal/rois_ho/SBL_0051570_rois_ho.1D ...\n"
          ]
        },
        {
          "output_type": "stream",
          "name": "stderr",
          "text": [
            " ...done. (1 seconds, 0 min)\n"
          ]
        },
        {
          "output_type": "stream",
          "name": "stdout",
          "text": [
            "Downloading data from https://s3.amazonaws.com/fcp-indi/data/Projects/ABIDE_Initiative/Outputs/cpac/filt_noglobal/rois_ho/SBL_0051571_rois_ho.1D ...\n"
          ]
        },
        {
          "output_type": "stream",
          "name": "stderr",
          "text": [
            " ...done. (1 seconds, 0 min)\n"
          ]
        },
        {
          "output_type": "stream",
          "name": "stdout",
          "text": [
            "Downloading data from https://s3.amazonaws.com/fcp-indi/data/Projects/ABIDE_Initiative/Outputs/cpac/filt_noglobal/rois_ho/SBL_0051572_rois_ho.1D ...\n"
          ]
        },
        {
          "output_type": "stream",
          "name": "stderr",
          "text": [
            " ...done. (1 seconds, 0 min)\n"
          ]
        },
        {
          "output_type": "stream",
          "name": "stdout",
          "text": [
            "Downloading data from https://s3.amazonaws.com/fcp-indi/data/Projects/ABIDE_Initiative/Outputs/cpac/filt_noglobal/rois_ho/SBL_0051573_rois_ho.1D ...\n"
          ]
        },
        {
          "output_type": "stream",
          "name": "stderr",
          "text": [
            " ...done. (1 seconds, 0 min)\n"
          ]
        },
        {
          "output_type": "stream",
          "name": "stdout",
          "text": [
            "Downloading data from https://s3.amazonaws.com/fcp-indi/data/Projects/ABIDE_Initiative/Outputs/cpac/filt_noglobal/rois_ho/SBL_0051574_rois_ho.1D ...\n"
          ]
        },
        {
          "output_type": "stream",
          "name": "stderr",
          "text": [
            " ...done. (1 seconds, 0 min)\n"
          ]
        },
        {
          "output_type": "stream",
          "name": "stdout",
          "text": [
            "Downloading data from https://s3.amazonaws.com/fcp-indi/data/Projects/ABIDE_Initiative/Outputs/cpac/filt_noglobal/rois_ho/SBL_0051575_rois_ho.1D ...\n"
          ]
        },
        {
          "output_type": "stream",
          "name": "stderr",
          "text": [
            " ...done. (1 seconds, 0 min)\n"
          ]
        },
        {
          "output_type": "stream",
          "name": "stdout",
          "text": [
            "Downloading data from https://s3.amazonaws.com/fcp-indi/data/Projects/ABIDE_Initiative/Outputs/cpac/filt_noglobal/rois_ho/SBL_0051576_rois_ho.1D ...\n"
          ]
        },
        {
          "output_type": "stream",
          "name": "stderr",
          "text": [
            " ...done. (1 seconds, 0 min)\n"
          ]
        },
        {
          "output_type": "stream",
          "name": "stdout",
          "text": [
            "Downloading data from https://s3.amazonaws.com/fcp-indi/data/Projects/ABIDE_Initiative/Outputs/cpac/filt_noglobal/rois_ho/SBL_0051577_rois_ho.1D ...\n"
          ]
        },
        {
          "output_type": "stream",
          "name": "stderr",
          "text": [
            " ...done. (1 seconds, 0 min)\n"
          ]
        },
        {
          "output_type": "stream",
          "name": "stdout",
          "text": [
            "Downloading data from https://s3.amazonaws.com/fcp-indi/data/Projects/ABIDE_Initiative/Outputs/cpac/filt_noglobal/rois_ho/SBL_0051578_rois_ho.1D ...\n"
          ]
        },
        {
          "output_type": "stream",
          "name": "stderr",
          "text": [
            " ...done. (1 seconds, 0 min)\n"
          ]
        },
        {
          "output_type": "stream",
          "name": "stdout",
          "text": [
            "Downloading data from https://s3.amazonaws.com/fcp-indi/data/Projects/ABIDE_Initiative/Outputs/cpac/filt_noglobal/rois_ho/SBL_0051579_rois_ho.1D ...\n"
          ]
        },
        {
          "output_type": "stream",
          "name": "stderr",
          "text": [
            " ...done. (1 seconds, 0 min)\n"
          ]
        },
        {
          "output_type": "stream",
          "name": "stdout",
          "text": [
            "Downloading data from https://s3.amazonaws.com/fcp-indi/data/Projects/ABIDE_Initiative/Outputs/cpac/filt_noglobal/rois_ho/SBL_0051580_rois_ho.1D ...\n"
          ]
        },
        {
          "output_type": "stream",
          "name": "stderr",
          "text": [
            " ...done. (1 seconds, 0 min)\n"
          ]
        },
        {
          "output_type": "stream",
          "name": "stdout",
          "text": [
            "Downloading data from https://s3.amazonaws.com/fcp-indi/data/Projects/ABIDE_Initiative/Outputs/cpac/filt_noglobal/rois_ho/SBL_0051581_rois_ho.1D ...\n"
          ]
        },
        {
          "output_type": "stream",
          "name": "stderr",
          "text": [
            " ...done. (1 seconds, 0 min)\n"
          ]
        },
        {
          "output_type": "stream",
          "name": "stdout",
          "text": [
            "Downloading data from https://s3.amazonaws.com/fcp-indi/data/Projects/ABIDE_Initiative/Outputs/cpac/filt_noglobal/rois_ho/SBL_0051582_rois_ho.1D ...\n"
          ]
        },
        {
          "output_type": "stream",
          "name": "stderr",
          "text": [
            " ...done. (1 seconds, 0 min)\n"
          ]
        },
        {
          "output_type": "stream",
          "name": "stdout",
          "text": [
            "Downloading data from https://s3.amazonaws.com/fcp-indi/data/Projects/ABIDE_Initiative/Outputs/cpac/filt_noglobal/rois_ho/SBL_0051583_rois_ho.1D ...\n"
          ]
        },
        {
          "output_type": "stream",
          "name": "stderr",
          "text": [
            " ...done. (1 seconds, 0 min)\n"
          ]
        },
        {
          "output_type": "stream",
          "name": "stdout",
          "text": [
            "Downloading data from https://s3.amazonaws.com/fcp-indi/data/Projects/ABIDE_Initiative/Outputs/cpac/filt_noglobal/rois_ho/SBL_0051584_rois_ho.1D ...\n"
          ]
        },
        {
          "output_type": "stream",
          "name": "stderr",
          "text": [
            " ...done. (1 seconds, 0 min)\n"
          ]
        },
        {
          "output_type": "stream",
          "name": "stdout",
          "text": [
            "Downloading data from https://s3.amazonaws.com/fcp-indi/data/Projects/ABIDE_Initiative/Outputs/cpac/filt_noglobal/rois_ho/SBL_0051585_rois_ho.1D ...\n"
          ]
        },
        {
          "output_type": "stream",
          "name": "stderr",
          "text": [
            " ...done. (1 seconds, 0 min)\n"
          ]
        },
        {
          "output_type": "stream",
          "name": "stdout",
          "text": [
            "Downloading data from https://s3.amazonaws.com/fcp-indi/data/Projects/ABIDE_Initiative/Outputs/cpac/filt_noglobal/rois_ho/MaxMun_a_0051606_rois_ho.1D ...\n"
          ]
        },
        {
          "output_type": "stream",
          "name": "stderr",
          "text": [
            " ...done. (1 seconds, 0 min)\n"
          ]
        },
        {
          "output_type": "stream",
          "name": "stdout",
          "text": [
            "Downloading data from https://s3.amazonaws.com/fcp-indi/data/Projects/ABIDE_Initiative/Outputs/cpac/filt_noglobal/rois_ho/MaxMun_a_0051607_rois_ho.1D ...\n"
          ]
        },
        {
          "output_type": "stream",
          "name": "stderr",
          "text": [
            " ...done. (1 seconds, 0 min)\n"
          ]
        },
        {
          "output_type": "stream",
          "name": "stdout",
          "text": [
            "Reading timeseries file /content/BrainGNN/data/ABIDE_pcp/cpac/filt_noglobal/50128/Olin_0050128_rois_ho.1D\n",
            "Reading timeseries file /content/BrainGNN/data/ABIDE_pcp/cpac/filt_noglobal/51203/UCLA_1_0051203_rois_ho.1D\n",
            "Reading timeseries file /content/BrainGNN/data/ABIDE_pcp/cpac/filt_noglobal/50325/UM_1_0050325_rois_ho.1D\n",
            "Reading timeseries file /content/BrainGNN/data/ABIDE_pcp/cpac/filt_noglobal/50117/Olin_0050117_rois_ho.1D\n",
            "Reading timeseries file /content/BrainGNN/data/ABIDE_pcp/cpac/filt_noglobal/50573/Yale_0050573_rois_ho.1D\n",
            "Reading timeseries file /content/BrainGNN/data/ABIDE_pcp/cpac/filt_noglobal/50741/Leuven_2_0050741_rois_ho.1D\n",
            "Reading timeseries file /content/BrainGNN/data/ABIDE_pcp/cpac/filt_noglobal/50779/KKI_0050779_rois_ho.1D\n",
            "Reading timeseries file /content/BrainGNN/data/ABIDE_pcp/cpac/filt_noglobal/51009/NYU_0051009_rois_ho.1D\n",
            "Reading timeseries file /content/BrainGNN/data/ABIDE_pcp/cpac/filt_noglobal/50746/Leuven_2_0050746_rois_ho.1D\n",
            "Reading timeseries file /content/BrainGNN/data/ABIDE_pcp/cpac/filt_noglobal/50574/Yale_0050574_rois_ho.1D\n",
            "Reading timeseries file /content/BrainGNN/data/ABIDE_pcp/cpac/filt_noglobal/50110/Olin_0050110_rois_ho.1D\n",
            "Reading timeseries file /content/BrainGNN/data/ABIDE_pcp/cpac/filt_noglobal/50322/UM_1_0050322_rois_ho.1D\n",
            "Reading timeseries file /content/BrainGNN/data/ABIDE_pcp/cpac/filt_noglobal/51036/NYU_0051036_rois_ho.1D\n",
            "Reading timeseries file /content/BrainGNN/data/ABIDE_pcp/cpac/filt_noglobal/51204/UCLA_1_0051204_rois_ho.1D\n",
            "Reading timeseries file /content/BrainGNN/data/ABIDE_pcp/cpac/filt_noglobal/50119/Olin_0050119_rois_ho.1D\n",
            "Reading timeseries file /content/BrainGNN/data/ABIDE_pcp/cpac/filt_noglobal/50126/Olin_0050126_rois_ho.1D\n",
            "Reading timeseries file /content/BrainGNN/data/ABIDE_pcp/cpac/filt_noglobal/50314/UM_1_0050314_rois_ho.1D\n",
            "Reading timeseries file /content/BrainGNN/data/ABIDE_pcp/cpac/filt_noglobal/51490/Caltech_0051490_rois_ho.1D\n",
            "Reading timeseries file /content/BrainGNN/data/ABIDE_pcp/cpac/filt_noglobal/50784/KKI_0050784_rois_ho.1D\n",
            "Reading timeseries file /content/BrainGNN/data/ABIDE_pcp/cpac/filt_noglobal/51464/Caltech_0051464_rois_ho.1D\n",
            "Reading timeseries file /content/BrainGNN/data/ABIDE_pcp/cpac/filt_noglobal/51000/NYU_0051000_rois_ho.1D\n",
            "Reading timeseries file /content/BrainGNN/data/ABIDE_pcp/cpac/filt_noglobal/51038/NYU_0051038_rois_ho.1D\n",
            "Reading timeseries file /content/BrainGNN/data/ABIDE_pcp/cpac/filt_noglobal/50748/Leuven_2_0050748_rois_ho.1D\n",
            "Reading timeseries file /content/BrainGNN/data/ABIDE_pcp/cpac/filt_noglobal/51235/UCLA_1_0051235_rois_ho.1D\n",
            "Reading timeseries file /content/BrainGNN/data/ABIDE_pcp/cpac/filt_noglobal/51007/NYU_0051007_rois_ho.1D\n",
            "Reading timeseries file /content/BrainGNN/data/ABIDE_pcp/cpac/filt_noglobal/51463/Caltech_0051463_rois_ho.1D\n",
            "Reading timeseries file /content/BrainGNN/data/ABIDE_pcp/cpac/filt_noglobal/50783/KKI_0050783_rois_ho.1D\n",
            "Reading timeseries file /content/BrainGNN/data/ABIDE_pcp/cpac/filt_noglobal/50777/KKI_0050777_rois_ho.1D\n",
            "Reading timeseries file /content/BrainGNN/data/ABIDE_pcp/cpac/filt_noglobal/50313/UM_1_0050313_rois_ho.1D\n",
            "Reading timeseries file /content/BrainGNN/data/ABIDE_pcp/cpac/filt_noglobal/50121/Olin_0050121_rois_ho.1D\n",
            "Reading timeseries file /content/BrainGNN/data/ABIDE_pcp/cpac/filt_noglobal/51053/NYU_0051053_rois_ho.1D\n",
            "Reading timeseries file /content/BrainGNN/data/ABIDE_pcp/cpac/filt_noglobal/51261/UCLA_1_0051261_rois_ho.1D\n",
            "Reading timeseries file /content/BrainGNN/data/ABIDE_pcp/cpac/filt_noglobal/50723/Leuven_2_0050723_rois_ho.1D\n",
            "Reading timeseries file /content/BrainGNN/data/ABIDE_pcp/cpac/filt_noglobal/50511/USM_0050511_rois_ho.1D\n",
            "Reading timeseries file /content/BrainGNN/data/ABIDE_pcp/cpac/filt_noglobal/51295/UCLA_2_0051295_rois_ho.1D\n",
            "Reading timeseries file /content/BrainGNN/data/ABIDE_pcp/cpac/filt_noglobal/50347/UM_1_0050347_rois_ho.1D\n",
            "Reading timeseries file /content/BrainGNN/data/ABIDE_pcp/cpac/filt_noglobal/50982/NYU_0050982_rois_ho.1D\n",
            "Reading timeseries file /content/BrainGNN/data/ABIDE_pcp/cpac/filt_noglobal/50976/NYU_0050976_rois_ho.1D\n",
            "Reading timeseries file /content/BrainGNN/data/ABIDE_pcp/cpac/filt_noglobal/51098/NYU_0051098_rois_ho.1D\n",
            "Reading timeseries file /content/BrainGNN/data/ABIDE_pcp/cpac/filt_noglobal/51292/UCLA_2_0051292_rois_ho.1D\n",
            "Reading timeseries file /content/BrainGNN/data/ABIDE_pcp/cpac/filt_noglobal/50340/UM_1_0050340_rois_ho.1D\n",
            "Reading timeseries file /content/BrainGNN/data/ABIDE_pcp/cpac/filt_noglobal/50516/USM_0050516_rois_ho.1D\n",
            "Reading timeseries file /content/BrainGNN/data/ABIDE_pcp/cpac/filt_noglobal/50724/Leuven_2_0050724_rois_ho.1D\n",
            "Reading timeseries file /content/BrainGNN/data/ABIDE_pcp/cpac/filt_noglobal/51266/UCLA_1_0051266_rois_ho.1D\n",
            "Reading timeseries file /content/BrainGNN/data/ABIDE_pcp/cpac/filt_noglobal/51054/NYU_0051054_rois_ho.1D\n",
            "Reading timeseries file /content/BrainGNN/data/ABIDE_pcp/cpac/filt_noglobal/50186/SDSU_0050186_rois_ho.1D\n",
            "Reading timeseries file /content/BrainGNN/data/ABIDE_pcp/cpac/filt_noglobal/50529/USM_0050529_rois_ho.1D\n",
            "Reading timeseries file /content/BrainGNN/data/ABIDE_pcp/cpac/filt_noglobal/50985/NYU_0050985_rois_ho.1D\n",
            "Reading timeseries file /content/BrainGNN/data/ABIDE_pcp/cpac/filt_noglobal/50520/USM_0050520_rois_ho.1D\n",
            "Reading timeseries file /content/BrainGNN/data/ABIDE_pcp/cpac/filt_noglobal/50376/UM_1_0050376_rois_ho.1D\n",
            "Reading timeseries file /content/BrainGNN/data/ABIDE_pcp/cpac/filt_noglobal/50978/NYU_0050978_rois_ho.1D\n",
            "Reading timeseries file /content/BrainGNN/data/ABIDE_pcp/cpac/filt_noglobal/50144/OHSU_0050144_rois_ho.1D\n",
            "Reading timeseries file /content/BrainGNN/data/ABIDE_pcp/cpac/filt_noglobal/51096/NYU_0051096_rois_ho.1D\n",
            "Reading timeseries file /content/BrainGNN/data/ABIDE_pcp/cpac/filt_noglobal/50382/UM_2_0050382_rois_ho.1D\n",
            "Reading timeseries file /content/BrainGNN/data/ABIDE_pcp/cpac/filt_noglobal/51250/UCLA_1_0051250_rois_ho.1D\n",
            "Reading timeseries file /content/BrainGNN/data/ABIDE_pcp/cpac/filt_noglobal/51062/NYU_0051062_rois_ho.1D\n",
            "Reading timeseries file /content/BrainGNN/data/ABIDE_pcp/cpac/filt_noglobal/50349/UM_1_0050349_rois_ho.1D\n",
            "Reading timeseries file /content/BrainGNN/data/ABIDE_pcp/cpac/filt_noglobal/51065/NYU_0051065_rois_ho.1D\n",
            "Reading timeseries file /content/BrainGNN/data/ABIDE_pcp/cpac/filt_noglobal/50385/UM_2_0050385_rois_ho.1D\n",
            "Reading timeseries file /content/BrainGNN/data/ABIDE_pcp/cpac/filt_noglobal/51257/UCLA_1_0051257_rois_ho.1D\n",
            "Reading timeseries file /content/BrainGNN/data/ABIDE_pcp/cpac/filt_noglobal/50143/OHSU_0050143_rois_ho.1D\n",
            "Reading timeseries file /content/BrainGNN/data/ABIDE_pcp/cpac/filt_noglobal/51091/NYU_0051091_rois_ho.1D\n",
            "Reading timeseries file /content/BrainGNN/data/ABIDE_pcp/cpac/filt_noglobal/50371/UM_1_0050371_rois_ho.1D\n",
            "Reading timeseries file /content/BrainGNN/data/ABIDE_pcp/cpac/filt_noglobal/50527/USM_0050527_rois_ho.1D\n",
            "Reading timeseries file /content/BrainGNN/data/ABIDE_pcp/cpac/filt_noglobal/51268/UCLA_1_0051268_rois_ho.1D\n",
            "Reading timeseries file /content/BrainGNN/data/ABIDE_pcp/cpac/filt_noglobal/50188/SDSU_0050188_rois_ho.1D\n",
            "Reading timeseries file /content/BrainGNN/data/ABIDE_pcp/cpac/filt_noglobal/50518/USM_0050518_rois_ho.1D\n",
            "Reading timeseries file /content/BrainGNN/data/ABIDE_pcp/cpac/filt_noglobal/50749/Leuven_2_0050749_rois_ho.1D\n",
            "Reading timeseries file /content/BrainGNN/data/ABIDE_pcp/cpac/filt_noglobal/51039/NYU_0051039_rois_ho.1D\n",
            "Reading timeseries file /content/BrainGNN/data/ABIDE_pcp/cpac/filt_noglobal/50776/KKI_0050776_rois_ho.1D\n",
            "Reading timeseries file /content/BrainGNN/data/ABIDE_pcp/cpac/filt_noglobal/50120/Olin_0050120_rois_ho.1D\n",
            "Reading timeseries file /content/BrainGNN/data/ABIDE_pcp/cpac/filt_noglobal/50312/UM_1_0050312_rois_ho.1D\n",
            "Reading timeseries file /content/BrainGNN/data/ABIDE_pcp/cpac/filt_noglobal/51006/NYU_0051006_rois_ho.1D\n",
            "Reading timeseries file /content/BrainGNN/data/ABIDE_pcp/cpac/filt_noglobal/51234/UCLA_1_0051234_rois_ho.1D\n",
            "Reading timeseries file /content/BrainGNN/data/ABIDE_pcp/cpac/filt_noglobal/50782/KKI_0050782_rois_ho.1D\n",
            "Reading timeseries file /content/BrainGNN/data/ABIDE_pcp/cpac/filt_noglobal/51462/Caltech_0051462_rois_ho.1D\n",
            "Reading timeseries file /content/BrainGNN/data/ABIDE_pcp/cpac/filt_noglobal/50118/Olin_0050118_rois_ho.1D\n",
            "Reading timeseries file /content/BrainGNN/data/ABIDE_pcp/cpac/filt_noglobal/51465/Caltech_0051465_rois_ho.1D\n",
            "Reading timeseries file /content/BrainGNN/data/ABIDE_pcp/cpac/filt_noglobal/50785/KKI_0050785_rois_ho.1D\n",
            "Reading timeseries file /content/BrainGNN/data/ABIDE_pcp/cpac/filt_noglobal/51001/NYU_0051001_rois_ho.1D\n",
            "Reading timeseries file /content/BrainGNN/data/ABIDE_pcp/cpac/filt_noglobal/50315/UM_1_0050315_rois_ho.1D\n",
            "Reading timeseries file /content/BrainGNN/data/ABIDE_pcp/cpac/filt_noglobal/50127/Olin_0050127_rois_ho.1D\n",
            "Reading timeseries file /content/BrainGNN/data/ABIDE_pcp/cpac/filt_noglobal/51491/Caltech_0051491_rois_ho.1D\n",
            "Reading timeseries file /content/BrainGNN/data/ABIDE_pcp/cpac/filt_noglobal/51008/NYU_0051008_rois_ho.1D\n",
            "Reading timeseries file /content/BrainGNN/data/ABIDE_pcp/cpac/filt_noglobal/50778/KKI_0050778_rois_ho.1D\n",
            "Reading timeseries file /content/BrainGNN/data/ABIDE_pcp/cpac/filt_noglobal/51205/UCLA_1_0051205_rois_ho.1D\n",
            "Reading timeseries file /content/BrainGNN/data/ABIDE_pcp/cpac/filt_noglobal/50575/Yale_0050575_rois_ho.1D\n",
            "Reading timeseries file /content/BrainGNN/data/ABIDE_pcp/cpac/filt_noglobal/50747/Leuven_2_0050747_rois_ho.1D\n",
            "Reading timeseries file /content/BrainGNN/data/ABIDE_pcp/cpac/filt_noglobal/50111/Olin_0050111_rois_ho.1D\n",
            "Reading timeseries file /content/BrainGNN/data/ABIDE_pcp/cpac/filt_noglobal/50129/Olin_0050129_rois_ho.1D\n",
            "Reading timeseries file /content/BrainGNN/data/ABIDE_pcp/cpac/filt_noglobal/50116/Olin_0050116_rois_ho.1D\n",
            "Reading timeseries file /content/BrainGNN/data/ABIDE_pcp/cpac/filt_noglobal/50324/UM_1_0050324_rois_ho.1D\n",
            "Reading timeseries file /content/BrainGNN/data/ABIDE_pcp/cpac/filt_noglobal/50740/Leuven_2_0050740_rois_ho.1D\n",
            "Reading timeseries file /content/BrainGNN/data/ABIDE_pcp/cpac/filt_noglobal/50572/Yale_0050572_rois_ho.1D\n",
            "Reading timeseries file /content/BrainGNN/data/ABIDE_pcp/cpac/filt_noglobal/51030/NYU_0051030_rois_ho.1D\n",
            "Reading timeseries file /content/BrainGNN/data/ABIDE_pcp/cpac/filt_noglobal/51202/UCLA_1_0051202_rois_ho.1D\n",
            "Reading timeseries file /content/BrainGNN/data/ABIDE_pcp/cpac/filt_noglobal/50370/UM_1_0050370_rois_ho.1D\n",
            "Reading timeseries file /content/BrainGNN/data/ABIDE_pcp/cpac/filt_noglobal/50142/OHSU_0050142_rois_ho.1D\n",
            "Reading timeseries file /content/BrainGNN/data/ABIDE_pcp/cpac/filt_noglobal/51090/NYU_0051090_rois_ho.1D\n",
            "Reading timeseries file /content/BrainGNN/data/ABIDE_pcp/cpac/filt_noglobal/50526/USM_0050526_rois_ho.1D\n",
            "Reading timeseries file /content/BrainGNN/data/ABIDE_pcp/cpac/filt_noglobal/51256/UCLA_1_0051256_rois_ho.1D\n",
            "Reading timeseries file /content/BrainGNN/data/ABIDE_pcp/cpac/filt_noglobal/51064/NYU_0051064_rois_ho.1D\n",
            "Reading timeseries file /content/BrainGNN/data/ABIDE_pcp/cpac/filt_noglobal/50519/USM_0050519_rois_ho.1D\n",
            "Reading timeseries file /content/BrainGNN/data/ABIDE_pcp/cpac/filt_noglobal/50189/SDSU_0050189_rois_ho.1D\n",
            "Reading timeseries file /content/BrainGNN/data/ABIDE_pcp/cpac/filt_noglobal/51269/UCLA_1_0051269_rois_ho.1D\n",
            "Reading timeseries file /content/BrainGNN/data/ABIDE_pcp/cpac/filt_noglobal/51063/NYU_0051063_rois_ho.1D\n",
            "Reading timeseries file /content/BrainGNN/data/ABIDE_pcp/cpac/filt_noglobal/50383/UM_2_0050383_rois_ho.1D\n",
            "Reading timeseries file /content/BrainGNN/data/ABIDE_pcp/cpac/filt_noglobal/51251/UCLA_1_0051251_rois_ho.1D\n",
            "Reading timeseries file /content/BrainGNN/data/ABIDE_pcp/cpac/filt_noglobal/50521/USM_0050521_rois_ho.1D\n",
            "Reading timeseries file /content/BrainGNN/data/ABIDE_pcp/cpac/filt_noglobal/50145/OHSU_0050145_rois_ho.1D\n",
            "Reading timeseries file /content/BrainGNN/data/ABIDE_pcp/cpac/filt_noglobal/51097/NYU_0051097_rois_ho.1D\n",
            "Reading timeseries file /content/BrainGNN/data/ABIDE_pcp/cpac/filt_noglobal/50979/NYU_0050979_rois_ho.1D\n",
            "Reading timeseries file /content/BrainGNN/data/ABIDE_pcp/cpac/filt_noglobal/50377/UM_1_0050377_rois_ho.1D\n",
            "Reading timeseries file /content/BrainGNN/data/ABIDE_pcp/cpac/filt_noglobal/50348/UM_1_0050348_rois_ho.1D\n",
            "Reading timeseries file /content/BrainGNN/data/ABIDE_pcp/cpac/filt_noglobal/51055/NYU_0051055_rois_ho.1D\n",
            "Reading timeseries file /content/BrainGNN/data/ABIDE_pcp/cpac/filt_noglobal/50187/SDSU_0050187_rois_ho.1D\n",
            "Reading timeseries file /content/BrainGNN/data/ABIDE_pcp/cpac/filt_noglobal/51267/UCLA_1_0051267_rois_ho.1D\n",
            "Reading timeseries file /content/BrainGNN/data/ABIDE_pcp/cpac/filt_noglobal/51293/UCLA_2_0051293_rois_ho.1D\n",
            "Reading timeseries file /content/BrainGNN/data/ABIDE_pcp/cpac/filt_noglobal/50341/UM_1_0050341_rois_ho.1D\n",
            "Reading timeseries file /content/BrainGNN/data/ABIDE_pcp/cpac/filt_noglobal/50725/Leuven_2_0050725_rois_ho.1D\n",
            "Reading timeseries file /content/BrainGNN/data/ABIDE_pcp/cpac/filt_noglobal/51258/UCLA_1_0051258_rois_ho.1D\n",
            "Reading timeseries file /content/BrainGNN/data/ABIDE_pcp/cpac/filt_noglobal/50984/NYU_0050984_rois_ho.1D\n",
            "Reading timeseries file /content/BrainGNN/data/ABIDE_pcp/cpac/filt_noglobal/50528/USM_0050528_rois_ho.1D\n",
            "Reading timeseries file /content/BrainGNN/data/ABIDE_pcp/cpac/filt_noglobal/50970/NYU_0050970_rois_ho.1D\n",
            "Reading timeseries file /content/BrainGNN/data/ABIDE_pcp/cpac/filt_noglobal/50510/USM_0050510_rois_ho.1D\n",
            "Reading timeseries file /content/BrainGNN/data/ABIDE_pcp/cpac/filt_noglobal/50722/Leuven_2_0050722_rois_ho.1D\n",
            "Reading timeseries file /content/BrainGNN/data/ABIDE_pcp/cpac/filt_noglobal/51294/UCLA_2_0051294_rois_ho.1D\n",
            "Reading timeseries file /content/BrainGNN/data/ABIDE_pcp/cpac/filt_noglobal/50346/UM_1_0050346_rois_ho.1D\n",
            "Reading timeseries file /content/BrainGNN/data/ABIDE_pcp/cpac/filt_noglobal/51260/UCLA_1_0051260_rois_ho.1D\n",
            "Reading timeseries file /content/BrainGNN/data/ABIDE_pcp/cpac/filt_noglobal/51052/NYU_0051052_rois_ho.1D\n",
            "Reading timeseries file /content/BrainGNN/data/ABIDE_pcp/cpac/filt_noglobal/51099/NYU_0051099_rois_ho.1D\n",
            "Reading timeseries file /content/BrainGNN/data/ABIDE_pcp/cpac/filt_noglobal/50977/NYU_0050977_rois_ho.1D\n",
            "Reading timeseries file /content/BrainGNN/data/ABIDE_pcp/cpac/filt_noglobal/50379/UM_1_0050379_rois_ho.1D\n",
            "Reading timeseries file /content/BrainGNN/data/ABIDE_pcp/cpac/filt_noglobal/50983/NYU_0050983_rois_ho.1D\n",
            "Reading timeseries file /content/BrainGNN/data/ABIDE_pcp/cpac/filt_noglobal/50039/Pitt_0050039_rois_ho.1D\n",
            "Reading timeseries file /content/BrainGNN/data/ABIDE_pcp/cpac/filt_noglobal/50496/USM_0050496_rois_ho.1D\n",
            "Reading timeseries file /content/BrainGNN/data/ABIDE_pcp/cpac/filt_noglobal/51312/UCLA_2_0051312_rois_ho.1D\n",
            "Reading timeseries file /content/BrainGNN/data/ABIDE_pcp/cpac/filt_noglobal/50234/Trinity_0050234_rois_ho.1D\n",
            "Reading timeseries file /content/BrainGNN/data/ABIDE_pcp/cpac/filt_noglobal/50006/Pitt_0050006_rois_ho.1D\n",
            "Reading timeseries file /content/BrainGNN/data/ABIDE_pcp/cpac/filt_noglobal/50650/CMU_b_0050650_rois_ho.1D\n",
            "Reading timeseries file /content/BrainGNN/data/ABIDE_pcp/cpac/filt_noglobal/50802/KKI_0050802_rois_ho.1D\n",
            "Reading timeseries file /content/BrainGNN/data/ABIDE_pcp/cpac/filt_noglobal/50668/CMU_a_0050668_rois_ho.1D\n",
            "Reading timeseries file /content/BrainGNN/data/ABIDE_pcp/cpac/filt_noglobal/51118/NYU_0051118_rois_ho.1D\n",
            "Reading timeseries file /content/BrainGNN/data/ABIDE_pcp/cpac/filt_noglobal/50657/CMU_b_0050657_rois_ho.1D\n",
            "Reading timeseries file /content/BrainGNN/data/ABIDE_pcp/cpac/filt_noglobal/50233/Trinity_0050233_rois_ho.1D\n",
            "Reading timeseries file /content/BrainGNN/data/ABIDE_pcp/cpac/filt_noglobal/51127/NYU_0051127_rois_ho.1D\n",
            "Reading timeseries file /content/BrainGNN/data/ABIDE_pcp/cpac/filt_noglobal/51315/UCLA_2_0051315_rois_ho.1D\n",
            "Reading timeseries file /content/BrainGNN/data/ABIDE_pcp/cpac/filt_noglobal/50491/USM_0050491_rois_ho.1D\n",
            "Reading timeseries file /content/BrainGNN/data/ABIDE_pcp/cpac/filt_noglobal/50008/Pitt_0050008_rois_ho.1D\n",
            "Reading timeseries file /content/BrainGNN/data/ABIDE_pcp/cpac/filt_noglobal/50498/USM_0050498_rois_ho.1D\n",
            "Reading timeseries file /content/BrainGNN/data/ABIDE_pcp/cpac/filt_noglobal/50037/Pitt_0050037_rois_ho.1D\n",
            "Reading timeseries file /content/BrainGNN/data/ABIDE_pcp/cpac/filt_noglobal/50205/SDSU_0050205_rois_ho.1D\n",
            "Reading timeseries file /content/BrainGNN/data/ABIDE_pcp/cpac/filt_noglobal/50661/CMU_b_0050661_rois_ho.1D\n",
            "Reading timeseries file /content/BrainGNN/data/ABIDE_pcp/cpac/filt_noglobal/51581/SBL_0051581_rois_ho.1D\n",
            "Reading timeseries file /content/BrainGNN/data/ABIDE_pcp/cpac/filt_noglobal/50453/USM_0050453_rois_ho.1D\n",
            "Reading timeseries file /content/BrainGNN/data/ABIDE_pcp/cpac/filt_noglobal/50695/Leuven_1_0050695_rois_ho.1D\n",
            "Reading timeseries file /content/BrainGNN/data/ABIDE_pcp/cpac/filt_noglobal/51575/SBL_0051575_rois_ho.1D\n",
            "Reading timeseries file /content/BrainGNN/data/ABIDE_pcp/cpac/filt_noglobal/51111/NYU_0051111_rois_ho.1D\n",
            "Reading timeseries file /content/BrainGNN/data/ABIDE_pcp/cpac/filt_noglobal/51323/MaxMun_b_0051323_rois_ho.1D\n",
            "Reading timeseries file /content/BrainGNN/data/ABIDE_pcp/cpac/filt_noglobal/51129/NYU_0051129_rois_ho.1D\n",
            "Reading timeseries file /content/BrainGNN/data/ABIDE_pcp/cpac/filt_noglobal/50659/CMU_a_0050659_rois_ho.1D\n",
            "Reading timeseries file /content/BrainGNN/data/ABIDE_pcp/cpac/filt_noglobal/51324/MaxMun_b_0051324_rois_ho.1D\n",
            "Reading timeseries file /content/BrainGNN/data/ABIDE_pcp/cpac/filt_noglobal/51116/NYU_0051116_rois_ho.1D\n",
            "Reading timeseries file /content/BrainGNN/data/ABIDE_pcp/cpac/filt_noglobal/51572/SBL_0051572_rois_ho.1D\n",
            "Reading timeseries file /content/BrainGNN/data/ABIDE_pcp/cpac/filt_noglobal/50692/Leuven_1_0050692_rois_ho.1D\n",
            "Reading timeseries file /content/BrainGNN/data/ABIDE_pcp/cpac/filt_noglobal/50666/CMU_a_0050666_rois_ho.1D\n",
            "Reading timeseries file /content/BrainGNN/data/ABIDE_pcp/cpac/filt_noglobal/50202/SDSU_0050202_rois_ho.1D\n",
            "Reading timeseries file /content/BrainGNN/data/ABIDE_pcp/cpac/filt_noglobal/50030/Pitt_0050030_rois_ho.1D\n",
            "Reading timeseries file /content/BrainGNN/data/ABIDE_pcp/cpac/filt_noglobal/51142/Trinity_0051142_rois_ho.1D\n",
            "Reading timeseries file /content/BrainGNN/data/ABIDE_pcp/cpac/filt_noglobal/51370/MaxMun_a_0051370_rois_ho.1D\n",
            "Reading timeseries file /content/BrainGNN/data/ABIDE_pcp/cpac/filt_noglobal/50269/Trinity_0050269_rois_ho.1D\n",
            "Reading timeseries file /content/BrainGNN/data/ABIDE_pcp/cpac/filt_noglobal/51189/Stanford_0051189_rois_ho.1D\n",
            "Reading timeseries file /content/BrainGNN/data/ABIDE_pcp/cpac/filt_noglobal/50251/Trinity_0050251_rois_ho.1D\n",
            "Reading timeseries file /content/BrainGNN/data/ABIDE_pcp/cpac/filt_noglobal/50407/UM_2_0050407_rois_ho.1D\n",
            "Reading timeseries file /content/BrainGNN/data/ABIDE_pcp/cpac/filt_noglobal/50438/USM_0050438_rois_ho.1D\n",
            "Reading timeseries file /content/BrainGNN/data/ABIDE_pcp/cpac/filt_noglobal/51348/MaxMun_c_0051348_rois_ho.1D\n",
            "Reading timeseries file /content/BrainGNN/data/ABIDE_pcp/cpac/filt_noglobal/50603/Yale_0050603_rois_ho.1D\n",
            "Reading timeseries file /content/BrainGNN/data/ABIDE_pcp/cpac/filt_noglobal/50267/Trinity_0050267_rois_ho.1D\n",
            "Reading timeseries file /content/BrainGNN/data/ABIDE_pcp/cpac/filt_noglobal/51187/Stanford_0051187_rois_ho.1D\n",
            "Reading timeseries file /content/BrainGNN/data/ABIDE_pcp/cpac/filt_noglobal/50055/Pitt_0050055_rois_ho.1D\n",
            "Reading timeseries file /content/BrainGNN/data/ABIDE_pcp/cpac/filt_noglobal/51341/MaxMun_c_0051341_rois_ho.1D\n",
            "Reading timeseries file /content/BrainGNN/data/ABIDE_pcp/cpac/filt_noglobal/50293/UM_1_0050293_rois_ho.1D\n",
            "Reading timeseries file /content/BrainGNN/data/ABIDE_pcp/cpac/filt_noglobal/51173/Stanford_0051173_rois_ho.1D\n",
            "Reading timeseries file /content/BrainGNN/data/ABIDE_pcp/cpac/filt_noglobal/51174/Stanford_0051174_rois_ho.1D\n",
            "Reading timeseries file /content/BrainGNN/data/ABIDE_pcp/cpac/filt_noglobal/51346/MaxMun_c_0051346_rois_ho.1D\n",
            "Reading timeseries file /content/BrainGNN/data/ABIDE_pcp/cpac/filt_noglobal/50294/UM_1_0050294_rois_ho.1D\n",
            "Reading timeseries file /content/BrainGNN/data/ABIDE_pcp/cpac/filt_noglobal/51180/Stanford_0051180_rois_ho.1D\n",
            "Reading timeseries file /content/BrainGNN/data/ABIDE_pcp/cpac/filt_noglobal/50052/Pitt_0050052_rois_ho.1D\n",
            "Reading timeseries file /content/BrainGNN/data/ABIDE_pcp/cpac/filt_noglobal/50260/Trinity_0050260_rois_ho.1D\n",
            "Reading timeseries file /content/BrainGNN/data/ABIDE_pcp/cpac/filt_noglobal/50604/Yale_0050604_rois_ho.1D\n",
            "Reading timeseries file /content/BrainGNN/data/ABIDE_pcp/cpac/filt_noglobal/50436/USM_0050436_rois_ho.1D\n",
            "Reading timeseries file /content/BrainGNN/data/ABIDE_pcp/cpac/filt_noglobal/50658/CMU_b_0050658_rois_ho.1D\n",
            "Reading timeseries file /content/BrainGNN/data/ABIDE_pcp/cpac/filt_noglobal/51128/NYU_0051128_rois_ho.1D\n",
            "Reading timeseries file /content/BrainGNN/data/ABIDE_pcp/cpac/filt_noglobal/50667/CMU_b_0050667_rois_ho.1D\n",
            "Reading timeseries file /content/BrainGNN/data/ABIDE_pcp/cpac/filt_noglobal/50455/USM_0050455_rois_ho.1D\n",
            "Reading timeseries file /content/BrainGNN/data/ABIDE_pcp/cpac/filt_noglobal/50031/Pitt_0050031_rois_ho.1D\n",
            "Reading timeseries file /content/BrainGNN/data/ABIDE_pcp/cpac/filt_noglobal/50203/SDSU_0050203_rois_ho.1D\n",
            "Reading timeseries file /content/BrainGNN/data/ABIDE_pcp/cpac/filt_noglobal/51117/NYU_0051117_rois_ho.1D\n",
            "Reading timeseries file /content/BrainGNN/data/ABIDE_pcp/cpac/filt_noglobal/51325/MaxMun_b_0051325_rois_ho.1D\n",
            "Reading timeseries file /content/BrainGNN/data/ABIDE_pcp/cpac/filt_noglobal/50693/Leuven_1_0050693_rois_ho.1D\n",
            "Reading timeseries file /content/BrainGNN/data/ABIDE_pcp/cpac/filt_noglobal/51573/SBL_0051573_rois_ho.1D\n",
            "Reading timeseries file /content/BrainGNN/data/ABIDE_pcp/cpac/filt_noglobal/50499/USM_0050499_rois_ho.1D\n",
            "Reading timeseries file /content/BrainGNN/data/ABIDE_pcp/cpac/filt_noglobal/50009/Pitt_0050009_rois_ho.1D\n",
            "Reading timeseries file /content/BrainGNN/data/ABIDE_pcp/cpac/filt_noglobal/51574/SBL_0051574_rois_ho.1D\n",
            "Reading timeseries file /content/BrainGNN/data/ABIDE_pcp/cpac/filt_noglobal/50694/Leuven_1_0050694_rois_ho.1D\n",
            "Reading timeseries file /content/BrainGNN/data/ABIDE_pcp/cpac/filt_noglobal/51322/MaxMun_b_0051322_rois_ho.1D\n",
            "Reading timeseries file /content/BrainGNN/data/ABIDE_pcp/cpac/filt_noglobal/51110/NYU_0051110_rois_ho.1D\n",
            "Reading timeseries file /content/BrainGNN/data/ABIDE_pcp/cpac/filt_noglobal/50204/SDSU_0050204_rois_ho.1D\n",
            "Reading timeseries file /content/BrainGNN/data/ABIDE_pcp/cpac/filt_noglobal/50036/Pitt_0050036_rois_ho.1D\n",
            "Reading timeseries file /content/BrainGNN/data/ABIDE_pcp/cpac/filt_noglobal/51580/SBL_0051580_rois_ho.1D\n",
            "Reading timeseries file /content/BrainGNN/data/ABIDE_pcp/cpac/filt_noglobal/50660/CMU_a_0050660_rois_ho.1D\n",
            "Reading timeseries file /content/BrainGNN/data/ABIDE_pcp/cpac/filt_noglobal/50803/KKI_0050803_rois_ho.1D\n",
            "Reading timeseries file /content/BrainGNN/data/ABIDE_pcp/cpac/filt_noglobal/50669/CMU_b_0050669_rois_ho.1D\n",
            "Reading timeseries file /content/BrainGNN/data/ABIDE_pcp/cpac/filt_noglobal/51314/UCLA_2_0051314_rois_ho.1D\n",
            "Reading timeseries file /content/BrainGNN/data/ABIDE_pcp/cpac/filt_noglobal/51126/NYU_0051126_rois_ho.1D\n",
            "Reading timeseries file /content/BrainGNN/data/ABIDE_pcp/cpac/filt_noglobal/50490/USM_0050490_rois_ho.1D\n",
            "Reading timeseries file /content/BrainGNN/data/ABIDE_pcp/cpac/filt_noglobal/50656/CMU_a_0050656_rois_ho.1D\n",
            "Reading timeseries file /content/BrainGNN/data/ABIDE_pcp/cpac/filt_noglobal/50232/Trinity_0050232_rois_ho.1D\n",
            "Reading timeseries file /content/BrainGNN/data/ABIDE_pcp/cpac/filt_noglobal/50038/Pitt_0050038_rois_ho.1D\n",
            "Reading timeseries file /content/BrainGNN/data/ABIDE_pcp/cpac/filt_noglobal/50804/KKI_0050804_rois_ho.1D\n",
            "Reading timeseries file /content/BrainGNN/data/ABIDE_pcp/cpac/filt_noglobal/50007/Pitt_0050007_rois_ho.1D\n",
            "Reading timeseries file /content/BrainGNN/data/ABIDE_pcp/cpac/filt_noglobal/50235/Trinity_0050235_rois_ho.1D\n",
            "Reading timeseries file /content/BrainGNN/data/ABIDE_pcp/cpac/filt_noglobal/50651/CMU_b_0050651_rois_ho.1D\n",
            "Reading timeseries file /content/BrainGNN/data/ABIDE_pcp/cpac/filt_noglobal/50463/USM_0050463_rois_ho.1D\n",
            "Reading timeseries file /content/BrainGNN/data/ABIDE_pcp/cpac/filt_noglobal/50497/USM_0050497_rois_ho.1D\n",
            "Reading timeseries file /content/BrainGNN/data/ABIDE_pcp/cpac/filt_noglobal/51121/NYU_0051121_rois_ho.1D\n",
            "Reading timeseries file /content/BrainGNN/data/ABIDE_pcp/cpac/filt_noglobal/51313/UCLA_2_0051313_rois_ho.1D\n",
            "Reading timeseries file /content/BrainGNN/data/ABIDE_pcp/cpac/filt_noglobal/50261/Trinity_0050261_rois_ho.1D\n",
            "Reading timeseries file /content/BrainGNN/data/ABIDE_pcp/cpac/filt_noglobal/51181/Stanford_0051181_rois_ho.1D\n",
            "Reading timeseries file /content/BrainGNN/data/ABIDE_pcp/cpac/filt_noglobal/50053/Pitt_0050053_rois_ho.1D\n",
            "Reading timeseries file /content/BrainGNN/data/ABIDE_pcp/cpac/filt_noglobal/50437/USM_0050437_rois_ho.1D\n",
            "Reading timeseries file /content/BrainGNN/data/ABIDE_pcp/cpac/filt_noglobal/50605/Yale_0050605_rois_ho.1D\n",
            "Reading timeseries file /content/BrainGNN/data/ABIDE_pcp/cpac/filt_noglobal/51347/MaxMun_c_0051347_rois_ho.1D\n",
            "Reading timeseries file /content/BrainGNN/data/ABIDE_pcp/cpac/filt_noglobal/50295/UM_1_0050295_rois_ho.1D\n",
            "Reading timeseries file /content/BrainGNN/data/ABIDE_pcp/cpac/filt_noglobal/51175/Stanford_0051175_rois_ho.1D\n",
            "Reading timeseries file /content/BrainGNN/data/ABIDE_pcp/cpac/filt_noglobal/50408/UM_2_0050408_rois_ho.1D\n",
            "Reading timeseries file /content/BrainGNN/data/ABIDE_pcp/cpac/filt_noglobal/51172/Stanford_0051172_rois_ho.1D\n",
            "Reading timeseries file /content/BrainGNN/data/ABIDE_pcp/cpac/filt_noglobal/51340/MaxMun_c_0051340_rois_ho.1D\n",
            "Reading timeseries file /content/BrainGNN/data/ABIDE_pcp/cpac/filt_noglobal/50292/UM_1_0050292_rois_ho.1D\n",
            "Reading timeseries file /content/BrainGNN/data/ABIDE_pcp/cpac/filt_noglobal/50602/Yale_0050602_rois_ho.1D\n",
            "Reading timeseries file /content/BrainGNN/data/ABIDE_pcp/cpac/filt_noglobal/51186/Stanford_0051186_rois_ho.1D\n",
            "Reading timeseries file /content/BrainGNN/data/ABIDE_pcp/cpac/filt_noglobal/50054/Pitt_0050054_rois_ho.1D\n",
            "Reading timeseries file /content/BrainGNN/data/ABIDE_pcp/cpac/filt_noglobal/50266/Trinity_0050266_rois_ho.1D\n",
            "Reading timeseries file /content/BrainGNN/data/ABIDE_pcp/cpac/filt_noglobal/50259/Trinity_0050259_rois_ho.1D\n",
            "Reading timeseries file /content/BrainGNN/data/ABIDE_pcp/cpac/filt_noglobal/50250/Trinity_0050250_rois_ho.1D\n",
            "Reading timeseries file /content/BrainGNN/data/ABIDE_pcp/cpac/filt_noglobal/50406/UM_2_0050406_rois_ho.1D\n",
            "Reading timeseries file /content/BrainGNN/data/ABIDE_pcp/cpac/filt_noglobal/51349/MaxMun_d_0051349_rois_ho.1D\n",
            "Reading timeseries file /content/BrainGNN/data/ABIDE_pcp/cpac/filt_noglobal/50439/USM_0050439_rois_ho.1D\n",
            "Reading timeseries file /content/BrainGNN/data/ABIDE_pcp/cpac/filt_noglobal/50257/Trinity_0050257_rois_ho.1D\n",
            "Reading timeseries file /content/BrainGNN/data/ABIDE_pcp/cpac/filt_noglobal/51188/Stanford_0051188_rois_ho.1D\n",
            "Reading timeseries file /content/BrainGNN/data/ABIDE_pcp/cpac/filt_noglobal/50268/Trinity_0050268_rois_ho.1D\n",
            "Reading timeseries file /content/BrainGNN/data/ABIDE_pcp/cpac/filt_noglobal/51195/Stanford_0051195_rois_ho.1D\n",
            "Reading timeseries file /content/BrainGNN/data/ABIDE_pcp/cpac/filt_noglobal/50047/Pitt_0050047_rois_ho.1D\n",
            "Reading timeseries file /content/BrainGNN/data/ABIDE_pcp/cpac/filt_noglobal/50275/UM_1_0050275_rois_ho.1D\n",
            "Reading timeseries file /content/BrainGNN/data/ABIDE_pcp/cpac/filt_noglobal/50611/Yale_0050611_rois_ho.1D\n",
            "Reading timeseries file /content/BrainGNN/data/ABIDE_pcp/cpac/filt_noglobal/51161/Stanford_0051161_rois_ho.1D\n",
            "Reading timeseries file /content/BrainGNN/data/ABIDE_pcp/cpac/filt_noglobal/51353/MaxMun_d_0051353_rois_ho.1D\n",
            "Reading timeseries file /content/BrainGNN/data/ABIDE_pcp/cpac/filt_noglobal/50281/UM_1_0050281_rois_ho.1D\n",
            "Reading timeseries file /content/BrainGNN/data/ABIDE_pcp/cpac/filt_noglobal/51159/NYU_0051159_rois_ho.1D\n",
            "Reading timeseries file /content/BrainGNN/data/ABIDE_pcp/cpac/filt_noglobal/51354/MaxMun_d_0051354_rois_ho.1D\n",
            "Reading timeseries file /content/BrainGNN/data/ABIDE_pcp/cpac/filt_noglobal/50286/UM_1_0050286_rois_ho.1D\n",
            "Reading timeseries file /content/BrainGNN/data/ABIDE_pcp/cpac/filt_noglobal/51166/Stanford_0051166_rois_ho.1D\n",
            "Reading timeseries file /content/BrainGNN/data/ABIDE_pcp/cpac/filt_noglobal/50424/UM_2_0050424_rois_ho.1D\n",
            "Reading timeseries file /content/BrainGNN/data/ABIDE_pcp/cpac/filt_noglobal/50616/Yale_0050616_rois_ho.1D\n",
            "Reading timeseries file /content/BrainGNN/data/ABIDE_pcp/cpac/filt_noglobal/50272/UM_1_0050272_rois_ho.1D\n",
            "Reading timeseries file /content/BrainGNN/data/ABIDE_pcp/cpac/filt_noglobal/51192/Stanford_0051192_rois_ho.1D\n",
            "Reading timeseries file /content/BrainGNN/data/ABIDE_pcp/cpac/filt_noglobal/50040/Pitt_0050040_rois_ho.1D\n",
            "Reading timeseries file /content/BrainGNN/data/ABIDE_pcp/cpac/filt_noglobal/50049/Pitt_0050049_rois_ho.1D\n",
            "Reading timeseries file /content/BrainGNN/data/ABIDE_pcp/cpac/filt_noglobal/51362/MaxMun_a_0051362_rois_ho.1D\n",
            "Reading timeseries file /content/BrainGNN/data/ABIDE_pcp/cpac/filt_noglobal/51150/NYU_0051150_rois_ho.1D\n",
            "Reading timeseries file /content/BrainGNN/data/ABIDE_pcp/cpac/filt_noglobal/50412/UM_2_0050412_rois_ho.1D\n",
            "Reading timeseries file /content/BrainGNN/data/ABIDE_pcp/cpac/filt_noglobal/50620/Yale_0050620_rois_ho.1D\n",
            "Reading timeseries file /content/BrainGNN/data/ABIDE_pcp/cpac/filt_noglobal/50618/Yale_0050618_rois_ho.1D\n",
            "Reading timeseries file /content/BrainGNN/data/ABIDE_pcp/cpac/filt_noglobal/50288/UM_1_0050288_rois_ho.1D\n",
            "Reading timeseries file /content/BrainGNN/data/ABIDE_pcp/cpac/filt_noglobal/51168/Stanford_0051168_rois_ho.1D\n",
            "Reading timeseries file /content/BrainGNN/data/ABIDE_pcp/cpac/filt_noglobal/50627/Yale_0050627_rois_ho.1D\n",
            "Reading timeseries file /content/BrainGNN/data/ABIDE_pcp/cpac/filt_noglobal/50415/UM_2_0050415_rois_ho.1D\n",
            "Reading timeseries file /content/BrainGNN/data/ABIDE_pcp/cpac/filt_noglobal/50243/Trinity_0050243_rois_ho.1D\n",
            "Reading timeseries file /content/BrainGNN/data/ABIDE_pcp/cpac/filt_noglobal/51365/MaxMun_a_0051365_rois_ho.1D\n",
            "Reading timeseries file /content/BrainGNN/data/ABIDE_pcp/cpac/filt_noglobal/50441/USM_0050441_rois_ho.1D\n",
            "Reading timeseries file /content/BrainGNN/data/ABIDE_pcp/cpac/filt_noglobal/50217/SDSU_0050217_rois_ho.1D\n",
            "Reading timeseries file /content/BrainGNN/data/ABIDE_pcp/cpac/filt_noglobal/50025/Pitt_0050025_rois_ho.1D\n",
            "Reading timeseries file /content/BrainGNN/data/ABIDE_pcp/cpac/filt_noglobal/50819/KKI_0050819_rois_ho.1D\n",
            "Reading timeseries file /content/BrainGNN/data/ABIDE_pcp/cpac/filt_noglobal/51331/MaxMun_d_0051331_rois_ho.1D\n",
            "Reading timeseries file /content/BrainGNN/data/ABIDE_pcp/cpac/filt_noglobal/51103/NYU_0051103_rois_ho.1D\n",
            "Reading timeseries file /content/BrainGNN/data/ABIDE_pcp/cpac/filt_noglobal/51567/SBL_0051567_rois_ho.1D\n",
            "Reading timeseries file /content/BrainGNN/data/ABIDE_pcp/cpac/filt_noglobal/50687/Leuven_1_0050687_rois_ho.1D\n",
            "Reading timeseries file /content/BrainGNN/data/ABIDE_pcp/cpac/filt_noglobal/50826/KKI_0050826_rois_ho.1D\n",
            "Reading timeseries file /content/BrainGNN/data/ABIDE_pcp/cpac/filt_noglobal/51558/SBL_0051558_rois_ho.1D\n",
            "Reading timeseries file /content/BrainGNN/data/ABIDE_pcp/cpac/filt_noglobal/51560/SBL_0051560_rois_ho.1D\n",
            "Reading timeseries file /content/BrainGNN/data/ABIDE_pcp/cpac/filt_noglobal/51104/NYU_0051104_rois_ho.1D\n",
            "Reading timeseries file /content/BrainGNN/data/ABIDE_pcp/cpac/filt_noglobal/51336/MaxMun_c_0051336_rois_ho.1D\n",
            "Reading timeseries file /content/BrainGNN/data/ABIDE_pcp/cpac/filt_noglobal/50022/Pitt_0050022_rois_ho.1D\n",
            "Reading timeseries file /content/BrainGNN/data/ABIDE_pcp/cpac/filt_noglobal/50210/SDSU_0050210_rois_ho.1D\n",
            "Reading timeseries file /content/BrainGNN/data/ABIDE_pcp/cpac/filt_noglobal/50446/USM_0050446_rois_ho.1D\n",
            "Reading timeseries file /content/BrainGNN/data/ABIDE_pcp/cpac/filt_noglobal/51309/UCLA_2_0051309_rois_ho.1D\n",
            "Reading timeseries file /content/BrainGNN/data/ABIDE_pcp/cpac/filt_noglobal/50821/KKI_0050821_rois_ho.1D\n",
            "Reading timeseries file /content/BrainGNN/data/ABIDE_pcp/cpac/filt_noglobal/51132/Trinity_0051132_rois_ho.1D\n",
            "Reading timeseries file /content/BrainGNN/data/ABIDE_pcp/cpac/filt_noglobal/51300/UCLA_2_0051300_rois_ho.1D\n",
            "Reading timeseries file /content/BrainGNN/data/ABIDE_pcp/cpac/filt_noglobal/51556/SBL_0051556_rois_ho.1D\n",
            "Reading timeseries file /content/BrainGNN/data/ABIDE_pcp/cpac/filt_noglobal/50642/CMU_a_0050642_rois_ho.1D\n",
            "Reading timeseries file /content/BrainGNN/data/ABIDE_pcp/cpac/filt_noglobal/50470/USM_0050470_rois_ho.1D\n",
            "Reading timeseries file /content/BrainGNN/data/ABIDE_pcp/cpac/filt_noglobal/50014/Pitt_0050014_rois_ho.1D\n",
            "Reading timeseries file /content/BrainGNN/data/ABIDE_pcp/cpac/filt_noglobal/51569/SBL_0051569_rois_ho.1D\n",
            "Reading timeseries file /content/BrainGNN/data/ABIDE_pcp/cpac/filt_noglobal/50689/Leuven_1_0050689_rois_ho.1D\n",
            "Reading timeseries file /content/BrainGNN/data/ABIDE_pcp/cpac/filt_noglobal/50817/KKI_0050817_rois_ho.1D\n",
            "Reading timeseries file /content/BrainGNN/data/ABIDE_pcp/cpac/filt_noglobal/50013/Pitt_0050013_rois_ho.1D\n",
            "Reading timeseries file /content/BrainGNN/data/ABIDE_pcp/cpac/filt_noglobal/50477/USM_0050477_rois_ho.1D\n",
            "Reading timeseries file /content/BrainGNN/data/ABIDE_pcp/cpac/filt_noglobal/50645/CMU_b_0050645_rois_ho.1D\n",
            "Reading timeseries file /content/BrainGNN/data/ABIDE_pcp/cpac/filt_noglobal/50483/USM_0050483_rois_ho.1D\n",
            "Reading timeseries file /content/BrainGNN/data/ABIDE_pcp/cpac/filt_noglobal/51307/UCLA_2_0051307_rois_ho.1D\n",
            "Reading timeseries file /content/BrainGNN/data/ABIDE_pcp/cpac/filt_noglobal/51135/Trinity_0051135_rois_ho.1D\n",
            "Reading timeseries file /content/BrainGNN/data/ABIDE_pcp/cpac/filt_noglobal/50448/USM_0050448_rois_ho.1D\n",
            "Reading timeseries file /content/BrainGNN/data/ABIDE_pcp/cpac/filt_noglobal/51338/MaxMun_c_0051338_rois_ho.1D\n",
            "Reading timeseries file /content/BrainGNN/data/ABIDE_pcp/cpac/filt_noglobal/51169/Stanford_0051169_rois_ho.1D\n",
            "Reading timeseries file /content/BrainGNN/data/ABIDE_pcp/cpac/filt_noglobal/50289/UM_1_0050289_rois_ho.1D\n",
            "Reading timeseries file /content/BrainGNN/data/ABIDE_pcp/cpac/filt_noglobal/50619/Yale_0050619_rois_ho.1D\n",
            "Reading timeseries file /content/BrainGNN/data/ABIDE_pcp/cpac/filt_noglobal/51364/MaxMun_a_0051364_rois_ho.1D\n",
            "Reading timeseries file /content/BrainGNN/data/ABIDE_pcp/cpac/filt_noglobal/51156/NYU_0051156_rois_ho.1D\n",
            "Reading timeseries file /content/BrainGNN/data/ABIDE_pcp/cpac/filt_noglobal/50414/UM_2_0050414_rois_ho.1D\n",
            "Reading timeseries file /content/BrainGNN/data/ABIDE_pcp/cpac/filt_noglobal/50626/Yale_0050626_rois_ho.1D\n",
            "Reading timeseries file /content/BrainGNN/data/ABIDE_pcp/cpac/filt_noglobal/50242/Trinity_0050242_rois_ho.1D\n",
            "Reading timeseries file /content/BrainGNN/data/ABIDE_pcp/cpac/filt_noglobal/50048/Pitt_0050048_rois_ho.1D\n",
            "Reading timeseries file /content/BrainGNN/data/ABIDE_pcp/cpac/filt_noglobal/50245/Trinity_0050245_rois_ho.1D\n",
            "Reading timeseries file /content/BrainGNN/data/ABIDE_pcp/cpac/filt_noglobal/50621/Yale_0050621_rois_ho.1D\n",
            "Reading timeseries file /content/BrainGNN/data/ABIDE_pcp/cpac/filt_noglobal/50413/UM_2_0050413_rois_ho.1D\n",
            "Reading timeseries file /content/BrainGNN/data/ABIDE_pcp/cpac/filt_noglobal/51151/NYU_0051151_rois_ho.1D\n",
            "Reading timeseries file /content/BrainGNN/data/ABIDE_pcp/cpac/filt_noglobal/51363/MaxMun_a_0051363_rois_ho.1D\n",
            "Reading timeseries file /content/BrainGNN/data/ABIDE_pcp/cpac/filt_noglobal/50628/Yale_0050628_rois_ho.1D\n",
            "Reading timeseries file /content/BrainGNN/data/ABIDE_pcp/cpac/filt_noglobal/50617/Yale_0050617_rois_ho.1D\n",
            "Reading timeseries file /content/BrainGNN/data/ABIDE_pcp/cpac/filt_noglobal/50425/UM_2_0050425_rois_ho.1D\n",
            "Reading timeseries file /content/BrainGNN/data/ABIDE_pcp/cpac/filt_noglobal/51193/Stanford_0051193_rois_ho.1D\n",
            "Reading timeseries file /content/BrainGNN/data/ABIDE_pcp/cpac/filt_noglobal/50041/Pitt_0050041_rois_ho.1D\n",
            "Reading timeseries file /content/BrainGNN/data/ABIDE_pcp/cpac/filt_noglobal/50273/UM_1_0050273_rois_ho.1D\n",
            "Reading timeseries file /content/BrainGNN/data/ABIDE_pcp/cpac/filt_noglobal/51167/Stanford_0051167_rois_ho.1D\n",
            "Reading timeseries file /content/BrainGNN/data/ABIDE_pcp/cpac/filt_noglobal/51355/MaxMun_d_0051355_rois_ho.1D\n",
            "Reading timeseries file /content/BrainGNN/data/ABIDE_pcp/cpac/filt_noglobal/50287/UM_1_0050287_rois_ho.1D\n",
            "Reading timeseries file /content/BrainGNN/data/ABIDE_pcp/cpac/filt_noglobal/51352/MaxMun_d_0051352_rois_ho.1D\n",
            "Reading timeseries file /content/BrainGNN/data/ABIDE_pcp/cpac/filt_noglobal/50280/UM_1_0050280_rois_ho.1D\n",
            "Reading timeseries file /content/BrainGNN/data/ABIDE_pcp/cpac/filt_noglobal/51160/Stanford_0051160_rois_ho.1D\n",
            "Reading timeseries file /content/BrainGNN/data/ABIDE_pcp/cpac/filt_noglobal/50274/UM_1_0050274_rois_ho.1D\n",
            "Reading timeseries file /content/BrainGNN/data/ABIDE_pcp/cpac/filt_noglobal/51194/Stanford_0051194_rois_ho.1D\n",
            "Reading timeseries file /content/BrainGNN/data/ABIDE_pcp/cpac/filt_noglobal/50046/Pitt_0050046_rois_ho.1D\n",
            "Reading timeseries file /content/BrainGNN/data/ABIDE_pcp/cpac/filt_noglobal/50422/UM_2_0050422_rois_ho.1D\n",
            "Reading timeseries file /content/BrainGNN/data/ABIDE_pcp/cpac/filt_noglobal/50610/Yale_0050610_rois_ho.1D\n",
            "Reading timeseries file /content/BrainGNN/data/ABIDE_pcp/cpac/filt_noglobal/50482/USM_0050482_rois_ho.1D\n",
            "Reading timeseries file /content/BrainGNN/data/ABIDE_pcp/cpac/filt_noglobal/51134/Trinity_0051134_rois_ho.1D\n",
            "Reading timeseries file /content/BrainGNN/data/ABIDE_pcp/cpac/filt_noglobal/51306/UCLA_2_0051306_rois_ho.1D\n",
            "Reading timeseries file /content/BrainGNN/data/ABIDE_pcp/cpac/filt_noglobal/50012/Pitt_0050012_rois_ho.1D\n",
            "Reading timeseries file /content/BrainGNN/data/ABIDE_pcp/cpac/filt_noglobal/50644/CMU_b_0050644_rois_ho.1D\n",
            "Reading timeseries file /content/BrainGNN/data/ABIDE_pcp/cpac/filt_noglobal/51339/MaxMun_c_0051339_rois_ho.1D\n",
            "Reading timeseries file /content/BrainGNN/data/ABIDE_pcp/cpac/filt_noglobal/50449/USM_0050449_rois_ho.1D\n",
            "Reading timeseries file /content/BrainGNN/data/ABIDE_pcp/cpac/filt_noglobal/50643/CMU_b_0050643_rois_ho.1D\n",
            "Reading timeseries file /content/BrainGNN/data/ABIDE_pcp/cpac/filt_noglobal/50015/Pitt_0050015_rois_ho.1D\n",
            "Reading timeseries file /content/BrainGNN/data/ABIDE_pcp/cpac/filt_noglobal/51301/UCLA_2_0051301_rois_ho.1D\n",
            "Reading timeseries file /content/BrainGNN/data/ABIDE_pcp/cpac/filt_noglobal/51133/Trinity_0051133_rois_ho.1D\n",
            "Reading timeseries file /content/BrainGNN/data/ABIDE_pcp/cpac/filt_noglobal/50485/USM_0050485_rois_ho.1D\n",
            "Reading timeseries file /content/BrainGNN/data/ABIDE_pcp/cpac/filt_noglobal/51557/SBL_0051557_rois_ho.1D\n",
            "Reading timeseries file /content/BrainGNN/data/ABIDE_pcp/cpac/filt_noglobal/50816/KKI_0050816_rois_ho.1D\n",
            "Reading timeseries file /content/BrainGNN/data/ABIDE_pcp/cpac/filt_noglobal/50688/Leuven_1_0050688_rois_ho.1D\n",
            "Reading timeseries file /content/BrainGNN/data/ABIDE_pcp/cpac/filt_noglobal/51568/SBL_0051568_rois_ho.1D\n",
            "Reading timeseries file /content/BrainGNN/data/ABIDE_pcp/cpac/filt_noglobal/50211/SDSU_0050211_rois_ho.1D\n",
            "Reading timeseries file /content/BrainGNN/data/ABIDE_pcp/cpac/filt_noglobal/50023/Pitt_0050023_rois_ho.1D\n",
            "Reading timeseries file /content/BrainGNN/data/ABIDE_pcp/cpac/filt_noglobal/50447/USM_0050447_rois_ho.1D\n",
            "Reading timeseries file /content/BrainGNN/data/ABIDE_pcp/cpac/filt_noglobal/51561/SBL_0051561_rois_ho.1D\n",
            "Reading timeseries file /content/BrainGNN/data/ABIDE_pcp/cpac/filt_noglobal/51105/NYU_0051105_rois_ho.1D\n",
            "Reading timeseries file /content/BrainGNN/data/ABIDE_pcp/cpac/filt_noglobal/50820/KKI_0050820_rois_ho.1D\n",
            "Reading timeseries file /content/BrainGNN/data/ABIDE_pcp/cpac/filt_noglobal/51308/UCLA_2_0051308_rois_ho.1D\n",
            "Reading timeseries file /content/BrainGNN/data/ABIDE_pcp/cpac/filt_noglobal/51102/NYU_0051102_rois_ho.1D\n",
            "Reading timeseries file /content/BrainGNN/data/ABIDE_pcp/cpac/filt_noglobal/51330/MaxMun_d_0051330_rois_ho.1D\n",
            "Reading timeseries file /content/BrainGNN/data/ABIDE_pcp/cpac/filt_noglobal/50686/Leuven_1_0050686_rois_ho.1D\n",
            "Reading timeseries file /content/BrainGNN/data/ABIDE_pcp/cpac/filt_noglobal/51566/SBL_0051566_rois_ho.1D\n",
            "Reading timeseries file /content/BrainGNN/data/ABIDE_pcp/cpac/filt_noglobal/50440/USM_0050440_rois_ho.1D\n",
            "Reading timeseries file /content/BrainGNN/data/ABIDE_pcp/cpac/filt_noglobal/50818/KKI_0050818_rois_ho.1D\n",
            "Reading timeseries file /content/BrainGNN/data/ABIDE_pcp/cpac/filt_noglobal/50024/Pitt_0050024_rois_ho.1D\n",
            "Reading timeseries file /content/BrainGNN/data/ABIDE_pcp/cpac/filt_noglobal/50216/SDSU_0050216_rois_ho.1D\n",
            "Reading timeseries file /content/BrainGNN/data/ABIDE_pcp/cpac/filt_noglobal/51559/SBL_0051559_rois_ho.1D\n",
            "Reading timeseries file /content/BrainGNN/data/ABIDE_pcp/cpac/filt_noglobal/50169/OHSU_0050169_rois_ho.1D\n",
            "Reading timeseries file /content/BrainGNN/data/ABIDE_pcp/cpac/filt_noglobal/50955/NYU_0050955_rois_ho.1D\n",
            "Reading timeseries file /content/BrainGNN/data/ABIDE_pcp/cpac/filt_noglobal/50156/OHSU_0050156_rois_ho.1D\n",
            "Reading timeseries file /content/BrainGNN/data/ABIDE_pcp/cpac/filt_noglobal/51084/NYU_0051084_rois_ho.1D\n",
            "Reading timeseries file /content/BrainGNN/data/ABIDE_pcp/cpac/filt_noglobal/50364/UM_1_0050364_rois_ho.1D\n",
            "Reading timeseries file /content/BrainGNN/data/ABIDE_pcp/cpac/filt_noglobal/50700/Leuven_1_0050700_rois_ho.1D\n",
            "Reading timeseries file /content/BrainGNN/data/ABIDE_pcp/cpac/filt_noglobal/50532/USM_0050532_rois_ho.1D\n",
            "Reading timeseries file /content/BrainGNN/data/ABIDE_pcp/cpac/filt_noglobal/51070/NYU_0051070_rois_ho.1D\n",
            "Reading timeseries file /content/BrainGNN/data/ABIDE_pcp/cpac/filt_noglobal/50390/UM_2_0050390_rois_ho.1D\n",
            "Reading timeseries file /content/BrainGNN/data/ABIDE_pcp/cpac/filt_noglobal/51048/NYU_0051048_rois_ho.1D\n",
            "Reading timeseries file /content/BrainGNN/data/ABIDE_pcp/cpac/filt_noglobal/50952/NYU_0050952_rois_ho.1D\n",
            "Reading timeseries file /content/BrainGNN/data/ABIDE_pcp/cpac/filt_noglobal/50738/Leuven_2_0050738_rois_ho.1D\n",
            "Reading timeseries file /content/BrainGNN/data/ABIDE_pcp/cpac/filt_noglobal/50397/UM_2_0050397_rois_ho.1D\n",
            "Reading timeseries file /content/BrainGNN/data/ABIDE_pcp/cpac/filt_noglobal/51077/NYU_0051077_rois_ho.1D\n",
            "Reading timeseries file /content/BrainGNN/data/ABIDE_pcp/cpac/filt_noglobal/50999/NYU_0050999_rois_ho.1D\n",
            "Reading timeseries file /content/BrainGNN/data/ABIDE_pcp/cpac/filt_noglobal/50707/Leuven_1_0050707_rois_ho.1D\n",
            "Reading timeseries file /content/BrainGNN/data/ABIDE_pcp/cpac/filt_noglobal/50363/UM_1_0050363_rois_ho.1D\n",
            "Reading timeseries file /content/BrainGNN/data/ABIDE_pcp/cpac/filt_noglobal/51083/NYU_0051083_rois_ho.1D\n",
            "Reading timeseries file /content/BrainGNN/data/ABIDE_pcp/cpac/filt_noglobal/50990/NYU_0050990_rois_ho.1D\n",
            "Reading timeseries file /content/BrainGNN/data/ABIDE_pcp/cpac/filt_noglobal/50158/OHSU_0050158_rois_ho.1D\n",
            "Reading timeseries file /content/BrainGNN/data/ABIDE_pcp/cpac/filt_noglobal/50964/NYU_0050964_rois_ho.1D\n",
            "Reading timeseries file /content/BrainGNN/data/ABIDE_pcp/cpac/filt_noglobal/51273/UCLA_1_0051273_rois_ho.1D\n",
            "Reading timeseries file /content/BrainGNN/data/ABIDE_pcp/cpac/filt_noglobal/51041/NYU_0051041_rois_ho.1D\n",
            "Reading timeseries file /content/BrainGNN/data/ABIDE_pcp/cpac/filt_noglobal/50193/SDSU_0050193_rois_ho.1D\n",
            "Reading timeseries file /content/BrainGNN/data/ABIDE_pcp/cpac/filt_noglobal/50355/UM_1_0050355_rois_ho.1D\n",
            "Reading timeseries file /content/BrainGNN/data/ABIDE_pcp/cpac/filt_noglobal/50167/OHSU_0050167_rois_ho.1D\n",
            "Reading timeseries file /content/BrainGNN/data/ABIDE_pcp/cpac/filt_noglobal/50503/USM_0050503_rois_ho.1D\n",
            "Reading timeseries file /content/BrainGNN/data/ABIDE_pcp/cpac/filt_noglobal/50731/Leuven_2_0050731_rois_ho.1D\n",
            "Reading timeseries file /content/BrainGNN/data/ABIDE_pcp/cpac/filt_noglobal/50709/Leuven_1_0050709_rois_ho.1D\n",
            "Reading timeseries file /content/BrainGNN/data/ABIDE_pcp/cpac/filt_noglobal/50399/UM_2_0050399_rois_ho.1D\n",
            "Reading timeseries file /content/BrainGNN/data/ABIDE_pcp/cpac/filt_noglobal/51079/NYU_0051079_rois_ho.1D\n",
            "Reading timeseries file /content/BrainGNN/data/ABIDE_pcp/cpac/filt_noglobal/50997/NYU_0050997_rois_ho.1D\n",
            "Reading timeseries file /content/BrainGNN/data/ABIDE_pcp/cpac/filt_noglobal/50736/Leuven_2_0050736_rois_ho.1D\n",
            "Reading timeseries file /content/BrainGNN/data/ABIDE_pcp/cpac/filt_noglobal/50504/USM_0050504_rois_ho.1D\n",
            "Reading timeseries file /content/BrainGNN/data/ABIDE_pcp/cpac/filt_noglobal/50160/OHSU_0050160_rois_ho.1D\n",
            "Reading timeseries file /content/BrainGNN/data/ABIDE_pcp/cpac/filt_noglobal/51280/UCLA_1_0051280_rois_ho.1D\n",
            "Reading timeseries file /content/BrainGNN/data/ABIDE_pcp/cpac/filt_noglobal/50352/UM_1_0050352_rois_ho.1D\n",
            "Reading timeseries file /content/BrainGNN/data/ABIDE_pcp/cpac/filt_noglobal/51046/NYU_0051046_rois_ho.1D\n",
            "Reading timeseries file /content/BrainGNN/data/ABIDE_pcp/cpac/filt_noglobal/50194/SDSU_0050194_rois_ho.1D\n",
            "Reading timeseries file /content/BrainGNN/data/ABIDE_pcp/cpac/filt_noglobal/51274/UCLA_1_0051274_rois_ho.1D\n",
            "Reading timeseries file /content/BrainGNN/data/ABIDE_pcp/cpac/filt_noglobal/51482/Caltech_0051482_rois_ho.1D\n",
            "Reading timeseries file /content/BrainGNN/data/ABIDE_pcp/cpac/filt_noglobal/50306/UM_1_0050306_rois_ho.1D\n",
            "Reading timeseries file /content/BrainGNN/data/ABIDE_pcp/cpac/filt_noglobal/50134/Olin_0050134_rois_ho.1D\n",
            "Reading timeseries file /content/BrainGNN/data/ABIDE_pcp/cpac/filt_noglobal/51220/UCLA_1_0051220_rois_ho.1D\n",
            "Reading timeseries file /content/BrainGNN/data/ABIDE_pcp/cpac/filt_noglobal/51012/NYU_0051012_rois_ho.1D\n",
            "Reading timeseries file /content/BrainGNN/data/ABIDE_pcp/cpac/filt_noglobal/51476/Caltech_0051476_rois_ho.1D\n",
            "Reading timeseries file /content/BrainGNN/data/ABIDE_pcp/cpac/filt_noglobal/50796/KKI_0050796_rois_ho.1D\n",
            "Reading timeseries file /content/BrainGNN/data/ABIDE_pcp/cpac/filt_noglobal/50339/UM_1_0050339_rois_ho.1D\n",
            "Reading timeseries file /content/BrainGNN/data/ABIDE_pcp/cpac/filt_noglobal/50791/KKI_0050791_rois_ho.1D\n",
            "Reading timeseries file /content/BrainGNN/data/ABIDE_pcp/cpac/filt_noglobal/51471/Caltech_0051471_rois_ho.1D\n",
            "Reading timeseries file /content/BrainGNN/data/ABIDE_pcp/cpac/filt_noglobal/51015/NYU_0051015_rois_ho.1D\n",
            "Reading timeseries file /content/BrainGNN/data/ABIDE_pcp/cpac/filt_noglobal/51227/UCLA_1_0051227_rois_ho.1D\n",
            "Reading timeseries file /content/BrainGNN/data/ABIDE_pcp/cpac/filt_noglobal/50133/Olin_0050133_rois_ho.1D\n",
            "Reading timeseries file /content/BrainGNN/data/ABIDE_pcp/cpac/filt_noglobal/50301/UM_1_0050301_rois_ho.1D\n",
            "Reading timeseries file /content/BrainGNN/data/ABIDE_pcp/cpac/filt_noglobal/50557/Yale_0050557_rois_ho.1D\n",
            "Reading timeseries file /content/BrainGNN/data/ABIDE_pcp/cpac/filt_noglobal/51485/Caltech_0051485_rois_ho.1D\n",
            "Reading timeseries file /content/BrainGNN/data/ABIDE_pcp/cpac/filt_noglobal/51218/UCLA_1_0051218_rois_ho.1D\n",
            "Reading timeseries file /content/BrainGNN/data/ABIDE_pcp/cpac/filt_noglobal/50568/Yale_0050568_rois_ho.1D\n",
            "Reading timeseries file /content/BrainGNN/data/ABIDE_pcp/cpac/filt_noglobal/51023/NYU_0051023_rois_ho.1D\n",
            "Reading timeseries file /content/BrainGNN/data/ABIDE_pcp/cpac/filt_noglobal/51211/UCLA_1_0051211_rois_ho.1D\n",
            "Reading timeseries file /content/BrainGNN/data/ABIDE_pcp/cpac/filt_noglobal/50753/Leuven_2_0050753_rois_ho.1D\n",
            "Reading timeseries file /content/BrainGNN/data/ABIDE_pcp/cpac/filt_noglobal/50561/Yale_0050561_rois_ho.1D\n",
            "Reading timeseries file /content/BrainGNN/data/ABIDE_pcp/cpac/filt_noglobal/50105/Olin_0050105_rois_ho.1D\n",
            "Reading timeseries file /content/BrainGNN/data/ABIDE_pcp/cpac/filt_noglobal/50337/UM_1_0050337_rois_ho.1D\n",
            "Reading timeseries file /content/BrainGNN/data/ABIDE_pcp/cpac/filt_noglobal/51478/Caltech_0051478_rois_ho.1D\n",
            "Reading timeseries file /content/BrainGNN/data/ABIDE_pcp/cpac/filt_noglobal/50798/KKI_0050798_rois_ho.1D\n",
            "Reading timeseries file /content/BrainGNN/data/ABIDE_pcp/cpac/filt_noglobal/50308/UM_1_0050308_rois_ho.1D\n",
            "Reading timeseries file /content/BrainGNN/data/ABIDE_pcp/cpac/filt_noglobal/50330/UM_1_0050330_rois_ho.1D\n",
            "Reading timeseries file /content/BrainGNN/data/ABIDE_pcp/cpac/filt_noglobal/50102/Olin_0050102_rois_ho.1D\n",
            "Reading timeseries file /content/BrainGNN/data/ABIDE_pcp/cpac/filt_noglobal/50566/Yale_0050566_rois_ho.1D\n",
            "Reading timeseries file /content/BrainGNN/data/ABIDE_pcp/cpac/filt_noglobal/50754/Leuven_2_0050754_rois_ho.1D\n",
            "Reading timeseries file /content/BrainGNN/data/ABIDE_pcp/cpac/filt_noglobal/51216/UCLA_1_0051216_rois_ho.1D\n",
            "Reading timeseries file /content/BrainGNN/data/ABIDE_pcp/cpac/filt_noglobal/51024/NYU_0051024_rois_ho.1D\n",
            "Reading timeseries file /content/BrainGNN/data/ABIDE_pcp/cpac/filt_noglobal/50559/Yale_0050559_rois_ho.1D\n",
            "Reading timeseries file /content/BrainGNN/data/ABIDE_pcp/cpac/filt_noglobal/51229/UCLA_1_0051229_rois_ho.1D\n",
            "Reading timeseries file /content/BrainGNN/data/ABIDE_pcp/cpac/filt_noglobal/50996/NYU_0050996_rois_ho.1D\n",
            "Reading timeseries file /content/BrainGNN/data/ABIDE_pcp/cpac/filt_noglobal/51078/NYU_0051078_rois_ho.1D\n",
            "Reading timeseries file /content/BrainGNN/data/ABIDE_pcp/cpac/filt_noglobal/50962/NYU_0050962_rois_ho.1D\n",
            "Reading timeseries file /content/BrainGNN/data/ABIDE_pcp/cpac/filt_noglobal/50708/Leuven_1_0050708_rois_ho.1D\n",
            "Reading timeseries file /content/BrainGNN/data/ABIDE_pcp/cpac/filt_noglobal/51275/UCLA_1_0051275_rois_ho.1D\n",
            "Reading timeseries file /content/BrainGNN/data/ABIDE_pcp/cpac/filt_noglobal/51047/NYU_0051047_rois_ho.1D\n",
            "Reading timeseries file /content/BrainGNN/data/ABIDE_pcp/cpac/filt_noglobal/50195/SDSU_0050195_rois_ho.1D\n",
            "Reading timeseries file /content/BrainGNN/data/ABIDE_pcp/cpac/filt_noglobal/50505/USM_0050505_rois_ho.1D\n",
            "Reading timeseries file /content/BrainGNN/data/ABIDE_pcp/cpac/filt_noglobal/50737/Leuven_2_0050737_rois_ho.1D\n",
            "Reading timeseries file /content/BrainGNN/data/ABIDE_pcp/cpac/filt_noglobal/51281/UCLA_1_0051281_rois_ho.1D\n",
            "Reading timeseries file /content/BrainGNN/data/ABIDE_pcp/cpac/filt_noglobal/50353/UM_1_0050353_rois_ho.1D\n",
            "Reading timeseries file /content/BrainGNN/data/ABIDE_pcp/cpac/filt_noglobal/50161/OHSU_0050161_rois_ho.1D\n",
            "Reading timeseries file /content/BrainGNN/data/ABIDE_pcp/cpac/filt_noglobal/50965/NYU_0050965_rois_ho.1D\n",
            "Reading timeseries file /content/BrainGNN/data/ABIDE_pcp/cpac/filt_noglobal/50159/OHSU_0050159_rois_ho.1D\n",
            "Reading timeseries file /content/BrainGNN/data/ABIDE_pcp/cpac/filt_noglobal/50991/NYU_0050991_rois_ho.1D\n",
            "Reading timeseries file /content/BrainGNN/data/ABIDE_pcp/cpac/filt_noglobal/50166/OHSU_0050166_rois_ho.1D\n",
            "Reading timeseries file /content/BrainGNN/data/ABIDE_pcp/cpac/filt_noglobal/50354/UM_1_0050354_rois_ho.1D\n",
            "Reading timeseries file /content/BrainGNN/data/ABIDE_pcp/cpac/filt_noglobal/50730/Leuven_2_0050730_rois_ho.1D\n",
            "Reading timeseries file /content/BrainGNN/data/ABIDE_pcp/cpac/filt_noglobal/50502/USM_0050502_rois_ho.1D\n",
            "Reading timeseries file /content/BrainGNN/data/ABIDE_pcp/cpac/filt_noglobal/51040/NYU_0051040_rois_ho.1D\n",
            "Reading timeseries file /content/BrainGNN/data/ABIDE_pcp/cpac/filt_noglobal/50192/SDSU_0050192_rois_ho.1D\n",
            "Reading timeseries file /content/BrainGNN/data/ABIDE_pcp/cpac/filt_noglobal/51272/UCLA_1_0051272_rois_ho.1D\n",
            "Reading timeseries file /content/BrainGNN/data/ABIDE_pcp/cpac/filt_noglobal/50739/Leuven_2_0050739_rois_ho.1D\n",
            "Reading timeseries file /content/BrainGNN/data/ABIDE_pcp/cpac/filt_noglobal/51049/NYU_0051049_rois_ho.1D\n",
            "Reading timeseries file /content/BrainGNN/data/ABIDE_pcp/cpac/filt_noglobal/50706/Leuven_1_0050706_rois_ho.1D\n",
            "Reading timeseries file /content/BrainGNN/data/ABIDE_pcp/cpac/filt_noglobal/50150/OHSU_0050150_rois_ho.1D\n",
            "Reading timeseries file /content/BrainGNN/data/ABIDE_pcp/cpac/filt_noglobal/51082/NYU_0051082_rois_ho.1D\n",
            "Reading timeseries file /content/BrainGNN/data/ABIDE_pcp/cpac/filt_noglobal/50362/UM_1_0050362_rois_ho.1D\n",
            "Reading timeseries file /content/BrainGNN/data/ABIDE_pcp/cpac/filt_noglobal/50998/NYU_0050998_rois_ho.1D\n",
            "Reading timeseries file /content/BrainGNN/data/ABIDE_pcp/cpac/filt_noglobal/51076/NYU_0051076_rois_ho.1D\n",
            "Reading timeseries file /content/BrainGNN/data/ABIDE_pcp/cpac/filt_noglobal/50954/NYU_0050954_rois_ho.1D\n",
            "Reading timeseries file /content/BrainGNN/data/ABIDE_pcp/cpac/filt_noglobal/50168/OHSU_0050168_rois_ho.1D\n",
            "Reading timeseries file /content/BrainGNN/data/ABIDE_pcp/cpac/filt_noglobal/50391/UM_2_0050391_rois_ho.1D\n",
            "Reading timeseries file /content/BrainGNN/data/ABIDE_pcp/cpac/filt_noglobal/51071/NYU_0051071_rois_ho.1D\n",
            "Reading timeseries file /content/BrainGNN/data/ABIDE_pcp/cpac/filt_noglobal/50365/UM_1_0050365_rois_ho.1D\n",
            "Reading timeseries file /content/BrainGNN/data/ABIDE_pcp/cpac/filt_noglobal/50157/OHSU_0050157_rois_ho.1D\n",
            "Reading timeseries file /content/BrainGNN/data/ABIDE_pcp/cpac/filt_noglobal/51085/NYU_0051085_rois_ho.1D\n",
            "Reading timeseries file /content/BrainGNN/data/ABIDE_pcp/cpac/filt_noglobal/50701/Leuven_1_0050701_rois_ho.1D\n",
            "Reading timeseries file /content/BrainGNN/data/ABIDE_pcp/cpac/filt_noglobal/51025/NYU_0051025_rois_ho.1D\n",
            "Reading timeseries file /content/BrainGNN/data/ABIDE_pcp/cpac/filt_noglobal/51217/UCLA_1_0051217_rois_ho.1D\n",
            "Reading timeseries file /content/BrainGNN/data/ABIDE_pcp/cpac/filt_noglobal/50103/Olin_0050103_rois_ho.1D\n",
            "Reading timeseries file /content/BrainGNN/data/ABIDE_pcp/cpac/filt_noglobal/50331/UM_1_0050331_rois_ho.1D\n",
            "Reading timeseries file /content/BrainGNN/data/ABIDE_pcp/cpac/filt_noglobal/50755/Leuven_2_0050755_rois_ho.1D\n",
            "Reading timeseries file /content/BrainGNN/data/ABIDE_pcp/cpac/filt_noglobal/50567/Yale_0050567_rois_ho.1D\n",
            "Reading timeseries file /content/BrainGNN/data/ABIDE_pcp/cpac/filt_noglobal/51228/UCLA_1_0051228_rois_ho.1D\n",
            "Reading timeseries file /content/BrainGNN/data/ABIDE_pcp/cpac/filt_noglobal/50558/Yale_0050558_rois_ho.1D\n",
            "Reading timeseries file /content/BrainGNN/data/ABIDE_pcp/cpac/filt_noglobal/50560/Yale_0050560_rois_ho.1D\n",
            "Reading timeseries file /content/BrainGNN/data/ABIDE_pcp/cpac/filt_noglobal/50752/Leuven_2_0050752_rois_ho.1D\n",
            "Reading timeseries file /content/BrainGNN/data/ABIDE_pcp/cpac/filt_noglobal/50336/UM_1_0050336_rois_ho.1D\n",
            "Reading timeseries file /content/BrainGNN/data/ABIDE_pcp/cpac/filt_noglobal/50104/Olin_0050104_rois_ho.1D\n",
            "Reading timeseries file /content/BrainGNN/data/ABIDE_pcp/cpac/filt_noglobal/51210/UCLA_1_0051210_rois_ho.1D\n",
            "Reading timeseries file /content/BrainGNN/data/ABIDE_pcp/cpac/filt_noglobal/50799/KKI_0050799_rois_ho.1D\n",
            "Reading timeseries file /content/BrainGNN/data/ABIDE_pcp/cpac/filt_noglobal/51479/Caltech_0051479_rois_ho.1D\n",
            "Reading timeseries file /content/BrainGNN/data/ABIDE_pcp/cpac/filt_noglobal/50300/UM_1_0050300_rois_ho.1D\n",
            "Reading timeseries file /content/BrainGNN/data/ABIDE_pcp/cpac/filt_noglobal/50132/Olin_0050132_rois_ho.1D\n",
            "Reading timeseries file /content/BrainGNN/data/ABIDE_pcp/cpac/filt_noglobal/50556/Yale_0050556_rois_ho.1D\n",
            "Reading timeseries file /content/BrainGNN/data/ABIDE_pcp/cpac/filt_noglobal/51484/Caltech_0051484_rois_ho.1D\n",
            "Reading timeseries file /content/BrainGNN/data/ABIDE_pcp/cpac/filt_noglobal/51470/Caltech_0051470_rois_ho.1D\n",
            "Reading timeseries file /content/BrainGNN/data/ABIDE_pcp/cpac/filt_noglobal/50790/KKI_0050790_rois_ho.1D\n",
            "Reading timeseries file /content/BrainGNN/data/ABIDE_pcp/cpac/filt_noglobal/51226/UCLA_1_0051226_rois_ho.1D\n",
            "Reading timeseries file /content/BrainGNN/data/ABIDE_pcp/cpac/filt_noglobal/51014/NYU_0051014_rois_ho.1D\n",
            "Reading timeseries file /content/BrainGNN/data/ABIDE_pcp/cpac/filt_noglobal/50569/Yale_0050569_rois_ho.1D\n",
            "Reading timeseries file /content/BrainGNN/data/ABIDE_pcp/cpac/filt_noglobal/51219/UCLA_1_0051219_rois_ho.1D\n",
            "Reading timeseries file /content/BrainGNN/data/ABIDE_pcp/cpac/filt_noglobal/51013/NYU_0051013_rois_ho.1D\n",
            "Reading timeseries file /content/BrainGNN/data/ABIDE_pcp/cpac/filt_noglobal/51221/UCLA_1_0051221_rois_ho.1D\n",
            "Reading timeseries file /content/BrainGNN/data/ABIDE_pcp/cpac/filt_noglobal/50797/KKI_0050797_rois_ho.1D\n",
            "Reading timeseries file /content/BrainGNN/data/ABIDE_pcp/cpac/filt_noglobal/51477/Caltech_0051477_rois_ho.1D\n",
            "Reading timeseries file /content/BrainGNN/data/ABIDE_pcp/cpac/filt_noglobal/50551/Yale_0050551_rois_ho.1D\n",
            "Reading timeseries file /content/BrainGNN/data/ABIDE_pcp/cpac/filt_noglobal/51483/Caltech_0051483_rois_ho.1D\n",
            "Reading timeseries file /content/BrainGNN/data/ABIDE_pcp/cpac/filt_noglobal/50135/Olin_0050135_rois_ho.1D\n",
            "Reading timeseries file /content/BrainGNN/data/ABIDE_pcp/cpac/filt_noglobal/50307/UM_1_0050307_rois_ho.1D\n",
            "Reading timeseries file /content/BrainGNN/data/ABIDE_pcp/cpac/filt_noglobal/50338/UM_1_0050338_rois_ho.1D\n",
            "Reading timeseries file /content/BrainGNN/data/ABIDE_pcp/cpac/filt_noglobal/50171/OHSU_0050171_rois_ho.1D\n",
            "Reading timeseries file /content/BrainGNN/data/ABIDE_pcp/cpac/filt_noglobal/50343/UM_1_0050343_rois_ho.1D\n",
            "Reading timeseries file /content/BrainGNN/data/ABIDE_pcp/cpac/filt_noglobal/51291/UCLA_2_0051291_rois_ho.1D\n",
            "Reading timeseries file /content/BrainGNN/data/ABIDE_pcp/cpac/filt_noglobal/50727/Leuven_2_0050727_rois_ho.1D\n",
            "Reading timeseries file /content/BrainGNN/data/ABIDE_pcp/cpac/filt_noglobal/50515/USM_0050515_rois_ho.1D\n",
            "Reading timeseries file /content/BrainGNN/data/ABIDE_pcp/cpac/filt_noglobal/50185/SDSU_0050185_rois_ho.1D\n",
            "Reading timeseries file /content/BrainGNN/data/ABIDE_pcp/cpac/filt_noglobal/51057/NYU_0051057_rois_ho.1D\n",
            "Reading timeseries file /content/BrainGNN/data/ABIDE_pcp/cpac/filt_noglobal/51265/UCLA_1_0051265_rois_ho.1D\n",
            "Reading timeseries file /content/BrainGNN/data/ABIDE_pcp/cpac/filt_noglobal/50972/NYU_0050972_rois_ho.1D\n",
            "Reading timeseries file /content/BrainGNN/data/ABIDE_pcp/cpac/filt_noglobal/50388/UM_2_0050388_rois_ho.1D\n",
            "Reading timeseries file /content/BrainGNN/data/ABIDE_pcp/cpac/filt_noglobal/50986/NYU_0050986_rois_ho.1D\n",
            "Reading timeseries file /content/BrainGNN/data/ABIDE_pcp/cpac/filt_noglobal/51068/NYU_0051068_rois_ho.1D\n",
            "Reading timeseries file /content/BrainGNN/data/ABIDE_pcp/cpac/filt_noglobal/51262/UCLA_1_0051262_rois_ho.1D\n",
            "Reading timeseries file /content/BrainGNN/data/ABIDE_pcp/cpac/filt_noglobal/50182/SDSU_0050182_rois_ho.1D\n",
            "Reading timeseries file /content/BrainGNN/data/ABIDE_pcp/cpac/filt_noglobal/51050/NYU_0051050_rois_ho.1D\n",
            "Reading timeseries file /content/BrainGNN/data/ABIDE_pcp/cpac/filt_noglobal/51606/MaxMun_a_0051606_rois_ho.1D\n",
            "Reading timeseries file /content/BrainGNN/data/ABIDE_pcp/cpac/filt_noglobal/50344/UM_1_0050344_rois_ho.1D\n",
            "Reading timeseries file /content/BrainGNN/data/ABIDE_pcp/cpac/filt_noglobal/51296/UCLA_2_0051296_rois_ho.1D\n",
            "Reading timeseries file /content/BrainGNN/data/ABIDE_pcp/cpac/filt_noglobal/50981/NYU_0050981_rois_ho.1D\n",
            "Reading timeseries file /content/BrainGNN/data/ABIDE_pcp/cpac/filt_noglobal/50149/OHSU_0050149_rois_ho.1D\n",
            "Reading timeseries file /content/BrainGNN/data/ABIDE_pcp/cpac/filt_noglobal/51254/UCLA_1_0051254_rois_ho.1D\n",
            "Reading timeseries file /content/BrainGNN/data/ABIDE_pcp/cpac/filt_noglobal/50386/UM_2_0050386_rois_ho.1D\n",
            "Reading timeseries file /content/BrainGNN/data/ABIDE_pcp/cpac/filt_noglobal/50988/NYU_0050988_rois_ho.1D\n",
            "Reading timeseries file /content/BrainGNN/data/ABIDE_pcp/cpac/filt_noglobal/51066/NYU_0051066_rois_ho.1D\n",
            "Reading timeseries file /content/BrainGNN/data/ABIDE_pcp/cpac/filt_noglobal/50372/UM_1_0050372_rois_ho.1D\n",
            "Reading timeseries file /content/BrainGNN/data/ABIDE_pcp/cpac/filt_noglobal/50524/USM_0050524_rois_ho.1D\n",
            "Reading timeseries file /content/BrainGNN/data/ABIDE_pcp/cpac/filt_noglobal/51059/NYU_0051059_rois_ho.1D\n",
            "Reading timeseries file /content/BrainGNN/data/ABIDE_pcp/cpac/filt_noglobal/50711/Leuven_1_0050711_rois_ho.1D\n",
            "Reading timeseries file /content/BrainGNN/data/ABIDE_pcp/cpac/filt_noglobal/50523/USM_0050523_rois_ho.1D\n",
            "Reading timeseries file /content/BrainGNN/data/ABIDE_pcp/cpac/filt_noglobal/51095/NYU_0051095_rois_ho.1D\n",
            "Reading timeseries file /content/BrainGNN/data/ABIDE_pcp/cpac/filt_noglobal/50147/OHSU_0050147_rois_ho.1D\n",
            "Reading timeseries file /content/BrainGNN/data/ABIDE_pcp/cpac/filt_noglobal/50375/UM_1_0050375_rois_ho.1D\n",
            "Reading timeseries file /content/BrainGNN/data/ABIDE_pcp/cpac/filt_noglobal/51061/NYU_0051061_rois_ho.1D\n",
            "Reading timeseries file /content/BrainGNN/data/ABIDE_pcp/cpac/filt_noglobal/51253/UCLA_1_0051253_rois_ho.1D\n",
            "Reading timeseries file /content/BrainGNN/data/ABIDE_pcp/cpac/filt_noglobal/50381/UM_1_0050381_rois_ho.1D\n",
            "Reading timeseries file /content/BrainGNN/data/ABIDE_pcp/cpac/filt_noglobal/51298/UCLA_2_0051298_rois_ho.1D\n",
            "Reading timeseries file /content/BrainGNN/data/ABIDE_pcp/cpac/filt_noglobal/51238/UCLA_1_0051238_rois_ho.1D\n",
            "Reading timeseries file /content/BrainGNN/data/ABIDE_pcp/cpac/filt_noglobal/50577/Yale_0050577_rois_ho.1D\n",
            "Reading timeseries file /content/BrainGNN/data/ABIDE_pcp/cpac/filt_noglobal/50745/Leuven_2_0050745_rois_ho.1D\n",
            "Reading timeseries file /content/BrainGNN/data/ABIDE_pcp/cpac/filt_noglobal/50321/UM_1_0050321_rois_ho.1D\n",
            "Reading timeseries file /content/BrainGNN/data/ABIDE_pcp/cpac/filt_noglobal/50113/Olin_0050113_rois_ho.1D\n",
            "Reading timeseries file /content/BrainGNN/data/ABIDE_pcp/cpac/filt_noglobal/51207/UCLA_1_0051207_rois_ho.1D\n",
            "Reading timeseries file /content/BrainGNN/data/ABIDE_pcp/cpac/filt_noglobal/51035/NYU_0051035_rois_ho.1D\n",
            "Reading timeseries file /content/BrainGNN/data/ABIDE_pcp/cpac/filt_noglobal/51469/Caltech_0051469_rois_ho.1D\n",
            "Reading timeseries file /content/BrainGNN/data/ABIDE_pcp/cpac/filt_noglobal/50789/KKI_0050789_rois_ho.1D\n",
            "Reading timeseries file /content/BrainGNN/data/ABIDE_pcp/cpac/filt_noglobal/50319/UM_1_0050319_rois_ho.1D\n",
            "Reading timeseries file /content/BrainGNN/data/ABIDE_pcp/cpac/filt_noglobal/51456/Caltech_0051456_rois_ho.1D\n",
            "Reading timeseries file /content/BrainGNN/data/ABIDE_pcp/cpac/filt_noglobal/51032/NYU_0051032_rois_ho.1D\n",
            "Reading timeseries file /content/BrainGNN/data/ABIDE_pcp/cpac/filt_noglobal/50114/Olin_0050114_rois_ho.1D\n",
            "Reading timeseries file /content/BrainGNN/data/ABIDE_pcp/cpac/filt_noglobal/50326/UM_1_0050326_rois_ho.1D\n",
            "Reading timeseries file /content/BrainGNN/data/ABIDE_pcp/cpac/filt_noglobal/50742/Leuven_2_0050742_rois_ho.1D\n",
            "Reading timeseries file /content/BrainGNN/data/ABIDE_pcp/cpac/filt_noglobal/50570/Yale_0050570_rois_ho.1D\n",
            "Reading timeseries file /content/BrainGNN/data/ABIDE_pcp/cpac/filt_noglobal/51209/UCLA_1_0051209_rois_ho.1D\n",
            "Reading timeseries file /content/BrainGNN/data/ABIDE_pcp/cpac/filt_noglobal/51236/UCLA_1_0051236_rois_ho.1D\n",
            "Reading timeseries file /content/BrainGNN/data/ABIDE_pcp/cpac/filt_noglobal/50780/KKI_0050780_rois_ho.1D\n",
            "Reading timeseries file /content/BrainGNN/data/ABIDE_pcp/cpac/filt_noglobal/51460/Caltech_0051460_rois_ho.1D\n",
            "Reading timeseries file /content/BrainGNN/data/ABIDE_pcp/cpac/filt_noglobal/50774/KKI_0050774_rois_ho.1D\n",
            "Reading timeseries file /content/BrainGNN/data/ABIDE_pcp/cpac/filt_noglobal/50122/Olin_0050122_rois_ho.1D\n",
            "Reading timeseries file /content/BrainGNN/data/ABIDE_pcp/cpac/filt_noglobal/50310/UM_1_0050310_rois_ho.1D\n",
            "Reading timeseries file /content/BrainGNN/data/ABIDE_pcp/cpac/filt_noglobal/51458/Caltech_0051458_rois_ho.1D\n",
            "Reading timeseries file /content/BrainGNN/data/ABIDE_pcp/cpac/filt_noglobal/50317/UM_1_0050317_rois_ho.1D\n",
            "Reading timeseries file /content/BrainGNN/data/ABIDE_pcp/cpac/filt_noglobal/50125/Olin_0050125_rois_ho.1D\n",
            "Reading timeseries file /content/BrainGNN/data/ABIDE_pcp/cpac/filt_noglobal/51493/Caltech_0051493_rois_ho.1D\n",
            "Reading timeseries file /content/BrainGNN/data/ABIDE_pcp/cpac/filt_noglobal/50773/KKI_0050773_rois_ho.1D\n",
            "Reading timeseries file /content/BrainGNN/data/ABIDE_pcp/cpac/filt_noglobal/51467/Caltech_0051467_rois_ho.1D\n",
            "Reading timeseries file /content/BrainGNN/data/ABIDE_pcp/cpac/filt_noglobal/50787/KKI_0050787_rois_ho.1D\n",
            "Reading timeseries file /content/BrainGNN/data/ABIDE_pcp/cpac/filt_noglobal/51231/UCLA_1_0051231_rois_ho.1D\n",
            "Reading timeseries file /content/BrainGNN/data/ABIDE_pcp/cpac/filt_noglobal/51003/NYU_0051003_rois_ho.1D\n",
            "Reading timeseries file /content/BrainGNN/data/ABIDE_pcp/cpac/filt_noglobal/51252/UCLA_1_0051252_rois_ho.1D\n",
            "Reading timeseries file /content/BrainGNN/data/ABIDE_pcp/cpac/filt_noglobal/50380/UM_1_0050380_rois_ho.1D\n",
            "Reading timeseries file /content/BrainGNN/data/ABIDE_pcp/cpac/filt_noglobal/51060/NYU_0051060_rois_ho.1D\n",
            "Reading timeseries file /content/BrainGNN/data/ABIDE_pcp/cpac/filt_noglobal/50710/Leuven_1_0050710_rois_ho.1D\n",
            "Reading timeseries file /content/BrainGNN/data/ABIDE_pcp/cpac/filt_noglobal/50374/UM_1_0050374_rois_ho.1D\n",
            "Reading timeseries file /content/BrainGNN/data/ABIDE_pcp/cpac/filt_noglobal/51094/NYU_0051094_rois_ho.1D\n",
            "Reading timeseries file /content/BrainGNN/data/ABIDE_pcp/cpac/filt_noglobal/50146/OHSU_0050146_rois_ho.1D\n",
            "Reading timeseries file /content/BrainGNN/data/ABIDE_pcp/cpac/filt_noglobal/51299/UCLA_2_0051299_rois_ho.1D\n",
            "Reading timeseries file /content/BrainGNN/data/ABIDE_pcp/cpac/filt_noglobal/51093/NYU_0051093_rois_ho.1D\n",
            "Reading timeseries file /content/BrainGNN/data/ABIDE_pcp/cpac/filt_noglobal/50373/UM_1_0050373_rois_ho.1D\n",
            "Reading timeseries file /content/BrainGNN/data/ABIDE_pcp/cpac/filt_noglobal/50525/USM_0050525_rois_ho.1D\n",
            "Reading timeseries file /content/BrainGNN/data/ABIDE_pcp/cpac/filt_noglobal/51067/NYU_0051067_rois_ho.1D\n",
            "Reading timeseries file /content/BrainGNN/data/ABIDE_pcp/cpac/filt_noglobal/50989/NYU_0050989_rois_ho.1D\n",
            "Reading timeseries file /content/BrainGNN/data/ABIDE_pcp/cpac/filt_noglobal/51255/UCLA_1_0051255_rois_ho.1D\n",
            "Reading timeseries file /content/BrainGNN/data/ABIDE_pcp/cpac/filt_noglobal/50387/UM_2_0050387_rois_ho.1D\n",
            "Reading timeseries file /content/BrainGNN/data/ABIDE_pcp/cpac/filt_noglobal/50728/Leuven_2_0050728_rois_ho.1D\n",
            "Reading timeseries file /content/BrainGNN/data/ABIDE_pcp/cpac/filt_noglobal/51058/NYU_0051058_rois_ho.1D\n",
            "Reading timeseries file /content/BrainGNN/data/ABIDE_pcp/cpac/filt_noglobal/50345/UM_1_0050345_rois_ho.1D\n",
            "Reading timeseries file /content/BrainGNN/data/ABIDE_pcp/cpac/filt_noglobal/51297/UCLA_2_0051297_rois_ho.1D\n",
            "Reading timeseries file /content/BrainGNN/data/ABIDE_pcp/cpac/filt_noglobal/50183/SDSU_0050183_rois_ho.1D\n",
            "Reading timeseries file /content/BrainGNN/data/ABIDE_pcp/cpac/filt_noglobal/51051/NYU_0051051_rois_ho.1D\n",
            "Reading timeseries file /content/BrainGNN/data/ABIDE_pcp/cpac/filt_noglobal/51263/UCLA_1_0051263_rois_ho.1D\n",
            "Reading timeseries file /content/BrainGNN/data/ABIDE_pcp/cpac/filt_noglobal/51607/MaxMun_a_0051607_rois_ho.1D\n",
            "Reading timeseries file /content/BrainGNN/data/ABIDE_pcp/cpac/filt_noglobal/50148/OHSU_0050148_rois_ho.1D\n",
            "Reading timeseries file /content/BrainGNN/data/ABIDE_pcp/cpac/filt_noglobal/50974/NYU_0050974_rois_ho.1D\n",
            "Reading timeseries file /content/BrainGNN/data/ABIDE_pcp/cpac/filt_noglobal/51264/UCLA_1_0051264_rois_ho.1D\n",
            "Reading timeseries file /content/BrainGNN/data/ABIDE_pcp/cpac/filt_noglobal/50184/SDSU_0050184_rois_ho.1D\n",
            "Reading timeseries file /content/BrainGNN/data/ABIDE_pcp/cpac/filt_noglobal/51056/NYU_0051056_rois_ho.1D\n",
            "Reading timeseries file /content/BrainGNN/data/ABIDE_pcp/cpac/filt_noglobal/50342/UM_1_0050342_rois_ho.1D\n",
            "Reading timeseries file /content/BrainGNN/data/ABIDE_pcp/cpac/filt_noglobal/50170/OHSU_0050170_rois_ho.1D\n",
            "Reading timeseries file /content/BrainGNN/data/ABIDE_pcp/cpac/filt_noglobal/50514/USM_0050514_rois_ho.1D\n",
            "Reading timeseries file /content/BrainGNN/data/ABIDE_pcp/cpac/filt_noglobal/50726/Leuven_2_0050726_rois_ho.1D\n",
            "Reading timeseries file /content/BrainGNN/data/ABIDE_pcp/cpac/filt_noglobal/51069/NYU_0051069_rois_ho.1D\n",
            "Reading timeseries file /content/BrainGNN/data/ABIDE_pcp/cpac/filt_noglobal/50987/NYU_0050987_rois_ho.1D\n",
            "Reading timeseries file /content/BrainGNN/data/ABIDE_pcp/cpac/filt_noglobal/50973/NYU_0050973_rois_ho.1D\n",
            "Reading timeseries file /content/BrainGNN/data/ABIDE_pcp/cpac/filt_noglobal/51459/Caltech_0051459_rois_ho.1D\n",
            "Reading timeseries file /content/BrainGNN/data/ABIDE_pcp/cpac/filt_noglobal/50329/UM_1_0050329_rois_ho.1D\n",
            "Reading timeseries file /content/BrainGNN/data/ABIDE_pcp/cpac/filt_noglobal/50786/KKI_0050786_rois_ho.1D\n",
            "Reading timeseries file /content/BrainGNN/data/ABIDE_pcp/cpac/filt_noglobal/51466/Caltech_0051466_rois_ho.1D\n",
            "Reading timeseries file /content/BrainGNN/data/ABIDE_pcp/cpac/filt_noglobal/51002/NYU_0051002_rois_ho.1D\n",
            "Reading timeseries file /content/BrainGNN/data/ABIDE_pcp/cpac/filt_noglobal/51230/UCLA_1_0051230_rois_ho.1D\n",
            "Reading timeseries file /content/BrainGNN/data/ABIDE_pcp/cpac/filt_noglobal/50124/Olin_0050124_rois_ho.1D\n",
            "Reading timeseries file /content/BrainGNN/data/ABIDE_pcp/cpac/filt_noglobal/50316/UM_1_0050316_rois_ho.1D\n",
            "Reading timeseries file /content/BrainGNN/data/ABIDE_pcp/cpac/filt_noglobal/50772/KKI_0050772_rois_ho.1D\n",
            "Reading timeseries file /content/BrainGNN/data/ABIDE_pcp/cpac/filt_noglobal/51492/Caltech_0051492_rois_ho.1D\n",
            "Reading timeseries file /content/BrainGNN/data/ABIDE_pcp/cpac/filt_noglobal/50578/Yale_0050578_rois_ho.1D\n",
            "Reading timeseries file /content/BrainGNN/data/ABIDE_pcp/cpac/filt_noglobal/51208/UCLA_1_0051208_rois_ho.1D\n",
            "Reading timeseries file /content/BrainGNN/data/ABIDE_pcp/cpac/filt_noglobal/50775/KKI_0050775_rois_ho.1D\n",
            "Reading timeseries file /content/BrainGNN/data/ABIDE_pcp/cpac/filt_noglobal/50311/UM_1_0050311_rois_ho.1D\n",
            "Reading timeseries file /content/BrainGNN/data/ABIDE_pcp/cpac/filt_noglobal/50123/Olin_0050123_rois_ho.1D\n",
            "Reading timeseries file /content/BrainGNN/data/ABIDE_pcp/cpac/filt_noglobal/51237/UCLA_1_0051237_rois_ho.1D\n",
            "Reading timeseries file /content/BrainGNN/data/ABIDE_pcp/cpac/filt_noglobal/51461/Caltech_0051461_rois_ho.1D\n",
            "Reading timeseries file /content/BrainGNN/data/ABIDE_pcp/cpac/filt_noglobal/50781/KKI_0050781_rois_ho.1D\n",
            "Reading timeseries file /content/BrainGNN/data/ABIDE_pcp/cpac/filt_noglobal/50318/UM_1_0050318_rois_ho.1D\n",
            "Reading timeseries file /content/BrainGNN/data/ABIDE_pcp/cpac/filt_noglobal/50788/KKI_0050788_rois_ho.1D\n",
            "Reading timeseries file /content/BrainGNN/data/ABIDE_pcp/cpac/filt_noglobal/51468/Caltech_0051468_rois_ho.1D\n",
            "Reading timeseries file /content/BrainGNN/data/ABIDE_pcp/cpac/filt_noglobal/50327/UM_1_0050327_rois_ho.1D\n",
            "Reading timeseries file /content/BrainGNN/data/ABIDE_pcp/cpac/filt_noglobal/50115/Olin_0050115_rois_ho.1D\n",
            "Reading timeseries file /content/BrainGNN/data/ABIDE_pcp/cpac/filt_noglobal/50571/Yale_0050571_rois_ho.1D\n",
            "Reading timeseries file /content/BrainGNN/data/ABIDE_pcp/cpac/filt_noglobal/50743/Leuven_2_0050743_rois_ho.1D\n",
            "Reading timeseries file /content/BrainGNN/data/ABIDE_pcp/cpac/filt_noglobal/51457/Caltech_0051457_rois_ho.1D\n",
            "Reading timeseries file /content/BrainGNN/data/ABIDE_pcp/cpac/filt_noglobal/51201/UCLA_1_0051201_rois_ho.1D\n",
            "Reading timeseries file /content/BrainGNN/data/ABIDE_pcp/cpac/filt_noglobal/51033/NYU_0051033_rois_ho.1D\n",
            "Reading timeseries file /content/BrainGNN/data/ABIDE_pcp/cpac/filt_noglobal/51239/UCLA_1_0051239_rois_ho.1D\n",
            "Reading timeseries file /content/BrainGNN/data/ABIDE_pcp/cpac/filt_noglobal/51034/NYU_0051034_rois_ho.1D\n",
            "Reading timeseries file /content/BrainGNN/data/ABIDE_pcp/cpac/filt_noglobal/51206/UCLA_1_0051206_rois_ho.1D\n",
            "Reading timeseries file /content/BrainGNN/data/ABIDE_pcp/cpac/filt_noglobal/50744/Leuven_2_0050744_rois_ho.1D\n",
            "Reading timeseries file /content/BrainGNN/data/ABIDE_pcp/cpac/filt_noglobal/50576/Yale_0050576_rois_ho.1D\n",
            "Reading timeseries file /content/BrainGNN/data/ABIDE_pcp/cpac/filt_noglobal/50112/Olin_0050112_rois_ho.1D\n",
            "Reading timeseries file /content/BrainGNN/data/ABIDE_pcp/cpac/filt_noglobal/50320/UM_1_0050320_rois_ho.1D\n",
            "Reading timeseries file /content/BrainGNN/data/ABIDE_pcp/cpac/filt_noglobal/50060/Pitt_0050060_rois_ho.1D\n",
            "Reading timeseries file /content/BrainGNN/data/ABIDE_pcp/cpac/filt_noglobal/50252/Trinity_0050252_rois_ho.1D\n",
            "Reading timeseries file /content/BrainGNN/data/ABIDE_pcp/cpac/filt_noglobal/50404/UM_2_0050404_rois_ho.1D\n",
            "Reading timeseries file /content/BrainGNN/data/ABIDE_pcp/cpac/filt_noglobal/51146/NYU_0051146_rois_ho.1D\n",
            "Reading timeseries file /content/BrainGNN/data/ABIDE_pcp/cpac/filt_noglobal/50609/Yale_0050609_rois_ho.1D\n",
            "Reading timeseries file /content/BrainGNN/data/ABIDE_pcp/cpac/filt_noglobal/50299/UM_1_0050299_rois_ho.1D\n",
            "Reading timeseries file /content/BrainGNN/data/ABIDE_pcp/cpac/filt_noglobal/51179/Stanford_0051179_rois_ho.1D\n",
            "Reading timeseries file /content/BrainGNN/data/ABIDE_pcp/cpac/filt_noglobal/51373/MaxMun_a_0051373_rois_ho.1D\n",
            "Reading timeseries file /content/BrainGNN/data/ABIDE_pcp/cpac/filt_noglobal/51141/Trinity_0051141_rois_ho.1D\n",
            "Reading timeseries file /content/BrainGNN/data/ABIDE_pcp/cpac/filt_noglobal/50403/UM_2_0050403_rois_ho.1D\n",
            "Reading timeseries file /content/BrainGNN/data/ABIDE_pcp/cpac/filt_noglobal/50255/Trinity_0050255_rois_ho.1D\n",
            "Reading timeseries file /content/BrainGNN/data/ABIDE_pcp/cpac/filt_noglobal/50058/Pitt_0050058_rois_ho.1D\n",
            "Reading timeseries file /content/BrainGNN/data/ABIDE_pcp/cpac/filt_noglobal/50297/UM_1_0050297_rois_ho.1D\n",
            "Reading timeseries file /content/BrainGNN/data/ABIDE_pcp/cpac/filt_noglobal/51345/MaxMun_c_0051345_rois_ho.1D\n",
            "Reading timeseries file /content/BrainGNN/data/ABIDE_pcp/cpac/filt_noglobal/51177/Stanford_0051177_rois_ho.1D\n",
            "Reading timeseries file /content/BrainGNN/data/ABIDE_pcp/cpac/filt_noglobal/50263/Trinity_0050263_rois_ho.1D\n",
            "Reading timeseries file /content/BrainGNN/data/ABIDE_pcp/cpac/filt_noglobal/50051/Pitt_0050051_rois_ho.1D\n",
            "Reading timeseries file /content/BrainGNN/data/ABIDE_pcp/cpac/filt_noglobal/51183/Stanford_0051183_rois_ho.1D\n",
            "Reading timeseries file /content/BrainGNN/data/ABIDE_pcp/cpac/filt_noglobal/50435/USM_0050435_rois_ho.1D\n",
            "Reading timeseries file /content/BrainGNN/data/ABIDE_pcp/cpac/filt_noglobal/50607/Yale_0050607_rois_ho.1D\n",
            "Reading timeseries file /content/BrainGNN/data/ABIDE_pcp/cpac/filt_noglobal/51148/NYU_0051148_rois_ho.1D\n",
            "Reading timeseries file /content/BrainGNN/data/ABIDE_pcp/cpac/filt_noglobal/50056/Pitt_0050056_rois_ho.1D\n",
            "Reading timeseries file /content/BrainGNN/data/ABIDE_pcp/cpac/filt_noglobal/51184/Stanford_0051184_rois_ho.1D\n",
            "Reading timeseries file /content/BrainGNN/data/ABIDE_pcp/cpac/filt_noglobal/50264/Trinity_0050264_rois_ho.1D\n",
            "Reading timeseries file /content/BrainGNN/data/ABIDE_pcp/cpac/filt_noglobal/51170/Stanford_0051170_rois_ho.1D\n",
            "Reading timeseries file /content/BrainGNN/data/ABIDE_pcp/cpac/filt_noglobal/50290/UM_1_0050290_rois_ho.1D\n",
            "Reading timeseries file /content/BrainGNN/data/ABIDE_pcp/cpac/filt_noglobal/51342/MaxMun_c_0051342_rois_ho.1D\n",
            "Reading timeseries file /content/BrainGNN/data/ABIDE_pcp/cpac/filt_noglobal/50801/KKI_0050801_rois_ho.1D\n",
            "Reading timeseries file /content/BrainGNN/data/ABIDE_pcp/cpac/filt_noglobal/51329/MaxMun_d_0051329_rois_ho.1D\n",
            "Reading timeseries file /content/BrainGNN/data/ABIDE_pcp/cpac/filt_noglobal/50466/USM_0050466_rois_ho.1D\n",
            "Reading timeseries file /content/BrainGNN/data/ABIDE_pcp/cpac/filt_noglobal/50654/CMU_a_0050654_rois_ho.1D\n",
            "Reading timeseries file /content/BrainGNN/data/ABIDE_pcp/cpac/filt_noglobal/51316/UCLA_2_0051316_rois_ho.1D\n",
            "Reading timeseries file /content/BrainGNN/data/ABIDE_pcp/cpac/filt_noglobal/51124/NYU_0051124_rois_ho.1D\n",
            "Reading timeseries file /content/BrainGNN/data/ABIDE_pcp/cpac/filt_noglobal/50492/USM_0050492_rois_ho.1D\n",
            "Reading timeseries file /content/BrainGNN/data/ABIDE_pcp/cpac/filt_noglobal/51578/SBL_0051578_rois_ho.1D\n",
            "Reading timeseries file /content/BrainGNN/data/ABIDE_pcp/cpac/filt_noglobal/50698/Leuven_1_0050698_rois_ho.1D\n",
            "Reading timeseries file /content/BrainGNN/data/ABIDE_pcp/cpac/filt_noglobal/50208/SDSU_0050208_rois_ho.1D\n",
            "Reading timeseries file /content/BrainGNN/data/ABIDE_pcp/cpac/filt_noglobal/51123/NYU_0051123_rois_ho.1D\n",
            "Reading timeseries file /content/BrainGNN/data/ABIDE_pcp/cpac/filt_noglobal/51311/UCLA_2_0051311_rois_ho.1D\n",
            "Reading timeseries file /content/BrainGNN/data/ABIDE_pcp/cpac/filt_noglobal/50005/Pitt_0050005_rois_ho.1D\n",
            "Reading timeseries file /content/BrainGNN/data/ABIDE_pcp/cpac/filt_noglobal/50237/Trinity_0050237_rois_ho.1D\n",
            "Reading timeseries file /content/BrainGNN/data/ABIDE_pcp/cpac/filt_noglobal/50653/CMU_a_0050653_rois_ho.1D\n",
            "Reading timeseries file /content/BrainGNN/data/ABIDE_pcp/cpac/filt_noglobal/51318/MaxMun_a_0051318_rois_ho.1D\n",
            "Reading timeseries file /content/BrainGNN/data/ABIDE_pcp/cpac/filt_noglobal/50468/USM_0050468_rois_ho.1D\n",
            "Reading timeseries file /content/BrainGNN/data/ABIDE_pcp/cpac/filt_noglobal/51327/MaxMun_b_0051327_rois_ho.1D\n",
            "Reading timeseries file /content/BrainGNN/data/ABIDE_pcp/cpac/filt_noglobal/50691/Leuven_1_0050691_rois_ho.1D\n",
            "Reading timeseries file /content/BrainGNN/data/ABIDE_pcp/cpac/filt_noglobal/51571/SBL_0051571_rois_ho.1D\n",
            "Reading timeseries file /content/BrainGNN/data/ABIDE_pcp/cpac/filt_noglobal/50665/CMU_a_0050665_rois_ho.1D\n",
            "Reading timeseries file /content/BrainGNN/data/ABIDE_pcp/cpac/filt_noglobal/51585/SBL_0051585_rois_ho.1D\n",
            "Reading timeseries file /content/BrainGNN/data/ABIDE_pcp/cpac/filt_noglobal/50033/Pitt_0050033_rois_ho.1D\n",
            "Reading timeseries file /content/BrainGNN/data/ABIDE_pcp/cpac/filt_noglobal/50201/SDSU_0050201_rois_ho.1D\n",
            "Reading timeseries file /content/BrainGNN/data/ABIDE_pcp/cpac/filt_noglobal/50239/Trinity_0050239_rois_ho.1D\n",
            "Reading timeseries file /content/BrainGNN/data/ABIDE_pcp/cpac/filt_noglobal/50206/SDSU_0050206_rois_ho.1D\n",
            "Reading timeseries file /content/BrainGNN/data/ABIDE_pcp/cpac/filt_noglobal/50034/Pitt_0050034_rois_ho.1D\n",
            "Reading timeseries file /content/BrainGNN/data/ABIDE_pcp/cpac/filt_noglobal/51582/SBL_0051582_rois_ho.1D\n",
            "Reading timeseries file /content/BrainGNN/data/ABIDE_pcp/cpac/filt_noglobal/51576/SBL_0051576_rois_ho.1D\n",
            "Reading timeseries file /content/BrainGNN/data/ABIDE_pcp/cpac/filt_noglobal/50696/Leuven_1_0050696_rois_ho.1D\n",
            "Reading timeseries file /content/BrainGNN/data/ABIDE_pcp/cpac/filt_noglobal/51320/MaxMun_a_0051320_rois_ho.1D\n",
            "Reading timeseries file /content/BrainGNN/data/ABIDE_pcp/cpac/filt_noglobal/51112/NYU_0051112_rois_ho.1D\n",
            "Reading timeseries file /content/BrainGNN/data/ABIDE_pcp/cpac/filt_noglobal/50291/UM_1_0050291_rois_ho.1D\n",
            "Reading timeseries file /content/BrainGNN/data/ABIDE_pcp/cpac/filt_noglobal/51343/MaxMun_c_0051343_rois_ho.1D\n",
            "Reading timeseries file /content/BrainGNN/data/ABIDE_pcp/cpac/filt_noglobal/51171/Stanford_0051171_rois_ho.1D\n",
            "Reading timeseries file /content/BrainGNN/data/ABIDE_pcp/cpac/filt_noglobal/50433/USM_0050433_rois_ho.1D\n",
            "Reading timeseries file /content/BrainGNN/data/ABIDE_pcp/cpac/filt_noglobal/50601/Yale_0050601_rois_ho.1D\n",
            "Reading timeseries file /content/BrainGNN/data/ABIDE_pcp/cpac/filt_noglobal/50265/Trinity_0050265_rois_ho.1D\n",
            "Reading timeseries file /content/BrainGNN/data/ABIDE_pcp/cpac/filt_noglobal/50057/Pitt_0050057_rois_ho.1D\n",
            "Reading timeseries file /content/BrainGNN/data/ABIDE_pcp/cpac/filt_noglobal/51185/Stanford_0051185_rois_ho.1D\n",
            "Reading timeseries file /content/BrainGNN/data/ABIDE_pcp/cpac/filt_noglobal/50050/Pitt_0050050_rois_ho.1D\n",
            "Reading timeseries file /content/BrainGNN/data/ABIDE_pcp/cpac/filt_noglobal/51182/Stanford_0051182_rois_ho.1D\n",
            "Reading timeseries file /content/BrainGNN/data/ABIDE_pcp/cpac/filt_noglobal/50262/Trinity_0050262_rois_ho.1D\n",
            "Reading timeseries file /content/BrainGNN/data/ABIDE_pcp/cpac/filt_noglobal/50606/Yale_0050606_rois_ho.1D\n",
            "Reading timeseries file /content/BrainGNN/data/ABIDE_pcp/cpac/filt_noglobal/50434/USM_0050434_rois_ho.1D\n",
            "Reading timeseries file /content/BrainGNN/data/ABIDE_pcp/cpac/filt_noglobal/50296/UM_1_0050296_rois_ho.1D\n",
            "Reading timeseries file /content/BrainGNN/data/ABIDE_pcp/cpac/filt_noglobal/51344/MaxMun_c_0051344_rois_ho.1D\n",
            "Reading timeseries file /content/BrainGNN/data/ABIDE_pcp/cpac/filt_noglobal/51149/NYU_0051149_rois_ho.1D\n",
            "Reading timeseries file /content/BrainGNN/data/ABIDE_pcp/cpac/filt_noglobal/50402/UM_2_0050402_rois_ho.1D\n",
            "Reading timeseries file /content/BrainGNN/data/ABIDE_pcp/cpac/filt_noglobal/50254/Trinity_0050254_rois_ho.1D\n",
            "Reading timeseries file /content/BrainGNN/data/ABIDE_pcp/cpac/filt_noglobal/51140/Trinity_0051140_rois_ho.1D\n",
            "Reading timeseries file /content/BrainGNN/data/ABIDE_pcp/cpac/filt_noglobal/50059/Pitt_0050059_rois_ho.1D\n",
            "Reading timeseries file /content/BrainGNN/data/ABIDE_pcp/cpac/filt_noglobal/51147/NYU_0051147_rois_ho.1D\n",
            "Reading timeseries file /content/BrainGNN/data/ABIDE_pcp/cpac/filt_noglobal/50253/Trinity_0050253_rois_ho.1D\n",
            "Reading timeseries file /content/BrainGNN/data/ABIDE_pcp/cpac/filt_noglobal/50405/UM_2_0050405_rois_ho.1D\n",
            "Reading timeseries file /content/BrainGNN/data/ABIDE_pcp/cpac/filt_noglobal/51178/Stanford_0051178_rois_ho.1D\n",
            "Reading timeseries file /content/BrainGNN/data/ABIDE_pcp/cpac/filt_noglobal/50298/UM_1_0050298_rois_ho.1D\n",
            "Reading timeseries file /content/BrainGNN/data/ABIDE_pcp/cpac/filt_noglobal/50608/Yale_0050608_rois_ho.1D\n",
            "Reading timeseries file /content/BrainGNN/data/ABIDE_pcp/cpac/filt_noglobal/50697/Leuven_1_0050697_rois_ho.1D\n",
            "Reading timeseries file /content/BrainGNN/data/ABIDE_pcp/cpac/filt_noglobal/51577/SBL_0051577_rois_ho.1D\n",
            "Reading timeseries file /content/BrainGNN/data/ABIDE_pcp/cpac/filt_noglobal/51113/NYU_0051113_rois_ho.1D\n",
            "Reading timeseries file /content/BrainGNN/data/ABIDE_pcp/cpac/filt_noglobal/51321/MaxMun_a_0051321_rois_ho.1D\n",
            "Reading timeseries file /content/BrainGNN/data/ABIDE_pcp/cpac/filt_noglobal/50035/Pitt_0050035_rois_ho.1D\n",
            "Reading timeseries file /content/BrainGNN/data/ABIDE_pcp/cpac/filt_noglobal/50207/SDSU_0050207_rois_ho.1D\n",
            "Reading timeseries file /content/BrainGNN/data/ABIDE_pcp/cpac/filt_noglobal/50663/CMU_a_0050663_rois_ho.1D\n",
            "Reading timeseries file /content/BrainGNN/data/ABIDE_pcp/cpac/filt_noglobal/51583/SBL_0051583_rois_ho.1D\n",
            "Reading timeseries file /content/BrainGNN/data/ABIDE_pcp/cpac/filt_noglobal/50469/USM_0050469_rois_ho.1D\n",
            "Reading timeseries file /content/BrainGNN/data/ABIDE_pcp/cpac/filt_noglobal/51319/MaxMun_a_0051319_rois_ho.1D\n",
            "Reading timeseries file /content/BrainGNN/data/ABIDE_pcp/cpac/filt_noglobal/51584/SBL_0051584_rois_ho.1D\n",
            "Reading timeseries file /content/BrainGNN/data/ABIDE_pcp/cpac/filt_noglobal/50664/CMU_a_0050664_rois_ho.1D\n",
            "Reading timeseries file /content/BrainGNN/data/ABIDE_pcp/cpac/filt_noglobal/50200/SDSU_0050200_rois_ho.1D\n",
            "Reading timeseries file /content/BrainGNN/data/ABIDE_pcp/cpac/filt_noglobal/50032/Pitt_0050032_rois_ho.1D\n",
            "Reading timeseries file /content/BrainGNN/data/ABIDE_pcp/cpac/filt_noglobal/51326/MaxMun_b_0051326_rois_ho.1D\n",
            "Reading timeseries file /content/BrainGNN/data/ABIDE_pcp/cpac/filt_noglobal/51114/NYU_0051114_rois_ho.1D\n",
            "Reading timeseries file /content/BrainGNN/data/ABIDE_pcp/cpac/filt_noglobal/51570/SBL_0051570_rois_ho.1D\n",
            "Reading timeseries file /content/BrainGNN/data/ABIDE_pcp/cpac/filt_noglobal/50690/Leuven_1_0050690_rois_ho.1D\n",
            "Reading timeseries file /content/BrainGNN/data/ABIDE_pcp/cpac/filt_noglobal/50807/KKI_0050807_rois_ho.1D\n",
            "Reading timeseries file /content/BrainGNN/data/ABIDE_pcp/cpac/filt_noglobal/50209/SDSU_0050209_rois_ho.1D\n",
            "Reading timeseries file /content/BrainGNN/data/ABIDE_pcp/cpac/filt_noglobal/50699/Leuven_1_0050699_rois_ho.1D\n",
            "Reading timeseries file /content/BrainGNN/data/ABIDE_pcp/cpac/filt_noglobal/51579/SBL_0051579_rois_ho.1D\n",
            "Reading timeseries file /content/BrainGNN/data/ABIDE_pcp/cpac/filt_noglobal/50236/Trinity_0050236_rois_ho.1D\n",
            "Reading timeseries file /content/BrainGNN/data/ABIDE_pcp/cpac/filt_noglobal/50004/Pitt_0050004_rois_ho.1D\n",
            "Reading timeseries file /content/BrainGNN/data/ABIDE_pcp/cpac/filt_noglobal/50652/CMU_b_0050652_rois_ho.1D\n",
            "Reading timeseries file /content/BrainGNN/data/ABIDE_pcp/cpac/filt_noglobal/50494/USM_0050494_rois_ho.1D\n",
            "Reading timeseries file /content/BrainGNN/data/ABIDE_pcp/cpac/filt_noglobal/51122/NYU_0051122_rois_ho.1D\n",
            "Reading timeseries file /content/BrainGNN/data/ABIDE_pcp/cpac/filt_noglobal/51328/MaxMun_c_0051328_rois_ho.1D\n",
            "Reading timeseries file /content/BrainGNN/data/ABIDE_pcp/cpac/filt_noglobal/50800/KKI_0050800_rois_ho.1D\n",
            "Reading timeseries file /content/BrainGNN/data/ABIDE_pcp/cpac/filt_noglobal/51317/UCLA_2_0051317_rois_ho.1D\n",
            "Reading timeseries file /content/BrainGNN/data/ABIDE_pcp/cpac/filt_noglobal/50493/USM_0050493_rois_ho.1D\n",
            "Reading timeseries file /content/BrainGNN/data/ABIDE_pcp/cpac/filt_noglobal/50655/CMU_b_0050655_rois_ho.1D\n",
            "Reading timeseries file /content/BrainGNN/data/ABIDE_pcp/cpac/filt_noglobal/50467/USM_0050467_rois_ho.1D\n",
            "Reading timeseries file /content/BrainGNN/data/ABIDE_pcp/cpac/filt_noglobal/50003/Pitt_0050003_rois_ho.1D\n",
            "Reading timeseries file /content/BrainGNN/data/ABIDE_pcp/cpac/filt_noglobal/51563/SBL_0051563_rois_ho.1D\n",
            "Reading timeseries file /content/BrainGNN/data/ABIDE_pcp/cpac/filt_noglobal/50683/Leuven_1_0050683_rois_ho.1D\n",
            "Reading timeseries file /content/BrainGNN/data/ABIDE_pcp/cpac/filt_noglobal/51335/MaxMun_c_0051335_rois_ho.1D\n",
            "Reading timeseries file /content/BrainGNN/data/ABIDE_pcp/cpac/filt_noglobal/51107/NYU_0051107_rois_ho.1D\n",
            "Reading timeseries file /content/BrainGNN/data/ABIDE_pcp/cpac/filt_noglobal/50213/SDSU_0050213_rois_ho.1D\n",
            "Reading timeseries file /content/BrainGNN/data/ABIDE_pcp/cpac/filt_noglobal/50445/USM_0050445_rois_ho.1D\n",
            "Reading timeseries file /content/BrainGNN/data/ABIDE_pcp/cpac/filt_noglobal/51138/Trinity_0051138_rois_ho.1D\n",
            "Reading timeseries file /content/BrainGNN/data/ABIDE_pcp/cpac/filt_noglobal/50648/CMU_b_0050648_rois_ho.1D\n",
            "Reading timeseries file /content/BrainGNN/data/ABIDE_pcp/cpac/filt_noglobal/50822/KKI_0050822_rois_ho.1D\n",
            "Reading timeseries file /content/BrainGNN/data/ABIDE_pcp/cpac/filt_noglobal/50442/USM_0050442_rois_ho.1D\n",
            "Reading timeseries file /content/BrainGNN/data/ABIDE_pcp/cpac/filt_noglobal/50026/Pitt_0050026_rois_ho.1D\n",
            "Reading timeseries file /content/BrainGNN/data/ABIDE_pcp/cpac/filt_noglobal/50214/SDSU_0050214_rois_ho.1D\n",
            "Reading timeseries file /content/BrainGNN/data/ABIDE_pcp/cpac/filt_noglobal/51100/NYU_0051100_rois_ho.1D\n",
            "Reading timeseries file /content/BrainGNN/data/ABIDE_pcp/cpac/filt_noglobal/51332/MaxMun_c_0051332_rois_ho.1D\n",
            "Reading timeseries file /content/BrainGNN/data/ABIDE_pcp/cpac/filt_noglobal/51564/SBL_0051564_rois_ho.1D\n",
            "Reading timeseries file /content/BrainGNN/data/ABIDE_pcp/cpac/filt_noglobal/50019/Pitt_0050019_rois_ho.1D\n",
            "Reading timeseries file /content/BrainGNN/data/ABIDE_pcp/cpac/filt_noglobal/50825/KKI_0050825_rois_ho.1D\n",
            "Reading timeseries file /content/BrainGNN/data/ABIDE_pcp/cpac/filt_noglobal/50489/USM_0050489_rois_ho.1D\n",
            "Reading timeseries file /content/BrainGNN/data/ABIDE_pcp/cpac/filt_noglobal/50010/Pitt_0050010_rois_ho.1D\n",
            "Reading timeseries file /content/BrainGNN/data/ABIDE_pcp/cpac/filt_noglobal/50646/CMU_a_0050646_rois_ho.1D\n",
            "Reading timeseries file /content/BrainGNN/data/ABIDE_pcp/cpac/filt_noglobal/50480/USM_0050480_rois_ho.1D\n",
            "Reading timeseries file /content/BrainGNN/data/ABIDE_pcp/cpac/filt_noglobal/51136/Trinity_0051136_rois_ho.1D\n",
            "Reading timeseries file /content/BrainGNN/data/ABIDE_pcp/cpac/filt_noglobal/51304/UCLA_2_0051304_rois_ho.1D\n",
            "Reading timeseries file /content/BrainGNN/data/ABIDE_pcp/cpac/filt_noglobal/51109/NYU_0051109_rois_ho.1D\n",
            "Reading timeseries file /content/BrainGNN/data/ABIDE_pcp/cpac/filt_noglobal/51303/UCLA_2_0051303_rois_ho.1D\n",
            "Reading timeseries file /content/BrainGNN/data/ABIDE_pcp/cpac/filt_noglobal/51131/NYU_0051131_rois_ho.1D\n",
            "Reading timeseries file /content/BrainGNN/data/ABIDE_pcp/cpac/filt_noglobal/50487/USM_0050487_rois_ho.1D\n",
            "Reading timeseries file /content/BrainGNN/data/ABIDE_pcp/cpac/filt_noglobal/50017/Pitt_0050017_rois_ho.1D\n",
            "Reading timeseries file /content/BrainGNN/data/ABIDE_pcp/cpac/filt_noglobal/50028/Pitt_0050028_rois_ho.1D\n",
            "Reading timeseries file /content/BrainGNN/data/ABIDE_pcp/cpac/filt_noglobal/50814/KKI_0050814_rois_ho.1D\n",
            "Reading timeseries file /content/BrainGNN/data/ABIDE_pcp/cpac/filt_noglobal/50418/UM_2_0050418_rois_ho.1D\n",
            "Reading timeseries file /content/BrainGNN/data/ABIDE_pcp/cpac/filt_noglobal/51165/Stanford_0051165_rois_ho.1D\n",
            "Reading timeseries file /content/BrainGNN/data/ABIDE_pcp/cpac/filt_noglobal/50285/UM_1_0050285_rois_ho.1D\n",
            "Reading timeseries file /content/BrainGNN/data/ABIDE_pcp/cpac/filt_noglobal/51357/MaxMun_d_0051357_rois_ho.1D\n",
            "Reading timeseries file /content/BrainGNN/data/ABIDE_pcp/cpac/filt_noglobal/50615/Yale_0050615_rois_ho.1D\n",
            "Reading timeseries file /content/BrainGNN/data/ABIDE_pcp/cpac/filt_noglobal/50427/UM_2_0050427_rois_ho.1D\n",
            "Reading timeseries file /content/BrainGNN/data/ABIDE_pcp/cpac/filt_noglobal/50043/Pitt_0050043_rois_ho.1D\n",
            "Reading timeseries file /content/BrainGNN/data/ABIDE_pcp/cpac/filt_noglobal/51191/Stanford_0051191_rois_ho.1D\n",
            "Reading timeseries file /content/BrainGNN/data/ABIDE_pcp/cpac/filt_noglobal/50271/Trinity_0050271_rois_ho.1D\n",
            "Reading timeseries file /content/BrainGNN/data/ABIDE_pcp/cpac/filt_noglobal/50249/Trinity_0050249_rois_ho.1D\n",
            "Reading timeseries file /content/BrainGNN/data/ABIDE_pcp/cpac/filt_noglobal/50276/UM_1_0050276_rois_ho.1D\n",
            "Reading timeseries file /content/BrainGNN/data/ABIDE_pcp/cpac/filt_noglobal/50044/Pitt_0050044_rois_ho.1D\n",
            "Reading timeseries file /content/BrainGNN/data/ABIDE_pcp/cpac/filt_noglobal/51196/Stanford_0051196_rois_ho.1D\n",
            "Reading timeseries file /content/BrainGNN/data/ABIDE_pcp/cpac/filt_noglobal/50612/Yale_0050612_rois_ho.1D\n",
            "Reading timeseries file /content/BrainGNN/data/ABIDE_pcp/cpac/filt_noglobal/50282/UM_1_0050282_rois_ho.1D\n",
            "Reading timeseries file /content/BrainGNN/data/ABIDE_pcp/cpac/filt_noglobal/51350/MaxMun_d_0051350_rois_ho.1D\n",
            "Reading timeseries file /content/BrainGNN/data/ABIDE_pcp/cpac/filt_noglobal/51162/Stanford_0051162_rois_ho.1D\n",
            "Reading timeseries file /content/BrainGNN/data/ABIDE_pcp/cpac/filt_noglobal/51359/MaxMun_d_0051359_rois_ho.1D\n",
            "Reading timeseries file /content/BrainGNN/data/ABIDE_pcp/cpac/filt_noglobal/50416/UM_2_0050416_rois_ho.1D\n",
            "Reading timeseries file /content/BrainGNN/data/ABIDE_pcp/cpac/filt_noglobal/50624/Yale_0050624_rois_ho.1D\n",
            "Reading timeseries file /content/BrainGNN/data/ABIDE_pcp/cpac/filt_noglobal/50240/Trinity_0050240_rois_ho.1D\n",
            "Reading timeseries file /content/BrainGNN/data/ABIDE_pcp/cpac/filt_noglobal/51154/NYU_0051154_rois_ho.1D\n",
            "Reading timeseries file /content/BrainGNN/data/ABIDE_pcp/cpac/filt_noglobal/50278/UM_1_0050278_rois_ho.1D\n",
            "Reading timeseries file /content/BrainGNN/data/ABIDE_pcp/cpac/filt_noglobal/51198/Stanford_0051198_rois_ho.1D\n",
            "Reading timeseries file /content/BrainGNN/data/ABIDE_pcp/cpac/filt_noglobal/51153/NYU_0051153_rois_ho.1D\n",
            "Reading timeseries file /content/BrainGNN/data/ABIDE_pcp/cpac/filt_noglobal/51361/MaxMun_d_0051361_rois_ho.1D\n",
            "Reading timeseries file /content/BrainGNN/data/ABIDE_pcp/cpac/filt_noglobal/50247/Trinity_0050247_rois_ho.1D\n",
            "Reading timeseries file /content/BrainGNN/data/ABIDE_pcp/cpac/filt_noglobal/50623/Yale_0050623_rois_ho.1D\n",
            "Reading timeseries file /content/BrainGNN/data/ABIDE_pcp/cpac/filt_noglobal/50411/UM_2_0050411_rois_ho.1D\n",
            "Reading timeseries file /content/BrainGNN/data/ABIDE_pcp/cpac/filt_noglobal/50016/Pitt_0050016_rois_ho.1D\n",
            "Reading timeseries file /content/BrainGNN/data/ABIDE_pcp/cpac/filt_noglobal/51130/NYU_0051130_rois_ho.1D\n",
            "Reading timeseries file /content/BrainGNN/data/ABIDE_pcp/cpac/filt_noglobal/51302/UCLA_2_0051302_rois_ho.1D\n",
            "Reading timeseries file /content/BrainGNN/data/ABIDE_pcp/cpac/filt_noglobal/50486/USM_0050486_rois_ho.1D\n",
            "Reading timeseries file /content/BrainGNN/data/ABIDE_pcp/cpac/filt_noglobal/50815/KKI_0050815_rois_ho.1D\n",
            "Reading timeseries file /content/BrainGNN/data/ABIDE_pcp/cpac/filt_noglobal/50029/Pitt_0050029_rois_ho.1D\n",
            "Reading timeseries file /content/BrainGNN/data/ABIDE_pcp/cpac/filt_noglobal/50481/USM_0050481_rois_ho.1D\n",
            "Reading timeseries file /content/BrainGNN/data/ABIDE_pcp/cpac/filt_noglobal/51305/UCLA_2_0051305_rois_ho.1D\n",
            "Reading timeseries file /content/BrainGNN/data/ABIDE_pcp/cpac/filt_noglobal/51137/Trinity_0051137_rois_ho.1D\n",
            "Reading timeseries file /content/BrainGNN/data/ABIDE_pcp/cpac/filt_noglobal/50011/Pitt_0050011_rois_ho.1D\n",
            "Reading timeseries file /content/BrainGNN/data/ABIDE_pcp/cpac/filt_noglobal/50647/CMU_a_0050647_rois_ho.1D\n",
            "Reading timeseries file /content/BrainGNN/data/ABIDE_pcp/cpac/filt_noglobal/50812/KKI_0050812_rois_ho.1D\n",
            "Reading timeseries file /content/BrainGNN/data/ABIDE_pcp/cpac/filt_noglobal/51333/MaxMun_c_0051333_rois_ho.1D\n",
            "Reading timeseries file /content/BrainGNN/data/ABIDE_pcp/cpac/filt_noglobal/51101/NYU_0051101_rois_ho.1D\n",
            "Reading timeseries file /content/BrainGNN/data/ABIDE_pcp/cpac/filt_noglobal/51565/SBL_0051565_rois_ho.1D\n",
            "Reading timeseries file /content/BrainGNN/data/ABIDE_pcp/cpac/filt_noglobal/50685/Leuven_1_0050685_rois_ho.1D\n",
            "Reading timeseries file /content/BrainGNN/data/ABIDE_pcp/cpac/filt_noglobal/50443/USM_0050443_rois_ho.1D\n",
            "Reading timeseries file /content/BrainGNN/data/ABIDE_pcp/cpac/filt_noglobal/50215/SDSU_0050215_rois_ho.1D\n",
            "Reading timeseries file /content/BrainGNN/data/ABIDE_pcp/cpac/filt_noglobal/50027/Pitt_0050027_rois_ho.1D\n",
            "Reading timeseries file /content/BrainGNN/data/ABIDE_pcp/cpac/filt_noglobal/50488/USM_0050488_rois_ho.1D\n",
            "Reading timeseries file /content/BrainGNN/data/ABIDE_pcp/cpac/filt_noglobal/50824/KKI_0050824_rois_ho.1D\n",
            "Reading timeseries file /content/BrainGNN/data/ABIDE_pcp/cpac/filt_noglobal/50020/Pitt_0050020_rois_ho.1D\n",
            "Reading timeseries file /content/BrainGNN/data/ABIDE_pcp/cpac/filt_noglobal/50212/SDSU_0050212_rois_ho.1D\n",
            "Reading timeseries file /content/BrainGNN/data/ABIDE_pcp/cpac/filt_noglobal/50444/USM_0050444_rois_ho.1D\n",
            "Reading timeseries file /content/BrainGNN/data/ABIDE_pcp/cpac/filt_noglobal/50682/Leuven_1_0050682_rois_ho.1D\n",
            "Reading timeseries file /content/BrainGNN/data/ABIDE_pcp/cpac/filt_noglobal/51562/SBL_0051562_rois_ho.1D\n",
            "Reading timeseries file /content/BrainGNN/data/ABIDE_pcp/cpac/filt_noglobal/51106/NYU_0051106_rois_ho.1D\n",
            "Reading timeseries file /content/BrainGNN/data/ABIDE_pcp/cpac/filt_noglobal/51334/MaxMun_c_0051334_rois_ho.1D\n",
            "Reading timeseries file /content/BrainGNN/data/ABIDE_pcp/cpac/filt_noglobal/50649/CMU_a_0050649_rois_ho.1D\n",
            "Reading timeseries file /content/BrainGNN/data/ABIDE_pcp/cpac/filt_noglobal/50823/KKI_0050823_rois_ho.1D\n",
            "Reading timeseries file /content/BrainGNN/data/ABIDE_pcp/cpac/filt_noglobal/51139/Trinity_0051139_rois_ho.1D\n",
            "Reading timeseries file /content/BrainGNN/data/ABIDE_pcp/cpac/filt_noglobal/51199/Stanford_0051199_rois_ho.1D\n",
            "Reading timeseries file /content/BrainGNN/data/ABIDE_pcp/cpac/filt_noglobal/50279/UM_1_0050279_rois_ho.1D\n",
            "Reading timeseries file /content/BrainGNN/data/ABIDE_pcp/cpac/filt_noglobal/50246/Trinity_0050246_rois_ho.1D\n",
            "Reading timeseries file /content/BrainGNN/data/ABIDE_pcp/cpac/filt_noglobal/50410/UM_2_0050410_rois_ho.1D\n",
            "Reading timeseries file /content/BrainGNN/data/ABIDE_pcp/cpac/filt_noglobal/50622/Yale_0050622_rois_ho.1D\n",
            "Reading timeseries file /content/BrainGNN/data/ABIDE_pcp/cpac/filt_noglobal/51360/MaxMun_d_0051360_rois_ho.1D\n",
            "Reading timeseries file /content/BrainGNN/data/ABIDE_pcp/cpac/filt_noglobal/51152/NYU_0051152_rois_ho.1D\n",
            "Reading timeseries file /content/BrainGNN/data/ABIDE_pcp/cpac/filt_noglobal/51358/MaxMun_d_0051358_rois_ho.1D\n",
            "Reading timeseries file /content/BrainGNN/data/ABIDE_pcp/cpac/filt_noglobal/50428/UM_2_0050428_rois_ho.1D\n",
            "Reading timeseries file /content/BrainGNN/data/ABIDE_pcp/cpac/filt_noglobal/51155/NYU_0051155_rois_ho.1D\n",
            "Reading timeseries file /content/BrainGNN/data/ABIDE_pcp/cpac/filt_noglobal/50625/Yale_0050625_rois_ho.1D\n",
            "Reading timeseries file /content/BrainGNN/data/ABIDE_pcp/cpac/filt_noglobal/50417/UM_2_0050417_rois_ho.1D\n",
            "Reading timeseries file /content/BrainGNN/data/ABIDE_pcp/cpac/filt_noglobal/50241/Trinity_0050241_rois_ho.1D\n",
            "Reading timeseries file /content/BrainGNN/data/ABIDE_pcp/cpac/filt_noglobal/50248/Trinity_0050248_rois_ho.1D\n",
            "Reading timeseries file /content/BrainGNN/data/ABIDE_pcp/cpac/filt_noglobal/51163/Stanford_0051163_rois_ho.1D\n",
            "Reading timeseries file /content/BrainGNN/data/ABIDE_pcp/cpac/filt_noglobal/50283/UM_1_0050283_rois_ho.1D\n",
            "Reading timeseries file /content/BrainGNN/data/ABIDE_pcp/cpac/filt_noglobal/51351/MaxMun_d_0051351_rois_ho.1D\n",
            "Reading timeseries file /content/BrainGNN/data/ABIDE_pcp/cpac/filt_noglobal/50045/Pitt_0050045_rois_ho.1D\n",
            "Reading timeseries file /content/BrainGNN/data/ABIDE_pcp/cpac/filt_noglobal/51197/Stanford_0051197_rois_ho.1D\n",
            "Reading timeseries file /content/BrainGNN/data/ABIDE_pcp/cpac/filt_noglobal/50277/UM_1_0050277_rois_ho.1D\n",
            "Reading timeseries file /content/BrainGNN/data/ABIDE_pcp/cpac/filt_noglobal/50613/Yale_0050613_rois_ho.1D\n",
            "Reading timeseries file /content/BrainGNN/data/ABIDE_pcp/cpac/filt_noglobal/50421/UM_2_0050421_rois_ho.1D\n",
            "Reading timeseries file /content/BrainGNN/data/ABIDE_pcp/cpac/filt_noglobal/50419/UM_2_0050419_rois_ho.1D\n",
            "Reading timeseries file /content/BrainGNN/data/ABIDE_pcp/cpac/filt_noglobal/51369/MaxMun_a_0051369_rois_ho.1D\n",
            "Reading timeseries file /content/BrainGNN/data/ABIDE_pcp/cpac/filt_noglobal/50426/UM_2_0050426_rois_ho.1D\n",
            "Reading timeseries file /content/BrainGNN/data/ABIDE_pcp/cpac/filt_noglobal/50614/Yale_0050614_rois_ho.1D\n",
            "Reading timeseries file /content/BrainGNN/data/ABIDE_pcp/cpac/filt_noglobal/50270/Trinity_0050270_rois_ho.1D\n",
            "Reading timeseries file /content/BrainGNN/data/ABIDE_pcp/cpac/filt_noglobal/50042/Pitt_0050042_rois_ho.1D\n",
            "Reading timeseries file /content/BrainGNN/data/ABIDE_pcp/cpac/filt_noglobal/51190/Stanford_0051190_rois_ho.1D\n",
            "Reading timeseries file /content/BrainGNN/data/ABIDE_pcp/cpac/filt_noglobal/50284/UM_1_0050284_rois_ho.1D\n",
            "Reading timeseries file /content/BrainGNN/data/ABIDE_pcp/cpac/filt_noglobal/51356/MaxMun_d_0051356_rois_ho.1D\n",
            "Reading timeseries file /content/BrainGNN/data/ABIDE_pcp/cpac/filt_noglobal/51164/Stanford_0051164_rois_ho.1D\n",
            "Reading timeseries file /content/BrainGNN/data/ABIDE_pcp/cpac/filt_noglobal/51472/Caltech_0051472_rois_ho.1D\n",
            "Reading timeseries file /content/BrainGNN/data/ABIDE_pcp/cpac/filt_noglobal/50792/KKI_0050792_rois_ho.1D\n",
            "Reading timeseries file /content/BrainGNN/data/ABIDE_pcp/cpac/filt_noglobal/51224/UCLA_1_0051224_rois_ho.1D\n",
            "Reading timeseries file /content/BrainGNN/data/ABIDE_pcp/cpac/filt_noglobal/51016/NYU_0051016_rois_ho.1D\n",
            "Reading timeseries file /content/BrainGNN/data/ABIDE_pcp/cpac/filt_noglobal/50302/UM_1_0050302_rois_ho.1D\n",
            "Reading timeseries file /content/BrainGNN/data/ABIDE_pcp/cpac/filt_noglobal/50130/Olin_0050130_rois_ho.1D\n",
            "Reading timeseries file /content/BrainGNN/data/ABIDE_pcp/cpac/filt_noglobal/51486/Caltech_0051486_rois_ho.1D\n",
            "Reading timeseries file /content/BrainGNN/data/ABIDE_pcp/cpac/filt_noglobal/50554/Yale_0050554_rois_ho.1D\n",
            "Reading timeseries file /content/BrainGNN/data/ABIDE_pcp/cpac/filt_noglobal/51029/NYU_0051029_rois_ho.1D\n",
            "Reading timeseries file /content/BrainGNN/data/ABIDE_pcp/cpac/filt_noglobal/51481/Caltech_0051481_rois_ho.1D\n",
            "Reading timeseries file /content/BrainGNN/data/ABIDE_pcp/cpac/filt_noglobal/50553/Yale_0050553_rois_ho.1D\n",
            "Reading timeseries file /content/BrainGNN/data/ABIDE_pcp/cpac/filt_noglobal/50305/UM_1_0050305_rois_ho.1D\n",
            "Reading timeseries file /content/BrainGNN/data/ABIDE_pcp/cpac/filt_noglobal/51011/NYU_0051011_rois_ho.1D\n",
            "Reading timeseries file /content/BrainGNN/data/ABIDE_pcp/cpac/filt_noglobal/51223/UCLA_1_0051223_rois_ho.1D\n",
            "Reading timeseries file /content/BrainGNN/data/ABIDE_pcp/cpac/filt_noglobal/50795/KKI_0050795_rois_ho.1D\n",
            "Reading timeseries file /content/BrainGNN/data/ABIDE_pcp/cpac/filt_noglobal/50333/UM_1_0050333_rois_ho.1D\n",
            "Reading timeseries file /content/BrainGNN/data/ABIDE_pcp/cpac/filt_noglobal/50757/Leuven_2_0050757_rois_ho.1D\n",
            "Reading timeseries file /content/BrainGNN/data/ABIDE_pcp/cpac/filt_noglobal/50565/Yale_0050565_rois_ho.1D\n",
            "Reading timeseries file /content/BrainGNN/data/ABIDE_pcp/cpac/filt_noglobal/51027/NYU_0051027_rois_ho.1D\n",
            "Reading timeseries file /content/BrainGNN/data/ABIDE_pcp/cpac/filt_noglobal/51215/UCLA_1_0051215_rois_ho.1D\n",
            "Reading timeseries file /content/BrainGNN/data/ABIDE_pcp/cpac/filt_noglobal/51488/Caltech_0051488_rois_ho.1D\n",
            "Reading timeseries file /content/BrainGNN/data/ABIDE_pcp/cpac/filt_noglobal/51018/NYU_0051018_rois_ho.1D\n",
            "Reading timeseries file /content/BrainGNN/data/ABIDE_pcp/cpac/filt_noglobal/51212/UCLA_1_0051212_rois_ho.1D\n",
            "Reading timeseries file /content/BrainGNN/data/ABIDE_pcp/cpac/filt_noglobal/51020/NYU_0051020_rois_ho.1D\n",
            "Reading timeseries file /content/BrainGNN/data/ABIDE_pcp/cpac/filt_noglobal/50562/Yale_0050562_rois_ho.1D\n",
            "Reading timeseries file /content/BrainGNN/data/ABIDE_pcp/cpac/filt_noglobal/50750/Leuven_2_0050750_rois_ho.1D\n",
            "Reading timeseries file /content/BrainGNN/data/ABIDE_pcp/cpac/filt_noglobal/50334/UM_1_0050334_rois_ho.1D\n",
            "Reading timeseries file /content/BrainGNN/data/ABIDE_pcp/cpac/filt_noglobal/50106/Olin_0050106_rois_ho.1D\n",
            "Reading timeseries file /content/BrainGNN/data/ABIDE_pcp/cpac/filt_noglobal/51279/UCLA_1_0051279_rois_ho.1D\n",
            "Reading timeseries file /content/BrainGNN/data/ABIDE_pcp/cpac/filt_noglobal/50199/SDSU_0050199_rois_ho.1D\n",
            "Reading timeseries file /content/BrainGNN/data/ABIDE_pcp/cpac/filt_noglobal/50509/USM_0050509_rois_ho.1D\n",
            "Reading timeseries file /content/BrainGNN/data/ABIDE_pcp/cpac/filt_noglobal/51074/NYU_0051074_rois_ho.1D\n",
            "Reading timeseries file /content/BrainGNN/data/ABIDE_pcp/cpac/filt_noglobal/50704/Leuven_1_0050704_rois_ho.1D\n",
            "Reading timeseries file /content/BrainGNN/data/ABIDE_pcp/cpac/filt_noglobal/51080/NYU_0051080_rois_ho.1D\n",
            "Reading timeseries file /content/BrainGNN/data/ABIDE_pcp/cpac/filt_noglobal/50152/OHSU_0050152_rois_ho.1D\n",
            "Reading timeseries file /content/BrainGNN/data/ABIDE_pcp/cpac/filt_noglobal/50360/UM_1_0050360_rois_ho.1D\n",
            "Reading timeseries file /content/BrainGNN/data/ABIDE_pcp/cpac/filt_noglobal/50956/NYU_0050956_rois_ho.1D\n",
            "Reading timeseries file /content/BrainGNN/data/ABIDE_pcp/cpac/filt_noglobal/50358/UM_1_0050358_rois_ho.1D\n",
            "Reading timeseries file /content/BrainGNN/data/ABIDE_pcp/cpac/filt_noglobal/50367/UM_1_0050367_rois_ho.1D\n",
            "Reading timeseries file /content/BrainGNN/data/ABIDE_pcp/cpac/filt_noglobal/51087/NYU_0051087_rois_ho.1D\n",
            "Reading timeseries file /content/BrainGNN/data/ABIDE_pcp/cpac/filt_noglobal/50969/NYU_0050969_rois_ho.1D\n",
            "Reading timeseries file /content/BrainGNN/data/ABIDE_pcp/cpac/filt_noglobal/50531/USM_0050531_rois_ho.1D\n",
            "Reading timeseries file /content/BrainGNN/data/ABIDE_pcp/cpac/filt_noglobal/50703/Leuven_1_0050703_rois_ho.1D\n",
            "Reading timeseries file /content/BrainGNN/data/ABIDE_pcp/cpac/filt_noglobal/51241/UCLA_1_0051241_rois_ho.1D\n",
            "Reading timeseries file /content/BrainGNN/data/ABIDE_pcp/cpac/filt_noglobal/51073/NYU_0051073_rois_ho.1D\n",
            "Reading timeseries file /content/BrainGNN/data/ABIDE_pcp/cpac/filt_noglobal/50960/NYU_0050960_rois_ho.1D\n",
            "Reading timeseries file /content/BrainGNN/data/ABIDE_pcp/cpac/filt_noglobal/50994/NYU_0050994_rois_ho.1D\n",
            "Reading timeseries file /content/BrainGNN/data/ABIDE_pcp/cpac/filt_noglobal/51248/UCLA_1_0051248_rois_ho.1D\n",
            "Reading timeseries file /content/BrainGNN/data/ABIDE_pcp/cpac/filt_noglobal/50507/USM_0050507_rois_ho.1D\n",
            "Reading timeseries file /content/BrainGNN/data/ABIDE_pcp/cpac/filt_noglobal/50735/Leuven_2_0050735_rois_ho.1D\n",
            "Reading timeseries file /content/BrainGNN/data/ABIDE_pcp/cpac/filt_noglobal/50351/UM_1_0050351_rois_ho.1D\n",
            "Reading timeseries file /content/BrainGNN/data/ABIDE_pcp/cpac/filt_noglobal/50163/OHSU_0050163_rois_ho.1D\n",
            "Reading timeseries file /content/BrainGNN/data/ABIDE_pcp/cpac/filt_noglobal/51277/UCLA_1_0051277_rois_ho.1D\n",
            "Reading timeseries file /content/BrainGNN/data/ABIDE_pcp/cpac/filt_noglobal/50197/SDSU_0050197_rois_ho.1D\n",
            "Reading timeseries file /content/BrainGNN/data/ABIDE_pcp/cpac/filt_noglobal/51045/NYU_0051045_rois_ho.1D\n",
            "Reading timeseries file /content/BrainGNN/data/ABIDE_pcp/cpac/filt_noglobal/50993/NYU_0050993_rois_ho.1D\n",
            "Reading timeseries file /content/BrainGNN/data/ABIDE_pcp/cpac/filt_noglobal/50369/UM_1_0050369_rois_ho.1D\n",
            "Reading timeseries file /content/BrainGNN/data/ABIDE_pcp/cpac/filt_noglobal/51089/NYU_0051089_rois_ho.1D\n",
            "Reading timeseries file /content/BrainGNN/data/ABIDE_pcp/cpac/filt_noglobal/50967/NYU_0050967_rois_ho.1D\n",
            "Reading timeseries file /content/BrainGNN/data/ABIDE_pcp/cpac/filt_noglobal/50190/SDSU_0050190_rois_ho.1D\n",
            "Reading timeseries file /content/BrainGNN/data/ABIDE_pcp/cpac/filt_noglobal/51042/NYU_0051042_rois_ho.1D\n",
            "Reading timeseries file /content/BrainGNN/data/ABIDE_pcp/cpac/filt_noglobal/50164/OHSU_0050164_rois_ho.1D\n",
            "Reading timeseries file /content/BrainGNN/data/ABIDE_pcp/cpac/filt_noglobal/50958/NYU_0050958_rois_ho.1D\n",
            "Reading timeseries file /content/BrainGNN/data/ABIDE_pcp/cpac/filt_noglobal/50356/UM_1_0050356_rois_ho.1D\n",
            "Reading timeseries file /content/BrainGNN/data/ABIDE_pcp/cpac/filt_noglobal/50732/Leuven_2_0050732_rois_ho.1D\n",
            "Reading timeseries file /content/BrainGNN/data/ABIDE_pcp/cpac/filt_noglobal/50500/USM_0050500_rois_ho.1D\n",
            "Reading timeseries file /content/BrainGNN/data/ABIDE_pcp/cpac/filt_noglobal/50751/Leuven_2_0050751_rois_ho.1D\n",
            "Reading timeseries file /content/BrainGNN/data/ABIDE_pcp/cpac/filt_noglobal/50563/Yale_0050563_rois_ho.1D\n",
            "Reading timeseries file /content/BrainGNN/data/ABIDE_pcp/cpac/filt_noglobal/50107/Olin_0050107_rois_ho.1D\n",
            "Reading timeseries file /content/BrainGNN/data/ABIDE_pcp/cpac/filt_noglobal/50335/UM_1_0050335_rois_ho.1D\n",
            "Reading timeseries file /content/BrainGNN/data/ABIDE_pcp/cpac/filt_noglobal/51021/NYU_0051021_rois_ho.1D\n",
            "Reading timeseries file /content/BrainGNN/data/ABIDE_pcp/cpac/filt_noglobal/51213/UCLA_1_0051213_rois_ho.1D\n",
            "Reading timeseries file /content/BrainGNN/data/ABIDE_pcp/cpac/filt_noglobal/51214/UCLA_1_0051214_rois_ho.1D\n",
            "Reading timeseries file /content/BrainGNN/data/ABIDE_pcp/cpac/filt_noglobal/51026/NYU_0051026_rois_ho.1D\n",
            "Reading timeseries file /content/BrainGNN/data/ABIDE_pcp/cpac/filt_noglobal/50332/UM_1_0050332_rois_ho.1D\n",
            "Reading timeseries file /content/BrainGNN/data/ABIDE_pcp/cpac/filt_noglobal/50564/Yale_0050564_rois_ho.1D\n",
            "Reading timeseries file /content/BrainGNN/data/ABIDE_pcp/cpac/filt_noglobal/50756/Leuven_2_0050756_rois_ho.1D\n",
            "Reading timeseries file /content/BrainGNN/data/ABIDE_pcp/cpac/filt_noglobal/51019/NYU_0051019_rois_ho.1D\n",
            "Reading timeseries file /content/BrainGNN/data/ABIDE_pcp/cpac/filt_noglobal/51489/Caltech_0051489_rois_ho.1D\n",
            "Reading timeseries file /content/BrainGNN/data/ABIDE_pcp/cpac/filt_noglobal/51222/UCLA_1_0051222_rois_ho.1D\n",
            "Reading timeseries file /content/BrainGNN/data/ABIDE_pcp/cpac/filt_noglobal/51010/NYU_0051010_rois_ho.1D\n",
            "Reading timeseries file /content/BrainGNN/data/ABIDE_pcp/cpac/filt_noglobal/51474/Caltech_0051474_rois_ho.1D\n",
            "Reading timeseries file /content/BrainGNN/data/ABIDE_pcp/cpac/filt_noglobal/50794/KKI_0050794_rois_ho.1D\n",
            "Reading timeseries file /content/BrainGNN/data/ABIDE_pcp/cpac/filt_noglobal/51480/Caltech_0051480_rois_ho.1D\n",
            "Reading timeseries file /content/BrainGNN/data/ABIDE_pcp/cpac/filt_noglobal/50552/Yale_0050552_rois_ho.1D\n",
            "Reading timeseries file /content/BrainGNN/data/ABIDE_pcp/cpac/filt_noglobal/50304/UM_1_0050304_rois_ho.1D\n",
            "Reading timeseries file /content/BrainGNN/data/ABIDE_pcp/cpac/filt_noglobal/50136/Olin_0050136_rois_ho.1D\n",
            "Reading timeseries file /content/BrainGNN/data/ABIDE_pcp/cpac/filt_noglobal/50109/Olin_0050109_rois_ho.1D\n",
            "Reading timeseries file /content/BrainGNN/data/ABIDE_pcp/cpac/filt_noglobal/50131/Olin_0050131_rois_ho.1D\n",
            "Reading timeseries file /content/BrainGNN/data/ABIDE_pcp/cpac/filt_noglobal/50303/UM_1_0050303_rois_ho.1D\n",
            "Reading timeseries file /content/BrainGNN/data/ABIDE_pcp/cpac/filt_noglobal/51487/Caltech_0051487_rois_ho.1D\n",
            "Reading timeseries file /content/BrainGNN/data/ABIDE_pcp/cpac/filt_noglobal/50555/Yale_0050555_rois_ho.1D\n",
            "Reading timeseries file /content/BrainGNN/data/ABIDE_pcp/cpac/filt_noglobal/50793/KKI_0050793_rois_ho.1D\n",
            "Reading timeseries file /content/BrainGNN/data/ABIDE_pcp/cpac/filt_noglobal/51473/Caltech_0051473_rois_ho.1D\n",
            "Reading timeseries file /content/BrainGNN/data/ABIDE_pcp/cpac/filt_noglobal/51017/NYU_0051017_rois_ho.1D\n",
            "Reading timeseries file /content/BrainGNN/data/ABIDE_pcp/cpac/filt_noglobal/51225/UCLA_1_0051225_rois_ho.1D\n",
            "Reading timeseries file /content/BrainGNN/data/ABIDE_pcp/cpac/filt_noglobal/51028/NYU_0051028_rois_ho.1D\n",
            "Reading timeseries file /content/BrainGNN/data/ABIDE_pcp/cpac/filt_noglobal/50966/NYU_0050966_rois_ho.1D\n",
            "Reading timeseries file /content/BrainGNN/data/ABIDE_pcp/cpac/filt_noglobal/51088/NYU_0051088_rois_ho.1D\n",
            "Reading timeseries file /content/BrainGNN/data/ABIDE_pcp/cpac/filt_noglobal/50368/UM_1_0050368_rois_ho.1D\n",
            "Reading timeseries file /content/BrainGNN/data/ABIDE_pcp/cpac/filt_noglobal/50992/NYU_0050992_rois_ho.1D\n",
            "Reading timeseries file /content/BrainGNN/data/ABIDE_pcp/cpac/filt_noglobal/50357/UM_1_0050357_rois_ho.1D\n",
            "Reading timeseries file /content/BrainGNN/data/ABIDE_pcp/cpac/filt_noglobal/50959/NYU_0050959_rois_ho.1D\n",
            "Reading timeseries file /content/BrainGNN/data/ABIDE_pcp/cpac/filt_noglobal/50501/USM_0050501_rois_ho.1D\n",
            "Reading timeseries file /content/BrainGNN/data/ABIDE_pcp/cpac/filt_noglobal/50733/Leuven_2_0050733_rois_ho.1D\n",
            "Reading timeseries file /content/BrainGNN/data/ABIDE_pcp/cpac/filt_noglobal/51271/UCLA_1_0051271_rois_ho.1D\n",
            "Reading timeseries file /content/BrainGNN/data/ABIDE_pcp/cpac/filt_noglobal/50191/SDSU_0050191_rois_ho.1D\n",
            "Reading timeseries file /content/BrainGNN/data/ABIDE_pcp/cpac/filt_noglobal/51249/UCLA_1_0051249_rois_ho.1D\n",
            "Reading timeseries file /content/BrainGNN/data/ABIDE_pcp/cpac/filt_noglobal/50995/NYU_0050995_rois_ho.1D\n",
            "Reading timeseries file /content/BrainGNN/data/ABIDE_pcp/cpac/filt_noglobal/50961/NYU_0050961_rois_ho.1D\n",
            "Reading timeseries file /content/BrainGNN/data/ABIDE_pcp/cpac/filt_noglobal/50196/SDSU_0050196_rois_ho.1D\n",
            "Reading timeseries file /content/BrainGNN/data/ABIDE_pcp/cpac/filt_noglobal/51044/NYU_0051044_rois_ho.1D\n",
            "Reading timeseries file /content/BrainGNN/data/ABIDE_pcp/cpac/filt_noglobal/51276/UCLA_1_0051276_rois_ho.1D\n",
            "Reading timeseries file /content/BrainGNN/data/ABIDE_pcp/cpac/filt_noglobal/50162/OHSU_0050162_rois_ho.1D\n",
            "Reading timeseries file /content/BrainGNN/data/ABIDE_pcp/cpac/filt_noglobal/50350/UM_1_0050350_rois_ho.1D\n",
            "Reading timeseries file /content/BrainGNN/data/ABIDE_pcp/cpac/filt_noglobal/51282/UCLA_1_0051282_rois_ho.1D\n",
            "Reading timeseries file /content/BrainGNN/data/ABIDE_pcp/cpac/filt_noglobal/50359/UM_1_0050359_rois_ho.1D\n",
            "Reading timeseries file /content/BrainGNN/data/ABIDE_pcp/cpac/filt_noglobal/50957/NYU_0050957_rois_ho.1D\n",
            "Reading timeseries file /content/BrainGNN/data/ABIDE_pcp/cpac/filt_noglobal/51072/NYU_0051072_rois_ho.1D\n",
            "Reading timeseries file /content/BrainGNN/data/ABIDE_pcp/cpac/filt_noglobal/51240/UCLA_1_0051240_rois_ho.1D\n",
            "Reading timeseries file /content/BrainGNN/data/ABIDE_pcp/cpac/filt_noglobal/50968/NYU_0050968_rois_ho.1D\n",
            "Reading timeseries file /content/BrainGNN/data/ABIDE_pcp/cpac/filt_noglobal/51086/NYU_0051086_rois_ho.1D\n",
            "Reading timeseries file /content/BrainGNN/data/ABIDE_pcp/cpac/filt_noglobal/50366/UM_1_0050366_rois_ho.1D\n",
            "Reading timeseries file /content/BrainGNN/data/ABIDE_pcp/cpac/filt_noglobal/50702/Leuven_1_0050702_rois_ho.1D\n",
            "Reading timeseries file /content/BrainGNN/data/ABIDE_pcp/cpac/filt_noglobal/50530/USM_0050530_rois_ho.1D\n",
            "Reading timeseries file /content/BrainGNN/data/ABIDE_pcp/cpac/filt_noglobal/50198/SDSU_0050198_rois_ho.1D\n",
            "Reading timeseries file /content/BrainGNN/data/ABIDE_pcp/cpac/filt_noglobal/51278/UCLA_1_0051278_rois_ho.1D\n",
            "Reading timeseries file /content/BrainGNN/data/ABIDE_pcp/cpac/filt_noglobal/50705/Leuven_1_0050705_rois_ho.1D\n",
            "Reading timeseries file /content/BrainGNN/data/ABIDE_pcp/cpac/filt_noglobal/50361/UM_1_0050361_rois_ho.1D\n",
            "Reading timeseries file /content/BrainGNN/data/ABIDE_pcp/cpac/filt_noglobal/51081/NYU_0051081_rois_ho.1D\n",
            "Reading timeseries file /content/BrainGNN/data/ABIDE_pcp/cpac/filt_noglobal/50153/OHSU_0050153_rois_ho.1D\n",
            "Reading timeseries file /content/BrainGNN/data/ABIDE_pcp/cpac/filt_noglobal/51075/NYU_0051075_rois_ho.1D\n",
            "Arguments: \n",
            " Namespace(atlas='ho', seed=123, nclass=2)\n"
          ]
        }
      ]
    },
    {
      "cell_type": "markdown",
      "source": [
        "## Training BrainGNN"
      ],
      "metadata": {
        "id": "D_SY_cg-xPv0"
      }
    },
    {
      "cell_type": "code",
      "source": [
        "%run /content/BrainGNN/03-main.py --save_path=\"/content/BrainGNN/model\" --atlas='ho' --explain=True"
      ],
      "metadata": {
        "colab": {
          "base_uri": "https://localhost:8080/"
        },
        "id": "d90sCCS7uFsd",
        "outputId": "15f4a35d-57d0-4532-d3f3-3709458d0e42"
      },
      "execution_count": null,
      "outputs": [
        {
          "output_type": "stream",
          "name": "stderr",
          "text": [
            "/usr/local/lib/python3.11/dist-packages/torch_geometric/data/in_memory_dataset.py:284: UserWarning: It is not recommended to directly access the internal storage format `data` of an 'InMemoryDataset'. If you are absolutely certain what you are doing, access the internal storage via `InMemoryDataset._data` instead to suppress this warning. Alternatively, you can access stacked individual attributes of every graph via `dataset.{attr_name}`.\n",
            "  warnings.warn(msg)\n",
            "/usr/local/lib/python3.11/dist-packages/torch_geometric/deprecation.py:22: UserWarning: 'data.DataLoader' is deprecated, use 'loader.DataLoader' instead\n",
            "  warnings.warn(out)\n",
            "/usr/local/lib/python3.11/dist-packages/torch/optim/lr_scheduler.py:136: UserWarning: Detected call of `lr_scheduler.step()` before `optimizer.step()`. In PyTorch 1.1.0 and later, you should call them in the opposite order: `optimizer.step()` before `lr_scheduler.step()`.  Failure to do this will result in PyTorch skipping the first value of the learning rate schedule. See more details at https://pytorch.org/docs/stable/optim.html#how-to-adjust-learning-rate\n",
            "  warnings.warn(\"Detected call of `lr_scheduler.step()` before `optimizer.step()`. \"\n"
          ]
        },
        {
          "output_type": "stream",
          "name": "stdout",
          "text": [
            "Network(\n",
            "  (n1): Sequential(\n",
            "    (0): Linear(in_features=111, out_features=8, bias=False)\n",
            "    (1): ReLU()\n",
            "    (2): Linear(in_features=8, out_features=3552, bias=True)\n",
            "  )\n",
            "  (conv1): MyNNConv(111, 32)\n",
            "  (pool1): TopKPooling(32, ratio=0.5, multiplier=1)\n",
            "  (n2): Sequential(\n",
            "    (0): Linear(in_features=111, out_features=8, bias=False)\n",
            "    (1): ReLU()\n",
            "    (2): Linear(in_features=8, out_features=1024, bias=True)\n",
            "  )\n",
            "  (conv2): MyNNConv(32, 32)\n",
            "  (pool2): TopKPooling(32, ratio=0.5, multiplier=1)\n",
            "  (fc1): Linear(in_features=128, out_features=32, bias=True)\n",
            "  (bn1): BatchNorm1d(32, eps=1e-05, momentum=0.1, affine=True, track_running_stats=True)\n",
            "  (fc2): Linear(in_features=32, out_features=512, bias=True)\n",
            "  (bn2): BatchNorm1d(512, eps=1e-05, momentum=0.1, affine=True, track_running_stats=True)\n",
            "  (fc3): Linear(in_features=512, out_features=2, bias=True)\n",
            ")\n",
            "train...........\n",
            "LR 0.01\n",
            "testing...........\n",
            "*====**\n",
            "0m 1s\n",
            "Epoch: 000, Train Loss: 1.2327333, Train Acc: 0.5378422, Validation Loss: 0.9778810, Validation Acc: 0.4927536\n",
            "train...........\n",
            "LR 0.01\n",
            "testing...........\n",
            "*====**\n",
            "0m 1s\n",
            "Epoch: 001, Train Loss: 1.2463707, Train Acc: 0.4669887, Validation Loss: 1.1836920, Validation Acc: 0.5024155\n",
            "train...........\n",
            "LR 0.01\n",
            "testing...........\n",
            "*====**\n",
            "0m 1s\n",
            "Epoch: 002, Train Loss: 1.2345096, Train Acc: 0.5587762, Validation Loss: 1.1352508, Validation Acc: 0.4975845\n",
            "train...........\n",
            "LR 0.01\n",
            "testing...........\n",
            "*====**\n",
            "0m 1s\n",
            "Epoch: 003, Train Loss: 1.1639075, Train Acc: 0.5136876, Validation Loss: 1.0509327, Validation Acc: 0.4782609\n",
            "train...........\n",
            "LR 0.01\n",
            "testing...........\n",
            "*====**\n",
            "0m 1s\n",
            "Epoch: 004, Train Loss: 1.2144911, Train Acc: 0.5185185, Validation Loss: 1.2220185, Validation Acc: 0.5120773\n",
            "train...........\n",
            "LR 0.01\n",
            "testing...........\n",
            "*====**\n",
            "0m 1s\n",
            "Epoch: 005, Train Loss: 1.2134273, Train Acc: 0.5330113, Validation Loss: 1.0884982, Validation Acc: 0.4927536\n",
            "train...........\n",
            "LR 0.01\n",
            "testing...........\n",
            "*====**\n",
            "0m 1s\n",
            "Epoch: 006, Train Loss: 1.1476870, Train Acc: 0.4669887, Validation Loss: 1.4637988, Validation Acc: 0.5072464\n",
            "saving best model\n",
            "train...........\n",
            "LR 0.01\n",
            "testing...........\n",
            "*====**\n",
            "0m 1s\n",
            "Epoch: 007, Train Loss: 1.2505641, Train Acc: 0.5330113, Validation Loss: 1.1225175, Validation Acc: 0.4927536\n",
            "saving best model\n",
            "train...........\n",
            "LR 0.01\n",
            "testing...........\n",
            "*====**\n",
            "0m 1s\n",
            "Epoch: 008, Train Loss: 1.1239213, Train Acc: 0.4669887, Validation Loss: 0.9885436, Validation Acc: 0.5072464\n",
            "saving best model\n",
            "train...........\n",
            "LR 0.01\n",
            "testing...........\n",
            "*====**\n",
            "0m 1s\n",
            "Epoch: 009, Train Loss: 1.0650655, Train Acc: 0.4669887, Validation Loss: 1.1124030, Validation Acc: 0.5072464\n",
            "train...........\n",
            "LR 0.01\n",
            "testing...........\n",
            "*====**\n",
            "0m 1s\n",
            "Epoch: 010, Train Loss: 1.0717412, Train Acc: 0.4669887, Validation Loss: 0.9847884, Validation Acc: 0.5072464\n",
            "saving best model\n",
            "train...........\n",
            "LR 0.01\n",
            "testing...........\n",
            "*====**\n",
            "0m 1s\n",
            "Epoch: 011, Train Loss: 1.0669791, Train Acc: 0.4879227, Validation Loss: 0.9742729, Validation Acc: 0.5169082\n",
            "saving best model\n",
            "train...........\n",
            "LR 0.01\n",
            "testing...........\n",
            "*====**\n",
            "0m 1s\n",
            "Epoch: 012, Train Loss: 1.0310846, Train Acc: 0.5072464, Validation Loss: 1.0321997, Validation Acc: 0.4589372\n",
            "train...........\n",
            "LR 0.01\n",
            "testing...........\n",
            "*====**\n",
            "0m 1s\n",
            "Epoch: 013, Train Loss: 1.0267197, Train Acc: 0.4975845, Validation Loss: 0.9785156, Validation Acc: 0.5169082\n",
            "train...........\n",
            "LR 0.01\n",
            "testing...........\n",
            "*====**\n",
            "0m 1s\n",
            "Epoch: 014, Train Loss: 1.0282465, Train Acc: 0.5475040, Validation Loss: 1.0078628, Validation Acc: 0.4879227\n",
            "train...........\n",
            "LR 0.01\n",
            "testing...........\n",
            "*====**\n",
            "0m 1s\n",
            "Epoch: 015, Train Loss: 1.0340588, Train Acc: 0.5571659, Validation Loss: 1.0011587, Validation Acc: 0.5217391\n",
            "train...........\n",
            "LR 0.01\n",
            "testing...........\n",
            "*====**\n",
            "0m 1s\n",
            "Epoch: 016, Train Loss: 0.9866805, Train Acc: 0.5072464, Validation Loss: 1.0422407, Validation Acc: 0.5217391\n",
            "train...........\n",
            "LR 0.01\n",
            "testing...........\n",
            "*====**\n",
            "0m 1s\n",
            "Epoch: 017, Train Loss: 0.9829691, Train Acc: 0.5507246, Validation Loss: 1.0035300, Validation Acc: 0.4685990\n",
            "train...........\n",
            "LR 0.01\n",
            "testing...........\n",
            "*====**\n",
            "0m 1s\n",
            "Epoch: 018, Train Loss: 0.9929342, Train Acc: 0.5491143, Validation Loss: 1.0250640, Validation Acc: 0.5217391\n",
            "train...........\n",
            "LR 0.005\n",
            "testing...........\n",
            "*====**\n",
            "0m 1s\n",
            "Epoch: 019, Train Loss: 0.9738578, Train Acc: 0.5925926, Validation Loss: 1.0145797, Validation Acc: 0.5362319\n",
            "train...........\n",
            "LR 0.005\n",
            "testing...........\n",
            "*====**\n",
            "0m 1s\n",
            "Epoch: 020, Train Loss: 0.9711918, Train Acc: 0.5265700, Validation Loss: 1.1128558, Validation Acc: 0.5024155\n",
            "train...........\n",
            "LR 0.005\n",
            "testing...........\n",
            "*====**\n",
            "0m 1s\n",
            "Epoch: 021, Train Loss: 0.9725547, Train Acc: 0.5684380, Validation Loss: 0.9825121, Validation Acc: 0.5265700\n",
            "train...........\n",
            "LR 0.005\n",
            "testing...........\n",
            "*====**\n",
            "0m 1s\n",
            "Epoch: 022, Train Loss: 0.9555191, Train Acc: 0.5877617, Validation Loss: 0.9796493, Validation Acc: 0.5072464\n",
            "train...........\n",
            "LR 0.005\n",
            "testing...........\n",
            "*====**\n",
            "0m 1s\n",
            "Epoch: 023, Train Loss: 0.9570142, Train Acc: 0.6006441, Validation Loss: 0.9961677, Validation Acc: 0.5748792\n",
            "train...........\n",
            "LR 0.005\n",
            "testing...........\n",
            "*====**\n",
            "0m 1s\n",
            "Epoch: 024, Train Loss: 0.9549690, Train Acc: 0.5797101, Validation Loss: 1.0372014, Validation Acc: 0.5458937\n",
            "train...........\n",
            "LR 0.005\n",
            "testing...........\n",
            "*====**\n",
            "0m 1s\n",
            "Epoch: 025, Train Loss: 0.9420974, Train Acc: 0.6070853, Validation Loss: 0.9956429, Validation Acc: 0.5652174\n",
            "train...........\n",
            "LR 0.005\n",
            "testing...........\n",
            "*====**\n",
            "0m 1s\n",
            "Epoch: 026, Train Loss: 0.9410214, Train Acc: 0.5990338, Validation Loss: 0.9837917, Validation Acc: 0.5265700\n",
            "train...........\n",
            "LR 0.005\n",
            "testing...........\n",
            "*====**\n",
            "0m 1s\n",
            "Epoch: 027, Train Loss: 0.9349056, Train Acc: 0.5426731, Validation Loss: 1.0580875, Validation Acc: 0.4927536\n",
            "train...........\n",
            "LR 0.005\n",
            "testing...........\n",
            "*====**\n",
            "0m 1s\n",
            "Epoch: 028, Train Loss: 0.9495263, Train Acc: 0.6328502, Validation Loss: 0.9760508, Validation Acc: 0.5410628\n",
            "train...........\n",
            "LR 0.005\n",
            "testing...........\n",
            "*====**\n",
            "0m 1s\n",
            "Epoch: 029, Train Loss: 0.9311825, Train Acc: 0.6151369, Validation Loss: 0.9944971, Validation Acc: 0.5362319\n",
            "train...........\n",
            "LR 0.005\n",
            "testing...........\n",
            "*====**\n",
            "0m 1s\n",
            "Epoch: 030, Train Loss: 0.9232344, Train Acc: 0.5394525, Validation Loss: 1.0916178, Validation Acc: 0.4927536\n",
            "train...........\n",
            "LR 0.005\n",
            "testing...........\n",
            "*====**\n",
            "0m 1s\n",
            "Epoch: 031, Train Loss: 0.9098807, Train Acc: 0.6103060, Validation Loss: 1.0298240, Validation Acc: 0.5120773\n",
            "train...........\n",
            "LR 0.005\n",
            "testing...........\n",
            "*====**\n",
            "0m 1s\n",
            "Epoch: 032, Train Loss: 0.8965913, Train Acc: 0.6682770, Validation Loss: 0.9709010, Validation Acc: 0.5555556\n",
            "saving best model\n",
            "train...........\n",
            "LR 0.005\n",
            "testing...........\n",
            "*====**\n",
            "0m 1s\n",
            "Epoch: 033, Train Loss: 0.8904108, Train Acc: 0.6843800, Validation Loss: 0.9762430, Validation Acc: 0.5507246\n",
            "train...........\n",
            "LR 0.005\n",
            "testing...........\n",
            "*====**\n",
            "0m 1s\n",
            "Epoch: 034, Train Loss: 0.8998435, Train Acc: 0.5040258, Validation Loss: 1.1152320, Validation Acc: 0.5024155\n",
            "train...........\n",
            "LR 0.005\n",
            "testing...........\n",
            "*====**\n",
            "0m 1s\n",
            "Epoch: 035, Train Loss: 0.8785982, Train Acc: 0.7053140, Validation Loss: 0.9856613, Validation Acc: 0.5748792\n",
            "train...........\n",
            "LR 0.005\n",
            "testing...........\n",
            "*====**\n",
            "0m 1s\n",
            "Epoch: 036, Train Loss: 0.8640544, Train Acc: 0.6892110, Validation Loss: 0.9841322, Validation Acc: 0.5314010\n",
            "train...........\n",
            "LR 0.005\n",
            "testing...........\n",
            "*====**\n",
            "0m 1s\n",
            "Epoch: 037, Train Loss: 0.8537682, Train Acc: 0.6618357, Validation Loss: 1.0428654, Validation Acc: 0.5314010\n",
            "train...........\n",
            "LR 0.005\n",
            "testing...........\n",
            "*====**\n",
            "0m 1s\n",
            "Epoch: 038, Train Loss: 0.8497028, Train Acc: 0.5362319, Validation Loss: 1.3504651, Validation Acc: 0.5072464\n",
            "train...........\n",
            "LR 0.0025\n",
            "testing...........\n",
            "*====**\n",
            "0m 1s\n",
            "Epoch: 039, Train Loss: 0.8749073, Train Acc: 0.7037037, Validation Loss: 1.0447120, Validation Acc: 0.5314010\n",
            "train...........\n",
            "LR 0.0025\n",
            "testing...........\n",
            "*====**\n",
            "0m 1s\n",
            "Epoch: 040, Train Loss: 0.8365629, Train Acc: 0.7149758, Validation Loss: 1.0356428, Validation Acc: 0.5217391\n",
            "train...........\n",
            "LR 0.0025\n",
            "testing...........\n",
            "*====**\n",
            "0m 1s\n",
            "Epoch: 041, Train Loss: 0.8366380, Train Acc: 0.7165862, Validation Loss: 1.0354037, Validation Acc: 0.5748792\n",
            "train...........\n",
            "LR 0.0025\n",
            "testing...........\n",
            "*====**\n",
            "0m 1s\n",
            "Epoch: 042, Train Loss: 0.8506246, Train Acc: 0.5797101, Validation Loss: 1.1758379, Validation Acc: 0.5120773\n",
            "train...........\n",
            "LR 0.0025\n",
            "testing...........\n",
            "*====**\n",
            "0m 1s\n",
            "Epoch: 043, Train Loss: 0.8453741, Train Acc: 0.6280193, Validation Loss: 1.1681846, Validation Acc: 0.5120773\n",
            "train...........\n",
            "LR 0.0025\n",
            "testing...........\n",
            "*====**\n",
            "0m 1s\n",
            "Epoch: 044, Train Loss: 0.8486832, Train Acc: 0.7117552, Validation Loss: 1.0322733, Validation Acc: 0.5362319\n",
            "train...........\n",
            "LR 0.0025\n",
            "testing...........\n",
            "*====**\n",
            "0m 1s\n",
            "Epoch: 045, Train Loss: 0.8309189, Train Acc: 0.6167472, Validation Loss: 1.2365647, Validation Acc: 0.5024155\n",
            "train...........\n",
            "LR 0.0025\n",
            "testing...........\n",
            "*====**\n",
            "0m 1s\n",
            "Epoch: 046, Train Loss: 0.8317331, Train Acc: 0.7375201, Validation Loss: 1.0218130, Validation Acc: 0.5314010\n",
            "train...........\n",
            "LR 0.0025\n",
            "testing...........\n",
            "*====**\n",
            "0m 1s\n",
            "Epoch: 047, Train Loss: 0.8265647, Train Acc: 0.5619968, Validation Loss: 1.2550409, Validation Acc: 0.4879227\n",
            "train...........\n",
            "LR 0.0025\n",
            "testing...........\n",
            "*====**\n",
            "0m 1s\n",
            "Epoch: 048, Train Loss: 0.8205770, Train Acc: 0.5942029, Validation Loss: 1.2893316, Validation Acc: 0.5748792\n",
            "train...........\n",
            "LR 0.0025\n",
            "testing...........\n",
            "*====**\n",
            "0m 1s\n",
            "Epoch: 049, Train Loss: 0.8457000, Train Acc: 0.5555556, Validation Loss: 1.2170192, Validation Acc: 0.4927536\n",
            "train...........\n",
            "LR 0.0025\n",
            "testing...........\n",
            "*====**\n",
            "0m 1s\n",
            "Epoch: 050, Train Loss: 0.8523449, Train Acc: 0.6086957, Validation Loss: 1.1000353, Validation Acc: 0.5024155\n",
            "train...........\n",
            "LR 0.0025\n",
            "testing...........\n",
            "*====**\n",
            "0m 1s\n",
            "Epoch: 051, Train Loss: 0.8406360, Train Acc: 0.7359098, Validation Loss: 1.0105051, Validation Acc: 0.5507246\n",
            "train...........\n",
            "LR 0.0025\n",
            "testing...........\n",
            "*====**\n",
            "0m 1s\n",
            "Epoch: 052, Train Loss: 0.8461974, Train Acc: 0.6022544, Validation Loss: 1.2102237, Validation Acc: 0.5024155\n",
            "train...........\n",
            "LR 0.0025\n",
            "testing...........\n",
            "*====**\n",
            "0m 1s\n",
            "Epoch: 053, Train Loss: 0.8342486, Train Acc: 0.5008052, Validation Loss: 1.2460035, Validation Acc: 0.5072464\n",
            "train...........\n",
            "LR 0.0025\n",
            "testing...........\n",
            "*====**\n",
            "0m 1s\n",
            "Epoch: 054, Train Loss: 0.8302369, Train Acc: 0.4734300, Validation Loss: 1.6577825, Validation Acc: 0.5169082\n",
            "train...........\n",
            "LR 0.0025\n",
            "testing...........\n",
            "*====**\n",
            "0m 1s\n",
            "Epoch: 055, Train Loss: 0.8245389, Train Acc: 0.6859903, Validation Loss: 1.0648250, Validation Acc: 0.5169082\n",
            "train...........\n",
            "LR 0.0025\n",
            "testing...........\n",
            "*====**\n",
            "0m 1s\n",
            "Epoch: 056, Train Loss: 0.8371210, Train Acc: 0.5136876, Validation Loss: 1.4547729, Validation Acc: 0.5265700\n",
            "train...........\n",
            "LR 0.0025\n",
            "testing...........\n",
            "*====**\n",
            "0m 1s\n",
            "Epoch: 057, Train Loss: 0.8220112, Train Acc: 0.7069243, Validation Loss: 1.0914865, Validation Acc: 0.5458937\n",
            "train...........\n",
            "LR 0.0025\n",
            "testing...........\n",
            "*====**\n",
            "0m 1s\n",
            "Epoch: 058, Train Loss: 0.8472058, Train Acc: 0.6199678, Validation Loss: 1.1740847, Validation Acc: 0.5120773\n",
            "train...........\n",
            "LR 0.00125\n",
            "testing...........\n",
            "*====**\n",
            "0m 1s\n",
            "Epoch: 059, Train Loss: 0.8024572, Train Acc: 0.7133655, Validation Loss: 1.0445179, Validation Acc: 0.5797101\n",
            "train...........\n",
            "LR 0.00125\n",
            "testing...........\n",
            "*====**\n",
            "0m 1s\n",
            "Epoch: 060, Train Loss: 0.8075678, Train Acc: 0.7504026, Validation Loss: 1.0272933, Validation Acc: 0.5507246\n",
            "train...........\n",
            "LR 0.00125\n",
            "testing...........\n",
            "*====**\n",
            "0m 1s\n",
            "Epoch: 061, Train Loss: 0.8045940, Train Acc: 0.7214171, Validation Loss: 1.0597769, Validation Acc: 0.5217391\n",
            "train...........\n",
            "LR 0.00125\n",
            "testing...........\n",
            "*====**\n",
            "0m 1s\n",
            "Epoch: 062, Train Loss: 0.7987889, Train Acc: 0.7536232, Validation Loss: 1.0216619, Validation Acc: 0.5603865\n",
            "train...........\n",
            "LR 0.00125\n",
            "testing...........\n",
            "*====**\n",
            "0m 1s\n",
            "Epoch: 063, Train Loss: 0.8029870, Train Acc: 0.7294686, Validation Loss: 1.0739086, Validation Acc: 0.5845411\n",
            "train...........\n",
            "LR 0.00125\n",
            "testing...........\n",
            "*====**\n",
            "0m 1s\n",
            "Epoch: 064, Train Loss: 0.7970914, Train Acc: 0.7359098, Validation Loss: 1.0700618, Validation Acc: 0.5217391\n",
            "train...........\n",
            "LR 0.00125\n",
            "testing...........\n",
            "*====**\n",
            "0m 1s\n",
            "Epoch: 065, Train Loss: 0.7863788, Train Acc: 0.7294686, Validation Loss: 1.0747981, Validation Acc: 0.5217391\n",
            "train...........\n",
            "LR 0.00125\n",
            "testing...........\n",
            "*====**\n",
            "0m 1s\n",
            "Epoch: 066, Train Loss: 0.7983013, Train Acc: 0.7214171, Validation Loss: 1.0747789, Validation Acc: 0.5314010\n",
            "train...........\n",
            "LR 0.00125\n",
            "testing...........\n",
            "*====**\n",
            "0m 1s\n",
            "Epoch: 067, Train Loss: 0.7775540, Train Acc: 0.7536232, Validation Loss: 1.0588448, Validation Acc: 0.5700483\n",
            "train...........\n",
            "LR 0.00125\n",
            "testing...........\n",
            "*====**\n",
            "0m 1s\n",
            "Epoch: 068, Train Loss: 0.7979693, Train Acc: 0.6457327, Validation Loss: 1.2089522, Validation Acc: 0.5507246\n",
            "train...........\n",
            "LR 0.00125\n",
            "testing...........\n",
            "*====**\n",
            "0m 1s\n",
            "Epoch: 069, Train Loss: 0.7884106, Train Acc: 0.7455717, Validation Loss: 1.0617124, Validation Acc: 0.5169082\n",
            "train...........\n",
            "LR 0.00125\n",
            "testing...........\n",
            "*====**\n",
            "0m 1s\n",
            "Epoch: 070, Train Loss: 0.7898694, Train Acc: 0.7455717, Validation Loss: 1.0719702, Validation Acc: 0.5072464\n",
            "train...........\n",
            "LR 0.00125\n",
            "testing...........\n",
            "*====**\n",
            "0m 1s\n",
            "Epoch: 071, Train Loss: 0.7662466, Train Acc: 0.6425121, Validation Loss: 1.1943373, Validation Acc: 0.5120773\n",
            "train...........\n",
            "LR 0.00125\n",
            "testing...........\n",
            "*====**\n",
            "0m 1s\n",
            "Epoch: 072, Train Loss: 0.7854428, Train Acc: 0.7616747, Validation Loss: 1.1023872, Validation Acc: 0.5652174\n",
            "train...........\n",
            "LR 0.00125\n",
            "testing...........\n",
            "*====**\n",
            "0m 1s\n",
            "Epoch: 073, Train Loss: 0.7735659, Train Acc: 0.7536232, Validation Loss: 1.1161146, Validation Acc: 0.5410628\n",
            "train...........\n",
            "LR 0.00125\n",
            "testing...........\n",
            "*====**\n",
            "0m 1s\n",
            "Epoch: 074, Train Loss: 0.7718615, Train Acc: 0.7777778, Validation Loss: 1.0982360, Validation Acc: 0.5458937\n",
            "train...........\n",
            "LR 0.00125\n",
            "testing...........\n",
            "*====**\n",
            "0m 1s\n",
            "Epoch: 075, Train Loss: 0.7936581, Train Acc: 0.6489533, Validation Loss: 1.2262143, Validation Acc: 0.5024155\n",
            "train...........\n",
            "LR 0.00125\n",
            "testing...........\n",
            "*====**\n",
            "0m 1s\n",
            "Epoch: 076, Train Loss: 0.7742482, Train Acc: 0.7842190, Validation Loss: 1.1162300, Validation Acc: 0.5458937\n",
            "train...........\n",
            "LR 0.00125\n",
            "testing...........\n",
            "*====**\n",
            "0m 1s\n",
            "Epoch: 077, Train Loss: 0.7651059, Train Acc: 0.7761675, Validation Loss: 1.1037836, Validation Acc: 0.5362319\n",
            "train...........\n",
            "LR 0.00125\n",
            "testing...........\n",
            "*====**\n",
            "0m 1s\n",
            "Epoch: 078, Train Loss: 0.7612761, Train Acc: 0.7681159, Validation Loss: 1.1176385, Validation Acc: 0.5314010\n",
            "train...........\n",
            "LR 0.000625\n",
            "testing...........\n",
            "*====**\n",
            "0m 1s\n",
            "Epoch: 079, Train Loss: 0.7615877, Train Acc: 0.7842190, Validation Loss: 1.1037282, Validation Acc: 0.5458937\n",
            "train...........\n",
            "LR 0.000625\n",
            "testing...........\n",
            "*====**\n",
            "0m 1s\n",
            "Epoch: 080, Train Loss: 0.7534926, Train Acc: 0.7906602, Validation Loss: 1.0860290, Validation Acc: 0.5458937\n",
            "train...........\n",
            "LR 0.000625\n",
            "testing...........\n",
            "*====**\n",
            "0m 1s\n",
            "Epoch: 081, Train Loss: 0.7462941, Train Acc: 0.7777778, Validation Loss: 1.0816541, Validation Acc: 0.5507246\n",
            "train...........\n",
            "LR 0.000625\n",
            "testing...........\n",
            "*====**\n",
            "0m 1s\n",
            "Epoch: 082, Train Loss: 0.7660403, Train Acc: 0.7262480, Validation Loss: 1.1995371, Validation Acc: 0.5555556\n",
            "train...........\n",
            "LR 0.000625\n",
            "testing...........\n",
            "*====**\n",
            "0m 1s\n",
            "Epoch: 083, Train Loss: 0.7356046, Train Acc: 0.8003221, Validation Loss: 1.0822459, Validation Acc: 0.5555556\n",
            "train...........\n",
            "LR 0.000625\n",
            "testing...........\n",
            "*====**\n",
            "0m 1s\n",
            "Epoch: 084, Train Loss: 0.7488010, Train Acc: 0.7713366, Validation Loss: 1.1026244, Validation Acc: 0.5169082\n",
            "train...........\n",
            "LR 0.000625\n",
            "testing...........\n",
            "*====**\n",
            "0m 1s\n",
            "Epoch: 085, Train Loss: 0.7567704, Train Acc: 0.7842190, Validation Loss: 1.0992382, Validation Acc: 0.5797101\n",
            "train...........\n",
            "LR 0.000625\n",
            "testing...........\n",
            "*====**\n",
            "0m 1s\n",
            "Epoch: 086, Train Loss: 0.7421226, Train Acc: 0.7665056, Validation Loss: 1.1254945, Validation Acc: 0.5555556\n",
            "train...........\n",
            "LR 0.000625\n",
            "testing...........\n",
            "*====**\n",
            "0m 1s\n",
            "Epoch: 087, Train Loss: 0.7324165, Train Acc: 0.8003221, Validation Loss: 1.0694899, Validation Acc: 0.5362319\n",
            "train...........\n",
            "LR 0.000625\n",
            "testing...........\n",
            "*====**\n",
            "0m 1s\n",
            "Epoch: 088, Train Loss: 0.7200698, Train Acc: 0.7809984, Validation Loss: 1.0897931, Validation Acc: 0.5652174\n",
            "train...........\n",
            "LR 0.000625\n",
            "testing...........\n",
            "*====**\n",
            "0m 1s\n",
            "Epoch: 089, Train Loss: 0.7336855, Train Acc: 0.8051530, Validation Loss: 1.1037572, Validation Acc: 0.5458937\n",
            "train...........\n",
            "LR 0.000625\n",
            "testing...........\n",
            "*====**\n",
            "0m 1s\n",
            "Epoch: 090, Train Loss: 0.7195588, Train Acc: 0.7842190, Validation Loss: 1.1682408, Validation Acc: 0.5265700\n",
            "train...........\n",
            "LR 0.000625\n",
            "testing...........\n",
            "*====**\n",
            "0m 1s\n",
            "Epoch: 091, Train Loss: 0.7217302, Train Acc: 0.7826087, Validation Loss: 1.2190931, Validation Acc: 0.5603865\n",
            "train...........\n",
            "LR 0.000625\n",
            "testing...........\n",
            "*====**\n",
            "0m 1s\n",
            "Epoch: 092, Train Loss: 0.7302759, Train Acc: 0.8051530, Validation Loss: 1.1700838, Validation Acc: 0.5652174\n",
            "train...........\n",
            "LR 0.000625\n",
            "testing...........\n",
            "*====**\n",
            "0m 1s\n",
            "Epoch: 093, Train Loss: 0.7261861, Train Acc: 0.8067633, Validation Loss: 1.1631810, Validation Acc: 0.5265700\n",
            "train...........\n",
            "LR 0.000625\n",
            "testing...........\n",
            "*====**\n",
            "0m 1s\n",
            "Epoch: 094, Train Loss: 0.7188652, Train Acc: 0.7729469, Validation Loss: 1.1153232, Validation Acc: 0.5410628\n",
            "train...........\n",
            "LR 0.000625\n",
            "testing...........\n",
            "*====**\n",
            "0m 1s\n",
            "Epoch: 095, Train Loss: 0.7335353, Train Acc: 0.7632850, Validation Loss: 1.1769318, Validation Acc: 0.5555556\n",
            "train...........\n",
            "LR 0.000625\n",
            "testing...........\n",
            "*====**\n",
            "0m 1s\n",
            "Epoch: 096, Train Loss: 0.7160953, Train Acc: 0.6908213, Validation Loss: 1.2926481, Validation Acc: 0.5458937\n",
            "train...........\n",
            "LR 0.000625\n",
            "testing...........\n",
            "*====**\n",
            "0m 1s\n",
            "Epoch: 097, Train Loss: 0.7149652, Train Acc: 0.8196457, Validation Loss: 1.0935696, Validation Acc: 0.5314010\n",
            "train...........\n",
            "LR 0.000625\n",
            "testing...........\n",
            "*====**\n",
            "0m 1s\n",
            "Epoch: 098, Train Loss: 0.7223355, Train Acc: 0.8228663, Validation Loss: 1.1132448, Validation Acc: 0.5942029\n",
            "train...........\n",
            "LR 0.0003125\n",
            "testing...........\n",
            "*====**\n",
            "0m 1s\n",
            "Epoch: 099, Train Loss: 0.7155383, Train Acc: 0.8035427, Validation Loss: 1.1388227, Validation Acc: 0.5700483\n",
            "testing...........\n",
            "===========================\n",
            "Test Acc: 0.6086957, Test Loss: 0.9719669 \n",
            "Namespace(epoch=0, n_epochs=100, batchSize=100, dataroot='/content/BrainGNN/data/ABIDE_pcp/cpac/filt_noglobal', fold=0, lr=0.01, stepsize=20, gamma=0.5, weightdecay=0.005, lamb0=1, lamb1=0, lamb2=0, lamb3=0.1, lamb4=0.1, lamb5=0.1, ratio=0.5, indim=None, nroi=None, atlas='ho', nclass=2, load_model=False, save_model=True, optim='Adam', save_path='/content/BrainGNN/model', model_file_name='saved_model', explain=True, print_explainability_report=True)\n",
            "\n",
            "Explainability report:\n",
            "\n",
            "Explanation for sample 4 (assigned as control): [4, 13, 14, 20, 25, 31, 34, 35, 42, 45, 47, 48, 49, 52, 53, 54, 61, 62, 65, 67, 69, 73, 76, 77, 90, 92, 99, 102]\n",
            "\n",
            "Explanation for sample 5 (assigned as control): [2, 5, 11, 17, 18, 20, 22, 23, 24, 35, 38, 41, 42, 44, 45, 47, 49, 50, 54, 65, 69, 78, 81, 88, 97, 99, 100, 103]\n",
            "\n",
            "Explanation for sample 7 (assigned as control): [6, 9, 14, 15, 20, 23, 24, 25, 42, 50, 54, 56, 58, 59, 63, 71, 75, 79, 82, 84, 85, 89, 93, 94, 98, 99, 109, 110]\n",
            "\n",
            "Explanation for sample 13 (assigned as control): [5, 10, 20, 22, 23, 25, 35, 39, 46, 52, 53, 59, 60, 65, 67, 71, 73, 75, 80, 87, 88, 93, 101, 102, 107, 108, 109, 110]\n",
            "\n",
            "Explanation for sample 18 (assigned as control): [1, 2, 4, 5, 6, 13, 22, 23, 24, 30, 32, 35, 41, 47, 63, 66, 67, 69, 71, 82, 86, 88, 93, 99, 106, 108, 109, 110]\n",
            "\n",
            "Explanation for sample 28 (assigned as autistic): [2, 14, 15, 16, 19, 20, 21, 23, 25, 28, 34, 35, 40, 41, 42, 43, 45, 54, 55, 62, 64, 65, 66, 69, 78, 79, 89, 96]\n",
            "\n",
            "Explanation for sample 31 (assigned as autistic): [21, 23, 25, 26, 31, 35, 44, 45, 48, 50, 51, 53, 54, 55, 64, 65, 67, 72, 76, 77, 82, 86, 89, 90, 91, 94, 108, 109]\n",
            "\n",
            "Explanation for sample 35 (assigned as autistic): [13, 21, 22, 23, 24, 25, 27, 35, 40, 41, 42, 44, 50, 52, 53, 55, 61, 62, 63, 67, 69, 81, 82, 89, 97, 107, 109, 110]\n",
            "\n",
            "Explanation for sample 36 (assigned as autistic): [5, 6, 11, 19, 20, 21, 23, 24, 25, 26, 27, 31, 40, 41, 44, 46, 47, 50, 53, 54, 64, 65, 72, 80, 81, 83, 90, 95]\n",
            "\n",
            "Explanation for sample 41 (assigned as autistic): [13, 22, 23, 24, 25, 35, 41, 48, 53, 54, 55, 60, 61, 66, 69, 72, 73, 76, 78, 81, 82, 83, 87, 88, 90, 102, 104, 107]\n",
            "\n",
            "Explanation for sample 42 (assigned as autistic): [13, 19, 21, 25, 28, 34, 35, 37, 39, 40, 41, 44, 54, 57, 62, 63, 66, 69, 72, 73, 78, 82, 87, 89, 96, 99, 100, 107]\n",
            "\n",
            "Explanation for sample 43 (assigned as autistic): [17, 24, 25, 32, 47, 48, 49, 52, 53, 54, 55, 56, 66, 71, 72, 73, 76, 77, 78, 86, 87, 96, 101, 103, 105, 107, 109, 110]\n",
            "\n",
            "Explanation for sample 48 (assigned as control): [0, 17, 23, 29, 40, 44, 45, 49, 51, 55, 64, 65, 66, 69, 71, 73, 75, 78, 80, 81, 82, 85, 88, 91, 92, 93, 96, 105]\n",
            "\n",
            "Explanation for sample 50 (assigned as control): [23, 31, 39, 40, 41, 42, 49, 51, 53, 54, 63, 67, 72, 73, 74, 75, 76, 77, 80, 81, 82, 87, 88, 89, 95, 96, 99, 108]\n",
            "\n",
            "Explanation for sample 52 (assigned as control): [5, 12, 13, 14, 15, 18, 20, 23, 24, 48, 52, 63, 64, 65, 69, 80, 81, 82, 83, 84, 88, 89, 90, 95, 96, 97, 98, 101]\n",
            "\n",
            "Explanation for sample 54 (assigned as autistic): [1, 5, 6, 8, 11, 12, 13, 18, 24, 27, 29, 31, 32, 35, 40, 41, 42, 44, 46, 54, 64, 67, 71, 81, 83, 90, 92, 104]\n",
            "\n",
            "Explanation for sample 55 (assigned as autistic): [20, 21, 22, 23, 25, 31, 41, 42, 44, 45, 49, 51, 52, 53, 54, 55, 56, 57, 63, 65, 67, 73, 75, 83, 87, 92, 98, 100]\n",
            "\n",
            "Explanation for sample 57 (assigned as autistic): [1, 2, 3, 8, 13, 17, 18, 23, 31, 33, 38, 42, 44, 52, 63, 64, 66, 67, 69, 75, 87, 89, 92, 93, 94, 96, 98, 110]\n",
            "\n",
            "Explanation for sample 72 (assigned as control): [0, 6, 7, 10, 13, 23, 25, 35, 40, 41, 52, 54, 63, 65, 66, 67, 71, 72, 73, 75, 86, 87, 91, 93, 94, 95, 96, 97]\n",
            "\n",
            "Explanation for sample 85 (assigned as control): [7, 8, 13, 14, 15, 21, 22, 23, 25, 35, 37, 39, 46, 49, 51, 53, 55, 57, 63, 65, 67, 69, 71, 82, 83, 87, 96, 102]\n",
            "\n",
            "Explanation for sample 95 (assigned as control): [0, 7, 13, 20, 32, 47, 48, 49, 51, 53, 54, 55, 60, 63, 67, 69, 70, 72, 73, 74, 75, 76, 82, 83, 89, 95, 96, 108]\n",
            "\n",
            "Explanation for sample 98 (assigned as control): [1, 8, 13, 22, 23, 24, 25, 26, 38, 44, 45, 46, 50, 52, 56, 58, 59, 67, 77, 78, 87, 92, 93, 94, 99, 107, 109, 110]\n",
            "\n",
            "Explanation for sample 100 (assigned as control): [1, 8, 9, 13, 20, 21, 22, 23, 25, 26, 27, 30, 39, 48, 49, 52, 54, 60, 63, 67, 71, 73, 75, 76, 80, 85, 96, 109]\n",
            "\n",
            "Explanation for sample 102 (assigned as autistic): [1, 6, 8, 9, 10, 13, 18, 27, 32, 44, 47, 49, 53, 55, 63, 64, 65, 70, 71, 73, 75, 83, 87, 88, 101, 103, 106, 108]\n",
            "\n",
            "Explanation for sample 103 (assigned as autistic): [6, 11, 13, 35, 37, 38, 44, 48, 49, 54, 58, 59, 62, 66, 67, 72, 73, 75, 80, 81, 82, 83, 84, 87, 88, 91, 100, 110]\n",
            "\n",
            "Explanation for sample 114 (assigned as autistic): [0, 1, 8, 9, 13, 18, 20, 32, 33, 35, 42, 44, 45, 52, 64, 67, 73, 77, 81, 82, 83, 87, 88, 89, 103, 108, 109, 110]\n",
            "\n",
            "Explanation for sample 117 (assigned as control): [5, 8, 17, 27, 29, 30, 46, 47, 49, 50, 51, 80, 82, 83, 86, 87, 88, 95, 96, 97, 98, 100, 101, 102, 103, 104, 108, 109]\n",
            "\n",
            "Explanation for sample 131 (assigned as autistic): [3, 8, 9, 16, 23, 32, 40, 42, 44, 48, 51, 52, 59, 63, 64, 66, 67, 80, 81, 82, 88, 89, 90, 95, 97, 99, 104, 105]\n",
            "\n",
            "Explanation for sample 134 (assigned as autistic): [1, 6, 8, 10, 13, 20, 24, 28, 29, 35, 42, 45, 50, 54, 56, 62, 63, 66, 67, 80, 82, 84, 87, 90, 96, 99, 108, 109]\n",
            "\n",
            "Explanation for sample 138 (assigned as autistic): [1, 4, 6, 8, 10, 13, 22, 23, 24, 27, 44, 45, 48, 54, 63, 66, 67, 71, 75, 77, 80, 82, 87, 92, 97, 98, 100, 108]\n",
            "\n",
            "Explanation for sample 145 (assigned as autistic): [4, 6, 12, 14, 18, 23, 33, 34, 35, 38, 39, 40, 41, 62, 63, 67, 76, 77, 82, 83, 84, 86, 87, 89, 90, 99, 107, 108]\n",
            "\n",
            "Explanation for sample 147 (assigned as autistic): [0, 4, 6, 7, 8, 15, 21, 22, 23, 24, 25, 26, 27, 34, 42, 44, 45, 48, 62, 63, 67, 69, 77, 78, 82, 87, 88, 95]\n",
            "\n",
            "Explanation for sample 156 (assigned as control): [6, 12, 20, 23, 24, 25, 39, 45, 47, 48, 49, 50, 51, 52, 55, 57, 61, 68, 69, 71, 73, 77, 82, 87, 92, 95, 96, 108]\n",
            "\n",
            "Explanation for sample 161 (assigned as control): [4, 6, 11, 13, 16, 22, 24, 31, 33, 35, 44, 52, 54, 56, 58, 65, 71, 72, 73, 84, 89, 92, 95, 97, 99, 101, 103, 104]\n",
            "\n",
            "Explanation for sample 162 (assigned as control): [1, 7, 13, 20, 22, 23, 25, 35, 44, 45, 49, 51, 52, 53, 61, 66, 68, 69, 70, 71, 75, 83, 87, 98, 101, 102, 107, 108]\n",
            "\n",
            "Explanation for sample 164 (assigned as control): [3, 7, 8, 11, 12, 13, 15, 22, 24, 25, 31, 35, 40, 41, 42, 43, 45, 54, 55, 65, 67, 69, 71, 78, 82, 87, 88, 108]\n",
            "\n",
            "Explanation for sample 167 (assigned as control): [8, 13, 20, 21, 22, 23, 24, 25, 38, 43, 44, 48, 49, 51, 53, 54, 55, 65, 66, 67, 69, 71, 82, 88, 90, 92, 96, 104]\n",
            "\n",
            "Explanation for sample 171 (assigned as control): [11, 12, 13, 21, 26, 27, 30, 44, 45, 47, 49, 50, 51, 54, 59, 61, 62, 66, 71, 75, 80, 86, 87, 88, 92, 94, 98, 108]\n",
            "\n",
            "Explanation for sample 172 (assigned as control): [1, 6, 7, 8, 9, 10, 13, 23, 25, 30, 34, 40, 41, 43, 44, 53, 55, 59, 65, 73, 80, 82, 87, 88, 92, 96, 99, 106]\n",
            "\n",
            "Explanation for sample 182 (assigned as autistic): [4, 21, 22, 23, 25, 29, 44, 45, 49, 51, 52, 53, 54, 55, 57, 62, 63, 65, 67, 69, 78, 80, 82, 84, 88, 92, 102, 110]\n",
            "\n",
            "Explanation for sample 184 (assigned as autistic): [3, 4, 6, 9, 11, 13, 29, 34, 38, 39, 42, 52, 53, 60, 64, 65, 67, 83, 85, 86, 96, 98, 99, 100, 104, 105, 107, 109]\n",
            "\n",
            "Explanation for sample 188 (assigned as control): [5, 6, 8, 12, 16, 22, 23, 24, 25, 28, 34, 40, 42, 44, 48, 54, 63, 80, 81, 82, 83, 84, 88, 89, 91, 95, 97, 103]\n",
            "\n",
            "Explanation for sample 196 (assigned as control): [6, 9, 10, 13, 17, 23, 29, 33, 37, 40, 41, 44, 50, 51, 62, 63, 66, 67, 73, 75, 78, 79, 81, 82, 87, 88, 96, 108]\n",
            "\n",
            "Explanation for sample 200 (assigned as control): [4, 6, 12, 13, 29, 32, 33, 35, 39, 40, 42, 44, 50, 62, 66, 67, 71, 73, 75, 80, 85, 87, 88, 90, 94, 103, 109, 110]\n",
            "\n",
            "Explanation for sample 203 (assigned as control): [4, 6, 10, 24, 25, 29, 31, 35, 40, 41, 52, 54, 55, 61, 71, 73, 77, 83, 84, 87, 88, 89, 90, 92, 97, 102, 107, 109]\n",
            "\n",
            "Explanation for sample 204 (assigned as control): [1, 8, 15, 21, 22, 23, 24, 25, 29, 30, 35, 38, 39, 40, 41, 49, 50, 51, 52, 53, 55, 56, 71, 73, 82, 88, 98, 100]\n",
            "\n",
            "Explanation for sample 210 (assigned as control): [10, 13, 14, 20, 21, 25, 29, 35, 41, 54, 55, 56, 57, 69, 71, 74, 75, 76, 82, 83, 87, 88, 89, 96, 107, 108, 109, 110]\n",
            "\n",
            "Explanation for sample 221 (assigned as control): [1, 4, 5, 12, 13, 21, 24, 29, 31, 33, 35, 36, 41, 42, 43, 66, 67, 75, 80, 82, 83, 84, 85, 87, 90, 91, 102, 108]\n",
            "\n",
            "Explanation for sample 226 (assigned as control): [23, 24, 25, 38, 46, 48, 50, 51, 52, 54, 55, 56, 58, 59, 61, 65, 75, 77, 86, 87, 93, 94, 96, 99, 100, 108, 109, 110]\n",
            "\n",
            "Explanation for sample 229 (assigned as control): [1, 4, 5, 11, 12, 22, 23, 24, 27, 30, 35, 44, 53, 56, 62, 63, 66, 71, 81, 82, 83, 88, 94, 97, 98, 108, 109, 110]\n",
            "\n",
            "Explanation for sample 235 (assigned as control): [3, 10, 13, 14, 15, 20, 21, 22, 23, 25, 41, 42, 44, 48, 49, 53, 54, 55, 58, 63, 66, 67, 82, 85, 87, 93, 94, 110]\n",
            "\n",
            "Explanation for sample 239 (assigned as control): [10, 13, 33, 34, 35, 40, 41, 42, 44, 45, 54, 63, 67, 75, 80, 81, 82, 83, 87, 88, 89, 90, 91, 92, 93, 98, 107, 109]\n",
            "\n",
            "Explanation for sample 252 (assigned as autistic): [4, 10, 12, 13, 23, 29, 34, 35, 40, 41, 42, 47, 50, 51, 62, 63, 75, 80, 81, 82, 83, 87, 88, 89, 96, 97, 99, 108]\n",
            "\n",
            "Explanation for sample 260 (assigned as autistic): [8, 14, 15, 22, 23, 24, 34, 39, 40, 44, 45, 52, 54, 56, 62, 63, 73, 75, 80, 81, 82, 84, 87, 88, 93, 94, 97, 108]\n",
            "\n",
            "Explanation for sample 261 (assigned as autistic): [4, 5, 6, 28, 29, 31, 34, 35, 38, 39, 40, 41, 42, 47, 50, 52, 54, 67, 71, 80, 82, 83, 84, 87, 88, 89, 101, 102]\n",
            "\n",
            "Explanation for sample 267 (assigned as autistic): [1, 3, 6, 8, 10, 11, 16, 23, 25, 30, 31, 50, 54, 57, 58, 61, 63, 67, 73, 75, 78, 80, 82, 87, 91, 93, 96, 101]\n",
            "\n",
            "Explanation for sample 269 (assigned as autistic): [4, 6, 11, 13, 20, 21, 22, 35, 39, 40, 41, 42, 47, 62, 63, 65, 66, 67, 79, 80, 81, 82, 84, 87, 89, 99, 100, 108]\n",
            "\n",
            "Explanation for sample 272 (assigned as autistic): [0, 1, 2, 3, 6, 9, 10, 13, 16, 17, 24, 33, 35, 52, 54, 60, 63, 67, 72, 73, 75, 88, 92, 93, 95, 104, 106, 109]\n",
            "\n",
            "Explanation for sample 273 (assigned as autistic): [2, 9, 10, 13, 16, 23, 24, 25, 30, 32, 34, 38, 41, 42, 54, 55, 57, 73, 77, 80, 82, 83, 88, 89, 96, 101, 105, 108]\n",
            "\n",
            "Explanation for sample 274 (assigned as autistic): [23, 25, 29, 34, 35, 39, 40, 41, 42, 44, 45, 49, 50, 51, 53, 59, 63, 67, 73, 80, 82, 87, 89, 90, 91, 92, 96, 108]\n",
            "\n",
            "Explanation for sample 279 (assigned as autistic): [0, 15, 16, 17, 21, 23, 25, 35, 39, 42, 44, 53, 55, 68, 69, 76, 77, 80, 86, 89, 90, 92, 95, 96, 97, 99, 103, 109]\n",
            "\n",
            "Explanation for sample 280 (assigned as autistic): [13, 20, 23, 24, 44, 45, 46, 49, 50, 51, 52, 53, 54, 56, 58, 73, 76, 77, 82, 83, 84, 87, 88, 89, 92, 94, 99, 108]\n",
            "\n",
            "Explanation for sample 285 (assigned as autistic): [4, 5, 10, 13, 22, 23, 33, 38, 39, 44, 50, 51, 63, 64, 67, 77, 80, 82, 83, 84, 86, 87, 88, 94, 96, 101, 108, 109]\n",
            "\n",
            "Explanation for sample 299 (assigned as autistic): [4, 18, 23, 27, 35, 39, 40, 41, 44, 45, 46, 47, 48, 49, 50, 52, 54, 55, 61, 70, 71, 84, 87, 88, 96, 103, 109, 110]\n",
            "\n",
            "Explanation for sample 308 (assigned as control): [1, 7, 11, 22, 23, 24, 39, 44, 45, 51, 53, 54, 55, 57, 64, 69, 71, 73, 75, 80, 82, 83, 84, 87, 88, 95, 108, 110]\n",
            "\n",
            "Explanation for sample 310 (assigned as control): [11, 22, 23, 24, 29, 34, 35, 38, 39, 40, 42, 49, 50, 52, 53, 54, 55, 62, 63, 65, 67, 75, 77, 80, 81, 87, 88, 96]\n",
            "\n",
            "Explanation for sample 313 (assigned as control): [1, 8, 13, 19, 22, 23, 27, 32, 39, 40, 47, 48, 49, 50, 51, 53, 59, 63, 64, 65, 69, 77, 82, 87, 88, 96, 100, 108]\n",
            "\n",
            "Explanation for sample 314 (assigned as control): [8, 10, 22, 23, 24, 25, 31, 34, 35, 39, 41, 54, 59, 63, 73, 75, 76, 77, 80, 81, 84, 87, 88, 92, 94, 96, 102, 108]\n",
            "\n",
            "Explanation for sample 316 (assigned as autistic): [5, 6, 14, 15, 20, 21, 23, 25, 29, 35, 37, 39, 41, 45, 50, 51, 63, 67, 80, 81, 82, 84, 87, 88, 96, 99, 103, 108]\n",
            "\n",
            "Explanation for sample 318 (assigned as autistic): [13, 14, 19, 20, 22, 24, 32, 44, 45, 50, 51, 53, 54, 55, 63, 66, 67, 75, 76, 84, 87, 88, 96, 97, 98, 99, 107, 108]\n",
            "\n",
            "Explanation for sample 326 (assigned as autistic): [1, 5, 6, 8, 22, 23, 24, 25, 31, 32, 33, 35, 39, 41, 42, 51, 52, 53, 54, 61, 62, 71, 75, 77, 89, 96, 108, 110]\n",
            "\n",
            "Explanation for sample 327 (assigned as autistic): [2, 3, 5, 8, 10, 16, 30, 35, 40, 41, 42, 44, 54, 55, 61, 69, 73, 75, 78, 80, 82, 87, 89, 98, 101, 103, 107, 108]\n",
            "\n",
            "Explanation for sample 328 (assigned as autistic): [1, 3, 8, 10, 12, 20, 32, 44, 47, 56, 58, 59, 64, 65, 77, 82, 84, 87, 91, 93, 94, 96, 98, 104, 107, 108, 109, 110]\n",
            "\n",
            "Explanation for sample 336 (assigned as autistic): [1, 3, 6, 8, 9, 10, 12, 13, 23, 24, 35, 44, 47, 48, 50, 63, 65, 69, 80, 81, 85, 87, 88, 92, 93, 94, 96, 103]\n",
            "\n",
            "Explanation for sample 338 (assigned as autistic): [14, 22, 23, 25, 28, 40, 41, 42, 43, 45, 49, 50, 51, 53, 62, 67, 70, 72, 73, 78, 82, 87, 88, 89, 90, 99, 100, 108]\n",
            "\n",
            "Explanation for sample 344 (assigned as autistic): [4, 6, 11, 12, 13, 22, 23, 24, 35, 41, 42, 43, 44, 45, 51, 60, 63, 66, 68, 69, 71, 72, 75, 78, 82, 92, 109, 110]\n",
            "\n",
            "Explanation for sample 345 (assigned as autistic): [4, 7, 30, 34, 36, 40, 41, 42, 43, 44, 45, 59, 61, 65, 72, 73, 74, 77, 81, 87, 88, 89, 90, 92, 94, 107, 108, 110]\n",
            "\n",
            "Explanation for sample 346 (assigned as autistic): [0, 2, 3, 4, 7, 8, 9, 20, 21, 25, 41, 44, 45, 50, 51, 53, 55, 56, 59, 65, 69, 77, 87, 89, 90, 97, 101, 110]\n",
            "\n",
            "Explanation for sample 348 (assigned as autistic): [1, 6, 8, 13, 17, 20, 25, 34, 38, 40, 42, 45, 62, 63, 65, 68, 69, 71, 80, 82, 83, 90, 94, 96, 100, 104, 108, 110]\n",
            "\n",
            "Explanation for sample 351 (assigned as autistic): [7, 13, 22, 23, 24, 25, 31, 42, 44, 45, 48, 50, 51, 53, 54, 55, 57, 73, 82, 84, 87, 91, 96, 98, 99, 100, 103, 108]\n",
            "\n",
            "Explanation for sample 353 (assigned as control): [0, 7, 8, 11, 12, 16, 29, 31, 33, 34, 42, 44, 50, 54, 55, 56, 71, 73, 82, 87, 90, 91, 92, 93, 96, 97, 99, 100]\n",
            "\n",
            "Explanation for sample 363 (assigned as control): [6, 10, 12, 13, 17, 34, 35, 40, 41, 53, 54, 55, 63, 77, 80, 82, 83, 84, 87, 90, 91, 92, 95, 96, 97, 102, 103, 104]\n",
            "\n",
            "Explanation for sample 367 (assigned as control): [1, 6, 8, 10, 13, 23, 25, 31, 35, 37, 42, 43, 48, 51, 53, 54, 55, 63, 66, 67, 69, 71, 73, 84, 88, 90, 92, 95]\n",
            "\n",
            "Explanation for sample 369 (assigned as control): [5, 6, 8, 12, 15, 21, 23, 25, 31, 35, 44, 45, 54, 55, 63, 67, 73, 78, 80, 81, 82, 88, 90, 94, 95, 96, 108, 110]\n",
            "\n",
            "Explanation for sample 375 (assigned as control): [1, 2, 4, 6, 11, 12, 16, 24, 33, 35, 41, 44, 48, 52, 54, 60, 61, 63, 67, 69, 77, 78, 81, 83, 94, 95, 102, 107]\n",
            "\n",
            "Explanation for sample 378 (assigned as control): [0, 2, 13, 18, 21, 23, 31, 35, 44, 50, 53, 55, 65, 66, 67, 69, 71, 73, 81, 82, 90, 97, 98, 99, 100, 102, 103, 108]\n",
            "\n",
            "Explanation for sample 381 (assigned as control): [6, 10, 13, 24, 35, 37, 38, 39, 40, 41, 44, 45, 51, 55, 63, 66, 67, 72, 75, 76, 77, 81, 84, 90, 97, 104, 107, 108]\n",
            "\n",
            "Explanation for sample 384 (assigned as control): [7, 8, 10, 11, 15, 19, 20, 22, 23, 24, 44, 48, 49, 50, 51, 52, 53, 54, 57, 71, 73, 75, 80, 83, 85, 88, 95, 100]\n",
            "\n",
            "Explanation for sample 387 (assigned as control): [8, 13, 21, 23, 24, 37, 42, 44, 45, 48, 49, 51, 52, 54, 55, 56, 57, 64, 67, 71, 73, 75, 77, 82, 87, 90, 99, 100]\n",
            "\n",
            "Explanation for sample 389 (assigned as control): [4, 5, 22, 31, 35, 41, 42, 44, 47, 48, 54, 55, 62, 63, 65, 66, 69, 71, 73, 75, 80, 87, 89, 92, 94, 95, 97, 107]\n",
            "\n",
            "Explanation for sample 397 (assigned as control): [2, 3, 4, 8, 23, 29, 31, 35, 41, 42, 43, 45, 48, 49, 51, 57, 75, 81, 88, 90, 92, 95, 97, 98, 103, 104, 105, 108]\n",
            "\n",
            "Explanation for sample 406 (assigned as autistic): [0, 1, 2, 8, 21, 22, 26, 41, 44, 45, 53, 55, 56, 57, 60, 61, 64, 65, 80, 82, 83, 86, 87, 88, 89, 90, 104, 107]\n",
            "\n",
            "Explanation for sample 421 (assigned as autistic): [1, 4, 6, 7, 8, 10, 12, 13, 17, 20, 26, 40, 41, 47, 49, 61, 65, 71, 73, 82, 85, 95, 101, 102, 103, 106, 108, 110]\n",
            "\n",
            "Explanation for sample 425 (assigned as autistic): [8, 12, 22, 23, 26, 27, 30, 42, 44, 45, 46, 49, 51, 55, 60, 64, 65, 76, 77, 80, 82, 86, 87, 93, 94, 107, 109, 110]\n",
            "\n",
            "Explanation for sample 426 (assigned as autistic): [6, 8, 13, 28, 31, 42, 44, 47, 48, 49, 50, 51, 64, 65, 67, 71, 75, 80, 82, 84, 87, 88, 90, 94, 98, 100, 108, 110]\n",
            "\n",
            "Explanation for sample 427 (assigned as control): [4, 38, 41, 42, 43, 44, 46, 47, 48, 49, 50, 51, 54, 60, 61, 63, 64, 67, 71, 73, 82, 88, 92, 95, 99, 100, 107, 108]\n",
            "\n",
            "Explanation for sample 429 (assigned as control): [1, 6, 8, 9, 15, 17, 19, 21, 23, 25, 30, 39, 48, 49, 50, 51, 53, 54, 55, 57, 59, 65, 71, 74, 75, 91, 93, 95]\n",
            "\n",
            "Explanation for sample 431 (assigned as control): [1, 3, 6, 12, 21, 23, 25, 48, 51, 53, 54, 55, 61, 62, 63, 64, 76, 77, 80, 82, 87, 93, 94, 96, 107, 108, 109, 110]\n",
            "\n",
            "Explanation for sample 437 (assigned as control): [1, 4, 8, 13, 27, 44, 45, 47, 49, 51, 52, 53, 54, 55, 62, 63, 64, 66, 67, 71, 73, 80, 82, 83, 87, 94, 101, 108]\n",
            "\n",
            "Explanation for sample 453 (assigned as control): [1, 3, 8, 9, 24, 44, 45, 48, 49, 50, 51, 52, 54, 60, 76, 77, 80, 82, 83, 87, 88, 91, 93, 94, 100, 107, 108, 110]\n",
            "\n",
            "Explanation for sample 456 (assigned as control): [5, 6, 12, 13, 20, 21, 29, 31, 34, 38, 40, 41, 42, 51, 62, 63, 66, 67, 75, 80, 81, 82, 84, 87, 88, 90, 95, 100]\n",
            "\n",
            "Explanation for sample 457 (assigned as control): [0, 4, 5, 7, 9, 10, 11, 12, 22, 24, 40, 41, 42, 48, 49, 52, 53, 60, 63, 69, 75, 76, 81, 82, 87, 88, 94, 107]\n",
            "\n",
            "Explanation for sample 462 (assigned as control): [20, 21, 23, 24, 25, 26, 38, 40, 42, 44, 47, 52, 53, 54, 55, 56, 64, 65, 82, 88, 89, 94, 95, 96, 98, 99, 108, 110]\n",
            "\n",
            "Explanation for sample 487 (assigned as autistic): [3, 14, 16, 20, 23, 26, 27, 35, 37, 42, 44, 46, 47, 48, 50, 52, 54, 55, 65, 66, 67, 73, 80, 82, 87, 89, 96, 97]\n",
            "\n",
            "Explanation for sample 492 (assigned as control): [4, 11, 13, 14, 18, 20, 25, 28, 37, 38, 41, 42, 43, 45, 47, 48, 50, 51, 53, 54, 55, 61, 62, 63, 66, 78, 89, 107]\n",
            "\n",
            "Explanation for sample 499 (assigned as control): [18, 20, 24, 26, 38, 48, 50, 51, 52, 54, 60, 64, 65, 68, 69, 70, 71, 72, 73, 75, 76, 77, 96, 97, 99, 107, 108, 110]\n",
            "\n",
            "Explanation for sample 505 (assigned as autistic): [11, 12, 20, 22, 23, 24, 25, 33, 34, 35, 36, 37, 40, 43, 51, 65, 72, 73, 76, 77, 78, 79, 81, 83, 89, 95, 96, 97]\n",
            "\n",
            "Explanation for sample 511 (assigned as autistic): [1, 3, 4, 11, 13, 20, 22, 23, 24, 26, 27, 31, 40, 41, 43, 44, 47, 50, 65, 67, 73, 80, 81, 82, 84, 87, 88, 110]\n",
            "\n",
            "Explanation for sample 525 (assigned as autistic): [11, 15, 18, 19, 23, 33, 35, 38, 39, 41, 43, 50, 51, 55, 63, 65, 66, 67, 69, 71, 73, 79, 83, 87, 88, 94, 99, 110]\n",
            "\n",
            "Explanation for sample 532 (assigned as control): [6, 12, 13, 20, 22, 24, 26, 31, 33, 39, 44, 48, 49, 50, 51, 52, 53, 54, 55, 56, 64, 75, 77, 80, 81, 82, 87, 96]\n",
            "\n",
            "Explanation for sample 534 (assigned as control): [1, 2, 3, 23, 38, 40, 41, 42, 43, 44, 50, 51, 60, 61, 63, 65, 66, 67, 75, 78, 84, 87, 90, 92, 97, 99, 109, 110]\n",
            "\n",
            "Explanation for sample 541 (assigned as control): [1, 4, 6, 8, 13, 20, 22, 24, 42, 44, 45, 49, 51, 53, 54, 56, 57, 60, 67, 72, 75, 76, 77, 80, 82, 87, 89, 92]\n",
            "\n",
            "Explanation for sample 566 (assigned as control): [2, 3, 4, 5, 8, 11, 12, 16, 17, 48, 50, 69, 70, 73, 80, 82, 83, 84, 88, 95, 96, 97, 99, 101, 102, 103, 104, 109]\n",
            "\n",
            "Explanation for sample 567 (assigned as control): [1, 4, 5, 8, 9, 10, 11, 12, 22, 25, 33, 34, 40, 51, 54, 65, 68, 69, 70, 73, 80, 82, 88, 95, 97, 98, 99, 103]\n",
            "\n",
            "Explanation for sample 571 (assigned as control): [0, 4, 10, 11, 12, 13, 35, 41, 42, 54, 63, 66, 67, 71, 73, 78, 80, 81, 82, 84, 87, 89, 90, 96, 98, 107, 109, 110]\n",
            "\n",
            "Explanation for sample 594 (assigned as control): [6, 8, 13, 22, 23, 24, 27, 42, 44, 47, 48, 49, 50, 52, 64, 65, 66, 67, 80, 81, 83, 87, 88, 95, 96, 98, 99, 106]\n",
            "\n",
            "Explanation for sample 597 (assigned as control): [5, 12, 22, 23, 29, 30, 31, 33, 34, 39, 40, 42, 49, 51, 55, 58, 63, 65, 66, 73, 81, 82, 87, 88, 89, 96, 103, 108]\n",
            "\n",
            "Explanation for sample 600 (assigned as control): [3, 4, 8, 10, 11, 20, 21, 23, 25, 31, 34, 35, 38, 40, 41, 42, 43, 44, 51, 54, 65, 67, 69, 75, 80, 87, 88, 90]\n",
            "\n",
            "Explanation for sample 603 (assigned as control): [8, 10, 12, 15, 28, 35, 41, 42, 48, 52, 58, 61, 67, 73, 77, 81, 82, 83, 84, 87, 88, 89, 91, 92, 93, 97, 102, 108]\n",
            "\n",
            "Explanation for sample 605 (assigned as control): [10, 16, 19, 20, 21, 23, 25, 41, 45, 46, 51, 55, 56, 57, 61, 63, 66, 67, 77, 81, 82, 83, 87, 88, 94, 96, 107, 109]\n",
            "\n",
            "Explanation for sample 614 (assigned as control): [3, 4, 10, 12, 13, 15, 23, 24, 30, 34, 39, 42, 44, 45, 48, 62, 63, 66, 69, 71, 80, 82, 83, 87, 88, 91, 95, 103]\n",
            "\n",
            "Explanation for sample 620 (assigned as control): [0, 4, 5, 13, 20, 35, 41, 42, 45, 48, 51, 60, 62, 63, 65, 66, 67, 73, 77, 85, 88, 89, 92, 93, 97, 99, 107, 108]\n",
            "\n",
            "Explanation for sample 623 (assigned as control): [10, 11, 12, 13, 14, 20, 21, 22, 24, 28, 38, 50, 54, 55, 63, 67, 68, 71, 75, 78, 80, 81, 87, 95, 97, 103, 108, 109]\n",
            "\n",
            "Explanation for sample 626 (assigned as control): [4, 10, 20, 24, 44, 47, 48, 49, 53, 55, 63, 65, 71, 75, 76, 80, 82, 86, 89, 91, 92, 95, 98, 100, 104, 108, 109, 110]\n",
            "\n",
            "Explanation for sample 633 (assigned as control): [1, 5, 13, 15, 20, 21, 22, 23, 24, 25, 27, 31, 39, 40, 48, 49, 51, 72, 75, 76, 78, 80, 87, 88, 97, 99, 101, 104]\n",
            "\n",
            "Explanation for sample 648 (assigned as control): [10, 13, 41, 46, 47, 48, 49, 50, 51, 52, 53, 54, 55, 65, 69, 71, 80, 81, 82, 86, 87, 88, 94, 95, 96, 100, 102, 110]\n",
            "\n",
            "Explanation for sample 650 (assigned as control): [3, 4, 5, 8, 10, 22, 33, 36, 38, 39, 42, 44, 45, 46, 47, 48, 52, 53, 54, 55, 80, 82, 87, 88, 95, 98, 99, 105]\n",
            "\n",
            "Explanation for sample 655 (assigned as control): [3, 8, 13, 15, 21, 22, 24, 25, 30, 34, 35, 37, 40, 42, 45, 55, 62, 63, 64, 66, 67, 73, 79, 80, 83, 104, 108, 110]\n",
            "\n",
            "Explanation for sample 663 (assigned as control): [0, 2, 5, 30, 33, 35, 40, 41, 43, 44, 48, 58, 61, 65, 74, 75, 76, 77, 86, 88, 90, 91, 93, 94, 95, 97, 100, 109]\n",
            "\n",
            "Explanation for sample 666 (assigned as control): [4, 13, 16, 20, 21, 24, 27, 29, 30, 33, 34, 35, 41, 42, 47, 48, 49, 51, 53, 65, 66, 67, 69, 73, 82, 84, 96, 108]\n",
            "\n",
            "Explanation for sample 667 (assigned as control): [1, 2, 8, 10, 12, 15, 17, 22, 24, 31, 35, 44, 45, 46, 50, 51, 52, 62, 63, 67, 75, 80, 82, 91, 95, 108, 109, 110]\n",
            "\n",
            "Explanation for sample 670 (assigned as autistic): [8, 13, 15, 21, 22, 23, 24, 30, 34, 38, 43, 45, 47, 48, 49, 50, 51, 52, 54, 55, 66, 67, 80, 82, 87, 88, 96, 109]\n",
            "\n",
            "Explanation for sample 677 (assigned as autistic): [1, 3, 4, 6, 8, 9, 10, 13, 24, 25, 35, 40, 42, 44, 45, 52, 53, 61, 65, 67, 73, 80, 87, 88, 99, 105, 108, 109]\n",
            "\n",
            "Explanation for sample 678 (assigned as autistic): [5, 10, 23, 31, 34, 38, 41, 42, 44, 45, 48, 49, 50, 51, 52, 54, 58, 59, 81, 82, 87, 90, 92, 93, 94, 96, 108, 110]\n",
            "\n",
            "Explanation for sample 682 (assigned as autistic): [6, 8, 10, 13, 20, 21, 23, 24, 25, 31, 32, 35, 39, 41, 44, 45, 52, 54, 55, 62, 67, 73, 77, 80, 81, 88, 95, 96]\n",
            "\n",
            "Explanation for sample 684 (assigned as autistic): [4, 6, 23, 24, 38, 40, 42, 45, 47, 49, 50, 51, 53, 54, 55, 59, 61, 64, 67, 71, 81, 87, 88, 89, 92, 94, 103, 108]\n",
            "\n",
            "Explanation for sample 685 (assigned as autistic): [1, 7, 8, 9, 10, 11, 13, 23, 24, 33, 42, 46, 47, 49, 50, 58, 60, 82, 83, 85, 86, 93, 94, 96, 107, 108, 109, 110]\n",
            "\n",
            "Explanation for sample 689 (assigned as autistic): [8, 19, 20, 21, 23, 25, 35, 36, 37, 38, 39, 41, 42, 45, 49, 50, 51, 52, 53, 54, 55, 79, 80, 87, 88, 92, 94, 96]\n",
            "\n",
            "Explanation for sample 692 (assigned as autistic): [1, 8, 9, 11, 19, 22, 23, 32, 34, 44, 50, 58, 59, 61, 62, 67, 76, 86, 87, 91, 92, 93, 94, 99, 103, 108, 109, 110]\n",
            "\n",
            "Explanation for sample 694 (assigned as autistic): [4, 12, 13, 23, 25, 29, 30, 31, 32, 33, 35, 37, 41, 44, 46, 50, 52, 66, 81, 82, 91, 92, 97, 98, 99, 100, 104, 106]\n",
            "\n",
            "Explanation for sample 696 (assigned as autistic): [2, 3, 5, 10, 13, 16, 23, 35, 38, 42, 43, 45, 53, 54, 61, 66, 67, 76, 77, 80, 82, 86, 87, 88, 90, 93, 96, 97]\n",
            "\n",
            "Explanation for sample 706 (assigned as autistic): [0, 1, 6, 8, 11, 13, 18, 19, 21, 23, 31, 35, 39, 40, 41, 42, 43, 53, 54, 55, 64, 75, 77, 81, 87, 88, 96, 108]\n",
            "\n",
            "Explanation for sample 719 (assigned as autistic): [10, 12, 20, 22, 23, 24, 26, 27, 44, 45, 47, 49, 50, 52, 54, 56, 59, 65, 67, 73, 80, 82, 87, 89, 92, 100, 107, 108]\n",
            "\n",
            "Explanation for sample 723 (assigned as autistic): [10, 13, 17, 23, 31, 33, 34, 35, 40, 44, 45, 50, 54, 58, 65, 67, 77, 80, 83, 86, 87, 88, 93, 94, 102, 108, 109, 110]\n",
            "\n",
            "Explanation for sample 725 (assigned as autistic): [1, 4, 7, 8, 12, 21, 23, 26, 27, 46, 47, 48, 50, 51, 52, 53, 54, 55, 65, 67, 71, 80, 82, 87, 88, 96, 98, 104]\n",
            "\n",
            "Explanation for sample 728 (assigned as autistic): [4, 6, 9, 11, 12, 16, 22, 31, 32, 41, 42, 43, 48, 50, 63, 65, 67, 72, 73, 75, 80, 82, 84, 87, 88, 91, 97, 100]\n",
            "\n",
            "Explanation for sample 730 (assigned as autistic): [4, 6, 10, 12, 13, 23, 24, 25, 27, 31, 33, 34, 44, 49, 63, 66, 79, 81, 87, 88, 90, 94, 96, 98, 102, 103, 104, 110]\n",
            "\n",
            "Explanation for sample 732 (assigned as autistic): [7, 8, 9, 15, 20, 21, 23, 24, 25, 42, 44, 45, 48, 53, 55, 63, 64, 65, 67, 69, 73, 79, 80, 82, 87, 92, 96, 110]\n",
            "\n",
            "Explanation for sample 748 (assigned as autistic): [8, 13, 24, 35, 41, 42, 43, 44, 47, 48, 49, 50, 51, 53, 54, 58, 59, 62, 63, 66, 67, 76, 81, 82, 87, 88, 109, 110]\n",
            "\n",
            "Explanation for sample 753 (assigned as autistic): [8, 13, 15, 16, 22, 23, 34, 38, 41, 42, 45, 50, 51, 52, 53, 55, 56, 59, 67, 71, 82, 87, 91, 95, 96, 101, 102, 107]\n",
            "\n",
            "Explanation for sample 773 (assigned as autistic): [15, 19, 20, 23, 31, 33, 34, 35, 44, 45, 50, 51, 53, 55, 57, 58, 63, 67, 69, 71, 73, 80, 88, 89, 92, 96, 97, 108]\n",
            "\n",
            "Explanation for sample 775 (assigned as autistic): [1, 4, 6, 8, 10, 13, 23, 24, 25, 31, 35, 41, 44, 45, 49, 50, 51, 55, 62, 63, 65, 66, 67, 82, 83, 88, 95, 99]\n",
            "\n",
            "Explanation for sample 776 (assigned as autistic): [3, 4, 5, 6, 8, 9, 10, 12, 13, 22, 23, 24, 31, 35, 38, 42, 44, 45, 53, 55, 62, 63, 65, 66, 82, 89, 95, 96]\n",
            "\n",
            "Explanation for sample 779 (assigned as control): [5, 17, 22, 23, 28, 29, 33, 34, 36, 38, 41, 42, 44, 45, 51, 53, 54, 55, 61, 88, 90, 94, 96, 98, 100, 102, 107, 108]\n",
            "\n",
            "Explanation for sample 788 (assigned as control): [4, 5, 10, 13, 20, 25, 35, 45, 48, 49, 50, 51, 52, 53, 54, 59, 61, 62, 77, 80, 82, 83, 88, 96, 100, 107, 108, 109]\n",
            "\n",
            "Explanation for sample 792 (assigned as control): [1, 20, 22, 23, 38, 39, 44, 48, 49, 50, 51, 52, 53, 54, 55, 56, 64, 65, 71, 72, 73, 76, 82, 83, 85, 87, 100, 108]\n",
            "\n",
            "Explanation for sample 799 (assigned as autistic): [1, 2, 4, 13, 16, 17, 24, 31, 33, 34, 35, 37, 39, 41, 47, 53, 54, 55, 62, 63, 66, 67, 81, 84, 87, 90, 95, 102]\n",
            "\n",
            "Explanation for sample 800 (assigned as autistic): [4, 10, 20, 23, 24, 38, 42, 44, 47, 48, 49, 50, 54, 56, 57, 64, 72, 73, 74, 75, 76, 77, 80, 82, 83, 87, 89, 108]\n",
            "\n",
            "Explanation for sample 810 (assigned as autistic): [13, 14, 15, 18, 19, 20, 21, 22, 23, 24, 34, 35, 36, 37, 38, 39, 41, 42, 43, 44, 45, 54, 66, 68, 72, 94, 96, 102]\n",
            "\n",
            "Explanation for sample 811 (assigned as autistic): [1, 4, 8, 17, 20, 21, 22, 23, 24, 40, 41, 44, 45, 55, 57, 58, 59, 61, 73, 82, 85, 87, 88, 93, 94, 96, 99, 108]\n",
            "\n",
            "Explanation for sample 820 (assigned as control): [4, 11, 21, 25, 26, 40, 41, 42, 47, 48, 49, 50, 51, 52, 59, 63, 64, 65, 67, 69, 71, 73, 84, 87, 92, 94, 96, 108]\n",
            "\n",
            "Explanation for sample 829 (assigned as control): [1, 6, 8, 9, 10, 13, 22, 35, 40, 44, 45, 48, 49, 51, 52, 53, 54, 55, 59, 63, 65, 67, 71, 77, 80, 82, 88, 95]\n",
            "\n",
            "Explanation for sample 834 (assigned as control): [7, 10, 22, 23, 24, 25, 38, 44, 45, 50, 51, 52, 53, 54, 55, 66, 69, 73, 80, 82, 83, 95, 96, 97, 98, 102, 103, 104]\n",
            "\n",
            "Explanation for sample 835 (assigned as control): [1, 7, 8, 15, 19, 21, 41, 43, 55, 57, 58, 59, 63, 67, 69, 70, 72, 73, 75, 76, 77, 80, 82, 83, 88, 92, 94, 110]\n",
            "\n",
            "Explanation for sample 840 (assigned as control): [7, 8, 11, 12, 13, 23, 24, 25, 33, 35, 37, 38, 40, 41, 42, 45, 54, 55, 63, 67, 69, 80, 82, 88, 89, 94, 95, 96]\n",
            "\n",
            "Explanation for sample 841 (assigned as control): [1, 8, 13, 20, 21, 22, 23, 24, 25, 26, 34, 36, 40, 42, 44, 45, 49, 52, 53, 54, 65, 67, 80, 82, 87, 88, 95, 96]\n",
            "\n",
            "Explanation for sample 844 (assigned as control): [13, 23, 41, 51, 60, 61, 63, 65, 66, 67, 69, 71, 76, 77, 80, 82, 83, 87, 88, 89, 93, 96, 98, 102, 106, 107, 109, 110]\n",
            "\n",
            "Explanation for sample 851 (assigned as control): [4, 8, 11, 13, 29, 44, 47, 49, 50, 51, 52, 53, 54, 62, 63, 64, 65, 66, 67, 73, 80, 82, 83, 87, 88, 89, 91, 92]\n",
            "\n",
            "Explanation for sample 866 (assigned as autistic): [19, 20, 21, 22, 23, 24, 25, 26, 30, 38, 39, 43, 44, 45, 50, 51, 52, 53, 54, 55, 56, 57, 80, 83, 89, 92, 96, 100]\n",
            "\n",
            "Explanation for sample 871 (assigned as autistic): [0, 4, 5, 6, 8, 10, 11, 13, 20, 35, 39, 48, 50, 54, 65, 66, 69, 71, 76, 81, 88, 89, 96, 99, 100, 108, 109, 110]\n",
            "\n",
            "Explanation for sample 880 (assigned as autistic): [6, 7, 9, 10, 11, 16, 17, 22, 23, 24, 34, 38, 40, 41, 42, 49, 50, 51, 52, 53, 56, 89, 91, 96, 97, 98, 99, 100]\n",
            "\n",
            "Explanation for sample 886 (assigned as autistic): [1, 8, 9, 13, 16, 20, 22, 23, 24, 25, 35, 37, 44, 45, 48, 49, 50, 51, 52, 54, 55, 65, 67, 71, 87, 95, 96, 109]\n",
            "\n",
            "Explanation for sample 887 (assigned as autistic): [7, 8, 10, 22, 23, 24, 25, 26, 27, 39, 48, 50, 51, 52, 53, 55, 58, 59, 64, 65, 78, 80, 90, 92, 94, 95, 96, 110]\n",
            "\n",
            "Explanation for sample 893 (assigned as control): [18, 24, 33, 34, 42, 44, 48, 50, 52, 60, 61, 62, 63, 64, 65, 66, 76, 77, 79, 80, 82, 86, 87, 89, 98, 107, 109, 110]\n",
            "\n",
            "Explanation for sample 898 (assigned as control): [13, 20, 24, 26, 38, 39, 40, 44, 45, 46, 54, 55, 58, 59, 63, 65, 72, 73, 80, 82, 85, 86, 87, 88, 89, 92, 98, 108]\n",
            "\n",
            "Explanation for sample 901 (assigned as control): [1, 4, 6, 7, 8, 11, 13, 18, 30, 34, 40, 41, 48, 50, 51, 59, 64, 65, 66, 72, 73, 75, 76, 83, 84, 87, 88, 108]\n",
            "\n",
            "Explanation for sample 904 (assigned as autistic): [10, 11, 22, 23, 24, 26, 32, 44, 48, 49, 50, 51, 52, 53, 54, 58, 59, 66, 82, 83, 94, 95, 97, 100, 101, 104, 109, 110]\n",
            "\n",
            "Explanation for sample 906 (assigned as autistic): [0, 6, 7, 8, 9, 10, 13, 17, 23, 26, 33, 38, 44, 45, 54, 58, 59, 64, 67, 70, 71, 82, 87, 91, 92, 94, 95, 110]\n",
            "\n",
            "Explanation for sample 913 (assigned as autistic): [8, 10, 20, 21, 22, 23, 43, 44, 45, 48, 56, 57, 58, 61, 63, 67, 75, 76, 80, 82, 88, 90, 93, 94, 103, 108, 109, 110]\n",
            "\n",
            "Explanation for sample 914 (assigned as autistic): [4, 6, 8, 11, 13, 17, 19, 21, 23, 25, 34, 41, 42, 45, 51, 53, 55, 59, 63, 67, 69, 81, 82, 88, 89, 92, 96, 102]\n",
            "\n",
            "Explanation for sample 918 (assigned as control): [3, 6, 13, 22, 23, 24, 25, 33, 35, 40, 41, 42, 43, 53, 63, 65, 66, 67, 72, 73, 78, 81, 82, 87, 90, 95, 96, 98]\n",
            "\n",
            "Explanation for sample 923 (assigned as control): [8, 12, 13, 20, 21, 23, 25, 33, 38, 41, 42, 44, 49, 51, 54, 55, 62, 63, 65, 66, 82, 87, 90, 96, 99, 101, 103, 108]\n",
            "\n",
            "Explanation for sample 929 (assigned as control): [1, 4, 22, 29, 31, 34, 35, 40, 41, 42, 43, 44, 45, 63, 67, 69, 71, 73, 75, 77, 78, 81, 82, 87, 90, 94, 98, 109]\n",
            "\n",
            "Explanation for sample 944 (assigned as autistic): [17, 18, 20, 21, 22, 23, 25, 36, 37, 39, 41, 45, 48, 49, 50, 51, 52, 53, 54, 55, 68, 71, 83, 88, 92, 95, 96, 97]\n",
            "\n",
            "Explanation for sample 947 (assigned as control): [0, 10, 13, 16, 24, 33, 36, 44, 45, 46, 47, 48, 49, 50, 59, 65, 72, 75, 82, 83, 85, 87, 88, 89, 92, 94, 100, 101]\n",
            "\n",
            "Explanation for sample 948 (assigned as control): [13, 15, 20, 21, 22, 23, 24, 25, 34, 35, 37, 38, 39, 40, 41, 42, 43, 45, 51, 53, 54, 59, 62, 63, 66, 67, 82, 96]\n",
            "\n",
            "Explanation for sample 951 (assigned as control): [0, 1, 10, 13, 14, 15, 17, 20, 21, 48, 51, 53, 55, 60, 61, 63, 64, 68, 69, 75, 76, 77, 80, 82, 88, 104, 107, 108]\n",
            "\n",
            "Explanation for sample 952 (assigned as control): [11, 16, 22, 23, 25, 29, 34, 35, 41, 50, 51, 52, 53, 54, 61, 65, 71, 73, 75, 81, 82, 83, 89, 95, 98, 99, 100, 107]\n",
            "\n",
            "Explanation for sample 965 (assigned as autistic): [1, 4, 8, 12, 19, 21, 22, 23, 24, 25, 53, 54, 55, 56, 57, 65, 72, 82, 84, 95, 96, 98, 99, 100, 104, 105, 106, 108]\n",
            "\n",
            "Explanation for sample 967 (assigned as control): [3, 4, 10, 21, 24, 25, 31, 32, 35, 37, 40, 41, 42, 43, 51, 52, 54, 57, 69, 71, 77, 80, 81, 82, 87, 88, 94, 103]\n",
            "\n",
            "Explanation for sample 968 (assigned as control): [8, 13, 15, 20, 21, 23, 25, 39, 40, 41, 44, 51, 53, 54, 55, 63, 65, 67, 71, 72, 75, 80, 81, 82, 87, 88, 109, 110]\n",
            "\n",
            "Explanation for sample 972 (assigned as control): [2, 3, 6, 25, 27, 28, 30, 31, 32, 33, 35, 45, 49, 52, 55, 58, 59, 63, 67, 71, 73, 75, 82, 88, 93, 96, 101, 108]\n",
            "\n",
            "Explanation for sample 974 (assigned as control): [1, 8, 12, 21, 23, 26, 40, 41, 42, 44, 46, 47, 50, 62, 63, 64, 70, 71, 72, 80, 81, 82, 84, 87, 88, 89, 91, 95]\n",
            "\n",
            "Explanation for sample 986 (assigned as autistic): [0, 3, 6, 11, 13, 18, 28, 29, 31, 33, 34, 39, 42, 43, 50, 52, 53, 54, 55, 63, 65, 67, 82, 90, 96, 97, 102, 110]\n",
            "\n",
            "Explanation for sample 987 (assigned as autistic): [1, 2, 3, 4, 5, 6, 13, 15, 17, 19, 21, 23, 25, 27, 29, 31, 33, 35, 37, 39, 40, 41, 43, 45, 47, 49, 51, 53]\n",
            "\n",
            "Explanation for sample 992 (assigned as autistic): [4, 14, 20, 22, 23, 24, 34, 39, 40, 41, 42, 44, 45, 49, 50, 52, 53, 54, 55, 62, 66, 75, 76, 81, 82, 87, 88, 101]\n",
            "\n",
            "Explanation for sample 1001 (assigned as autistic): [7, 10, 14, 18, 21, 23, 26, 34, 35, 38, 42, 49, 61, 63, 67, 71, 73, 76, 80, 81, 89, 90, 92, 96, 100, 101, 103, 108]\n",
            "\n",
            "Explanation for sample 1004 (assigned as autistic): [8, 18, 20, 23, 24, 28, 37, 38, 43, 45, 51, 53, 54, 55, 62, 63, 65, 67, 68, 69, 73, 78, 80, 87, 88, 89, 97, 98]\n",
            "\n",
            "Explanation for sample 1005 (assigned as autistic): [1, 8, 23, 26, 27, 28, 30, 39, 40, 41, 42, 43, 57, 61, 64, 67, 77, 80, 81, 82, 87, 88, 89, 96, 98, 99, 104, 108]\n",
            "\n",
            "Explanation for sample 1011 (assigned as autistic): [6, 10, 22, 23, 24, 25, 31, 35, 39, 41, 42, 43, 45, 51, 54, 55, 62, 63, 66, 72, 73, 75, 86, 90, 94, 96, 97, 110]\n",
            "\n",
            "Explanation for sample 1017 (assigned as autistic): [23, 30, 38, 39, 41, 43, 44, 45, 50, 51, 52, 53, 54, 55, 60, 61, 76, 77, 82, 86, 87, 88, 89, 94, 100, 107, 109, 110]\n",
            "\n",
            "Explanation for sample 1018 (assigned as control): [8, 13, 21, 22, 24, 25, 35, 36, 37, 38, 41, 49, 51, 52, 54, 55, 56, 65, 74, 75, 80, 82, 85, 87, 88, 89, 96, 101]\n",
            "\n",
            "Explanation for sample 1023 (assigned as control): [4, 6, 8, 10, 12, 13, 24, 30, 39, 40, 45, 46, 47, 52, 53, 63, 66, 67, 69, 71, 82, 87, 88, 90, 99, 100, 101, 108]\n",
            "\n",
            "Explanation for sample 1024 (assigned as control): [2, 3, 5, 6, 8, 9, 10, 11, 12, 13, 20, 22, 24, 40, 42, 63, 65, 66, 80, 82, 87, 88, 89, 90, 95, 103, 104, 108]\n",
            "\n",
            "Explanation for sample 1025 (assigned as control): [3, 9, 13, 16, 21, 23, 24, 25, 30, 33, 35, 39, 40, 45, 51, 53, 54, 55, 87, 88, 92, 95, 96, 97, 98, 100, 103, 104]\n",
            "\n",
            "Explanation for sample 1028 (assigned as control): [3, 9, 13, 14, 15, 20, 31, 41, 43, 50, 51, 52, 54, 62, 63, 65, 66, 67, 68, 78, 80, 83, 87, 88, 89, 91, 98, 103]\n",
            "\n",
            "Explanation for sample 1033 (assigned as control): [8, 13, 21, 22, 23, 24, 25, 30, 32, 35, 50, 52, 53, 55, 80, 82, 87, 94, 95, 96, 97, 98, 99, 101, 103, 104, 105, 106]\n",
            "\n",
            "\n",
            "Explainability metrics:\n",
            "Fidelity+: 0.06810684502124786  |  Fidelity-: 0.6311774253845215  |  Sparsity: 0.7477477477477498\n",
            "\n",
            "Suggested biomarker: [23, 82, 87, 88, 13, 54, 50, 96, 24, 35]\n",
            "Biomarker consistency: 0.1865079402923584\n"
          ]
        }
      ]
    },
    {
      "cell_type": "markdown",
      "source": [
        "## Now, we will see what brain regions the assigned biomarker corresponds to.\n",
        "\n",
        "Downloading the ROI label table:"
      ],
      "metadata": {
        "id": "guSoIlvY0xyX"
      }
    },
    {
      "cell_type": "code",
      "source": [
        "import pandas as pd\n",
        "!wget https://fcp-indi.s3.amazonaws.com/data/Projects/ABIDE_Initiative/Resources/ho_labels.csv\n",
        "\n",
        "ho_labels = pd.read_csv('/content/ho_labels.csv')\n",
        "ho_labels = ho_labels.rename(columns={'Unnamed: 1' : 'ROI'})\n",
        "print(\"Harvard-Oxford atlas labels for ABIDE I:\\n\")\n",
        "ho_labels"
      ],
      "metadata": {
        "colab": {
          "base_uri": "https://localhost:8080/",
          "height": 649
        },
        "id": "kEMk_WAE0jYK",
        "outputId": "d29be31e-5007-4321-a5a3-fee4a0a9be35"
      },
      "execution_count": null,
      "outputs": [
        {
          "output_type": "stream",
          "name": "stdout",
          "text": [
            "--2025-04-27 01:49:22--  https://fcp-indi.s3.amazonaws.com/data/Projects/ABIDE_Initiative/Resources/ho_labels.csv\n",
            "Resolving fcp-indi.s3.amazonaws.com (fcp-indi.s3.amazonaws.com)... 16.15.193.197, 16.15.216.139, 52.216.52.49, ...\n",
            "Connecting to fcp-indi.s3.amazonaws.com (fcp-indi.s3.amazonaws.com)|16.15.193.197|:443... connected.\n",
            "HTTP request sent, awaiting response... 200 OK\n",
            "Length: 4267 (4.2K) [application/octet-stream]\n",
            "Saving to: ‘ho_labels.csv.2’\n",
            "\n",
            "ho_labels.csv.2     100%[===================>]   4.17K  --.-KB/s    in 0s      \n",
            "\n",
            "2025-04-27 01:49:23 (189 MB/s) - ‘ho_labels.csv.2’ saved [4267/4267]\n",
            "\n",
            "Harvard-Oxford atlas labels for ABIDE I:\n",
            "\n"
          ]
        },
        {
          "output_type": "execute_result",
          "data": {
            "text/plain": [
              "    # Generated from atlas label .xml files distributed with FSL  \\\n",
              "0             # http://fsl.fmrib.ox.ac.uk/fsl/fslwiki/             \n",
              "1                                                   10             \n",
              "2                                                   11             \n",
              "3                                                   12             \n",
              "4                                                   13             \n",
              "..                                                 ...             \n",
              "106                                               4402             \n",
              "107                                               4502             \n",
              "108                                               4602             \n",
              "109                                               4702             \n",
              "110                                               4802             \n",
              "\n",
              "                                          ROI  \n",
              "0                                         NaN  \n",
              "1                               Left Thalamus  \n",
              "2                                Left Caudate  \n",
              "3                                Left Putamen  \n",
              "4                               Left Pallidum  \n",
              "..                                        ...  \n",
              "106                        Left Planum Polare  \n",
              "107  Left Heschl's Gyrus (includes H1 and H2)  \n",
              "108                     Left Planum Temporale  \n",
              "109                Left Supracalcarine Cortex  \n",
              "110                       Left Occipital Pole  \n",
              "\n",
              "[111 rows x 2 columns]"
            ],
            "text/html": [
              "\n",
              "  <div id=\"df-aea023b1-b379-42ed-83f8-546df9b2fd7b\" class=\"colab-df-container\">\n",
              "    <div>\n",
              "<style scoped>\n",
              "    .dataframe tbody tr th:only-of-type {\n",
              "        vertical-align: middle;\n",
              "    }\n",
              "\n",
              "    .dataframe tbody tr th {\n",
              "        vertical-align: top;\n",
              "    }\n",
              "\n",
              "    .dataframe thead th {\n",
              "        text-align: right;\n",
              "    }\n",
              "</style>\n",
              "<table border=\"1\" class=\"dataframe\">\n",
              "  <thead>\n",
              "    <tr style=\"text-align: right;\">\n",
              "      <th></th>\n",
              "      <th># Generated from atlas label .xml files distributed with FSL</th>\n",
              "      <th>ROI</th>\n",
              "    </tr>\n",
              "  </thead>\n",
              "  <tbody>\n",
              "    <tr>\n",
              "      <th>0</th>\n",
              "      <td># http://fsl.fmrib.ox.ac.uk/fsl/fslwiki/</td>\n",
              "      <td>NaN</td>\n",
              "    </tr>\n",
              "    <tr>\n",
              "      <th>1</th>\n",
              "      <td>10</td>\n",
              "      <td>Left Thalamus</td>\n",
              "    </tr>\n",
              "    <tr>\n",
              "      <th>2</th>\n",
              "      <td>11</td>\n",
              "      <td>Left Caudate</td>\n",
              "    </tr>\n",
              "    <tr>\n",
              "      <th>3</th>\n",
              "      <td>12</td>\n",
              "      <td>Left Putamen</td>\n",
              "    </tr>\n",
              "    <tr>\n",
              "      <th>4</th>\n",
              "      <td>13</td>\n",
              "      <td>Left Pallidum</td>\n",
              "    </tr>\n",
              "    <tr>\n",
              "      <th>...</th>\n",
              "      <td>...</td>\n",
              "      <td>...</td>\n",
              "    </tr>\n",
              "    <tr>\n",
              "      <th>106</th>\n",
              "      <td>4402</td>\n",
              "      <td>Left Planum Polare</td>\n",
              "    </tr>\n",
              "    <tr>\n",
              "      <th>107</th>\n",
              "      <td>4502</td>\n",
              "      <td>Left Heschl's Gyrus (includes H1 and H2)</td>\n",
              "    </tr>\n",
              "    <tr>\n",
              "      <th>108</th>\n",
              "      <td>4602</td>\n",
              "      <td>Left Planum Temporale</td>\n",
              "    </tr>\n",
              "    <tr>\n",
              "      <th>109</th>\n",
              "      <td>4702</td>\n",
              "      <td>Left Supracalcarine Cortex</td>\n",
              "    </tr>\n",
              "    <tr>\n",
              "      <th>110</th>\n",
              "      <td>4802</td>\n",
              "      <td>Left Occipital Pole</td>\n",
              "    </tr>\n",
              "  </tbody>\n",
              "</table>\n",
              "<p>111 rows × 2 columns</p>\n",
              "</div>\n",
              "    <div class=\"colab-df-buttons\">\n",
              "\n",
              "  <div class=\"colab-df-container\">\n",
              "    <button class=\"colab-df-convert\" onclick=\"convertToInteractive('df-aea023b1-b379-42ed-83f8-546df9b2fd7b')\"\n",
              "            title=\"Convert this dataframe to an interactive table.\"\n",
              "            style=\"display:none;\">\n",
              "\n",
              "  <svg xmlns=\"http://www.w3.org/2000/svg\" height=\"24px\" viewBox=\"0 -960 960 960\">\n",
              "    <path d=\"M120-120v-720h720v720H120Zm60-500h600v-160H180v160Zm220 220h160v-160H400v160Zm0 220h160v-160H400v160ZM180-400h160v-160H180v160Zm440 0h160v-160H620v160ZM180-180h160v-160H180v160Zm440 0h160v-160H620v160Z\"/>\n",
              "  </svg>\n",
              "    </button>\n",
              "\n",
              "  <style>\n",
              "    .colab-df-container {\n",
              "      display:flex;\n",
              "      gap: 12px;\n",
              "    }\n",
              "\n",
              "    .colab-df-convert {\n",
              "      background-color: #E8F0FE;\n",
              "      border: none;\n",
              "      border-radius: 50%;\n",
              "      cursor: pointer;\n",
              "      display: none;\n",
              "      fill: #1967D2;\n",
              "      height: 32px;\n",
              "      padding: 0 0 0 0;\n",
              "      width: 32px;\n",
              "    }\n",
              "\n",
              "    .colab-df-convert:hover {\n",
              "      background-color: #E2EBFA;\n",
              "      box-shadow: 0px 1px 2px rgba(60, 64, 67, 0.3), 0px 1px 3px 1px rgba(60, 64, 67, 0.15);\n",
              "      fill: #174EA6;\n",
              "    }\n",
              "\n",
              "    .colab-df-buttons div {\n",
              "      margin-bottom: 4px;\n",
              "    }\n",
              "\n",
              "    [theme=dark] .colab-df-convert {\n",
              "      background-color: #3B4455;\n",
              "      fill: #D2E3FC;\n",
              "    }\n",
              "\n",
              "    [theme=dark] .colab-df-convert:hover {\n",
              "      background-color: #434B5C;\n",
              "      box-shadow: 0px 1px 3px 1px rgba(0, 0, 0, 0.15);\n",
              "      filter: drop-shadow(0px 1px 2px rgba(0, 0, 0, 0.3));\n",
              "      fill: #FFFFFF;\n",
              "    }\n",
              "  </style>\n",
              "\n",
              "    <script>\n",
              "      const buttonEl =\n",
              "        document.querySelector('#df-aea023b1-b379-42ed-83f8-546df9b2fd7b button.colab-df-convert');\n",
              "      buttonEl.style.display =\n",
              "        google.colab.kernel.accessAllowed ? 'block' : 'none';\n",
              "\n",
              "      async function convertToInteractive(key) {\n",
              "        const element = document.querySelector('#df-aea023b1-b379-42ed-83f8-546df9b2fd7b');\n",
              "        const dataTable =\n",
              "          await google.colab.kernel.invokeFunction('convertToInteractive',\n",
              "                                                    [key], {});\n",
              "        if (!dataTable) return;\n",
              "\n",
              "        const docLinkHtml = 'Like what you see? Visit the ' +\n",
              "          '<a target=\"_blank\" href=https://colab.research.google.com/notebooks/data_table.ipynb>data table notebook</a>'\n",
              "          + ' to learn more about interactive tables.';\n",
              "        element.innerHTML = '';\n",
              "        dataTable['output_type'] = 'display_data';\n",
              "        await google.colab.output.renderOutput(dataTable, element);\n",
              "        const docLink = document.createElement('div');\n",
              "        docLink.innerHTML = docLinkHtml;\n",
              "        element.appendChild(docLink);\n",
              "      }\n",
              "    </script>\n",
              "  </div>\n",
              "\n",
              "\n",
              "    <div id=\"df-87b5843d-4d6b-4d1e-aea6-433464a8bf96\">\n",
              "      <button class=\"colab-df-quickchart\" onclick=\"quickchart('df-87b5843d-4d6b-4d1e-aea6-433464a8bf96')\"\n",
              "                title=\"Suggest charts\"\n",
              "                style=\"display:none;\">\n",
              "\n",
              "<svg xmlns=\"http://www.w3.org/2000/svg\" height=\"24px\"viewBox=\"0 0 24 24\"\n",
              "     width=\"24px\">\n",
              "    <g>\n",
              "        <path d=\"M19 3H5c-1.1 0-2 .9-2 2v14c0 1.1.9 2 2 2h14c1.1 0 2-.9 2-2V5c0-1.1-.9-2-2-2zM9 17H7v-7h2v7zm4 0h-2V7h2v10zm4 0h-2v-4h2v4z\"/>\n",
              "    </g>\n",
              "</svg>\n",
              "      </button>\n",
              "\n",
              "<style>\n",
              "  .colab-df-quickchart {\n",
              "      --bg-color: #E8F0FE;\n",
              "      --fill-color: #1967D2;\n",
              "      --hover-bg-color: #E2EBFA;\n",
              "      --hover-fill-color: #174EA6;\n",
              "      --disabled-fill-color: #AAA;\n",
              "      --disabled-bg-color: #DDD;\n",
              "  }\n",
              "\n",
              "  [theme=dark] .colab-df-quickchart {\n",
              "      --bg-color: #3B4455;\n",
              "      --fill-color: #D2E3FC;\n",
              "      --hover-bg-color: #434B5C;\n",
              "      --hover-fill-color: #FFFFFF;\n",
              "      --disabled-bg-color: #3B4455;\n",
              "      --disabled-fill-color: #666;\n",
              "  }\n",
              "\n",
              "  .colab-df-quickchart {\n",
              "    background-color: var(--bg-color);\n",
              "    border: none;\n",
              "    border-radius: 50%;\n",
              "    cursor: pointer;\n",
              "    display: none;\n",
              "    fill: var(--fill-color);\n",
              "    height: 32px;\n",
              "    padding: 0;\n",
              "    width: 32px;\n",
              "  }\n",
              "\n",
              "  .colab-df-quickchart:hover {\n",
              "    background-color: var(--hover-bg-color);\n",
              "    box-shadow: 0 1px 2px rgba(60, 64, 67, 0.3), 0 1px 3px 1px rgba(60, 64, 67, 0.15);\n",
              "    fill: var(--button-hover-fill-color);\n",
              "  }\n",
              "\n",
              "  .colab-df-quickchart-complete:disabled,\n",
              "  .colab-df-quickchart-complete:disabled:hover {\n",
              "    background-color: var(--disabled-bg-color);\n",
              "    fill: var(--disabled-fill-color);\n",
              "    box-shadow: none;\n",
              "  }\n",
              "\n",
              "  .colab-df-spinner {\n",
              "    border: 2px solid var(--fill-color);\n",
              "    border-color: transparent;\n",
              "    border-bottom-color: var(--fill-color);\n",
              "    animation:\n",
              "      spin 1s steps(1) infinite;\n",
              "  }\n",
              "\n",
              "  @keyframes spin {\n",
              "    0% {\n",
              "      border-color: transparent;\n",
              "      border-bottom-color: var(--fill-color);\n",
              "      border-left-color: var(--fill-color);\n",
              "    }\n",
              "    20% {\n",
              "      border-color: transparent;\n",
              "      border-left-color: var(--fill-color);\n",
              "      border-top-color: var(--fill-color);\n",
              "    }\n",
              "    30% {\n",
              "      border-color: transparent;\n",
              "      border-left-color: var(--fill-color);\n",
              "      border-top-color: var(--fill-color);\n",
              "      border-right-color: var(--fill-color);\n",
              "    }\n",
              "    40% {\n",
              "      border-color: transparent;\n",
              "      border-right-color: var(--fill-color);\n",
              "      border-top-color: var(--fill-color);\n",
              "    }\n",
              "    60% {\n",
              "      border-color: transparent;\n",
              "      border-right-color: var(--fill-color);\n",
              "    }\n",
              "    80% {\n",
              "      border-color: transparent;\n",
              "      border-right-color: var(--fill-color);\n",
              "      border-bottom-color: var(--fill-color);\n",
              "    }\n",
              "    90% {\n",
              "      border-color: transparent;\n",
              "      border-bottom-color: var(--fill-color);\n",
              "    }\n",
              "  }\n",
              "</style>\n",
              "\n",
              "      <script>\n",
              "        async function quickchart(key) {\n",
              "          const quickchartButtonEl =\n",
              "            document.querySelector('#' + key + ' button');\n",
              "          quickchartButtonEl.disabled = true;  // To prevent multiple clicks.\n",
              "          quickchartButtonEl.classList.add('colab-df-spinner');\n",
              "          try {\n",
              "            const charts = await google.colab.kernel.invokeFunction(\n",
              "                'suggestCharts', [key], {});\n",
              "          } catch (error) {\n",
              "            console.error('Error during call to suggestCharts:', error);\n",
              "          }\n",
              "          quickchartButtonEl.classList.remove('colab-df-spinner');\n",
              "          quickchartButtonEl.classList.add('colab-df-quickchart-complete');\n",
              "        }\n",
              "        (() => {\n",
              "          let quickchartButtonEl =\n",
              "            document.querySelector('#df-87b5843d-4d6b-4d1e-aea6-433464a8bf96 button');\n",
              "          quickchartButtonEl.style.display =\n",
              "            google.colab.kernel.accessAllowed ? 'block' : 'none';\n",
              "        })();\n",
              "      </script>\n",
              "    </div>\n",
              "\n",
              "  <div id=\"id_dbe9af46-5e4a-470d-98c1-d4cb780e0893\">\n",
              "    <style>\n",
              "      .colab-df-generate {\n",
              "        background-color: #E8F0FE;\n",
              "        border: none;\n",
              "        border-radius: 50%;\n",
              "        cursor: pointer;\n",
              "        display: none;\n",
              "        fill: #1967D2;\n",
              "        height: 32px;\n",
              "        padding: 0 0 0 0;\n",
              "        width: 32px;\n",
              "      }\n",
              "\n",
              "      .colab-df-generate:hover {\n",
              "        background-color: #E2EBFA;\n",
              "        box-shadow: 0px 1px 2px rgba(60, 64, 67, 0.3), 0px 1px 3px 1px rgba(60, 64, 67, 0.15);\n",
              "        fill: #174EA6;\n",
              "      }\n",
              "\n",
              "      [theme=dark] .colab-df-generate {\n",
              "        background-color: #3B4455;\n",
              "        fill: #D2E3FC;\n",
              "      }\n",
              "\n",
              "      [theme=dark] .colab-df-generate:hover {\n",
              "        background-color: #434B5C;\n",
              "        box-shadow: 0px 1px 3px 1px rgba(0, 0, 0, 0.15);\n",
              "        filter: drop-shadow(0px 1px 2px rgba(0, 0, 0, 0.3));\n",
              "        fill: #FFFFFF;\n",
              "      }\n",
              "    </style>\n",
              "    <button class=\"colab-df-generate\" onclick=\"generateWithVariable('ho_labels')\"\n",
              "            title=\"Generate code using this dataframe.\"\n",
              "            style=\"display:none;\">\n",
              "\n",
              "  <svg xmlns=\"http://www.w3.org/2000/svg\" height=\"24px\"viewBox=\"0 0 24 24\"\n",
              "       width=\"24px\">\n",
              "    <path d=\"M7,19H8.4L18.45,9,17,7.55,7,17.6ZM5,21V16.75L18.45,3.32a2,2,0,0,1,2.83,0l1.4,1.43a1.91,1.91,0,0,1,.58,1.4,1.91,1.91,0,0,1-.58,1.4L9.25,21ZM18.45,9,17,7.55Zm-12,3A5.31,5.31,0,0,0,4.9,8.1,5.31,5.31,0,0,0,1,6.5,5.31,5.31,0,0,0,4.9,4.9,5.31,5.31,0,0,0,6.5,1,5.31,5.31,0,0,0,8.1,4.9,5.31,5.31,0,0,0,12,6.5,5.46,5.46,0,0,0,6.5,12Z\"/>\n",
              "  </svg>\n",
              "    </button>\n",
              "    <script>\n",
              "      (() => {\n",
              "      const buttonEl =\n",
              "        document.querySelector('#id_dbe9af46-5e4a-470d-98c1-d4cb780e0893 button.colab-df-generate');\n",
              "      buttonEl.style.display =\n",
              "        google.colab.kernel.accessAllowed ? 'block' : 'none';\n",
              "\n",
              "      buttonEl.onclick = () => {\n",
              "        google.colab.notebook.generateWithVariable('ho_labels');\n",
              "      }\n",
              "      })();\n",
              "    </script>\n",
              "  </div>\n",
              "\n",
              "    </div>\n",
              "  </div>\n"
            ],
            "application/vnd.google.colaboratory.intrinsic+json": {
              "type": "dataframe",
              "variable_name": "ho_labels",
              "summary": "{\n  \"name\": \"ho_labels\",\n  \"rows\": 111,\n  \"fields\": [\n    {\n      \"column\": \"# Generated from atlas label .xml files distributed with FSL\",\n      \"properties\": {\n        \"dtype\": \"string\",\n        \"num_unique_values\": 111,\n        \"samples\": [\n          \"1602\",\n          \"51\",\n          \"13\"\n        ],\n        \"semantic_type\": \"\",\n        \"description\": \"\"\n      }\n    },\n    {\n      \"column\": \"ROI\",\n      \"properties\": {\n        \"dtype\": \"string\",\n        \"num_unique_values\": 110,\n        \"samples\": [\n          \"Left Postcentral Gyrus\",\n          \"Right Pallidum\",\n          \"Left Hippocampus\"\n        ],\n        \"semantic_type\": \"\",\n        \"description\": \"\"\n      }\n    }\n  ]\n}"
            }
          },
          "metadata": {},
          "execution_count": 18
        }
      ]
    },
    {
      "cell_type": "code",
      "source": [
        "import pickle as pkl\n",
        "\n",
        "def print_brain_regions(folder_path='/content/BrainGNN/model/', model_name='saved_model'):\n",
        "  with open(folder_path + model_name + '_explainability_report.pkl', 'rb') as file:\n",
        "      explanations = pkl.load(file)\n",
        "  biomarker = ho_labels.iloc[explanations['biomarker']]\n",
        "  print(\"Salient brain regions:\\n\")\n",
        "  for ROI in biomarker['ROI']:\n",
        "    print(ROI)\n",
        "\n",
        "print_brain_regions()"
      ],
      "metadata": {
        "colab": {
          "base_uri": "https://localhost:8080/"
        },
        "id": "y8hgINxM0XCS",
        "outputId": "c3055441-6908-4901-f942-d2e054bee681"
      },
      "execution_count": null,
      "outputs": [
        {
          "output_type": "stream",
          "name": "stdout",
          "text": [
            "Salient brain regions:\n",
            "\n",
            "Right Superior Temporal Gyrus; anterior division\n",
            "Left Supramarginal Gyrus; posterior division\n",
            "Left Frontal Medial Cortex\n",
            "Left Juxtapositional Lobule Cortex (formerly Supplementary Motor Cortex)\n",
            "Right Amygdala\n",
            "Right Occipital Fusiform Gyrus\n",
            "Right Lingual Gyrus\n",
            "Left Parahippocampal Gyrus; anterior division\n",
            "Right Superior Temporal Gyrus; posterior division\n",
            "Right Angular Gyrus\n"
          ]
        }
      ]
    }
  ]
}
