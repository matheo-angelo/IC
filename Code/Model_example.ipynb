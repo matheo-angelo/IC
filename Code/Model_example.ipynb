{
  "nbformat": 4,
  "nbformat_minor": 0,
  "metadata": {
    "colab": {
      "provenance": [],
      "gpuType": "T4",
      "authorship_tag": "ABX9TyPRiwiO4zsnjy1hMSpAwXoa"
    },
    "kernelspec": {
      "name": "python3",
      "display_name": "Python 3"
    },
    "language_info": {
      "name": "python"
    },
    "accelerator": "GPU"
  },
  "cells": [
    {
      "cell_type": "markdown",
      "source": [
        "# Constructing the full set of graphs"
      ],
      "metadata": {
        "id": "xX2PM0j2hPMp"
      }
    },
    {
      "cell_type": "markdown",
      "source": [
        "Import libraries"
      ],
      "metadata": {
        "id": "feVnNzSVHaDC"
      }
    },
    {
      "cell_type": "code",
      "source": [
        "import networkx as nx\n",
        "import numpy as np\n",
        "import pandas as pd\n",
        "import torch"
      ],
      "metadata": {
        "id": "clTIZW8fHZe4"
      },
      "execution_count": null,
      "outputs": []
    },
    {
      "cell_type": "code",
      "source": [
        "def torch_pearson_correlation_matrix(X):\n",
        "\n",
        "  mean = torch.mean(X, dim=0)\n",
        "  covariance = torch.matmul((X - mean).t(), (X - mean))\n",
        "  variance = torch.diagonal(covariance)\n",
        "  correlation = (variance**(-1/2)) * covariance * ((variance**(-1/2)).t())\n",
        "  return correlation\n",
        "\n",
        "def construct_graph(roi_time_series, threshold=0.7, return_functional_connectivity=True, adjacency_matrix_type='torch', adjacency_representation = 'edge_list'):\n",
        "\n",
        "  roi_time_series = torch.from_numpy(roi_time_series)\n",
        "  functional_connectivity = torch_pearson_correlation_matrix(roi_time_series)\n",
        "  adjacency = (functional_connectivity > threshold).int() - torch.eye(len(functional_connectivity))\n",
        "\n",
        "  if adjacency_representation == 'edge_list':\n",
        "    adjacency = (adjacency.nonzero()).t()\n",
        "\n",
        "  if adjacency_matrix_type == 'numpy':\n",
        "    adjacency = adjacency.numpy()\n",
        "\n",
        "  if return_functional_connectivity==True:\n",
        "    return adjacency, functional_connectivity\n",
        "  else:\n",
        "    return adjacency"
      ],
      "metadata": {
        "id": "rG77rr13KfD9"
      },
      "execution_count": null,
      "outputs": []
    },
    {
      "cell_type": "markdown",
      "source": [],
      "metadata": {
        "id": "HQydvAnmhLQN"
      }
    },
    {
      "cell_type": "markdown",
      "source": [
        "Obtaining data from the ABIDE I [Preprocessed Connectomes Project](http://preprocessed-connectomes-project.org/abide/download.html). We're going to use the AAL atlas, which uses 116 brain regions of interest."
      ],
      "metadata": {
        "id": "9uh1u4XvHWbR"
      }
    },
    {
      "cell_type": "code",
      "source": [
        "import os\n",
        "import subprocess\n",
        "\n",
        "def download_sample(sample_name):\n",
        "  destination_folder = '/content/data/fmri'\n",
        "  url = 'https://s3.amazonaws.com/fcp-indi/data/Projects/ABIDE_Initiative/Outputs/cpac/filt_global/rois_aal/{}_rois_aal.1D'.format(sample_name)\n",
        "  subprocess.run([\n",
        "    \"wget\",\n",
        "    \"-P\", destination_folder,\n",
        "    \"--continue\",\n",
        "    \"--quiet\",\n",
        "    \"--no-check-certificate\",\n",
        "    url\n",
        "  ])\n",
        "\n",
        "def get_all_samples():\n",
        "  os.makedirs('/content/data/fmri', exist_ok=True)\n",
        "  !wget -P /content/data https://raw.githubusercontent.com/preprocessed-connectomes-project/abide/master/Phenotypic_V1_0b_preprocessed1.csv\n",
        "  phenotypic_data = pd.read_csv('/content/data/Phenotypic_V1_0b_preprocessed1.csv')\n",
        "  phenotypic_data['FILE_ID'].apply(download_sample)"
      ],
      "metadata": {
        "id": "MF0Ml-Ka5mZZ"
      },
      "execution_count": null,
      "outputs": []
    },
    {
      "cell_type": "code",
      "source": [
        "get_all_samples()"
      ],
      "metadata": {
        "colab": {
          "base_uri": "https://localhost:8080/"
        },
        "id": "PwTCqWPGleBg",
        "outputId": "53c2657e-2abe-440f-ee45-a8e0be90fdb8"
      },
      "execution_count": null,
      "outputs": [
        {
          "output_type": "stream",
          "name": "stdout",
          "text": [
            "--2024-12-27 20:02:44--  https://raw.githubusercontent.com/preprocessed-connectomes-project/abide/master/Phenotypic_V1_0b_preprocessed1.csv\n",
            "Resolving raw.githubusercontent.com (raw.githubusercontent.com)... 185.199.108.133, 185.199.110.133, 185.199.111.133, ...\n",
            "Connecting to raw.githubusercontent.com (raw.githubusercontent.com)|185.199.108.133|:443... connected.\n",
            "HTTP request sent, awaiting response... 200 OK\n",
            "Length: 449443 (439K) [text/plain]\n",
            "Saving to: ‘/content/data/Phenotypic_V1_0b_preprocessed1.csv’\n",
            "\n",
            "Phenotypic_V1_0b_pr 100%[===================>] 438.91K  --.-KB/s    in 0.05s   \n",
            "\n",
            "2024-12-27 20:02:45 (9.44 MB/s) - ‘/content/data/Phenotypic_V1_0b_preprocessed1.csv’ saved [449443/449443]\n",
            "\n"
          ]
        }
      ]
    }
  ]
}