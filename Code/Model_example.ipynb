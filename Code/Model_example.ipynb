{
  "nbformat": 4,
  "nbformat_minor": 0,
  "metadata": {
    "colab": {
      "provenance": [],
      "gpuType": "T4"
    },
    "kernelspec": {
      "name": "python3",
      "display_name": "Python 3"
    },
    "language_info": {
      "name": "python"
    },
    "accelerator": "GPU"
  },
  "cells": [
    {
      "cell_type": "markdown",
      "source": [
        "# Model Example\n",
        "\n",
        "In this initial experiment, we will attempt to predict the diagnosis of ASD from fMRI data using Graph Neural Networks. Each sample in the dataset corresponds to an fMRI exam, and from that exam, we construct a graph using a brain atlas reference, which will be the input for the GNN."
      ],
      "metadata": {
        "id": "SBvyEKH4lE3Y"
      }
    },
    {
      "cell_type": "markdown",
      "source": [
        "# Constructing the full set of graphs\n",
        "\n",
        "An input graph to a GNN consists on a triple $G = (V, E, X)$, where $V$ is the set of notes, $E$ is the set of edges and $X$ is the feature matrix such that the $i$-th row of $X$ contains the feature vector of node $i$.\n",
        "\n",
        "For the set $V$, the nodes of the graph will correspond to Regions Of Interest (ROI), where a region of interest is considered to have an important and specialized function in the brain connectivity. These regions can be categorized using a brain atlas, and here, we will use the AAL atlas, with 116 ROIs.\n",
        "\n",
        "The set of edges $E$ is calculated using the functional connectivity of the brain. In an fMRI exam, each part of the brain has a BOLD signal, a time series that measures brain activity through the presence of blood. Edges in the graph are inserted for pairs of nodes that have high positive correlation in their correspondent BOLD signals.\n",
        "\n",
        "Finally, inspired by the work of [Zhu et al.](https://link.springer.com/chapter/10.1007/978-3-030-93049-3_30), $X$ will be equal to the correlation matrix of the BOLD signals for all regions of interest. Therefore, the feature vector $i$ corresponds to it's partial correlations to every other region of interest in the brain.\n",
        "\n"
      ],
      "metadata": {
        "id": "xX2PM0j2hPMp"
      }
    },
    {
      "cell_type": "markdown",
      "source": [
        "## Import libraries"
      ],
      "metadata": {
        "id": "feVnNzSVHaDC"
      }
    },
    {
      "cell_type": "code",
      "source": [
        "import networkx as nx\n",
        "import numpy as np\n",
        "import pandas as pd\n",
        "import torch"
      ],
      "metadata": {
        "id": "clTIZW8fHZe4"
      },
      "execution_count": 1,
      "outputs": []
    },
    {
      "cell_type": "code",
      "source": [
        "torch_version = str(torch.__version__)\n",
        "scatter_src = f\"https://pytorch-geometric.com/whl/torch-{torch_version}.html\"\n",
        "sparse_src = f\"https://pytorch-geometric.com/whl/torch-{torch_version}.html\"\n",
        "!pip install torch-scatter -f $scatter_src\n",
        "!pip install torch-sparse -f $sparse_src\n",
        "!pip install torch-geometric"
      ],
      "metadata": {
        "id": "pXKys8LWVRXl",
        "colab": {
          "base_uri": "https://localhost:8080/",
          "height": 0
        },
        "outputId": "f613250f-5d7b-4fb8-8f21-381dd177f95a"
      },
      "execution_count": 2,
      "outputs": [
        {
          "output_type": "stream",
          "name": "stdout",
          "text": [
            "Looking in links: https://pytorch-geometric.com/whl/torch-2.5.1+cu124.html\n",
            "Collecting torch-scatter\n",
            "  Downloading https://data.pyg.org/whl/torch-2.5.0%2Bcu124/torch_scatter-2.1.2%2Bpt25cu124-cp311-cp311-linux_x86_64.whl (10.8 MB)\n",
            "\u001b[2K     \u001b[90m━━━━━━━━━━━━━━━━━━━━━━━━━━━━━━━━━━━━━━━━\u001b[0m \u001b[32m10.8/10.8 MB\u001b[0m \u001b[31m27.5 MB/s\u001b[0m eta \u001b[36m0:00:00\u001b[0m\n",
            "\u001b[?25hInstalling collected packages: torch-scatter\n",
            "Successfully installed torch-scatter-2.1.2+pt25cu124\n",
            "Looking in links: https://pytorch-geometric.com/whl/torch-2.5.1+cu124.html\n",
            "Collecting torch-sparse\n",
            "  Downloading https://data.pyg.org/whl/torch-2.5.0%2Bcu124/torch_sparse-0.6.18%2Bpt25cu124-cp311-cp311-linux_x86_64.whl (5.2 MB)\n",
            "\u001b[2K     \u001b[90m━━━━━━━━━━━━━━━━━━━━━━━━━━━━━━━━━━━━━━━━\u001b[0m \u001b[32m5.2/5.2 MB\u001b[0m \u001b[31m25.0 MB/s\u001b[0m eta \u001b[36m0:00:00\u001b[0m\n",
            "\u001b[?25hRequirement already satisfied: scipy in /usr/local/lib/python3.11/dist-packages (from torch-sparse) (1.13.1)\n",
            "Requirement already satisfied: numpy<2.3,>=1.22.4 in /usr/local/lib/python3.11/dist-packages (from scipy->torch-sparse) (1.26.4)\n",
            "Installing collected packages: torch-sparse\n",
            "Successfully installed torch-sparse-0.6.18+pt25cu124\n",
            "Collecting torch-geometric\n",
            "  Downloading torch_geometric-2.6.1-py3-none-any.whl.metadata (63 kB)\n",
            "\u001b[2K     \u001b[90m━━━━━━━━━━━━━━━━━━━━━━━━━━━━━━━━━━━━━━━━\u001b[0m \u001b[32m63.1/63.1 kB\u001b[0m \u001b[31m1.8 MB/s\u001b[0m eta \u001b[36m0:00:00\u001b[0m\n",
            "\u001b[?25hRequirement already satisfied: aiohttp in /usr/local/lib/python3.11/dist-packages (from torch-geometric) (3.11.11)\n",
            "Requirement already satisfied: fsspec in /usr/local/lib/python3.11/dist-packages (from torch-geometric) (2024.10.0)\n",
            "Requirement already satisfied: jinja2 in /usr/local/lib/python3.11/dist-packages (from torch-geometric) (3.1.5)\n",
            "Requirement already satisfied: numpy in /usr/local/lib/python3.11/dist-packages (from torch-geometric) (1.26.4)\n",
            "Requirement already satisfied: psutil>=5.8.0 in /usr/local/lib/python3.11/dist-packages (from torch-geometric) (5.9.5)\n",
            "Requirement already satisfied: pyparsing in /usr/local/lib/python3.11/dist-packages (from torch-geometric) (3.2.1)\n",
            "Requirement already satisfied: requests in /usr/local/lib/python3.11/dist-packages (from torch-geometric) (2.32.3)\n",
            "Requirement already satisfied: tqdm in /usr/local/lib/python3.11/dist-packages (from torch-geometric) (4.67.1)\n",
            "Requirement already satisfied: aiohappyeyeballs>=2.3.0 in /usr/local/lib/python3.11/dist-packages (from aiohttp->torch-geometric) (2.4.4)\n",
            "Requirement already satisfied: aiosignal>=1.1.2 in /usr/local/lib/python3.11/dist-packages (from aiohttp->torch-geometric) (1.3.2)\n",
            "Requirement already satisfied: attrs>=17.3.0 in /usr/local/lib/python3.11/dist-packages (from aiohttp->torch-geometric) (25.1.0)\n",
            "Requirement already satisfied: frozenlist>=1.1.1 in /usr/local/lib/python3.11/dist-packages (from aiohttp->torch-geometric) (1.5.0)\n",
            "Requirement already satisfied: multidict<7.0,>=4.5 in /usr/local/lib/python3.11/dist-packages (from aiohttp->torch-geometric) (6.1.0)\n",
            "Requirement already satisfied: propcache>=0.2.0 in /usr/local/lib/python3.11/dist-packages (from aiohttp->torch-geometric) (0.2.1)\n",
            "Requirement already satisfied: yarl<2.0,>=1.17.0 in /usr/local/lib/python3.11/dist-packages (from aiohttp->torch-geometric) (1.18.3)\n",
            "Requirement already satisfied: MarkupSafe>=2.0 in /usr/local/lib/python3.11/dist-packages (from jinja2->torch-geometric) (3.0.2)\n",
            "Requirement already satisfied: charset-normalizer<4,>=2 in /usr/local/lib/python3.11/dist-packages (from requests->torch-geometric) (3.4.1)\n",
            "Requirement already satisfied: idna<4,>=2.5 in /usr/local/lib/python3.11/dist-packages (from requests->torch-geometric) (3.10)\n",
            "Requirement already satisfied: urllib3<3,>=1.21.1 in /usr/local/lib/python3.11/dist-packages (from requests->torch-geometric) (2.3.0)\n",
            "Requirement already satisfied: certifi>=2017.4.17 in /usr/local/lib/python3.11/dist-packages (from requests->torch-geometric) (2024.12.14)\n",
            "Downloading torch_geometric-2.6.1-py3-none-any.whl (1.1 MB)\n",
            "\u001b[2K   \u001b[90m━━━━━━━━━━━━━━━━━━━━━━━━━━━━━━━━━━━━━━━━\u001b[0m \u001b[32m1.1/1.1 MB\u001b[0m \u001b[31m18.0 MB/s\u001b[0m eta \u001b[36m0:00:00\u001b[0m\n",
            "\u001b[?25hInstalling collected packages: torch-geometric\n",
            "Successfully installed torch-geometric-2.6.1\n"
          ]
        }
      ]
    },
    {
      "cell_type": "code",
      "source": [
        "device = torch.device(\"cuda\" if torch.cuda.is_available() else \"cpu\")"
      ],
      "metadata": {
        "id": "t_6BLpdRWa4d"
      },
      "execution_count": 3,
      "outputs": []
    },
    {
      "cell_type": "code",
      "source": [
        "def torch_pearson_correlation_matrix(X):\n",
        "\n",
        "  mean = torch.mean(X, dim=0)\n",
        "  covariance = torch.matmul((X - mean).t(), (X - mean))\n",
        "  variance = torch.diagonal(covariance)\n",
        "  correlation = (variance**(-1/2)) * covariance * ((variance**(-1/2)).t())\n",
        "  return correlation\n",
        "\n",
        "def construct_graph(roi_time_series, threshold=0.7, return_functional_connectivity=True, adjacency_matrix_type='torch', adjacency_representation = 'edge_list'):\n",
        "\n",
        "  roi_time_series = torch.from_numpy(roi_time_series).to(device)\n",
        "  functional_connectivity = torch_pearson_correlation_matrix(roi_time_series)\n",
        "  adjacency = (functional_connectivity > threshold).int().to(device) - torch.eye(len(functional_connectivity)).to(device)\n",
        "\n",
        "  if adjacency_representation == 'edge_list':\n",
        "    adjacency = (adjacency.nonzero()).t()\n",
        "\n",
        "  if adjacency_matrix_type == 'numpy':\n",
        "    adjacency = adjacency.cpu().numpy()\n",
        "\n",
        "  if return_functional_connectivity==True:\n",
        "    return adjacency, functional_connectivity\n",
        "  else:\n",
        "    return adjacency"
      ],
      "metadata": {
        "id": "rG77rr13KfD9"
      },
      "execution_count": 4,
      "outputs": []
    },
    {
      "cell_type": "markdown",
      "source": [
        "Obtaining data from the ABIDE I [Preprocessed Connectomes Project](http://preprocessed-connectomes-project.org/abide/download.html), where all fMRI exams have been pre-processed with different brain atlases. As mentioned before, we will use the AAL atlas."
      ],
      "metadata": {
        "id": "9uh1u4XvHWbR"
      }
    },
    {
      "cell_type": "code",
      "source": [
        "import os\n",
        "import subprocess\n",
        "from torch_geometric.data import Data\n",
        "from tqdm import tqdm\n",
        "\n",
        "def download_sample(sample_name):\n",
        "  destination_folder = '/content/data/fmri'\n",
        "  url = 'https://s3.amazonaws.com/fcp-indi/data/Projects/ABIDE_Initiative/Outputs/cpac/filt_global/rois_aal/{}_rois_aal.1D'.format(sample_name)\n",
        "  subprocess.run([\n",
        "    \"wget\",\n",
        "    \"-P\", destination_folder,\n",
        "    \"--continue\",\n",
        "    \"--quiet\",\n",
        "    \"--no-check-certificate\",\n",
        "    url\n",
        "  ])\n",
        "\n",
        "def get_dataset(threshold=0.7, data_source='download'):\n",
        "\n",
        "  filepath_begin = \"\"\n",
        "  if data_source == 'download':\n",
        "    os.makedirs('/content/data/fmri', exist_ok=True)\n",
        "    !wget -P /content/data https://raw.githubusercontent.com/preprocessed-connectomes-project/abide/master/Phenotypic_V1_0b_preprocessed1.csv\n",
        "    phenotypic_data = pd.read_csv('/content/data/Phenotypic_V1_0b_preprocessed1.csv')\n",
        "    print(\"Downloading fMRI scans...\")\n",
        "    phenotypic_data['FILE_ID'].apply(download_sample)\n",
        "    filepath_begin = \"/content/data/fmri/\"\n",
        "\n",
        "  elif data_source == 'drive':\n",
        "    from google.colab import drive\n",
        "    drive.mount('/content/drive')\n",
        "    phenotypic_data = pd.read_csv('/content/drive/MyDrive/data/Phenotypic_V1_0b_preprocessed1.csv')\n",
        "    filepath_begin = \"/content/drive/MyDrive/data/fmri\"\n",
        "\n",
        "  data_list = []\n",
        "\n",
        "  for index, row in tqdm(phenotypic_data.iterrows(), total=phenotypic_data.shape[0], desc='Constructing graphs:'):\n",
        "    filepath = filepath_begin + row['FILE_ID'] + \"_rois_aal.1D\"\n",
        "    if not os.path.exists(filepath): #Not every line of the phenotypic table is in the PCP dataset\n",
        "      continue\n",
        "    roi_time_series = np.loadtxt(filepath)\n",
        "    edge_index, x = construct_graph(roi_time_series=roi_time_series, threshold=threshold)\n",
        "\n",
        "    if torch.isnan(x).any():\n",
        "      continue\n",
        "\n",
        "    y = torch.tensor([row['DX_GROUP']-1]) #For the graph labels, 0 is for autistic patients and 1 is for typical control (adjusted to 0-1 interval to allow BCE Loss)\n",
        "    data_list.append(Data(x=x, edge_index=edge_index, y=y))\n",
        "\n",
        "  return data_list"
      ],
      "metadata": {
        "id": "MF0Ml-Ka5mZZ"
      },
      "execution_count": 5,
      "outputs": []
    },
    {
      "cell_type": "code",
      "source": [
        "dataset = get_dataset()"
      ],
      "metadata": {
        "id": "IiV3keVJltsJ",
        "outputId": "7d0a087f-c6ff-46da-f3be-9d3a3f95f6b9",
        "colab": {
          "base_uri": "https://localhost:8080/",
          "height": 0
        }
      },
      "execution_count": 6,
      "outputs": [
        {
          "output_type": "stream",
          "name": "stdout",
          "text": [
            "--2025-02-03 13:51:58--  https://raw.githubusercontent.com/preprocessed-connectomes-project/abide/master/Phenotypic_V1_0b_preprocessed1.csv\n",
            "Resolving raw.githubusercontent.com (raw.githubusercontent.com)... 185.199.111.133, 185.199.108.133, 185.199.109.133, ...\n",
            "Connecting to raw.githubusercontent.com (raw.githubusercontent.com)|185.199.111.133|:443... connected.\n",
            "HTTP request sent, awaiting response... 200 OK\n",
            "Length: 449443 (439K) [text/plain]\n",
            "Saving to: ‘/content/data/Phenotypic_V1_0b_preprocessed1.csv’\n",
            "\n",
            "Phenotypic_V1_0b_pr 100%[===================>] 438.91K  --.-KB/s    in 0.04s   \n",
            "\n",
            "2025-02-03 13:51:58 (9.61 MB/s) - ‘/content/data/Phenotypic_V1_0b_preprocessed1.csv’ saved [449443/449443]\n",
            "\n",
            "Downloading fMRI scans...\n"
          ]
        },
        {
          "output_type": "stream",
          "name": "stderr",
          "text": [
            "Constructing graphs:: 100%|██████████| 1112/1112 [00:05<00:00, 214.38it/s]\n"
          ]
        }
      ]
    },
    {
      "cell_type": "code",
      "source": [
        "from sklearn.model_selection import train_test_split\n",
        "\n",
        "train_dataset, test_dataset = train_test_split(dataset, test_size=0.2)"
      ],
      "metadata": {
        "id": "Z4F7Oe6qRr5k"
      },
      "execution_count": 7,
      "outputs": []
    },
    {
      "cell_type": "markdown",
      "source": [
        "# Training the GNN\n",
        "\n",
        "Here, we will use the Graph Attention Network architecture proposed by [Veličković et al.](https://arxiv.org/abs/1710.10903)"
      ],
      "metadata": {
        "id": "fFZJUBI7TPvT"
      }
    },
    {
      "cell_type": "code",
      "source": [
        "from torch.nn import ModuleList, Sigmoid\n",
        "import torch.nn as nn\n",
        "import torch.nn.functional as F\n",
        "from torch_geometric.nn.conv import GATConv\n",
        "from torch_geometric.nn.pool import global_mean_pool\n",
        "\n",
        "class GAT(torch.nn.Module):\n",
        "  def __init__(self, input_dim, hidden_dim=8, n_heads=3, num_layers=3, dropout=0.6):\n",
        "\n",
        "    super(GAT, self).__init__()\n",
        "    self.dropout = dropout\n",
        "    self.num_layers = num_layers\n",
        "\n",
        "    self.convs = ModuleList()\n",
        "    self.convs.append(GATConv(input_dim, hidden_dim, n_heads))\n",
        "    for l in range(num_layers - 1):\n",
        "      self.convs.append(GATConv(hidden_dim * n_heads, hidden_dim, n_heads))\n",
        "\n",
        "    self.dropout = dropout\n",
        "    self.post_message_passing = nn.Linear(hidden_dim * n_heads, 1)\n",
        "    self.sigmoid = Sigmoid()\n",
        "\n",
        "  def forward(self, data):\n",
        "\n",
        "    x, edge_index, batch = data.x, data.edge_index, data.batch\n",
        "\n",
        "    for i in range(self.num_layers):\n",
        "      x = self.convs[i](x, edge_index)\n",
        "      x = F.leaky_relu(x)\n",
        "      x = F.dropout(x, p=self.dropout,training=self.training)\n",
        "\n",
        "    x = global_mean_pool(x, batch)\n",
        "    x = self.post_message_passing(x).squeeze(1)\n",
        "    out = self.sigmoid(x)\n",
        "    return out"
      ],
      "metadata": {
        "id": "iKKkapSZjrR1"
      },
      "execution_count": 68,
      "outputs": []
    },
    {
      "cell_type": "code",
      "source": [
        "from torch.nn.functional import binary_cross_entropy as BCELoss\n",
        "from torch.optim import Adam\n",
        "\n",
        "def train(train_loader, n_epochs=130, learning_rate = 0.003, return_losses_and_acc = False):\n",
        "\n",
        "  model = GAT(input_dim=116)\n",
        "  model = model.to(device)\n",
        "  optimizer = Adam(model.parameters(), lr=learning_rate)\n",
        "\n",
        "  losses = []\n",
        "  accs = []\n",
        "\n",
        "  model.train()\n",
        "\n",
        "  for epoch in tqdm(range(n_epochs), desc='Epochs: '):\n",
        "\n",
        "    total_loss = 0\n",
        "    total_acc = 0\n",
        "    n_batches = 0\n",
        "\n",
        "    for batch in train_loader:\n",
        "\n",
        "      batch.x, batch.y = batch.x.float(), batch.y.float()\n",
        "      optimizer.zero_grad()\n",
        "      prediction = model(batch)\n",
        "      true_label = (batch.y).to(device)\n",
        "      acc = ((prediction.round() == true_label).sum()/len(prediction)).item()\n",
        "      loss = BCELoss(prediction, true_label)\n",
        "      loss.backward()\n",
        "      optimizer.step()\n",
        "      total_loss += loss.item() * batch.num_graphs\n",
        "      n_batches += 1\n",
        "      total_acc += acc\n",
        "\n",
        "    losses.append(total_loss)\n",
        "    accs.append(total_acc/n_batches)\n",
        "\n",
        "  if return_losses_and_acc:\n",
        "    return model, losses, accs\n",
        "  return model"
      ],
      "metadata": {
        "id": "cKH8-1LpjdOO"
      },
      "execution_count": 88,
      "outputs": []
    },
    {
      "cell_type": "code",
      "source": [
        "import matplotlib.pyplot as plt\n",
        "from sklearn.metrics import classification_report\n",
        "\n",
        "def test(model, test_loader, losses, accs):\n",
        "\n",
        "  model.eval()\n",
        "\n",
        "  test_prediction = []\n",
        "  test_true_label = []\n",
        "\n",
        "  for batch in test_loader:\n",
        "\n",
        "    batch.x, batch.y = (batch.x.float()).to(device), (batch.y.float()).to(device)\n",
        "    output = model(batch)\n",
        "    y_batch_pred = torch.round(output)\n",
        "    test_prediction.extend(y_batch_pred.cpu().detach().numpy())\n",
        "    test_true_label.extend(batch.y.cpu().detach().numpy())\n",
        "\n",
        "  print(\"Classification Report:\")\n",
        "  print(classification_report(test_true_label, test_prediction))\n",
        "\n",
        "  # Criando uma figura com 2 subgráficos dispostos em 1 coluna e 2 linhas\n",
        "  fig, axs = plt.subplots(2, 1, figsize=(6, 8))\n",
        "\n",
        "  # Plotando no primeiro subgráfico\n",
        "  axs[0].plot(losses)\n",
        "  axs[0].set_title('Decay of loss during training')\n",
        "\n",
        "  # Plotando no segundo subgráfico\n",
        "  axs[1].plot(accs)\n",
        "  axs[1].set_title('Accuracy during training')\n",
        "\n",
        "  # Ajustando o layout para não sobrepor os gráficos\n",
        "  plt.tight_layout()\n",
        "\n",
        "  # Exibindo os gráficos\n",
        "  plt.show()"
      ],
      "metadata": {
        "id": "Jz0IlfaOj0kh"
      },
      "execution_count": 89,
      "outputs": []
    },
    {
      "cell_type": "code",
      "source": [
        "from torch_geometric.loader import DataLoader\n",
        "\n",
        "train_loader = DataLoader(train_dataset, batch_size=10, shuffle=False)\n",
        "test_loader = DataLoader(test_dataset, batch_size=10, shuffle=False)\n",
        "model, losses, accs = train(train_loader, return_losses_and_acc=True)"
      ],
      "metadata": {
        "id": "7bWFO1GGTPdK",
        "colab": {
          "base_uri": "https://localhost:8080/"
        },
        "outputId": "5413a13c-db27-427f-fc48-7ec0d37bc429"
      },
      "execution_count": 90,
      "outputs": [
        {
          "output_type": "stream",
          "name": "stderr",
          "text": [
            "Epochs: 100%|██████████| 130/130 [01:31<00:00,  1.43it/s]\n"
          ]
        }
      ]
    },
    {
      "cell_type": "code",
      "source": [
        "test(model, test_loader, losses, accs)"
      ],
      "metadata": {
        "id": "7FXF2Sz0C4hk",
        "colab": {
          "base_uri": "https://localhost:8080/",
          "height": 986
        },
        "outputId": "84f6485f-9a93-42ac-91cc-1d1c12cc4201"
      },
      "execution_count": 91,
      "outputs": [
        {
          "output_type": "stream",
          "name": "stdout",
          "text": [
            "Classification Report:\n",
            "              precision    recall  f1-score   support\n",
            "\n",
            "         0.0       0.50      0.79      0.61        87\n",
            "         1.0       0.65      0.33      0.44       103\n",
            "\n",
            "    accuracy                           0.54       190\n",
            "   macro avg       0.58      0.56      0.53       190\n",
            "weighted avg       0.58      0.54      0.52       190\n",
            "\n"
          ]
        },
        {
          "output_type": "display_data",
          "data": {
            "text/plain": [
              "<Figure size 600x800 with 2 Axes>"
            ],
            "image/png": "[encoded data removed]"
          },
          "metadata": {}
        }
      ]
    },
    {
      "cell_type": "markdown",
      "source": [
        "The results indicate that the model overfits the data."
      ],
      "metadata": {
        "id": "mm3_NapIajdl"
      }
    }
  ]
}