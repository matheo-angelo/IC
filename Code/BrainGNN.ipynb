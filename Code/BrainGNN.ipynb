{
  "nbformat": 4,
  "nbformat_minor": 0,
  "metadata": {
    "colab": {
      "provenance": [],
      "gpuType": "T4"
    },
    "kernelspec": {
      "name": "python3",
      "display_name": "Python 3"
    },
    "language_info": {
      "name": "python"
    },
    "accelerator": "GPU"
  },
  "cells": [
    {
      "cell_type": "markdown",
      "source": [
        "# BrainGNN\n",
        "A Python Notebook that trains the [BrainGNN](https://www.sciencedirect.com/science/article/pii/S1361841521002784) neural network on autism fMRI data sourced from [ABIDE I](https://fcon_1000.projects.nitrc.org/indi/abide/abide_I.html) on Google Colab. The necessary dependencies might change as the code gets outdated.\n",
        "\n",
        "The original code itself is very outdated and not immediately replicable, so we had to use a more recent fork repository instead, and install additional packages by hand. On top of that fork, we created a new fork where all dependencies can be installed from ```requirements.txt```."
      ],
      "metadata": {
        "id": "4LlwORY-Y5HJ"
      }
    },
    {
      "cell_type": "code",
      "execution_count": 1,
      "metadata": {
        "colab": {
          "base_uri": "https://localhost:8080/"
        },
        "id": "PNzLmvRUghSy",
        "outputId": "d0aedfbc-1268-445f-a2f8-165b946e5f6d"
      },
      "outputs": [
        {
          "output_type": "stream",
          "name": "stdout",
          "text": [
            "Cloning into 'BrainGNN'...\n",
            "remote: Enumerating objects: 5321, done.\u001b[K\n",
            "remote: Counting objects: 100% (60/60), done.\u001b[K\n",
            "remote: Compressing objects: 100% (54/54), done.\u001b[K\n",
            "remote: Total 5321 (delta 28), reused 6 (delta 6), pack-reused 5261 (from 3)\u001b[K\n",
            "Receiving objects: 100% (5321/5321), 1.29 GiB | 31.31 MiB/s, done.\n",
            "Resolving deltas: 100% (50/50), done.\n",
            "Updating files: 100% (4170/4170), done.\n"
          ]
        }
      ],
      "source": [
        "!git clone https://github.com/matheo-angelo/BrainGNN_Pytorch BrainGNN"
      ]
    },
    {
      "cell_type": "markdown",
      "source": [
        "You will have to restart the runtime after running the cell below, before you proceed to the next cells."
      ],
      "metadata": {
        "id": "yzyKrMxof40H"
      }
    },
    {
      "cell_type": "code",
      "source": [
        "!pip install -r /content/BrainGNN/requirements.txt"
      ],
      "metadata": {
        "colab": {
          "base_uri": "https://localhost:8080/",
          "height": 1000
        },
        "id": "AMndEzxChhLp",
        "outputId": "bb46d7f6-e9c7-45a0-a972-271803232840"
      },
      "execution_count": 2,
      "outputs": [
        {
          "output_type": "stream",
          "name": "stdout",
          "text": [
            "Looking in links: https://data.pyg.org/whl/torch-2.1.1+cu121.html\n",
            "Collecting torch-scatter (from -r /content/BrainGNN/requirements.txt (line 1))\n",
            "  Downloading https://data.pyg.org/whl/torch-2.1.0%2Bcu121/torch_scatter-2.1.2%2Bpt21cu121-cp311-cp311-linux_x86_64.whl (10.8 MB)\n",
            "\u001b[2K     \u001b[90m━━━━━━━━━━━━━━━━━━━━━━━━━━━━━━━━━━━━━━━━\u001b[0m \u001b[32m10.8/10.8 MB\u001b[0m \u001b[31m17.6 MB/s\u001b[0m eta \u001b[36m0:00:00\u001b[0m\n",
            "\u001b[?25hCollecting torch-sparse (from -r /content/BrainGNN/requirements.txt (line 2))\n",
            "  Downloading https://data.pyg.org/whl/torch-2.1.0%2Bcu121/torch_sparse-0.6.18%2Bpt21cu121-cp311-cp311-linux_x86_64.whl (5.1 MB)\n",
            "\u001b[2K     \u001b[90m━━━━━━━━━━━━━━━━━━━━━━━━━━━━━━━━━━━━━━━━\u001b[0m \u001b[32m5.1/5.1 MB\u001b[0m \u001b[31m35.1 MB/s\u001b[0m eta \u001b[36m0:00:00\u001b[0m\n",
            "\u001b[?25hCollecting torch-cluster (from -r /content/BrainGNN/requirements.txt (line 3))\n",
            "  Downloading https://data.pyg.org/whl/torch-2.1.0%2Bcu121/torch_cluster-1.6.3%2Bpt21cu121-cp311-cp311-linux_x86_64.whl (3.3 MB)\n",
            "\u001b[2K     \u001b[90m━━━━━━━━━━━━━━━━━━━━━━━━━━━━━━━━━━━━━━━━\u001b[0m \u001b[32m3.3/3.3 MB\u001b[0m \u001b[31m111.2 MB/s\u001b[0m eta \u001b[36m0:00:00\u001b[0m\n",
            "\u001b[?25hCollecting torch-spline-conv (from -r /content/BrainGNN/requirements.txt (line 4))\n",
            "  Downloading https://data.pyg.org/whl/torch-2.1.0%2Bcu121/torch_spline_conv-1.2.2%2Bpt21cu121-cp311-cp311-linux_x86_64.whl (935 kB)\n",
            "\u001b[2K     \u001b[90m━━━━━━━━━━━━━━━━━━━━━━━━━━━━━━━━━━━━━━\u001b[0m \u001b[32m936.0/936.0 kB\u001b[0m \u001b[31m59.9 MB/s\u001b[0m eta \u001b[36m0:00:00\u001b[0m\n",
            "\u001b[?25hCollecting absl-py==2.0.0 (from -r /content/BrainGNN/requirements.txt (line 6))\n",
            "  Downloading absl_py-2.0.0-py3-none-any.whl.metadata (2.3 kB)\n",
            "Collecting blosc2==2.3.1 (from -r /content/BrainGNN/requirements.txt (line 7))\n",
            "  Downloading blosc2-2.3.1-cp311-cp311-manylinux_2_17_x86_64.manylinux2014_x86_64.whl.metadata (9.1 kB)\n",
            "Collecting cachetools==5.3.2 (from -r /content/BrainGNN/requirements.txt (line 8))\n",
            "  Downloading cachetools-5.3.2-py3-none-any.whl.metadata (5.2 kB)\n",
            "Collecting certifi==2023.11.17 (from -r /content/BrainGNN/requirements.txt (line 9))\n",
            "  Downloading certifi-2023.11.17-py3-none-any.whl.metadata (2.2 kB)\n",
            "Collecting charset-normalizer==3.3.2 (from -r /content/BrainGNN/requirements.txt (line 10))\n",
            "  Downloading charset_normalizer-3.3.2-cp311-cp311-manylinux_2_17_x86_64.manylinux2014_x86_64.whl.metadata (33 kB)\n",
            "Collecting deepdish==0.3.7 (from -r /content/BrainGNN/requirements.txt (line 11))\n",
            "  Downloading deepdish-0.3.7-py2.py3-none-any.whl.metadata (856 bytes)\n",
            "Collecting filelock==3.13.1 (from -r /content/BrainGNN/requirements.txt (line 12))\n",
            "  Downloading filelock-3.13.1-py3-none-any.whl.metadata (2.8 kB)\n",
            "Collecting fsspec==2023.10.0 (from -r /content/BrainGNN/requirements.txt (line 13))\n",
            "  Downloading fsspec-2023.10.0-py3-none-any.whl.metadata (6.8 kB)\n",
            "Collecting google-auth==2.23.4 (from -r /content/BrainGNN/requirements.txt (line 14))\n",
            "  Downloading google_auth-2.23.4-py2.py3-none-any.whl.metadata (4.7 kB)\n",
            "Collecting google-auth-oauthlib==1.1.0 (from -r /content/BrainGNN/requirements.txt (line 15))\n",
            "  Downloading google_auth_oauthlib-1.1.0-py2.py3-none-any.whl.metadata (2.7 kB)\n",
            "Collecting grpcio==1.59.3 (from -r /content/BrainGNN/requirements.txt (line 16))\n",
            "  Downloading grpcio-1.59.3-cp311-cp311-manylinux_2_17_x86_64.manylinux2014_x86_64.whl.metadata (4.0 kB)\n",
            "Collecting h5py==3.10.0 (from -r /content/BrainGNN/requirements.txt (line 17))\n",
            "  Downloading h5py-3.10.0-cp311-cp311-manylinux_2_17_x86_64.manylinux2014_x86_64.whl.metadata (2.5 kB)\n",
            "Collecting idna==3.6 (from -r /content/BrainGNN/requirements.txt (line 18))\n",
            "  Downloading idna-3.6-py3-none-any.whl.metadata (9.9 kB)\n",
            "Collecting importlib-metadata==6.8.0 (from -r /content/BrainGNN/requirements.txt (line 19))\n",
            "  Downloading importlib_metadata-6.8.0-py3-none-any.whl.metadata (5.1 kB)\n",
            "Collecting Jinja2==3.1.2 (from -r /content/BrainGNN/requirements.txt (line 20))\n",
            "  Downloading Jinja2-3.1.2-py3-none-any.whl.metadata (3.5 kB)\n",
            "Collecting joblib==1.3.2 (from -r /content/BrainGNN/requirements.txt (line 21))\n",
            "  Downloading joblib-1.3.2-py3-none-any.whl.metadata (5.4 kB)\n",
            "Collecting lxml==4.9.3 (from -r /content/BrainGNN/requirements.txt (line 22))\n",
            "  Downloading lxml-4.9.3-cp311-cp311-manylinux_2_28_x86_64.whl.metadata (3.8 kB)\n",
            "Collecting Markdown==3.5.1 (from -r /content/BrainGNN/requirements.txt (line 23))\n",
            "  Downloading Markdown-3.5.1-py3-none-any.whl.metadata (7.1 kB)\n",
            "Collecting MarkupSafe==2.1.3 (from -r /content/BrainGNN/requirements.txt (line 24))\n",
            "  Downloading MarkupSafe-2.1.3-cp311-cp311-manylinux_2_17_x86_64.manylinux2014_x86_64.whl.metadata (3.0 kB)\n",
            "Requirement already satisfied: mpmath==1.3.0 in /usr/local/lib/python3.11/dist-packages (from -r /content/BrainGNN/requirements.txt (line 25)) (1.3.0)\n",
            "Collecting msgpack==1.0.7 (from -r /content/BrainGNN/requirements.txt (line 26))\n",
            "  Downloading msgpack-1.0.7-cp311-cp311-manylinux_2_17_x86_64.manylinux2014_x86_64.whl.metadata (9.1 kB)\n",
            "Collecting ndindex==1.7 (from -r /content/BrainGNN/requirements.txt (line 27))\n",
            "  Downloading ndindex-1.7-py3-none-any.whl.metadata (3.4 kB)\n",
            "Collecting networkx==3.2.1 (from -r /content/BrainGNN/requirements.txt (line 28))\n",
            "  Downloading networkx-3.2.1-py3-none-any.whl.metadata (5.2 kB)\n",
            "Collecting nibabel==5.1.0 (from -r /content/BrainGNN/requirements.txt (line 29))\n",
            "  Downloading nibabel-5.1.0-py3-none-any.whl.metadata (8.7 kB)\n",
            "Collecting nilearn==0.10.2 (from -r /content/BrainGNN/requirements.txt (line 30))\n",
            "  Downloading nilearn-0.10.2-py3-none-any.whl.metadata (7.8 kB)\n",
            "Collecting numexpr==2.8.7 (from -r /content/BrainGNN/requirements.txt (line 31))\n",
            "  Downloading numexpr-2.8.7-cp311-cp311-manylinux_2_17_x86_64.manylinux2014_x86_64.whl.metadata (8.7 kB)\n",
            "Collecting numpy==1.26.2 (from -r /content/BrainGNN/requirements.txt (line 32))\n",
            "  Downloading numpy-1.26.2-cp311-cp311-manylinux_2_17_x86_64.manylinux2014_x86_64.whl.metadata (61 kB)\n",
            "\u001b[2K     \u001b[90m━━━━━━━━━━━━━━━━━━━━━━━━━━━━━━━━━━━━━━━━\u001b[0m \u001b[32m61.2/61.2 kB\u001b[0m \u001b[31m3.0 MB/s\u001b[0m eta \u001b[36m0:00:00\u001b[0m\n",
            "\u001b[?25hRequirement already satisfied: oauthlib==3.2.2 in /usr/local/lib/python3.11/dist-packages (from -r /content/BrainGNN/requirements.txt (line 33)) (3.2.2)\n",
            "Collecting packaging==23.2 (from -r /content/BrainGNN/requirements.txt (line 34))\n",
            "  Downloading packaging-23.2-py3-none-any.whl.metadata (3.2 kB)\n",
            "Collecting pandas==2.1.3 (from -r /content/BrainGNN/requirements.txt (line 35))\n",
            "  Downloading pandas-2.1.3-cp311-cp311-manylinux_2_17_x86_64.manylinux2014_x86_64.whl.metadata (18 kB)\n",
            "Collecting Pillow==10.1.0 (from -r /content/BrainGNN/requirements.txt (line 36))\n",
            "  Downloading Pillow-10.1.0-cp311-cp311-manylinux_2_28_x86_64.whl.metadata (9.5 kB)\n",
            "Collecting protobuf==4.23.4 (from -r /content/BrainGNN/requirements.txt (line 37))\n",
            "  Downloading protobuf-4.23.4-cp37-abi3-manylinux2014_x86_64.whl.metadata (540 bytes)\n",
            "Collecting psutil==5.9.6 (from -r /content/BrainGNN/requirements.txt (line 38))\n",
            "  Downloading psutil-5.9.6-cp36-abi3-manylinux_2_12_x86_64.manylinux2010_x86_64.manylinux_2_17_x86_64.manylinux2014_x86_64.whl.metadata (21 kB)\n",
            "Requirement already satisfied: py-cpuinfo==9.0.0 in /usr/local/lib/python3.11/dist-packages (from -r /content/BrainGNN/requirements.txt (line 39)) (9.0.0)\n",
            "Collecting pyasn1==0.5.1 (from -r /content/BrainGNN/requirements.txt (line 40))\n",
            "  Downloading pyasn1-0.5.1-py2.py3-none-any.whl.metadata (8.6 kB)\n",
            "Collecting pyasn1-modules==0.3.0 (from -r /content/BrainGNN/requirements.txt (line 41))\n",
            "  Downloading pyasn1_modules-0.3.0-py2.py3-none-any.whl.metadata (3.6 kB)\n",
            "Collecting pyparsing==3.1.1 (from -r /content/BrainGNN/requirements.txt (line 42))\n",
            "  Downloading pyparsing-3.1.1-py3-none-any.whl.metadata (5.1 kB)\n",
            "Requirement already satisfied: python-dateutil==2.8.2 in /usr/local/lib/python3.11/dist-packages (from -r /content/BrainGNN/requirements.txt (line 43)) (2.8.2)\n",
            "Collecting pytz==2023.3.post1 (from -r /content/BrainGNN/requirements.txt (line 44))\n",
            "  Downloading pytz-2023.3.post1-py2.py3-none-any.whl.metadata (22 kB)\n",
            "Collecting requests==2.31.0 (from -r /content/BrainGNN/requirements.txt (line 45))\n",
            "  Downloading requests-2.31.0-py3-none-any.whl.metadata (4.6 kB)\n",
            "Collecting requests-oauthlib==1.3.1 (from -r /content/BrainGNN/requirements.txt (line 46))\n",
            "  Downloading requests_oauthlib-1.3.1-py2.py3-none-any.whl.metadata (10 kB)\n",
            "Collecting rsa==4.9 (from -r /content/BrainGNN/requirements.txt (line 47))\n",
            "  Downloading rsa-4.9-py3-none-any.whl.metadata (4.2 kB)\n",
            "Collecting scikit-learn==1.3.2 (from -r /content/BrainGNN/requirements.txt (line 48))\n",
            "  Downloading scikit_learn-1.3.2-cp311-cp311-manylinux_2_17_x86_64.manylinux2014_x86_64.whl.metadata (11 kB)\n",
            "Collecting scipy==1.11.4 (from -r /content/BrainGNN/requirements.txt (line 49))\n",
            "  Downloading scipy-1.11.4-cp311-cp311-manylinux_2_17_x86_64.manylinux2014_x86_64.whl.metadata (60 kB)\n",
            "\u001b[2K     \u001b[90m━━━━━━━━━━━━━━━━━━━━━━━━━━━━━━━━━━━━━━━━\u001b[0m \u001b[32m60.4/60.4 kB\u001b[0m \u001b[31m5.4 MB/s\u001b[0m eta \u001b[36m0:00:00\u001b[0m\n",
            "\u001b[?25hCollecting six==1.16.0 (from -r /content/BrainGNN/requirements.txt (line 50))\n",
            "  Downloading six-1.16.0-py2.py3-none-any.whl.metadata (1.8 kB)\n",
            "Collecting sympy==1.12 (from -r /content/BrainGNN/requirements.txt (line 51))\n",
            "  Downloading sympy-1.12-py3-none-any.whl.metadata (12 kB)\n",
            "Collecting tables==3.9.2 (from -r /content/BrainGNN/requirements.txt (line 52))\n",
            "  Downloading tables-3.9.2-cp311-cp311-manylinux_2_17_x86_64.manylinux2014_x86_64.whl.metadata (2.3 kB)\n",
            "Collecting tensorboard==2.15.1 (from -r /content/BrainGNN/requirements.txt (line 53))\n",
            "  Downloading tensorboard-2.15.1-py3-none-any.whl.metadata (1.7 kB)\n",
            "Requirement already satisfied: tensorboard-data-server==0.7.2 in /usr/local/lib/python3.11/dist-packages (from -r /content/BrainGNN/requirements.txt (line 54)) (0.7.2)\n",
            "Collecting tensorboardX==2.6.2.2 (from -r /content/BrainGNN/requirements.txt (line 55))\n",
            "  Downloading tensorboardX-2.6.2.2-py2.py3-none-any.whl.metadata (5.8 kB)\n",
            "Collecting threadpoolctl==3.2.0 (from -r /content/BrainGNN/requirements.txt (line 56))\n",
            "  Downloading threadpoolctl-3.2.0-py3-none-any.whl.metadata (10.0 kB)\n",
            "Collecting torch==2.1.1 (from -r /content/BrainGNN/requirements.txt (line 57))\n",
            "  Downloading torch-2.1.1-cp311-cp311-manylinux1_x86_64.whl.metadata (25 kB)\n",
            "Collecting torch-tb-profiler==0.4.3 (from -r /content/BrainGNN/requirements.txt (line 58))\n",
            "  Downloading torch_tb_profiler-0.4.3-py3-none-any.whl.metadata (1.4 kB)\n",
            "Collecting torch_geometric==2.4.0 (from -r /content/BrainGNN/requirements.txt (line 59))\n",
            "  Downloading torch_geometric-2.4.0-py3-none-any.whl.metadata (63 kB)\n",
            "\u001b[2K     \u001b[90m━━━━━━━━━━━━━━━━━━━━━━━━━━━━━━━━━━━━━━━━\u001b[0m \u001b[32m63.9/63.9 kB\u001b[0m \u001b[31m7.0 MB/s\u001b[0m eta \u001b[36m0:00:00\u001b[0m\n",
            "\u001b[?25hCollecting torchaudio==2.1.1 (from -r /content/BrainGNN/requirements.txt (line 60))\n",
            "  Downloading torchaudio-2.1.1-cp311-cp311-manylinux1_x86_64.whl.metadata (6.4 kB)\n",
            "Collecting torchvision==0.16.1 (from -r /content/BrainGNN/requirements.txt (line 61))\n",
            "  Downloading torchvision-0.16.1-cp311-cp311-manylinux1_x86_64.whl.metadata (6.6 kB)\n",
            "Collecting tqdm==4.66.1 (from -r /content/BrainGNN/requirements.txt (line 62))\n",
            "  Downloading tqdm-4.66.1-py3-none-any.whl.metadata (57 kB)\n",
            "\u001b[2K     \u001b[90m━━━━━━━━━━━━━━━━━━━━━━━━━━━━━━━━━━━━━━━━\u001b[0m \u001b[32m57.6/57.6 kB\u001b[0m \u001b[31m6.2 MB/s\u001b[0m eta \u001b[36m0:00:00\u001b[0m\n",
            "\u001b[?25hCollecting typing_extensions==4.8.0 (from -r /content/BrainGNN/requirements.txt (line 63))\n",
            "  Downloading typing_extensions-4.8.0-py3-none-any.whl.metadata (3.0 kB)\n",
            "Collecting tzdata==2023.3 (from -r /content/BrainGNN/requirements.txt (line 64))\n",
            "  Downloading tzdata-2023.3-py2.py3-none-any.whl.metadata (1.4 kB)\n",
            "Collecting urllib3==2.1.0 (from -r /content/BrainGNN/requirements.txt (line 65))\n",
            "  Downloading urllib3-2.1.0-py3-none-any.whl.metadata (6.4 kB)\n",
            "Collecting Werkzeug==3.0.1 (from -r /content/BrainGNN/requirements.txt (line 66))\n",
            "  Downloading werkzeug-3.0.1-py3-none-any.whl.metadata (4.1 kB)\n",
            "Collecting zipp==3.17.0 (from -r /content/BrainGNN/requirements.txt (line 67))\n",
            "  Downloading zipp-3.17.0-py3-none-any.whl.metadata (3.7 kB)\n",
            "Requirement already satisfied: setuptools>=41.0.0 in /usr/local/lib/python3.11/dist-packages (from tensorboard==2.15.1->-r /content/BrainGNN/requirements.txt (line 53)) (75.2.0)\n",
            "Collecting nvidia-cuda-nvrtc-cu12==12.1.105 (from torch==2.1.1->-r /content/BrainGNN/requirements.txt (line 57))\n",
            "  Downloading nvidia_cuda_nvrtc_cu12-12.1.105-py3-none-manylinux1_x86_64.whl.metadata (1.5 kB)\n",
            "Collecting nvidia-cuda-runtime-cu12==12.1.105 (from torch==2.1.1->-r /content/BrainGNN/requirements.txt (line 57))\n",
            "  Downloading nvidia_cuda_runtime_cu12-12.1.105-py3-none-manylinux1_x86_64.whl.metadata (1.5 kB)\n",
            "Collecting nvidia-cuda-cupti-cu12==12.1.105 (from torch==2.1.1->-r /content/BrainGNN/requirements.txt (line 57))\n",
            "  Downloading nvidia_cuda_cupti_cu12-12.1.105-py3-none-manylinux1_x86_64.whl.metadata (1.6 kB)\n",
            "Collecting nvidia-cudnn-cu12==8.9.2.26 (from torch==2.1.1->-r /content/BrainGNN/requirements.txt (line 57))\n",
            "  Downloading nvidia_cudnn_cu12-8.9.2.26-py3-none-manylinux1_x86_64.whl.metadata (1.6 kB)\n",
            "Collecting nvidia-cublas-cu12==12.1.3.1 (from torch==2.1.1->-r /content/BrainGNN/requirements.txt (line 57))\n",
            "  Downloading nvidia_cublas_cu12-12.1.3.1-py3-none-manylinux1_x86_64.whl.metadata (1.5 kB)\n",
            "Collecting nvidia-cufft-cu12==11.0.2.54 (from torch==2.1.1->-r /content/BrainGNN/requirements.txt (line 57))\n",
            "  Downloading nvidia_cufft_cu12-11.0.2.54-py3-none-manylinux1_x86_64.whl.metadata (1.5 kB)\n",
            "Collecting nvidia-curand-cu12==10.3.2.106 (from torch==2.1.1->-r /content/BrainGNN/requirements.txt (line 57))\n",
            "  Downloading nvidia_curand_cu12-10.3.2.106-py3-none-manylinux1_x86_64.whl.metadata (1.5 kB)\n",
            "Collecting nvidia-cusolver-cu12==11.4.5.107 (from torch==2.1.1->-r /content/BrainGNN/requirements.txt (line 57))\n",
            "  Downloading nvidia_cusolver_cu12-11.4.5.107-py3-none-manylinux1_x86_64.whl.metadata (1.6 kB)\n",
            "Collecting nvidia-cusparse-cu12==12.1.0.106 (from torch==2.1.1->-r /content/BrainGNN/requirements.txt (line 57))\n",
            "  Downloading nvidia_cusparse_cu12-12.1.0.106-py3-none-manylinux1_x86_64.whl.metadata (1.6 kB)\n",
            "Collecting nvidia-nccl-cu12==2.18.1 (from torch==2.1.1->-r /content/BrainGNN/requirements.txt (line 57))\n",
            "  Downloading nvidia_nccl_cu12-2.18.1-py3-none-manylinux1_x86_64.whl.metadata (1.8 kB)\n",
            "Collecting nvidia-nvtx-cu12==12.1.105 (from torch==2.1.1->-r /content/BrainGNN/requirements.txt (line 57))\n",
            "  Downloading nvidia_nvtx_cu12-12.1.105-py3-none-manylinux1_x86_64.whl.metadata (1.7 kB)\n",
            "Collecting triton==2.1.0 (from torch==2.1.1->-r /content/BrainGNN/requirements.txt (line 57))\n",
            "  Downloading triton-2.1.0-0-cp311-cp311-manylinux2014_x86_64.manylinux_2_17_x86_64.whl.metadata (1.3 kB)\n",
            "Requirement already satisfied: nvidia-nvjitlink-cu12 in /usr/local/lib/python3.11/dist-packages (from nvidia-cusolver-cu12==11.4.5.107->torch==2.1.1->-r /content/BrainGNN/requirements.txt (line 57)) (12.5.82)\n",
            "Downloading absl_py-2.0.0-py3-none-any.whl (130 kB)\n",
            "\u001b[2K   \u001b[90m━━━━━━━━━━━━━━━━━━━━━━━━━━━━━━━━━━━━━━━━\u001b[0m \u001b[32m130.2/130.2 kB\u001b[0m \u001b[31m10.6 MB/s\u001b[0m eta \u001b[36m0:00:00\u001b[0m\n",
            "\u001b[?25hDownloading blosc2-2.3.1-cp311-cp311-manylinux_2_17_x86_64.manylinux2014_x86_64.whl (4.3 MB)\n",
            "\u001b[2K   \u001b[90m━━━━━━━━━━━━━━━━━━━━━━━━━━━━━━━━━━━━━━━━\u001b[0m \u001b[32m4.3/4.3 MB\u001b[0m \u001b[31m23.2 MB/s\u001b[0m eta \u001b[36m0:00:00\u001b[0m\n",
            "\u001b[?25hDownloading cachetools-5.3.2-py3-none-any.whl (9.3 kB)\n",
            "Downloading certifi-2023.11.17-py3-none-any.whl (162 kB)\n",
            "\u001b[2K   \u001b[90m━━━━━━━━━━━━━━━━━━━━━━━━━━━━━━━━━━━━━━━━\u001b[0m \u001b[32m162.5/162.5 kB\u001b[0m \u001b[31m15.6 MB/s\u001b[0m eta \u001b[36m0:00:00\u001b[0m\n",
            "\u001b[?25hDownloading charset_normalizer-3.3.2-cp311-cp311-manylinux_2_17_x86_64.manylinux2014_x86_64.whl (140 kB)\n",
            "\u001b[2K   \u001b[90m━━━━━━━━━━━━━━━━━━━━━━━━━━━━━━━━━━━━━━━━\u001b[0m \u001b[32m140.3/140.3 kB\u001b[0m \u001b[31m12.0 MB/s\u001b[0m eta \u001b[36m0:00:00\u001b[0m\n",
            "\u001b[?25hDownloading deepdish-0.3.7-py2.py3-none-any.whl (37 kB)\n",
            "Downloading filelock-3.13.1-py3-none-any.whl (11 kB)\n",
            "Downloading fsspec-2023.10.0-py3-none-any.whl (166 kB)\n",
            "\u001b[2K   \u001b[90m━━━━━━━━━━━━━━━━━━━━━━━━━━━━━━━━━━━━━━━━\u001b[0m \u001b[32m166.4/166.4 kB\u001b[0m \u001b[31m15.0 MB/s\u001b[0m eta \u001b[36m0:00:00\u001b[0m\n",
            "\u001b[?25hDownloading google_auth-2.23.4-py2.py3-none-any.whl (183 kB)\n",
            "\u001b[2K   \u001b[90m━━━━━━━━━━━━━━━━━━━━━━━━━━━━━━━━━━━━━━━━\u001b[0m \u001b[32m183.3/183.3 kB\u001b[0m \u001b[31m17.6 MB/s\u001b[0m eta \u001b[36m0:00:00\u001b[0m\n",
            "\u001b[?25hDownloading google_auth_oauthlib-1.1.0-py2.py3-none-any.whl (19 kB)\n",
            "Downloading grpcio-1.59.3-cp311-cp311-manylinux_2_17_x86_64.manylinux2014_x86_64.whl (5.3 MB)\n",
            "\u001b[2K   \u001b[90m━━━━━━━━━━━━━━━━━━━━━━━━━━━━━━━━━━━━━━━━\u001b[0m \u001b[32m5.3/5.3 MB\u001b[0m \u001b[31m122.4 MB/s\u001b[0m eta \u001b[36m0:00:00\u001b[0m\n",
            "\u001b[?25hDownloading h5py-3.10.0-cp311-cp311-manylinux_2_17_x86_64.manylinux2014_x86_64.whl (4.8 MB)\n",
            "\u001b[2K   \u001b[90m━━━━━━━━━━━━━━━━━━━━━━━━━━━━━━━━━━━━━━━━\u001b[0m \u001b[32m4.8/4.8 MB\u001b[0m \u001b[31m108.9 MB/s\u001b[0m eta \u001b[36m0:00:00\u001b[0m\n",
            "\u001b[?25hDownloading idna-3.6-py3-none-any.whl (61 kB)\n",
            "\u001b[2K   \u001b[90m━━━━━━━━━━━━━━━━━━━━━━━━━━━━━━━━━━━━━━━━\u001b[0m \u001b[32m61.6/61.6 kB\u001b[0m \u001b[31m6.1 MB/s\u001b[0m eta \u001b[36m0:00:00\u001b[0m\n",
            "\u001b[?25hDownloading importlib_metadata-6.8.0-py3-none-any.whl (22 kB)\n",
            "Downloading Jinja2-3.1.2-py3-none-any.whl (133 kB)\n",
            "\u001b[2K   \u001b[90m━━━━━━━━━━━━━━━━━━━━━━━━━━━━━━━━━━━━━━━━\u001b[0m \u001b[32m133.1/133.1 kB\u001b[0m \u001b[31m14.5 MB/s\u001b[0m eta \u001b[36m0:00:00\u001b[0m\n",
            "\u001b[?25hDownloading joblib-1.3.2-py3-none-any.whl (302 kB)\n",
            "\u001b[2K   \u001b[90m━━━━━━━━━━━━━━━━━━━━━━━━━━━━━━━━━━━━━━━━\u001b[0m \u001b[32m302.2/302.2 kB\u001b[0m \u001b[31m26.0 MB/s\u001b[0m eta \u001b[36m0:00:00\u001b[0m\n",
            "\u001b[?25hDownloading lxml-4.9.3-cp311-cp311-manylinux_2_28_x86_64.whl (7.9 MB)\n",
            "\u001b[2K   \u001b[90m━━━━━━━━━━━━━━━━━━━━━━━━━━━━━━━━━━━━━━━━\u001b[0m \u001b[32m7.9/7.9 MB\u001b[0m \u001b[31m120.8 MB/s\u001b[0m eta \u001b[36m0:00:00\u001b[0m\n",
            "\u001b[?25hDownloading Markdown-3.5.1-py3-none-any.whl (102 kB)\n",
            "\u001b[2K   \u001b[90m━━━━━━━━━━━━━━━━━━━━━━━━━━━━━━━━━━━━━━━━\u001b[0m \u001b[32m102.2/102.2 kB\u001b[0m \u001b[31m10.6 MB/s\u001b[0m eta \u001b[36m0:00:00\u001b[0m\n",
            "\u001b[?25hDownloading MarkupSafe-2.1.3-cp311-cp311-manylinux_2_17_x86_64.manylinux2014_x86_64.whl (28 kB)\n",
            "Downloading msgpack-1.0.7-cp311-cp311-manylinux_2_17_x86_64.manylinux2014_x86_64.whl (557 kB)\n",
            "\u001b[2K   \u001b[90m━━━━━━━━━━━━━━━━━━━━━━━━━━━━━━━━━━━━━━━━\u001b[0m \u001b[32m558.0/558.0 kB\u001b[0m \u001b[31m44.1 MB/s\u001b[0m eta \u001b[36m0:00:00\u001b[0m\n",
            "\u001b[?25hDownloading ndindex-1.7-py3-none-any.whl (85 kB)\n",
            "\u001b[2K   \u001b[90m━━━━━━━━━━━━━━━━━━━━━━━━━━━━━━━━━━━━━━━━\u001b[0m \u001b[32m85.7/85.7 kB\u001b[0m \u001b[31m8.9 MB/s\u001b[0m eta \u001b[36m0:00:00\u001b[0m\n",
            "\u001b[?25hDownloading networkx-3.2.1-py3-none-any.whl (1.6 MB)\n",
            "\u001b[2K   \u001b[90m━━━━━━━━━━━━━━━━━━━━━━━━━━━━━━━━━━━━━━━━\u001b[0m \u001b[32m1.6/1.6 MB\u001b[0m \u001b[31m72.8 MB/s\u001b[0m eta \u001b[36m0:00:00\u001b[0m\n",
            "\u001b[?25hDownloading nibabel-5.1.0-py3-none-any.whl (3.3 MB)\n",
            "\u001b[2K   \u001b[90m━━━━━━━━━━━━━━━━━━━━━━━━━━━━━━━━━━━━━━━━\u001b[0m \u001b[32m3.3/3.3 MB\u001b[0m \u001b[31m84.5 MB/s\u001b[0m eta \u001b[36m0:00:00\u001b[0m\n",
            "\u001b[?25hDownloading nilearn-0.10.2-py3-none-any.whl (10.4 MB)\n",
            "\u001b[2K   \u001b[90m━━━━━━━━━━━━━━━━━━━━━━━━━━━━━━━━━━━━━━━━\u001b[0m \u001b[32m10.4/10.4 MB\u001b[0m \u001b[31m94.8 MB/s\u001b[0m eta \u001b[36m0:00:00\u001b[0m\n",
            "\u001b[?25hDownloading numexpr-2.8.7-cp311-cp311-manylinux_2_17_x86_64.manylinux2014_x86_64.whl (386 kB)\n",
            "\u001b[2K   \u001b[90m━━━━━━━━━━━━━━━━━━━━━━━━━━━━━━━━━━━━━━━━\u001b[0m \u001b[32m386.4/386.4 kB\u001b[0m \u001b[31m30.1 MB/s\u001b[0m eta \u001b[36m0:00:00\u001b[0m\n",
            "\u001b[?25hDownloading numpy-1.26.2-cp311-cp311-manylinux_2_17_x86_64.manylinux2014_x86_64.whl (18.2 MB)\n",
            "\u001b[2K   \u001b[90m━━━━━━━━━━━━━━━━━━━━━━━━━━━━━━━━━━━━━━━━\u001b[0m \u001b[32m18.2/18.2 MB\u001b[0m \u001b[31m32.4 MB/s\u001b[0m eta \u001b[36m0:00:00\u001b[0m\n",
            "\u001b[?25hDownloading packaging-23.2-py3-none-any.whl (53 kB)\n",
            "\u001b[2K   \u001b[90m━━━━━━━━━━━━━━━━━━━━━━━━━━━━━━━━━━━━━━━━\u001b[0m \u001b[32m53.0/53.0 kB\u001b[0m \u001b[31m4.9 MB/s\u001b[0m eta \u001b[36m0:00:00\u001b[0m\n",
            "\u001b[?25hDownloading pandas-2.1.3-cp311-cp311-manylinux_2_17_x86_64.manylinux2014_x86_64.whl (12.2 MB)\n",
            "\u001b[2K   \u001b[90m━━━━━━━━━━━━━━━━━━━━━━━━━━━━━━━━━━━━━━━━\u001b[0m \u001b[32m12.2/12.2 MB\u001b[0m \u001b[31m85.1 MB/s\u001b[0m eta \u001b[36m0:00:00\u001b[0m\n",
            "\u001b[?25hDownloading Pillow-10.1.0-cp311-cp311-manylinux_2_28_x86_64.whl (3.6 MB)\n",
            "\u001b[2K   \u001b[90m━━━━━━━━━━━━━━━━━━━━━━━━━━━━━━━━━━━━━━━━\u001b[0m \u001b[32m3.6/3.6 MB\u001b[0m \u001b[31m92.0 MB/s\u001b[0m eta \u001b[36m0:00:00\u001b[0m\n",
            "\u001b[?25hDownloading protobuf-4.23.4-cp37-abi3-manylinux2014_x86_64.whl (304 kB)\n",
            "\u001b[2K   \u001b[90m━━━━━━━━━━━━━━━━━━━━━━━━━━━━━━━━━━━━━━━━\u001b[0m \u001b[32m304.5/304.5 kB\u001b[0m \u001b[31m27.9 MB/s\u001b[0m eta \u001b[36m0:00:00\u001b[0m\n",
            "\u001b[?25hDownloading psutil-5.9.6-cp36-abi3-manylinux_2_12_x86_64.manylinux2010_x86_64.manylinux_2_17_x86_64.manylinux2014_x86_64.whl (283 kB)\n",
            "\u001b[2K   \u001b[90m━━━━━━━━━━━━━━━━━━━━━━━━━━━━━━━━━━━━━━━━\u001b[0m \u001b[32m283.6/283.6 kB\u001b[0m \u001b[31m26.3 MB/s\u001b[0m eta \u001b[36m0:00:00\u001b[0m\n",
            "\u001b[?25hDownloading pyasn1-0.5.1-py2.py3-none-any.whl (84 kB)\n",
            "\u001b[2K   \u001b[90m━━━━━━━━━━━━━━━━━━━━━━━━━━━━━━━━━━━━━━━━\u001b[0m \u001b[32m84.9/84.9 kB\u001b[0m \u001b[31m9.4 MB/s\u001b[0m eta \u001b[36m0:00:00\u001b[0m\n",
            "\u001b[?25hDownloading pyasn1_modules-0.3.0-py2.py3-none-any.whl (181 kB)\n",
            "\u001b[2K   \u001b[90m━━━━━━━━━━━━━━━━━━━━━━━━━━━━━━━━━━━━━━━━\u001b[0m \u001b[32m181.3/181.3 kB\u001b[0m \u001b[31m18.6 MB/s\u001b[0m eta \u001b[36m0:00:00\u001b[0m\n",
            "\u001b[?25hDownloading pyparsing-3.1.1-py3-none-any.whl (103 kB)\n",
            "\u001b[2K   \u001b[90m━━━━━━━━━━━━━━━━━━━━━━━━━━━━━━━━━━━━━━━━\u001b[0m \u001b[32m103.1/103.1 kB\u001b[0m \u001b[31m11.3 MB/s\u001b[0m eta \u001b[36m0:00:00\u001b[0m\n",
            "\u001b[?25hDownloading pytz-2023.3.post1-py2.py3-none-any.whl (502 kB)\n",
            "\u001b[2K   \u001b[90m━━━━━━━━━━━━━━━━━━━━━━━━━━━━━━━━━━━━━━━━\u001b[0m \u001b[32m502.5/502.5 kB\u001b[0m \u001b[31m39.1 MB/s\u001b[0m eta \u001b[36m0:00:00\u001b[0m\n",
            "\u001b[?25hDownloading requests-2.31.0-py3-none-any.whl (62 kB)\n",
            "\u001b[2K   \u001b[90m━━━━━━━━━━━━━━━━━━━━━━━━━━━━━━━━━━━━━━━━\u001b[0m \u001b[32m62.6/62.6 kB\u001b[0m \u001b[31m6.8 MB/s\u001b[0m eta \u001b[36m0:00:00\u001b[0m\n",
            "\u001b[?25hDownloading requests_oauthlib-1.3.1-py2.py3-none-any.whl (23 kB)\n",
            "Downloading rsa-4.9-py3-none-any.whl (34 kB)\n",
            "Downloading scikit_learn-1.3.2-cp311-cp311-manylinux_2_17_x86_64.manylinux2014_x86_64.whl (10.9 MB)\n",
            "\u001b[2K   \u001b[90m━━━━━━━━━━━━━━━━━━━━━━━━━━━━━━━━━━━━━━━━\u001b[0m \u001b[32m10.9/10.9 MB\u001b[0m \u001b[31m90.6 MB/s\u001b[0m eta \u001b[36m0:00:00\u001b[0m\n",
            "\u001b[?25hDownloading scipy-1.11.4-cp311-cp311-manylinux_2_17_x86_64.manylinux2014_x86_64.whl (36.4 MB)\n",
            "\u001b[2K   \u001b[90m━━━━━━━━━━━━━━━━━━━━━━━━━━━━━━━━━━━━━━━━\u001b[0m \u001b[32m36.4/36.4 MB\u001b[0m \u001b[31m20.2 MB/s\u001b[0m eta \u001b[36m0:00:00\u001b[0m\n",
            "\u001b[?25hDownloading six-1.16.0-py2.py3-none-any.whl (11 kB)\n",
            "Downloading sympy-1.12-py3-none-any.whl (5.7 MB)\n",
            "\u001b[2K   \u001b[90m━━━━━━━━━━━━━━━━━━━━━━━━━━━━━━━━━━━━━━━━\u001b[0m \u001b[32m5.7/5.7 MB\u001b[0m \u001b[31m88.4 MB/s\u001b[0m eta \u001b[36m0:00:00\u001b[0m\n",
            "\u001b[?25hDownloading tables-3.9.2-cp311-cp311-manylinux_2_17_x86_64.manylinux2014_x86_64.whl (7.5 MB)\n",
            "\u001b[2K   \u001b[90m━━━━━━━━━━━━━━━━━━━━━━━━━━━━━━━━━━━━━━━━\u001b[0m \u001b[32m7.5/7.5 MB\u001b[0m \u001b[31m112.9 MB/s\u001b[0m eta \u001b[36m0:00:00\u001b[0m\n",
            "\u001b[?25hDownloading tensorboard-2.15.1-py3-none-any.whl (5.5 MB)\n",
            "\u001b[2K   \u001b[90m━━━━━━━━━━━━━━━━━━━━━━━━━━━━━━━━━━━━━━━━\u001b[0m \u001b[32m5.5/5.5 MB\u001b[0m \u001b[31m133.6 MB/s\u001b[0m eta \u001b[36m0:00:00\u001b[0m\n",
            "\u001b[?25hDownloading tensorboardX-2.6.2.2-py2.py3-none-any.whl (101 kB)\n",
            "\u001b[2K   \u001b[90m━━━━━━━━━━━━━━━━━━━━━━━━━━━━━━━━━━━━━━━━\u001b[0m \u001b[32m101.7/101.7 kB\u001b[0m \u001b[31m11.9 MB/s\u001b[0m eta \u001b[36m0:00:00\u001b[0m\n",
            "\u001b[?25hDownloading threadpoolctl-3.2.0-py3-none-any.whl (15 kB)\n",
            "Downloading torch-2.1.1-cp311-cp311-manylinux1_x86_64.whl (670.2 MB)\n",
            "\u001b[2K   \u001b[90m━━━━━━━━━━━━━━━━━━━━━━━━━━━━━━━━━━━━━━━\u001b[0m \u001b[32m670.2/670.2 MB\u001b[0m \u001b[31m888.0 kB/s\u001b[0m eta \u001b[36m0:00:00\u001b[0m\n",
            "\u001b[?25hDownloading torch_tb_profiler-0.4.3-py3-none-any.whl (1.1 MB)\n",
            "\u001b[2K   \u001b[90m━━━━━━━━━━━━━━━━━━━━━━━━━━━━━━━━━━━━━━━━\u001b[0m \u001b[32m1.1/1.1 MB\u001b[0m \u001b[31m69.1 MB/s\u001b[0m eta \u001b[36m0:00:00\u001b[0m\n",
            "\u001b[?25hDownloading torch_geometric-2.4.0-py3-none-any.whl (1.0 MB)\n",
            "\u001b[2K   \u001b[90m━━━━━━━━━━━━━━━━━━━━━━━━━━━━━━━━━━━━━━━━\u001b[0m \u001b[32m1.0/1.0 MB\u001b[0m \u001b[31m69.1 MB/s\u001b[0m eta \u001b[36m0:00:00\u001b[0m\n",
            "\u001b[?25hDownloading torchaudio-2.1.1-cp311-cp311-manylinux1_x86_64.whl (3.3 MB)\n",
            "\u001b[2K   \u001b[90m━━━━━━━━━━━━━━━━━━━━━━━━━━━━━━━━━━━━━━━━\u001b[0m \u001b[32m3.3/3.3 MB\u001b[0m \u001b[31m80.9 MB/s\u001b[0m eta \u001b[36m0:00:00\u001b[0m\n",
            "\u001b[?25hDownloading torchvision-0.16.1-cp311-cp311-manylinux1_x86_64.whl (6.8 MB)\n",
            "\u001b[2K   \u001b[90m━━━━━━━━━━━━━━━━━━━━━━━━━━━━━━━━━━━━━━━━\u001b[0m \u001b[32m6.8/6.8 MB\u001b[0m \u001b[31m124.9 MB/s\u001b[0m eta \u001b[36m0:00:00\u001b[0m\n",
            "\u001b[?25hDownloading tqdm-4.66.1-py3-none-any.whl (78 kB)\n",
            "\u001b[2K   \u001b[90m━━━━━━━━━━━━━━━━━━━━━━━━━━━━━━━━━━━━━━━━\u001b[0m \u001b[32m78.3/78.3 kB\u001b[0m \u001b[31m8.6 MB/s\u001b[0m eta \u001b[36m0:00:00\u001b[0m\n",
            "\u001b[?25hDownloading typing_extensions-4.8.0-py3-none-any.whl (31 kB)\n",
            "Downloading tzdata-2023.3-py2.py3-none-any.whl (341 kB)\n",
            "\u001b[2K   \u001b[90m━━━━━━━━━━━━━━━━━━━━━━━━━━━━━━━━━━━━━━━━\u001b[0m \u001b[32m341.8/341.8 kB\u001b[0m \u001b[31m33.9 MB/s\u001b[0m eta \u001b[36m0:00:00\u001b[0m\n",
            "\u001b[?25hDownloading urllib3-2.1.0-py3-none-any.whl (104 kB)\n",
            "\u001b[2K   \u001b[90m━━━━━━━━━━━━━━━━━━━━━━━━━━━━━━━━━━━━━━━━\u001b[0m \u001b[32m104.6/104.6 kB\u001b[0m \u001b[31m12.7 MB/s\u001b[0m eta \u001b[36m0:00:00\u001b[0m\n",
            "\u001b[?25hDownloading werkzeug-3.0.1-py3-none-any.whl (226 kB)\n",
            "\u001b[2K   \u001b[90m━━━━━━━━━━━━━━━━━━━━━━━━━━━━━━━━━━━━━━━━\u001b[0m \u001b[32m226.7/226.7 kB\u001b[0m \u001b[31m24.7 MB/s\u001b[0m eta \u001b[36m0:00:00\u001b[0m\n",
            "\u001b[?25hDownloading zipp-3.17.0-py3-none-any.whl (7.4 kB)\n",
            "Downloading nvidia_cublas_cu12-12.1.3.1-py3-none-manylinux1_x86_64.whl (410.6 MB)\n",
            "\u001b[2K   \u001b[90m━━━━━━━━━━━━━━━━━━━━━━━━━━━━━━━━━━━━━━━━\u001b[0m \u001b[32m410.6/410.6 MB\u001b[0m \u001b[31m1.4 MB/s\u001b[0m eta \u001b[36m0:00:00\u001b[0m\n",
            "\u001b[?25hDownloading nvidia_cuda_cupti_cu12-12.1.105-py3-none-manylinux1_x86_64.whl (14.1 MB)\n",
            "\u001b[2K   \u001b[90m━━━━━━━━━━━━━━━━━━━━━━━━━━━━━━━━━━━━━━━━\u001b[0m \u001b[32m14.1/14.1 MB\u001b[0m \u001b[31m119.1 MB/s\u001b[0m eta \u001b[36m0:00:00\u001b[0m\n",
            "\u001b[?25hDownloading nvidia_cuda_nvrtc_cu12-12.1.105-py3-none-manylinux1_x86_64.whl (23.7 MB)\n",
            "\u001b[2K   \u001b[90m━━━━━━━━━━━━━━━━━━━━━━━━━━━━━━━━━━━━━━━━\u001b[0m \u001b[32m23.7/23.7 MB\u001b[0m \u001b[31m96.4 MB/s\u001b[0m eta \u001b[36m0:00:00\u001b[0m\n",
            "\u001b[?25hDownloading nvidia_cuda_runtime_cu12-12.1.105-py3-none-manylinux1_x86_64.whl (823 kB)\n",
            "\u001b[2K   \u001b[90m━━━━━━━━━━━━━━━━━━━━━━━━━━━━━━━━━━━━━━━━\u001b[0m \u001b[32m823.6/823.6 kB\u001b[0m \u001b[31m53.7 MB/s\u001b[0m eta \u001b[36m0:00:00\u001b[0m\n",
            "\u001b[?25hDownloading nvidia_cudnn_cu12-8.9.2.26-py3-none-manylinux1_x86_64.whl (731.7 MB)\n",
            "\u001b[2K   \u001b[90m━━━━━━━━━━━━━━━━━━━━━━━━━━━━━━━━━━━━━━━━\u001b[0m \u001b[32m731.7/731.7 MB\u001b[0m \u001b[31m2.0 MB/s\u001b[0m eta \u001b[36m0:00:00\u001b[0m\n",
            "\u001b[?25hDownloading nvidia_cufft_cu12-11.0.2.54-py3-none-manylinux1_x86_64.whl (121.6 MB)\n",
            "\u001b[2K   \u001b[90m━━━━━━━━━━━━━━━━━━━━━━━━━━━━━━━━━━━━━━━━\u001b[0m \u001b[32m121.6/121.6 MB\u001b[0m \u001b[31m7.7 MB/s\u001b[0m eta \u001b[36m0:00:00\u001b[0m\n",
            "\u001b[?25hDownloading nvidia_curand_cu12-10.3.2.106-py3-none-manylinux1_x86_64.whl (56.5 MB)\n",
            "\u001b[2K   \u001b[90m━━━━━━━━━━━━━━━━━━━━━━━━━━━━━━━━━━━━━━━━\u001b[0m \u001b[32m56.5/56.5 MB\u001b[0m \u001b[31m12.7 MB/s\u001b[0m eta \u001b[36m0:00:00\u001b[0m\n",
            "\u001b[?25hDownloading nvidia_cusolver_cu12-11.4.5.107-py3-none-manylinux1_x86_64.whl (124.2 MB)\n",
            "\u001b[2K   \u001b[90m━━━━━━━━━━━━━━━━━━━━━━━━━━━━━━━━━━━━━━━━\u001b[0m \u001b[32m124.2/124.2 MB\u001b[0m \u001b[31m7.5 MB/s\u001b[0m eta \u001b[36m0:00:00\u001b[0m\n",
            "\u001b[?25hDownloading nvidia_cusparse_cu12-12.1.0.106-py3-none-manylinux1_x86_64.whl (196.0 MB)\n",
            "\u001b[2K   \u001b[90m━━━━━━━━━━━━━━━━━━━━━━━━━━━━━━━━━━━━━━━━\u001b[0m \u001b[32m196.0/196.0 MB\u001b[0m \u001b[31m5.8 MB/s\u001b[0m eta \u001b[36m0:00:00\u001b[0m\n",
            "\u001b[?25hDownloading nvidia_nccl_cu12-2.18.1-py3-none-manylinux1_x86_64.whl (209.8 MB)\n",
            "\u001b[2K   \u001b[90m━━━━━━━━━━━━━━━━━━━━━━━━━━━━━━━━━━━━━━━━\u001b[0m \u001b[32m209.8/209.8 MB\u001b[0m \u001b[31m5.2 MB/s\u001b[0m eta \u001b[36m0:00:00\u001b[0m\n",
            "\u001b[?25hDownloading nvidia_nvtx_cu12-12.1.105-py3-none-manylinux1_x86_64.whl (99 kB)\n",
            "\u001b[2K   \u001b[90m━━━━━━━━━━━━━━━━━━━━━━━━━━━━━━━━━━━━━━━━\u001b[0m \u001b[32m99.1/99.1 kB\u001b[0m \u001b[31m11.0 MB/s\u001b[0m eta \u001b[36m0:00:00\u001b[0m\n",
            "\u001b[?25hDownloading triton-2.1.0-0-cp311-cp311-manylinux2014_x86_64.manylinux_2_17_x86_64.whl (89.2 MB)\n",
            "\u001b[2K   \u001b[90m━━━━━━━━━━━━━━━━━━━━━━━━━━━━━━━━━━━━━━━━\u001b[0m \u001b[32m89.2/89.2 MB\u001b[0m \u001b[31m9.3 MB/s\u001b[0m eta \u001b[36m0:00:00\u001b[0m\n",
            "\u001b[?25hInstalling collected packages: pytz, zipp, urllib3, tzdata, typing_extensions, tqdm, torch-spline-conv, torch-scatter, threadpoolctl, sympy, six, pyparsing, pyasn1, psutil, protobuf, Pillow, packaging, nvidia-nvtx-cu12, nvidia-nccl-cu12, nvidia-cusparse-cu12, nvidia-curand-cu12, nvidia-cufft-cu12, nvidia-cuda-runtime-cu12, nvidia-cuda-nvrtc-cu12, nvidia-cuda-cupti-cu12, nvidia-cublas-cu12, numpy, networkx, ndindex, msgpack, MarkupSafe, Markdown, lxml, joblib, idna, grpcio, fsspec, filelock, charset-normalizer, certifi, cachetools, absl-py, Werkzeug, triton, tensorboardX, scipy, rsa, requests, pyasn1-modules, nvidia-cusolver-cu12, nvidia-cudnn-cu12, numexpr, nibabel, Jinja2, importlib-metadata, h5py, blosc2, torch-sparse, torch-cluster, torch, tables, scikit-learn, requests-oauthlib, pandas, google-auth, torchvision, torchaudio, torch_geometric, nilearn, google-auth-oauthlib, deepdish, tensorboard, torch-tb-profiler\n",
            "  Attempting uninstall: pytz\n",
            "    Found existing installation: pytz 2025.2\n",
            "    Uninstalling pytz-2025.2:\n",
            "      Successfully uninstalled pytz-2025.2\n",
            "  Attempting uninstall: zipp\n",
            "    Found existing installation: zipp 3.21.0\n",
            "    Uninstalling zipp-3.21.0:\n",
            "      Successfully uninstalled zipp-3.21.0\n",
            "  Attempting uninstall: urllib3\n",
            "    Found existing installation: urllib3 2.3.0\n",
            "    Uninstalling urllib3-2.3.0:\n",
            "      Successfully uninstalled urllib3-2.3.0\n",
            "  Attempting uninstall: tzdata\n",
            "    Found existing installation: tzdata 2025.2\n",
            "    Uninstalling tzdata-2025.2:\n",
            "      Successfully uninstalled tzdata-2025.2\n",
            "  Attempting uninstall: typing_extensions\n",
            "    Found existing installation: typing_extensions 4.13.2\n",
            "    Uninstalling typing_extensions-4.13.2:\n",
            "      Successfully uninstalled typing_extensions-4.13.2\n",
            "  Attempting uninstall: tqdm\n",
            "    Found existing installation: tqdm 4.67.1\n",
            "    Uninstalling tqdm-4.67.1:\n",
            "      Successfully uninstalled tqdm-4.67.1\n",
            "  Attempting uninstall: threadpoolctl\n",
            "    Found existing installation: threadpoolctl 3.6.0\n",
            "    Uninstalling threadpoolctl-3.6.0:\n",
            "      Successfully uninstalled threadpoolctl-3.6.0\n",
            "  Attempting uninstall: sympy\n",
            "    Found existing installation: sympy 1.13.1\n",
            "    Uninstalling sympy-1.13.1:\n",
            "      Successfully uninstalled sympy-1.13.1\n",
            "  Attempting uninstall: six\n",
            "    Found existing installation: six 1.17.0\n",
            "    Uninstalling six-1.17.0:\n",
            "      Successfully uninstalled six-1.17.0\n",
            "  Attempting uninstall: pyparsing\n",
            "    Found existing installation: pyparsing 3.2.3\n",
            "    Uninstalling pyparsing-3.2.3:\n",
            "      Successfully uninstalled pyparsing-3.2.3\n",
            "  Attempting uninstall: pyasn1\n",
            "    Found existing installation: pyasn1 0.6.1\n",
            "    Uninstalling pyasn1-0.6.1:\n",
            "      Successfully uninstalled pyasn1-0.6.1\n",
            "  Attempting uninstall: psutil\n",
            "    Found existing installation: psutil 5.9.5\n",
            "    Uninstalling psutil-5.9.5:\n",
            "      Successfully uninstalled psutil-5.9.5\n",
            "  Attempting uninstall: protobuf\n",
            "    Found existing installation: protobuf 5.29.4\n",
            "    Uninstalling protobuf-5.29.4:\n",
            "      Successfully uninstalled protobuf-5.29.4\n",
            "  Attempting uninstall: Pillow\n",
            "    Found existing installation: pillow 11.1.0\n",
            "    Uninstalling pillow-11.1.0:\n",
            "      Successfully uninstalled pillow-11.1.0\n",
            "  Attempting uninstall: packaging\n",
            "    Found existing installation: packaging 24.2\n",
            "    Uninstalling packaging-24.2:\n",
            "      Successfully uninstalled packaging-24.2\n",
            "  Attempting uninstall: nvidia-nvtx-cu12\n",
            "    Found existing installation: nvidia-nvtx-cu12 12.4.127\n",
            "    Uninstalling nvidia-nvtx-cu12-12.4.127:\n",
            "      Successfully uninstalled nvidia-nvtx-cu12-12.4.127\n",
            "  Attempting uninstall: nvidia-nccl-cu12\n",
            "    Found existing installation: nvidia-nccl-cu12 2.21.5\n",
            "    Uninstalling nvidia-nccl-cu12-2.21.5:\n",
            "      Successfully uninstalled nvidia-nccl-cu12-2.21.5\n",
            "  Attempting uninstall: nvidia-cusparse-cu12\n",
            "    Found existing installation: nvidia-cusparse-cu12 12.5.1.3\n",
            "    Uninstalling nvidia-cusparse-cu12-12.5.1.3:\n",
            "      Successfully uninstalled nvidia-cusparse-cu12-12.5.1.3\n",
            "  Attempting uninstall: nvidia-curand-cu12\n",
            "    Found existing installation: nvidia-curand-cu12 10.3.6.82\n",
            "    Uninstalling nvidia-curand-cu12-10.3.6.82:\n",
            "      Successfully uninstalled nvidia-curand-cu12-10.3.6.82\n",
            "  Attempting uninstall: nvidia-cufft-cu12\n",
            "    Found existing installation: nvidia-cufft-cu12 11.2.3.61\n",
            "    Uninstalling nvidia-cufft-cu12-11.2.3.61:\n",
            "      Successfully uninstalled nvidia-cufft-cu12-11.2.3.61\n",
            "  Attempting uninstall: nvidia-cuda-runtime-cu12\n",
            "    Found existing installation: nvidia-cuda-runtime-cu12 12.5.82\n",
            "    Uninstalling nvidia-cuda-runtime-cu12-12.5.82:\n",
            "      Successfully uninstalled nvidia-cuda-runtime-cu12-12.5.82\n",
            "  Attempting uninstall: nvidia-cuda-nvrtc-cu12\n",
            "    Found existing installation: nvidia-cuda-nvrtc-cu12 12.5.82\n",
            "    Uninstalling nvidia-cuda-nvrtc-cu12-12.5.82:\n",
            "      Successfully uninstalled nvidia-cuda-nvrtc-cu12-12.5.82\n",
            "  Attempting uninstall: nvidia-cuda-cupti-cu12\n",
            "    Found existing installation: nvidia-cuda-cupti-cu12 12.5.82\n",
            "    Uninstalling nvidia-cuda-cupti-cu12-12.5.82:\n",
            "      Successfully uninstalled nvidia-cuda-cupti-cu12-12.5.82\n",
            "  Attempting uninstall: nvidia-cublas-cu12\n",
            "    Found existing installation: nvidia-cublas-cu12 12.5.3.2\n",
            "    Uninstalling nvidia-cublas-cu12-12.5.3.2:\n",
            "      Successfully uninstalled nvidia-cublas-cu12-12.5.3.2\n",
            "  Attempting uninstall: numpy\n",
            "    Found existing installation: numpy 2.0.2\n",
            "    Uninstalling numpy-2.0.2:\n",
            "      Successfully uninstalled numpy-2.0.2\n",
            "  Attempting uninstall: networkx\n",
            "    Found existing installation: networkx 3.4.2\n",
            "    Uninstalling networkx-3.4.2:\n",
            "      Successfully uninstalled networkx-3.4.2\n",
            "  Attempting uninstall: ndindex\n",
            "    Found existing installation: ndindex 1.9.2\n",
            "    Uninstalling ndindex-1.9.2:\n",
            "      Successfully uninstalled ndindex-1.9.2\n",
            "  Attempting uninstall: msgpack\n",
            "    Found existing installation: msgpack 1.1.0\n",
            "    Uninstalling msgpack-1.1.0:\n",
            "      Successfully uninstalled msgpack-1.1.0\n",
            "  Attempting uninstall: MarkupSafe\n",
            "    Found existing installation: MarkupSafe 3.0.2\n",
            "    Uninstalling MarkupSafe-3.0.2:\n",
            "      Successfully uninstalled MarkupSafe-3.0.2\n",
            "  Attempting uninstall: Markdown\n",
            "    Found existing installation: Markdown 3.8\n",
            "    Uninstalling Markdown-3.8:\n",
            "      Successfully uninstalled Markdown-3.8\n",
            "  Attempting uninstall: lxml\n",
            "    Found existing installation: lxml 5.3.2\n",
            "    Uninstalling lxml-5.3.2:\n",
            "      Successfully uninstalled lxml-5.3.2\n",
            "  Attempting uninstall: joblib\n",
            "    Found existing installation: joblib 1.4.2\n",
            "    Uninstalling joblib-1.4.2:\n",
            "      Successfully uninstalled joblib-1.4.2\n",
            "  Attempting uninstall: idna\n",
            "    Found existing installation: idna 3.10\n",
            "    Uninstalling idna-3.10:\n",
            "      Successfully uninstalled idna-3.10\n",
            "  Attempting uninstall: grpcio\n",
            "    Found existing installation: grpcio 1.71.0\n",
            "    Uninstalling grpcio-1.71.0:\n",
            "      Successfully uninstalled grpcio-1.71.0\n",
            "  Attempting uninstall: fsspec\n",
            "    Found existing installation: fsspec 2025.3.2\n",
            "    Uninstalling fsspec-2025.3.2:\n",
            "      Successfully uninstalled fsspec-2025.3.2\n",
            "  Attempting uninstall: filelock\n",
            "    Found existing installation: filelock 3.18.0\n",
            "    Uninstalling filelock-3.18.0:\n",
            "      Successfully uninstalled filelock-3.18.0\n",
            "  Attempting uninstall: charset-normalizer\n",
            "    Found existing installation: charset-normalizer 3.4.1\n",
            "    Uninstalling charset-normalizer-3.4.1:\n",
            "      Successfully uninstalled charset-normalizer-3.4.1\n",
            "  Attempting uninstall: certifi\n",
            "    Found existing installation: certifi 2025.1.31\n",
            "    Uninstalling certifi-2025.1.31:\n",
            "      Successfully uninstalled certifi-2025.1.31\n",
            "  Attempting uninstall: cachetools\n",
            "    Found existing installation: cachetools 5.5.2\n",
            "    Uninstalling cachetools-5.5.2:\n",
            "      Successfully uninstalled cachetools-5.5.2\n",
            "  Attempting uninstall: absl-py\n",
            "    Found existing installation: absl-py 1.4.0\n",
            "    Uninstalling absl-py-1.4.0:\n",
            "      Successfully uninstalled absl-py-1.4.0\n",
            "  Attempting uninstall: Werkzeug\n",
            "    Found existing installation: Werkzeug 3.1.3\n",
            "    Uninstalling Werkzeug-3.1.3:\n",
            "      Successfully uninstalled Werkzeug-3.1.3\n",
            "  Attempting uninstall: triton\n",
            "    Found existing installation: triton 3.2.0\n",
            "    Uninstalling triton-3.2.0:\n",
            "      Successfully uninstalled triton-3.2.0\n",
            "  Attempting uninstall: scipy\n",
            "    Found existing installation: scipy 1.14.1\n",
            "    Uninstalling scipy-1.14.1:\n",
            "      Successfully uninstalled scipy-1.14.1\n",
            "  Attempting uninstall: rsa\n",
            "    Found existing installation: rsa 4.9.1\n",
            "    Uninstalling rsa-4.9.1:\n",
            "      Successfully uninstalled rsa-4.9.1\n",
            "  Attempting uninstall: requests\n",
            "    Found existing installation: requests 2.32.3\n",
            "    Uninstalling requests-2.32.3:\n",
            "      Successfully uninstalled requests-2.32.3\n",
            "  Attempting uninstall: pyasn1-modules\n",
            "    Found existing installation: pyasn1_modules 0.4.2\n",
            "    Uninstalling pyasn1_modules-0.4.2:\n",
            "      Successfully uninstalled pyasn1_modules-0.4.2\n",
            "  Attempting uninstall: nvidia-cusolver-cu12\n",
            "    Found existing installation: nvidia-cusolver-cu12 11.6.3.83\n",
            "    Uninstalling nvidia-cusolver-cu12-11.6.3.83:\n",
            "      Successfully uninstalled nvidia-cusolver-cu12-11.6.3.83\n",
            "  Attempting uninstall: nvidia-cudnn-cu12\n",
            "    Found existing installation: nvidia-cudnn-cu12 9.3.0.75\n",
            "    Uninstalling nvidia-cudnn-cu12-9.3.0.75:\n",
            "      Successfully uninstalled nvidia-cudnn-cu12-9.3.0.75\n",
            "  Attempting uninstall: numexpr\n",
            "    Found existing installation: numexpr 2.10.2\n",
            "    Uninstalling numexpr-2.10.2:\n",
            "      Successfully uninstalled numexpr-2.10.2\n",
            "  Attempting uninstall: nibabel\n",
            "    Found existing installation: nibabel 5.3.2\n",
            "    Uninstalling nibabel-5.3.2:\n",
            "      Successfully uninstalled nibabel-5.3.2\n",
            "  Attempting uninstall: Jinja2\n",
            "    Found existing installation: Jinja2 3.1.6\n",
            "    Uninstalling Jinja2-3.1.6:\n",
            "      Successfully uninstalled Jinja2-3.1.6\n",
            "  Attempting uninstall: importlib-metadata\n",
            "    Found existing installation: importlib_metadata 8.6.1\n",
            "    Uninstalling importlib_metadata-8.6.1:\n",
            "      Successfully uninstalled importlib_metadata-8.6.1\n",
            "  Attempting uninstall: h5py\n",
            "    Found existing installation: h5py 3.13.0\n",
            "    Uninstalling h5py-3.13.0:\n",
            "      Successfully uninstalled h5py-3.13.0\n",
            "  Attempting uninstall: blosc2\n",
            "    Found existing installation: blosc2 3.3.0\n",
            "    Uninstalling blosc2-3.3.0:\n",
            "      Successfully uninstalled blosc2-3.3.0\n",
            "  Attempting uninstall: torch\n",
            "    Found existing installation: torch 2.6.0+cu124\n",
            "    Uninstalling torch-2.6.0+cu124:\n",
            "      Successfully uninstalled torch-2.6.0+cu124\n",
            "  Attempting uninstall: tables\n",
            "    Found existing installation: tables 3.10.2\n",
            "    Uninstalling tables-3.10.2:\n",
            "      Successfully uninstalled tables-3.10.2\n",
            "  Attempting uninstall: scikit-learn\n",
            "    Found existing installation: scikit-learn 1.6.1\n",
            "    Uninstalling scikit-learn-1.6.1:\n",
            "      Successfully uninstalled scikit-learn-1.6.1\n",
            "  Attempting uninstall: requests-oauthlib\n",
            "    Found existing installation: requests-oauthlib 2.0.0\n",
            "    Uninstalling requests-oauthlib-2.0.0:\n",
            "      Successfully uninstalled requests-oauthlib-2.0.0\n",
            "  Attempting uninstall: pandas\n",
            "    Found existing installation: pandas 2.2.2\n",
            "    Uninstalling pandas-2.2.2:\n",
            "      Successfully uninstalled pandas-2.2.2\n",
            "  Attempting uninstall: google-auth\n",
            "    Found existing installation: google-auth 2.38.0\n",
            "    Uninstalling google-auth-2.38.0:\n",
            "      Successfully uninstalled google-auth-2.38.0\n",
            "  Attempting uninstall: torchvision\n",
            "    Found existing installation: torchvision 0.21.0+cu124\n",
            "    Uninstalling torchvision-0.21.0+cu124:\n",
            "      Successfully uninstalled torchvision-0.21.0+cu124\n",
            "  Attempting uninstall: torchaudio\n",
            "    Found existing installation: torchaudio 2.6.0+cu124\n",
            "    Uninstalling torchaudio-2.6.0+cu124:\n",
            "      Successfully uninstalled torchaudio-2.6.0+cu124\n",
            "  Attempting uninstall: google-auth-oauthlib\n",
            "    Found existing installation: google-auth-oauthlib 1.2.1\n",
            "    Uninstalling google-auth-oauthlib-1.2.1:\n",
            "      Successfully uninstalled google-auth-oauthlib-1.2.1\n",
            "  Attempting uninstall: tensorboard\n",
            "    Found existing installation: tensorboard 2.18.0\n",
            "    Uninstalling tensorboard-2.18.0:\n",
            "      Successfully uninstalled tensorboard-2.18.0\n",
            "\u001b[31mERROR: pip's dependency resolver does not currently take into account all the packages that are installed. This behaviour is the source of the following dependency conflicts.\n",
            "google-colab 1.0.0 requires google-auth==2.38.0, but you have google-auth 2.23.4 which is incompatible.\n",
            "google-colab 1.0.0 requires pandas==2.2.2, but you have pandas 2.1.3 which is incompatible.\n",
            "google-colab 1.0.0 requires requests==2.32.3, but you have requests 2.31.0 which is incompatible.\n",
            "pytensor 2.30.3 requires filelock>=3.15, but you have filelock 3.13.1 which is incompatible.\n",
            "gcsfs 2025.3.2 requires fsspec==2025.3.2, but you have fsspec 2023.10.0 which is incompatible.\n",
            "tensorflow-metadata 1.17.1 requires protobuf<6.0.0,>=4.25.2; python_version >= \"3.11\", but you have protobuf 4.23.4 which is incompatible.\n",
            "google-cloud-storage 2.19.0 requires google-auth<3.0dev,>=2.26.1, but you have google-auth 2.23.4 which is incompatible.\n",
            "tensorflow 2.18.0 requires h5py>=3.11.0, but you have h5py 3.10.0 which is incompatible.\n",
            "tensorflow 2.18.0 requires tensorboard<2.19,>=2.18, but you have tensorboard 2.15.1 which is incompatible.\n",
            "altair 5.5.0 requires typing-extensions>=4.10.0; python_version < \"3.14\", but you have typing-extensions 4.8.0 which is incompatible.\n",
            "pydantic 2.11.3 requires typing-extensions>=4.12.2, but you have typing-extensions 4.8.0 which is incompatible.\n",
            "plotnine 0.14.5 requires pandas>=2.2.0, but you have pandas 2.1.3 which is incompatible.\n",
            "typeguard 4.4.2 requires typing_extensions>=4.10.0, but you have typing-extensions 4.8.0 which is incompatible.\n",
            "google-cloud-bigquery 3.31.0 requires packaging>=24.2.0, but you have packaging 23.2 which is incompatible.\n",
            "google-genai 1.10.0 requires typing-extensions<5.0.0,>=4.11.0, but you have typing-extensions 4.8.0 which is incompatible.\n",
            "grpcio-status 1.71.0 requires grpcio>=1.71.0, but you have grpcio 1.59.3 which is incompatible.\n",
            "grpcio-status 1.71.0 requires protobuf<6.0dev,>=5.26.1, but you have protobuf 4.23.4 which is incompatible.\n",
            "ydf 0.11.0 requires protobuf<6.0.0,>=5.29.1, but you have protobuf 4.23.4 which is incompatible.\n",
            "openai 1.75.0 requires typing-extensions<5,>=4.11, but you have typing-extensions 4.8.0 which is incompatible.\n",
            "mizani 0.13.3 requires pandas>=2.2.0, but you have pandas 2.1.3 which is incompatible.\n",
            "typing-inspection 0.4.0 requires typing-extensions>=4.12.0, but you have typing-extensions 4.8.0 which is incompatible.\n",
            "flask 3.1.0 requires Werkzeug>=3.1, but you have werkzeug 3.0.1 which is incompatible.\n",
            "thinc 8.3.6 requires numpy<3.0.0,>=2.0.0, but you have numpy 1.26.2 which is incompatible.\u001b[0m\u001b[31m\n",
            "\u001b[0mSuccessfully installed Jinja2-3.1.2 Markdown-3.5.1 MarkupSafe-2.1.3 Pillow-10.1.0 Werkzeug-3.0.1 absl-py-2.0.0 blosc2-2.3.1 cachetools-5.3.2 certifi-2023.11.17 charset-normalizer-3.3.2 deepdish-0.3.7 filelock-3.13.1 fsspec-2023.10.0 google-auth-2.23.4 google-auth-oauthlib-1.1.0 grpcio-1.59.3 h5py-3.10.0 idna-3.6 importlib-metadata-6.8.0 joblib-1.3.2 lxml-4.9.3 msgpack-1.0.7 ndindex-1.7 networkx-3.2.1 nibabel-5.1.0 nilearn-0.10.2 numexpr-2.8.7 numpy-1.26.2 nvidia-cublas-cu12-12.1.3.1 nvidia-cuda-cupti-cu12-12.1.105 nvidia-cuda-nvrtc-cu12-12.1.105 nvidia-cuda-runtime-cu12-12.1.105 nvidia-cudnn-cu12-8.9.2.26 nvidia-cufft-cu12-11.0.2.54 nvidia-curand-cu12-10.3.2.106 nvidia-cusolver-cu12-11.4.5.107 nvidia-cusparse-cu12-12.1.0.106 nvidia-nccl-cu12-2.18.1 nvidia-nvtx-cu12-12.1.105 packaging-23.2 pandas-2.1.3 protobuf-4.23.4 psutil-5.9.6 pyasn1-0.5.1 pyasn1-modules-0.3.0 pyparsing-3.1.1 pytz-2023.3.post1 requests-2.31.0 requests-oauthlib-1.3.1 rsa-4.9 scikit-learn-1.3.2 scipy-1.11.4 six-1.16.0 sympy-1.12 tables-3.9.2 tensorboard-2.15.1 tensorboardX-2.6.2.2 threadpoolctl-3.2.0 torch-2.1.1 torch-cluster-1.6.3+pt21cu121 torch-scatter-2.1.2+pt21cu121 torch-sparse-0.6.18+pt21cu121 torch-spline-conv-1.2.2+pt21cu121 torch-tb-profiler-0.4.3 torch_geometric-2.4.0 torchaudio-2.1.1 torchvision-0.16.1 tqdm-4.66.1 triton-2.1.0 typing_extensions-4.8.0 tzdata-2023.3 urllib3-2.1.0 zipp-3.17.0\n"
          ]
        },
        {
          "output_type": "display_data",
          "data": {
            "application/vnd.colab-display-data+json": {
              "pip_warning": {
                "packages": [
                  "PIL",
                  "certifi",
                  "google",
                  "importlib_metadata",
                  "psutil",
                  "six",
                  "zipp"
                ]
              },
              "id": "f70c63328393498ca83b361865121353"
            }
          },
          "metadata": {}
        }
      ]
    },
    {
      "cell_type": "code",
      "source": [
        "%run /content/BrainGNN/01-fetch_data.py\n",
        "%run /content/BrainGNN/02-process_data.py"
      ],
      "metadata": {
        "id": "4aUoZmYJBExB",
        "colab": {
          "base_uri": "https://localhost:8080/"
        },
        "outputId": "2cac5d50-52c5-4727-abf4-08a25787caa4"
      },
      "execution_count": 1,
      "outputs": [
        {
          "output_type": "stream",
          "name": "stdout",
          "text": [
            "Namespace(pipeline='cpac', atlas='cc200', download=True)\n",
            "Downloading data from https://s3.amazonaws.com/fcp-indi/data/Projects/ABIDE_Initiative/Outputs/cpac/filt_noglobal/rois_cc200/Pitt_0050003_rois_cc200.1D ...\n"
          ]
        },
        {
          "output_type": "stream",
          "name": "stderr",
          "text": [
            " ...done. (0 seconds, 0 min)\n"
          ]
        },
        {
          "output_type": "stream",
          "name": "stdout",
          "text": [
            "Downloading data from https://s3.amazonaws.com/fcp-indi/data/Projects/ABIDE_Initiative/Outputs/cpac/filt_noglobal/rois_cc200/Pitt_0050004_rois_cc200.1D ...\n"
          ]
        },
        {
          "output_type": "stream",
          "name": "stderr",
          "text": [
            " ...done. (0 seconds, 0 min)\n"
          ]
        },
        {
          "output_type": "stream",
          "name": "stdout",
          "text": [
            "Downloading data from https://s3.amazonaws.com/fcp-indi/data/Projects/ABIDE_Initiative/Outputs/cpac/filt_noglobal/rois_cc200/Pitt_0050005_rois_cc200.1D ...\n"
          ]
        },
        {
          "output_type": "stream",
          "name": "stderr",
          "text": [
            " ...done. (0 seconds, 0 min)\n"
          ]
        },
        {
          "output_type": "stream",
          "name": "stdout",
          "text": [
            "Downloading data from https://s3.amazonaws.com/fcp-indi/data/Projects/ABIDE_Initiative/Outputs/cpac/filt_noglobal/rois_cc200/Pitt_0050006_rois_cc200.1D ...\n"
          ]
        },
        {
          "output_type": "stream",
          "name": "stderr",
          "text": [
            " ...done. (0 seconds, 0 min)\n"
          ]
        },
        {
          "output_type": "stream",
          "name": "stdout",
          "text": [
            "Downloading data from https://s3.amazonaws.com/fcp-indi/data/Projects/ABIDE_Initiative/Outputs/cpac/filt_noglobal/rois_cc200/Pitt_0050007_rois_cc200.1D ...\n"
          ]
        },
        {
          "output_type": "stream",
          "name": "stderr",
          "text": [
            " ...done. (0 seconds, 0 min)\n"
          ]
        },
        {
          "output_type": "stream",
          "name": "stdout",
          "text": [
            "Downloading data from https://s3.amazonaws.com/fcp-indi/data/Projects/ABIDE_Initiative/Outputs/cpac/filt_noglobal/rois_cc200/Pitt_0050008_rois_cc200.1D ...\n"
          ]
        },
        {
          "output_type": "stream",
          "name": "stderr",
          "text": [
            " ...done. (0 seconds, 0 min)\n"
          ]
        },
        {
          "output_type": "stream",
          "name": "stdout",
          "text": [
            "Downloading data from https://s3.amazonaws.com/fcp-indi/data/Projects/ABIDE_Initiative/Outputs/cpac/filt_noglobal/rois_cc200/Pitt_0050009_rois_cc200.1D ...\n"
          ]
        },
        {
          "output_type": "stream",
          "name": "stderr",
          "text": [
            " ...done. (0 seconds, 0 min)\n"
          ]
        },
        {
          "output_type": "stream",
          "name": "stdout",
          "text": [
            "Downloading data from https://s3.amazonaws.com/fcp-indi/data/Projects/ABIDE_Initiative/Outputs/cpac/filt_noglobal/rois_cc200/Pitt_0050010_rois_cc200.1D ...\n"
          ]
        },
        {
          "output_type": "stream",
          "name": "stderr",
          "text": [
            " ...done. (0 seconds, 0 min)\n"
          ]
        },
        {
          "output_type": "stream",
          "name": "stdout",
          "text": [
            "Downloading data from https://s3.amazonaws.com/fcp-indi/data/Projects/ABIDE_Initiative/Outputs/cpac/filt_noglobal/rois_cc200/Pitt_0050011_rois_cc200.1D ...\n"
          ]
        },
        {
          "output_type": "stream",
          "name": "stderr",
          "text": [
            " ...done. (0 seconds, 0 min)\n"
          ]
        },
        {
          "output_type": "stream",
          "name": "stdout",
          "text": [
            "Downloading data from https://s3.amazonaws.com/fcp-indi/data/Projects/ABIDE_Initiative/Outputs/cpac/filt_noglobal/rois_cc200/Pitt_0050012_rois_cc200.1D ...\n"
          ]
        },
        {
          "output_type": "stream",
          "name": "stderr",
          "text": [
            " ...done. (0 seconds, 0 min)\n"
          ]
        },
        {
          "output_type": "stream",
          "name": "stdout",
          "text": [
            "Downloading data from https://s3.amazonaws.com/fcp-indi/data/Projects/ABIDE_Initiative/Outputs/cpac/filt_noglobal/rois_cc200/Pitt_0050013_rois_cc200.1D ...\n"
          ]
        },
        {
          "output_type": "stream",
          "name": "stderr",
          "text": [
            " ...done. (0 seconds, 0 min)\n"
          ]
        },
        {
          "output_type": "stream",
          "name": "stdout",
          "text": [
            "Downloading data from https://s3.amazonaws.com/fcp-indi/data/Projects/ABIDE_Initiative/Outputs/cpac/filt_noglobal/rois_cc200/Pitt_0050014_rois_cc200.1D ...\n"
          ]
        },
        {
          "output_type": "stream",
          "name": "stderr",
          "text": [
            " ...done. (0 seconds, 0 min)\n"
          ]
        },
        {
          "output_type": "stream",
          "name": "stdout",
          "text": [
            "Downloading data from https://s3.amazonaws.com/fcp-indi/data/Projects/ABIDE_Initiative/Outputs/cpac/filt_noglobal/rois_cc200/Pitt_0050015_rois_cc200.1D ...\n"
          ]
        },
        {
          "output_type": "stream",
          "name": "stderr",
          "text": [
            " ...done. (0 seconds, 0 min)\n"
          ]
        },
        {
          "output_type": "stream",
          "name": "stdout",
          "text": [
            "Downloading data from https://s3.amazonaws.com/fcp-indi/data/Projects/ABIDE_Initiative/Outputs/cpac/filt_noglobal/rois_cc200/Pitt_0050016_rois_cc200.1D ...\n"
          ]
        },
        {
          "output_type": "stream",
          "name": "stderr",
          "text": [
            " ...done. (0 seconds, 0 min)\n"
          ]
        },
        {
          "output_type": "stream",
          "name": "stdout",
          "text": [
            "Downloading data from https://s3.amazonaws.com/fcp-indi/data/Projects/ABIDE_Initiative/Outputs/cpac/filt_noglobal/rois_cc200/Pitt_0050017_rois_cc200.1D ...\n"
          ]
        },
        {
          "output_type": "stream",
          "name": "stderr",
          "text": [
            " ...done. (0 seconds, 0 min)\n"
          ]
        },
        {
          "output_type": "stream",
          "name": "stdout",
          "text": [
            "Downloading data from https://s3.amazonaws.com/fcp-indi/data/Projects/ABIDE_Initiative/Outputs/cpac/filt_noglobal/rois_cc200/Pitt_0050019_rois_cc200.1D ...\n"
          ]
        },
        {
          "output_type": "stream",
          "name": "stderr",
          "text": [
            " ...done. (0 seconds, 0 min)\n"
          ]
        },
        {
          "output_type": "stream",
          "name": "stdout",
          "text": [
            "Downloading data from https://s3.amazonaws.com/fcp-indi/data/Projects/ABIDE_Initiative/Outputs/cpac/filt_noglobal/rois_cc200/Pitt_0050020_rois_cc200.1D ...\n"
          ]
        },
        {
          "output_type": "stream",
          "name": "stderr",
          "text": [
            " ...done. (0 seconds, 0 min)\n"
          ]
        },
        {
          "output_type": "stream",
          "name": "stdout",
          "text": [
            "Downloading data from https://s3.amazonaws.com/fcp-indi/data/Projects/ABIDE_Initiative/Outputs/cpac/filt_noglobal/rois_cc200/Pitt_0050022_rois_cc200.1D ...\n"
          ]
        },
        {
          "output_type": "stream",
          "name": "stderr",
          "text": [
            " ...done. (0 seconds, 0 min)\n"
          ]
        },
        {
          "output_type": "stream",
          "name": "stdout",
          "text": [
            "Downloading data from https://s3.amazonaws.com/fcp-indi/data/Projects/ABIDE_Initiative/Outputs/cpac/filt_noglobal/rois_cc200/Pitt_0050023_rois_cc200.1D ...\n"
          ]
        },
        {
          "output_type": "stream",
          "name": "stderr",
          "text": [
            " ...done. (0 seconds, 0 min)\n"
          ]
        },
        {
          "output_type": "stream",
          "name": "stdout",
          "text": [
            "Downloading data from https://s3.amazonaws.com/fcp-indi/data/Projects/ABIDE_Initiative/Outputs/cpac/filt_noglobal/rois_cc200/Pitt_0050024_rois_cc200.1D ...\n"
          ]
        },
        {
          "output_type": "stream",
          "name": "stderr",
          "text": [
            " ...done. (0 seconds, 0 min)\n"
          ]
        },
        {
          "output_type": "stream",
          "name": "stdout",
          "text": [
            "Downloading data from https://s3.amazonaws.com/fcp-indi/data/Projects/ABIDE_Initiative/Outputs/cpac/filt_noglobal/rois_cc200/Pitt_0050025_rois_cc200.1D ...\n"
          ]
        },
        {
          "output_type": "stream",
          "name": "stderr",
          "text": [
            " ...done. (0 seconds, 0 min)\n"
          ]
        },
        {
          "output_type": "stream",
          "name": "stdout",
          "text": [
            "Downloading data from https://s3.amazonaws.com/fcp-indi/data/Projects/ABIDE_Initiative/Outputs/cpac/filt_noglobal/rois_cc200/Pitt_0050026_rois_cc200.1D ...\n"
          ]
        },
        {
          "output_type": "stream",
          "name": "stderr",
          "text": [
            " ...done. (0 seconds, 0 min)\n"
          ]
        },
        {
          "output_type": "stream",
          "name": "stdout",
          "text": [
            "Downloading data from https://s3.amazonaws.com/fcp-indi/data/Projects/ABIDE_Initiative/Outputs/cpac/filt_noglobal/rois_cc200/Pitt_0050027_rois_cc200.1D ...\n"
          ]
        },
        {
          "output_type": "stream",
          "name": "stderr",
          "text": [
            " ...done. (0 seconds, 0 min)\n"
          ]
        },
        {
          "output_type": "stream",
          "name": "stdout",
          "text": [
            "Downloading data from https://s3.amazonaws.com/fcp-indi/data/Projects/ABIDE_Initiative/Outputs/cpac/filt_noglobal/rois_cc200/Pitt_0050028_rois_cc200.1D ...\n"
          ]
        },
        {
          "output_type": "stream",
          "name": "stderr",
          "text": [
            " ...done. (0 seconds, 0 min)\n"
          ]
        },
        {
          "output_type": "stream",
          "name": "stdout",
          "text": [
            "Downloading data from https://s3.amazonaws.com/fcp-indi/data/Projects/ABIDE_Initiative/Outputs/cpac/filt_noglobal/rois_cc200/Pitt_0050029_rois_cc200.1D ...\n"
          ]
        },
        {
          "output_type": "stream",
          "name": "stderr",
          "text": [
            " ...done. (0 seconds, 0 min)\n"
          ]
        },
        {
          "output_type": "stream",
          "name": "stdout",
          "text": [
            "Downloading data from https://s3.amazonaws.com/fcp-indi/data/Projects/ABIDE_Initiative/Outputs/cpac/filt_noglobal/rois_cc200/Pitt_0050030_rois_cc200.1D ...\n"
          ]
        },
        {
          "output_type": "stream",
          "name": "stderr",
          "text": [
            " ...done. (0 seconds, 0 min)\n"
          ]
        },
        {
          "output_type": "stream",
          "name": "stdout",
          "text": [
            "Downloading data from https://s3.amazonaws.com/fcp-indi/data/Projects/ABIDE_Initiative/Outputs/cpac/filt_noglobal/rois_cc200/Pitt_0050031_rois_cc200.1D ...\n"
          ]
        },
        {
          "output_type": "stream",
          "name": "stderr",
          "text": [
            " ...done. (0 seconds, 0 min)\n"
          ]
        },
        {
          "output_type": "stream",
          "name": "stdout",
          "text": [
            "Downloading data from https://s3.amazonaws.com/fcp-indi/data/Projects/ABIDE_Initiative/Outputs/cpac/filt_noglobal/rois_cc200/Pitt_0050032_rois_cc200.1D ...\n"
          ]
        },
        {
          "output_type": "stream",
          "name": "stderr",
          "text": [
            " ...done. (0 seconds, 0 min)\n"
          ]
        },
        {
          "output_type": "stream",
          "name": "stdout",
          "text": [
            "Downloading data from https://s3.amazonaws.com/fcp-indi/data/Projects/ABIDE_Initiative/Outputs/cpac/filt_noglobal/rois_cc200/Pitt_0050033_rois_cc200.1D ...\n"
          ]
        },
        {
          "output_type": "stream",
          "name": "stderr",
          "text": [
            " ...done. (0 seconds, 0 min)\n"
          ]
        },
        {
          "output_type": "stream",
          "name": "stdout",
          "text": [
            "Downloading data from https://s3.amazonaws.com/fcp-indi/data/Projects/ABIDE_Initiative/Outputs/cpac/filt_noglobal/rois_cc200/Pitt_0050034_rois_cc200.1D ...\n"
          ]
        },
        {
          "output_type": "stream",
          "name": "stderr",
          "text": [
            " ...done. (0 seconds, 0 min)\n"
          ]
        },
        {
          "output_type": "stream",
          "name": "stdout",
          "text": [
            "Downloading data from https://s3.amazonaws.com/fcp-indi/data/Projects/ABIDE_Initiative/Outputs/cpac/filt_noglobal/rois_cc200/Pitt_0050035_rois_cc200.1D ...\n"
          ]
        },
        {
          "output_type": "stream",
          "name": "stderr",
          "text": [
            " ...done. (0 seconds, 0 min)\n"
          ]
        },
        {
          "output_type": "stream",
          "name": "stdout",
          "text": [
            "Downloading data from https://s3.amazonaws.com/fcp-indi/data/Projects/ABIDE_Initiative/Outputs/cpac/filt_noglobal/rois_cc200/Pitt_0050036_rois_cc200.1D ...\n"
          ]
        },
        {
          "output_type": "stream",
          "name": "stderr",
          "text": [
            " ...done. (0 seconds, 0 min)\n"
          ]
        },
        {
          "output_type": "stream",
          "name": "stdout",
          "text": [
            "Downloading data from https://s3.amazonaws.com/fcp-indi/data/Projects/ABIDE_Initiative/Outputs/cpac/filt_noglobal/rois_cc200/Pitt_0050037_rois_cc200.1D ...\n"
          ]
        },
        {
          "output_type": "stream",
          "name": "stderr",
          "text": [
            " ...done. (0 seconds, 0 min)\n"
          ]
        },
        {
          "output_type": "stream",
          "name": "stdout",
          "text": [
            "Downloading data from https://s3.amazonaws.com/fcp-indi/data/Projects/ABIDE_Initiative/Outputs/cpac/filt_noglobal/rois_cc200/Pitt_0050038_rois_cc200.1D ...\n"
          ]
        },
        {
          "output_type": "stream",
          "name": "stderr",
          "text": [
            " ...done. (0 seconds, 0 min)\n"
          ]
        },
        {
          "output_type": "stream",
          "name": "stdout",
          "text": [
            "Downloading data from https://s3.amazonaws.com/fcp-indi/data/Projects/ABIDE_Initiative/Outputs/cpac/filt_noglobal/rois_cc200/Pitt_0050039_rois_cc200.1D ...\n"
          ]
        },
        {
          "output_type": "stream",
          "name": "stderr",
          "text": [
            " ...done. (0 seconds, 0 min)\n"
          ]
        },
        {
          "output_type": "stream",
          "name": "stdout",
          "text": [
            "Downloading data from https://s3.amazonaws.com/fcp-indi/data/Projects/ABIDE_Initiative/Outputs/cpac/filt_noglobal/rois_cc200/Pitt_0050040_rois_cc200.1D ...\n"
          ]
        },
        {
          "output_type": "stream",
          "name": "stderr",
          "text": [
            " ...done. (0 seconds, 0 min)\n"
          ]
        },
        {
          "output_type": "stream",
          "name": "stdout",
          "text": [
            "Downloading data from https://s3.amazonaws.com/fcp-indi/data/Projects/ABIDE_Initiative/Outputs/cpac/filt_noglobal/rois_cc200/Pitt_0050041_rois_cc200.1D ...\n"
          ]
        },
        {
          "output_type": "stream",
          "name": "stderr",
          "text": [
            " ...done. (0 seconds, 0 min)\n"
          ]
        },
        {
          "output_type": "stream",
          "name": "stdout",
          "text": [
            "Downloading data from https://s3.amazonaws.com/fcp-indi/data/Projects/ABIDE_Initiative/Outputs/cpac/filt_noglobal/rois_cc200/Pitt_0050042_rois_cc200.1D ...\n"
          ]
        },
        {
          "output_type": "stream",
          "name": "stderr",
          "text": [
            " ...done. (0 seconds, 0 min)\n"
          ]
        },
        {
          "output_type": "stream",
          "name": "stdout",
          "text": [
            "Downloading data from https://s3.amazonaws.com/fcp-indi/data/Projects/ABIDE_Initiative/Outputs/cpac/filt_noglobal/rois_cc200/Pitt_0050043_rois_cc200.1D ...\n"
          ]
        },
        {
          "output_type": "stream",
          "name": "stderr",
          "text": [
            " ...done. (0 seconds, 0 min)\n"
          ]
        },
        {
          "output_type": "stream",
          "name": "stdout",
          "text": [
            "Downloading data from https://s3.amazonaws.com/fcp-indi/data/Projects/ABIDE_Initiative/Outputs/cpac/filt_noglobal/rois_cc200/Pitt_0050044_rois_cc200.1D ...\n"
          ]
        },
        {
          "output_type": "stream",
          "name": "stderr",
          "text": [
            " ...done. (0 seconds, 0 min)\n"
          ]
        },
        {
          "output_type": "stream",
          "name": "stdout",
          "text": [
            "Downloading data from https://s3.amazonaws.com/fcp-indi/data/Projects/ABIDE_Initiative/Outputs/cpac/filt_noglobal/rois_cc200/Pitt_0050045_rois_cc200.1D ...\n"
          ]
        },
        {
          "output_type": "stream",
          "name": "stderr",
          "text": [
            " ...done. (0 seconds, 0 min)\n"
          ]
        },
        {
          "output_type": "stream",
          "name": "stdout",
          "text": [
            "Downloading data from https://s3.amazonaws.com/fcp-indi/data/Projects/ABIDE_Initiative/Outputs/cpac/filt_noglobal/rois_cc200/Pitt_0050046_rois_cc200.1D ...\n"
          ]
        },
        {
          "output_type": "stream",
          "name": "stderr",
          "text": [
            " ...done. (0 seconds, 0 min)\n"
          ]
        },
        {
          "output_type": "stream",
          "name": "stdout",
          "text": [
            "Downloading data from https://s3.amazonaws.com/fcp-indi/data/Projects/ABIDE_Initiative/Outputs/cpac/filt_noglobal/rois_cc200/Pitt_0050047_rois_cc200.1D ...\n"
          ]
        },
        {
          "output_type": "stream",
          "name": "stderr",
          "text": [
            " ...done. (0 seconds, 0 min)\n"
          ]
        },
        {
          "output_type": "stream",
          "name": "stdout",
          "text": [
            "Downloading data from https://s3.amazonaws.com/fcp-indi/data/Projects/ABIDE_Initiative/Outputs/cpac/filt_noglobal/rois_cc200/Pitt_0050048_rois_cc200.1D ...\n"
          ]
        },
        {
          "output_type": "stream",
          "name": "stderr",
          "text": [
            " ...done. (0 seconds, 0 min)\n"
          ]
        },
        {
          "output_type": "stream",
          "name": "stdout",
          "text": [
            "Downloading data from https://s3.amazonaws.com/fcp-indi/data/Projects/ABIDE_Initiative/Outputs/cpac/filt_noglobal/rois_cc200/Pitt_0050049_rois_cc200.1D ...\n"
          ]
        },
        {
          "output_type": "stream",
          "name": "stderr",
          "text": [
            " ...done. (0 seconds, 0 min)\n"
          ]
        },
        {
          "output_type": "stream",
          "name": "stdout",
          "text": [
            "Downloading data from https://s3.amazonaws.com/fcp-indi/data/Projects/ABIDE_Initiative/Outputs/cpac/filt_noglobal/rois_cc200/Pitt_0050050_rois_cc200.1D ...\n"
          ]
        },
        {
          "output_type": "stream",
          "name": "stderr",
          "text": [
            " ...done. (0 seconds, 0 min)\n"
          ]
        },
        {
          "output_type": "stream",
          "name": "stdout",
          "text": [
            "Downloading data from https://s3.amazonaws.com/fcp-indi/data/Projects/ABIDE_Initiative/Outputs/cpac/filt_noglobal/rois_cc200/Pitt_0050051_rois_cc200.1D ...\n"
          ]
        },
        {
          "output_type": "stream",
          "name": "stderr",
          "text": [
            " ...done. (0 seconds, 0 min)\n"
          ]
        },
        {
          "output_type": "stream",
          "name": "stdout",
          "text": [
            "Downloading data from https://s3.amazonaws.com/fcp-indi/data/Projects/ABIDE_Initiative/Outputs/cpac/filt_noglobal/rois_cc200/Pitt_0050052_rois_cc200.1D ...\n"
          ]
        },
        {
          "output_type": "stream",
          "name": "stderr",
          "text": [
            " ...done. (0 seconds, 0 min)\n"
          ]
        },
        {
          "output_type": "stream",
          "name": "stdout",
          "text": [
            "Downloading data from https://s3.amazonaws.com/fcp-indi/data/Projects/ABIDE_Initiative/Outputs/cpac/filt_noglobal/rois_cc200/Pitt_0050053_rois_cc200.1D ...\n"
          ]
        },
        {
          "output_type": "stream",
          "name": "stderr",
          "text": [
            " ...done. (0 seconds, 0 min)\n"
          ]
        },
        {
          "output_type": "stream",
          "name": "stdout",
          "text": [
            "Downloading data from https://s3.amazonaws.com/fcp-indi/data/Projects/ABIDE_Initiative/Outputs/cpac/filt_noglobal/rois_cc200/Pitt_0050054_rois_cc200.1D ...\n"
          ]
        },
        {
          "output_type": "stream",
          "name": "stderr",
          "text": [
            " ...done. (0 seconds, 0 min)\n"
          ]
        },
        {
          "output_type": "stream",
          "name": "stdout",
          "text": [
            "Downloading data from https://s3.amazonaws.com/fcp-indi/data/Projects/ABIDE_Initiative/Outputs/cpac/filt_noglobal/rois_cc200/Pitt_0050055_rois_cc200.1D ...\n"
          ]
        },
        {
          "output_type": "stream",
          "name": "stderr",
          "text": [
            " ...done. (0 seconds, 0 min)\n"
          ]
        },
        {
          "output_type": "stream",
          "name": "stdout",
          "text": [
            "Downloading data from https://s3.amazonaws.com/fcp-indi/data/Projects/ABIDE_Initiative/Outputs/cpac/filt_noglobal/rois_cc200/Pitt_0050056_rois_cc200.1D ...\n"
          ]
        },
        {
          "output_type": "stream",
          "name": "stderr",
          "text": [
            " ...done. (0 seconds, 0 min)\n"
          ]
        },
        {
          "output_type": "stream",
          "name": "stdout",
          "text": [
            "Downloading data from https://s3.amazonaws.com/fcp-indi/data/Projects/ABIDE_Initiative/Outputs/cpac/filt_noglobal/rois_cc200/Pitt_0050057_rois_cc200.1D ...\n"
          ]
        },
        {
          "output_type": "stream",
          "name": "stderr",
          "text": [
            " ...done. (0 seconds, 0 min)\n"
          ]
        },
        {
          "output_type": "stream",
          "name": "stdout",
          "text": [
            "Downloading data from https://s3.amazonaws.com/fcp-indi/data/Projects/ABIDE_Initiative/Outputs/cpac/filt_noglobal/rois_cc200/Pitt_0050058_rois_cc200.1D ...\n"
          ]
        },
        {
          "output_type": "stream",
          "name": "stderr",
          "text": [
            " ...done. (0 seconds, 0 min)\n"
          ]
        },
        {
          "output_type": "stream",
          "name": "stdout",
          "text": [
            "Downloading data from https://s3.amazonaws.com/fcp-indi/data/Projects/ABIDE_Initiative/Outputs/cpac/filt_noglobal/rois_cc200/Pitt_0050059_rois_cc200.1D ...\n"
          ]
        },
        {
          "output_type": "stream",
          "name": "stderr",
          "text": [
            " ...done. (0 seconds, 0 min)\n"
          ]
        },
        {
          "output_type": "stream",
          "name": "stdout",
          "text": [
            "Downloading data from https://s3.amazonaws.com/fcp-indi/data/Projects/ABIDE_Initiative/Outputs/cpac/filt_noglobal/rois_cc200/Pitt_0050060_rois_cc200.1D ...\n"
          ]
        },
        {
          "output_type": "stream",
          "name": "stderr",
          "text": [
            " ...done. (0 seconds, 0 min)\n"
          ]
        },
        {
          "output_type": "stream",
          "name": "stdout",
          "text": [
            "Downloading data from https://s3.amazonaws.com/fcp-indi/data/Projects/ABIDE_Initiative/Outputs/cpac/filt_noglobal/rois_cc200/Olin_0050102_rois_cc200.1D ...\n"
          ]
        },
        {
          "output_type": "stream",
          "name": "stderr",
          "text": [
            " ...done. (0 seconds, 0 min)\n"
          ]
        },
        {
          "output_type": "stream",
          "name": "stdout",
          "text": [
            "Downloading data from https://s3.amazonaws.com/fcp-indi/data/Projects/ABIDE_Initiative/Outputs/cpac/filt_noglobal/rois_cc200/Olin_0050103_rois_cc200.1D ...\n"
          ]
        },
        {
          "output_type": "stream",
          "name": "stderr",
          "text": [
            " ...done. (0 seconds, 0 min)\n"
          ]
        },
        {
          "output_type": "stream",
          "name": "stdout",
          "text": [
            "Downloading data from https://s3.amazonaws.com/fcp-indi/data/Projects/ABIDE_Initiative/Outputs/cpac/filt_noglobal/rois_cc200/Olin_0050104_rois_cc200.1D ...\n"
          ]
        },
        {
          "output_type": "stream",
          "name": "stderr",
          "text": [
            " ...done. (0 seconds, 0 min)\n"
          ]
        },
        {
          "output_type": "stream",
          "name": "stdout",
          "text": [
            "Downloading data from https://s3.amazonaws.com/fcp-indi/data/Projects/ABIDE_Initiative/Outputs/cpac/filt_noglobal/rois_cc200/Olin_0050105_rois_cc200.1D ...\n"
          ]
        },
        {
          "output_type": "stream",
          "name": "stderr",
          "text": [
            " ...done. (0 seconds, 0 min)\n"
          ]
        },
        {
          "output_type": "stream",
          "name": "stdout",
          "text": [
            "Downloading data from https://s3.amazonaws.com/fcp-indi/data/Projects/ABIDE_Initiative/Outputs/cpac/filt_noglobal/rois_cc200/Olin_0050106_rois_cc200.1D ...\n"
          ]
        },
        {
          "output_type": "stream",
          "name": "stderr",
          "text": [
            " ...done. (0 seconds, 0 min)\n"
          ]
        },
        {
          "output_type": "stream",
          "name": "stdout",
          "text": [
            "Downloading data from https://s3.amazonaws.com/fcp-indi/data/Projects/ABIDE_Initiative/Outputs/cpac/filt_noglobal/rois_cc200/Olin_0050107_rois_cc200.1D ...\n"
          ]
        },
        {
          "output_type": "stream",
          "name": "stderr",
          "text": [
            " ...done. (0 seconds, 0 min)\n"
          ]
        },
        {
          "output_type": "stream",
          "name": "stdout",
          "text": [
            "Downloading data from https://s3.amazonaws.com/fcp-indi/data/Projects/ABIDE_Initiative/Outputs/cpac/filt_noglobal/rois_cc200/Olin_0050109_rois_cc200.1D ...\n"
          ]
        },
        {
          "output_type": "stream",
          "name": "stderr",
          "text": [
            " ...done. (0 seconds, 0 min)\n"
          ]
        },
        {
          "output_type": "stream",
          "name": "stdout",
          "text": [
            "Downloading data from https://s3.amazonaws.com/fcp-indi/data/Projects/ABIDE_Initiative/Outputs/cpac/filt_noglobal/rois_cc200/Olin_0050110_rois_cc200.1D ...\n"
          ]
        },
        {
          "output_type": "stream",
          "name": "stderr",
          "text": [
            " ...done. (0 seconds, 0 min)\n"
          ]
        },
        {
          "output_type": "stream",
          "name": "stdout",
          "text": [
            "Downloading data from https://s3.amazonaws.com/fcp-indi/data/Projects/ABIDE_Initiative/Outputs/cpac/filt_noglobal/rois_cc200/Olin_0050111_rois_cc200.1D ...\n"
          ]
        },
        {
          "output_type": "stream",
          "name": "stderr",
          "text": [
            " ...done. (0 seconds, 0 min)\n"
          ]
        },
        {
          "output_type": "stream",
          "name": "stdout",
          "text": [
            "Downloading data from https://s3.amazonaws.com/fcp-indi/data/Projects/ABIDE_Initiative/Outputs/cpac/filt_noglobal/rois_cc200/Olin_0050112_rois_cc200.1D ...\n"
          ]
        },
        {
          "output_type": "stream",
          "name": "stderr",
          "text": [
            " ...done. (0 seconds, 0 min)\n"
          ]
        },
        {
          "output_type": "stream",
          "name": "stdout",
          "text": [
            "Downloading data from https://s3.amazonaws.com/fcp-indi/data/Projects/ABIDE_Initiative/Outputs/cpac/filt_noglobal/rois_cc200/Olin_0050113_rois_cc200.1D ...\n"
          ]
        },
        {
          "output_type": "stream",
          "name": "stderr",
          "text": [
            " ...done. (0 seconds, 0 min)\n"
          ]
        },
        {
          "output_type": "stream",
          "name": "stdout",
          "text": [
            "Downloading data from https://s3.amazonaws.com/fcp-indi/data/Projects/ABIDE_Initiative/Outputs/cpac/filt_noglobal/rois_cc200/Olin_0050114_rois_cc200.1D ...\n"
          ]
        },
        {
          "output_type": "stream",
          "name": "stderr",
          "text": [
            " ...done. (0 seconds, 0 min)\n"
          ]
        },
        {
          "output_type": "stream",
          "name": "stdout",
          "text": [
            "Downloading data from https://s3.amazonaws.com/fcp-indi/data/Projects/ABIDE_Initiative/Outputs/cpac/filt_noglobal/rois_cc200/Olin_0050115_rois_cc200.1D ...\n"
          ]
        },
        {
          "output_type": "stream",
          "name": "stderr",
          "text": [
            " ...done. (0 seconds, 0 min)\n"
          ]
        },
        {
          "output_type": "stream",
          "name": "stdout",
          "text": [
            "Downloading data from https://s3.amazonaws.com/fcp-indi/data/Projects/ABIDE_Initiative/Outputs/cpac/filt_noglobal/rois_cc200/Olin_0050116_rois_cc200.1D ...\n"
          ]
        },
        {
          "output_type": "stream",
          "name": "stderr",
          "text": [
            " ...done. (0 seconds, 0 min)\n"
          ]
        },
        {
          "output_type": "stream",
          "name": "stdout",
          "text": [
            "Downloading data from https://s3.amazonaws.com/fcp-indi/data/Projects/ABIDE_Initiative/Outputs/cpac/filt_noglobal/rois_cc200/Olin_0050117_rois_cc200.1D ...\n"
          ]
        },
        {
          "output_type": "stream",
          "name": "stderr",
          "text": [
            " ...done. (0 seconds, 0 min)\n"
          ]
        },
        {
          "output_type": "stream",
          "name": "stdout",
          "text": [
            "Downloading data from https://s3.amazonaws.com/fcp-indi/data/Projects/ABIDE_Initiative/Outputs/cpac/filt_noglobal/rois_cc200/Olin_0050118_rois_cc200.1D ...\n"
          ]
        },
        {
          "output_type": "stream",
          "name": "stderr",
          "text": [
            " ...done. (0 seconds, 0 min)\n"
          ]
        },
        {
          "output_type": "stream",
          "name": "stdout",
          "text": [
            "Downloading data from https://s3.amazonaws.com/fcp-indi/data/Projects/ABIDE_Initiative/Outputs/cpac/filt_noglobal/rois_cc200/Olin_0050119_rois_cc200.1D ...\n"
          ]
        },
        {
          "output_type": "stream",
          "name": "stderr",
          "text": [
            " ...done. (0 seconds, 0 min)\n"
          ]
        },
        {
          "output_type": "stream",
          "name": "stdout",
          "text": [
            "Downloading data from https://s3.amazonaws.com/fcp-indi/data/Projects/ABIDE_Initiative/Outputs/cpac/filt_noglobal/rois_cc200/Olin_0050120_rois_cc200.1D ...\n"
          ]
        },
        {
          "output_type": "stream",
          "name": "stderr",
          "text": [
            " ...done. (0 seconds, 0 min)\n"
          ]
        },
        {
          "output_type": "stream",
          "name": "stdout",
          "text": [
            "Downloading data from https://s3.amazonaws.com/fcp-indi/data/Projects/ABIDE_Initiative/Outputs/cpac/filt_noglobal/rois_cc200/Olin_0050121_rois_cc200.1D ...\n"
          ]
        },
        {
          "output_type": "stream",
          "name": "stderr",
          "text": [
            " ...done. (0 seconds, 0 min)\n"
          ]
        },
        {
          "output_type": "stream",
          "name": "stdout",
          "text": [
            "Downloading data from https://s3.amazonaws.com/fcp-indi/data/Projects/ABIDE_Initiative/Outputs/cpac/filt_noglobal/rois_cc200/Olin_0050122_rois_cc200.1D ...\n"
          ]
        },
        {
          "output_type": "stream",
          "name": "stderr",
          "text": [
            " ...done. (0 seconds, 0 min)\n"
          ]
        },
        {
          "output_type": "stream",
          "name": "stdout",
          "text": [
            "Downloading data from https://s3.amazonaws.com/fcp-indi/data/Projects/ABIDE_Initiative/Outputs/cpac/filt_noglobal/rois_cc200/Olin_0050123_rois_cc200.1D ...\n"
          ]
        },
        {
          "output_type": "stream",
          "name": "stderr",
          "text": [
            " ...done. (0 seconds, 0 min)\n"
          ]
        },
        {
          "output_type": "stream",
          "name": "stdout",
          "text": [
            "Downloading data from https://s3.amazonaws.com/fcp-indi/data/Projects/ABIDE_Initiative/Outputs/cpac/filt_noglobal/rois_cc200/Olin_0050124_rois_cc200.1D ...\n"
          ]
        },
        {
          "output_type": "stream",
          "name": "stderr",
          "text": [
            " ...done. (0 seconds, 0 min)\n"
          ]
        },
        {
          "output_type": "stream",
          "name": "stdout",
          "text": [
            "Downloading data from https://s3.amazonaws.com/fcp-indi/data/Projects/ABIDE_Initiative/Outputs/cpac/filt_noglobal/rois_cc200/Olin_0050125_rois_cc200.1D ...\n"
          ]
        },
        {
          "output_type": "stream",
          "name": "stderr",
          "text": [
            " ...done. (0 seconds, 0 min)\n"
          ]
        },
        {
          "output_type": "stream",
          "name": "stdout",
          "text": [
            "Downloading data from https://s3.amazonaws.com/fcp-indi/data/Projects/ABIDE_Initiative/Outputs/cpac/filt_noglobal/rois_cc200/Olin_0050126_rois_cc200.1D ...\n"
          ]
        },
        {
          "output_type": "stream",
          "name": "stderr",
          "text": [
            " ...done. (0 seconds, 0 min)\n"
          ]
        },
        {
          "output_type": "stream",
          "name": "stdout",
          "text": [
            "Downloading data from https://s3.amazonaws.com/fcp-indi/data/Projects/ABIDE_Initiative/Outputs/cpac/filt_noglobal/rois_cc200/Olin_0050127_rois_cc200.1D ...\n"
          ]
        },
        {
          "output_type": "stream",
          "name": "stderr",
          "text": [
            " ...done. (0 seconds, 0 min)\n"
          ]
        },
        {
          "output_type": "stream",
          "name": "stdout",
          "text": [
            "Downloading data from https://s3.amazonaws.com/fcp-indi/data/Projects/ABIDE_Initiative/Outputs/cpac/filt_noglobal/rois_cc200/Olin_0050128_rois_cc200.1D ...\n"
          ]
        },
        {
          "output_type": "stream",
          "name": "stderr",
          "text": [
            " ...done. (0 seconds, 0 min)\n"
          ]
        },
        {
          "output_type": "stream",
          "name": "stdout",
          "text": [
            "Downloading data from https://s3.amazonaws.com/fcp-indi/data/Projects/ABIDE_Initiative/Outputs/cpac/filt_noglobal/rois_cc200/Olin_0050129_rois_cc200.1D ...\n"
          ]
        },
        {
          "output_type": "stream",
          "name": "stderr",
          "text": [
            " ...done. (0 seconds, 0 min)\n"
          ]
        },
        {
          "output_type": "stream",
          "name": "stdout",
          "text": [
            "Downloading data from https://s3.amazonaws.com/fcp-indi/data/Projects/ABIDE_Initiative/Outputs/cpac/filt_noglobal/rois_cc200/Olin_0050130_rois_cc200.1D ...\n"
          ]
        },
        {
          "output_type": "stream",
          "name": "stderr",
          "text": [
            " ...done. (0 seconds, 0 min)\n"
          ]
        },
        {
          "output_type": "stream",
          "name": "stdout",
          "text": [
            "Downloading data from https://s3.amazonaws.com/fcp-indi/data/Projects/ABIDE_Initiative/Outputs/cpac/filt_noglobal/rois_cc200/Olin_0050131_rois_cc200.1D ...\n"
          ]
        },
        {
          "output_type": "stream",
          "name": "stderr",
          "text": [
            " ...done. (0 seconds, 0 min)\n"
          ]
        },
        {
          "output_type": "stream",
          "name": "stdout",
          "text": [
            "Downloading data from https://s3.amazonaws.com/fcp-indi/data/Projects/ABIDE_Initiative/Outputs/cpac/filt_noglobal/rois_cc200/Olin_0050132_rois_cc200.1D ...\n"
          ]
        },
        {
          "output_type": "stream",
          "name": "stderr",
          "text": [
            " ...done. (0 seconds, 0 min)\n"
          ]
        },
        {
          "output_type": "stream",
          "name": "stdout",
          "text": [
            "Downloading data from https://s3.amazonaws.com/fcp-indi/data/Projects/ABIDE_Initiative/Outputs/cpac/filt_noglobal/rois_cc200/Olin_0050133_rois_cc200.1D ...\n"
          ]
        },
        {
          "output_type": "stream",
          "name": "stderr",
          "text": [
            " ...done. (0 seconds, 0 min)\n"
          ]
        },
        {
          "output_type": "stream",
          "name": "stdout",
          "text": [
            "Downloading data from https://s3.amazonaws.com/fcp-indi/data/Projects/ABIDE_Initiative/Outputs/cpac/filt_noglobal/rois_cc200/Olin_0050134_rois_cc200.1D ...\n"
          ]
        },
        {
          "output_type": "stream",
          "name": "stderr",
          "text": [
            " ...done. (0 seconds, 0 min)\n"
          ]
        },
        {
          "output_type": "stream",
          "name": "stdout",
          "text": [
            "Downloading data from https://s3.amazonaws.com/fcp-indi/data/Projects/ABIDE_Initiative/Outputs/cpac/filt_noglobal/rois_cc200/Olin_0050135_rois_cc200.1D ...\n"
          ]
        },
        {
          "output_type": "stream",
          "name": "stderr",
          "text": [
            " ...done. (0 seconds, 0 min)\n"
          ]
        },
        {
          "output_type": "stream",
          "name": "stdout",
          "text": [
            "Downloading data from https://s3.amazonaws.com/fcp-indi/data/Projects/ABIDE_Initiative/Outputs/cpac/filt_noglobal/rois_cc200/Olin_0050136_rois_cc200.1D ...\n"
          ]
        },
        {
          "output_type": "stream",
          "name": "stderr",
          "text": [
            " ...done. (0 seconds, 0 min)\n"
          ]
        },
        {
          "output_type": "stream",
          "name": "stdout",
          "text": [
            "Downloading data from https://s3.amazonaws.com/fcp-indi/data/Projects/ABIDE_Initiative/Outputs/cpac/filt_noglobal/rois_cc200/OHSU_0050142_rois_cc200.1D ...\n"
          ]
        },
        {
          "output_type": "stream",
          "name": "stderr",
          "text": [
            " ...done. (0 seconds, 0 min)\n"
          ]
        },
        {
          "output_type": "stream",
          "name": "stdout",
          "text": [
            "Downloading data from https://s3.amazonaws.com/fcp-indi/data/Projects/ABIDE_Initiative/Outputs/cpac/filt_noglobal/rois_cc200/OHSU_0050143_rois_cc200.1D ...\n"
          ]
        },
        {
          "output_type": "stream",
          "name": "stderr",
          "text": [
            " ...done. (0 seconds, 0 min)\n"
          ]
        },
        {
          "output_type": "stream",
          "name": "stdout",
          "text": [
            "Downloading data from https://s3.amazonaws.com/fcp-indi/data/Projects/ABIDE_Initiative/Outputs/cpac/filt_noglobal/rois_cc200/OHSU_0050144_rois_cc200.1D ...\n"
          ]
        },
        {
          "output_type": "stream",
          "name": "stderr",
          "text": [
            " ...done. (0 seconds, 0 min)\n"
          ]
        },
        {
          "output_type": "stream",
          "name": "stdout",
          "text": [
            "Downloading data from https://s3.amazonaws.com/fcp-indi/data/Projects/ABIDE_Initiative/Outputs/cpac/filt_noglobal/rois_cc200/OHSU_0050145_rois_cc200.1D ...\n"
          ]
        },
        {
          "output_type": "stream",
          "name": "stderr",
          "text": [
            " ...done. (0 seconds, 0 min)\n"
          ]
        },
        {
          "output_type": "stream",
          "name": "stdout",
          "text": [
            "Downloading data from https://s3.amazonaws.com/fcp-indi/data/Projects/ABIDE_Initiative/Outputs/cpac/filt_noglobal/rois_cc200/OHSU_0050146_rois_cc200.1D ...\n"
          ]
        },
        {
          "output_type": "stream",
          "name": "stderr",
          "text": [
            " ...done. (0 seconds, 0 min)\n"
          ]
        },
        {
          "output_type": "stream",
          "name": "stdout",
          "text": [
            "Downloading data from https://s3.amazonaws.com/fcp-indi/data/Projects/ABIDE_Initiative/Outputs/cpac/filt_noglobal/rois_cc200/OHSU_0050147_rois_cc200.1D ...\n"
          ]
        },
        {
          "output_type": "stream",
          "name": "stderr",
          "text": [
            " ...done. (0 seconds, 0 min)\n"
          ]
        },
        {
          "output_type": "stream",
          "name": "stdout",
          "text": [
            "Downloading data from https://s3.amazonaws.com/fcp-indi/data/Projects/ABIDE_Initiative/Outputs/cpac/filt_noglobal/rois_cc200/OHSU_0050148_rois_cc200.1D ...\n"
          ]
        },
        {
          "output_type": "stream",
          "name": "stderr",
          "text": [
            " ...done. (0 seconds, 0 min)\n"
          ]
        },
        {
          "output_type": "stream",
          "name": "stdout",
          "text": [
            "Downloading data from https://s3.amazonaws.com/fcp-indi/data/Projects/ABIDE_Initiative/Outputs/cpac/filt_noglobal/rois_cc200/OHSU_0050149_rois_cc200.1D ...\n"
          ]
        },
        {
          "output_type": "stream",
          "name": "stderr",
          "text": [
            " ...done. (0 seconds, 0 min)\n"
          ]
        },
        {
          "output_type": "stream",
          "name": "stdout",
          "text": [
            "Downloading data from https://s3.amazonaws.com/fcp-indi/data/Projects/ABIDE_Initiative/Outputs/cpac/filt_noglobal/rois_cc200/OHSU_0050150_rois_cc200.1D ...\n"
          ]
        },
        {
          "output_type": "stream",
          "name": "stderr",
          "text": [
            " ...done. (0 seconds, 0 min)\n"
          ]
        },
        {
          "output_type": "stream",
          "name": "stdout",
          "text": [
            "Downloading data from https://s3.amazonaws.com/fcp-indi/data/Projects/ABIDE_Initiative/Outputs/cpac/filt_noglobal/rois_cc200/OHSU_0050152_rois_cc200.1D ...\n"
          ]
        },
        {
          "output_type": "stream",
          "name": "stderr",
          "text": [
            " ...done. (0 seconds, 0 min)\n"
          ]
        },
        {
          "output_type": "stream",
          "name": "stdout",
          "text": [
            "Downloading data from https://s3.amazonaws.com/fcp-indi/data/Projects/ABIDE_Initiative/Outputs/cpac/filt_noglobal/rois_cc200/OHSU_0050153_rois_cc200.1D ...\n"
          ]
        },
        {
          "output_type": "stream",
          "name": "stderr",
          "text": [
            " ...done. (0 seconds, 0 min)\n"
          ]
        },
        {
          "output_type": "stream",
          "name": "stdout",
          "text": [
            "Downloading data from https://s3.amazonaws.com/fcp-indi/data/Projects/ABIDE_Initiative/Outputs/cpac/filt_noglobal/rois_cc200/OHSU_0050156_rois_cc200.1D ...\n"
          ]
        },
        {
          "output_type": "stream",
          "name": "stderr",
          "text": [
            " ...done. (0 seconds, 0 min)\n"
          ]
        },
        {
          "output_type": "stream",
          "name": "stdout",
          "text": [
            "Downloading data from https://s3.amazonaws.com/fcp-indi/data/Projects/ABIDE_Initiative/Outputs/cpac/filt_noglobal/rois_cc200/OHSU_0050157_rois_cc200.1D ...\n"
          ]
        },
        {
          "output_type": "stream",
          "name": "stderr",
          "text": [
            " ...done. (0 seconds, 0 min)\n"
          ]
        },
        {
          "output_type": "stream",
          "name": "stdout",
          "text": [
            "Downloading data from https://s3.amazonaws.com/fcp-indi/data/Projects/ABIDE_Initiative/Outputs/cpac/filt_noglobal/rois_cc200/OHSU_0050158_rois_cc200.1D ...\n"
          ]
        },
        {
          "output_type": "stream",
          "name": "stderr",
          "text": [
            " ...done. (0 seconds, 0 min)\n"
          ]
        },
        {
          "output_type": "stream",
          "name": "stdout",
          "text": [
            "Downloading data from https://s3.amazonaws.com/fcp-indi/data/Projects/ABIDE_Initiative/Outputs/cpac/filt_noglobal/rois_cc200/OHSU_0050159_rois_cc200.1D ...\n"
          ]
        },
        {
          "output_type": "stream",
          "name": "stderr",
          "text": [
            " ...done. (0 seconds, 0 min)\n"
          ]
        },
        {
          "output_type": "stream",
          "name": "stdout",
          "text": [
            "Downloading data from https://s3.amazonaws.com/fcp-indi/data/Projects/ABIDE_Initiative/Outputs/cpac/filt_noglobal/rois_cc200/OHSU_0050160_rois_cc200.1D ...\n"
          ]
        },
        {
          "output_type": "stream",
          "name": "stderr",
          "text": [
            " ...done. (0 seconds, 0 min)\n"
          ]
        },
        {
          "output_type": "stream",
          "name": "stdout",
          "text": [
            "Downloading data from https://s3.amazonaws.com/fcp-indi/data/Projects/ABIDE_Initiative/Outputs/cpac/filt_noglobal/rois_cc200/OHSU_0050161_rois_cc200.1D ...\n"
          ]
        },
        {
          "output_type": "stream",
          "name": "stderr",
          "text": [
            " ...done. (0 seconds, 0 min)\n"
          ]
        },
        {
          "output_type": "stream",
          "name": "stdout",
          "text": [
            "Downloading data from https://s3.amazonaws.com/fcp-indi/data/Projects/ABIDE_Initiative/Outputs/cpac/filt_noglobal/rois_cc200/OHSU_0050162_rois_cc200.1D ...\n"
          ]
        },
        {
          "output_type": "stream",
          "name": "stderr",
          "text": [
            " ...done. (0 seconds, 0 min)\n"
          ]
        },
        {
          "output_type": "stream",
          "name": "stdout",
          "text": [
            "Downloading data from https://s3.amazonaws.com/fcp-indi/data/Projects/ABIDE_Initiative/Outputs/cpac/filt_noglobal/rois_cc200/OHSU_0050163_rois_cc200.1D ...\n"
          ]
        },
        {
          "output_type": "stream",
          "name": "stderr",
          "text": [
            " ...done. (0 seconds, 0 min)\n"
          ]
        },
        {
          "output_type": "stream",
          "name": "stdout",
          "text": [
            "Downloading data from https://s3.amazonaws.com/fcp-indi/data/Projects/ABIDE_Initiative/Outputs/cpac/filt_noglobal/rois_cc200/OHSU_0050164_rois_cc200.1D ...\n"
          ]
        },
        {
          "output_type": "stream",
          "name": "stderr",
          "text": [
            " ...done. (0 seconds, 0 min)\n"
          ]
        },
        {
          "output_type": "stream",
          "name": "stdout",
          "text": [
            "Downloading data from https://s3.amazonaws.com/fcp-indi/data/Projects/ABIDE_Initiative/Outputs/cpac/filt_noglobal/rois_cc200/OHSU_0050166_rois_cc200.1D ...\n"
          ]
        },
        {
          "output_type": "stream",
          "name": "stderr",
          "text": [
            " ...done. (0 seconds, 0 min)\n"
          ]
        },
        {
          "output_type": "stream",
          "name": "stdout",
          "text": [
            "Downloading data from https://s3.amazonaws.com/fcp-indi/data/Projects/ABIDE_Initiative/Outputs/cpac/filt_noglobal/rois_cc200/OHSU_0050167_rois_cc200.1D ...\n"
          ]
        },
        {
          "output_type": "stream",
          "name": "stderr",
          "text": [
            " ...done. (0 seconds, 0 min)\n"
          ]
        },
        {
          "output_type": "stream",
          "name": "stdout",
          "text": [
            "Downloading data from https://s3.amazonaws.com/fcp-indi/data/Projects/ABIDE_Initiative/Outputs/cpac/filt_noglobal/rois_cc200/OHSU_0050168_rois_cc200.1D ...\n"
          ]
        },
        {
          "output_type": "stream",
          "name": "stderr",
          "text": [
            " ...done. (0 seconds, 0 min)\n"
          ]
        },
        {
          "output_type": "stream",
          "name": "stdout",
          "text": [
            "Downloading data from https://s3.amazonaws.com/fcp-indi/data/Projects/ABIDE_Initiative/Outputs/cpac/filt_noglobal/rois_cc200/OHSU_0050169_rois_cc200.1D ...\n"
          ]
        },
        {
          "output_type": "stream",
          "name": "stderr",
          "text": [
            " ...done. (0 seconds, 0 min)\n"
          ]
        },
        {
          "output_type": "stream",
          "name": "stdout",
          "text": [
            "Downloading data from https://s3.amazonaws.com/fcp-indi/data/Projects/ABIDE_Initiative/Outputs/cpac/filt_noglobal/rois_cc200/OHSU_0050170_rois_cc200.1D ...\n"
          ]
        },
        {
          "output_type": "stream",
          "name": "stderr",
          "text": [
            " ...done. (0 seconds, 0 min)\n"
          ]
        },
        {
          "output_type": "stream",
          "name": "stdout",
          "text": [
            "Downloading data from https://s3.amazonaws.com/fcp-indi/data/Projects/ABIDE_Initiative/Outputs/cpac/filt_noglobal/rois_cc200/OHSU_0050171_rois_cc200.1D ...\n"
          ]
        },
        {
          "output_type": "stream",
          "name": "stderr",
          "text": [
            " ...done. (0 seconds, 0 min)\n"
          ]
        },
        {
          "output_type": "stream",
          "name": "stdout",
          "text": [
            "Downloading data from https://s3.amazonaws.com/fcp-indi/data/Projects/ABIDE_Initiative/Outputs/cpac/filt_noglobal/rois_cc200/SDSU_0050182_rois_cc200.1D ...\n"
          ]
        },
        {
          "output_type": "stream",
          "name": "stderr",
          "text": [
            " ...done. (0 seconds, 0 min)\n"
          ]
        },
        {
          "output_type": "stream",
          "name": "stdout",
          "text": [
            "Downloading data from https://s3.amazonaws.com/fcp-indi/data/Projects/ABIDE_Initiative/Outputs/cpac/filt_noglobal/rois_cc200/SDSU_0050183_rois_cc200.1D ...\n"
          ]
        },
        {
          "output_type": "stream",
          "name": "stderr",
          "text": [
            " ...done. (0 seconds, 0 min)\n"
          ]
        },
        {
          "output_type": "stream",
          "name": "stdout",
          "text": [
            "Downloading data from https://s3.amazonaws.com/fcp-indi/data/Projects/ABIDE_Initiative/Outputs/cpac/filt_noglobal/rois_cc200/SDSU_0050184_rois_cc200.1D ...\n"
          ]
        },
        {
          "output_type": "stream",
          "name": "stderr",
          "text": [
            " ...done. (0 seconds, 0 min)\n"
          ]
        },
        {
          "output_type": "stream",
          "name": "stdout",
          "text": [
            "Downloading data from https://s3.amazonaws.com/fcp-indi/data/Projects/ABIDE_Initiative/Outputs/cpac/filt_noglobal/rois_cc200/SDSU_0050185_rois_cc200.1D ...\n"
          ]
        },
        {
          "output_type": "stream",
          "name": "stderr",
          "text": [
            " ...done. (0 seconds, 0 min)\n"
          ]
        },
        {
          "output_type": "stream",
          "name": "stdout",
          "text": [
            "Downloading data from https://s3.amazonaws.com/fcp-indi/data/Projects/ABIDE_Initiative/Outputs/cpac/filt_noglobal/rois_cc200/SDSU_0050186_rois_cc200.1D ...\n"
          ]
        },
        {
          "output_type": "stream",
          "name": "stderr",
          "text": [
            " ...done. (0 seconds, 0 min)\n"
          ]
        },
        {
          "output_type": "stream",
          "name": "stdout",
          "text": [
            "Downloading data from https://s3.amazonaws.com/fcp-indi/data/Projects/ABIDE_Initiative/Outputs/cpac/filt_noglobal/rois_cc200/SDSU_0050187_rois_cc200.1D ...\n"
          ]
        },
        {
          "output_type": "stream",
          "name": "stderr",
          "text": [
            " ...done. (0 seconds, 0 min)\n"
          ]
        },
        {
          "output_type": "stream",
          "name": "stdout",
          "text": [
            "Downloading data from https://s3.amazonaws.com/fcp-indi/data/Projects/ABIDE_Initiative/Outputs/cpac/filt_noglobal/rois_cc200/SDSU_0050188_rois_cc200.1D ...\n"
          ]
        },
        {
          "output_type": "stream",
          "name": "stderr",
          "text": [
            " ...done. (0 seconds, 0 min)\n"
          ]
        },
        {
          "output_type": "stream",
          "name": "stdout",
          "text": [
            "Downloading data from https://s3.amazonaws.com/fcp-indi/data/Projects/ABIDE_Initiative/Outputs/cpac/filt_noglobal/rois_cc200/SDSU_0050189_rois_cc200.1D ...\n"
          ]
        },
        {
          "output_type": "stream",
          "name": "stderr",
          "text": [
            " ...done. (0 seconds, 0 min)\n"
          ]
        },
        {
          "output_type": "stream",
          "name": "stdout",
          "text": [
            "Downloading data from https://s3.amazonaws.com/fcp-indi/data/Projects/ABIDE_Initiative/Outputs/cpac/filt_noglobal/rois_cc200/SDSU_0050190_rois_cc200.1D ...\n"
          ]
        },
        {
          "output_type": "stream",
          "name": "stderr",
          "text": [
            " ...done. (0 seconds, 0 min)\n"
          ]
        },
        {
          "output_type": "stream",
          "name": "stdout",
          "text": [
            "Downloading data from https://s3.amazonaws.com/fcp-indi/data/Projects/ABIDE_Initiative/Outputs/cpac/filt_noglobal/rois_cc200/SDSU_0050191_rois_cc200.1D ...\n"
          ]
        },
        {
          "output_type": "stream",
          "name": "stderr",
          "text": [
            " ...done. (0 seconds, 0 min)\n"
          ]
        },
        {
          "output_type": "stream",
          "name": "stdout",
          "text": [
            "Downloading data from https://s3.amazonaws.com/fcp-indi/data/Projects/ABIDE_Initiative/Outputs/cpac/filt_noglobal/rois_cc200/SDSU_0050192_rois_cc200.1D ...\n"
          ]
        },
        {
          "output_type": "stream",
          "name": "stderr",
          "text": [
            " ...done. (0 seconds, 0 min)\n"
          ]
        },
        {
          "output_type": "stream",
          "name": "stdout",
          "text": [
            "Downloading data from https://s3.amazonaws.com/fcp-indi/data/Projects/ABIDE_Initiative/Outputs/cpac/filt_noglobal/rois_cc200/SDSU_0050193_rois_cc200.1D ...\n"
          ]
        },
        {
          "output_type": "stream",
          "name": "stderr",
          "text": [
            " ...done. (0 seconds, 0 min)\n"
          ]
        },
        {
          "output_type": "stream",
          "name": "stdout",
          "text": [
            "Downloading data from https://s3.amazonaws.com/fcp-indi/data/Projects/ABIDE_Initiative/Outputs/cpac/filt_noglobal/rois_cc200/SDSU_0050194_rois_cc200.1D ...\n"
          ]
        },
        {
          "output_type": "stream",
          "name": "stderr",
          "text": [
            " ...done. (0 seconds, 0 min)\n"
          ]
        },
        {
          "output_type": "stream",
          "name": "stdout",
          "text": [
            "Downloading data from https://s3.amazonaws.com/fcp-indi/data/Projects/ABIDE_Initiative/Outputs/cpac/filt_noglobal/rois_cc200/SDSU_0050195_rois_cc200.1D ...\n"
          ]
        },
        {
          "output_type": "stream",
          "name": "stderr",
          "text": [
            " ...done. (0 seconds, 0 min)\n"
          ]
        },
        {
          "output_type": "stream",
          "name": "stdout",
          "text": [
            "Downloading data from https://s3.amazonaws.com/fcp-indi/data/Projects/ABIDE_Initiative/Outputs/cpac/filt_noglobal/rois_cc200/SDSU_0050196_rois_cc200.1D ...\n"
          ]
        },
        {
          "output_type": "stream",
          "name": "stderr",
          "text": [
            " ...done. (0 seconds, 0 min)\n"
          ]
        },
        {
          "output_type": "stream",
          "name": "stdout",
          "text": [
            "Downloading data from https://s3.amazonaws.com/fcp-indi/data/Projects/ABIDE_Initiative/Outputs/cpac/filt_noglobal/rois_cc200/SDSU_0050197_rois_cc200.1D ...\n"
          ]
        },
        {
          "output_type": "stream",
          "name": "stderr",
          "text": [
            " ...done. (0 seconds, 0 min)\n"
          ]
        },
        {
          "output_type": "stream",
          "name": "stdout",
          "text": [
            "Downloading data from https://s3.amazonaws.com/fcp-indi/data/Projects/ABIDE_Initiative/Outputs/cpac/filt_noglobal/rois_cc200/SDSU_0050198_rois_cc200.1D ...\n"
          ]
        },
        {
          "output_type": "stream",
          "name": "stderr",
          "text": [
            " ...done. (0 seconds, 0 min)\n"
          ]
        },
        {
          "output_type": "stream",
          "name": "stdout",
          "text": [
            "Downloading data from https://s3.amazonaws.com/fcp-indi/data/Projects/ABIDE_Initiative/Outputs/cpac/filt_noglobal/rois_cc200/SDSU_0050199_rois_cc200.1D ...\n"
          ]
        },
        {
          "output_type": "stream",
          "name": "stderr",
          "text": [
            " ...done. (0 seconds, 0 min)\n"
          ]
        },
        {
          "output_type": "stream",
          "name": "stdout",
          "text": [
            "Downloading data from https://s3.amazonaws.com/fcp-indi/data/Projects/ABIDE_Initiative/Outputs/cpac/filt_noglobal/rois_cc200/SDSU_0050200_rois_cc200.1D ...\n"
          ]
        },
        {
          "output_type": "stream",
          "name": "stderr",
          "text": [
            " ...done. (0 seconds, 0 min)\n"
          ]
        },
        {
          "output_type": "stream",
          "name": "stdout",
          "text": [
            "Downloading data from https://s3.amazonaws.com/fcp-indi/data/Projects/ABIDE_Initiative/Outputs/cpac/filt_noglobal/rois_cc200/SDSU_0050201_rois_cc200.1D ...\n"
          ]
        },
        {
          "output_type": "stream",
          "name": "stderr",
          "text": [
            " ...done. (0 seconds, 0 min)\n"
          ]
        },
        {
          "output_type": "stream",
          "name": "stdout",
          "text": [
            "Downloading data from https://s3.amazonaws.com/fcp-indi/data/Projects/ABIDE_Initiative/Outputs/cpac/filt_noglobal/rois_cc200/SDSU_0050202_rois_cc200.1D ...\n"
          ]
        },
        {
          "output_type": "stream",
          "name": "stderr",
          "text": [
            " ...done. (0 seconds, 0 min)\n"
          ]
        },
        {
          "output_type": "stream",
          "name": "stdout",
          "text": [
            "Downloading data from https://s3.amazonaws.com/fcp-indi/data/Projects/ABIDE_Initiative/Outputs/cpac/filt_noglobal/rois_cc200/SDSU_0050203_rois_cc200.1D ...\n"
          ]
        },
        {
          "output_type": "stream",
          "name": "stderr",
          "text": [
            " ...done. (0 seconds, 0 min)\n"
          ]
        },
        {
          "output_type": "stream",
          "name": "stdout",
          "text": [
            "Downloading data from https://s3.amazonaws.com/fcp-indi/data/Projects/ABIDE_Initiative/Outputs/cpac/filt_noglobal/rois_cc200/SDSU_0050204_rois_cc200.1D ...\n"
          ]
        },
        {
          "output_type": "stream",
          "name": "stderr",
          "text": [
            " ...done. (0 seconds, 0 min)\n"
          ]
        },
        {
          "output_type": "stream",
          "name": "stdout",
          "text": [
            "Downloading data from https://s3.amazonaws.com/fcp-indi/data/Projects/ABIDE_Initiative/Outputs/cpac/filt_noglobal/rois_cc200/SDSU_0050205_rois_cc200.1D ...\n"
          ]
        },
        {
          "output_type": "stream",
          "name": "stderr",
          "text": [
            " ...done. (0 seconds, 0 min)\n"
          ]
        },
        {
          "output_type": "stream",
          "name": "stdout",
          "text": [
            "Downloading data from https://s3.amazonaws.com/fcp-indi/data/Projects/ABIDE_Initiative/Outputs/cpac/filt_noglobal/rois_cc200/SDSU_0050206_rois_cc200.1D ...\n"
          ]
        },
        {
          "output_type": "stream",
          "name": "stderr",
          "text": [
            " ...done. (0 seconds, 0 min)\n"
          ]
        },
        {
          "output_type": "stream",
          "name": "stdout",
          "text": [
            "Downloading data from https://s3.amazonaws.com/fcp-indi/data/Projects/ABIDE_Initiative/Outputs/cpac/filt_noglobal/rois_cc200/SDSU_0050207_rois_cc200.1D ...\n"
          ]
        },
        {
          "output_type": "stream",
          "name": "stderr",
          "text": [
            " ...done. (0 seconds, 0 min)\n"
          ]
        },
        {
          "output_type": "stream",
          "name": "stdout",
          "text": [
            "Downloading data from https://s3.amazonaws.com/fcp-indi/data/Projects/ABIDE_Initiative/Outputs/cpac/filt_noglobal/rois_cc200/SDSU_0050208_rois_cc200.1D ...\n"
          ]
        },
        {
          "output_type": "stream",
          "name": "stderr",
          "text": [
            " ...done. (0 seconds, 0 min)\n"
          ]
        },
        {
          "output_type": "stream",
          "name": "stdout",
          "text": [
            "Downloading data from https://s3.amazonaws.com/fcp-indi/data/Projects/ABIDE_Initiative/Outputs/cpac/filt_noglobal/rois_cc200/SDSU_0050209_rois_cc200.1D ...\n"
          ]
        },
        {
          "output_type": "stream",
          "name": "stderr",
          "text": [
            " ...done. (0 seconds, 0 min)\n"
          ]
        },
        {
          "output_type": "stream",
          "name": "stdout",
          "text": [
            "Downloading data from https://s3.amazonaws.com/fcp-indi/data/Projects/ABIDE_Initiative/Outputs/cpac/filt_noglobal/rois_cc200/SDSU_0050210_rois_cc200.1D ...\n"
          ]
        },
        {
          "output_type": "stream",
          "name": "stderr",
          "text": [
            " ...done. (0 seconds, 0 min)\n"
          ]
        },
        {
          "output_type": "stream",
          "name": "stdout",
          "text": [
            "Downloading data from https://s3.amazonaws.com/fcp-indi/data/Projects/ABIDE_Initiative/Outputs/cpac/filt_noglobal/rois_cc200/SDSU_0050211_rois_cc200.1D ...\n"
          ]
        },
        {
          "output_type": "stream",
          "name": "stderr",
          "text": [
            " ...done. (0 seconds, 0 min)\n"
          ]
        },
        {
          "output_type": "stream",
          "name": "stdout",
          "text": [
            "Downloading data from https://s3.amazonaws.com/fcp-indi/data/Projects/ABIDE_Initiative/Outputs/cpac/filt_noglobal/rois_cc200/SDSU_0050212_rois_cc200.1D ...\n"
          ]
        },
        {
          "output_type": "stream",
          "name": "stderr",
          "text": [
            " ...done. (0 seconds, 0 min)\n"
          ]
        },
        {
          "output_type": "stream",
          "name": "stdout",
          "text": [
            "Downloading data from https://s3.amazonaws.com/fcp-indi/data/Projects/ABIDE_Initiative/Outputs/cpac/filt_noglobal/rois_cc200/SDSU_0050213_rois_cc200.1D ...\n"
          ]
        },
        {
          "output_type": "stream",
          "name": "stderr",
          "text": [
            " ...done. (0 seconds, 0 min)\n"
          ]
        },
        {
          "output_type": "stream",
          "name": "stdout",
          "text": [
            "Downloading data from https://s3.amazonaws.com/fcp-indi/data/Projects/ABIDE_Initiative/Outputs/cpac/filt_noglobal/rois_cc200/SDSU_0050214_rois_cc200.1D ...\n"
          ]
        },
        {
          "output_type": "stream",
          "name": "stderr",
          "text": [
            " ...done. (0 seconds, 0 min)\n"
          ]
        },
        {
          "output_type": "stream",
          "name": "stdout",
          "text": [
            "Downloading data from https://s3.amazonaws.com/fcp-indi/data/Projects/ABIDE_Initiative/Outputs/cpac/filt_noglobal/rois_cc200/SDSU_0050215_rois_cc200.1D ...\n"
          ]
        },
        {
          "output_type": "stream",
          "name": "stderr",
          "text": [
            " ...done. (0 seconds, 0 min)\n"
          ]
        },
        {
          "output_type": "stream",
          "name": "stdout",
          "text": [
            "Downloading data from https://s3.amazonaws.com/fcp-indi/data/Projects/ABIDE_Initiative/Outputs/cpac/filt_noglobal/rois_cc200/SDSU_0050216_rois_cc200.1D ...\n"
          ]
        },
        {
          "output_type": "stream",
          "name": "stderr",
          "text": [
            " ...done. (0 seconds, 0 min)\n"
          ]
        },
        {
          "output_type": "stream",
          "name": "stdout",
          "text": [
            "Downloading data from https://s3.amazonaws.com/fcp-indi/data/Projects/ABIDE_Initiative/Outputs/cpac/filt_noglobal/rois_cc200/SDSU_0050217_rois_cc200.1D ...\n"
          ]
        },
        {
          "output_type": "stream",
          "name": "stderr",
          "text": [
            " ...done. (0 seconds, 0 min)\n"
          ]
        },
        {
          "output_type": "stream",
          "name": "stdout",
          "text": [
            "Downloading data from https://s3.amazonaws.com/fcp-indi/data/Projects/ABIDE_Initiative/Outputs/cpac/filt_noglobal/rois_cc200/Trinity_0050232_rois_cc200.1D ...\n"
          ]
        },
        {
          "output_type": "stream",
          "name": "stderr",
          "text": [
            " ...done. (0 seconds, 0 min)\n"
          ]
        },
        {
          "output_type": "stream",
          "name": "stdout",
          "text": [
            "Downloading data from https://s3.amazonaws.com/fcp-indi/data/Projects/ABIDE_Initiative/Outputs/cpac/filt_noglobal/rois_cc200/Trinity_0050233_rois_cc200.1D ...\n"
          ]
        },
        {
          "output_type": "stream",
          "name": "stderr",
          "text": [
            " ...done. (0 seconds, 0 min)\n"
          ]
        },
        {
          "output_type": "stream",
          "name": "stdout",
          "text": [
            "Downloading data from https://s3.amazonaws.com/fcp-indi/data/Projects/ABIDE_Initiative/Outputs/cpac/filt_noglobal/rois_cc200/Trinity_0050234_rois_cc200.1D ...\n"
          ]
        },
        {
          "output_type": "stream",
          "name": "stderr",
          "text": [
            " ...done. (0 seconds, 0 min)\n"
          ]
        },
        {
          "output_type": "stream",
          "name": "stdout",
          "text": [
            "Downloading data from https://s3.amazonaws.com/fcp-indi/data/Projects/ABIDE_Initiative/Outputs/cpac/filt_noglobal/rois_cc200/Trinity_0050235_rois_cc200.1D ...\n"
          ]
        },
        {
          "output_type": "stream",
          "name": "stderr",
          "text": [
            " ...done. (0 seconds, 0 min)\n"
          ]
        },
        {
          "output_type": "stream",
          "name": "stdout",
          "text": [
            "Downloading data from https://s3.amazonaws.com/fcp-indi/data/Projects/ABIDE_Initiative/Outputs/cpac/filt_noglobal/rois_cc200/Trinity_0050236_rois_cc200.1D ...\n"
          ]
        },
        {
          "output_type": "stream",
          "name": "stderr",
          "text": [
            " ...done. (0 seconds, 0 min)\n"
          ]
        },
        {
          "output_type": "stream",
          "name": "stdout",
          "text": [
            "Downloading data from https://s3.amazonaws.com/fcp-indi/data/Projects/ABIDE_Initiative/Outputs/cpac/filt_noglobal/rois_cc200/Trinity_0050237_rois_cc200.1D ...\n"
          ]
        },
        {
          "output_type": "stream",
          "name": "stderr",
          "text": [
            " ...done. (0 seconds, 0 min)\n"
          ]
        },
        {
          "output_type": "stream",
          "name": "stdout",
          "text": [
            "Downloading data from https://s3.amazonaws.com/fcp-indi/data/Projects/ABIDE_Initiative/Outputs/cpac/filt_noglobal/rois_cc200/Trinity_0050239_rois_cc200.1D ...\n"
          ]
        },
        {
          "output_type": "stream",
          "name": "stderr",
          "text": [
            " ...done. (0 seconds, 0 min)\n"
          ]
        },
        {
          "output_type": "stream",
          "name": "stdout",
          "text": [
            "Downloading data from https://s3.amazonaws.com/fcp-indi/data/Projects/ABIDE_Initiative/Outputs/cpac/filt_noglobal/rois_cc200/Trinity_0050240_rois_cc200.1D ...\n"
          ]
        },
        {
          "output_type": "stream",
          "name": "stderr",
          "text": [
            " ...done. (0 seconds, 0 min)\n"
          ]
        },
        {
          "output_type": "stream",
          "name": "stdout",
          "text": [
            "Downloading data from https://s3.amazonaws.com/fcp-indi/data/Projects/ABIDE_Initiative/Outputs/cpac/filt_noglobal/rois_cc200/Trinity_0050241_rois_cc200.1D ...\n"
          ]
        },
        {
          "output_type": "stream",
          "name": "stderr",
          "text": [
            " ...done. (0 seconds, 0 min)\n"
          ]
        },
        {
          "output_type": "stream",
          "name": "stdout",
          "text": [
            "Downloading data from https://s3.amazonaws.com/fcp-indi/data/Projects/ABIDE_Initiative/Outputs/cpac/filt_noglobal/rois_cc200/Trinity_0050242_rois_cc200.1D ...\n"
          ]
        },
        {
          "output_type": "stream",
          "name": "stderr",
          "text": [
            " ...done. (0 seconds, 0 min)\n"
          ]
        },
        {
          "output_type": "stream",
          "name": "stdout",
          "text": [
            "Downloading data from https://s3.amazonaws.com/fcp-indi/data/Projects/ABIDE_Initiative/Outputs/cpac/filt_noglobal/rois_cc200/Trinity_0050243_rois_cc200.1D ...\n"
          ]
        },
        {
          "output_type": "stream",
          "name": "stderr",
          "text": [
            " ...done. (0 seconds, 0 min)\n"
          ]
        },
        {
          "output_type": "stream",
          "name": "stdout",
          "text": [
            "Downloading data from https://s3.amazonaws.com/fcp-indi/data/Projects/ABIDE_Initiative/Outputs/cpac/filt_noglobal/rois_cc200/Trinity_0050245_rois_cc200.1D ...\n"
          ]
        },
        {
          "output_type": "stream",
          "name": "stderr",
          "text": [
            " ...done. (0 seconds, 0 min)\n"
          ]
        },
        {
          "output_type": "stream",
          "name": "stdout",
          "text": [
            "Downloading data from https://s3.amazonaws.com/fcp-indi/data/Projects/ABIDE_Initiative/Outputs/cpac/filt_noglobal/rois_cc200/Trinity_0050246_rois_cc200.1D ...\n"
          ]
        },
        {
          "output_type": "stream",
          "name": "stderr",
          "text": [
            " ...done. (0 seconds, 0 min)\n"
          ]
        },
        {
          "output_type": "stream",
          "name": "stdout",
          "text": [
            "Downloading data from https://s3.amazonaws.com/fcp-indi/data/Projects/ABIDE_Initiative/Outputs/cpac/filt_noglobal/rois_cc200/Trinity_0050247_rois_cc200.1D ...\n"
          ]
        },
        {
          "output_type": "stream",
          "name": "stderr",
          "text": [
            " ...done. (0 seconds, 0 min)\n"
          ]
        },
        {
          "output_type": "stream",
          "name": "stdout",
          "text": [
            "Downloading data from https://s3.amazonaws.com/fcp-indi/data/Projects/ABIDE_Initiative/Outputs/cpac/filt_noglobal/rois_cc200/Trinity_0050248_rois_cc200.1D ...\n"
          ]
        },
        {
          "output_type": "stream",
          "name": "stderr",
          "text": [
            " ...done. (0 seconds, 0 min)\n"
          ]
        },
        {
          "output_type": "stream",
          "name": "stdout",
          "text": [
            "Downloading data from https://s3.amazonaws.com/fcp-indi/data/Projects/ABIDE_Initiative/Outputs/cpac/filt_noglobal/rois_cc200/Trinity_0050249_rois_cc200.1D ...\n"
          ]
        },
        {
          "output_type": "stream",
          "name": "stderr",
          "text": [
            " ...done. (0 seconds, 0 min)\n"
          ]
        },
        {
          "output_type": "stream",
          "name": "stdout",
          "text": [
            "Downloading data from https://s3.amazonaws.com/fcp-indi/data/Projects/ABIDE_Initiative/Outputs/cpac/filt_noglobal/rois_cc200/Trinity_0050250_rois_cc200.1D ...\n"
          ]
        },
        {
          "output_type": "stream",
          "name": "stderr",
          "text": [
            " ...done. (0 seconds, 0 min)\n"
          ]
        },
        {
          "output_type": "stream",
          "name": "stdout",
          "text": [
            "Downloading data from https://s3.amazonaws.com/fcp-indi/data/Projects/ABIDE_Initiative/Outputs/cpac/filt_noglobal/rois_cc200/Trinity_0050251_rois_cc200.1D ...\n"
          ]
        },
        {
          "output_type": "stream",
          "name": "stderr",
          "text": [
            " ...done. (0 seconds, 0 min)\n"
          ]
        },
        {
          "output_type": "stream",
          "name": "stdout",
          "text": [
            "Downloading data from https://s3.amazonaws.com/fcp-indi/data/Projects/ABIDE_Initiative/Outputs/cpac/filt_noglobal/rois_cc200/Trinity_0050252_rois_cc200.1D ...\n"
          ]
        },
        {
          "output_type": "stream",
          "name": "stderr",
          "text": [
            " ...done. (0 seconds, 0 min)\n"
          ]
        },
        {
          "output_type": "stream",
          "name": "stdout",
          "text": [
            "Downloading data from https://s3.amazonaws.com/fcp-indi/data/Projects/ABIDE_Initiative/Outputs/cpac/filt_noglobal/rois_cc200/Trinity_0050253_rois_cc200.1D ...\n"
          ]
        },
        {
          "output_type": "stream",
          "name": "stderr",
          "text": [
            " ...done. (0 seconds, 0 min)\n"
          ]
        },
        {
          "output_type": "stream",
          "name": "stdout",
          "text": [
            "Downloading data from https://s3.amazonaws.com/fcp-indi/data/Projects/ABIDE_Initiative/Outputs/cpac/filt_noglobal/rois_cc200/Trinity_0050254_rois_cc200.1D ...\n"
          ]
        },
        {
          "output_type": "stream",
          "name": "stderr",
          "text": [
            " ...done. (0 seconds, 0 min)\n"
          ]
        },
        {
          "output_type": "stream",
          "name": "stdout",
          "text": [
            "Downloading data from https://s3.amazonaws.com/fcp-indi/data/Projects/ABIDE_Initiative/Outputs/cpac/filt_noglobal/rois_cc200/Trinity_0050255_rois_cc200.1D ...\n"
          ]
        },
        {
          "output_type": "stream",
          "name": "stderr",
          "text": [
            " ...done. (0 seconds, 0 min)\n"
          ]
        },
        {
          "output_type": "stream",
          "name": "stdout",
          "text": [
            "Downloading data from https://s3.amazonaws.com/fcp-indi/data/Projects/ABIDE_Initiative/Outputs/cpac/filt_noglobal/rois_cc200/Trinity_0050257_rois_cc200.1D ...\n"
          ]
        },
        {
          "output_type": "stream",
          "name": "stderr",
          "text": [
            " ...done. (0 seconds, 0 min)\n"
          ]
        },
        {
          "output_type": "stream",
          "name": "stdout",
          "text": [
            "Downloading data from https://s3.amazonaws.com/fcp-indi/data/Projects/ABIDE_Initiative/Outputs/cpac/filt_noglobal/rois_cc200/Trinity_0050259_rois_cc200.1D ...\n"
          ]
        },
        {
          "output_type": "stream",
          "name": "stderr",
          "text": [
            " ...done. (0 seconds, 0 min)\n"
          ]
        },
        {
          "output_type": "stream",
          "name": "stdout",
          "text": [
            "Downloading data from https://s3.amazonaws.com/fcp-indi/data/Projects/ABIDE_Initiative/Outputs/cpac/filt_noglobal/rois_cc200/Trinity_0050260_rois_cc200.1D ...\n"
          ]
        },
        {
          "output_type": "stream",
          "name": "stderr",
          "text": [
            " ...done. (0 seconds, 0 min)\n"
          ]
        },
        {
          "output_type": "stream",
          "name": "stdout",
          "text": [
            "Downloading data from https://s3.amazonaws.com/fcp-indi/data/Projects/ABIDE_Initiative/Outputs/cpac/filt_noglobal/rois_cc200/Trinity_0050261_rois_cc200.1D ...\n"
          ]
        },
        {
          "output_type": "stream",
          "name": "stderr",
          "text": [
            " ...done. (0 seconds, 0 min)\n"
          ]
        },
        {
          "output_type": "stream",
          "name": "stdout",
          "text": [
            "Downloading data from https://s3.amazonaws.com/fcp-indi/data/Projects/ABIDE_Initiative/Outputs/cpac/filt_noglobal/rois_cc200/Trinity_0050262_rois_cc200.1D ...\n"
          ]
        },
        {
          "output_type": "stream",
          "name": "stderr",
          "text": [
            " ...done. (0 seconds, 0 min)\n"
          ]
        },
        {
          "output_type": "stream",
          "name": "stdout",
          "text": [
            "Downloading data from https://s3.amazonaws.com/fcp-indi/data/Projects/ABIDE_Initiative/Outputs/cpac/filt_noglobal/rois_cc200/Trinity_0050263_rois_cc200.1D ...\n"
          ]
        },
        {
          "output_type": "stream",
          "name": "stderr",
          "text": [
            " ...done. (0 seconds, 0 min)\n"
          ]
        },
        {
          "output_type": "stream",
          "name": "stdout",
          "text": [
            "Downloading data from https://s3.amazonaws.com/fcp-indi/data/Projects/ABIDE_Initiative/Outputs/cpac/filt_noglobal/rois_cc200/Trinity_0050264_rois_cc200.1D ...\n"
          ]
        },
        {
          "output_type": "stream",
          "name": "stderr",
          "text": [
            " ...done. (0 seconds, 0 min)\n"
          ]
        },
        {
          "output_type": "stream",
          "name": "stdout",
          "text": [
            "Downloading data from https://s3.amazonaws.com/fcp-indi/data/Projects/ABIDE_Initiative/Outputs/cpac/filt_noglobal/rois_cc200/Trinity_0050265_rois_cc200.1D ...\n"
          ]
        },
        {
          "output_type": "stream",
          "name": "stderr",
          "text": [
            " ...done. (0 seconds, 0 min)\n"
          ]
        },
        {
          "output_type": "stream",
          "name": "stdout",
          "text": [
            "Downloading data from https://s3.amazonaws.com/fcp-indi/data/Projects/ABIDE_Initiative/Outputs/cpac/filt_noglobal/rois_cc200/Trinity_0050266_rois_cc200.1D ...\n"
          ]
        },
        {
          "output_type": "stream",
          "name": "stderr",
          "text": [
            " ...done. (0 seconds, 0 min)\n"
          ]
        },
        {
          "output_type": "stream",
          "name": "stdout",
          "text": [
            "Downloading data from https://s3.amazonaws.com/fcp-indi/data/Projects/ABIDE_Initiative/Outputs/cpac/filt_noglobal/rois_cc200/Trinity_0050267_rois_cc200.1D ...\n"
          ]
        },
        {
          "output_type": "stream",
          "name": "stderr",
          "text": [
            " ...done. (0 seconds, 0 min)\n"
          ]
        },
        {
          "output_type": "stream",
          "name": "stdout",
          "text": [
            "Downloading data from https://s3.amazonaws.com/fcp-indi/data/Projects/ABIDE_Initiative/Outputs/cpac/filt_noglobal/rois_cc200/Trinity_0050268_rois_cc200.1D ...\n"
          ]
        },
        {
          "output_type": "stream",
          "name": "stderr",
          "text": [
            " ...done. (0 seconds, 0 min)\n"
          ]
        },
        {
          "output_type": "stream",
          "name": "stdout",
          "text": [
            "Downloading data from https://s3.amazonaws.com/fcp-indi/data/Projects/ABIDE_Initiative/Outputs/cpac/filt_noglobal/rois_cc200/Trinity_0050269_rois_cc200.1D ...\n"
          ]
        },
        {
          "output_type": "stream",
          "name": "stderr",
          "text": [
            " ...done. (0 seconds, 0 min)\n"
          ]
        },
        {
          "output_type": "stream",
          "name": "stdout",
          "text": [
            "Downloading data from https://s3.amazonaws.com/fcp-indi/data/Projects/ABIDE_Initiative/Outputs/cpac/filt_noglobal/rois_cc200/Trinity_0050270_rois_cc200.1D ...\n"
          ]
        },
        {
          "output_type": "stream",
          "name": "stderr",
          "text": [
            " ...done. (0 seconds, 0 min)\n"
          ]
        },
        {
          "output_type": "stream",
          "name": "stdout",
          "text": [
            "Downloading data from https://s3.amazonaws.com/fcp-indi/data/Projects/ABIDE_Initiative/Outputs/cpac/filt_noglobal/rois_cc200/Trinity_0050271_rois_cc200.1D ...\n"
          ]
        },
        {
          "output_type": "stream",
          "name": "stderr",
          "text": [
            " ...done. (0 seconds, 0 min)\n"
          ]
        },
        {
          "output_type": "stream",
          "name": "stdout",
          "text": [
            "Downloading data from https://s3.amazonaws.com/fcp-indi/data/Projects/ABIDE_Initiative/Outputs/cpac/filt_noglobal/rois_cc200/UM_1_0050272_rois_cc200.1D ...\n"
          ]
        },
        {
          "output_type": "stream",
          "name": "stderr",
          "text": [
            " ...done. (0 seconds, 0 min)\n"
          ]
        },
        {
          "output_type": "stream",
          "name": "stdout",
          "text": [
            "Downloading data from https://s3.amazonaws.com/fcp-indi/data/Projects/ABIDE_Initiative/Outputs/cpac/filt_noglobal/rois_cc200/UM_1_0050273_rois_cc200.1D ...\n"
          ]
        },
        {
          "output_type": "stream",
          "name": "stderr",
          "text": [
            " ...done. (0 seconds, 0 min)\n"
          ]
        },
        {
          "output_type": "stream",
          "name": "stdout",
          "text": [
            "Downloading data from https://s3.amazonaws.com/fcp-indi/data/Projects/ABIDE_Initiative/Outputs/cpac/filt_noglobal/rois_cc200/UM_1_0050274_rois_cc200.1D ...\n"
          ]
        },
        {
          "output_type": "stream",
          "name": "stderr",
          "text": [
            " ...done. (0 seconds, 0 min)\n"
          ]
        },
        {
          "output_type": "stream",
          "name": "stdout",
          "text": [
            "Downloading data from https://s3.amazonaws.com/fcp-indi/data/Projects/ABIDE_Initiative/Outputs/cpac/filt_noglobal/rois_cc200/UM_1_0050275_rois_cc200.1D ...\n"
          ]
        },
        {
          "output_type": "stream",
          "name": "stderr",
          "text": [
            " ...done. (0 seconds, 0 min)\n"
          ]
        },
        {
          "output_type": "stream",
          "name": "stdout",
          "text": [
            "Downloading data from https://s3.amazonaws.com/fcp-indi/data/Projects/ABIDE_Initiative/Outputs/cpac/filt_noglobal/rois_cc200/UM_1_0050276_rois_cc200.1D ...\n"
          ]
        },
        {
          "output_type": "stream",
          "name": "stderr",
          "text": [
            " ...done. (0 seconds, 0 min)\n"
          ]
        },
        {
          "output_type": "stream",
          "name": "stdout",
          "text": [
            "Downloading data from https://s3.amazonaws.com/fcp-indi/data/Projects/ABIDE_Initiative/Outputs/cpac/filt_noglobal/rois_cc200/UM_1_0050277_rois_cc200.1D ...\n"
          ]
        },
        {
          "output_type": "stream",
          "name": "stderr",
          "text": [
            " ...done. (0 seconds, 0 min)\n"
          ]
        },
        {
          "output_type": "stream",
          "name": "stdout",
          "text": [
            "Downloading data from https://s3.amazonaws.com/fcp-indi/data/Projects/ABIDE_Initiative/Outputs/cpac/filt_noglobal/rois_cc200/UM_1_0050278_rois_cc200.1D ...\n"
          ]
        },
        {
          "output_type": "stream",
          "name": "stderr",
          "text": [
            " ...done. (0 seconds, 0 min)\n"
          ]
        },
        {
          "output_type": "stream",
          "name": "stdout",
          "text": [
            "Downloading data from https://s3.amazonaws.com/fcp-indi/data/Projects/ABIDE_Initiative/Outputs/cpac/filt_noglobal/rois_cc200/UM_1_0050279_rois_cc200.1D ...\n"
          ]
        },
        {
          "output_type": "stream",
          "name": "stderr",
          "text": [
            " ...done. (0 seconds, 0 min)\n"
          ]
        },
        {
          "output_type": "stream",
          "name": "stdout",
          "text": [
            "Downloading data from https://s3.amazonaws.com/fcp-indi/data/Projects/ABIDE_Initiative/Outputs/cpac/filt_noglobal/rois_cc200/UM_1_0050280_rois_cc200.1D ...\n"
          ]
        },
        {
          "output_type": "stream",
          "name": "stderr",
          "text": [
            " ...done. (0 seconds, 0 min)\n"
          ]
        },
        {
          "output_type": "stream",
          "name": "stdout",
          "text": [
            "Downloading data from https://s3.amazonaws.com/fcp-indi/data/Projects/ABIDE_Initiative/Outputs/cpac/filt_noglobal/rois_cc200/UM_1_0050281_rois_cc200.1D ...\n"
          ]
        },
        {
          "output_type": "stream",
          "name": "stderr",
          "text": [
            " ...done. (0 seconds, 0 min)\n"
          ]
        },
        {
          "output_type": "stream",
          "name": "stdout",
          "text": [
            "Downloading data from https://s3.amazonaws.com/fcp-indi/data/Projects/ABIDE_Initiative/Outputs/cpac/filt_noglobal/rois_cc200/UM_1_0050282_rois_cc200.1D ...\n"
          ]
        },
        {
          "output_type": "stream",
          "name": "stderr",
          "text": [
            " ...done. (0 seconds, 0 min)\n"
          ]
        },
        {
          "output_type": "stream",
          "name": "stdout",
          "text": [
            "Downloading data from https://s3.amazonaws.com/fcp-indi/data/Projects/ABIDE_Initiative/Outputs/cpac/filt_noglobal/rois_cc200/UM_1_0050283_rois_cc200.1D ...\n"
          ]
        },
        {
          "output_type": "stream",
          "name": "stderr",
          "text": [
            " ...done. (0 seconds, 0 min)\n"
          ]
        },
        {
          "output_type": "stream",
          "name": "stdout",
          "text": [
            "Downloading data from https://s3.amazonaws.com/fcp-indi/data/Projects/ABIDE_Initiative/Outputs/cpac/filt_noglobal/rois_cc200/UM_1_0050284_rois_cc200.1D ...\n"
          ]
        },
        {
          "output_type": "stream",
          "name": "stderr",
          "text": [
            " ...done. (0 seconds, 0 min)\n"
          ]
        },
        {
          "output_type": "stream",
          "name": "stdout",
          "text": [
            "Downloading data from https://s3.amazonaws.com/fcp-indi/data/Projects/ABIDE_Initiative/Outputs/cpac/filt_noglobal/rois_cc200/UM_1_0050285_rois_cc200.1D ...\n"
          ]
        },
        {
          "output_type": "stream",
          "name": "stderr",
          "text": [
            " ...done. (0 seconds, 0 min)\n"
          ]
        },
        {
          "output_type": "stream",
          "name": "stdout",
          "text": [
            "Downloading data from https://s3.amazonaws.com/fcp-indi/data/Projects/ABIDE_Initiative/Outputs/cpac/filt_noglobal/rois_cc200/UM_1_0050286_rois_cc200.1D ...\n"
          ]
        },
        {
          "output_type": "stream",
          "name": "stderr",
          "text": [
            " ...done. (0 seconds, 0 min)\n"
          ]
        },
        {
          "output_type": "stream",
          "name": "stdout",
          "text": [
            "Downloading data from https://s3.amazonaws.com/fcp-indi/data/Projects/ABIDE_Initiative/Outputs/cpac/filt_noglobal/rois_cc200/UM_1_0050287_rois_cc200.1D ...\n"
          ]
        },
        {
          "output_type": "stream",
          "name": "stderr",
          "text": [
            " ...done. (0 seconds, 0 min)\n"
          ]
        },
        {
          "output_type": "stream",
          "name": "stdout",
          "text": [
            "Downloading data from https://s3.amazonaws.com/fcp-indi/data/Projects/ABIDE_Initiative/Outputs/cpac/filt_noglobal/rois_cc200/UM_1_0050288_rois_cc200.1D ...\n"
          ]
        },
        {
          "output_type": "stream",
          "name": "stderr",
          "text": [
            " ...done. (0 seconds, 0 min)\n"
          ]
        },
        {
          "output_type": "stream",
          "name": "stdout",
          "text": [
            "Downloading data from https://s3.amazonaws.com/fcp-indi/data/Projects/ABIDE_Initiative/Outputs/cpac/filt_noglobal/rois_cc200/UM_1_0050289_rois_cc200.1D ...\n"
          ]
        },
        {
          "output_type": "stream",
          "name": "stderr",
          "text": [
            " ...done. (0 seconds, 0 min)\n"
          ]
        },
        {
          "output_type": "stream",
          "name": "stdout",
          "text": [
            "Downloading data from https://s3.amazonaws.com/fcp-indi/data/Projects/ABIDE_Initiative/Outputs/cpac/filt_noglobal/rois_cc200/UM_1_0050290_rois_cc200.1D ...\n"
          ]
        },
        {
          "output_type": "stream",
          "name": "stderr",
          "text": [
            " ...done. (0 seconds, 0 min)\n"
          ]
        },
        {
          "output_type": "stream",
          "name": "stdout",
          "text": [
            "Downloading data from https://s3.amazonaws.com/fcp-indi/data/Projects/ABIDE_Initiative/Outputs/cpac/filt_noglobal/rois_cc200/UM_1_0050291_rois_cc200.1D ...\n"
          ]
        },
        {
          "output_type": "stream",
          "name": "stderr",
          "text": [
            " ...done. (0 seconds, 0 min)\n"
          ]
        },
        {
          "output_type": "stream",
          "name": "stdout",
          "text": [
            "Downloading data from https://s3.amazonaws.com/fcp-indi/data/Projects/ABIDE_Initiative/Outputs/cpac/filt_noglobal/rois_cc200/UM_1_0050292_rois_cc200.1D ...\n"
          ]
        },
        {
          "output_type": "stream",
          "name": "stderr",
          "text": [
            " ...done. (0 seconds, 0 min)\n"
          ]
        },
        {
          "output_type": "stream",
          "name": "stdout",
          "text": [
            "Downloading data from https://s3.amazonaws.com/fcp-indi/data/Projects/ABIDE_Initiative/Outputs/cpac/filt_noglobal/rois_cc200/UM_1_0050293_rois_cc200.1D ...\n"
          ]
        },
        {
          "output_type": "stream",
          "name": "stderr",
          "text": [
            " ...done. (0 seconds, 0 min)\n"
          ]
        },
        {
          "output_type": "stream",
          "name": "stdout",
          "text": [
            "Downloading data from https://s3.amazonaws.com/fcp-indi/data/Projects/ABIDE_Initiative/Outputs/cpac/filt_noglobal/rois_cc200/UM_1_0050294_rois_cc200.1D ...\n"
          ]
        },
        {
          "output_type": "stream",
          "name": "stderr",
          "text": [
            " ...done. (0 seconds, 0 min)\n"
          ]
        },
        {
          "output_type": "stream",
          "name": "stdout",
          "text": [
            "Downloading data from https://s3.amazonaws.com/fcp-indi/data/Projects/ABIDE_Initiative/Outputs/cpac/filt_noglobal/rois_cc200/UM_1_0050295_rois_cc200.1D ...\n"
          ]
        },
        {
          "output_type": "stream",
          "name": "stderr",
          "text": [
            " ...done. (0 seconds, 0 min)\n"
          ]
        },
        {
          "output_type": "stream",
          "name": "stdout",
          "text": [
            "Downloading data from https://s3.amazonaws.com/fcp-indi/data/Projects/ABIDE_Initiative/Outputs/cpac/filt_noglobal/rois_cc200/UM_1_0050296_rois_cc200.1D ...\n"
          ]
        },
        {
          "output_type": "stream",
          "name": "stderr",
          "text": [
            " ...done. (0 seconds, 0 min)\n"
          ]
        },
        {
          "output_type": "stream",
          "name": "stdout",
          "text": [
            "Downloading data from https://s3.amazonaws.com/fcp-indi/data/Projects/ABIDE_Initiative/Outputs/cpac/filt_noglobal/rois_cc200/UM_1_0050297_rois_cc200.1D ...\n"
          ]
        },
        {
          "output_type": "stream",
          "name": "stderr",
          "text": [
            " ...done. (0 seconds, 0 min)\n"
          ]
        },
        {
          "output_type": "stream",
          "name": "stdout",
          "text": [
            "Downloading data from https://s3.amazonaws.com/fcp-indi/data/Projects/ABIDE_Initiative/Outputs/cpac/filt_noglobal/rois_cc200/UM_1_0050298_rois_cc200.1D ...\n"
          ]
        },
        {
          "output_type": "stream",
          "name": "stderr",
          "text": [
            " ...done. (0 seconds, 0 min)\n"
          ]
        },
        {
          "output_type": "stream",
          "name": "stdout",
          "text": [
            "Downloading data from https://s3.amazonaws.com/fcp-indi/data/Projects/ABIDE_Initiative/Outputs/cpac/filt_noglobal/rois_cc200/UM_1_0050299_rois_cc200.1D ...\n"
          ]
        },
        {
          "output_type": "stream",
          "name": "stderr",
          "text": [
            " ...done. (0 seconds, 0 min)\n"
          ]
        },
        {
          "output_type": "stream",
          "name": "stdout",
          "text": [
            "Downloading data from https://s3.amazonaws.com/fcp-indi/data/Projects/ABIDE_Initiative/Outputs/cpac/filt_noglobal/rois_cc200/UM_1_0050300_rois_cc200.1D ...\n"
          ]
        },
        {
          "output_type": "stream",
          "name": "stderr",
          "text": [
            " ...done. (0 seconds, 0 min)\n"
          ]
        },
        {
          "output_type": "stream",
          "name": "stdout",
          "text": [
            "Downloading data from https://s3.amazonaws.com/fcp-indi/data/Projects/ABIDE_Initiative/Outputs/cpac/filt_noglobal/rois_cc200/UM_1_0050301_rois_cc200.1D ...\n"
          ]
        },
        {
          "output_type": "stream",
          "name": "stderr",
          "text": [
            " ...done. (0 seconds, 0 min)\n"
          ]
        },
        {
          "output_type": "stream",
          "name": "stdout",
          "text": [
            "Downloading data from https://s3.amazonaws.com/fcp-indi/data/Projects/ABIDE_Initiative/Outputs/cpac/filt_noglobal/rois_cc200/UM_1_0050302_rois_cc200.1D ...\n"
          ]
        },
        {
          "output_type": "stream",
          "name": "stderr",
          "text": [
            " ...done. (0 seconds, 0 min)\n"
          ]
        },
        {
          "output_type": "stream",
          "name": "stdout",
          "text": [
            "Downloading data from https://s3.amazonaws.com/fcp-indi/data/Projects/ABIDE_Initiative/Outputs/cpac/filt_noglobal/rois_cc200/UM_1_0050303_rois_cc200.1D ...\n"
          ]
        },
        {
          "output_type": "stream",
          "name": "stderr",
          "text": [
            " ...done. (0 seconds, 0 min)\n"
          ]
        },
        {
          "output_type": "stream",
          "name": "stdout",
          "text": [
            "Downloading data from https://s3.amazonaws.com/fcp-indi/data/Projects/ABIDE_Initiative/Outputs/cpac/filt_noglobal/rois_cc200/UM_1_0050304_rois_cc200.1D ...\n"
          ]
        },
        {
          "output_type": "stream",
          "name": "stderr",
          "text": [
            " ...done. (0 seconds, 0 min)\n"
          ]
        },
        {
          "output_type": "stream",
          "name": "stdout",
          "text": [
            "Downloading data from https://s3.amazonaws.com/fcp-indi/data/Projects/ABIDE_Initiative/Outputs/cpac/filt_noglobal/rois_cc200/UM_1_0050305_rois_cc200.1D ...\n"
          ]
        },
        {
          "output_type": "stream",
          "name": "stderr",
          "text": [
            " ...done. (0 seconds, 0 min)\n"
          ]
        },
        {
          "output_type": "stream",
          "name": "stdout",
          "text": [
            "Downloading data from https://s3.amazonaws.com/fcp-indi/data/Projects/ABIDE_Initiative/Outputs/cpac/filt_noglobal/rois_cc200/UM_1_0050306_rois_cc200.1D ...\n"
          ]
        },
        {
          "output_type": "stream",
          "name": "stderr",
          "text": [
            " ...done. (0 seconds, 0 min)\n"
          ]
        },
        {
          "output_type": "stream",
          "name": "stdout",
          "text": [
            "Downloading data from https://s3.amazonaws.com/fcp-indi/data/Projects/ABIDE_Initiative/Outputs/cpac/filt_noglobal/rois_cc200/UM_1_0050307_rois_cc200.1D ...\n"
          ]
        },
        {
          "output_type": "stream",
          "name": "stderr",
          "text": [
            " ...done. (0 seconds, 0 min)\n"
          ]
        },
        {
          "output_type": "stream",
          "name": "stdout",
          "text": [
            "Downloading data from https://s3.amazonaws.com/fcp-indi/data/Projects/ABIDE_Initiative/Outputs/cpac/filt_noglobal/rois_cc200/UM_1_0050308_rois_cc200.1D ...\n"
          ]
        },
        {
          "output_type": "stream",
          "name": "stderr",
          "text": [
            " ...done. (0 seconds, 0 min)\n"
          ]
        },
        {
          "output_type": "stream",
          "name": "stdout",
          "text": [
            "Downloading data from https://s3.amazonaws.com/fcp-indi/data/Projects/ABIDE_Initiative/Outputs/cpac/filt_noglobal/rois_cc200/UM_1_0050310_rois_cc200.1D ...\n"
          ]
        },
        {
          "output_type": "stream",
          "name": "stderr",
          "text": [
            " ...done. (0 seconds, 0 min)\n"
          ]
        },
        {
          "output_type": "stream",
          "name": "stdout",
          "text": [
            "Downloading data from https://s3.amazonaws.com/fcp-indi/data/Projects/ABIDE_Initiative/Outputs/cpac/filt_noglobal/rois_cc200/UM_1_0050311_rois_cc200.1D ...\n"
          ]
        },
        {
          "output_type": "stream",
          "name": "stderr",
          "text": [
            " ...done. (0 seconds, 0 min)\n"
          ]
        },
        {
          "output_type": "stream",
          "name": "stdout",
          "text": [
            "Downloading data from https://s3.amazonaws.com/fcp-indi/data/Projects/ABIDE_Initiative/Outputs/cpac/filt_noglobal/rois_cc200/UM_1_0050312_rois_cc200.1D ...\n"
          ]
        },
        {
          "output_type": "stream",
          "name": "stderr",
          "text": [
            " ...done. (0 seconds, 0 min)\n"
          ]
        },
        {
          "output_type": "stream",
          "name": "stdout",
          "text": [
            "Downloading data from https://s3.amazonaws.com/fcp-indi/data/Projects/ABIDE_Initiative/Outputs/cpac/filt_noglobal/rois_cc200/UM_1_0050313_rois_cc200.1D ...\n"
          ]
        },
        {
          "output_type": "stream",
          "name": "stderr",
          "text": [
            " ...done. (0 seconds, 0 min)\n"
          ]
        },
        {
          "output_type": "stream",
          "name": "stdout",
          "text": [
            "Downloading data from https://s3.amazonaws.com/fcp-indi/data/Projects/ABIDE_Initiative/Outputs/cpac/filt_noglobal/rois_cc200/UM_1_0050314_rois_cc200.1D ...\n"
          ]
        },
        {
          "output_type": "stream",
          "name": "stderr",
          "text": [
            " ...done. (0 seconds, 0 min)\n"
          ]
        },
        {
          "output_type": "stream",
          "name": "stdout",
          "text": [
            "Downloading data from https://s3.amazonaws.com/fcp-indi/data/Projects/ABIDE_Initiative/Outputs/cpac/filt_noglobal/rois_cc200/UM_1_0050315_rois_cc200.1D ...\n"
          ]
        },
        {
          "output_type": "stream",
          "name": "stderr",
          "text": [
            " ...done. (0 seconds, 0 min)\n"
          ]
        },
        {
          "output_type": "stream",
          "name": "stdout",
          "text": [
            "Downloading data from https://s3.amazonaws.com/fcp-indi/data/Projects/ABIDE_Initiative/Outputs/cpac/filt_noglobal/rois_cc200/UM_1_0050316_rois_cc200.1D ...\n"
          ]
        },
        {
          "output_type": "stream",
          "name": "stderr",
          "text": [
            " ...done. (0 seconds, 0 min)\n"
          ]
        },
        {
          "output_type": "stream",
          "name": "stdout",
          "text": [
            "Downloading data from https://s3.amazonaws.com/fcp-indi/data/Projects/ABIDE_Initiative/Outputs/cpac/filt_noglobal/rois_cc200/UM_1_0050317_rois_cc200.1D ...\n"
          ]
        },
        {
          "output_type": "stream",
          "name": "stderr",
          "text": [
            " ...done. (0 seconds, 0 min)\n"
          ]
        },
        {
          "output_type": "stream",
          "name": "stdout",
          "text": [
            "Downloading data from https://s3.amazonaws.com/fcp-indi/data/Projects/ABIDE_Initiative/Outputs/cpac/filt_noglobal/rois_cc200/UM_1_0050318_rois_cc200.1D ...\n"
          ]
        },
        {
          "output_type": "stream",
          "name": "stderr",
          "text": [
            " ...done. (0 seconds, 0 min)\n"
          ]
        },
        {
          "output_type": "stream",
          "name": "stdout",
          "text": [
            "Downloading data from https://s3.amazonaws.com/fcp-indi/data/Projects/ABIDE_Initiative/Outputs/cpac/filt_noglobal/rois_cc200/UM_1_0050319_rois_cc200.1D ...\n"
          ]
        },
        {
          "output_type": "stream",
          "name": "stderr",
          "text": [
            " ...done. (0 seconds, 0 min)\n"
          ]
        },
        {
          "output_type": "stream",
          "name": "stdout",
          "text": [
            "Downloading data from https://s3.amazonaws.com/fcp-indi/data/Projects/ABIDE_Initiative/Outputs/cpac/filt_noglobal/rois_cc200/UM_1_0050320_rois_cc200.1D ...\n"
          ]
        },
        {
          "output_type": "stream",
          "name": "stderr",
          "text": [
            " ...done. (0 seconds, 0 min)\n"
          ]
        },
        {
          "output_type": "stream",
          "name": "stdout",
          "text": [
            "Downloading data from https://s3.amazonaws.com/fcp-indi/data/Projects/ABIDE_Initiative/Outputs/cpac/filt_noglobal/rois_cc200/UM_1_0050321_rois_cc200.1D ...\n"
          ]
        },
        {
          "output_type": "stream",
          "name": "stderr",
          "text": [
            " ...done. (0 seconds, 0 min)\n"
          ]
        },
        {
          "output_type": "stream",
          "name": "stdout",
          "text": [
            "Downloading data from https://s3.amazonaws.com/fcp-indi/data/Projects/ABIDE_Initiative/Outputs/cpac/filt_noglobal/rois_cc200/UM_1_0050322_rois_cc200.1D ...\n"
          ]
        },
        {
          "output_type": "stream",
          "name": "stderr",
          "text": [
            " ...done. (0 seconds, 0 min)\n"
          ]
        },
        {
          "output_type": "stream",
          "name": "stdout",
          "text": [
            "Downloading data from https://s3.amazonaws.com/fcp-indi/data/Projects/ABIDE_Initiative/Outputs/cpac/filt_noglobal/rois_cc200/UM_1_0050324_rois_cc200.1D ...\n"
          ]
        },
        {
          "output_type": "stream",
          "name": "stderr",
          "text": [
            " ...done. (0 seconds, 0 min)\n"
          ]
        },
        {
          "output_type": "stream",
          "name": "stdout",
          "text": [
            "Downloading data from https://s3.amazonaws.com/fcp-indi/data/Projects/ABIDE_Initiative/Outputs/cpac/filt_noglobal/rois_cc200/UM_1_0050325_rois_cc200.1D ...\n"
          ]
        },
        {
          "output_type": "stream",
          "name": "stderr",
          "text": [
            " ...done. (0 seconds, 0 min)\n"
          ]
        },
        {
          "output_type": "stream",
          "name": "stdout",
          "text": [
            "Downloading data from https://s3.amazonaws.com/fcp-indi/data/Projects/ABIDE_Initiative/Outputs/cpac/filt_noglobal/rois_cc200/UM_1_0050326_rois_cc200.1D ...\n"
          ]
        },
        {
          "output_type": "stream",
          "name": "stderr",
          "text": [
            " ...done. (0 seconds, 0 min)\n"
          ]
        },
        {
          "output_type": "stream",
          "name": "stdout",
          "text": [
            "Downloading data from https://s3.amazonaws.com/fcp-indi/data/Projects/ABIDE_Initiative/Outputs/cpac/filt_noglobal/rois_cc200/UM_1_0050327_rois_cc200.1D ...\n"
          ]
        },
        {
          "output_type": "stream",
          "name": "stderr",
          "text": [
            " ...done. (0 seconds, 0 min)\n"
          ]
        },
        {
          "output_type": "stream",
          "name": "stdout",
          "text": [
            "Downloading data from https://s3.amazonaws.com/fcp-indi/data/Projects/ABIDE_Initiative/Outputs/cpac/filt_noglobal/rois_cc200/UM_1_0050329_rois_cc200.1D ...\n"
          ]
        },
        {
          "output_type": "stream",
          "name": "stderr",
          "text": [
            " ...done. (0 seconds, 0 min)\n"
          ]
        },
        {
          "output_type": "stream",
          "name": "stdout",
          "text": [
            "Downloading data from https://s3.amazonaws.com/fcp-indi/data/Projects/ABIDE_Initiative/Outputs/cpac/filt_noglobal/rois_cc200/UM_1_0050330_rois_cc200.1D ...\n"
          ]
        },
        {
          "output_type": "stream",
          "name": "stderr",
          "text": [
            " ...done. (0 seconds, 0 min)\n"
          ]
        },
        {
          "output_type": "stream",
          "name": "stdout",
          "text": [
            "Downloading data from https://s3.amazonaws.com/fcp-indi/data/Projects/ABIDE_Initiative/Outputs/cpac/filt_noglobal/rois_cc200/UM_1_0050331_rois_cc200.1D ...\n"
          ]
        },
        {
          "output_type": "stream",
          "name": "stderr",
          "text": [
            " ...done. (0 seconds, 0 min)\n"
          ]
        },
        {
          "output_type": "stream",
          "name": "stdout",
          "text": [
            "Downloading data from https://s3.amazonaws.com/fcp-indi/data/Projects/ABIDE_Initiative/Outputs/cpac/filt_noglobal/rois_cc200/UM_1_0050332_rois_cc200.1D ...\n"
          ]
        },
        {
          "output_type": "stream",
          "name": "stderr",
          "text": [
            " ...done. (0 seconds, 0 min)\n"
          ]
        },
        {
          "output_type": "stream",
          "name": "stdout",
          "text": [
            "Downloading data from https://s3.amazonaws.com/fcp-indi/data/Projects/ABIDE_Initiative/Outputs/cpac/filt_noglobal/rois_cc200/UM_1_0050333_rois_cc200.1D ...\n"
          ]
        },
        {
          "output_type": "stream",
          "name": "stderr",
          "text": [
            " ...done. (0 seconds, 0 min)\n"
          ]
        },
        {
          "output_type": "stream",
          "name": "stdout",
          "text": [
            "Downloading data from https://s3.amazonaws.com/fcp-indi/data/Projects/ABIDE_Initiative/Outputs/cpac/filt_noglobal/rois_cc200/UM_1_0050334_rois_cc200.1D ...\n"
          ]
        },
        {
          "output_type": "stream",
          "name": "stderr",
          "text": [
            " ...done. (0 seconds, 0 min)\n"
          ]
        },
        {
          "output_type": "stream",
          "name": "stdout",
          "text": [
            "Downloading data from https://s3.amazonaws.com/fcp-indi/data/Projects/ABIDE_Initiative/Outputs/cpac/filt_noglobal/rois_cc200/UM_1_0050335_rois_cc200.1D ...\n"
          ]
        },
        {
          "output_type": "stream",
          "name": "stderr",
          "text": [
            " ...done. (0 seconds, 0 min)\n"
          ]
        },
        {
          "output_type": "stream",
          "name": "stdout",
          "text": [
            "Downloading data from https://s3.amazonaws.com/fcp-indi/data/Projects/ABIDE_Initiative/Outputs/cpac/filt_noglobal/rois_cc200/UM_1_0050336_rois_cc200.1D ...\n"
          ]
        },
        {
          "output_type": "stream",
          "name": "stderr",
          "text": [
            " ...done. (0 seconds, 0 min)\n"
          ]
        },
        {
          "output_type": "stream",
          "name": "stdout",
          "text": [
            "Downloading data from https://s3.amazonaws.com/fcp-indi/data/Projects/ABIDE_Initiative/Outputs/cpac/filt_noglobal/rois_cc200/UM_1_0050337_rois_cc200.1D ...\n"
          ]
        },
        {
          "output_type": "stream",
          "name": "stderr",
          "text": [
            " ...done. (0 seconds, 0 min)\n"
          ]
        },
        {
          "output_type": "stream",
          "name": "stdout",
          "text": [
            "Downloading data from https://s3.amazonaws.com/fcp-indi/data/Projects/ABIDE_Initiative/Outputs/cpac/filt_noglobal/rois_cc200/UM_1_0050338_rois_cc200.1D ...\n"
          ]
        },
        {
          "output_type": "stream",
          "name": "stderr",
          "text": [
            " ...done. (0 seconds, 0 min)\n"
          ]
        },
        {
          "output_type": "stream",
          "name": "stdout",
          "text": [
            "Downloading data from https://s3.amazonaws.com/fcp-indi/data/Projects/ABIDE_Initiative/Outputs/cpac/filt_noglobal/rois_cc200/UM_1_0050339_rois_cc200.1D ...\n"
          ]
        },
        {
          "output_type": "stream",
          "name": "stderr",
          "text": [
            " ...done. (0 seconds, 0 min)\n"
          ]
        },
        {
          "output_type": "stream",
          "name": "stdout",
          "text": [
            "Downloading data from https://s3.amazonaws.com/fcp-indi/data/Projects/ABIDE_Initiative/Outputs/cpac/filt_noglobal/rois_cc200/UM_1_0050340_rois_cc200.1D ...\n"
          ]
        },
        {
          "output_type": "stream",
          "name": "stderr",
          "text": [
            " ...done. (0 seconds, 0 min)\n"
          ]
        },
        {
          "output_type": "stream",
          "name": "stdout",
          "text": [
            "Downloading data from https://s3.amazonaws.com/fcp-indi/data/Projects/ABIDE_Initiative/Outputs/cpac/filt_noglobal/rois_cc200/UM_1_0050341_rois_cc200.1D ...\n"
          ]
        },
        {
          "output_type": "stream",
          "name": "stderr",
          "text": [
            " ...done. (0 seconds, 0 min)\n"
          ]
        },
        {
          "output_type": "stream",
          "name": "stdout",
          "text": [
            "Downloading data from https://s3.amazonaws.com/fcp-indi/data/Projects/ABIDE_Initiative/Outputs/cpac/filt_noglobal/rois_cc200/UM_1_0050342_rois_cc200.1D ...\n"
          ]
        },
        {
          "output_type": "stream",
          "name": "stderr",
          "text": [
            " ...done. (0 seconds, 0 min)\n"
          ]
        },
        {
          "output_type": "stream",
          "name": "stdout",
          "text": [
            "Downloading data from https://s3.amazonaws.com/fcp-indi/data/Projects/ABIDE_Initiative/Outputs/cpac/filt_noglobal/rois_cc200/UM_1_0050343_rois_cc200.1D ...\n"
          ]
        },
        {
          "output_type": "stream",
          "name": "stderr",
          "text": [
            " ...done. (0 seconds, 0 min)\n"
          ]
        },
        {
          "output_type": "stream",
          "name": "stdout",
          "text": [
            "Downloading data from https://s3.amazonaws.com/fcp-indi/data/Projects/ABIDE_Initiative/Outputs/cpac/filt_noglobal/rois_cc200/UM_1_0050344_rois_cc200.1D ...\n"
          ]
        },
        {
          "output_type": "stream",
          "name": "stderr",
          "text": [
            " ...done. (0 seconds, 0 min)\n"
          ]
        },
        {
          "output_type": "stream",
          "name": "stdout",
          "text": [
            "Downloading data from https://s3.amazonaws.com/fcp-indi/data/Projects/ABIDE_Initiative/Outputs/cpac/filt_noglobal/rois_cc200/UM_1_0050345_rois_cc200.1D ...\n"
          ]
        },
        {
          "output_type": "stream",
          "name": "stderr",
          "text": [
            " ...done. (0 seconds, 0 min)\n"
          ]
        },
        {
          "output_type": "stream",
          "name": "stdout",
          "text": [
            "Downloading data from https://s3.amazonaws.com/fcp-indi/data/Projects/ABIDE_Initiative/Outputs/cpac/filt_noglobal/rois_cc200/UM_1_0050346_rois_cc200.1D ...\n"
          ]
        },
        {
          "output_type": "stream",
          "name": "stderr",
          "text": [
            " ...done. (0 seconds, 0 min)\n"
          ]
        },
        {
          "output_type": "stream",
          "name": "stdout",
          "text": [
            "Downloading data from https://s3.amazonaws.com/fcp-indi/data/Projects/ABIDE_Initiative/Outputs/cpac/filt_noglobal/rois_cc200/UM_1_0050347_rois_cc200.1D ...\n"
          ]
        },
        {
          "output_type": "stream",
          "name": "stderr",
          "text": [
            " ...done. (0 seconds, 0 min)\n"
          ]
        },
        {
          "output_type": "stream",
          "name": "stdout",
          "text": [
            "Downloading data from https://s3.amazonaws.com/fcp-indi/data/Projects/ABIDE_Initiative/Outputs/cpac/filt_noglobal/rois_cc200/UM_1_0050348_rois_cc200.1D ...\n"
          ]
        },
        {
          "output_type": "stream",
          "name": "stderr",
          "text": [
            " ...done. (0 seconds, 0 min)\n"
          ]
        },
        {
          "output_type": "stream",
          "name": "stdout",
          "text": [
            "Downloading data from https://s3.amazonaws.com/fcp-indi/data/Projects/ABIDE_Initiative/Outputs/cpac/filt_noglobal/rois_cc200/UM_1_0050349_rois_cc200.1D ...\n"
          ]
        },
        {
          "output_type": "stream",
          "name": "stderr",
          "text": [
            " ...done. (0 seconds, 0 min)\n"
          ]
        },
        {
          "output_type": "stream",
          "name": "stdout",
          "text": [
            "Downloading data from https://s3.amazonaws.com/fcp-indi/data/Projects/ABIDE_Initiative/Outputs/cpac/filt_noglobal/rois_cc200/UM_1_0050350_rois_cc200.1D ...\n"
          ]
        },
        {
          "output_type": "stream",
          "name": "stderr",
          "text": [
            " ...done. (0 seconds, 0 min)\n"
          ]
        },
        {
          "output_type": "stream",
          "name": "stdout",
          "text": [
            "Downloading data from https://s3.amazonaws.com/fcp-indi/data/Projects/ABIDE_Initiative/Outputs/cpac/filt_noglobal/rois_cc200/UM_1_0050351_rois_cc200.1D ...\n"
          ]
        },
        {
          "output_type": "stream",
          "name": "stderr",
          "text": [
            " ...done. (0 seconds, 0 min)\n"
          ]
        },
        {
          "output_type": "stream",
          "name": "stdout",
          "text": [
            "Downloading data from https://s3.amazonaws.com/fcp-indi/data/Projects/ABIDE_Initiative/Outputs/cpac/filt_noglobal/rois_cc200/UM_1_0050352_rois_cc200.1D ...\n"
          ]
        },
        {
          "output_type": "stream",
          "name": "stderr",
          "text": [
            " ...done. (0 seconds, 0 min)\n"
          ]
        },
        {
          "output_type": "stream",
          "name": "stdout",
          "text": [
            "Downloading data from https://s3.amazonaws.com/fcp-indi/data/Projects/ABIDE_Initiative/Outputs/cpac/filt_noglobal/rois_cc200/UM_1_0050353_rois_cc200.1D ...\n"
          ]
        },
        {
          "output_type": "stream",
          "name": "stderr",
          "text": [
            " ...done. (0 seconds, 0 min)\n"
          ]
        },
        {
          "output_type": "stream",
          "name": "stdout",
          "text": [
            "Downloading data from https://s3.amazonaws.com/fcp-indi/data/Projects/ABIDE_Initiative/Outputs/cpac/filt_noglobal/rois_cc200/UM_1_0050354_rois_cc200.1D ...\n"
          ]
        },
        {
          "output_type": "stream",
          "name": "stderr",
          "text": [
            " ...done. (0 seconds, 0 min)\n"
          ]
        },
        {
          "output_type": "stream",
          "name": "stdout",
          "text": [
            "Downloading data from https://s3.amazonaws.com/fcp-indi/data/Projects/ABIDE_Initiative/Outputs/cpac/filt_noglobal/rois_cc200/UM_1_0050355_rois_cc200.1D ...\n"
          ]
        },
        {
          "output_type": "stream",
          "name": "stderr",
          "text": [
            " ...done. (0 seconds, 0 min)\n"
          ]
        },
        {
          "output_type": "stream",
          "name": "stdout",
          "text": [
            "Downloading data from https://s3.amazonaws.com/fcp-indi/data/Projects/ABIDE_Initiative/Outputs/cpac/filt_noglobal/rois_cc200/UM_1_0050356_rois_cc200.1D ...\n"
          ]
        },
        {
          "output_type": "stream",
          "name": "stderr",
          "text": [
            " ...done. (0 seconds, 0 min)\n"
          ]
        },
        {
          "output_type": "stream",
          "name": "stdout",
          "text": [
            "Downloading data from https://s3.amazonaws.com/fcp-indi/data/Projects/ABIDE_Initiative/Outputs/cpac/filt_noglobal/rois_cc200/UM_1_0050357_rois_cc200.1D ...\n"
          ]
        },
        {
          "output_type": "stream",
          "name": "stderr",
          "text": [
            " ...done. (0 seconds, 0 min)\n"
          ]
        },
        {
          "output_type": "stream",
          "name": "stdout",
          "text": [
            "Downloading data from https://s3.amazonaws.com/fcp-indi/data/Projects/ABIDE_Initiative/Outputs/cpac/filt_noglobal/rois_cc200/UM_1_0050358_rois_cc200.1D ...\n"
          ]
        },
        {
          "output_type": "stream",
          "name": "stderr",
          "text": [
            " ...done. (0 seconds, 0 min)\n"
          ]
        },
        {
          "output_type": "stream",
          "name": "stdout",
          "text": [
            "Downloading data from https://s3.amazonaws.com/fcp-indi/data/Projects/ABIDE_Initiative/Outputs/cpac/filt_noglobal/rois_cc200/UM_1_0050359_rois_cc200.1D ...\n"
          ]
        },
        {
          "output_type": "stream",
          "name": "stderr",
          "text": [
            " ...done. (0 seconds, 0 min)\n"
          ]
        },
        {
          "output_type": "stream",
          "name": "stdout",
          "text": [
            "Downloading data from https://s3.amazonaws.com/fcp-indi/data/Projects/ABIDE_Initiative/Outputs/cpac/filt_noglobal/rois_cc200/UM_1_0050360_rois_cc200.1D ...\n"
          ]
        },
        {
          "output_type": "stream",
          "name": "stderr",
          "text": [
            " ...done. (0 seconds, 0 min)\n"
          ]
        },
        {
          "output_type": "stream",
          "name": "stdout",
          "text": [
            "Downloading data from https://s3.amazonaws.com/fcp-indi/data/Projects/ABIDE_Initiative/Outputs/cpac/filt_noglobal/rois_cc200/UM_1_0050361_rois_cc200.1D ...\n"
          ]
        },
        {
          "output_type": "stream",
          "name": "stderr",
          "text": [
            " ...done. (0 seconds, 0 min)\n"
          ]
        },
        {
          "output_type": "stream",
          "name": "stdout",
          "text": [
            "Downloading data from https://s3.amazonaws.com/fcp-indi/data/Projects/ABIDE_Initiative/Outputs/cpac/filt_noglobal/rois_cc200/UM_1_0050362_rois_cc200.1D ...\n"
          ]
        },
        {
          "output_type": "stream",
          "name": "stderr",
          "text": [
            " ...done. (0 seconds, 0 min)\n"
          ]
        },
        {
          "output_type": "stream",
          "name": "stdout",
          "text": [
            "Downloading data from https://s3.amazonaws.com/fcp-indi/data/Projects/ABIDE_Initiative/Outputs/cpac/filt_noglobal/rois_cc200/UM_1_0050363_rois_cc200.1D ...\n"
          ]
        },
        {
          "output_type": "stream",
          "name": "stderr",
          "text": [
            " ...done. (0 seconds, 0 min)\n"
          ]
        },
        {
          "output_type": "stream",
          "name": "stdout",
          "text": [
            "Downloading data from https://s3.amazonaws.com/fcp-indi/data/Projects/ABIDE_Initiative/Outputs/cpac/filt_noglobal/rois_cc200/UM_1_0050364_rois_cc200.1D ...\n"
          ]
        },
        {
          "output_type": "stream",
          "name": "stderr",
          "text": [
            " ...done. (0 seconds, 0 min)\n"
          ]
        },
        {
          "output_type": "stream",
          "name": "stdout",
          "text": [
            "Downloading data from https://s3.amazonaws.com/fcp-indi/data/Projects/ABIDE_Initiative/Outputs/cpac/filt_noglobal/rois_cc200/UM_1_0050365_rois_cc200.1D ...\n"
          ]
        },
        {
          "output_type": "stream",
          "name": "stderr",
          "text": [
            " ...done. (0 seconds, 0 min)\n"
          ]
        },
        {
          "output_type": "stream",
          "name": "stdout",
          "text": [
            "Downloading data from https://s3.amazonaws.com/fcp-indi/data/Projects/ABIDE_Initiative/Outputs/cpac/filt_noglobal/rois_cc200/UM_1_0050366_rois_cc200.1D ...\n"
          ]
        },
        {
          "output_type": "stream",
          "name": "stderr",
          "text": [
            " ...done. (0 seconds, 0 min)\n"
          ]
        },
        {
          "output_type": "stream",
          "name": "stdout",
          "text": [
            "Downloading data from https://s3.amazonaws.com/fcp-indi/data/Projects/ABIDE_Initiative/Outputs/cpac/filt_noglobal/rois_cc200/UM_1_0050367_rois_cc200.1D ...\n"
          ]
        },
        {
          "output_type": "stream",
          "name": "stderr",
          "text": [
            " ...done. (0 seconds, 0 min)\n"
          ]
        },
        {
          "output_type": "stream",
          "name": "stdout",
          "text": [
            "Downloading data from https://s3.amazonaws.com/fcp-indi/data/Projects/ABIDE_Initiative/Outputs/cpac/filt_noglobal/rois_cc200/UM_1_0050368_rois_cc200.1D ...\n"
          ]
        },
        {
          "output_type": "stream",
          "name": "stderr",
          "text": [
            " ...done. (0 seconds, 0 min)\n"
          ]
        },
        {
          "output_type": "stream",
          "name": "stdout",
          "text": [
            "Downloading data from https://s3.amazonaws.com/fcp-indi/data/Projects/ABIDE_Initiative/Outputs/cpac/filt_noglobal/rois_cc200/UM_1_0050369_rois_cc200.1D ...\n"
          ]
        },
        {
          "output_type": "stream",
          "name": "stderr",
          "text": [
            " ...done. (0 seconds, 0 min)\n"
          ]
        },
        {
          "output_type": "stream",
          "name": "stdout",
          "text": [
            "Downloading data from https://s3.amazonaws.com/fcp-indi/data/Projects/ABIDE_Initiative/Outputs/cpac/filt_noglobal/rois_cc200/UM_1_0050370_rois_cc200.1D ...\n"
          ]
        },
        {
          "output_type": "stream",
          "name": "stderr",
          "text": [
            " ...done. (0 seconds, 0 min)\n"
          ]
        },
        {
          "output_type": "stream",
          "name": "stdout",
          "text": [
            "Downloading data from https://s3.amazonaws.com/fcp-indi/data/Projects/ABIDE_Initiative/Outputs/cpac/filt_noglobal/rois_cc200/UM_1_0050371_rois_cc200.1D ...\n"
          ]
        },
        {
          "output_type": "stream",
          "name": "stderr",
          "text": [
            " ...done. (0 seconds, 0 min)\n"
          ]
        },
        {
          "output_type": "stream",
          "name": "stdout",
          "text": [
            "Downloading data from https://s3.amazonaws.com/fcp-indi/data/Projects/ABIDE_Initiative/Outputs/cpac/filt_noglobal/rois_cc200/UM_1_0050372_rois_cc200.1D ...\n"
          ]
        },
        {
          "output_type": "stream",
          "name": "stderr",
          "text": [
            " ...done. (0 seconds, 0 min)\n"
          ]
        },
        {
          "output_type": "stream",
          "name": "stdout",
          "text": [
            "Downloading data from https://s3.amazonaws.com/fcp-indi/data/Projects/ABIDE_Initiative/Outputs/cpac/filt_noglobal/rois_cc200/UM_1_0050373_rois_cc200.1D ...\n"
          ]
        },
        {
          "output_type": "stream",
          "name": "stderr",
          "text": [
            " ...done. (0 seconds, 0 min)\n"
          ]
        },
        {
          "output_type": "stream",
          "name": "stdout",
          "text": [
            "Downloading data from https://s3.amazonaws.com/fcp-indi/data/Projects/ABIDE_Initiative/Outputs/cpac/filt_noglobal/rois_cc200/UM_1_0050374_rois_cc200.1D ...\n"
          ]
        },
        {
          "output_type": "stream",
          "name": "stderr",
          "text": [
            " ...done. (0 seconds, 0 min)\n"
          ]
        },
        {
          "output_type": "stream",
          "name": "stdout",
          "text": [
            "Downloading data from https://s3.amazonaws.com/fcp-indi/data/Projects/ABIDE_Initiative/Outputs/cpac/filt_noglobal/rois_cc200/UM_1_0050375_rois_cc200.1D ...\n"
          ]
        },
        {
          "output_type": "stream",
          "name": "stderr",
          "text": [
            " ...done. (0 seconds, 0 min)\n"
          ]
        },
        {
          "output_type": "stream",
          "name": "stdout",
          "text": [
            "Downloading data from https://s3.amazonaws.com/fcp-indi/data/Projects/ABIDE_Initiative/Outputs/cpac/filt_noglobal/rois_cc200/UM_1_0050376_rois_cc200.1D ...\n"
          ]
        },
        {
          "output_type": "stream",
          "name": "stderr",
          "text": [
            " ...done. (0 seconds, 0 min)\n"
          ]
        },
        {
          "output_type": "stream",
          "name": "stdout",
          "text": [
            "Downloading data from https://s3.amazonaws.com/fcp-indi/data/Projects/ABIDE_Initiative/Outputs/cpac/filt_noglobal/rois_cc200/UM_1_0050377_rois_cc200.1D ...\n"
          ]
        },
        {
          "output_type": "stream",
          "name": "stderr",
          "text": [
            " ...done. (0 seconds, 0 min)\n"
          ]
        },
        {
          "output_type": "stream",
          "name": "stdout",
          "text": [
            "Downloading data from https://s3.amazonaws.com/fcp-indi/data/Projects/ABIDE_Initiative/Outputs/cpac/filt_noglobal/rois_cc200/UM_1_0050379_rois_cc200.1D ...\n"
          ]
        },
        {
          "output_type": "stream",
          "name": "stderr",
          "text": [
            " ...done. (0 seconds, 0 min)\n"
          ]
        },
        {
          "output_type": "stream",
          "name": "stdout",
          "text": [
            "Downloading data from https://s3.amazonaws.com/fcp-indi/data/Projects/ABIDE_Initiative/Outputs/cpac/filt_noglobal/rois_cc200/UM_1_0050380_rois_cc200.1D ...\n"
          ]
        },
        {
          "output_type": "stream",
          "name": "stderr",
          "text": [
            " ...done. (0 seconds, 0 min)\n"
          ]
        },
        {
          "output_type": "stream",
          "name": "stdout",
          "text": [
            "Downloading data from https://s3.amazonaws.com/fcp-indi/data/Projects/ABIDE_Initiative/Outputs/cpac/filt_noglobal/rois_cc200/UM_1_0050381_rois_cc200.1D ...\n"
          ]
        },
        {
          "output_type": "stream",
          "name": "stderr",
          "text": [
            " ...done. (0 seconds, 0 min)\n"
          ]
        },
        {
          "output_type": "stream",
          "name": "stdout",
          "text": [
            "Downloading data from https://s3.amazonaws.com/fcp-indi/data/Projects/ABIDE_Initiative/Outputs/cpac/filt_noglobal/rois_cc200/UM_2_0050382_rois_cc200.1D ...\n"
          ]
        },
        {
          "output_type": "stream",
          "name": "stderr",
          "text": [
            " ...done. (0 seconds, 0 min)\n"
          ]
        },
        {
          "output_type": "stream",
          "name": "stdout",
          "text": [
            "Downloading data from https://s3.amazonaws.com/fcp-indi/data/Projects/ABIDE_Initiative/Outputs/cpac/filt_noglobal/rois_cc200/UM_2_0050383_rois_cc200.1D ...\n"
          ]
        },
        {
          "output_type": "stream",
          "name": "stderr",
          "text": [
            " ...done. (0 seconds, 0 min)\n"
          ]
        },
        {
          "output_type": "stream",
          "name": "stdout",
          "text": [
            "Downloading data from https://s3.amazonaws.com/fcp-indi/data/Projects/ABIDE_Initiative/Outputs/cpac/filt_noglobal/rois_cc200/UM_2_0050385_rois_cc200.1D ...\n"
          ]
        },
        {
          "output_type": "stream",
          "name": "stderr",
          "text": [
            " ...done. (0 seconds, 0 min)\n"
          ]
        },
        {
          "output_type": "stream",
          "name": "stdout",
          "text": [
            "Downloading data from https://s3.amazonaws.com/fcp-indi/data/Projects/ABIDE_Initiative/Outputs/cpac/filt_noglobal/rois_cc200/UM_2_0050386_rois_cc200.1D ...\n"
          ]
        },
        {
          "output_type": "stream",
          "name": "stderr",
          "text": [
            " ...done. (0 seconds, 0 min)\n"
          ]
        },
        {
          "output_type": "stream",
          "name": "stdout",
          "text": [
            "Downloading data from https://s3.amazonaws.com/fcp-indi/data/Projects/ABIDE_Initiative/Outputs/cpac/filt_noglobal/rois_cc200/UM_2_0050387_rois_cc200.1D ...\n"
          ]
        },
        {
          "output_type": "stream",
          "name": "stderr",
          "text": [
            " ...done. (0 seconds, 0 min)\n"
          ]
        },
        {
          "output_type": "stream",
          "name": "stdout",
          "text": [
            "Downloading data from https://s3.amazonaws.com/fcp-indi/data/Projects/ABIDE_Initiative/Outputs/cpac/filt_noglobal/rois_cc200/UM_2_0050388_rois_cc200.1D ...\n"
          ]
        },
        {
          "output_type": "stream",
          "name": "stderr",
          "text": [
            " ...done. (0 seconds, 0 min)\n"
          ]
        },
        {
          "output_type": "stream",
          "name": "stdout",
          "text": [
            "Downloading data from https://s3.amazonaws.com/fcp-indi/data/Projects/ABIDE_Initiative/Outputs/cpac/filt_noglobal/rois_cc200/UM_2_0050390_rois_cc200.1D ...\n"
          ]
        },
        {
          "output_type": "stream",
          "name": "stderr",
          "text": [
            " ...done. (0 seconds, 0 min)\n"
          ]
        },
        {
          "output_type": "stream",
          "name": "stdout",
          "text": [
            "Downloading data from https://s3.amazonaws.com/fcp-indi/data/Projects/ABIDE_Initiative/Outputs/cpac/filt_noglobal/rois_cc200/UM_2_0050391_rois_cc200.1D ...\n"
          ]
        },
        {
          "output_type": "stream",
          "name": "stderr",
          "text": [
            " ...done. (0 seconds, 0 min)\n"
          ]
        },
        {
          "output_type": "stream",
          "name": "stdout",
          "text": [
            "Downloading data from https://s3.amazonaws.com/fcp-indi/data/Projects/ABIDE_Initiative/Outputs/cpac/filt_noglobal/rois_cc200/UM_2_0050397_rois_cc200.1D ...\n"
          ]
        },
        {
          "output_type": "stream",
          "name": "stderr",
          "text": [
            " ...done. (0 seconds, 0 min)\n"
          ]
        },
        {
          "output_type": "stream",
          "name": "stdout",
          "text": [
            "Downloading data from https://s3.amazonaws.com/fcp-indi/data/Projects/ABIDE_Initiative/Outputs/cpac/filt_noglobal/rois_cc200/UM_2_0050399_rois_cc200.1D ...\n"
          ]
        },
        {
          "output_type": "stream",
          "name": "stderr",
          "text": [
            " ...done. (0 seconds, 0 min)\n"
          ]
        },
        {
          "output_type": "stream",
          "name": "stdout",
          "text": [
            "Downloading data from https://s3.amazonaws.com/fcp-indi/data/Projects/ABIDE_Initiative/Outputs/cpac/filt_noglobal/rois_cc200/UM_2_0050402_rois_cc200.1D ...\n"
          ]
        },
        {
          "output_type": "stream",
          "name": "stderr",
          "text": [
            " ...done. (0 seconds, 0 min)\n"
          ]
        },
        {
          "output_type": "stream",
          "name": "stdout",
          "text": [
            "Downloading data from https://s3.amazonaws.com/fcp-indi/data/Projects/ABIDE_Initiative/Outputs/cpac/filt_noglobal/rois_cc200/UM_2_0050403_rois_cc200.1D ...\n"
          ]
        },
        {
          "output_type": "stream",
          "name": "stderr",
          "text": [
            " ...done. (0 seconds, 0 min)\n"
          ]
        },
        {
          "output_type": "stream",
          "name": "stdout",
          "text": [
            "Downloading data from https://s3.amazonaws.com/fcp-indi/data/Projects/ABIDE_Initiative/Outputs/cpac/filt_noglobal/rois_cc200/UM_2_0050404_rois_cc200.1D ...\n"
          ]
        },
        {
          "output_type": "stream",
          "name": "stderr",
          "text": [
            " ...done. (0 seconds, 0 min)\n"
          ]
        },
        {
          "output_type": "stream",
          "name": "stdout",
          "text": [
            "Downloading data from https://s3.amazonaws.com/fcp-indi/data/Projects/ABIDE_Initiative/Outputs/cpac/filt_noglobal/rois_cc200/UM_2_0050405_rois_cc200.1D ...\n"
          ]
        },
        {
          "output_type": "stream",
          "name": "stderr",
          "text": [
            " ...done. (0 seconds, 0 min)\n"
          ]
        },
        {
          "output_type": "stream",
          "name": "stdout",
          "text": [
            "Downloading data from https://s3.amazonaws.com/fcp-indi/data/Projects/ABIDE_Initiative/Outputs/cpac/filt_noglobal/rois_cc200/UM_2_0050406_rois_cc200.1D ...\n"
          ]
        },
        {
          "output_type": "stream",
          "name": "stderr",
          "text": [
            " ...done. (0 seconds, 0 min)\n"
          ]
        },
        {
          "output_type": "stream",
          "name": "stdout",
          "text": [
            "Downloading data from https://s3.amazonaws.com/fcp-indi/data/Projects/ABIDE_Initiative/Outputs/cpac/filt_noglobal/rois_cc200/UM_2_0050407_rois_cc200.1D ...\n"
          ]
        },
        {
          "output_type": "stream",
          "name": "stderr",
          "text": [
            " ...done. (0 seconds, 0 min)\n"
          ]
        },
        {
          "output_type": "stream",
          "name": "stdout",
          "text": [
            "Downloading data from https://s3.amazonaws.com/fcp-indi/data/Projects/ABIDE_Initiative/Outputs/cpac/filt_noglobal/rois_cc200/UM_2_0050408_rois_cc200.1D ...\n"
          ]
        },
        {
          "output_type": "stream",
          "name": "stderr",
          "text": [
            " ...done. (0 seconds, 0 min)\n"
          ]
        },
        {
          "output_type": "stream",
          "name": "stdout",
          "text": [
            "Downloading data from https://s3.amazonaws.com/fcp-indi/data/Projects/ABIDE_Initiative/Outputs/cpac/filt_noglobal/rois_cc200/UM_2_0050410_rois_cc200.1D ...\n"
          ]
        },
        {
          "output_type": "stream",
          "name": "stderr",
          "text": [
            " ...done. (0 seconds, 0 min)\n"
          ]
        },
        {
          "output_type": "stream",
          "name": "stdout",
          "text": [
            "Downloading data from https://s3.amazonaws.com/fcp-indi/data/Projects/ABIDE_Initiative/Outputs/cpac/filt_noglobal/rois_cc200/UM_2_0050411_rois_cc200.1D ...\n"
          ]
        },
        {
          "output_type": "stream",
          "name": "stderr",
          "text": [
            " ...done. (0 seconds, 0 min)\n"
          ]
        },
        {
          "output_type": "stream",
          "name": "stdout",
          "text": [
            "Downloading data from https://s3.amazonaws.com/fcp-indi/data/Projects/ABIDE_Initiative/Outputs/cpac/filt_noglobal/rois_cc200/UM_2_0050412_rois_cc200.1D ...\n"
          ]
        },
        {
          "output_type": "stream",
          "name": "stderr",
          "text": [
            " ...done. (0 seconds, 0 min)\n"
          ]
        },
        {
          "output_type": "stream",
          "name": "stdout",
          "text": [
            "Downloading data from https://s3.amazonaws.com/fcp-indi/data/Projects/ABIDE_Initiative/Outputs/cpac/filt_noglobal/rois_cc200/UM_2_0050413_rois_cc200.1D ...\n"
          ]
        },
        {
          "output_type": "stream",
          "name": "stderr",
          "text": [
            " ...done. (0 seconds, 0 min)\n"
          ]
        },
        {
          "output_type": "stream",
          "name": "stdout",
          "text": [
            "Downloading data from https://s3.amazonaws.com/fcp-indi/data/Projects/ABIDE_Initiative/Outputs/cpac/filt_noglobal/rois_cc200/UM_2_0050414_rois_cc200.1D ...\n"
          ]
        },
        {
          "output_type": "stream",
          "name": "stderr",
          "text": [
            " ...done. (0 seconds, 0 min)\n"
          ]
        },
        {
          "output_type": "stream",
          "name": "stdout",
          "text": [
            "Downloading data from https://s3.amazonaws.com/fcp-indi/data/Projects/ABIDE_Initiative/Outputs/cpac/filt_noglobal/rois_cc200/UM_2_0050415_rois_cc200.1D ...\n"
          ]
        },
        {
          "output_type": "stream",
          "name": "stderr",
          "text": [
            " ...done. (0 seconds, 0 min)\n"
          ]
        },
        {
          "output_type": "stream",
          "name": "stdout",
          "text": [
            "Downloading data from https://s3.amazonaws.com/fcp-indi/data/Projects/ABIDE_Initiative/Outputs/cpac/filt_noglobal/rois_cc200/UM_2_0050416_rois_cc200.1D ...\n"
          ]
        },
        {
          "output_type": "stream",
          "name": "stderr",
          "text": [
            " ...done. (0 seconds, 0 min)\n"
          ]
        },
        {
          "output_type": "stream",
          "name": "stdout",
          "text": [
            "Downloading data from https://s3.amazonaws.com/fcp-indi/data/Projects/ABIDE_Initiative/Outputs/cpac/filt_noglobal/rois_cc200/UM_2_0050417_rois_cc200.1D ...\n"
          ]
        },
        {
          "output_type": "stream",
          "name": "stderr",
          "text": [
            " ...done. (0 seconds, 0 min)\n"
          ]
        },
        {
          "output_type": "stream",
          "name": "stdout",
          "text": [
            "Downloading data from https://s3.amazonaws.com/fcp-indi/data/Projects/ABIDE_Initiative/Outputs/cpac/filt_noglobal/rois_cc200/UM_2_0050418_rois_cc200.1D ...\n"
          ]
        },
        {
          "output_type": "stream",
          "name": "stderr",
          "text": [
            " ...done. (0 seconds, 0 min)\n"
          ]
        },
        {
          "output_type": "stream",
          "name": "stdout",
          "text": [
            "Downloading data from https://s3.amazonaws.com/fcp-indi/data/Projects/ABIDE_Initiative/Outputs/cpac/filt_noglobal/rois_cc200/UM_2_0050419_rois_cc200.1D ...\n"
          ]
        },
        {
          "output_type": "stream",
          "name": "stderr",
          "text": [
            " ...done. (0 seconds, 0 min)\n"
          ]
        },
        {
          "output_type": "stream",
          "name": "stdout",
          "text": [
            "Downloading data from https://s3.amazonaws.com/fcp-indi/data/Projects/ABIDE_Initiative/Outputs/cpac/filt_noglobal/rois_cc200/UM_2_0050421_rois_cc200.1D ...\n"
          ]
        },
        {
          "output_type": "stream",
          "name": "stderr",
          "text": [
            " ...done. (0 seconds, 0 min)\n"
          ]
        },
        {
          "output_type": "stream",
          "name": "stdout",
          "text": [
            "Downloading data from https://s3.amazonaws.com/fcp-indi/data/Projects/ABIDE_Initiative/Outputs/cpac/filt_noglobal/rois_cc200/UM_2_0050422_rois_cc200.1D ...\n"
          ]
        },
        {
          "output_type": "stream",
          "name": "stderr",
          "text": [
            " ...done. (0 seconds, 0 min)\n"
          ]
        },
        {
          "output_type": "stream",
          "name": "stdout",
          "text": [
            "Downloading data from https://s3.amazonaws.com/fcp-indi/data/Projects/ABIDE_Initiative/Outputs/cpac/filt_noglobal/rois_cc200/UM_2_0050424_rois_cc200.1D ...\n"
          ]
        },
        {
          "output_type": "stream",
          "name": "stderr",
          "text": [
            " ...done. (0 seconds, 0 min)\n"
          ]
        },
        {
          "output_type": "stream",
          "name": "stdout",
          "text": [
            "Downloading data from https://s3.amazonaws.com/fcp-indi/data/Projects/ABIDE_Initiative/Outputs/cpac/filt_noglobal/rois_cc200/UM_2_0050425_rois_cc200.1D ...\n"
          ]
        },
        {
          "output_type": "stream",
          "name": "stderr",
          "text": [
            " ...done. (0 seconds, 0 min)\n"
          ]
        },
        {
          "output_type": "stream",
          "name": "stdout",
          "text": [
            "Downloading data from https://s3.amazonaws.com/fcp-indi/data/Projects/ABIDE_Initiative/Outputs/cpac/filt_noglobal/rois_cc200/UM_2_0050426_rois_cc200.1D ...\n"
          ]
        },
        {
          "output_type": "stream",
          "name": "stderr",
          "text": [
            " ...done. (0 seconds, 0 min)\n"
          ]
        },
        {
          "output_type": "stream",
          "name": "stdout",
          "text": [
            "Downloading data from https://s3.amazonaws.com/fcp-indi/data/Projects/ABIDE_Initiative/Outputs/cpac/filt_noglobal/rois_cc200/UM_2_0050427_rois_cc200.1D ...\n"
          ]
        },
        {
          "output_type": "stream",
          "name": "stderr",
          "text": [
            " ...done. (0 seconds, 0 min)\n"
          ]
        },
        {
          "output_type": "stream",
          "name": "stdout",
          "text": [
            "Downloading data from https://s3.amazonaws.com/fcp-indi/data/Projects/ABIDE_Initiative/Outputs/cpac/filt_noglobal/rois_cc200/UM_2_0050428_rois_cc200.1D ...\n"
          ]
        },
        {
          "output_type": "stream",
          "name": "stderr",
          "text": [
            " ...done. (0 seconds, 0 min)\n"
          ]
        },
        {
          "output_type": "stream",
          "name": "stdout",
          "text": [
            "Downloading data from https://s3.amazonaws.com/fcp-indi/data/Projects/ABIDE_Initiative/Outputs/cpac/filt_noglobal/rois_cc200/USM_0050433_rois_cc200.1D ...\n"
          ]
        },
        {
          "output_type": "stream",
          "name": "stderr",
          "text": [
            " ...done. (0 seconds, 0 min)\n"
          ]
        },
        {
          "output_type": "stream",
          "name": "stdout",
          "text": [
            "Downloading data from https://s3.amazonaws.com/fcp-indi/data/Projects/ABIDE_Initiative/Outputs/cpac/filt_noglobal/rois_cc200/USM_0050434_rois_cc200.1D ...\n"
          ]
        },
        {
          "output_type": "stream",
          "name": "stderr",
          "text": [
            " ...done. (0 seconds, 0 min)\n"
          ]
        },
        {
          "output_type": "stream",
          "name": "stdout",
          "text": [
            "Downloading data from https://s3.amazonaws.com/fcp-indi/data/Projects/ABIDE_Initiative/Outputs/cpac/filt_noglobal/rois_cc200/USM_0050435_rois_cc200.1D ...\n"
          ]
        },
        {
          "output_type": "stream",
          "name": "stderr",
          "text": [
            " ...done. (0 seconds, 0 min)\n"
          ]
        },
        {
          "output_type": "stream",
          "name": "stdout",
          "text": [
            "Downloading data from https://s3.amazonaws.com/fcp-indi/data/Projects/ABIDE_Initiative/Outputs/cpac/filt_noglobal/rois_cc200/USM_0050436_rois_cc200.1D ...\n"
          ]
        },
        {
          "output_type": "stream",
          "name": "stderr",
          "text": [
            " ...done. (0 seconds, 0 min)\n"
          ]
        },
        {
          "output_type": "stream",
          "name": "stdout",
          "text": [
            "Downloading data from https://s3.amazonaws.com/fcp-indi/data/Projects/ABIDE_Initiative/Outputs/cpac/filt_noglobal/rois_cc200/USM_0050437_rois_cc200.1D ...\n"
          ]
        },
        {
          "output_type": "stream",
          "name": "stderr",
          "text": [
            " ...done. (0 seconds, 0 min)\n"
          ]
        },
        {
          "output_type": "stream",
          "name": "stdout",
          "text": [
            "Downloading data from https://s3.amazonaws.com/fcp-indi/data/Projects/ABIDE_Initiative/Outputs/cpac/filt_noglobal/rois_cc200/USM_0050438_rois_cc200.1D ...\n"
          ]
        },
        {
          "output_type": "stream",
          "name": "stderr",
          "text": [
            " ...done. (0 seconds, 0 min)\n"
          ]
        },
        {
          "output_type": "stream",
          "name": "stdout",
          "text": [
            "Downloading data from https://s3.amazonaws.com/fcp-indi/data/Projects/ABIDE_Initiative/Outputs/cpac/filt_noglobal/rois_cc200/USM_0050439_rois_cc200.1D ...\n"
          ]
        },
        {
          "output_type": "stream",
          "name": "stderr",
          "text": [
            " ...done. (0 seconds, 0 min)\n"
          ]
        },
        {
          "output_type": "stream",
          "name": "stdout",
          "text": [
            "Downloading data from https://s3.amazonaws.com/fcp-indi/data/Projects/ABIDE_Initiative/Outputs/cpac/filt_noglobal/rois_cc200/USM_0050440_rois_cc200.1D ...\n"
          ]
        },
        {
          "output_type": "stream",
          "name": "stderr",
          "text": [
            " ...done. (0 seconds, 0 min)\n"
          ]
        },
        {
          "output_type": "stream",
          "name": "stdout",
          "text": [
            "Downloading data from https://s3.amazonaws.com/fcp-indi/data/Projects/ABIDE_Initiative/Outputs/cpac/filt_noglobal/rois_cc200/USM_0050441_rois_cc200.1D ...\n"
          ]
        },
        {
          "output_type": "stream",
          "name": "stderr",
          "text": [
            " ...done. (0 seconds, 0 min)\n"
          ]
        },
        {
          "output_type": "stream",
          "name": "stdout",
          "text": [
            "Downloading data from https://s3.amazonaws.com/fcp-indi/data/Projects/ABIDE_Initiative/Outputs/cpac/filt_noglobal/rois_cc200/USM_0050442_rois_cc200.1D ...\n"
          ]
        },
        {
          "output_type": "stream",
          "name": "stderr",
          "text": [
            " ...done. (0 seconds, 0 min)\n"
          ]
        },
        {
          "output_type": "stream",
          "name": "stdout",
          "text": [
            "Downloading data from https://s3.amazonaws.com/fcp-indi/data/Projects/ABIDE_Initiative/Outputs/cpac/filt_noglobal/rois_cc200/USM_0050443_rois_cc200.1D ...\n"
          ]
        },
        {
          "output_type": "stream",
          "name": "stderr",
          "text": [
            " ...done. (0 seconds, 0 min)\n"
          ]
        },
        {
          "output_type": "stream",
          "name": "stdout",
          "text": [
            "Downloading data from https://s3.amazonaws.com/fcp-indi/data/Projects/ABIDE_Initiative/Outputs/cpac/filt_noglobal/rois_cc200/USM_0050444_rois_cc200.1D ...\n"
          ]
        },
        {
          "output_type": "stream",
          "name": "stderr",
          "text": [
            " ...done. (0 seconds, 0 min)\n"
          ]
        },
        {
          "output_type": "stream",
          "name": "stdout",
          "text": [
            "Downloading data from https://s3.amazonaws.com/fcp-indi/data/Projects/ABIDE_Initiative/Outputs/cpac/filt_noglobal/rois_cc200/USM_0050445_rois_cc200.1D ...\n"
          ]
        },
        {
          "output_type": "stream",
          "name": "stderr",
          "text": [
            " ...done. (0 seconds, 0 min)\n"
          ]
        },
        {
          "output_type": "stream",
          "name": "stdout",
          "text": [
            "Downloading data from https://s3.amazonaws.com/fcp-indi/data/Projects/ABIDE_Initiative/Outputs/cpac/filt_noglobal/rois_cc200/USM_0050446_rois_cc200.1D ...\n"
          ]
        },
        {
          "output_type": "stream",
          "name": "stderr",
          "text": [
            " ...done. (0 seconds, 0 min)\n"
          ]
        },
        {
          "output_type": "stream",
          "name": "stdout",
          "text": [
            "Downloading data from https://s3.amazonaws.com/fcp-indi/data/Projects/ABIDE_Initiative/Outputs/cpac/filt_noglobal/rois_cc200/USM_0050447_rois_cc200.1D ...\n"
          ]
        },
        {
          "output_type": "stream",
          "name": "stderr",
          "text": [
            " ...done. (0 seconds, 0 min)\n"
          ]
        },
        {
          "output_type": "stream",
          "name": "stdout",
          "text": [
            "Downloading data from https://s3.amazonaws.com/fcp-indi/data/Projects/ABIDE_Initiative/Outputs/cpac/filt_noglobal/rois_cc200/USM_0050448_rois_cc200.1D ...\n"
          ]
        },
        {
          "output_type": "stream",
          "name": "stderr",
          "text": [
            " ...done. (0 seconds, 0 min)\n"
          ]
        },
        {
          "output_type": "stream",
          "name": "stdout",
          "text": [
            "Downloading data from https://s3.amazonaws.com/fcp-indi/data/Projects/ABIDE_Initiative/Outputs/cpac/filt_noglobal/rois_cc200/USM_0050449_rois_cc200.1D ...\n"
          ]
        },
        {
          "output_type": "stream",
          "name": "stderr",
          "text": [
            " ...done. (0 seconds, 0 min)\n"
          ]
        },
        {
          "output_type": "stream",
          "name": "stdout",
          "text": [
            "Downloading data from https://s3.amazonaws.com/fcp-indi/data/Projects/ABIDE_Initiative/Outputs/cpac/filt_noglobal/rois_cc200/USM_0050453_rois_cc200.1D ...\n"
          ]
        },
        {
          "output_type": "stream",
          "name": "stderr",
          "text": [
            " ...done. (0 seconds, 0 min)\n"
          ]
        },
        {
          "output_type": "stream",
          "name": "stdout",
          "text": [
            "Downloading data from https://s3.amazonaws.com/fcp-indi/data/Projects/ABIDE_Initiative/Outputs/cpac/filt_noglobal/rois_cc200/USM_0050455_rois_cc200.1D ...\n"
          ]
        },
        {
          "output_type": "stream",
          "name": "stderr",
          "text": [
            " ...done. (0 seconds, 0 min)\n"
          ]
        },
        {
          "output_type": "stream",
          "name": "stdout",
          "text": [
            "Downloading data from https://s3.amazonaws.com/fcp-indi/data/Projects/ABIDE_Initiative/Outputs/cpac/filt_noglobal/rois_cc200/USM_0050463_rois_cc200.1D ...\n"
          ]
        },
        {
          "output_type": "stream",
          "name": "stderr",
          "text": [
            " ...done. (0 seconds, 0 min)\n"
          ]
        },
        {
          "output_type": "stream",
          "name": "stdout",
          "text": [
            "Downloading data from https://s3.amazonaws.com/fcp-indi/data/Projects/ABIDE_Initiative/Outputs/cpac/filt_noglobal/rois_cc200/USM_0050466_rois_cc200.1D ...\n"
          ]
        },
        {
          "output_type": "stream",
          "name": "stderr",
          "text": [
            " ...done. (0 seconds, 0 min)\n"
          ]
        },
        {
          "output_type": "stream",
          "name": "stdout",
          "text": [
            "Downloading data from https://s3.amazonaws.com/fcp-indi/data/Projects/ABIDE_Initiative/Outputs/cpac/filt_noglobal/rois_cc200/USM_0050467_rois_cc200.1D ...\n"
          ]
        },
        {
          "output_type": "stream",
          "name": "stderr",
          "text": [
            " ...done. (0 seconds, 0 min)\n"
          ]
        },
        {
          "output_type": "stream",
          "name": "stdout",
          "text": [
            "Downloading data from https://s3.amazonaws.com/fcp-indi/data/Projects/ABIDE_Initiative/Outputs/cpac/filt_noglobal/rois_cc200/USM_0050468_rois_cc200.1D ...\n"
          ]
        },
        {
          "output_type": "stream",
          "name": "stderr",
          "text": [
            " ...done. (0 seconds, 0 min)\n"
          ]
        },
        {
          "output_type": "stream",
          "name": "stdout",
          "text": [
            "Downloading data from https://s3.amazonaws.com/fcp-indi/data/Projects/ABIDE_Initiative/Outputs/cpac/filt_noglobal/rois_cc200/USM_0050469_rois_cc200.1D ...\n"
          ]
        },
        {
          "output_type": "stream",
          "name": "stderr",
          "text": [
            " ...done. (0 seconds, 0 min)\n"
          ]
        },
        {
          "output_type": "stream",
          "name": "stdout",
          "text": [
            "Downloading data from https://s3.amazonaws.com/fcp-indi/data/Projects/ABIDE_Initiative/Outputs/cpac/filt_noglobal/rois_cc200/USM_0050470_rois_cc200.1D ...\n"
          ]
        },
        {
          "output_type": "stream",
          "name": "stderr",
          "text": [
            " ...done. (0 seconds, 0 min)\n"
          ]
        },
        {
          "output_type": "stream",
          "name": "stdout",
          "text": [
            "Downloading data from https://s3.amazonaws.com/fcp-indi/data/Projects/ABIDE_Initiative/Outputs/cpac/filt_noglobal/rois_cc200/USM_0050477_rois_cc200.1D ...\n"
          ]
        },
        {
          "output_type": "stream",
          "name": "stderr",
          "text": [
            " ...done. (0 seconds, 0 min)\n"
          ]
        },
        {
          "output_type": "stream",
          "name": "stdout",
          "text": [
            "Downloading data from https://s3.amazonaws.com/fcp-indi/data/Projects/ABIDE_Initiative/Outputs/cpac/filt_noglobal/rois_cc200/USM_0050480_rois_cc200.1D ...\n"
          ]
        },
        {
          "output_type": "stream",
          "name": "stderr",
          "text": [
            " ...done. (0 seconds, 0 min)\n"
          ]
        },
        {
          "output_type": "stream",
          "name": "stdout",
          "text": [
            "Downloading data from https://s3.amazonaws.com/fcp-indi/data/Projects/ABIDE_Initiative/Outputs/cpac/filt_noglobal/rois_cc200/USM_0050481_rois_cc200.1D ...\n"
          ]
        },
        {
          "output_type": "stream",
          "name": "stderr",
          "text": [
            " ...done. (0 seconds, 0 min)\n"
          ]
        },
        {
          "output_type": "stream",
          "name": "stdout",
          "text": [
            "Downloading data from https://s3.amazonaws.com/fcp-indi/data/Projects/ABIDE_Initiative/Outputs/cpac/filt_noglobal/rois_cc200/USM_0050482_rois_cc200.1D ...\n"
          ]
        },
        {
          "output_type": "stream",
          "name": "stderr",
          "text": [
            " ...done. (0 seconds, 0 min)\n"
          ]
        },
        {
          "output_type": "stream",
          "name": "stdout",
          "text": [
            "Downloading data from https://s3.amazonaws.com/fcp-indi/data/Projects/ABIDE_Initiative/Outputs/cpac/filt_noglobal/rois_cc200/USM_0050483_rois_cc200.1D ...\n"
          ]
        },
        {
          "output_type": "stream",
          "name": "stderr",
          "text": [
            " ...done. (0 seconds, 0 min)\n"
          ]
        },
        {
          "output_type": "stream",
          "name": "stdout",
          "text": [
            "Downloading data from https://s3.amazonaws.com/fcp-indi/data/Projects/ABIDE_Initiative/Outputs/cpac/filt_noglobal/rois_cc200/USM_0050485_rois_cc200.1D ...\n"
          ]
        },
        {
          "output_type": "stream",
          "name": "stderr",
          "text": [
            " ...done. (0 seconds, 0 min)\n"
          ]
        },
        {
          "output_type": "stream",
          "name": "stdout",
          "text": [
            "Downloading data from https://s3.amazonaws.com/fcp-indi/data/Projects/ABIDE_Initiative/Outputs/cpac/filt_noglobal/rois_cc200/USM_0050486_rois_cc200.1D ...\n"
          ]
        },
        {
          "output_type": "stream",
          "name": "stderr",
          "text": [
            " ...done. (0 seconds, 0 min)\n"
          ]
        },
        {
          "output_type": "stream",
          "name": "stdout",
          "text": [
            "Downloading data from https://s3.amazonaws.com/fcp-indi/data/Projects/ABIDE_Initiative/Outputs/cpac/filt_noglobal/rois_cc200/USM_0050487_rois_cc200.1D ...\n"
          ]
        },
        {
          "output_type": "stream",
          "name": "stderr",
          "text": [
            " ...done. (0 seconds, 0 min)\n"
          ]
        },
        {
          "output_type": "stream",
          "name": "stdout",
          "text": [
            "Downloading data from https://s3.amazonaws.com/fcp-indi/data/Projects/ABIDE_Initiative/Outputs/cpac/filt_noglobal/rois_cc200/USM_0050488_rois_cc200.1D ...\n"
          ]
        },
        {
          "output_type": "stream",
          "name": "stderr",
          "text": [
            " ...done. (0 seconds, 0 min)\n"
          ]
        },
        {
          "output_type": "stream",
          "name": "stdout",
          "text": [
            "Downloading data from https://s3.amazonaws.com/fcp-indi/data/Projects/ABIDE_Initiative/Outputs/cpac/filt_noglobal/rois_cc200/USM_0050489_rois_cc200.1D ...\n"
          ]
        },
        {
          "output_type": "stream",
          "name": "stderr",
          "text": [
            " ...done. (0 seconds, 0 min)\n"
          ]
        },
        {
          "output_type": "stream",
          "name": "stdout",
          "text": [
            "Downloading data from https://s3.amazonaws.com/fcp-indi/data/Projects/ABIDE_Initiative/Outputs/cpac/filt_noglobal/rois_cc200/USM_0050490_rois_cc200.1D ...\n"
          ]
        },
        {
          "output_type": "stream",
          "name": "stderr",
          "text": [
            " ...done. (0 seconds, 0 min)\n"
          ]
        },
        {
          "output_type": "stream",
          "name": "stdout",
          "text": [
            "Downloading data from https://s3.amazonaws.com/fcp-indi/data/Projects/ABIDE_Initiative/Outputs/cpac/filt_noglobal/rois_cc200/USM_0050491_rois_cc200.1D ...\n"
          ]
        },
        {
          "output_type": "stream",
          "name": "stderr",
          "text": [
            " ...done. (0 seconds, 0 min)\n"
          ]
        },
        {
          "output_type": "stream",
          "name": "stdout",
          "text": [
            "Downloading data from https://s3.amazonaws.com/fcp-indi/data/Projects/ABIDE_Initiative/Outputs/cpac/filt_noglobal/rois_cc200/USM_0050492_rois_cc200.1D ...\n"
          ]
        },
        {
          "output_type": "stream",
          "name": "stderr",
          "text": [
            " ...done. (0 seconds, 0 min)\n"
          ]
        },
        {
          "output_type": "stream",
          "name": "stdout",
          "text": [
            "Downloading data from https://s3.amazonaws.com/fcp-indi/data/Projects/ABIDE_Initiative/Outputs/cpac/filt_noglobal/rois_cc200/USM_0050493_rois_cc200.1D ...\n"
          ]
        },
        {
          "output_type": "stream",
          "name": "stderr",
          "text": [
            " ...done. (0 seconds, 0 min)\n"
          ]
        },
        {
          "output_type": "stream",
          "name": "stdout",
          "text": [
            "Downloading data from https://s3.amazonaws.com/fcp-indi/data/Projects/ABIDE_Initiative/Outputs/cpac/filt_noglobal/rois_cc200/USM_0050494_rois_cc200.1D ...\n"
          ]
        },
        {
          "output_type": "stream",
          "name": "stderr",
          "text": [
            " ...done. (0 seconds, 0 min)\n"
          ]
        },
        {
          "output_type": "stream",
          "name": "stdout",
          "text": [
            "Downloading data from https://s3.amazonaws.com/fcp-indi/data/Projects/ABIDE_Initiative/Outputs/cpac/filt_noglobal/rois_cc200/USM_0050496_rois_cc200.1D ...\n"
          ]
        },
        {
          "output_type": "stream",
          "name": "stderr",
          "text": [
            " ...done. (0 seconds, 0 min)\n"
          ]
        },
        {
          "output_type": "stream",
          "name": "stdout",
          "text": [
            "Downloading data from https://s3.amazonaws.com/fcp-indi/data/Projects/ABIDE_Initiative/Outputs/cpac/filt_noglobal/rois_cc200/USM_0050497_rois_cc200.1D ...\n"
          ]
        },
        {
          "output_type": "stream",
          "name": "stderr",
          "text": [
            " ...done. (0 seconds, 0 min)\n"
          ]
        },
        {
          "output_type": "stream",
          "name": "stdout",
          "text": [
            "Downloading data from https://s3.amazonaws.com/fcp-indi/data/Projects/ABIDE_Initiative/Outputs/cpac/filt_noglobal/rois_cc200/USM_0050498_rois_cc200.1D ...\n"
          ]
        },
        {
          "output_type": "stream",
          "name": "stderr",
          "text": [
            " ...done. (0 seconds, 0 min)\n"
          ]
        },
        {
          "output_type": "stream",
          "name": "stdout",
          "text": [
            "Downloading data from https://s3.amazonaws.com/fcp-indi/data/Projects/ABIDE_Initiative/Outputs/cpac/filt_noglobal/rois_cc200/USM_0050499_rois_cc200.1D ...\n"
          ]
        },
        {
          "output_type": "stream",
          "name": "stderr",
          "text": [
            " ...done. (0 seconds, 0 min)\n"
          ]
        },
        {
          "output_type": "stream",
          "name": "stdout",
          "text": [
            "Downloading data from https://s3.amazonaws.com/fcp-indi/data/Projects/ABIDE_Initiative/Outputs/cpac/filt_noglobal/rois_cc200/USM_0050500_rois_cc200.1D ...\n"
          ]
        },
        {
          "output_type": "stream",
          "name": "stderr",
          "text": [
            " ...done. (0 seconds, 0 min)\n"
          ]
        },
        {
          "output_type": "stream",
          "name": "stdout",
          "text": [
            "Downloading data from https://s3.amazonaws.com/fcp-indi/data/Projects/ABIDE_Initiative/Outputs/cpac/filt_noglobal/rois_cc200/USM_0050501_rois_cc200.1D ...\n"
          ]
        },
        {
          "output_type": "stream",
          "name": "stderr",
          "text": [
            " ...done. (0 seconds, 0 min)\n"
          ]
        },
        {
          "output_type": "stream",
          "name": "stdout",
          "text": [
            "Downloading data from https://s3.amazonaws.com/fcp-indi/data/Projects/ABIDE_Initiative/Outputs/cpac/filt_noglobal/rois_cc200/USM_0050502_rois_cc200.1D ...\n"
          ]
        },
        {
          "output_type": "stream",
          "name": "stderr",
          "text": [
            " ...done. (0 seconds, 0 min)\n"
          ]
        },
        {
          "output_type": "stream",
          "name": "stdout",
          "text": [
            "Downloading data from https://s3.amazonaws.com/fcp-indi/data/Projects/ABIDE_Initiative/Outputs/cpac/filt_noglobal/rois_cc200/USM_0050503_rois_cc200.1D ...\n"
          ]
        },
        {
          "output_type": "stream",
          "name": "stderr",
          "text": [
            " ...done. (0 seconds, 0 min)\n"
          ]
        },
        {
          "output_type": "stream",
          "name": "stdout",
          "text": [
            "Downloading data from https://s3.amazonaws.com/fcp-indi/data/Projects/ABIDE_Initiative/Outputs/cpac/filt_noglobal/rois_cc200/USM_0050504_rois_cc200.1D ...\n"
          ]
        },
        {
          "output_type": "stream",
          "name": "stderr",
          "text": [
            " ...done. (0 seconds, 0 min)\n"
          ]
        },
        {
          "output_type": "stream",
          "name": "stdout",
          "text": [
            "Downloading data from https://s3.amazonaws.com/fcp-indi/data/Projects/ABIDE_Initiative/Outputs/cpac/filt_noglobal/rois_cc200/USM_0050505_rois_cc200.1D ...\n"
          ]
        },
        {
          "output_type": "stream",
          "name": "stderr",
          "text": [
            " ...done. (0 seconds, 0 min)\n"
          ]
        },
        {
          "output_type": "stream",
          "name": "stdout",
          "text": [
            "Downloading data from https://s3.amazonaws.com/fcp-indi/data/Projects/ABIDE_Initiative/Outputs/cpac/filt_noglobal/rois_cc200/USM_0050507_rois_cc200.1D ...\n"
          ]
        },
        {
          "output_type": "stream",
          "name": "stderr",
          "text": [
            " ...done. (0 seconds, 0 min)\n"
          ]
        },
        {
          "output_type": "stream",
          "name": "stdout",
          "text": [
            "Downloading data from https://s3.amazonaws.com/fcp-indi/data/Projects/ABIDE_Initiative/Outputs/cpac/filt_noglobal/rois_cc200/USM_0050509_rois_cc200.1D ...\n"
          ]
        },
        {
          "output_type": "stream",
          "name": "stderr",
          "text": [
            " ...done. (0 seconds, 0 min)\n"
          ]
        },
        {
          "output_type": "stream",
          "name": "stdout",
          "text": [
            "Downloading data from https://s3.amazonaws.com/fcp-indi/data/Projects/ABIDE_Initiative/Outputs/cpac/filt_noglobal/rois_cc200/USM_0050510_rois_cc200.1D ...\n"
          ]
        },
        {
          "output_type": "stream",
          "name": "stderr",
          "text": [
            " ...done. (0 seconds, 0 min)\n"
          ]
        },
        {
          "output_type": "stream",
          "name": "stdout",
          "text": [
            "Downloading data from https://s3.amazonaws.com/fcp-indi/data/Projects/ABIDE_Initiative/Outputs/cpac/filt_noglobal/rois_cc200/USM_0050511_rois_cc200.1D ...\n"
          ]
        },
        {
          "output_type": "stream",
          "name": "stderr",
          "text": [
            " ...done. (0 seconds, 0 min)\n"
          ]
        },
        {
          "output_type": "stream",
          "name": "stdout",
          "text": [
            "Downloading data from https://s3.amazonaws.com/fcp-indi/data/Projects/ABIDE_Initiative/Outputs/cpac/filt_noglobal/rois_cc200/USM_0050514_rois_cc200.1D ...\n"
          ]
        },
        {
          "output_type": "stream",
          "name": "stderr",
          "text": [
            " ...done. (0 seconds, 0 min)\n"
          ]
        },
        {
          "output_type": "stream",
          "name": "stdout",
          "text": [
            "Downloading data from https://s3.amazonaws.com/fcp-indi/data/Projects/ABIDE_Initiative/Outputs/cpac/filt_noglobal/rois_cc200/USM_0050515_rois_cc200.1D ...\n"
          ]
        },
        {
          "output_type": "stream",
          "name": "stderr",
          "text": [
            " ...done. (0 seconds, 0 min)\n"
          ]
        },
        {
          "output_type": "stream",
          "name": "stdout",
          "text": [
            "Downloading data from https://s3.amazonaws.com/fcp-indi/data/Projects/ABIDE_Initiative/Outputs/cpac/filt_noglobal/rois_cc200/USM_0050516_rois_cc200.1D ...\n"
          ]
        },
        {
          "output_type": "stream",
          "name": "stderr",
          "text": [
            " ...done. (0 seconds, 0 min)\n"
          ]
        },
        {
          "output_type": "stream",
          "name": "stdout",
          "text": [
            "Downloading data from https://s3.amazonaws.com/fcp-indi/data/Projects/ABIDE_Initiative/Outputs/cpac/filt_noglobal/rois_cc200/USM_0050518_rois_cc200.1D ...\n"
          ]
        },
        {
          "output_type": "stream",
          "name": "stderr",
          "text": [
            " ...done. (0 seconds, 0 min)\n"
          ]
        },
        {
          "output_type": "stream",
          "name": "stdout",
          "text": [
            "Downloading data from https://s3.amazonaws.com/fcp-indi/data/Projects/ABIDE_Initiative/Outputs/cpac/filt_noglobal/rois_cc200/USM_0050519_rois_cc200.1D ...\n"
          ]
        },
        {
          "output_type": "stream",
          "name": "stderr",
          "text": [
            " ...done. (0 seconds, 0 min)\n"
          ]
        },
        {
          "output_type": "stream",
          "name": "stdout",
          "text": [
            "Downloading data from https://s3.amazonaws.com/fcp-indi/data/Projects/ABIDE_Initiative/Outputs/cpac/filt_noglobal/rois_cc200/USM_0050520_rois_cc200.1D ...\n"
          ]
        },
        {
          "output_type": "stream",
          "name": "stderr",
          "text": [
            " ...done. (0 seconds, 0 min)\n"
          ]
        },
        {
          "output_type": "stream",
          "name": "stdout",
          "text": [
            "Downloading data from https://s3.amazonaws.com/fcp-indi/data/Projects/ABIDE_Initiative/Outputs/cpac/filt_noglobal/rois_cc200/USM_0050521_rois_cc200.1D ...\n"
          ]
        },
        {
          "output_type": "stream",
          "name": "stderr",
          "text": [
            " ...done. (0 seconds, 0 min)\n"
          ]
        },
        {
          "output_type": "stream",
          "name": "stdout",
          "text": [
            "Downloading data from https://s3.amazonaws.com/fcp-indi/data/Projects/ABIDE_Initiative/Outputs/cpac/filt_noglobal/rois_cc200/USM_0050523_rois_cc200.1D ...\n"
          ]
        },
        {
          "output_type": "stream",
          "name": "stderr",
          "text": [
            " ...done. (0 seconds, 0 min)\n"
          ]
        },
        {
          "output_type": "stream",
          "name": "stdout",
          "text": [
            "Downloading data from https://s3.amazonaws.com/fcp-indi/data/Projects/ABIDE_Initiative/Outputs/cpac/filt_noglobal/rois_cc200/USM_0050524_rois_cc200.1D ...\n"
          ]
        },
        {
          "output_type": "stream",
          "name": "stderr",
          "text": [
            " ...done. (0 seconds, 0 min)\n"
          ]
        },
        {
          "output_type": "stream",
          "name": "stdout",
          "text": [
            "Downloading data from https://s3.amazonaws.com/fcp-indi/data/Projects/ABIDE_Initiative/Outputs/cpac/filt_noglobal/rois_cc200/USM_0050525_rois_cc200.1D ...\n"
          ]
        },
        {
          "output_type": "stream",
          "name": "stderr",
          "text": [
            " ...done. (0 seconds, 0 min)\n"
          ]
        },
        {
          "output_type": "stream",
          "name": "stdout",
          "text": [
            "Downloading data from https://s3.amazonaws.com/fcp-indi/data/Projects/ABIDE_Initiative/Outputs/cpac/filt_noglobal/rois_cc200/USM_0050526_rois_cc200.1D ...\n"
          ]
        },
        {
          "output_type": "stream",
          "name": "stderr",
          "text": [
            " ...done. (0 seconds, 0 min)\n"
          ]
        },
        {
          "output_type": "stream",
          "name": "stdout",
          "text": [
            "Downloading data from https://s3.amazonaws.com/fcp-indi/data/Projects/ABIDE_Initiative/Outputs/cpac/filt_noglobal/rois_cc200/USM_0050527_rois_cc200.1D ...\n"
          ]
        },
        {
          "output_type": "stream",
          "name": "stderr",
          "text": [
            " ...done. (0 seconds, 0 min)\n"
          ]
        },
        {
          "output_type": "stream",
          "name": "stdout",
          "text": [
            "Downloading data from https://s3.amazonaws.com/fcp-indi/data/Projects/ABIDE_Initiative/Outputs/cpac/filt_noglobal/rois_cc200/USM_0050528_rois_cc200.1D ...\n"
          ]
        },
        {
          "output_type": "stream",
          "name": "stderr",
          "text": [
            " ...done. (0 seconds, 0 min)\n"
          ]
        },
        {
          "output_type": "stream",
          "name": "stdout",
          "text": [
            "Downloading data from https://s3.amazonaws.com/fcp-indi/data/Projects/ABIDE_Initiative/Outputs/cpac/filt_noglobal/rois_cc200/USM_0050529_rois_cc200.1D ...\n"
          ]
        },
        {
          "output_type": "stream",
          "name": "stderr",
          "text": [
            " ...done. (0 seconds, 0 min)\n"
          ]
        },
        {
          "output_type": "stream",
          "name": "stdout",
          "text": [
            "Downloading data from https://s3.amazonaws.com/fcp-indi/data/Projects/ABIDE_Initiative/Outputs/cpac/filt_noglobal/rois_cc200/USM_0050530_rois_cc200.1D ...\n"
          ]
        },
        {
          "output_type": "stream",
          "name": "stderr",
          "text": [
            " ...done. (0 seconds, 0 min)\n"
          ]
        },
        {
          "output_type": "stream",
          "name": "stdout",
          "text": [
            "Downloading data from https://s3.amazonaws.com/fcp-indi/data/Projects/ABIDE_Initiative/Outputs/cpac/filt_noglobal/rois_cc200/USM_0050531_rois_cc200.1D ...\n"
          ]
        },
        {
          "output_type": "stream",
          "name": "stderr",
          "text": [
            " ...done. (0 seconds, 0 min)\n"
          ]
        },
        {
          "output_type": "stream",
          "name": "stdout",
          "text": [
            "Downloading data from https://s3.amazonaws.com/fcp-indi/data/Projects/ABIDE_Initiative/Outputs/cpac/filt_noglobal/rois_cc200/USM_0050532_rois_cc200.1D ...\n"
          ]
        },
        {
          "output_type": "stream",
          "name": "stderr",
          "text": [
            " ...done. (0 seconds, 0 min)\n"
          ]
        },
        {
          "output_type": "stream",
          "name": "stdout",
          "text": [
            "Downloading data from https://s3.amazonaws.com/fcp-indi/data/Projects/ABIDE_Initiative/Outputs/cpac/filt_noglobal/rois_cc200/Yale_0050551_rois_cc200.1D ...\n"
          ]
        },
        {
          "output_type": "stream",
          "name": "stderr",
          "text": [
            " ...done. (0 seconds, 0 min)\n"
          ]
        },
        {
          "output_type": "stream",
          "name": "stdout",
          "text": [
            "Downloading data from https://s3.amazonaws.com/fcp-indi/data/Projects/ABIDE_Initiative/Outputs/cpac/filt_noglobal/rois_cc200/Yale_0050552_rois_cc200.1D ...\n"
          ]
        },
        {
          "output_type": "stream",
          "name": "stderr",
          "text": [
            " ...done. (0 seconds, 0 min)\n"
          ]
        },
        {
          "output_type": "stream",
          "name": "stdout",
          "text": [
            "Downloading data from https://s3.amazonaws.com/fcp-indi/data/Projects/ABIDE_Initiative/Outputs/cpac/filt_noglobal/rois_cc200/Yale_0050553_rois_cc200.1D ...\n"
          ]
        },
        {
          "output_type": "stream",
          "name": "stderr",
          "text": [
            " ...done. (0 seconds, 0 min)\n"
          ]
        },
        {
          "output_type": "stream",
          "name": "stdout",
          "text": [
            "Downloading data from https://s3.amazonaws.com/fcp-indi/data/Projects/ABIDE_Initiative/Outputs/cpac/filt_noglobal/rois_cc200/Yale_0050554_rois_cc200.1D ...\n"
          ]
        },
        {
          "output_type": "stream",
          "name": "stderr",
          "text": [
            " ...done. (0 seconds, 0 min)\n"
          ]
        },
        {
          "output_type": "stream",
          "name": "stdout",
          "text": [
            "Downloading data from https://s3.amazonaws.com/fcp-indi/data/Projects/ABIDE_Initiative/Outputs/cpac/filt_noglobal/rois_cc200/Yale_0050555_rois_cc200.1D ...\n"
          ]
        },
        {
          "output_type": "stream",
          "name": "stderr",
          "text": [
            " ...done. (0 seconds, 0 min)\n"
          ]
        },
        {
          "output_type": "stream",
          "name": "stdout",
          "text": [
            "Downloading data from https://s3.amazonaws.com/fcp-indi/data/Projects/ABIDE_Initiative/Outputs/cpac/filt_noglobal/rois_cc200/Yale_0050556_rois_cc200.1D ...\n"
          ]
        },
        {
          "output_type": "stream",
          "name": "stderr",
          "text": [
            " ...done. (0 seconds, 0 min)\n"
          ]
        },
        {
          "output_type": "stream",
          "name": "stdout",
          "text": [
            "Downloading data from https://s3.amazonaws.com/fcp-indi/data/Projects/ABIDE_Initiative/Outputs/cpac/filt_noglobal/rois_cc200/Yale_0050557_rois_cc200.1D ...\n"
          ]
        },
        {
          "output_type": "stream",
          "name": "stderr",
          "text": [
            " ...done. (0 seconds, 0 min)\n"
          ]
        },
        {
          "output_type": "stream",
          "name": "stdout",
          "text": [
            "Downloading data from https://s3.amazonaws.com/fcp-indi/data/Projects/ABIDE_Initiative/Outputs/cpac/filt_noglobal/rois_cc200/Yale_0050558_rois_cc200.1D ...\n"
          ]
        },
        {
          "output_type": "stream",
          "name": "stderr",
          "text": [
            " ...done. (0 seconds, 0 min)\n"
          ]
        },
        {
          "output_type": "stream",
          "name": "stdout",
          "text": [
            "Downloading data from https://s3.amazonaws.com/fcp-indi/data/Projects/ABIDE_Initiative/Outputs/cpac/filt_noglobal/rois_cc200/Yale_0050559_rois_cc200.1D ...\n"
          ]
        },
        {
          "output_type": "stream",
          "name": "stderr",
          "text": [
            " ...done. (0 seconds, 0 min)\n"
          ]
        },
        {
          "output_type": "stream",
          "name": "stdout",
          "text": [
            "Downloading data from https://s3.amazonaws.com/fcp-indi/data/Projects/ABIDE_Initiative/Outputs/cpac/filt_noglobal/rois_cc200/Yale_0050560_rois_cc200.1D ...\n"
          ]
        },
        {
          "output_type": "stream",
          "name": "stderr",
          "text": [
            " ...done. (0 seconds, 0 min)\n"
          ]
        },
        {
          "output_type": "stream",
          "name": "stdout",
          "text": [
            "Downloading data from https://s3.amazonaws.com/fcp-indi/data/Projects/ABIDE_Initiative/Outputs/cpac/filt_noglobal/rois_cc200/Yale_0050561_rois_cc200.1D ...\n"
          ]
        },
        {
          "output_type": "stream",
          "name": "stderr",
          "text": [
            " ...done. (0 seconds, 0 min)\n"
          ]
        },
        {
          "output_type": "stream",
          "name": "stdout",
          "text": [
            "Downloading data from https://s3.amazonaws.com/fcp-indi/data/Projects/ABIDE_Initiative/Outputs/cpac/filt_noglobal/rois_cc200/Yale_0050562_rois_cc200.1D ...\n"
          ]
        },
        {
          "output_type": "stream",
          "name": "stderr",
          "text": [
            " ...done. (0 seconds, 0 min)\n"
          ]
        },
        {
          "output_type": "stream",
          "name": "stdout",
          "text": [
            "Downloading data from https://s3.amazonaws.com/fcp-indi/data/Projects/ABIDE_Initiative/Outputs/cpac/filt_noglobal/rois_cc200/Yale_0050563_rois_cc200.1D ...\n"
          ]
        },
        {
          "output_type": "stream",
          "name": "stderr",
          "text": [
            " ...done. (0 seconds, 0 min)\n"
          ]
        },
        {
          "output_type": "stream",
          "name": "stdout",
          "text": [
            "Downloading data from https://s3.amazonaws.com/fcp-indi/data/Projects/ABIDE_Initiative/Outputs/cpac/filt_noglobal/rois_cc200/Yale_0050564_rois_cc200.1D ...\n"
          ]
        },
        {
          "output_type": "stream",
          "name": "stderr",
          "text": [
            " ...done. (0 seconds, 0 min)\n"
          ]
        },
        {
          "output_type": "stream",
          "name": "stdout",
          "text": [
            "Downloading data from https://s3.amazonaws.com/fcp-indi/data/Projects/ABIDE_Initiative/Outputs/cpac/filt_noglobal/rois_cc200/Yale_0050565_rois_cc200.1D ...\n"
          ]
        },
        {
          "output_type": "stream",
          "name": "stderr",
          "text": [
            " ...done. (0 seconds, 0 min)\n"
          ]
        },
        {
          "output_type": "stream",
          "name": "stdout",
          "text": [
            "Downloading data from https://s3.amazonaws.com/fcp-indi/data/Projects/ABIDE_Initiative/Outputs/cpac/filt_noglobal/rois_cc200/Yale_0050566_rois_cc200.1D ...\n"
          ]
        },
        {
          "output_type": "stream",
          "name": "stderr",
          "text": [
            " ...done. (0 seconds, 0 min)\n"
          ]
        },
        {
          "output_type": "stream",
          "name": "stdout",
          "text": [
            "Downloading data from https://s3.amazonaws.com/fcp-indi/data/Projects/ABIDE_Initiative/Outputs/cpac/filt_noglobal/rois_cc200/Yale_0050567_rois_cc200.1D ...\n"
          ]
        },
        {
          "output_type": "stream",
          "name": "stderr",
          "text": [
            " ...done. (0 seconds, 0 min)\n"
          ]
        },
        {
          "output_type": "stream",
          "name": "stdout",
          "text": [
            "Downloading data from https://s3.amazonaws.com/fcp-indi/data/Projects/ABIDE_Initiative/Outputs/cpac/filt_noglobal/rois_cc200/Yale_0050568_rois_cc200.1D ...\n"
          ]
        },
        {
          "output_type": "stream",
          "name": "stderr",
          "text": [
            " ...done. (0 seconds, 0 min)\n"
          ]
        },
        {
          "output_type": "stream",
          "name": "stdout",
          "text": [
            "Downloading data from https://s3.amazonaws.com/fcp-indi/data/Projects/ABIDE_Initiative/Outputs/cpac/filt_noglobal/rois_cc200/Yale_0050569_rois_cc200.1D ...\n"
          ]
        },
        {
          "output_type": "stream",
          "name": "stderr",
          "text": [
            " ...done. (0 seconds, 0 min)\n"
          ]
        },
        {
          "output_type": "stream",
          "name": "stdout",
          "text": [
            "Downloading data from https://s3.amazonaws.com/fcp-indi/data/Projects/ABIDE_Initiative/Outputs/cpac/filt_noglobal/rois_cc200/Yale_0050570_rois_cc200.1D ...\n"
          ]
        },
        {
          "output_type": "stream",
          "name": "stderr",
          "text": [
            " ...done. (0 seconds, 0 min)\n"
          ]
        },
        {
          "output_type": "stream",
          "name": "stdout",
          "text": [
            "Downloading data from https://s3.amazonaws.com/fcp-indi/data/Projects/ABIDE_Initiative/Outputs/cpac/filt_noglobal/rois_cc200/Yale_0050571_rois_cc200.1D ...\n"
          ]
        },
        {
          "output_type": "stream",
          "name": "stderr",
          "text": [
            " ...done. (0 seconds, 0 min)\n"
          ]
        },
        {
          "output_type": "stream",
          "name": "stdout",
          "text": [
            "Downloading data from https://s3.amazonaws.com/fcp-indi/data/Projects/ABIDE_Initiative/Outputs/cpac/filt_noglobal/rois_cc200/Yale_0050572_rois_cc200.1D ...\n"
          ]
        },
        {
          "output_type": "stream",
          "name": "stderr",
          "text": [
            " ...done. (0 seconds, 0 min)\n"
          ]
        },
        {
          "output_type": "stream",
          "name": "stdout",
          "text": [
            "Downloading data from https://s3.amazonaws.com/fcp-indi/data/Projects/ABIDE_Initiative/Outputs/cpac/filt_noglobal/rois_cc200/Yale_0050573_rois_cc200.1D ...\n"
          ]
        },
        {
          "output_type": "stream",
          "name": "stderr",
          "text": [
            " ...done. (0 seconds, 0 min)\n"
          ]
        },
        {
          "output_type": "stream",
          "name": "stdout",
          "text": [
            "Downloading data from https://s3.amazonaws.com/fcp-indi/data/Projects/ABIDE_Initiative/Outputs/cpac/filt_noglobal/rois_cc200/Yale_0050574_rois_cc200.1D ...\n"
          ]
        },
        {
          "output_type": "stream",
          "name": "stderr",
          "text": [
            " ...done. (0 seconds, 0 min)\n"
          ]
        },
        {
          "output_type": "stream",
          "name": "stdout",
          "text": [
            "Downloading data from https://s3.amazonaws.com/fcp-indi/data/Projects/ABIDE_Initiative/Outputs/cpac/filt_noglobal/rois_cc200/Yale_0050575_rois_cc200.1D ...\n"
          ]
        },
        {
          "output_type": "stream",
          "name": "stderr",
          "text": [
            " ...done. (0 seconds, 0 min)\n"
          ]
        },
        {
          "output_type": "stream",
          "name": "stdout",
          "text": [
            "Downloading data from https://s3.amazonaws.com/fcp-indi/data/Projects/ABIDE_Initiative/Outputs/cpac/filt_noglobal/rois_cc200/Yale_0050576_rois_cc200.1D ...\n"
          ]
        },
        {
          "output_type": "stream",
          "name": "stderr",
          "text": [
            " ...done. (0 seconds, 0 min)\n"
          ]
        },
        {
          "output_type": "stream",
          "name": "stdout",
          "text": [
            "Downloading data from https://s3.amazonaws.com/fcp-indi/data/Projects/ABIDE_Initiative/Outputs/cpac/filt_noglobal/rois_cc200/Yale_0050577_rois_cc200.1D ...\n"
          ]
        },
        {
          "output_type": "stream",
          "name": "stderr",
          "text": [
            " ...done. (0 seconds, 0 min)\n"
          ]
        },
        {
          "output_type": "stream",
          "name": "stdout",
          "text": [
            "Downloading data from https://s3.amazonaws.com/fcp-indi/data/Projects/ABIDE_Initiative/Outputs/cpac/filt_noglobal/rois_cc200/Yale_0050578_rois_cc200.1D ...\n"
          ]
        },
        {
          "output_type": "stream",
          "name": "stderr",
          "text": [
            " ...done. (0 seconds, 0 min)\n"
          ]
        },
        {
          "output_type": "stream",
          "name": "stdout",
          "text": [
            "Downloading data from https://s3.amazonaws.com/fcp-indi/data/Projects/ABIDE_Initiative/Outputs/cpac/filt_noglobal/rois_cc200/Yale_0050601_rois_cc200.1D ...\n"
          ]
        },
        {
          "output_type": "stream",
          "name": "stderr",
          "text": [
            " ...done. (0 seconds, 0 min)\n"
          ]
        },
        {
          "output_type": "stream",
          "name": "stdout",
          "text": [
            "Downloading data from https://s3.amazonaws.com/fcp-indi/data/Projects/ABIDE_Initiative/Outputs/cpac/filt_noglobal/rois_cc200/Yale_0050602_rois_cc200.1D ...\n"
          ]
        },
        {
          "output_type": "stream",
          "name": "stderr",
          "text": [
            " ...done. (0 seconds, 0 min)\n"
          ]
        },
        {
          "output_type": "stream",
          "name": "stdout",
          "text": [
            "Downloading data from https://s3.amazonaws.com/fcp-indi/data/Projects/ABIDE_Initiative/Outputs/cpac/filt_noglobal/rois_cc200/Yale_0050603_rois_cc200.1D ...\n"
          ]
        },
        {
          "output_type": "stream",
          "name": "stderr",
          "text": [
            " ...done. (0 seconds, 0 min)\n"
          ]
        },
        {
          "output_type": "stream",
          "name": "stdout",
          "text": [
            "Downloading data from https://s3.amazonaws.com/fcp-indi/data/Projects/ABIDE_Initiative/Outputs/cpac/filt_noglobal/rois_cc200/Yale_0050604_rois_cc200.1D ...\n"
          ]
        },
        {
          "output_type": "stream",
          "name": "stderr",
          "text": [
            " ...done. (0 seconds, 0 min)\n"
          ]
        },
        {
          "output_type": "stream",
          "name": "stdout",
          "text": [
            "Downloading data from https://s3.amazonaws.com/fcp-indi/data/Projects/ABIDE_Initiative/Outputs/cpac/filt_noglobal/rois_cc200/Yale_0050605_rois_cc200.1D ...\n"
          ]
        },
        {
          "output_type": "stream",
          "name": "stderr",
          "text": [
            " ...done. (0 seconds, 0 min)\n"
          ]
        },
        {
          "output_type": "stream",
          "name": "stdout",
          "text": [
            "Downloading data from https://s3.amazonaws.com/fcp-indi/data/Projects/ABIDE_Initiative/Outputs/cpac/filt_noglobal/rois_cc200/Yale_0050606_rois_cc200.1D ...\n"
          ]
        },
        {
          "output_type": "stream",
          "name": "stderr",
          "text": [
            " ...done. (0 seconds, 0 min)\n"
          ]
        },
        {
          "output_type": "stream",
          "name": "stdout",
          "text": [
            "Downloading data from https://s3.amazonaws.com/fcp-indi/data/Projects/ABIDE_Initiative/Outputs/cpac/filt_noglobal/rois_cc200/Yale_0050607_rois_cc200.1D ...\n"
          ]
        },
        {
          "output_type": "stream",
          "name": "stderr",
          "text": [
            " ...done. (0 seconds, 0 min)\n"
          ]
        },
        {
          "output_type": "stream",
          "name": "stdout",
          "text": [
            "Downloading data from https://s3.amazonaws.com/fcp-indi/data/Projects/ABIDE_Initiative/Outputs/cpac/filt_noglobal/rois_cc200/Yale_0050608_rois_cc200.1D ...\n"
          ]
        },
        {
          "output_type": "stream",
          "name": "stderr",
          "text": [
            " ...done. (0 seconds, 0 min)\n"
          ]
        },
        {
          "output_type": "stream",
          "name": "stdout",
          "text": [
            "Downloading data from https://s3.amazonaws.com/fcp-indi/data/Projects/ABIDE_Initiative/Outputs/cpac/filt_noglobal/rois_cc200/Yale_0050609_rois_cc200.1D ...\n"
          ]
        },
        {
          "output_type": "stream",
          "name": "stderr",
          "text": [
            " ...done. (0 seconds, 0 min)\n"
          ]
        },
        {
          "output_type": "stream",
          "name": "stdout",
          "text": [
            "Downloading data from https://s3.amazonaws.com/fcp-indi/data/Projects/ABIDE_Initiative/Outputs/cpac/filt_noglobal/rois_cc200/Yale_0050610_rois_cc200.1D ...\n"
          ]
        },
        {
          "output_type": "stream",
          "name": "stderr",
          "text": [
            " ...done. (0 seconds, 0 min)\n"
          ]
        },
        {
          "output_type": "stream",
          "name": "stdout",
          "text": [
            "Downloading data from https://s3.amazonaws.com/fcp-indi/data/Projects/ABIDE_Initiative/Outputs/cpac/filt_noglobal/rois_cc200/Yale_0050611_rois_cc200.1D ...\n"
          ]
        },
        {
          "output_type": "stream",
          "name": "stderr",
          "text": [
            " ...done. (0 seconds, 0 min)\n"
          ]
        },
        {
          "output_type": "stream",
          "name": "stdout",
          "text": [
            "Downloading data from https://s3.amazonaws.com/fcp-indi/data/Projects/ABIDE_Initiative/Outputs/cpac/filt_noglobal/rois_cc200/Yale_0050612_rois_cc200.1D ...\n"
          ]
        },
        {
          "output_type": "stream",
          "name": "stderr",
          "text": [
            " ...done. (0 seconds, 0 min)\n"
          ]
        },
        {
          "output_type": "stream",
          "name": "stdout",
          "text": [
            "Downloading data from https://s3.amazonaws.com/fcp-indi/data/Projects/ABIDE_Initiative/Outputs/cpac/filt_noglobal/rois_cc200/Yale_0050613_rois_cc200.1D ...\n"
          ]
        },
        {
          "output_type": "stream",
          "name": "stderr",
          "text": [
            " ...done. (0 seconds, 0 min)\n"
          ]
        },
        {
          "output_type": "stream",
          "name": "stdout",
          "text": [
            "Downloading data from https://s3.amazonaws.com/fcp-indi/data/Projects/ABIDE_Initiative/Outputs/cpac/filt_noglobal/rois_cc200/Yale_0050614_rois_cc200.1D ...\n"
          ]
        },
        {
          "output_type": "stream",
          "name": "stderr",
          "text": [
            " ...done. (0 seconds, 0 min)\n"
          ]
        },
        {
          "output_type": "stream",
          "name": "stdout",
          "text": [
            "Downloading data from https://s3.amazonaws.com/fcp-indi/data/Projects/ABIDE_Initiative/Outputs/cpac/filt_noglobal/rois_cc200/Yale_0050615_rois_cc200.1D ...\n"
          ]
        },
        {
          "output_type": "stream",
          "name": "stderr",
          "text": [
            " ...done. (0 seconds, 0 min)\n"
          ]
        },
        {
          "output_type": "stream",
          "name": "stdout",
          "text": [
            "Downloading data from https://s3.amazonaws.com/fcp-indi/data/Projects/ABIDE_Initiative/Outputs/cpac/filt_noglobal/rois_cc200/Yale_0050616_rois_cc200.1D ...\n"
          ]
        },
        {
          "output_type": "stream",
          "name": "stderr",
          "text": [
            " ...done. (0 seconds, 0 min)\n"
          ]
        },
        {
          "output_type": "stream",
          "name": "stdout",
          "text": [
            "Downloading data from https://s3.amazonaws.com/fcp-indi/data/Projects/ABIDE_Initiative/Outputs/cpac/filt_noglobal/rois_cc200/Yale_0050617_rois_cc200.1D ...\n"
          ]
        },
        {
          "output_type": "stream",
          "name": "stderr",
          "text": [
            " ...done. (0 seconds, 0 min)\n"
          ]
        },
        {
          "output_type": "stream",
          "name": "stdout",
          "text": [
            "Downloading data from https://s3.amazonaws.com/fcp-indi/data/Projects/ABIDE_Initiative/Outputs/cpac/filt_noglobal/rois_cc200/Yale_0050618_rois_cc200.1D ...\n"
          ]
        },
        {
          "output_type": "stream",
          "name": "stderr",
          "text": [
            " ...done. (0 seconds, 0 min)\n"
          ]
        },
        {
          "output_type": "stream",
          "name": "stdout",
          "text": [
            "Downloading data from https://s3.amazonaws.com/fcp-indi/data/Projects/ABIDE_Initiative/Outputs/cpac/filt_noglobal/rois_cc200/Yale_0050619_rois_cc200.1D ...\n"
          ]
        },
        {
          "output_type": "stream",
          "name": "stderr",
          "text": [
            " ...done. (0 seconds, 0 min)\n"
          ]
        },
        {
          "output_type": "stream",
          "name": "stdout",
          "text": [
            "Downloading data from https://s3.amazonaws.com/fcp-indi/data/Projects/ABIDE_Initiative/Outputs/cpac/filt_noglobal/rois_cc200/Yale_0050620_rois_cc200.1D ...\n"
          ]
        },
        {
          "output_type": "stream",
          "name": "stderr",
          "text": [
            " ...done. (0 seconds, 0 min)\n"
          ]
        },
        {
          "output_type": "stream",
          "name": "stdout",
          "text": [
            "Downloading data from https://s3.amazonaws.com/fcp-indi/data/Projects/ABIDE_Initiative/Outputs/cpac/filt_noglobal/rois_cc200/Yale_0050621_rois_cc200.1D ...\n"
          ]
        },
        {
          "output_type": "stream",
          "name": "stderr",
          "text": [
            " ...done. (0 seconds, 0 min)\n"
          ]
        },
        {
          "output_type": "stream",
          "name": "stdout",
          "text": [
            "Downloading data from https://s3.amazonaws.com/fcp-indi/data/Projects/ABIDE_Initiative/Outputs/cpac/filt_noglobal/rois_cc200/Yale_0050622_rois_cc200.1D ...\n"
          ]
        },
        {
          "output_type": "stream",
          "name": "stderr",
          "text": [
            " ...done. (0 seconds, 0 min)\n"
          ]
        },
        {
          "output_type": "stream",
          "name": "stdout",
          "text": [
            "Downloading data from https://s3.amazonaws.com/fcp-indi/data/Projects/ABIDE_Initiative/Outputs/cpac/filt_noglobal/rois_cc200/Yale_0050623_rois_cc200.1D ...\n"
          ]
        },
        {
          "output_type": "stream",
          "name": "stderr",
          "text": [
            " ...done. (0 seconds, 0 min)\n"
          ]
        },
        {
          "output_type": "stream",
          "name": "stdout",
          "text": [
            "Downloading data from https://s3.amazonaws.com/fcp-indi/data/Projects/ABIDE_Initiative/Outputs/cpac/filt_noglobal/rois_cc200/Yale_0050624_rois_cc200.1D ...\n"
          ]
        },
        {
          "output_type": "stream",
          "name": "stderr",
          "text": [
            " ...done. (0 seconds, 0 min)\n"
          ]
        },
        {
          "output_type": "stream",
          "name": "stdout",
          "text": [
            "Downloading data from https://s3.amazonaws.com/fcp-indi/data/Projects/ABIDE_Initiative/Outputs/cpac/filt_noglobal/rois_cc200/Yale_0050625_rois_cc200.1D ...\n"
          ]
        },
        {
          "output_type": "stream",
          "name": "stderr",
          "text": [
            " ...done. (0 seconds, 0 min)\n"
          ]
        },
        {
          "output_type": "stream",
          "name": "stdout",
          "text": [
            "Downloading data from https://s3.amazonaws.com/fcp-indi/data/Projects/ABIDE_Initiative/Outputs/cpac/filt_noglobal/rois_cc200/Yale_0050626_rois_cc200.1D ...\n"
          ]
        },
        {
          "output_type": "stream",
          "name": "stderr",
          "text": [
            " ...done. (0 seconds, 0 min)\n"
          ]
        },
        {
          "output_type": "stream",
          "name": "stdout",
          "text": [
            "Downloading data from https://s3.amazonaws.com/fcp-indi/data/Projects/ABIDE_Initiative/Outputs/cpac/filt_noglobal/rois_cc200/Yale_0050627_rois_cc200.1D ...\n"
          ]
        },
        {
          "output_type": "stream",
          "name": "stderr",
          "text": [
            " ...done. (0 seconds, 0 min)\n"
          ]
        },
        {
          "output_type": "stream",
          "name": "stdout",
          "text": [
            "Downloading data from https://s3.amazonaws.com/fcp-indi/data/Projects/ABIDE_Initiative/Outputs/cpac/filt_noglobal/rois_cc200/Yale_0050628_rois_cc200.1D ...\n"
          ]
        },
        {
          "output_type": "stream",
          "name": "stderr",
          "text": [
            " ...done. (0 seconds, 0 min)\n"
          ]
        },
        {
          "output_type": "stream",
          "name": "stdout",
          "text": [
            "Downloading data from https://s3.amazonaws.com/fcp-indi/data/Projects/ABIDE_Initiative/Outputs/cpac/filt_noglobal/rois_cc200/CMU_a_0050642_rois_cc200.1D ...\n"
          ]
        },
        {
          "output_type": "stream",
          "name": "stderr",
          "text": [
            " ...done. (0 seconds, 0 min)\n"
          ]
        },
        {
          "output_type": "stream",
          "name": "stdout",
          "text": [
            "Downloading data from https://s3.amazonaws.com/fcp-indi/data/Projects/ABIDE_Initiative/Outputs/cpac/filt_noglobal/rois_cc200/CMU_b_0050643_rois_cc200.1D ...\n"
          ]
        },
        {
          "output_type": "stream",
          "name": "stderr",
          "text": [
            " ...done. (0 seconds, 0 min)\n"
          ]
        },
        {
          "output_type": "stream",
          "name": "stdout",
          "text": [
            "Downloading data from https://s3.amazonaws.com/fcp-indi/data/Projects/ABIDE_Initiative/Outputs/cpac/filt_noglobal/rois_cc200/CMU_b_0050644_rois_cc200.1D ...\n"
          ]
        },
        {
          "output_type": "stream",
          "name": "stderr",
          "text": [
            " ...done. (0 seconds, 0 min)\n"
          ]
        },
        {
          "output_type": "stream",
          "name": "stdout",
          "text": [
            "Downloading data from https://s3.amazonaws.com/fcp-indi/data/Projects/ABIDE_Initiative/Outputs/cpac/filt_noglobal/rois_cc200/CMU_b_0050645_rois_cc200.1D ...\n"
          ]
        },
        {
          "output_type": "stream",
          "name": "stderr",
          "text": [
            " ...done. (0 seconds, 0 min)\n"
          ]
        },
        {
          "output_type": "stream",
          "name": "stdout",
          "text": [
            "Downloading data from https://s3.amazonaws.com/fcp-indi/data/Projects/ABIDE_Initiative/Outputs/cpac/filt_noglobal/rois_cc200/CMU_a_0050646_rois_cc200.1D ...\n"
          ]
        },
        {
          "output_type": "stream",
          "name": "stderr",
          "text": [
            " ...done. (0 seconds, 0 min)\n"
          ]
        },
        {
          "output_type": "stream",
          "name": "stdout",
          "text": [
            "Downloading data from https://s3.amazonaws.com/fcp-indi/data/Projects/ABIDE_Initiative/Outputs/cpac/filt_noglobal/rois_cc200/CMU_a_0050647_rois_cc200.1D ...\n"
          ]
        },
        {
          "output_type": "stream",
          "name": "stderr",
          "text": [
            " ...done. (0 seconds, 0 min)\n"
          ]
        },
        {
          "output_type": "stream",
          "name": "stdout",
          "text": [
            "Downloading data from https://s3.amazonaws.com/fcp-indi/data/Projects/ABIDE_Initiative/Outputs/cpac/filt_noglobal/rois_cc200/CMU_b_0050648_rois_cc200.1D ...\n"
          ]
        },
        {
          "output_type": "stream",
          "name": "stderr",
          "text": [
            " ...done. (0 seconds, 0 min)\n"
          ]
        },
        {
          "output_type": "stream",
          "name": "stdout",
          "text": [
            "Downloading data from https://s3.amazonaws.com/fcp-indi/data/Projects/ABIDE_Initiative/Outputs/cpac/filt_noglobal/rois_cc200/CMU_a_0050649_rois_cc200.1D ...\n"
          ]
        },
        {
          "output_type": "stream",
          "name": "stderr",
          "text": [
            " ...done. (0 seconds, 0 min)\n"
          ]
        },
        {
          "output_type": "stream",
          "name": "stdout",
          "text": [
            "Downloading data from https://s3.amazonaws.com/fcp-indi/data/Projects/ABIDE_Initiative/Outputs/cpac/filt_noglobal/rois_cc200/CMU_b_0050650_rois_cc200.1D ...\n"
          ]
        },
        {
          "output_type": "stream",
          "name": "stderr",
          "text": [
            " ...done. (0 seconds, 0 min)\n"
          ]
        },
        {
          "output_type": "stream",
          "name": "stdout",
          "text": [
            "Downloading data from https://s3.amazonaws.com/fcp-indi/data/Projects/ABIDE_Initiative/Outputs/cpac/filt_noglobal/rois_cc200/CMU_b_0050651_rois_cc200.1D ...\n"
          ]
        },
        {
          "output_type": "stream",
          "name": "stderr",
          "text": [
            " ...done. (0 seconds, 0 min)\n"
          ]
        },
        {
          "output_type": "stream",
          "name": "stdout",
          "text": [
            "Downloading data from https://s3.amazonaws.com/fcp-indi/data/Projects/ABIDE_Initiative/Outputs/cpac/filt_noglobal/rois_cc200/CMU_b_0050652_rois_cc200.1D ...\n"
          ]
        },
        {
          "output_type": "stream",
          "name": "stderr",
          "text": [
            " ...done. (0 seconds, 0 min)\n"
          ]
        },
        {
          "output_type": "stream",
          "name": "stdout",
          "text": [
            "Downloading data from https://s3.amazonaws.com/fcp-indi/data/Projects/ABIDE_Initiative/Outputs/cpac/filt_noglobal/rois_cc200/CMU_a_0050653_rois_cc200.1D ...\n"
          ]
        },
        {
          "output_type": "stream",
          "name": "stderr",
          "text": [
            " ...done. (0 seconds, 0 min)\n"
          ]
        },
        {
          "output_type": "stream",
          "name": "stdout",
          "text": [
            "Downloading data from https://s3.amazonaws.com/fcp-indi/data/Projects/ABIDE_Initiative/Outputs/cpac/filt_noglobal/rois_cc200/CMU_a_0050654_rois_cc200.1D ...\n"
          ]
        },
        {
          "output_type": "stream",
          "name": "stderr",
          "text": [
            " ...done. (0 seconds, 0 min)\n"
          ]
        },
        {
          "output_type": "stream",
          "name": "stdout",
          "text": [
            "Downloading data from https://s3.amazonaws.com/fcp-indi/data/Projects/ABIDE_Initiative/Outputs/cpac/filt_noglobal/rois_cc200/CMU_b_0050655_rois_cc200.1D ...\n"
          ]
        },
        {
          "output_type": "stream",
          "name": "stderr",
          "text": [
            " ...done. (0 seconds, 0 min)\n"
          ]
        },
        {
          "output_type": "stream",
          "name": "stdout",
          "text": [
            "Downloading data from https://s3.amazonaws.com/fcp-indi/data/Projects/ABIDE_Initiative/Outputs/cpac/filt_noglobal/rois_cc200/CMU_a_0050656_rois_cc200.1D ...\n"
          ]
        },
        {
          "output_type": "stream",
          "name": "stderr",
          "text": [
            " ...done. (0 seconds, 0 min)\n"
          ]
        },
        {
          "output_type": "stream",
          "name": "stdout",
          "text": [
            "Downloading data from https://s3.amazonaws.com/fcp-indi/data/Projects/ABIDE_Initiative/Outputs/cpac/filt_noglobal/rois_cc200/CMU_b_0050657_rois_cc200.1D ...\n"
          ]
        },
        {
          "output_type": "stream",
          "name": "stderr",
          "text": [
            " ...done. (0 seconds, 0 min)\n"
          ]
        },
        {
          "output_type": "stream",
          "name": "stdout",
          "text": [
            "Downloading data from https://s3.amazonaws.com/fcp-indi/data/Projects/ABIDE_Initiative/Outputs/cpac/filt_noglobal/rois_cc200/CMU_b_0050658_rois_cc200.1D ...\n"
          ]
        },
        {
          "output_type": "stream",
          "name": "stderr",
          "text": [
            " ...done. (0 seconds, 0 min)\n"
          ]
        },
        {
          "output_type": "stream",
          "name": "stdout",
          "text": [
            "Downloading data from https://s3.amazonaws.com/fcp-indi/data/Projects/ABIDE_Initiative/Outputs/cpac/filt_noglobal/rois_cc200/CMU_a_0050659_rois_cc200.1D ...\n"
          ]
        },
        {
          "output_type": "stream",
          "name": "stderr",
          "text": [
            " ...done. (0 seconds, 0 min)\n"
          ]
        },
        {
          "output_type": "stream",
          "name": "stdout",
          "text": [
            "Downloading data from https://s3.amazonaws.com/fcp-indi/data/Projects/ABIDE_Initiative/Outputs/cpac/filt_noglobal/rois_cc200/CMU_a_0050660_rois_cc200.1D ...\n"
          ]
        },
        {
          "output_type": "stream",
          "name": "stderr",
          "text": [
            " ...done. (0 seconds, 0 min)\n"
          ]
        },
        {
          "output_type": "stream",
          "name": "stdout",
          "text": [
            "Downloading data from https://s3.amazonaws.com/fcp-indi/data/Projects/ABIDE_Initiative/Outputs/cpac/filt_noglobal/rois_cc200/CMU_b_0050661_rois_cc200.1D ...\n"
          ]
        },
        {
          "output_type": "stream",
          "name": "stderr",
          "text": [
            " ...done. (0 seconds, 0 min)\n"
          ]
        },
        {
          "output_type": "stream",
          "name": "stdout",
          "text": [
            "Downloading data from https://s3.amazonaws.com/fcp-indi/data/Projects/ABIDE_Initiative/Outputs/cpac/filt_noglobal/rois_cc200/CMU_a_0050663_rois_cc200.1D ...\n"
          ]
        },
        {
          "output_type": "stream",
          "name": "stderr",
          "text": [
            " ...done. (0 seconds, 0 min)\n"
          ]
        },
        {
          "output_type": "stream",
          "name": "stdout",
          "text": [
            "Downloading data from https://s3.amazonaws.com/fcp-indi/data/Projects/ABIDE_Initiative/Outputs/cpac/filt_noglobal/rois_cc200/CMU_a_0050664_rois_cc200.1D ...\n"
          ]
        },
        {
          "output_type": "stream",
          "name": "stderr",
          "text": [
            " ...done. (0 seconds, 0 min)\n"
          ]
        },
        {
          "output_type": "stream",
          "name": "stdout",
          "text": [
            "Downloading data from https://s3.amazonaws.com/fcp-indi/data/Projects/ABIDE_Initiative/Outputs/cpac/filt_noglobal/rois_cc200/CMU_a_0050665_rois_cc200.1D ...\n"
          ]
        },
        {
          "output_type": "stream",
          "name": "stderr",
          "text": [
            " ...done. (0 seconds, 0 min)\n"
          ]
        },
        {
          "output_type": "stream",
          "name": "stdout",
          "text": [
            "Downloading data from https://s3.amazonaws.com/fcp-indi/data/Projects/ABIDE_Initiative/Outputs/cpac/filt_noglobal/rois_cc200/CMU_a_0050666_rois_cc200.1D ...\n"
          ]
        },
        {
          "output_type": "stream",
          "name": "stderr",
          "text": [
            " ...done. (0 seconds, 0 min)\n"
          ]
        },
        {
          "output_type": "stream",
          "name": "stdout",
          "text": [
            "Downloading data from https://s3.amazonaws.com/fcp-indi/data/Projects/ABIDE_Initiative/Outputs/cpac/filt_noglobal/rois_cc200/CMU_b_0050667_rois_cc200.1D ...\n"
          ]
        },
        {
          "output_type": "stream",
          "name": "stderr",
          "text": [
            " ...done. (0 seconds, 0 min)\n"
          ]
        },
        {
          "output_type": "stream",
          "name": "stdout",
          "text": [
            "Downloading data from https://s3.amazonaws.com/fcp-indi/data/Projects/ABIDE_Initiative/Outputs/cpac/filt_noglobal/rois_cc200/CMU_a_0050668_rois_cc200.1D ...\n"
          ]
        },
        {
          "output_type": "stream",
          "name": "stderr",
          "text": [
            " ...done. (0 seconds, 0 min)\n"
          ]
        },
        {
          "output_type": "stream",
          "name": "stdout",
          "text": [
            "Downloading data from https://s3.amazonaws.com/fcp-indi/data/Projects/ABIDE_Initiative/Outputs/cpac/filt_noglobal/rois_cc200/CMU_b_0050669_rois_cc200.1D ...\n"
          ]
        },
        {
          "output_type": "stream",
          "name": "stderr",
          "text": [
            " ...done. (0 seconds, 0 min)\n"
          ]
        },
        {
          "output_type": "stream",
          "name": "stdout",
          "text": [
            "Downloading data from https://s3.amazonaws.com/fcp-indi/data/Projects/ABIDE_Initiative/Outputs/cpac/filt_noglobal/rois_cc200/Leuven_1_0050682_rois_cc200.1D ...\n"
          ]
        },
        {
          "output_type": "stream",
          "name": "stderr",
          "text": [
            " ...done. (0 seconds, 0 min)\n"
          ]
        },
        {
          "output_type": "stream",
          "name": "stdout",
          "text": [
            "Downloading data from https://s3.amazonaws.com/fcp-indi/data/Projects/ABIDE_Initiative/Outputs/cpac/filt_noglobal/rois_cc200/Leuven_1_0050683_rois_cc200.1D ...\n"
          ]
        },
        {
          "output_type": "stream",
          "name": "stderr",
          "text": [
            " ...done. (0 seconds, 0 min)\n"
          ]
        },
        {
          "output_type": "stream",
          "name": "stdout",
          "text": [
            "Downloading data from https://s3.amazonaws.com/fcp-indi/data/Projects/ABIDE_Initiative/Outputs/cpac/filt_noglobal/rois_cc200/Leuven_1_0050685_rois_cc200.1D ...\n"
          ]
        },
        {
          "output_type": "stream",
          "name": "stderr",
          "text": [
            " ...done. (0 seconds, 0 min)\n"
          ]
        },
        {
          "output_type": "stream",
          "name": "stdout",
          "text": [
            "Downloading data from https://s3.amazonaws.com/fcp-indi/data/Projects/ABIDE_Initiative/Outputs/cpac/filt_noglobal/rois_cc200/Leuven_1_0050686_rois_cc200.1D ...\n"
          ]
        },
        {
          "output_type": "stream",
          "name": "stderr",
          "text": [
            " ...done. (0 seconds, 0 min)\n"
          ]
        },
        {
          "output_type": "stream",
          "name": "stdout",
          "text": [
            "Downloading data from https://s3.amazonaws.com/fcp-indi/data/Projects/ABIDE_Initiative/Outputs/cpac/filt_noglobal/rois_cc200/Leuven_1_0050687_rois_cc200.1D ...\n"
          ]
        },
        {
          "output_type": "stream",
          "name": "stderr",
          "text": [
            " ...done. (0 seconds, 0 min)\n"
          ]
        },
        {
          "output_type": "stream",
          "name": "stdout",
          "text": [
            "Downloading data from https://s3.amazonaws.com/fcp-indi/data/Projects/ABIDE_Initiative/Outputs/cpac/filt_noglobal/rois_cc200/Leuven_1_0050688_rois_cc200.1D ...\n"
          ]
        },
        {
          "output_type": "stream",
          "name": "stderr",
          "text": [
            " ...done. (0 seconds, 0 min)\n"
          ]
        },
        {
          "output_type": "stream",
          "name": "stdout",
          "text": [
            "Downloading data from https://s3.amazonaws.com/fcp-indi/data/Projects/ABIDE_Initiative/Outputs/cpac/filt_noglobal/rois_cc200/Leuven_1_0050689_rois_cc200.1D ...\n"
          ]
        },
        {
          "output_type": "stream",
          "name": "stderr",
          "text": [
            " ...done. (0 seconds, 0 min)\n"
          ]
        },
        {
          "output_type": "stream",
          "name": "stdout",
          "text": [
            "Downloading data from https://s3.amazonaws.com/fcp-indi/data/Projects/ABIDE_Initiative/Outputs/cpac/filt_noglobal/rois_cc200/Leuven_1_0050690_rois_cc200.1D ...\n"
          ]
        },
        {
          "output_type": "stream",
          "name": "stderr",
          "text": [
            " ...done. (0 seconds, 0 min)\n"
          ]
        },
        {
          "output_type": "stream",
          "name": "stdout",
          "text": [
            "Downloading data from https://s3.amazonaws.com/fcp-indi/data/Projects/ABIDE_Initiative/Outputs/cpac/filt_noglobal/rois_cc200/Leuven_1_0050691_rois_cc200.1D ...\n"
          ]
        },
        {
          "output_type": "stream",
          "name": "stderr",
          "text": [
            " ...done. (0 seconds, 0 min)\n"
          ]
        },
        {
          "output_type": "stream",
          "name": "stdout",
          "text": [
            "Downloading data from https://s3.amazonaws.com/fcp-indi/data/Projects/ABIDE_Initiative/Outputs/cpac/filt_noglobal/rois_cc200/Leuven_1_0050692_rois_cc200.1D ...\n"
          ]
        },
        {
          "output_type": "stream",
          "name": "stderr",
          "text": [
            " ...done. (0 seconds, 0 min)\n"
          ]
        },
        {
          "output_type": "stream",
          "name": "stdout",
          "text": [
            "Downloading data from https://s3.amazonaws.com/fcp-indi/data/Projects/ABIDE_Initiative/Outputs/cpac/filt_noglobal/rois_cc200/Leuven_1_0050693_rois_cc200.1D ...\n"
          ]
        },
        {
          "output_type": "stream",
          "name": "stderr",
          "text": [
            " ...done. (0 seconds, 0 min)\n"
          ]
        },
        {
          "output_type": "stream",
          "name": "stdout",
          "text": [
            "Downloading data from https://s3.amazonaws.com/fcp-indi/data/Projects/ABIDE_Initiative/Outputs/cpac/filt_noglobal/rois_cc200/Leuven_1_0050694_rois_cc200.1D ...\n"
          ]
        },
        {
          "output_type": "stream",
          "name": "stderr",
          "text": [
            " ...done. (0 seconds, 0 min)\n"
          ]
        },
        {
          "output_type": "stream",
          "name": "stdout",
          "text": [
            "Downloading data from https://s3.amazonaws.com/fcp-indi/data/Projects/ABIDE_Initiative/Outputs/cpac/filt_noglobal/rois_cc200/Leuven_1_0050695_rois_cc200.1D ...\n"
          ]
        },
        {
          "output_type": "stream",
          "name": "stderr",
          "text": [
            " ...done. (0 seconds, 0 min)\n"
          ]
        },
        {
          "output_type": "stream",
          "name": "stdout",
          "text": [
            "Downloading data from https://s3.amazonaws.com/fcp-indi/data/Projects/ABIDE_Initiative/Outputs/cpac/filt_noglobal/rois_cc200/Leuven_1_0050696_rois_cc200.1D ...\n"
          ]
        },
        {
          "output_type": "stream",
          "name": "stderr",
          "text": [
            " ...done. (0 seconds, 0 min)\n"
          ]
        },
        {
          "output_type": "stream",
          "name": "stdout",
          "text": [
            "Downloading data from https://s3.amazonaws.com/fcp-indi/data/Projects/ABIDE_Initiative/Outputs/cpac/filt_noglobal/rois_cc200/Leuven_1_0050697_rois_cc200.1D ...\n"
          ]
        },
        {
          "output_type": "stream",
          "name": "stderr",
          "text": [
            " ...done. (0 seconds, 0 min)\n"
          ]
        },
        {
          "output_type": "stream",
          "name": "stdout",
          "text": [
            "Downloading data from https://s3.amazonaws.com/fcp-indi/data/Projects/ABIDE_Initiative/Outputs/cpac/filt_noglobal/rois_cc200/Leuven_1_0050698_rois_cc200.1D ...\n"
          ]
        },
        {
          "output_type": "stream",
          "name": "stderr",
          "text": [
            " ...done. (0 seconds, 0 min)\n"
          ]
        },
        {
          "output_type": "stream",
          "name": "stdout",
          "text": [
            "Downloading data from https://s3.amazonaws.com/fcp-indi/data/Projects/ABIDE_Initiative/Outputs/cpac/filt_noglobal/rois_cc200/Leuven_1_0050699_rois_cc200.1D ...\n"
          ]
        },
        {
          "output_type": "stream",
          "name": "stderr",
          "text": [
            " ...done. (0 seconds, 0 min)\n"
          ]
        },
        {
          "output_type": "stream",
          "name": "stdout",
          "text": [
            "Downloading data from https://s3.amazonaws.com/fcp-indi/data/Projects/ABIDE_Initiative/Outputs/cpac/filt_noglobal/rois_cc200/Leuven_1_0050700_rois_cc200.1D ...\n"
          ]
        },
        {
          "output_type": "stream",
          "name": "stderr",
          "text": [
            " ...done. (0 seconds, 0 min)\n"
          ]
        },
        {
          "output_type": "stream",
          "name": "stdout",
          "text": [
            "Downloading data from https://s3.amazonaws.com/fcp-indi/data/Projects/ABIDE_Initiative/Outputs/cpac/filt_noglobal/rois_cc200/Leuven_1_0050701_rois_cc200.1D ...\n"
          ]
        },
        {
          "output_type": "stream",
          "name": "stderr",
          "text": [
            " ...done. (0 seconds, 0 min)\n"
          ]
        },
        {
          "output_type": "stream",
          "name": "stdout",
          "text": [
            "Downloading data from https://s3.amazonaws.com/fcp-indi/data/Projects/ABIDE_Initiative/Outputs/cpac/filt_noglobal/rois_cc200/Leuven_1_0050702_rois_cc200.1D ...\n"
          ]
        },
        {
          "output_type": "stream",
          "name": "stderr",
          "text": [
            " ...done. (0 seconds, 0 min)\n"
          ]
        },
        {
          "output_type": "stream",
          "name": "stdout",
          "text": [
            "Downloading data from https://s3.amazonaws.com/fcp-indi/data/Projects/ABIDE_Initiative/Outputs/cpac/filt_noglobal/rois_cc200/Leuven_1_0050703_rois_cc200.1D ...\n"
          ]
        },
        {
          "output_type": "stream",
          "name": "stderr",
          "text": [
            " ...done. (0 seconds, 0 min)\n"
          ]
        },
        {
          "output_type": "stream",
          "name": "stdout",
          "text": [
            "Downloading data from https://s3.amazonaws.com/fcp-indi/data/Projects/ABIDE_Initiative/Outputs/cpac/filt_noglobal/rois_cc200/Leuven_1_0050704_rois_cc200.1D ...\n"
          ]
        },
        {
          "output_type": "stream",
          "name": "stderr",
          "text": [
            " ...done. (0 seconds, 0 min)\n"
          ]
        },
        {
          "output_type": "stream",
          "name": "stdout",
          "text": [
            "Downloading data from https://s3.amazonaws.com/fcp-indi/data/Projects/ABIDE_Initiative/Outputs/cpac/filt_noglobal/rois_cc200/Leuven_1_0050705_rois_cc200.1D ...\n"
          ]
        },
        {
          "output_type": "stream",
          "name": "stderr",
          "text": [
            " ...done. (0 seconds, 0 min)\n"
          ]
        },
        {
          "output_type": "stream",
          "name": "stdout",
          "text": [
            "Downloading data from https://s3.amazonaws.com/fcp-indi/data/Projects/ABIDE_Initiative/Outputs/cpac/filt_noglobal/rois_cc200/Leuven_1_0050706_rois_cc200.1D ...\n"
          ]
        },
        {
          "output_type": "stream",
          "name": "stderr",
          "text": [
            " ...done. (0 seconds, 0 min)\n"
          ]
        },
        {
          "output_type": "stream",
          "name": "stdout",
          "text": [
            "Downloading data from https://s3.amazonaws.com/fcp-indi/data/Projects/ABIDE_Initiative/Outputs/cpac/filt_noglobal/rois_cc200/Leuven_1_0050707_rois_cc200.1D ...\n"
          ]
        },
        {
          "output_type": "stream",
          "name": "stderr",
          "text": [
            " ...done. (0 seconds, 0 min)\n"
          ]
        },
        {
          "output_type": "stream",
          "name": "stdout",
          "text": [
            "Downloading data from https://s3.amazonaws.com/fcp-indi/data/Projects/ABIDE_Initiative/Outputs/cpac/filt_noglobal/rois_cc200/Leuven_1_0050708_rois_cc200.1D ...\n"
          ]
        },
        {
          "output_type": "stream",
          "name": "stderr",
          "text": [
            " ...done. (0 seconds, 0 min)\n"
          ]
        },
        {
          "output_type": "stream",
          "name": "stdout",
          "text": [
            "Downloading data from https://s3.amazonaws.com/fcp-indi/data/Projects/ABIDE_Initiative/Outputs/cpac/filt_noglobal/rois_cc200/Leuven_1_0050709_rois_cc200.1D ...\n"
          ]
        },
        {
          "output_type": "stream",
          "name": "stderr",
          "text": [
            " ...done. (0 seconds, 0 min)\n"
          ]
        },
        {
          "output_type": "stream",
          "name": "stdout",
          "text": [
            "Downloading data from https://s3.amazonaws.com/fcp-indi/data/Projects/ABIDE_Initiative/Outputs/cpac/filt_noglobal/rois_cc200/Leuven_1_0050710_rois_cc200.1D ...\n"
          ]
        },
        {
          "output_type": "stream",
          "name": "stderr",
          "text": [
            " ...done. (0 seconds, 0 min)\n"
          ]
        },
        {
          "output_type": "stream",
          "name": "stdout",
          "text": [
            "Downloading data from https://s3.amazonaws.com/fcp-indi/data/Projects/ABIDE_Initiative/Outputs/cpac/filt_noglobal/rois_cc200/Leuven_1_0050711_rois_cc200.1D ...\n"
          ]
        },
        {
          "output_type": "stream",
          "name": "stderr",
          "text": [
            " ...done. (0 seconds, 0 min)\n"
          ]
        },
        {
          "output_type": "stream",
          "name": "stdout",
          "text": [
            "Downloading data from https://s3.amazonaws.com/fcp-indi/data/Projects/ABIDE_Initiative/Outputs/cpac/filt_noglobal/rois_cc200/Leuven_2_0050722_rois_cc200.1D ...\n"
          ]
        },
        {
          "output_type": "stream",
          "name": "stderr",
          "text": [
            " ...done. (0 seconds, 0 min)\n"
          ]
        },
        {
          "output_type": "stream",
          "name": "stdout",
          "text": [
            "Downloading data from https://s3.amazonaws.com/fcp-indi/data/Projects/ABIDE_Initiative/Outputs/cpac/filt_noglobal/rois_cc200/Leuven_2_0050723_rois_cc200.1D ...\n"
          ]
        },
        {
          "output_type": "stream",
          "name": "stderr",
          "text": [
            " ...done. (0 seconds, 0 min)\n"
          ]
        },
        {
          "output_type": "stream",
          "name": "stdout",
          "text": [
            "Downloading data from https://s3.amazonaws.com/fcp-indi/data/Projects/ABIDE_Initiative/Outputs/cpac/filt_noglobal/rois_cc200/Leuven_2_0050724_rois_cc200.1D ...\n"
          ]
        },
        {
          "output_type": "stream",
          "name": "stderr",
          "text": [
            " ...done. (0 seconds, 0 min)\n"
          ]
        },
        {
          "output_type": "stream",
          "name": "stdout",
          "text": [
            "Downloading data from https://s3.amazonaws.com/fcp-indi/data/Projects/ABIDE_Initiative/Outputs/cpac/filt_noglobal/rois_cc200/Leuven_2_0050725_rois_cc200.1D ...\n"
          ]
        },
        {
          "output_type": "stream",
          "name": "stderr",
          "text": [
            " ...done. (0 seconds, 0 min)\n"
          ]
        },
        {
          "output_type": "stream",
          "name": "stdout",
          "text": [
            "Downloading data from https://s3.amazonaws.com/fcp-indi/data/Projects/ABIDE_Initiative/Outputs/cpac/filt_noglobal/rois_cc200/Leuven_2_0050726_rois_cc200.1D ...\n"
          ]
        },
        {
          "output_type": "stream",
          "name": "stderr",
          "text": [
            " ...done. (0 seconds, 0 min)\n"
          ]
        },
        {
          "output_type": "stream",
          "name": "stdout",
          "text": [
            "Downloading data from https://s3.amazonaws.com/fcp-indi/data/Projects/ABIDE_Initiative/Outputs/cpac/filt_noglobal/rois_cc200/Leuven_2_0050727_rois_cc200.1D ...\n"
          ]
        },
        {
          "output_type": "stream",
          "name": "stderr",
          "text": [
            " ...done. (0 seconds, 0 min)\n"
          ]
        },
        {
          "output_type": "stream",
          "name": "stdout",
          "text": [
            "Downloading data from https://s3.amazonaws.com/fcp-indi/data/Projects/ABIDE_Initiative/Outputs/cpac/filt_noglobal/rois_cc200/Leuven_2_0050728_rois_cc200.1D ...\n"
          ]
        },
        {
          "output_type": "stream",
          "name": "stderr",
          "text": [
            " ...done. (0 seconds, 0 min)\n"
          ]
        },
        {
          "output_type": "stream",
          "name": "stdout",
          "text": [
            "Downloading data from https://s3.amazonaws.com/fcp-indi/data/Projects/ABIDE_Initiative/Outputs/cpac/filt_noglobal/rois_cc200/Leuven_2_0050730_rois_cc200.1D ...\n"
          ]
        },
        {
          "output_type": "stream",
          "name": "stderr",
          "text": [
            " ...done. (0 seconds, 0 min)\n"
          ]
        },
        {
          "output_type": "stream",
          "name": "stdout",
          "text": [
            "Downloading data from https://s3.amazonaws.com/fcp-indi/data/Projects/ABIDE_Initiative/Outputs/cpac/filt_noglobal/rois_cc200/Leuven_2_0050731_rois_cc200.1D ...\n"
          ]
        },
        {
          "output_type": "stream",
          "name": "stderr",
          "text": [
            " ...done. (0 seconds, 0 min)\n"
          ]
        },
        {
          "output_type": "stream",
          "name": "stdout",
          "text": [
            "Downloading data from https://s3.amazonaws.com/fcp-indi/data/Projects/ABIDE_Initiative/Outputs/cpac/filt_noglobal/rois_cc200/Leuven_2_0050732_rois_cc200.1D ...\n"
          ]
        },
        {
          "output_type": "stream",
          "name": "stderr",
          "text": [
            " ...done. (0 seconds, 0 min)\n"
          ]
        },
        {
          "output_type": "stream",
          "name": "stdout",
          "text": [
            "Downloading data from https://s3.amazonaws.com/fcp-indi/data/Projects/ABIDE_Initiative/Outputs/cpac/filt_noglobal/rois_cc200/Leuven_2_0050733_rois_cc200.1D ...\n"
          ]
        },
        {
          "output_type": "stream",
          "name": "stderr",
          "text": [
            " ...done. (0 seconds, 0 min)\n"
          ]
        },
        {
          "output_type": "stream",
          "name": "stdout",
          "text": [
            "Downloading data from https://s3.amazonaws.com/fcp-indi/data/Projects/ABIDE_Initiative/Outputs/cpac/filt_noglobal/rois_cc200/Leuven_2_0050735_rois_cc200.1D ...\n"
          ]
        },
        {
          "output_type": "stream",
          "name": "stderr",
          "text": [
            " ...done. (0 seconds, 0 min)\n"
          ]
        },
        {
          "output_type": "stream",
          "name": "stdout",
          "text": [
            "Downloading data from https://s3.amazonaws.com/fcp-indi/data/Projects/ABIDE_Initiative/Outputs/cpac/filt_noglobal/rois_cc200/Leuven_2_0050736_rois_cc200.1D ...\n"
          ]
        },
        {
          "output_type": "stream",
          "name": "stderr",
          "text": [
            " ...done. (0 seconds, 0 min)\n"
          ]
        },
        {
          "output_type": "stream",
          "name": "stdout",
          "text": [
            "Downloading data from https://s3.amazonaws.com/fcp-indi/data/Projects/ABIDE_Initiative/Outputs/cpac/filt_noglobal/rois_cc200/Leuven_2_0050737_rois_cc200.1D ...\n"
          ]
        },
        {
          "output_type": "stream",
          "name": "stderr",
          "text": [
            " ...done. (0 seconds, 0 min)\n"
          ]
        },
        {
          "output_type": "stream",
          "name": "stdout",
          "text": [
            "Downloading data from https://s3.amazonaws.com/fcp-indi/data/Projects/ABIDE_Initiative/Outputs/cpac/filt_noglobal/rois_cc200/Leuven_2_0050738_rois_cc200.1D ...\n"
          ]
        },
        {
          "output_type": "stream",
          "name": "stderr",
          "text": [
            " ...done. (0 seconds, 0 min)\n"
          ]
        },
        {
          "output_type": "stream",
          "name": "stdout",
          "text": [
            "Downloading data from https://s3.amazonaws.com/fcp-indi/data/Projects/ABIDE_Initiative/Outputs/cpac/filt_noglobal/rois_cc200/Leuven_2_0050739_rois_cc200.1D ...\n"
          ]
        },
        {
          "output_type": "stream",
          "name": "stderr",
          "text": [
            " ...done. (0 seconds, 0 min)\n"
          ]
        },
        {
          "output_type": "stream",
          "name": "stdout",
          "text": [
            "Downloading data from https://s3.amazonaws.com/fcp-indi/data/Projects/ABIDE_Initiative/Outputs/cpac/filt_noglobal/rois_cc200/Leuven_2_0050740_rois_cc200.1D ...\n"
          ]
        },
        {
          "output_type": "stream",
          "name": "stderr",
          "text": [
            " ...done. (0 seconds, 0 min)\n"
          ]
        },
        {
          "output_type": "stream",
          "name": "stdout",
          "text": [
            "Downloading data from https://s3.amazonaws.com/fcp-indi/data/Projects/ABIDE_Initiative/Outputs/cpac/filt_noglobal/rois_cc200/Leuven_2_0050741_rois_cc200.1D ...\n"
          ]
        },
        {
          "output_type": "stream",
          "name": "stderr",
          "text": [
            " ...done. (0 seconds, 0 min)\n"
          ]
        },
        {
          "output_type": "stream",
          "name": "stdout",
          "text": [
            "Downloading data from https://s3.amazonaws.com/fcp-indi/data/Projects/ABIDE_Initiative/Outputs/cpac/filt_noglobal/rois_cc200/Leuven_2_0050742_rois_cc200.1D ...\n"
          ]
        },
        {
          "output_type": "stream",
          "name": "stderr",
          "text": [
            " ...done. (0 seconds, 0 min)\n"
          ]
        },
        {
          "output_type": "stream",
          "name": "stdout",
          "text": [
            "Downloading data from https://s3.amazonaws.com/fcp-indi/data/Projects/ABIDE_Initiative/Outputs/cpac/filt_noglobal/rois_cc200/Leuven_2_0050743_rois_cc200.1D ...\n"
          ]
        },
        {
          "output_type": "stream",
          "name": "stderr",
          "text": [
            " ...done. (0 seconds, 0 min)\n"
          ]
        },
        {
          "output_type": "stream",
          "name": "stdout",
          "text": [
            "Downloading data from https://s3.amazonaws.com/fcp-indi/data/Projects/ABIDE_Initiative/Outputs/cpac/filt_noglobal/rois_cc200/Leuven_2_0050744_rois_cc200.1D ...\n"
          ]
        },
        {
          "output_type": "stream",
          "name": "stderr",
          "text": [
            " ...done. (0 seconds, 0 min)\n"
          ]
        },
        {
          "output_type": "stream",
          "name": "stdout",
          "text": [
            "Downloading data from https://s3.amazonaws.com/fcp-indi/data/Projects/ABIDE_Initiative/Outputs/cpac/filt_noglobal/rois_cc200/Leuven_2_0050745_rois_cc200.1D ...\n"
          ]
        },
        {
          "output_type": "stream",
          "name": "stderr",
          "text": [
            " ...done. (0 seconds, 0 min)\n"
          ]
        },
        {
          "output_type": "stream",
          "name": "stdout",
          "text": [
            "Downloading data from https://s3.amazonaws.com/fcp-indi/data/Projects/ABIDE_Initiative/Outputs/cpac/filt_noglobal/rois_cc200/Leuven_2_0050746_rois_cc200.1D ...\n"
          ]
        },
        {
          "output_type": "stream",
          "name": "stderr",
          "text": [
            " ...done. (0 seconds, 0 min)\n"
          ]
        },
        {
          "output_type": "stream",
          "name": "stdout",
          "text": [
            "Downloading data from https://s3.amazonaws.com/fcp-indi/data/Projects/ABIDE_Initiative/Outputs/cpac/filt_noglobal/rois_cc200/Leuven_2_0050747_rois_cc200.1D ...\n"
          ]
        },
        {
          "output_type": "stream",
          "name": "stderr",
          "text": [
            " ...done. (0 seconds, 0 min)\n"
          ]
        },
        {
          "output_type": "stream",
          "name": "stdout",
          "text": [
            "Downloading data from https://s3.amazonaws.com/fcp-indi/data/Projects/ABIDE_Initiative/Outputs/cpac/filt_noglobal/rois_cc200/Leuven_2_0050748_rois_cc200.1D ...\n"
          ]
        },
        {
          "output_type": "stream",
          "name": "stderr",
          "text": [
            " ...done. (0 seconds, 0 min)\n"
          ]
        },
        {
          "output_type": "stream",
          "name": "stdout",
          "text": [
            "Downloading data from https://s3.amazonaws.com/fcp-indi/data/Projects/ABIDE_Initiative/Outputs/cpac/filt_noglobal/rois_cc200/Leuven_2_0050749_rois_cc200.1D ...\n"
          ]
        },
        {
          "output_type": "stream",
          "name": "stderr",
          "text": [
            " ...done. (0 seconds, 0 min)\n"
          ]
        },
        {
          "output_type": "stream",
          "name": "stdout",
          "text": [
            "Downloading data from https://s3.amazonaws.com/fcp-indi/data/Projects/ABIDE_Initiative/Outputs/cpac/filt_noglobal/rois_cc200/Leuven_2_0050750_rois_cc200.1D ...\n"
          ]
        },
        {
          "output_type": "stream",
          "name": "stderr",
          "text": [
            " ...done. (0 seconds, 0 min)\n"
          ]
        },
        {
          "output_type": "stream",
          "name": "stdout",
          "text": [
            "Downloading data from https://s3.amazonaws.com/fcp-indi/data/Projects/ABIDE_Initiative/Outputs/cpac/filt_noglobal/rois_cc200/Leuven_2_0050751_rois_cc200.1D ...\n"
          ]
        },
        {
          "output_type": "stream",
          "name": "stderr",
          "text": [
            " ...done. (0 seconds, 0 min)\n"
          ]
        },
        {
          "output_type": "stream",
          "name": "stdout",
          "text": [
            "Downloading data from https://s3.amazonaws.com/fcp-indi/data/Projects/ABIDE_Initiative/Outputs/cpac/filt_noglobal/rois_cc200/Leuven_2_0050752_rois_cc200.1D ...\n"
          ]
        },
        {
          "output_type": "stream",
          "name": "stderr",
          "text": [
            " ...done. (0 seconds, 0 min)\n"
          ]
        },
        {
          "output_type": "stream",
          "name": "stdout",
          "text": [
            "Downloading data from https://s3.amazonaws.com/fcp-indi/data/Projects/ABIDE_Initiative/Outputs/cpac/filt_noglobal/rois_cc200/Leuven_2_0050753_rois_cc200.1D ...\n"
          ]
        },
        {
          "output_type": "stream",
          "name": "stderr",
          "text": [
            " ...done. (0 seconds, 0 min)\n"
          ]
        },
        {
          "output_type": "stream",
          "name": "stdout",
          "text": [
            "Downloading data from https://s3.amazonaws.com/fcp-indi/data/Projects/ABIDE_Initiative/Outputs/cpac/filt_noglobal/rois_cc200/Leuven_2_0050754_rois_cc200.1D ...\n"
          ]
        },
        {
          "output_type": "stream",
          "name": "stderr",
          "text": [
            " ...done. (0 seconds, 0 min)\n"
          ]
        },
        {
          "output_type": "stream",
          "name": "stdout",
          "text": [
            "Downloading data from https://s3.amazonaws.com/fcp-indi/data/Projects/ABIDE_Initiative/Outputs/cpac/filt_noglobal/rois_cc200/Leuven_2_0050755_rois_cc200.1D ...\n"
          ]
        },
        {
          "output_type": "stream",
          "name": "stderr",
          "text": [
            " ...done. (0 seconds, 0 min)\n"
          ]
        },
        {
          "output_type": "stream",
          "name": "stdout",
          "text": [
            "Downloading data from https://s3.amazonaws.com/fcp-indi/data/Projects/ABIDE_Initiative/Outputs/cpac/filt_noglobal/rois_cc200/Leuven_2_0050756_rois_cc200.1D ...\n"
          ]
        },
        {
          "output_type": "stream",
          "name": "stderr",
          "text": [
            " ...done. (0 seconds, 0 min)\n"
          ]
        },
        {
          "output_type": "stream",
          "name": "stdout",
          "text": [
            "Downloading data from https://s3.amazonaws.com/fcp-indi/data/Projects/ABIDE_Initiative/Outputs/cpac/filt_noglobal/rois_cc200/Leuven_2_0050757_rois_cc200.1D ...\n"
          ]
        },
        {
          "output_type": "stream",
          "name": "stderr",
          "text": [
            " ...done. (0 seconds, 0 min)\n"
          ]
        },
        {
          "output_type": "stream",
          "name": "stdout",
          "text": [
            "Downloading data from https://s3.amazonaws.com/fcp-indi/data/Projects/ABIDE_Initiative/Outputs/cpac/filt_noglobal/rois_cc200/KKI_0050772_rois_cc200.1D ...\n"
          ]
        },
        {
          "output_type": "stream",
          "name": "stderr",
          "text": [
            " ...done. (0 seconds, 0 min)\n"
          ]
        },
        {
          "output_type": "stream",
          "name": "stdout",
          "text": [
            "Downloading data from https://s3.amazonaws.com/fcp-indi/data/Projects/ABIDE_Initiative/Outputs/cpac/filt_noglobal/rois_cc200/KKI_0050773_rois_cc200.1D ...\n"
          ]
        },
        {
          "output_type": "stream",
          "name": "stderr",
          "text": [
            " ...done. (0 seconds, 0 min)\n"
          ]
        },
        {
          "output_type": "stream",
          "name": "stdout",
          "text": [
            "Downloading data from https://s3.amazonaws.com/fcp-indi/data/Projects/ABIDE_Initiative/Outputs/cpac/filt_noglobal/rois_cc200/KKI_0050774_rois_cc200.1D ...\n"
          ]
        },
        {
          "output_type": "stream",
          "name": "stderr",
          "text": [
            " ...done. (0 seconds, 0 min)\n"
          ]
        },
        {
          "output_type": "stream",
          "name": "stdout",
          "text": [
            "Downloading data from https://s3.amazonaws.com/fcp-indi/data/Projects/ABIDE_Initiative/Outputs/cpac/filt_noglobal/rois_cc200/KKI_0050775_rois_cc200.1D ...\n"
          ]
        },
        {
          "output_type": "stream",
          "name": "stderr",
          "text": [
            " ...done. (0 seconds, 0 min)\n"
          ]
        },
        {
          "output_type": "stream",
          "name": "stdout",
          "text": [
            "Downloading data from https://s3.amazonaws.com/fcp-indi/data/Projects/ABIDE_Initiative/Outputs/cpac/filt_noglobal/rois_cc200/KKI_0050776_rois_cc200.1D ...\n"
          ]
        },
        {
          "output_type": "stream",
          "name": "stderr",
          "text": [
            " ...done. (0 seconds, 0 min)\n"
          ]
        },
        {
          "output_type": "stream",
          "name": "stdout",
          "text": [
            "Downloading data from https://s3.amazonaws.com/fcp-indi/data/Projects/ABIDE_Initiative/Outputs/cpac/filt_noglobal/rois_cc200/KKI_0050777_rois_cc200.1D ...\n"
          ]
        },
        {
          "output_type": "stream",
          "name": "stderr",
          "text": [
            " ...done. (0 seconds, 0 min)\n"
          ]
        },
        {
          "output_type": "stream",
          "name": "stdout",
          "text": [
            "Downloading data from https://s3.amazonaws.com/fcp-indi/data/Projects/ABIDE_Initiative/Outputs/cpac/filt_noglobal/rois_cc200/KKI_0050778_rois_cc200.1D ...\n"
          ]
        },
        {
          "output_type": "stream",
          "name": "stderr",
          "text": [
            " ...done. (0 seconds, 0 min)\n"
          ]
        },
        {
          "output_type": "stream",
          "name": "stdout",
          "text": [
            "Downloading data from https://s3.amazonaws.com/fcp-indi/data/Projects/ABIDE_Initiative/Outputs/cpac/filt_noglobal/rois_cc200/KKI_0050779_rois_cc200.1D ...\n"
          ]
        },
        {
          "output_type": "stream",
          "name": "stderr",
          "text": [
            " ...done. (0 seconds, 0 min)\n"
          ]
        },
        {
          "output_type": "stream",
          "name": "stdout",
          "text": [
            "Downloading data from https://s3.amazonaws.com/fcp-indi/data/Projects/ABIDE_Initiative/Outputs/cpac/filt_noglobal/rois_cc200/KKI_0050780_rois_cc200.1D ...\n"
          ]
        },
        {
          "output_type": "stream",
          "name": "stderr",
          "text": [
            " ...done. (0 seconds, 0 min)\n"
          ]
        },
        {
          "output_type": "stream",
          "name": "stdout",
          "text": [
            "Downloading data from https://s3.amazonaws.com/fcp-indi/data/Projects/ABIDE_Initiative/Outputs/cpac/filt_noglobal/rois_cc200/KKI_0050781_rois_cc200.1D ...\n"
          ]
        },
        {
          "output_type": "stream",
          "name": "stderr",
          "text": [
            " ...done. (0 seconds, 0 min)\n"
          ]
        },
        {
          "output_type": "stream",
          "name": "stdout",
          "text": [
            "Downloading data from https://s3.amazonaws.com/fcp-indi/data/Projects/ABIDE_Initiative/Outputs/cpac/filt_noglobal/rois_cc200/KKI_0050782_rois_cc200.1D ...\n"
          ]
        },
        {
          "output_type": "stream",
          "name": "stderr",
          "text": [
            " ...done. (0 seconds, 0 min)\n"
          ]
        },
        {
          "output_type": "stream",
          "name": "stdout",
          "text": [
            "Downloading data from https://s3.amazonaws.com/fcp-indi/data/Projects/ABIDE_Initiative/Outputs/cpac/filt_noglobal/rois_cc200/KKI_0050783_rois_cc200.1D ...\n"
          ]
        },
        {
          "output_type": "stream",
          "name": "stderr",
          "text": [
            " ...done. (0 seconds, 0 min)\n"
          ]
        },
        {
          "output_type": "stream",
          "name": "stdout",
          "text": [
            "Downloading data from https://s3.amazonaws.com/fcp-indi/data/Projects/ABIDE_Initiative/Outputs/cpac/filt_noglobal/rois_cc200/KKI_0050784_rois_cc200.1D ...\n"
          ]
        },
        {
          "output_type": "stream",
          "name": "stderr",
          "text": [
            " ...done. (0 seconds, 0 min)\n"
          ]
        },
        {
          "output_type": "stream",
          "name": "stdout",
          "text": [
            "Downloading data from https://s3.amazonaws.com/fcp-indi/data/Projects/ABIDE_Initiative/Outputs/cpac/filt_noglobal/rois_cc200/KKI_0050785_rois_cc200.1D ...\n"
          ]
        },
        {
          "output_type": "stream",
          "name": "stderr",
          "text": [
            " ...done. (0 seconds, 0 min)\n"
          ]
        },
        {
          "output_type": "stream",
          "name": "stdout",
          "text": [
            "Downloading data from https://s3.amazonaws.com/fcp-indi/data/Projects/ABIDE_Initiative/Outputs/cpac/filt_noglobal/rois_cc200/KKI_0050786_rois_cc200.1D ...\n"
          ]
        },
        {
          "output_type": "stream",
          "name": "stderr",
          "text": [
            " ...done. (0 seconds, 0 min)\n"
          ]
        },
        {
          "output_type": "stream",
          "name": "stdout",
          "text": [
            "Downloading data from https://s3.amazonaws.com/fcp-indi/data/Projects/ABIDE_Initiative/Outputs/cpac/filt_noglobal/rois_cc200/KKI_0050787_rois_cc200.1D ...\n"
          ]
        },
        {
          "output_type": "stream",
          "name": "stderr",
          "text": [
            " ...done. (0 seconds, 0 min)\n"
          ]
        },
        {
          "output_type": "stream",
          "name": "stdout",
          "text": [
            "Downloading data from https://s3.amazonaws.com/fcp-indi/data/Projects/ABIDE_Initiative/Outputs/cpac/filt_noglobal/rois_cc200/KKI_0050788_rois_cc200.1D ...\n"
          ]
        },
        {
          "output_type": "stream",
          "name": "stderr",
          "text": [
            " ...done. (0 seconds, 0 min)\n"
          ]
        },
        {
          "output_type": "stream",
          "name": "stdout",
          "text": [
            "Downloading data from https://s3.amazonaws.com/fcp-indi/data/Projects/ABIDE_Initiative/Outputs/cpac/filt_noglobal/rois_cc200/KKI_0050789_rois_cc200.1D ...\n"
          ]
        },
        {
          "output_type": "stream",
          "name": "stderr",
          "text": [
            " ...done. (0 seconds, 0 min)\n"
          ]
        },
        {
          "output_type": "stream",
          "name": "stdout",
          "text": [
            "Downloading data from https://s3.amazonaws.com/fcp-indi/data/Projects/ABIDE_Initiative/Outputs/cpac/filt_noglobal/rois_cc200/KKI_0050790_rois_cc200.1D ...\n"
          ]
        },
        {
          "output_type": "stream",
          "name": "stderr",
          "text": [
            " ...done. (0 seconds, 0 min)\n"
          ]
        },
        {
          "output_type": "stream",
          "name": "stdout",
          "text": [
            "Downloading data from https://s3.amazonaws.com/fcp-indi/data/Projects/ABIDE_Initiative/Outputs/cpac/filt_noglobal/rois_cc200/KKI_0050791_rois_cc200.1D ...\n"
          ]
        },
        {
          "output_type": "stream",
          "name": "stderr",
          "text": [
            " ...done. (0 seconds, 0 min)\n"
          ]
        },
        {
          "output_type": "stream",
          "name": "stdout",
          "text": [
            "Downloading data from https://s3.amazonaws.com/fcp-indi/data/Projects/ABIDE_Initiative/Outputs/cpac/filt_noglobal/rois_cc200/KKI_0050792_rois_cc200.1D ...\n"
          ]
        },
        {
          "output_type": "stream",
          "name": "stderr",
          "text": [
            " ...done. (0 seconds, 0 min)\n"
          ]
        },
        {
          "output_type": "stream",
          "name": "stdout",
          "text": [
            "Downloading data from https://s3.amazonaws.com/fcp-indi/data/Projects/ABIDE_Initiative/Outputs/cpac/filt_noglobal/rois_cc200/KKI_0050793_rois_cc200.1D ...\n"
          ]
        },
        {
          "output_type": "stream",
          "name": "stderr",
          "text": [
            " ...done. (0 seconds, 0 min)\n"
          ]
        },
        {
          "output_type": "stream",
          "name": "stdout",
          "text": [
            "Downloading data from https://s3.amazonaws.com/fcp-indi/data/Projects/ABIDE_Initiative/Outputs/cpac/filt_noglobal/rois_cc200/KKI_0050794_rois_cc200.1D ...\n"
          ]
        },
        {
          "output_type": "stream",
          "name": "stderr",
          "text": [
            " ...done. (0 seconds, 0 min)\n"
          ]
        },
        {
          "output_type": "stream",
          "name": "stdout",
          "text": [
            "Downloading data from https://s3.amazonaws.com/fcp-indi/data/Projects/ABIDE_Initiative/Outputs/cpac/filt_noglobal/rois_cc200/KKI_0050795_rois_cc200.1D ...\n"
          ]
        },
        {
          "output_type": "stream",
          "name": "stderr",
          "text": [
            " ...done. (0 seconds, 0 min)\n"
          ]
        },
        {
          "output_type": "stream",
          "name": "stdout",
          "text": [
            "Downloading data from https://s3.amazonaws.com/fcp-indi/data/Projects/ABIDE_Initiative/Outputs/cpac/filt_noglobal/rois_cc200/KKI_0050796_rois_cc200.1D ...\n"
          ]
        },
        {
          "output_type": "stream",
          "name": "stderr",
          "text": [
            " ...done. (0 seconds, 0 min)\n"
          ]
        },
        {
          "output_type": "stream",
          "name": "stdout",
          "text": [
            "Downloading data from https://s3.amazonaws.com/fcp-indi/data/Projects/ABIDE_Initiative/Outputs/cpac/filt_noglobal/rois_cc200/KKI_0050797_rois_cc200.1D ...\n"
          ]
        },
        {
          "output_type": "stream",
          "name": "stderr",
          "text": [
            " ...done. (0 seconds, 0 min)\n"
          ]
        },
        {
          "output_type": "stream",
          "name": "stdout",
          "text": [
            "Downloading data from https://s3.amazonaws.com/fcp-indi/data/Projects/ABIDE_Initiative/Outputs/cpac/filt_noglobal/rois_cc200/KKI_0050798_rois_cc200.1D ...\n"
          ]
        },
        {
          "output_type": "stream",
          "name": "stderr",
          "text": [
            " ...done. (0 seconds, 0 min)\n"
          ]
        },
        {
          "output_type": "stream",
          "name": "stdout",
          "text": [
            "Downloading data from https://s3.amazonaws.com/fcp-indi/data/Projects/ABIDE_Initiative/Outputs/cpac/filt_noglobal/rois_cc200/KKI_0050799_rois_cc200.1D ...\n"
          ]
        },
        {
          "output_type": "stream",
          "name": "stderr",
          "text": [
            " ...done. (0 seconds, 0 min)\n"
          ]
        },
        {
          "output_type": "stream",
          "name": "stdout",
          "text": [
            "Downloading data from https://s3.amazonaws.com/fcp-indi/data/Projects/ABIDE_Initiative/Outputs/cpac/filt_noglobal/rois_cc200/KKI_0050800_rois_cc200.1D ...\n"
          ]
        },
        {
          "output_type": "stream",
          "name": "stderr",
          "text": [
            " ...done. (0 seconds, 0 min)\n"
          ]
        },
        {
          "output_type": "stream",
          "name": "stdout",
          "text": [
            "Downloading data from https://s3.amazonaws.com/fcp-indi/data/Projects/ABIDE_Initiative/Outputs/cpac/filt_noglobal/rois_cc200/KKI_0050801_rois_cc200.1D ...\n"
          ]
        },
        {
          "output_type": "stream",
          "name": "stderr",
          "text": [
            " ...done. (0 seconds, 0 min)\n"
          ]
        },
        {
          "output_type": "stream",
          "name": "stdout",
          "text": [
            "Downloading data from https://s3.amazonaws.com/fcp-indi/data/Projects/ABIDE_Initiative/Outputs/cpac/filt_noglobal/rois_cc200/KKI_0050802_rois_cc200.1D ...\n"
          ]
        },
        {
          "output_type": "stream",
          "name": "stderr",
          "text": [
            " ...done. (0 seconds, 0 min)\n"
          ]
        },
        {
          "output_type": "stream",
          "name": "stdout",
          "text": [
            "Downloading data from https://s3.amazonaws.com/fcp-indi/data/Projects/ABIDE_Initiative/Outputs/cpac/filt_noglobal/rois_cc200/KKI_0050803_rois_cc200.1D ...\n"
          ]
        },
        {
          "output_type": "stream",
          "name": "stderr",
          "text": [
            " ...done. (0 seconds, 0 min)\n"
          ]
        },
        {
          "output_type": "stream",
          "name": "stdout",
          "text": [
            "Downloading data from https://s3.amazonaws.com/fcp-indi/data/Projects/ABIDE_Initiative/Outputs/cpac/filt_noglobal/rois_cc200/KKI_0050804_rois_cc200.1D ...\n"
          ]
        },
        {
          "output_type": "stream",
          "name": "stderr",
          "text": [
            " ...done. (0 seconds, 0 min)\n"
          ]
        },
        {
          "output_type": "stream",
          "name": "stdout",
          "text": [
            "Downloading data from https://s3.amazonaws.com/fcp-indi/data/Projects/ABIDE_Initiative/Outputs/cpac/filt_noglobal/rois_cc200/KKI_0050807_rois_cc200.1D ...\n"
          ]
        },
        {
          "output_type": "stream",
          "name": "stderr",
          "text": [
            " ...done. (0 seconds, 0 min)\n"
          ]
        },
        {
          "output_type": "stream",
          "name": "stdout",
          "text": [
            "Downloading data from https://s3.amazonaws.com/fcp-indi/data/Projects/ABIDE_Initiative/Outputs/cpac/filt_noglobal/rois_cc200/KKI_0050812_rois_cc200.1D ...\n"
          ]
        },
        {
          "output_type": "stream",
          "name": "stderr",
          "text": [
            " ...done. (0 seconds, 0 min)\n"
          ]
        },
        {
          "output_type": "stream",
          "name": "stdout",
          "text": [
            "Downloading data from https://s3.amazonaws.com/fcp-indi/data/Projects/ABIDE_Initiative/Outputs/cpac/filt_noglobal/rois_cc200/KKI_0050814_rois_cc200.1D ...\n"
          ]
        },
        {
          "output_type": "stream",
          "name": "stderr",
          "text": [
            " ...done. (0 seconds, 0 min)\n"
          ]
        },
        {
          "output_type": "stream",
          "name": "stdout",
          "text": [
            "Downloading data from https://s3.amazonaws.com/fcp-indi/data/Projects/ABIDE_Initiative/Outputs/cpac/filt_noglobal/rois_cc200/KKI_0050815_rois_cc200.1D ...\n"
          ]
        },
        {
          "output_type": "stream",
          "name": "stderr",
          "text": [
            " ...done. (0 seconds, 0 min)\n"
          ]
        },
        {
          "output_type": "stream",
          "name": "stdout",
          "text": [
            "Downloading data from https://s3.amazonaws.com/fcp-indi/data/Projects/ABIDE_Initiative/Outputs/cpac/filt_noglobal/rois_cc200/KKI_0050816_rois_cc200.1D ...\n"
          ]
        },
        {
          "output_type": "stream",
          "name": "stderr",
          "text": [
            " ...done. (0 seconds, 0 min)\n"
          ]
        },
        {
          "output_type": "stream",
          "name": "stdout",
          "text": [
            "Downloading data from https://s3.amazonaws.com/fcp-indi/data/Projects/ABIDE_Initiative/Outputs/cpac/filt_noglobal/rois_cc200/KKI_0050817_rois_cc200.1D ...\n"
          ]
        },
        {
          "output_type": "stream",
          "name": "stderr",
          "text": [
            " ...done. (0 seconds, 0 min)\n"
          ]
        },
        {
          "output_type": "stream",
          "name": "stdout",
          "text": [
            "Downloading data from https://s3.amazonaws.com/fcp-indi/data/Projects/ABIDE_Initiative/Outputs/cpac/filt_noglobal/rois_cc200/KKI_0050818_rois_cc200.1D ...\n"
          ]
        },
        {
          "output_type": "stream",
          "name": "stderr",
          "text": [
            " ...done. (0 seconds, 0 min)\n"
          ]
        },
        {
          "output_type": "stream",
          "name": "stdout",
          "text": [
            "Downloading data from https://s3.amazonaws.com/fcp-indi/data/Projects/ABIDE_Initiative/Outputs/cpac/filt_noglobal/rois_cc200/KKI_0050819_rois_cc200.1D ...\n"
          ]
        },
        {
          "output_type": "stream",
          "name": "stderr",
          "text": [
            " ...done. (0 seconds, 0 min)\n"
          ]
        },
        {
          "output_type": "stream",
          "name": "stdout",
          "text": [
            "Downloading data from https://s3.amazonaws.com/fcp-indi/data/Projects/ABIDE_Initiative/Outputs/cpac/filt_noglobal/rois_cc200/KKI_0050820_rois_cc200.1D ...\n"
          ]
        },
        {
          "output_type": "stream",
          "name": "stderr",
          "text": [
            " ...done. (0 seconds, 0 min)\n"
          ]
        },
        {
          "output_type": "stream",
          "name": "stdout",
          "text": [
            "Downloading data from https://s3.amazonaws.com/fcp-indi/data/Projects/ABIDE_Initiative/Outputs/cpac/filt_noglobal/rois_cc200/KKI_0050821_rois_cc200.1D ...\n"
          ]
        },
        {
          "output_type": "stream",
          "name": "stderr",
          "text": [
            " ...done. (0 seconds, 0 min)\n"
          ]
        },
        {
          "output_type": "stream",
          "name": "stdout",
          "text": [
            "Downloading data from https://s3.amazonaws.com/fcp-indi/data/Projects/ABIDE_Initiative/Outputs/cpac/filt_noglobal/rois_cc200/KKI_0050822_rois_cc200.1D ...\n"
          ]
        },
        {
          "output_type": "stream",
          "name": "stderr",
          "text": [
            " ...done. (0 seconds, 0 min)\n"
          ]
        },
        {
          "output_type": "stream",
          "name": "stdout",
          "text": [
            "Downloading data from https://s3.amazonaws.com/fcp-indi/data/Projects/ABIDE_Initiative/Outputs/cpac/filt_noglobal/rois_cc200/KKI_0050823_rois_cc200.1D ...\n"
          ]
        },
        {
          "output_type": "stream",
          "name": "stderr",
          "text": [
            " ...done. (0 seconds, 0 min)\n"
          ]
        },
        {
          "output_type": "stream",
          "name": "stdout",
          "text": [
            "Downloading data from https://s3.amazonaws.com/fcp-indi/data/Projects/ABIDE_Initiative/Outputs/cpac/filt_noglobal/rois_cc200/KKI_0050824_rois_cc200.1D ...\n"
          ]
        },
        {
          "output_type": "stream",
          "name": "stderr",
          "text": [
            " ...done. (0 seconds, 0 min)\n"
          ]
        },
        {
          "output_type": "stream",
          "name": "stdout",
          "text": [
            "Downloading data from https://s3.amazonaws.com/fcp-indi/data/Projects/ABIDE_Initiative/Outputs/cpac/filt_noglobal/rois_cc200/KKI_0050825_rois_cc200.1D ...\n"
          ]
        },
        {
          "output_type": "stream",
          "name": "stderr",
          "text": [
            " ...done. (0 seconds, 0 min)\n"
          ]
        },
        {
          "output_type": "stream",
          "name": "stdout",
          "text": [
            "Downloading data from https://s3.amazonaws.com/fcp-indi/data/Projects/ABIDE_Initiative/Outputs/cpac/filt_noglobal/rois_cc200/KKI_0050826_rois_cc200.1D ...\n"
          ]
        },
        {
          "output_type": "stream",
          "name": "stderr",
          "text": [
            " ...done. (0 seconds, 0 min)\n"
          ]
        },
        {
          "output_type": "stream",
          "name": "stdout",
          "text": [
            "Downloading data from https://s3.amazonaws.com/fcp-indi/data/Projects/ABIDE_Initiative/Outputs/cpac/filt_noglobal/rois_cc200/NYU_0050952_rois_cc200.1D ...\n"
          ]
        },
        {
          "output_type": "stream",
          "name": "stderr",
          "text": [
            " ...done. (0 seconds, 0 min)\n"
          ]
        },
        {
          "output_type": "stream",
          "name": "stdout",
          "text": [
            "Downloading data from https://s3.amazonaws.com/fcp-indi/data/Projects/ABIDE_Initiative/Outputs/cpac/filt_noglobal/rois_cc200/NYU_0050954_rois_cc200.1D ...\n"
          ]
        },
        {
          "output_type": "stream",
          "name": "stderr",
          "text": [
            " ...done. (0 seconds, 0 min)\n"
          ]
        },
        {
          "output_type": "stream",
          "name": "stdout",
          "text": [
            "Downloading data from https://s3.amazonaws.com/fcp-indi/data/Projects/ABIDE_Initiative/Outputs/cpac/filt_noglobal/rois_cc200/NYU_0050955_rois_cc200.1D ...\n"
          ]
        },
        {
          "output_type": "stream",
          "name": "stderr",
          "text": [
            " ...done. (0 seconds, 0 min)\n"
          ]
        },
        {
          "output_type": "stream",
          "name": "stdout",
          "text": [
            "Downloading data from https://s3.amazonaws.com/fcp-indi/data/Projects/ABIDE_Initiative/Outputs/cpac/filt_noglobal/rois_cc200/NYU_0050956_rois_cc200.1D ...\n"
          ]
        },
        {
          "output_type": "stream",
          "name": "stderr",
          "text": [
            " ...done. (0 seconds, 0 min)\n"
          ]
        },
        {
          "output_type": "stream",
          "name": "stdout",
          "text": [
            "Downloading data from https://s3.amazonaws.com/fcp-indi/data/Projects/ABIDE_Initiative/Outputs/cpac/filt_noglobal/rois_cc200/NYU_0050957_rois_cc200.1D ...\n"
          ]
        },
        {
          "output_type": "stream",
          "name": "stderr",
          "text": [
            " ...done. (0 seconds, 0 min)\n"
          ]
        },
        {
          "output_type": "stream",
          "name": "stdout",
          "text": [
            "Downloading data from https://s3.amazonaws.com/fcp-indi/data/Projects/ABIDE_Initiative/Outputs/cpac/filt_noglobal/rois_cc200/NYU_0050958_rois_cc200.1D ...\n"
          ]
        },
        {
          "output_type": "stream",
          "name": "stderr",
          "text": [
            " ...done. (0 seconds, 0 min)\n"
          ]
        },
        {
          "output_type": "stream",
          "name": "stdout",
          "text": [
            "Downloading data from https://s3.amazonaws.com/fcp-indi/data/Projects/ABIDE_Initiative/Outputs/cpac/filt_noglobal/rois_cc200/NYU_0050959_rois_cc200.1D ...\n"
          ]
        },
        {
          "output_type": "stream",
          "name": "stderr",
          "text": [
            " ...done. (0 seconds, 0 min)\n"
          ]
        },
        {
          "output_type": "stream",
          "name": "stdout",
          "text": [
            "Downloading data from https://s3.amazonaws.com/fcp-indi/data/Projects/ABIDE_Initiative/Outputs/cpac/filt_noglobal/rois_cc200/NYU_0050960_rois_cc200.1D ...\n"
          ]
        },
        {
          "output_type": "stream",
          "name": "stderr",
          "text": [
            " ...done. (0 seconds, 0 min)\n"
          ]
        },
        {
          "output_type": "stream",
          "name": "stdout",
          "text": [
            "Downloading data from https://s3.amazonaws.com/fcp-indi/data/Projects/ABIDE_Initiative/Outputs/cpac/filt_noglobal/rois_cc200/NYU_0050961_rois_cc200.1D ...\n"
          ]
        },
        {
          "output_type": "stream",
          "name": "stderr",
          "text": [
            " ...done. (0 seconds, 0 min)\n"
          ]
        },
        {
          "output_type": "stream",
          "name": "stdout",
          "text": [
            "Downloading data from https://s3.amazonaws.com/fcp-indi/data/Projects/ABIDE_Initiative/Outputs/cpac/filt_noglobal/rois_cc200/NYU_0050962_rois_cc200.1D ...\n"
          ]
        },
        {
          "output_type": "stream",
          "name": "stderr",
          "text": [
            " ...done. (0 seconds, 0 min)\n"
          ]
        },
        {
          "output_type": "stream",
          "name": "stdout",
          "text": [
            "Downloading data from https://s3.amazonaws.com/fcp-indi/data/Projects/ABIDE_Initiative/Outputs/cpac/filt_noglobal/rois_cc200/NYU_0050964_rois_cc200.1D ...\n"
          ]
        },
        {
          "output_type": "stream",
          "name": "stderr",
          "text": [
            " ...done. (0 seconds, 0 min)\n"
          ]
        },
        {
          "output_type": "stream",
          "name": "stdout",
          "text": [
            "Downloading data from https://s3.amazonaws.com/fcp-indi/data/Projects/ABIDE_Initiative/Outputs/cpac/filt_noglobal/rois_cc200/NYU_0050965_rois_cc200.1D ...\n"
          ]
        },
        {
          "output_type": "stream",
          "name": "stderr",
          "text": [
            " ...done. (0 seconds, 0 min)\n"
          ]
        },
        {
          "output_type": "stream",
          "name": "stdout",
          "text": [
            "Downloading data from https://s3.amazonaws.com/fcp-indi/data/Projects/ABIDE_Initiative/Outputs/cpac/filt_noglobal/rois_cc200/NYU_0050966_rois_cc200.1D ...\n"
          ]
        },
        {
          "output_type": "stream",
          "name": "stderr",
          "text": [
            " ...done. (0 seconds, 0 min)\n"
          ]
        },
        {
          "output_type": "stream",
          "name": "stdout",
          "text": [
            "Downloading data from https://s3.amazonaws.com/fcp-indi/data/Projects/ABIDE_Initiative/Outputs/cpac/filt_noglobal/rois_cc200/NYU_0050967_rois_cc200.1D ...\n"
          ]
        },
        {
          "output_type": "stream",
          "name": "stderr",
          "text": [
            " ...done. (0 seconds, 0 min)\n"
          ]
        },
        {
          "output_type": "stream",
          "name": "stdout",
          "text": [
            "Downloading data from https://s3.amazonaws.com/fcp-indi/data/Projects/ABIDE_Initiative/Outputs/cpac/filt_noglobal/rois_cc200/NYU_0050968_rois_cc200.1D ...\n"
          ]
        },
        {
          "output_type": "stream",
          "name": "stderr",
          "text": [
            " ...done. (0 seconds, 0 min)\n"
          ]
        },
        {
          "output_type": "stream",
          "name": "stdout",
          "text": [
            "Downloading data from https://s3.amazonaws.com/fcp-indi/data/Projects/ABIDE_Initiative/Outputs/cpac/filt_noglobal/rois_cc200/NYU_0050969_rois_cc200.1D ...\n"
          ]
        },
        {
          "output_type": "stream",
          "name": "stderr",
          "text": [
            " ...done. (0 seconds, 0 min)\n"
          ]
        },
        {
          "output_type": "stream",
          "name": "stdout",
          "text": [
            "Downloading data from https://s3.amazonaws.com/fcp-indi/data/Projects/ABIDE_Initiative/Outputs/cpac/filt_noglobal/rois_cc200/NYU_0050970_rois_cc200.1D ...\n"
          ]
        },
        {
          "output_type": "stream",
          "name": "stderr",
          "text": [
            " ...done. (0 seconds, 0 min)\n"
          ]
        },
        {
          "output_type": "stream",
          "name": "stdout",
          "text": [
            "Downloading data from https://s3.amazonaws.com/fcp-indi/data/Projects/ABIDE_Initiative/Outputs/cpac/filt_noglobal/rois_cc200/NYU_0050972_rois_cc200.1D ...\n"
          ]
        },
        {
          "output_type": "stream",
          "name": "stderr",
          "text": [
            " ...done. (0 seconds, 0 min)\n"
          ]
        },
        {
          "output_type": "stream",
          "name": "stdout",
          "text": [
            "Downloading data from https://s3.amazonaws.com/fcp-indi/data/Projects/ABIDE_Initiative/Outputs/cpac/filt_noglobal/rois_cc200/NYU_0050973_rois_cc200.1D ...\n"
          ]
        },
        {
          "output_type": "stream",
          "name": "stderr",
          "text": [
            " ...done. (0 seconds, 0 min)\n"
          ]
        },
        {
          "output_type": "stream",
          "name": "stdout",
          "text": [
            "Downloading data from https://s3.amazonaws.com/fcp-indi/data/Projects/ABIDE_Initiative/Outputs/cpac/filt_noglobal/rois_cc200/NYU_0050974_rois_cc200.1D ...\n"
          ]
        },
        {
          "output_type": "stream",
          "name": "stderr",
          "text": [
            " ...done. (0 seconds, 0 min)\n"
          ]
        },
        {
          "output_type": "stream",
          "name": "stdout",
          "text": [
            "Downloading data from https://s3.amazonaws.com/fcp-indi/data/Projects/ABIDE_Initiative/Outputs/cpac/filt_noglobal/rois_cc200/NYU_0050976_rois_cc200.1D ...\n"
          ]
        },
        {
          "output_type": "stream",
          "name": "stderr",
          "text": [
            " ...done. (0 seconds, 0 min)\n"
          ]
        },
        {
          "output_type": "stream",
          "name": "stdout",
          "text": [
            "Downloading data from https://s3.amazonaws.com/fcp-indi/data/Projects/ABIDE_Initiative/Outputs/cpac/filt_noglobal/rois_cc200/NYU_0050977_rois_cc200.1D ...\n"
          ]
        },
        {
          "output_type": "stream",
          "name": "stderr",
          "text": [
            " ...done. (0 seconds, 0 min)\n"
          ]
        },
        {
          "output_type": "stream",
          "name": "stdout",
          "text": [
            "Downloading data from https://s3.amazonaws.com/fcp-indi/data/Projects/ABIDE_Initiative/Outputs/cpac/filt_noglobal/rois_cc200/NYU_0050978_rois_cc200.1D ...\n"
          ]
        },
        {
          "output_type": "stream",
          "name": "stderr",
          "text": [
            " ...done. (0 seconds, 0 min)\n"
          ]
        },
        {
          "output_type": "stream",
          "name": "stdout",
          "text": [
            "Downloading data from https://s3.amazonaws.com/fcp-indi/data/Projects/ABIDE_Initiative/Outputs/cpac/filt_noglobal/rois_cc200/NYU_0050979_rois_cc200.1D ...\n"
          ]
        },
        {
          "output_type": "stream",
          "name": "stderr",
          "text": [
            " ...done. (0 seconds, 0 min)\n"
          ]
        },
        {
          "output_type": "stream",
          "name": "stdout",
          "text": [
            "Downloading data from https://s3.amazonaws.com/fcp-indi/data/Projects/ABIDE_Initiative/Outputs/cpac/filt_noglobal/rois_cc200/NYU_0050981_rois_cc200.1D ...\n"
          ]
        },
        {
          "output_type": "stream",
          "name": "stderr",
          "text": [
            " ...done. (0 seconds, 0 min)\n"
          ]
        },
        {
          "output_type": "stream",
          "name": "stdout",
          "text": [
            "Downloading data from https://s3.amazonaws.com/fcp-indi/data/Projects/ABIDE_Initiative/Outputs/cpac/filt_noglobal/rois_cc200/NYU_0050982_rois_cc200.1D ...\n"
          ]
        },
        {
          "output_type": "stream",
          "name": "stderr",
          "text": [
            " ...done. (0 seconds, 0 min)\n"
          ]
        },
        {
          "output_type": "stream",
          "name": "stdout",
          "text": [
            "Downloading data from https://s3.amazonaws.com/fcp-indi/data/Projects/ABIDE_Initiative/Outputs/cpac/filt_noglobal/rois_cc200/NYU_0050983_rois_cc200.1D ...\n"
          ]
        },
        {
          "output_type": "stream",
          "name": "stderr",
          "text": [
            " ...done. (0 seconds, 0 min)\n"
          ]
        },
        {
          "output_type": "stream",
          "name": "stdout",
          "text": [
            "Downloading data from https://s3.amazonaws.com/fcp-indi/data/Projects/ABIDE_Initiative/Outputs/cpac/filt_noglobal/rois_cc200/NYU_0050984_rois_cc200.1D ...\n"
          ]
        },
        {
          "output_type": "stream",
          "name": "stderr",
          "text": [
            " ...done. (0 seconds, 0 min)\n"
          ]
        },
        {
          "output_type": "stream",
          "name": "stdout",
          "text": [
            "Downloading data from https://s3.amazonaws.com/fcp-indi/data/Projects/ABIDE_Initiative/Outputs/cpac/filt_noglobal/rois_cc200/NYU_0050985_rois_cc200.1D ...\n"
          ]
        },
        {
          "output_type": "stream",
          "name": "stderr",
          "text": [
            " ...done. (0 seconds, 0 min)\n"
          ]
        },
        {
          "output_type": "stream",
          "name": "stdout",
          "text": [
            "Downloading data from https://s3.amazonaws.com/fcp-indi/data/Projects/ABIDE_Initiative/Outputs/cpac/filt_noglobal/rois_cc200/NYU_0050986_rois_cc200.1D ...\n"
          ]
        },
        {
          "output_type": "stream",
          "name": "stderr",
          "text": [
            " ...done. (0 seconds, 0 min)\n"
          ]
        },
        {
          "output_type": "stream",
          "name": "stdout",
          "text": [
            "Downloading data from https://s3.amazonaws.com/fcp-indi/data/Projects/ABIDE_Initiative/Outputs/cpac/filt_noglobal/rois_cc200/NYU_0050987_rois_cc200.1D ...\n"
          ]
        },
        {
          "output_type": "stream",
          "name": "stderr",
          "text": [
            " ...done. (0 seconds, 0 min)\n"
          ]
        },
        {
          "output_type": "stream",
          "name": "stdout",
          "text": [
            "Downloading data from https://s3.amazonaws.com/fcp-indi/data/Projects/ABIDE_Initiative/Outputs/cpac/filt_noglobal/rois_cc200/NYU_0050988_rois_cc200.1D ...\n"
          ]
        },
        {
          "output_type": "stream",
          "name": "stderr",
          "text": [
            " ...done. (0 seconds, 0 min)\n"
          ]
        },
        {
          "output_type": "stream",
          "name": "stdout",
          "text": [
            "Downloading data from https://s3.amazonaws.com/fcp-indi/data/Projects/ABIDE_Initiative/Outputs/cpac/filt_noglobal/rois_cc200/NYU_0050989_rois_cc200.1D ...\n"
          ]
        },
        {
          "output_type": "stream",
          "name": "stderr",
          "text": [
            " ...done. (0 seconds, 0 min)\n"
          ]
        },
        {
          "output_type": "stream",
          "name": "stdout",
          "text": [
            "Downloading data from https://s3.amazonaws.com/fcp-indi/data/Projects/ABIDE_Initiative/Outputs/cpac/filt_noglobal/rois_cc200/NYU_0050990_rois_cc200.1D ...\n"
          ]
        },
        {
          "output_type": "stream",
          "name": "stderr",
          "text": [
            " ...done. (0 seconds, 0 min)\n"
          ]
        },
        {
          "output_type": "stream",
          "name": "stdout",
          "text": [
            "Downloading data from https://s3.amazonaws.com/fcp-indi/data/Projects/ABIDE_Initiative/Outputs/cpac/filt_noglobal/rois_cc200/NYU_0050991_rois_cc200.1D ...\n"
          ]
        },
        {
          "output_type": "stream",
          "name": "stderr",
          "text": [
            " ...done. (0 seconds, 0 min)\n"
          ]
        },
        {
          "output_type": "stream",
          "name": "stdout",
          "text": [
            "Downloading data from https://s3.amazonaws.com/fcp-indi/data/Projects/ABIDE_Initiative/Outputs/cpac/filt_noglobal/rois_cc200/NYU_0050992_rois_cc200.1D ...\n"
          ]
        },
        {
          "output_type": "stream",
          "name": "stderr",
          "text": [
            " ...done. (0 seconds, 0 min)\n"
          ]
        },
        {
          "output_type": "stream",
          "name": "stdout",
          "text": [
            "Downloading data from https://s3.amazonaws.com/fcp-indi/data/Projects/ABIDE_Initiative/Outputs/cpac/filt_noglobal/rois_cc200/NYU_0050993_rois_cc200.1D ...\n"
          ]
        },
        {
          "output_type": "stream",
          "name": "stderr",
          "text": [
            " ...done. (0 seconds, 0 min)\n"
          ]
        },
        {
          "output_type": "stream",
          "name": "stdout",
          "text": [
            "Downloading data from https://s3.amazonaws.com/fcp-indi/data/Projects/ABIDE_Initiative/Outputs/cpac/filt_noglobal/rois_cc200/NYU_0050994_rois_cc200.1D ...\n"
          ]
        },
        {
          "output_type": "stream",
          "name": "stderr",
          "text": [
            " ...done. (0 seconds, 0 min)\n"
          ]
        },
        {
          "output_type": "stream",
          "name": "stdout",
          "text": [
            "Downloading data from https://s3.amazonaws.com/fcp-indi/data/Projects/ABIDE_Initiative/Outputs/cpac/filt_noglobal/rois_cc200/NYU_0050995_rois_cc200.1D ...\n"
          ]
        },
        {
          "output_type": "stream",
          "name": "stderr",
          "text": [
            " ...done. (0 seconds, 0 min)\n"
          ]
        },
        {
          "output_type": "stream",
          "name": "stdout",
          "text": [
            "Downloading data from https://s3.amazonaws.com/fcp-indi/data/Projects/ABIDE_Initiative/Outputs/cpac/filt_noglobal/rois_cc200/NYU_0050996_rois_cc200.1D ...\n"
          ]
        },
        {
          "output_type": "stream",
          "name": "stderr",
          "text": [
            " ...done. (0 seconds, 0 min)\n"
          ]
        },
        {
          "output_type": "stream",
          "name": "stdout",
          "text": [
            "Downloading data from https://s3.amazonaws.com/fcp-indi/data/Projects/ABIDE_Initiative/Outputs/cpac/filt_noglobal/rois_cc200/NYU_0050997_rois_cc200.1D ...\n"
          ]
        },
        {
          "output_type": "stream",
          "name": "stderr",
          "text": [
            " ...done. (0 seconds, 0 min)\n"
          ]
        },
        {
          "output_type": "stream",
          "name": "stdout",
          "text": [
            "Downloading data from https://s3.amazonaws.com/fcp-indi/data/Projects/ABIDE_Initiative/Outputs/cpac/filt_noglobal/rois_cc200/NYU_0050998_rois_cc200.1D ...\n"
          ]
        },
        {
          "output_type": "stream",
          "name": "stderr",
          "text": [
            " ...done. (0 seconds, 0 min)\n"
          ]
        },
        {
          "output_type": "stream",
          "name": "stdout",
          "text": [
            "Downloading data from https://s3.amazonaws.com/fcp-indi/data/Projects/ABIDE_Initiative/Outputs/cpac/filt_noglobal/rois_cc200/NYU_0050999_rois_cc200.1D ...\n"
          ]
        },
        {
          "output_type": "stream",
          "name": "stderr",
          "text": [
            " ...done. (0 seconds, 0 min)\n"
          ]
        },
        {
          "output_type": "stream",
          "name": "stdout",
          "text": [
            "Downloading data from https://s3.amazonaws.com/fcp-indi/data/Projects/ABIDE_Initiative/Outputs/cpac/filt_noglobal/rois_cc200/NYU_0051000_rois_cc200.1D ...\n"
          ]
        },
        {
          "output_type": "stream",
          "name": "stderr",
          "text": [
            " ...done. (0 seconds, 0 min)\n"
          ]
        },
        {
          "output_type": "stream",
          "name": "stdout",
          "text": [
            "Downloading data from https://s3.amazonaws.com/fcp-indi/data/Projects/ABIDE_Initiative/Outputs/cpac/filt_noglobal/rois_cc200/NYU_0051001_rois_cc200.1D ...\n"
          ]
        },
        {
          "output_type": "stream",
          "name": "stderr",
          "text": [
            " ...done. (0 seconds, 0 min)\n"
          ]
        },
        {
          "output_type": "stream",
          "name": "stdout",
          "text": [
            "Downloading data from https://s3.amazonaws.com/fcp-indi/data/Projects/ABIDE_Initiative/Outputs/cpac/filt_noglobal/rois_cc200/NYU_0051002_rois_cc200.1D ...\n"
          ]
        },
        {
          "output_type": "stream",
          "name": "stderr",
          "text": [
            " ...done. (0 seconds, 0 min)\n"
          ]
        },
        {
          "output_type": "stream",
          "name": "stdout",
          "text": [
            "Downloading data from https://s3.amazonaws.com/fcp-indi/data/Projects/ABIDE_Initiative/Outputs/cpac/filt_noglobal/rois_cc200/NYU_0051003_rois_cc200.1D ...\n"
          ]
        },
        {
          "output_type": "stream",
          "name": "stderr",
          "text": [
            " ...done. (0 seconds, 0 min)\n"
          ]
        },
        {
          "output_type": "stream",
          "name": "stdout",
          "text": [
            "Downloading data from https://s3.amazonaws.com/fcp-indi/data/Projects/ABIDE_Initiative/Outputs/cpac/filt_noglobal/rois_cc200/NYU_0051006_rois_cc200.1D ...\n"
          ]
        },
        {
          "output_type": "stream",
          "name": "stderr",
          "text": [
            " ...done. (0 seconds, 0 min)\n"
          ]
        },
        {
          "output_type": "stream",
          "name": "stdout",
          "text": [
            "Downloading data from https://s3.amazonaws.com/fcp-indi/data/Projects/ABIDE_Initiative/Outputs/cpac/filt_noglobal/rois_cc200/NYU_0051007_rois_cc200.1D ...\n"
          ]
        },
        {
          "output_type": "stream",
          "name": "stderr",
          "text": [
            " ...done. (0 seconds, 0 min)\n"
          ]
        },
        {
          "output_type": "stream",
          "name": "stdout",
          "text": [
            "Downloading data from https://s3.amazonaws.com/fcp-indi/data/Projects/ABIDE_Initiative/Outputs/cpac/filt_noglobal/rois_cc200/NYU_0051008_rois_cc200.1D ...\n"
          ]
        },
        {
          "output_type": "stream",
          "name": "stderr",
          "text": [
            " ...done. (0 seconds, 0 min)\n"
          ]
        },
        {
          "output_type": "stream",
          "name": "stdout",
          "text": [
            "Downloading data from https://s3.amazonaws.com/fcp-indi/data/Projects/ABIDE_Initiative/Outputs/cpac/filt_noglobal/rois_cc200/NYU_0051009_rois_cc200.1D ...\n"
          ]
        },
        {
          "output_type": "stream",
          "name": "stderr",
          "text": [
            " ...done. (0 seconds, 0 min)\n"
          ]
        },
        {
          "output_type": "stream",
          "name": "stdout",
          "text": [
            "Downloading data from https://s3.amazonaws.com/fcp-indi/data/Projects/ABIDE_Initiative/Outputs/cpac/filt_noglobal/rois_cc200/NYU_0051010_rois_cc200.1D ...\n"
          ]
        },
        {
          "output_type": "stream",
          "name": "stderr",
          "text": [
            " ...done. (0 seconds, 0 min)\n"
          ]
        },
        {
          "output_type": "stream",
          "name": "stdout",
          "text": [
            "Downloading data from https://s3.amazonaws.com/fcp-indi/data/Projects/ABIDE_Initiative/Outputs/cpac/filt_noglobal/rois_cc200/NYU_0051011_rois_cc200.1D ...\n"
          ]
        },
        {
          "output_type": "stream",
          "name": "stderr",
          "text": [
            " ...done. (0 seconds, 0 min)\n"
          ]
        },
        {
          "output_type": "stream",
          "name": "stdout",
          "text": [
            "Downloading data from https://s3.amazonaws.com/fcp-indi/data/Projects/ABIDE_Initiative/Outputs/cpac/filt_noglobal/rois_cc200/NYU_0051012_rois_cc200.1D ...\n"
          ]
        },
        {
          "output_type": "stream",
          "name": "stderr",
          "text": [
            " ...done. (0 seconds, 0 min)\n"
          ]
        },
        {
          "output_type": "stream",
          "name": "stdout",
          "text": [
            "Downloading data from https://s3.amazonaws.com/fcp-indi/data/Projects/ABIDE_Initiative/Outputs/cpac/filt_noglobal/rois_cc200/NYU_0051013_rois_cc200.1D ...\n"
          ]
        },
        {
          "output_type": "stream",
          "name": "stderr",
          "text": [
            " ...done. (0 seconds, 0 min)\n"
          ]
        },
        {
          "output_type": "stream",
          "name": "stdout",
          "text": [
            "Downloading data from https://s3.amazonaws.com/fcp-indi/data/Projects/ABIDE_Initiative/Outputs/cpac/filt_noglobal/rois_cc200/NYU_0051014_rois_cc200.1D ...\n"
          ]
        },
        {
          "output_type": "stream",
          "name": "stderr",
          "text": [
            " ...done. (0 seconds, 0 min)\n"
          ]
        },
        {
          "output_type": "stream",
          "name": "stdout",
          "text": [
            "Downloading data from https://s3.amazonaws.com/fcp-indi/data/Projects/ABIDE_Initiative/Outputs/cpac/filt_noglobal/rois_cc200/NYU_0051015_rois_cc200.1D ...\n"
          ]
        },
        {
          "output_type": "stream",
          "name": "stderr",
          "text": [
            " ...done. (0 seconds, 0 min)\n"
          ]
        },
        {
          "output_type": "stream",
          "name": "stdout",
          "text": [
            "Downloading data from https://s3.amazonaws.com/fcp-indi/data/Projects/ABIDE_Initiative/Outputs/cpac/filt_noglobal/rois_cc200/NYU_0051016_rois_cc200.1D ...\n"
          ]
        },
        {
          "output_type": "stream",
          "name": "stderr",
          "text": [
            " ...done. (0 seconds, 0 min)\n"
          ]
        },
        {
          "output_type": "stream",
          "name": "stdout",
          "text": [
            "Downloading data from https://s3.amazonaws.com/fcp-indi/data/Projects/ABIDE_Initiative/Outputs/cpac/filt_noglobal/rois_cc200/NYU_0051017_rois_cc200.1D ...\n"
          ]
        },
        {
          "output_type": "stream",
          "name": "stderr",
          "text": [
            " ...done. (0 seconds, 0 min)\n"
          ]
        },
        {
          "output_type": "stream",
          "name": "stdout",
          "text": [
            "Downloading data from https://s3.amazonaws.com/fcp-indi/data/Projects/ABIDE_Initiative/Outputs/cpac/filt_noglobal/rois_cc200/NYU_0051018_rois_cc200.1D ...\n"
          ]
        },
        {
          "output_type": "stream",
          "name": "stderr",
          "text": [
            " ...done. (0 seconds, 0 min)\n"
          ]
        },
        {
          "output_type": "stream",
          "name": "stdout",
          "text": [
            "Downloading data from https://s3.amazonaws.com/fcp-indi/data/Projects/ABIDE_Initiative/Outputs/cpac/filt_noglobal/rois_cc200/NYU_0051019_rois_cc200.1D ...\n"
          ]
        },
        {
          "output_type": "stream",
          "name": "stderr",
          "text": [
            " ...done. (0 seconds, 0 min)\n"
          ]
        },
        {
          "output_type": "stream",
          "name": "stdout",
          "text": [
            "Downloading data from https://s3.amazonaws.com/fcp-indi/data/Projects/ABIDE_Initiative/Outputs/cpac/filt_noglobal/rois_cc200/NYU_0051020_rois_cc200.1D ...\n"
          ]
        },
        {
          "output_type": "stream",
          "name": "stderr",
          "text": [
            " ...done. (0 seconds, 0 min)\n"
          ]
        },
        {
          "output_type": "stream",
          "name": "stdout",
          "text": [
            "Downloading data from https://s3.amazonaws.com/fcp-indi/data/Projects/ABIDE_Initiative/Outputs/cpac/filt_noglobal/rois_cc200/NYU_0051021_rois_cc200.1D ...\n"
          ]
        },
        {
          "output_type": "stream",
          "name": "stderr",
          "text": [
            " ...done. (0 seconds, 0 min)\n"
          ]
        },
        {
          "output_type": "stream",
          "name": "stdout",
          "text": [
            "Downloading data from https://s3.amazonaws.com/fcp-indi/data/Projects/ABIDE_Initiative/Outputs/cpac/filt_noglobal/rois_cc200/NYU_0051023_rois_cc200.1D ...\n"
          ]
        },
        {
          "output_type": "stream",
          "name": "stderr",
          "text": [
            " ...done. (0 seconds, 0 min)\n"
          ]
        },
        {
          "output_type": "stream",
          "name": "stdout",
          "text": [
            "Downloading data from https://s3.amazonaws.com/fcp-indi/data/Projects/ABIDE_Initiative/Outputs/cpac/filt_noglobal/rois_cc200/NYU_0051024_rois_cc200.1D ...\n"
          ]
        },
        {
          "output_type": "stream",
          "name": "stderr",
          "text": [
            " ...done. (0 seconds, 0 min)\n"
          ]
        },
        {
          "output_type": "stream",
          "name": "stdout",
          "text": [
            "Downloading data from https://s3.amazonaws.com/fcp-indi/data/Projects/ABIDE_Initiative/Outputs/cpac/filt_noglobal/rois_cc200/NYU_0051025_rois_cc200.1D ...\n"
          ]
        },
        {
          "output_type": "stream",
          "name": "stderr",
          "text": [
            " ...done. (0 seconds, 0 min)\n"
          ]
        },
        {
          "output_type": "stream",
          "name": "stdout",
          "text": [
            "Downloading data from https://s3.amazonaws.com/fcp-indi/data/Projects/ABIDE_Initiative/Outputs/cpac/filt_noglobal/rois_cc200/NYU_0051026_rois_cc200.1D ...\n"
          ]
        },
        {
          "output_type": "stream",
          "name": "stderr",
          "text": [
            " ...done. (0 seconds, 0 min)\n"
          ]
        },
        {
          "output_type": "stream",
          "name": "stdout",
          "text": [
            "Downloading data from https://s3.amazonaws.com/fcp-indi/data/Projects/ABIDE_Initiative/Outputs/cpac/filt_noglobal/rois_cc200/NYU_0051027_rois_cc200.1D ...\n"
          ]
        },
        {
          "output_type": "stream",
          "name": "stderr",
          "text": [
            " ...done. (0 seconds, 0 min)\n"
          ]
        },
        {
          "output_type": "stream",
          "name": "stdout",
          "text": [
            "Downloading data from https://s3.amazonaws.com/fcp-indi/data/Projects/ABIDE_Initiative/Outputs/cpac/filt_noglobal/rois_cc200/NYU_0051028_rois_cc200.1D ...\n"
          ]
        },
        {
          "output_type": "stream",
          "name": "stderr",
          "text": [
            " ...done. (0 seconds, 0 min)\n"
          ]
        },
        {
          "output_type": "stream",
          "name": "stdout",
          "text": [
            "Downloading data from https://s3.amazonaws.com/fcp-indi/data/Projects/ABIDE_Initiative/Outputs/cpac/filt_noglobal/rois_cc200/NYU_0051029_rois_cc200.1D ...\n"
          ]
        },
        {
          "output_type": "stream",
          "name": "stderr",
          "text": [
            " ...done. (0 seconds, 0 min)\n"
          ]
        },
        {
          "output_type": "stream",
          "name": "stdout",
          "text": [
            "Downloading data from https://s3.amazonaws.com/fcp-indi/data/Projects/ABIDE_Initiative/Outputs/cpac/filt_noglobal/rois_cc200/NYU_0051030_rois_cc200.1D ...\n"
          ]
        },
        {
          "output_type": "stream",
          "name": "stderr",
          "text": [
            " ...done. (0 seconds, 0 min)\n"
          ]
        },
        {
          "output_type": "stream",
          "name": "stdout",
          "text": [
            "Downloading data from https://s3.amazonaws.com/fcp-indi/data/Projects/ABIDE_Initiative/Outputs/cpac/filt_noglobal/rois_cc200/NYU_0051032_rois_cc200.1D ...\n"
          ]
        },
        {
          "output_type": "stream",
          "name": "stderr",
          "text": [
            " ...done. (0 seconds, 0 min)\n"
          ]
        },
        {
          "output_type": "stream",
          "name": "stdout",
          "text": [
            "Downloading data from https://s3.amazonaws.com/fcp-indi/data/Projects/ABIDE_Initiative/Outputs/cpac/filt_noglobal/rois_cc200/NYU_0051033_rois_cc200.1D ...\n"
          ]
        },
        {
          "output_type": "stream",
          "name": "stderr",
          "text": [
            " ...done. (0 seconds, 0 min)\n"
          ]
        },
        {
          "output_type": "stream",
          "name": "stdout",
          "text": [
            "Downloading data from https://s3.amazonaws.com/fcp-indi/data/Projects/ABIDE_Initiative/Outputs/cpac/filt_noglobal/rois_cc200/NYU_0051034_rois_cc200.1D ...\n"
          ]
        },
        {
          "output_type": "stream",
          "name": "stderr",
          "text": [
            " ...done. (0 seconds, 0 min)\n"
          ]
        },
        {
          "output_type": "stream",
          "name": "stdout",
          "text": [
            "Downloading data from https://s3.amazonaws.com/fcp-indi/data/Projects/ABIDE_Initiative/Outputs/cpac/filt_noglobal/rois_cc200/NYU_0051035_rois_cc200.1D ...\n"
          ]
        },
        {
          "output_type": "stream",
          "name": "stderr",
          "text": [
            " ...done. (0 seconds, 0 min)\n"
          ]
        },
        {
          "output_type": "stream",
          "name": "stdout",
          "text": [
            "Downloading data from https://s3.amazonaws.com/fcp-indi/data/Projects/ABIDE_Initiative/Outputs/cpac/filt_noglobal/rois_cc200/NYU_0051036_rois_cc200.1D ...\n"
          ]
        },
        {
          "output_type": "stream",
          "name": "stderr",
          "text": [
            " ...done. (0 seconds, 0 min)\n"
          ]
        },
        {
          "output_type": "stream",
          "name": "stdout",
          "text": [
            "Downloading data from https://s3.amazonaws.com/fcp-indi/data/Projects/ABIDE_Initiative/Outputs/cpac/filt_noglobal/rois_cc200/NYU_0051038_rois_cc200.1D ...\n"
          ]
        },
        {
          "output_type": "stream",
          "name": "stderr",
          "text": [
            " ...done. (0 seconds, 0 min)\n"
          ]
        },
        {
          "output_type": "stream",
          "name": "stdout",
          "text": [
            "Downloading data from https://s3.amazonaws.com/fcp-indi/data/Projects/ABIDE_Initiative/Outputs/cpac/filt_noglobal/rois_cc200/NYU_0051039_rois_cc200.1D ...\n"
          ]
        },
        {
          "output_type": "stream",
          "name": "stderr",
          "text": [
            " ...done. (0 seconds, 0 min)\n"
          ]
        },
        {
          "output_type": "stream",
          "name": "stdout",
          "text": [
            "Downloading data from https://s3.amazonaws.com/fcp-indi/data/Projects/ABIDE_Initiative/Outputs/cpac/filt_noglobal/rois_cc200/NYU_0051040_rois_cc200.1D ...\n"
          ]
        },
        {
          "output_type": "stream",
          "name": "stderr",
          "text": [
            " ...done. (0 seconds, 0 min)\n"
          ]
        },
        {
          "output_type": "stream",
          "name": "stdout",
          "text": [
            "Downloading data from https://s3.amazonaws.com/fcp-indi/data/Projects/ABIDE_Initiative/Outputs/cpac/filt_noglobal/rois_cc200/NYU_0051041_rois_cc200.1D ...\n"
          ]
        },
        {
          "output_type": "stream",
          "name": "stderr",
          "text": [
            " ...done. (0 seconds, 0 min)\n"
          ]
        },
        {
          "output_type": "stream",
          "name": "stdout",
          "text": [
            "Downloading data from https://s3.amazonaws.com/fcp-indi/data/Projects/ABIDE_Initiative/Outputs/cpac/filt_noglobal/rois_cc200/NYU_0051042_rois_cc200.1D ...\n"
          ]
        },
        {
          "output_type": "stream",
          "name": "stderr",
          "text": [
            " ...done. (0 seconds, 0 min)\n"
          ]
        },
        {
          "output_type": "stream",
          "name": "stdout",
          "text": [
            "Downloading data from https://s3.amazonaws.com/fcp-indi/data/Projects/ABIDE_Initiative/Outputs/cpac/filt_noglobal/rois_cc200/NYU_0051044_rois_cc200.1D ...\n"
          ]
        },
        {
          "output_type": "stream",
          "name": "stderr",
          "text": [
            " ...done. (0 seconds, 0 min)\n"
          ]
        },
        {
          "output_type": "stream",
          "name": "stdout",
          "text": [
            "Downloading data from https://s3.amazonaws.com/fcp-indi/data/Projects/ABIDE_Initiative/Outputs/cpac/filt_noglobal/rois_cc200/NYU_0051045_rois_cc200.1D ...\n"
          ]
        },
        {
          "output_type": "stream",
          "name": "stderr",
          "text": [
            " ...done. (0 seconds, 0 min)\n"
          ]
        },
        {
          "output_type": "stream",
          "name": "stdout",
          "text": [
            "Downloading data from https://s3.amazonaws.com/fcp-indi/data/Projects/ABIDE_Initiative/Outputs/cpac/filt_noglobal/rois_cc200/NYU_0051046_rois_cc200.1D ...\n"
          ]
        },
        {
          "output_type": "stream",
          "name": "stderr",
          "text": [
            " ...done. (0 seconds, 0 min)\n"
          ]
        },
        {
          "output_type": "stream",
          "name": "stdout",
          "text": [
            "Downloading data from https://s3.amazonaws.com/fcp-indi/data/Projects/ABIDE_Initiative/Outputs/cpac/filt_noglobal/rois_cc200/NYU_0051047_rois_cc200.1D ...\n"
          ]
        },
        {
          "output_type": "stream",
          "name": "stderr",
          "text": [
            " ...done. (0 seconds, 0 min)\n"
          ]
        },
        {
          "output_type": "stream",
          "name": "stdout",
          "text": [
            "Downloading data from https://s3.amazonaws.com/fcp-indi/data/Projects/ABIDE_Initiative/Outputs/cpac/filt_noglobal/rois_cc200/NYU_0051048_rois_cc200.1D ...\n"
          ]
        },
        {
          "output_type": "stream",
          "name": "stderr",
          "text": [
            " ...done. (0 seconds, 0 min)\n"
          ]
        },
        {
          "output_type": "stream",
          "name": "stdout",
          "text": [
            "Downloading data from https://s3.amazonaws.com/fcp-indi/data/Projects/ABIDE_Initiative/Outputs/cpac/filt_noglobal/rois_cc200/NYU_0051049_rois_cc200.1D ...\n"
          ]
        },
        {
          "output_type": "stream",
          "name": "stderr",
          "text": [
            " ...done. (0 seconds, 0 min)\n"
          ]
        },
        {
          "output_type": "stream",
          "name": "stdout",
          "text": [
            "Downloading data from https://s3.amazonaws.com/fcp-indi/data/Projects/ABIDE_Initiative/Outputs/cpac/filt_noglobal/rois_cc200/NYU_0051050_rois_cc200.1D ...\n"
          ]
        },
        {
          "output_type": "stream",
          "name": "stderr",
          "text": [
            " ...done. (0 seconds, 0 min)\n"
          ]
        },
        {
          "output_type": "stream",
          "name": "stdout",
          "text": [
            "Downloading data from https://s3.amazonaws.com/fcp-indi/data/Projects/ABIDE_Initiative/Outputs/cpac/filt_noglobal/rois_cc200/NYU_0051051_rois_cc200.1D ...\n"
          ]
        },
        {
          "output_type": "stream",
          "name": "stderr",
          "text": [
            " ...done. (0 seconds, 0 min)\n"
          ]
        },
        {
          "output_type": "stream",
          "name": "stdout",
          "text": [
            "Downloading data from https://s3.amazonaws.com/fcp-indi/data/Projects/ABIDE_Initiative/Outputs/cpac/filt_noglobal/rois_cc200/NYU_0051052_rois_cc200.1D ...\n"
          ]
        },
        {
          "output_type": "stream",
          "name": "stderr",
          "text": [
            " ...done. (0 seconds, 0 min)\n"
          ]
        },
        {
          "output_type": "stream",
          "name": "stdout",
          "text": [
            "Downloading data from https://s3.amazonaws.com/fcp-indi/data/Projects/ABIDE_Initiative/Outputs/cpac/filt_noglobal/rois_cc200/NYU_0051053_rois_cc200.1D ...\n"
          ]
        },
        {
          "output_type": "stream",
          "name": "stderr",
          "text": [
            " ...done. (0 seconds, 0 min)\n"
          ]
        },
        {
          "output_type": "stream",
          "name": "stdout",
          "text": [
            "Downloading data from https://s3.amazonaws.com/fcp-indi/data/Projects/ABIDE_Initiative/Outputs/cpac/filt_noglobal/rois_cc200/NYU_0051054_rois_cc200.1D ...\n"
          ]
        },
        {
          "output_type": "stream",
          "name": "stderr",
          "text": [
            " ...done. (0 seconds, 0 min)\n"
          ]
        },
        {
          "output_type": "stream",
          "name": "stdout",
          "text": [
            "Downloading data from https://s3.amazonaws.com/fcp-indi/data/Projects/ABIDE_Initiative/Outputs/cpac/filt_noglobal/rois_cc200/NYU_0051055_rois_cc200.1D ...\n"
          ]
        },
        {
          "output_type": "stream",
          "name": "stderr",
          "text": [
            " ...done. (0 seconds, 0 min)\n"
          ]
        },
        {
          "output_type": "stream",
          "name": "stdout",
          "text": [
            "Downloading data from https://s3.amazonaws.com/fcp-indi/data/Projects/ABIDE_Initiative/Outputs/cpac/filt_noglobal/rois_cc200/NYU_0051056_rois_cc200.1D ...\n"
          ]
        },
        {
          "output_type": "stream",
          "name": "stderr",
          "text": [
            " ...done. (0 seconds, 0 min)\n"
          ]
        },
        {
          "output_type": "stream",
          "name": "stdout",
          "text": [
            "Downloading data from https://s3.amazonaws.com/fcp-indi/data/Projects/ABIDE_Initiative/Outputs/cpac/filt_noglobal/rois_cc200/NYU_0051057_rois_cc200.1D ...\n"
          ]
        },
        {
          "output_type": "stream",
          "name": "stderr",
          "text": [
            " ...done. (0 seconds, 0 min)\n"
          ]
        },
        {
          "output_type": "stream",
          "name": "stdout",
          "text": [
            "Downloading data from https://s3.amazonaws.com/fcp-indi/data/Projects/ABIDE_Initiative/Outputs/cpac/filt_noglobal/rois_cc200/NYU_0051058_rois_cc200.1D ...\n"
          ]
        },
        {
          "output_type": "stream",
          "name": "stderr",
          "text": [
            " ...done. (0 seconds, 0 min)\n"
          ]
        },
        {
          "output_type": "stream",
          "name": "stdout",
          "text": [
            "Downloading data from https://s3.amazonaws.com/fcp-indi/data/Projects/ABIDE_Initiative/Outputs/cpac/filt_noglobal/rois_cc200/NYU_0051059_rois_cc200.1D ...\n"
          ]
        },
        {
          "output_type": "stream",
          "name": "stderr",
          "text": [
            " ...done. (0 seconds, 0 min)\n"
          ]
        },
        {
          "output_type": "stream",
          "name": "stdout",
          "text": [
            "Downloading data from https://s3.amazonaws.com/fcp-indi/data/Projects/ABIDE_Initiative/Outputs/cpac/filt_noglobal/rois_cc200/NYU_0051060_rois_cc200.1D ...\n"
          ]
        },
        {
          "output_type": "stream",
          "name": "stderr",
          "text": [
            " ...done. (0 seconds, 0 min)\n"
          ]
        },
        {
          "output_type": "stream",
          "name": "stdout",
          "text": [
            "Downloading data from https://s3.amazonaws.com/fcp-indi/data/Projects/ABIDE_Initiative/Outputs/cpac/filt_noglobal/rois_cc200/NYU_0051061_rois_cc200.1D ...\n"
          ]
        },
        {
          "output_type": "stream",
          "name": "stderr",
          "text": [
            " ...done. (0 seconds, 0 min)\n"
          ]
        },
        {
          "output_type": "stream",
          "name": "stdout",
          "text": [
            "Downloading data from https://s3.amazonaws.com/fcp-indi/data/Projects/ABIDE_Initiative/Outputs/cpac/filt_noglobal/rois_cc200/NYU_0051062_rois_cc200.1D ...\n"
          ]
        },
        {
          "output_type": "stream",
          "name": "stderr",
          "text": [
            " ...done. (0 seconds, 0 min)\n"
          ]
        },
        {
          "output_type": "stream",
          "name": "stdout",
          "text": [
            "Downloading data from https://s3.amazonaws.com/fcp-indi/data/Projects/ABIDE_Initiative/Outputs/cpac/filt_noglobal/rois_cc200/NYU_0051063_rois_cc200.1D ...\n"
          ]
        },
        {
          "output_type": "stream",
          "name": "stderr",
          "text": [
            " ...done. (0 seconds, 0 min)\n"
          ]
        },
        {
          "output_type": "stream",
          "name": "stdout",
          "text": [
            "Downloading data from https://s3.amazonaws.com/fcp-indi/data/Projects/ABIDE_Initiative/Outputs/cpac/filt_noglobal/rois_cc200/NYU_0051064_rois_cc200.1D ...\n"
          ]
        },
        {
          "output_type": "stream",
          "name": "stderr",
          "text": [
            " ...done. (0 seconds, 0 min)\n"
          ]
        },
        {
          "output_type": "stream",
          "name": "stdout",
          "text": [
            "Downloading data from https://s3.amazonaws.com/fcp-indi/data/Projects/ABIDE_Initiative/Outputs/cpac/filt_noglobal/rois_cc200/NYU_0051065_rois_cc200.1D ...\n"
          ]
        },
        {
          "output_type": "stream",
          "name": "stderr",
          "text": [
            " ...done. (0 seconds, 0 min)\n"
          ]
        },
        {
          "output_type": "stream",
          "name": "stdout",
          "text": [
            "Downloading data from https://s3.amazonaws.com/fcp-indi/data/Projects/ABIDE_Initiative/Outputs/cpac/filt_noglobal/rois_cc200/NYU_0051066_rois_cc200.1D ...\n"
          ]
        },
        {
          "output_type": "stream",
          "name": "stderr",
          "text": [
            " ...done. (0 seconds, 0 min)\n"
          ]
        },
        {
          "output_type": "stream",
          "name": "stdout",
          "text": [
            "Downloading data from https://s3.amazonaws.com/fcp-indi/data/Projects/ABIDE_Initiative/Outputs/cpac/filt_noglobal/rois_cc200/NYU_0051067_rois_cc200.1D ...\n"
          ]
        },
        {
          "output_type": "stream",
          "name": "stderr",
          "text": [
            " ...done. (0 seconds, 0 min)\n"
          ]
        },
        {
          "output_type": "stream",
          "name": "stdout",
          "text": [
            "Downloading data from https://s3.amazonaws.com/fcp-indi/data/Projects/ABIDE_Initiative/Outputs/cpac/filt_noglobal/rois_cc200/NYU_0051068_rois_cc200.1D ...\n"
          ]
        },
        {
          "output_type": "stream",
          "name": "stderr",
          "text": [
            " ...done. (0 seconds, 0 min)\n"
          ]
        },
        {
          "output_type": "stream",
          "name": "stdout",
          "text": [
            "Downloading data from https://s3.amazonaws.com/fcp-indi/data/Projects/ABIDE_Initiative/Outputs/cpac/filt_noglobal/rois_cc200/NYU_0051069_rois_cc200.1D ...\n"
          ]
        },
        {
          "output_type": "stream",
          "name": "stderr",
          "text": [
            " ...done. (0 seconds, 0 min)\n"
          ]
        },
        {
          "output_type": "stream",
          "name": "stdout",
          "text": [
            "Downloading data from https://s3.amazonaws.com/fcp-indi/data/Projects/ABIDE_Initiative/Outputs/cpac/filt_noglobal/rois_cc200/NYU_0051070_rois_cc200.1D ...\n"
          ]
        },
        {
          "output_type": "stream",
          "name": "stderr",
          "text": [
            " ...done. (0 seconds, 0 min)\n"
          ]
        },
        {
          "output_type": "stream",
          "name": "stdout",
          "text": [
            "Downloading data from https://s3.amazonaws.com/fcp-indi/data/Projects/ABIDE_Initiative/Outputs/cpac/filt_noglobal/rois_cc200/NYU_0051071_rois_cc200.1D ...\n"
          ]
        },
        {
          "output_type": "stream",
          "name": "stderr",
          "text": [
            " ...done. (0 seconds, 0 min)\n"
          ]
        },
        {
          "output_type": "stream",
          "name": "stdout",
          "text": [
            "Downloading data from https://s3.amazonaws.com/fcp-indi/data/Projects/ABIDE_Initiative/Outputs/cpac/filt_noglobal/rois_cc200/NYU_0051072_rois_cc200.1D ...\n"
          ]
        },
        {
          "output_type": "stream",
          "name": "stderr",
          "text": [
            " ...done. (0 seconds, 0 min)\n"
          ]
        },
        {
          "output_type": "stream",
          "name": "stdout",
          "text": [
            "Downloading data from https://s3.amazonaws.com/fcp-indi/data/Projects/ABIDE_Initiative/Outputs/cpac/filt_noglobal/rois_cc200/NYU_0051073_rois_cc200.1D ...\n"
          ]
        },
        {
          "output_type": "stream",
          "name": "stderr",
          "text": [
            " ...done. (0 seconds, 0 min)\n"
          ]
        },
        {
          "output_type": "stream",
          "name": "stdout",
          "text": [
            "Downloading data from https://s3.amazonaws.com/fcp-indi/data/Projects/ABIDE_Initiative/Outputs/cpac/filt_noglobal/rois_cc200/NYU_0051074_rois_cc200.1D ...\n"
          ]
        },
        {
          "output_type": "stream",
          "name": "stderr",
          "text": [
            " ...done. (0 seconds, 0 min)\n"
          ]
        },
        {
          "output_type": "stream",
          "name": "stdout",
          "text": [
            "Downloading data from https://s3.amazonaws.com/fcp-indi/data/Projects/ABIDE_Initiative/Outputs/cpac/filt_noglobal/rois_cc200/NYU_0051075_rois_cc200.1D ...\n"
          ]
        },
        {
          "output_type": "stream",
          "name": "stderr",
          "text": [
            " ...done. (0 seconds, 0 min)\n"
          ]
        },
        {
          "output_type": "stream",
          "name": "stdout",
          "text": [
            "Downloading data from https://s3.amazonaws.com/fcp-indi/data/Projects/ABIDE_Initiative/Outputs/cpac/filt_noglobal/rois_cc200/NYU_0051076_rois_cc200.1D ...\n"
          ]
        },
        {
          "output_type": "stream",
          "name": "stderr",
          "text": [
            " ...done. (0 seconds, 0 min)\n"
          ]
        },
        {
          "output_type": "stream",
          "name": "stdout",
          "text": [
            "Downloading data from https://s3.amazonaws.com/fcp-indi/data/Projects/ABIDE_Initiative/Outputs/cpac/filt_noglobal/rois_cc200/NYU_0051077_rois_cc200.1D ...\n"
          ]
        },
        {
          "output_type": "stream",
          "name": "stderr",
          "text": [
            " ...done. (0 seconds, 0 min)\n"
          ]
        },
        {
          "output_type": "stream",
          "name": "stdout",
          "text": [
            "Downloading data from https://s3.amazonaws.com/fcp-indi/data/Projects/ABIDE_Initiative/Outputs/cpac/filt_noglobal/rois_cc200/NYU_0051078_rois_cc200.1D ...\n"
          ]
        },
        {
          "output_type": "stream",
          "name": "stderr",
          "text": [
            " ...done. (0 seconds, 0 min)\n"
          ]
        },
        {
          "output_type": "stream",
          "name": "stdout",
          "text": [
            "Downloading data from https://s3.amazonaws.com/fcp-indi/data/Projects/ABIDE_Initiative/Outputs/cpac/filt_noglobal/rois_cc200/NYU_0051079_rois_cc200.1D ...\n"
          ]
        },
        {
          "output_type": "stream",
          "name": "stderr",
          "text": [
            " ...done. (0 seconds, 0 min)\n"
          ]
        },
        {
          "output_type": "stream",
          "name": "stdout",
          "text": [
            "Downloading data from https://s3.amazonaws.com/fcp-indi/data/Projects/ABIDE_Initiative/Outputs/cpac/filt_noglobal/rois_cc200/NYU_0051080_rois_cc200.1D ...\n"
          ]
        },
        {
          "output_type": "stream",
          "name": "stderr",
          "text": [
            " ...done. (0 seconds, 0 min)\n"
          ]
        },
        {
          "output_type": "stream",
          "name": "stdout",
          "text": [
            "Downloading data from https://s3.amazonaws.com/fcp-indi/data/Projects/ABIDE_Initiative/Outputs/cpac/filt_noglobal/rois_cc200/NYU_0051081_rois_cc200.1D ...\n"
          ]
        },
        {
          "output_type": "stream",
          "name": "stderr",
          "text": [
            " ...done. (0 seconds, 0 min)\n"
          ]
        },
        {
          "output_type": "stream",
          "name": "stdout",
          "text": [
            "Downloading data from https://s3.amazonaws.com/fcp-indi/data/Projects/ABIDE_Initiative/Outputs/cpac/filt_noglobal/rois_cc200/NYU_0051082_rois_cc200.1D ...\n"
          ]
        },
        {
          "output_type": "stream",
          "name": "stderr",
          "text": [
            " ...done. (0 seconds, 0 min)\n"
          ]
        },
        {
          "output_type": "stream",
          "name": "stdout",
          "text": [
            "Downloading data from https://s3.amazonaws.com/fcp-indi/data/Projects/ABIDE_Initiative/Outputs/cpac/filt_noglobal/rois_cc200/NYU_0051083_rois_cc200.1D ...\n"
          ]
        },
        {
          "output_type": "stream",
          "name": "stderr",
          "text": [
            " ...done. (0 seconds, 0 min)\n"
          ]
        },
        {
          "output_type": "stream",
          "name": "stdout",
          "text": [
            "Downloading data from https://s3.amazonaws.com/fcp-indi/data/Projects/ABIDE_Initiative/Outputs/cpac/filt_noglobal/rois_cc200/NYU_0051084_rois_cc200.1D ...\n"
          ]
        },
        {
          "output_type": "stream",
          "name": "stderr",
          "text": [
            " ...done. (0 seconds, 0 min)\n"
          ]
        },
        {
          "output_type": "stream",
          "name": "stdout",
          "text": [
            "Downloading data from https://s3.amazonaws.com/fcp-indi/data/Projects/ABIDE_Initiative/Outputs/cpac/filt_noglobal/rois_cc200/NYU_0051085_rois_cc200.1D ...\n"
          ]
        },
        {
          "output_type": "stream",
          "name": "stderr",
          "text": [
            " ...done. (0 seconds, 0 min)\n"
          ]
        },
        {
          "output_type": "stream",
          "name": "stdout",
          "text": [
            "Downloading data from https://s3.amazonaws.com/fcp-indi/data/Projects/ABIDE_Initiative/Outputs/cpac/filt_noglobal/rois_cc200/NYU_0051086_rois_cc200.1D ...\n"
          ]
        },
        {
          "output_type": "stream",
          "name": "stderr",
          "text": [
            " ...done. (0 seconds, 0 min)\n"
          ]
        },
        {
          "output_type": "stream",
          "name": "stdout",
          "text": [
            "Downloading data from https://s3.amazonaws.com/fcp-indi/data/Projects/ABIDE_Initiative/Outputs/cpac/filt_noglobal/rois_cc200/NYU_0051087_rois_cc200.1D ...\n"
          ]
        },
        {
          "output_type": "stream",
          "name": "stderr",
          "text": [
            " ...done. (0 seconds, 0 min)\n"
          ]
        },
        {
          "output_type": "stream",
          "name": "stdout",
          "text": [
            "Downloading data from https://s3.amazonaws.com/fcp-indi/data/Projects/ABIDE_Initiative/Outputs/cpac/filt_noglobal/rois_cc200/NYU_0051088_rois_cc200.1D ...\n"
          ]
        },
        {
          "output_type": "stream",
          "name": "stderr",
          "text": [
            " ...done. (0 seconds, 0 min)\n"
          ]
        },
        {
          "output_type": "stream",
          "name": "stdout",
          "text": [
            "Downloading data from https://s3.amazonaws.com/fcp-indi/data/Projects/ABIDE_Initiative/Outputs/cpac/filt_noglobal/rois_cc200/NYU_0051089_rois_cc200.1D ...\n"
          ]
        },
        {
          "output_type": "stream",
          "name": "stderr",
          "text": [
            " ...done. (0 seconds, 0 min)\n"
          ]
        },
        {
          "output_type": "stream",
          "name": "stdout",
          "text": [
            "Downloading data from https://s3.amazonaws.com/fcp-indi/data/Projects/ABIDE_Initiative/Outputs/cpac/filt_noglobal/rois_cc200/NYU_0051090_rois_cc200.1D ...\n"
          ]
        },
        {
          "output_type": "stream",
          "name": "stderr",
          "text": [
            " ...done. (0 seconds, 0 min)\n"
          ]
        },
        {
          "output_type": "stream",
          "name": "stdout",
          "text": [
            "Downloading data from https://s3.amazonaws.com/fcp-indi/data/Projects/ABIDE_Initiative/Outputs/cpac/filt_noglobal/rois_cc200/NYU_0051091_rois_cc200.1D ...\n"
          ]
        },
        {
          "output_type": "stream",
          "name": "stderr",
          "text": [
            " ...done. (0 seconds, 0 min)\n"
          ]
        },
        {
          "output_type": "stream",
          "name": "stdout",
          "text": [
            "Downloading data from https://s3.amazonaws.com/fcp-indi/data/Projects/ABIDE_Initiative/Outputs/cpac/filt_noglobal/rois_cc200/NYU_0051093_rois_cc200.1D ...\n"
          ]
        },
        {
          "output_type": "stream",
          "name": "stderr",
          "text": [
            " ...done. (0 seconds, 0 min)\n"
          ]
        },
        {
          "output_type": "stream",
          "name": "stdout",
          "text": [
            "Downloading data from https://s3.amazonaws.com/fcp-indi/data/Projects/ABIDE_Initiative/Outputs/cpac/filt_noglobal/rois_cc200/NYU_0051094_rois_cc200.1D ...\n"
          ]
        },
        {
          "output_type": "stream",
          "name": "stderr",
          "text": [
            " ...done. (0 seconds, 0 min)\n"
          ]
        },
        {
          "output_type": "stream",
          "name": "stdout",
          "text": [
            "Downloading data from https://s3.amazonaws.com/fcp-indi/data/Projects/ABIDE_Initiative/Outputs/cpac/filt_noglobal/rois_cc200/NYU_0051095_rois_cc200.1D ...\n"
          ]
        },
        {
          "output_type": "stream",
          "name": "stderr",
          "text": [
            " ...done. (0 seconds, 0 min)\n"
          ]
        },
        {
          "output_type": "stream",
          "name": "stdout",
          "text": [
            "Downloading data from https://s3.amazonaws.com/fcp-indi/data/Projects/ABIDE_Initiative/Outputs/cpac/filt_noglobal/rois_cc200/NYU_0051096_rois_cc200.1D ...\n"
          ]
        },
        {
          "output_type": "stream",
          "name": "stderr",
          "text": [
            " ...done. (0 seconds, 0 min)\n"
          ]
        },
        {
          "output_type": "stream",
          "name": "stdout",
          "text": [
            "Downloading data from https://s3.amazonaws.com/fcp-indi/data/Projects/ABIDE_Initiative/Outputs/cpac/filt_noglobal/rois_cc200/NYU_0051097_rois_cc200.1D ...\n"
          ]
        },
        {
          "output_type": "stream",
          "name": "stderr",
          "text": [
            " ...done. (0 seconds, 0 min)\n"
          ]
        },
        {
          "output_type": "stream",
          "name": "stdout",
          "text": [
            "Downloading data from https://s3.amazonaws.com/fcp-indi/data/Projects/ABIDE_Initiative/Outputs/cpac/filt_noglobal/rois_cc200/NYU_0051098_rois_cc200.1D ...\n"
          ]
        },
        {
          "output_type": "stream",
          "name": "stderr",
          "text": [
            " ...done. (0 seconds, 0 min)\n"
          ]
        },
        {
          "output_type": "stream",
          "name": "stdout",
          "text": [
            "Downloading data from https://s3.amazonaws.com/fcp-indi/data/Projects/ABIDE_Initiative/Outputs/cpac/filt_noglobal/rois_cc200/NYU_0051099_rois_cc200.1D ...\n"
          ]
        },
        {
          "output_type": "stream",
          "name": "stderr",
          "text": [
            " ...done. (0 seconds, 0 min)\n"
          ]
        },
        {
          "output_type": "stream",
          "name": "stdout",
          "text": [
            "Downloading data from https://s3.amazonaws.com/fcp-indi/data/Projects/ABIDE_Initiative/Outputs/cpac/filt_noglobal/rois_cc200/NYU_0051100_rois_cc200.1D ...\n"
          ]
        },
        {
          "output_type": "stream",
          "name": "stderr",
          "text": [
            " ...done. (0 seconds, 0 min)\n"
          ]
        },
        {
          "output_type": "stream",
          "name": "stdout",
          "text": [
            "Downloading data from https://s3.amazonaws.com/fcp-indi/data/Projects/ABIDE_Initiative/Outputs/cpac/filt_noglobal/rois_cc200/NYU_0051101_rois_cc200.1D ...\n"
          ]
        },
        {
          "output_type": "stream",
          "name": "stderr",
          "text": [
            " ...done. (0 seconds, 0 min)\n"
          ]
        },
        {
          "output_type": "stream",
          "name": "stdout",
          "text": [
            "Downloading data from https://s3.amazonaws.com/fcp-indi/data/Projects/ABIDE_Initiative/Outputs/cpac/filt_noglobal/rois_cc200/NYU_0051102_rois_cc200.1D ...\n"
          ]
        },
        {
          "output_type": "stream",
          "name": "stderr",
          "text": [
            " ...done. (0 seconds, 0 min)\n"
          ]
        },
        {
          "output_type": "stream",
          "name": "stdout",
          "text": [
            "Downloading data from https://s3.amazonaws.com/fcp-indi/data/Projects/ABIDE_Initiative/Outputs/cpac/filt_noglobal/rois_cc200/NYU_0051103_rois_cc200.1D ...\n"
          ]
        },
        {
          "output_type": "stream",
          "name": "stderr",
          "text": [
            " ...done. (0 seconds, 0 min)\n"
          ]
        },
        {
          "output_type": "stream",
          "name": "stdout",
          "text": [
            "Downloading data from https://s3.amazonaws.com/fcp-indi/data/Projects/ABIDE_Initiative/Outputs/cpac/filt_noglobal/rois_cc200/NYU_0051104_rois_cc200.1D ...\n"
          ]
        },
        {
          "output_type": "stream",
          "name": "stderr",
          "text": [
            " ...done. (0 seconds, 0 min)\n"
          ]
        },
        {
          "output_type": "stream",
          "name": "stdout",
          "text": [
            "Downloading data from https://s3.amazonaws.com/fcp-indi/data/Projects/ABIDE_Initiative/Outputs/cpac/filt_noglobal/rois_cc200/NYU_0051105_rois_cc200.1D ...\n"
          ]
        },
        {
          "output_type": "stream",
          "name": "stderr",
          "text": [
            " ...done. (0 seconds, 0 min)\n"
          ]
        },
        {
          "output_type": "stream",
          "name": "stdout",
          "text": [
            "Downloading data from https://s3.amazonaws.com/fcp-indi/data/Projects/ABIDE_Initiative/Outputs/cpac/filt_noglobal/rois_cc200/NYU_0051106_rois_cc200.1D ...\n"
          ]
        },
        {
          "output_type": "stream",
          "name": "stderr",
          "text": [
            " ...done. (0 seconds, 0 min)\n"
          ]
        },
        {
          "output_type": "stream",
          "name": "stdout",
          "text": [
            "Downloading data from https://s3.amazonaws.com/fcp-indi/data/Projects/ABIDE_Initiative/Outputs/cpac/filt_noglobal/rois_cc200/NYU_0051107_rois_cc200.1D ...\n"
          ]
        },
        {
          "output_type": "stream",
          "name": "stderr",
          "text": [
            " ...done. (0 seconds, 0 min)\n"
          ]
        },
        {
          "output_type": "stream",
          "name": "stdout",
          "text": [
            "Downloading data from https://s3.amazonaws.com/fcp-indi/data/Projects/ABIDE_Initiative/Outputs/cpac/filt_noglobal/rois_cc200/NYU_0051109_rois_cc200.1D ...\n"
          ]
        },
        {
          "output_type": "stream",
          "name": "stderr",
          "text": [
            " ...done. (0 seconds, 0 min)\n"
          ]
        },
        {
          "output_type": "stream",
          "name": "stdout",
          "text": [
            "Downloading data from https://s3.amazonaws.com/fcp-indi/data/Projects/ABIDE_Initiative/Outputs/cpac/filt_noglobal/rois_cc200/NYU_0051110_rois_cc200.1D ...\n"
          ]
        },
        {
          "output_type": "stream",
          "name": "stderr",
          "text": [
            " ...done. (0 seconds, 0 min)\n"
          ]
        },
        {
          "output_type": "stream",
          "name": "stdout",
          "text": [
            "Downloading data from https://s3.amazonaws.com/fcp-indi/data/Projects/ABIDE_Initiative/Outputs/cpac/filt_noglobal/rois_cc200/NYU_0051111_rois_cc200.1D ...\n"
          ]
        },
        {
          "output_type": "stream",
          "name": "stderr",
          "text": [
            " ...done. (0 seconds, 0 min)\n"
          ]
        },
        {
          "output_type": "stream",
          "name": "stdout",
          "text": [
            "Downloading data from https://s3.amazonaws.com/fcp-indi/data/Projects/ABIDE_Initiative/Outputs/cpac/filt_noglobal/rois_cc200/NYU_0051112_rois_cc200.1D ...\n"
          ]
        },
        {
          "output_type": "stream",
          "name": "stderr",
          "text": [
            " ...done. (0 seconds, 0 min)\n"
          ]
        },
        {
          "output_type": "stream",
          "name": "stdout",
          "text": [
            "Downloading data from https://s3.amazonaws.com/fcp-indi/data/Projects/ABIDE_Initiative/Outputs/cpac/filt_noglobal/rois_cc200/NYU_0051113_rois_cc200.1D ...\n"
          ]
        },
        {
          "output_type": "stream",
          "name": "stderr",
          "text": [
            " ...done. (0 seconds, 0 min)\n"
          ]
        },
        {
          "output_type": "stream",
          "name": "stdout",
          "text": [
            "Downloading data from https://s3.amazonaws.com/fcp-indi/data/Projects/ABIDE_Initiative/Outputs/cpac/filt_noglobal/rois_cc200/NYU_0051114_rois_cc200.1D ...\n"
          ]
        },
        {
          "output_type": "stream",
          "name": "stderr",
          "text": [
            " ...done. (0 seconds, 0 min)\n"
          ]
        },
        {
          "output_type": "stream",
          "name": "stdout",
          "text": [
            "Downloading data from https://s3.amazonaws.com/fcp-indi/data/Projects/ABIDE_Initiative/Outputs/cpac/filt_noglobal/rois_cc200/NYU_0051116_rois_cc200.1D ...\n"
          ]
        },
        {
          "output_type": "stream",
          "name": "stderr",
          "text": [
            " ...done. (0 seconds, 0 min)\n"
          ]
        },
        {
          "output_type": "stream",
          "name": "stdout",
          "text": [
            "Downloading data from https://s3.amazonaws.com/fcp-indi/data/Projects/ABIDE_Initiative/Outputs/cpac/filt_noglobal/rois_cc200/NYU_0051117_rois_cc200.1D ...\n"
          ]
        },
        {
          "output_type": "stream",
          "name": "stderr",
          "text": [
            " ...done. (0 seconds, 0 min)\n"
          ]
        },
        {
          "output_type": "stream",
          "name": "stdout",
          "text": [
            "Downloading data from https://s3.amazonaws.com/fcp-indi/data/Projects/ABIDE_Initiative/Outputs/cpac/filt_noglobal/rois_cc200/NYU_0051118_rois_cc200.1D ...\n"
          ]
        },
        {
          "output_type": "stream",
          "name": "stderr",
          "text": [
            " ...done. (0 seconds, 0 min)\n"
          ]
        },
        {
          "output_type": "stream",
          "name": "stdout",
          "text": [
            "Downloading data from https://s3.amazonaws.com/fcp-indi/data/Projects/ABIDE_Initiative/Outputs/cpac/filt_noglobal/rois_cc200/NYU_0051121_rois_cc200.1D ...\n"
          ]
        },
        {
          "output_type": "stream",
          "name": "stderr",
          "text": [
            " ...done. (0 seconds, 0 min)\n"
          ]
        },
        {
          "output_type": "stream",
          "name": "stdout",
          "text": [
            "Downloading data from https://s3.amazonaws.com/fcp-indi/data/Projects/ABIDE_Initiative/Outputs/cpac/filt_noglobal/rois_cc200/NYU_0051122_rois_cc200.1D ...\n"
          ]
        },
        {
          "output_type": "stream",
          "name": "stderr",
          "text": [
            " ...done. (0 seconds, 0 min)\n"
          ]
        },
        {
          "output_type": "stream",
          "name": "stdout",
          "text": [
            "Downloading data from https://s3.amazonaws.com/fcp-indi/data/Projects/ABIDE_Initiative/Outputs/cpac/filt_noglobal/rois_cc200/NYU_0051123_rois_cc200.1D ...\n"
          ]
        },
        {
          "output_type": "stream",
          "name": "stderr",
          "text": [
            " ...done. (0 seconds, 0 min)\n"
          ]
        },
        {
          "output_type": "stream",
          "name": "stdout",
          "text": [
            "Downloading data from https://s3.amazonaws.com/fcp-indi/data/Projects/ABIDE_Initiative/Outputs/cpac/filt_noglobal/rois_cc200/NYU_0051124_rois_cc200.1D ...\n"
          ]
        },
        {
          "output_type": "stream",
          "name": "stderr",
          "text": [
            " ...done. (0 seconds, 0 min)\n"
          ]
        },
        {
          "output_type": "stream",
          "name": "stdout",
          "text": [
            "Downloading data from https://s3.amazonaws.com/fcp-indi/data/Projects/ABIDE_Initiative/Outputs/cpac/filt_noglobal/rois_cc200/NYU_0051126_rois_cc200.1D ...\n"
          ]
        },
        {
          "output_type": "stream",
          "name": "stderr",
          "text": [
            " ...done. (0 seconds, 0 min)\n"
          ]
        },
        {
          "output_type": "stream",
          "name": "stdout",
          "text": [
            "Downloading data from https://s3.amazonaws.com/fcp-indi/data/Projects/ABIDE_Initiative/Outputs/cpac/filt_noglobal/rois_cc200/NYU_0051127_rois_cc200.1D ...\n"
          ]
        },
        {
          "output_type": "stream",
          "name": "stderr",
          "text": [
            " ...done. (0 seconds, 0 min)\n"
          ]
        },
        {
          "output_type": "stream",
          "name": "stdout",
          "text": [
            "Downloading data from https://s3.amazonaws.com/fcp-indi/data/Projects/ABIDE_Initiative/Outputs/cpac/filt_noglobal/rois_cc200/NYU_0051128_rois_cc200.1D ...\n"
          ]
        },
        {
          "output_type": "stream",
          "name": "stderr",
          "text": [
            " ...done. (0 seconds, 0 min)\n"
          ]
        },
        {
          "output_type": "stream",
          "name": "stdout",
          "text": [
            "Downloading data from https://s3.amazonaws.com/fcp-indi/data/Projects/ABIDE_Initiative/Outputs/cpac/filt_noglobal/rois_cc200/NYU_0051129_rois_cc200.1D ...\n"
          ]
        },
        {
          "output_type": "stream",
          "name": "stderr",
          "text": [
            " ...done. (0 seconds, 0 min)\n"
          ]
        },
        {
          "output_type": "stream",
          "name": "stdout",
          "text": [
            "Downloading data from https://s3.amazonaws.com/fcp-indi/data/Projects/ABIDE_Initiative/Outputs/cpac/filt_noglobal/rois_cc200/NYU_0051130_rois_cc200.1D ...\n"
          ]
        },
        {
          "output_type": "stream",
          "name": "stderr",
          "text": [
            " ...done. (0 seconds, 0 min)\n"
          ]
        },
        {
          "output_type": "stream",
          "name": "stdout",
          "text": [
            "Downloading data from https://s3.amazonaws.com/fcp-indi/data/Projects/ABIDE_Initiative/Outputs/cpac/filt_noglobal/rois_cc200/NYU_0051131_rois_cc200.1D ...\n"
          ]
        },
        {
          "output_type": "stream",
          "name": "stderr",
          "text": [
            " ...done. (0 seconds, 0 min)\n"
          ]
        },
        {
          "output_type": "stream",
          "name": "stdout",
          "text": [
            "Downloading data from https://s3.amazonaws.com/fcp-indi/data/Projects/ABIDE_Initiative/Outputs/cpac/filt_noglobal/rois_cc200/Trinity_0051132_rois_cc200.1D ...\n"
          ]
        },
        {
          "output_type": "stream",
          "name": "stderr",
          "text": [
            " ...done. (0 seconds, 0 min)\n"
          ]
        },
        {
          "output_type": "stream",
          "name": "stdout",
          "text": [
            "Downloading data from https://s3.amazonaws.com/fcp-indi/data/Projects/ABIDE_Initiative/Outputs/cpac/filt_noglobal/rois_cc200/Trinity_0051133_rois_cc200.1D ...\n"
          ]
        },
        {
          "output_type": "stream",
          "name": "stderr",
          "text": [
            " ...done. (0 seconds, 0 min)\n"
          ]
        },
        {
          "output_type": "stream",
          "name": "stdout",
          "text": [
            "Downloading data from https://s3.amazonaws.com/fcp-indi/data/Projects/ABIDE_Initiative/Outputs/cpac/filt_noglobal/rois_cc200/Trinity_0051134_rois_cc200.1D ...\n"
          ]
        },
        {
          "output_type": "stream",
          "name": "stderr",
          "text": [
            " ...done. (0 seconds, 0 min)\n"
          ]
        },
        {
          "output_type": "stream",
          "name": "stdout",
          "text": [
            "Downloading data from https://s3.amazonaws.com/fcp-indi/data/Projects/ABIDE_Initiative/Outputs/cpac/filt_noglobal/rois_cc200/Trinity_0051135_rois_cc200.1D ...\n"
          ]
        },
        {
          "output_type": "stream",
          "name": "stderr",
          "text": [
            " ...done. (0 seconds, 0 min)\n"
          ]
        },
        {
          "output_type": "stream",
          "name": "stdout",
          "text": [
            "Downloading data from https://s3.amazonaws.com/fcp-indi/data/Projects/ABIDE_Initiative/Outputs/cpac/filt_noglobal/rois_cc200/Trinity_0051136_rois_cc200.1D ...\n"
          ]
        },
        {
          "output_type": "stream",
          "name": "stderr",
          "text": [
            " ...done. (0 seconds, 0 min)\n"
          ]
        },
        {
          "output_type": "stream",
          "name": "stdout",
          "text": [
            "Downloading data from https://s3.amazonaws.com/fcp-indi/data/Projects/ABIDE_Initiative/Outputs/cpac/filt_noglobal/rois_cc200/Trinity_0051137_rois_cc200.1D ...\n"
          ]
        },
        {
          "output_type": "stream",
          "name": "stderr",
          "text": [
            " ...done. (0 seconds, 0 min)\n"
          ]
        },
        {
          "output_type": "stream",
          "name": "stdout",
          "text": [
            "Downloading data from https://s3.amazonaws.com/fcp-indi/data/Projects/ABIDE_Initiative/Outputs/cpac/filt_noglobal/rois_cc200/Trinity_0051138_rois_cc200.1D ...\n"
          ]
        },
        {
          "output_type": "stream",
          "name": "stderr",
          "text": [
            " ...done. (0 seconds, 0 min)\n"
          ]
        },
        {
          "output_type": "stream",
          "name": "stdout",
          "text": [
            "Downloading data from https://s3.amazonaws.com/fcp-indi/data/Projects/ABIDE_Initiative/Outputs/cpac/filt_noglobal/rois_cc200/Trinity_0051139_rois_cc200.1D ...\n"
          ]
        },
        {
          "output_type": "stream",
          "name": "stderr",
          "text": [
            " ...done. (0 seconds, 0 min)\n"
          ]
        },
        {
          "output_type": "stream",
          "name": "stdout",
          "text": [
            "Downloading data from https://s3.amazonaws.com/fcp-indi/data/Projects/ABIDE_Initiative/Outputs/cpac/filt_noglobal/rois_cc200/Trinity_0051140_rois_cc200.1D ...\n"
          ]
        },
        {
          "output_type": "stream",
          "name": "stderr",
          "text": [
            " ...done. (0 seconds, 0 min)\n"
          ]
        },
        {
          "output_type": "stream",
          "name": "stdout",
          "text": [
            "Downloading data from https://s3.amazonaws.com/fcp-indi/data/Projects/ABIDE_Initiative/Outputs/cpac/filt_noglobal/rois_cc200/Trinity_0051141_rois_cc200.1D ...\n"
          ]
        },
        {
          "output_type": "stream",
          "name": "stderr",
          "text": [
            " ...done. (0 seconds, 0 min)\n"
          ]
        },
        {
          "output_type": "stream",
          "name": "stdout",
          "text": [
            "Downloading data from https://s3.amazonaws.com/fcp-indi/data/Projects/ABIDE_Initiative/Outputs/cpac/filt_noglobal/rois_cc200/Trinity_0051142_rois_cc200.1D ...\n"
          ]
        },
        {
          "output_type": "stream",
          "name": "stderr",
          "text": [
            " ...done. (0 seconds, 0 min)\n"
          ]
        },
        {
          "output_type": "stream",
          "name": "stdout",
          "text": [
            "Downloading data from https://s3.amazonaws.com/fcp-indi/data/Projects/ABIDE_Initiative/Outputs/cpac/filt_noglobal/rois_cc200/NYU_0051146_rois_cc200.1D ...\n"
          ]
        },
        {
          "output_type": "stream",
          "name": "stderr",
          "text": [
            " ...done. (0 seconds, 0 min)\n"
          ]
        },
        {
          "output_type": "stream",
          "name": "stdout",
          "text": [
            "Downloading data from https://s3.amazonaws.com/fcp-indi/data/Projects/ABIDE_Initiative/Outputs/cpac/filt_noglobal/rois_cc200/NYU_0051147_rois_cc200.1D ...\n"
          ]
        },
        {
          "output_type": "stream",
          "name": "stderr",
          "text": [
            " ...done. (0 seconds, 0 min)\n"
          ]
        },
        {
          "output_type": "stream",
          "name": "stdout",
          "text": [
            "Downloading data from https://s3.amazonaws.com/fcp-indi/data/Projects/ABIDE_Initiative/Outputs/cpac/filt_noglobal/rois_cc200/NYU_0051148_rois_cc200.1D ...\n"
          ]
        },
        {
          "output_type": "stream",
          "name": "stderr",
          "text": [
            " ...done. (0 seconds, 0 min)\n"
          ]
        },
        {
          "output_type": "stream",
          "name": "stdout",
          "text": [
            "Downloading data from https://s3.amazonaws.com/fcp-indi/data/Projects/ABIDE_Initiative/Outputs/cpac/filt_noglobal/rois_cc200/NYU_0051149_rois_cc200.1D ...\n"
          ]
        },
        {
          "output_type": "stream",
          "name": "stderr",
          "text": [
            " ...done. (0 seconds, 0 min)\n"
          ]
        },
        {
          "output_type": "stream",
          "name": "stdout",
          "text": [
            "Downloading data from https://s3.amazonaws.com/fcp-indi/data/Projects/ABIDE_Initiative/Outputs/cpac/filt_noglobal/rois_cc200/NYU_0051150_rois_cc200.1D ...\n"
          ]
        },
        {
          "output_type": "stream",
          "name": "stderr",
          "text": [
            " ...done. (0 seconds, 0 min)\n"
          ]
        },
        {
          "output_type": "stream",
          "name": "stdout",
          "text": [
            "Downloading data from https://s3.amazonaws.com/fcp-indi/data/Projects/ABIDE_Initiative/Outputs/cpac/filt_noglobal/rois_cc200/NYU_0051151_rois_cc200.1D ...\n"
          ]
        },
        {
          "output_type": "stream",
          "name": "stderr",
          "text": [
            " ...done. (0 seconds, 0 min)\n"
          ]
        },
        {
          "output_type": "stream",
          "name": "stdout",
          "text": [
            "Downloading data from https://s3.amazonaws.com/fcp-indi/data/Projects/ABIDE_Initiative/Outputs/cpac/filt_noglobal/rois_cc200/NYU_0051152_rois_cc200.1D ...\n"
          ]
        },
        {
          "output_type": "stream",
          "name": "stderr",
          "text": [
            " ...done. (0 seconds, 0 min)\n"
          ]
        },
        {
          "output_type": "stream",
          "name": "stdout",
          "text": [
            "Downloading data from https://s3.amazonaws.com/fcp-indi/data/Projects/ABIDE_Initiative/Outputs/cpac/filt_noglobal/rois_cc200/NYU_0051153_rois_cc200.1D ...\n"
          ]
        },
        {
          "output_type": "stream",
          "name": "stderr",
          "text": [
            " ...done. (0 seconds, 0 min)\n"
          ]
        },
        {
          "output_type": "stream",
          "name": "stdout",
          "text": [
            "Downloading data from https://s3.amazonaws.com/fcp-indi/data/Projects/ABIDE_Initiative/Outputs/cpac/filt_noglobal/rois_cc200/NYU_0051154_rois_cc200.1D ...\n"
          ]
        },
        {
          "output_type": "stream",
          "name": "stderr",
          "text": [
            " ...done. (0 seconds, 0 min)\n"
          ]
        },
        {
          "output_type": "stream",
          "name": "stdout",
          "text": [
            "Downloading data from https://s3.amazonaws.com/fcp-indi/data/Projects/ABIDE_Initiative/Outputs/cpac/filt_noglobal/rois_cc200/NYU_0051155_rois_cc200.1D ...\n"
          ]
        },
        {
          "output_type": "stream",
          "name": "stderr",
          "text": [
            " ...done. (0 seconds, 0 min)\n"
          ]
        },
        {
          "output_type": "stream",
          "name": "stdout",
          "text": [
            "Downloading data from https://s3.amazonaws.com/fcp-indi/data/Projects/ABIDE_Initiative/Outputs/cpac/filt_noglobal/rois_cc200/NYU_0051156_rois_cc200.1D ...\n"
          ]
        },
        {
          "output_type": "stream",
          "name": "stderr",
          "text": [
            " ...done. (0 seconds, 0 min)\n"
          ]
        },
        {
          "output_type": "stream",
          "name": "stdout",
          "text": [
            "Downloading data from https://s3.amazonaws.com/fcp-indi/data/Projects/ABIDE_Initiative/Outputs/cpac/filt_noglobal/rois_cc200/NYU_0051159_rois_cc200.1D ...\n"
          ]
        },
        {
          "output_type": "stream",
          "name": "stderr",
          "text": [
            " ...done. (0 seconds, 0 min)\n"
          ]
        },
        {
          "output_type": "stream",
          "name": "stdout",
          "text": [
            "Downloading data from https://s3.amazonaws.com/fcp-indi/data/Projects/ABIDE_Initiative/Outputs/cpac/filt_noglobal/rois_cc200/Stanford_0051160_rois_cc200.1D ...\n"
          ]
        },
        {
          "output_type": "stream",
          "name": "stderr",
          "text": [
            " ...done. (0 seconds, 0 min)\n"
          ]
        },
        {
          "output_type": "stream",
          "name": "stdout",
          "text": [
            "Downloading data from https://s3.amazonaws.com/fcp-indi/data/Projects/ABIDE_Initiative/Outputs/cpac/filt_noglobal/rois_cc200/Stanford_0051161_rois_cc200.1D ...\n"
          ]
        },
        {
          "output_type": "stream",
          "name": "stderr",
          "text": [
            " ...done. (0 seconds, 0 min)\n"
          ]
        },
        {
          "output_type": "stream",
          "name": "stdout",
          "text": [
            "Downloading data from https://s3.amazonaws.com/fcp-indi/data/Projects/ABIDE_Initiative/Outputs/cpac/filt_noglobal/rois_cc200/Stanford_0051162_rois_cc200.1D ...\n"
          ]
        },
        {
          "output_type": "stream",
          "name": "stderr",
          "text": [
            " ...done. (0 seconds, 0 min)\n"
          ]
        },
        {
          "output_type": "stream",
          "name": "stdout",
          "text": [
            "Downloading data from https://s3.amazonaws.com/fcp-indi/data/Projects/ABIDE_Initiative/Outputs/cpac/filt_noglobal/rois_cc200/Stanford_0051163_rois_cc200.1D ...\n"
          ]
        },
        {
          "output_type": "stream",
          "name": "stderr",
          "text": [
            " ...done. (0 seconds, 0 min)\n"
          ]
        },
        {
          "output_type": "stream",
          "name": "stdout",
          "text": [
            "Downloading data from https://s3.amazonaws.com/fcp-indi/data/Projects/ABIDE_Initiative/Outputs/cpac/filt_noglobal/rois_cc200/Stanford_0051164_rois_cc200.1D ...\n"
          ]
        },
        {
          "output_type": "stream",
          "name": "stderr",
          "text": [
            " ...done. (0 seconds, 0 min)\n"
          ]
        },
        {
          "output_type": "stream",
          "name": "stdout",
          "text": [
            "Downloading data from https://s3.amazonaws.com/fcp-indi/data/Projects/ABIDE_Initiative/Outputs/cpac/filt_noglobal/rois_cc200/Stanford_0051165_rois_cc200.1D ...\n"
          ]
        },
        {
          "output_type": "stream",
          "name": "stderr",
          "text": [
            " ...done. (0 seconds, 0 min)\n"
          ]
        },
        {
          "output_type": "stream",
          "name": "stdout",
          "text": [
            "Downloading data from https://s3.amazonaws.com/fcp-indi/data/Projects/ABIDE_Initiative/Outputs/cpac/filt_noglobal/rois_cc200/Stanford_0051166_rois_cc200.1D ...\n"
          ]
        },
        {
          "output_type": "stream",
          "name": "stderr",
          "text": [
            " ...done. (0 seconds, 0 min)\n"
          ]
        },
        {
          "output_type": "stream",
          "name": "stdout",
          "text": [
            "Downloading data from https://s3.amazonaws.com/fcp-indi/data/Projects/ABIDE_Initiative/Outputs/cpac/filt_noglobal/rois_cc200/Stanford_0051167_rois_cc200.1D ...\n"
          ]
        },
        {
          "output_type": "stream",
          "name": "stderr",
          "text": [
            " ...done. (0 seconds, 0 min)\n"
          ]
        },
        {
          "output_type": "stream",
          "name": "stdout",
          "text": [
            "Downloading data from https://s3.amazonaws.com/fcp-indi/data/Projects/ABIDE_Initiative/Outputs/cpac/filt_noglobal/rois_cc200/Stanford_0051168_rois_cc200.1D ...\n"
          ]
        },
        {
          "output_type": "stream",
          "name": "stderr",
          "text": [
            " ...done. (0 seconds, 0 min)\n"
          ]
        },
        {
          "output_type": "stream",
          "name": "stdout",
          "text": [
            "Downloading data from https://s3.amazonaws.com/fcp-indi/data/Projects/ABIDE_Initiative/Outputs/cpac/filt_noglobal/rois_cc200/Stanford_0051169_rois_cc200.1D ...\n"
          ]
        },
        {
          "output_type": "stream",
          "name": "stderr",
          "text": [
            " ...done. (0 seconds, 0 min)\n"
          ]
        },
        {
          "output_type": "stream",
          "name": "stdout",
          "text": [
            "Downloading data from https://s3.amazonaws.com/fcp-indi/data/Projects/ABIDE_Initiative/Outputs/cpac/filt_noglobal/rois_cc200/Stanford_0051170_rois_cc200.1D ...\n"
          ]
        },
        {
          "output_type": "stream",
          "name": "stderr",
          "text": [
            " ...done. (0 seconds, 0 min)\n"
          ]
        },
        {
          "output_type": "stream",
          "name": "stdout",
          "text": [
            "Downloading data from https://s3.amazonaws.com/fcp-indi/data/Projects/ABIDE_Initiative/Outputs/cpac/filt_noglobal/rois_cc200/Stanford_0051171_rois_cc200.1D ...\n"
          ]
        },
        {
          "output_type": "stream",
          "name": "stderr",
          "text": [
            " ...done. (0 seconds, 0 min)\n"
          ]
        },
        {
          "output_type": "stream",
          "name": "stdout",
          "text": [
            "Downloading data from https://s3.amazonaws.com/fcp-indi/data/Projects/ABIDE_Initiative/Outputs/cpac/filt_noglobal/rois_cc200/Stanford_0051172_rois_cc200.1D ...\n"
          ]
        },
        {
          "output_type": "stream",
          "name": "stderr",
          "text": [
            " ...done. (0 seconds, 0 min)\n"
          ]
        },
        {
          "output_type": "stream",
          "name": "stdout",
          "text": [
            "Downloading data from https://s3.amazonaws.com/fcp-indi/data/Projects/ABIDE_Initiative/Outputs/cpac/filt_noglobal/rois_cc200/Stanford_0051173_rois_cc200.1D ...\n"
          ]
        },
        {
          "output_type": "stream",
          "name": "stderr",
          "text": [
            " ...done. (0 seconds, 0 min)\n"
          ]
        },
        {
          "output_type": "stream",
          "name": "stdout",
          "text": [
            "Downloading data from https://s3.amazonaws.com/fcp-indi/data/Projects/ABIDE_Initiative/Outputs/cpac/filt_noglobal/rois_cc200/Stanford_0051174_rois_cc200.1D ...\n"
          ]
        },
        {
          "output_type": "stream",
          "name": "stderr",
          "text": [
            " ...done. (0 seconds, 0 min)\n"
          ]
        },
        {
          "output_type": "stream",
          "name": "stdout",
          "text": [
            "Downloading data from https://s3.amazonaws.com/fcp-indi/data/Projects/ABIDE_Initiative/Outputs/cpac/filt_noglobal/rois_cc200/Stanford_0051175_rois_cc200.1D ...\n"
          ]
        },
        {
          "output_type": "stream",
          "name": "stderr",
          "text": [
            " ...done. (0 seconds, 0 min)\n"
          ]
        },
        {
          "output_type": "stream",
          "name": "stdout",
          "text": [
            "Downloading data from https://s3.amazonaws.com/fcp-indi/data/Projects/ABIDE_Initiative/Outputs/cpac/filt_noglobal/rois_cc200/Stanford_0051177_rois_cc200.1D ...\n"
          ]
        },
        {
          "output_type": "stream",
          "name": "stderr",
          "text": [
            " ...done. (0 seconds, 0 min)\n"
          ]
        },
        {
          "output_type": "stream",
          "name": "stdout",
          "text": [
            "Downloading data from https://s3.amazonaws.com/fcp-indi/data/Projects/ABIDE_Initiative/Outputs/cpac/filt_noglobal/rois_cc200/Stanford_0051178_rois_cc200.1D ...\n"
          ]
        },
        {
          "output_type": "stream",
          "name": "stderr",
          "text": [
            " ...done. (0 seconds, 0 min)\n"
          ]
        },
        {
          "output_type": "stream",
          "name": "stdout",
          "text": [
            "Downloading data from https://s3.amazonaws.com/fcp-indi/data/Projects/ABIDE_Initiative/Outputs/cpac/filt_noglobal/rois_cc200/Stanford_0051179_rois_cc200.1D ...\n"
          ]
        },
        {
          "output_type": "stream",
          "name": "stderr",
          "text": [
            " ...done. (0 seconds, 0 min)\n"
          ]
        },
        {
          "output_type": "stream",
          "name": "stdout",
          "text": [
            "Downloading data from https://s3.amazonaws.com/fcp-indi/data/Projects/ABIDE_Initiative/Outputs/cpac/filt_noglobal/rois_cc200/Stanford_0051180_rois_cc200.1D ...\n"
          ]
        },
        {
          "output_type": "stream",
          "name": "stderr",
          "text": [
            " ...done. (0 seconds, 0 min)\n"
          ]
        },
        {
          "output_type": "stream",
          "name": "stdout",
          "text": [
            "Downloading data from https://s3.amazonaws.com/fcp-indi/data/Projects/ABIDE_Initiative/Outputs/cpac/filt_noglobal/rois_cc200/Stanford_0051181_rois_cc200.1D ...\n"
          ]
        },
        {
          "output_type": "stream",
          "name": "stderr",
          "text": [
            " ...done. (0 seconds, 0 min)\n"
          ]
        },
        {
          "output_type": "stream",
          "name": "stdout",
          "text": [
            "Downloading data from https://s3.amazonaws.com/fcp-indi/data/Projects/ABIDE_Initiative/Outputs/cpac/filt_noglobal/rois_cc200/Stanford_0051182_rois_cc200.1D ...\n"
          ]
        },
        {
          "output_type": "stream",
          "name": "stderr",
          "text": [
            " ...done. (0 seconds, 0 min)\n"
          ]
        },
        {
          "output_type": "stream",
          "name": "stdout",
          "text": [
            "Downloading data from https://s3.amazonaws.com/fcp-indi/data/Projects/ABIDE_Initiative/Outputs/cpac/filt_noglobal/rois_cc200/Stanford_0051183_rois_cc200.1D ...\n"
          ]
        },
        {
          "output_type": "stream",
          "name": "stderr",
          "text": [
            " ...done. (0 seconds, 0 min)\n"
          ]
        },
        {
          "output_type": "stream",
          "name": "stdout",
          "text": [
            "Downloading data from https://s3.amazonaws.com/fcp-indi/data/Projects/ABIDE_Initiative/Outputs/cpac/filt_noglobal/rois_cc200/Stanford_0051184_rois_cc200.1D ...\n"
          ]
        },
        {
          "output_type": "stream",
          "name": "stderr",
          "text": [
            " ...done. (0 seconds, 0 min)\n"
          ]
        },
        {
          "output_type": "stream",
          "name": "stdout",
          "text": [
            "Downloading data from https://s3.amazonaws.com/fcp-indi/data/Projects/ABIDE_Initiative/Outputs/cpac/filt_noglobal/rois_cc200/Stanford_0051185_rois_cc200.1D ...\n"
          ]
        },
        {
          "output_type": "stream",
          "name": "stderr",
          "text": [
            " ...done. (0 seconds, 0 min)\n"
          ]
        },
        {
          "output_type": "stream",
          "name": "stdout",
          "text": [
            "Downloading data from https://s3.amazonaws.com/fcp-indi/data/Projects/ABIDE_Initiative/Outputs/cpac/filt_noglobal/rois_cc200/Stanford_0051186_rois_cc200.1D ...\n"
          ]
        },
        {
          "output_type": "stream",
          "name": "stderr",
          "text": [
            " ...done. (0 seconds, 0 min)\n"
          ]
        },
        {
          "output_type": "stream",
          "name": "stdout",
          "text": [
            "Downloading data from https://s3.amazonaws.com/fcp-indi/data/Projects/ABIDE_Initiative/Outputs/cpac/filt_noglobal/rois_cc200/Stanford_0051187_rois_cc200.1D ...\n"
          ]
        },
        {
          "output_type": "stream",
          "name": "stderr",
          "text": [
            " ...done. (0 seconds, 0 min)\n"
          ]
        },
        {
          "output_type": "stream",
          "name": "stdout",
          "text": [
            "Downloading data from https://s3.amazonaws.com/fcp-indi/data/Projects/ABIDE_Initiative/Outputs/cpac/filt_noglobal/rois_cc200/Stanford_0051188_rois_cc200.1D ...\n"
          ]
        },
        {
          "output_type": "stream",
          "name": "stderr",
          "text": [
            " ...done. (0 seconds, 0 min)\n"
          ]
        },
        {
          "output_type": "stream",
          "name": "stdout",
          "text": [
            "Downloading data from https://s3.amazonaws.com/fcp-indi/data/Projects/ABIDE_Initiative/Outputs/cpac/filt_noglobal/rois_cc200/Stanford_0051189_rois_cc200.1D ...\n"
          ]
        },
        {
          "output_type": "stream",
          "name": "stderr",
          "text": [
            " ...done. (0 seconds, 0 min)\n"
          ]
        },
        {
          "output_type": "stream",
          "name": "stdout",
          "text": [
            "Downloading data from https://s3.amazonaws.com/fcp-indi/data/Projects/ABIDE_Initiative/Outputs/cpac/filt_noglobal/rois_cc200/Stanford_0051190_rois_cc200.1D ...\n"
          ]
        },
        {
          "output_type": "stream",
          "name": "stderr",
          "text": [
            " ...done. (0 seconds, 0 min)\n"
          ]
        },
        {
          "output_type": "stream",
          "name": "stdout",
          "text": [
            "Downloading data from https://s3.amazonaws.com/fcp-indi/data/Projects/ABIDE_Initiative/Outputs/cpac/filt_noglobal/rois_cc200/Stanford_0051191_rois_cc200.1D ...\n"
          ]
        },
        {
          "output_type": "stream",
          "name": "stderr",
          "text": [
            " ...done. (0 seconds, 0 min)\n"
          ]
        },
        {
          "output_type": "stream",
          "name": "stdout",
          "text": [
            "Downloading data from https://s3.amazonaws.com/fcp-indi/data/Projects/ABIDE_Initiative/Outputs/cpac/filt_noglobal/rois_cc200/Stanford_0051192_rois_cc200.1D ...\n"
          ]
        },
        {
          "output_type": "stream",
          "name": "stderr",
          "text": [
            " ...done. (0 seconds, 0 min)\n"
          ]
        },
        {
          "output_type": "stream",
          "name": "stdout",
          "text": [
            "Downloading data from https://s3.amazonaws.com/fcp-indi/data/Projects/ABIDE_Initiative/Outputs/cpac/filt_noglobal/rois_cc200/Stanford_0051193_rois_cc200.1D ...\n"
          ]
        },
        {
          "output_type": "stream",
          "name": "stderr",
          "text": [
            " ...done. (0 seconds, 0 min)\n"
          ]
        },
        {
          "output_type": "stream",
          "name": "stdout",
          "text": [
            "Downloading data from https://s3.amazonaws.com/fcp-indi/data/Projects/ABIDE_Initiative/Outputs/cpac/filt_noglobal/rois_cc200/Stanford_0051194_rois_cc200.1D ...\n"
          ]
        },
        {
          "output_type": "stream",
          "name": "stderr",
          "text": [
            " ...done. (0 seconds, 0 min)\n"
          ]
        },
        {
          "output_type": "stream",
          "name": "stdout",
          "text": [
            "Downloading data from https://s3.amazonaws.com/fcp-indi/data/Projects/ABIDE_Initiative/Outputs/cpac/filt_noglobal/rois_cc200/Stanford_0051195_rois_cc200.1D ...\n"
          ]
        },
        {
          "output_type": "stream",
          "name": "stderr",
          "text": [
            " ...done. (0 seconds, 0 min)\n"
          ]
        },
        {
          "output_type": "stream",
          "name": "stdout",
          "text": [
            "Downloading data from https://s3.amazonaws.com/fcp-indi/data/Projects/ABIDE_Initiative/Outputs/cpac/filt_noglobal/rois_cc200/Stanford_0051196_rois_cc200.1D ...\n"
          ]
        },
        {
          "output_type": "stream",
          "name": "stderr",
          "text": [
            " ...done. (0 seconds, 0 min)\n"
          ]
        },
        {
          "output_type": "stream",
          "name": "stdout",
          "text": [
            "Downloading data from https://s3.amazonaws.com/fcp-indi/data/Projects/ABIDE_Initiative/Outputs/cpac/filt_noglobal/rois_cc200/Stanford_0051197_rois_cc200.1D ...\n"
          ]
        },
        {
          "output_type": "stream",
          "name": "stderr",
          "text": [
            " ...done. (0 seconds, 0 min)\n"
          ]
        },
        {
          "output_type": "stream",
          "name": "stdout",
          "text": [
            "Downloading data from https://s3.amazonaws.com/fcp-indi/data/Projects/ABIDE_Initiative/Outputs/cpac/filt_noglobal/rois_cc200/Stanford_0051198_rois_cc200.1D ...\n"
          ]
        },
        {
          "output_type": "stream",
          "name": "stderr",
          "text": [
            " ...done. (0 seconds, 0 min)\n"
          ]
        },
        {
          "output_type": "stream",
          "name": "stdout",
          "text": [
            "Downloading data from https://s3.amazonaws.com/fcp-indi/data/Projects/ABIDE_Initiative/Outputs/cpac/filt_noglobal/rois_cc200/Stanford_0051199_rois_cc200.1D ...\n"
          ]
        },
        {
          "output_type": "stream",
          "name": "stderr",
          "text": [
            " ...done. (0 seconds, 0 min)\n"
          ]
        },
        {
          "output_type": "stream",
          "name": "stdout",
          "text": [
            "Downloading data from https://s3.amazonaws.com/fcp-indi/data/Projects/ABIDE_Initiative/Outputs/cpac/filt_noglobal/rois_cc200/UCLA_1_0051201_rois_cc200.1D ...\n"
          ]
        },
        {
          "output_type": "stream",
          "name": "stderr",
          "text": [
            " ...done. (0 seconds, 0 min)\n"
          ]
        },
        {
          "output_type": "stream",
          "name": "stdout",
          "text": [
            "Downloading data from https://s3.amazonaws.com/fcp-indi/data/Projects/ABIDE_Initiative/Outputs/cpac/filt_noglobal/rois_cc200/UCLA_1_0051202_rois_cc200.1D ...\n"
          ]
        },
        {
          "output_type": "stream",
          "name": "stderr",
          "text": [
            " ...done. (0 seconds, 0 min)\n"
          ]
        },
        {
          "output_type": "stream",
          "name": "stdout",
          "text": [
            "Downloading data from https://s3.amazonaws.com/fcp-indi/data/Projects/ABIDE_Initiative/Outputs/cpac/filt_noglobal/rois_cc200/UCLA_1_0051203_rois_cc200.1D ...\n"
          ]
        },
        {
          "output_type": "stream",
          "name": "stderr",
          "text": [
            " ...done. (0 seconds, 0 min)\n"
          ]
        },
        {
          "output_type": "stream",
          "name": "stdout",
          "text": [
            "Downloading data from https://s3.amazonaws.com/fcp-indi/data/Projects/ABIDE_Initiative/Outputs/cpac/filt_noglobal/rois_cc200/UCLA_1_0051204_rois_cc200.1D ...\n"
          ]
        },
        {
          "output_type": "stream",
          "name": "stderr",
          "text": [
            " ...done. (0 seconds, 0 min)\n"
          ]
        },
        {
          "output_type": "stream",
          "name": "stdout",
          "text": [
            "Downloading data from https://s3.amazonaws.com/fcp-indi/data/Projects/ABIDE_Initiative/Outputs/cpac/filt_noglobal/rois_cc200/UCLA_1_0051205_rois_cc200.1D ...\n"
          ]
        },
        {
          "output_type": "stream",
          "name": "stderr",
          "text": [
            " ...done. (0 seconds, 0 min)\n"
          ]
        },
        {
          "output_type": "stream",
          "name": "stdout",
          "text": [
            "Downloading data from https://s3.amazonaws.com/fcp-indi/data/Projects/ABIDE_Initiative/Outputs/cpac/filt_noglobal/rois_cc200/UCLA_1_0051206_rois_cc200.1D ...\n"
          ]
        },
        {
          "output_type": "stream",
          "name": "stderr",
          "text": [
            " ...done. (0 seconds, 0 min)\n"
          ]
        },
        {
          "output_type": "stream",
          "name": "stdout",
          "text": [
            "Downloading data from https://s3.amazonaws.com/fcp-indi/data/Projects/ABIDE_Initiative/Outputs/cpac/filt_noglobal/rois_cc200/UCLA_1_0051207_rois_cc200.1D ...\n"
          ]
        },
        {
          "output_type": "stream",
          "name": "stderr",
          "text": [
            " ...done. (0 seconds, 0 min)\n"
          ]
        },
        {
          "output_type": "stream",
          "name": "stdout",
          "text": [
            "Downloading data from https://s3.amazonaws.com/fcp-indi/data/Projects/ABIDE_Initiative/Outputs/cpac/filt_noglobal/rois_cc200/UCLA_1_0051208_rois_cc200.1D ...\n"
          ]
        },
        {
          "output_type": "stream",
          "name": "stderr",
          "text": [
            " ...done. (0 seconds, 0 min)\n"
          ]
        },
        {
          "output_type": "stream",
          "name": "stdout",
          "text": [
            "Downloading data from https://s3.amazonaws.com/fcp-indi/data/Projects/ABIDE_Initiative/Outputs/cpac/filt_noglobal/rois_cc200/UCLA_1_0051209_rois_cc200.1D ...\n"
          ]
        },
        {
          "output_type": "stream",
          "name": "stderr",
          "text": [
            " ...done. (0 seconds, 0 min)\n"
          ]
        },
        {
          "output_type": "stream",
          "name": "stdout",
          "text": [
            "Downloading data from https://s3.amazonaws.com/fcp-indi/data/Projects/ABIDE_Initiative/Outputs/cpac/filt_noglobal/rois_cc200/UCLA_1_0051210_rois_cc200.1D ...\n"
          ]
        },
        {
          "output_type": "stream",
          "name": "stderr",
          "text": [
            " ...done. (0 seconds, 0 min)\n"
          ]
        },
        {
          "output_type": "stream",
          "name": "stdout",
          "text": [
            "Downloading data from https://s3.amazonaws.com/fcp-indi/data/Projects/ABIDE_Initiative/Outputs/cpac/filt_noglobal/rois_cc200/UCLA_1_0051211_rois_cc200.1D ...\n"
          ]
        },
        {
          "output_type": "stream",
          "name": "stderr",
          "text": [
            " ...done. (0 seconds, 0 min)\n"
          ]
        },
        {
          "output_type": "stream",
          "name": "stdout",
          "text": [
            "Downloading data from https://s3.amazonaws.com/fcp-indi/data/Projects/ABIDE_Initiative/Outputs/cpac/filt_noglobal/rois_cc200/UCLA_1_0051212_rois_cc200.1D ...\n"
          ]
        },
        {
          "output_type": "stream",
          "name": "stderr",
          "text": [
            " ...done. (0 seconds, 0 min)\n"
          ]
        },
        {
          "output_type": "stream",
          "name": "stdout",
          "text": [
            "Downloading data from https://s3.amazonaws.com/fcp-indi/data/Projects/ABIDE_Initiative/Outputs/cpac/filt_noglobal/rois_cc200/UCLA_1_0051213_rois_cc200.1D ...\n"
          ]
        },
        {
          "output_type": "stream",
          "name": "stderr",
          "text": [
            " ...done. (0 seconds, 0 min)\n"
          ]
        },
        {
          "output_type": "stream",
          "name": "stdout",
          "text": [
            "Downloading data from https://s3.amazonaws.com/fcp-indi/data/Projects/ABIDE_Initiative/Outputs/cpac/filt_noglobal/rois_cc200/UCLA_1_0051214_rois_cc200.1D ...\n"
          ]
        },
        {
          "output_type": "stream",
          "name": "stderr",
          "text": [
            " ...done. (0 seconds, 0 min)\n"
          ]
        },
        {
          "output_type": "stream",
          "name": "stdout",
          "text": [
            "Downloading data from https://s3.amazonaws.com/fcp-indi/data/Projects/ABIDE_Initiative/Outputs/cpac/filt_noglobal/rois_cc200/UCLA_1_0051215_rois_cc200.1D ...\n"
          ]
        },
        {
          "output_type": "stream",
          "name": "stderr",
          "text": [
            " ...done. (0 seconds, 0 min)\n"
          ]
        },
        {
          "output_type": "stream",
          "name": "stdout",
          "text": [
            "Downloading data from https://s3.amazonaws.com/fcp-indi/data/Projects/ABIDE_Initiative/Outputs/cpac/filt_noglobal/rois_cc200/UCLA_1_0051216_rois_cc200.1D ...\n"
          ]
        },
        {
          "output_type": "stream",
          "name": "stderr",
          "text": [
            " ...done. (0 seconds, 0 min)\n"
          ]
        },
        {
          "output_type": "stream",
          "name": "stdout",
          "text": [
            "Downloading data from https://s3.amazonaws.com/fcp-indi/data/Projects/ABIDE_Initiative/Outputs/cpac/filt_noglobal/rois_cc200/UCLA_1_0051217_rois_cc200.1D ...\n"
          ]
        },
        {
          "output_type": "stream",
          "name": "stderr",
          "text": [
            " ...done. (0 seconds, 0 min)\n"
          ]
        },
        {
          "output_type": "stream",
          "name": "stdout",
          "text": [
            "Downloading data from https://s3.amazonaws.com/fcp-indi/data/Projects/ABIDE_Initiative/Outputs/cpac/filt_noglobal/rois_cc200/UCLA_1_0051218_rois_cc200.1D ...\n"
          ]
        },
        {
          "output_type": "stream",
          "name": "stderr",
          "text": [
            " ...done. (0 seconds, 0 min)\n"
          ]
        },
        {
          "output_type": "stream",
          "name": "stdout",
          "text": [
            "Downloading data from https://s3.amazonaws.com/fcp-indi/data/Projects/ABIDE_Initiative/Outputs/cpac/filt_noglobal/rois_cc200/UCLA_1_0051219_rois_cc200.1D ...\n"
          ]
        },
        {
          "output_type": "stream",
          "name": "stderr",
          "text": [
            " ...done. (0 seconds, 0 min)\n"
          ]
        },
        {
          "output_type": "stream",
          "name": "stdout",
          "text": [
            "Downloading data from https://s3.amazonaws.com/fcp-indi/data/Projects/ABIDE_Initiative/Outputs/cpac/filt_noglobal/rois_cc200/UCLA_1_0051220_rois_cc200.1D ...\n"
          ]
        },
        {
          "output_type": "stream",
          "name": "stderr",
          "text": [
            " ...done. (0 seconds, 0 min)\n"
          ]
        },
        {
          "output_type": "stream",
          "name": "stdout",
          "text": [
            "Downloading data from https://s3.amazonaws.com/fcp-indi/data/Projects/ABIDE_Initiative/Outputs/cpac/filt_noglobal/rois_cc200/UCLA_1_0051221_rois_cc200.1D ...\n"
          ]
        },
        {
          "output_type": "stream",
          "name": "stderr",
          "text": [
            " ...done. (0 seconds, 0 min)\n"
          ]
        },
        {
          "output_type": "stream",
          "name": "stdout",
          "text": [
            "Downloading data from https://s3.amazonaws.com/fcp-indi/data/Projects/ABIDE_Initiative/Outputs/cpac/filt_noglobal/rois_cc200/UCLA_1_0051222_rois_cc200.1D ...\n"
          ]
        },
        {
          "output_type": "stream",
          "name": "stderr",
          "text": [
            " ...done. (0 seconds, 0 min)\n"
          ]
        },
        {
          "output_type": "stream",
          "name": "stdout",
          "text": [
            "Downloading data from https://s3.amazonaws.com/fcp-indi/data/Projects/ABIDE_Initiative/Outputs/cpac/filt_noglobal/rois_cc200/UCLA_1_0051223_rois_cc200.1D ...\n"
          ]
        },
        {
          "output_type": "stream",
          "name": "stderr",
          "text": [
            " ...done. (0 seconds, 0 min)\n"
          ]
        },
        {
          "output_type": "stream",
          "name": "stdout",
          "text": [
            "Downloading data from https://s3.amazonaws.com/fcp-indi/data/Projects/ABIDE_Initiative/Outputs/cpac/filt_noglobal/rois_cc200/UCLA_1_0051224_rois_cc200.1D ...\n"
          ]
        },
        {
          "output_type": "stream",
          "name": "stderr",
          "text": [
            " ...done. (0 seconds, 0 min)\n"
          ]
        },
        {
          "output_type": "stream",
          "name": "stdout",
          "text": [
            "Downloading data from https://s3.amazonaws.com/fcp-indi/data/Projects/ABIDE_Initiative/Outputs/cpac/filt_noglobal/rois_cc200/UCLA_1_0051225_rois_cc200.1D ...\n"
          ]
        },
        {
          "output_type": "stream",
          "name": "stderr",
          "text": [
            " ...done. (0 seconds, 0 min)\n"
          ]
        },
        {
          "output_type": "stream",
          "name": "stdout",
          "text": [
            "Downloading data from https://s3.amazonaws.com/fcp-indi/data/Projects/ABIDE_Initiative/Outputs/cpac/filt_noglobal/rois_cc200/UCLA_1_0051226_rois_cc200.1D ...\n"
          ]
        },
        {
          "output_type": "stream",
          "name": "stderr",
          "text": [
            " ...done. (0 seconds, 0 min)\n"
          ]
        },
        {
          "output_type": "stream",
          "name": "stdout",
          "text": [
            "Downloading data from https://s3.amazonaws.com/fcp-indi/data/Projects/ABIDE_Initiative/Outputs/cpac/filt_noglobal/rois_cc200/UCLA_1_0051227_rois_cc200.1D ...\n"
          ]
        },
        {
          "output_type": "stream",
          "name": "stderr",
          "text": [
            " ...done. (0 seconds, 0 min)\n"
          ]
        },
        {
          "output_type": "stream",
          "name": "stdout",
          "text": [
            "Downloading data from https://s3.amazonaws.com/fcp-indi/data/Projects/ABIDE_Initiative/Outputs/cpac/filt_noglobal/rois_cc200/UCLA_1_0051228_rois_cc200.1D ...\n"
          ]
        },
        {
          "output_type": "stream",
          "name": "stderr",
          "text": [
            " ...done. (0 seconds, 0 min)\n"
          ]
        },
        {
          "output_type": "stream",
          "name": "stdout",
          "text": [
            "Downloading data from https://s3.amazonaws.com/fcp-indi/data/Projects/ABIDE_Initiative/Outputs/cpac/filt_noglobal/rois_cc200/UCLA_1_0051229_rois_cc200.1D ...\n"
          ]
        },
        {
          "output_type": "stream",
          "name": "stderr",
          "text": [
            " ...done. (0 seconds, 0 min)\n"
          ]
        },
        {
          "output_type": "stream",
          "name": "stdout",
          "text": [
            "Downloading data from https://s3.amazonaws.com/fcp-indi/data/Projects/ABIDE_Initiative/Outputs/cpac/filt_noglobal/rois_cc200/UCLA_1_0051230_rois_cc200.1D ...\n"
          ]
        },
        {
          "output_type": "stream",
          "name": "stderr",
          "text": [
            " ...done. (0 seconds, 0 min)\n"
          ]
        },
        {
          "output_type": "stream",
          "name": "stdout",
          "text": [
            "Downloading data from https://s3.amazonaws.com/fcp-indi/data/Projects/ABIDE_Initiative/Outputs/cpac/filt_noglobal/rois_cc200/UCLA_1_0051231_rois_cc200.1D ...\n"
          ]
        },
        {
          "output_type": "stream",
          "name": "stderr",
          "text": [
            " ...done. (0 seconds, 0 min)\n"
          ]
        },
        {
          "output_type": "stream",
          "name": "stdout",
          "text": [
            "Downloading data from https://s3.amazonaws.com/fcp-indi/data/Projects/ABIDE_Initiative/Outputs/cpac/filt_noglobal/rois_cc200/UCLA_1_0051234_rois_cc200.1D ...\n"
          ]
        },
        {
          "output_type": "stream",
          "name": "stderr",
          "text": [
            " ...done. (0 seconds, 0 min)\n"
          ]
        },
        {
          "output_type": "stream",
          "name": "stdout",
          "text": [
            "Downloading data from https://s3.amazonaws.com/fcp-indi/data/Projects/ABIDE_Initiative/Outputs/cpac/filt_noglobal/rois_cc200/UCLA_1_0051235_rois_cc200.1D ...\n"
          ]
        },
        {
          "output_type": "stream",
          "name": "stderr",
          "text": [
            " ...done. (0 seconds, 0 min)\n"
          ]
        },
        {
          "output_type": "stream",
          "name": "stdout",
          "text": [
            "Downloading data from https://s3.amazonaws.com/fcp-indi/data/Projects/ABIDE_Initiative/Outputs/cpac/filt_noglobal/rois_cc200/UCLA_1_0051236_rois_cc200.1D ...\n"
          ]
        },
        {
          "output_type": "stream",
          "name": "stderr",
          "text": [
            " ...done. (0 seconds, 0 min)\n"
          ]
        },
        {
          "output_type": "stream",
          "name": "stdout",
          "text": [
            "Downloading data from https://s3.amazonaws.com/fcp-indi/data/Projects/ABIDE_Initiative/Outputs/cpac/filt_noglobal/rois_cc200/UCLA_1_0051237_rois_cc200.1D ...\n"
          ]
        },
        {
          "output_type": "stream",
          "name": "stderr",
          "text": [
            " ...done. (0 seconds, 0 min)\n"
          ]
        },
        {
          "output_type": "stream",
          "name": "stdout",
          "text": [
            "Downloading data from https://s3.amazonaws.com/fcp-indi/data/Projects/ABIDE_Initiative/Outputs/cpac/filt_noglobal/rois_cc200/UCLA_1_0051238_rois_cc200.1D ...\n"
          ]
        },
        {
          "output_type": "stream",
          "name": "stderr",
          "text": [
            " ...done. (0 seconds, 0 min)\n"
          ]
        },
        {
          "output_type": "stream",
          "name": "stdout",
          "text": [
            "Downloading data from https://s3.amazonaws.com/fcp-indi/data/Projects/ABIDE_Initiative/Outputs/cpac/filt_noglobal/rois_cc200/UCLA_1_0051239_rois_cc200.1D ...\n"
          ]
        },
        {
          "output_type": "stream",
          "name": "stderr",
          "text": [
            " ...done. (0 seconds, 0 min)\n"
          ]
        },
        {
          "output_type": "stream",
          "name": "stdout",
          "text": [
            "Downloading data from https://s3.amazonaws.com/fcp-indi/data/Projects/ABIDE_Initiative/Outputs/cpac/filt_noglobal/rois_cc200/UCLA_1_0051240_rois_cc200.1D ...\n"
          ]
        },
        {
          "output_type": "stream",
          "name": "stderr",
          "text": [
            " ...done. (0 seconds, 0 min)\n"
          ]
        },
        {
          "output_type": "stream",
          "name": "stdout",
          "text": [
            "Downloading data from https://s3.amazonaws.com/fcp-indi/data/Projects/ABIDE_Initiative/Outputs/cpac/filt_noglobal/rois_cc200/UCLA_1_0051241_rois_cc200.1D ...\n"
          ]
        },
        {
          "output_type": "stream",
          "name": "stderr",
          "text": [
            " ...done. (0 seconds, 0 min)\n"
          ]
        },
        {
          "output_type": "stream",
          "name": "stdout",
          "text": [
            "Downloading data from https://s3.amazonaws.com/fcp-indi/data/Projects/ABIDE_Initiative/Outputs/cpac/filt_noglobal/rois_cc200/UCLA_1_0051248_rois_cc200.1D ...\n"
          ]
        },
        {
          "output_type": "stream",
          "name": "stderr",
          "text": [
            " ...done. (0 seconds, 0 min)\n"
          ]
        },
        {
          "output_type": "stream",
          "name": "stdout",
          "text": [
            "Downloading data from https://s3.amazonaws.com/fcp-indi/data/Projects/ABIDE_Initiative/Outputs/cpac/filt_noglobal/rois_cc200/UCLA_1_0051249_rois_cc200.1D ...\n"
          ]
        },
        {
          "output_type": "stream",
          "name": "stderr",
          "text": [
            " ...done. (0 seconds, 0 min)\n"
          ]
        },
        {
          "output_type": "stream",
          "name": "stdout",
          "text": [
            "Downloading data from https://s3.amazonaws.com/fcp-indi/data/Projects/ABIDE_Initiative/Outputs/cpac/filt_noglobal/rois_cc200/UCLA_1_0051250_rois_cc200.1D ...\n"
          ]
        },
        {
          "output_type": "stream",
          "name": "stderr",
          "text": [
            " ...done. (0 seconds, 0 min)\n"
          ]
        },
        {
          "output_type": "stream",
          "name": "stdout",
          "text": [
            "Downloading data from https://s3.amazonaws.com/fcp-indi/data/Projects/ABIDE_Initiative/Outputs/cpac/filt_noglobal/rois_cc200/UCLA_1_0051251_rois_cc200.1D ...\n"
          ]
        },
        {
          "output_type": "stream",
          "name": "stderr",
          "text": [
            " ...done. (0 seconds, 0 min)\n"
          ]
        },
        {
          "output_type": "stream",
          "name": "stdout",
          "text": [
            "Downloading data from https://s3.amazonaws.com/fcp-indi/data/Projects/ABIDE_Initiative/Outputs/cpac/filt_noglobal/rois_cc200/UCLA_1_0051252_rois_cc200.1D ...\n"
          ]
        },
        {
          "output_type": "stream",
          "name": "stderr",
          "text": [
            " ...done. (0 seconds, 0 min)\n"
          ]
        },
        {
          "output_type": "stream",
          "name": "stdout",
          "text": [
            "Downloading data from https://s3.amazonaws.com/fcp-indi/data/Projects/ABIDE_Initiative/Outputs/cpac/filt_noglobal/rois_cc200/UCLA_1_0051253_rois_cc200.1D ...\n"
          ]
        },
        {
          "output_type": "stream",
          "name": "stderr",
          "text": [
            " ...done. (0 seconds, 0 min)\n"
          ]
        },
        {
          "output_type": "stream",
          "name": "stdout",
          "text": [
            "Downloading data from https://s3.amazonaws.com/fcp-indi/data/Projects/ABIDE_Initiative/Outputs/cpac/filt_noglobal/rois_cc200/UCLA_1_0051254_rois_cc200.1D ...\n"
          ]
        },
        {
          "output_type": "stream",
          "name": "stderr",
          "text": [
            " ...done. (0 seconds, 0 min)\n"
          ]
        },
        {
          "output_type": "stream",
          "name": "stdout",
          "text": [
            "Downloading data from https://s3.amazonaws.com/fcp-indi/data/Projects/ABIDE_Initiative/Outputs/cpac/filt_noglobal/rois_cc200/UCLA_1_0051255_rois_cc200.1D ...\n"
          ]
        },
        {
          "output_type": "stream",
          "name": "stderr",
          "text": [
            " ...done. (0 seconds, 0 min)\n"
          ]
        },
        {
          "output_type": "stream",
          "name": "stdout",
          "text": [
            "Downloading data from https://s3.amazonaws.com/fcp-indi/data/Projects/ABIDE_Initiative/Outputs/cpac/filt_noglobal/rois_cc200/UCLA_1_0051256_rois_cc200.1D ...\n"
          ]
        },
        {
          "output_type": "stream",
          "name": "stderr",
          "text": [
            " ...done. (0 seconds, 0 min)\n"
          ]
        },
        {
          "output_type": "stream",
          "name": "stdout",
          "text": [
            "Downloading data from https://s3.amazonaws.com/fcp-indi/data/Projects/ABIDE_Initiative/Outputs/cpac/filt_noglobal/rois_cc200/UCLA_1_0051257_rois_cc200.1D ...\n"
          ]
        },
        {
          "output_type": "stream",
          "name": "stderr",
          "text": [
            " ...done. (0 seconds, 0 min)\n"
          ]
        },
        {
          "output_type": "stream",
          "name": "stdout",
          "text": [
            "Downloading data from https://s3.amazonaws.com/fcp-indi/data/Projects/ABIDE_Initiative/Outputs/cpac/filt_noglobal/rois_cc200/UCLA_1_0051258_rois_cc200.1D ...\n"
          ]
        },
        {
          "output_type": "stream",
          "name": "stderr",
          "text": [
            " ...done. (0 seconds, 0 min)\n"
          ]
        },
        {
          "output_type": "stream",
          "name": "stdout",
          "text": [
            "Downloading data from https://s3.amazonaws.com/fcp-indi/data/Projects/ABIDE_Initiative/Outputs/cpac/filt_noglobal/rois_cc200/UCLA_1_0051260_rois_cc200.1D ...\n"
          ]
        },
        {
          "output_type": "stream",
          "name": "stderr",
          "text": [
            " ...done. (0 seconds, 0 min)\n"
          ]
        },
        {
          "output_type": "stream",
          "name": "stdout",
          "text": [
            "Downloading data from https://s3.amazonaws.com/fcp-indi/data/Projects/ABIDE_Initiative/Outputs/cpac/filt_noglobal/rois_cc200/UCLA_1_0051261_rois_cc200.1D ...\n"
          ]
        },
        {
          "output_type": "stream",
          "name": "stderr",
          "text": [
            " ...done. (0 seconds, 0 min)\n"
          ]
        },
        {
          "output_type": "stream",
          "name": "stdout",
          "text": [
            "Downloading data from https://s3.amazonaws.com/fcp-indi/data/Projects/ABIDE_Initiative/Outputs/cpac/filt_noglobal/rois_cc200/UCLA_1_0051262_rois_cc200.1D ...\n"
          ]
        },
        {
          "output_type": "stream",
          "name": "stderr",
          "text": [
            " ...done. (0 seconds, 0 min)\n"
          ]
        },
        {
          "output_type": "stream",
          "name": "stdout",
          "text": [
            "Downloading data from https://s3.amazonaws.com/fcp-indi/data/Projects/ABIDE_Initiative/Outputs/cpac/filt_noglobal/rois_cc200/UCLA_1_0051263_rois_cc200.1D ...\n"
          ]
        },
        {
          "output_type": "stream",
          "name": "stderr",
          "text": [
            " ...done. (0 seconds, 0 min)\n"
          ]
        },
        {
          "output_type": "stream",
          "name": "stdout",
          "text": [
            "Downloading data from https://s3.amazonaws.com/fcp-indi/data/Projects/ABIDE_Initiative/Outputs/cpac/filt_noglobal/rois_cc200/UCLA_1_0051264_rois_cc200.1D ...\n"
          ]
        },
        {
          "output_type": "stream",
          "name": "stderr",
          "text": [
            " ...done. (0 seconds, 0 min)\n"
          ]
        },
        {
          "output_type": "stream",
          "name": "stdout",
          "text": [
            "Downloading data from https://s3.amazonaws.com/fcp-indi/data/Projects/ABIDE_Initiative/Outputs/cpac/filt_noglobal/rois_cc200/UCLA_1_0051265_rois_cc200.1D ...\n"
          ]
        },
        {
          "output_type": "stream",
          "name": "stderr",
          "text": [
            " ...done. (0 seconds, 0 min)\n"
          ]
        },
        {
          "output_type": "stream",
          "name": "stdout",
          "text": [
            "Downloading data from https://s3.amazonaws.com/fcp-indi/data/Projects/ABIDE_Initiative/Outputs/cpac/filt_noglobal/rois_cc200/UCLA_1_0051266_rois_cc200.1D ...\n"
          ]
        },
        {
          "output_type": "stream",
          "name": "stderr",
          "text": [
            " ...done. (0 seconds, 0 min)\n"
          ]
        },
        {
          "output_type": "stream",
          "name": "stdout",
          "text": [
            "Downloading data from https://s3.amazonaws.com/fcp-indi/data/Projects/ABIDE_Initiative/Outputs/cpac/filt_noglobal/rois_cc200/UCLA_1_0051267_rois_cc200.1D ...\n"
          ]
        },
        {
          "output_type": "stream",
          "name": "stderr",
          "text": [
            " ...done. (0 seconds, 0 min)\n"
          ]
        },
        {
          "output_type": "stream",
          "name": "stdout",
          "text": [
            "Downloading data from https://s3.amazonaws.com/fcp-indi/data/Projects/ABIDE_Initiative/Outputs/cpac/filt_noglobal/rois_cc200/UCLA_1_0051268_rois_cc200.1D ...\n"
          ]
        },
        {
          "output_type": "stream",
          "name": "stderr",
          "text": [
            " ...done. (0 seconds, 0 min)\n"
          ]
        },
        {
          "output_type": "stream",
          "name": "stdout",
          "text": [
            "Downloading data from https://s3.amazonaws.com/fcp-indi/data/Projects/ABIDE_Initiative/Outputs/cpac/filt_noglobal/rois_cc200/UCLA_1_0051269_rois_cc200.1D ...\n"
          ]
        },
        {
          "output_type": "stream",
          "name": "stderr",
          "text": [
            " ...done. (0 seconds, 0 min)\n"
          ]
        },
        {
          "output_type": "stream",
          "name": "stdout",
          "text": [
            "Downloading data from https://s3.amazonaws.com/fcp-indi/data/Projects/ABIDE_Initiative/Outputs/cpac/filt_noglobal/rois_cc200/UCLA_1_0051271_rois_cc200.1D ...\n"
          ]
        },
        {
          "output_type": "stream",
          "name": "stderr",
          "text": [
            " ...done. (0 seconds, 0 min)\n"
          ]
        },
        {
          "output_type": "stream",
          "name": "stdout",
          "text": [
            "Downloading data from https://s3.amazonaws.com/fcp-indi/data/Projects/ABIDE_Initiative/Outputs/cpac/filt_noglobal/rois_cc200/UCLA_1_0051272_rois_cc200.1D ...\n"
          ]
        },
        {
          "output_type": "stream",
          "name": "stderr",
          "text": [
            " ...done. (0 seconds, 0 min)\n"
          ]
        },
        {
          "output_type": "stream",
          "name": "stdout",
          "text": [
            "Downloading data from https://s3.amazonaws.com/fcp-indi/data/Projects/ABIDE_Initiative/Outputs/cpac/filt_noglobal/rois_cc200/UCLA_1_0051273_rois_cc200.1D ...\n"
          ]
        },
        {
          "output_type": "stream",
          "name": "stderr",
          "text": [
            " ...done. (0 seconds, 0 min)\n"
          ]
        },
        {
          "output_type": "stream",
          "name": "stdout",
          "text": [
            "Downloading data from https://s3.amazonaws.com/fcp-indi/data/Projects/ABIDE_Initiative/Outputs/cpac/filt_noglobal/rois_cc200/UCLA_1_0051274_rois_cc200.1D ...\n"
          ]
        },
        {
          "output_type": "stream",
          "name": "stderr",
          "text": [
            " ...done. (0 seconds, 0 min)\n"
          ]
        },
        {
          "output_type": "stream",
          "name": "stdout",
          "text": [
            "Downloading data from https://s3.amazonaws.com/fcp-indi/data/Projects/ABIDE_Initiative/Outputs/cpac/filt_noglobal/rois_cc200/UCLA_1_0051275_rois_cc200.1D ...\n"
          ]
        },
        {
          "output_type": "stream",
          "name": "stderr",
          "text": [
            " ...done. (0 seconds, 0 min)\n"
          ]
        },
        {
          "output_type": "stream",
          "name": "stdout",
          "text": [
            "Downloading data from https://s3.amazonaws.com/fcp-indi/data/Projects/ABIDE_Initiative/Outputs/cpac/filt_noglobal/rois_cc200/UCLA_1_0051276_rois_cc200.1D ...\n"
          ]
        },
        {
          "output_type": "stream",
          "name": "stderr",
          "text": [
            " ...done. (0 seconds, 0 min)\n"
          ]
        },
        {
          "output_type": "stream",
          "name": "stdout",
          "text": [
            "Downloading data from https://s3.amazonaws.com/fcp-indi/data/Projects/ABIDE_Initiative/Outputs/cpac/filt_noglobal/rois_cc200/UCLA_1_0051277_rois_cc200.1D ...\n"
          ]
        },
        {
          "output_type": "stream",
          "name": "stderr",
          "text": [
            " ...done. (0 seconds, 0 min)\n"
          ]
        },
        {
          "output_type": "stream",
          "name": "stdout",
          "text": [
            "Downloading data from https://s3.amazonaws.com/fcp-indi/data/Projects/ABIDE_Initiative/Outputs/cpac/filt_noglobal/rois_cc200/UCLA_1_0051278_rois_cc200.1D ...\n"
          ]
        },
        {
          "output_type": "stream",
          "name": "stderr",
          "text": [
            " ...done. (0 seconds, 0 min)\n"
          ]
        },
        {
          "output_type": "stream",
          "name": "stdout",
          "text": [
            "Downloading data from https://s3.amazonaws.com/fcp-indi/data/Projects/ABIDE_Initiative/Outputs/cpac/filt_noglobal/rois_cc200/UCLA_1_0051279_rois_cc200.1D ...\n"
          ]
        },
        {
          "output_type": "stream",
          "name": "stderr",
          "text": [
            " ...done. (0 seconds, 0 min)\n"
          ]
        },
        {
          "output_type": "stream",
          "name": "stdout",
          "text": [
            "Downloading data from https://s3.amazonaws.com/fcp-indi/data/Projects/ABIDE_Initiative/Outputs/cpac/filt_noglobal/rois_cc200/UCLA_1_0051280_rois_cc200.1D ...\n"
          ]
        },
        {
          "output_type": "stream",
          "name": "stderr",
          "text": [
            " ...done. (0 seconds, 0 min)\n"
          ]
        },
        {
          "output_type": "stream",
          "name": "stdout",
          "text": [
            "Downloading data from https://s3.amazonaws.com/fcp-indi/data/Projects/ABIDE_Initiative/Outputs/cpac/filt_noglobal/rois_cc200/UCLA_1_0051281_rois_cc200.1D ...\n"
          ]
        },
        {
          "output_type": "stream",
          "name": "stderr",
          "text": [
            " ...done. (0 seconds, 0 min)\n"
          ]
        },
        {
          "output_type": "stream",
          "name": "stdout",
          "text": [
            "Downloading data from https://s3.amazonaws.com/fcp-indi/data/Projects/ABIDE_Initiative/Outputs/cpac/filt_noglobal/rois_cc200/UCLA_1_0051282_rois_cc200.1D ...\n"
          ]
        },
        {
          "output_type": "stream",
          "name": "stderr",
          "text": [
            " ...done. (0 seconds, 0 min)\n"
          ]
        },
        {
          "output_type": "stream",
          "name": "stdout",
          "text": [
            "Downloading data from https://s3.amazonaws.com/fcp-indi/data/Projects/ABIDE_Initiative/Outputs/cpac/filt_noglobal/rois_cc200/UCLA_2_0051291_rois_cc200.1D ...\n"
          ]
        },
        {
          "output_type": "stream",
          "name": "stderr",
          "text": [
            " ...done. (0 seconds, 0 min)\n"
          ]
        },
        {
          "output_type": "stream",
          "name": "stdout",
          "text": [
            "Downloading data from https://s3.amazonaws.com/fcp-indi/data/Projects/ABIDE_Initiative/Outputs/cpac/filt_noglobal/rois_cc200/UCLA_2_0051292_rois_cc200.1D ...\n"
          ]
        },
        {
          "output_type": "stream",
          "name": "stderr",
          "text": [
            " ...done. (0 seconds, 0 min)\n"
          ]
        },
        {
          "output_type": "stream",
          "name": "stdout",
          "text": [
            "Downloading data from https://s3.amazonaws.com/fcp-indi/data/Projects/ABIDE_Initiative/Outputs/cpac/filt_noglobal/rois_cc200/UCLA_2_0051293_rois_cc200.1D ...\n"
          ]
        },
        {
          "output_type": "stream",
          "name": "stderr",
          "text": [
            " ...done. (0 seconds, 0 min)\n"
          ]
        },
        {
          "output_type": "stream",
          "name": "stdout",
          "text": [
            "Downloading data from https://s3.amazonaws.com/fcp-indi/data/Projects/ABIDE_Initiative/Outputs/cpac/filt_noglobal/rois_cc200/UCLA_2_0051294_rois_cc200.1D ...\n"
          ]
        },
        {
          "output_type": "stream",
          "name": "stderr",
          "text": [
            " ...done. (0 seconds, 0 min)\n"
          ]
        },
        {
          "output_type": "stream",
          "name": "stdout",
          "text": [
            "Downloading data from https://s3.amazonaws.com/fcp-indi/data/Projects/ABIDE_Initiative/Outputs/cpac/filt_noglobal/rois_cc200/UCLA_2_0051295_rois_cc200.1D ...\n"
          ]
        },
        {
          "output_type": "stream",
          "name": "stderr",
          "text": [
            " ...done. (0 seconds, 0 min)\n"
          ]
        },
        {
          "output_type": "stream",
          "name": "stdout",
          "text": [
            "Downloading data from https://s3.amazonaws.com/fcp-indi/data/Projects/ABIDE_Initiative/Outputs/cpac/filt_noglobal/rois_cc200/UCLA_2_0051296_rois_cc200.1D ...\n"
          ]
        },
        {
          "output_type": "stream",
          "name": "stderr",
          "text": [
            " ...done. (0 seconds, 0 min)\n"
          ]
        },
        {
          "output_type": "stream",
          "name": "stdout",
          "text": [
            "Downloading data from https://s3.amazonaws.com/fcp-indi/data/Projects/ABIDE_Initiative/Outputs/cpac/filt_noglobal/rois_cc200/UCLA_2_0051297_rois_cc200.1D ...\n"
          ]
        },
        {
          "output_type": "stream",
          "name": "stderr",
          "text": [
            " ...done. (0 seconds, 0 min)\n"
          ]
        },
        {
          "output_type": "stream",
          "name": "stdout",
          "text": [
            "Downloading data from https://s3.amazonaws.com/fcp-indi/data/Projects/ABIDE_Initiative/Outputs/cpac/filt_noglobal/rois_cc200/UCLA_2_0051298_rois_cc200.1D ...\n"
          ]
        },
        {
          "output_type": "stream",
          "name": "stderr",
          "text": [
            " ...done. (0 seconds, 0 min)\n"
          ]
        },
        {
          "output_type": "stream",
          "name": "stdout",
          "text": [
            "Downloading data from https://s3.amazonaws.com/fcp-indi/data/Projects/ABIDE_Initiative/Outputs/cpac/filt_noglobal/rois_cc200/UCLA_2_0051299_rois_cc200.1D ...\n"
          ]
        },
        {
          "output_type": "stream",
          "name": "stderr",
          "text": [
            " ...done. (0 seconds, 0 min)\n"
          ]
        },
        {
          "output_type": "stream",
          "name": "stdout",
          "text": [
            "Downloading data from https://s3.amazonaws.com/fcp-indi/data/Projects/ABIDE_Initiative/Outputs/cpac/filt_noglobal/rois_cc200/UCLA_2_0051300_rois_cc200.1D ...\n"
          ]
        },
        {
          "output_type": "stream",
          "name": "stderr",
          "text": [
            " ...done. (0 seconds, 0 min)\n"
          ]
        },
        {
          "output_type": "stream",
          "name": "stdout",
          "text": [
            "Downloading data from https://s3.amazonaws.com/fcp-indi/data/Projects/ABIDE_Initiative/Outputs/cpac/filt_noglobal/rois_cc200/UCLA_2_0051301_rois_cc200.1D ...\n"
          ]
        },
        {
          "output_type": "stream",
          "name": "stderr",
          "text": [
            " ...done. (0 seconds, 0 min)\n"
          ]
        },
        {
          "output_type": "stream",
          "name": "stdout",
          "text": [
            "Downloading data from https://s3.amazonaws.com/fcp-indi/data/Projects/ABIDE_Initiative/Outputs/cpac/filt_noglobal/rois_cc200/UCLA_2_0051302_rois_cc200.1D ...\n"
          ]
        },
        {
          "output_type": "stream",
          "name": "stderr",
          "text": [
            " ...done. (0 seconds, 0 min)\n"
          ]
        },
        {
          "output_type": "stream",
          "name": "stdout",
          "text": [
            "Downloading data from https://s3.amazonaws.com/fcp-indi/data/Projects/ABIDE_Initiative/Outputs/cpac/filt_noglobal/rois_cc200/UCLA_2_0051303_rois_cc200.1D ...\n"
          ]
        },
        {
          "output_type": "stream",
          "name": "stderr",
          "text": [
            " ...done. (0 seconds, 0 min)\n"
          ]
        },
        {
          "output_type": "stream",
          "name": "stdout",
          "text": [
            "Downloading data from https://s3.amazonaws.com/fcp-indi/data/Projects/ABIDE_Initiative/Outputs/cpac/filt_noglobal/rois_cc200/UCLA_2_0051304_rois_cc200.1D ...\n"
          ]
        },
        {
          "output_type": "stream",
          "name": "stderr",
          "text": [
            " ...done. (0 seconds, 0 min)\n"
          ]
        },
        {
          "output_type": "stream",
          "name": "stdout",
          "text": [
            "Downloading data from https://s3.amazonaws.com/fcp-indi/data/Projects/ABIDE_Initiative/Outputs/cpac/filt_noglobal/rois_cc200/UCLA_2_0051305_rois_cc200.1D ...\n"
          ]
        },
        {
          "output_type": "stream",
          "name": "stderr",
          "text": [
            " ...done. (0 seconds, 0 min)\n"
          ]
        },
        {
          "output_type": "stream",
          "name": "stdout",
          "text": [
            "Downloading data from https://s3.amazonaws.com/fcp-indi/data/Projects/ABIDE_Initiative/Outputs/cpac/filt_noglobal/rois_cc200/UCLA_2_0051306_rois_cc200.1D ...\n"
          ]
        },
        {
          "output_type": "stream",
          "name": "stderr",
          "text": [
            " ...done. (0 seconds, 0 min)\n"
          ]
        },
        {
          "output_type": "stream",
          "name": "stdout",
          "text": [
            "Downloading data from https://s3.amazonaws.com/fcp-indi/data/Projects/ABIDE_Initiative/Outputs/cpac/filt_noglobal/rois_cc200/UCLA_2_0051307_rois_cc200.1D ...\n"
          ]
        },
        {
          "output_type": "stream",
          "name": "stderr",
          "text": [
            " ...done. (0 seconds, 0 min)\n"
          ]
        },
        {
          "output_type": "stream",
          "name": "stdout",
          "text": [
            "Downloading data from https://s3.amazonaws.com/fcp-indi/data/Projects/ABIDE_Initiative/Outputs/cpac/filt_noglobal/rois_cc200/UCLA_2_0051308_rois_cc200.1D ...\n"
          ]
        },
        {
          "output_type": "stream",
          "name": "stderr",
          "text": [
            " ...done. (0 seconds, 0 min)\n"
          ]
        },
        {
          "output_type": "stream",
          "name": "stdout",
          "text": [
            "Downloading data from https://s3.amazonaws.com/fcp-indi/data/Projects/ABIDE_Initiative/Outputs/cpac/filt_noglobal/rois_cc200/UCLA_2_0051309_rois_cc200.1D ...\n"
          ]
        },
        {
          "output_type": "stream",
          "name": "stderr",
          "text": [
            " ...done. (0 seconds, 0 min)\n"
          ]
        },
        {
          "output_type": "stream",
          "name": "stdout",
          "text": [
            "Downloading data from https://s3.amazonaws.com/fcp-indi/data/Projects/ABIDE_Initiative/Outputs/cpac/filt_noglobal/rois_cc200/UCLA_2_0051311_rois_cc200.1D ...\n"
          ]
        },
        {
          "output_type": "stream",
          "name": "stderr",
          "text": [
            " ...done. (0 seconds, 0 min)\n"
          ]
        },
        {
          "output_type": "stream",
          "name": "stdout",
          "text": [
            "Downloading data from https://s3.amazonaws.com/fcp-indi/data/Projects/ABIDE_Initiative/Outputs/cpac/filt_noglobal/rois_cc200/UCLA_2_0051312_rois_cc200.1D ...\n"
          ]
        },
        {
          "output_type": "stream",
          "name": "stderr",
          "text": [
            " ...done. (0 seconds, 0 min)\n"
          ]
        },
        {
          "output_type": "stream",
          "name": "stdout",
          "text": [
            "Downloading data from https://s3.amazonaws.com/fcp-indi/data/Projects/ABIDE_Initiative/Outputs/cpac/filt_noglobal/rois_cc200/UCLA_2_0051313_rois_cc200.1D ...\n"
          ]
        },
        {
          "output_type": "stream",
          "name": "stderr",
          "text": [
            " ...done. (0 seconds, 0 min)\n"
          ]
        },
        {
          "output_type": "stream",
          "name": "stdout",
          "text": [
            "Downloading data from https://s3.amazonaws.com/fcp-indi/data/Projects/ABIDE_Initiative/Outputs/cpac/filt_noglobal/rois_cc200/UCLA_2_0051314_rois_cc200.1D ...\n"
          ]
        },
        {
          "output_type": "stream",
          "name": "stderr",
          "text": [
            " ...done. (0 seconds, 0 min)\n"
          ]
        },
        {
          "output_type": "stream",
          "name": "stdout",
          "text": [
            "Downloading data from https://s3.amazonaws.com/fcp-indi/data/Projects/ABIDE_Initiative/Outputs/cpac/filt_noglobal/rois_cc200/UCLA_2_0051315_rois_cc200.1D ...\n"
          ]
        },
        {
          "output_type": "stream",
          "name": "stderr",
          "text": [
            " ...done. (0 seconds, 0 min)\n"
          ]
        },
        {
          "output_type": "stream",
          "name": "stdout",
          "text": [
            "Downloading data from https://s3.amazonaws.com/fcp-indi/data/Projects/ABIDE_Initiative/Outputs/cpac/filt_noglobal/rois_cc200/UCLA_2_0051316_rois_cc200.1D ...\n"
          ]
        },
        {
          "output_type": "stream",
          "name": "stderr",
          "text": [
            " ...done. (0 seconds, 0 min)\n"
          ]
        },
        {
          "output_type": "stream",
          "name": "stdout",
          "text": [
            "Downloading data from https://s3.amazonaws.com/fcp-indi/data/Projects/ABIDE_Initiative/Outputs/cpac/filt_noglobal/rois_cc200/UCLA_2_0051317_rois_cc200.1D ...\n"
          ]
        },
        {
          "output_type": "stream",
          "name": "stderr",
          "text": [
            " ...done. (0 seconds, 0 min)\n"
          ]
        },
        {
          "output_type": "stream",
          "name": "stdout",
          "text": [
            "Downloading data from https://s3.amazonaws.com/fcp-indi/data/Projects/ABIDE_Initiative/Outputs/cpac/filt_noglobal/rois_cc200/MaxMun_a_0051318_rois_cc200.1D ...\n"
          ]
        },
        {
          "output_type": "stream",
          "name": "stderr",
          "text": [
            " ...done. (0 seconds, 0 min)\n"
          ]
        },
        {
          "output_type": "stream",
          "name": "stdout",
          "text": [
            "Downloading data from https://s3.amazonaws.com/fcp-indi/data/Projects/ABIDE_Initiative/Outputs/cpac/filt_noglobal/rois_cc200/MaxMun_a_0051319_rois_cc200.1D ...\n"
          ]
        },
        {
          "output_type": "stream",
          "name": "stderr",
          "text": [
            " ...done. (0 seconds, 0 min)\n"
          ]
        },
        {
          "output_type": "stream",
          "name": "stdout",
          "text": [
            "Downloading data from https://s3.amazonaws.com/fcp-indi/data/Projects/ABIDE_Initiative/Outputs/cpac/filt_noglobal/rois_cc200/MaxMun_a_0051320_rois_cc200.1D ...\n"
          ]
        },
        {
          "output_type": "stream",
          "name": "stderr",
          "text": [
            " ...done. (0 seconds, 0 min)\n"
          ]
        },
        {
          "output_type": "stream",
          "name": "stdout",
          "text": [
            "Downloading data from https://s3.amazonaws.com/fcp-indi/data/Projects/ABIDE_Initiative/Outputs/cpac/filt_noglobal/rois_cc200/MaxMun_a_0051321_rois_cc200.1D ...\n"
          ]
        },
        {
          "output_type": "stream",
          "name": "stderr",
          "text": [
            " ...done. (0 seconds, 0 min)\n"
          ]
        },
        {
          "output_type": "stream",
          "name": "stdout",
          "text": [
            "Downloading data from https://s3.amazonaws.com/fcp-indi/data/Projects/ABIDE_Initiative/Outputs/cpac/filt_noglobal/rois_cc200/MaxMun_b_0051322_rois_cc200.1D ...\n"
          ]
        },
        {
          "output_type": "stream",
          "name": "stderr",
          "text": [
            " ...done. (0 seconds, 0 min)\n"
          ]
        },
        {
          "output_type": "stream",
          "name": "stdout",
          "text": [
            "Downloading data from https://s3.amazonaws.com/fcp-indi/data/Projects/ABIDE_Initiative/Outputs/cpac/filt_noglobal/rois_cc200/MaxMun_b_0051323_rois_cc200.1D ...\n"
          ]
        },
        {
          "output_type": "stream",
          "name": "stderr",
          "text": [
            " ...done. (0 seconds, 0 min)\n"
          ]
        },
        {
          "output_type": "stream",
          "name": "stdout",
          "text": [
            "Downloading data from https://s3.amazonaws.com/fcp-indi/data/Projects/ABIDE_Initiative/Outputs/cpac/filt_noglobal/rois_cc200/MaxMun_b_0051324_rois_cc200.1D ...\n"
          ]
        },
        {
          "output_type": "stream",
          "name": "stderr",
          "text": [
            " ...done. (0 seconds, 0 min)\n"
          ]
        },
        {
          "output_type": "stream",
          "name": "stdout",
          "text": [
            "Downloading data from https://s3.amazonaws.com/fcp-indi/data/Projects/ABIDE_Initiative/Outputs/cpac/filt_noglobal/rois_cc200/MaxMun_b_0051325_rois_cc200.1D ...\n"
          ]
        },
        {
          "output_type": "stream",
          "name": "stderr",
          "text": [
            " ...done. (0 seconds, 0 min)\n"
          ]
        },
        {
          "output_type": "stream",
          "name": "stdout",
          "text": [
            "Downloading data from https://s3.amazonaws.com/fcp-indi/data/Projects/ABIDE_Initiative/Outputs/cpac/filt_noglobal/rois_cc200/MaxMun_b_0051326_rois_cc200.1D ...\n"
          ]
        },
        {
          "output_type": "stream",
          "name": "stderr",
          "text": [
            " ...done. (0 seconds, 0 min)\n"
          ]
        },
        {
          "output_type": "stream",
          "name": "stdout",
          "text": [
            "Downloading data from https://s3.amazonaws.com/fcp-indi/data/Projects/ABIDE_Initiative/Outputs/cpac/filt_noglobal/rois_cc200/MaxMun_b_0051327_rois_cc200.1D ...\n"
          ]
        },
        {
          "output_type": "stream",
          "name": "stderr",
          "text": [
            " ...done. (0 seconds, 0 min)\n"
          ]
        },
        {
          "output_type": "stream",
          "name": "stdout",
          "text": [
            "Downloading data from https://s3.amazonaws.com/fcp-indi/data/Projects/ABIDE_Initiative/Outputs/cpac/filt_noglobal/rois_cc200/MaxMun_c_0051328_rois_cc200.1D ...\n"
          ]
        },
        {
          "output_type": "stream",
          "name": "stderr",
          "text": [
            " ...done. (0 seconds, 0 min)\n"
          ]
        },
        {
          "output_type": "stream",
          "name": "stdout",
          "text": [
            "Downloading data from https://s3.amazonaws.com/fcp-indi/data/Projects/ABIDE_Initiative/Outputs/cpac/filt_noglobal/rois_cc200/MaxMun_d_0051329_rois_cc200.1D ...\n"
          ]
        },
        {
          "output_type": "stream",
          "name": "stderr",
          "text": [
            " ...done. (0 seconds, 0 min)\n"
          ]
        },
        {
          "output_type": "stream",
          "name": "stdout",
          "text": [
            "Downloading data from https://s3.amazonaws.com/fcp-indi/data/Projects/ABIDE_Initiative/Outputs/cpac/filt_noglobal/rois_cc200/MaxMun_d_0051330_rois_cc200.1D ...\n"
          ]
        },
        {
          "output_type": "stream",
          "name": "stderr",
          "text": [
            " ...done. (0 seconds, 0 min)\n"
          ]
        },
        {
          "output_type": "stream",
          "name": "stdout",
          "text": [
            "Downloading data from https://s3.amazonaws.com/fcp-indi/data/Projects/ABIDE_Initiative/Outputs/cpac/filt_noglobal/rois_cc200/MaxMun_d_0051331_rois_cc200.1D ...\n"
          ]
        },
        {
          "output_type": "stream",
          "name": "stderr",
          "text": [
            " ...done. (0 seconds, 0 min)\n"
          ]
        },
        {
          "output_type": "stream",
          "name": "stdout",
          "text": [
            "Downloading data from https://s3.amazonaws.com/fcp-indi/data/Projects/ABIDE_Initiative/Outputs/cpac/filt_noglobal/rois_cc200/MaxMun_c_0051332_rois_cc200.1D ...\n"
          ]
        },
        {
          "output_type": "stream",
          "name": "stderr",
          "text": [
            " ...done. (0 seconds, 0 min)\n"
          ]
        },
        {
          "output_type": "stream",
          "name": "stdout",
          "text": [
            "Downloading data from https://s3.amazonaws.com/fcp-indi/data/Projects/ABIDE_Initiative/Outputs/cpac/filt_noglobal/rois_cc200/MaxMun_c_0051333_rois_cc200.1D ...\n"
          ]
        },
        {
          "output_type": "stream",
          "name": "stderr",
          "text": [
            " ...done. (0 seconds, 0 min)\n"
          ]
        },
        {
          "output_type": "stream",
          "name": "stdout",
          "text": [
            "Downloading data from https://s3.amazonaws.com/fcp-indi/data/Projects/ABIDE_Initiative/Outputs/cpac/filt_noglobal/rois_cc200/MaxMun_c_0051334_rois_cc200.1D ...\n"
          ]
        },
        {
          "output_type": "stream",
          "name": "stderr",
          "text": [
            " ...done. (0 seconds, 0 min)\n"
          ]
        },
        {
          "output_type": "stream",
          "name": "stdout",
          "text": [
            "Downloading data from https://s3.amazonaws.com/fcp-indi/data/Projects/ABIDE_Initiative/Outputs/cpac/filt_noglobal/rois_cc200/MaxMun_c_0051335_rois_cc200.1D ...\n"
          ]
        },
        {
          "output_type": "stream",
          "name": "stderr",
          "text": [
            " ...done. (0 seconds, 0 min)\n"
          ]
        },
        {
          "output_type": "stream",
          "name": "stdout",
          "text": [
            "Downloading data from https://s3.amazonaws.com/fcp-indi/data/Projects/ABIDE_Initiative/Outputs/cpac/filt_noglobal/rois_cc200/MaxMun_c_0051336_rois_cc200.1D ...\n"
          ]
        },
        {
          "output_type": "stream",
          "name": "stderr",
          "text": [
            " ...done. (0 seconds, 0 min)\n"
          ]
        },
        {
          "output_type": "stream",
          "name": "stdout",
          "text": [
            "Downloading data from https://s3.amazonaws.com/fcp-indi/data/Projects/ABIDE_Initiative/Outputs/cpac/filt_noglobal/rois_cc200/MaxMun_c_0051338_rois_cc200.1D ...\n"
          ]
        },
        {
          "output_type": "stream",
          "name": "stderr",
          "text": [
            " ...done. (0 seconds, 0 min)\n"
          ]
        },
        {
          "output_type": "stream",
          "name": "stdout",
          "text": [
            "Downloading data from https://s3.amazonaws.com/fcp-indi/data/Projects/ABIDE_Initiative/Outputs/cpac/filt_noglobal/rois_cc200/MaxMun_c_0051339_rois_cc200.1D ...\n"
          ]
        },
        {
          "output_type": "stream",
          "name": "stderr",
          "text": [
            " ...done. (0 seconds, 0 min)\n"
          ]
        },
        {
          "output_type": "stream",
          "name": "stdout",
          "text": [
            "Downloading data from https://s3.amazonaws.com/fcp-indi/data/Projects/ABIDE_Initiative/Outputs/cpac/filt_noglobal/rois_cc200/MaxMun_c_0051340_rois_cc200.1D ...\n"
          ]
        },
        {
          "output_type": "stream",
          "name": "stderr",
          "text": [
            " ...done. (0 seconds, 0 min)\n"
          ]
        },
        {
          "output_type": "stream",
          "name": "stdout",
          "text": [
            "Downloading data from https://s3.amazonaws.com/fcp-indi/data/Projects/ABIDE_Initiative/Outputs/cpac/filt_noglobal/rois_cc200/MaxMun_c_0051341_rois_cc200.1D ...\n"
          ]
        },
        {
          "output_type": "stream",
          "name": "stderr",
          "text": [
            " ...done. (0 seconds, 0 min)\n"
          ]
        },
        {
          "output_type": "stream",
          "name": "stdout",
          "text": [
            "Downloading data from https://s3.amazonaws.com/fcp-indi/data/Projects/ABIDE_Initiative/Outputs/cpac/filt_noglobal/rois_cc200/MaxMun_c_0051342_rois_cc200.1D ...\n"
          ]
        },
        {
          "output_type": "stream",
          "name": "stderr",
          "text": [
            " ...done. (0 seconds, 0 min)\n"
          ]
        },
        {
          "output_type": "stream",
          "name": "stdout",
          "text": [
            "Downloading data from https://s3.amazonaws.com/fcp-indi/data/Projects/ABIDE_Initiative/Outputs/cpac/filt_noglobal/rois_cc200/MaxMun_c_0051343_rois_cc200.1D ...\n"
          ]
        },
        {
          "output_type": "stream",
          "name": "stderr",
          "text": [
            " ...done. (0 seconds, 0 min)\n"
          ]
        },
        {
          "output_type": "stream",
          "name": "stdout",
          "text": [
            "Downloading data from https://s3.amazonaws.com/fcp-indi/data/Projects/ABIDE_Initiative/Outputs/cpac/filt_noglobal/rois_cc200/MaxMun_c_0051344_rois_cc200.1D ...\n"
          ]
        },
        {
          "output_type": "stream",
          "name": "stderr",
          "text": [
            " ...done. (0 seconds, 0 min)\n"
          ]
        },
        {
          "output_type": "stream",
          "name": "stdout",
          "text": [
            "Downloading data from https://s3.amazonaws.com/fcp-indi/data/Projects/ABIDE_Initiative/Outputs/cpac/filt_noglobal/rois_cc200/MaxMun_c_0051345_rois_cc200.1D ...\n"
          ]
        },
        {
          "output_type": "stream",
          "name": "stderr",
          "text": [
            " ...done. (0 seconds, 0 min)\n"
          ]
        },
        {
          "output_type": "stream",
          "name": "stdout",
          "text": [
            "Downloading data from https://s3.amazonaws.com/fcp-indi/data/Projects/ABIDE_Initiative/Outputs/cpac/filt_noglobal/rois_cc200/MaxMun_c_0051346_rois_cc200.1D ...\n"
          ]
        },
        {
          "output_type": "stream",
          "name": "stderr",
          "text": [
            " ...done. (0 seconds, 0 min)\n"
          ]
        },
        {
          "output_type": "stream",
          "name": "stdout",
          "text": [
            "Downloading data from https://s3.amazonaws.com/fcp-indi/data/Projects/ABIDE_Initiative/Outputs/cpac/filt_noglobal/rois_cc200/MaxMun_c_0051347_rois_cc200.1D ...\n"
          ]
        },
        {
          "output_type": "stream",
          "name": "stderr",
          "text": [
            " ...done. (0 seconds, 0 min)\n"
          ]
        },
        {
          "output_type": "stream",
          "name": "stdout",
          "text": [
            "Downloading data from https://s3.amazonaws.com/fcp-indi/data/Projects/ABIDE_Initiative/Outputs/cpac/filt_noglobal/rois_cc200/MaxMun_c_0051348_rois_cc200.1D ...\n"
          ]
        },
        {
          "output_type": "stream",
          "name": "stderr",
          "text": [
            " ...done. (0 seconds, 0 min)\n"
          ]
        },
        {
          "output_type": "stream",
          "name": "stdout",
          "text": [
            "Downloading data from https://s3.amazonaws.com/fcp-indi/data/Projects/ABIDE_Initiative/Outputs/cpac/filt_noglobal/rois_cc200/MaxMun_d_0051349_rois_cc200.1D ...\n"
          ]
        },
        {
          "output_type": "stream",
          "name": "stderr",
          "text": [
            " ...done. (0 seconds, 0 min)\n"
          ]
        },
        {
          "output_type": "stream",
          "name": "stdout",
          "text": [
            "Downloading data from https://s3.amazonaws.com/fcp-indi/data/Projects/ABIDE_Initiative/Outputs/cpac/filt_noglobal/rois_cc200/MaxMun_d_0051350_rois_cc200.1D ...\n"
          ]
        },
        {
          "output_type": "stream",
          "name": "stderr",
          "text": [
            " ...done. (0 seconds, 0 min)\n"
          ]
        },
        {
          "output_type": "stream",
          "name": "stdout",
          "text": [
            "Downloading data from https://s3.amazonaws.com/fcp-indi/data/Projects/ABIDE_Initiative/Outputs/cpac/filt_noglobal/rois_cc200/MaxMun_d_0051351_rois_cc200.1D ...\n"
          ]
        },
        {
          "output_type": "stream",
          "name": "stderr",
          "text": [
            " ...done. (0 seconds, 0 min)\n"
          ]
        },
        {
          "output_type": "stream",
          "name": "stdout",
          "text": [
            "Downloading data from https://s3.amazonaws.com/fcp-indi/data/Projects/ABIDE_Initiative/Outputs/cpac/filt_noglobal/rois_cc200/MaxMun_d_0051352_rois_cc200.1D ...\n"
          ]
        },
        {
          "output_type": "stream",
          "name": "stderr",
          "text": [
            " ...done. (0 seconds, 0 min)\n"
          ]
        },
        {
          "output_type": "stream",
          "name": "stdout",
          "text": [
            "Downloading data from https://s3.amazonaws.com/fcp-indi/data/Projects/ABIDE_Initiative/Outputs/cpac/filt_noglobal/rois_cc200/MaxMun_d_0051353_rois_cc200.1D ...\n"
          ]
        },
        {
          "output_type": "stream",
          "name": "stderr",
          "text": [
            " ...done. (0 seconds, 0 min)\n"
          ]
        },
        {
          "output_type": "stream",
          "name": "stdout",
          "text": [
            "Downloading data from https://s3.amazonaws.com/fcp-indi/data/Projects/ABIDE_Initiative/Outputs/cpac/filt_noglobal/rois_cc200/MaxMun_d_0051354_rois_cc200.1D ...\n"
          ]
        },
        {
          "output_type": "stream",
          "name": "stderr",
          "text": [
            " ...done. (0 seconds, 0 min)\n"
          ]
        },
        {
          "output_type": "stream",
          "name": "stdout",
          "text": [
            "Downloading data from https://s3.amazonaws.com/fcp-indi/data/Projects/ABIDE_Initiative/Outputs/cpac/filt_noglobal/rois_cc200/MaxMun_d_0051355_rois_cc200.1D ...\n"
          ]
        },
        {
          "output_type": "stream",
          "name": "stderr",
          "text": [
            " ...done. (0 seconds, 0 min)\n"
          ]
        },
        {
          "output_type": "stream",
          "name": "stdout",
          "text": [
            "Downloading data from https://s3.amazonaws.com/fcp-indi/data/Projects/ABIDE_Initiative/Outputs/cpac/filt_noglobal/rois_cc200/MaxMun_d_0051356_rois_cc200.1D ...\n"
          ]
        },
        {
          "output_type": "stream",
          "name": "stderr",
          "text": [
            " ...done. (0 seconds, 0 min)\n"
          ]
        },
        {
          "output_type": "stream",
          "name": "stdout",
          "text": [
            "Downloading data from https://s3.amazonaws.com/fcp-indi/data/Projects/ABIDE_Initiative/Outputs/cpac/filt_noglobal/rois_cc200/MaxMun_d_0051357_rois_cc200.1D ...\n"
          ]
        },
        {
          "output_type": "stream",
          "name": "stderr",
          "text": [
            " ...done. (0 seconds, 0 min)\n"
          ]
        },
        {
          "output_type": "stream",
          "name": "stdout",
          "text": [
            "Downloading data from https://s3.amazonaws.com/fcp-indi/data/Projects/ABIDE_Initiative/Outputs/cpac/filt_noglobal/rois_cc200/MaxMun_d_0051358_rois_cc200.1D ...\n"
          ]
        },
        {
          "output_type": "stream",
          "name": "stderr",
          "text": [
            " ...done. (0 seconds, 0 min)\n"
          ]
        },
        {
          "output_type": "stream",
          "name": "stdout",
          "text": [
            "Downloading data from https://s3.amazonaws.com/fcp-indi/data/Projects/ABIDE_Initiative/Outputs/cpac/filt_noglobal/rois_cc200/MaxMun_d_0051359_rois_cc200.1D ...\n"
          ]
        },
        {
          "output_type": "stream",
          "name": "stderr",
          "text": [
            " ...done. (0 seconds, 0 min)\n"
          ]
        },
        {
          "output_type": "stream",
          "name": "stdout",
          "text": [
            "Downloading data from https://s3.amazonaws.com/fcp-indi/data/Projects/ABIDE_Initiative/Outputs/cpac/filt_noglobal/rois_cc200/MaxMun_d_0051360_rois_cc200.1D ...\n"
          ]
        },
        {
          "output_type": "stream",
          "name": "stderr",
          "text": [
            " ...done. (0 seconds, 0 min)\n"
          ]
        },
        {
          "output_type": "stream",
          "name": "stdout",
          "text": [
            "Downloading data from https://s3.amazonaws.com/fcp-indi/data/Projects/ABIDE_Initiative/Outputs/cpac/filt_noglobal/rois_cc200/MaxMun_d_0051361_rois_cc200.1D ...\n"
          ]
        },
        {
          "output_type": "stream",
          "name": "stderr",
          "text": [
            " ...done. (0 seconds, 0 min)\n"
          ]
        },
        {
          "output_type": "stream",
          "name": "stdout",
          "text": [
            "Downloading data from https://s3.amazonaws.com/fcp-indi/data/Projects/ABIDE_Initiative/Outputs/cpac/filt_noglobal/rois_cc200/MaxMun_a_0051362_rois_cc200.1D ...\n"
          ]
        },
        {
          "output_type": "stream",
          "name": "stderr",
          "text": [
            " ...done. (0 seconds, 0 min)\n"
          ]
        },
        {
          "output_type": "stream",
          "name": "stdout",
          "text": [
            "Downloading data from https://s3.amazonaws.com/fcp-indi/data/Projects/ABIDE_Initiative/Outputs/cpac/filt_noglobal/rois_cc200/MaxMun_a_0051363_rois_cc200.1D ...\n"
          ]
        },
        {
          "output_type": "stream",
          "name": "stderr",
          "text": [
            " ...done. (0 seconds, 0 min)\n"
          ]
        },
        {
          "output_type": "stream",
          "name": "stdout",
          "text": [
            "Downloading data from https://s3.amazonaws.com/fcp-indi/data/Projects/ABIDE_Initiative/Outputs/cpac/filt_noglobal/rois_cc200/MaxMun_a_0051364_rois_cc200.1D ...\n"
          ]
        },
        {
          "output_type": "stream",
          "name": "stderr",
          "text": [
            " ...done. (0 seconds, 0 min)\n"
          ]
        },
        {
          "output_type": "stream",
          "name": "stdout",
          "text": [
            "Downloading data from https://s3.amazonaws.com/fcp-indi/data/Projects/ABIDE_Initiative/Outputs/cpac/filt_noglobal/rois_cc200/MaxMun_a_0051365_rois_cc200.1D ...\n"
          ]
        },
        {
          "output_type": "stream",
          "name": "stderr",
          "text": [
            " ...done. (0 seconds, 0 min)\n"
          ]
        },
        {
          "output_type": "stream",
          "name": "stdout",
          "text": [
            "Downloading data from https://s3.amazonaws.com/fcp-indi/data/Projects/ABIDE_Initiative/Outputs/cpac/filt_noglobal/rois_cc200/MaxMun_a_0051369_rois_cc200.1D ...\n"
          ]
        },
        {
          "output_type": "stream",
          "name": "stderr",
          "text": [
            " ...done. (0 seconds, 0 min)\n"
          ]
        },
        {
          "output_type": "stream",
          "name": "stdout",
          "text": [
            "Downloading data from https://s3.amazonaws.com/fcp-indi/data/Projects/ABIDE_Initiative/Outputs/cpac/filt_noglobal/rois_cc200/MaxMun_a_0051370_rois_cc200.1D ...\n"
          ]
        },
        {
          "output_type": "stream",
          "name": "stderr",
          "text": [
            " ...done. (0 seconds, 0 min)\n"
          ]
        },
        {
          "output_type": "stream",
          "name": "stdout",
          "text": [
            "Downloading data from https://s3.amazonaws.com/fcp-indi/data/Projects/ABIDE_Initiative/Outputs/cpac/filt_noglobal/rois_cc200/MaxMun_a_0051373_rois_cc200.1D ...\n"
          ]
        },
        {
          "output_type": "stream",
          "name": "stderr",
          "text": [
            " ...done. (0 seconds, 0 min)\n"
          ]
        },
        {
          "output_type": "stream",
          "name": "stdout",
          "text": [
            "Downloading data from https://s3.amazonaws.com/fcp-indi/data/Projects/ABIDE_Initiative/Outputs/cpac/filt_noglobal/rois_cc200/Caltech_0051456_rois_cc200.1D ...\n"
          ]
        },
        {
          "output_type": "stream",
          "name": "stderr",
          "text": [
            " ...done. (0 seconds, 0 min)\n"
          ]
        },
        {
          "output_type": "stream",
          "name": "stdout",
          "text": [
            "Downloading data from https://s3.amazonaws.com/fcp-indi/data/Projects/ABIDE_Initiative/Outputs/cpac/filt_noglobal/rois_cc200/Caltech_0051457_rois_cc200.1D ...\n"
          ]
        },
        {
          "output_type": "stream",
          "name": "stderr",
          "text": [
            " ...done. (0 seconds, 0 min)\n"
          ]
        },
        {
          "output_type": "stream",
          "name": "stdout",
          "text": [
            "Downloading data from https://s3.amazonaws.com/fcp-indi/data/Projects/ABIDE_Initiative/Outputs/cpac/filt_noglobal/rois_cc200/Caltech_0051458_rois_cc200.1D ...\n"
          ]
        },
        {
          "output_type": "stream",
          "name": "stderr",
          "text": [
            " ...done. (0 seconds, 0 min)\n"
          ]
        },
        {
          "output_type": "stream",
          "name": "stdout",
          "text": [
            "Downloading data from https://s3.amazonaws.com/fcp-indi/data/Projects/ABIDE_Initiative/Outputs/cpac/filt_noglobal/rois_cc200/Caltech_0051459_rois_cc200.1D ...\n"
          ]
        },
        {
          "output_type": "stream",
          "name": "stderr",
          "text": [
            " ...done. (0 seconds, 0 min)\n"
          ]
        },
        {
          "output_type": "stream",
          "name": "stdout",
          "text": [
            "Downloading data from https://s3.amazonaws.com/fcp-indi/data/Projects/ABIDE_Initiative/Outputs/cpac/filt_noglobal/rois_cc200/Caltech_0051460_rois_cc200.1D ...\n"
          ]
        },
        {
          "output_type": "stream",
          "name": "stderr",
          "text": [
            " ...done. (0 seconds, 0 min)\n"
          ]
        },
        {
          "output_type": "stream",
          "name": "stdout",
          "text": [
            "Downloading data from https://s3.amazonaws.com/fcp-indi/data/Projects/ABIDE_Initiative/Outputs/cpac/filt_noglobal/rois_cc200/Caltech_0051461_rois_cc200.1D ...\n"
          ]
        },
        {
          "output_type": "stream",
          "name": "stderr",
          "text": [
            " ...done. (0 seconds, 0 min)\n"
          ]
        },
        {
          "output_type": "stream",
          "name": "stdout",
          "text": [
            "Downloading data from https://s3.amazonaws.com/fcp-indi/data/Projects/ABIDE_Initiative/Outputs/cpac/filt_noglobal/rois_cc200/Caltech_0051462_rois_cc200.1D ...\n"
          ]
        },
        {
          "output_type": "stream",
          "name": "stderr",
          "text": [
            " ...done. (0 seconds, 0 min)\n"
          ]
        },
        {
          "output_type": "stream",
          "name": "stdout",
          "text": [
            "Downloading data from https://s3.amazonaws.com/fcp-indi/data/Projects/ABIDE_Initiative/Outputs/cpac/filt_noglobal/rois_cc200/Caltech_0051463_rois_cc200.1D ...\n"
          ]
        },
        {
          "output_type": "stream",
          "name": "stderr",
          "text": [
            " ...done. (0 seconds, 0 min)\n"
          ]
        },
        {
          "output_type": "stream",
          "name": "stdout",
          "text": [
            "Downloading data from https://s3.amazonaws.com/fcp-indi/data/Projects/ABIDE_Initiative/Outputs/cpac/filt_noglobal/rois_cc200/Caltech_0051464_rois_cc200.1D ...\n"
          ]
        },
        {
          "output_type": "stream",
          "name": "stderr",
          "text": [
            " ...done. (0 seconds, 0 min)\n"
          ]
        },
        {
          "output_type": "stream",
          "name": "stdout",
          "text": [
            "Downloading data from https://s3.amazonaws.com/fcp-indi/data/Projects/ABIDE_Initiative/Outputs/cpac/filt_noglobal/rois_cc200/Caltech_0051465_rois_cc200.1D ...\n"
          ]
        },
        {
          "output_type": "stream",
          "name": "stderr",
          "text": [
            " ...done. (0 seconds, 0 min)\n"
          ]
        },
        {
          "output_type": "stream",
          "name": "stdout",
          "text": [
            "Downloading data from https://s3.amazonaws.com/fcp-indi/data/Projects/ABIDE_Initiative/Outputs/cpac/filt_noglobal/rois_cc200/Caltech_0051466_rois_cc200.1D ...\n"
          ]
        },
        {
          "output_type": "stream",
          "name": "stderr",
          "text": [
            " ...done. (0 seconds, 0 min)\n"
          ]
        },
        {
          "output_type": "stream",
          "name": "stdout",
          "text": [
            "Downloading data from https://s3.amazonaws.com/fcp-indi/data/Projects/ABIDE_Initiative/Outputs/cpac/filt_noglobal/rois_cc200/Caltech_0051467_rois_cc200.1D ...\n"
          ]
        },
        {
          "output_type": "stream",
          "name": "stderr",
          "text": [
            " ...done. (0 seconds, 0 min)\n"
          ]
        },
        {
          "output_type": "stream",
          "name": "stdout",
          "text": [
            "Downloading data from https://s3.amazonaws.com/fcp-indi/data/Projects/ABIDE_Initiative/Outputs/cpac/filt_noglobal/rois_cc200/Caltech_0051468_rois_cc200.1D ...\n"
          ]
        },
        {
          "output_type": "stream",
          "name": "stderr",
          "text": [
            " ...done. (0 seconds, 0 min)\n"
          ]
        },
        {
          "output_type": "stream",
          "name": "stdout",
          "text": [
            "Downloading data from https://s3.amazonaws.com/fcp-indi/data/Projects/ABIDE_Initiative/Outputs/cpac/filt_noglobal/rois_cc200/Caltech_0051469_rois_cc200.1D ...\n"
          ]
        },
        {
          "output_type": "stream",
          "name": "stderr",
          "text": [
            " ...done. (0 seconds, 0 min)\n"
          ]
        },
        {
          "output_type": "stream",
          "name": "stdout",
          "text": [
            "Downloading data from https://s3.amazonaws.com/fcp-indi/data/Projects/ABIDE_Initiative/Outputs/cpac/filt_noglobal/rois_cc200/Caltech_0051470_rois_cc200.1D ...\n"
          ]
        },
        {
          "output_type": "stream",
          "name": "stderr",
          "text": [
            " ...done. (0 seconds, 0 min)\n"
          ]
        },
        {
          "output_type": "stream",
          "name": "stdout",
          "text": [
            "Downloading data from https://s3.amazonaws.com/fcp-indi/data/Projects/ABIDE_Initiative/Outputs/cpac/filt_noglobal/rois_cc200/Caltech_0051471_rois_cc200.1D ...\n"
          ]
        },
        {
          "output_type": "stream",
          "name": "stderr",
          "text": [
            " ...done. (0 seconds, 0 min)\n"
          ]
        },
        {
          "output_type": "stream",
          "name": "stdout",
          "text": [
            "Downloading data from https://s3.amazonaws.com/fcp-indi/data/Projects/ABIDE_Initiative/Outputs/cpac/filt_noglobal/rois_cc200/Caltech_0051472_rois_cc200.1D ...\n"
          ]
        },
        {
          "output_type": "stream",
          "name": "stderr",
          "text": [
            " ...done. (0 seconds, 0 min)\n"
          ]
        },
        {
          "output_type": "stream",
          "name": "stdout",
          "text": [
            "Downloading data from https://s3.amazonaws.com/fcp-indi/data/Projects/ABIDE_Initiative/Outputs/cpac/filt_noglobal/rois_cc200/Caltech_0051473_rois_cc200.1D ...\n"
          ]
        },
        {
          "output_type": "stream",
          "name": "stderr",
          "text": [
            " ...done. (0 seconds, 0 min)\n"
          ]
        },
        {
          "output_type": "stream",
          "name": "stdout",
          "text": [
            "Downloading data from https://s3.amazonaws.com/fcp-indi/data/Projects/ABIDE_Initiative/Outputs/cpac/filt_noglobal/rois_cc200/Caltech_0051474_rois_cc200.1D ...\n"
          ]
        },
        {
          "output_type": "stream",
          "name": "stderr",
          "text": [
            " ...done. (0 seconds, 0 min)\n"
          ]
        },
        {
          "output_type": "stream",
          "name": "stdout",
          "text": [
            "Downloading data from https://s3.amazonaws.com/fcp-indi/data/Projects/ABIDE_Initiative/Outputs/cpac/filt_noglobal/rois_cc200/Caltech_0051476_rois_cc200.1D ...\n"
          ]
        },
        {
          "output_type": "stream",
          "name": "stderr",
          "text": [
            " ...done. (0 seconds, 0 min)\n"
          ]
        },
        {
          "output_type": "stream",
          "name": "stdout",
          "text": [
            "Downloading data from https://s3.amazonaws.com/fcp-indi/data/Projects/ABIDE_Initiative/Outputs/cpac/filt_noglobal/rois_cc200/Caltech_0051477_rois_cc200.1D ...\n"
          ]
        },
        {
          "output_type": "stream",
          "name": "stderr",
          "text": [
            " ...done. (0 seconds, 0 min)\n"
          ]
        },
        {
          "output_type": "stream",
          "name": "stdout",
          "text": [
            "Downloading data from https://s3.amazonaws.com/fcp-indi/data/Projects/ABIDE_Initiative/Outputs/cpac/filt_noglobal/rois_cc200/Caltech_0051478_rois_cc200.1D ...\n"
          ]
        },
        {
          "output_type": "stream",
          "name": "stderr",
          "text": [
            " ...done. (0 seconds, 0 min)\n"
          ]
        },
        {
          "output_type": "stream",
          "name": "stdout",
          "text": [
            "Downloading data from https://s3.amazonaws.com/fcp-indi/data/Projects/ABIDE_Initiative/Outputs/cpac/filt_noglobal/rois_cc200/Caltech_0051479_rois_cc200.1D ...\n"
          ]
        },
        {
          "output_type": "stream",
          "name": "stderr",
          "text": [
            " ...done. (0 seconds, 0 min)\n"
          ]
        },
        {
          "output_type": "stream",
          "name": "stdout",
          "text": [
            "Downloading data from https://s3.amazonaws.com/fcp-indi/data/Projects/ABIDE_Initiative/Outputs/cpac/filt_noglobal/rois_cc200/Caltech_0051480_rois_cc200.1D ...\n"
          ]
        },
        {
          "output_type": "stream",
          "name": "stderr",
          "text": [
            " ...done. (0 seconds, 0 min)\n"
          ]
        },
        {
          "output_type": "stream",
          "name": "stdout",
          "text": [
            "Downloading data from https://s3.amazonaws.com/fcp-indi/data/Projects/ABIDE_Initiative/Outputs/cpac/filt_noglobal/rois_cc200/Caltech_0051481_rois_cc200.1D ...\n"
          ]
        },
        {
          "output_type": "stream",
          "name": "stderr",
          "text": [
            " ...done. (0 seconds, 0 min)\n"
          ]
        },
        {
          "output_type": "stream",
          "name": "stdout",
          "text": [
            "Downloading data from https://s3.amazonaws.com/fcp-indi/data/Projects/ABIDE_Initiative/Outputs/cpac/filt_noglobal/rois_cc200/Caltech_0051482_rois_cc200.1D ...\n"
          ]
        },
        {
          "output_type": "stream",
          "name": "stderr",
          "text": [
            " ...done. (0 seconds, 0 min)\n"
          ]
        },
        {
          "output_type": "stream",
          "name": "stdout",
          "text": [
            "Downloading data from https://s3.amazonaws.com/fcp-indi/data/Projects/ABIDE_Initiative/Outputs/cpac/filt_noglobal/rois_cc200/Caltech_0051483_rois_cc200.1D ...\n"
          ]
        },
        {
          "output_type": "stream",
          "name": "stderr",
          "text": [
            " ...done. (0 seconds, 0 min)\n"
          ]
        },
        {
          "output_type": "stream",
          "name": "stdout",
          "text": [
            "Downloading data from https://s3.amazonaws.com/fcp-indi/data/Projects/ABIDE_Initiative/Outputs/cpac/filt_noglobal/rois_cc200/Caltech_0051484_rois_cc200.1D ...\n"
          ]
        },
        {
          "output_type": "stream",
          "name": "stderr",
          "text": [
            " ...done. (0 seconds, 0 min)\n"
          ]
        },
        {
          "output_type": "stream",
          "name": "stdout",
          "text": [
            "Downloading data from https://s3.amazonaws.com/fcp-indi/data/Projects/ABIDE_Initiative/Outputs/cpac/filt_noglobal/rois_cc200/Caltech_0051485_rois_cc200.1D ...\n"
          ]
        },
        {
          "output_type": "stream",
          "name": "stderr",
          "text": [
            " ...done. (0 seconds, 0 min)\n"
          ]
        },
        {
          "output_type": "stream",
          "name": "stdout",
          "text": [
            "Downloading data from https://s3.amazonaws.com/fcp-indi/data/Projects/ABIDE_Initiative/Outputs/cpac/filt_noglobal/rois_cc200/Caltech_0051486_rois_cc200.1D ...\n"
          ]
        },
        {
          "output_type": "stream",
          "name": "stderr",
          "text": [
            " ...done. (0 seconds, 0 min)\n"
          ]
        },
        {
          "output_type": "stream",
          "name": "stdout",
          "text": [
            "Downloading data from https://s3.amazonaws.com/fcp-indi/data/Projects/ABIDE_Initiative/Outputs/cpac/filt_noglobal/rois_cc200/Caltech_0051487_rois_cc200.1D ...\n"
          ]
        },
        {
          "output_type": "stream",
          "name": "stderr",
          "text": [
            " ...done. (0 seconds, 0 min)\n"
          ]
        },
        {
          "output_type": "stream",
          "name": "stdout",
          "text": [
            "Downloading data from https://s3.amazonaws.com/fcp-indi/data/Projects/ABIDE_Initiative/Outputs/cpac/filt_noglobal/rois_cc200/Caltech_0051488_rois_cc200.1D ...\n"
          ]
        },
        {
          "output_type": "stream",
          "name": "stderr",
          "text": [
            " ...done. (0 seconds, 0 min)\n"
          ]
        },
        {
          "output_type": "stream",
          "name": "stdout",
          "text": [
            "Downloading data from https://s3.amazonaws.com/fcp-indi/data/Projects/ABIDE_Initiative/Outputs/cpac/filt_noglobal/rois_cc200/Caltech_0051489_rois_cc200.1D ...\n"
          ]
        },
        {
          "output_type": "stream",
          "name": "stderr",
          "text": [
            " ...done. (0 seconds, 0 min)\n"
          ]
        },
        {
          "output_type": "stream",
          "name": "stdout",
          "text": [
            "Downloading data from https://s3.amazonaws.com/fcp-indi/data/Projects/ABIDE_Initiative/Outputs/cpac/filt_noglobal/rois_cc200/Caltech_0051490_rois_cc200.1D ...\n"
          ]
        },
        {
          "output_type": "stream",
          "name": "stderr",
          "text": [
            " ...done. (0 seconds, 0 min)\n"
          ]
        },
        {
          "output_type": "stream",
          "name": "stdout",
          "text": [
            "Downloading data from https://s3.amazonaws.com/fcp-indi/data/Projects/ABIDE_Initiative/Outputs/cpac/filt_noglobal/rois_cc200/Caltech_0051491_rois_cc200.1D ...\n"
          ]
        },
        {
          "output_type": "stream",
          "name": "stderr",
          "text": [
            " ...done. (0 seconds, 0 min)\n"
          ]
        },
        {
          "output_type": "stream",
          "name": "stdout",
          "text": [
            "Downloading data from https://s3.amazonaws.com/fcp-indi/data/Projects/ABIDE_Initiative/Outputs/cpac/filt_noglobal/rois_cc200/Caltech_0051492_rois_cc200.1D ...\n"
          ]
        },
        {
          "output_type": "stream",
          "name": "stderr",
          "text": [
            " ...done. (0 seconds, 0 min)\n"
          ]
        },
        {
          "output_type": "stream",
          "name": "stdout",
          "text": [
            "Downloading data from https://s3.amazonaws.com/fcp-indi/data/Projects/ABIDE_Initiative/Outputs/cpac/filt_noglobal/rois_cc200/Caltech_0051493_rois_cc200.1D ...\n"
          ]
        },
        {
          "output_type": "stream",
          "name": "stderr",
          "text": [
            " ...done. (0 seconds, 0 min)\n"
          ]
        },
        {
          "output_type": "stream",
          "name": "stdout",
          "text": [
            "Downloading data from https://s3.amazonaws.com/fcp-indi/data/Projects/ABIDE_Initiative/Outputs/cpac/filt_noglobal/rois_cc200/SBL_0051556_rois_cc200.1D ...\n"
          ]
        },
        {
          "output_type": "stream",
          "name": "stderr",
          "text": [
            " ...done. (0 seconds, 0 min)\n"
          ]
        },
        {
          "output_type": "stream",
          "name": "stdout",
          "text": [
            "Downloading data from https://s3.amazonaws.com/fcp-indi/data/Projects/ABIDE_Initiative/Outputs/cpac/filt_noglobal/rois_cc200/SBL_0051557_rois_cc200.1D ...\n"
          ]
        },
        {
          "output_type": "stream",
          "name": "stderr",
          "text": [
            " ...done. (0 seconds, 0 min)\n"
          ]
        },
        {
          "output_type": "stream",
          "name": "stdout",
          "text": [
            "Downloading data from https://s3.amazonaws.com/fcp-indi/data/Projects/ABIDE_Initiative/Outputs/cpac/filt_noglobal/rois_cc200/SBL_0051558_rois_cc200.1D ...\n"
          ]
        },
        {
          "output_type": "stream",
          "name": "stderr",
          "text": [
            " ...done. (0 seconds, 0 min)\n"
          ]
        },
        {
          "output_type": "stream",
          "name": "stdout",
          "text": [
            "Downloading data from https://s3.amazonaws.com/fcp-indi/data/Projects/ABIDE_Initiative/Outputs/cpac/filt_noglobal/rois_cc200/SBL_0051559_rois_cc200.1D ...\n"
          ]
        },
        {
          "output_type": "stream",
          "name": "stderr",
          "text": [
            " ...done. (0 seconds, 0 min)\n"
          ]
        },
        {
          "output_type": "stream",
          "name": "stdout",
          "text": [
            "Downloading data from https://s3.amazonaws.com/fcp-indi/data/Projects/ABIDE_Initiative/Outputs/cpac/filt_noglobal/rois_cc200/SBL_0051560_rois_cc200.1D ...\n"
          ]
        },
        {
          "output_type": "stream",
          "name": "stderr",
          "text": [
            " ...done. (0 seconds, 0 min)\n"
          ]
        },
        {
          "output_type": "stream",
          "name": "stdout",
          "text": [
            "Downloading data from https://s3.amazonaws.com/fcp-indi/data/Projects/ABIDE_Initiative/Outputs/cpac/filt_noglobal/rois_cc200/SBL_0051561_rois_cc200.1D ...\n"
          ]
        },
        {
          "output_type": "stream",
          "name": "stderr",
          "text": [
            " ...done. (0 seconds, 0 min)\n"
          ]
        },
        {
          "output_type": "stream",
          "name": "stdout",
          "text": [
            "Downloading data from https://s3.amazonaws.com/fcp-indi/data/Projects/ABIDE_Initiative/Outputs/cpac/filt_noglobal/rois_cc200/SBL_0051562_rois_cc200.1D ...\n"
          ]
        },
        {
          "output_type": "stream",
          "name": "stderr",
          "text": [
            " ...done. (0 seconds, 0 min)\n"
          ]
        },
        {
          "output_type": "stream",
          "name": "stdout",
          "text": [
            "Downloading data from https://s3.amazonaws.com/fcp-indi/data/Projects/ABIDE_Initiative/Outputs/cpac/filt_noglobal/rois_cc200/SBL_0051563_rois_cc200.1D ...\n"
          ]
        },
        {
          "output_type": "stream",
          "name": "stderr",
          "text": [
            " ...done. (0 seconds, 0 min)\n"
          ]
        },
        {
          "output_type": "stream",
          "name": "stdout",
          "text": [
            "Downloading data from https://s3.amazonaws.com/fcp-indi/data/Projects/ABIDE_Initiative/Outputs/cpac/filt_noglobal/rois_cc200/SBL_0051564_rois_cc200.1D ...\n"
          ]
        },
        {
          "output_type": "stream",
          "name": "stderr",
          "text": [
            " ...done. (0 seconds, 0 min)\n"
          ]
        },
        {
          "output_type": "stream",
          "name": "stdout",
          "text": [
            "Downloading data from https://s3.amazonaws.com/fcp-indi/data/Projects/ABIDE_Initiative/Outputs/cpac/filt_noglobal/rois_cc200/SBL_0051565_rois_cc200.1D ...\n"
          ]
        },
        {
          "output_type": "stream",
          "name": "stderr",
          "text": [
            " ...done. (0 seconds, 0 min)\n"
          ]
        },
        {
          "output_type": "stream",
          "name": "stdout",
          "text": [
            "Downloading data from https://s3.amazonaws.com/fcp-indi/data/Projects/ABIDE_Initiative/Outputs/cpac/filt_noglobal/rois_cc200/SBL_0051566_rois_cc200.1D ...\n"
          ]
        },
        {
          "output_type": "stream",
          "name": "stderr",
          "text": [
            " ...done. (0 seconds, 0 min)\n"
          ]
        },
        {
          "output_type": "stream",
          "name": "stdout",
          "text": [
            "Downloading data from https://s3.amazonaws.com/fcp-indi/data/Projects/ABIDE_Initiative/Outputs/cpac/filt_noglobal/rois_cc200/SBL_0051567_rois_cc200.1D ...\n"
          ]
        },
        {
          "output_type": "stream",
          "name": "stderr",
          "text": [
            " ...done. (0 seconds, 0 min)\n"
          ]
        },
        {
          "output_type": "stream",
          "name": "stdout",
          "text": [
            "Downloading data from https://s3.amazonaws.com/fcp-indi/data/Projects/ABIDE_Initiative/Outputs/cpac/filt_noglobal/rois_cc200/SBL_0051568_rois_cc200.1D ...\n"
          ]
        },
        {
          "output_type": "stream",
          "name": "stderr",
          "text": [
            " ...done. (0 seconds, 0 min)\n"
          ]
        },
        {
          "output_type": "stream",
          "name": "stdout",
          "text": [
            "Downloading data from https://s3.amazonaws.com/fcp-indi/data/Projects/ABIDE_Initiative/Outputs/cpac/filt_noglobal/rois_cc200/SBL_0051569_rois_cc200.1D ...\n"
          ]
        },
        {
          "output_type": "stream",
          "name": "stderr",
          "text": [
            " ...done. (0 seconds, 0 min)\n"
          ]
        },
        {
          "output_type": "stream",
          "name": "stdout",
          "text": [
            "Downloading data from https://s3.amazonaws.com/fcp-indi/data/Projects/ABIDE_Initiative/Outputs/cpac/filt_noglobal/rois_cc200/SBL_0051570_rois_cc200.1D ...\n"
          ]
        },
        {
          "output_type": "stream",
          "name": "stderr",
          "text": [
            " ...done. (0 seconds, 0 min)\n"
          ]
        },
        {
          "output_type": "stream",
          "name": "stdout",
          "text": [
            "Downloading data from https://s3.amazonaws.com/fcp-indi/data/Projects/ABIDE_Initiative/Outputs/cpac/filt_noglobal/rois_cc200/SBL_0051571_rois_cc200.1D ...\n"
          ]
        },
        {
          "output_type": "stream",
          "name": "stderr",
          "text": [
            " ...done. (0 seconds, 0 min)\n"
          ]
        },
        {
          "output_type": "stream",
          "name": "stdout",
          "text": [
            "Downloading data from https://s3.amazonaws.com/fcp-indi/data/Projects/ABIDE_Initiative/Outputs/cpac/filt_noglobal/rois_cc200/SBL_0051572_rois_cc200.1D ...\n"
          ]
        },
        {
          "output_type": "stream",
          "name": "stderr",
          "text": [
            " ...done. (0 seconds, 0 min)\n"
          ]
        },
        {
          "output_type": "stream",
          "name": "stdout",
          "text": [
            "Downloading data from https://s3.amazonaws.com/fcp-indi/data/Projects/ABIDE_Initiative/Outputs/cpac/filt_noglobal/rois_cc200/SBL_0051573_rois_cc200.1D ...\n"
          ]
        },
        {
          "output_type": "stream",
          "name": "stderr",
          "text": [
            " ...done. (0 seconds, 0 min)\n"
          ]
        },
        {
          "output_type": "stream",
          "name": "stdout",
          "text": [
            "Downloading data from https://s3.amazonaws.com/fcp-indi/data/Projects/ABIDE_Initiative/Outputs/cpac/filt_noglobal/rois_cc200/SBL_0051574_rois_cc200.1D ...\n"
          ]
        },
        {
          "output_type": "stream",
          "name": "stderr",
          "text": [
            " ...done. (0 seconds, 0 min)\n"
          ]
        },
        {
          "output_type": "stream",
          "name": "stdout",
          "text": [
            "Downloading data from https://s3.amazonaws.com/fcp-indi/data/Projects/ABIDE_Initiative/Outputs/cpac/filt_noglobal/rois_cc200/SBL_0051575_rois_cc200.1D ...\n"
          ]
        },
        {
          "output_type": "stream",
          "name": "stderr",
          "text": [
            " ...done. (0 seconds, 0 min)\n"
          ]
        },
        {
          "output_type": "stream",
          "name": "stdout",
          "text": [
            "Downloading data from https://s3.amazonaws.com/fcp-indi/data/Projects/ABIDE_Initiative/Outputs/cpac/filt_noglobal/rois_cc200/SBL_0051576_rois_cc200.1D ...\n"
          ]
        },
        {
          "output_type": "stream",
          "name": "stderr",
          "text": [
            " ...done. (0 seconds, 0 min)\n"
          ]
        },
        {
          "output_type": "stream",
          "name": "stdout",
          "text": [
            "Downloading data from https://s3.amazonaws.com/fcp-indi/data/Projects/ABIDE_Initiative/Outputs/cpac/filt_noglobal/rois_cc200/SBL_0051577_rois_cc200.1D ...\n"
          ]
        },
        {
          "output_type": "stream",
          "name": "stderr",
          "text": [
            " ...done. (0 seconds, 0 min)\n"
          ]
        },
        {
          "output_type": "stream",
          "name": "stdout",
          "text": [
            "Downloading data from https://s3.amazonaws.com/fcp-indi/data/Projects/ABIDE_Initiative/Outputs/cpac/filt_noglobal/rois_cc200/SBL_0051578_rois_cc200.1D ...\n"
          ]
        },
        {
          "output_type": "stream",
          "name": "stderr",
          "text": [
            " ...done. (0 seconds, 0 min)\n"
          ]
        },
        {
          "output_type": "stream",
          "name": "stdout",
          "text": [
            "Downloading data from https://s3.amazonaws.com/fcp-indi/data/Projects/ABIDE_Initiative/Outputs/cpac/filt_noglobal/rois_cc200/SBL_0051579_rois_cc200.1D ...\n"
          ]
        },
        {
          "output_type": "stream",
          "name": "stderr",
          "text": [
            " ...done. (0 seconds, 0 min)\n"
          ]
        },
        {
          "output_type": "stream",
          "name": "stdout",
          "text": [
            "Downloading data from https://s3.amazonaws.com/fcp-indi/data/Projects/ABIDE_Initiative/Outputs/cpac/filt_noglobal/rois_cc200/SBL_0051580_rois_cc200.1D ...\n"
          ]
        },
        {
          "output_type": "stream",
          "name": "stderr",
          "text": [
            " ...done. (0 seconds, 0 min)\n"
          ]
        },
        {
          "output_type": "stream",
          "name": "stdout",
          "text": [
            "Downloading data from https://s3.amazonaws.com/fcp-indi/data/Projects/ABIDE_Initiative/Outputs/cpac/filt_noglobal/rois_cc200/SBL_0051581_rois_cc200.1D ...\n"
          ]
        },
        {
          "output_type": "stream",
          "name": "stderr",
          "text": [
            " ...done. (0 seconds, 0 min)\n"
          ]
        },
        {
          "output_type": "stream",
          "name": "stdout",
          "text": [
            "Downloading data from https://s3.amazonaws.com/fcp-indi/data/Projects/ABIDE_Initiative/Outputs/cpac/filt_noglobal/rois_cc200/SBL_0051582_rois_cc200.1D ...\n"
          ]
        },
        {
          "output_type": "stream",
          "name": "stderr",
          "text": [
            " ...done. (0 seconds, 0 min)\n"
          ]
        },
        {
          "output_type": "stream",
          "name": "stdout",
          "text": [
            "Downloading data from https://s3.amazonaws.com/fcp-indi/data/Projects/ABIDE_Initiative/Outputs/cpac/filt_noglobal/rois_cc200/SBL_0051583_rois_cc200.1D ...\n"
          ]
        },
        {
          "output_type": "stream",
          "name": "stderr",
          "text": [
            " ...done. (0 seconds, 0 min)\n"
          ]
        },
        {
          "output_type": "stream",
          "name": "stdout",
          "text": [
            "Downloading data from https://s3.amazonaws.com/fcp-indi/data/Projects/ABIDE_Initiative/Outputs/cpac/filt_noglobal/rois_cc200/SBL_0051584_rois_cc200.1D ...\n"
          ]
        },
        {
          "output_type": "stream",
          "name": "stderr",
          "text": [
            " ...done. (0 seconds, 0 min)\n"
          ]
        },
        {
          "output_type": "stream",
          "name": "stdout",
          "text": [
            "Downloading data from https://s3.amazonaws.com/fcp-indi/data/Projects/ABIDE_Initiative/Outputs/cpac/filt_noglobal/rois_cc200/SBL_0051585_rois_cc200.1D ...\n"
          ]
        },
        {
          "output_type": "stream",
          "name": "stderr",
          "text": [
            " ...done. (0 seconds, 0 min)\n"
          ]
        },
        {
          "output_type": "stream",
          "name": "stdout",
          "text": [
            "Downloading data from https://s3.amazonaws.com/fcp-indi/data/Projects/ABIDE_Initiative/Outputs/cpac/filt_noglobal/rois_cc200/MaxMun_a_0051606_rois_cc200.1D ...\n"
          ]
        },
        {
          "output_type": "stream",
          "name": "stderr",
          "text": [
            " ...done. (0 seconds, 0 min)\n"
          ]
        },
        {
          "output_type": "stream",
          "name": "stdout",
          "text": [
            "Downloading data from https://s3.amazonaws.com/fcp-indi/data/Projects/ABIDE_Initiative/Outputs/cpac/filt_noglobal/rois_cc200/MaxMun_a_0051607_rois_cc200.1D ...\n"
          ]
        },
        {
          "output_type": "stream",
          "name": "stderr",
          "text": [
            " ...done. (0 seconds, 0 min)\n"
          ]
        },
        {
          "output_type": "stream",
          "name": "stdout",
          "text": [
            "Reading timeseries file /content/BrainGNN/data/ABIDE_pcp/cpac/filt_noglobal/50128/Olin_0050128_rois_cc200.1D\n",
            "Reading timeseries file /content/BrainGNN/data/ABIDE_pcp/cpac/filt_noglobal/51203/UCLA_1_0051203_rois_cc200.1D\n",
            "Reading timeseries file /content/BrainGNN/data/ABIDE_pcp/cpac/filt_noglobal/50325/UM_1_0050325_rois_cc200.1D\n",
            "Reading timeseries file /content/BrainGNN/data/ABIDE_pcp/cpac/filt_noglobal/50117/Olin_0050117_rois_cc200.1D\n",
            "Reading timeseries file /content/BrainGNN/data/ABIDE_pcp/cpac/filt_noglobal/50573/Yale_0050573_rois_cc200.1D\n",
            "Reading timeseries file /content/BrainGNN/data/ABIDE_pcp/cpac/filt_noglobal/50741/Leuven_2_0050741_rois_cc200.1D\n",
            "Reading timeseries file /content/BrainGNN/data/ABIDE_pcp/cpac/filt_noglobal/50779/KKI_0050779_rois_cc200.1D\n",
            "Reading timeseries file /content/BrainGNN/data/ABIDE_pcp/cpac/filt_noglobal/51009/NYU_0051009_rois_cc200.1D\n",
            "Reading timeseries file /content/BrainGNN/data/ABIDE_pcp/cpac/filt_noglobal/50746/Leuven_2_0050746_rois_cc200.1D\n",
            "Reading timeseries file /content/BrainGNN/data/ABIDE_pcp/cpac/filt_noglobal/50574/Yale_0050574_rois_cc200.1D\n",
            "Reading timeseries file /content/BrainGNN/data/ABIDE_pcp/cpac/filt_noglobal/50110/Olin_0050110_rois_cc200.1D\n",
            "Reading timeseries file /content/BrainGNN/data/ABIDE_pcp/cpac/filt_noglobal/50322/UM_1_0050322_rois_cc200.1D\n",
            "Reading timeseries file /content/BrainGNN/data/ABIDE_pcp/cpac/filt_noglobal/51036/NYU_0051036_rois_cc200.1D\n",
            "Reading timeseries file /content/BrainGNN/data/ABIDE_pcp/cpac/filt_noglobal/51204/UCLA_1_0051204_rois_cc200.1D\n",
            "Reading timeseries file /content/BrainGNN/data/ABIDE_pcp/cpac/filt_noglobal/50119/Olin_0050119_rois_cc200.1D\n",
            "Reading timeseries file /content/BrainGNN/data/ABIDE_pcp/cpac/filt_noglobal/50126/Olin_0050126_rois_cc200.1D\n",
            "Reading timeseries file /content/BrainGNN/data/ABIDE_pcp/cpac/filt_noglobal/50314/UM_1_0050314_rois_cc200.1D\n",
            "Reading timeseries file /content/BrainGNN/data/ABIDE_pcp/cpac/filt_noglobal/51490/Caltech_0051490_rois_cc200.1D\n",
            "Reading timeseries file /content/BrainGNN/data/ABIDE_pcp/cpac/filt_noglobal/50784/KKI_0050784_rois_cc200.1D\n",
            "Reading timeseries file /content/BrainGNN/data/ABIDE_pcp/cpac/filt_noglobal/51464/Caltech_0051464_rois_cc200.1D\n",
            "Reading timeseries file /content/BrainGNN/data/ABIDE_pcp/cpac/filt_noglobal/51000/NYU_0051000_rois_cc200.1D\n",
            "Reading timeseries file /content/BrainGNN/data/ABIDE_pcp/cpac/filt_noglobal/51038/NYU_0051038_rois_cc200.1D\n",
            "Reading timeseries file /content/BrainGNN/data/ABIDE_pcp/cpac/filt_noglobal/50748/Leuven_2_0050748_rois_cc200.1D\n",
            "Reading timeseries file /content/BrainGNN/data/ABIDE_pcp/cpac/filt_noglobal/51235/UCLA_1_0051235_rois_cc200.1D\n",
            "Reading timeseries file /content/BrainGNN/data/ABIDE_pcp/cpac/filt_noglobal/51007/NYU_0051007_rois_cc200.1D\n",
            "Reading timeseries file /content/BrainGNN/data/ABIDE_pcp/cpac/filt_noglobal/51463/Caltech_0051463_rois_cc200.1D\n",
            "Reading timeseries file /content/BrainGNN/data/ABIDE_pcp/cpac/filt_noglobal/50783/KKI_0050783_rois_cc200.1D\n",
            "Reading timeseries file /content/BrainGNN/data/ABIDE_pcp/cpac/filt_noglobal/50777/KKI_0050777_rois_cc200.1D\n",
            "Reading timeseries file /content/BrainGNN/data/ABIDE_pcp/cpac/filt_noglobal/50313/UM_1_0050313_rois_cc200.1D\n",
            "Reading timeseries file /content/BrainGNN/data/ABIDE_pcp/cpac/filt_noglobal/50121/Olin_0050121_rois_cc200.1D\n",
            "Reading timeseries file /content/BrainGNN/data/ABIDE_pcp/cpac/filt_noglobal/51053/NYU_0051053_rois_cc200.1D\n",
            "Reading timeseries file /content/BrainGNN/data/ABIDE_pcp/cpac/filt_noglobal/51261/UCLA_1_0051261_rois_cc200.1D\n",
            "Reading timeseries file /content/BrainGNN/data/ABIDE_pcp/cpac/filt_noglobal/50723/Leuven_2_0050723_rois_cc200.1D\n",
            "Reading timeseries file /content/BrainGNN/data/ABIDE_pcp/cpac/filt_noglobal/50511/USM_0050511_rois_cc200.1D\n",
            "Reading timeseries file /content/BrainGNN/data/ABIDE_pcp/cpac/filt_noglobal/51295/UCLA_2_0051295_rois_cc200.1D\n",
            "Reading timeseries file /content/BrainGNN/data/ABIDE_pcp/cpac/filt_noglobal/50347/UM_1_0050347_rois_cc200.1D\n",
            "Reading timeseries file /content/BrainGNN/data/ABIDE_pcp/cpac/filt_noglobal/50982/NYU_0050982_rois_cc200.1D\n",
            "Reading timeseries file /content/BrainGNN/data/ABIDE_pcp/cpac/filt_noglobal/50976/NYU_0050976_rois_cc200.1D\n",
            "Reading timeseries file /content/BrainGNN/data/ABIDE_pcp/cpac/filt_noglobal/51098/NYU_0051098_rois_cc200.1D\n",
            "Reading timeseries file /content/BrainGNN/data/ABIDE_pcp/cpac/filt_noglobal/51292/UCLA_2_0051292_rois_cc200.1D\n",
            "Reading timeseries file /content/BrainGNN/data/ABIDE_pcp/cpac/filt_noglobal/50340/UM_1_0050340_rois_cc200.1D\n",
            "Reading timeseries file /content/BrainGNN/data/ABIDE_pcp/cpac/filt_noglobal/50516/USM_0050516_rois_cc200.1D\n",
            "Reading timeseries file /content/BrainGNN/data/ABIDE_pcp/cpac/filt_noglobal/50724/Leuven_2_0050724_rois_cc200.1D\n",
            "Reading timeseries file /content/BrainGNN/data/ABIDE_pcp/cpac/filt_noglobal/51266/UCLA_1_0051266_rois_cc200.1D\n",
            "Reading timeseries file /content/BrainGNN/data/ABIDE_pcp/cpac/filt_noglobal/51054/NYU_0051054_rois_cc200.1D\n",
            "Reading timeseries file /content/BrainGNN/data/ABIDE_pcp/cpac/filt_noglobal/50186/SDSU_0050186_rois_cc200.1D\n",
            "Reading timeseries file /content/BrainGNN/data/ABIDE_pcp/cpac/filt_noglobal/50529/USM_0050529_rois_cc200.1D\n",
            "Reading timeseries file /content/BrainGNN/data/ABIDE_pcp/cpac/filt_noglobal/50985/NYU_0050985_rois_cc200.1D\n",
            "Reading timeseries file /content/BrainGNN/data/ABIDE_pcp/cpac/filt_noglobal/50520/USM_0050520_rois_cc200.1D\n",
            "Reading timeseries file /content/BrainGNN/data/ABIDE_pcp/cpac/filt_noglobal/50376/UM_1_0050376_rois_cc200.1D\n",
            "Reading timeseries file /content/BrainGNN/data/ABIDE_pcp/cpac/filt_noglobal/50978/NYU_0050978_rois_cc200.1D\n",
            "Reading timeseries file /content/BrainGNN/data/ABIDE_pcp/cpac/filt_noglobal/50144/OHSU_0050144_rois_cc200.1D\n",
            "Reading timeseries file /content/BrainGNN/data/ABIDE_pcp/cpac/filt_noglobal/51096/NYU_0051096_rois_cc200.1D\n",
            "Reading timeseries file /content/BrainGNN/data/ABIDE_pcp/cpac/filt_noglobal/50382/UM_2_0050382_rois_cc200.1D\n",
            "Reading timeseries file /content/BrainGNN/data/ABIDE_pcp/cpac/filt_noglobal/51250/UCLA_1_0051250_rois_cc200.1D\n",
            "Reading timeseries file /content/BrainGNN/data/ABIDE_pcp/cpac/filt_noglobal/51062/NYU_0051062_rois_cc200.1D\n",
            "Reading timeseries file /content/BrainGNN/data/ABIDE_pcp/cpac/filt_noglobal/50349/UM_1_0050349_rois_cc200.1D\n",
            "Reading timeseries file /content/BrainGNN/data/ABIDE_pcp/cpac/filt_noglobal/51065/NYU_0051065_rois_cc200.1D\n",
            "Reading timeseries file /content/BrainGNN/data/ABIDE_pcp/cpac/filt_noglobal/50385/UM_2_0050385_rois_cc200.1D\n",
            "Reading timeseries file /content/BrainGNN/data/ABIDE_pcp/cpac/filt_noglobal/51257/UCLA_1_0051257_rois_cc200.1D\n",
            "Reading timeseries file /content/BrainGNN/data/ABIDE_pcp/cpac/filt_noglobal/50143/OHSU_0050143_rois_cc200.1D\n",
            "Reading timeseries file /content/BrainGNN/data/ABIDE_pcp/cpac/filt_noglobal/51091/NYU_0051091_rois_cc200.1D\n",
            "Reading timeseries file /content/BrainGNN/data/ABIDE_pcp/cpac/filt_noglobal/50371/UM_1_0050371_rois_cc200.1D\n",
            "Reading timeseries file /content/BrainGNN/data/ABIDE_pcp/cpac/filt_noglobal/50527/USM_0050527_rois_cc200.1D\n",
            "Reading timeseries file /content/BrainGNN/data/ABIDE_pcp/cpac/filt_noglobal/51268/UCLA_1_0051268_rois_cc200.1D\n",
            "Reading timeseries file /content/BrainGNN/data/ABIDE_pcp/cpac/filt_noglobal/50188/SDSU_0050188_rois_cc200.1D\n",
            "Reading timeseries file /content/BrainGNN/data/ABIDE_pcp/cpac/filt_noglobal/50518/USM_0050518_rois_cc200.1D\n",
            "Reading timeseries file /content/BrainGNN/data/ABIDE_pcp/cpac/filt_noglobal/50749/Leuven_2_0050749_rois_cc200.1D\n",
            "Reading timeseries file /content/BrainGNN/data/ABIDE_pcp/cpac/filt_noglobal/51039/NYU_0051039_rois_cc200.1D\n",
            "Reading timeseries file /content/BrainGNN/data/ABIDE_pcp/cpac/filt_noglobal/50776/KKI_0050776_rois_cc200.1D\n",
            "Reading timeseries file /content/BrainGNN/data/ABIDE_pcp/cpac/filt_noglobal/50120/Olin_0050120_rois_cc200.1D\n",
            "Reading timeseries file /content/BrainGNN/data/ABIDE_pcp/cpac/filt_noglobal/50312/UM_1_0050312_rois_cc200.1D\n",
            "Reading timeseries file /content/BrainGNN/data/ABIDE_pcp/cpac/filt_noglobal/51006/NYU_0051006_rois_cc200.1D\n",
            "Reading timeseries file /content/BrainGNN/data/ABIDE_pcp/cpac/filt_noglobal/51234/UCLA_1_0051234_rois_cc200.1D\n",
            "Reading timeseries file /content/BrainGNN/data/ABIDE_pcp/cpac/filt_noglobal/50782/KKI_0050782_rois_cc200.1D\n",
            "Reading timeseries file /content/BrainGNN/data/ABIDE_pcp/cpac/filt_noglobal/51462/Caltech_0051462_rois_cc200.1D\n",
            "Reading timeseries file /content/BrainGNN/data/ABIDE_pcp/cpac/filt_noglobal/50118/Olin_0050118_rois_cc200.1D\n",
            "Reading timeseries file /content/BrainGNN/data/ABIDE_pcp/cpac/filt_noglobal/51465/Caltech_0051465_rois_cc200.1D\n",
            "Reading timeseries file /content/BrainGNN/data/ABIDE_pcp/cpac/filt_noglobal/50785/KKI_0050785_rois_cc200.1D\n",
            "Reading timeseries file /content/BrainGNN/data/ABIDE_pcp/cpac/filt_noglobal/51001/NYU_0051001_rois_cc200.1D\n",
            "Reading timeseries file /content/BrainGNN/data/ABIDE_pcp/cpac/filt_noglobal/50315/UM_1_0050315_rois_cc200.1D\n",
            "Reading timeseries file /content/BrainGNN/data/ABIDE_pcp/cpac/filt_noglobal/50127/Olin_0050127_rois_cc200.1D\n",
            "Reading timeseries file /content/BrainGNN/data/ABIDE_pcp/cpac/filt_noglobal/51491/Caltech_0051491_rois_cc200.1D\n",
            "Reading timeseries file /content/BrainGNN/data/ABIDE_pcp/cpac/filt_noglobal/51008/NYU_0051008_rois_cc200.1D\n",
            "Reading timeseries file /content/BrainGNN/data/ABIDE_pcp/cpac/filt_noglobal/50778/KKI_0050778_rois_cc200.1D\n",
            "Reading timeseries file /content/BrainGNN/data/ABIDE_pcp/cpac/filt_noglobal/51205/UCLA_1_0051205_rois_cc200.1D\n",
            "Reading timeseries file /content/BrainGNN/data/ABIDE_pcp/cpac/filt_noglobal/50575/Yale_0050575_rois_cc200.1D\n",
            "Reading timeseries file /content/BrainGNN/data/ABIDE_pcp/cpac/filt_noglobal/50747/Leuven_2_0050747_rois_cc200.1D\n",
            "Reading timeseries file /content/BrainGNN/data/ABIDE_pcp/cpac/filt_noglobal/50111/Olin_0050111_rois_cc200.1D\n",
            "Reading timeseries file /content/BrainGNN/data/ABIDE_pcp/cpac/filt_noglobal/50129/Olin_0050129_rois_cc200.1D\n",
            "Reading timeseries file /content/BrainGNN/data/ABIDE_pcp/cpac/filt_noglobal/50116/Olin_0050116_rois_cc200.1D\n",
            "Reading timeseries file /content/BrainGNN/data/ABIDE_pcp/cpac/filt_noglobal/50324/UM_1_0050324_rois_cc200.1D\n",
            "Reading timeseries file /content/BrainGNN/data/ABIDE_pcp/cpac/filt_noglobal/50740/Leuven_2_0050740_rois_cc200.1D\n",
            "Reading timeseries file /content/BrainGNN/data/ABIDE_pcp/cpac/filt_noglobal/50572/Yale_0050572_rois_cc200.1D\n",
            "Reading timeseries file /content/BrainGNN/data/ABIDE_pcp/cpac/filt_noglobal/51030/NYU_0051030_rois_cc200.1D\n",
            "Reading timeseries file /content/BrainGNN/data/ABIDE_pcp/cpac/filt_noglobal/51202/UCLA_1_0051202_rois_cc200.1D\n",
            "Reading timeseries file /content/BrainGNN/data/ABIDE_pcp/cpac/filt_noglobal/50370/UM_1_0050370_rois_cc200.1D\n",
            "Reading timeseries file /content/BrainGNN/data/ABIDE_pcp/cpac/filt_noglobal/50142/OHSU_0050142_rois_cc200.1D\n",
            "Reading timeseries file /content/BrainGNN/data/ABIDE_pcp/cpac/filt_noglobal/51090/NYU_0051090_rois_cc200.1D\n",
            "Reading timeseries file /content/BrainGNN/data/ABIDE_pcp/cpac/filt_noglobal/50526/USM_0050526_rois_cc200.1D\n",
            "Reading timeseries file /content/BrainGNN/data/ABIDE_pcp/cpac/filt_noglobal/51256/UCLA_1_0051256_rois_cc200.1D\n",
            "Reading timeseries file /content/BrainGNN/data/ABIDE_pcp/cpac/filt_noglobal/51064/NYU_0051064_rois_cc200.1D\n",
            "Reading timeseries file /content/BrainGNN/data/ABIDE_pcp/cpac/filt_noglobal/50519/USM_0050519_rois_cc200.1D\n",
            "Reading timeseries file /content/BrainGNN/data/ABIDE_pcp/cpac/filt_noglobal/50189/SDSU_0050189_rois_cc200.1D\n",
            "Reading timeseries file /content/BrainGNN/data/ABIDE_pcp/cpac/filt_noglobal/51269/UCLA_1_0051269_rois_cc200.1D\n",
            "Reading timeseries file /content/BrainGNN/data/ABIDE_pcp/cpac/filt_noglobal/51063/NYU_0051063_rois_cc200.1D\n",
            "Reading timeseries file /content/BrainGNN/data/ABIDE_pcp/cpac/filt_noglobal/50383/UM_2_0050383_rois_cc200.1D\n",
            "Reading timeseries file /content/BrainGNN/data/ABIDE_pcp/cpac/filt_noglobal/51251/UCLA_1_0051251_rois_cc200.1D\n",
            "Reading timeseries file /content/BrainGNN/data/ABIDE_pcp/cpac/filt_noglobal/50521/USM_0050521_rois_cc200.1D\n",
            "Reading timeseries file /content/BrainGNN/data/ABIDE_pcp/cpac/filt_noglobal/50145/OHSU_0050145_rois_cc200.1D\n",
            "Reading timeseries file /content/BrainGNN/data/ABIDE_pcp/cpac/filt_noglobal/51097/NYU_0051097_rois_cc200.1D\n",
            "Reading timeseries file /content/BrainGNN/data/ABIDE_pcp/cpac/filt_noglobal/50979/NYU_0050979_rois_cc200.1D\n",
            "Reading timeseries file /content/BrainGNN/data/ABIDE_pcp/cpac/filt_noglobal/50377/UM_1_0050377_rois_cc200.1D\n",
            "Reading timeseries file /content/BrainGNN/data/ABIDE_pcp/cpac/filt_noglobal/50348/UM_1_0050348_rois_cc200.1D\n",
            "Reading timeseries file /content/BrainGNN/data/ABIDE_pcp/cpac/filt_noglobal/51055/NYU_0051055_rois_cc200.1D\n",
            "Reading timeseries file /content/BrainGNN/data/ABIDE_pcp/cpac/filt_noglobal/50187/SDSU_0050187_rois_cc200.1D\n",
            "Reading timeseries file /content/BrainGNN/data/ABIDE_pcp/cpac/filt_noglobal/51267/UCLA_1_0051267_rois_cc200.1D\n",
            "Reading timeseries file /content/BrainGNN/data/ABIDE_pcp/cpac/filt_noglobal/51293/UCLA_2_0051293_rois_cc200.1D\n",
            "Reading timeseries file /content/BrainGNN/data/ABIDE_pcp/cpac/filt_noglobal/50341/UM_1_0050341_rois_cc200.1D\n",
            "Reading timeseries file /content/BrainGNN/data/ABIDE_pcp/cpac/filt_noglobal/50725/Leuven_2_0050725_rois_cc200.1D\n",
            "Reading timeseries file /content/BrainGNN/data/ABIDE_pcp/cpac/filt_noglobal/51258/UCLA_1_0051258_rois_cc200.1D\n",
            "Reading timeseries file /content/BrainGNN/data/ABIDE_pcp/cpac/filt_noglobal/50984/NYU_0050984_rois_cc200.1D\n",
            "Reading timeseries file /content/BrainGNN/data/ABIDE_pcp/cpac/filt_noglobal/50528/USM_0050528_rois_cc200.1D\n",
            "Reading timeseries file /content/BrainGNN/data/ABIDE_pcp/cpac/filt_noglobal/50970/NYU_0050970_rois_cc200.1D\n",
            "Reading timeseries file /content/BrainGNN/data/ABIDE_pcp/cpac/filt_noglobal/50510/USM_0050510_rois_cc200.1D\n",
            "Reading timeseries file /content/BrainGNN/data/ABIDE_pcp/cpac/filt_noglobal/50722/Leuven_2_0050722_rois_cc200.1D\n",
            "Reading timeseries file /content/BrainGNN/data/ABIDE_pcp/cpac/filt_noglobal/51294/UCLA_2_0051294_rois_cc200.1D\n",
            "Reading timeseries file /content/BrainGNN/data/ABIDE_pcp/cpac/filt_noglobal/50346/UM_1_0050346_rois_cc200.1D\n",
            "Reading timeseries file /content/BrainGNN/data/ABIDE_pcp/cpac/filt_noglobal/51260/UCLA_1_0051260_rois_cc200.1D\n",
            "Reading timeseries file /content/BrainGNN/data/ABIDE_pcp/cpac/filt_noglobal/51052/NYU_0051052_rois_cc200.1D\n",
            "Reading timeseries file /content/BrainGNN/data/ABIDE_pcp/cpac/filt_noglobal/51099/NYU_0051099_rois_cc200.1D\n",
            "Reading timeseries file /content/BrainGNN/data/ABIDE_pcp/cpac/filt_noglobal/50977/NYU_0050977_rois_cc200.1D\n",
            "Reading timeseries file /content/BrainGNN/data/ABIDE_pcp/cpac/filt_noglobal/50379/UM_1_0050379_rois_cc200.1D\n",
            "Reading timeseries file /content/BrainGNN/data/ABIDE_pcp/cpac/filt_noglobal/50983/NYU_0050983_rois_cc200.1D\n",
            "Reading timeseries file /content/BrainGNN/data/ABIDE_pcp/cpac/filt_noglobal/50039/Pitt_0050039_rois_cc200.1D\n",
            "Reading timeseries file /content/BrainGNN/data/ABIDE_pcp/cpac/filt_noglobal/50496/USM_0050496_rois_cc200.1D\n",
            "Reading timeseries file /content/BrainGNN/data/ABIDE_pcp/cpac/filt_noglobal/51312/UCLA_2_0051312_rois_cc200.1D\n",
            "Reading timeseries file /content/BrainGNN/data/ABIDE_pcp/cpac/filt_noglobal/50234/Trinity_0050234_rois_cc200.1D\n",
            "Reading timeseries file /content/BrainGNN/data/ABIDE_pcp/cpac/filt_noglobal/50006/Pitt_0050006_rois_cc200.1D\n",
            "Reading timeseries file /content/BrainGNN/data/ABIDE_pcp/cpac/filt_noglobal/50650/CMU_b_0050650_rois_cc200.1D\n",
            "Reading timeseries file /content/BrainGNN/data/ABIDE_pcp/cpac/filt_noglobal/50802/KKI_0050802_rois_cc200.1D\n",
            "Reading timeseries file /content/BrainGNN/data/ABIDE_pcp/cpac/filt_noglobal/50668/CMU_a_0050668_rois_cc200.1D\n",
            "Reading timeseries file /content/BrainGNN/data/ABIDE_pcp/cpac/filt_noglobal/51118/NYU_0051118_rois_cc200.1D\n",
            "Reading timeseries file /content/BrainGNN/data/ABIDE_pcp/cpac/filt_noglobal/50657/CMU_b_0050657_rois_cc200.1D\n",
            "Reading timeseries file /content/BrainGNN/data/ABIDE_pcp/cpac/filt_noglobal/50233/Trinity_0050233_rois_cc200.1D\n",
            "Reading timeseries file /content/BrainGNN/data/ABIDE_pcp/cpac/filt_noglobal/51127/NYU_0051127_rois_cc200.1D\n",
            "Reading timeseries file /content/BrainGNN/data/ABIDE_pcp/cpac/filt_noglobal/51315/UCLA_2_0051315_rois_cc200.1D\n",
            "Reading timeseries file /content/BrainGNN/data/ABIDE_pcp/cpac/filt_noglobal/50491/USM_0050491_rois_cc200.1D\n",
            "Reading timeseries file /content/BrainGNN/data/ABIDE_pcp/cpac/filt_noglobal/50008/Pitt_0050008_rois_cc200.1D\n",
            "Reading timeseries file /content/BrainGNN/data/ABIDE_pcp/cpac/filt_noglobal/50498/USM_0050498_rois_cc200.1D\n",
            "Reading timeseries file /content/BrainGNN/data/ABIDE_pcp/cpac/filt_noglobal/50037/Pitt_0050037_rois_cc200.1D\n",
            "Reading timeseries file /content/BrainGNN/data/ABIDE_pcp/cpac/filt_noglobal/50205/SDSU_0050205_rois_cc200.1D\n",
            "Reading timeseries file /content/BrainGNN/data/ABIDE_pcp/cpac/filt_noglobal/50661/CMU_b_0050661_rois_cc200.1D\n",
            "Reading timeseries file /content/BrainGNN/data/ABIDE_pcp/cpac/filt_noglobal/51581/SBL_0051581_rois_cc200.1D\n",
            "Reading timeseries file /content/BrainGNN/data/ABIDE_pcp/cpac/filt_noglobal/50453/USM_0050453_rois_cc200.1D\n",
            "Reading timeseries file /content/BrainGNN/data/ABIDE_pcp/cpac/filt_noglobal/50695/Leuven_1_0050695_rois_cc200.1D\n",
            "Reading timeseries file /content/BrainGNN/data/ABIDE_pcp/cpac/filt_noglobal/51575/SBL_0051575_rois_cc200.1D\n",
            "Reading timeseries file /content/BrainGNN/data/ABIDE_pcp/cpac/filt_noglobal/51111/NYU_0051111_rois_cc200.1D\n",
            "Reading timeseries file /content/BrainGNN/data/ABIDE_pcp/cpac/filt_noglobal/51323/MaxMun_b_0051323_rois_cc200.1D\n",
            "Reading timeseries file /content/BrainGNN/data/ABIDE_pcp/cpac/filt_noglobal/51129/NYU_0051129_rois_cc200.1D\n",
            "Reading timeseries file /content/BrainGNN/data/ABIDE_pcp/cpac/filt_noglobal/50659/CMU_a_0050659_rois_cc200.1D\n",
            "Reading timeseries file /content/BrainGNN/data/ABIDE_pcp/cpac/filt_noglobal/51324/MaxMun_b_0051324_rois_cc200.1D\n",
            "Reading timeseries file /content/BrainGNN/data/ABIDE_pcp/cpac/filt_noglobal/51116/NYU_0051116_rois_cc200.1D\n",
            "Reading timeseries file /content/BrainGNN/data/ABIDE_pcp/cpac/filt_noglobal/51572/SBL_0051572_rois_cc200.1D\n",
            "Reading timeseries file /content/BrainGNN/data/ABIDE_pcp/cpac/filt_noglobal/50692/Leuven_1_0050692_rois_cc200.1D\n",
            "Reading timeseries file /content/BrainGNN/data/ABIDE_pcp/cpac/filt_noglobal/50666/CMU_a_0050666_rois_cc200.1D\n",
            "Reading timeseries file /content/BrainGNN/data/ABIDE_pcp/cpac/filt_noglobal/50202/SDSU_0050202_rois_cc200.1D\n",
            "Reading timeseries file /content/BrainGNN/data/ABIDE_pcp/cpac/filt_noglobal/50030/Pitt_0050030_rois_cc200.1D\n",
            "Reading timeseries file /content/BrainGNN/data/ABIDE_pcp/cpac/filt_noglobal/51142/Trinity_0051142_rois_cc200.1D\n",
            "Reading timeseries file /content/BrainGNN/data/ABIDE_pcp/cpac/filt_noglobal/51370/MaxMun_a_0051370_rois_cc200.1D\n",
            "Reading timeseries file /content/BrainGNN/data/ABIDE_pcp/cpac/filt_noglobal/50269/Trinity_0050269_rois_cc200.1D\n",
            "Reading timeseries file /content/BrainGNN/data/ABIDE_pcp/cpac/filt_noglobal/51189/Stanford_0051189_rois_cc200.1D\n",
            "Reading timeseries file /content/BrainGNN/data/ABIDE_pcp/cpac/filt_noglobal/50251/Trinity_0050251_rois_cc200.1D\n",
            "Reading timeseries file /content/BrainGNN/data/ABIDE_pcp/cpac/filt_noglobal/50407/UM_2_0050407_rois_cc200.1D\n",
            "Reading timeseries file /content/BrainGNN/data/ABIDE_pcp/cpac/filt_noglobal/50438/USM_0050438_rois_cc200.1D\n",
            "Reading timeseries file /content/BrainGNN/data/ABIDE_pcp/cpac/filt_noglobal/51348/MaxMun_c_0051348_rois_cc200.1D\n",
            "Reading timeseries file /content/BrainGNN/data/ABIDE_pcp/cpac/filt_noglobal/50603/Yale_0050603_rois_cc200.1D\n",
            "Reading timeseries file /content/BrainGNN/data/ABIDE_pcp/cpac/filt_noglobal/50267/Trinity_0050267_rois_cc200.1D\n",
            "Reading timeseries file /content/BrainGNN/data/ABIDE_pcp/cpac/filt_noglobal/51187/Stanford_0051187_rois_cc200.1D\n",
            "Reading timeseries file /content/BrainGNN/data/ABIDE_pcp/cpac/filt_noglobal/50055/Pitt_0050055_rois_cc200.1D\n",
            "Reading timeseries file /content/BrainGNN/data/ABIDE_pcp/cpac/filt_noglobal/51341/MaxMun_c_0051341_rois_cc200.1D\n",
            "Reading timeseries file /content/BrainGNN/data/ABIDE_pcp/cpac/filt_noglobal/50293/UM_1_0050293_rois_cc200.1D\n",
            "Reading timeseries file /content/BrainGNN/data/ABIDE_pcp/cpac/filt_noglobal/51173/Stanford_0051173_rois_cc200.1D\n",
            "Reading timeseries file /content/BrainGNN/data/ABIDE_pcp/cpac/filt_noglobal/51174/Stanford_0051174_rois_cc200.1D\n",
            "Reading timeseries file /content/BrainGNN/data/ABIDE_pcp/cpac/filt_noglobal/51346/MaxMun_c_0051346_rois_cc200.1D\n",
            "Reading timeseries file /content/BrainGNN/data/ABIDE_pcp/cpac/filt_noglobal/50294/UM_1_0050294_rois_cc200.1D\n",
            "Reading timeseries file /content/BrainGNN/data/ABIDE_pcp/cpac/filt_noglobal/51180/Stanford_0051180_rois_cc200.1D\n",
            "Reading timeseries file /content/BrainGNN/data/ABIDE_pcp/cpac/filt_noglobal/50052/Pitt_0050052_rois_cc200.1D\n",
            "Reading timeseries file /content/BrainGNN/data/ABIDE_pcp/cpac/filt_noglobal/50260/Trinity_0050260_rois_cc200.1D\n",
            "Reading timeseries file /content/BrainGNN/data/ABIDE_pcp/cpac/filt_noglobal/50604/Yale_0050604_rois_cc200.1D\n",
            "Reading timeseries file /content/BrainGNN/data/ABIDE_pcp/cpac/filt_noglobal/50436/USM_0050436_rois_cc200.1D\n",
            "Reading timeseries file /content/BrainGNN/data/ABIDE_pcp/cpac/filt_noglobal/50658/CMU_b_0050658_rois_cc200.1D\n",
            "Reading timeseries file /content/BrainGNN/data/ABIDE_pcp/cpac/filt_noglobal/51128/NYU_0051128_rois_cc200.1D\n",
            "Reading timeseries file /content/BrainGNN/data/ABIDE_pcp/cpac/filt_noglobal/50667/CMU_b_0050667_rois_cc200.1D\n",
            "Reading timeseries file /content/BrainGNN/data/ABIDE_pcp/cpac/filt_noglobal/50455/USM_0050455_rois_cc200.1D\n",
            "Reading timeseries file /content/BrainGNN/data/ABIDE_pcp/cpac/filt_noglobal/50031/Pitt_0050031_rois_cc200.1D\n",
            "Reading timeseries file /content/BrainGNN/data/ABIDE_pcp/cpac/filt_noglobal/50203/SDSU_0050203_rois_cc200.1D\n",
            "Reading timeseries file /content/BrainGNN/data/ABIDE_pcp/cpac/filt_noglobal/51117/NYU_0051117_rois_cc200.1D\n",
            "Reading timeseries file /content/BrainGNN/data/ABIDE_pcp/cpac/filt_noglobal/51325/MaxMun_b_0051325_rois_cc200.1D\n",
            "Reading timeseries file /content/BrainGNN/data/ABIDE_pcp/cpac/filt_noglobal/50693/Leuven_1_0050693_rois_cc200.1D\n",
            "Reading timeseries file /content/BrainGNN/data/ABIDE_pcp/cpac/filt_noglobal/51573/SBL_0051573_rois_cc200.1D\n",
            "Reading timeseries file /content/BrainGNN/data/ABIDE_pcp/cpac/filt_noglobal/50499/USM_0050499_rois_cc200.1D\n",
            "Reading timeseries file /content/BrainGNN/data/ABIDE_pcp/cpac/filt_noglobal/50009/Pitt_0050009_rois_cc200.1D\n",
            "Reading timeseries file /content/BrainGNN/data/ABIDE_pcp/cpac/filt_noglobal/51574/SBL_0051574_rois_cc200.1D\n",
            "Reading timeseries file /content/BrainGNN/data/ABIDE_pcp/cpac/filt_noglobal/50694/Leuven_1_0050694_rois_cc200.1D\n",
            "Reading timeseries file /content/BrainGNN/data/ABIDE_pcp/cpac/filt_noglobal/51322/MaxMun_b_0051322_rois_cc200.1D\n",
            "Reading timeseries file /content/BrainGNN/data/ABIDE_pcp/cpac/filt_noglobal/51110/NYU_0051110_rois_cc200.1D\n",
            "Reading timeseries file /content/BrainGNN/data/ABIDE_pcp/cpac/filt_noglobal/50204/SDSU_0050204_rois_cc200.1D\n",
            "Reading timeseries file /content/BrainGNN/data/ABIDE_pcp/cpac/filt_noglobal/50036/Pitt_0050036_rois_cc200.1D\n",
            "Reading timeseries file /content/BrainGNN/data/ABIDE_pcp/cpac/filt_noglobal/51580/SBL_0051580_rois_cc200.1D\n",
            "Reading timeseries file /content/BrainGNN/data/ABIDE_pcp/cpac/filt_noglobal/50660/CMU_a_0050660_rois_cc200.1D\n",
            "Reading timeseries file /content/BrainGNN/data/ABIDE_pcp/cpac/filt_noglobal/50803/KKI_0050803_rois_cc200.1D\n",
            "Reading timeseries file /content/BrainGNN/data/ABIDE_pcp/cpac/filt_noglobal/50669/CMU_b_0050669_rois_cc200.1D\n",
            "Reading timeseries file /content/BrainGNN/data/ABIDE_pcp/cpac/filt_noglobal/51314/UCLA_2_0051314_rois_cc200.1D\n",
            "Reading timeseries file /content/BrainGNN/data/ABIDE_pcp/cpac/filt_noglobal/51126/NYU_0051126_rois_cc200.1D\n",
            "Reading timeseries file /content/BrainGNN/data/ABIDE_pcp/cpac/filt_noglobal/50490/USM_0050490_rois_cc200.1D\n",
            "Reading timeseries file /content/BrainGNN/data/ABIDE_pcp/cpac/filt_noglobal/50656/CMU_a_0050656_rois_cc200.1D\n",
            "Reading timeseries file /content/BrainGNN/data/ABIDE_pcp/cpac/filt_noglobal/50232/Trinity_0050232_rois_cc200.1D\n",
            "Reading timeseries file /content/BrainGNN/data/ABIDE_pcp/cpac/filt_noglobal/50038/Pitt_0050038_rois_cc200.1D\n",
            "Reading timeseries file /content/BrainGNN/data/ABIDE_pcp/cpac/filt_noglobal/50804/KKI_0050804_rois_cc200.1D\n",
            "Reading timeseries file /content/BrainGNN/data/ABIDE_pcp/cpac/filt_noglobal/50007/Pitt_0050007_rois_cc200.1D\n",
            "Reading timeseries file /content/BrainGNN/data/ABIDE_pcp/cpac/filt_noglobal/50235/Trinity_0050235_rois_cc200.1D\n",
            "Reading timeseries file /content/BrainGNN/data/ABIDE_pcp/cpac/filt_noglobal/50651/CMU_b_0050651_rois_cc200.1D\n",
            "Reading timeseries file /content/BrainGNN/data/ABIDE_pcp/cpac/filt_noglobal/50463/USM_0050463_rois_cc200.1D\n",
            "Reading timeseries file /content/BrainGNN/data/ABIDE_pcp/cpac/filt_noglobal/50497/USM_0050497_rois_cc200.1D\n",
            "Reading timeseries file /content/BrainGNN/data/ABIDE_pcp/cpac/filt_noglobal/51121/NYU_0051121_rois_cc200.1D\n",
            "Reading timeseries file /content/BrainGNN/data/ABIDE_pcp/cpac/filt_noglobal/51313/UCLA_2_0051313_rois_cc200.1D\n",
            "Reading timeseries file /content/BrainGNN/data/ABIDE_pcp/cpac/filt_noglobal/50261/Trinity_0050261_rois_cc200.1D\n",
            "Reading timeseries file /content/BrainGNN/data/ABIDE_pcp/cpac/filt_noglobal/51181/Stanford_0051181_rois_cc200.1D\n",
            "Reading timeseries file /content/BrainGNN/data/ABIDE_pcp/cpac/filt_noglobal/50053/Pitt_0050053_rois_cc200.1D\n",
            "Reading timeseries file /content/BrainGNN/data/ABIDE_pcp/cpac/filt_noglobal/50437/USM_0050437_rois_cc200.1D\n",
            "Reading timeseries file /content/BrainGNN/data/ABIDE_pcp/cpac/filt_noglobal/50605/Yale_0050605_rois_cc200.1D\n",
            "Reading timeseries file /content/BrainGNN/data/ABIDE_pcp/cpac/filt_noglobal/51347/MaxMun_c_0051347_rois_cc200.1D\n",
            "Reading timeseries file /content/BrainGNN/data/ABIDE_pcp/cpac/filt_noglobal/50295/UM_1_0050295_rois_cc200.1D\n",
            "Reading timeseries file /content/BrainGNN/data/ABIDE_pcp/cpac/filt_noglobal/51175/Stanford_0051175_rois_cc200.1D\n",
            "Reading timeseries file /content/BrainGNN/data/ABIDE_pcp/cpac/filt_noglobal/50408/UM_2_0050408_rois_cc200.1D\n",
            "Reading timeseries file /content/BrainGNN/data/ABIDE_pcp/cpac/filt_noglobal/51172/Stanford_0051172_rois_cc200.1D\n",
            "Reading timeseries file /content/BrainGNN/data/ABIDE_pcp/cpac/filt_noglobal/51340/MaxMun_c_0051340_rois_cc200.1D\n",
            "Reading timeseries file /content/BrainGNN/data/ABIDE_pcp/cpac/filt_noglobal/50292/UM_1_0050292_rois_cc200.1D\n",
            "Reading timeseries file /content/BrainGNN/data/ABIDE_pcp/cpac/filt_noglobal/50602/Yale_0050602_rois_cc200.1D\n",
            "Reading timeseries file /content/BrainGNN/data/ABIDE_pcp/cpac/filt_noglobal/51186/Stanford_0051186_rois_cc200.1D\n",
            "Reading timeseries file /content/BrainGNN/data/ABIDE_pcp/cpac/filt_noglobal/50054/Pitt_0050054_rois_cc200.1D\n",
            "Reading timeseries file /content/BrainGNN/data/ABIDE_pcp/cpac/filt_noglobal/50266/Trinity_0050266_rois_cc200.1D\n",
            "Reading timeseries file /content/BrainGNN/data/ABIDE_pcp/cpac/filt_noglobal/50259/Trinity_0050259_rois_cc200.1D\n",
            "Reading timeseries file /content/BrainGNN/data/ABIDE_pcp/cpac/filt_noglobal/50250/Trinity_0050250_rois_cc200.1D\n",
            "Reading timeseries file /content/BrainGNN/data/ABIDE_pcp/cpac/filt_noglobal/50406/UM_2_0050406_rois_cc200.1D\n",
            "Reading timeseries file /content/BrainGNN/data/ABIDE_pcp/cpac/filt_noglobal/51349/MaxMun_d_0051349_rois_cc200.1D\n",
            "Reading timeseries file /content/BrainGNN/data/ABIDE_pcp/cpac/filt_noglobal/50439/USM_0050439_rois_cc200.1D\n",
            "Reading timeseries file /content/BrainGNN/data/ABIDE_pcp/cpac/filt_noglobal/50257/Trinity_0050257_rois_cc200.1D\n",
            "Reading timeseries file /content/BrainGNN/data/ABIDE_pcp/cpac/filt_noglobal/51188/Stanford_0051188_rois_cc200.1D\n",
            "Reading timeseries file /content/BrainGNN/data/ABIDE_pcp/cpac/filt_noglobal/50268/Trinity_0050268_rois_cc200.1D\n",
            "Reading timeseries file /content/BrainGNN/data/ABIDE_pcp/cpac/filt_noglobal/51195/Stanford_0051195_rois_cc200.1D\n",
            "Reading timeseries file /content/BrainGNN/data/ABIDE_pcp/cpac/filt_noglobal/50047/Pitt_0050047_rois_cc200.1D\n",
            "Reading timeseries file /content/BrainGNN/data/ABIDE_pcp/cpac/filt_noglobal/50275/UM_1_0050275_rois_cc200.1D\n",
            "Reading timeseries file /content/BrainGNN/data/ABIDE_pcp/cpac/filt_noglobal/50611/Yale_0050611_rois_cc200.1D\n",
            "Reading timeseries file /content/BrainGNN/data/ABIDE_pcp/cpac/filt_noglobal/51161/Stanford_0051161_rois_cc200.1D\n",
            "Reading timeseries file /content/BrainGNN/data/ABIDE_pcp/cpac/filt_noglobal/51353/MaxMun_d_0051353_rois_cc200.1D\n",
            "Reading timeseries file /content/BrainGNN/data/ABIDE_pcp/cpac/filt_noglobal/50281/UM_1_0050281_rois_cc200.1D\n",
            "Reading timeseries file /content/BrainGNN/data/ABIDE_pcp/cpac/filt_noglobal/51159/NYU_0051159_rois_cc200.1D\n",
            "Reading timeseries file /content/BrainGNN/data/ABIDE_pcp/cpac/filt_noglobal/51354/MaxMun_d_0051354_rois_cc200.1D\n",
            "Reading timeseries file /content/BrainGNN/data/ABIDE_pcp/cpac/filt_noglobal/50286/UM_1_0050286_rois_cc200.1D\n",
            "Reading timeseries file /content/BrainGNN/data/ABIDE_pcp/cpac/filt_noglobal/51166/Stanford_0051166_rois_cc200.1D\n",
            "Reading timeseries file /content/BrainGNN/data/ABIDE_pcp/cpac/filt_noglobal/50424/UM_2_0050424_rois_cc200.1D\n",
            "Reading timeseries file /content/BrainGNN/data/ABIDE_pcp/cpac/filt_noglobal/50616/Yale_0050616_rois_cc200.1D\n",
            "Reading timeseries file /content/BrainGNN/data/ABIDE_pcp/cpac/filt_noglobal/50272/UM_1_0050272_rois_cc200.1D\n",
            "Reading timeseries file /content/BrainGNN/data/ABIDE_pcp/cpac/filt_noglobal/51192/Stanford_0051192_rois_cc200.1D\n",
            "Reading timeseries file /content/BrainGNN/data/ABIDE_pcp/cpac/filt_noglobal/50040/Pitt_0050040_rois_cc200.1D\n",
            "Reading timeseries file /content/BrainGNN/data/ABIDE_pcp/cpac/filt_noglobal/50049/Pitt_0050049_rois_cc200.1D\n",
            "Reading timeseries file /content/BrainGNN/data/ABIDE_pcp/cpac/filt_noglobal/51362/MaxMun_a_0051362_rois_cc200.1D\n",
            "Reading timeseries file /content/BrainGNN/data/ABIDE_pcp/cpac/filt_noglobal/51150/NYU_0051150_rois_cc200.1D\n",
            "Reading timeseries file /content/BrainGNN/data/ABIDE_pcp/cpac/filt_noglobal/50412/UM_2_0050412_rois_cc200.1D\n",
            "Reading timeseries file /content/BrainGNN/data/ABIDE_pcp/cpac/filt_noglobal/50620/Yale_0050620_rois_cc200.1D\n",
            "Reading timeseries file /content/BrainGNN/data/ABIDE_pcp/cpac/filt_noglobal/50618/Yale_0050618_rois_cc200.1D\n",
            "Reading timeseries file /content/BrainGNN/data/ABIDE_pcp/cpac/filt_noglobal/50288/UM_1_0050288_rois_cc200.1D\n",
            "Reading timeseries file /content/BrainGNN/data/ABIDE_pcp/cpac/filt_noglobal/51168/Stanford_0051168_rois_cc200.1D\n",
            "Reading timeseries file /content/BrainGNN/data/ABIDE_pcp/cpac/filt_noglobal/50627/Yale_0050627_rois_cc200.1D\n",
            "Reading timeseries file /content/BrainGNN/data/ABIDE_pcp/cpac/filt_noglobal/50415/UM_2_0050415_rois_cc200.1D\n",
            "Reading timeseries file /content/BrainGNN/data/ABIDE_pcp/cpac/filt_noglobal/50243/Trinity_0050243_rois_cc200.1D\n",
            "Reading timeseries file /content/BrainGNN/data/ABIDE_pcp/cpac/filt_noglobal/51365/MaxMun_a_0051365_rois_cc200.1D\n",
            "Reading timeseries file /content/BrainGNN/data/ABIDE_pcp/cpac/filt_noglobal/50441/USM_0050441_rois_cc200.1D\n",
            "Reading timeseries file /content/BrainGNN/data/ABIDE_pcp/cpac/filt_noglobal/50217/SDSU_0050217_rois_cc200.1D\n",
            "Reading timeseries file /content/BrainGNN/data/ABIDE_pcp/cpac/filt_noglobal/50025/Pitt_0050025_rois_cc200.1D\n",
            "Reading timeseries file /content/BrainGNN/data/ABIDE_pcp/cpac/filt_noglobal/50819/KKI_0050819_rois_cc200.1D\n",
            "Reading timeseries file /content/BrainGNN/data/ABIDE_pcp/cpac/filt_noglobal/51331/MaxMun_d_0051331_rois_cc200.1D\n",
            "Reading timeseries file /content/BrainGNN/data/ABIDE_pcp/cpac/filt_noglobal/51103/NYU_0051103_rois_cc200.1D\n",
            "Reading timeseries file /content/BrainGNN/data/ABIDE_pcp/cpac/filt_noglobal/51567/SBL_0051567_rois_cc200.1D\n",
            "Reading timeseries file /content/BrainGNN/data/ABIDE_pcp/cpac/filt_noglobal/50687/Leuven_1_0050687_rois_cc200.1D\n",
            "Reading timeseries file /content/BrainGNN/data/ABIDE_pcp/cpac/filt_noglobal/50826/KKI_0050826_rois_cc200.1D\n",
            "Reading timeseries file /content/BrainGNN/data/ABIDE_pcp/cpac/filt_noglobal/51558/SBL_0051558_rois_cc200.1D\n",
            "Reading timeseries file /content/BrainGNN/data/ABIDE_pcp/cpac/filt_noglobal/51560/SBL_0051560_rois_cc200.1D\n",
            "Reading timeseries file /content/BrainGNN/data/ABIDE_pcp/cpac/filt_noglobal/51104/NYU_0051104_rois_cc200.1D\n",
            "Reading timeseries file /content/BrainGNN/data/ABIDE_pcp/cpac/filt_noglobal/51336/MaxMun_c_0051336_rois_cc200.1D\n",
            "Reading timeseries file /content/BrainGNN/data/ABIDE_pcp/cpac/filt_noglobal/50022/Pitt_0050022_rois_cc200.1D\n",
            "Reading timeseries file /content/BrainGNN/data/ABIDE_pcp/cpac/filt_noglobal/50210/SDSU_0050210_rois_cc200.1D\n",
            "Reading timeseries file /content/BrainGNN/data/ABIDE_pcp/cpac/filt_noglobal/50446/USM_0050446_rois_cc200.1D\n",
            "Reading timeseries file /content/BrainGNN/data/ABIDE_pcp/cpac/filt_noglobal/51309/UCLA_2_0051309_rois_cc200.1D\n",
            "Reading timeseries file /content/BrainGNN/data/ABIDE_pcp/cpac/filt_noglobal/50821/KKI_0050821_rois_cc200.1D\n",
            "Reading timeseries file /content/BrainGNN/data/ABIDE_pcp/cpac/filt_noglobal/51132/Trinity_0051132_rois_cc200.1D\n",
            "Reading timeseries file /content/BrainGNN/data/ABIDE_pcp/cpac/filt_noglobal/51300/UCLA_2_0051300_rois_cc200.1D\n",
            "Reading timeseries file /content/BrainGNN/data/ABIDE_pcp/cpac/filt_noglobal/51556/SBL_0051556_rois_cc200.1D\n",
            "Reading timeseries file /content/BrainGNN/data/ABIDE_pcp/cpac/filt_noglobal/50642/CMU_a_0050642_rois_cc200.1D\n",
            "Reading timeseries file /content/BrainGNN/data/ABIDE_pcp/cpac/filt_noglobal/50470/USM_0050470_rois_cc200.1D\n",
            "Reading timeseries file /content/BrainGNN/data/ABIDE_pcp/cpac/filt_noglobal/50014/Pitt_0050014_rois_cc200.1D\n",
            "Reading timeseries file /content/BrainGNN/data/ABIDE_pcp/cpac/filt_noglobal/51569/SBL_0051569_rois_cc200.1D\n",
            "Reading timeseries file /content/BrainGNN/data/ABIDE_pcp/cpac/filt_noglobal/50689/Leuven_1_0050689_rois_cc200.1D\n",
            "Reading timeseries file /content/BrainGNN/data/ABIDE_pcp/cpac/filt_noglobal/50817/KKI_0050817_rois_cc200.1D\n",
            "Reading timeseries file /content/BrainGNN/data/ABIDE_pcp/cpac/filt_noglobal/50013/Pitt_0050013_rois_cc200.1D\n",
            "Reading timeseries file /content/BrainGNN/data/ABIDE_pcp/cpac/filt_noglobal/50477/USM_0050477_rois_cc200.1D\n",
            "Reading timeseries file /content/BrainGNN/data/ABIDE_pcp/cpac/filt_noglobal/50645/CMU_b_0050645_rois_cc200.1D\n",
            "Reading timeseries file /content/BrainGNN/data/ABIDE_pcp/cpac/filt_noglobal/50483/USM_0050483_rois_cc200.1D\n",
            "Reading timeseries file /content/BrainGNN/data/ABIDE_pcp/cpac/filt_noglobal/51307/UCLA_2_0051307_rois_cc200.1D\n",
            "Reading timeseries file /content/BrainGNN/data/ABIDE_pcp/cpac/filt_noglobal/51135/Trinity_0051135_rois_cc200.1D\n",
            "Reading timeseries file /content/BrainGNN/data/ABIDE_pcp/cpac/filt_noglobal/50448/USM_0050448_rois_cc200.1D\n",
            "Reading timeseries file /content/BrainGNN/data/ABIDE_pcp/cpac/filt_noglobal/51338/MaxMun_c_0051338_rois_cc200.1D\n",
            "Reading timeseries file /content/BrainGNN/data/ABIDE_pcp/cpac/filt_noglobal/51169/Stanford_0051169_rois_cc200.1D\n",
            "Reading timeseries file /content/BrainGNN/data/ABIDE_pcp/cpac/filt_noglobal/50289/UM_1_0050289_rois_cc200.1D\n",
            "Reading timeseries file /content/BrainGNN/data/ABIDE_pcp/cpac/filt_noglobal/50619/Yale_0050619_rois_cc200.1D\n",
            "Reading timeseries file /content/BrainGNN/data/ABIDE_pcp/cpac/filt_noglobal/51364/MaxMun_a_0051364_rois_cc200.1D\n",
            "Reading timeseries file /content/BrainGNN/data/ABIDE_pcp/cpac/filt_noglobal/51156/NYU_0051156_rois_cc200.1D\n",
            "Reading timeseries file /content/BrainGNN/data/ABIDE_pcp/cpac/filt_noglobal/50414/UM_2_0050414_rois_cc200.1D\n",
            "Reading timeseries file /content/BrainGNN/data/ABIDE_pcp/cpac/filt_noglobal/50626/Yale_0050626_rois_cc200.1D\n",
            "Reading timeseries file /content/BrainGNN/data/ABIDE_pcp/cpac/filt_noglobal/50242/Trinity_0050242_rois_cc200.1D\n",
            "Reading timeseries file /content/BrainGNN/data/ABIDE_pcp/cpac/filt_noglobal/50048/Pitt_0050048_rois_cc200.1D\n",
            "Reading timeseries file /content/BrainGNN/data/ABIDE_pcp/cpac/filt_noglobal/50245/Trinity_0050245_rois_cc200.1D\n",
            "Reading timeseries file /content/BrainGNN/data/ABIDE_pcp/cpac/filt_noglobal/50621/Yale_0050621_rois_cc200.1D\n",
            "Reading timeseries file /content/BrainGNN/data/ABIDE_pcp/cpac/filt_noglobal/50413/UM_2_0050413_rois_cc200.1D\n",
            "Reading timeseries file /content/BrainGNN/data/ABIDE_pcp/cpac/filt_noglobal/51151/NYU_0051151_rois_cc200.1D\n",
            "Reading timeseries file /content/BrainGNN/data/ABIDE_pcp/cpac/filt_noglobal/51363/MaxMun_a_0051363_rois_cc200.1D\n",
            "Reading timeseries file /content/BrainGNN/data/ABIDE_pcp/cpac/filt_noglobal/50628/Yale_0050628_rois_cc200.1D\n",
            "Reading timeseries file /content/BrainGNN/data/ABIDE_pcp/cpac/filt_noglobal/50617/Yale_0050617_rois_cc200.1D\n",
            "Reading timeseries file /content/BrainGNN/data/ABIDE_pcp/cpac/filt_noglobal/50425/UM_2_0050425_rois_cc200.1D\n",
            "Reading timeseries file /content/BrainGNN/data/ABIDE_pcp/cpac/filt_noglobal/51193/Stanford_0051193_rois_cc200.1D\n",
            "Reading timeseries file /content/BrainGNN/data/ABIDE_pcp/cpac/filt_noglobal/50041/Pitt_0050041_rois_cc200.1D\n",
            "Reading timeseries file /content/BrainGNN/data/ABIDE_pcp/cpac/filt_noglobal/50273/UM_1_0050273_rois_cc200.1D\n",
            "Reading timeseries file /content/BrainGNN/data/ABIDE_pcp/cpac/filt_noglobal/51167/Stanford_0051167_rois_cc200.1D\n",
            "Reading timeseries file /content/BrainGNN/data/ABIDE_pcp/cpac/filt_noglobal/51355/MaxMun_d_0051355_rois_cc200.1D\n",
            "Reading timeseries file /content/BrainGNN/data/ABIDE_pcp/cpac/filt_noglobal/50287/UM_1_0050287_rois_cc200.1D\n",
            "Reading timeseries file /content/BrainGNN/data/ABIDE_pcp/cpac/filt_noglobal/51352/MaxMun_d_0051352_rois_cc200.1D\n",
            "Reading timeseries file /content/BrainGNN/data/ABIDE_pcp/cpac/filt_noglobal/50280/UM_1_0050280_rois_cc200.1D\n",
            "Reading timeseries file /content/BrainGNN/data/ABIDE_pcp/cpac/filt_noglobal/51160/Stanford_0051160_rois_cc200.1D\n",
            "Reading timeseries file /content/BrainGNN/data/ABIDE_pcp/cpac/filt_noglobal/50274/UM_1_0050274_rois_cc200.1D\n",
            "Reading timeseries file /content/BrainGNN/data/ABIDE_pcp/cpac/filt_noglobal/51194/Stanford_0051194_rois_cc200.1D\n",
            "Reading timeseries file /content/BrainGNN/data/ABIDE_pcp/cpac/filt_noglobal/50046/Pitt_0050046_rois_cc200.1D\n",
            "Reading timeseries file /content/BrainGNN/data/ABIDE_pcp/cpac/filt_noglobal/50422/UM_2_0050422_rois_cc200.1D\n",
            "Reading timeseries file /content/BrainGNN/data/ABIDE_pcp/cpac/filt_noglobal/50610/Yale_0050610_rois_cc200.1D\n",
            "Reading timeseries file /content/BrainGNN/data/ABIDE_pcp/cpac/filt_noglobal/50482/USM_0050482_rois_cc200.1D\n",
            "Reading timeseries file /content/BrainGNN/data/ABIDE_pcp/cpac/filt_noglobal/51134/Trinity_0051134_rois_cc200.1D\n",
            "Reading timeseries file /content/BrainGNN/data/ABIDE_pcp/cpac/filt_noglobal/51306/UCLA_2_0051306_rois_cc200.1D\n",
            "Reading timeseries file /content/BrainGNN/data/ABIDE_pcp/cpac/filt_noglobal/50012/Pitt_0050012_rois_cc200.1D\n",
            "Reading timeseries file /content/BrainGNN/data/ABIDE_pcp/cpac/filt_noglobal/50644/CMU_b_0050644_rois_cc200.1D\n",
            "Reading timeseries file /content/BrainGNN/data/ABIDE_pcp/cpac/filt_noglobal/51339/MaxMun_c_0051339_rois_cc200.1D\n",
            "Reading timeseries file /content/BrainGNN/data/ABIDE_pcp/cpac/filt_noglobal/50449/USM_0050449_rois_cc200.1D\n",
            "Reading timeseries file /content/BrainGNN/data/ABIDE_pcp/cpac/filt_noglobal/50643/CMU_b_0050643_rois_cc200.1D\n",
            "Reading timeseries file /content/BrainGNN/data/ABIDE_pcp/cpac/filt_noglobal/50015/Pitt_0050015_rois_cc200.1D\n",
            "Reading timeseries file /content/BrainGNN/data/ABIDE_pcp/cpac/filt_noglobal/51301/UCLA_2_0051301_rois_cc200.1D\n",
            "Reading timeseries file /content/BrainGNN/data/ABIDE_pcp/cpac/filt_noglobal/51133/Trinity_0051133_rois_cc200.1D\n",
            "Reading timeseries file /content/BrainGNN/data/ABIDE_pcp/cpac/filt_noglobal/50485/USM_0050485_rois_cc200.1D\n",
            "Reading timeseries file /content/BrainGNN/data/ABIDE_pcp/cpac/filt_noglobal/51557/SBL_0051557_rois_cc200.1D\n",
            "Reading timeseries file /content/BrainGNN/data/ABIDE_pcp/cpac/filt_noglobal/50816/KKI_0050816_rois_cc200.1D\n",
            "Reading timeseries file /content/BrainGNN/data/ABIDE_pcp/cpac/filt_noglobal/50688/Leuven_1_0050688_rois_cc200.1D\n",
            "Reading timeseries file /content/BrainGNN/data/ABIDE_pcp/cpac/filt_noglobal/51568/SBL_0051568_rois_cc200.1D\n",
            "Reading timeseries file /content/BrainGNN/data/ABIDE_pcp/cpac/filt_noglobal/50211/SDSU_0050211_rois_cc200.1D\n",
            "Reading timeseries file /content/BrainGNN/data/ABIDE_pcp/cpac/filt_noglobal/50023/Pitt_0050023_rois_cc200.1D\n",
            "Reading timeseries file /content/BrainGNN/data/ABIDE_pcp/cpac/filt_noglobal/50447/USM_0050447_rois_cc200.1D\n",
            "Reading timeseries file /content/BrainGNN/data/ABIDE_pcp/cpac/filt_noglobal/51561/SBL_0051561_rois_cc200.1D\n",
            "Reading timeseries file /content/BrainGNN/data/ABIDE_pcp/cpac/filt_noglobal/51105/NYU_0051105_rois_cc200.1D\n",
            "Reading timeseries file /content/BrainGNN/data/ABIDE_pcp/cpac/filt_noglobal/50820/KKI_0050820_rois_cc200.1D\n",
            "Reading timeseries file /content/BrainGNN/data/ABIDE_pcp/cpac/filt_noglobal/51308/UCLA_2_0051308_rois_cc200.1D\n",
            "Reading timeseries file /content/BrainGNN/data/ABIDE_pcp/cpac/filt_noglobal/51102/NYU_0051102_rois_cc200.1D\n",
            "Reading timeseries file /content/BrainGNN/data/ABIDE_pcp/cpac/filt_noglobal/51330/MaxMun_d_0051330_rois_cc200.1D\n",
            "Reading timeseries file /content/BrainGNN/data/ABIDE_pcp/cpac/filt_noglobal/50686/Leuven_1_0050686_rois_cc200.1D\n",
            "Reading timeseries file /content/BrainGNN/data/ABIDE_pcp/cpac/filt_noglobal/51566/SBL_0051566_rois_cc200.1D\n",
            "Reading timeseries file /content/BrainGNN/data/ABIDE_pcp/cpac/filt_noglobal/50440/USM_0050440_rois_cc200.1D\n",
            "Reading timeseries file /content/BrainGNN/data/ABIDE_pcp/cpac/filt_noglobal/50818/KKI_0050818_rois_cc200.1D\n",
            "Reading timeseries file /content/BrainGNN/data/ABIDE_pcp/cpac/filt_noglobal/50024/Pitt_0050024_rois_cc200.1D\n",
            "Reading timeseries file /content/BrainGNN/data/ABIDE_pcp/cpac/filt_noglobal/50216/SDSU_0050216_rois_cc200.1D\n",
            "Reading timeseries file /content/BrainGNN/data/ABIDE_pcp/cpac/filt_noglobal/51559/SBL_0051559_rois_cc200.1D\n",
            "Reading timeseries file /content/BrainGNN/data/ABIDE_pcp/cpac/filt_noglobal/50169/OHSU_0050169_rois_cc200.1D\n",
            "Reading timeseries file /content/BrainGNN/data/ABIDE_pcp/cpac/filt_noglobal/50955/NYU_0050955_rois_cc200.1D\n",
            "Reading timeseries file /content/BrainGNN/data/ABIDE_pcp/cpac/filt_noglobal/50156/OHSU_0050156_rois_cc200.1D\n",
            "Reading timeseries file /content/BrainGNN/data/ABIDE_pcp/cpac/filt_noglobal/51084/NYU_0051084_rois_cc200.1D\n",
            "Reading timeseries file /content/BrainGNN/data/ABIDE_pcp/cpac/filt_noglobal/50364/UM_1_0050364_rois_cc200.1D\n",
            "Reading timeseries file /content/BrainGNN/data/ABIDE_pcp/cpac/filt_noglobal/50700/Leuven_1_0050700_rois_cc200.1D\n",
            "Reading timeseries file /content/BrainGNN/data/ABIDE_pcp/cpac/filt_noglobal/50532/USM_0050532_rois_cc200.1D\n",
            "Reading timeseries file /content/BrainGNN/data/ABIDE_pcp/cpac/filt_noglobal/51070/NYU_0051070_rois_cc200.1D\n",
            "Reading timeseries file /content/BrainGNN/data/ABIDE_pcp/cpac/filt_noglobal/50390/UM_2_0050390_rois_cc200.1D\n",
            "Reading timeseries file /content/BrainGNN/data/ABIDE_pcp/cpac/filt_noglobal/51048/NYU_0051048_rois_cc200.1D\n",
            "Reading timeseries file /content/BrainGNN/data/ABIDE_pcp/cpac/filt_noglobal/50952/NYU_0050952_rois_cc200.1D\n",
            "Reading timeseries file /content/BrainGNN/data/ABIDE_pcp/cpac/filt_noglobal/50738/Leuven_2_0050738_rois_cc200.1D\n",
            "Reading timeseries file /content/BrainGNN/data/ABIDE_pcp/cpac/filt_noglobal/50397/UM_2_0050397_rois_cc200.1D\n",
            "Reading timeseries file /content/BrainGNN/data/ABIDE_pcp/cpac/filt_noglobal/51077/NYU_0051077_rois_cc200.1D\n",
            "Reading timeseries file /content/BrainGNN/data/ABIDE_pcp/cpac/filt_noglobal/50999/NYU_0050999_rois_cc200.1D\n",
            "Reading timeseries file /content/BrainGNN/data/ABIDE_pcp/cpac/filt_noglobal/50707/Leuven_1_0050707_rois_cc200.1D\n",
            "Reading timeseries file /content/BrainGNN/data/ABIDE_pcp/cpac/filt_noglobal/50363/UM_1_0050363_rois_cc200.1D\n",
            "Reading timeseries file /content/BrainGNN/data/ABIDE_pcp/cpac/filt_noglobal/51083/NYU_0051083_rois_cc200.1D\n",
            "Reading timeseries file /content/BrainGNN/data/ABIDE_pcp/cpac/filt_noglobal/50990/NYU_0050990_rois_cc200.1D\n",
            "Reading timeseries file /content/BrainGNN/data/ABIDE_pcp/cpac/filt_noglobal/50158/OHSU_0050158_rois_cc200.1D\n",
            "Reading timeseries file /content/BrainGNN/data/ABIDE_pcp/cpac/filt_noglobal/50964/NYU_0050964_rois_cc200.1D\n",
            "Reading timeseries file /content/BrainGNN/data/ABIDE_pcp/cpac/filt_noglobal/51273/UCLA_1_0051273_rois_cc200.1D\n",
            "Reading timeseries file /content/BrainGNN/data/ABIDE_pcp/cpac/filt_noglobal/51041/NYU_0051041_rois_cc200.1D\n",
            "Reading timeseries file /content/BrainGNN/data/ABIDE_pcp/cpac/filt_noglobal/50193/SDSU_0050193_rois_cc200.1D\n",
            "Reading timeseries file /content/BrainGNN/data/ABIDE_pcp/cpac/filt_noglobal/50355/UM_1_0050355_rois_cc200.1D\n",
            "Reading timeseries file /content/BrainGNN/data/ABIDE_pcp/cpac/filt_noglobal/50167/OHSU_0050167_rois_cc200.1D\n",
            "Reading timeseries file /content/BrainGNN/data/ABIDE_pcp/cpac/filt_noglobal/50503/USM_0050503_rois_cc200.1D\n",
            "Reading timeseries file /content/BrainGNN/data/ABIDE_pcp/cpac/filt_noglobal/50731/Leuven_2_0050731_rois_cc200.1D\n",
            "Reading timeseries file /content/BrainGNN/data/ABIDE_pcp/cpac/filt_noglobal/50709/Leuven_1_0050709_rois_cc200.1D\n",
            "Reading timeseries file /content/BrainGNN/data/ABIDE_pcp/cpac/filt_noglobal/50399/UM_2_0050399_rois_cc200.1D\n",
            "Reading timeseries file /content/BrainGNN/data/ABIDE_pcp/cpac/filt_noglobal/51079/NYU_0051079_rois_cc200.1D\n",
            "Reading timeseries file /content/BrainGNN/data/ABIDE_pcp/cpac/filt_noglobal/50997/NYU_0050997_rois_cc200.1D\n",
            "Reading timeseries file /content/BrainGNN/data/ABIDE_pcp/cpac/filt_noglobal/50736/Leuven_2_0050736_rois_cc200.1D\n",
            "Reading timeseries file /content/BrainGNN/data/ABIDE_pcp/cpac/filt_noglobal/50504/USM_0050504_rois_cc200.1D\n",
            "Reading timeseries file /content/BrainGNN/data/ABIDE_pcp/cpac/filt_noglobal/50160/OHSU_0050160_rois_cc200.1D\n",
            "Reading timeseries file /content/BrainGNN/data/ABIDE_pcp/cpac/filt_noglobal/51280/UCLA_1_0051280_rois_cc200.1D\n",
            "Reading timeseries file /content/BrainGNN/data/ABIDE_pcp/cpac/filt_noglobal/50352/UM_1_0050352_rois_cc200.1D\n",
            "Reading timeseries file /content/BrainGNN/data/ABIDE_pcp/cpac/filt_noglobal/51046/NYU_0051046_rois_cc200.1D\n",
            "Reading timeseries file /content/BrainGNN/data/ABIDE_pcp/cpac/filt_noglobal/50194/SDSU_0050194_rois_cc200.1D\n",
            "Reading timeseries file /content/BrainGNN/data/ABIDE_pcp/cpac/filt_noglobal/51274/UCLA_1_0051274_rois_cc200.1D\n",
            "Reading timeseries file /content/BrainGNN/data/ABIDE_pcp/cpac/filt_noglobal/51482/Caltech_0051482_rois_cc200.1D\n",
            "Reading timeseries file /content/BrainGNN/data/ABIDE_pcp/cpac/filt_noglobal/50306/UM_1_0050306_rois_cc200.1D\n",
            "Reading timeseries file /content/BrainGNN/data/ABIDE_pcp/cpac/filt_noglobal/50134/Olin_0050134_rois_cc200.1D\n",
            "Reading timeseries file /content/BrainGNN/data/ABIDE_pcp/cpac/filt_noglobal/51220/UCLA_1_0051220_rois_cc200.1D\n",
            "Reading timeseries file /content/BrainGNN/data/ABIDE_pcp/cpac/filt_noglobal/51012/NYU_0051012_rois_cc200.1D\n",
            "Reading timeseries file /content/BrainGNN/data/ABIDE_pcp/cpac/filt_noglobal/51476/Caltech_0051476_rois_cc200.1D\n",
            "Reading timeseries file /content/BrainGNN/data/ABIDE_pcp/cpac/filt_noglobal/50796/KKI_0050796_rois_cc200.1D\n",
            "Reading timeseries file /content/BrainGNN/data/ABIDE_pcp/cpac/filt_noglobal/50339/UM_1_0050339_rois_cc200.1D\n",
            "Reading timeseries file /content/BrainGNN/data/ABIDE_pcp/cpac/filt_noglobal/50791/KKI_0050791_rois_cc200.1D\n",
            "Reading timeseries file /content/BrainGNN/data/ABIDE_pcp/cpac/filt_noglobal/51471/Caltech_0051471_rois_cc200.1D\n",
            "Reading timeseries file /content/BrainGNN/data/ABIDE_pcp/cpac/filt_noglobal/51015/NYU_0051015_rois_cc200.1D\n",
            "Reading timeseries file /content/BrainGNN/data/ABIDE_pcp/cpac/filt_noglobal/51227/UCLA_1_0051227_rois_cc200.1D\n",
            "Reading timeseries file /content/BrainGNN/data/ABIDE_pcp/cpac/filt_noglobal/50133/Olin_0050133_rois_cc200.1D\n",
            "Reading timeseries file /content/BrainGNN/data/ABIDE_pcp/cpac/filt_noglobal/50301/UM_1_0050301_rois_cc200.1D\n",
            "Reading timeseries file /content/BrainGNN/data/ABIDE_pcp/cpac/filt_noglobal/50557/Yale_0050557_rois_cc200.1D\n",
            "Reading timeseries file /content/BrainGNN/data/ABIDE_pcp/cpac/filt_noglobal/51485/Caltech_0051485_rois_cc200.1D\n",
            "Reading timeseries file /content/BrainGNN/data/ABIDE_pcp/cpac/filt_noglobal/51218/UCLA_1_0051218_rois_cc200.1D\n",
            "Reading timeseries file /content/BrainGNN/data/ABIDE_pcp/cpac/filt_noglobal/50568/Yale_0050568_rois_cc200.1D\n",
            "Reading timeseries file /content/BrainGNN/data/ABIDE_pcp/cpac/filt_noglobal/51023/NYU_0051023_rois_cc200.1D\n",
            "Reading timeseries file /content/BrainGNN/data/ABIDE_pcp/cpac/filt_noglobal/51211/UCLA_1_0051211_rois_cc200.1D\n",
            "Reading timeseries file /content/BrainGNN/data/ABIDE_pcp/cpac/filt_noglobal/50753/Leuven_2_0050753_rois_cc200.1D\n",
            "Reading timeseries file /content/BrainGNN/data/ABIDE_pcp/cpac/filt_noglobal/50561/Yale_0050561_rois_cc200.1D\n",
            "Reading timeseries file /content/BrainGNN/data/ABIDE_pcp/cpac/filt_noglobal/50105/Olin_0050105_rois_cc200.1D\n",
            "Reading timeseries file /content/BrainGNN/data/ABIDE_pcp/cpac/filt_noglobal/50337/UM_1_0050337_rois_cc200.1D\n",
            "Reading timeseries file /content/BrainGNN/data/ABIDE_pcp/cpac/filt_noglobal/51478/Caltech_0051478_rois_cc200.1D\n",
            "Reading timeseries file /content/BrainGNN/data/ABIDE_pcp/cpac/filt_noglobal/50798/KKI_0050798_rois_cc200.1D\n",
            "Reading timeseries file /content/BrainGNN/data/ABIDE_pcp/cpac/filt_noglobal/50308/UM_1_0050308_rois_cc200.1D\n",
            "Reading timeseries file /content/BrainGNN/data/ABIDE_pcp/cpac/filt_noglobal/50330/UM_1_0050330_rois_cc200.1D\n",
            "Reading timeseries file /content/BrainGNN/data/ABIDE_pcp/cpac/filt_noglobal/50102/Olin_0050102_rois_cc200.1D\n",
            "Reading timeseries file /content/BrainGNN/data/ABIDE_pcp/cpac/filt_noglobal/50566/Yale_0050566_rois_cc200.1D\n",
            "Reading timeseries file /content/BrainGNN/data/ABIDE_pcp/cpac/filt_noglobal/50754/Leuven_2_0050754_rois_cc200.1D\n",
            "Reading timeseries file /content/BrainGNN/data/ABIDE_pcp/cpac/filt_noglobal/51216/UCLA_1_0051216_rois_cc200.1D\n",
            "Reading timeseries file /content/BrainGNN/data/ABIDE_pcp/cpac/filt_noglobal/51024/NYU_0051024_rois_cc200.1D\n",
            "Reading timeseries file /content/BrainGNN/data/ABIDE_pcp/cpac/filt_noglobal/50559/Yale_0050559_rois_cc200.1D\n",
            "Reading timeseries file /content/BrainGNN/data/ABIDE_pcp/cpac/filt_noglobal/51229/UCLA_1_0051229_rois_cc200.1D\n",
            "Reading timeseries file /content/BrainGNN/data/ABIDE_pcp/cpac/filt_noglobal/50996/NYU_0050996_rois_cc200.1D\n",
            "Reading timeseries file /content/BrainGNN/data/ABIDE_pcp/cpac/filt_noglobal/51078/NYU_0051078_rois_cc200.1D\n",
            "Reading timeseries file /content/BrainGNN/data/ABIDE_pcp/cpac/filt_noglobal/50962/NYU_0050962_rois_cc200.1D\n",
            "Reading timeseries file /content/BrainGNN/data/ABIDE_pcp/cpac/filt_noglobal/50708/Leuven_1_0050708_rois_cc200.1D\n",
            "Reading timeseries file /content/BrainGNN/data/ABIDE_pcp/cpac/filt_noglobal/51275/UCLA_1_0051275_rois_cc200.1D\n",
            "Reading timeseries file /content/BrainGNN/data/ABIDE_pcp/cpac/filt_noglobal/51047/NYU_0051047_rois_cc200.1D\n",
            "Reading timeseries file /content/BrainGNN/data/ABIDE_pcp/cpac/filt_noglobal/50195/SDSU_0050195_rois_cc200.1D\n",
            "Reading timeseries file /content/BrainGNN/data/ABIDE_pcp/cpac/filt_noglobal/50505/USM_0050505_rois_cc200.1D\n",
            "Reading timeseries file /content/BrainGNN/data/ABIDE_pcp/cpac/filt_noglobal/50737/Leuven_2_0050737_rois_cc200.1D\n",
            "Reading timeseries file /content/BrainGNN/data/ABIDE_pcp/cpac/filt_noglobal/51281/UCLA_1_0051281_rois_cc200.1D\n",
            "Reading timeseries file /content/BrainGNN/data/ABIDE_pcp/cpac/filt_noglobal/50353/UM_1_0050353_rois_cc200.1D\n",
            "Reading timeseries file /content/BrainGNN/data/ABIDE_pcp/cpac/filt_noglobal/50161/OHSU_0050161_rois_cc200.1D\n",
            "Reading timeseries file /content/BrainGNN/data/ABIDE_pcp/cpac/filt_noglobal/50965/NYU_0050965_rois_cc200.1D\n",
            "Reading timeseries file /content/BrainGNN/data/ABIDE_pcp/cpac/filt_noglobal/50159/OHSU_0050159_rois_cc200.1D\n",
            "Reading timeseries file /content/BrainGNN/data/ABIDE_pcp/cpac/filt_noglobal/50991/NYU_0050991_rois_cc200.1D\n",
            "Reading timeseries file /content/BrainGNN/data/ABIDE_pcp/cpac/filt_noglobal/50166/OHSU_0050166_rois_cc200.1D\n",
            "Reading timeseries file /content/BrainGNN/data/ABIDE_pcp/cpac/filt_noglobal/50354/UM_1_0050354_rois_cc200.1D\n",
            "Reading timeseries file /content/BrainGNN/data/ABIDE_pcp/cpac/filt_noglobal/50730/Leuven_2_0050730_rois_cc200.1D\n",
            "Reading timeseries file /content/BrainGNN/data/ABIDE_pcp/cpac/filt_noglobal/50502/USM_0050502_rois_cc200.1D\n",
            "Reading timeseries file /content/BrainGNN/data/ABIDE_pcp/cpac/filt_noglobal/51040/NYU_0051040_rois_cc200.1D\n",
            "Reading timeseries file /content/BrainGNN/data/ABIDE_pcp/cpac/filt_noglobal/50192/SDSU_0050192_rois_cc200.1D\n",
            "Reading timeseries file /content/BrainGNN/data/ABIDE_pcp/cpac/filt_noglobal/51272/UCLA_1_0051272_rois_cc200.1D\n",
            "Reading timeseries file /content/BrainGNN/data/ABIDE_pcp/cpac/filt_noglobal/50739/Leuven_2_0050739_rois_cc200.1D\n",
            "Reading timeseries file /content/BrainGNN/data/ABIDE_pcp/cpac/filt_noglobal/51049/NYU_0051049_rois_cc200.1D\n",
            "Reading timeseries file /content/BrainGNN/data/ABIDE_pcp/cpac/filt_noglobal/50706/Leuven_1_0050706_rois_cc200.1D\n",
            "Reading timeseries file /content/BrainGNN/data/ABIDE_pcp/cpac/filt_noglobal/50150/OHSU_0050150_rois_cc200.1D\n",
            "Reading timeseries file /content/BrainGNN/data/ABIDE_pcp/cpac/filt_noglobal/51082/NYU_0051082_rois_cc200.1D\n",
            "Reading timeseries file /content/BrainGNN/data/ABIDE_pcp/cpac/filt_noglobal/50362/UM_1_0050362_rois_cc200.1D\n",
            "Reading timeseries file /content/BrainGNN/data/ABIDE_pcp/cpac/filt_noglobal/50998/NYU_0050998_rois_cc200.1D\n",
            "Reading timeseries file /content/BrainGNN/data/ABIDE_pcp/cpac/filt_noglobal/51076/NYU_0051076_rois_cc200.1D\n",
            "Reading timeseries file /content/BrainGNN/data/ABIDE_pcp/cpac/filt_noglobal/50954/NYU_0050954_rois_cc200.1D\n",
            "Reading timeseries file /content/BrainGNN/data/ABIDE_pcp/cpac/filt_noglobal/50168/OHSU_0050168_rois_cc200.1D\n",
            "Reading timeseries file /content/BrainGNN/data/ABIDE_pcp/cpac/filt_noglobal/50391/UM_2_0050391_rois_cc200.1D\n",
            "Reading timeseries file /content/BrainGNN/data/ABIDE_pcp/cpac/filt_noglobal/51071/NYU_0051071_rois_cc200.1D\n",
            "Reading timeseries file /content/BrainGNN/data/ABIDE_pcp/cpac/filt_noglobal/50365/UM_1_0050365_rois_cc200.1D\n",
            "Reading timeseries file /content/BrainGNN/data/ABIDE_pcp/cpac/filt_noglobal/50157/OHSU_0050157_rois_cc200.1D\n",
            "Reading timeseries file /content/BrainGNN/data/ABIDE_pcp/cpac/filt_noglobal/51085/NYU_0051085_rois_cc200.1D\n",
            "Reading timeseries file /content/BrainGNN/data/ABIDE_pcp/cpac/filt_noglobal/50701/Leuven_1_0050701_rois_cc200.1D\n",
            "Reading timeseries file /content/BrainGNN/data/ABIDE_pcp/cpac/filt_noglobal/51025/NYU_0051025_rois_cc200.1D\n",
            "Reading timeseries file /content/BrainGNN/data/ABIDE_pcp/cpac/filt_noglobal/51217/UCLA_1_0051217_rois_cc200.1D\n",
            "Reading timeseries file /content/BrainGNN/data/ABIDE_pcp/cpac/filt_noglobal/50103/Olin_0050103_rois_cc200.1D\n",
            "Reading timeseries file /content/BrainGNN/data/ABIDE_pcp/cpac/filt_noglobal/50331/UM_1_0050331_rois_cc200.1D\n",
            "Reading timeseries file /content/BrainGNN/data/ABIDE_pcp/cpac/filt_noglobal/50755/Leuven_2_0050755_rois_cc200.1D\n",
            "Reading timeseries file /content/BrainGNN/data/ABIDE_pcp/cpac/filt_noglobal/50567/Yale_0050567_rois_cc200.1D\n",
            "Reading timeseries file /content/BrainGNN/data/ABIDE_pcp/cpac/filt_noglobal/51228/UCLA_1_0051228_rois_cc200.1D\n",
            "Reading timeseries file /content/BrainGNN/data/ABIDE_pcp/cpac/filt_noglobal/50558/Yale_0050558_rois_cc200.1D\n",
            "Reading timeseries file /content/BrainGNN/data/ABIDE_pcp/cpac/filt_noglobal/50560/Yale_0050560_rois_cc200.1D\n",
            "Reading timeseries file /content/BrainGNN/data/ABIDE_pcp/cpac/filt_noglobal/50752/Leuven_2_0050752_rois_cc200.1D\n",
            "Reading timeseries file /content/BrainGNN/data/ABIDE_pcp/cpac/filt_noglobal/50336/UM_1_0050336_rois_cc200.1D\n",
            "Reading timeseries file /content/BrainGNN/data/ABIDE_pcp/cpac/filt_noglobal/50104/Olin_0050104_rois_cc200.1D\n",
            "Reading timeseries file /content/BrainGNN/data/ABIDE_pcp/cpac/filt_noglobal/51210/UCLA_1_0051210_rois_cc200.1D\n",
            "Reading timeseries file /content/BrainGNN/data/ABIDE_pcp/cpac/filt_noglobal/50799/KKI_0050799_rois_cc200.1D\n",
            "Reading timeseries file /content/BrainGNN/data/ABIDE_pcp/cpac/filt_noglobal/51479/Caltech_0051479_rois_cc200.1D\n",
            "Reading timeseries file /content/BrainGNN/data/ABIDE_pcp/cpac/filt_noglobal/50300/UM_1_0050300_rois_cc200.1D\n",
            "Reading timeseries file /content/BrainGNN/data/ABIDE_pcp/cpac/filt_noglobal/50132/Olin_0050132_rois_cc200.1D\n",
            "Reading timeseries file /content/BrainGNN/data/ABIDE_pcp/cpac/filt_noglobal/50556/Yale_0050556_rois_cc200.1D\n",
            "Reading timeseries file /content/BrainGNN/data/ABIDE_pcp/cpac/filt_noglobal/51484/Caltech_0051484_rois_cc200.1D\n",
            "Reading timeseries file /content/BrainGNN/data/ABIDE_pcp/cpac/filt_noglobal/51470/Caltech_0051470_rois_cc200.1D\n",
            "Reading timeseries file /content/BrainGNN/data/ABIDE_pcp/cpac/filt_noglobal/50790/KKI_0050790_rois_cc200.1D\n",
            "Reading timeseries file /content/BrainGNN/data/ABIDE_pcp/cpac/filt_noglobal/51226/UCLA_1_0051226_rois_cc200.1D\n",
            "Reading timeseries file /content/BrainGNN/data/ABIDE_pcp/cpac/filt_noglobal/51014/NYU_0051014_rois_cc200.1D\n",
            "Reading timeseries file /content/BrainGNN/data/ABIDE_pcp/cpac/filt_noglobal/50569/Yale_0050569_rois_cc200.1D\n",
            "Reading timeseries file /content/BrainGNN/data/ABIDE_pcp/cpac/filt_noglobal/51219/UCLA_1_0051219_rois_cc200.1D\n",
            "Reading timeseries file /content/BrainGNN/data/ABIDE_pcp/cpac/filt_noglobal/51013/NYU_0051013_rois_cc200.1D\n",
            "Reading timeseries file /content/BrainGNN/data/ABIDE_pcp/cpac/filt_noglobal/51221/UCLA_1_0051221_rois_cc200.1D\n",
            "Reading timeseries file /content/BrainGNN/data/ABIDE_pcp/cpac/filt_noglobal/50797/KKI_0050797_rois_cc200.1D\n",
            "Reading timeseries file /content/BrainGNN/data/ABIDE_pcp/cpac/filt_noglobal/51477/Caltech_0051477_rois_cc200.1D\n",
            "Reading timeseries file /content/BrainGNN/data/ABIDE_pcp/cpac/filt_noglobal/50551/Yale_0050551_rois_cc200.1D\n",
            "Reading timeseries file /content/BrainGNN/data/ABIDE_pcp/cpac/filt_noglobal/51483/Caltech_0051483_rois_cc200.1D\n",
            "Reading timeseries file /content/BrainGNN/data/ABIDE_pcp/cpac/filt_noglobal/50135/Olin_0050135_rois_cc200.1D\n",
            "Reading timeseries file /content/BrainGNN/data/ABIDE_pcp/cpac/filt_noglobal/50307/UM_1_0050307_rois_cc200.1D\n",
            "Reading timeseries file /content/BrainGNN/data/ABIDE_pcp/cpac/filt_noglobal/50338/UM_1_0050338_rois_cc200.1D\n",
            "Reading timeseries file /content/BrainGNN/data/ABIDE_pcp/cpac/filt_noglobal/50171/OHSU_0050171_rois_cc200.1D\n",
            "Reading timeseries file /content/BrainGNN/data/ABIDE_pcp/cpac/filt_noglobal/50343/UM_1_0050343_rois_cc200.1D\n",
            "Reading timeseries file /content/BrainGNN/data/ABIDE_pcp/cpac/filt_noglobal/51291/UCLA_2_0051291_rois_cc200.1D\n",
            "Reading timeseries file /content/BrainGNN/data/ABIDE_pcp/cpac/filt_noglobal/50727/Leuven_2_0050727_rois_cc200.1D\n",
            "Reading timeseries file /content/BrainGNN/data/ABIDE_pcp/cpac/filt_noglobal/50515/USM_0050515_rois_cc200.1D\n",
            "Reading timeseries file /content/BrainGNN/data/ABIDE_pcp/cpac/filt_noglobal/50185/SDSU_0050185_rois_cc200.1D\n",
            "Reading timeseries file /content/BrainGNN/data/ABIDE_pcp/cpac/filt_noglobal/51057/NYU_0051057_rois_cc200.1D\n",
            "Reading timeseries file /content/BrainGNN/data/ABIDE_pcp/cpac/filt_noglobal/51265/UCLA_1_0051265_rois_cc200.1D\n",
            "Reading timeseries file /content/BrainGNN/data/ABIDE_pcp/cpac/filt_noglobal/50972/NYU_0050972_rois_cc200.1D\n",
            "Reading timeseries file /content/BrainGNN/data/ABIDE_pcp/cpac/filt_noglobal/50388/UM_2_0050388_rois_cc200.1D\n",
            "Reading timeseries file /content/BrainGNN/data/ABIDE_pcp/cpac/filt_noglobal/50986/NYU_0050986_rois_cc200.1D\n",
            "Reading timeseries file /content/BrainGNN/data/ABIDE_pcp/cpac/filt_noglobal/51068/NYU_0051068_rois_cc200.1D\n",
            "Reading timeseries file /content/BrainGNN/data/ABIDE_pcp/cpac/filt_noglobal/51262/UCLA_1_0051262_rois_cc200.1D\n",
            "Reading timeseries file /content/BrainGNN/data/ABIDE_pcp/cpac/filt_noglobal/50182/SDSU_0050182_rois_cc200.1D\n",
            "Reading timeseries file /content/BrainGNN/data/ABIDE_pcp/cpac/filt_noglobal/51050/NYU_0051050_rois_cc200.1D\n",
            "Reading timeseries file /content/BrainGNN/data/ABIDE_pcp/cpac/filt_noglobal/51606/MaxMun_a_0051606_rois_cc200.1D\n",
            "Reading timeseries file /content/BrainGNN/data/ABIDE_pcp/cpac/filt_noglobal/50344/UM_1_0050344_rois_cc200.1D\n",
            "Reading timeseries file /content/BrainGNN/data/ABIDE_pcp/cpac/filt_noglobal/51296/UCLA_2_0051296_rois_cc200.1D\n",
            "Reading timeseries file /content/BrainGNN/data/ABIDE_pcp/cpac/filt_noglobal/50981/NYU_0050981_rois_cc200.1D\n",
            "Reading timeseries file /content/BrainGNN/data/ABIDE_pcp/cpac/filt_noglobal/50149/OHSU_0050149_rois_cc200.1D\n",
            "Reading timeseries file /content/BrainGNN/data/ABIDE_pcp/cpac/filt_noglobal/51254/UCLA_1_0051254_rois_cc200.1D\n",
            "Reading timeseries file /content/BrainGNN/data/ABIDE_pcp/cpac/filt_noglobal/50386/UM_2_0050386_rois_cc200.1D\n",
            "Reading timeseries file /content/BrainGNN/data/ABIDE_pcp/cpac/filt_noglobal/50988/NYU_0050988_rois_cc200.1D\n",
            "Reading timeseries file /content/BrainGNN/data/ABIDE_pcp/cpac/filt_noglobal/51066/NYU_0051066_rois_cc200.1D\n",
            "Reading timeseries file /content/BrainGNN/data/ABIDE_pcp/cpac/filt_noglobal/50372/UM_1_0050372_rois_cc200.1D\n",
            "Reading timeseries file /content/BrainGNN/data/ABIDE_pcp/cpac/filt_noglobal/50524/USM_0050524_rois_cc200.1D\n",
            "Reading timeseries file /content/BrainGNN/data/ABIDE_pcp/cpac/filt_noglobal/51059/NYU_0051059_rois_cc200.1D\n",
            "Reading timeseries file /content/BrainGNN/data/ABIDE_pcp/cpac/filt_noglobal/50711/Leuven_1_0050711_rois_cc200.1D\n",
            "Reading timeseries file /content/BrainGNN/data/ABIDE_pcp/cpac/filt_noglobal/50523/USM_0050523_rois_cc200.1D\n",
            "Reading timeseries file /content/BrainGNN/data/ABIDE_pcp/cpac/filt_noglobal/51095/NYU_0051095_rois_cc200.1D\n",
            "Reading timeseries file /content/BrainGNN/data/ABIDE_pcp/cpac/filt_noglobal/50147/OHSU_0050147_rois_cc200.1D\n",
            "Reading timeseries file /content/BrainGNN/data/ABIDE_pcp/cpac/filt_noglobal/50375/UM_1_0050375_rois_cc200.1D\n",
            "Reading timeseries file /content/BrainGNN/data/ABIDE_pcp/cpac/filt_noglobal/51061/NYU_0051061_rois_cc200.1D\n",
            "Reading timeseries file /content/BrainGNN/data/ABIDE_pcp/cpac/filt_noglobal/51253/UCLA_1_0051253_rois_cc200.1D\n",
            "Reading timeseries file /content/BrainGNN/data/ABIDE_pcp/cpac/filt_noglobal/50381/UM_1_0050381_rois_cc200.1D\n",
            "Reading timeseries file /content/BrainGNN/data/ABIDE_pcp/cpac/filt_noglobal/51298/UCLA_2_0051298_rois_cc200.1D\n",
            "Reading timeseries file /content/BrainGNN/data/ABIDE_pcp/cpac/filt_noglobal/51238/UCLA_1_0051238_rois_cc200.1D\n",
            "Reading timeseries file /content/BrainGNN/data/ABIDE_pcp/cpac/filt_noglobal/50577/Yale_0050577_rois_cc200.1D\n",
            "Reading timeseries file /content/BrainGNN/data/ABIDE_pcp/cpac/filt_noglobal/50745/Leuven_2_0050745_rois_cc200.1D\n",
            "Reading timeseries file /content/BrainGNN/data/ABIDE_pcp/cpac/filt_noglobal/50321/UM_1_0050321_rois_cc200.1D\n",
            "Reading timeseries file /content/BrainGNN/data/ABIDE_pcp/cpac/filt_noglobal/50113/Olin_0050113_rois_cc200.1D\n",
            "Reading timeseries file /content/BrainGNN/data/ABIDE_pcp/cpac/filt_noglobal/51207/UCLA_1_0051207_rois_cc200.1D\n",
            "Reading timeseries file /content/BrainGNN/data/ABIDE_pcp/cpac/filt_noglobal/51035/NYU_0051035_rois_cc200.1D\n",
            "Reading timeseries file /content/BrainGNN/data/ABIDE_pcp/cpac/filt_noglobal/51469/Caltech_0051469_rois_cc200.1D\n",
            "Reading timeseries file /content/BrainGNN/data/ABIDE_pcp/cpac/filt_noglobal/50789/KKI_0050789_rois_cc200.1D\n",
            "Reading timeseries file /content/BrainGNN/data/ABIDE_pcp/cpac/filt_noglobal/50319/UM_1_0050319_rois_cc200.1D\n",
            "Reading timeseries file /content/BrainGNN/data/ABIDE_pcp/cpac/filt_noglobal/51456/Caltech_0051456_rois_cc200.1D\n",
            "Reading timeseries file /content/BrainGNN/data/ABIDE_pcp/cpac/filt_noglobal/51032/NYU_0051032_rois_cc200.1D\n",
            "Reading timeseries file /content/BrainGNN/data/ABIDE_pcp/cpac/filt_noglobal/50114/Olin_0050114_rois_cc200.1D\n",
            "Reading timeseries file /content/BrainGNN/data/ABIDE_pcp/cpac/filt_noglobal/50326/UM_1_0050326_rois_cc200.1D\n",
            "Reading timeseries file /content/BrainGNN/data/ABIDE_pcp/cpac/filt_noglobal/50742/Leuven_2_0050742_rois_cc200.1D\n",
            "Reading timeseries file /content/BrainGNN/data/ABIDE_pcp/cpac/filt_noglobal/50570/Yale_0050570_rois_cc200.1D\n",
            "Reading timeseries file /content/BrainGNN/data/ABIDE_pcp/cpac/filt_noglobal/51209/UCLA_1_0051209_rois_cc200.1D\n",
            "Reading timeseries file /content/BrainGNN/data/ABIDE_pcp/cpac/filt_noglobal/51236/UCLA_1_0051236_rois_cc200.1D\n",
            "Reading timeseries file /content/BrainGNN/data/ABIDE_pcp/cpac/filt_noglobal/50780/KKI_0050780_rois_cc200.1D\n",
            "Reading timeseries file /content/BrainGNN/data/ABIDE_pcp/cpac/filt_noglobal/51460/Caltech_0051460_rois_cc200.1D\n",
            "Reading timeseries file /content/BrainGNN/data/ABIDE_pcp/cpac/filt_noglobal/50774/KKI_0050774_rois_cc200.1D\n",
            "Reading timeseries file /content/BrainGNN/data/ABIDE_pcp/cpac/filt_noglobal/50122/Olin_0050122_rois_cc200.1D\n",
            "Reading timeseries file /content/BrainGNN/data/ABIDE_pcp/cpac/filt_noglobal/50310/UM_1_0050310_rois_cc200.1D\n",
            "Reading timeseries file /content/BrainGNN/data/ABIDE_pcp/cpac/filt_noglobal/51458/Caltech_0051458_rois_cc200.1D\n",
            "Reading timeseries file /content/BrainGNN/data/ABIDE_pcp/cpac/filt_noglobal/50317/UM_1_0050317_rois_cc200.1D\n",
            "Reading timeseries file /content/BrainGNN/data/ABIDE_pcp/cpac/filt_noglobal/50125/Olin_0050125_rois_cc200.1D\n",
            "Reading timeseries file /content/BrainGNN/data/ABIDE_pcp/cpac/filt_noglobal/51493/Caltech_0051493_rois_cc200.1D\n",
            "Reading timeseries file /content/BrainGNN/data/ABIDE_pcp/cpac/filt_noglobal/50773/KKI_0050773_rois_cc200.1D\n",
            "Reading timeseries file /content/BrainGNN/data/ABIDE_pcp/cpac/filt_noglobal/51467/Caltech_0051467_rois_cc200.1D\n",
            "Reading timeseries file /content/BrainGNN/data/ABIDE_pcp/cpac/filt_noglobal/50787/KKI_0050787_rois_cc200.1D\n",
            "Reading timeseries file /content/BrainGNN/data/ABIDE_pcp/cpac/filt_noglobal/51231/UCLA_1_0051231_rois_cc200.1D\n",
            "Reading timeseries file /content/BrainGNN/data/ABIDE_pcp/cpac/filt_noglobal/51003/NYU_0051003_rois_cc200.1D\n",
            "Reading timeseries file /content/BrainGNN/data/ABIDE_pcp/cpac/filt_noglobal/51252/UCLA_1_0051252_rois_cc200.1D\n",
            "Reading timeseries file /content/BrainGNN/data/ABIDE_pcp/cpac/filt_noglobal/50380/UM_1_0050380_rois_cc200.1D\n",
            "Reading timeseries file /content/BrainGNN/data/ABIDE_pcp/cpac/filt_noglobal/51060/NYU_0051060_rois_cc200.1D\n",
            "Reading timeseries file /content/BrainGNN/data/ABIDE_pcp/cpac/filt_noglobal/50710/Leuven_1_0050710_rois_cc200.1D\n",
            "Reading timeseries file /content/BrainGNN/data/ABIDE_pcp/cpac/filt_noglobal/50374/UM_1_0050374_rois_cc200.1D\n",
            "Reading timeseries file /content/BrainGNN/data/ABIDE_pcp/cpac/filt_noglobal/51094/NYU_0051094_rois_cc200.1D\n",
            "Reading timeseries file /content/BrainGNN/data/ABIDE_pcp/cpac/filt_noglobal/50146/OHSU_0050146_rois_cc200.1D\n",
            "Reading timeseries file /content/BrainGNN/data/ABIDE_pcp/cpac/filt_noglobal/51299/UCLA_2_0051299_rois_cc200.1D\n",
            "Reading timeseries file /content/BrainGNN/data/ABIDE_pcp/cpac/filt_noglobal/51093/NYU_0051093_rois_cc200.1D\n",
            "Reading timeseries file /content/BrainGNN/data/ABIDE_pcp/cpac/filt_noglobal/50373/UM_1_0050373_rois_cc200.1D\n",
            "Reading timeseries file /content/BrainGNN/data/ABIDE_pcp/cpac/filt_noglobal/50525/USM_0050525_rois_cc200.1D\n",
            "Reading timeseries file /content/BrainGNN/data/ABIDE_pcp/cpac/filt_noglobal/51067/NYU_0051067_rois_cc200.1D\n",
            "Reading timeseries file /content/BrainGNN/data/ABIDE_pcp/cpac/filt_noglobal/50989/NYU_0050989_rois_cc200.1D\n",
            "Reading timeseries file /content/BrainGNN/data/ABIDE_pcp/cpac/filt_noglobal/51255/UCLA_1_0051255_rois_cc200.1D\n",
            "Reading timeseries file /content/BrainGNN/data/ABIDE_pcp/cpac/filt_noglobal/50387/UM_2_0050387_rois_cc200.1D\n",
            "Reading timeseries file /content/BrainGNN/data/ABIDE_pcp/cpac/filt_noglobal/50728/Leuven_2_0050728_rois_cc200.1D\n",
            "Reading timeseries file /content/BrainGNN/data/ABIDE_pcp/cpac/filt_noglobal/51058/NYU_0051058_rois_cc200.1D\n",
            "Reading timeseries file /content/BrainGNN/data/ABIDE_pcp/cpac/filt_noglobal/50345/UM_1_0050345_rois_cc200.1D\n",
            "Reading timeseries file /content/BrainGNN/data/ABIDE_pcp/cpac/filt_noglobal/51297/UCLA_2_0051297_rois_cc200.1D\n",
            "Reading timeseries file /content/BrainGNN/data/ABIDE_pcp/cpac/filt_noglobal/50183/SDSU_0050183_rois_cc200.1D\n",
            "Reading timeseries file /content/BrainGNN/data/ABIDE_pcp/cpac/filt_noglobal/51051/NYU_0051051_rois_cc200.1D\n",
            "Reading timeseries file /content/BrainGNN/data/ABIDE_pcp/cpac/filt_noglobal/51263/UCLA_1_0051263_rois_cc200.1D\n",
            "Reading timeseries file /content/BrainGNN/data/ABIDE_pcp/cpac/filt_noglobal/51607/MaxMun_a_0051607_rois_cc200.1D\n",
            "Reading timeseries file /content/BrainGNN/data/ABIDE_pcp/cpac/filt_noglobal/50148/OHSU_0050148_rois_cc200.1D\n",
            "Reading timeseries file /content/BrainGNN/data/ABIDE_pcp/cpac/filt_noglobal/50974/NYU_0050974_rois_cc200.1D\n",
            "Reading timeseries file /content/BrainGNN/data/ABIDE_pcp/cpac/filt_noglobal/51264/UCLA_1_0051264_rois_cc200.1D\n",
            "Reading timeseries file /content/BrainGNN/data/ABIDE_pcp/cpac/filt_noglobal/50184/SDSU_0050184_rois_cc200.1D\n",
            "Reading timeseries file /content/BrainGNN/data/ABIDE_pcp/cpac/filt_noglobal/51056/NYU_0051056_rois_cc200.1D\n",
            "Reading timeseries file /content/BrainGNN/data/ABIDE_pcp/cpac/filt_noglobal/50342/UM_1_0050342_rois_cc200.1D\n",
            "Reading timeseries file /content/BrainGNN/data/ABIDE_pcp/cpac/filt_noglobal/50170/OHSU_0050170_rois_cc200.1D\n",
            "Reading timeseries file /content/BrainGNN/data/ABIDE_pcp/cpac/filt_noglobal/50514/USM_0050514_rois_cc200.1D\n",
            "Reading timeseries file /content/BrainGNN/data/ABIDE_pcp/cpac/filt_noglobal/50726/Leuven_2_0050726_rois_cc200.1D\n",
            "Reading timeseries file /content/BrainGNN/data/ABIDE_pcp/cpac/filt_noglobal/51069/NYU_0051069_rois_cc200.1D\n",
            "Reading timeseries file /content/BrainGNN/data/ABIDE_pcp/cpac/filt_noglobal/50987/NYU_0050987_rois_cc200.1D\n",
            "Reading timeseries file /content/BrainGNN/data/ABIDE_pcp/cpac/filt_noglobal/50973/NYU_0050973_rois_cc200.1D\n",
            "Reading timeseries file /content/BrainGNN/data/ABIDE_pcp/cpac/filt_noglobal/51459/Caltech_0051459_rois_cc200.1D\n",
            "Reading timeseries file /content/BrainGNN/data/ABIDE_pcp/cpac/filt_noglobal/50329/UM_1_0050329_rois_cc200.1D\n",
            "Reading timeseries file /content/BrainGNN/data/ABIDE_pcp/cpac/filt_noglobal/50786/KKI_0050786_rois_cc200.1D\n",
            "Reading timeseries file /content/BrainGNN/data/ABIDE_pcp/cpac/filt_noglobal/51466/Caltech_0051466_rois_cc200.1D\n",
            "Reading timeseries file /content/BrainGNN/data/ABIDE_pcp/cpac/filt_noglobal/51002/NYU_0051002_rois_cc200.1D\n",
            "Reading timeseries file /content/BrainGNN/data/ABIDE_pcp/cpac/filt_noglobal/51230/UCLA_1_0051230_rois_cc200.1D\n",
            "Reading timeseries file /content/BrainGNN/data/ABIDE_pcp/cpac/filt_noglobal/50124/Olin_0050124_rois_cc200.1D\n",
            "Reading timeseries file /content/BrainGNN/data/ABIDE_pcp/cpac/filt_noglobal/50316/UM_1_0050316_rois_cc200.1D\n",
            "Reading timeseries file /content/BrainGNN/data/ABIDE_pcp/cpac/filt_noglobal/50772/KKI_0050772_rois_cc200.1D\n",
            "Reading timeseries file /content/BrainGNN/data/ABIDE_pcp/cpac/filt_noglobal/51492/Caltech_0051492_rois_cc200.1D\n",
            "Reading timeseries file /content/BrainGNN/data/ABIDE_pcp/cpac/filt_noglobal/50578/Yale_0050578_rois_cc200.1D\n",
            "Reading timeseries file /content/BrainGNN/data/ABIDE_pcp/cpac/filt_noglobal/51208/UCLA_1_0051208_rois_cc200.1D\n",
            "Reading timeseries file /content/BrainGNN/data/ABIDE_pcp/cpac/filt_noglobal/50775/KKI_0050775_rois_cc200.1D\n",
            "Reading timeseries file /content/BrainGNN/data/ABIDE_pcp/cpac/filt_noglobal/50311/UM_1_0050311_rois_cc200.1D\n",
            "Reading timeseries file /content/BrainGNN/data/ABIDE_pcp/cpac/filt_noglobal/50123/Olin_0050123_rois_cc200.1D\n",
            "Reading timeseries file /content/BrainGNN/data/ABIDE_pcp/cpac/filt_noglobal/51237/UCLA_1_0051237_rois_cc200.1D\n",
            "Reading timeseries file /content/BrainGNN/data/ABIDE_pcp/cpac/filt_noglobal/51461/Caltech_0051461_rois_cc200.1D\n",
            "Reading timeseries file /content/BrainGNN/data/ABIDE_pcp/cpac/filt_noglobal/50781/KKI_0050781_rois_cc200.1D\n",
            "Reading timeseries file /content/BrainGNN/data/ABIDE_pcp/cpac/filt_noglobal/50318/UM_1_0050318_rois_cc200.1D\n",
            "Reading timeseries file /content/BrainGNN/data/ABIDE_pcp/cpac/filt_noglobal/50788/KKI_0050788_rois_cc200.1D\n",
            "Reading timeseries file /content/BrainGNN/data/ABIDE_pcp/cpac/filt_noglobal/51468/Caltech_0051468_rois_cc200.1D\n",
            "Reading timeseries file /content/BrainGNN/data/ABIDE_pcp/cpac/filt_noglobal/50327/UM_1_0050327_rois_cc200.1D\n",
            "Reading timeseries file /content/BrainGNN/data/ABIDE_pcp/cpac/filt_noglobal/50115/Olin_0050115_rois_cc200.1D\n",
            "Reading timeseries file /content/BrainGNN/data/ABIDE_pcp/cpac/filt_noglobal/50571/Yale_0050571_rois_cc200.1D\n",
            "Reading timeseries file /content/BrainGNN/data/ABIDE_pcp/cpac/filt_noglobal/50743/Leuven_2_0050743_rois_cc200.1D\n",
            "Reading timeseries file /content/BrainGNN/data/ABIDE_pcp/cpac/filt_noglobal/51457/Caltech_0051457_rois_cc200.1D\n",
            "Reading timeseries file /content/BrainGNN/data/ABIDE_pcp/cpac/filt_noglobal/51201/UCLA_1_0051201_rois_cc200.1D\n",
            "Reading timeseries file /content/BrainGNN/data/ABIDE_pcp/cpac/filt_noglobal/51033/NYU_0051033_rois_cc200.1D\n",
            "Reading timeseries file /content/BrainGNN/data/ABIDE_pcp/cpac/filt_noglobal/51239/UCLA_1_0051239_rois_cc200.1D\n",
            "Reading timeseries file /content/BrainGNN/data/ABIDE_pcp/cpac/filt_noglobal/51034/NYU_0051034_rois_cc200.1D\n",
            "Reading timeseries file /content/BrainGNN/data/ABIDE_pcp/cpac/filt_noglobal/51206/UCLA_1_0051206_rois_cc200.1D\n",
            "Reading timeseries file /content/BrainGNN/data/ABIDE_pcp/cpac/filt_noglobal/50744/Leuven_2_0050744_rois_cc200.1D\n",
            "Reading timeseries file /content/BrainGNN/data/ABIDE_pcp/cpac/filt_noglobal/50576/Yale_0050576_rois_cc200.1D\n",
            "Reading timeseries file /content/BrainGNN/data/ABIDE_pcp/cpac/filt_noglobal/50112/Olin_0050112_rois_cc200.1D\n",
            "Reading timeseries file /content/BrainGNN/data/ABIDE_pcp/cpac/filt_noglobal/50320/UM_1_0050320_rois_cc200.1D\n",
            "Reading timeseries file /content/BrainGNN/data/ABIDE_pcp/cpac/filt_noglobal/50060/Pitt_0050060_rois_cc200.1D\n",
            "Reading timeseries file /content/BrainGNN/data/ABIDE_pcp/cpac/filt_noglobal/50252/Trinity_0050252_rois_cc200.1D\n",
            "Reading timeseries file /content/BrainGNN/data/ABIDE_pcp/cpac/filt_noglobal/50404/UM_2_0050404_rois_cc200.1D\n",
            "Reading timeseries file /content/BrainGNN/data/ABIDE_pcp/cpac/filt_noglobal/51146/NYU_0051146_rois_cc200.1D\n",
            "Reading timeseries file /content/BrainGNN/data/ABIDE_pcp/cpac/filt_noglobal/50609/Yale_0050609_rois_cc200.1D\n",
            "Reading timeseries file /content/BrainGNN/data/ABIDE_pcp/cpac/filt_noglobal/50299/UM_1_0050299_rois_cc200.1D\n",
            "Reading timeseries file /content/BrainGNN/data/ABIDE_pcp/cpac/filt_noglobal/51179/Stanford_0051179_rois_cc200.1D\n",
            "Reading timeseries file /content/BrainGNN/data/ABIDE_pcp/cpac/filt_noglobal/51373/MaxMun_a_0051373_rois_cc200.1D\n",
            "Reading timeseries file /content/BrainGNN/data/ABIDE_pcp/cpac/filt_noglobal/51141/Trinity_0051141_rois_cc200.1D\n",
            "Reading timeseries file /content/BrainGNN/data/ABIDE_pcp/cpac/filt_noglobal/50403/UM_2_0050403_rois_cc200.1D\n",
            "Reading timeseries file /content/BrainGNN/data/ABIDE_pcp/cpac/filt_noglobal/50255/Trinity_0050255_rois_cc200.1D\n",
            "Reading timeseries file /content/BrainGNN/data/ABIDE_pcp/cpac/filt_noglobal/50058/Pitt_0050058_rois_cc200.1D\n",
            "Reading timeseries file /content/BrainGNN/data/ABIDE_pcp/cpac/filt_noglobal/50297/UM_1_0050297_rois_cc200.1D\n",
            "Reading timeseries file /content/BrainGNN/data/ABIDE_pcp/cpac/filt_noglobal/51345/MaxMun_c_0051345_rois_cc200.1D\n",
            "Reading timeseries file /content/BrainGNN/data/ABIDE_pcp/cpac/filt_noglobal/51177/Stanford_0051177_rois_cc200.1D\n",
            "Reading timeseries file /content/BrainGNN/data/ABIDE_pcp/cpac/filt_noglobal/50263/Trinity_0050263_rois_cc200.1D\n",
            "Reading timeseries file /content/BrainGNN/data/ABIDE_pcp/cpac/filt_noglobal/50051/Pitt_0050051_rois_cc200.1D\n",
            "Reading timeseries file /content/BrainGNN/data/ABIDE_pcp/cpac/filt_noglobal/51183/Stanford_0051183_rois_cc200.1D\n",
            "Reading timeseries file /content/BrainGNN/data/ABIDE_pcp/cpac/filt_noglobal/50435/USM_0050435_rois_cc200.1D\n",
            "Reading timeseries file /content/BrainGNN/data/ABIDE_pcp/cpac/filt_noglobal/50607/Yale_0050607_rois_cc200.1D\n",
            "Reading timeseries file /content/BrainGNN/data/ABIDE_pcp/cpac/filt_noglobal/51148/NYU_0051148_rois_cc200.1D\n",
            "Reading timeseries file /content/BrainGNN/data/ABIDE_pcp/cpac/filt_noglobal/50056/Pitt_0050056_rois_cc200.1D\n",
            "Reading timeseries file /content/BrainGNN/data/ABIDE_pcp/cpac/filt_noglobal/51184/Stanford_0051184_rois_cc200.1D\n",
            "Reading timeseries file /content/BrainGNN/data/ABIDE_pcp/cpac/filt_noglobal/50264/Trinity_0050264_rois_cc200.1D\n",
            "Reading timeseries file /content/BrainGNN/data/ABIDE_pcp/cpac/filt_noglobal/51170/Stanford_0051170_rois_cc200.1D\n",
            "Reading timeseries file /content/BrainGNN/data/ABIDE_pcp/cpac/filt_noglobal/50290/UM_1_0050290_rois_cc200.1D\n",
            "Reading timeseries file /content/BrainGNN/data/ABIDE_pcp/cpac/filt_noglobal/51342/MaxMun_c_0051342_rois_cc200.1D\n",
            "Reading timeseries file /content/BrainGNN/data/ABIDE_pcp/cpac/filt_noglobal/50801/KKI_0050801_rois_cc200.1D\n",
            "Reading timeseries file /content/BrainGNN/data/ABIDE_pcp/cpac/filt_noglobal/51329/MaxMun_d_0051329_rois_cc200.1D\n",
            "Reading timeseries file /content/BrainGNN/data/ABIDE_pcp/cpac/filt_noglobal/50466/USM_0050466_rois_cc200.1D\n",
            "Reading timeseries file /content/BrainGNN/data/ABIDE_pcp/cpac/filt_noglobal/50654/CMU_a_0050654_rois_cc200.1D\n",
            "Reading timeseries file /content/BrainGNN/data/ABIDE_pcp/cpac/filt_noglobal/51316/UCLA_2_0051316_rois_cc200.1D\n",
            "Reading timeseries file /content/BrainGNN/data/ABIDE_pcp/cpac/filt_noglobal/51124/NYU_0051124_rois_cc200.1D\n",
            "Reading timeseries file /content/BrainGNN/data/ABIDE_pcp/cpac/filt_noglobal/50492/USM_0050492_rois_cc200.1D\n",
            "Reading timeseries file /content/BrainGNN/data/ABIDE_pcp/cpac/filt_noglobal/51578/SBL_0051578_rois_cc200.1D\n",
            "Reading timeseries file /content/BrainGNN/data/ABIDE_pcp/cpac/filt_noglobal/50698/Leuven_1_0050698_rois_cc200.1D\n",
            "Reading timeseries file /content/BrainGNN/data/ABIDE_pcp/cpac/filt_noglobal/50208/SDSU_0050208_rois_cc200.1D\n",
            "Reading timeseries file /content/BrainGNN/data/ABIDE_pcp/cpac/filt_noglobal/51123/NYU_0051123_rois_cc200.1D\n",
            "Reading timeseries file /content/BrainGNN/data/ABIDE_pcp/cpac/filt_noglobal/51311/UCLA_2_0051311_rois_cc200.1D\n",
            "Reading timeseries file /content/BrainGNN/data/ABIDE_pcp/cpac/filt_noglobal/50005/Pitt_0050005_rois_cc200.1D\n",
            "Reading timeseries file /content/BrainGNN/data/ABIDE_pcp/cpac/filt_noglobal/50237/Trinity_0050237_rois_cc200.1D\n",
            "Reading timeseries file /content/BrainGNN/data/ABIDE_pcp/cpac/filt_noglobal/50653/CMU_a_0050653_rois_cc200.1D\n",
            "Reading timeseries file /content/BrainGNN/data/ABIDE_pcp/cpac/filt_noglobal/51318/MaxMun_a_0051318_rois_cc200.1D\n",
            "Reading timeseries file /content/BrainGNN/data/ABIDE_pcp/cpac/filt_noglobal/50468/USM_0050468_rois_cc200.1D\n",
            "Reading timeseries file /content/BrainGNN/data/ABIDE_pcp/cpac/filt_noglobal/51327/MaxMun_b_0051327_rois_cc200.1D\n",
            "Reading timeseries file /content/BrainGNN/data/ABIDE_pcp/cpac/filt_noglobal/50691/Leuven_1_0050691_rois_cc200.1D\n",
            "Reading timeseries file /content/BrainGNN/data/ABIDE_pcp/cpac/filt_noglobal/51571/SBL_0051571_rois_cc200.1D\n",
            "Reading timeseries file /content/BrainGNN/data/ABIDE_pcp/cpac/filt_noglobal/50665/CMU_a_0050665_rois_cc200.1D\n",
            "Reading timeseries file /content/BrainGNN/data/ABIDE_pcp/cpac/filt_noglobal/51585/SBL_0051585_rois_cc200.1D\n",
            "Reading timeseries file /content/BrainGNN/data/ABIDE_pcp/cpac/filt_noglobal/50033/Pitt_0050033_rois_cc200.1D\n",
            "Reading timeseries file /content/BrainGNN/data/ABIDE_pcp/cpac/filt_noglobal/50201/SDSU_0050201_rois_cc200.1D\n",
            "Reading timeseries file /content/BrainGNN/data/ABIDE_pcp/cpac/filt_noglobal/50239/Trinity_0050239_rois_cc200.1D\n",
            "Reading timeseries file /content/BrainGNN/data/ABIDE_pcp/cpac/filt_noglobal/50206/SDSU_0050206_rois_cc200.1D\n",
            "Reading timeseries file /content/BrainGNN/data/ABIDE_pcp/cpac/filt_noglobal/50034/Pitt_0050034_rois_cc200.1D\n",
            "Reading timeseries file /content/BrainGNN/data/ABIDE_pcp/cpac/filt_noglobal/51582/SBL_0051582_rois_cc200.1D\n",
            "Reading timeseries file /content/BrainGNN/data/ABIDE_pcp/cpac/filt_noglobal/51576/SBL_0051576_rois_cc200.1D\n",
            "Reading timeseries file /content/BrainGNN/data/ABIDE_pcp/cpac/filt_noglobal/50696/Leuven_1_0050696_rois_cc200.1D\n",
            "Reading timeseries file /content/BrainGNN/data/ABIDE_pcp/cpac/filt_noglobal/51320/MaxMun_a_0051320_rois_cc200.1D\n",
            "Reading timeseries file /content/BrainGNN/data/ABIDE_pcp/cpac/filt_noglobal/51112/NYU_0051112_rois_cc200.1D\n",
            "Reading timeseries file /content/BrainGNN/data/ABIDE_pcp/cpac/filt_noglobal/50291/UM_1_0050291_rois_cc200.1D\n",
            "Reading timeseries file /content/BrainGNN/data/ABIDE_pcp/cpac/filt_noglobal/51343/MaxMun_c_0051343_rois_cc200.1D\n",
            "Reading timeseries file /content/BrainGNN/data/ABIDE_pcp/cpac/filt_noglobal/51171/Stanford_0051171_rois_cc200.1D\n",
            "Reading timeseries file /content/BrainGNN/data/ABIDE_pcp/cpac/filt_noglobal/50433/USM_0050433_rois_cc200.1D\n",
            "Reading timeseries file /content/BrainGNN/data/ABIDE_pcp/cpac/filt_noglobal/50601/Yale_0050601_rois_cc200.1D\n",
            "Reading timeseries file /content/BrainGNN/data/ABIDE_pcp/cpac/filt_noglobal/50265/Trinity_0050265_rois_cc200.1D\n",
            "Reading timeseries file /content/BrainGNN/data/ABIDE_pcp/cpac/filt_noglobal/50057/Pitt_0050057_rois_cc200.1D\n",
            "Reading timeseries file /content/BrainGNN/data/ABIDE_pcp/cpac/filt_noglobal/51185/Stanford_0051185_rois_cc200.1D\n",
            "Reading timeseries file /content/BrainGNN/data/ABIDE_pcp/cpac/filt_noglobal/50050/Pitt_0050050_rois_cc200.1D\n",
            "Reading timeseries file /content/BrainGNN/data/ABIDE_pcp/cpac/filt_noglobal/51182/Stanford_0051182_rois_cc200.1D\n",
            "Reading timeseries file /content/BrainGNN/data/ABIDE_pcp/cpac/filt_noglobal/50262/Trinity_0050262_rois_cc200.1D\n",
            "Reading timeseries file /content/BrainGNN/data/ABIDE_pcp/cpac/filt_noglobal/50606/Yale_0050606_rois_cc200.1D\n",
            "Reading timeseries file /content/BrainGNN/data/ABIDE_pcp/cpac/filt_noglobal/50434/USM_0050434_rois_cc200.1D\n",
            "Reading timeseries file /content/BrainGNN/data/ABIDE_pcp/cpac/filt_noglobal/50296/UM_1_0050296_rois_cc200.1D\n",
            "Reading timeseries file /content/BrainGNN/data/ABIDE_pcp/cpac/filt_noglobal/51344/MaxMun_c_0051344_rois_cc200.1D\n",
            "Reading timeseries file /content/BrainGNN/data/ABIDE_pcp/cpac/filt_noglobal/51149/NYU_0051149_rois_cc200.1D\n",
            "Reading timeseries file /content/BrainGNN/data/ABIDE_pcp/cpac/filt_noglobal/50402/UM_2_0050402_rois_cc200.1D\n",
            "Reading timeseries file /content/BrainGNN/data/ABIDE_pcp/cpac/filt_noglobal/50254/Trinity_0050254_rois_cc200.1D\n",
            "Reading timeseries file /content/BrainGNN/data/ABIDE_pcp/cpac/filt_noglobal/51140/Trinity_0051140_rois_cc200.1D\n",
            "Reading timeseries file /content/BrainGNN/data/ABIDE_pcp/cpac/filt_noglobal/50059/Pitt_0050059_rois_cc200.1D\n",
            "Reading timeseries file /content/BrainGNN/data/ABIDE_pcp/cpac/filt_noglobal/51147/NYU_0051147_rois_cc200.1D\n",
            "Reading timeseries file /content/BrainGNN/data/ABIDE_pcp/cpac/filt_noglobal/50253/Trinity_0050253_rois_cc200.1D\n",
            "Reading timeseries file /content/BrainGNN/data/ABIDE_pcp/cpac/filt_noglobal/50405/UM_2_0050405_rois_cc200.1D\n",
            "Reading timeseries file /content/BrainGNN/data/ABIDE_pcp/cpac/filt_noglobal/51178/Stanford_0051178_rois_cc200.1D\n",
            "Reading timeseries file /content/BrainGNN/data/ABIDE_pcp/cpac/filt_noglobal/50298/UM_1_0050298_rois_cc200.1D\n",
            "Reading timeseries file /content/BrainGNN/data/ABIDE_pcp/cpac/filt_noglobal/50608/Yale_0050608_rois_cc200.1D\n",
            "Reading timeseries file /content/BrainGNN/data/ABIDE_pcp/cpac/filt_noglobal/50697/Leuven_1_0050697_rois_cc200.1D\n",
            "Reading timeseries file /content/BrainGNN/data/ABIDE_pcp/cpac/filt_noglobal/51577/SBL_0051577_rois_cc200.1D\n",
            "Reading timeseries file /content/BrainGNN/data/ABIDE_pcp/cpac/filt_noglobal/51113/NYU_0051113_rois_cc200.1D\n",
            "Reading timeseries file /content/BrainGNN/data/ABIDE_pcp/cpac/filt_noglobal/51321/MaxMun_a_0051321_rois_cc200.1D\n",
            "Reading timeseries file /content/BrainGNN/data/ABIDE_pcp/cpac/filt_noglobal/50035/Pitt_0050035_rois_cc200.1D\n",
            "Reading timeseries file /content/BrainGNN/data/ABIDE_pcp/cpac/filt_noglobal/50207/SDSU_0050207_rois_cc200.1D\n",
            "Reading timeseries file /content/BrainGNN/data/ABIDE_pcp/cpac/filt_noglobal/50663/CMU_a_0050663_rois_cc200.1D\n",
            "Reading timeseries file /content/BrainGNN/data/ABIDE_pcp/cpac/filt_noglobal/51583/SBL_0051583_rois_cc200.1D\n",
            "Reading timeseries file /content/BrainGNN/data/ABIDE_pcp/cpac/filt_noglobal/50469/USM_0050469_rois_cc200.1D\n",
            "Reading timeseries file /content/BrainGNN/data/ABIDE_pcp/cpac/filt_noglobal/51319/MaxMun_a_0051319_rois_cc200.1D\n",
            "Reading timeseries file /content/BrainGNN/data/ABIDE_pcp/cpac/filt_noglobal/51584/SBL_0051584_rois_cc200.1D\n",
            "Reading timeseries file /content/BrainGNN/data/ABIDE_pcp/cpac/filt_noglobal/50664/CMU_a_0050664_rois_cc200.1D\n",
            "Reading timeseries file /content/BrainGNN/data/ABIDE_pcp/cpac/filt_noglobal/50200/SDSU_0050200_rois_cc200.1D\n",
            "Reading timeseries file /content/BrainGNN/data/ABIDE_pcp/cpac/filt_noglobal/50032/Pitt_0050032_rois_cc200.1D\n",
            "Reading timeseries file /content/BrainGNN/data/ABIDE_pcp/cpac/filt_noglobal/51326/MaxMun_b_0051326_rois_cc200.1D\n",
            "Reading timeseries file /content/BrainGNN/data/ABIDE_pcp/cpac/filt_noglobal/51114/NYU_0051114_rois_cc200.1D\n",
            "Reading timeseries file /content/BrainGNN/data/ABIDE_pcp/cpac/filt_noglobal/51570/SBL_0051570_rois_cc200.1D\n",
            "Reading timeseries file /content/BrainGNN/data/ABIDE_pcp/cpac/filt_noglobal/50690/Leuven_1_0050690_rois_cc200.1D\n",
            "Reading timeseries file /content/BrainGNN/data/ABIDE_pcp/cpac/filt_noglobal/50807/KKI_0050807_rois_cc200.1D\n",
            "Reading timeseries file /content/BrainGNN/data/ABIDE_pcp/cpac/filt_noglobal/50209/SDSU_0050209_rois_cc200.1D\n",
            "Reading timeseries file /content/BrainGNN/data/ABIDE_pcp/cpac/filt_noglobal/50699/Leuven_1_0050699_rois_cc200.1D\n",
            "Reading timeseries file /content/BrainGNN/data/ABIDE_pcp/cpac/filt_noglobal/51579/SBL_0051579_rois_cc200.1D\n",
            "Reading timeseries file /content/BrainGNN/data/ABIDE_pcp/cpac/filt_noglobal/50236/Trinity_0050236_rois_cc200.1D\n",
            "Reading timeseries file /content/BrainGNN/data/ABIDE_pcp/cpac/filt_noglobal/50004/Pitt_0050004_rois_cc200.1D\n",
            "Reading timeseries file /content/BrainGNN/data/ABIDE_pcp/cpac/filt_noglobal/50652/CMU_b_0050652_rois_cc200.1D\n",
            "Reading timeseries file /content/BrainGNN/data/ABIDE_pcp/cpac/filt_noglobal/50494/USM_0050494_rois_cc200.1D\n",
            "Reading timeseries file /content/BrainGNN/data/ABIDE_pcp/cpac/filt_noglobal/51122/NYU_0051122_rois_cc200.1D\n",
            "Reading timeseries file /content/BrainGNN/data/ABIDE_pcp/cpac/filt_noglobal/51328/MaxMun_c_0051328_rois_cc200.1D\n",
            "Reading timeseries file /content/BrainGNN/data/ABIDE_pcp/cpac/filt_noglobal/50800/KKI_0050800_rois_cc200.1D\n",
            "Reading timeseries file /content/BrainGNN/data/ABIDE_pcp/cpac/filt_noglobal/51317/UCLA_2_0051317_rois_cc200.1D\n",
            "Reading timeseries file /content/BrainGNN/data/ABIDE_pcp/cpac/filt_noglobal/50493/USM_0050493_rois_cc200.1D\n",
            "Reading timeseries file /content/BrainGNN/data/ABIDE_pcp/cpac/filt_noglobal/50655/CMU_b_0050655_rois_cc200.1D\n",
            "Reading timeseries file /content/BrainGNN/data/ABIDE_pcp/cpac/filt_noglobal/50467/USM_0050467_rois_cc200.1D\n",
            "Reading timeseries file /content/BrainGNN/data/ABIDE_pcp/cpac/filt_noglobal/50003/Pitt_0050003_rois_cc200.1D\n",
            "Reading timeseries file /content/BrainGNN/data/ABIDE_pcp/cpac/filt_noglobal/51563/SBL_0051563_rois_cc200.1D\n",
            "Reading timeseries file /content/BrainGNN/data/ABIDE_pcp/cpac/filt_noglobal/50683/Leuven_1_0050683_rois_cc200.1D\n",
            "Reading timeseries file /content/BrainGNN/data/ABIDE_pcp/cpac/filt_noglobal/51335/MaxMun_c_0051335_rois_cc200.1D\n",
            "Reading timeseries file /content/BrainGNN/data/ABIDE_pcp/cpac/filt_noglobal/51107/NYU_0051107_rois_cc200.1D\n",
            "Reading timeseries file /content/BrainGNN/data/ABIDE_pcp/cpac/filt_noglobal/50213/SDSU_0050213_rois_cc200.1D\n",
            "Reading timeseries file /content/BrainGNN/data/ABIDE_pcp/cpac/filt_noglobal/50445/USM_0050445_rois_cc200.1D\n",
            "Reading timeseries file /content/BrainGNN/data/ABIDE_pcp/cpac/filt_noglobal/51138/Trinity_0051138_rois_cc200.1D\n",
            "Reading timeseries file /content/BrainGNN/data/ABIDE_pcp/cpac/filt_noglobal/50648/CMU_b_0050648_rois_cc200.1D\n",
            "Reading timeseries file /content/BrainGNN/data/ABIDE_pcp/cpac/filt_noglobal/50822/KKI_0050822_rois_cc200.1D\n",
            "Reading timeseries file /content/BrainGNN/data/ABIDE_pcp/cpac/filt_noglobal/50442/USM_0050442_rois_cc200.1D\n",
            "Reading timeseries file /content/BrainGNN/data/ABIDE_pcp/cpac/filt_noglobal/50026/Pitt_0050026_rois_cc200.1D\n",
            "Reading timeseries file /content/BrainGNN/data/ABIDE_pcp/cpac/filt_noglobal/50214/SDSU_0050214_rois_cc200.1D\n",
            "Reading timeseries file /content/BrainGNN/data/ABIDE_pcp/cpac/filt_noglobal/51100/NYU_0051100_rois_cc200.1D\n",
            "Reading timeseries file /content/BrainGNN/data/ABIDE_pcp/cpac/filt_noglobal/51332/MaxMun_c_0051332_rois_cc200.1D\n",
            "Reading timeseries file /content/BrainGNN/data/ABIDE_pcp/cpac/filt_noglobal/51564/SBL_0051564_rois_cc200.1D\n",
            "Reading timeseries file /content/BrainGNN/data/ABIDE_pcp/cpac/filt_noglobal/50019/Pitt_0050019_rois_cc200.1D\n",
            "Reading timeseries file /content/BrainGNN/data/ABIDE_pcp/cpac/filt_noglobal/50825/KKI_0050825_rois_cc200.1D\n",
            "Reading timeseries file /content/BrainGNN/data/ABIDE_pcp/cpac/filt_noglobal/50489/USM_0050489_rois_cc200.1D\n",
            "Reading timeseries file /content/BrainGNN/data/ABIDE_pcp/cpac/filt_noglobal/50010/Pitt_0050010_rois_cc200.1D\n",
            "Reading timeseries file /content/BrainGNN/data/ABIDE_pcp/cpac/filt_noglobal/50646/CMU_a_0050646_rois_cc200.1D\n",
            "Reading timeseries file /content/BrainGNN/data/ABIDE_pcp/cpac/filt_noglobal/50480/USM_0050480_rois_cc200.1D\n",
            "Reading timeseries file /content/BrainGNN/data/ABIDE_pcp/cpac/filt_noglobal/51136/Trinity_0051136_rois_cc200.1D\n",
            "Reading timeseries file /content/BrainGNN/data/ABIDE_pcp/cpac/filt_noglobal/51304/UCLA_2_0051304_rois_cc200.1D\n",
            "Reading timeseries file /content/BrainGNN/data/ABIDE_pcp/cpac/filt_noglobal/51109/NYU_0051109_rois_cc200.1D\n",
            "Reading timeseries file /content/BrainGNN/data/ABIDE_pcp/cpac/filt_noglobal/51303/UCLA_2_0051303_rois_cc200.1D\n",
            "Reading timeseries file /content/BrainGNN/data/ABIDE_pcp/cpac/filt_noglobal/51131/NYU_0051131_rois_cc200.1D\n",
            "Reading timeseries file /content/BrainGNN/data/ABIDE_pcp/cpac/filt_noglobal/50487/USM_0050487_rois_cc200.1D\n",
            "Reading timeseries file /content/BrainGNN/data/ABIDE_pcp/cpac/filt_noglobal/50017/Pitt_0050017_rois_cc200.1D\n",
            "Reading timeseries file /content/BrainGNN/data/ABIDE_pcp/cpac/filt_noglobal/50028/Pitt_0050028_rois_cc200.1D\n",
            "Reading timeseries file /content/BrainGNN/data/ABIDE_pcp/cpac/filt_noglobal/50814/KKI_0050814_rois_cc200.1D\n",
            "Reading timeseries file /content/BrainGNN/data/ABIDE_pcp/cpac/filt_noglobal/50418/UM_2_0050418_rois_cc200.1D\n",
            "Reading timeseries file /content/BrainGNN/data/ABIDE_pcp/cpac/filt_noglobal/51165/Stanford_0051165_rois_cc200.1D\n",
            "Reading timeseries file /content/BrainGNN/data/ABIDE_pcp/cpac/filt_noglobal/50285/UM_1_0050285_rois_cc200.1D\n",
            "Reading timeseries file /content/BrainGNN/data/ABIDE_pcp/cpac/filt_noglobal/51357/MaxMun_d_0051357_rois_cc200.1D\n",
            "Reading timeseries file /content/BrainGNN/data/ABIDE_pcp/cpac/filt_noglobal/50615/Yale_0050615_rois_cc200.1D\n",
            "Reading timeseries file /content/BrainGNN/data/ABIDE_pcp/cpac/filt_noglobal/50427/UM_2_0050427_rois_cc200.1D\n",
            "Reading timeseries file /content/BrainGNN/data/ABIDE_pcp/cpac/filt_noglobal/50043/Pitt_0050043_rois_cc200.1D\n",
            "Reading timeseries file /content/BrainGNN/data/ABIDE_pcp/cpac/filt_noglobal/51191/Stanford_0051191_rois_cc200.1D\n",
            "Reading timeseries file /content/BrainGNN/data/ABIDE_pcp/cpac/filt_noglobal/50271/Trinity_0050271_rois_cc200.1D\n",
            "Reading timeseries file /content/BrainGNN/data/ABIDE_pcp/cpac/filt_noglobal/50249/Trinity_0050249_rois_cc200.1D\n",
            "Reading timeseries file /content/BrainGNN/data/ABIDE_pcp/cpac/filt_noglobal/50276/UM_1_0050276_rois_cc200.1D\n",
            "Reading timeseries file /content/BrainGNN/data/ABIDE_pcp/cpac/filt_noglobal/50044/Pitt_0050044_rois_cc200.1D\n",
            "Reading timeseries file /content/BrainGNN/data/ABIDE_pcp/cpac/filt_noglobal/51196/Stanford_0051196_rois_cc200.1D\n",
            "Reading timeseries file /content/BrainGNN/data/ABIDE_pcp/cpac/filt_noglobal/50612/Yale_0050612_rois_cc200.1D\n",
            "Reading timeseries file /content/BrainGNN/data/ABIDE_pcp/cpac/filt_noglobal/50282/UM_1_0050282_rois_cc200.1D\n",
            "Reading timeseries file /content/BrainGNN/data/ABIDE_pcp/cpac/filt_noglobal/51350/MaxMun_d_0051350_rois_cc200.1D\n",
            "Reading timeseries file /content/BrainGNN/data/ABIDE_pcp/cpac/filt_noglobal/51162/Stanford_0051162_rois_cc200.1D\n",
            "Reading timeseries file /content/BrainGNN/data/ABIDE_pcp/cpac/filt_noglobal/51359/MaxMun_d_0051359_rois_cc200.1D\n",
            "Reading timeseries file /content/BrainGNN/data/ABIDE_pcp/cpac/filt_noglobal/50416/UM_2_0050416_rois_cc200.1D\n",
            "Reading timeseries file /content/BrainGNN/data/ABIDE_pcp/cpac/filt_noglobal/50624/Yale_0050624_rois_cc200.1D\n",
            "Reading timeseries file /content/BrainGNN/data/ABIDE_pcp/cpac/filt_noglobal/50240/Trinity_0050240_rois_cc200.1D\n",
            "Reading timeseries file /content/BrainGNN/data/ABIDE_pcp/cpac/filt_noglobal/51154/NYU_0051154_rois_cc200.1D\n",
            "Reading timeseries file /content/BrainGNN/data/ABIDE_pcp/cpac/filt_noglobal/50278/UM_1_0050278_rois_cc200.1D\n",
            "Reading timeseries file /content/BrainGNN/data/ABIDE_pcp/cpac/filt_noglobal/51198/Stanford_0051198_rois_cc200.1D\n",
            "Reading timeseries file /content/BrainGNN/data/ABIDE_pcp/cpac/filt_noglobal/51153/NYU_0051153_rois_cc200.1D\n",
            "Reading timeseries file /content/BrainGNN/data/ABIDE_pcp/cpac/filt_noglobal/51361/MaxMun_d_0051361_rois_cc200.1D\n",
            "Reading timeseries file /content/BrainGNN/data/ABIDE_pcp/cpac/filt_noglobal/50247/Trinity_0050247_rois_cc200.1D\n",
            "Reading timeseries file /content/BrainGNN/data/ABIDE_pcp/cpac/filt_noglobal/50623/Yale_0050623_rois_cc200.1D\n",
            "Reading timeseries file /content/BrainGNN/data/ABIDE_pcp/cpac/filt_noglobal/50411/UM_2_0050411_rois_cc200.1D\n",
            "Reading timeseries file /content/BrainGNN/data/ABIDE_pcp/cpac/filt_noglobal/50016/Pitt_0050016_rois_cc200.1D\n",
            "Reading timeseries file /content/BrainGNN/data/ABIDE_pcp/cpac/filt_noglobal/51130/NYU_0051130_rois_cc200.1D\n",
            "Reading timeseries file /content/BrainGNN/data/ABIDE_pcp/cpac/filt_noglobal/51302/UCLA_2_0051302_rois_cc200.1D\n",
            "Reading timeseries file /content/BrainGNN/data/ABIDE_pcp/cpac/filt_noglobal/50486/USM_0050486_rois_cc200.1D\n",
            "Reading timeseries file /content/BrainGNN/data/ABIDE_pcp/cpac/filt_noglobal/50815/KKI_0050815_rois_cc200.1D\n",
            "Reading timeseries file /content/BrainGNN/data/ABIDE_pcp/cpac/filt_noglobal/50029/Pitt_0050029_rois_cc200.1D\n",
            "Reading timeseries file /content/BrainGNN/data/ABIDE_pcp/cpac/filt_noglobal/50481/USM_0050481_rois_cc200.1D\n",
            "Reading timeseries file /content/BrainGNN/data/ABIDE_pcp/cpac/filt_noglobal/51305/UCLA_2_0051305_rois_cc200.1D\n",
            "Reading timeseries file /content/BrainGNN/data/ABIDE_pcp/cpac/filt_noglobal/51137/Trinity_0051137_rois_cc200.1D\n",
            "Reading timeseries file /content/BrainGNN/data/ABIDE_pcp/cpac/filt_noglobal/50011/Pitt_0050011_rois_cc200.1D\n",
            "Reading timeseries file /content/BrainGNN/data/ABIDE_pcp/cpac/filt_noglobal/50647/CMU_a_0050647_rois_cc200.1D\n",
            "Reading timeseries file /content/BrainGNN/data/ABIDE_pcp/cpac/filt_noglobal/50812/KKI_0050812_rois_cc200.1D\n",
            "Reading timeseries file /content/BrainGNN/data/ABIDE_pcp/cpac/filt_noglobal/51333/MaxMun_c_0051333_rois_cc200.1D\n",
            "Reading timeseries file /content/BrainGNN/data/ABIDE_pcp/cpac/filt_noglobal/51101/NYU_0051101_rois_cc200.1D\n",
            "Reading timeseries file /content/BrainGNN/data/ABIDE_pcp/cpac/filt_noglobal/51565/SBL_0051565_rois_cc200.1D\n",
            "Reading timeseries file /content/BrainGNN/data/ABIDE_pcp/cpac/filt_noglobal/50685/Leuven_1_0050685_rois_cc200.1D\n",
            "Reading timeseries file /content/BrainGNN/data/ABIDE_pcp/cpac/filt_noglobal/50443/USM_0050443_rois_cc200.1D\n",
            "Reading timeseries file /content/BrainGNN/data/ABIDE_pcp/cpac/filt_noglobal/50215/SDSU_0050215_rois_cc200.1D\n",
            "Reading timeseries file /content/BrainGNN/data/ABIDE_pcp/cpac/filt_noglobal/50027/Pitt_0050027_rois_cc200.1D\n",
            "Reading timeseries file /content/BrainGNN/data/ABIDE_pcp/cpac/filt_noglobal/50488/USM_0050488_rois_cc200.1D\n",
            "Reading timeseries file /content/BrainGNN/data/ABIDE_pcp/cpac/filt_noglobal/50824/KKI_0050824_rois_cc200.1D\n",
            "Reading timeseries file /content/BrainGNN/data/ABIDE_pcp/cpac/filt_noglobal/50020/Pitt_0050020_rois_cc200.1D\n",
            "Reading timeseries file /content/BrainGNN/data/ABIDE_pcp/cpac/filt_noglobal/50212/SDSU_0050212_rois_cc200.1D\n",
            "Reading timeseries file /content/BrainGNN/data/ABIDE_pcp/cpac/filt_noglobal/50444/USM_0050444_rois_cc200.1D\n",
            "Reading timeseries file /content/BrainGNN/data/ABIDE_pcp/cpac/filt_noglobal/50682/Leuven_1_0050682_rois_cc200.1D\n",
            "Reading timeseries file /content/BrainGNN/data/ABIDE_pcp/cpac/filt_noglobal/51562/SBL_0051562_rois_cc200.1D\n",
            "Reading timeseries file /content/BrainGNN/data/ABIDE_pcp/cpac/filt_noglobal/51106/NYU_0051106_rois_cc200.1D\n",
            "Reading timeseries file /content/BrainGNN/data/ABIDE_pcp/cpac/filt_noglobal/51334/MaxMun_c_0051334_rois_cc200.1D\n",
            "Reading timeseries file /content/BrainGNN/data/ABIDE_pcp/cpac/filt_noglobal/50649/CMU_a_0050649_rois_cc200.1D\n",
            "Reading timeseries file /content/BrainGNN/data/ABIDE_pcp/cpac/filt_noglobal/50823/KKI_0050823_rois_cc200.1D\n",
            "Reading timeseries file /content/BrainGNN/data/ABIDE_pcp/cpac/filt_noglobal/51139/Trinity_0051139_rois_cc200.1D\n",
            "Reading timeseries file /content/BrainGNN/data/ABIDE_pcp/cpac/filt_noglobal/51199/Stanford_0051199_rois_cc200.1D\n",
            "Reading timeseries file /content/BrainGNN/data/ABIDE_pcp/cpac/filt_noglobal/50279/UM_1_0050279_rois_cc200.1D\n",
            "Reading timeseries file /content/BrainGNN/data/ABIDE_pcp/cpac/filt_noglobal/50246/Trinity_0050246_rois_cc200.1D\n",
            "Reading timeseries file /content/BrainGNN/data/ABIDE_pcp/cpac/filt_noglobal/50410/UM_2_0050410_rois_cc200.1D\n",
            "Reading timeseries file /content/BrainGNN/data/ABIDE_pcp/cpac/filt_noglobal/50622/Yale_0050622_rois_cc200.1D\n",
            "Reading timeseries file /content/BrainGNN/data/ABIDE_pcp/cpac/filt_noglobal/51360/MaxMun_d_0051360_rois_cc200.1D\n",
            "Reading timeseries file /content/BrainGNN/data/ABIDE_pcp/cpac/filt_noglobal/51152/NYU_0051152_rois_cc200.1D\n",
            "Reading timeseries file /content/BrainGNN/data/ABIDE_pcp/cpac/filt_noglobal/51358/MaxMun_d_0051358_rois_cc200.1D\n",
            "Reading timeseries file /content/BrainGNN/data/ABIDE_pcp/cpac/filt_noglobal/50428/UM_2_0050428_rois_cc200.1D\n",
            "Reading timeseries file /content/BrainGNN/data/ABIDE_pcp/cpac/filt_noglobal/51155/NYU_0051155_rois_cc200.1D\n",
            "Reading timeseries file /content/BrainGNN/data/ABIDE_pcp/cpac/filt_noglobal/50625/Yale_0050625_rois_cc200.1D\n",
            "Reading timeseries file /content/BrainGNN/data/ABIDE_pcp/cpac/filt_noglobal/50417/UM_2_0050417_rois_cc200.1D\n",
            "Reading timeseries file /content/BrainGNN/data/ABIDE_pcp/cpac/filt_noglobal/50241/Trinity_0050241_rois_cc200.1D\n",
            "Reading timeseries file /content/BrainGNN/data/ABIDE_pcp/cpac/filt_noglobal/50248/Trinity_0050248_rois_cc200.1D\n",
            "Reading timeseries file /content/BrainGNN/data/ABIDE_pcp/cpac/filt_noglobal/51163/Stanford_0051163_rois_cc200.1D\n",
            "Reading timeseries file /content/BrainGNN/data/ABIDE_pcp/cpac/filt_noglobal/50283/UM_1_0050283_rois_cc200.1D\n",
            "Reading timeseries file /content/BrainGNN/data/ABIDE_pcp/cpac/filt_noglobal/51351/MaxMun_d_0051351_rois_cc200.1D\n",
            "Reading timeseries file /content/BrainGNN/data/ABIDE_pcp/cpac/filt_noglobal/50045/Pitt_0050045_rois_cc200.1D\n",
            "Reading timeseries file /content/BrainGNN/data/ABIDE_pcp/cpac/filt_noglobal/51197/Stanford_0051197_rois_cc200.1D\n",
            "Reading timeseries file /content/BrainGNN/data/ABIDE_pcp/cpac/filt_noglobal/50277/UM_1_0050277_rois_cc200.1D\n",
            "Reading timeseries file /content/BrainGNN/data/ABIDE_pcp/cpac/filt_noglobal/50613/Yale_0050613_rois_cc200.1D\n",
            "Reading timeseries file /content/BrainGNN/data/ABIDE_pcp/cpac/filt_noglobal/50421/UM_2_0050421_rois_cc200.1D\n",
            "Reading timeseries file /content/BrainGNN/data/ABIDE_pcp/cpac/filt_noglobal/50419/UM_2_0050419_rois_cc200.1D\n",
            "Reading timeseries file /content/BrainGNN/data/ABIDE_pcp/cpac/filt_noglobal/51369/MaxMun_a_0051369_rois_cc200.1D\n",
            "Reading timeseries file /content/BrainGNN/data/ABIDE_pcp/cpac/filt_noglobal/50426/UM_2_0050426_rois_cc200.1D\n",
            "Reading timeseries file /content/BrainGNN/data/ABIDE_pcp/cpac/filt_noglobal/50614/Yale_0050614_rois_cc200.1D\n",
            "Reading timeseries file /content/BrainGNN/data/ABIDE_pcp/cpac/filt_noglobal/50270/Trinity_0050270_rois_cc200.1D\n",
            "Reading timeseries file /content/BrainGNN/data/ABIDE_pcp/cpac/filt_noglobal/50042/Pitt_0050042_rois_cc200.1D\n",
            "Reading timeseries file /content/BrainGNN/data/ABIDE_pcp/cpac/filt_noglobal/51190/Stanford_0051190_rois_cc200.1D\n",
            "Reading timeseries file /content/BrainGNN/data/ABIDE_pcp/cpac/filt_noglobal/50284/UM_1_0050284_rois_cc200.1D\n",
            "Reading timeseries file /content/BrainGNN/data/ABIDE_pcp/cpac/filt_noglobal/51356/MaxMun_d_0051356_rois_cc200.1D\n",
            "Reading timeseries file /content/BrainGNN/data/ABIDE_pcp/cpac/filt_noglobal/51164/Stanford_0051164_rois_cc200.1D\n",
            "Reading timeseries file /content/BrainGNN/data/ABIDE_pcp/cpac/filt_noglobal/51472/Caltech_0051472_rois_cc200.1D\n",
            "Reading timeseries file /content/BrainGNN/data/ABIDE_pcp/cpac/filt_noglobal/50792/KKI_0050792_rois_cc200.1D\n",
            "Reading timeseries file /content/BrainGNN/data/ABIDE_pcp/cpac/filt_noglobal/51224/UCLA_1_0051224_rois_cc200.1D\n",
            "Reading timeseries file /content/BrainGNN/data/ABIDE_pcp/cpac/filt_noglobal/51016/NYU_0051016_rois_cc200.1D\n",
            "Reading timeseries file /content/BrainGNN/data/ABIDE_pcp/cpac/filt_noglobal/50302/UM_1_0050302_rois_cc200.1D\n",
            "Reading timeseries file /content/BrainGNN/data/ABIDE_pcp/cpac/filt_noglobal/50130/Olin_0050130_rois_cc200.1D\n",
            "Reading timeseries file /content/BrainGNN/data/ABIDE_pcp/cpac/filt_noglobal/51486/Caltech_0051486_rois_cc200.1D\n",
            "Reading timeseries file /content/BrainGNN/data/ABIDE_pcp/cpac/filt_noglobal/50554/Yale_0050554_rois_cc200.1D\n",
            "Reading timeseries file /content/BrainGNN/data/ABIDE_pcp/cpac/filt_noglobal/51029/NYU_0051029_rois_cc200.1D\n",
            "Reading timeseries file /content/BrainGNN/data/ABIDE_pcp/cpac/filt_noglobal/51481/Caltech_0051481_rois_cc200.1D\n",
            "Reading timeseries file /content/BrainGNN/data/ABIDE_pcp/cpac/filt_noglobal/50553/Yale_0050553_rois_cc200.1D\n",
            "Reading timeseries file /content/BrainGNN/data/ABIDE_pcp/cpac/filt_noglobal/50305/UM_1_0050305_rois_cc200.1D\n",
            "Reading timeseries file /content/BrainGNN/data/ABIDE_pcp/cpac/filt_noglobal/51011/NYU_0051011_rois_cc200.1D\n",
            "Reading timeseries file /content/BrainGNN/data/ABIDE_pcp/cpac/filt_noglobal/51223/UCLA_1_0051223_rois_cc200.1D\n",
            "Reading timeseries file /content/BrainGNN/data/ABIDE_pcp/cpac/filt_noglobal/50795/KKI_0050795_rois_cc200.1D\n",
            "Reading timeseries file /content/BrainGNN/data/ABIDE_pcp/cpac/filt_noglobal/50333/UM_1_0050333_rois_cc200.1D\n",
            "Reading timeseries file /content/BrainGNN/data/ABIDE_pcp/cpac/filt_noglobal/50757/Leuven_2_0050757_rois_cc200.1D\n",
            "Reading timeseries file /content/BrainGNN/data/ABIDE_pcp/cpac/filt_noglobal/50565/Yale_0050565_rois_cc200.1D\n",
            "Reading timeseries file /content/BrainGNN/data/ABIDE_pcp/cpac/filt_noglobal/51027/NYU_0051027_rois_cc200.1D\n",
            "Reading timeseries file /content/BrainGNN/data/ABIDE_pcp/cpac/filt_noglobal/51215/UCLA_1_0051215_rois_cc200.1D\n",
            "Reading timeseries file /content/BrainGNN/data/ABIDE_pcp/cpac/filt_noglobal/51488/Caltech_0051488_rois_cc200.1D\n",
            "Reading timeseries file /content/BrainGNN/data/ABIDE_pcp/cpac/filt_noglobal/51018/NYU_0051018_rois_cc200.1D\n",
            "Reading timeseries file /content/BrainGNN/data/ABIDE_pcp/cpac/filt_noglobal/51212/UCLA_1_0051212_rois_cc200.1D\n",
            "Reading timeseries file /content/BrainGNN/data/ABIDE_pcp/cpac/filt_noglobal/51020/NYU_0051020_rois_cc200.1D\n",
            "Reading timeseries file /content/BrainGNN/data/ABIDE_pcp/cpac/filt_noglobal/50562/Yale_0050562_rois_cc200.1D\n",
            "Reading timeseries file /content/BrainGNN/data/ABIDE_pcp/cpac/filt_noglobal/50750/Leuven_2_0050750_rois_cc200.1D\n",
            "Reading timeseries file /content/BrainGNN/data/ABIDE_pcp/cpac/filt_noglobal/50334/UM_1_0050334_rois_cc200.1D\n",
            "Reading timeseries file /content/BrainGNN/data/ABIDE_pcp/cpac/filt_noglobal/50106/Olin_0050106_rois_cc200.1D\n",
            "Reading timeseries file /content/BrainGNN/data/ABIDE_pcp/cpac/filt_noglobal/51279/UCLA_1_0051279_rois_cc200.1D\n",
            "Reading timeseries file /content/BrainGNN/data/ABIDE_pcp/cpac/filt_noglobal/50199/SDSU_0050199_rois_cc200.1D\n",
            "Reading timeseries file /content/BrainGNN/data/ABIDE_pcp/cpac/filt_noglobal/50509/USM_0050509_rois_cc200.1D\n",
            "Reading timeseries file /content/BrainGNN/data/ABIDE_pcp/cpac/filt_noglobal/51074/NYU_0051074_rois_cc200.1D\n",
            "Reading timeseries file /content/BrainGNN/data/ABIDE_pcp/cpac/filt_noglobal/50704/Leuven_1_0050704_rois_cc200.1D\n",
            "Reading timeseries file /content/BrainGNN/data/ABIDE_pcp/cpac/filt_noglobal/51080/NYU_0051080_rois_cc200.1D\n",
            "Reading timeseries file /content/BrainGNN/data/ABIDE_pcp/cpac/filt_noglobal/50152/OHSU_0050152_rois_cc200.1D\n",
            "Reading timeseries file /content/BrainGNN/data/ABIDE_pcp/cpac/filt_noglobal/50360/UM_1_0050360_rois_cc200.1D\n",
            "Reading timeseries file /content/BrainGNN/data/ABIDE_pcp/cpac/filt_noglobal/50956/NYU_0050956_rois_cc200.1D\n",
            "Reading timeseries file /content/BrainGNN/data/ABIDE_pcp/cpac/filt_noglobal/50358/UM_1_0050358_rois_cc200.1D\n",
            "Reading timeseries file /content/BrainGNN/data/ABIDE_pcp/cpac/filt_noglobal/50367/UM_1_0050367_rois_cc200.1D\n",
            "Reading timeseries file /content/BrainGNN/data/ABIDE_pcp/cpac/filt_noglobal/51087/NYU_0051087_rois_cc200.1D\n",
            "Reading timeseries file /content/BrainGNN/data/ABIDE_pcp/cpac/filt_noglobal/50969/NYU_0050969_rois_cc200.1D\n",
            "Reading timeseries file /content/BrainGNN/data/ABIDE_pcp/cpac/filt_noglobal/50531/USM_0050531_rois_cc200.1D\n",
            "Reading timeseries file /content/BrainGNN/data/ABIDE_pcp/cpac/filt_noglobal/50703/Leuven_1_0050703_rois_cc200.1D\n",
            "Reading timeseries file /content/BrainGNN/data/ABIDE_pcp/cpac/filt_noglobal/51241/UCLA_1_0051241_rois_cc200.1D\n",
            "Reading timeseries file /content/BrainGNN/data/ABIDE_pcp/cpac/filt_noglobal/51073/NYU_0051073_rois_cc200.1D\n",
            "Reading timeseries file /content/BrainGNN/data/ABIDE_pcp/cpac/filt_noglobal/50960/NYU_0050960_rois_cc200.1D\n",
            "Reading timeseries file /content/BrainGNN/data/ABIDE_pcp/cpac/filt_noglobal/50994/NYU_0050994_rois_cc200.1D\n",
            "Reading timeseries file /content/BrainGNN/data/ABIDE_pcp/cpac/filt_noglobal/51248/UCLA_1_0051248_rois_cc200.1D\n",
            "Reading timeseries file /content/BrainGNN/data/ABIDE_pcp/cpac/filt_noglobal/50507/USM_0050507_rois_cc200.1D\n",
            "Reading timeseries file /content/BrainGNN/data/ABIDE_pcp/cpac/filt_noglobal/50735/Leuven_2_0050735_rois_cc200.1D\n",
            "Reading timeseries file /content/BrainGNN/data/ABIDE_pcp/cpac/filt_noglobal/50351/UM_1_0050351_rois_cc200.1D\n",
            "Reading timeseries file /content/BrainGNN/data/ABIDE_pcp/cpac/filt_noglobal/50163/OHSU_0050163_rois_cc200.1D\n",
            "Reading timeseries file /content/BrainGNN/data/ABIDE_pcp/cpac/filt_noglobal/51277/UCLA_1_0051277_rois_cc200.1D\n",
            "Reading timeseries file /content/BrainGNN/data/ABIDE_pcp/cpac/filt_noglobal/50197/SDSU_0050197_rois_cc200.1D\n",
            "Reading timeseries file /content/BrainGNN/data/ABIDE_pcp/cpac/filt_noglobal/51045/NYU_0051045_rois_cc200.1D\n",
            "Reading timeseries file /content/BrainGNN/data/ABIDE_pcp/cpac/filt_noglobal/50993/NYU_0050993_rois_cc200.1D\n",
            "Reading timeseries file /content/BrainGNN/data/ABIDE_pcp/cpac/filt_noglobal/50369/UM_1_0050369_rois_cc200.1D\n",
            "Reading timeseries file /content/BrainGNN/data/ABIDE_pcp/cpac/filt_noglobal/51089/NYU_0051089_rois_cc200.1D\n",
            "Reading timeseries file /content/BrainGNN/data/ABIDE_pcp/cpac/filt_noglobal/50967/NYU_0050967_rois_cc200.1D\n",
            "Reading timeseries file /content/BrainGNN/data/ABIDE_pcp/cpac/filt_noglobal/50190/SDSU_0050190_rois_cc200.1D\n",
            "Reading timeseries file /content/BrainGNN/data/ABIDE_pcp/cpac/filt_noglobal/51042/NYU_0051042_rois_cc200.1D\n",
            "Reading timeseries file /content/BrainGNN/data/ABIDE_pcp/cpac/filt_noglobal/50164/OHSU_0050164_rois_cc200.1D\n",
            "Reading timeseries file /content/BrainGNN/data/ABIDE_pcp/cpac/filt_noglobal/50958/NYU_0050958_rois_cc200.1D\n",
            "Reading timeseries file /content/BrainGNN/data/ABIDE_pcp/cpac/filt_noglobal/50356/UM_1_0050356_rois_cc200.1D\n",
            "Reading timeseries file /content/BrainGNN/data/ABIDE_pcp/cpac/filt_noglobal/50732/Leuven_2_0050732_rois_cc200.1D\n",
            "Reading timeseries file /content/BrainGNN/data/ABIDE_pcp/cpac/filt_noglobal/50500/USM_0050500_rois_cc200.1D\n",
            "Reading timeseries file /content/BrainGNN/data/ABIDE_pcp/cpac/filt_noglobal/50751/Leuven_2_0050751_rois_cc200.1D\n",
            "Reading timeseries file /content/BrainGNN/data/ABIDE_pcp/cpac/filt_noglobal/50563/Yale_0050563_rois_cc200.1D\n",
            "Reading timeseries file /content/BrainGNN/data/ABIDE_pcp/cpac/filt_noglobal/50107/Olin_0050107_rois_cc200.1D\n",
            "Reading timeseries file /content/BrainGNN/data/ABIDE_pcp/cpac/filt_noglobal/50335/UM_1_0050335_rois_cc200.1D\n",
            "Reading timeseries file /content/BrainGNN/data/ABIDE_pcp/cpac/filt_noglobal/51021/NYU_0051021_rois_cc200.1D\n",
            "Reading timeseries file /content/BrainGNN/data/ABIDE_pcp/cpac/filt_noglobal/51213/UCLA_1_0051213_rois_cc200.1D\n",
            "Reading timeseries file /content/BrainGNN/data/ABIDE_pcp/cpac/filt_noglobal/51214/UCLA_1_0051214_rois_cc200.1D\n",
            "Reading timeseries file /content/BrainGNN/data/ABIDE_pcp/cpac/filt_noglobal/51026/NYU_0051026_rois_cc200.1D\n",
            "Reading timeseries file /content/BrainGNN/data/ABIDE_pcp/cpac/filt_noglobal/50332/UM_1_0050332_rois_cc200.1D\n",
            "Reading timeseries file /content/BrainGNN/data/ABIDE_pcp/cpac/filt_noglobal/50564/Yale_0050564_rois_cc200.1D\n",
            "Reading timeseries file /content/BrainGNN/data/ABIDE_pcp/cpac/filt_noglobal/50756/Leuven_2_0050756_rois_cc200.1D\n",
            "Reading timeseries file /content/BrainGNN/data/ABIDE_pcp/cpac/filt_noglobal/51019/NYU_0051019_rois_cc200.1D\n",
            "Reading timeseries file /content/BrainGNN/data/ABIDE_pcp/cpac/filt_noglobal/51489/Caltech_0051489_rois_cc200.1D\n",
            "Reading timeseries file /content/BrainGNN/data/ABIDE_pcp/cpac/filt_noglobal/51222/UCLA_1_0051222_rois_cc200.1D\n",
            "Reading timeseries file /content/BrainGNN/data/ABIDE_pcp/cpac/filt_noglobal/51010/NYU_0051010_rois_cc200.1D\n",
            "Reading timeseries file /content/BrainGNN/data/ABIDE_pcp/cpac/filt_noglobal/51474/Caltech_0051474_rois_cc200.1D\n",
            "Reading timeseries file /content/BrainGNN/data/ABIDE_pcp/cpac/filt_noglobal/50794/KKI_0050794_rois_cc200.1D\n",
            "Reading timeseries file /content/BrainGNN/data/ABIDE_pcp/cpac/filt_noglobal/51480/Caltech_0051480_rois_cc200.1D\n",
            "Reading timeseries file /content/BrainGNN/data/ABIDE_pcp/cpac/filt_noglobal/50552/Yale_0050552_rois_cc200.1D\n",
            "Reading timeseries file /content/BrainGNN/data/ABIDE_pcp/cpac/filt_noglobal/50304/UM_1_0050304_rois_cc200.1D\n",
            "Reading timeseries file /content/BrainGNN/data/ABIDE_pcp/cpac/filt_noglobal/50136/Olin_0050136_rois_cc200.1D\n",
            "Reading timeseries file /content/BrainGNN/data/ABIDE_pcp/cpac/filt_noglobal/50109/Olin_0050109_rois_cc200.1D\n",
            "Reading timeseries file /content/BrainGNN/data/ABIDE_pcp/cpac/filt_noglobal/50131/Olin_0050131_rois_cc200.1D\n",
            "Reading timeseries file /content/BrainGNN/data/ABIDE_pcp/cpac/filt_noglobal/50303/UM_1_0050303_rois_cc200.1D\n",
            "Reading timeseries file /content/BrainGNN/data/ABIDE_pcp/cpac/filt_noglobal/51487/Caltech_0051487_rois_cc200.1D\n",
            "Reading timeseries file /content/BrainGNN/data/ABIDE_pcp/cpac/filt_noglobal/50555/Yale_0050555_rois_cc200.1D\n",
            "Reading timeseries file /content/BrainGNN/data/ABIDE_pcp/cpac/filt_noglobal/50793/KKI_0050793_rois_cc200.1D\n",
            "Reading timeseries file /content/BrainGNN/data/ABIDE_pcp/cpac/filt_noglobal/51473/Caltech_0051473_rois_cc200.1D\n",
            "Reading timeseries file /content/BrainGNN/data/ABIDE_pcp/cpac/filt_noglobal/51017/NYU_0051017_rois_cc200.1D\n",
            "Reading timeseries file /content/BrainGNN/data/ABIDE_pcp/cpac/filt_noglobal/51225/UCLA_1_0051225_rois_cc200.1D\n",
            "Reading timeseries file /content/BrainGNN/data/ABIDE_pcp/cpac/filt_noglobal/51028/NYU_0051028_rois_cc200.1D\n",
            "Reading timeseries file /content/BrainGNN/data/ABIDE_pcp/cpac/filt_noglobal/50966/NYU_0050966_rois_cc200.1D\n",
            "Reading timeseries file /content/BrainGNN/data/ABIDE_pcp/cpac/filt_noglobal/51088/NYU_0051088_rois_cc200.1D\n",
            "Reading timeseries file /content/BrainGNN/data/ABIDE_pcp/cpac/filt_noglobal/50368/UM_1_0050368_rois_cc200.1D\n",
            "Reading timeseries file /content/BrainGNN/data/ABIDE_pcp/cpac/filt_noglobal/50992/NYU_0050992_rois_cc200.1D\n",
            "Reading timeseries file /content/BrainGNN/data/ABIDE_pcp/cpac/filt_noglobal/50357/UM_1_0050357_rois_cc200.1D\n",
            "Reading timeseries file /content/BrainGNN/data/ABIDE_pcp/cpac/filt_noglobal/50959/NYU_0050959_rois_cc200.1D\n",
            "Reading timeseries file /content/BrainGNN/data/ABIDE_pcp/cpac/filt_noglobal/50501/USM_0050501_rois_cc200.1D\n",
            "Reading timeseries file /content/BrainGNN/data/ABIDE_pcp/cpac/filt_noglobal/50733/Leuven_2_0050733_rois_cc200.1D\n",
            "Reading timeseries file /content/BrainGNN/data/ABIDE_pcp/cpac/filt_noglobal/51271/UCLA_1_0051271_rois_cc200.1D\n",
            "Reading timeseries file /content/BrainGNN/data/ABIDE_pcp/cpac/filt_noglobal/50191/SDSU_0050191_rois_cc200.1D\n",
            "Reading timeseries file /content/BrainGNN/data/ABIDE_pcp/cpac/filt_noglobal/51249/UCLA_1_0051249_rois_cc200.1D\n",
            "Reading timeseries file /content/BrainGNN/data/ABIDE_pcp/cpac/filt_noglobal/50995/NYU_0050995_rois_cc200.1D\n",
            "Reading timeseries file /content/BrainGNN/data/ABIDE_pcp/cpac/filt_noglobal/50961/NYU_0050961_rois_cc200.1D\n",
            "Reading timeseries file /content/BrainGNN/data/ABIDE_pcp/cpac/filt_noglobal/50196/SDSU_0050196_rois_cc200.1D\n",
            "Reading timeseries file /content/BrainGNN/data/ABIDE_pcp/cpac/filt_noglobal/51044/NYU_0051044_rois_cc200.1D\n",
            "Reading timeseries file /content/BrainGNN/data/ABIDE_pcp/cpac/filt_noglobal/51276/UCLA_1_0051276_rois_cc200.1D\n",
            "Reading timeseries file /content/BrainGNN/data/ABIDE_pcp/cpac/filt_noglobal/50162/OHSU_0050162_rois_cc200.1D\n",
            "Reading timeseries file /content/BrainGNN/data/ABIDE_pcp/cpac/filt_noglobal/50350/UM_1_0050350_rois_cc200.1D\n",
            "Reading timeseries file /content/BrainGNN/data/ABIDE_pcp/cpac/filt_noglobal/51282/UCLA_1_0051282_rois_cc200.1D\n",
            "Reading timeseries file /content/BrainGNN/data/ABIDE_pcp/cpac/filt_noglobal/50359/UM_1_0050359_rois_cc200.1D\n",
            "Reading timeseries file /content/BrainGNN/data/ABIDE_pcp/cpac/filt_noglobal/50957/NYU_0050957_rois_cc200.1D\n",
            "Reading timeseries file /content/BrainGNN/data/ABIDE_pcp/cpac/filt_noglobal/51072/NYU_0051072_rois_cc200.1D\n",
            "Reading timeseries file /content/BrainGNN/data/ABIDE_pcp/cpac/filt_noglobal/51240/UCLA_1_0051240_rois_cc200.1D\n",
            "Reading timeseries file /content/BrainGNN/data/ABIDE_pcp/cpac/filt_noglobal/50968/NYU_0050968_rois_cc200.1D\n",
            "Reading timeseries file /content/BrainGNN/data/ABIDE_pcp/cpac/filt_noglobal/51086/NYU_0051086_rois_cc200.1D\n",
            "Reading timeseries file /content/BrainGNN/data/ABIDE_pcp/cpac/filt_noglobal/50366/UM_1_0050366_rois_cc200.1D\n",
            "Reading timeseries file /content/BrainGNN/data/ABIDE_pcp/cpac/filt_noglobal/50702/Leuven_1_0050702_rois_cc200.1D\n",
            "Reading timeseries file /content/BrainGNN/data/ABIDE_pcp/cpac/filt_noglobal/50530/USM_0050530_rois_cc200.1D\n",
            "Reading timeseries file /content/BrainGNN/data/ABIDE_pcp/cpac/filt_noglobal/50198/SDSU_0050198_rois_cc200.1D\n",
            "Reading timeseries file /content/BrainGNN/data/ABIDE_pcp/cpac/filt_noglobal/51278/UCLA_1_0051278_rois_cc200.1D\n",
            "Reading timeseries file /content/BrainGNN/data/ABIDE_pcp/cpac/filt_noglobal/50705/Leuven_1_0050705_rois_cc200.1D\n",
            "Reading timeseries file /content/BrainGNN/data/ABIDE_pcp/cpac/filt_noglobal/50361/UM_1_0050361_rois_cc200.1D\n",
            "Reading timeseries file /content/BrainGNN/data/ABIDE_pcp/cpac/filt_noglobal/51081/NYU_0051081_rois_cc200.1D\n",
            "Reading timeseries file /content/BrainGNN/data/ABIDE_pcp/cpac/filt_noglobal/50153/OHSU_0050153_rois_cc200.1D\n",
            "Reading timeseries file /content/BrainGNN/data/ABIDE_pcp/cpac/filt_noglobal/51075/NYU_0051075_rois_cc200.1D\n",
            "Arguments: \n",
            " Namespace(atlas='cc200', seed=123, nclass=2)\n"
          ]
        }
      ]
    },
    {
      "cell_type": "markdown",
      "source": [
        "Here, ```--explain=True``` sets the code to print all the nodes pooled after the two message passing layers for each sample in the Test set. It is optional."
      ],
      "metadata": {
        "id": "fDi54XJRfVm0"
      }
    },
    {
      "cell_type": "code",
      "source": [
        "%run /content/BrainGNN/03-main.py --explain=True"
      ],
      "metadata": {
        "id": "NCr7shZufRjf",
        "outputId": "5bbb7943-0f2b-452c-ad6d-84c3458d2388",
        "colab": {
          "base_uri": "https://localhost:8080/"
        }
      },
      "execution_count": 2,
      "outputs": [
        {
          "output_type": "stream",
          "name": "stderr",
          "text": [
            "Processing...\n"
          ]
        },
        {
          "output_type": "stream",
          "name": "stdout",
          "text": [
            "Time:  133.93634370600012\n"
          ]
        },
        {
          "output_type": "stream",
          "name": "stderr",
          "text": [
            "Done!\n"
          ]
        },
        {
          "output_type": "stream",
          "name": "stdout",
          "text": [
            "Network(\n",
            "  (n1): Sequential(\n",
            "    (0): Linear(in_features=200, out_features=8, bias=False)\n",
            "    (1): ReLU()\n",
            "    (2): Linear(in_features=8, out_features=6400, bias=True)\n",
            "  )\n",
            "  (conv1): MyNNConv(200, 32)\n",
            "  (pool1): TopKPooling(32, ratio=0.5, multiplier=1)\n",
            "  (n2): Sequential(\n",
            "    (0): Linear(in_features=200, out_features=8, bias=False)\n",
            "    (1): ReLU()\n",
            "    (2): Linear(in_features=8, out_features=1024, bias=True)\n",
            "  )\n",
            "  (conv2): MyNNConv(32, 32)\n",
            "  (pool2): TopKPooling(32, ratio=0.5, multiplier=1)\n",
            "  (fc1): Linear(in_features=128, out_features=32, bias=True)\n",
            "  (bn1): BatchNorm1d(32, eps=1e-05, momentum=0.1, affine=True, track_running_stats=True)\n",
            "  (fc2): Linear(in_features=32, out_features=512, bias=True)\n",
            "  (bn2): BatchNorm1d(512, eps=1e-05, momentum=0.1, affine=True, track_running_stats=True)\n",
            "  (fc3): Linear(in_features=512, out_features=2, bias=True)\n",
            ")\n",
            "train...........\n",
            "LR 0.01\n",
            "testing...........\n",
            "*====**\n",
            "0m 5s\n",
            "Epoch: 000, Train Loss: 1.2831894, Train Acc: 0.5330113, Test Loss: 1.0666514, Test Acc: 0.4927536\n",
            "train...........\n",
            "LR 0.01\n",
            "testing...........\n",
            "*====**\n",
            "0m 3s\n",
            "Epoch: 001, Train Loss: 1.3421858, Train Acc: 0.5249597, Test Loss: 1.0682985, Test Acc: 0.4782609\n",
            "train...........\n",
            "LR 0.01\n",
            "testing...........\n",
            "*====**\n",
            "0m 3s\n",
            "Epoch: 002, Train Loss: 1.2132983, Train Acc: 0.5330113, Test Loss: 1.9856443, Test Acc: 0.4927536\n",
            "train...........\n",
            "LR 0.01\n",
            "testing...........\n",
            "*====**\n",
            "0m 3s\n",
            "Epoch: 003, Train Loss: 1.2312307, Train Acc: 0.4541063, Test Loss: 1.6597147, Test Acc: 0.5217391\n",
            "train...........\n",
            "LR 0.01\n",
            "testing...........\n",
            "*====**\n",
            "0m 3s\n",
            "Epoch: 004, Train Loss: 1.2025591, Train Acc: 0.4669887, Test Loss: 1.0755357, Test Acc: 0.5072464\n",
            "train...........\n",
            "LR 0.01\n",
            "testing...........\n",
            "*====**\n",
            "0m 3s\n",
            "Epoch: 005, Train Loss: 1.2162714, Train Acc: 0.4637681, Test Loss: 1.0615751, Test Acc: 0.5169082\n",
            "train...........\n",
            "LR 0.01\n",
            "testing...........\n",
            "*====**\n",
            "0m 3s\n",
            "Epoch: 006, Train Loss: 1.0978600, Train Acc: 0.4589372, Test Loss: 1.0185569, Test Acc: 0.4830918\n",
            "saving best model\n",
            "train...........\n",
            "LR 0.01\n",
            "testing...........\n",
            "*====**\n",
            "0m 3s\n",
            "Epoch: 007, Train Loss: 1.1282409, Train Acc: 0.5426731, Test Loss: 1.1587101, Test Acc: 0.5024155\n",
            "train...........\n",
            "LR 0.01\n",
            "testing...........\n",
            "*====**\n",
            "0m 3s\n",
            "Epoch: 008, Train Loss: 1.0309480, Train Acc: 0.5426731, Test Loss: 1.0334359, Test Acc: 0.4879227\n",
            "train...........\n",
            "LR 0.01\n",
            "testing...........\n",
            "*====**\n",
            "0m 3s\n",
            "Epoch: 009, Train Loss: 1.0574478, Train Acc: 0.5024155, Test Loss: 0.9805654, Test Acc: 0.5120773\n",
            "saving best model\n",
            "train...........\n",
            "LR 0.01\n",
            "testing...........\n",
            "*====**\n",
            "0m 3s\n",
            "Epoch: 010, Train Loss: 1.0776926, Train Acc: 0.4669887, Test Loss: 0.9962643, Test Acc: 0.5072464\n",
            "train...........\n",
            "LR 0.01\n",
            "testing...........\n",
            "*====**\n",
            "0m 3s\n",
            "Epoch: 011, Train Loss: 1.0488321, Train Acc: 0.4573269, Test Loss: 0.9932349, Test Acc: 0.5265700\n",
            "train...........\n",
            "LR 0.01\n",
            "testing...........\n",
            "*====**\n",
            "0m 3s\n",
            "Epoch: 012, Train Loss: 1.0641016, Train Acc: 0.5330113, Test Loss: 1.0095409, Test Acc: 0.5169082\n",
            "train...........\n",
            "LR 0.01\n",
            "testing...........\n",
            "*====**\n",
            "0m 3s\n",
            "Epoch: 013, Train Loss: 1.0633994, Train Acc: 0.5249597, Test Loss: 1.0291724, Test Acc: 0.4541063\n",
            "train...........\n",
            "LR 0.01\n",
            "testing...........\n",
            "*====**\n",
            "0m 3s\n",
            "Epoch: 014, Train Loss: 1.0175690, Train Acc: 0.5442834, Test Loss: 1.0526223, Test Acc: 0.4782609\n",
            "train...........\n",
            "LR 0.01\n",
            "testing...........\n",
            "*====**\n",
            "0m 3s\n",
            "Epoch: 015, Train Loss: 1.0285640, Train Acc: 0.5169082, Test Loss: 0.9972928, Test Acc: 0.5362319\n",
            "train...........\n",
            "LR 0.01\n",
            "testing...........\n",
            "*====**\n",
            "0m 3s\n",
            "Epoch: 016, Train Loss: 1.0352666, Train Acc: 0.4798712, Test Loss: 1.0252886, Test Acc: 0.4975845\n",
            "train...........\n",
            "LR 0.01\n",
            "testing...........\n",
            "*====**\n",
            "0m 3s\n",
            "Epoch: 017, Train Loss: 1.0107104, Train Acc: 0.4669887, Test Loss: 1.2236215, Test Acc: 0.5072464\n",
            "train...........\n",
            "LR 0.01\n",
            "testing...........\n",
            "*====**\n",
            "0m 3s\n",
            "Epoch: 018, Train Loss: 1.0208817, Train Acc: 0.4669887, Test Loss: 1.0486181, Test Acc: 0.5072464\n",
            "train...........\n",
            "LR 0.005\n",
            "testing...........\n",
            "*====**\n",
            "0m 3s\n",
            "Epoch: 019, Train Loss: 1.0128997, Train Acc: 0.4669887, Test Loss: 1.0035129, Test Acc: 0.5072464\n",
            "train...........\n",
            "LR 0.005\n",
            "testing...........\n",
            "*====**\n",
            "0m 3s\n",
            "Epoch: 020, Train Loss: 0.9766804, Train Acc: 0.5185185, Test Loss: 1.0081758, Test Acc: 0.4975845\n",
            "train...........\n",
            "LR 0.005\n",
            "testing...........\n",
            "*====**\n",
            "0m 3s\n",
            "Epoch: 021, Train Loss: 1.0083153, Train Acc: 0.4750403, Test Loss: 0.9970503, Test Acc: 0.5217391\n",
            "train...........\n",
            "LR 0.005\n",
            "testing...........\n",
            "*====**\n",
            "0m 3s\n",
            "Epoch: 022, Train Loss: 0.9720591, Train Acc: 0.5909823, Test Loss: 1.0247037, Test Acc: 0.4734300\n",
            "train...........\n",
            "LR 0.005\n",
            "testing...........\n",
            "*====**\n",
            "0m 3s\n",
            "Epoch: 023, Train Loss: 0.9706419, Train Acc: 0.5829308, Test Loss: 1.0219854, Test Acc: 0.5072464\n",
            "train...........\n",
            "LR 0.005\n",
            "testing...........\n",
            "*====**\n",
            "0m 3s\n",
            "Epoch: 024, Train Loss: 0.9754074, Train Acc: 0.5668277, Test Loss: 1.0539101, Test Acc: 0.5265700\n",
            "train...........\n",
            "LR 0.005\n",
            "testing...........\n",
            "*====**\n",
            "0m 3s\n",
            "Epoch: 025, Train Loss: 0.9632220, Train Acc: 0.4959742, Test Loss: 0.9822104, Test Acc: 0.5217391\n",
            "train...........\n",
            "LR 0.005\n",
            "testing...........\n",
            "*====**\n",
            "0m 3s\n",
            "Epoch: 026, Train Loss: 0.9441239, Train Acc: 0.4669887, Test Loss: 1.0294651, Test Acc: 0.5072464\n",
            "train...........\n",
            "LR 0.005\n",
            "testing...........\n",
            "*====**\n",
            "0m 3s\n",
            "Epoch: 027, Train Loss: 0.9274117, Train Acc: 0.4669887, Test Loss: 1.1069873, Test Acc: 0.5072464\n",
            "train...........\n",
            "LR 0.005\n",
            "testing...........\n",
            "*====**\n",
            "0m 3s\n",
            "Epoch: 028, Train Loss: 0.9055598, Train Acc: 0.4669887, Test Loss: 1.1168005, Test Acc: 0.5072464\n",
            "train...........\n",
            "LR 0.005\n",
            "testing...........\n",
            "*====**\n",
            "0m 3s\n",
            "Epoch: 029, Train Loss: 0.9349760, Train Acc: 0.4669887, Test Loss: 1.1718337, Test Acc: 0.5072464\n",
            "train...........\n",
            "LR 0.005\n",
            "testing...........\n",
            "*====**\n",
            "0m 3s\n",
            "Epoch: 030, Train Loss: 0.9251247, Train Acc: 0.4669887, Test Loss: 1.2336157, Test Acc: 0.5072464\n",
            "train...........\n",
            "LR 0.005\n",
            "testing...........\n",
            "*====**\n",
            "0m 3s\n",
            "Epoch: 031, Train Loss: 0.8863073, Train Acc: 0.4669887, Test Loss: 1.2885839, Test Acc: 0.5072464\n",
            "train...........\n",
            "LR 0.005\n",
            "testing...........\n",
            "*====**\n",
            "0m 3s\n",
            "Epoch: 032, Train Loss: 1.0157710, Train Acc: 0.4669887, Test Loss: 1.0029728, Test Acc: 0.5072464\n",
            "train...........\n",
            "LR 0.005\n",
            "testing...........\n",
            "*====**\n",
            "0m 3s\n",
            "Epoch: 033, Train Loss: 0.9792689, Train Acc: 0.5233494, Test Loss: 0.9962153, Test Acc: 0.4734300\n",
            "train...........\n",
            "LR 0.005\n",
            "testing...........\n",
            "*====**\n",
            "0m 3s\n",
            "Epoch: 034, Train Loss: 0.9847214, Train Acc: 0.5314010, Test Loss: 1.0734723, Test Acc: 0.4782609\n",
            "train...........\n",
            "LR 0.005\n",
            "testing...........\n",
            "*====**\n",
            "0m 3s\n",
            "Epoch: 035, Train Loss: 0.9772456, Train Acc: 0.5281804, Test Loss: 1.0124599, Test Acc: 0.4734300\n",
            "train...........\n",
            "LR 0.005\n",
            "testing...........\n",
            "*====**\n",
            "0m 3s\n",
            "Epoch: 036, Train Loss: 0.9734278, Train Acc: 0.5297907, Test Loss: 1.0101961, Test Acc: 0.4830918\n",
            "train...........\n",
            "LR 0.005\n",
            "testing...........\n",
            "*====**\n",
            "0m 3s\n",
            "Epoch: 037, Train Loss: 0.9594171, Train Acc: 0.5314010, Test Loss: 1.0187900, Test Acc: 0.4927536\n",
            "train...........\n",
            "LR 0.005\n",
            "testing...........\n",
            "*====**\n",
            "0m 3s\n",
            "Epoch: 038, Train Loss: 0.9607020, Train Acc: 0.6264090, Test Loss: 0.9634778, Test Acc: 0.5555556\n",
            "saving best model\n",
            "train...........\n",
            "LR 0.0025\n",
            "testing...........\n",
            "*====**\n",
            "0m 3s\n",
            "Epoch: 039, Train Loss: 0.9441280, Train Acc: 0.5507246, Test Loss: 0.9779577, Test Acc: 0.4830918\n",
            "train...........\n",
            "LR 0.0025\n",
            "testing...........\n",
            "*====**\n",
            "0m 3s\n",
            "Epoch: 040, Train Loss: 0.9460169, Train Acc: 0.5185185, Test Loss: 0.9961918, Test Acc: 0.4637681\n",
            "train...........\n",
            "LR 0.0025\n",
            "testing...........\n",
            "*====**\n",
            "0m 3s\n",
            "Epoch: 041, Train Loss: 0.9234169, Train Acc: 0.5426731, Test Loss: 1.0505748, Test Acc: 0.4927536\n",
            "train...........\n",
            "LR 0.0025\n",
            "testing...........\n",
            "*====**\n",
            "0m 3s\n",
            "Epoch: 042, Train Loss: 0.9105723, Train Acc: 0.6924316, Test Loss: 0.9469345, Test Acc: 0.5700483\n",
            "saving best model\n",
            "train...........\n",
            "LR 0.0025\n",
            "testing...........\n",
            "*====**\n",
            "0m 3s\n",
            "Epoch: 043, Train Loss: 0.8934535, Train Acc: 0.6602254, Test Loss: 0.9683955, Test Acc: 0.5603865\n",
            "train...........\n",
            "LR 0.0025\n",
            "testing...........\n",
            "*====**\n",
            "0m 3s\n",
            "Epoch: 044, Train Loss: 0.8654111, Train Acc: 0.5475040, Test Loss: 2.2252896, Test Acc: 0.4975845\n",
            "train...........\n",
            "LR 0.0025\n",
            "testing...........\n",
            "*====**\n",
            "0m 3s\n",
            "Epoch: 045, Train Loss: 0.8759464, Train Acc: 0.4766506, Test Loss: 1.1799373, Test Acc: 0.5024155\n",
            "train...........\n",
            "LR 0.0025\n",
            "testing...........\n",
            "*====**\n",
            "0m 3s\n",
            "Epoch: 046, Train Loss: 0.8580829, Train Acc: 0.7423510, Test Loss: 0.9376063, Test Acc: 0.6231884\n",
            "saving best model\n",
            "train...........\n",
            "LR 0.0025\n",
            "testing...........\n",
            "*====**\n",
            "0m 3s\n",
            "Epoch: 047, Train Loss: 0.8559307, Train Acc: 0.6666667, Test Loss: 1.0486161, Test Acc: 0.6231884\n",
            "train...........\n",
            "LR 0.0025\n",
            "testing...........\n",
            "*====**\n",
            "0m 3s\n",
            "Epoch: 048, Train Loss: 0.8564208, Train Acc: 0.6151369, Test Loss: 1.4206451, Test Acc: 0.5362319\n",
            "train...........\n",
            "LR 0.0025\n",
            "testing...........\n",
            "*====**\n",
            "0m 3s\n",
            "Epoch: 049, Train Loss: 0.8220455, Train Acc: 0.4814815, Test Loss: 1.1108976, Test Acc: 0.5072464\n",
            "train...........\n",
            "LR 0.0025\n",
            "testing...........\n",
            "*====**\n",
            "0m 3s\n",
            "Epoch: 050, Train Loss: 0.8070518, Train Acc: 0.7439614, Test Loss: 1.0300399, Test Acc: 0.5603865\n",
            "train...........\n",
            "LR 0.0025\n",
            "testing...........\n",
            "*====**\n",
            "0m 3s\n",
            "Epoch: 051, Train Loss: 0.8184838, Train Acc: 0.4685990, Test Loss: 1.3712724, Test Acc: 0.5024155\n",
            "train...........\n",
            "LR 0.0025\n",
            "testing...........\n",
            "*====**\n",
            "0m 3s\n",
            "Epoch: 052, Train Loss: 0.8247110, Train Acc: 0.6183575, Test Loss: 1.1242222, Test Acc: 0.5217391\n",
            "train...........\n",
            "LR 0.0025\n",
            "testing...........\n",
            "*====**\n",
            "0m 3s\n",
            "Epoch: 053, Train Loss: 0.8056156, Train Acc: 0.7487923, Test Loss: 1.0800778, Test Acc: 0.5362319\n",
            "train...........\n",
            "LR 0.0025\n",
            "testing...........\n",
            "*====**\n",
            "0m 3s\n",
            "Epoch: 054, Train Loss: 0.8055331, Train Acc: 0.5893720, Test Loss: 1.1083462, Test Acc: 0.5169082\n",
            "train...........\n",
            "LR 0.0025\n",
            "testing...........\n",
            "*====**\n",
            "0m 3s\n",
            "Epoch: 055, Train Loss: 0.7911139, Train Acc: 0.5507246, Test Loss: 1.3136764, Test Acc: 0.5024155\n",
            "train...........\n",
            "LR 0.0025\n",
            "testing...........\n",
            "*====**\n",
            "0m 3s\n",
            "Epoch: 056, Train Loss: 0.8218208, Train Acc: 0.6731079, Test Loss: 1.0386229, Test Acc: 0.6135266\n",
            "train...........\n",
            "LR 0.0025\n",
            "testing...........\n",
            "*====**\n",
            "0m 3s\n",
            "Epoch: 057, Train Loss: 0.7988143, Train Acc: 0.5458937, Test Loss: 1.4707326, Test Acc: 0.4927536\n",
            "train...........\n",
            "LR 0.0025\n",
            "testing...........\n",
            "*====**\n",
            "0m 3s\n",
            "Epoch: 058, Train Loss: 0.8111490, Train Acc: 0.5330113, Test Loss: 1.1509348, Test Acc: 0.5169082\n",
            "train...........\n",
            "LR 0.00125\n",
            "testing...........\n",
            "*====**\n",
            "0m 3s\n",
            "Epoch: 059, Train Loss: 0.7936736, Train Acc: 0.7165862, Test Loss: 1.1473613, Test Acc: 0.5314010\n",
            "train...........\n",
            "LR 0.00125\n",
            "testing...........\n",
            "*====**\n",
            "0m 3s\n",
            "Epoch: 060, Train Loss: 0.7630344, Train Acc: 0.7246377, Test Loss: 1.1949433, Test Acc: 0.5507246\n",
            "train...........\n",
            "LR 0.00125\n",
            "testing...........\n",
            "*====**\n",
            "0m 3s\n",
            "Epoch: 061, Train Loss: 0.7784507, Train Acc: 0.5362319, Test Loss: 1.1860721, Test Acc: 0.5169082\n",
            "train...........\n",
            "LR 0.00125\n",
            "testing...........\n",
            "*====**\n",
            "0m 3s\n",
            "Epoch: 062, Train Loss: 0.7642484, Train Acc: 0.6811594, Test Loss: 1.1016148, Test Acc: 0.5362319\n",
            "train...........\n",
            "LR 0.00125\n",
            "testing...........\n",
            "*====**\n",
            "0m 3s\n",
            "Epoch: 063, Train Loss: 0.7548229, Train Acc: 0.7246377, Test Loss: 1.1027474, Test Acc: 0.5652174\n",
            "train...........\n",
            "LR 0.00125\n",
            "testing...........\n",
            "*====**\n",
            "0m 3s\n",
            "Epoch: 064, Train Loss: 0.7580301, Train Acc: 0.7165862, Test Loss: 1.2906025, Test Acc: 0.5410628\n",
            "train...........\n",
            "LR 0.00125\n",
            "testing...........\n",
            "*====**\n",
            "0m 3s\n",
            "Epoch: 065, Train Loss: 0.7537000, Train Acc: 0.7568438, Test Loss: 1.1222811, Test Acc: 0.5652174\n",
            "train...........\n",
            "LR 0.00125\n",
            "testing...........\n",
            "*====**\n",
            "0m 3s\n",
            "Epoch: 066, Train Loss: 0.7430808, Train Acc: 0.7085346, Test Loss: 1.1133413, Test Acc: 0.5652174\n",
            "train...........\n",
            "LR 0.00125\n",
            "testing...........\n",
            "*====**\n",
            "0m 3s\n",
            "Epoch: 067, Train Loss: 0.7471921, Train Acc: 0.6714976, Test Loss: 1.3780353, Test Acc: 0.5314010\n",
            "train...........\n",
            "LR 0.00125\n",
            "testing...........\n",
            "*====**\n",
            "0m 3s\n",
            "Epoch: 068, Train Loss: 0.7575554, Train Acc: 0.6376812, Test Loss: 1.2843947, Test Acc: 0.5603865\n",
            "train...........\n",
            "LR 0.00125\n",
            "testing...........\n",
            "*====**\n",
            "0m 3s\n",
            "Epoch: 069, Train Loss: 0.7617138, Train Acc: 0.6811594, Test Loss: 1.3326144, Test Acc: 0.5603865\n",
            "train...........\n",
            "LR 0.00125\n",
            "testing...........\n",
            "*====**\n",
            "0m 3s\n",
            "Epoch: 070, Train Loss: 0.7587671, Train Acc: 0.6618357, Test Loss: 1.0665105, Test Acc: 0.5362319\n",
            "train...........\n",
            "LR 0.00125\n",
            "testing...........\n",
            "*====**\n",
            "0m 3s\n",
            "Epoch: 071, Train Loss: 0.7629888, Train Acc: 0.6457327, Test Loss: 1.1257753, Test Acc: 0.5362319\n",
            "train...........\n",
            "LR 0.00125\n",
            "testing...........\n",
            "*====**\n",
            "0m 3s\n",
            "Epoch: 072, Train Loss: 0.7309198, Train Acc: 0.7391304, Test Loss: 1.2583622, Test Acc: 0.5603865\n",
            "train...........\n",
            "LR 0.00125\n",
            "testing...........\n",
            "*====**\n",
            "0m 3s\n",
            "Epoch: 073, Train Loss: 0.7302024, Train Acc: 0.7954911, Test Loss: 0.9952744, Test Acc: 0.5603865\n",
            "train...........\n",
            "LR 0.00125\n",
            "testing...........\n",
            "*====**\n",
            "0m 3s\n",
            "Epoch: 074, Train Loss: 0.7113895, Train Acc: 0.7922705, Test Loss: 1.0328748, Test Acc: 0.6135266\n",
            "train...........\n",
            "LR 0.00125\n",
            "testing...........\n",
            "*====**\n",
            "0m 3s\n",
            "Epoch: 075, Train Loss: 0.7047855, Train Acc: 0.7809984, Test Loss: 1.1599532, Test Acc: 0.5748792\n",
            "train...........\n",
            "LR 0.00125\n",
            "testing...........\n",
            "*====**\n",
            "0m 3s\n",
            "Epoch: 076, Train Loss: 0.7114674, Train Acc: 0.8389694, Test Loss: 1.0872319, Test Acc: 0.6086957\n",
            "train...........\n",
            "LR 0.00125\n",
            "testing...........\n",
            "*====**\n",
            "0m 3s\n",
            "Epoch: 077, Train Loss: 0.7466760, Train Acc: 0.7133655, Test Loss: 1.1798508, Test Acc: 0.5362319\n",
            "train...........\n",
            "LR 0.00125\n",
            "testing...........\n",
            "*====**\n",
            "0m 3s\n",
            "Epoch: 078, Train Loss: 0.7367204, Train Acc: 0.6070853, Test Loss: 1.9861546, Test Acc: 0.5410628\n",
            "train...........\n",
            "LR 0.000625\n",
            "testing...........\n",
            "*====**\n",
            "0m 3s\n",
            "Epoch: 079, Train Loss: 0.7178263, Train Acc: 0.6167472, Test Loss: 1.1252246, Test Acc: 0.5217391\n",
            "train...........\n",
            "LR 0.000625\n",
            "testing...........\n",
            "*====**\n",
            "0m 3s\n",
            "Epoch: 080, Train Loss: 0.7052030, Train Acc: 0.5813205, Test Loss: 1.1996822, Test Acc: 0.5265700\n",
            "train...........\n",
            "LR 0.000625\n",
            "testing...........\n",
            "*====**\n",
            "0m 3s\n",
            "Epoch: 081, Train Loss: 0.7064783, Train Acc: 0.8341385, Test Loss: 1.1268353, Test Acc: 0.6086957\n",
            "train...........\n",
            "LR 0.000625\n",
            "testing...........\n",
            "*====**\n",
            "0m 3s\n",
            "Epoch: 082, Train Loss: 0.6789764, Train Acc: 0.8196457, Test Loss: 1.0686373, Test Acc: 0.5458937\n",
            "train...........\n",
            "LR 0.000625\n",
            "testing...........\n",
            "*====**\n",
            "0m 3s\n",
            "Epoch: 083, Train Loss: 0.7005494, Train Acc: 0.8276973, Test Loss: 1.1974074, Test Acc: 0.5797101\n",
            "train...........\n",
            "LR 0.000625\n",
            "testing...........\n",
            "*====**\n",
            "0m 3s\n",
            "Epoch: 084, Train Loss: 0.6798838, Train Acc: 0.8389694, Test Loss: 1.2966035, Test Acc: 0.5845411\n",
            "train...........\n",
            "LR 0.000625\n",
            "testing...........\n",
            "*====**\n",
            "0m 3s\n",
            "Epoch: 085, Train Loss: 0.6808995, Train Acc: 0.7552335, Test Loss: 1.0568446, Test Acc: 0.5700483\n",
            "train...........\n",
            "LR 0.000625\n",
            "testing...........\n",
            "*====**\n",
            "0m 3s\n",
            "Epoch: 086, Train Loss: 0.6963161, Train Acc: 0.7665056, Test Loss: 1.0487676, Test Acc: 0.5410628\n",
            "train...........\n",
            "LR 0.000625\n",
            "testing...........\n",
            "*====**\n",
            "0m 3s\n",
            "Epoch: 087, Train Loss: 0.6790416, Train Acc: 0.8341385, Test Loss: 1.2044856, Test Acc: 0.5748792\n",
            "train...........\n",
            "LR 0.000625\n",
            "testing...........\n",
            "*====**\n",
            "0m 3s\n",
            "Epoch: 088, Train Loss: 0.6773605, Train Acc: 0.8357488, Test Loss: 1.2104637, Test Acc: 0.5797101\n",
            "train...........\n",
            "LR 0.000625\n",
            "testing...........\n",
            "*====**\n",
            "0m 3s\n",
            "Epoch: 089, Train Loss: 0.6822235, Train Acc: 0.7665056, Test Loss: 1.1538592, Test Acc: 0.5845411\n",
            "train...........\n",
            "LR 0.000625\n",
            "testing...........\n",
            "*====**\n",
            "0m 3s\n",
            "Epoch: 090, Train Loss: 0.6751836, Train Acc: 0.8212560, Test Loss: 1.0801008, Test Acc: 0.5603865\n",
            "train...........\n",
            "LR 0.000625\n",
            "testing...........\n",
            "*====**\n",
            "0m 3s\n",
            "Epoch: 091, Train Loss: 0.6662743, Train Acc: 0.8518519, Test Loss: 1.2233849, Test Acc: 0.5603865\n",
            "train...........\n",
            "LR 0.000625\n",
            "testing...........\n",
            "*====**\n",
            "0m 3s\n",
            "Epoch: 092, Train Loss: 0.6710776, Train Acc: 0.8325282, Test Loss: 1.3160836, Test Acc: 0.5797101\n",
            "train...........\n",
            "LR 0.000625\n",
            "testing...........\n",
            "*====**\n",
            "0m 3s\n",
            "Epoch: 093, Train Loss: 0.6727995, Train Acc: 0.8421900, Test Loss: 1.0936893, Test Acc: 0.5410628\n",
            "train...........\n",
            "LR 0.000625\n",
            "testing...........\n",
            "*====**\n",
            "0m 3s\n",
            "Epoch: 094, Train Loss: 0.6788068, Train Acc: 0.7133655, Test Loss: 1.2132280, Test Acc: 0.5410628\n",
            "train...........\n",
            "LR 0.000625\n",
            "testing...........\n",
            "*====**\n",
            "0m 3s\n",
            "Epoch: 095, Train Loss: 0.6714543, Train Acc: 0.7858293, Test Loss: 1.3656919, Test Acc: 0.5555556\n",
            "train...........\n",
            "LR 0.000625\n",
            "testing...........\n",
            "*====**\n",
            "0m 3s\n",
            "Epoch: 096, Train Loss: 0.6585149, Train Acc: 0.8534622, Test Loss: 1.2610025, Test Acc: 0.5893720\n",
            "train...........\n",
            "LR 0.000625\n",
            "testing...........\n",
            "*====**\n",
            "0m 3s\n",
            "Epoch: 097, Train Loss: 0.6533795, Train Acc: 0.7520129, Test Loss: 1.3616345, Test Acc: 0.5458937\n",
            "train...........\n",
            "LR 0.000625\n",
            "testing...........\n",
            "*====**\n",
            "0m 3s\n",
            "Epoch: 098, Train Loss: 0.6722595, Train Acc: 0.6360709, Test Loss: 1.4551078, Test Acc: 0.5700483\n",
            "train...........\n",
            "LR 0.0003125\n",
            "testing...........\n",
            "*====**\n",
            "0m 3s\n",
            "Epoch: 099, Train Loss: 0.6637984, Train Acc: 0.8647343, Test Loss: 1.2995552, Test Acc: 0.5845411\n",
            "testing...........\n",
            "===========================\n",
            "Test Acc: 0.5990338, Test Loss: 0.9507449 \n",
            "Namespace(epoch=0, n_epochs=100, batchSize=100, dataroot='/content/BrainGNN/data/ABIDE_pcp/cpac/filt_noglobal', fold=0, lr=0.01, stepsize=20, gamma=0.5, weightdecay=0.005, lamb0=1, lamb1=0, lamb2=0, lamb3=0.1, lamb4=0.1, lamb5=0.1, layer=2, ratio=0.5, indim=200, nroi=200, nclass=2, load_model=False, save_model=True, optim='Adam', save_path='./model/', explain=True)\n",
            "Explanation for sample 4: tensor([196,  53, 141, 164, 162, 101, 130,  57,  58, 140, 156, 106,   5,  42,\n",
            "         85, 152,  87,  75, 118,  67,  32, 133, 139,  19,  89,  97, 161, 155,\n",
            "          0,  45, 107, 109, 180, 128,  95,  59, 153, 135, 193, 131,  86, 120,\n",
            "        150,  35, 129,  48,  92,  30, 197,  26], device='cuda:0')\n",
            "Explanation for sample 5: tensor([157,  23, 174, 170,  34,  95, 120, 127, 136, 122,  66, 101, 164, 115,\n",
            "          7, 187,  91, 179,  78, 135,  46, 183,  19, 184,  58, 133,   3,  29,\n",
            "         47,  86,  15,  49, 142, 196,  84,  77,  20,  40, 125, 139,  71, 114,\n",
            "         22, 134, 181,  89,  87, 144, 161, 160], device='cuda:0')\n",
            "Explanation for sample 7: tensor([118,  23,  92,  30,  58, 170, 183, 130,  34, 127, 184,   0, 120,  66,\n",
            "        115,   3,  89, 176,  95,  65,  84, 128,  78, 179,  97,  87,  85, 123,\n",
            "         32, 136, 122, 167, 149, 133, 101,  46, 193, 153,  82, 109,  55, 145,\n",
            "        142, 158,  76, 189, 198,  19,  49, 116], device='cuda:0')\n",
            "Explanation for sample 13: tensor([170,  30, 115, 135, 196, 127, 150,  78,  68, 155,  92, 131, 133, 187,\n",
            "        122,  69,  65, 179,  33, 101,  53,  37,   7,  15, 120,  66, 183, 142,\n",
            "         34,  32, 136,  88,  49, 130,  87,  97, 156,  17, 184, 105, 107, 141,\n",
            "         44,  22, 121,  51, 177, 153,  41,   3], device='cuda:0')\n",
            "Explanation for sample 18: tensor([ 20, 110, 176, 170, 133, 122, 179, 157, 160, 199,  23, 141,  34, 145,\n",
            "         66, 127,  78, 149, 181, 118, 115, 142, 183, 120, 101, 130, 153, 136,\n",
            "         89,  65,  95,  87,  97,  88,  69, 177,  84,  53, 151,  32,  35,  83,\n",
            "         77,   3,  79,  12, 124, 125,  46,  93], device='cuda:0')\n",
            "Explanation for sample 28: tensor([120,  59,  30,  92, 115,  89, 155, 181, 170,   7, 197,  63,  29, 188,\n",
            "        179,  97,   0, 130, 161,  26, 131, 193, 187,  33,  86,  41,  22,  32,\n",
            "          6,   9, 158,  42, 153,  91, 125, 154, 144, 189, 160,  24,  58,   8,\n",
            "        114,  85,  51, 134, 157,  15,  72, 175], device='cuda:0')\n",
            "Explanation for sample 31: tensor([ 23,  20, 199,  64,  27, 127,  32, 120, 133, 187, 184,  92, 115, 179,\n",
            "        122,  30,  95,  66,  89, 169,  97,  84,  78, 145, 176,  63,  59,  65,\n",
            "         34,  33, 196, 156, 164, 110,   7, 170,   3, 142,  14, 149, 136, 153,\n",
            "        188, 178, 140, 118, 160,  99, 101,  86], device='cuda:0')\n",
            "Explanation for sample 35: tensor([107,  97, 104,  69, 178,  43,  53,  87, 141,   0,  30, 170, 187, 156,\n",
            "         20,  95,   7, 189,  44, 183, 179, 101, 180,  96, 145, 181, 135,  51,\n",
            "        161,  59, 193, 127, 151, 115, 112,  92, 150,   9, 133, 131, 160, 153,\n",
            "         14, 117,  33, 197,  93,  27,  83, 144], device='cuda:0')\n",
            "Explanation for sample 36: tensor([ 66, 183, 120,  23,  34,   5,  65, 195,  55, 122,  19, 115, 150,   3,\n",
            "         35,  59, 156, 184,  60, 181,  87, 118,  73, 153,  75, 114, 164, 160,\n",
            "         95,  56,  97,   7,  93, 127,  58,  72,  27, 145,  20,  41, 197,  85,\n",
            "        143, 192, 141, 170, 133, 110,  64,  40], device='cuda:0')\n",
            "Explanation for sample 41: tensor([198, 161, 193,  51,   9, 165,  66, 175,  46,  29, 147,  67,  85,  17,\n",
            "        112,  68,  45,  21, 189,  83, 104, 177,  13, 183,  24, 199,  81, 136,\n",
            "        197,  59,  14,  65,   4,   3, 110, 134,  58, 159, 120, 160,  88, 184,\n",
            "         19,  22,  37,  97, 143,  34, 163, 140], device='cuda:0')\n",
            "Explanation for sample 42: tensor([  7,  18, 169, 104,  95, 122, 153, 113, 170,   2, 178, 179, 155,  20,\n",
            "         59,  77,  45, 115,  92, 161, 109, 165, 197,  57, 117,  30,  50, 133,\n",
            "        164,  80,  98, 198,  51,  42,  89, 134,  26, 171, 121, 151, 131, 187,\n",
            "         27,   4, 135, 100, 116,  15,  81,  63], device='cuda:0')\n",
            "Explanation for sample 43: tensor([ 65,  97, 156, 193,  87,  66, 197,  29, 154,  86, 153,  67,  34,  78,\n",
            "        136, 120, 151,   3, 161, 141,  85, 184, 144, 186, 127, 175, 189, 101,\n",
            "         79, 107, 134,  51,  28,  61,  84, 129,  91, 130, 147,  45, 137, 118,\n",
            "        109, 177,  17,   7,  54, 164,  95, 123], device='cuda:0')\n",
            "Explanation for sample 48: tensor([135,  96,  30, 131, 141,  53,   0, 155,  93, 169, 187,  89,  69,  88,\n",
            "        150, 174,  63, 179,  92, 157,  66,   8, 146, 137,  95, 130, 107,  43,\n",
            "        101,  87,   9, 194, 153, 125,  98,  34,  46, 115,  33, 177,  58,  45,\n",
            "         11, 156,   7,  23, 168,  54,  22,  50], device='cuda:0')\n",
            "Explanation for sample 50: tensor([141,  23, 130,  43,  69, 116, 101,  34, 199,  65,  53, 149,  95, 120,\n",
            "         89,  84, 170,   7, 178,  66,  97, 104, 164,  27, 157, 133, 187,  22,\n",
            "         32,  42, 146,  80, 161, 169,  30, 175,  74,  54, 127, 179,  59,  46,\n",
            "        135,  85,  21,  78, 160, 115,  75, 166], device='cuda:0')\n",
            "Explanation for sample 52: tensor([141, 176, 137, 156,  84, 104, 178,  69,  97, 153,  87, 169, 128,  23,\n",
            "         65, 152, 164,  77, 199,  61, 115,  71, 133, 144, 111, 103, 123,  41,\n",
            "         90, 108, 139, 116,  43,  31, 120,  73, 140, 198,  86,  34, 109,  81,\n",
            "        145, 181, 197, 172,  70, 159, 161,  78], device='cuda:0')\n",
            "Explanation for sample 54: tensor([ 23, 120,  34, 183,  65,   3, 118, 170,  87,  82, 145, 115,  84,  19,\n",
            "        127,   7, 149, 136, 179,  58,  59,  89,  97,  20, 122,  78, 110, 156,\n",
            "         30,  75,  92, 142,  27,  95,  63, 152, 187, 128,  13, 135,  64, 153,\n",
            "         24,   5, 131,  32, 198,  22, 167,  42], device='cuda:0')\n",
            "Explanation for sample 55: tensor([155,  89,  49,  33, 195, 113, 181, 183,  23, 199, 160, 150,  85,  51,\n",
            "         19, 120,  34,  95,  98, 118,  55, 131, 184, 168, 165,  58, 115,  68,\n",
            "         22,  62, 153, 164,  32, 133, 167, 106,  11, 152,   7,  20, 145,   6,\n",
            "         24, 143, 169, 116, 187, 170,  82,  53], device='cuda:0')\n",
            "Explanation for sample 57: tensor([ 23, 141,  53,  65,  69, 184,  88, 176, 130,  34,  67, 145,   3, 199,\n",
            "         87,  97,   0, 107, 127, 120,  66, 136, 101, 128, 137, 153, 169,  25,\n",
            "         12,  78, 164,  58, 115,  92,  19,  43,  54,  49, 156,  26,  42, 143,\n",
            "        163, 139,  89,  13,  46,  20, 105,  86], device='cuda:0')\n",
            "Explanation for sample 72: tensor([ 53, 141, 178, 169,  18,   2,  58,  69,  96, 171, 130, 199, 184, 120,\n",
            "        127,  36, 194,  44, 151,  23,  46,  65, 152,  84, 112, 121,  24,  82,\n",
            "        102, 113,  79,  13,  93,  31,  77, 117,  26, 157,  92, 140, 134,  83,\n",
            "        177,   6, 119, 197, 147,  40,  55, 168], device='cuda:0')\n",
            "Explanation for sample 85: tensor([115, 170, 179, 184, 120, 145,  30,  65,  43, 107,  87, 187, 153,  89,\n",
            "          6,  97, 140,  27, 178, 197, 165, 156,  67, 163, 123,  93,  24,  59,\n",
            "        189, 144, 133,  33,  13, 198,  45,   1,  63, 129, 148, 147,  20,   7,\n",
            "        112,  11, 121, 128, 168, 122,  60,  85], device='cuda:0')\n",
            "Explanation for sample 95: tensor([183, 105,  66,  19,  78, 118,  34,  58,  83, 190,  65,  54,  55,  11,\n",
            "        179, 115,  12, 182, 184,  53,  46,  37, 127,  41, 134,  69,  39, 177,\n",
            "        181,  95, 129, 141,   5, 170, 124,  28,  29,   4, 197,  51,  92, 187,\n",
            "        176,  85, 148,  18, 109, 159, 111,  80], device='cuda:0')\n",
            "Explanation for sample 98: tensor([141, 194, 176,  43, 137, 188,  34, 153,  97, 156, 107,  23, 130,  30,\n",
            "         33, 169, 118, 171, 183, 136, 131,  58, 101,  65,   3,  88, 115,  85,\n",
            "          7,   0,  69,  29, 191,  92, 127,  62,  16,  53, 157, 160, 179,  59,\n",
            "         19,  51, 150, 170,   8, 123, 104,  20], device='cuda:0')\n",
            "Explanation for sample 100: tensor([ 23,  66, 118,  82,  65,  58, 183, 160, 164,  54,  68,  34, 166, 145,\n",
            "         32, 114, 127, 143, 181,   7,  20, 147, 124,  19, 167,  12, 122, 153,\n",
            "        177,  35, 104,  74,  44,  70, 106,  51,  95, 115, 163, 116, 133, 161,\n",
            "         93,  63,  69, 178,  33, 179,  89,  49], device='cuda:0')\n",
            "Explanation for sample 102: tensor([170, 115,  67,  34,  23,  92,  97,  87, 147, 120, 151, 153,   3,  65,\n",
            "        199, 129, 179, 193,  84,  66, 189,  88, 187, 194, 131, 107,  43,   7,\n",
            "        149, 164, 140,  15, 169, 183, 145, 176, 156, 101,  53,  69,  26,  58,\n",
            "         51, 198, 175, 123,  22,  56, 100,  38], device='cuda:0')\n",
            "Explanation for sample 103: tensor([ 85,  51, 179, 115,  34, 135,  30,  87, 193,   0,  92,  83, 169, 113,\n",
            "        134, 161, 156,  93, 153,  29, 130, 149, 189, 123,  15, 101, 142,  56,\n",
            "        146, 174,  25, 131,  40,  46, 147,  96, 141,  49,  44,  84, 107, 125,\n",
            "         26,   8, 175, 157,  24, 198, 165,  53], device='cuda:0')\n",
            "Explanation for sample 114: tensor([ 69, 141, 104, 130, 178,  84,  43, 149, 169, 189, 109,   3, 186,  66,\n",
            "        120, 101, 156, 136,   0, 127,  54,  97, 131, 164, 153,  65,  98,  19,\n",
            "         58,  78,  87, 115, 157, 129, 177, 167,  33,  73,  92,  83,  12, 132,\n",
            "         28,  86, 118,  34, 150,  26,  45,  39], device='cuda:0')\n",
            "Explanation for sample 117: tensor([ 65, 141,  23, 127, 199, 107, 101, 120, 137,  97,  66,  34,  53,  58,\n",
            "         87, 118, 115, 156, 179, 160, 130, 117, 176,  12,  89,  84, 133, 155,\n",
            "        153, 170,  30, 169,  78,  59,  32, 181, 194, 184, 187,  92, 116, 151,\n",
            "        124, 164,  43,   0, 167,   3, 145,  49], device='cuda:0')\n",
            "Explanation for sample 131: tensor([176, 130,  88, 104,  69, 178, 151,   0,   8, 117,  53, 193,  86,  40,\n",
            "         67, 102,  85, 171, 189,  29, 137, 107, 150,  84, 141,  35, 169, 129,\n",
            "        154,  51, 157, 197, 120, 136,  83, 142, 149, 144, 155,  46, 113,  44,\n",
            "         25, 128,  23,  58,  31,  30,  26,  41], device='cuda:0')\n",
            "Explanation for sample 134: tensor([170, 120, 115,  33, 150,  97, 133, 153, 179, 155,  49, 122,   7, 156,\n",
            "         89, 169,  92, 135,  22,  87, 162, 131,  63, 181, 189,  30,  27,  95,\n",
            "        113, 164, 166,  64,  23, 186,   2, 168, 172,  20,  15, 187, 130, 112,\n",
            "         79,  59, 160, 145, 198, 165,  24, 110], device='cuda:0')\n",
            "Explanation for sample 138: tensor([153, 179, 115,  87,  59,  23, 199,   6, 127, 164,  97, 110,  51,  85,\n",
            "         64, 156,  93,  95,   7, 184,  32, 149,  22,  74,  30,  24,  89, 170,\n",
            "         65, 187, 122, 155, 120, 137, 133,  78,  92,  20, 113,  47,  34, 131,\n",
            "         69,  54, 163, 145,  27, 130,   9,  15], device='cuda:0')\n",
            "Explanation for sample 145: tensor([ 31, 197,  50,  56,  47,  44, 147,  34,  17, 134,  93,  83,  40, 159,\n",
            "         29, 136,  22,  86, 154,  67,  85,  41, 184, 122,  81,   9,  78,  88,\n",
            "         42,  51,  58,  91, 123, 177, 110, 116,  36,  19,  77,  76,  57,   1,\n",
            "        121, 119, 180,  69, 152,   2,  79, 109], device='cuda:0')\n",
            "Explanation for sample 147: tensor([179, 115, 170,  95, 187, 160, 127, 118,  32,  65,  89, 136,  34,  23,\n",
            "         59, 183, 133, 181, 196, 167,  66,  51, 184,  60,   7,  55,  20, 130,\n",
            "        124,  27, 145,  54,  97, 174,  87,  67,  85,  53, 153, 193, 151, 120,\n",
            "        107, 166,  82, 128, 152, 161, 106, 156], device='cuda:0')\n",
            "Explanation for sample 156: tensor([120,   3, 127,  87, 118, 136,  74, 153,  85, 184, 103,  45, 115,  66,\n",
            "         47,  29, 152, 108,  28,  51,  54,  82,  34,  41,  39,  83, 151, 179,\n",
            "         73,  52,  57, 177,  62, 140, 143, 178,  19, 104,  36,  99,  38, 138,\n",
            "        102, 129, 168,   2, 161, 128, 112,  70], device='cuda:0')\n",
            "Explanation for sample 161: tensor([176, 188,  61,   6,  58,  69, 107,  18,  96, 142,  97,  80, 174,  99,\n",
            "         88,   0, 177,  53, 178, 169, 137,  43,  84,  25,   2, 171,  87, 165,\n",
            "          8,  28, 125, 158,  83, 119, 157, 155,  86, 194,  48, 117, 141, 101,\n",
            "        130, 136, 153,  19, 156,  46, 144,  59], device='cuda:0')\n",
            "Explanation for sample 162: tensor([ 23, 127, 118, 166,  34, 145, 183, 120, 182,  30,  36,  58,  32,  92,\n",
            "        143,  87, 179,   6,  22, 115,  51, 124,  82, 135,  19,  11,   3, 170,\n",
            "         47,  24, 113, 112,  64, 164,  39, 133,  78,  93, 168,  54, 155, 142,\n",
            "         67,  28, 150, 153, 193, 178, 140,  85], device='cuda:0')\n",
            "Explanation for sample 164: tensor([ 85,  51,  29, 153, 193, 156,  40, 189, 198,  54,  87,  78,  97, 102,\n",
            "         77, 161, 164, 155, 135, 170,  59, 171, 144, 179, 115,  26,  42,  27,\n",
            "        128, 151,  92,  33,  75,  11,  52, 166, 112,  41, 197,  55, 148,  70,\n",
            "         72, 168,  17,  12,  61,  71,  16, 187], device='cuda:0')\n",
            "Explanation for sample 167: tensor([ 85, 179, 131, 151, 193, 161, 127, 107, 194, 178,  82,  29,  43, 110,\n",
            "         67, 183, 142, 120,  75, 115, 113,  78, 189,  12,   5, 198, 188, 122,\n",
            "        145,  24,  87,   2,  47, 164,  20, 175,  17,  68, 117,  83, 149,  95,\n",
            "        155,  33, 167, 152, 129,  26,  36, 134], device='cuda:0')\n",
            "Explanation for sample 171: tensor([ 23, 115,  97,  89,  87,   7, 179,  95,  60, 127, 170, 199, 133,  92,\n",
            "        122, 149, 187,  33, 117,  34, 153, 142,  19,  64,  78, 120,  66,  75,\n",
            "          3, 161,  94,  51, 110, 176,   0, 141,  85,   5,  29, 137, 130, 193,\n",
            "        151, 198, 135,  61, 102, 177,  58,  20], device='cuda:0')\n",
            "Explanation for sample 172: tensor([179, 127,  92, 120,  87,  58,  97, 156, 164,  34,  24, 115, 183, 163,\n",
            "         93,  67, 133,  66,  33,  63, 141, 176, 151,  72,  59, 153, 193, 157,\n",
            "        106, 131,  46,  53, 170,  19, 140,  73,   7, 128, 137,  30,  16, 188,\n",
            "        142,  15, 130, 177, 116, 121, 189,   0], device='cuda:0')\n",
            "Explanation for sample 182: tensor([189,  67, 161, 117, 125,  17,  76,   3, 150, 198,  58, 193, 175, 120,\n",
            "        164, 136,  34,  37,  36,  32,  22,  47,  83, 147, 115, 130,  95, 178,\n",
            "         72,  89,  33, 155,  92, 179,  20,  60, 134,  82, 181, 133, 129,  54,\n",
            "         91, 121, 170, 151,  50,   4, 124,   6], device='cuda:0')\n",
            "Explanation for sample 184: tensor([ 53, 141, 189,  30,  43, 130,  92, 137, 187, 179, 161, 193, 135,  24,\n",
            "        164, 175,  51, 136,  36, 198,  97,  63,   3, 127, 112,  47,  23,  85,\n",
            "         75, 115,  29,  87, 177,  20,  34, 133, 170,  28,  58, 184, 100,  59,\n",
            "         65, 153, 118, 168, 111,  17, 124,  67], device='cuda:0')\n",
            "Explanation for sample 188: tensor([183, 120,  58,  59,  87, 164, 115,  97, 156, 170,  76,  26, 153,  41,\n",
            "         34, 179,  95,  21,  54,  63, 150, 187, 122, 138, 112, 182,  73, 135,\n",
            "        159,  12, 167, 168,   3, 143, 175,  28, 108, 163, 155,   7,  13, 197,\n",
            "         52, 114,  85,  74,  78,  56, 128,   0], device='cuda:0')\n",
            "Explanation for sample 196: tensor([ 53, 120,  19,  69, 183,  34, 141, 107,  88,   3,  84,  66,   0, 161,\n",
            "        176,   6, 198,  43, 136, 118, 169,  93, 123, 147, 131, 153,  24,  15,\n",
            "         41,  52,  82, 182, 197, 108,  98,  11, 112, 134, 126,  74,  36, 101,\n",
            "         40,  91, 168,  58, 159, 177,  73, 121], device='cuda:0')\n",
            "Explanation for sample 200: tensor([156,  87,  89,  59, 164, 133, 179, 120,  95, 184,  34, 170,  66,  97,\n",
            "        135,  93,  20,  69, 140,  83,  24, 151, 104, 141, 145,  13,  68,  22,\n",
            "         19, 117, 147, 130,  67,  77,  61, 121, 189,   4, 161,  21, 134, 116,\n",
            "        128, 112, 168, 129, 137, 101,  81,  74], device='cuda:0')\n",
            "Explanation for sample 203: tensor([ 58, 183, 136, 115, 118,  32,   3, 199,  19, 120,  97, 127,  34,  55,\n",
            "        195, 170,  35,  54,  82, 107, 150, 177, 165,  85,  92,  33,   6, 145,\n",
            "          0,  12,  65,  36,  87, 156,  39,   7, 179, 142,  63, 184,  73,  66,\n",
            "         78, 143, 172, 141,  51, 133, 168, 196], device='cuda:0')\n",
            "Explanation for sample 204: tensor([ 87, 120,  97,  34, 164, 179, 118,  65, 197, 170, 167,  92, 115, 143,\n",
            "         26,  58, 155,  24, 128,  29,   6,  16,  35,  74, 163, 153, 131,   7,\n",
            "         60, 135, 100, 138, 192, 112,  33,  63,  79,  41, 150,  83, 119, 124,\n",
            "         86, 102,  62,  37,  30,  77,  48,  85], device='cuda:0')\n",
            "Explanation for sample 210: tensor([184,  88, 127,  53, 141,  20, 107, 115, 183, 156,  43, 199, 179, 130,\n",
            "         32, 110, 101,  27,  65, 187, 140,  49, 120,   1,  30, 131, 170,  97,\n",
            "        116, 164,  87,  28, 169, 143, 150, 133,  15, 146,  81,  41, 113, 153,\n",
            "        100,   3,  22,  74, 167,  92, 163,  59], device='cuda:0')\n",
            "Explanation for sample 221: tensor([ 34, 179,  87,  67, 120, 116, 151, 184, 169, 137, 106,  33,  97, 141,\n",
            "          6,  10,  68,  84, 143,  86, 145, 198,  59, 191,  60, 139, 163, 152,\n",
            "         48, 150,  58, 164,  38, 190,  98, 165, 136, 193, 109, 148,  94,  77,\n",
            "        194, 154, 128,  62,  63, 102,   8, 140], device='cuda:0')\n",
            "Explanation for sample 226: tensor([199,  87, 156,  23,  34,  97, 184,  95, 153, 127,   7, 118, 179,  65,\n",
            "         25, 120, 158,  59, 115, 145,   0,  32, 164,  66, 107,  27,  20,  89,\n",
            "        142, 169,  30, 157,  68, 141,  60,  37, 133, 171, 183,  93, 188,  15,\n",
            "         43, 187, 136,  19, 140, 137,  79,  99], device='cuda:0')\n",
            "Explanation for sample 229: tensor([ 23, 199, 120, 145, 127,  65,  32,  89,  66, 179, 184,  87,  59,  95,\n",
            "         92, 133, 122,  34, 153,  97,  27, 115, 165,   6,  69,  50,  53,   7,\n",
            "         43, 156, 170,  85,  20,  22, 164,  55,  56, 107,  41, 108, 102, 150,\n",
            "         24, 113,  91, 182, 174,  88, 123, 134], device='cuda:0')\n",
            "Explanation for sample 235: tensor([ 88,  43, 107, 130,  69,  53, 176, 141,   0, 169, 137, 101, 194, 120,\n",
            "        174,  84, 157,  18,  46, 131,  33,  80, 156, 149, 121, 155,  32,  59,\n",
            "         57, 134,  72, 147, 170, 168,  22, 164, 135,  56, 187,  97, 150,  47,\n",
            "        115, 144, 182,  73,  67, 124,  50,  15], device='cuda:0')\n",
            "Explanation for sample 239: tensor([ 84, 169,  53, 101,   0,  18,  34, 178, 184, 130, 131,   9,  97, 159,\n",
            "        133, 135,  67,  95, 165, 127,  14, 191, 187,  30, 125, 123,  49, 112,\n",
            "         89, 113, 119,  92, 186,  73,  70, 115, 129, 155,  25, 120, 102, 179,\n",
            "        110,  87,  55,  79,  56, 161, 170,  76], device='cuda:0')\n",
            "Explanation for sample 252: tensor([127, 164, 199,  34, 115,  89, 170,  51, 120, 133,  93,  97,  41, 160,\n",
            "         85,  35,  33, 198,  19,  16,  83, 136, 150, 140,  24, 156,  87,  26,\n",
            "         58, 163,   8,  42, 189, 153, 179,   3,  40, 152, 175, 177,  30,   7,\n",
            "        144, 134, 187,  31,   0, 155,  29, 129], device='cuda:0')\n",
            "Explanation for sample 260: tensor([  9,  79, 178,   8, 198,  35,  66, 151, 177, 141, 128, 189, 197, 147,\n",
            "         77,  91, 102,  40, 175,  97,  82, 188,  87, 136,  61, 167,  25, 101,\n",
            "         65, 109,  42,  11,   3, 193,   0,  67,  26,  36, 154,  51, 127,  85,\n",
            "        118, 161, 183,  68, 121, 180, 120, 106], device='cuda:0')\n",
            "Explanation for sample 261: tensor([ 66,  34,  87, 156,  65,  97, 184, 120, 115, 127,  58, 118,  78, 153,\n",
            "        199,  23,  93,   3,  12, 145,  11, 170, 123,  95, 179,  19, 177, 122,\n",
            "        106,  85, 195, 183,   7,  92, 128, 160, 116, 143, 149,  44,  68,  59,\n",
            "         55,  33, 112,  56,  38,   6, 164,  83], device='cuda:0')\n",
            "Explanation for sample 267: tensor([ 87,  97,  32, 164, 183,  23, 120, 153,  84, 127,  58, 145, 115,  34,\n",
            "        118,  66, 169, 156, 170, 140, 143,  22, 112,  52,  24, 142, 179, 136,\n",
            "          3, 101, 177,  57, 182, 171,  41, 130, 196,  25,   9, 134,  56,  93,\n",
            "         50,   0,  73,  82, 121,  88, 123,  11], device='cuda:0')\n",
            "Explanation for sample 269: tensor([184, 199,  65, 127, 120,  23,  87,  34,  95, 164, 156, 115,  66, 168,\n",
            "        111,   3,  73, 150,  91, 100, 153,  32, 136,   7, 140, 177,  84,  33,\n",
            "        110, 154, 128,  97, 170, 144, 142,  59,  46, 122,  41,  27, 112,  82,\n",
            "         58,  15,  56,  78,   6, 109, 151, 134], device='cuda:0')\n",
            "Explanation for sample 272: tensor([164, 140,  87, 156,  97, 153,  65, 169,  23, 127, 115, 179,  67, 183,\n",
            "        199,  66,  33, 182, 150,  22, 168,  34, 189, 193,  44,  24,  74, 145,\n",
            "        120,  19, 163, 161, 184, 128, 195,  10,   0,  11, 157, 147, 116,   3,\n",
            "        129, 198,   9,  31, 106,  77,  29,  35], device='cuda:0')\n",
            "Explanation for sample 273: tensor([ 23,  34, 199, 184, 127, 179, 120, 118,  78, 170,  65, 145,  58,  92,\n",
            "        133,  84,  30,  89, 115, 143, 160, 123,  68, 156, 131,  41,  54,  37,\n",
            "         97, 164, 187, 124,  87,  32,  51,  59, 197, 135, 122, 185, 153, 101,\n",
            "         38,  29,  85, 116,  53,  60,  13,   0], device='cuda:0')\n",
            "Explanation for sample 274: tensor([133, 179,  59, 113, 170,  93, 135,  83,  92,  85,  17, 127,  22,  38,\n",
            "        175, 115, 149,  29, 164, 140,  15, 143,  24,   6,  40,  97, 177, 147,\n",
            "         87, 134, 131, 142,  58, 165,  12, 156, 123,  32, 155,  98, 153,  55,\n",
            "         46, 101, 157, 150, 148, 128,  14,  35], device='cuda:0')\n",
            "Explanation for sample 279: tensor([131,  34, 103, 138,  58, 128, 170,   0, 155,  24, 134,  19, 107, 182,\n",
            "         11,  41,  74,  60, 123,  97, 112,  52, 187, 115,  22,  87,  65,  27,\n",
            "         66, 169,  62,  43, 164,  90, 141,  92,   4, 156,   9,  21,  75, 190,\n",
            "         67,  20,  59,  91, 118, 168, 125, 119], device='cuda:0')\n",
            "Explanation for sample 280: tensor([ 34, 184, 127, 120, 199,  87, 118,  97,  23, 136,  65,  54,  24, 165,\n",
            "        115, 156,  92, 167, 179, 143, 158, 163,  25, 193, 102,  30,   6, 145,\n",
            "        131, 101,   0, 166, 112, 124,  37,  39, 169,  79, 174, 153, 157,   3,\n",
            "        130, 168,  89, 189, 194, 164, 175,  86], device='cuda:0')\n",
            "Explanation for sample 285: tensor([199,  23, 145, 118,  65,  34,  58,  68, 106, 183,  82, 120,  66, 164,\n",
            "         78, 127, 115,   3, 179,  54,  55, 153, 184,  85,  24, 160,  29,  51,\n",
            "        156, 170,  22,  30, 112, 123,  19, 157, 187, 116,  32,   6,  97, 129,\n",
            "         92, 152,  12, 155, 177,  87,  59,  67], device='cuda:0')\n",
            "Explanation for sample 299: tensor([164, 115,  32,  23,  87, 118,  92,  34, 179, 120, 127, 160,  43, 119,\n",
            "        170, 183, 153, 156, 167, 157,  55,  95, 107, 125,  97,   3,   9, 135,\n",
            "         90,  49, 140,  73, 145,  93, 187,  11, 112, 147,  22, 192, 174, 143,\n",
            "         38,  35,   7, 191, 133,  89,  67,  76], device='cuda:0')\n",
            "Explanation for sample 308: tensor([127, 115,  92, 170,  30, 179, 135,  55, 120, 133,  27,  59, 184, 183,\n",
            "         69, 155,  89, 164,  15,  32,  34,   0, 116, 146,   9, 187,   1,  58,\n",
            "         88,  93,   3,  43,  86, 149, 130, 136, 140,  22, 178, 137, 111, 180,\n",
            "         19,   8, 102, 125,  41, 197,  53, 144], device='cuda:0')\n",
            "Explanation for sample 310: tensor([153, 156,  87,  92,  97,  53,  34, 142, 179, 141, 115,  30, 177,  15,\n",
            "         84, 169, 130, 181, 143,  66,  31, 157,  77,  95,  69, 116,   0,  32,\n",
            "         82, 170, 101, 164,  33,  41,  59, 107,  55,   6, 167, 174, 102, 149,\n",
            "        133, 131,  19,  85,  89,  86, 180, 182], device='cuda:0')\n",
            "Explanation for sample 313: tensor([153, 120,  87,  34, 199,  97, 156,  65,  19,  58, 184, 183,  23,  53,\n",
            "         66, 145, 169, 118, 164, 177, 179, 136, 160, 157,  78, 141, 170,  84,\n",
            "         93,   7,  39, 127, 133,  33, 107,  20, 115,  75,  26, 122,  85,  29,\n",
            "          3,  95, 150, 197, 142, 163, 167,  24], device='cuda:0')\n",
            "Explanation for sample 314: tensor([176, 178,  69, 141,  88,  43,  53,  51, 169,  85, 188,  84,  29, 156,\n",
            "          3, 155,   8,  87, 130,   7, 197, 120,  93, 164,   0, 151,  35,  30,\n",
            "        183, 170, 153,  40, 107, 174,  59,  15, 149, 137,  32,  79,  67, 101,\n",
            "        157, 136, 194, 184,  34, 199,  97,  25], device='cuda:0')\n",
            "Explanation for sample 316: tensor([153, 156,  30,  27, 120,   7, 115,  75, 179,  98, 131,  59,  97,  87,\n",
            "         49, 127,   0,  60, 196, 164,  34,  35, 170,  20,  65,  63, 140, 107,\n",
            "        133, 102,  55,  92,  95,   9,  89,  40, 149,  96, 189, 187,  51, 169,\n",
            "        157, 122,  85, 150,   1,  15, 172, 165], device='cuda:0')\n",
            "Explanation for sample 318: tensor([ 19,  23, 127, 118,  65, 120,  34,  97, 134, 136, 184, 153,  58, 147,\n",
            "        183,  54,  46, 164, 115, 177, 156,  87, 145,  59, 170, 199,  82, 179,\n",
            "        129,  83, 124, 116,  14,  32,  68,  92,  80, 105,  86, 128, 130, 152,\n",
            "          6, 187, 112,  91, 144,   3,  27, 121], device='cuda:0')\n",
            "Explanation for sample 326: tensor([ 23, 145, 118,  65, 120,  34, 128,  87,  88,   3, 183, 199,   1,  66,\n",
            "        127, 181, 101, 164,  69, 107,  32, 130,  97, 115, 160,  53,  16,  82,\n",
            "         96,   0, 156,  86,  19, 170, 116,  30,  33,  84, 187,  49, 144, 114,\n",
            "        142, 180,  63, 131,  77, 134, 149, 135], device='cuda:0')\n",
            "Explanation for sample 327: tensor([ 95, 120, 199,  23, 150, 118, 170,   7,  24,  49, 155,  89,  34,  19,\n",
            "        115,  22, 145,  65, 179, 163, 168,   3,  97, 123,  16,  41,  40,  87,\n",
            "         62,  58, 187,  30, 156, 128,   6,  55, 144, 127,  92, 140,  73, 167,\n",
            "         32, 119, 164, 152,  18, 113, 182, 102], device='cuda:0')\n",
            "Explanation for sample 328: tensor([157, 130, 141, 176, 158,   0, 174, 101, 179,  23, 135,  92,  43, 115,\n",
            "         55,  30, 164, 160, 131,  34,  32, 127,  25, 169, 183, 170,  54, 136,\n",
            "         12,   7,  87,  58,  27, 123,  65,  49, 153, 145, 137, 171,  66, 143,\n",
            "        156, 133, 177,   3, 118,  78,  95,  98], device='cuda:0')\n",
            "Explanation for sample 336: tensor([141,  53, 127, 188, 101,  59, 120, 176,   0, 151, 199, 115, 156,   7,\n",
            "        135,  65,  23, 164,  25, 107,  43,  95, 137,  78, 153,  34,  87, 150,\n",
            "         60, 130, 118,  55, 183,  97, 155, 174,  29,  58, 117,  67, 171, 149,\n",
            "        179,  20, 170,  15, 193,  33,  77,  27], device='cuda:0')\n",
            "Explanation for sample 338: tensor([ 34, 151, 193,  97, 153, 147, 189, 156,  87,  17, 161, 120, 115,  82,\n",
            "        134, 164,  67, 125, 117, 183,  93, 198,  35,  79,  46, 177,  36,  58,\n",
            "          8,  63,   9, 152, 121, 197, 179, 180,  83, 129, 142,  15, 170,  40,\n",
            "        102, 109,  61,  42,  44, 128, 144,  14], device='cuda:0')\n",
            "Explanation for sample 344: tensor([151, 161, 156, 117,  67,  88, 125, 130, 188,  93, 107,  43, 193, 153,\n",
            "        171,  53,   7,  51, 176, 127,  87, 170, 121,  69, 169, 141,  97,  34,\n",
            "          0, 179,  66, 102, 101,  85,  46,  58,  20,   9, 135, 155, 120,  92,\n",
            "         98,  86, 175,  15, 134,  16, 137, 150], device='cuda:0')\n",
            "Explanation for sample 345: tensor([ 34,  97, 136,  85,   6,  35, 175,  51, 142, 165, 101, 156, 161, 131,\n",
            "         92, 189, 117, 119,  29, 102,  82, 186,   9,  76, 122, 154, 196,  23,\n",
            "        125, 180,  40,  86, 179, 133, 193,  52,  67,  48, 109, 144, 152, 167,\n",
            "         95, 111, 128,  19,   3,  24,  37,  79], device='cuda:0')\n",
            "Explanation for sample 346: tensor([117,  85,  29, 191, 119, 161,   8, 125,  51,   9,  67,  76,  79, 151,\n",
            "         47, 107, 198, 189, 102, 121, 175, 176, 171,  35, 174,  40, 193,  80,\n",
            "         34,  59,  43,  53, 141, 157, 158,  88,  36,  78, 183, 188,  61,  28,\n",
            "         30,  98, 129,  65, 104, 177, 178, 194], device='cuda:0')\n",
            "Explanation for sample 348: tensor([ 53, 115,  69, 141, 183, 179,  68, 199,  65,  34,  85, 170,  97,  51,\n",
            "         36,  40, 120,  16, 127, 118,  67, 198,  87,  93,  95, 163, 164, 133,\n",
            "        121,  47,   7,  75,  77,  86, 171, 193,   3, 174, 169, 140,  22, 189,\n",
            "        129, 156,  17, 113,  70,  89,  27,  14], device='cuda:0')\n",
            "Explanation for sample 351: tensor([113, 170, 115,  84, 169, 164,  34,  58, 155,  92, 150, 156,  97,  22,\n",
            "         94, 131, 146, 135,  51, 188,  33, 120, 179,  67,  15, 163,  66,  19,\n",
            "         63, 106,  32, 171, 143,  12,  35, 121,  49, 183, 153, 181,  23, 127,\n",
            "         54, 193, 189, 101, 140, 175, 123,   7], device='cuda:0')\n",
            "Explanation for sample 353: tensor([146, 161, 157,  97,  80, 176, 113,  34,  18, 107, 189, 104,  69,   0,\n",
            "        174, 199, 170, 127,  58,  16, 193, 141,  53, 169,  88, 151,  84, 137,\n",
            "        101, 130, 120, 142,  61,  57, 164, 144, 135,  68, 194,  87,   2,  43,\n",
            "        178, 197, 171,  91, 121, 187,  28,  19], device='cuda:0')\n",
            "Explanation for sample 363: tensor([156,  97, 153,  87, 120, 133,  88, 110,  23, 151,  55,  44, 123,  93,\n",
            "        178, 107, 115,  83, 117, 134,  40,  17,  67, 171,  47,  59, 128,  43,\n",
            "         58, 131,  35, 147, 161, 193, 177,   6,  68, 121,  79,   9, 189, 159,\n",
            "         99, 164, 111,  50,  19, 136, 125,   8], device='cuda:0')\n",
            "Explanation for sample 367: tensor([ 30, 130, 135, 181, 141, 128, 101, 107,  33, 121,  34,  50,  77,  75,\n",
            "         55, 160,   1,  63, 198, 164, 159, 180,  87, 133, 120, 144,  31,   0,\n",
            "         35, 196,  70,  85,  32, 140,   9,  86,  81,  89,  49,  76,  13,  24,\n",
            "         57, 131, 150,  82,  60, 151, 189, 193], device='cuda:0')\n",
            "Explanation for sample 369: tensor([115, 153, 169, 131,  62, 170, 179, 164,  87,  55,  33, 135,  84,  30,\n",
            "        178,  92,  49,  59, 155, 122, 120, 102,  32,  72, 136, 141,  35,  15,\n",
            "        187, 156, 160, 113, 116,  89, 142,  18, 124, 123, 180, 134, 181, 150,\n",
            "         96,  24, 109,  71, 195, 121,  34, 144], device='cuda:0')\n",
            "Explanation for sample 375: tensor([ 93,  23, 128, 119,  19,  76, 193, 161, 141,  53, 120,  51, 130,  34,\n",
            "         31,  70, 151, 169, 125,  49,   0,  95,  97,  87,  83, 106, 157, 115,\n",
            "        110,  68,  58,  30, 127,  15, 143, 122,  85,  86, 121, 178,  67,  13,\n",
            "        187, 171,  69, 164,  46, 197, 123,  26], device='cuda:0')\n",
            "Explanation for sample 378: tensor([ 51,  85, 175,  23, 183,  93, 166, 180, 123,  86,  42,  66, 125,  19,\n",
            "         77,  83, 115,  22,  55, 161, 144,   9, 186, 111, 152,  56,  58, 106,\n",
            "        191, 172, 151, 193,  54, 120,  10,  17,   6, 136, 118, 107,  47,  65,\n",
            "         82,   8, 181,  43, 148,  91,   1, 197], device='cuda:0')\n",
            "Explanation for sample 381: tensor([153,  34,  23,  85,  51,  97, 115, 171, 199,  87, 133, 164, 127,  68,\n",
            "        120, 198,  59,  58,  32, 170, 138,  47,   9, 194,  40, 136, 184, 179,\n",
            "        172,  60, 149,  94,  67,  55,  61, 123,  86,  15,  19, 165, 190, 187,\n",
            "        140, 188, 193, 128, 102, 159, 121,  50], device='cuda:0')\n",
            "Explanation for sample 384: tensor([ 69, 101,  53, 137, 141, 176, 183,  43,  30, 118, 160, 131,  88, 104,\n",
            "        181,   0, 174,  63,  84, 135, 107, 171, 157, 169, 178,  58, 130,  49,\n",
            "         96, 188, 151, 187,  68, 113, 142, 120,  75, 158,   2,  92,  23,  34,\n",
            "        196, 164,  24, 199, 121, 133,  25,  32], device='cuda:0')\n",
            "Explanation for sample 387: tensor([157, 141, 158,  53, 174, 101,  88, 176,  69,  43, 130, 137, 107, 178,\n",
            "        187, 104, 188, 127,  27,  95,  85, 171,  59, 153, 183,  32, 189, 121,\n",
            "         75, 110,  89,  30,   0,   7, 115, 154,  25, 133, 170,  31,   9, 151,\n",
            "         28,  35,  92,  51,  83,  55, 123,  29], device='cuda:0')\n",
            "Explanation for sample 389: tensor([153,  23, 115, 127, 191, 170,  87,  66, 156,  18,  69,   1,  79, 119,\n",
            "         35, 125, 194, 193, 102,  32, 136,  48,  98,  58,   8,  76,   3,  92,\n",
            "        179,   2, 133, 135,  19, 164, 104,  85,  51,   9, 117,  67, 175, 172,\n",
            "         38, 185,  82, 132, 128, 144, 134, 121], device='cuda:0')\n",
            "Explanation for sample 397: tensor([ 96, 130, 107,   0, 131, 157, 176,  30, 169, 158, 174,  25, 188, 135,\n",
            "        101,  15, 116,  57,  62,  97,   9, 187, 125,  10, 115,  34,  79, 119,\n",
            "        194,  35,  87, 117,  58, 178, 170, 191,   3, 102,   8,  66, 136, 145,\n",
            "         17,  76, 197, 147,  40, 151, 177, 182], device='cuda:0')\n",
            "Explanation for sample 406: tensor([ 96, 155,  53,  84,  23,  30,  88,  33, 131, 164, 127, 170,  69, 113,\n",
            "        150,  55,  89, 188, 141, 135,  92, 179, 169,  49, 175, 193, 133, 199,\n",
            "        151, 115, 120,  60, 183,  40, 165,  12, 153,  80,  16,  95, 167,  63,\n",
            "        101, 122,  93,  37,  82,  24, 197, 162], device='cuda:0')\n",
            "Explanation for sample 421: tensor([ 53,  88, 141, 137,  43, 176, 130, 188, 101, 104, 178,  34,  66, 120,\n",
            "         47, 179, 170,  23, 193, 115, 151, 161,  65, 142, 160, 184,  36, 197,\n",
            "        133,  29, 156,  78, 153,  31,  49, 181,  86,  40,  67, 128,  12, 145,\n",
            "        127,   7,  85, 187, 177, 199, 183, 118], device='cuda:0')\n",
            "Explanation for sample 425: tensor([141,  53, 133,  78, 118,  97,  87, 127,  66, 130, 153, 156, 101,  69,\n",
            "         34, 178,  63, 135,   3, 120,   0, 183,  30, 164,  92,  27, 177, 155,\n",
            "        136, 179,  22, 149,  28, 170,  55,   7, 142,  35, 181,  25, 115,  59,\n",
            "        160, 125, 158, 124,  84, 167, 169,  76], device='cuda:0')\n",
            "Explanation for sample 426: tensor([ 85,  58,  66,  51, 183,  67, 136,  34,  19, 193, 118,  82, 161, 154,\n",
            "        128,  46, 195,  91,  87,  97,  73, 189, 184, 153,  52, 109, 177,  29,\n",
            "         12, 143, 129,  14, 180,  77,  86, 164, 156, 175, 134, 163, 124,  26,\n",
            "        100, 159, 119,  31,  24, 191, 115, 123], device='cuda:0')\n",
            "Explanation for sample 427: tensor([197, 199,  34, 120,  65,  64, 130,  30,  23, 184, 156,  20, 115,  92,\n",
            "        151, 161, 153,  84,  87, 196,  75, 101, 169,  97, 117,  78, 175,  88,\n",
            "          9, 142,  40, 149, 106, 137,  29,  95, 131,   7, 170,  67, 189,  51,\n",
            "         27, 122, 110, 187,  18,  26, 136,  59], device='cuda:0')\n",
            "Explanation for sample 429: tensor([ 53,  69,  88, 153, 156, 137, 120,  49,  97,  75, 122,  58,  23,  18,\n",
            "        127,  66,  87,  65, 196, 135, 136, 115,  27,   3,  34,  19,  54, 187,\n",
            "        118,  95, 164,  12, 145,  67, 181, 184,  89, 197, 133,   7,  32,  15,\n",
            "        170,  78, 183, 116,  92,  63,  46, 177], device='cuda:0')\n",
            "Explanation for sample 431: tensor([127,  23,  87, 199, 179,  65, 111,  88, 145, 183, 184,   3,  69, 141,\n",
            "          2, 104, 101, 128,  53, 153,  18,  96,  34,  61, 178,  91, 120, 118,\n",
            "        113,  40,  54, 164,  85, 130,  29,  97,  56, 136,  78,  66, 149,  44,\n",
            "        140, 144, 122,  86,   6,  28,  89,  17], device='cuda:0')\n",
            "Explanation for sample 437: tensor([ 65, 199,  34,  23, 184, 120, 145, 127,  87,  69,  97, 156, 133, 189,\n",
            "         53, 151, 153, 179, 178,  85,  92,  51, 115,  59, 187,  78, 104, 193,\n",
            "        136, 121,   2,  88,  63, 175,   3,  75,  89,  67, 142,  30, 170,  29,\n",
            "         58,  15,  36,   5, 129, 144, 101,  77], device='cuda:0')\n",
            "Explanation for sample 453: tensor([ 87, 153,  97, 156,  65, 115, 199,  34,  58,  23, 184, 136, 178,  49,\n",
            "        179,  24, 170,  29, 154, 155, 127,  63,  92,  30,  36,  18,  85,  75,\n",
            "        102, 133,  35,  42,  26, 196,  47, 198,  93, 177, 121, 135,  82, 142,\n",
            "         61, 181, 143, 159, 134, 187,   3,  86], device='cuda:0')\n",
            "Explanation for sample 456: tensor([ 26,  29,  31,  42,  51, 197, 120,  34,  65, 184,   0,  66, 145, 118,\n",
            "        101,  97,  84, 169, 127, 142, 110, 131,  87,  83, 153, 156,   3, 140,\n",
            "        149,  59, 134, 177, 150,   7,  15,  20, 163, 133, 100,  35,  95,  46,\n",
            "         41,  27,  32, 115, 179,  82,  40,  92], device='cuda:0')\n",
            "Explanation for sample 457: tensor([ 35,  42,  51,  79, 118,  23, 183,  65,  34, 164, 120,   3, 184, 133,\n",
            "         53,   2,  17, 145, 146, 136,  32,   6, 174,  44,  66,  58,  55,  47,\n",
            "         31, 155, 127, 115,  92,  85,  97, 197, 187, 170,  95,  49,  88,  19,\n",
            "        141,  11,  27, 130,  89, 181, 101, 166], device='cuda:0')\n",
            "Explanation for sample 462: tensor([ 88,  53,  69, 176, 178, 199,   3, 184,  27,   0, 120,  66, 141,  80,\n",
            "        130, 118, 187, 110, 136, 137, 161, 101,  85,  65,  59, 122,  34,  64,\n",
            "         58, 133, 157, 180, 107,  51, 183,   7, 151, 169,  43, 127,  82, 145,\n",
            "         32, 117,  30, 116, 102,  89, 140, 150], device='cuda:0')\n",
            "Explanation for sample 487: tensor([ 53,  88, 141,  51, 147,  85, 130,  93,  69, 137, 134, 101, 184, 169,\n",
            "        131,  65, 127,  54,   0, 177,  84,  75, 149,  16, 155,  91,  96, 181,\n",
            "         58, 120,  24, 124,  34, 183, 163, 104,  66, 178, 106,  32,  81,  72,\n",
            "        159, 168,  18,  67,  37,  33,  15, 164], device='cuda:0')\n",
            "Explanation for sample 492: tensor([107,  43, 141,  44,  17, 101,   0,  84, 130, 142,  68,   8, 193,  64,\n",
            "        156,  20,  93,  46, 136,  30,  29, 147,  34,  97, 169, 119,   7,  95,\n",
            "        105, 127,  98,  67, 150,  76, 100, 186,  87,  83,  59,  33, 197, 109,\n",
            "         51, 102,  40, 115, 198, 131, 129,  11], device='cuda:0')\n",
            "Explanation for sample 499: tensor([ 88, 141,  69, 104, 107,  43,  53, 137,  93,  23,  47,  17,  68, 120,\n",
            "         34, 164, 116,  39, 130, 101,  65, 184, 136, 118, 147,   4,  83, 142,\n",
            "        167, 106, 199,  57,  79, 145,  24,  97,  18, 166, 165,   7,  32, 152,\n",
            "        190, 168, 150,  66, 185, 132,  45, 148], device='cuda:0')\n",
            "Explanation for sample 505: tensor([ 51,  97, 153,  87,  85,   7,  10, 150,  34, 118,  27,  71,  95, 161,\n",
            "        164, 106,  40,  60, 102, 116, 120, 133, 140, 183, 160,  48,  59, 198,\n",
            "         29, 175,  33,  72, 145,  38, 193, 189,  98,  42,  16, 168, 114,  77,\n",
            "        129,  92,  31,   3, 134,  11,  82, 152], device='cuda:0')\n",
            "Explanation for sample 511: tensor([ 87, 153, 115,  23, 120,  97, 156,  92, 170, 118,  65,  66, 199,  34,\n",
            "        179, 183,  58, 160, 127, 164, 145, 131, 136, 169, 102,  49,  30, 184,\n",
            "         36, 181,  78,  33, 113,  12,  67,   3,  16,  37,  63,  19, 177, 130,\n",
            "        135,  59, 165,  24,   6, 119, 114,  55], device='cuda:0')\n",
            "Explanation for sample 525: tensor([ 80, 146, 189, 161, 198, 174, 193,  85, 131, 107,  43,  23,  29, 141,\n",
            "        121,  51,  60,  88, 129, 175, 127,  67,  65, 177,  34, 133,  58,  19,\n",
            "        130, 132, 145, 150,  33, 188,  59, 118, 101, 152,   0, 184,  25, 120,\n",
            "         40,  27, 183,  91,  92,   3,  66, 160], device='cuda:0')\n",
            "Explanation for sample 532: tensor([120,  92, 183,  34,  66, 115, 179, 118, 127,  67,  36,  30, 145, 170,\n",
            "         20, 129,  97, 187, 154,  19,  46, 133, 104,  58, 177,  47,  91, 149,\n",
            "        178,  51,  24, 153,  37,  85,  53, 131,  29,  69,  44,  14,  27,  95,\n",
            "         17, 124,  88,  32,  59,  12, 107, 176], device='cuda:0')\n",
            "Explanation for sample 534: tensor([130, 176, 115,  20,  53, 104, 179, 141, 170,  87, 110, 199,   0,  15,\n",
            "         32,  69, 137,  27, 171, 127, 122, 120,  67, 168, 178,  66, 184,   7,\n",
            "         95,  58, 117, 158, 153, 193, 164,  68, 140,  34, 121, 183,  89,  47,\n",
            "         18,  35, 177, 143, 142,  76, 152,  50], device='cuda:0')\n",
            "Explanation for sample 541: tensor([ 23,  65, 199, 184,  34, 156,  87, 153, 120, 122, 145,   0,  66, 177,\n",
            "          7, 127,  97,  32,  20,  37,  64,  19,  95, 160,  59, 115,  55,   6,\n",
            "        101, 130, 110, 131,  27,  35, 123, 118,  70,  24, 187,  58,  63, 143,\n",
            "        128,  51,  84, 147, 193, 106, 169, 133], device='cuda:0')\n",
            "Explanation for sample 566: tensor([ 65, 199, 182, 120,  58, 140, 166, 154,  34,  47, 184, 121, 141,  91,\n",
            "          3, 178, 183, 132, 104,  36,  66,  51,  53,  45, 147,  97, 164,  22,\n",
            "         43,  69, 190, 118,  88, 177, 180,  67,  74,  11, 127, 107,  19, 136,\n",
            "        170,   4, 168, 193,  39,  35, 103, 192], device='cuda:0')\n",
            "Explanation for sample 567: tensor([199, 136, 187, 154, 179,  66,  91,  30,  95,  27,  65,  54, 118,  67,\n",
            "          3, 121,  34,  78, 156,  82,  83, 183, 129, 198,  20, 172,  19,  93,\n",
            "        145, 184,  52, 133, 153,  58,  59, 148, 127, 143, 134,  87,  14, 164,\n",
            "        122, 120, 159, 114,  70, 163, 144,  24], device='cuda:0')\n",
            "Explanation for sample 571: tensor([119, 175,  76,  79,  29,  47, 101, 169,  36, 130, 125, 109,  91, 189,\n",
            "         98, 141, 129,   9, 112, 157,  40, 131,   8,  46, 105,  51,  65,  62,\n",
            "         86,  85,  43, 193, 154, 161,  66,  17,  14, 156, 153, 121,  39, 168,\n",
            "         27, 198, 120,  12, 177,  89, 178, 117], device='cuda:0')\n",
            "Explanation for sample 594: tensor([107,  88,  53,  43, 141, 176,  65,  97,  87, 120,  34,  32, 145,  23,\n",
            "        101, 118, 184, 199, 164,  84, 109, 127,  82, 195, 129,  77, 113, 149,\n",
            "        153, 155,  66, 130,  67, 169, 180, 142,  58, 144,  31, 135,   0, 193,\n",
            "         41,  70,  63, 133,  86, 123,  37,  29], device='cuda:0')\n",
            "Explanation for sample 597: tensor([ 53, 141,  88, 130, 107, 176,  69, 101, 174, 178,  25, 157, 171, 137,\n",
            "        188,  43, 104, 169, 183, 120, 131,  61, 128, 145, 144,   3, 165, 177,\n",
            "         58,  18,  82,  63, 155, 164, 118, 195, 199, 198, 143,  89, 133, 168,\n",
            "        161, 187,  68,  78,  52, 136, 159, 127], device='cuda:0')\n",
            "Explanation for sample 600: tensor([ 65, 116, 145,  34,  10, 120,  25, 101, 197, 153, 157,  84,  51, 106,\n",
            "         13, 144, 158,  38,  58,  31,  87,  48, 164,  29,  59, 184,  85, 128,\n",
            "         47,  73, 140,  66,  97,   1, 189, 161, 193, 123, 102, 141, 148, 168,\n",
            "        100,  20,  22,  19,  70, 171,   3,  42], device='cuda:0')\n",
            "Explanation for sample 603: tensor([ 53, 137, 107, 141,  63,  43, 113,  96, 176, 135, 101, 130, 162,  49,\n",
            "        181, 170,  19,  67, 169, 131,  25, 171, 124, 120, 115,   3,  92, 198,\n",
            "        155, 109, 196, 179,  30, 188, 114, 161,  58,  82,  15, 128,  91,  34,\n",
            "         33,  89,  95, 118, 167, 180,  51,  20], device='cuda:0')\n",
            "Explanation for sample 605: tensor([ 97, 136, 183, 120, 118,  65, 153,  87,  34, 134,  82, 122,  66,  55,\n",
            "        127,   3, 184, 123,  32,  10,  14,  96, 156,  60, 115,  33,  22,  40,\n",
            "        110, 159, 161, 177,  30,  72,  44, 197,  31, 170,  93,  83, 187,  89,\n",
            "        164,  42, 149,  20, 179, 165,  49, 112], device='cuda:0')\n",
            "Explanation for sample 614: tensor([183,  82,   3,  88, 120,  19,  34, 145, 136,  66,  65,  23, 108, 106,\n",
            "         68, 184,  54, 104,  61, 167,  41, 127,  53,  59, 133, 139, 171, 156,\n",
            "        199, 112, 152,  97,  32, 141,  50,  58,  29, 129,  87,  67, 160,  51,\n",
            "        164,  20,  89,  11,  52, 181, 177, 140], device='cuda:0')\n",
            "Explanation for sample 620: tensor([ 85,  51, 130,  43,  69, 107, 134, 101, 198,   0, 175, 174,  25, 157,\n",
            "        151,  79, 152, 137,  83, 147, 121,  53, 120, 141,  82,  48,  93,  67,\n",
            "         20,  27,  86, 129, 133,  77, 168, 187, 179,  41, 128,  95,  64,  59,\n",
            "          7, 110, 169,  73, 122,  34,  30, 193], device='cuda:0')\n",
            "Explanation for sample 623: tensor([ 87,  97, 153,  67,  60, 156,  22,  55,  58,  93,  23, 168,  81, 123,\n",
            "          6,  37,  24, 148,  64,  50, 154,  20,  11,  34, 128,  94, 183, 182,\n",
            "         27, 127, 118, 129, 120,   5, 164, 112,  65,  32,  92, 145, 167, 110,\n",
            "         78, 184,   3,  59, 177, 133, 180, 160], device='cuda:0')\n",
            "Explanation for sample 626: tensor([174, 157,  25,   3, 153, 101, 158,  32,  23, 115, 199, 127,  30,  51,\n",
            "         97,   7, 136,  65, 193, 145, 120, 117,  99, 155,  43,  58, 188,  87,\n",
            "        118, 146, 170,  95, 169,  34, 171, 164,  84, 175,  69,  85,  93, 147,\n",
            "         20, 134, 156,   8,  92, 142,  49,  78], device='cuda:0')\n",
            "Explanation for sample 633: tensor([ 23,  32, 196, 155,  64, 127,  20, 181,  59,  49, 141,  89, 122, 160,\n",
            "        170,   5, 110, 115,  75, 142, 135, 137,  95,  63,  72,   7, 193, 120,\n",
            "         30,   6, 187,  34,   9,  55,  87,  65, 128,  27, 133,  66, 184, 124,\n",
            "          3, 197,  13, 114, 116,  12, 179, 118], device='cuda:0')\n",
            "Explanation for sample 648: tensor([130, 120,  34,  23, 157,  65, 118, 115,  59, 184,  66, 136,  78, 179,\n",
            "        160, 164, 127, 101, 183, 169, 156,   8,  54,  12, 170, 133,  67,  97,\n",
            "        177,  50, 145, 122, 153,  82, 134,  30, 189,  32, 197,  19,  85,  46,\n",
            "         58,  33,  41, 128, 193,  40,  29,  27], device='cuda:0')\n",
            "Explanation for sample 650: tensor([ 23,   3, 170,  65,  92, 115, 118,  34,  64, 179, 131,  59,  27,   7,\n",
            "        164, 157, 176, 113, 122, 120, 165,  22, 184,  67,  55, 145, 199,  20,\n",
            "         66, 127, 110, 123, 136, 133,  89,   6, 187,  63,  37,  24,  75, 126,\n",
            "         78, 168,  11, 193, 112,  95,  29,  17], device='cuda:0')\n",
            "Explanation for sample 655: tensor([ 23,  41, 110,  93, 168, 122,  87,   0, 130,  89, 112,  20, 199,  97,\n",
            "        187,  73, 101, 157,  19,  78,  56, 182, 134,  59, 145,  52,  83, 120,\n",
            "        164, 140, 156, 183, 115,  26,  16, 198,  42,  32, 153, 174, 107,  84,\n",
            "        127, 163,   3,  67, 171, 143,   2, 169], device='cuda:0')\n",
            "Explanation for sample 663: tensor([199,  68,  34,  97, 127,  89,   0, 107, 174,  23,  66,  32,  77, 153,\n",
            "        121, 141,  87, 157, 116,  84, 129, 130, 179, 101,  67, 196,  59,  46,\n",
            "         43, 149, 144,  51, 128,   3, 158, 178,  86,  49,  64,  31, 133,  20,\n",
            "        142, 198,  25, 109, 147, 180, 134,  29], device='cuda:0')\n",
            "Explanation for sample 666: tensor([ 23,  65, 115, 118, 120, 170, 199, 179, 164,  34, 183,  33,  58, 145,\n",
            "        155,   3, 114, 156,  59,  19, 175,  63, 166,  32,  95,  51, 130, 161,\n",
            "         77,  82,  27,  89,  46,  97,  87, 133, 182, 127, 153,  20, 121,  67,\n",
            "        167, 107, 110, 157, 111, 144, 197, 177], device='cuda:0')\n",
            "Explanation for sample 667: tensor([ 97, 156, 153,  87, 118,  34, 120,  58, 194, 125, 177,  82, 196, 178,\n",
            "          2, 166, 169,  74,  59, 101, 124,  63, 167,  51,  67,  52, 181,  79,\n",
            "         31, 179, 157,  86, 182, 162, 121, 165,  91,   7, 112, 128, 126, 173,\n",
            "        142, 140,  35,  73, 189,  56,  61, 138], device='cuda:0')\n",
            "Explanation for sample 670: tensor([ 65,  87, 120,  34, 183,  97, 184, 145,   3,  23, 128, 127, 156, 176,\n",
            "         32,  58, 118,  55,  82, 153, 136, 107, 115,  19,  68,   6, 189, 106,\n",
            "         24, 109, 170, 133, 187,  43, 180, 124,  89, 174, 137,  20, 167, 143,\n",
            "          9, 116,  22,  67, 198, 181,  52,  73], device='cuda:0')\n",
            "Explanation for sample 677: tensor([ 53,  69, 104, 178, 188, 101, 169, 130, 137,  97,  30,  65, 141,  85,\n",
            "          0, 174,  87, 142,  96, 120,  51,  63, 184,  25,  34,  56, 158, 149,\n",
            "        131, 145, 136,  84,  68,  12, 127, 153,  82, 182,  32, 187, 129,  29,\n",
            "         23, 163,  99, 134, 177,  26, 115,  43], device='cuda:0')\n",
            "Explanation for sample 678: tensor([ 53, 176, 141, 107,  43,  34, 194, 157,  23, 169, 174, 130,  25, 101,\n",
            "          0, 120,  84,  95, 127,  30, 137, 159, 136, 196,  66,  93,  63,  78,\n",
            "         58,  65,   7, 171, 158, 131,  49,  70, 133, 187, 135,  85, 115,  67,\n",
            "        134, 144, 109, 170,  89, 128,  26,  19], device='cuda:0')\n",
            "Explanation for sample 682: tensor([ 65,  87,  97, 120, 156,  23, 145, 153,  34, 199, 118,  33,  44, 184,\n",
            "        140,   3, 150, 164, 136, 127,  67,  85,  19,  41,  59,  16, 183,  66,\n",
            "        115,  58, 100, 177, 163,  68, 193, 106,  73,  63, 165, 179,  77,  78,\n",
            "        168, 117,   6,  81,  32,  11,  83, 116], device='cuda:0')\n",
            "Explanation for sample 684: tensor([127,  97, 120,   3,  34,  65,  30,  63,  87, 118,  56, 153,   7, 115,\n",
            "         68,  58,  59, 181, 149, 183, 164, 184, 177,  35, 199,  92,  15, 187,\n",
            "        133,  23, 130, 106,  73,  22, 152, 140, 145, 142, 102,  12,  41, 168,\n",
            "        179,  95,  72,  82,  49, 131, 195,  74], device='cuda:0')\n",
            "Explanation for sample 685: tensor([ 23, 199,  97, 156,  43, 127,  87, 104,  65,  34,  88,  69,   0, 120,\n",
            "        137,  32, 184, 107, 115,  84, 101, 141, 194,  53, 170, 153,   7, 181,\n",
            "        174, 179,  86,  92,  66,  59, 142,  33, 152, 122, 149,  63, 130,  20,\n",
            "          3, 155,  30, 116, 164, 183,  89, 118], device='cuda:0')\n",
            "Explanation for sample 689: tensor([142, 179,   0, 101,  34, 115, 145, 174,  65,  64,  72,  20,  97, 120,\n",
            "        116,  87,  15,  33, 153, 181, 130, 170, 183, 187,  49, 197,  59,  10,\n",
            "        133,  89,  27, 140, 106,  73,  92,  31,  41,  32,  22, 184, 100,  25,\n",
            "         95, 164,  76,  29, 163, 110,  55,  77], device='cuda:0')\n",
            "Explanation for sample 692: tensor([ 42, 118, 127, 174,   3,  23, 157,  99, 160,   0, 183,  25, 120, 130,\n",
            "        136,  77, 101,  85,  30,  27, 188,  78, 171,  34,  53,  65, 184, 158,\n",
            "         66, 135,  58,   7, 137, 180, 131,  33, 169, 187,  43, 113,  63, 150,\n",
            "        194,  22,  32,  84, 195, 122, 170, 199], device='cuda:0')\n",
            "Explanation for sample 694: tensor([130, 157, 194,  43, 120,   0, 158, 107,  34,   9,  64, 153,  49, 141,\n",
            "        101,  27,  59, 140,  19, 135, 184, 164,  99,  58,  66,  30, 133,  89,\n",
            "         97, 183,  95, 113, 195, 117, 131, 177, 169,  63,  51, 115,   7, 136,\n",
            "        187, 196, 179,  73, 159,  42, 118,  38], device='cuda:0')\n",
            "Explanation for sample 696: tensor([141,  68,  78, 176,   0, 157,  34,  53, 127,  64,  97,  32, 118,  23,\n",
            "        106, 199, 101,  65, 179, 183,  98,  54,   7, 122,  20,  19,  66, 123,\n",
            "        102, 164, 136, 114, 117, 130,  59, 184,  74, 144, 178,  22, 150,  35,\n",
            "        128, 177,   6, 143,  87, 133,  27,  58], device='cuda:0')\n",
            "Explanation for sample 706: tensor([118,  66,   3,  82,  58, 189,  34, 136, 109, 154, 198, 177, 129, 164,\n",
            "        161,  22, 179, 193, 102,  55, 196,  78,   9, 133,  63, 127,  91,  94,\n",
            "         35,  32, 175,  85, 128,  93, 120, 142,  40, 141, 111, 167,  49, 159,\n",
            "        183, 145,  95, 170, 100,  53, 197,  51], device='cuda:0')\n",
            "Explanation for sample 719: tensor([ 65, 120, 127,  87,  34, 184, 179,  97, 199, 145,  30,  55,  23, 118,\n",
            "         15, 155, 170,  32, 136, 176, 130,   6,  92, 135,   3, 107, 101, 164,\n",
            "        122, 149, 131,  24, 174, 187,  66, 112, 156, 183, 115, 193,  68,  79,\n",
            "         84, 153,  82, 133,  99,  58,  78,  29], device='cuda:0')\n",
            "Explanation for sample 723: tensor([107, 142,  30, 179, 127,  23,  78, 187, 101,  63,   3,  92, 120,  32,\n",
            "        115, 164,  43,  84, 170,  89,  95, 183,  27, 136, 133,  34, 155, 118,\n",
            "          6,  66,  55, 184,  64, 153, 122,  65,  20,  67, 167, 117,  97, 124,\n",
            "         59,  44, 123, 156,  85, 177, 145,  29], device='cuda:0')\n",
            "Explanation for sample 725: tensor([151,  51, 175,  85, 127,  87, 184,   3,  34,  53, 154, 199, 136,  23,\n",
            "        133, 122, 120, 141,   7,  88,  46,  65,  78,  59, 193,  27, 176,   8,\n",
            "        153, 147, 137, 161, 150, 128, 178, 145,  83, 179, 115,  30,  29,  66,\n",
            "        117,  33,  69, 107,  62,  22,  99, 104], device='cuda:0')\n",
            "Explanation for sample 728: tensor([ 97, 120, 153, 156, 107, 115,  87, 141,  58, 189, 197, 130,  77, 102,\n",
            "        117,  55, 128,  34, 144,   6,  85, 109, 154, 165,  35,  20, 179,  67,\n",
            "        198,  24,  64, 175, 184,  41,   7,  63, 170,  65,  28, 181,  61,  82,\n",
            "        105, 121,  79,  49, 157,  27, 127, 152], device='cuda:0')\n",
            "Explanation for sample 730: tensor([ 87,  97,  65,  23, 145, 153, 156, 184, 183,  71,   7, 120, 136,  59,\n",
            "        118, 111, 199, 164,   3, 176, 198, 127, 144, 106, 128, 115, 189, 130,\n",
            "        197,  95,  42, 142, 100, 149, 143,  26, 133, 194,  15,  20,  35,  76,\n",
            "         32,  86,  51, 101,   8, 102, 168, 179], device='cuda:0')\n",
            "Explanation for sample 732: tensor([115, 127,  66,  58,  87, 156,  19, 153,  54, 179,  32,  35, 167,  12,\n",
            "        122, 183,  55, 170, 197, 123,  37,  41,  95,  33, 164, 193,  85,  77,\n",
            "         92,  72,  22, 124, 181,  26, 150, 182, 172,  94, 132,  62,  53,  82,\n",
            "        147,  86, 128, 168, 112, 107,  56, 180], device='cuda:0')\n",
            "Explanation for sample 748: tensor([130, 176,  53, 188, 141, 157,  88, 194, 107,   0,  69,  43,  85, 174,\n",
            "        123, 154,  40,  27,  89, 146, 128, 169, 149, 158,  99, 142, 137, 129,\n",
            "         44,  86, 184, 161,  34, 193, 127,  20,  51, 101, 179,  93, 113,   9,\n",
            "        197,  35,  98,  29, 102, 187, 171,  77], device='cuda:0')\n",
            "Explanation for sample 753: tensor([101,  88,  69,   0, 107, 174,  53,  43, 158, 141, 194, 188, 130, 171,\n",
            "        176, 137, 118, 152,  19,  25, 157,  79,  84,  58,  66,  14,  80, 178,\n",
            "        149,  31, 183, 169,  35,  34,  30, 127,  32, 142, 109,  40, 180, 146,\n",
            "         83,  73, 181,  42, 143, 144, 175,  82], device='cuda:0')\n",
            "Explanation for sample 773: tensor([176, 127,  18,  88,  69, 137,  30,  25,   7, 156, 105, 157,  43, 104,\n",
            "        135, 141, 107, 178, 149,  58,   2, 153, 170, 124, 116,  53,   3, 167,\n",
            "        179, 190, 187, 101, 181,  20, 130,  49, 172,  87,  67, 128,  96,  71,\n",
            "         92,  84, 140, 103, 164, 115,  89, 102], device='cuda:0')\n",
            "Explanation for sample 775: tensor([ 84,  53,  80, 135,  19, 183, 141, 104, 155,  32,  61, 130,  58, 136,\n",
            "         63,  40,  69,  88,  23, 176,  82,  24,  95, 197, 150,   0, 123,   3,\n",
            "         37, 175, 188,   6, 149,  38, 107, 169,  55,  33, 131, 154, 137,  59,\n",
            "         20, 121, 114, 198, 170, 179, 115, 178], device='cuda:0')\n",
            "Explanation for sample 776: tensor([ 30, 120, 142, 199, 136,  32, 101,   0, 184,  34, 154,  92, 187, 170,\n",
            "          3, 115,  25,  91,  85,  97,  82, 164,  68,   6,  70, 197,  51,  66,\n",
            "        180, 194,  56,  24, 152,  61, 175,  50, 192, 155, 129, 123, 117,  79,\n",
            "        138, 159, 109, 161, 143,   8,  11,  86], device='cuda:0')\n",
            "Explanation for sample 779: tensor([ 34, 153,  59,  87, 179, 120, 184,  23,  29, 156,  97,  65, 193, 170,\n",
            "        181,  20, 127, 118, 145,  92, 197,  81,  30,   8, 115, 160,  11,  25,\n",
            "        183,  86, 172, 186, 165,  58, 161, 123, 154,   9,  24, 143,  77, 198,\n",
            "        133, 112,  56,  19, 168,  41, 182,  93], device='cuda:0')\n",
            "Explanation for sample 788: tensor([ 34, 127,  87, 120, 115,  97, 179, 118, 153, 164, 170, 140,  95,  32,\n",
            "        160, 128,  92, 130, 187, 156, 142,  89,  58, 183,  43, 167,  82, 150,\n",
            "        124, 116,  86,  83,  19,  85,  55, 193,  33,  22, 189,  15,  18, 117,\n",
            "         30,  96,  40,  73,  93, 144,  26,  35], device='cuda:0')\n",
            "Explanation for sample 792: tensor([ 92, 179,  30, 170, 155,  28, 131,  24,   6, 183, 115,  19, 112,  78,\n",
            "         74,  55, 165,  32, 143,  11, 167, 145, 182,  58, 164, 166, 162, 163,\n",
            "         45, 135, 127,  39,  15,  51,  22, 140,  21, 130,   0, 185,  83, 196,\n",
            "        150,  54,  49,  33,  12,  37, 156, 197], device='cuda:0')\n",
            "Explanation for sample 799: tensor([120, 127,  65, 156, 187,  92, 153,  87,  97,  89,  34, 118,  32, 131,\n",
            "        115,  19, 183, 135, 101,  30, 155, 146,   6, 164,  55, 133, 170, 165,\n",
            "         15,  58,  22, 179, 145,  63,  80, 177,   3,  37, 169, 116, 112, 122,\n",
            "         81, 143, 110,  74,  73,  24,  25,  41], device='cuda:0')\n",
            "Explanation for sample 800: tensor([120,  68,   3, 143,  34, 118,  24,  45, 101, 149, 130,  80,  58, 146,\n",
            "        145,  84,  29, 134,  93,  97, 142, 116, 169,   1, 152, 163, 170,  13,\n",
            "         87,  28, 156,  27, 159,  20,  59,  17, 119, 197, 115,  96,  92, 173,\n",
            "         95, 179, 157, 153, 160, 150, 126,  16], device='cuda:0')\n",
            "Explanation for sample 810: tensor([ 53,  88,  69, 178, 120, 141,   3,  34, 176,  95,  65,  18,  23, 199,\n",
            "         20, 115, 110, 137,  64,  77, 128, 184, 107, 187, 136, 169, 170, 152,\n",
            "        127, 145,  31, 164,  30,  27,  42, 135, 150,  89,  15, 179, 156, 143,\n",
            "         68, 106, 195, 171,  82, 183, 142, 101], device='cuda:0')\n",
            "Explanation for sample 811: tensor([ 43,  32,  88, 115,  65, 107, 120, 179,  25, 199, 127, 170,  97,  23,\n",
            "        183,   3, 184, 137, 153, 158, 117, 164,  87,  59, 151, 133, 122, 152,\n",
            "         98,  99, 194, 178,  81, 106, 128, 156, 143, 154, 195,  79, 187, 157,\n",
            "         89,  60,  40, 144, 102,   7,  51, 172], device='cuda:0')\n",
            "Explanation for sample 820: tensor([176,  97,  69,  34, 156, 153,  53, 178, 191,  96, 130,  93, 151, 119,\n",
            "        161,  87, 136, 144, 122,  36, 149,  23,  76,  51, 175, 147,  67, 164,\n",
            "        179, 102,   7,  72,  77, 170,  79,  27,  35,  57,  92,  59, 115, 186,\n",
            "        140,  19, 189, 193, 133, 128,  61, 131], device='cuda:0')\n",
            "Explanation for sample 829: tensor([ 65,  59, 120, 184,  87,  66,  34, 199, 153,  97,  23,  27, 183, 118,\n",
            "        115,   7,  58, 177,  19, 156, 179, 170,  95, 133, 122,  89, 117, 187,\n",
            "         20, 161, 151, 127, 124, 160, 182, 175, 111,  64,  41,  75, 113,   0,\n",
            "        164,  85, 129, 102,  92, 167,  69,  46], device='cuda:0')\n",
            "Explanation for sample 834: tensor([ 65, 120,  34, 184, 145, 164,  87,  23, 115, 127, 153,  97, 183,  78,\n",
            "         66, 199, 160,   7, 136, 118, 156,  27, 122, 179,   3, 151,  59,  93,\n",
            "        174, 140,  32, 110,  68,  58, 159,  33,  67, 129, 124,  54, 161,  83,\n",
            "         30, 193,  70,  12, 167, 116, 175, 150], device='cuda:0')\n",
            "Explanation for sample 835: tensor([ 23,   0, 127, 130, 115,  65,  25, 120,  75,  32, 101,  55,  87, 179,\n",
            "         78,  97, 183,  34, 145, 187, 158,  66, 136, 170, 124,  84, 184, 174,\n",
            "        118,  89,   3, 157, 188, 137,   5, 142,  59, 122,  30, 196,  15,   9,\n",
            "         31,  92, 132,   4, 111,  86,  54,  85], device='cuda:0')\n",
            "Explanation for sample 840: tensor([ 53, 130,  69, 101, 176, 178, 115, 141, 137, 107,   0, 112,  47, 188,\n",
            "        171, 168,  95, 123, 189,  52, 131, 179,  67, 156,   3, 169,  25, 198,\n",
            "         16, 160,  91,  37,  89,  18, 155,  36, 175,  19, 170,  86,  30, 128,\n",
            "         56, 164,  82,  20,  68,  85,  92,  40], device='cuda:0')\n",
            "Explanation for sample 841: tensor([ 23, 118, 127, 184, 136,  34, 139,  48,   6, 152,  61, 165,  97,  82,\n",
            "         99, 189,  40, 133, 197, 144, 180, 161, 128, 137,  63, 142,  68,  27,\n",
            "        171, 104, 134, 178, 129, 176, 188, 193, 147, 177, 122, 130, 195, 131,\n",
            "        141,  95, 191,  52,  53,  93, 160,  51], device='cuda:0')\n",
            "Explanation for sample 844: tensor([ 97, 153, 156,  92, 141,  34, 179, 115,  87, 170,  58,  88, 167,  33,\n",
            "         53, 107, 101, 169,  69, 120, 124, 137, 104, 178,  43, 166, 143,  39,\n",
            "         30, 131,  35, 192, 176, 135, 134, 150, 152,  63, 187,  74,  22,  11,\n",
            "        185, 140, 171,  25, 121,   9,  67, 125], device='cuda:0')\n",
            "Explanation for sample 851: tensor([ 27,  59,  95,  65,  34, 151, 179, 133,  64, 120,   7, 137, 164, 107,\n",
            "         88, 174, 188,  20, 158,  58,  82,  19,  92, 161, 157,  51,   0,  97,\n",
            "         85, 156, 154, 170, 104,  15,  63, 130, 178,  43, 102, 117, 110,  47,\n",
            "        149,  87,  93,  69, 134,  30,  53, 198], device='cuda:0')\n",
            "Explanation for sample 866: tensor([115,  65, 164,  23, 170, 127,  15,  97, 155,  58, 199, 183, 135, 196,\n",
            "         22, 179, 120,  54, 187,  92,  87,  35, 167,  67, 184, 166, 113, 131,\n",
            "         33, 189,  94, 198, 124,  32,  40,  74, 147, 121,  19,  93,   3, 144,\n",
            "        193, 168, 129, 140,  85,  51, 154, 149], device='cuda:0')\n",
            "Explanation for sample 871: tensor([170,   7,  53, 115, 156,  97, 179, 176,  30,  95, 130, 141, 153,  69,\n",
            "         87,  59,  89, 107,  20,  92, 133, 110,  43, 187,  96, 101,  66, 178,\n",
            "        137, 131,  34,  65, 188,  56,  31, 136, 164, 171, 121, 116, 194, 168,\n",
            "         61, 189,  70, 157,   2,  26,  91,  46], device='cuda:0')\n",
            "Explanation for sample 880: tensor([ 97,  87,  34, 120,  85,  51,  10,   7, 106, 127, 160, 164, 183, 117,\n",
            "         86, 118, 153, 104,  61, 121,  29, 198, 145, 102, 137, 107, 152, 133,\n",
            "         59, 141,  32, 189, 176, 155,  93,  53,  69,  91,  43,  47, 178,  33,\n",
            "        129,  88, 175, 130,  83, 154, 188,  40], device='cuda:0')\n",
            "Explanation for sample 886: tensor([199,  78,  66,  67, 136, 177,   6,  47, 178,  24,  95,  26, 160, 134,\n",
            "        187,  58, 151,  20, 122, 130, 150, 131,  53,  27, 107, 110, 104, 186,\n",
            "        179, 112, 129,  14,  89, 141, 175,  82, 115, 171,  36, 163, 183,  88,\n",
            "        101,  91,  44, 155, 170, 181, 154,  22], device='cuda:0')\n",
            "Explanation for sample 887: tensor([118, 136,  32,  65, 183, 127,  23, 164,  34,   3,   0, 195, 101,  66,\n",
            "        128, 199,  30,  82,  68,  97, 184, 160, 140, 116, 120, 142, 149,  12,\n",
            "        145, 169,  19, 181, 106,  33,  10,  25, 158, 135, 150, 179, 134,  73,\n",
            "         71,  42, 187, 152,  95, 177,  15, 115], device='cuda:0')\n",
            "Explanation for sample 893: tensor([ 88, 104,  53,  66,  69, 178,  34,  78, 184, 179, 120,  59,  83, 122,\n",
            "        118,   3,  27, 177, 136, 107,  46, 141, 148,  43, 127,  58, 186,  97,\n",
            "         36, 134,  87,  12, 164,  64, 145, 156,  93, 153,  82, 121,   2, 133,\n",
            "          7, 160,  20,  29, 157, 129, 147,  67], device='cuda:0')\n",
            "Explanation for sample 898: tensor([135,  95, 196, 146,  23,  75, 169, 156, 131, 199, 179,  97, 170, 187,\n",
            "         87,  65,  30, 153,   7,  64,  59, 120,  58, 115,  68, 142, 122,  63,\n",
            "         20, 127,  19, 145,  15, 167, 101,  53, 141, 184,  89, 110, 124,  66,\n",
            "         69, 163,  78, 193, 176,  54, 188,  84], device='cuda:0')\n",
            "Explanation for sample 901: tensor([ 63, 141,  34,  23, 131,  53,  49,  96, 101, 130, 135, 187, 149, 179,\n",
            "         78,  97,  58, 118, 133, 189, 145, 115, 186,  54,  65,  85,  12, 178,\n",
            "         29, 156, 134, 181, 197,  89, 160, 183, 148, 161,  27, 114,  42,  93,\n",
            "        105, 198,  87,  82, 172,  16,  19, 171], device='cuda:0')\n",
            "Explanation for sample 904: tensor([170, 179, 115, 187,  92,  63,  49, 127, 133, 160, 145, 135, 118,  30,\n",
            "        164, 167,  85, 124,  15, 183, 142,  51,  32, 189, 120,  87, 181, 188,\n",
            "         97,  12,  84, 149, 114,  67, 155,   6,  35,  34, 186, 161, 129,  25,\n",
            "        101,  40, 136, 130,  33, 169, 123, 176], device='cuda:0')\n",
            "Explanation for sample 906: tensor([ 23, 127,  78,  30,   7, 199,  66, 135,  34,  92, 115, 187, 122,  95,\n",
            "         59, 183, 196,  64,  32, 133,  89,   0,  20, 179, 169,   3, 120, 118,\n",
            "        124, 164, 110,  49,  54,  15,  27,  87,  63, 157, 131, 101, 129,  25,\n",
            "        160, 143, 170, 130,  40, 181,  84,  43], device='cuda:0')\n",
            "Explanation for sample 913: tensor([146, 155,  80,  22,  55,  33, 164, 153, 183, 156,  66,  19, 120,  87,\n",
            "         32,  34,  97, 113,   6,  18,  58,   2, 131,  81, 191, 165, 177,  12,\n",
            "         24,  29, 187, 167, 174, 168, 173, 142, 141,  82, 115, 170, 112, 101,\n",
            "        179,  41, 193,  51,   0,  37,  26,  98], device='cuda:0')\n",
            "Explanation for sample 914: tensor([ 87,  92,  58, 141, 150,  97, 155, 148, 131,  33, 115, 170, 143, 135,\n",
            "         66,  34, 179, 163,   7,  37,  24,  60, 101,   6,  11, 149, 151, 112,\n",
            "         19, 125,   3,  22, 133,  55, 137, 177, 171, 132,  74,  86, 186,  26,\n",
            "        182, 187,  15,  82, 164, 124,  83,  57], device='cuda:0')\n",
            "Explanation for sample 918: tensor([ 34, 110, 120,  86, 115, 197, 121, 159, 164,  32, 122,  15,  20, 198,\n",
            "         41,  89, 184,  42,  85, 109, 181, 199,  26,  50,  87, 123,  51, 160,\n",
            "        139,  14, 103, 188, 112, 126,  29, 129, 168, 175, 127, 117,  38,  67,\n",
            "        161,  65, 192,  12, 111, 156, 158,  23], device='cuda:0')\n",
            "Explanation for sample 923: tensor([184, 116, 118,  58, 122, 160, 167, 187, 142, 106, 143,  34, 140, 164,\n",
            "         19,  32,  73, 145,  65, 111, 156, 120,  20,  82,  30,  68,  56, 128,\n",
            "          3, 168, 133,  66, 123,  31,  24, 197,  51, 170,  49,  26,  99, 159,\n",
            "         70, 109, 100, 136, 166, 163, 153,  42], device='cuda:0')\n",
            "Explanation for sample 929: tensor([ 97,  53,  92, 170, 133,   3,  34,  84, 176, 164, 155,  27, 115,  87,\n",
            "        153, 156, 101, 118, 127, 141,  20,  16,  22,  63, 177,  66, 179, 110,\n",
            "        178, 165,  18,  24, 181,  33, 130,  46, 120, 131, 102,  69,  35, 150,\n",
            "         58, 187,  49,   6,  43,  98, 136, 160], device='cuda:0')\n",
            "Explanation for sample 944: tensor([170, 164,  55, 195, 179,  73,  87, 115,  49, 168,  60,  41,  22,  94,\n",
            "        183,  65, 199,   9, 153, 117,  10, 124,  23,  98,   6,  63,  12,  97,\n",
            "        193,   1,  30,   8, 148, 187, 101,  59,  32, 135, 156,  24, 165,  27,\n",
            "         95, 197,  35, 181, 140, 155, 127,  42], device='cuda:0')\n",
            "Explanation for sample 947: tensor([141, 101, 130, 169, 131, 156, 153, 135,  34,  92, 170,  97,  87,   7,\n",
            "        193, 125, 179,  95,  35, 189, 127,   9, 187,  85,  59,  30, 115,  20,\n",
            "        133,  12, 129,  89, 144, 198,  27,  14,  29,  61, 102,  33, 159, 155,\n",
            "        180, 164,  58, 197, 140,  22, 181,  54], device='cuda:0')\n",
            "Explanation for sample 948: tensor([ 33, 155, 161, 142,  53,  15, 170,  88, 141, 182, 101,  60, 131,  85,\n",
            "         62, 168,  92, 107,  98, 130,  69,   7,  41, 147, 112, 140,  22,  51,\n",
            "         95,  83, 198, 115, 123, 134, 150,  58, 167,  43, 166,  93,   6,  76,\n",
            "         19,  11, 183, 187,  37, 197, 119,  74], device='cuda:0')\n",
            "Explanation for sample 951: tensor([ 23,  65,  22, 184, 141,  39, 120,  34,  19, 140, 122, 138,  18, 118,\n",
            "         24,  87,  57, 103,  97, 108, 145, 136,  66, 183,  73,  78, 167, 164,\n",
            "        192, 199,  90, 150, 168, 153,  54,  58, 143, 133,  50, 185, 177,  75,\n",
            "        182, 159, 112,   3,  59,  56, 172, 115], device='cuda:0')\n",
            "Explanation for sample 952: tensor([ 23,  34,  87, 145,  84, 120, 128,  71, 183, 136, 101,  62,  51, 115,\n",
            "        195,  32, 171, 194,   4,   8, 121,  81, 134,   3, 159,  55,  56, 148,\n",
            "         15,  46, 175,  29, 191, 179, 119,  25, 142,  95,  36, 152,  59,  41,\n",
            "        151,  92,  66,  73,  48, 147, 161,  67], device='cuda:0')\n",
            "Explanation for sample 965: tensor([ 23, 143,  32,  66, 167,  11, 112, 127, 169,  92, 179, 183,  24,  58,\n",
            "        101,  45, 115,  78,   6,  55, 131,  19, 113,  12,  52,  30,  15,  61,\n",
            "        155, 170, 166,   7,  99, 118, 145, 142, 171, 124,  54, 106, 144, 120,\n",
            "        100,  49,  22, 164, 172,  89, 121,  82], device='cuda:0')\n",
            "Explanation for sample 967: tensor([ 42,  88,  53,   2, 113, 104, 155, 178,  29, 165,  69,  33, 101, 141,\n",
            "        135,   8, 169, 143,  25,  81,   6, 131, 103,  84, 107,  58,  13, 193,\n",
            "        109, 176,  18, 117,  96, 112, 179,  87, 185, 196,  92,  93, 142, 164,\n",
            "         77, 108,  55,  68, 171, 129, 147, 191], device='cuda:0')\n",
            "Explanation for sample 968: tensor([ 31, 118,  97, 127,  59,  87, 156, 183, 136,  51, 179,   9, 187,  89,\n",
            "        133, 115, 102,  14,  85,  27, 180,   7, 129, 153,  86,  42,  58, 134,\n",
            "         20, 170,  79,  40,  92,  76, 197, 125,  38, 101, 181,  28,  54,  36,\n",
            "        163, 175,  35,  24,  60,  77,  12, 119], device='cuda:0')\n",
            "Explanation for sample 972: tensor([127, 199, 120,  65, 184,  34,  84, 115,  23, 179,  32, 183,  59, 164,\n",
            "        145,  30,   3, 149, 122,  92,  97, 118,  19, 170,  75,  53, 174, 140,\n",
            "          7, 142,  87, 153,  82,  27, 141,  78,  66,  31,  95, 156,  58,  70,\n",
            "        197, 196, 177,  73,  54,  41, 110, 163], device='cuda:0')\n",
            "Explanation for sample 974: tensor([ 11,  26,  31,  41,  42,  52, 108, 112, 123, 138, 180, 197, 110, 114,\n",
            "         55, 131,  20, 122,  60,  28,  16,   5,   6,  81,  45,  32, 156,  64,\n",
            "         27, 196, 113, 127,  65,  83, 163, 187, 162, 153,  95, 145,  93, 160,\n",
            "         89, 150, 170,  98, 130,  57,  17,  44], device='cuda:0')\n",
            "Explanation for sample 986: tensor([161,  85,  51, 193,  29, 102, 179, 170, 104, 175, 189, 198,  67, 157,\n",
            "         35, 141, 195, 121, 118, 109, 106,  40, 149, 197,   9,  25,   0, 167,\n",
            "         31,  97, 117, 142,  34, 147,  26, 101, 143,  60, 128,  96,  24,   8,\n",
            "        129,  58, 154,  84, 180, 151, 171, 174], device='cuda:0')\n",
            "Explanation for sample 987: tensor([ 0,  1,  3,  4,  7,  8, 10, 11, 14, 15, 18, 19, 20, 21, 22, 23, 26, 29,\n",
            "        31, 32, 33, 35, 40, 41, 42, 43, 44, 46, 49, 50, 51, 52, 53, 55, 56, 60,\n",
            "        62, 66, 69, 70, 71, 72, 73, 74, 75, 76, 77, 79, 81, 83],\n",
            "       device='cuda:0')\n",
            "Explanation for sample 992: tensor([ 31,  42, 197,  87,  97,  23, 153, 196,  32, 187,  34,  30,  66, 101,\n",
            "        199, 173, 184, 179,  82, 100,  68,  92, 106, 120, 102,  26,  77,   3,\n",
            "         24, 114,  35, 115, 135,  44,  20, 136,  62,  40, 174,  36,  93, 163,\n",
            "        134, 178,  41, 131,  69,   1,  63, 159], device='cuda:0')\n",
            "Explanation for sample 1001: tensor([183, 118, 120, 102,  19,  54, 123,  58, 197,  22,  87, 127, 150,  35,\n",
            "         97, 124, 145,  65,  24,  78, 128, 157,  60,  80,  72, 167, 156,  34,\n",
            "         59, 105, 146,  77, 136,  51,  66,  12,  44,  86, 153,  28, 193,  10,\n",
            "        112,  41, 101, 164,  49, 177,  55, 139], device='cuda:0')\n",
            "Explanation for sample 1004: tensor([ 47,  44, 129,  14,  19, 159,  17,  82,  46,  58,  36, 147,  67, 177,\n",
            "        136, 183, 151,  66,  56, 154, 143, 189, 195,  54,  41,  91,  11, 128,\n",
            "        197,  70,  83,  55, 181,  23, 109,  34, 115, 102, 150, 182,  61, 164,\n",
            "        121, 193,  50, 180,   3, 140,  52, 144], device='cuda:0')\n",
            "Explanation for sample 1005: tensor([ 26,  29,  31,  35,  42,  51,  85, 175, 197, 115, 170,  23, 127, 179,\n",
            "        155, 118,  58, 143,  15,  92,  37, 142,  34, 133,  78,   6,  84, 136,\n",
            "          3, 131,  41, 135, 183, 149,  55, 199,  19,  87, 177, 164,  97, 113,\n",
            "        109,  11,  66,  89, 169, 150,  24,  32], device='cuda:0')\n",
            "Explanation for sample 1011: tensor([104,  92, 194, 178, 170,  69,  88, 157, 115, 107, 174,  53,  81, 140,\n",
            "         43,  59,  89, 179,  94, 153,   7, 176, 130, 164, 141,  42,  41,  85,\n",
            "        137, 171,  27, 184, 149, 110,  60,  51, 121, 154, 144, 143,  73,   0,\n",
            "         83,  50,  67,  66,  19, 177,  93,  86], device='cuda:0')\n",
            "Explanation for sample 1017: tensor([ 44,  17, 120,  53,  57, 136,  36,  93, 141,  51, 134, 130, 107, 104,\n",
            "          1,   3, 147,   2,  13,  87, 112, 176, 129,  35,  38,  73,  43,   6,\n",
            "         32,  67,  41,  81,  97, 127, 101, 183,  55,  66, 174,  50,  83,   0,\n",
            "        157, 179, 145,  47,  88,  69, 117,  70], device='cuda:0')\n",
            "Explanation for sample 1018: tensor([120, 164,  87,  58,   2,  34, 135, 153, 187,  80, 115, 170,  53,   7,\n",
            "         66, 184, 104, 177, 133, 130, 155,  82,  30,  62, 113, 146, 179, 162,\n",
            "        123, 197,  36,  15,  88, 157,  59, 102, 144,  91,  18, 140,   0,  83,\n",
            "        131,  11, 134,  43, 121,  61, 128,  57], device='cuda:0')\n",
            "Explanation for sample 1023: tensor([115,  65, 179,  97, 156,  23, 118, 127,  30, 199,  87, 120,  66,  34,\n",
            "        133, 142, 182, 184, 164, 183, 153, 170, 101,  33,  19, 122, 150,   7,\n",
            "         92,  78,   0,  15,  22, 187,  27, 130,  75,  47,  46,  12,  89, 136,\n",
            "         11, 155,  58,   3, 140, 169,  60, 112], device='cuda:0')\n",
            "Explanation for sample 1024: tensor([127, 133,  89,   6, 115,  92,  97, 135,  30,  55, 122, 113, 131, 169,\n",
            "         96,  59,  32, 167, 197, 187,  51, 156,  49, 162, 155, 179,  75,  23,\n",
            "          5,  74,  19,  65,   7, 136,  82,  11,   3, 112, 164,  42,  78,  15,\n",
            "         95,  29, 118, 183,  35,  22,  63,  85], device='cuda:0')\n",
            "Explanation for sample 1025: tensor([120, 184,  65, 199,  23, 183,  47,  36, 130, 118, 147,  30, 149,  44,\n",
            "         82, 116,  27, 140,  59,  14, 136,  53, 134,  34, 179, 164, 127, 145,\n",
            "        187,  58,   3, 133, 156, 115, 152,  97, 153,  84,  87,  69, 106,  92,\n",
            "          9,  91, 159,  19, 144, 180,  70,  26], device='cuda:0')\n",
            "Explanation for sample 1028: tensor([ 84,  92, 179, 170,  87,  89, 152, 120, 176,  33, 186, 153,  95, 149,\n",
            "         63, 183,   0, 143, 168, 115,  30,  49,  27, 101,  58, 122, 181,   6,\n",
            "         34, 128, 172, 133, 142, 132, 156, 151, 160,  73,  20, 197, 167, 140,\n",
            "         19, 180, 187,  90, 134, 123,  71, 185], device='cuda:0')\n",
            "Explanation for sample 1033: tensor([ 23,  65, 199, 136, 127, 183, 118,  34, 145, 174, 184, 164, 150, 120,\n",
            "        101,  72,  12,  52,  22, 149, 158, 143,  32, 139, 115,  53, 140,  56,\n",
            "          0, 187,  33,  82, 133, 124,  66, 156,  73,  24,  58,  15, 166, 106,\n",
            "         95,  49, 111,  27,  59,   7, 179,  89], device='cuda:0')\n"
          ]
        }
      ]
    }
  ]
}