{
  "nbformat": 4,
  "nbformat_minor": 0,
  "metadata": {
    "colab": {
      "provenance": [],
      "gpuType": "T4"
    },
    "kernelspec": {
      "name": "python3",
      "display_name": "Python 3"
    },
    "language_info": {
      "name": "python"
    },
    "accelerator": "GPU"
  },
  "cells": [
    {
      "cell_type": "markdown",
      "source": [
        "# BrainGNN\n",
        "A Python Notebook that trains the [BrainGNN](https://www.sciencedirect.com/science/article/abs/pii/S1361841521002784) neural network on autism fMRI data sourced from [ABIDE I](https://fcon_1000.projects.nitrc.org/indi/abide/abide_I.html) on Google Colab. The necessary dependencies might change as the code gets outdated."
      ],
      "metadata": {
        "id": "oAbGavNr8h5o"
      }
    },
    {
      "cell_type": "markdown",
      "source": [
        "## Cloning the BrainGNN GitHub repository\n",
        "\n",
        "An additional fork was created to guarantee that the dependencies are updated (20/04/2025)"
      ],
      "metadata": {
        "id": "ZhGFpNewxoMR"
      }
    },
    {
      "cell_type": "code",
      "execution_count": null,
      "metadata": {
        "colab": {
          "base_uri": "https://localhost:8080/"
        },
        "id": "XtaaNb2t51jV",
        "outputId": "b5716253-c659-4498-cd12-063ccde32e73"
      },
      "outputs": [
        {
          "output_type": "stream",
          "name": "stdout",
          "text": [
            "Cloning into 'BrainGNN'...\n",
            "remote: Enumerating objects: 5328, done.\u001b[K\n",
            "remote: Counting objects: 100% (67/67), done.\u001b[K\n",
            "remote: Compressing objects: 100% (59/59), done.\u001b[K\n",
            "remote: Total 5328 (delta 30), reused 6 (delta 6), pack-reused 5261 (from 3)\u001b[K\n",
            "Receiving objects: 100% (5328/5328), 1.29 GiB | 26.76 MiB/s, done.\n",
            "Resolving deltas: 100% (52/52), done.\n",
            "Updating files: 100% (4171/4171), done.\n"
          ]
        }
      ],
      "source": [
        "!git clone https://github.com/matheo-angelo/BrainGNN_Pytorch BrainGNN"
      ]
    },
    {
      "cell_type": "markdown",
      "source": [
        "## Installing necessary dependencies"
      ],
      "metadata": {
        "id": "NX3P64-sxz1G"
      }
    },
    {
      "cell_type": "code",
      "source": [
        "!pip install -r BrainGNN/requirements.txt"
      ],
      "metadata": {
        "colab": {
          "base_uri": "https://localhost:8080/",
          "height": 1000
        },
        "id": "UlSWioPg6iOC",
        "outputId": "503b25fa-6b03-414f-8638-440fd026b0c8"
      },
      "execution_count": null,
      "outputs": [
        {
          "output_type": "stream",
          "name": "stdout",
          "text": [
            "Looking in links: https://data.pyg.org/whl/torch-2.1.1+cu121.html\n",
            "Collecting torch-scatter (from -r BrainGNN/requirements.txt (line 1))\n",
            "  Downloading https://data.pyg.org/whl/torch-2.1.0%2Bcu121/torch_scatter-2.1.2%2Bpt21cu121-cp311-cp311-linux_x86_64.whl (10.8 MB)\n",
            "\u001b[2K     \u001b[90m━━━━━━━━━━━━━━━━━━━━━━━━━━━━━━━━━━━━━━━━\u001b[0m \u001b[32m10.8/10.8 MB\u001b[0m \u001b[31m43.4 MB/s\u001b[0m eta \u001b[36m0:00:00\u001b[0m\n",
            "\u001b[?25hCollecting torch-sparse (from -r BrainGNN/requirements.txt (line 2))\n",
            "  Downloading https://data.pyg.org/whl/torch-2.1.0%2Bcu121/torch_sparse-0.6.18%2Bpt21cu121-cp311-cp311-linux_x86_64.whl (5.1 MB)\n",
            "\u001b[2K     \u001b[90m━━━━━━━━━━━━━━━━━━━━━━━━━━━━━━━━━━━━━━━━\u001b[0m \u001b[32m5.1/5.1 MB\u001b[0m \u001b[31m41.6 MB/s\u001b[0m eta \u001b[36m0:00:00\u001b[0m\n",
            "\u001b[?25hCollecting torch-cluster (from -r BrainGNN/requirements.txt (line 3))\n",
            "  Downloading https://data.pyg.org/whl/torch-2.1.0%2Bcu121/torch_cluster-1.6.3%2Bpt21cu121-cp311-cp311-linux_x86_64.whl (3.3 MB)\n",
            "\u001b[2K     \u001b[90m━━━━━━━━━━━━━━━━━━━━━━━━━━━━━━━━━━━━━━━━\u001b[0m \u001b[32m3.3/3.3 MB\u001b[0m \u001b[31m28.1 MB/s\u001b[0m eta \u001b[36m0:00:00\u001b[0m\n",
            "\u001b[?25hCollecting torch-spline-conv (from -r BrainGNN/requirements.txt (line 4))\n",
            "  Downloading https://data.pyg.org/whl/torch-2.1.0%2Bcu121/torch_spline_conv-1.2.2%2Bpt21cu121-cp311-cp311-linux_x86_64.whl (935 kB)\n",
            "\u001b[2K     \u001b[90m━━━━━━━━━━━━━━━━━━━━━━━━━━━━━━━━━━━━━━\u001b[0m \u001b[32m936.0/936.0 kB\u001b[0m \u001b[31m58.4 MB/s\u001b[0m eta \u001b[36m0:00:00\u001b[0m\n",
            "\u001b[?25hCollecting absl-py==2.0.0 (from -r BrainGNN/requirements.txt (line 6))\n",
            "  Downloading absl_py-2.0.0-py3-none-any.whl.metadata (2.3 kB)\n",
            "Collecting blosc2==2.3.1 (from -r BrainGNN/requirements.txt (line 7))\n",
            "  Downloading blosc2-2.3.1-cp311-cp311-manylinux_2_17_x86_64.manylinux2014_x86_64.whl.metadata (9.1 kB)\n",
            "Collecting cachetools==5.3.2 (from -r BrainGNN/requirements.txt (line 8))\n",
            "  Downloading cachetools-5.3.2-py3-none-any.whl.metadata (5.2 kB)\n",
            "Collecting certifi==2023.11.17 (from -r BrainGNN/requirements.txt (line 9))\n",
            "  Downloading certifi-2023.11.17-py3-none-any.whl.metadata (2.2 kB)\n",
            "Collecting charset-normalizer==3.3.2 (from -r BrainGNN/requirements.txt (line 10))\n",
            "  Downloading charset_normalizer-3.3.2-cp311-cp311-manylinux_2_17_x86_64.manylinux2014_x86_64.whl.metadata (33 kB)\n",
            "Collecting deepdish==0.3.7 (from -r BrainGNN/requirements.txt (line 11))\n",
            "  Downloading deepdish-0.3.7-py2.py3-none-any.whl.metadata (856 bytes)\n",
            "Collecting filelock==3.13.1 (from -r BrainGNN/requirements.txt (line 12))\n",
            "  Downloading filelock-3.13.1-py3-none-any.whl.metadata (2.8 kB)\n",
            "Collecting fsspec==2023.10.0 (from -r BrainGNN/requirements.txt (line 13))\n",
            "  Downloading fsspec-2023.10.0-py3-none-any.whl.metadata (6.8 kB)\n",
            "Collecting google-auth==2.23.4 (from -r BrainGNN/requirements.txt (line 14))\n",
            "  Downloading google_auth-2.23.4-py2.py3-none-any.whl.metadata (4.7 kB)\n",
            "Collecting google-auth-oauthlib==1.1.0 (from -r BrainGNN/requirements.txt (line 15))\n",
            "  Downloading google_auth_oauthlib-1.1.0-py2.py3-none-any.whl.metadata (2.7 kB)\n",
            "Collecting grpcio==1.59.3 (from -r BrainGNN/requirements.txt (line 16))\n",
            "  Downloading grpcio-1.59.3-cp311-cp311-manylinux_2_17_x86_64.manylinux2014_x86_64.whl.metadata (4.0 kB)\n",
            "Collecting h5py==3.10.0 (from -r BrainGNN/requirements.txt (line 17))\n",
            "  Downloading h5py-3.10.0-cp311-cp311-manylinux_2_17_x86_64.manylinux2014_x86_64.whl.metadata (2.5 kB)\n",
            "Collecting idna==3.6 (from -r BrainGNN/requirements.txt (line 18))\n",
            "  Downloading idna-3.6-py3-none-any.whl.metadata (9.9 kB)\n",
            "Collecting importlib-metadata==6.8.0 (from -r BrainGNN/requirements.txt (line 19))\n",
            "  Downloading importlib_metadata-6.8.0-py3-none-any.whl.metadata (5.1 kB)\n",
            "Collecting Jinja2==3.1.2 (from -r BrainGNN/requirements.txt (line 20))\n",
            "  Downloading Jinja2-3.1.2-py3-none-any.whl.metadata (3.5 kB)\n",
            "Collecting joblib==1.3.2 (from -r BrainGNN/requirements.txt (line 21))\n",
            "  Downloading joblib-1.3.2-py3-none-any.whl.metadata (5.4 kB)\n",
            "Collecting lxml==4.9.3 (from -r BrainGNN/requirements.txt (line 22))\n",
            "  Downloading lxml-4.9.3-cp311-cp311-manylinux_2_28_x86_64.whl.metadata (3.8 kB)\n",
            "Collecting Markdown==3.5.1 (from -r BrainGNN/requirements.txt (line 23))\n",
            "  Downloading Markdown-3.5.1-py3-none-any.whl.metadata (7.1 kB)\n",
            "Collecting MarkupSafe==2.1.3 (from -r BrainGNN/requirements.txt (line 24))\n",
            "  Downloading MarkupSafe-2.1.3-cp311-cp311-manylinux_2_17_x86_64.manylinux2014_x86_64.whl.metadata (3.0 kB)\n",
            "Requirement already satisfied: mpmath==1.3.0 in /usr/local/lib/python3.11/dist-packages (from -r BrainGNN/requirements.txt (line 25)) (1.3.0)\n",
            "Collecting msgpack==1.0.7 (from -r BrainGNN/requirements.txt (line 26))\n",
            "  Downloading msgpack-1.0.7-cp311-cp311-manylinux_2_17_x86_64.manylinux2014_x86_64.whl.metadata (9.1 kB)\n",
            "Collecting ndindex==1.7 (from -r BrainGNN/requirements.txt (line 27))\n",
            "  Downloading ndindex-1.7-py3-none-any.whl.metadata (3.4 kB)\n",
            "Collecting networkx==3.2.1 (from -r BrainGNN/requirements.txt (line 28))\n",
            "  Downloading networkx-3.2.1-py3-none-any.whl.metadata (5.2 kB)\n",
            "Collecting nibabel==5.1.0 (from -r BrainGNN/requirements.txt (line 29))\n",
            "  Downloading nibabel-5.1.0-py3-none-any.whl.metadata (8.7 kB)\n",
            "Collecting nilearn==0.10.2 (from -r BrainGNN/requirements.txt (line 30))\n",
            "  Downloading nilearn-0.10.2-py3-none-any.whl.metadata (7.8 kB)\n",
            "Collecting numexpr==2.8.7 (from -r BrainGNN/requirements.txt (line 31))\n",
            "  Downloading numexpr-2.8.7-cp311-cp311-manylinux_2_17_x86_64.manylinux2014_x86_64.whl.metadata (8.7 kB)\n",
            "Collecting numpy==1.26.2 (from -r BrainGNN/requirements.txt (line 32))\n",
            "  Downloading numpy-1.26.2-cp311-cp311-manylinux_2_17_x86_64.manylinux2014_x86_64.whl.metadata (61 kB)\n",
            "\u001b[2K     \u001b[90m━━━━━━━━━━━━━━━━━━━━━━━━━━━━━━━━━━━━━━━━\u001b[0m \u001b[32m61.2/61.2 kB\u001b[0m \u001b[31m6.0 MB/s\u001b[0m eta \u001b[36m0:00:00\u001b[0m\n",
            "\u001b[?25hRequirement already satisfied: oauthlib==3.2.2 in /usr/local/lib/python3.11/dist-packages (from -r BrainGNN/requirements.txt (line 33)) (3.2.2)\n",
            "Collecting packaging==23.2 (from -r BrainGNN/requirements.txt (line 34))\n",
            "  Downloading packaging-23.2-py3-none-any.whl.metadata (3.2 kB)\n",
            "Collecting pandas==2.1.3 (from -r BrainGNN/requirements.txt (line 35))\n",
            "  Downloading pandas-2.1.3-cp311-cp311-manylinux_2_17_x86_64.manylinux2014_x86_64.whl.metadata (18 kB)\n",
            "Collecting Pillow==10.1.0 (from -r BrainGNN/requirements.txt (line 36))\n",
            "  Downloading Pillow-10.1.0-cp311-cp311-manylinux_2_28_x86_64.whl.metadata (9.5 kB)\n",
            "Collecting protobuf==4.23.4 (from -r BrainGNN/requirements.txt (line 37))\n",
            "  Downloading protobuf-4.23.4-cp37-abi3-manylinux2014_x86_64.whl.metadata (540 bytes)\n",
            "Collecting psutil==5.9.6 (from -r BrainGNN/requirements.txt (line 38))\n",
            "  Downloading psutil-5.9.6-cp36-abi3-manylinux_2_12_x86_64.manylinux2010_x86_64.manylinux_2_17_x86_64.manylinux2014_x86_64.whl.metadata (21 kB)\n",
            "Requirement already satisfied: py-cpuinfo==9.0.0 in /usr/local/lib/python3.11/dist-packages (from -r BrainGNN/requirements.txt (line 39)) (9.0.0)\n",
            "Collecting pyasn1==0.5.1 (from -r BrainGNN/requirements.txt (line 40))\n",
            "  Downloading pyasn1-0.5.1-py2.py3-none-any.whl.metadata (8.6 kB)\n",
            "Collecting pyasn1-modules==0.3.0 (from -r BrainGNN/requirements.txt (line 41))\n",
            "  Downloading pyasn1_modules-0.3.0-py2.py3-none-any.whl.metadata (3.6 kB)\n",
            "Collecting pyparsing==3.1.1 (from -r BrainGNN/requirements.txt (line 42))\n",
            "  Downloading pyparsing-3.1.1-py3-none-any.whl.metadata (5.1 kB)\n",
            "Requirement already satisfied: python-dateutil==2.8.2 in /usr/local/lib/python3.11/dist-packages (from -r BrainGNN/requirements.txt (line 43)) (2.8.2)\n",
            "Collecting pytz==2023.3.post1 (from -r BrainGNN/requirements.txt (line 44))\n",
            "  Downloading pytz-2023.3.post1-py2.py3-none-any.whl.metadata (22 kB)\n",
            "Collecting requests==2.31.0 (from -r BrainGNN/requirements.txt (line 45))\n",
            "  Downloading requests-2.31.0-py3-none-any.whl.metadata (4.6 kB)\n",
            "Collecting requests-oauthlib==1.3.1 (from -r BrainGNN/requirements.txt (line 46))\n",
            "  Downloading requests_oauthlib-1.3.1-py2.py3-none-any.whl.metadata (10 kB)\n",
            "Collecting rsa==4.9 (from -r BrainGNN/requirements.txt (line 47))\n",
            "  Downloading rsa-4.9-py3-none-any.whl.metadata (4.2 kB)\n",
            "Collecting scikit-learn==1.3.2 (from -r BrainGNN/requirements.txt (line 48))\n",
            "  Downloading scikit_learn-1.3.2-cp311-cp311-manylinux_2_17_x86_64.manylinux2014_x86_64.whl.metadata (11 kB)\n",
            "Collecting scipy==1.11.4 (from -r BrainGNN/requirements.txt (line 49))\n",
            "  Downloading scipy-1.11.4-cp311-cp311-manylinux_2_17_x86_64.manylinux2014_x86_64.whl.metadata (60 kB)\n",
            "\u001b[2K     \u001b[90m━━━━━━━━━━━━━━━━━━━━━━━━━━━━━━━━━━━━━━━━\u001b[0m \u001b[32m60.4/60.4 kB\u001b[0m \u001b[31m5.8 MB/s\u001b[0m eta \u001b[36m0:00:00\u001b[0m\n",
            "\u001b[?25hCollecting six==1.16.0 (from -r BrainGNN/requirements.txt (line 50))\n",
            "  Downloading six-1.16.0-py2.py3-none-any.whl.metadata (1.8 kB)\n",
            "Collecting sympy==1.12 (from -r BrainGNN/requirements.txt (line 51))\n",
            "  Downloading sympy-1.12-py3-none-any.whl.metadata (12 kB)\n",
            "Collecting tables==3.9.2 (from -r BrainGNN/requirements.txt (line 52))\n",
            "  Downloading tables-3.9.2-cp311-cp311-manylinux_2_17_x86_64.manylinux2014_x86_64.whl.metadata (2.3 kB)\n",
            "Collecting tensorboard==2.15.1 (from -r BrainGNN/requirements.txt (line 53))\n",
            "  Downloading tensorboard-2.15.1-py3-none-any.whl.metadata (1.7 kB)\n",
            "Requirement already satisfied: tensorboard-data-server==0.7.2 in /usr/local/lib/python3.11/dist-packages (from -r BrainGNN/requirements.txt (line 54)) (0.7.2)\n",
            "Collecting tensorboardX==2.6.2.2 (from -r BrainGNN/requirements.txt (line 55))\n",
            "  Downloading tensorboardX-2.6.2.2-py2.py3-none-any.whl.metadata (5.8 kB)\n",
            "Collecting threadpoolctl==3.2.0 (from -r BrainGNN/requirements.txt (line 56))\n",
            "  Downloading threadpoolctl-3.2.0-py3-none-any.whl.metadata (10.0 kB)\n",
            "Collecting torch==2.1.1 (from -r BrainGNN/requirements.txt (line 57))\n",
            "  Downloading torch-2.1.1-cp311-cp311-manylinux1_x86_64.whl.metadata (25 kB)\n",
            "Collecting torch-tb-profiler==0.4.3 (from -r BrainGNN/requirements.txt (line 58))\n",
            "  Downloading torch_tb_profiler-0.4.3-py3-none-any.whl.metadata (1.4 kB)\n",
            "Collecting torch_geometric==2.4.0 (from -r BrainGNN/requirements.txt (line 59))\n",
            "  Downloading torch_geometric-2.4.0-py3-none-any.whl.metadata (63 kB)\n",
            "\u001b[2K     \u001b[90m━━━━━━━━━━━━━━━━━━━━━━━━━━━━━━━━━━━━━━━━\u001b[0m \u001b[32m63.9/63.9 kB\u001b[0m \u001b[31m6.1 MB/s\u001b[0m eta \u001b[36m0:00:00\u001b[0m\n",
            "\u001b[?25hCollecting torchaudio==2.1.1 (from -r BrainGNN/requirements.txt (line 60))\n",
            "  Downloading torchaudio-2.1.1-cp311-cp311-manylinux1_x86_64.whl.metadata (6.4 kB)\n",
            "Collecting torchvision==0.16.1 (from -r BrainGNN/requirements.txt (line 61))\n",
            "  Downloading torchvision-0.16.1-cp311-cp311-manylinux1_x86_64.whl.metadata (6.6 kB)\n",
            "Collecting tqdm==4.66.1 (from -r BrainGNN/requirements.txt (line 62))\n",
            "  Downloading tqdm-4.66.1-py3-none-any.whl.metadata (57 kB)\n",
            "\u001b[2K     \u001b[90m━━━━━━━━━━━━━━━━━━━━━━━━━━━━━━━━━━━━━━━━\u001b[0m \u001b[32m57.6/57.6 kB\u001b[0m \u001b[31m5.8 MB/s\u001b[0m eta \u001b[36m0:00:00\u001b[0m\n",
            "\u001b[?25hCollecting typing_extensions==4.8.0 (from -r BrainGNN/requirements.txt (line 63))\n",
            "  Downloading typing_extensions-4.8.0-py3-none-any.whl.metadata (3.0 kB)\n",
            "Collecting tzdata==2023.3 (from -r BrainGNN/requirements.txt (line 64))\n",
            "  Downloading tzdata-2023.3-py2.py3-none-any.whl.metadata (1.4 kB)\n",
            "Collecting urllib3==2.1.0 (from -r BrainGNN/requirements.txt (line 65))\n",
            "  Downloading urllib3-2.1.0-py3-none-any.whl.metadata (6.4 kB)\n",
            "Collecting Werkzeug==3.0.1 (from -r BrainGNN/requirements.txt (line 66))\n",
            "  Downloading werkzeug-3.0.1-py3-none-any.whl.metadata (4.1 kB)\n",
            "Collecting zipp==3.17.0 (from -r BrainGNN/requirements.txt (line 67))\n",
            "  Downloading zipp-3.17.0-py3-none-any.whl.metadata (3.7 kB)\n",
            "Requirement already satisfied: setuptools>=41.0.0 in /usr/local/lib/python3.11/dist-packages (from tensorboard==2.15.1->-r BrainGNN/requirements.txt (line 53)) (75.2.0)\n",
            "Collecting nvidia-cuda-nvrtc-cu12==12.1.105 (from torch==2.1.1->-r BrainGNN/requirements.txt (line 57))\n",
            "  Downloading nvidia_cuda_nvrtc_cu12-12.1.105-py3-none-manylinux1_x86_64.whl.metadata (1.5 kB)\n",
            "Collecting nvidia-cuda-runtime-cu12==12.1.105 (from torch==2.1.1->-r BrainGNN/requirements.txt (line 57))\n",
            "  Downloading nvidia_cuda_runtime_cu12-12.1.105-py3-none-manylinux1_x86_64.whl.metadata (1.5 kB)\n",
            "Collecting nvidia-cuda-cupti-cu12==12.1.105 (from torch==2.1.1->-r BrainGNN/requirements.txt (line 57))\n",
            "  Downloading nvidia_cuda_cupti_cu12-12.1.105-py3-none-manylinux1_x86_64.whl.metadata (1.6 kB)\n",
            "Collecting nvidia-cudnn-cu12==8.9.2.26 (from torch==2.1.1->-r BrainGNN/requirements.txt (line 57))\n",
            "  Downloading nvidia_cudnn_cu12-8.9.2.26-py3-none-manylinux1_x86_64.whl.metadata (1.6 kB)\n",
            "Collecting nvidia-cublas-cu12==12.1.3.1 (from torch==2.1.1->-r BrainGNN/requirements.txt (line 57))\n",
            "  Downloading nvidia_cublas_cu12-12.1.3.1-py3-none-manylinux1_x86_64.whl.metadata (1.5 kB)\n",
            "Collecting nvidia-cufft-cu12==11.0.2.54 (from torch==2.1.1->-r BrainGNN/requirements.txt (line 57))\n",
            "  Downloading nvidia_cufft_cu12-11.0.2.54-py3-none-manylinux1_x86_64.whl.metadata (1.5 kB)\n",
            "Collecting nvidia-curand-cu12==10.3.2.106 (from torch==2.1.1->-r BrainGNN/requirements.txt (line 57))\n",
            "  Downloading nvidia_curand_cu12-10.3.2.106-py3-none-manylinux1_x86_64.whl.metadata (1.5 kB)\n",
            "Collecting nvidia-cusolver-cu12==11.4.5.107 (from torch==2.1.1->-r BrainGNN/requirements.txt (line 57))\n",
            "  Downloading nvidia_cusolver_cu12-11.4.5.107-py3-none-manylinux1_x86_64.whl.metadata (1.6 kB)\n",
            "Collecting nvidia-cusparse-cu12==12.1.0.106 (from torch==2.1.1->-r BrainGNN/requirements.txt (line 57))\n",
            "  Downloading nvidia_cusparse_cu12-12.1.0.106-py3-none-manylinux1_x86_64.whl.metadata (1.6 kB)\n",
            "Collecting nvidia-nccl-cu12==2.18.1 (from torch==2.1.1->-r BrainGNN/requirements.txt (line 57))\n",
            "  Downloading nvidia_nccl_cu12-2.18.1-py3-none-manylinux1_x86_64.whl.metadata (1.8 kB)\n",
            "Collecting nvidia-nvtx-cu12==12.1.105 (from torch==2.1.1->-r BrainGNN/requirements.txt (line 57))\n",
            "  Downloading nvidia_nvtx_cu12-12.1.105-py3-none-manylinux1_x86_64.whl.metadata (1.7 kB)\n",
            "Collecting triton==2.1.0 (from torch==2.1.1->-r BrainGNN/requirements.txt (line 57))\n",
            "  Downloading triton-2.1.0-0-cp311-cp311-manylinux2014_x86_64.manylinux_2_17_x86_64.whl.metadata (1.3 kB)\n",
            "Requirement already satisfied: nvidia-nvjitlink-cu12 in /usr/local/lib/python3.11/dist-packages (from nvidia-cusolver-cu12==11.4.5.107->torch==2.1.1->-r BrainGNN/requirements.txt (line 57)) (12.5.82)\n",
            "Downloading absl_py-2.0.0-py3-none-any.whl (130 kB)\n",
            "\u001b[2K   \u001b[90m━━━━━━━━━━━━━━━━━━━━━━━━━━━━━━━━━━━━━━━━\u001b[0m \u001b[32m130.2/130.2 kB\u001b[0m \u001b[31m14.6 MB/s\u001b[0m eta \u001b[36m0:00:00\u001b[0m\n",
            "\u001b[?25hDownloading blosc2-2.3.1-cp311-cp311-manylinux_2_17_x86_64.manylinux2014_x86_64.whl (4.3 MB)\n",
            "\u001b[2K   \u001b[90m━━━━━━━━━━━━━━━━━━━━━━━━━━━━━━━━━━━━━━━━\u001b[0m \u001b[32m4.3/4.3 MB\u001b[0m \u001b[31m26.3 MB/s\u001b[0m eta \u001b[36m0:00:00\u001b[0m\n",
            "\u001b[?25hDownloading cachetools-5.3.2-py3-none-any.whl (9.3 kB)\n",
            "Downloading certifi-2023.11.17-py3-none-any.whl (162 kB)\n",
            "\u001b[2K   \u001b[90m━━━━━━━━━━━━━━━━━━━━━━━━━━━━━━━━━━━━━━━━\u001b[0m \u001b[32m162.5/162.5 kB\u001b[0m \u001b[31m16.7 MB/s\u001b[0m eta \u001b[36m0:00:00\u001b[0m\n",
            "\u001b[?25hDownloading charset_normalizer-3.3.2-cp311-cp311-manylinux_2_17_x86_64.manylinux2014_x86_64.whl (140 kB)\n",
            "\u001b[2K   \u001b[90m━━━━━━━━━━━━━━━━━━━━━━━━━━━━━━━━━━━━━━━━\u001b[0m \u001b[32m140.3/140.3 kB\u001b[0m \u001b[31m14.9 MB/s\u001b[0m eta \u001b[36m0:00:00\u001b[0m\n",
            "\u001b[?25hDownloading deepdish-0.3.7-py2.py3-none-any.whl (37 kB)\n",
            "Downloading filelock-3.13.1-py3-none-any.whl (11 kB)\n",
            "Downloading fsspec-2023.10.0-py3-none-any.whl (166 kB)\n",
            "\u001b[2K   \u001b[90m━━━━━━━━━━━━━━━━━━━━━━━━━━━━━━━━━━━━━━━━\u001b[0m \u001b[32m166.4/166.4 kB\u001b[0m \u001b[31m17.6 MB/s\u001b[0m eta \u001b[36m0:00:00\u001b[0m\n",
            "\u001b[?25hDownloading google_auth-2.23.4-py2.py3-none-any.whl (183 kB)\n",
            "\u001b[2K   \u001b[90m━━━━━━━━━━━━━━━━━━━━━━━━━━━━━━━━━━━━━━━━\u001b[0m \u001b[32m183.3/183.3 kB\u001b[0m \u001b[31m19.7 MB/s\u001b[0m eta \u001b[36m0:00:00\u001b[0m\n",
            "\u001b[?25hDownloading google_auth_oauthlib-1.1.0-py2.py3-none-any.whl (19 kB)\n",
            "Downloading grpcio-1.59.3-cp311-cp311-manylinux_2_17_x86_64.manylinux2014_x86_64.whl (5.3 MB)\n",
            "\u001b[2K   \u001b[90m━━━━━━━━━━━━━━━━━━━━━━━━━━━━━━━━━━━━━━━━\u001b[0m \u001b[32m5.3/5.3 MB\u001b[0m \u001b[31m22.0 MB/s\u001b[0m eta \u001b[36m0:00:00\u001b[0m\n",
            "\u001b[?25hDownloading h5py-3.10.0-cp311-cp311-manylinux_2_17_x86_64.manylinux2014_x86_64.whl (4.8 MB)\n",
            "\u001b[2K   \u001b[90m━━━━━━━━━━━━━━━━━━━━━━━━━━━━━━━━━━━━━━━━\u001b[0m \u001b[32m4.8/4.8 MB\u001b[0m \u001b[31m18.1 MB/s\u001b[0m eta \u001b[36m0:00:00\u001b[0m\n",
            "\u001b[?25hDownloading idna-3.6-py3-none-any.whl (61 kB)\n",
            "\u001b[2K   \u001b[90m━━━━━━━━━━━━━━━━━━━━━━━━━━━━━━━━━━━━━━━━\u001b[0m \u001b[32m61.6/61.6 kB\u001b[0m \u001b[31m6.2 MB/s\u001b[0m eta \u001b[36m0:00:00\u001b[0m\n",
            "\u001b[?25hDownloading importlib_metadata-6.8.0-py3-none-any.whl (22 kB)\n",
            "Downloading Jinja2-3.1.2-py3-none-any.whl (133 kB)\n",
            "\u001b[2K   \u001b[90m━━━━━━━━━━━━━━━━━━━━━━━━━━━━━━━━━━━━━━━━\u001b[0m \u001b[32m133.1/133.1 kB\u001b[0m \u001b[31m14.1 MB/s\u001b[0m eta \u001b[36m0:00:00\u001b[0m\n",
            "\u001b[?25hDownloading joblib-1.3.2-py3-none-any.whl (302 kB)\n",
            "\u001b[2K   \u001b[90m━━━━━━━━━━━━━━━━━━━━━━━━━━━━━━━━━━━━━━━━\u001b[0m \u001b[32m302.2/302.2 kB\u001b[0m \u001b[31m29.5 MB/s\u001b[0m eta \u001b[36m0:00:00\u001b[0m\n",
            "\u001b[?25hDownloading lxml-4.9.3-cp311-cp311-manylinux_2_28_x86_64.whl (7.9 MB)\n",
            "\u001b[2K   \u001b[90m━━━━━━━━━━━━━━━━━━━━━━━━━━━━━━━━━━━━━━━━\u001b[0m \u001b[32m7.9/7.9 MB\u001b[0m \u001b[31m119.3 MB/s\u001b[0m eta \u001b[36m0:00:00\u001b[0m\n",
            "\u001b[?25hDownloading Markdown-3.5.1-py3-none-any.whl (102 kB)\n",
            "\u001b[2K   \u001b[90m━━━━━━━━━━━━━━━━━━━━━━━━━━━━━━━━━━━━━━━━\u001b[0m \u001b[32m102.2/102.2 kB\u001b[0m \u001b[31m10.9 MB/s\u001b[0m eta \u001b[36m0:00:00\u001b[0m\n",
            "\u001b[?25hDownloading MarkupSafe-2.1.3-cp311-cp311-manylinux_2_17_x86_64.manylinux2014_x86_64.whl (28 kB)\n",
            "Downloading msgpack-1.0.7-cp311-cp311-manylinux_2_17_x86_64.manylinux2014_x86_64.whl (557 kB)\n",
            "\u001b[2K   \u001b[90m━━━━━━━━━━━━━━━━━━━━━━━━━━━━━━━━━━━━━━━━\u001b[0m \u001b[32m558.0/558.0 kB\u001b[0m \u001b[31m43.2 MB/s\u001b[0m eta \u001b[36m0:00:00\u001b[0m\n",
            "\u001b[?25hDownloading ndindex-1.7-py3-none-any.whl (85 kB)\n",
            "\u001b[2K   \u001b[90m━━━━━━━━━━━━━━━━━━━━━━━━━━━━━━━━━━━━━━━━\u001b[0m \u001b[32m85.7/85.7 kB\u001b[0m \u001b[31m9.9 MB/s\u001b[0m eta \u001b[36m0:00:00\u001b[0m\n",
            "\u001b[?25hDownloading networkx-3.2.1-py3-none-any.whl (1.6 MB)\n",
            "\u001b[2K   \u001b[90m━━━━━━━━━━━━━━━━━━━━━━━━━━━━━━━━━━━━━━━━\u001b[0m \u001b[32m1.6/1.6 MB\u001b[0m \u001b[31m88.6 MB/s\u001b[0m eta \u001b[36m0:00:00\u001b[0m\n",
            "\u001b[?25hDownloading nibabel-5.1.0-py3-none-any.whl (3.3 MB)\n",
            "\u001b[2K   \u001b[90m━━━━━━━━━━━━━━━━━━━━━━━━━━━━━━━━━━━━━━━━\u001b[0m \u001b[32m3.3/3.3 MB\u001b[0m \u001b[31m105.2 MB/s\u001b[0m eta \u001b[36m0:00:00\u001b[0m\n",
            "\u001b[?25hDownloading nilearn-0.10.2-py3-none-any.whl (10.4 MB)\n",
            "\u001b[2K   \u001b[90m━━━━━━━━━━━━━━━━━━━━━━━━━━━━━━━━━━━━━━━━\u001b[0m \u001b[32m10.4/10.4 MB\u001b[0m \u001b[31m16.3 MB/s\u001b[0m eta \u001b[36m0:00:00\u001b[0m\n",
            "\u001b[?25hDownloading numexpr-2.8.7-cp311-cp311-manylinux_2_17_x86_64.manylinux2014_x86_64.whl (386 kB)\n",
            "\u001b[2K   \u001b[90m━━━━━━━━━━━━━━━━━━━━━━━━━━━━━━━━━━━━━━━━\u001b[0m \u001b[32m386.4/386.4 kB\u001b[0m \u001b[31m35.9 MB/s\u001b[0m eta \u001b[36m0:00:00\u001b[0m\n",
            "\u001b[?25hDownloading numpy-1.26.2-cp311-cp311-manylinux_2_17_x86_64.manylinux2014_x86_64.whl (18.2 MB)\n",
            "\u001b[2K   \u001b[90m━━━━━━━━━━━━━━━━━━━━━━━━━━━━━━━━━━━━━━━━\u001b[0m \u001b[32m18.2/18.2 MB\u001b[0m \u001b[31m90.1 MB/s\u001b[0m eta \u001b[36m0:00:00\u001b[0m\n",
            "\u001b[?25hDownloading packaging-23.2-py3-none-any.whl (53 kB)\n",
            "\u001b[2K   \u001b[90m━━━━━━━━━━━━━━━━━━━━━━━━━━━━━━━━━━━━━━━━\u001b[0m \u001b[32m53.0/53.0 kB\u001b[0m \u001b[31m247.5 kB/s\u001b[0m eta \u001b[36m0:00:00\u001b[0m\n",
            "\u001b[?25hDownloading pandas-2.1.3-cp311-cp311-manylinux_2_17_x86_64.manylinux2014_x86_64.whl (12.2 MB)\n",
            "\u001b[2K   \u001b[90m━━━━━━━━━━━━━━━━━━━━━━━━━━━━━━━━━━━━━━━━\u001b[0m \u001b[32m12.2/12.2 MB\u001b[0m \u001b[31m105.6 MB/s\u001b[0m eta \u001b[36m0:00:00\u001b[0m\n",
            "\u001b[?25hDownloading Pillow-10.1.0-cp311-cp311-manylinux_2_28_x86_64.whl (3.6 MB)\n",
            "\u001b[2K   \u001b[90m━━━━━━━━━━━━━━━━━━━━━━━━━━━━━━━━━━━━━━━━\u001b[0m \u001b[32m3.6/3.6 MB\u001b[0m \u001b[31m36.9 MB/s\u001b[0m eta \u001b[36m0:00:00\u001b[0m\n",
            "\u001b[?25hDownloading protobuf-4.23.4-cp37-abi3-manylinux2014_x86_64.whl (304 kB)\n",
            "\u001b[2K   \u001b[90m━━━━━━━━━━━━━━━━━━━━━━━━━━━━━━━━━━━━━━━━\u001b[0m \u001b[32m304.5/304.5 kB\u001b[0m \u001b[31m31.0 MB/s\u001b[0m eta \u001b[36m0:00:00\u001b[0m\n",
            "\u001b[?25hDownloading psutil-5.9.6-cp36-abi3-manylinux_2_12_x86_64.manylinux2010_x86_64.manylinux_2_17_x86_64.manylinux2014_x86_64.whl (283 kB)\n",
            "\u001b[2K   \u001b[90m━━━━━━━━━━━━━━━━━━━━━━━━━━━━━━━━━━━━━━━━\u001b[0m \u001b[32m283.6/283.6 kB\u001b[0m \u001b[31m28.7 MB/s\u001b[0m eta \u001b[36m0:00:00\u001b[0m\n",
            "\u001b[?25hDownloading pyasn1-0.5.1-py2.py3-none-any.whl (84 kB)\n",
            "\u001b[2K   \u001b[90m━━━━━━━━━━━━━━━━━━━━━━━━━━━━━━━━━━━━━━━━\u001b[0m \u001b[32m84.9/84.9 kB\u001b[0m \u001b[31m9.3 MB/s\u001b[0m eta \u001b[36m0:00:00\u001b[0m\n",
            "\u001b[?25hDownloading pyasn1_modules-0.3.0-py2.py3-none-any.whl (181 kB)\n",
            "\u001b[2K   \u001b[90m━━━━━━━━━━━━━━━━━━━━━━━━━━━━━━━━━━━━━━━━\u001b[0m \u001b[32m181.3/181.3 kB\u001b[0m \u001b[31m19.3 MB/s\u001b[0m eta \u001b[36m0:00:00\u001b[0m\n",
            "\u001b[?25hDownloading pyparsing-3.1.1-py3-none-any.whl (103 kB)\n",
            "\u001b[2K   \u001b[90m━━━━━━━━━━━━━━━━━━━━━━━━━━━━━━━━━━━━━━━━\u001b[0m \u001b[32m103.1/103.1 kB\u001b[0m \u001b[31m11.1 MB/s\u001b[0m eta \u001b[36m0:00:00\u001b[0m\n",
            "\u001b[?25hDownloading pytz-2023.3.post1-py2.py3-none-any.whl (502 kB)\n",
            "\u001b[2K   \u001b[90m━━━━━━━━━━━━━━━━━━━━━━━━━━━━━━━━━━━━━━━━\u001b[0m \u001b[32m502.5/502.5 kB\u001b[0m \u001b[31m40.8 MB/s\u001b[0m eta \u001b[36m0:00:00\u001b[0m\n",
            "\u001b[?25hDownloading requests-2.31.0-py3-none-any.whl (62 kB)\n",
            "\u001b[2K   \u001b[90m━━━━━━━━━━━━━━━━━━━━━━━━━━━━━━━━━━━━━━━━\u001b[0m \u001b[32m62.6/62.6 kB\u001b[0m \u001b[31m6.3 MB/s\u001b[0m eta \u001b[36m0:00:00\u001b[0m\n",
            "\u001b[?25hDownloading requests_oauthlib-1.3.1-py2.py3-none-any.whl (23 kB)\n",
            "Downloading rsa-4.9-py3-none-any.whl (34 kB)\n",
            "Downloading scikit_learn-1.3.2-cp311-cp311-manylinux_2_17_x86_64.manylinux2014_x86_64.whl (10.9 MB)\n",
            "\u001b[2K   \u001b[90m━━━━━━━━━━━━━━━━━━━━━━━━━━━━━━━━━━━━━━━━\u001b[0m \u001b[32m10.9/10.9 MB\u001b[0m \u001b[31m27.9 MB/s\u001b[0m eta \u001b[36m0:00:00\u001b[0m\n",
            "\u001b[?25hDownloading scipy-1.11.4-cp311-cp311-manylinux_2_17_x86_64.manylinux2014_x86_64.whl (36.4 MB)\n",
            "\u001b[2K   \u001b[90m━━━━━━━━━━━━━━━━━━━━━━━━━━━━━━━━━━━━━━━━\u001b[0m \u001b[32m36.4/36.4 MB\u001b[0m \u001b[31m19.7 MB/s\u001b[0m eta \u001b[36m0:00:00\u001b[0m\n",
            "\u001b[?25hDownloading six-1.16.0-py2.py3-none-any.whl (11 kB)\n",
            "Downloading sympy-1.12-py3-none-any.whl (5.7 MB)\n",
            "\u001b[2K   \u001b[90m━━━━━━━━━━━━━━━━━━━━━━━━━━━━━━━━━━━━━━━━\u001b[0m \u001b[32m5.7/5.7 MB\u001b[0m \u001b[31m102.9 MB/s\u001b[0m eta \u001b[36m0:00:00\u001b[0m\n",
            "\u001b[?25hDownloading tables-3.9.2-cp311-cp311-manylinux_2_17_x86_64.manylinux2014_x86_64.whl (7.5 MB)\n",
            "\u001b[2K   \u001b[90m━━━━━━━━━━━━━━━━━━━━━━━━━━━━━━━━━━━━━━━━\u001b[0m \u001b[32m7.5/7.5 MB\u001b[0m \u001b[31m9.3 MB/s\u001b[0m eta \u001b[36m0:00:00\u001b[0m\n",
            "\u001b[?25hDownloading tensorboard-2.15.1-py3-none-any.whl (5.5 MB)\n",
            "\u001b[2K   \u001b[90m━━━━━━━━━━━━━━━━━━━━━━━━━━━━━━━━━━━━━━━━\u001b[0m \u001b[32m5.5/5.5 MB\u001b[0m \u001b[31m31.7 MB/s\u001b[0m eta \u001b[36m0:00:00\u001b[0m\n",
            "\u001b[?25hDownloading tensorboardX-2.6.2.2-py2.py3-none-any.whl (101 kB)\n",
            "\u001b[2K   \u001b[90m━━━━━━━━━━━━━━━━━━━━━━━━━━━━━━━━━━━━━━━━\u001b[0m \u001b[32m101.7/101.7 kB\u001b[0m \u001b[31m10.8 MB/s\u001b[0m eta \u001b[36m0:00:00\u001b[0m\n",
            "\u001b[?25hDownloading threadpoolctl-3.2.0-py3-none-any.whl (15 kB)\n",
            "Downloading torch-2.1.1-cp311-cp311-manylinux1_x86_64.whl (670.2 MB)\n",
            "\u001b[2K   \u001b[90m━━━━━━━━━━━━━━━━━━━━━━━━━━━━━━━━━━━━━━━━\u001b[0m \u001b[32m670.2/670.2 MB\u001b[0m \u001b[31m1.5 MB/s\u001b[0m eta \u001b[36m0:00:00\u001b[0m\n",
            "\u001b[?25hDownloading torch_tb_profiler-0.4.3-py3-none-any.whl (1.1 MB)\n",
            "\u001b[2K   \u001b[90m━━━━━━━━━━━━━━━━━━━━━━━━━━━━━━━━━━━━━━━━\u001b[0m \u001b[32m1.1/1.1 MB\u001b[0m \u001b[31m54.7 MB/s\u001b[0m eta \u001b[36m0:00:00\u001b[0m\n",
            "\u001b[?25hDownloading torch_geometric-2.4.0-py3-none-any.whl (1.0 MB)\n",
            "\u001b[2K   \u001b[90m━━━━━━━━━━━━━━━━━━━━━━━━━━━━━━━━━━━━━━━━\u001b[0m \u001b[32m1.0/1.0 MB\u001b[0m \u001b[31m54.1 MB/s\u001b[0m eta \u001b[36m0:00:00\u001b[0m\n",
            "\u001b[?25hDownloading torchaudio-2.1.1-cp311-cp311-manylinux1_x86_64.whl (3.3 MB)\n",
            "\u001b[2K   \u001b[90m━━━━━━━━━━━━━━━━━━━━━━━━━━━━━━━━━━━━━━━━\u001b[0m \u001b[32m3.3/3.3 MB\u001b[0m \u001b[31m78.1 MB/s\u001b[0m eta \u001b[36m0:00:00\u001b[0m\n",
            "\u001b[?25hDownloading torchvision-0.16.1-cp311-cp311-manylinux1_x86_64.whl (6.8 MB)\n",
            "\u001b[2K   \u001b[90m━━━━━━━━━━━━━━━━━━━━━━━━━━━━━━━━━━━━━━━━\u001b[0m \u001b[32m6.8/6.8 MB\u001b[0m \u001b[31m96.9 MB/s\u001b[0m eta \u001b[36m0:00:00\u001b[0m\n",
            "\u001b[?25hDownloading tqdm-4.66.1-py3-none-any.whl (78 kB)\n",
            "\u001b[2K   \u001b[90m━━━━━━━━━━━━━━━━━━━━━━━━━━━━━━━━━━━━━━━━\u001b[0m \u001b[32m78.3/78.3 kB\u001b[0m \u001b[31m8.4 MB/s\u001b[0m eta \u001b[36m0:00:00\u001b[0m\n",
            "\u001b[?25hDownloading typing_extensions-4.8.0-py3-none-any.whl (31 kB)\n",
            "Downloading tzdata-2023.3-py2.py3-none-any.whl (341 kB)\n",
            "\u001b[2K   \u001b[90m━━━━━━━━━━━━━━━━━━━━━━━━━━━━━━━━━━━━━━━━\u001b[0m \u001b[32m341.8/341.8 kB\u001b[0m \u001b[31m27.7 MB/s\u001b[0m eta \u001b[36m0:00:00\u001b[0m\n",
            "\u001b[?25hDownloading urllib3-2.1.0-py3-none-any.whl (104 kB)\n",
            "\u001b[2K   \u001b[90m━━━━━━━━━━━━━━━━━━━━━━━━━━━━━━━━━━━━━━━━\u001b[0m \u001b[32m104.6/104.6 kB\u001b[0m \u001b[31m11.4 MB/s\u001b[0m eta \u001b[36m0:00:00\u001b[0m\n",
            "\u001b[?25hDownloading werkzeug-3.0.1-py3-none-any.whl (226 kB)\n",
            "\u001b[2K   \u001b[90m━━━━━━━━━━━━━━━━━━━━━━━━━━━━━━━━━━━━━━━━\u001b[0m \u001b[32m226.7/226.7 kB\u001b[0m \u001b[31m19.0 MB/s\u001b[0m eta \u001b[36m0:00:00\u001b[0m\n",
            "\u001b[?25hDownloading zipp-3.17.0-py3-none-any.whl (7.4 kB)\n",
            "Downloading nvidia_cublas_cu12-12.1.3.1-py3-none-manylinux1_x86_64.whl (410.6 MB)\n",
            "\u001b[2K   \u001b[90m━━━━━━━━━━━━━━━━━━━━━━━━━━━━━━━━━━━━━━━━\u001b[0m \u001b[32m410.6/410.6 MB\u001b[0m \u001b[31m3.6 MB/s\u001b[0m eta \u001b[36m0:00:00\u001b[0m\n",
            "\u001b[?25hDownloading nvidia_cuda_cupti_cu12-12.1.105-py3-none-manylinux1_x86_64.whl (14.1 MB)\n",
            "\u001b[2K   \u001b[90m━━━━━━━━━━━━━━━━━━━━━━━━━━━━━━━━━━━━━━━━\u001b[0m \u001b[32m14.1/14.1 MB\u001b[0m \u001b[31m120.5 MB/s\u001b[0m eta \u001b[36m0:00:00\u001b[0m\n",
            "\u001b[?25hDownloading nvidia_cuda_nvrtc_cu12-12.1.105-py3-none-manylinux1_x86_64.whl (23.7 MB)\n",
            "\u001b[2K   \u001b[90m━━━━━━━━━━━━━━━━━━━━━━━━━━━━━━━━━━━━━━━━\u001b[0m \u001b[32m23.7/23.7 MB\u001b[0m \u001b[31m96.6 MB/s\u001b[0m eta \u001b[36m0:00:00\u001b[0m\n",
            "\u001b[?25hDownloading nvidia_cuda_runtime_cu12-12.1.105-py3-none-manylinux1_x86_64.whl (823 kB)\n",
            "\u001b[2K   \u001b[90m━━━━━━━━━━━━━━━━━━━━━━━━━━━━━━━━━━━━━━━━\u001b[0m \u001b[32m823.6/823.6 kB\u001b[0m \u001b[31m57.7 MB/s\u001b[0m eta \u001b[36m0:00:00\u001b[0m\n",
            "\u001b[?25hDownloading nvidia_cudnn_cu12-8.9.2.26-py3-none-manylinux1_x86_64.whl (731.7 MB)\n",
            "\u001b[2K   \u001b[90m━━━━━━━━━━━━━━━━━━━━━━━━━━━━━━━━━━━━━━━━\u001b[0m \u001b[32m731.7/731.7 MB\u001b[0m \u001b[31m1.4 MB/s\u001b[0m eta \u001b[36m0:00:00\u001b[0m\n",
            "\u001b[?25hDownloading nvidia_cufft_cu12-11.0.2.54-py3-none-manylinux1_x86_64.whl (121.6 MB)\n",
            "\u001b[2K   \u001b[90m━━━━━━━━━━━━━━━━━━━━━━━━━━━━━━━━━━━━━━━━\u001b[0m \u001b[32m121.6/121.6 MB\u001b[0m \u001b[31m7.6 MB/s\u001b[0m eta \u001b[36m0:00:00\u001b[0m\n",
            "\u001b[?25hDownloading nvidia_curand_cu12-10.3.2.106-py3-none-manylinux1_x86_64.whl (56.5 MB)\n",
            "\u001b[2K   \u001b[90m━━━━━━━━━━━━━━━━━━━━━━━━━━━━━━━━━━━━━━━━\u001b[0m \u001b[32m56.5/56.5 MB\u001b[0m \u001b[31m12.6 MB/s\u001b[0m eta \u001b[36m0:00:00\u001b[0m\n",
            "\u001b[?25hDownloading nvidia_cusolver_cu12-11.4.5.107-py3-none-manylinux1_x86_64.whl (124.2 MB)\n",
            "\u001b[2K   \u001b[90m━━━━━━━━━━━━━━━━━━━━━━━━━━━━━━━━━━━━━━━━\u001b[0m \u001b[32m124.2/124.2 MB\u001b[0m \u001b[31m7.5 MB/s\u001b[0m eta \u001b[36m0:00:00\u001b[0m\n",
            "\u001b[?25hDownloading nvidia_cusparse_cu12-12.1.0.106-py3-none-manylinux1_x86_64.whl (196.0 MB)\n",
            "\u001b[2K   \u001b[90m━━━━━━━━━━━━━━━━━━━━━━━━━━━━━━━━━━━━━━━━\u001b[0m \u001b[32m196.0/196.0 MB\u001b[0m \u001b[31m5.7 MB/s\u001b[0m eta \u001b[36m0:00:00\u001b[0m\n",
            "\u001b[?25hDownloading nvidia_nccl_cu12-2.18.1-py3-none-manylinux1_x86_64.whl (209.8 MB)\n",
            "\u001b[2K   \u001b[90m━━━━━━━━━━━━━━━━━━━━━━━━━━━━━━━━━━━━━━━━\u001b[0m \u001b[32m209.8/209.8 MB\u001b[0m \u001b[31m5.4 MB/s\u001b[0m eta \u001b[36m0:00:00\u001b[0m\n",
            "\u001b[?25hDownloading nvidia_nvtx_cu12-12.1.105-py3-none-manylinux1_x86_64.whl (99 kB)\n",
            "\u001b[2K   \u001b[90m━━━━━━━━━━━━━━━━━━━━━━━━━━━━━━━━━━━━━━━━\u001b[0m \u001b[32m99.1/99.1 kB\u001b[0m \u001b[31m9.3 MB/s\u001b[0m eta \u001b[36m0:00:00\u001b[0m\n",
            "\u001b[?25hDownloading triton-2.1.0-0-cp311-cp311-manylinux2014_x86_64.manylinux_2_17_x86_64.whl (89.2 MB)\n",
            "\u001b[2K   \u001b[90m━━━━━━━━━━━━━━━━━━━━━━━━━━━━━━━━━━━━━━━━\u001b[0m \u001b[32m89.2/89.2 MB\u001b[0m \u001b[31m9.3 MB/s\u001b[0m eta \u001b[36m0:00:00\u001b[0m\n",
            "\u001b[?25hInstalling collected packages: pytz, zipp, urllib3, tzdata, typing_extensions, tqdm, torch-spline-conv, torch-scatter, threadpoolctl, sympy, six, pyparsing, pyasn1, psutil, protobuf, Pillow, packaging, nvidia-nvtx-cu12, nvidia-nccl-cu12, nvidia-cusparse-cu12, nvidia-curand-cu12, nvidia-cufft-cu12, nvidia-cuda-runtime-cu12, nvidia-cuda-nvrtc-cu12, nvidia-cuda-cupti-cu12, nvidia-cublas-cu12, numpy, networkx, ndindex, msgpack, MarkupSafe, Markdown, lxml, joblib, idna, grpcio, fsspec, filelock, charset-normalizer, certifi, cachetools, absl-py, Werkzeug, triton, tensorboardX, scipy, rsa, requests, pyasn1-modules, nvidia-cusolver-cu12, nvidia-cudnn-cu12, numexpr, nibabel, Jinja2, importlib-metadata, h5py, blosc2, torch-sparse, torch-cluster, torch, tables, scikit-learn, requests-oauthlib, pandas, google-auth, torchvision, torchaudio, torch_geometric, nilearn, google-auth-oauthlib, deepdish, tensorboard, torch-tb-profiler\n",
            "  Attempting uninstall: pytz\n",
            "    Found existing installation: pytz 2025.2\n",
            "    Uninstalling pytz-2025.2:\n",
            "      Successfully uninstalled pytz-2025.2\n",
            "  Attempting uninstall: zipp\n",
            "    Found existing installation: zipp 3.21.0\n",
            "    Uninstalling zipp-3.21.0:\n",
            "      Successfully uninstalled zipp-3.21.0\n",
            "  Attempting uninstall: urllib3\n",
            "    Found existing installation: urllib3 2.3.0\n",
            "    Uninstalling urllib3-2.3.0:\n",
            "      Successfully uninstalled urllib3-2.3.0\n",
            "  Attempting uninstall: tzdata\n",
            "    Found existing installation: tzdata 2025.2\n",
            "    Uninstalling tzdata-2025.2:\n",
            "      Successfully uninstalled tzdata-2025.2\n",
            "  Attempting uninstall: typing_extensions\n",
            "    Found existing installation: typing_extensions 4.13.2\n",
            "    Uninstalling typing_extensions-4.13.2:\n",
            "      Successfully uninstalled typing_extensions-4.13.2\n",
            "  Attempting uninstall: tqdm\n",
            "    Found existing installation: tqdm 4.67.1\n",
            "    Uninstalling tqdm-4.67.1:\n",
            "      Successfully uninstalled tqdm-4.67.1\n",
            "  Attempting uninstall: threadpoolctl\n",
            "    Found existing installation: threadpoolctl 3.6.0\n",
            "    Uninstalling threadpoolctl-3.6.0:\n",
            "      Successfully uninstalled threadpoolctl-3.6.0\n",
            "  Attempting uninstall: sympy\n",
            "    Found existing installation: sympy 1.13.1\n",
            "    Uninstalling sympy-1.13.1:\n",
            "      Successfully uninstalled sympy-1.13.1\n",
            "  Attempting uninstall: six\n",
            "    Found existing installation: six 1.17.0\n",
            "    Uninstalling six-1.17.0:\n",
            "      Successfully uninstalled six-1.17.0\n",
            "  Attempting uninstall: pyparsing\n",
            "    Found existing installation: pyparsing 3.2.3\n",
            "    Uninstalling pyparsing-3.2.3:\n",
            "      Successfully uninstalled pyparsing-3.2.3\n",
            "  Attempting uninstall: pyasn1\n",
            "    Found existing installation: pyasn1 0.6.1\n",
            "    Uninstalling pyasn1-0.6.1:\n",
            "      Successfully uninstalled pyasn1-0.6.1\n",
            "  Attempting uninstall: psutil\n",
            "    Found existing installation: psutil 5.9.5\n",
            "    Uninstalling psutil-5.9.5:\n",
            "      Successfully uninstalled psutil-5.9.5\n",
            "  Attempting uninstall: protobuf\n",
            "    Found existing installation: protobuf 5.29.4\n",
            "    Uninstalling protobuf-5.29.4:\n",
            "      Successfully uninstalled protobuf-5.29.4\n",
            "  Attempting uninstall: Pillow\n",
            "    Found existing installation: pillow 11.1.0\n",
            "    Uninstalling pillow-11.1.0:\n",
            "      Successfully uninstalled pillow-11.1.0\n",
            "  Attempting uninstall: packaging\n",
            "    Found existing installation: packaging 24.2\n",
            "    Uninstalling packaging-24.2:\n",
            "      Successfully uninstalled packaging-24.2\n",
            "  Attempting uninstall: nvidia-nvtx-cu12\n",
            "    Found existing installation: nvidia-nvtx-cu12 12.4.127\n",
            "    Uninstalling nvidia-nvtx-cu12-12.4.127:\n",
            "      Successfully uninstalled nvidia-nvtx-cu12-12.4.127\n",
            "  Attempting uninstall: nvidia-nccl-cu12\n",
            "    Found existing installation: nvidia-nccl-cu12 2.21.5\n",
            "    Uninstalling nvidia-nccl-cu12-2.21.5:\n",
            "      Successfully uninstalled nvidia-nccl-cu12-2.21.5\n",
            "  Attempting uninstall: nvidia-cusparse-cu12\n",
            "    Found existing installation: nvidia-cusparse-cu12 12.5.1.3\n",
            "    Uninstalling nvidia-cusparse-cu12-12.5.1.3:\n",
            "      Successfully uninstalled nvidia-cusparse-cu12-12.5.1.3\n",
            "  Attempting uninstall: nvidia-curand-cu12\n",
            "    Found existing installation: nvidia-curand-cu12 10.3.6.82\n",
            "    Uninstalling nvidia-curand-cu12-10.3.6.82:\n",
            "      Successfully uninstalled nvidia-curand-cu12-10.3.6.82\n",
            "  Attempting uninstall: nvidia-cufft-cu12\n",
            "    Found existing installation: nvidia-cufft-cu12 11.2.3.61\n",
            "    Uninstalling nvidia-cufft-cu12-11.2.3.61:\n",
            "      Successfully uninstalled nvidia-cufft-cu12-11.2.3.61\n",
            "  Attempting uninstall: nvidia-cuda-runtime-cu12\n",
            "    Found existing installation: nvidia-cuda-runtime-cu12 12.5.82\n",
            "    Uninstalling nvidia-cuda-runtime-cu12-12.5.82:\n",
            "      Successfully uninstalled nvidia-cuda-runtime-cu12-12.5.82\n",
            "  Attempting uninstall: nvidia-cuda-nvrtc-cu12\n",
            "    Found existing installation: nvidia-cuda-nvrtc-cu12 12.5.82\n",
            "    Uninstalling nvidia-cuda-nvrtc-cu12-12.5.82:\n",
            "      Successfully uninstalled nvidia-cuda-nvrtc-cu12-12.5.82\n",
            "  Attempting uninstall: nvidia-cuda-cupti-cu12\n",
            "    Found existing installation: nvidia-cuda-cupti-cu12 12.5.82\n",
            "    Uninstalling nvidia-cuda-cupti-cu12-12.5.82:\n",
            "      Successfully uninstalled nvidia-cuda-cupti-cu12-12.5.82\n",
            "  Attempting uninstall: nvidia-cublas-cu12\n",
            "    Found existing installation: nvidia-cublas-cu12 12.5.3.2\n",
            "    Uninstalling nvidia-cublas-cu12-12.5.3.2:\n",
            "      Successfully uninstalled nvidia-cublas-cu12-12.5.3.2\n",
            "  Attempting uninstall: numpy\n",
            "    Found existing installation: numpy 2.0.2\n",
            "    Uninstalling numpy-2.0.2:\n",
            "      Successfully uninstalled numpy-2.0.2\n",
            "  Attempting uninstall: networkx\n",
            "    Found existing installation: networkx 3.4.2\n",
            "    Uninstalling networkx-3.4.2:\n",
            "      Successfully uninstalled networkx-3.4.2\n",
            "  Attempting uninstall: ndindex\n",
            "    Found existing installation: ndindex 1.9.2\n",
            "    Uninstalling ndindex-1.9.2:\n",
            "      Successfully uninstalled ndindex-1.9.2\n",
            "  Attempting uninstall: msgpack\n",
            "    Found existing installation: msgpack 1.1.0\n",
            "    Uninstalling msgpack-1.1.0:\n",
            "      Successfully uninstalled msgpack-1.1.0\n",
            "  Attempting uninstall: MarkupSafe\n",
            "    Found existing installation: MarkupSafe 3.0.2\n",
            "    Uninstalling MarkupSafe-3.0.2:\n",
            "      Successfully uninstalled MarkupSafe-3.0.2\n",
            "  Attempting uninstall: Markdown\n",
            "    Found existing installation: Markdown 3.8\n",
            "    Uninstalling Markdown-3.8:\n",
            "      Successfully uninstalled Markdown-3.8\n",
            "  Attempting uninstall: lxml\n",
            "    Found existing installation: lxml 5.3.2\n",
            "    Uninstalling lxml-5.3.2:\n",
            "      Successfully uninstalled lxml-5.3.2\n",
            "  Attempting uninstall: joblib\n",
            "    Found existing installation: joblib 1.4.2\n",
            "    Uninstalling joblib-1.4.2:\n",
            "      Successfully uninstalled joblib-1.4.2\n",
            "  Attempting uninstall: idna\n",
            "    Found existing installation: idna 3.10\n",
            "    Uninstalling idna-3.10:\n",
            "      Successfully uninstalled idna-3.10\n",
            "  Attempting uninstall: grpcio\n",
            "    Found existing installation: grpcio 1.71.0\n",
            "    Uninstalling grpcio-1.71.0:\n",
            "      Successfully uninstalled grpcio-1.71.0\n",
            "  Attempting uninstall: fsspec\n",
            "    Found existing installation: fsspec 2025.3.2\n",
            "    Uninstalling fsspec-2025.3.2:\n",
            "      Successfully uninstalled fsspec-2025.3.2\n",
            "  Attempting uninstall: filelock\n",
            "    Found existing installation: filelock 3.18.0\n",
            "    Uninstalling filelock-3.18.0:\n",
            "      Successfully uninstalled filelock-3.18.0\n",
            "  Attempting uninstall: charset-normalizer\n",
            "    Found existing installation: charset-normalizer 3.4.1\n",
            "    Uninstalling charset-normalizer-3.4.1:\n",
            "      Successfully uninstalled charset-normalizer-3.4.1\n",
            "  Attempting uninstall: certifi\n",
            "    Found existing installation: certifi 2025.1.31\n",
            "    Uninstalling certifi-2025.1.31:\n",
            "      Successfully uninstalled certifi-2025.1.31\n",
            "  Attempting uninstall: cachetools\n",
            "    Found existing installation: cachetools 5.5.2\n",
            "    Uninstalling cachetools-5.5.2:\n",
            "      Successfully uninstalled cachetools-5.5.2\n",
            "  Attempting uninstall: absl-py\n",
            "    Found existing installation: absl-py 1.4.0\n",
            "    Uninstalling absl-py-1.4.0:\n",
            "      Successfully uninstalled absl-py-1.4.0\n",
            "  Attempting uninstall: Werkzeug\n",
            "    Found existing installation: Werkzeug 3.1.3\n",
            "    Uninstalling Werkzeug-3.1.3:\n",
            "      Successfully uninstalled Werkzeug-3.1.3\n",
            "  Attempting uninstall: triton\n",
            "    Found existing installation: triton 3.2.0\n",
            "    Uninstalling triton-3.2.0:\n",
            "      Successfully uninstalled triton-3.2.0\n",
            "  Attempting uninstall: scipy\n",
            "    Found existing installation: scipy 1.14.1\n",
            "    Uninstalling scipy-1.14.1:\n",
            "      Successfully uninstalled scipy-1.14.1\n",
            "  Attempting uninstall: rsa\n",
            "    Found existing installation: rsa 4.9.1\n",
            "    Uninstalling rsa-4.9.1:\n",
            "      Successfully uninstalled rsa-4.9.1\n",
            "  Attempting uninstall: requests\n",
            "    Found existing installation: requests 2.32.3\n",
            "    Uninstalling requests-2.32.3:\n",
            "      Successfully uninstalled requests-2.32.3\n",
            "  Attempting uninstall: pyasn1-modules\n",
            "    Found existing installation: pyasn1_modules 0.4.2\n",
            "    Uninstalling pyasn1_modules-0.4.2:\n",
            "      Successfully uninstalled pyasn1_modules-0.4.2\n",
            "  Attempting uninstall: nvidia-cusolver-cu12\n",
            "    Found existing installation: nvidia-cusolver-cu12 11.6.3.83\n",
            "    Uninstalling nvidia-cusolver-cu12-11.6.3.83:\n",
            "      Successfully uninstalled nvidia-cusolver-cu12-11.6.3.83\n",
            "  Attempting uninstall: nvidia-cudnn-cu12\n",
            "    Found existing installation: nvidia-cudnn-cu12 9.3.0.75\n",
            "    Uninstalling nvidia-cudnn-cu12-9.3.0.75:\n",
            "      Successfully uninstalled nvidia-cudnn-cu12-9.3.0.75\n",
            "  Attempting uninstall: numexpr\n",
            "    Found existing installation: numexpr 2.10.2\n",
            "    Uninstalling numexpr-2.10.2:\n",
            "      Successfully uninstalled numexpr-2.10.2\n",
            "  Attempting uninstall: nibabel\n",
            "    Found existing installation: nibabel 5.3.2\n",
            "    Uninstalling nibabel-5.3.2:\n",
            "      Successfully uninstalled nibabel-5.3.2\n",
            "  Attempting uninstall: Jinja2\n",
            "    Found existing installation: Jinja2 3.1.6\n",
            "    Uninstalling Jinja2-3.1.6:\n",
            "      Successfully uninstalled Jinja2-3.1.6\n",
            "  Attempting uninstall: importlib-metadata\n",
            "    Found existing installation: importlib_metadata 8.6.1\n",
            "    Uninstalling importlib_metadata-8.6.1:\n",
            "      Successfully uninstalled importlib_metadata-8.6.1\n",
            "  Attempting uninstall: h5py\n",
            "    Found existing installation: h5py 3.13.0\n",
            "    Uninstalling h5py-3.13.0:\n",
            "      Successfully uninstalled h5py-3.13.0\n",
            "  Attempting uninstall: blosc2\n",
            "    Found existing installation: blosc2 3.3.0\n",
            "    Uninstalling blosc2-3.3.0:\n",
            "      Successfully uninstalled blosc2-3.3.0\n",
            "  Attempting uninstall: torch\n",
            "    Found existing installation: torch 2.6.0+cu124\n",
            "    Uninstalling torch-2.6.0+cu124:\n",
            "      Successfully uninstalled torch-2.6.0+cu124\n",
            "  Attempting uninstall: tables\n",
            "    Found existing installation: tables 3.10.2\n",
            "    Uninstalling tables-3.10.2:\n",
            "      Successfully uninstalled tables-3.10.2\n",
            "  Attempting uninstall: scikit-learn\n",
            "    Found existing installation: scikit-learn 1.6.1\n",
            "    Uninstalling scikit-learn-1.6.1:\n",
            "      Successfully uninstalled scikit-learn-1.6.1\n",
            "  Attempting uninstall: requests-oauthlib\n",
            "    Found existing installation: requests-oauthlib 2.0.0\n",
            "    Uninstalling requests-oauthlib-2.0.0:\n",
            "      Successfully uninstalled requests-oauthlib-2.0.0\n",
            "  Attempting uninstall: pandas\n",
            "    Found existing installation: pandas 2.2.2\n",
            "    Uninstalling pandas-2.2.2:\n",
            "      Successfully uninstalled pandas-2.2.2\n",
            "  Attempting uninstall: google-auth\n",
            "    Found existing installation: google-auth 2.38.0\n",
            "    Uninstalling google-auth-2.38.0:\n",
            "      Successfully uninstalled google-auth-2.38.0\n",
            "  Attempting uninstall: torchvision\n",
            "    Found existing installation: torchvision 0.21.0+cu124\n",
            "    Uninstalling torchvision-0.21.0+cu124:\n",
            "      Successfully uninstalled torchvision-0.21.0+cu124\n",
            "  Attempting uninstall: torchaudio\n",
            "    Found existing installation: torchaudio 2.6.0+cu124\n",
            "    Uninstalling torchaudio-2.6.0+cu124:\n",
            "      Successfully uninstalled torchaudio-2.6.0+cu124\n",
            "  Attempting uninstall: google-auth-oauthlib\n",
            "    Found existing installation: google-auth-oauthlib 1.2.1\n",
            "    Uninstalling google-auth-oauthlib-1.2.1:\n",
            "      Successfully uninstalled google-auth-oauthlib-1.2.1\n",
            "  Attempting uninstall: tensorboard\n",
            "    Found existing installation: tensorboard 2.18.0\n",
            "    Uninstalling tensorboard-2.18.0:\n",
            "      Successfully uninstalled tensorboard-2.18.0\n",
            "\u001b[31mERROR: pip's dependency resolver does not currently take into account all the packages that are installed. This behaviour is the source of the following dependency conflicts.\n",
            "google-colab 1.0.0 requires google-auth==2.38.0, but you have google-auth 2.23.4 which is incompatible.\n",
            "google-colab 1.0.0 requires pandas==2.2.2, but you have pandas 2.1.3 which is incompatible.\n",
            "google-colab 1.0.0 requires requests==2.32.3, but you have requests 2.31.0 which is incompatible.\n",
            "pytensor 2.30.3 requires filelock>=3.15, but you have filelock 3.13.1 which is incompatible.\n",
            "gcsfs 2025.3.2 requires fsspec==2025.3.2, but you have fsspec 2023.10.0 which is incompatible.\n",
            "tensorflow-metadata 1.17.1 requires protobuf<6.0.0,>=4.25.2; python_version >= \"3.11\", but you have protobuf 4.23.4 which is incompatible.\n",
            "google-cloud-storage 2.19.0 requires google-auth<3.0dev,>=2.26.1, but you have google-auth 2.23.4 which is incompatible.\n",
            "tensorflow 2.18.0 requires h5py>=3.11.0, but you have h5py 3.10.0 which is incompatible.\n",
            "tensorflow 2.18.0 requires tensorboard<2.19,>=2.18, but you have tensorboard 2.15.1 which is incompatible.\n",
            "altair 5.5.0 requires typing-extensions>=4.10.0; python_version < \"3.14\", but you have typing-extensions 4.8.0 which is incompatible.\n",
            "pydantic 2.11.3 requires typing-extensions>=4.12.2, but you have typing-extensions 4.8.0 which is incompatible.\n",
            "plotnine 0.14.5 requires pandas>=2.2.0, but you have pandas 2.1.3 which is incompatible.\n",
            "typeguard 4.4.2 requires typing_extensions>=4.10.0, but you have typing-extensions 4.8.0 which is incompatible.\n",
            "google-cloud-bigquery 3.31.0 requires packaging>=24.2.0, but you have packaging 23.2 which is incompatible.\n",
            "google-genai 1.10.0 requires typing-extensions<5.0.0,>=4.11.0, but you have typing-extensions 4.8.0 which is incompatible.\n",
            "grpcio-status 1.71.0 requires grpcio>=1.71.0, but you have grpcio 1.59.3 which is incompatible.\n",
            "grpcio-status 1.71.0 requires protobuf<6.0dev,>=5.26.1, but you have protobuf 4.23.4 which is incompatible.\n",
            "ydf 0.11.0 requires protobuf<6.0.0,>=5.29.1, but you have protobuf 4.23.4 which is incompatible.\n",
            "openai 1.75.0 requires typing-extensions<5,>=4.11, but you have typing-extensions 4.8.0 which is incompatible.\n",
            "mizani 0.13.3 requires pandas>=2.2.0, but you have pandas 2.1.3 which is incompatible.\n",
            "typing-inspection 0.4.0 requires typing-extensions>=4.12.0, but you have typing-extensions 4.8.0 which is incompatible.\n",
            "flask 3.1.0 requires Werkzeug>=3.1, but you have werkzeug 3.0.1 which is incompatible.\n",
            "thinc 8.3.6 requires numpy<3.0.0,>=2.0.0, but you have numpy 1.26.2 which is incompatible.\u001b[0m\u001b[31m\n",
            "\u001b[0mSuccessfully installed Jinja2-3.1.2 Markdown-3.5.1 MarkupSafe-2.1.3 Pillow-10.1.0 Werkzeug-3.0.1 absl-py-2.0.0 blosc2-2.3.1 cachetools-5.3.2 certifi-2023.11.17 charset-normalizer-3.3.2 deepdish-0.3.7 filelock-3.13.1 fsspec-2023.10.0 google-auth-2.23.4 google-auth-oauthlib-1.1.0 grpcio-1.59.3 h5py-3.10.0 idna-3.6 importlib-metadata-6.8.0 joblib-1.3.2 lxml-4.9.3 msgpack-1.0.7 ndindex-1.7 networkx-3.2.1 nibabel-5.1.0 nilearn-0.10.2 numexpr-2.8.7 numpy-1.26.2 nvidia-cublas-cu12-12.1.3.1 nvidia-cuda-cupti-cu12-12.1.105 nvidia-cuda-nvrtc-cu12-12.1.105 nvidia-cuda-runtime-cu12-12.1.105 nvidia-cudnn-cu12-8.9.2.26 nvidia-cufft-cu12-11.0.2.54 nvidia-curand-cu12-10.3.2.106 nvidia-cusolver-cu12-11.4.5.107 nvidia-cusparse-cu12-12.1.0.106 nvidia-nccl-cu12-2.18.1 nvidia-nvtx-cu12-12.1.105 packaging-23.2 pandas-2.1.3 protobuf-4.23.4 psutil-5.9.6 pyasn1-0.5.1 pyasn1-modules-0.3.0 pyparsing-3.1.1 pytz-2023.3.post1 requests-2.31.0 requests-oauthlib-1.3.1 rsa-4.9 scikit-learn-1.3.2 scipy-1.11.4 six-1.16.0 sympy-1.12 tables-3.9.2 tensorboard-2.15.1 tensorboardX-2.6.2.2 threadpoolctl-3.2.0 torch-2.1.1 torch-cluster-1.6.3+pt21cu121 torch-scatter-2.1.2+pt21cu121 torch-sparse-0.6.18+pt21cu121 torch-spline-conv-1.2.2+pt21cu121 torch-tb-profiler-0.4.3 torch_geometric-2.4.0 torchaudio-2.1.1 torchvision-0.16.1 tqdm-4.66.1 triton-2.1.0 typing_extensions-4.8.0 tzdata-2023.3 urllib3-2.1.0 zipp-3.17.0\n"
          ]
        },
        {
          "output_type": "display_data",
          "data": {
            "application/vnd.colab-display-data+json": {
              "pip_warning": {
                "packages": [
                  "PIL",
                  "certifi",
                  "google",
                  "importlib_metadata",
                  "psutil",
                  "six",
                  "zipp"
                ]
              },
              "id": "bf67142e60384a3db6fab4ad5f31bfd3"
            }
          },
          "metadata": {}
        }
      ]
    },
    {
      "cell_type": "markdown",
      "source": [
        "## Downloading and pre-processing the data"
      ],
      "metadata": {
        "id": "mi6MSliIx3rz"
      }
    },
    {
      "cell_type": "code",
      "source": [
        "%run /content/BrainGNN/01-fetch_data.py\n",
        "%run /content/BrainGNN/02-process_data.py"
      ],
      "metadata": {
        "colab": {
          "base_uri": "https://localhost:8080/"
        },
        "id": "9aflGl2T89vE",
        "outputId": "d2e7f7c7-6876-47c6-8335-31a2fe08ab13"
      },
      "execution_count": null,
      "outputs": [
        {
          "output_type": "stream",
          "name": "stdout",
          "text": [
            "Namespace(pipeline='cpac', atlas='cc200', download=True)\n",
            "Downloading data from https://s3.amazonaws.com/fcp-indi/data/Projects/ABIDE_Initiative/Outputs/cpac/filt_noglobal/rois_cc200/Pitt_0050003_rois_cc200.1D ...\n"
          ]
        },
        {
          "output_type": "stream",
          "name": "stderr",
          "text": [
            " ...done. (1 seconds, 0 min)\n"
          ]
        },
        {
          "output_type": "stream",
          "name": "stdout",
          "text": [
            "Downloading data from https://s3.amazonaws.com/fcp-indi/data/Projects/ABIDE_Initiative/Outputs/cpac/filt_noglobal/rois_cc200/Pitt_0050004_rois_cc200.1D ...\n"
          ]
        },
        {
          "output_type": "stream",
          "name": "stderr",
          "text": [
            " ...done. (1 seconds, 0 min)\n"
          ]
        },
        {
          "output_type": "stream",
          "name": "stdout",
          "text": [
            "Downloading data from https://s3.amazonaws.com/fcp-indi/data/Projects/ABIDE_Initiative/Outputs/cpac/filt_noglobal/rois_cc200/Pitt_0050005_rois_cc200.1D ...\n"
          ]
        },
        {
          "output_type": "stream",
          "name": "stderr",
          "text": [
            " ...done. (1 seconds, 0 min)\n"
          ]
        },
        {
          "output_type": "stream",
          "name": "stdout",
          "text": [
            "Downloading data from https://s3.amazonaws.com/fcp-indi/data/Projects/ABIDE_Initiative/Outputs/cpac/filt_noglobal/rois_cc200/Pitt_0050006_rois_cc200.1D ...\n"
          ]
        },
        {
          "output_type": "stream",
          "name": "stderr",
          "text": [
            " ...done. (1 seconds, 0 min)\n"
          ]
        },
        {
          "output_type": "stream",
          "name": "stdout",
          "text": [
            "Downloading data from https://s3.amazonaws.com/fcp-indi/data/Projects/ABIDE_Initiative/Outputs/cpac/filt_noglobal/rois_cc200/Pitt_0050007_rois_cc200.1D ...\n"
          ]
        },
        {
          "output_type": "stream",
          "name": "stderr",
          "text": [
            " ...done. (1 seconds, 0 min)\n"
          ]
        },
        {
          "output_type": "stream",
          "name": "stdout",
          "text": [
            "Downloading data from https://s3.amazonaws.com/fcp-indi/data/Projects/ABIDE_Initiative/Outputs/cpac/filt_noglobal/rois_cc200/Pitt_0050008_rois_cc200.1D ...\n"
          ]
        },
        {
          "output_type": "stream",
          "name": "stderr",
          "text": [
            " ...done. (1 seconds, 0 min)\n"
          ]
        },
        {
          "output_type": "stream",
          "name": "stdout",
          "text": [
            "Downloading data from https://s3.amazonaws.com/fcp-indi/data/Projects/ABIDE_Initiative/Outputs/cpac/filt_noglobal/rois_cc200/Pitt_0050009_rois_cc200.1D ...\n"
          ]
        },
        {
          "output_type": "stream",
          "name": "stderr",
          "text": [
            " ...done. (1 seconds, 0 min)\n"
          ]
        },
        {
          "output_type": "stream",
          "name": "stdout",
          "text": [
            "Downloading data from https://s3.amazonaws.com/fcp-indi/data/Projects/ABIDE_Initiative/Outputs/cpac/filt_noglobal/rois_cc200/Pitt_0050010_rois_cc200.1D ...\n"
          ]
        },
        {
          "output_type": "stream",
          "name": "stderr",
          "text": [
            " ...done. (1 seconds, 0 min)\n"
          ]
        },
        {
          "output_type": "stream",
          "name": "stdout",
          "text": [
            "Downloading data from https://s3.amazonaws.com/fcp-indi/data/Projects/ABIDE_Initiative/Outputs/cpac/filt_noglobal/rois_cc200/Pitt_0050011_rois_cc200.1D ...\n"
          ]
        },
        {
          "output_type": "stream",
          "name": "stderr",
          "text": [
            " ...done. (1 seconds, 0 min)\n"
          ]
        },
        {
          "output_type": "stream",
          "name": "stdout",
          "text": [
            "Downloading data from https://s3.amazonaws.com/fcp-indi/data/Projects/ABIDE_Initiative/Outputs/cpac/filt_noglobal/rois_cc200/Pitt_0050012_rois_cc200.1D ...\n"
          ]
        },
        {
          "output_type": "stream",
          "name": "stderr",
          "text": [
            " ...done. (1 seconds, 0 min)\n"
          ]
        },
        {
          "output_type": "stream",
          "name": "stdout",
          "text": [
            "Downloading data from https://s3.amazonaws.com/fcp-indi/data/Projects/ABIDE_Initiative/Outputs/cpac/filt_noglobal/rois_cc200/Pitt_0050013_rois_cc200.1D ...\n"
          ]
        },
        {
          "output_type": "stream",
          "name": "stderr",
          "text": [
            " ...done. (1 seconds, 0 min)\n"
          ]
        },
        {
          "output_type": "stream",
          "name": "stdout",
          "text": [
            "Downloading data from https://s3.amazonaws.com/fcp-indi/data/Projects/ABIDE_Initiative/Outputs/cpac/filt_noglobal/rois_cc200/Pitt_0050014_rois_cc200.1D ...\n"
          ]
        },
        {
          "output_type": "stream",
          "name": "stderr",
          "text": [
            " ...done. (1 seconds, 0 min)\n"
          ]
        },
        {
          "output_type": "stream",
          "name": "stdout",
          "text": [
            "Downloading data from https://s3.amazonaws.com/fcp-indi/data/Projects/ABIDE_Initiative/Outputs/cpac/filt_noglobal/rois_cc200/Pitt_0050015_rois_cc200.1D ...\n"
          ]
        },
        {
          "output_type": "stream",
          "name": "stderr",
          "text": [
            " ...done. (1 seconds, 0 min)\n"
          ]
        },
        {
          "output_type": "stream",
          "name": "stdout",
          "text": [
            "Downloading data from https://s3.amazonaws.com/fcp-indi/data/Projects/ABIDE_Initiative/Outputs/cpac/filt_noglobal/rois_cc200/Pitt_0050016_rois_cc200.1D ...\n"
          ]
        },
        {
          "output_type": "stream",
          "name": "stderr",
          "text": [
            " ...done. (1 seconds, 0 min)\n"
          ]
        },
        {
          "output_type": "stream",
          "name": "stdout",
          "text": [
            "Downloading data from https://s3.amazonaws.com/fcp-indi/data/Projects/ABIDE_Initiative/Outputs/cpac/filt_noglobal/rois_cc200/Pitt_0050017_rois_cc200.1D ...\n"
          ]
        },
        {
          "output_type": "stream",
          "name": "stderr",
          "text": [
            " ...done. (1 seconds, 0 min)\n"
          ]
        },
        {
          "output_type": "stream",
          "name": "stdout",
          "text": [
            "Downloading data from https://s3.amazonaws.com/fcp-indi/data/Projects/ABIDE_Initiative/Outputs/cpac/filt_noglobal/rois_cc200/Pitt_0050019_rois_cc200.1D ...\n"
          ]
        },
        {
          "output_type": "stream",
          "name": "stderr",
          "text": [
            " ...done. (1 seconds, 0 min)\n"
          ]
        },
        {
          "output_type": "stream",
          "name": "stdout",
          "text": [
            "Downloading data from https://s3.amazonaws.com/fcp-indi/data/Projects/ABIDE_Initiative/Outputs/cpac/filt_noglobal/rois_cc200/Pitt_0050020_rois_cc200.1D ...\n"
          ]
        },
        {
          "output_type": "stream",
          "name": "stderr",
          "text": [
            " ...done. (1 seconds, 0 min)\n"
          ]
        },
        {
          "output_type": "stream",
          "name": "stdout",
          "text": [
            "Downloading data from https://s3.amazonaws.com/fcp-indi/data/Projects/ABIDE_Initiative/Outputs/cpac/filt_noglobal/rois_cc200/Pitt_0050022_rois_cc200.1D ...\n"
          ]
        },
        {
          "output_type": "stream",
          "name": "stderr",
          "text": [
            " ...done. (1 seconds, 0 min)\n"
          ]
        },
        {
          "output_type": "stream",
          "name": "stdout",
          "text": [
            "Downloading data from https://s3.amazonaws.com/fcp-indi/data/Projects/ABIDE_Initiative/Outputs/cpac/filt_noglobal/rois_cc200/Pitt_0050023_rois_cc200.1D ...\n"
          ]
        },
        {
          "output_type": "stream",
          "name": "stderr",
          "text": [
            " ...done. (1 seconds, 0 min)\n"
          ]
        },
        {
          "output_type": "stream",
          "name": "stdout",
          "text": [
            "Downloading data from https://s3.amazonaws.com/fcp-indi/data/Projects/ABIDE_Initiative/Outputs/cpac/filt_noglobal/rois_cc200/Pitt_0050024_rois_cc200.1D ...\n"
          ]
        },
        {
          "output_type": "stream",
          "name": "stderr",
          "text": [
            " ...done. (1 seconds, 0 min)\n"
          ]
        },
        {
          "output_type": "stream",
          "name": "stdout",
          "text": [
            "Downloading data from https://s3.amazonaws.com/fcp-indi/data/Projects/ABIDE_Initiative/Outputs/cpac/filt_noglobal/rois_cc200/Pitt_0050025_rois_cc200.1D ...\n"
          ]
        },
        {
          "output_type": "stream",
          "name": "stderr",
          "text": [
            " ...done. (1 seconds, 0 min)\n"
          ]
        },
        {
          "output_type": "stream",
          "name": "stdout",
          "text": [
            "Downloading data from https://s3.amazonaws.com/fcp-indi/data/Projects/ABIDE_Initiative/Outputs/cpac/filt_noglobal/rois_cc200/Pitt_0050026_rois_cc200.1D ...\n"
          ]
        },
        {
          "output_type": "stream",
          "name": "stderr",
          "text": [
            " ...done. (1 seconds, 0 min)\n"
          ]
        },
        {
          "output_type": "stream",
          "name": "stdout",
          "text": [
            "Downloading data from https://s3.amazonaws.com/fcp-indi/data/Projects/ABIDE_Initiative/Outputs/cpac/filt_noglobal/rois_cc200/Pitt_0050027_rois_cc200.1D ...\n"
          ]
        },
        {
          "output_type": "stream",
          "name": "stderr",
          "text": [
            " ...done. (1 seconds, 0 min)\n"
          ]
        },
        {
          "output_type": "stream",
          "name": "stdout",
          "text": [
            "Downloading data from https://s3.amazonaws.com/fcp-indi/data/Projects/ABIDE_Initiative/Outputs/cpac/filt_noglobal/rois_cc200/Pitt_0050028_rois_cc200.1D ...\n"
          ]
        },
        {
          "output_type": "stream",
          "name": "stderr",
          "text": [
            " ...done. (1 seconds, 0 min)\n"
          ]
        },
        {
          "output_type": "stream",
          "name": "stdout",
          "text": [
            "Downloading data from https://s3.amazonaws.com/fcp-indi/data/Projects/ABIDE_Initiative/Outputs/cpac/filt_noglobal/rois_cc200/Pitt_0050029_rois_cc200.1D ...\n"
          ]
        },
        {
          "output_type": "stream",
          "name": "stderr",
          "text": [
            " ...done. (1 seconds, 0 min)\n"
          ]
        },
        {
          "output_type": "stream",
          "name": "stdout",
          "text": [
            "Downloading data from https://s3.amazonaws.com/fcp-indi/data/Projects/ABIDE_Initiative/Outputs/cpac/filt_noglobal/rois_cc200/Pitt_0050030_rois_cc200.1D ...\n"
          ]
        },
        {
          "output_type": "stream",
          "name": "stderr",
          "text": [
            " ...done. (1 seconds, 0 min)\n"
          ]
        },
        {
          "output_type": "stream",
          "name": "stdout",
          "text": [
            "Downloading data from https://s3.amazonaws.com/fcp-indi/data/Projects/ABIDE_Initiative/Outputs/cpac/filt_noglobal/rois_cc200/Pitt_0050031_rois_cc200.1D ...\n"
          ]
        },
        {
          "output_type": "stream",
          "name": "stderr",
          "text": [
            " ...done. (1 seconds, 0 min)\n"
          ]
        },
        {
          "output_type": "stream",
          "name": "stdout",
          "text": [
            "Downloading data from https://s3.amazonaws.com/fcp-indi/data/Projects/ABIDE_Initiative/Outputs/cpac/filt_noglobal/rois_cc200/Pitt_0050032_rois_cc200.1D ...\n"
          ]
        },
        {
          "output_type": "stream",
          "name": "stderr",
          "text": [
            " ...done. (1 seconds, 0 min)\n"
          ]
        },
        {
          "output_type": "stream",
          "name": "stdout",
          "text": [
            "Downloading data from https://s3.amazonaws.com/fcp-indi/data/Projects/ABIDE_Initiative/Outputs/cpac/filt_noglobal/rois_cc200/Pitt_0050033_rois_cc200.1D ...\n"
          ]
        },
        {
          "output_type": "stream",
          "name": "stderr",
          "text": [
            " ...done. (1 seconds, 0 min)\n"
          ]
        },
        {
          "output_type": "stream",
          "name": "stdout",
          "text": [
            "Downloading data from https://s3.amazonaws.com/fcp-indi/data/Projects/ABIDE_Initiative/Outputs/cpac/filt_noglobal/rois_cc200/Pitt_0050034_rois_cc200.1D ...\n"
          ]
        },
        {
          "output_type": "stream",
          "name": "stderr",
          "text": [
            " ...done. (1 seconds, 0 min)\n"
          ]
        },
        {
          "output_type": "stream",
          "name": "stdout",
          "text": [
            "Downloading data from https://s3.amazonaws.com/fcp-indi/data/Projects/ABIDE_Initiative/Outputs/cpac/filt_noglobal/rois_cc200/Pitt_0050035_rois_cc200.1D ...\n"
          ]
        },
        {
          "output_type": "stream",
          "name": "stderr",
          "text": [
            " ...done. (1 seconds, 0 min)\n"
          ]
        },
        {
          "output_type": "stream",
          "name": "stdout",
          "text": [
            "Downloading data from https://s3.amazonaws.com/fcp-indi/data/Projects/ABIDE_Initiative/Outputs/cpac/filt_noglobal/rois_cc200/Pitt_0050036_rois_cc200.1D ...\n"
          ]
        },
        {
          "output_type": "stream",
          "name": "stderr",
          "text": [
            " ...done. (1 seconds, 0 min)\n"
          ]
        },
        {
          "output_type": "stream",
          "name": "stdout",
          "text": [
            "Downloading data from https://s3.amazonaws.com/fcp-indi/data/Projects/ABIDE_Initiative/Outputs/cpac/filt_noglobal/rois_cc200/Pitt_0050037_rois_cc200.1D ...\n"
          ]
        },
        {
          "output_type": "stream",
          "name": "stderr",
          "text": [
            " ...done. (1 seconds, 0 min)\n"
          ]
        },
        {
          "output_type": "stream",
          "name": "stdout",
          "text": [
            "Downloading data from https://s3.amazonaws.com/fcp-indi/data/Projects/ABIDE_Initiative/Outputs/cpac/filt_noglobal/rois_cc200/Pitt_0050038_rois_cc200.1D ...\n"
          ]
        },
        {
          "output_type": "stream",
          "name": "stderr",
          "text": [
            " ...done. (1 seconds, 0 min)\n"
          ]
        },
        {
          "output_type": "stream",
          "name": "stdout",
          "text": [
            "Downloading data from https://s3.amazonaws.com/fcp-indi/data/Projects/ABIDE_Initiative/Outputs/cpac/filt_noglobal/rois_cc200/Pitt_0050039_rois_cc200.1D ...\n"
          ]
        },
        {
          "output_type": "stream",
          "name": "stderr",
          "text": [
            " ...done. (1 seconds, 0 min)\n"
          ]
        },
        {
          "output_type": "stream",
          "name": "stdout",
          "text": [
            "Downloading data from https://s3.amazonaws.com/fcp-indi/data/Projects/ABIDE_Initiative/Outputs/cpac/filt_noglobal/rois_cc200/Pitt_0050040_rois_cc200.1D ...\n"
          ]
        },
        {
          "output_type": "stream",
          "name": "stderr",
          "text": [
            " ...done. (1 seconds, 0 min)\n"
          ]
        },
        {
          "output_type": "stream",
          "name": "stdout",
          "text": [
            "Downloading data from https://s3.amazonaws.com/fcp-indi/data/Projects/ABIDE_Initiative/Outputs/cpac/filt_noglobal/rois_cc200/Pitt_0050041_rois_cc200.1D ...\n"
          ]
        },
        {
          "output_type": "stream",
          "name": "stderr",
          "text": [
            " ...done. (1 seconds, 0 min)\n"
          ]
        },
        {
          "output_type": "stream",
          "name": "stdout",
          "text": [
            "Downloading data from https://s3.amazonaws.com/fcp-indi/data/Projects/ABIDE_Initiative/Outputs/cpac/filt_noglobal/rois_cc200/Pitt_0050042_rois_cc200.1D ...\n"
          ]
        },
        {
          "output_type": "stream",
          "name": "stderr",
          "text": [
            " ...done. (1 seconds, 0 min)\n"
          ]
        },
        {
          "output_type": "stream",
          "name": "stdout",
          "text": [
            "Downloading data from https://s3.amazonaws.com/fcp-indi/data/Projects/ABIDE_Initiative/Outputs/cpac/filt_noglobal/rois_cc200/Pitt_0050043_rois_cc200.1D ...\n"
          ]
        },
        {
          "output_type": "stream",
          "name": "stderr",
          "text": [
            " ...done. (1 seconds, 0 min)\n"
          ]
        },
        {
          "output_type": "stream",
          "name": "stdout",
          "text": [
            "Downloading data from https://s3.amazonaws.com/fcp-indi/data/Projects/ABIDE_Initiative/Outputs/cpac/filt_noglobal/rois_cc200/Pitt_0050044_rois_cc200.1D ...\n"
          ]
        },
        {
          "output_type": "stream",
          "name": "stderr",
          "text": [
            " ...done. (1 seconds, 0 min)\n"
          ]
        },
        {
          "output_type": "stream",
          "name": "stdout",
          "text": [
            "Downloading data from https://s3.amazonaws.com/fcp-indi/data/Projects/ABIDE_Initiative/Outputs/cpac/filt_noglobal/rois_cc200/Pitt_0050045_rois_cc200.1D ...\n"
          ]
        },
        {
          "output_type": "stream",
          "name": "stderr",
          "text": [
            " ...done. (1 seconds, 0 min)\n"
          ]
        },
        {
          "output_type": "stream",
          "name": "stdout",
          "text": [
            "Downloading data from https://s3.amazonaws.com/fcp-indi/data/Projects/ABIDE_Initiative/Outputs/cpac/filt_noglobal/rois_cc200/Pitt_0050046_rois_cc200.1D ...\n"
          ]
        },
        {
          "output_type": "stream",
          "name": "stderr",
          "text": [
            " ...done. (1 seconds, 0 min)\n"
          ]
        },
        {
          "output_type": "stream",
          "name": "stdout",
          "text": [
            "Downloading data from https://s3.amazonaws.com/fcp-indi/data/Projects/ABIDE_Initiative/Outputs/cpac/filt_noglobal/rois_cc200/Pitt_0050047_rois_cc200.1D ...\n"
          ]
        },
        {
          "output_type": "stream",
          "name": "stderr",
          "text": [
            " ...done. (1 seconds, 0 min)\n"
          ]
        },
        {
          "output_type": "stream",
          "name": "stdout",
          "text": [
            "Downloading data from https://s3.amazonaws.com/fcp-indi/data/Projects/ABIDE_Initiative/Outputs/cpac/filt_noglobal/rois_cc200/Pitt_0050048_rois_cc200.1D ...\n"
          ]
        },
        {
          "output_type": "stream",
          "name": "stderr",
          "text": [
            " ...done. (1 seconds, 0 min)\n"
          ]
        },
        {
          "output_type": "stream",
          "name": "stdout",
          "text": [
            "Downloading data from https://s3.amazonaws.com/fcp-indi/data/Projects/ABIDE_Initiative/Outputs/cpac/filt_noglobal/rois_cc200/Pitt_0050049_rois_cc200.1D ...\n"
          ]
        },
        {
          "output_type": "stream",
          "name": "stderr",
          "text": [
            " ...done. (1 seconds, 0 min)\n"
          ]
        },
        {
          "output_type": "stream",
          "name": "stdout",
          "text": [
            "Downloading data from https://s3.amazonaws.com/fcp-indi/data/Projects/ABIDE_Initiative/Outputs/cpac/filt_noglobal/rois_cc200/Pitt_0050050_rois_cc200.1D ...\n"
          ]
        },
        {
          "output_type": "stream",
          "name": "stderr",
          "text": [
            " ...done. (1 seconds, 0 min)\n"
          ]
        },
        {
          "output_type": "stream",
          "name": "stdout",
          "text": [
            "Downloading data from https://s3.amazonaws.com/fcp-indi/data/Projects/ABIDE_Initiative/Outputs/cpac/filt_noglobal/rois_cc200/Pitt_0050051_rois_cc200.1D ...\n"
          ]
        },
        {
          "output_type": "stream",
          "name": "stderr",
          "text": [
            " ...done. (1 seconds, 0 min)\n"
          ]
        },
        {
          "output_type": "stream",
          "name": "stdout",
          "text": [
            "Downloading data from https://s3.amazonaws.com/fcp-indi/data/Projects/ABIDE_Initiative/Outputs/cpac/filt_noglobal/rois_cc200/Pitt_0050052_rois_cc200.1D ...\n"
          ]
        },
        {
          "output_type": "stream",
          "name": "stderr",
          "text": [
            " ...done. (1 seconds, 0 min)\n"
          ]
        },
        {
          "output_type": "stream",
          "name": "stdout",
          "text": [
            "Downloading data from https://s3.amazonaws.com/fcp-indi/data/Projects/ABIDE_Initiative/Outputs/cpac/filt_noglobal/rois_cc200/Pitt_0050053_rois_cc200.1D ...\n"
          ]
        },
        {
          "output_type": "stream",
          "name": "stderr",
          "text": [
            " ...done. (1 seconds, 0 min)\n"
          ]
        },
        {
          "output_type": "stream",
          "name": "stdout",
          "text": [
            "Downloading data from https://s3.amazonaws.com/fcp-indi/data/Projects/ABIDE_Initiative/Outputs/cpac/filt_noglobal/rois_cc200/Pitt_0050054_rois_cc200.1D ...\n"
          ]
        },
        {
          "output_type": "stream",
          "name": "stderr",
          "text": [
            " ...done. (1 seconds, 0 min)\n"
          ]
        },
        {
          "output_type": "stream",
          "name": "stdout",
          "text": [
            "Downloading data from https://s3.amazonaws.com/fcp-indi/data/Projects/ABIDE_Initiative/Outputs/cpac/filt_noglobal/rois_cc200/Pitt_0050055_rois_cc200.1D ...\n"
          ]
        },
        {
          "output_type": "stream",
          "name": "stderr",
          "text": [
            " ...done. (1 seconds, 0 min)\n"
          ]
        },
        {
          "output_type": "stream",
          "name": "stdout",
          "text": [
            "Downloading data from https://s3.amazonaws.com/fcp-indi/data/Projects/ABIDE_Initiative/Outputs/cpac/filt_noglobal/rois_cc200/Pitt_0050056_rois_cc200.1D ...\n"
          ]
        },
        {
          "output_type": "stream",
          "name": "stderr",
          "text": [
            " ...done. (1 seconds, 0 min)\n"
          ]
        },
        {
          "output_type": "stream",
          "name": "stdout",
          "text": [
            "Downloading data from https://s3.amazonaws.com/fcp-indi/data/Projects/ABIDE_Initiative/Outputs/cpac/filt_noglobal/rois_cc200/Pitt_0050057_rois_cc200.1D ...\n"
          ]
        },
        {
          "output_type": "stream",
          "name": "stderr",
          "text": [
            " ...done. (1 seconds, 0 min)\n"
          ]
        },
        {
          "output_type": "stream",
          "name": "stdout",
          "text": [
            "Downloading data from https://s3.amazonaws.com/fcp-indi/data/Projects/ABIDE_Initiative/Outputs/cpac/filt_noglobal/rois_cc200/Pitt_0050058_rois_cc200.1D ...\n"
          ]
        },
        {
          "output_type": "stream",
          "name": "stderr",
          "text": [
            " ...done. (1 seconds, 0 min)\n"
          ]
        },
        {
          "output_type": "stream",
          "name": "stdout",
          "text": [
            "Downloading data from https://s3.amazonaws.com/fcp-indi/data/Projects/ABIDE_Initiative/Outputs/cpac/filt_noglobal/rois_cc200/Pitt_0050059_rois_cc200.1D ...\n"
          ]
        },
        {
          "output_type": "stream",
          "name": "stderr",
          "text": [
            " ...done. (1 seconds, 0 min)\n"
          ]
        },
        {
          "output_type": "stream",
          "name": "stdout",
          "text": [
            "Downloading data from https://s3.amazonaws.com/fcp-indi/data/Projects/ABIDE_Initiative/Outputs/cpac/filt_noglobal/rois_cc200/Pitt_0050060_rois_cc200.1D ...\n"
          ]
        },
        {
          "output_type": "stream",
          "name": "stderr",
          "text": [
            " ...done. (1 seconds, 0 min)\n"
          ]
        },
        {
          "output_type": "stream",
          "name": "stdout",
          "text": [
            "Downloading data from https://s3.amazonaws.com/fcp-indi/data/Projects/ABIDE_Initiative/Outputs/cpac/filt_noglobal/rois_cc200/Olin_0050102_rois_cc200.1D ...\n"
          ]
        },
        {
          "output_type": "stream",
          "name": "stderr",
          "text": [
            " ...done. (1 seconds, 0 min)\n"
          ]
        },
        {
          "output_type": "stream",
          "name": "stdout",
          "text": [
            "Downloading data from https://s3.amazonaws.com/fcp-indi/data/Projects/ABIDE_Initiative/Outputs/cpac/filt_noglobal/rois_cc200/Olin_0050103_rois_cc200.1D ...\n"
          ]
        },
        {
          "output_type": "stream",
          "name": "stderr",
          "text": [
            " ...done. (1 seconds, 0 min)\n"
          ]
        },
        {
          "output_type": "stream",
          "name": "stdout",
          "text": [
            "Downloading data from https://s3.amazonaws.com/fcp-indi/data/Projects/ABIDE_Initiative/Outputs/cpac/filt_noglobal/rois_cc200/Olin_0050104_rois_cc200.1D ...\n"
          ]
        },
        {
          "output_type": "stream",
          "name": "stderr",
          "text": [
            " ...done. (1 seconds, 0 min)\n"
          ]
        },
        {
          "output_type": "stream",
          "name": "stdout",
          "text": [
            "Downloading data from https://s3.amazonaws.com/fcp-indi/data/Projects/ABIDE_Initiative/Outputs/cpac/filt_noglobal/rois_cc200/Olin_0050105_rois_cc200.1D ...\n"
          ]
        },
        {
          "output_type": "stream",
          "name": "stderr",
          "text": [
            " ...done. (1 seconds, 0 min)\n"
          ]
        },
        {
          "output_type": "stream",
          "name": "stdout",
          "text": [
            "Downloading data from https://s3.amazonaws.com/fcp-indi/data/Projects/ABIDE_Initiative/Outputs/cpac/filt_noglobal/rois_cc200/Olin_0050106_rois_cc200.1D ...\n"
          ]
        },
        {
          "output_type": "stream",
          "name": "stderr",
          "text": [
            " ...done. (1 seconds, 0 min)\n"
          ]
        },
        {
          "output_type": "stream",
          "name": "stdout",
          "text": [
            "Downloading data from https://s3.amazonaws.com/fcp-indi/data/Projects/ABIDE_Initiative/Outputs/cpac/filt_noglobal/rois_cc200/Olin_0050107_rois_cc200.1D ...\n"
          ]
        },
        {
          "output_type": "stream",
          "name": "stderr",
          "text": [
            " ...done. (1 seconds, 0 min)\n"
          ]
        },
        {
          "output_type": "stream",
          "name": "stdout",
          "text": [
            "Downloading data from https://s3.amazonaws.com/fcp-indi/data/Projects/ABIDE_Initiative/Outputs/cpac/filt_noglobal/rois_cc200/Olin_0050109_rois_cc200.1D ...\n"
          ]
        },
        {
          "output_type": "stream",
          "name": "stderr",
          "text": [
            " ...done. (1 seconds, 0 min)\n"
          ]
        },
        {
          "output_type": "stream",
          "name": "stdout",
          "text": [
            "Downloading data from https://s3.amazonaws.com/fcp-indi/data/Projects/ABIDE_Initiative/Outputs/cpac/filt_noglobal/rois_cc200/Olin_0050110_rois_cc200.1D ...\n"
          ]
        },
        {
          "output_type": "stream",
          "name": "stderr",
          "text": [
            " ...done. (1 seconds, 0 min)\n"
          ]
        },
        {
          "output_type": "stream",
          "name": "stdout",
          "text": [
            "Downloading data from https://s3.amazonaws.com/fcp-indi/data/Projects/ABIDE_Initiative/Outputs/cpac/filt_noglobal/rois_cc200/Olin_0050111_rois_cc200.1D ...\n"
          ]
        },
        {
          "output_type": "stream",
          "name": "stderr",
          "text": [
            " ...done. (1 seconds, 0 min)\n"
          ]
        },
        {
          "output_type": "stream",
          "name": "stdout",
          "text": [
            "Downloading data from https://s3.amazonaws.com/fcp-indi/data/Projects/ABIDE_Initiative/Outputs/cpac/filt_noglobal/rois_cc200/Olin_0050112_rois_cc200.1D ...\n"
          ]
        },
        {
          "output_type": "stream",
          "name": "stderr",
          "text": [
            " ...done. (1 seconds, 0 min)\n"
          ]
        },
        {
          "output_type": "stream",
          "name": "stdout",
          "text": [
            "Downloading data from https://s3.amazonaws.com/fcp-indi/data/Projects/ABIDE_Initiative/Outputs/cpac/filt_noglobal/rois_cc200/Olin_0050113_rois_cc200.1D ...\n"
          ]
        },
        {
          "output_type": "stream",
          "name": "stderr",
          "text": [
            " ...done. (1 seconds, 0 min)\n"
          ]
        },
        {
          "output_type": "stream",
          "name": "stdout",
          "text": [
            "Downloading data from https://s3.amazonaws.com/fcp-indi/data/Projects/ABIDE_Initiative/Outputs/cpac/filt_noglobal/rois_cc200/Olin_0050114_rois_cc200.1D ...\n"
          ]
        },
        {
          "output_type": "stream",
          "name": "stderr",
          "text": [
            " ...done. (1 seconds, 0 min)\n"
          ]
        },
        {
          "output_type": "stream",
          "name": "stdout",
          "text": [
            "Downloading data from https://s3.amazonaws.com/fcp-indi/data/Projects/ABIDE_Initiative/Outputs/cpac/filt_noglobal/rois_cc200/Olin_0050115_rois_cc200.1D ...\n"
          ]
        },
        {
          "output_type": "stream",
          "name": "stderr",
          "text": [
            " ...done. (1 seconds, 0 min)\n"
          ]
        },
        {
          "output_type": "stream",
          "name": "stdout",
          "text": [
            "Downloading data from https://s3.amazonaws.com/fcp-indi/data/Projects/ABIDE_Initiative/Outputs/cpac/filt_noglobal/rois_cc200/Olin_0050116_rois_cc200.1D ...\n"
          ]
        },
        {
          "output_type": "stream",
          "name": "stderr",
          "text": [
            " ...done. (1 seconds, 0 min)\n"
          ]
        },
        {
          "output_type": "stream",
          "name": "stdout",
          "text": [
            "Downloading data from https://s3.amazonaws.com/fcp-indi/data/Projects/ABIDE_Initiative/Outputs/cpac/filt_noglobal/rois_cc200/Olin_0050117_rois_cc200.1D ...\n"
          ]
        },
        {
          "output_type": "stream",
          "name": "stderr",
          "text": [
            " ...done. (1 seconds, 0 min)\n"
          ]
        },
        {
          "output_type": "stream",
          "name": "stdout",
          "text": [
            "Downloading data from https://s3.amazonaws.com/fcp-indi/data/Projects/ABIDE_Initiative/Outputs/cpac/filt_noglobal/rois_cc200/Olin_0050118_rois_cc200.1D ...\n"
          ]
        },
        {
          "output_type": "stream",
          "name": "stderr",
          "text": [
            " ...done. (1 seconds, 0 min)\n"
          ]
        },
        {
          "output_type": "stream",
          "name": "stdout",
          "text": [
            "Downloading data from https://s3.amazonaws.com/fcp-indi/data/Projects/ABIDE_Initiative/Outputs/cpac/filt_noglobal/rois_cc200/Olin_0050119_rois_cc200.1D ...\n"
          ]
        },
        {
          "output_type": "stream",
          "name": "stderr",
          "text": [
            " ...done. (1 seconds, 0 min)\n"
          ]
        },
        {
          "output_type": "stream",
          "name": "stdout",
          "text": [
            "Downloading data from https://s3.amazonaws.com/fcp-indi/data/Projects/ABIDE_Initiative/Outputs/cpac/filt_noglobal/rois_cc200/Olin_0050120_rois_cc200.1D ...\n"
          ]
        },
        {
          "output_type": "stream",
          "name": "stderr",
          "text": [
            " ...done. (1 seconds, 0 min)\n"
          ]
        },
        {
          "output_type": "stream",
          "name": "stdout",
          "text": [
            "Downloading data from https://s3.amazonaws.com/fcp-indi/data/Projects/ABIDE_Initiative/Outputs/cpac/filt_noglobal/rois_cc200/Olin_0050121_rois_cc200.1D ...\n"
          ]
        },
        {
          "output_type": "stream",
          "name": "stderr",
          "text": [
            " ...done. (1 seconds, 0 min)\n"
          ]
        },
        {
          "output_type": "stream",
          "name": "stdout",
          "text": [
            "Downloading data from https://s3.amazonaws.com/fcp-indi/data/Projects/ABIDE_Initiative/Outputs/cpac/filt_noglobal/rois_cc200/Olin_0050122_rois_cc200.1D ...\n"
          ]
        },
        {
          "output_type": "stream",
          "name": "stderr",
          "text": [
            " ...done. (1 seconds, 0 min)\n"
          ]
        },
        {
          "output_type": "stream",
          "name": "stdout",
          "text": [
            "Downloading data from https://s3.amazonaws.com/fcp-indi/data/Projects/ABIDE_Initiative/Outputs/cpac/filt_noglobal/rois_cc200/Olin_0050123_rois_cc200.1D ...\n"
          ]
        },
        {
          "output_type": "stream",
          "name": "stderr",
          "text": [
            " ...done. (1 seconds, 0 min)\n"
          ]
        },
        {
          "output_type": "stream",
          "name": "stdout",
          "text": [
            "Downloading data from https://s3.amazonaws.com/fcp-indi/data/Projects/ABIDE_Initiative/Outputs/cpac/filt_noglobal/rois_cc200/Olin_0050124_rois_cc200.1D ...\n"
          ]
        },
        {
          "output_type": "stream",
          "name": "stderr",
          "text": [
            " ...done. (1 seconds, 0 min)\n"
          ]
        },
        {
          "output_type": "stream",
          "name": "stdout",
          "text": [
            "Downloading data from https://s3.amazonaws.com/fcp-indi/data/Projects/ABIDE_Initiative/Outputs/cpac/filt_noglobal/rois_cc200/Olin_0050125_rois_cc200.1D ...\n"
          ]
        },
        {
          "output_type": "stream",
          "name": "stderr",
          "text": [
            " ...done. (1 seconds, 0 min)\n"
          ]
        },
        {
          "output_type": "stream",
          "name": "stdout",
          "text": [
            "Downloading data from https://s3.amazonaws.com/fcp-indi/data/Projects/ABIDE_Initiative/Outputs/cpac/filt_noglobal/rois_cc200/Olin_0050126_rois_cc200.1D ...\n"
          ]
        },
        {
          "output_type": "stream",
          "name": "stderr",
          "text": [
            " ...done. (1 seconds, 0 min)\n"
          ]
        },
        {
          "output_type": "stream",
          "name": "stdout",
          "text": [
            "Downloading data from https://s3.amazonaws.com/fcp-indi/data/Projects/ABIDE_Initiative/Outputs/cpac/filt_noglobal/rois_cc200/Olin_0050127_rois_cc200.1D ...\n"
          ]
        },
        {
          "output_type": "stream",
          "name": "stderr",
          "text": [
            " ...done. (1 seconds, 0 min)\n"
          ]
        },
        {
          "output_type": "stream",
          "name": "stdout",
          "text": [
            "Downloading data from https://s3.amazonaws.com/fcp-indi/data/Projects/ABIDE_Initiative/Outputs/cpac/filt_noglobal/rois_cc200/Olin_0050128_rois_cc200.1D ...\n"
          ]
        },
        {
          "output_type": "stream",
          "name": "stderr",
          "text": [
            " ...done. (1 seconds, 0 min)\n"
          ]
        },
        {
          "output_type": "stream",
          "name": "stdout",
          "text": [
            "Downloading data from https://s3.amazonaws.com/fcp-indi/data/Projects/ABIDE_Initiative/Outputs/cpac/filt_noglobal/rois_cc200/Olin_0050129_rois_cc200.1D ...\n"
          ]
        },
        {
          "output_type": "stream",
          "name": "stderr",
          "text": [
            " ...done. (1 seconds, 0 min)\n"
          ]
        },
        {
          "output_type": "stream",
          "name": "stdout",
          "text": [
            "Downloading data from https://s3.amazonaws.com/fcp-indi/data/Projects/ABIDE_Initiative/Outputs/cpac/filt_noglobal/rois_cc200/Olin_0050130_rois_cc200.1D ...\n"
          ]
        },
        {
          "output_type": "stream",
          "name": "stderr",
          "text": [
            " ...done. (1 seconds, 0 min)\n"
          ]
        },
        {
          "output_type": "stream",
          "name": "stdout",
          "text": [
            "Downloading data from https://s3.amazonaws.com/fcp-indi/data/Projects/ABIDE_Initiative/Outputs/cpac/filt_noglobal/rois_cc200/Olin_0050131_rois_cc200.1D ...\n"
          ]
        },
        {
          "output_type": "stream",
          "name": "stderr",
          "text": [
            " ...done. (1 seconds, 0 min)\n"
          ]
        },
        {
          "output_type": "stream",
          "name": "stdout",
          "text": [
            "Downloading data from https://s3.amazonaws.com/fcp-indi/data/Projects/ABIDE_Initiative/Outputs/cpac/filt_noglobal/rois_cc200/Olin_0050132_rois_cc200.1D ...\n"
          ]
        },
        {
          "output_type": "stream",
          "name": "stderr",
          "text": [
            " ...done. (1 seconds, 0 min)\n"
          ]
        },
        {
          "output_type": "stream",
          "name": "stdout",
          "text": [
            "Downloading data from https://s3.amazonaws.com/fcp-indi/data/Projects/ABIDE_Initiative/Outputs/cpac/filt_noglobal/rois_cc200/Olin_0050133_rois_cc200.1D ...\n"
          ]
        },
        {
          "output_type": "stream",
          "name": "stderr",
          "text": [
            " ...done. (1 seconds, 0 min)\n"
          ]
        },
        {
          "output_type": "stream",
          "name": "stdout",
          "text": [
            "Downloading data from https://s3.amazonaws.com/fcp-indi/data/Projects/ABIDE_Initiative/Outputs/cpac/filt_noglobal/rois_cc200/Olin_0050134_rois_cc200.1D ...\n"
          ]
        },
        {
          "output_type": "stream",
          "name": "stderr",
          "text": [
            " ...done. (1 seconds, 0 min)\n"
          ]
        },
        {
          "output_type": "stream",
          "name": "stdout",
          "text": [
            "Downloading data from https://s3.amazonaws.com/fcp-indi/data/Projects/ABIDE_Initiative/Outputs/cpac/filt_noglobal/rois_cc200/Olin_0050135_rois_cc200.1D ...\n"
          ]
        },
        {
          "output_type": "stream",
          "name": "stderr",
          "text": [
            " ...done. (1 seconds, 0 min)\n"
          ]
        },
        {
          "output_type": "stream",
          "name": "stdout",
          "text": [
            "Downloading data from https://s3.amazonaws.com/fcp-indi/data/Projects/ABIDE_Initiative/Outputs/cpac/filt_noglobal/rois_cc200/Olin_0050136_rois_cc200.1D ...\n"
          ]
        },
        {
          "output_type": "stream",
          "name": "stderr",
          "text": [
            " ...done. (1 seconds, 0 min)\n"
          ]
        },
        {
          "output_type": "stream",
          "name": "stdout",
          "text": [
            "Downloading data from https://s3.amazonaws.com/fcp-indi/data/Projects/ABIDE_Initiative/Outputs/cpac/filt_noglobal/rois_cc200/OHSU_0050142_rois_cc200.1D ...\n"
          ]
        },
        {
          "output_type": "stream",
          "name": "stderr",
          "text": [
            " ...done. (1 seconds, 0 min)\n"
          ]
        },
        {
          "output_type": "stream",
          "name": "stdout",
          "text": [
            "Downloading data from https://s3.amazonaws.com/fcp-indi/data/Projects/ABIDE_Initiative/Outputs/cpac/filt_noglobal/rois_cc200/OHSU_0050143_rois_cc200.1D ...\n"
          ]
        },
        {
          "output_type": "stream",
          "name": "stderr",
          "text": [
            " ...done. (1 seconds, 0 min)\n"
          ]
        },
        {
          "output_type": "stream",
          "name": "stdout",
          "text": [
            "Downloading data from https://s3.amazonaws.com/fcp-indi/data/Projects/ABIDE_Initiative/Outputs/cpac/filt_noglobal/rois_cc200/OHSU_0050144_rois_cc200.1D ...\n"
          ]
        },
        {
          "output_type": "stream",
          "name": "stderr",
          "text": [
            " ...done. (1 seconds, 0 min)\n"
          ]
        },
        {
          "output_type": "stream",
          "name": "stdout",
          "text": [
            "Downloading data from https://s3.amazonaws.com/fcp-indi/data/Projects/ABIDE_Initiative/Outputs/cpac/filt_noglobal/rois_cc200/OHSU_0050145_rois_cc200.1D ...\n"
          ]
        },
        {
          "output_type": "stream",
          "name": "stderr",
          "text": [
            " ...done. (1 seconds, 0 min)\n"
          ]
        },
        {
          "output_type": "stream",
          "name": "stdout",
          "text": [
            "Downloading data from https://s3.amazonaws.com/fcp-indi/data/Projects/ABIDE_Initiative/Outputs/cpac/filt_noglobal/rois_cc200/OHSU_0050146_rois_cc200.1D ...\n"
          ]
        },
        {
          "output_type": "stream",
          "name": "stderr",
          "text": [
            " ...done. (1 seconds, 0 min)\n"
          ]
        },
        {
          "output_type": "stream",
          "name": "stdout",
          "text": [
            "Downloading data from https://s3.amazonaws.com/fcp-indi/data/Projects/ABIDE_Initiative/Outputs/cpac/filt_noglobal/rois_cc200/OHSU_0050147_rois_cc200.1D ...\n"
          ]
        },
        {
          "output_type": "stream",
          "name": "stderr",
          "text": [
            " ...done. (1 seconds, 0 min)\n"
          ]
        },
        {
          "output_type": "stream",
          "name": "stdout",
          "text": [
            "Downloading data from https://s3.amazonaws.com/fcp-indi/data/Projects/ABIDE_Initiative/Outputs/cpac/filt_noglobal/rois_cc200/OHSU_0050148_rois_cc200.1D ...\n"
          ]
        },
        {
          "output_type": "stream",
          "name": "stderr",
          "text": [
            " ...done. (1 seconds, 0 min)\n"
          ]
        },
        {
          "output_type": "stream",
          "name": "stdout",
          "text": [
            "Downloading data from https://s3.amazonaws.com/fcp-indi/data/Projects/ABIDE_Initiative/Outputs/cpac/filt_noglobal/rois_cc200/OHSU_0050149_rois_cc200.1D ...\n"
          ]
        },
        {
          "output_type": "stream",
          "name": "stderr",
          "text": [
            " ...done. (1 seconds, 0 min)\n"
          ]
        },
        {
          "output_type": "stream",
          "name": "stdout",
          "text": [
            "Downloading data from https://s3.amazonaws.com/fcp-indi/data/Projects/ABIDE_Initiative/Outputs/cpac/filt_noglobal/rois_cc200/OHSU_0050150_rois_cc200.1D ...\n"
          ]
        },
        {
          "output_type": "stream",
          "name": "stderr",
          "text": [
            " ...done. (1 seconds, 0 min)\n"
          ]
        },
        {
          "output_type": "stream",
          "name": "stdout",
          "text": [
            "Downloading data from https://s3.amazonaws.com/fcp-indi/data/Projects/ABIDE_Initiative/Outputs/cpac/filt_noglobal/rois_cc200/OHSU_0050152_rois_cc200.1D ...\n"
          ]
        },
        {
          "output_type": "stream",
          "name": "stderr",
          "text": [
            " ...done. (1 seconds, 0 min)\n"
          ]
        },
        {
          "output_type": "stream",
          "name": "stdout",
          "text": [
            "Downloading data from https://s3.amazonaws.com/fcp-indi/data/Projects/ABIDE_Initiative/Outputs/cpac/filt_noglobal/rois_cc200/OHSU_0050153_rois_cc200.1D ...\n"
          ]
        },
        {
          "output_type": "stream",
          "name": "stderr",
          "text": [
            " ...done. (1 seconds, 0 min)\n"
          ]
        },
        {
          "output_type": "stream",
          "name": "stdout",
          "text": [
            "Downloading data from https://s3.amazonaws.com/fcp-indi/data/Projects/ABIDE_Initiative/Outputs/cpac/filt_noglobal/rois_cc200/OHSU_0050156_rois_cc200.1D ...\n"
          ]
        },
        {
          "output_type": "stream",
          "name": "stderr",
          "text": [
            " ...done. (1 seconds, 0 min)\n"
          ]
        },
        {
          "output_type": "stream",
          "name": "stdout",
          "text": [
            "Downloading data from https://s3.amazonaws.com/fcp-indi/data/Projects/ABIDE_Initiative/Outputs/cpac/filt_noglobal/rois_cc200/OHSU_0050157_rois_cc200.1D ...\n"
          ]
        },
        {
          "output_type": "stream",
          "name": "stderr",
          "text": [
            " ...done. (1 seconds, 0 min)\n"
          ]
        },
        {
          "output_type": "stream",
          "name": "stdout",
          "text": [
            "Downloading data from https://s3.amazonaws.com/fcp-indi/data/Projects/ABIDE_Initiative/Outputs/cpac/filt_noglobal/rois_cc200/OHSU_0050158_rois_cc200.1D ...\n"
          ]
        },
        {
          "output_type": "stream",
          "name": "stderr",
          "text": [
            " ...done. (1 seconds, 0 min)\n"
          ]
        },
        {
          "output_type": "stream",
          "name": "stdout",
          "text": [
            "Downloading data from https://s3.amazonaws.com/fcp-indi/data/Projects/ABIDE_Initiative/Outputs/cpac/filt_noglobal/rois_cc200/OHSU_0050159_rois_cc200.1D ...\n"
          ]
        },
        {
          "output_type": "stream",
          "name": "stderr",
          "text": [
            " ...done. (1 seconds, 0 min)\n"
          ]
        },
        {
          "output_type": "stream",
          "name": "stdout",
          "text": [
            "Downloading data from https://s3.amazonaws.com/fcp-indi/data/Projects/ABIDE_Initiative/Outputs/cpac/filt_noglobal/rois_cc200/OHSU_0050160_rois_cc200.1D ...\n"
          ]
        },
        {
          "output_type": "stream",
          "name": "stderr",
          "text": [
            " ...done. (0 seconds, 0 min)\n"
          ]
        },
        {
          "output_type": "stream",
          "name": "stdout",
          "text": [
            "Downloading data from https://s3.amazonaws.com/fcp-indi/data/Projects/ABIDE_Initiative/Outputs/cpac/filt_noglobal/rois_cc200/OHSU_0050161_rois_cc200.1D ...\n"
          ]
        },
        {
          "output_type": "stream",
          "name": "stderr",
          "text": [
            " ...done. (1 seconds, 0 min)\n"
          ]
        },
        {
          "output_type": "stream",
          "name": "stdout",
          "text": [
            "Downloading data from https://s3.amazonaws.com/fcp-indi/data/Projects/ABIDE_Initiative/Outputs/cpac/filt_noglobal/rois_cc200/OHSU_0050162_rois_cc200.1D ...\n"
          ]
        },
        {
          "output_type": "stream",
          "name": "stderr",
          "text": [
            " ...done. (0 seconds, 0 min)\n"
          ]
        },
        {
          "output_type": "stream",
          "name": "stdout",
          "text": [
            "Downloading data from https://s3.amazonaws.com/fcp-indi/data/Projects/ABIDE_Initiative/Outputs/cpac/filt_noglobal/rois_cc200/OHSU_0050163_rois_cc200.1D ...\n"
          ]
        },
        {
          "output_type": "stream",
          "name": "stderr",
          "text": [
            " ...done. (1 seconds, 0 min)\n"
          ]
        },
        {
          "output_type": "stream",
          "name": "stdout",
          "text": [
            "Downloading data from https://s3.amazonaws.com/fcp-indi/data/Projects/ABIDE_Initiative/Outputs/cpac/filt_noglobal/rois_cc200/OHSU_0050164_rois_cc200.1D ...\n"
          ]
        },
        {
          "output_type": "stream",
          "name": "stderr",
          "text": [
            " ...done. (1 seconds, 0 min)\n"
          ]
        },
        {
          "output_type": "stream",
          "name": "stdout",
          "text": [
            "Downloading data from https://s3.amazonaws.com/fcp-indi/data/Projects/ABIDE_Initiative/Outputs/cpac/filt_noglobal/rois_cc200/OHSU_0050166_rois_cc200.1D ...\n"
          ]
        },
        {
          "output_type": "stream",
          "name": "stderr",
          "text": [
            " ...done. (0 seconds, 0 min)\n"
          ]
        },
        {
          "output_type": "stream",
          "name": "stdout",
          "text": [
            "Downloading data from https://s3.amazonaws.com/fcp-indi/data/Projects/ABIDE_Initiative/Outputs/cpac/filt_noglobal/rois_cc200/OHSU_0050167_rois_cc200.1D ...\n"
          ]
        },
        {
          "output_type": "stream",
          "name": "stderr",
          "text": [
            " ...done. (1 seconds, 0 min)\n"
          ]
        },
        {
          "output_type": "stream",
          "name": "stdout",
          "text": [
            "Downloading data from https://s3.amazonaws.com/fcp-indi/data/Projects/ABIDE_Initiative/Outputs/cpac/filt_noglobal/rois_cc200/OHSU_0050168_rois_cc200.1D ...\n"
          ]
        },
        {
          "output_type": "stream",
          "name": "stderr",
          "text": [
            " ...done. (1 seconds, 0 min)\n"
          ]
        },
        {
          "output_type": "stream",
          "name": "stdout",
          "text": [
            "Downloading data from https://s3.amazonaws.com/fcp-indi/data/Projects/ABIDE_Initiative/Outputs/cpac/filt_noglobal/rois_cc200/OHSU_0050169_rois_cc200.1D ...\n"
          ]
        },
        {
          "output_type": "stream",
          "name": "stderr",
          "text": [
            " ...done. (1 seconds, 0 min)\n"
          ]
        },
        {
          "output_type": "stream",
          "name": "stdout",
          "text": [
            "Downloading data from https://s3.amazonaws.com/fcp-indi/data/Projects/ABIDE_Initiative/Outputs/cpac/filt_noglobal/rois_cc200/OHSU_0050170_rois_cc200.1D ...\n"
          ]
        },
        {
          "output_type": "stream",
          "name": "stderr",
          "text": [
            " ...done. (1 seconds, 0 min)\n"
          ]
        },
        {
          "output_type": "stream",
          "name": "stdout",
          "text": [
            "Downloading data from https://s3.amazonaws.com/fcp-indi/data/Projects/ABIDE_Initiative/Outputs/cpac/filt_noglobal/rois_cc200/OHSU_0050171_rois_cc200.1D ...\n"
          ]
        },
        {
          "output_type": "stream",
          "name": "stderr",
          "text": [
            " ...done. (1 seconds, 0 min)\n"
          ]
        },
        {
          "output_type": "stream",
          "name": "stdout",
          "text": [
            "Downloading data from https://s3.amazonaws.com/fcp-indi/data/Projects/ABIDE_Initiative/Outputs/cpac/filt_noglobal/rois_cc200/SDSU_0050182_rois_cc200.1D ...\n"
          ]
        },
        {
          "output_type": "stream",
          "name": "stderr",
          "text": [
            " ...done. (1 seconds, 0 min)\n"
          ]
        },
        {
          "output_type": "stream",
          "name": "stdout",
          "text": [
            "Downloading data from https://s3.amazonaws.com/fcp-indi/data/Projects/ABIDE_Initiative/Outputs/cpac/filt_noglobal/rois_cc200/SDSU_0050183_rois_cc200.1D ...\n"
          ]
        },
        {
          "output_type": "stream",
          "name": "stderr",
          "text": [
            " ...done. (1 seconds, 0 min)\n"
          ]
        },
        {
          "output_type": "stream",
          "name": "stdout",
          "text": [
            "Downloading data from https://s3.amazonaws.com/fcp-indi/data/Projects/ABIDE_Initiative/Outputs/cpac/filt_noglobal/rois_cc200/SDSU_0050184_rois_cc200.1D ...\n"
          ]
        },
        {
          "output_type": "stream",
          "name": "stderr",
          "text": [
            " ...done. (1 seconds, 0 min)\n"
          ]
        },
        {
          "output_type": "stream",
          "name": "stdout",
          "text": [
            "Downloading data from https://s3.amazonaws.com/fcp-indi/data/Projects/ABIDE_Initiative/Outputs/cpac/filt_noglobal/rois_cc200/SDSU_0050185_rois_cc200.1D ...\n"
          ]
        },
        {
          "output_type": "stream",
          "name": "stderr",
          "text": [
            " ...done. (1 seconds, 0 min)\n"
          ]
        },
        {
          "output_type": "stream",
          "name": "stdout",
          "text": [
            "Downloading data from https://s3.amazonaws.com/fcp-indi/data/Projects/ABIDE_Initiative/Outputs/cpac/filt_noglobal/rois_cc200/SDSU_0050186_rois_cc200.1D ...\n"
          ]
        },
        {
          "output_type": "stream",
          "name": "stderr",
          "text": [
            " ...done. (1 seconds, 0 min)\n"
          ]
        },
        {
          "output_type": "stream",
          "name": "stdout",
          "text": [
            "Downloading data from https://s3.amazonaws.com/fcp-indi/data/Projects/ABIDE_Initiative/Outputs/cpac/filt_noglobal/rois_cc200/SDSU_0050187_rois_cc200.1D ...\n"
          ]
        },
        {
          "output_type": "stream",
          "name": "stderr",
          "text": [
            " ...done. (1 seconds, 0 min)\n"
          ]
        },
        {
          "output_type": "stream",
          "name": "stdout",
          "text": [
            "Downloading data from https://s3.amazonaws.com/fcp-indi/data/Projects/ABIDE_Initiative/Outputs/cpac/filt_noglobal/rois_cc200/SDSU_0050188_rois_cc200.1D ...\n"
          ]
        },
        {
          "output_type": "stream",
          "name": "stderr",
          "text": [
            " ...done. (1 seconds, 0 min)\n"
          ]
        },
        {
          "output_type": "stream",
          "name": "stdout",
          "text": [
            "Downloading data from https://s3.amazonaws.com/fcp-indi/data/Projects/ABIDE_Initiative/Outputs/cpac/filt_noglobal/rois_cc200/SDSU_0050189_rois_cc200.1D ...\n"
          ]
        },
        {
          "output_type": "stream",
          "name": "stderr",
          "text": [
            " ...done. (1 seconds, 0 min)\n"
          ]
        },
        {
          "output_type": "stream",
          "name": "stdout",
          "text": [
            "Downloading data from https://s3.amazonaws.com/fcp-indi/data/Projects/ABIDE_Initiative/Outputs/cpac/filt_noglobal/rois_cc200/SDSU_0050190_rois_cc200.1D ...\n"
          ]
        },
        {
          "output_type": "stream",
          "name": "stderr",
          "text": [
            " ...done. (1 seconds, 0 min)\n"
          ]
        },
        {
          "output_type": "stream",
          "name": "stdout",
          "text": [
            "Downloading data from https://s3.amazonaws.com/fcp-indi/data/Projects/ABIDE_Initiative/Outputs/cpac/filt_noglobal/rois_cc200/SDSU_0050191_rois_cc200.1D ...\n"
          ]
        },
        {
          "output_type": "stream",
          "name": "stderr",
          "text": [
            " ...done. (1 seconds, 0 min)\n"
          ]
        },
        {
          "output_type": "stream",
          "name": "stdout",
          "text": [
            "Downloading data from https://s3.amazonaws.com/fcp-indi/data/Projects/ABIDE_Initiative/Outputs/cpac/filt_noglobal/rois_cc200/SDSU_0050192_rois_cc200.1D ...\n"
          ]
        },
        {
          "output_type": "stream",
          "name": "stderr",
          "text": [
            " ...done. (1 seconds, 0 min)\n"
          ]
        },
        {
          "output_type": "stream",
          "name": "stdout",
          "text": [
            "Downloading data from https://s3.amazonaws.com/fcp-indi/data/Projects/ABIDE_Initiative/Outputs/cpac/filt_noglobal/rois_cc200/SDSU_0050193_rois_cc200.1D ...\n"
          ]
        },
        {
          "output_type": "stream",
          "name": "stderr",
          "text": [
            " ...done. (1 seconds, 0 min)\n"
          ]
        },
        {
          "output_type": "stream",
          "name": "stdout",
          "text": [
            "Downloading data from https://s3.amazonaws.com/fcp-indi/data/Projects/ABIDE_Initiative/Outputs/cpac/filt_noglobal/rois_cc200/SDSU_0050194_rois_cc200.1D ...\n"
          ]
        },
        {
          "output_type": "stream",
          "name": "stderr",
          "text": [
            " ...done. (1 seconds, 0 min)\n"
          ]
        },
        {
          "output_type": "stream",
          "name": "stdout",
          "text": [
            "Downloading data from https://s3.amazonaws.com/fcp-indi/data/Projects/ABIDE_Initiative/Outputs/cpac/filt_noglobal/rois_cc200/SDSU_0050195_rois_cc200.1D ...\n"
          ]
        },
        {
          "output_type": "stream",
          "name": "stderr",
          "text": [
            " ...done. (1 seconds, 0 min)\n"
          ]
        },
        {
          "output_type": "stream",
          "name": "stdout",
          "text": [
            "Downloading data from https://s3.amazonaws.com/fcp-indi/data/Projects/ABIDE_Initiative/Outputs/cpac/filt_noglobal/rois_cc200/SDSU_0050196_rois_cc200.1D ...\n"
          ]
        },
        {
          "output_type": "stream",
          "name": "stderr",
          "text": [
            " ...done. (1 seconds, 0 min)\n"
          ]
        },
        {
          "output_type": "stream",
          "name": "stdout",
          "text": [
            "Downloading data from https://s3.amazonaws.com/fcp-indi/data/Projects/ABIDE_Initiative/Outputs/cpac/filt_noglobal/rois_cc200/SDSU_0050197_rois_cc200.1D ...\n"
          ]
        },
        {
          "output_type": "stream",
          "name": "stderr",
          "text": [
            " ...done. (1 seconds, 0 min)\n"
          ]
        },
        {
          "output_type": "stream",
          "name": "stdout",
          "text": [
            "Downloading data from https://s3.amazonaws.com/fcp-indi/data/Projects/ABIDE_Initiative/Outputs/cpac/filt_noglobal/rois_cc200/SDSU_0050198_rois_cc200.1D ...\n"
          ]
        },
        {
          "output_type": "stream",
          "name": "stderr",
          "text": [
            " ...done. (1 seconds, 0 min)\n"
          ]
        },
        {
          "output_type": "stream",
          "name": "stdout",
          "text": [
            "Downloading data from https://s3.amazonaws.com/fcp-indi/data/Projects/ABIDE_Initiative/Outputs/cpac/filt_noglobal/rois_cc200/SDSU_0050199_rois_cc200.1D ...\n"
          ]
        },
        {
          "output_type": "stream",
          "name": "stderr",
          "text": [
            " ...done. (1 seconds, 0 min)\n"
          ]
        },
        {
          "output_type": "stream",
          "name": "stdout",
          "text": [
            "Downloading data from https://s3.amazonaws.com/fcp-indi/data/Projects/ABIDE_Initiative/Outputs/cpac/filt_noglobal/rois_cc200/SDSU_0050200_rois_cc200.1D ...\n"
          ]
        },
        {
          "output_type": "stream",
          "name": "stderr",
          "text": [
            " ...done. (1 seconds, 0 min)\n"
          ]
        },
        {
          "output_type": "stream",
          "name": "stdout",
          "text": [
            "Downloading data from https://s3.amazonaws.com/fcp-indi/data/Projects/ABIDE_Initiative/Outputs/cpac/filt_noglobal/rois_cc200/SDSU_0050201_rois_cc200.1D ...\n"
          ]
        },
        {
          "output_type": "stream",
          "name": "stderr",
          "text": [
            " ...done. (1 seconds, 0 min)\n"
          ]
        },
        {
          "output_type": "stream",
          "name": "stdout",
          "text": [
            "Downloading data from https://s3.amazonaws.com/fcp-indi/data/Projects/ABIDE_Initiative/Outputs/cpac/filt_noglobal/rois_cc200/SDSU_0050202_rois_cc200.1D ...\n"
          ]
        },
        {
          "output_type": "stream",
          "name": "stderr",
          "text": [
            " ...done. (1 seconds, 0 min)\n"
          ]
        },
        {
          "output_type": "stream",
          "name": "stdout",
          "text": [
            "Downloading data from https://s3.amazonaws.com/fcp-indi/data/Projects/ABIDE_Initiative/Outputs/cpac/filt_noglobal/rois_cc200/SDSU_0050203_rois_cc200.1D ...\n"
          ]
        },
        {
          "output_type": "stream",
          "name": "stderr",
          "text": [
            " ...done. (1 seconds, 0 min)\n"
          ]
        },
        {
          "output_type": "stream",
          "name": "stdout",
          "text": [
            "Downloading data from https://s3.amazonaws.com/fcp-indi/data/Projects/ABIDE_Initiative/Outputs/cpac/filt_noglobal/rois_cc200/SDSU_0050204_rois_cc200.1D ...\n"
          ]
        },
        {
          "output_type": "stream",
          "name": "stderr",
          "text": [
            " ...done. (1 seconds, 0 min)\n"
          ]
        },
        {
          "output_type": "stream",
          "name": "stdout",
          "text": [
            "Downloading data from https://s3.amazonaws.com/fcp-indi/data/Projects/ABIDE_Initiative/Outputs/cpac/filt_noglobal/rois_cc200/SDSU_0050205_rois_cc200.1D ...\n"
          ]
        },
        {
          "output_type": "stream",
          "name": "stderr",
          "text": [
            " ...done. (1 seconds, 0 min)\n"
          ]
        },
        {
          "output_type": "stream",
          "name": "stdout",
          "text": [
            "Downloading data from https://s3.amazonaws.com/fcp-indi/data/Projects/ABIDE_Initiative/Outputs/cpac/filt_noglobal/rois_cc200/SDSU_0050206_rois_cc200.1D ...\n"
          ]
        },
        {
          "output_type": "stream",
          "name": "stderr",
          "text": [
            " ...done. (1 seconds, 0 min)\n"
          ]
        },
        {
          "output_type": "stream",
          "name": "stdout",
          "text": [
            "Downloading data from https://s3.amazonaws.com/fcp-indi/data/Projects/ABIDE_Initiative/Outputs/cpac/filt_noglobal/rois_cc200/SDSU_0050207_rois_cc200.1D ...\n"
          ]
        },
        {
          "output_type": "stream",
          "name": "stderr",
          "text": [
            " ...done. (1 seconds, 0 min)\n"
          ]
        },
        {
          "output_type": "stream",
          "name": "stdout",
          "text": [
            "Downloading data from https://s3.amazonaws.com/fcp-indi/data/Projects/ABIDE_Initiative/Outputs/cpac/filt_noglobal/rois_cc200/SDSU_0050208_rois_cc200.1D ...\n"
          ]
        },
        {
          "output_type": "stream",
          "name": "stderr",
          "text": [
            " ...done. (1 seconds, 0 min)\n"
          ]
        },
        {
          "output_type": "stream",
          "name": "stdout",
          "text": [
            "Downloading data from https://s3.amazonaws.com/fcp-indi/data/Projects/ABIDE_Initiative/Outputs/cpac/filt_noglobal/rois_cc200/SDSU_0050209_rois_cc200.1D ...\n"
          ]
        },
        {
          "output_type": "stream",
          "name": "stderr",
          "text": [
            " ...done. (1 seconds, 0 min)\n"
          ]
        },
        {
          "output_type": "stream",
          "name": "stdout",
          "text": [
            "Downloading data from https://s3.amazonaws.com/fcp-indi/data/Projects/ABIDE_Initiative/Outputs/cpac/filt_noglobal/rois_cc200/SDSU_0050210_rois_cc200.1D ...\n"
          ]
        },
        {
          "output_type": "stream",
          "name": "stderr",
          "text": [
            " ...done. (1 seconds, 0 min)\n"
          ]
        },
        {
          "output_type": "stream",
          "name": "stdout",
          "text": [
            "Downloading data from https://s3.amazonaws.com/fcp-indi/data/Projects/ABIDE_Initiative/Outputs/cpac/filt_noglobal/rois_cc200/SDSU_0050211_rois_cc200.1D ...\n"
          ]
        },
        {
          "output_type": "stream",
          "name": "stderr",
          "text": [
            " ...done. (1 seconds, 0 min)\n"
          ]
        },
        {
          "output_type": "stream",
          "name": "stdout",
          "text": [
            "Downloading data from https://s3.amazonaws.com/fcp-indi/data/Projects/ABIDE_Initiative/Outputs/cpac/filt_noglobal/rois_cc200/SDSU_0050212_rois_cc200.1D ...\n"
          ]
        },
        {
          "output_type": "stream",
          "name": "stderr",
          "text": [
            " ...done. (1 seconds, 0 min)\n"
          ]
        },
        {
          "output_type": "stream",
          "name": "stdout",
          "text": [
            "Downloading data from https://s3.amazonaws.com/fcp-indi/data/Projects/ABIDE_Initiative/Outputs/cpac/filt_noglobal/rois_cc200/SDSU_0050213_rois_cc200.1D ...\n"
          ]
        },
        {
          "output_type": "stream",
          "name": "stderr",
          "text": [
            " ...done. (1 seconds, 0 min)\n"
          ]
        },
        {
          "output_type": "stream",
          "name": "stdout",
          "text": [
            "Downloading data from https://s3.amazonaws.com/fcp-indi/data/Projects/ABIDE_Initiative/Outputs/cpac/filt_noglobal/rois_cc200/SDSU_0050214_rois_cc200.1D ...\n"
          ]
        },
        {
          "output_type": "stream",
          "name": "stderr",
          "text": [
            " ...done. (1 seconds, 0 min)\n"
          ]
        },
        {
          "output_type": "stream",
          "name": "stdout",
          "text": [
            "Downloading data from https://s3.amazonaws.com/fcp-indi/data/Projects/ABIDE_Initiative/Outputs/cpac/filt_noglobal/rois_cc200/SDSU_0050215_rois_cc200.1D ...\n"
          ]
        },
        {
          "output_type": "stream",
          "name": "stderr",
          "text": [
            " ...done. (1 seconds, 0 min)\n"
          ]
        },
        {
          "output_type": "stream",
          "name": "stdout",
          "text": [
            "Downloading data from https://s3.amazonaws.com/fcp-indi/data/Projects/ABIDE_Initiative/Outputs/cpac/filt_noglobal/rois_cc200/SDSU_0050216_rois_cc200.1D ...\n"
          ]
        },
        {
          "output_type": "stream",
          "name": "stderr",
          "text": [
            " ...done. (1 seconds, 0 min)\n"
          ]
        },
        {
          "output_type": "stream",
          "name": "stdout",
          "text": [
            "Downloading data from https://s3.amazonaws.com/fcp-indi/data/Projects/ABIDE_Initiative/Outputs/cpac/filt_noglobal/rois_cc200/SDSU_0050217_rois_cc200.1D ...\n"
          ]
        },
        {
          "output_type": "stream",
          "name": "stderr",
          "text": [
            " ...done. (1 seconds, 0 min)\n"
          ]
        },
        {
          "output_type": "stream",
          "name": "stdout",
          "text": [
            "Downloading data from https://s3.amazonaws.com/fcp-indi/data/Projects/ABIDE_Initiative/Outputs/cpac/filt_noglobal/rois_cc200/Trinity_0050232_rois_cc200.1D ...\n"
          ]
        },
        {
          "output_type": "stream",
          "name": "stderr",
          "text": [
            " ...done. (1 seconds, 0 min)\n"
          ]
        },
        {
          "output_type": "stream",
          "name": "stdout",
          "text": [
            "Downloading data from https://s3.amazonaws.com/fcp-indi/data/Projects/ABIDE_Initiative/Outputs/cpac/filt_noglobal/rois_cc200/Trinity_0050233_rois_cc200.1D ...\n"
          ]
        },
        {
          "output_type": "stream",
          "name": "stderr",
          "text": [
            " ...done. (1 seconds, 0 min)\n"
          ]
        },
        {
          "output_type": "stream",
          "name": "stdout",
          "text": [
            "Downloading data from https://s3.amazonaws.com/fcp-indi/data/Projects/ABIDE_Initiative/Outputs/cpac/filt_noglobal/rois_cc200/Trinity_0050234_rois_cc200.1D ...\n"
          ]
        },
        {
          "output_type": "stream",
          "name": "stderr",
          "text": [
            " ...done. (1 seconds, 0 min)\n"
          ]
        },
        {
          "output_type": "stream",
          "name": "stdout",
          "text": [
            "Downloading data from https://s3.amazonaws.com/fcp-indi/data/Projects/ABIDE_Initiative/Outputs/cpac/filt_noglobal/rois_cc200/Trinity_0050235_rois_cc200.1D ...\n"
          ]
        },
        {
          "output_type": "stream",
          "name": "stderr",
          "text": [
            " ...done. (1 seconds, 0 min)\n"
          ]
        },
        {
          "output_type": "stream",
          "name": "stdout",
          "text": [
            "Downloading data from https://s3.amazonaws.com/fcp-indi/data/Projects/ABIDE_Initiative/Outputs/cpac/filt_noglobal/rois_cc200/Trinity_0050236_rois_cc200.1D ...\n"
          ]
        },
        {
          "output_type": "stream",
          "name": "stderr",
          "text": [
            " ...done. (1 seconds, 0 min)\n"
          ]
        },
        {
          "output_type": "stream",
          "name": "stdout",
          "text": [
            "Downloading data from https://s3.amazonaws.com/fcp-indi/data/Projects/ABIDE_Initiative/Outputs/cpac/filt_noglobal/rois_cc200/Trinity_0050237_rois_cc200.1D ...\n"
          ]
        },
        {
          "output_type": "stream",
          "name": "stderr",
          "text": [
            " ...done. (1 seconds, 0 min)\n"
          ]
        },
        {
          "output_type": "stream",
          "name": "stdout",
          "text": [
            "Downloading data from https://s3.amazonaws.com/fcp-indi/data/Projects/ABIDE_Initiative/Outputs/cpac/filt_noglobal/rois_cc200/Trinity_0050239_rois_cc200.1D ...\n"
          ]
        },
        {
          "output_type": "stream",
          "name": "stderr",
          "text": [
            " ...done. (1 seconds, 0 min)\n"
          ]
        },
        {
          "output_type": "stream",
          "name": "stdout",
          "text": [
            "Downloading data from https://s3.amazonaws.com/fcp-indi/data/Projects/ABIDE_Initiative/Outputs/cpac/filt_noglobal/rois_cc200/Trinity_0050240_rois_cc200.1D ...\n"
          ]
        },
        {
          "output_type": "stream",
          "name": "stderr",
          "text": [
            " ...done. (1 seconds, 0 min)\n"
          ]
        },
        {
          "output_type": "stream",
          "name": "stdout",
          "text": [
            "Downloading data from https://s3.amazonaws.com/fcp-indi/data/Projects/ABIDE_Initiative/Outputs/cpac/filt_noglobal/rois_cc200/Trinity_0050241_rois_cc200.1D ...\n"
          ]
        },
        {
          "output_type": "stream",
          "name": "stderr",
          "text": [
            " ...done. (1 seconds, 0 min)\n"
          ]
        },
        {
          "output_type": "stream",
          "name": "stdout",
          "text": [
            "Downloading data from https://s3.amazonaws.com/fcp-indi/data/Projects/ABIDE_Initiative/Outputs/cpac/filt_noglobal/rois_cc200/Trinity_0050242_rois_cc200.1D ...\n"
          ]
        },
        {
          "output_type": "stream",
          "name": "stderr",
          "text": [
            " ...done. (1 seconds, 0 min)\n"
          ]
        },
        {
          "output_type": "stream",
          "name": "stdout",
          "text": [
            "Downloading data from https://s3.amazonaws.com/fcp-indi/data/Projects/ABIDE_Initiative/Outputs/cpac/filt_noglobal/rois_cc200/Trinity_0050243_rois_cc200.1D ...\n"
          ]
        },
        {
          "output_type": "stream",
          "name": "stderr",
          "text": [
            " ...done. (1 seconds, 0 min)\n"
          ]
        },
        {
          "output_type": "stream",
          "name": "stdout",
          "text": [
            "Downloading data from https://s3.amazonaws.com/fcp-indi/data/Projects/ABIDE_Initiative/Outputs/cpac/filt_noglobal/rois_cc200/Trinity_0050245_rois_cc200.1D ...\n"
          ]
        },
        {
          "output_type": "stream",
          "name": "stderr",
          "text": [
            " ...done. (1 seconds, 0 min)\n"
          ]
        },
        {
          "output_type": "stream",
          "name": "stdout",
          "text": [
            "Downloading data from https://s3.amazonaws.com/fcp-indi/data/Projects/ABIDE_Initiative/Outputs/cpac/filt_noglobal/rois_cc200/Trinity_0050246_rois_cc200.1D ...\n"
          ]
        },
        {
          "output_type": "stream",
          "name": "stderr",
          "text": [
            " ...done. (1 seconds, 0 min)\n"
          ]
        },
        {
          "output_type": "stream",
          "name": "stdout",
          "text": [
            "Downloading data from https://s3.amazonaws.com/fcp-indi/data/Projects/ABIDE_Initiative/Outputs/cpac/filt_noglobal/rois_cc200/Trinity_0050247_rois_cc200.1D ...\n"
          ]
        },
        {
          "output_type": "stream",
          "name": "stderr",
          "text": [
            " ...done. (1 seconds, 0 min)\n"
          ]
        },
        {
          "output_type": "stream",
          "name": "stdout",
          "text": [
            "Downloading data from https://s3.amazonaws.com/fcp-indi/data/Projects/ABIDE_Initiative/Outputs/cpac/filt_noglobal/rois_cc200/Trinity_0050248_rois_cc200.1D ...\n"
          ]
        },
        {
          "output_type": "stream",
          "name": "stderr",
          "text": [
            " ...done. (1 seconds, 0 min)\n"
          ]
        },
        {
          "output_type": "stream",
          "name": "stdout",
          "text": [
            "Downloading data from https://s3.amazonaws.com/fcp-indi/data/Projects/ABIDE_Initiative/Outputs/cpac/filt_noglobal/rois_cc200/Trinity_0050249_rois_cc200.1D ...\n"
          ]
        },
        {
          "output_type": "stream",
          "name": "stderr",
          "text": [
            " ...done. (1 seconds, 0 min)\n"
          ]
        },
        {
          "output_type": "stream",
          "name": "stdout",
          "text": [
            "Downloading data from https://s3.amazonaws.com/fcp-indi/data/Projects/ABIDE_Initiative/Outputs/cpac/filt_noglobal/rois_cc200/Trinity_0050250_rois_cc200.1D ...\n"
          ]
        },
        {
          "output_type": "stream",
          "name": "stderr",
          "text": [
            " ...done. (1 seconds, 0 min)\n"
          ]
        },
        {
          "output_type": "stream",
          "name": "stdout",
          "text": [
            "Downloading data from https://s3.amazonaws.com/fcp-indi/data/Projects/ABIDE_Initiative/Outputs/cpac/filt_noglobal/rois_cc200/Trinity_0050251_rois_cc200.1D ...\n"
          ]
        },
        {
          "output_type": "stream",
          "name": "stderr",
          "text": [
            " ...done. (1 seconds, 0 min)\n"
          ]
        },
        {
          "output_type": "stream",
          "name": "stdout",
          "text": [
            "Downloading data from https://s3.amazonaws.com/fcp-indi/data/Projects/ABIDE_Initiative/Outputs/cpac/filt_noglobal/rois_cc200/Trinity_0050252_rois_cc200.1D ...\n"
          ]
        },
        {
          "output_type": "stream",
          "name": "stderr",
          "text": [
            " ...done. (1 seconds, 0 min)\n"
          ]
        },
        {
          "output_type": "stream",
          "name": "stdout",
          "text": [
            "Downloading data from https://s3.amazonaws.com/fcp-indi/data/Projects/ABIDE_Initiative/Outputs/cpac/filt_noglobal/rois_cc200/Trinity_0050253_rois_cc200.1D ...\n"
          ]
        },
        {
          "output_type": "stream",
          "name": "stderr",
          "text": [
            " ...done. (1 seconds, 0 min)\n"
          ]
        },
        {
          "output_type": "stream",
          "name": "stdout",
          "text": [
            "Downloading data from https://s3.amazonaws.com/fcp-indi/data/Projects/ABIDE_Initiative/Outputs/cpac/filt_noglobal/rois_cc200/Trinity_0050254_rois_cc200.1D ...\n"
          ]
        },
        {
          "output_type": "stream",
          "name": "stderr",
          "text": [
            " ...done. (1 seconds, 0 min)\n"
          ]
        },
        {
          "output_type": "stream",
          "name": "stdout",
          "text": [
            "Downloading data from https://s3.amazonaws.com/fcp-indi/data/Projects/ABIDE_Initiative/Outputs/cpac/filt_noglobal/rois_cc200/Trinity_0050255_rois_cc200.1D ...\n"
          ]
        },
        {
          "output_type": "stream",
          "name": "stderr",
          "text": [
            " ...done. (1 seconds, 0 min)\n"
          ]
        },
        {
          "output_type": "stream",
          "name": "stdout",
          "text": [
            "Downloading data from https://s3.amazonaws.com/fcp-indi/data/Projects/ABIDE_Initiative/Outputs/cpac/filt_noglobal/rois_cc200/Trinity_0050257_rois_cc200.1D ...\n"
          ]
        },
        {
          "output_type": "stream",
          "name": "stderr",
          "text": [
            " ...done. (1 seconds, 0 min)\n"
          ]
        },
        {
          "output_type": "stream",
          "name": "stdout",
          "text": [
            "Downloading data from https://s3.amazonaws.com/fcp-indi/data/Projects/ABIDE_Initiative/Outputs/cpac/filt_noglobal/rois_cc200/Trinity_0050259_rois_cc200.1D ...\n"
          ]
        },
        {
          "output_type": "stream",
          "name": "stderr",
          "text": [
            " ...done. (1 seconds, 0 min)\n"
          ]
        },
        {
          "output_type": "stream",
          "name": "stdout",
          "text": [
            "Downloading data from https://s3.amazonaws.com/fcp-indi/data/Projects/ABIDE_Initiative/Outputs/cpac/filt_noglobal/rois_cc200/Trinity_0050260_rois_cc200.1D ...\n"
          ]
        },
        {
          "output_type": "stream",
          "name": "stderr",
          "text": [
            " ...done. (1 seconds, 0 min)\n"
          ]
        },
        {
          "output_type": "stream",
          "name": "stdout",
          "text": [
            "Downloading data from https://s3.amazonaws.com/fcp-indi/data/Projects/ABIDE_Initiative/Outputs/cpac/filt_noglobal/rois_cc200/Trinity_0050261_rois_cc200.1D ...\n"
          ]
        },
        {
          "output_type": "stream",
          "name": "stderr",
          "text": [
            " ...done. (1 seconds, 0 min)\n"
          ]
        },
        {
          "output_type": "stream",
          "name": "stdout",
          "text": [
            "Downloading data from https://s3.amazonaws.com/fcp-indi/data/Projects/ABIDE_Initiative/Outputs/cpac/filt_noglobal/rois_cc200/Trinity_0050262_rois_cc200.1D ...\n"
          ]
        },
        {
          "output_type": "stream",
          "name": "stderr",
          "text": [
            " ...done. (1 seconds, 0 min)\n"
          ]
        },
        {
          "output_type": "stream",
          "name": "stdout",
          "text": [
            "Downloading data from https://s3.amazonaws.com/fcp-indi/data/Projects/ABIDE_Initiative/Outputs/cpac/filt_noglobal/rois_cc200/Trinity_0050263_rois_cc200.1D ...\n"
          ]
        },
        {
          "output_type": "stream",
          "name": "stderr",
          "text": [
            " ...done. (1 seconds, 0 min)\n"
          ]
        },
        {
          "output_type": "stream",
          "name": "stdout",
          "text": [
            "Downloading data from https://s3.amazonaws.com/fcp-indi/data/Projects/ABIDE_Initiative/Outputs/cpac/filt_noglobal/rois_cc200/Trinity_0050264_rois_cc200.1D ...\n"
          ]
        },
        {
          "output_type": "stream",
          "name": "stderr",
          "text": [
            " ...done. (1 seconds, 0 min)\n"
          ]
        },
        {
          "output_type": "stream",
          "name": "stdout",
          "text": [
            "Downloading data from https://s3.amazonaws.com/fcp-indi/data/Projects/ABIDE_Initiative/Outputs/cpac/filt_noglobal/rois_cc200/Trinity_0050265_rois_cc200.1D ...\n"
          ]
        },
        {
          "output_type": "stream",
          "name": "stderr",
          "text": [
            " ...done. (1 seconds, 0 min)\n"
          ]
        },
        {
          "output_type": "stream",
          "name": "stdout",
          "text": [
            "Downloading data from https://s3.amazonaws.com/fcp-indi/data/Projects/ABIDE_Initiative/Outputs/cpac/filt_noglobal/rois_cc200/Trinity_0050266_rois_cc200.1D ...\n"
          ]
        },
        {
          "output_type": "stream",
          "name": "stderr",
          "text": [
            " ...done. (1 seconds, 0 min)\n"
          ]
        },
        {
          "output_type": "stream",
          "name": "stdout",
          "text": [
            "Downloading data from https://s3.amazonaws.com/fcp-indi/data/Projects/ABIDE_Initiative/Outputs/cpac/filt_noglobal/rois_cc200/Trinity_0050267_rois_cc200.1D ...\n"
          ]
        },
        {
          "output_type": "stream",
          "name": "stderr",
          "text": [
            " ...done. (1 seconds, 0 min)\n"
          ]
        },
        {
          "output_type": "stream",
          "name": "stdout",
          "text": [
            "Downloading data from https://s3.amazonaws.com/fcp-indi/data/Projects/ABIDE_Initiative/Outputs/cpac/filt_noglobal/rois_cc200/Trinity_0050268_rois_cc200.1D ...\n"
          ]
        },
        {
          "output_type": "stream",
          "name": "stderr",
          "text": [
            " ...done. (1 seconds, 0 min)\n"
          ]
        },
        {
          "output_type": "stream",
          "name": "stdout",
          "text": [
            "Downloading data from https://s3.amazonaws.com/fcp-indi/data/Projects/ABIDE_Initiative/Outputs/cpac/filt_noglobal/rois_cc200/Trinity_0050269_rois_cc200.1D ...\n"
          ]
        },
        {
          "output_type": "stream",
          "name": "stderr",
          "text": [
            " ...done. (1 seconds, 0 min)\n"
          ]
        },
        {
          "output_type": "stream",
          "name": "stdout",
          "text": [
            "Downloading data from https://s3.amazonaws.com/fcp-indi/data/Projects/ABIDE_Initiative/Outputs/cpac/filt_noglobal/rois_cc200/Trinity_0050270_rois_cc200.1D ...\n"
          ]
        },
        {
          "output_type": "stream",
          "name": "stderr",
          "text": [
            " ...done. (1 seconds, 0 min)\n"
          ]
        },
        {
          "output_type": "stream",
          "name": "stdout",
          "text": [
            "Downloading data from https://s3.amazonaws.com/fcp-indi/data/Projects/ABIDE_Initiative/Outputs/cpac/filt_noglobal/rois_cc200/Trinity_0050271_rois_cc200.1D ...\n"
          ]
        },
        {
          "output_type": "stream",
          "name": "stderr",
          "text": [
            " ...done. (1 seconds, 0 min)\n"
          ]
        },
        {
          "output_type": "stream",
          "name": "stdout",
          "text": [
            "Downloading data from https://s3.amazonaws.com/fcp-indi/data/Projects/ABIDE_Initiative/Outputs/cpac/filt_noglobal/rois_cc200/UM_1_0050272_rois_cc200.1D ...\n"
          ]
        },
        {
          "output_type": "stream",
          "name": "stderr",
          "text": [
            " ...done. (1 seconds, 0 min)\n"
          ]
        },
        {
          "output_type": "stream",
          "name": "stdout",
          "text": [
            "Downloading data from https://s3.amazonaws.com/fcp-indi/data/Projects/ABIDE_Initiative/Outputs/cpac/filt_noglobal/rois_cc200/UM_1_0050273_rois_cc200.1D ...\n"
          ]
        },
        {
          "output_type": "stream",
          "name": "stderr",
          "text": [
            " ...done. (1 seconds, 0 min)\n"
          ]
        },
        {
          "output_type": "stream",
          "name": "stdout",
          "text": [
            "Downloading data from https://s3.amazonaws.com/fcp-indi/data/Projects/ABIDE_Initiative/Outputs/cpac/filt_noglobal/rois_cc200/UM_1_0050274_rois_cc200.1D ...\n"
          ]
        },
        {
          "output_type": "stream",
          "name": "stderr",
          "text": [
            " ...done. (1 seconds, 0 min)\n"
          ]
        },
        {
          "output_type": "stream",
          "name": "stdout",
          "text": [
            "Downloading data from https://s3.amazonaws.com/fcp-indi/data/Projects/ABIDE_Initiative/Outputs/cpac/filt_noglobal/rois_cc200/UM_1_0050275_rois_cc200.1D ...\n"
          ]
        },
        {
          "output_type": "stream",
          "name": "stderr",
          "text": [
            " ...done. (1 seconds, 0 min)\n"
          ]
        },
        {
          "output_type": "stream",
          "name": "stdout",
          "text": [
            "Downloading data from https://s3.amazonaws.com/fcp-indi/data/Projects/ABIDE_Initiative/Outputs/cpac/filt_noglobal/rois_cc200/UM_1_0050276_rois_cc200.1D ...\n"
          ]
        },
        {
          "output_type": "stream",
          "name": "stderr",
          "text": [
            " ...done. (1 seconds, 0 min)\n"
          ]
        },
        {
          "output_type": "stream",
          "name": "stdout",
          "text": [
            "Downloading data from https://s3.amazonaws.com/fcp-indi/data/Projects/ABIDE_Initiative/Outputs/cpac/filt_noglobal/rois_cc200/UM_1_0050277_rois_cc200.1D ...\n"
          ]
        },
        {
          "output_type": "stream",
          "name": "stderr",
          "text": [
            " ...done. (1 seconds, 0 min)\n"
          ]
        },
        {
          "output_type": "stream",
          "name": "stdout",
          "text": [
            "Downloading data from https://s3.amazonaws.com/fcp-indi/data/Projects/ABIDE_Initiative/Outputs/cpac/filt_noglobal/rois_cc200/UM_1_0050278_rois_cc200.1D ...\n"
          ]
        },
        {
          "output_type": "stream",
          "name": "stderr",
          "text": [
            " ...done. (1 seconds, 0 min)\n"
          ]
        },
        {
          "output_type": "stream",
          "name": "stdout",
          "text": [
            "Downloading data from https://s3.amazonaws.com/fcp-indi/data/Projects/ABIDE_Initiative/Outputs/cpac/filt_noglobal/rois_cc200/UM_1_0050279_rois_cc200.1D ...\n"
          ]
        },
        {
          "output_type": "stream",
          "name": "stderr",
          "text": [
            " ...done. (1 seconds, 0 min)\n"
          ]
        },
        {
          "output_type": "stream",
          "name": "stdout",
          "text": [
            "Downloading data from https://s3.amazonaws.com/fcp-indi/data/Projects/ABIDE_Initiative/Outputs/cpac/filt_noglobal/rois_cc200/UM_1_0050280_rois_cc200.1D ...\n"
          ]
        },
        {
          "output_type": "stream",
          "name": "stderr",
          "text": [
            " ...done. (1 seconds, 0 min)\n"
          ]
        },
        {
          "output_type": "stream",
          "name": "stdout",
          "text": [
            "Downloading data from https://s3.amazonaws.com/fcp-indi/data/Projects/ABIDE_Initiative/Outputs/cpac/filt_noglobal/rois_cc200/UM_1_0050281_rois_cc200.1D ...\n"
          ]
        },
        {
          "output_type": "stream",
          "name": "stderr",
          "text": [
            " ...done. (1 seconds, 0 min)\n"
          ]
        },
        {
          "output_type": "stream",
          "name": "stdout",
          "text": [
            "Downloading data from https://s3.amazonaws.com/fcp-indi/data/Projects/ABIDE_Initiative/Outputs/cpac/filt_noglobal/rois_cc200/UM_1_0050282_rois_cc200.1D ...\n"
          ]
        },
        {
          "output_type": "stream",
          "name": "stderr",
          "text": [
            " ...done. (1 seconds, 0 min)\n"
          ]
        },
        {
          "output_type": "stream",
          "name": "stdout",
          "text": [
            "Downloading data from https://s3.amazonaws.com/fcp-indi/data/Projects/ABIDE_Initiative/Outputs/cpac/filt_noglobal/rois_cc200/UM_1_0050283_rois_cc200.1D ...\n"
          ]
        },
        {
          "output_type": "stream",
          "name": "stderr",
          "text": [
            " ...done. (1 seconds, 0 min)\n"
          ]
        },
        {
          "output_type": "stream",
          "name": "stdout",
          "text": [
            "Downloading data from https://s3.amazonaws.com/fcp-indi/data/Projects/ABIDE_Initiative/Outputs/cpac/filt_noglobal/rois_cc200/UM_1_0050284_rois_cc200.1D ...\n"
          ]
        },
        {
          "output_type": "stream",
          "name": "stderr",
          "text": [
            " ...done. (1 seconds, 0 min)\n"
          ]
        },
        {
          "output_type": "stream",
          "name": "stdout",
          "text": [
            "Downloading data from https://s3.amazonaws.com/fcp-indi/data/Projects/ABIDE_Initiative/Outputs/cpac/filt_noglobal/rois_cc200/UM_1_0050285_rois_cc200.1D ...\n"
          ]
        },
        {
          "output_type": "stream",
          "name": "stderr",
          "text": [
            " ...done. (1 seconds, 0 min)\n"
          ]
        },
        {
          "output_type": "stream",
          "name": "stdout",
          "text": [
            "Downloading data from https://s3.amazonaws.com/fcp-indi/data/Projects/ABIDE_Initiative/Outputs/cpac/filt_noglobal/rois_cc200/UM_1_0050286_rois_cc200.1D ...\n"
          ]
        },
        {
          "output_type": "stream",
          "name": "stderr",
          "text": [
            " ...done. (1 seconds, 0 min)\n"
          ]
        },
        {
          "output_type": "stream",
          "name": "stdout",
          "text": [
            "Downloading data from https://s3.amazonaws.com/fcp-indi/data/Projects/ABIDE_Initiative/Outputs/cpac/filt_noglobal/rois_cc200/UM_1_0050287_rois_cc200.1D ...\n"
          ]
        },
        {
          "output_type": "stream",
          "name": "stderr",
          "text": [
            " ...done. (1 seconds, 0 min)\n"
          ]
        },
        {
          "output_type": "stream",
          "name": "stdout",
          "text": [
            "Downloading data from https://s3.amazonaws.com/fcp-indi/data/Projects/ABIDE_Initiative/Outputs/cpac/filt_noglobal/rois_cc200/UM_1_0050288_rois_cc200.1D ...\n"
          ]
        },
        {
          "output_type": "stream",
          "name": "stderr",
          "text": [
            " ...done. (1 seconds, 0 min)\n"
          ]
        },
        {
          "output_type": "stream",
          "name": "stdout",
          "text": [
            "Downloading data from https://s3.amazonaws.com/fcp-indi/data/Projects/ABIDE_Initiative/Outputs/cpac/filt_noglobal/rois_cc200/UM_1_0050289_rois_cc200.1D ...\n"
          ]
        },
        {
          "output_type": "stream",
          "name": "stderr",
          "text": [
            " ...done. (1 seconds, 0 min)\n"
          ]
        },
        {
          "output_type": "stream",
          "name": "stdout",
          "text": [
            "Downloading data from https://s3.amazonaws.com/fcp-indi/data/Projects/ABIDE_Initiative/Outputs/cpac/filt_noglobal/rois_cc200/UM_1_0050290_rois_cc200.1D ...\n"
          ]
        },
        {
          "output_type": "stream",
          "name": "stderr",
          "text": [
            " ...done. (1 seconds, 0 min)\n"
          ]
        },
        {
          "output_type": "stream",
          "name": "stdout",
          "text": [
            "Downloading data from https://s3.amazonaws.com/fcp-indi/data/Projects/ABIDE_Initiative/Outputs/cpac/filt_noglobal/rois_cc200/UM_1_0050291_rois_cc200.1D ...\n"
          ]
        },
        {
          "output_type": "stream",
          "name": "stderr",
          "text": [
            " ...done. (1 seconds, 0 min)\n"
          ]
        },
        {
          "output_type": "stream",
          "name": "stdout",
          "text": [
            "Downloading data from https://s3.amazonaws.com/fcp-indi/data/Projects/ABIDE_Initiative/Outputs/cpac/filt_noglobal/rois_cc200/UM_1_0050292_rois_cc200.1D ...\n"
          ]
        },
        {
          "output_type": "stream",
          "name": "stderr",
          "text": [
            " ...done. (1 seconds, 0 min)\n"
          ]
        },
        {
          "output_type": "stream",
          "name": "stdout",
          "text": [
            "Downloading data from https://s3.amazonaws.com/fcp-indi/data/Projects/ABIDE_Initiative/Outputs/cpac/filt_noglobal/rois_cc200/UM_1_0050293_rois_cc200.1D ...\n"
          ]
        },
        {
          "output_type": "stream",
          "name": "stderr",
          "text": [
            " ...done. (1 seconds, 0 min)\n"
          ]
        },
        {
          "output_type": "stream",
          "name": "stdout",
          "text": [
            "Downloading data from https://s3.amazonaws.com/fcp-indi/data/Projects/ABIDE_Initiative/Outputs/cpac/filt_noglobal/rois_cc200/UM_1_0050294_rois_cc200.1D ...\n"
          ]
        },
        {
          "output_type": "stream",
          "name": "stderr",
          "text": [
            " ...done. (1 seconds, 0 min)\n"
          ]
        },
        {
          "output_type": "stream",
          "name": "stdout",
          "text": [
            "Downloading data from https://s3.amazonaws.com/fcp-indi/data/Projects/ABIDE_Initiative/Outputs/cpac/filt_noglobal/rois_cc200/UM_1_0050295_rois_cc200.1D ...\n"
          ]
        },
        {
          "output_type": "stream",
          "name": "stderr",
          "text": [
            " ...done. (1 seconds, 0 min)\n"
          ]
        },
        {
          "output_type": "stream",
          "name": "stdout",
          "text": [
            "Downloading data from https://s3.amazonaws.com/fcp-indi/data/Projects/ABIDE_Initiative/Outputs/cpac/filt_noglobal/rois_cc200/UM_1_0050296_rois_cc200.1D ...\n"
          ]
        },
        {
          "output_type": "stream",
          "name": "stderr",
          "text": [
            " ...done. (1 seconds, 0 min)\n"
          ]
        },
        {
          "output_type": "stream",
          "name": "stdout",
          "text": [
            "Downloading data from https://s3.amazonaws.com/fcp-indi/data/Projects/ABIDE_Initiative/Outputs/cpac/filt_noglobal/rois_cc200/UM_1_0050297_rois_cc200.1D ...\n"
          ]
        },
        {
          "output_type": "stream",
          "name": "stderr",
          "text": [
            " ...done. (1 seconds, 0 min)\n"
          ]
        },
        {
          "output_type": "stream",
          "name": "stdout",
          "text": [
            "Downloading data from https://s3.amazonaws.com/fcp-indi/data/Projects/ABIDE_Initiative/Outputs/cpac/filt_noglobal/rois_cc200/UM_1_0050298_rois_cc200.1D ...\n"
          ]
        },
        {
          "output_type": "stream",
          "name": "stderr",
          "text": [
            " ...done. (1 seconds, 0 min)\n"
          ]
        },
        {
          "output_type": "stream",
          "name": "stdout",
          "text": [
            "Downloading data from https://s3.amazonaws.com/fcp-indi/data/Projects/ABIDE_Initiative/Outputs/cpac/filt_noglobal/rois_cc200/UM_1_0050299_rois_cc200.1D ...\n"
          ]
        },
        {
          "output_type": "stream",
          "name": "stderr",
          "text": [
            " ...done. (1 seconds, 0 min)\n"
          ]
        },
        {
          "output_type": "stream",
          "name": "stdout",
          "text": [
            "Downloading data from https://s3.amazonaws.com/fcp-indi/data/Projects/ABIDE_Initiative/Outputs/cpac/filt_noglobal/rois_cc200/UM_1_0050300_rois_cc200.1D ...\n"
          ]
        },
        {
          "output_type": "stream",
          "name": "stderr",
          "text": [
            " ...done. (1 seconds, 0 min)\n"
          ]
        },
        {
          "output_type": "stream",
          "name": "stdout",
          "text": [
            "Downloading data from https://s3.amazonaws.com/fcp-indi/data/Projects/ABIDE_Initiative/Outputs/cpac/filt_noglobal/rois_cc200/UM_1_0050301_rois_cc200.1D ...\n"
          ]
        },
        {
          "output_type": "stream",
          "name": "stderr",
          "text": [
            " ...done. (1 seconds, 0 min)\n"
          ]
        },
        {
          "output_type": "stream",
          "name": "stdout",
          "text": [
            "Downloading data from https://s3.amazonaws.com/fcp-indi/data/Projects/ABIDE_Initiative/Outputs/cpac/filt_noglobal/rois_cc200/UM_1_0050302_rois_cc200.1D ...\n"
          ]
        },
        {
          "output_type": "stream",
          "name": "stderr",
          "text": [
            " ...done. (1 seconds, 0 min)\n"
          ]
        },
        {
          "output_type": "stream",
          "name": "stdout",
          "text": [
            "Downloading data from https://s3.amazonaws.com/fcp-indi/data/Projects/ABIDE_Initiative/Outputs/cpac/filt_noglobal/rois_cc200/UM_1_0050303_rois_cc200.1D ...\n"
          ]
        },
        {
          "output_type": "stream",
          "name": "stderr",
          "text": [
            " ...done. (1 seconds, 0 min)\n"
          ]
        },
        {
          "output_type": "stream",
          "name": "stdout",
          "text": [
            "Downloading data from https://s3.amazonaws.com/fcp-indi/data/Projects/ABIDE_Initiative/Outputs/cpac/filt_noglobal/rois_cc200/UM_1_0050304_rois_cc200.1D ...\n"
          ]
        },
        {
          "output_type": "stream",
          "name": "stderr",
          "text": [
            " ...done. (1 seconds, 0 min)\n"
          ]
        },
        {
          "output_type": "stream",
          "name": "stdout",
          "text": [
            "Downloading data from https://s3.amazonaws.com/fcp-indi/data/Projects/ABIDE_Initiative/Outputs/cpac/filt_noglobal/rois_cc200/UM_1_0050305_rois_cc200.1D ...\n"
          ]
        },
        {
          "output_type": "stream",
          "name": "stderr",
          "text": [
            " ...done. (1 seconds, 0 min)\n"
          ]
        },
        {
          "output_type": "stream",
          "name": "stdout",
          "text": [
            "Downloading data from https://s3.amazonaws.com/fcp-indi/data/Projects/ABIDE_Initiative/Outputs/cpac/filt_noglobal/rois_cc200/UM_1_0050306_rois_cc200.1D ...\n"
          ]
        },
        {
          "output_type": "stream",
          "name": "stderr",
          "text": [
            " ...done. (1 seconds, 0 min)\n"
          ]
        },
        {
          "output_type": "stream",
          "name": "stdout",
          "text": [
            "Downloading data from https://s3.amazonaws.com/fcp-indi/data/Projects/ABIDE_Initiative/Outputs/cpac/filt_noglobal/rois_cc200/UM_1_0050307_rois_cc200.1D ...\n"
          ]
        },
        {
          "output_type": "stream",
          "name": "stderr",
          "text": [
            " ...done. (1 seconds, 0 min)\n"
          ]
        },
        {
          "output_type": "stream",
          "name": "stdout",
          "text": [
            "Downloading data from https://s3.amazonaws.com/fcp-indi/data/Projects/ABIDE_Initiative/Outputs/cpac/filt_noglobal/rois_cc200/UM_1_0050308_rois_cc200.1D ...\n"
          ]
        },
        {
          "output_type": "stream",
          "name": "stderr",
          "text": [
            " ...done. (1 seconds, 0 min)\n"
          ]
        },
        {
          "output_type": "stream",
          "name": "stdout",
          "text": [
            "Downloading data from https://s3.amazonaws.com/fcp-indi/data/Projects/ABIDE_Initiative/Outputs/cpac/filt_noglobal/rois_cc200/UM_1_0050310_rois_cc200.1D ...\n"
          ]
        },
        {
          "output_type": "stream",
          "name": "stderr",
          "text": [
            " ...done. (1 seconds, 0 min)\n"
          ]
        },
        {
          "output_type": "stream",
          "name": "stdout",
          "text": [
            "Downloading data from https://s3.amazonaws.com/fcp-indi/data/Projects/ABIDE_Initiative/Outputs/cpac/filt_noglobal/rois_cc200/UM_1_0050311_rois_cc200.1D ...\n"
          ]
        },
        {
          "output_type": "stream",
          "name": "stderr",
          "text": [
            " ...done. (1 seconds, 0 min)\n"
          ]
        },
        {
          "output_type": "stream",
          "name": "stdout",
          "text": [
            "Downloading data from https://s3.amazonaws.com/fcp-indi/data/Projects/ABIDE_Initiative/Outputs/cpac/filt_noglobal/rois_cc200/UM_1_0050312_rois_cc200.1D ...\n"
          ]
        },
        {
          "output_type": "stream",
          "name": "stderr",
          "text": [
            " ...done. (1 seconds, 0 min)\n"
          ]
        },
        {
          "output_type": "stream",
          "name": "stdout",
          "text": [
            "Downloading data from https://s3.amazonaws.com/fcp-indi/data/Projects/ABIDE_Initiative/Outputs/cpac/filt_noglobal/rois_cc200/UM_1_0050313_rois_cc200.1D ...\n"
          ]
        },
        {
          "output_type": "stream",
          "name": "stderr",
          "text": [
            " ...done. (1 seconds, 0 min)\n"
          ]
        },
        {
          "output_type": "stream",
          "name": "stdout",
          "text": [
            "Downloading data from https://s3.amazonaws.com/fcp-indi/data/Projects/ABIDE_Initiative/Outputs/cpac/filt_noglobal/rois_cc200/UM_1_0050314_rois_cc200.1D ...\n"
          ]
        },
        {
          "output_type": "stream",
          "name": "stderr",
          "text": [
            " ...done. (1 seconds, 0 min)\n"
          ]
        },
        {
          "output_type": "stream",
          "name": "stdout",
          "text": [
            "Downloading data from https://s3.amazonaws.com/fcp-indi/data/Projects/ABIDE_Initiative/Outputs/cpac/filt_noglobal/rois_cc200/UM_1_0050315_rois_cc200.1D ...\n"
          ]
        },
        {
          "output_type": "stream",
          "name": "stderr",
          "text": [
            " ...done. (1 seconds, 0 min)\n"
          ]
        },
        {
          "output_type": "stream",
          "name": "stdout",
          "text": [
            "Downloading data from https://s3.amazonaws.com/fcp-indi/data/Projects/ABIDE_Initiative/Outputs/cpac/filt_noglobal/rois_cc200/UM_1_0050316_rois_cc200.1D ...\n"
          ]
        },
        {
          "output_type": "stream",
          "name": "stderr",
          "text": [
            " ...done. (1 seconds, 0 min)\n"
          ]
        },
        {
          "output_type": "stream",
          "name": "stdout",
          "text": [
            "Downloading data from https://s3.amazonaws.com/fcp-indi/data/Projects/ABIDE_Initiative/Outputs/cpac/filt_noglobal/rois_cc200/UM_1_0050317_rois_cc200.1D ...\n"
          ]
        },
        {
          "output_type": "stream",
          "name": "stderr",
          "text": [
            " ...done. (1 seconds, 0 min)\n"
          ]
        },
        {
          "output_type": "stream",
          "name": "stdout",
          "text": [
            "Downloading data from https://s3.amazonaws.com/fcp-indi/data/Projects/ABIDE_Initiative/Outputs/cpac/filt_noglobal/rois_cc200/UM_1_0050318_rois_cc200.1D ...\n"
          ]
        },
        {
          "output_type": "stream",
          "name": "stderr",
          "text": [
            " ...done. (1 seconds, 0 min)\n"
          ]
        },
        {
          "output_type": "stream",
          "name": "stdout",
          "text": [
            "Downloading data from https://s3.amazonaws.com/fcp-indi/data/Projects/ABIDE_Initiative/Outputs/cpac/filt_noglobal/rois_cc200/UM_1_0050319_rois_cc200.1D ...\n"
          ]
        },
        {
          "output_type": "stream",
          "name": "stderr",
          "text": [
            " ...done. (1 seconds, 0 min)\n"
          ]
        },
        {
          "output_type": "stream",
          "name": "stdout",
          "text": [
            "Downloading data from https://s3.amazonaws.com/fcp-indi/data/Projects/ABIDE_Initiative/Outputs/cpac/filt_noglobal/rois_cc200/UM_1_0050320_rois_cc200.1D ...\n"
          ]
        },
        {
          "output_type": "stream",
          "name": "stderr",
          "text": [
            " ...done. (1 seconds, 0 min)\n"
          ]
        },
        {
          "output_type": "stream",
          "name": "stdout",
          "text": [
            "Downloading data from https://s3.amazonaws.com/fcp-indi/data/Projects/ABIDE_Initiative/Outputs/cpac/filt_noglobal/rois_cc200/UM_1_0050321_rois_cc200.1D ...\n"
          ]
        },
        {
          "output_type": "stream",
          "name": "stderr",
          "text": [
            " ...done. (1 seconds, 0 min)\n"
          ]
        },
        {
          "output_type": "stream",
          "name": "stdout",
          "text": [
            "Downloading data from https://s3.amazonaws.com/fcp-indi/data/Projects/ABIDE_Initiative/Outputs/cpac/filt_noglobal/rois_cc200/UM_1_0050322_rois_cc200.1D ...\n"
          ]
        },
        {
          "output_type": "stream",
          "name": "stderr",
          "text": [
            " ...done. (1 seconds, 0 min)\n"
          ]
        },
        {
          "output_type": "stream",
          "name": "stdout",
          "text": [
            "Downloading data from https://s3.amazonaws.com/fcp-indi/data/Projects/ABIDE_Initiative/Outputs/cpac/filt_noglobal/rois_cc200/UM_1_0050324_rois_cc200.1D ...\n"
          ]
        },
        {
          "output_type": "stream",
          "name": "stderr",
          "text": [
            " ...done. (1 seconds, 0 min)\n"
          ]
        },
        {
          "output_type": "stream",
          "name": "stdout",
          "text": [
            "Downloading data from https://s3.amazonaws.com/fcp-indi/data/Projects/ABIDE_Initiative/Outputs/cpac/filt_noglobal/rois_cc200/UM_1_0050325_rois_cc200.1D ...\n"
          ]
        },
        {
          "output_type": "stream",
          "name": "stderr",
          "text": [
            " ...done. (1 seconds, 0 min)\n"
          ]
        },
        {
          "output_type": "stream",
          "name": "stdout",
          "text": [
            "Downloading data from https://s3.amazonaws.com/fcp-indi/data/Projects/ABIDE_Initiative/Outputs/cpac/filt_noglobal/rois_cc200/UM_1_0050326_rois_cc200.1D ...\n"
          ]
        },
        {
          "output_type": "stream",
          "name": "stderr",
          "text": [
            " ...done. (1 seconds, 0 min)\n"
          ]
        },
        {
          "output_type": "stream",
          "name": "stdout",
          "text": [
            "Downloading data from https://s3.amazonaws.com/fcp-indi/data/Projects/ABIDE_Initiative/Outputs/cpac/filt_noglobal/rois_cc200/UM_1_0050327_rois_cc200.1D ...\n"
          ]
        },
        {
          "output_type": "stream",
          "name": "stderr",
          "text": [
            " ...done. (1 seconds, 0 min)\n"
          ]
        },
        {
          "output_type": "stream",
          "name": "stdout",
          "text": [
            "Downloading data from https://s3.amazonaws.com/fcp-indi/data/Projects/ABIDE_Initiative/Outputs/cpac/filt_noglobal/rois_cc200/UM_1_0050329_rois_cc200.1D ...\n"
          ]
        },
        {
          "output_type": "stream",
          "name": "stderr",
          "text": [
            " ...done. (1 seconds, 0 min)\n"
          ]
        },
        {
          "output_type": "stream",
          "name": "stdout",
          "text": [
            "Downloading data from https://s3.amazonaws.com/fcp-indi/data/Projects/ABIDE_Initiative/Outputs/cpac/filt_noglobal/rois_cc200/UM_1_0050330_rois_cc200.1D ...\n"
          ]
        },
        {
          "output_type": "stream",
          "name": "stderr",
          "text": [
            " ...done. (1 seconds, 0 min)\n"
          ]
        },
        {
          "output_type": "stream",
          "name": "stdout",
          "text": [
            "Downloading data from https://s3.amazonaws.com/fcp-indi/data/Projects/ABIDE_Initiative/Outputs/cpac/filt_noglobal/rois_cc200/UM_1_0050331_rois_cc200.1D ...\n"
          ]
        },
        {
          "output_type": "stream",
          "name": "stderr",
          "text": [
            " ...done. (1 seconds, 0 min)\n"
          ]
        },
        {
          "output_type": "stream",
          "name": "stdout",
          "text": [
            "Downloading data from https://s3.amazonaws.com/fcp-indi/data/Projects/ABIDE_Initiative/Outputs/cpac/filt_noglobal/rois_cc200/UM_1_0050332_rois_cc200.1D ...\n"
          ]
        },
        {
          "output_type": "stream",
          "name": "stderr",
          "text": [
            " ...done. (1 seconds, 0 min)\n"
          ]
        },
        {
          "output_type": "stream",
          "name": "stdout",
          "text": [
            "Downloading data from https://s3.amazonaws.com/fcp-indi/data/Projects/ABIDE_Initiative/Outputs/cpac/filt_noglobal/rois_cc200/UM_1_0050333_rois_cc200.1D ...\n"
          ]
        },
        {
          "output_type": "stream",
          "name": "stderr",
          "text": [
            " ...done. (1 seconds, 0 min)\n"
          ]
        },
        {
          "output_type": "stream",
          "name": "stdout",
          "text": [
            "Downloading data from https://s3.amazonaws.com/fcp-indi/data/Projects/ABIDE_Initiative/Outputs/cpac/filt_noglobal/rois_cc200/UM_1_0050334_rois_cc200.1D ...\n"
          ]
        },
        {
          "output_type": "stream",
          "name": "stderr",
          "text": [
            " ...done. (1 seconds, 0 min)\n"
          ]
        },
        {
          "output_type": "stream",
          "name": "stdout",
          "text": [
            "Downloading data from https://s3.amazonaws.com/fcp-indi/data/Projects/ABIDE_Initiative/Outputs/cpac/filt_noglobal/rois_cc200/UM_1_0050335_rois_cc200.1D ...\n"
          ]
        },
        {
          "output_type": "stream",
          "name": "stderr",
          "text": [
            " ...done. (1 seconds, 0 min)\n"
          ]
        },
        {
          "output_type": "stream",
          "name": "stdout",
          "text": [
            "Downloading data from https://s3.amazonaws.com/fcp-indi/data/Projects/ABIDE_Initiative/Outputs/cpac/filt_noglobal/rois_cc200/UM_1_0050336_rois_cc200.1D ...\n"
          ]
        },
        {
          "output_type": "stream",
          "name": "stderr",
          "text": [
            " ...done. (1 seconds, 0 min)\n"
          ]
        },
        {
          "output_type": "stream",
          "name": "stdout",
          "text": [
            "Downloading data from https://s3.amazonaws.com/fcp-indi/data/Projects/ABIDE_Initiative/Outputs/cpac/filt_noglobal/rois_cc200/UM_1_0050337_rois_cc200.1D ...\n"
          ]
        },
        {
          "output_type": "stream",
          "name": "stderr",
          "text": [
            " ...done. (1 seconds, 0 min)\n"
          ]
        },
        {
          "output_type": "stream",
          "name": "stdout",
          "text": [
            "Downloading data from https://s3.amazonaws.com/fcp-indi/data/Projects/ABIDE_Initiative/Outputs/cpac/filt_noglobal/rois_cc200/UM_1_0050338_rois_cc200.1D ...\n"
          ]
        },
        {
          "output_type": "stream",
          "name": "stderr",
          "text": [
            " ...done. (1 seconds, 0 min)\n"
          ]
        },
        {
          "output_type": "stream",
          "name": "stdout",
          "text": [
            "Downloading data from https://s3.amazonaws.com/fcp-indi/data/Projects/ABIDE_Initiative/Outputs/cpac/filt_noglobal/rois_cc200/UM_1_0050339_rois_cc200.1D ...\n"
          ]
        },
        {
          "output_type": "stream",
          "name": "stderr",
          "text": [
            " ...done. (1 seconds, 0 min)\n"
          ]
        },
        {
          "output_type": "stream",
          "name": "stdout",
          "text": [
            "Downloading data from https://s3.amazonaws.com/fcp-indi/data/Projects/ABIDE_Initiative/Outputs/cpac/filt_noglobal/rois_cc200/UM_1_0050340_rois_cc200.1D ...\n"
          ]
        },
        {
          "output_type": "stream",
          "name": "stderr",
          "text": [
            " ...done. (1 seconds, 0 min)\n"
          ]
        },
        {
          "output_type": "stream",
          "name": "stdout",
          "text": [
            "Downloading data from https://s3.amazonaws.com/fcp-indi/data/Projects/ABIDE_Initiative/Outputs/cpac/filt_noglobal/rois_cc200/UM_1_0050341_rois_cc200.1D ...\n"
          ]
        },
        {
          "output_type": "stream",
          "name": "stderr",
          "text": [
            " ...done. (1 seconds, 0 min)\n"
          ]
        },
        {
          "output_type": "stream",
          "name": "stdout",
          "text": [
            "Downloading data from https://s3.amazonaws.com/fcp-indi/data/Projects/ABIDE_Initiative/Outputs/cpac/filt_noglobal/rois_cc200/UM_1_0050342_rois_cc200.1D ...\n"
          ]
        },
        {
          "output_type": "stream",
          "name": "stderr",
          "text": [
            " ...done. (1 seconds, 0 min)\n"
          ]
        },
        {
          "output_type": "stream",
          "name": "stdout",
          "text": [
            "Downloading data from https://s3.amazonaws.com/fcp-indi/data/Projects/ABIDE_Initiative/Outputs/cpac/filt_noglobal/rois_cc200/UM_1_0050343_rois_cc200.1D ...\n"
          ]
        },
        {
          "output_type": "stream",
          "name": "stderr",
          "text": [
            " ...done. (1 seconds, 0 min)\n"
          ]
        },
        {
          "output_type": "stream",
          "name": "stdout",
          "text": [
            "Downloading data from https://s3.amazonaws.com/fcp-indi/data/Projects/ABIDE_Initiative/Outputs/cpac/filt_noglobal/rois_cc200/UM_1_0050344_rois_cc200.1D ...\n"
          ]
        },
        {
          "output_type": "stream",
          "name": "stderr",
          "text": [
            " ...done. (1 seconds, 0 min)\n"
          ]
        },
        {
          "output_type": "stream",
          "name": "stdout",
          "text": [
            "Downloading data from https://s3.amazonaws.com/fcp-indi/data/Projects/ABIDE_Initiative/Outputs/cpac/filt_noglobal/rois_cc200/UM_1_0050345_rois_cc200.1D ...\n"
          ]
        },
        {
          "output_type": "stream",
          "name": "stderr",
          "text": [
            " ...done. (1 seconds, 0 min)\n"
          ]
        },
        {
          "output_type": "stream",
          "name": "stdout",
          "text": [
            "Downloading data from https://s3.amazonaws.com/fcp-indi/data/Projects/ABIDE_Initiative/Outputs/cpac/filt_noglobal/rois_cc200/UM_1_0050346_rois_cc200.1D ...\n"
          ]
        },
        {
          "output_type": "stream",
          "name": "stderr",
          "text": [
            " ...done. (1 seconds, 0 min)\n"
          ]
        },
        {
          "output_type": "stream",
          "name": "stdout",
          "text": [
            "Downloading data from https://s3.amazonaws.com/fcp-indi/data/Projects/ABIDE_Initiative/Outputs/cpac/filt_noglobal/rois_cc200/UM_1_0050347_rois_cc200.1D ...\n"
          ]
        },
        {
          "output_type": "stream",
          "name": "stderr",
          "text": [
            " ...done. (1 seconds, 0 min)\n"
          ]
        },
        {
          "output_type": "stream",
          "name": "stdout",
          "text": [
            "Downloading data from https://s3.amazonaws.com/fcp-indi/data/Projects/ABIDE_Initiative/Outputs/cpac/filt_noglobal/rois_cc200/UM_1_0050348_rois_cc200.1D ...\n"
          ]
        },
        {
          "output_type": "stream",
          "name": "stderr",
          "text": [
            " ...done. (1 seconds, 0 min)\n"
          ]
        },
        {
          "output_type": "stream",
          "name": "stdout",
          "text": [
            "Downloading data from https://s3.amazonaws.com/fcp-indi/data/Projects/ABIDE_Initiative/Outputs/cpac/filt_noglobal/rois_cc200/UM_1_0050349_rois_cc200.1D ...\n"
          ]
        },
        {
          "output_type": "stream",
          "name": "stderr",
          "text": [
            " ...done. (1 seconds, 0 min)\n"
          ]
        },
        {
          "output_type": "stream",
          "name": "stdout",
          "text": [
            "Downloading data from https://s3.amazonaws.com/fcp-indi/data/Projects/ABIDE_Initiative/Outputs/cpac/filt_noglobal/rois_cc200/UM_1_0050350_rois_cc200.1D ...\n"
          ]
        },
        {
          "output_type": "stream",
          "name": "stderr",
          "text": [
            " ...done. (1 seconds, 0 min)\n"
          ]
        },
        {
          "output_type": "stream",
          "name": "stdout",
          "text": [
            "Downloading data from https://s3.amazonaws.com/fcp-indi/data/Projects/ABIDE_Initiative/Outputs/cpac/filt_noglobal/rois_cc200/UM_1_0050351_rois_cc200.1D ...\n"
          ]
        },
        {
          "output_type": "stream",
          "name": "stderr",
          "text": [
            " ...done. (1 seconds, 0 min)\n"
          ]
        },
        {
          "output_type": "stream",
          "name": "stdout",
          "text": [
            "Downloading data from https://s3.amazonaws.com/fcp-indi/data/Projects/ABIDE_Initiative/Outputs/cpac/filt_noglobal/rois_cc200/UM_1_0050352_rois_cc200.1D ...\n"
          ]
        },
        {
          "output_type": "stream",
          "name": "stderr",
          "text": [
            " ...done. (1 seconds, 0 min)\n"
          ]
        },
        {
          "output_type": "stream",
          "name": "stdout",
          "text": [
            "Downloading data from https://s3.amazonaws.com/fcp-indi/data/Projects/ABIDE_Initiative/Outputs/cpac/filt_noglobal/rois_cc200/UM_1_0050353_rois_cc200.1D ...\n"
          ]
        },
        {
          "output_type": "stream",
          "name": "stderr",
          "text": [
            " ...done. (1 seconds, 0 min)\n"
          ]
        },
        {
          "output_type": "stream",
          "name": "stdout",
          "text": [
            "Downloading data from https://s3.amazonaws.com/fcp-indi/data/Projects/ABIDE_Initiative/Outputs/cpac/filt_noglobal/rois_cc200/UM_1_0050354_rois_cc200.1D ...\n"
          ]
        },
        {
          "output_type": "stream",
          "name": "stderr",
          "text": [
            " ...done. (1 seconds, 0 min)\n"
          ]
        },
        {
          "output_type": "stream",
          "name": "stdout",
          "text": [
            "Downloading data from https://s3.amazonaws.com/fcp-indi/data/Projects/ABIDE_Initiative/Outputs/cpac/filt_noglobal/rois_cc200/UM_1_0050355_rois_cc200.1D ...\n"
          ]
        },
        {
          "output_type": "stream",
          "name": "stderr",
          "text": [
            " ...done. (1 seconds, 0 min)\n"
          ]
        },
        {
          "output_type": "stream",
          "name": "stdout",
          "text": [
            "Downloading data from https://s3.amazonaws.com/fcp-indi/data/Projects/ABIDE_Initiative/Outputs/cpac/filt_noglobal/rois_cc200/UM_1_0050356_rois_cc200.1D ...\n"
          ]
        },
        {
          "output_type": "stream",
          "name": "stderr",
          "text": [
            " ...done. (1 seconds, 0 min)\n"
          ]
        },
        {
          "output_type": "stream",
          "name": "stdout",
          "text": [
            "Downloading data from https://s3.amazonaws.com/fcp-indi/data/Projects/ABIDE_Initiative/Outputs/cpac/filt_noglobal/rois_cc200/UM_1_0050357_rois_cc200.1D ...\n"
          ]
        },
        {
          "output_type": "stream",
          "name": "stderr",
          "text": [
            " ...done. (1 seconds, 0 min)\n"
          ]
        },
        {
          "output_type": "stream",
          "name": "stdout",
          "text": [
            "Downloading data from https://s3.amazonaws.com/fcp-indi/data/Projects/ABIDE_Initiative/Outputs/cpac/filt_noglobal/rois_cc200/UM_1_0050358_rois_cc200.1D ...\n"
          ]
        },
        {
          "output_type": "stream",
          "name": "stderr",
          "text": [
            " ...done. (1 seconds, 0 min)\n"
          ]
        },
        {
          "output_type": "stream",
          "name": "stdout",
          "text": [
            "Downloading data from https://s3.amazonaws.com/fcp-indi/data/Projects/ABIDE_Initiative/Outputs/cpac/filt_noglobal/rois_cc200/UM_1_0050359_rois_cc200.1D ...\n"
          ]
        },
        {
          "output_type": "stream",
          "name": "stderr",
          "text": [
            " ...done. (1 seconds, 0 min)\n"
          ]
        },
        {
          "output_type": "stream",
          "name": "stdout",
          "text": [
            "Downloading data from https://s3.amazonaws.com/fcp-indi/data/Projects/ABIDE_Initiative/Outputs/cpac/filt_noglobal/rois_cc200/UM_1_0050360_rois_cc200.1D ...\n"
          ]
        },
        {
          "output_type": "stream",
          "name": "stderr",
          "text": [
            " ...done. (1 seconds, 0 min)\n"
          ]
        },
        {
          "output_type": "stream",
          "name": "stdout",
          "text": [
            "Downloading data from https://s3.amazonaws.com/fcp-indi/data/Projects/ABIDE_Initiative/Outputs/cpac/filt_noglobal/rois_cc200/UM_1_0050361_rois_cc200.1D ...\n"
          ]
        },
        {
          "output_type": "stream",
          "name": "stderr",
          "text": [
            " ...done. (1 seconds, 0 min)\n"
          ]
        },
        {
          "output_type": "stream",
          "name": "stdout",
          "text": [
            "Downloading data from https://s3.amazonaws.com/fcp-indi/data/Projects/ABIDE_Initiative/Outputs/cpac/filt_noglobal/rois_cc200/UM_1_0050362_rois_cc200.1D ...\n"
          ]
        },
        {
          "output_type": "stream",
          "name": "stderr",
          "text": [
            " ...done. (1 seconds, 0 min)\n"
          ]
        },
        {
          "output_type": "stream",
          "name": "stdout",
          "text": [
            "Downloading data from https://s3.amazonaws.com/fcp-indi/data/Projects/ABIDE_Initiative/Outputs/cpac/filt_noglobal/rois_cc200/UM_1_0050363_rois_cc200.1D ...\n"
          ]
        },
        {
          "output_type": "stream",
          "name": "stderr",
          "text": [
            " ...done. (1 seconds, 0 min)\n"
          ]
        },
        {
          "output_type": "stream",
          "name": "stdout",
          "text": [
            "Downloading data from https://s3.amazonaws.com/fcp-indi/data/Projects/ABIDE_Initiative/Outputs/cpac/filt_noglobal/rois_cc200/UM_1_0050364_rois_cc200.1D ...\n"
          ]
        },
        {
          "output_type": "stream",
          "name": "stderr",
          "text": [
            " ...done. (1 seconds, 0 min)\n"
          ]
        },
        {
          "output_type": "stream",
          "name": "stdout",
          "text": [
            "Downloading data from https://s3.amazonaws.com/fcp-indi/data/Projects/ABIDE_Initiative/Outputs/cpac/filt_noglobal/rois_cc200/UM_1_0050365_rois_cc200.1D ...\n"
          ]
        },
        {
          "output_type": "stream",
          "name": "stderr",
          "text": [
            " ...done. (1 seconds, 0 min)\n"
          ]
        },
        {
          "output_type": "stream",
          "name": "stdout",
          "text": [
            "Downloading data from https://s3.amazonaws.com/fcp-indi/data/Projects/ABIDE_Initiative/Outputs/cpac/filt_noglobal/rois_cc200/UM_1_0050366_rois_cc200.1D ...\n"
          ]
        },
        {
          "output_type": "stream",
          "name": "stderr",
          "text": [
            " ...done. (1 seconds, 0 min)\n"
          ]
        },
        {
          "output_type": "stream",
          "name": "stdout",
          "text": [
            "Downloading data from https://s3.amazonaws.com/fcp-indi/data/Projects/ABIDE_Initiative/Outputs/cpac/filt_noglobal/rois_cc200/UM_1_0050367_rois_cc200.1D ...\n"
          ]
        },
        {
          "output_type": "stream",
          "name": "stderr",
          "text": [
            " ...done. (1 seconds, 0 min)\n"
          ]
        },
        {
          "output_type": "stream",
          "name": "stdout",
          "text": [
            "Downloading data from https://s3.amazonaws.com/fcp-indi/data/Projects/ABIDE_Initiative/Outputs/cpac/filt_noglobal/rois_cc200/UM_1_0050368_rois_cc200.1D ...\n"
          ]
        },
        {
          "output_type": "stream",
          "name": "stderr",
          "text": [
            " ...done. (1 seconds, 0 min)\n"
          ]
        },
        {
          "output_type": "stream",
          "name": "stdout",
          "text": [
            "Downloading data from https://s3.amazonaws.com/fcp-indi/data/Projects/ABIDE_Initiative/Outputs/cpac/filt_noglobal/rois_cc200/UM_1_0050369_rois_cc200.1D ...\n"
          ]
        },
        {
          "output_type": "stream",
          "name": "stderr",
          "text": [
            " ...done. (1 seconds, 0 min)\n"
          ]
        },
        {
          "output_type": "stream",
          "name": "stdout",
          "text": [
            "Downloading data from https://s3.amazonaws.com/fcp-indi/data/Projects/ABIDE_Initiative/Outputs/cpac/filt_noglobal/rois_cc200/UM_1_0050370_rois_cc200.1D ...\n"
          ]
        },
        {
          "output_type": "stream",
          "name": "stderr",
          "text": [
            " ...done. (1 seconds, 0 min)\n"
          ]
        },
        {
          "output_type": "stream",
          "name": "stdout",
          "text": [
            "Downloading data from https://s3.amazonaws.com/fcp-indi/data/Projects/ABIDE_Initiative/Outputs/cpac/filt_noglobal/rois_cc200/UM_1_0050371_rois_cc200.1D ...\n"
          ]
        },
        {
          "output_type": "stream",
          "name": "stderr",
          "text": [
            " ...done. (1 seconds, 0 min)\n"
          ]
        },
        {
          "output_type": "stream",
          "name": "stdout",
          "text": [
            "Downloading data from https://s3.amazonaws.com/fcp-indi/data/Projects/ABIDE_Initiative/Outputs/cpac/filt_noglobal/rois_cc200/UM_1_0050372_rois_cc200.1D ...\n"
          ]
        },
        {
          "output_type": "stream",
          "name": "stderr",
          "text": [
            " ...done. (1 seconds, 0 min)\n"
          ]
        },
        {
          "output_type": "stream",
          "name": "stdout",
          "text": [
            "Downloading data from https://s3.amazonaws.com/fcp-indi/data/Projects/ABIDE_Initiative/Outputs/cpac/filt_noglobal/rois_cc200/UM_1_0050373_rois_cc200.1D ...\n"
          ]
        },
        {
          "output_type": "stream",
          "name": "stderr",
          "text": [
            " ...done. (1 seconds, 0 min)\n"
          ]
        },
        {
          "output_type": "stream",
          "name": "stdout",
          "text": [
            "Downloading data from https://s3.amazonaws.com/fcp-indi/data/Projects/ABIDE_Initiative/Outputs/cpac/filt_noglobal/rois_cc200/UM_1_0050374_rois_cc200.1D ...\n"
          ]
        },
        {
          "output_type": "stream",
          "name": "stderr",
          "text": [
            " ...done. (1 seconds, 0 min)\n"
          ]
        },
        {
          "output_type": "stream",
          "name": "stdout",
          "text": [
            "Downloading data from https://s3.amazonaws.com/fcp-indi/data/Projects/ABIDE_Initiative/Outputs/cpac/filt_noglobal/rois_cc200/UM_1_0050375_rois_cc200.1D ...\n"
          ]
        },
        {
          "output_type": "stream",
          "name": "stderr",
          "text": [
            " ...done. (1 seconds, 0 min)\n"
          ]
        },
        {
          "output_type": "stream",
          "name": "stdout",
          "text": [
            "Downloading data from https://s3.amazonaws.com/fcp-indi/data/Projects/ABIDE_Initiative/Outputs/cpac/filt_noglobal/rois_cc200/UM_1_0050376_rois_cc200.1D ...\n"
          ]
        },
        {
          "output_type": "stream",
          "name": "stderr",
          "text": [
            " ...done. (1 seconds, 0 min)\n"
          ]
        },
        {
          "output_type": "stream",
          "name": "stdout",
          "text": [
            "Downloading data from https://s3.amazonaws.com/fcp-indi/data/Projects/ABIDE_Initiative/Outputs/cpac/filt_noglobal/rois_cc200/UM_1_0050377_rois_cc200.1D ...\n"
          ]
        },
        {
          "output_type": "stream",
          "name": "stderr",
          "text": [
            " ...done. (1 seconds, 0 min)\n"
          ]
        },
        {
          "output_type": "stream",
          "name": "stdout",
          "text": [
            "Downloading data from https://s3.amazonaws.com/fcp-indi/data/Projects/ABIDE_Initiative/Outputs/cpac/filt_noglobal/rois_cc200/UM_1_0050379_rois_cc200.1D ...\n"
          ]
        },
        {
          "output_type": "stream",
          "name": "stderr",
          "text": [
            " ...done. (1 seconds, 0 min)\n"
          ]
        },
        {
          "output_type": "stream",
          "name": "stdout",
          "text": [
            "Downloading data from https://s3.amazonaws.com/fcp-indi/data/Projects/ABIDE_Initiative/Outputs/cpac/filt_noglobal/rois_cc200/UM_1_0050380_rois_cc200.1D ...\n"
          ]
        },
        {
          "output_type": "stream",
          "name": "stderr",
          "text": [
            " ...done. (1 seconds, 0 min)\n"
          ]
        },
        {
          "output_type": "stream",
          "name": "stdout",
          "text": [
            "Downloading data from https://s3.amazonaws.com/fcp-indi/data/Projects/ABIDE_Initiative/Outputs/cpac/filt_noglobal/rois_cc200/UM_1_0050381_rois_cc200.1D ...\n"
          ]
        },
        {
          "output_type": "stream",
          "name": "stderr",
          "text": [
            " ...done. (1 seconds, 0 min)\n"
          ]
        },
        {
          "output_type": "stream",
          "name": "stdout",
          "text": [
            "Downloading data from https://s3.amazonaws.com/fcp-indi/data/Projects/ABIDE_Initiative/Outputs/cpac/filt_noglobal/rois_cc200/UM_2_0050382_rois_cc200.1D ...\n"
          ]
        },
        {
          "output_type": "stream",
          "name": "stderr",
          "text": [
            " ...done. (1 seconds, 0 min)\n"
          ]
        },
        {
          "output_type": "stream",
          "name": "stdout",
          "text": [
            "Downloading data from https://s3.amazonaws.com/fcp-indi/data/Projects/ABIDE_Initiative/Outputs/cpac/filt_noglobal/rois_cc200/UM_2_0050383_rois_cc200.1D ...\n"
          ]
        },
        {
          "output_type": "stream",
          "name": "stderr",
          "text": [
            " ...done. (1 seconds, 0 min)\n"
          ]
        },
        {
          "output_type": "stream",
          "name": "stdout",
          "text": [
            "Downloading data from https://s3.amazonaws.com/fcp-indi/data/Projects/ABIDE_Initiative/Outputs/cpac/filt_noglobal/rois_cc200/UM_2_0050385_rois_cc200.1D ...\n"
          ]
        },
        {
          "output_type": "stream",
          "name": "stderr",
          "text": [
            " ...done. (1 seconds, 0 min)\n"
          ]
        },
        {
          "output_type": "stream",
          "name": "stdout",
          "text": [
            "Downloading data from https://s3.amazonaws.com/fcp-indi/data/Projects/ABIDE_Initiative/Outputs/cpac/filt_noglobal/rois_cc200/UM_2_0050386_rois_cc200.1D ...\n"
          ]
        },
        {
          "output_type": "stream",
          "name": "stderr",
          "text": [
            " ...done. (1 seconds, 0 min)\n"
          ]
        },
        {
          "output_type": "stream",
          "name": "stdout",
          "text": [
            "Downloading data from https://s3.amazonaws.com/fcp-indi/data/Projects/ABIDE_Initiative/Outputs/cpac/filt_noglobal/rois_cc200/UM_2_0050387_rois_cc200.1D ...\n"
          ]
        },
        {
          "output_type": "stream",
          "name": "stderr",
          "text": [
            " ...done. (1 seconds, 0 min)\n"
          ]
        },
        {
          "output_type": "stream",
          "name": "stdout",
          "text": [
            "Downloading data from https://s3.amazonaws.com/fcp-indi/data/Projects/ABIDE_Initiative/Outputs/cpac/filt_noglobal/rois_cc200/UM_2_0050388_rois_cc200.1D ...\n"
          ]
        },
        {
          "output_type": "stream",
          "name": "stderr",
          "text": [
            " ...done. (1 seconds, 0 min)\n"
          ]
        },
        {
          "output_type": "stream",
          "name": "stdout",
          "text": [
            "Downloading data from https://s3.amazonaws.com/fcp-indi/data/Projects/ABIDE_Initiative/Outputs/cpac/filt_noglobal/rois_cc200/UM_2_0050390_rois_cc200.1D ...\n"
          ]
        },
        {
          "output_type": "stream",
          "name": "stderr",
          "text": [
            " ...done. (1 seconds, 0 min)\n"
          ]
        },
        {
          "output_type": "stream",
          "name": "stdout",
          "text": [
            "Downloading data from https://s3.amazonaws.com/fcp-indi/data/Projects/ABIDE_Initiative/Outputs/cpac/filt_noglobal/rois_cc200/UM_2_0050391_rois_cc200.1D ...\n"
          ]
        },
        {
          "output_type": "stream",
          "name": "stderr",
          "text": [
            " ...done. (1 seconds, 0 min)\n"
          ]
        },
        {
          "output_type": "stream",
          "name": "stdout",
          "text": [
            "Downloading data from https://s3.amazonaws.com/fcp-indi/data/Projects/ABIDE_Initiative/Outputs/cpac/filt_noglobal/rois_cc200/UM_2_0050397_rois_cc200.1D ...\n"
          ]
        },
        {
          "output_type": "stream",
          "name": "stderr",
          "text": [
            " ...done. (1 seconds, 0 min)\n"
          ]
        },
        {
          "output_type": "stream",
          "name": "stdout",
          "text": [
            "Downloading data from https://s3.amazonaws.com/fcp-indi/data/Projects/ABIDE_Initiative/Outputs/cpac/filt_noglobal/rois_cc200/UM_2_0050399_rois_cc200.1D ...\n"
          ]
        },
        {
          "output_type": "stream",
          "name": "stderr",
          "text": [
            " ...done. (1 seconds, 0 min)\n"
          ]
        },
        {
          "output_type": "stream",
          "name": "stdout",
          "text": [
            "Downloading data from https://s3.amazonaws.com/fcp-indi/data/Projects/ABIDE_Initiative/Outputs/cpac/filt_noglobal/rois_cc200/UM_2_0050402_rois_cc200.1D ...\n"
          ]
        },
        {
          "output_type": "stream",
          "name": "stderr",
          "text": [
            " ...done. (1 seconds, 0 min)\n"
          ]
        },
        {
          "output_type": "stream",
          "name": "stdout",
          "text": [
            "Downloading data from https://s3.amazonaws.com/fcp-indi/data/Projects/ABIDE_Initiative/Outputs/cpac/filt_noglobal/rois_cc200/UM_2_0050403_rois_cc200.1D ...\n"
          ]
        },
        {
          "output_type": "stream",
          "name": "stderr",
          "text": [
            " ...done. (1 seconds, 0 min)\n"
          ]
        },
        {
          "output_type": "stream",
          "name": "stdout",
          "text": [
            "Downloading data from https://s3.amazonaws.com/fcp-indi/data/Projects/ABIDE_Initiative/Outputs/cpac/filt_noglobal/rois_cc200/UM_2_0050404_rois_cc200.1D ...\n"
          ]
        },
        {
          "output_type": "stream",
          "name": "stderr",
          "text": [
            " ...done. (1 seconds, 0 min)\n"
          ]
        },
        {
          "output_type": "stream",
          "name": "stdout",
          "text": [
            "Downloading data from https://s3.amazonaws.com/fcp-indi/data/Projects/ABIDE_Initiative/Outputs/cpac/filt_noglobal/rois_cc200/UM_2_0050405_rois_cc200.1D ...\n"
          ]
        },
        {
          "output_type": "stream",
          "name": "stderr",
          "text": [
            " ...done. (1 seconds, 0 min)\n"
          ]
        },
        {
          "output_type": "stream",
          "name": "stdout",
          "text": [
            "Downloading data from https://s3.amazonaws.com/fcp-indi/data/Projects/ABIDE_Initiative/Outputs/cpac/filt_noglobal/rois_cc200/UM_2_0050406_rois_cc200.1D ...\n"
          ]
        },
        {
          "output_type": "stream",
          "name": "stderr",
          "text": [
            " ...done. (1 seconds, 0 min)\n"
          ]
        },
        {
          "output_type": "stream",
          "name": "stdout",
          "text": [
            "Downloading data from https://s3.amazonaws.com/fcp-indi/data/Projects/ABIDE_Initiative/Outputs/cpac/filt_noglobal/rois_cc200/UM_2_0050407_rois_cc200.1D ...\n"
          ]
        },
        {
          "output_type": "stream",
          "name": "stderr",
          "text": [
            " ...done. (1 seconds, 0 min)\n"
          ]
        },
        {
          "output_type": "stream",
          "name": "stdout",
          "text": [
            "Downloading data from https://s3.amazonaws.com/fcp-indi/data/Projects/ABIDE_Initiative/Outputs/cpac/filt_noglobal/rois_cc200/UM_2_0050408_rois_cc200.1D ...\n"
          ]
        },
        {
          "output_type": "stream",
          "name": "stderr",
          "text": [
            " ...done. (1 seconds, 0 min)\n"
          ]
        },
        {
          "output_type": "stream",
          "name": "stdout",
          "text": [
            "Downloading data from https://s3.amazonaws.com/fcp-indi/data/Projects/ABIDE_Initiative/Outputs/cpac/filt_noglobal/rois_cc200/UM_2_0050410_rois_cc200.1D ...\n"
          ]
        },
        {
          "output_type": "stream",
          "name": "stderr",
          "text": [
            " ...done. (1 seconds, 0 min)\n"
          ]
        },
        {
          "output_type": "stream",
          "name": "stdout",
          "text": [
            "Downloading data from https://s3.amazonaws.com/fcp-indi/data/Projects/ABIDE_Initiative/Outputs/cpac/filt_noglobal/rois_cc200/UM_2_0050411_rois_cc200.1D ...\n"
          ]
        },
        {
          "output_type": "stream",
          "name": "stderr",
          "text": [
            " ...done. (1 seconds, 0 min)\n"
          ]
        },
        {
          "output_type": "stream",
          "name": "stdout",
          "text": [
            "Downloading data from https://s3.amazonaws.com/fcp-indi/data/Projects/ABIDE_Initiative/Outputs/cpac/filt_noglobal/rois_cc200/UM_2_0050412_rois_cc200.1D ...\n"
          ]
        },
        {
          "output_type": "stream",
          "name": "stderr",
          "text": [
            " ...done. (1 seconds, 0 min)\n"
          ]
        },
        {
          "output_type": "stream",
          "name": "stdout",
          "text": [
            "Downloading data from https://s3.amazonaws.com/fcp-indi/data/Projects/ABIDE_Initiative/Outputs/cpac/filt_noglobal/rois_cc200/UM_2_0050413_rois_cc200.1D ...\n"
          ]
        },
        {
          "output_type": "stream",
          "name": "stderr",
          "text": [
            " ...done. (1 seconds, 0 min)\n"
          ]
        },
        {
          "output_type": "stream",
          "name": "stdout",
          "text": [
            "Downloading data from https://s3.amazonaws.com/fcp-indi/data/Projects/ABIDE_Initiative/Outputs/cpac/filt_noglobal/rois_cc200/UM_2_0050414_rois_cc200.1D ...\n"
          ]
        },
        {
          "output_type": "stream",
          "name": "stderr",
          "text": [
            " ...done. (1 seconds, 0 min)\n"
          ]
        },
        {
          "output_type": "stream",
          "name": "stdout",
          "text": [
            "Downloading data from https://s3.amazonaws.com/fcp-indi/data/Projects/ABIDE_Initiative/Outputs/cpac/filt_noglobal/rois_cc200/UM_2_0050415_rois_cc200.1D ...\n"
          ]
        },
        {
          "output_type": "stream",
          "name": "stderr",
          "text": [
            " ...done. (1 seconds, 0 min)\n"
          ]
        },
        {
          "output_type": "stream",
          "name": "stdout",
          "text": [
            "Downloading data from https://s3.amazonaws.com/fcp-indi/data/Projects/ABIDE_Initiative/Outputs/cpac/filt_noglobal/rois_cc200/UM_2_0050416_rois_cc200.1D ...\n"
          ]
        },
        {
          "output_type": "stream",
          "name": "stderr",
          "text": [
            " ...done. (1 seconds, 0 min)\n"
          ]
        },
        {
          "output_type": "stream",
          "name": "stdout",
          "text": [
            "Downloading data from https://s3.amazonaws.com/fcp-indi/data/Projects/ABIDE_Initiative/Outputs/cpac/filt_noglobal/rois_cc200/UM_2_0050417_rois_cc200.1D ...\n"
          ]
        },
        {
          "output_type": "stream",
          "name": "stderr",
          "text": [
            " ...done. (1 seconds, 0 min)\n"
          ]
        },
        {
          "output_type": "stream",
          "name": "stdout",
          "text": [
            "Downloading data from https://s3.amazonaws.com/fcp-indi/data/Projects/ABIDE_Initiative/Outputs/cpac/filt_noglobal/rois_cc200/UM_2_0050418_rois_cc200.1D ...\n"
          ]
        },
        {
          "output_type": "stream",
          "name": "stderr",
          "text": [
            " ...done. (1 seconds, 0 min)\n"
          ]
        },
        {
          "output_type": "stream",
          "name": "stdout",
          "text": [
            "Downloading data from https://s3.amazonaws.com/fcp-indi/data/Projects/ABIDE_Initiative/Outputs/cpac/filt_noglobal/rois_cc200/UM_2_0050419_rois_cc200.1D ...\n"
          ]
        },
        {
          "output_type": "stream",
          "name": "stderr",
          "text": [
            " ...done. (1 seconds, 0 min)\n"
          ]
        },
        {
          "output_type": "stream",
          "name": "stdout",
          "text": [
            "Downloading data from https://s3.amazonaws.com/fcp-indi/data/Projects/ABIDE_Initiative/Outputs/cpac/filt_noglobal/rois_cc200/UM_2_0050421_rois_cc200.1D ...\n"
          ]
        },
        {
          "output_type": "stream",
          "name": "stderr",
          "text": [
            " ...done. (1 seconds, 0 min)\n"
          ]
        },
        {
          "output_type": "stream",
          "name": "stdout",
          "text": [
            "Downloading data from https://s3.amazonaws.com/fcp-indi/data/Projects/ABIDE_Initiative/Outputs/cpac/filt_noglobal/rois_cc200/UM_2_0050422_rois_cc200.1D ...\n"
          ]
        },
        {
          "output_type": "stream",
          "name": "stderr",
          "text": [
            " ...done. (1 seconds, 0 min)\n"
          ]
        },
        {
          "output_type": "stream",
          "name": "stdout",
          "text": [
            "Downloading data from https://s3.amazonaws.com/fcp-indi/data/Projects/ABIDE_Initiative/Outputs/cpac/filt_noglobal/rois_cc200/UM_2_0050424_rois_cc200.1D ...\n"
          ]
        },
        {
          "output_type": "stream",
          "name": "stderr",
          "text": [
            " ...done. (1 seconds, 0 min)\n"
          ]
        },
        {
          "output_type": "stream",
          "name": "stdout",
          "text": [
            "Downloading data from https://s3.amazonaws.com/fcp-indi/data/Projects/ABIDE_Initiative/Outputs/cpac/filt_noglobal/rois_cc200/UM_2_0050425_rois_cc200.1D ...\n"
          ]
        },
        {
          "output_type": "stream",
          "name": "stderr",
          "text": [
            " ...done. (1 seconds, 0 min)\n"
          ]
        },
        {
          "output_type": "stream",
          "name": "stdout",
          "text": [
            "Downloading data from https://s3.amazonaws.com/fcp-indi/data/Projects/ABIDE_Initiative/Outputs/cpac/filt_noglobal/rois_cc200/UM_2_0050426_rois_cc200.1D ...\n"
          ]
        },
        {
          "output_type": "stream",
          "name": "stderr",
          "text": [
            " ...done. (1 seconds, 0 min)\n"
          ]
        },
        {
          "output_type": "stream",
          "name": "stdout",
          "text": [
            "Downloading data from https://s3.amazonaws.com/fcp-indi/data/Projects/ABIDE_Initiative/Outputs/cpac/filt_noglobal/rois_cc200/UM_2_0050427_rois_cc200.1D ...\n"
          ]
        },
        {
          "output_type": "stream",
          "name": "stderr",
          "text": [
            " ...done. (1 seconds, 0 min)\n"
          ]
        },
        {
          "output_type": "stream",
          "name": "stdout",
          "text": [
            "Downloading data from https://s3.amazonaws.com/fcp-indi/data/Projects/ABIDE_Initiative/Outputs/cpac/filt_noglobal/rois_cc200/UM_2_0050428_rois_cc200.1D ...\n"
          ]
        },
        {
          "output_type": "stream",
          "name": "stderr",
          "text": [
            " ...done. (1 seconds, 0 min)\n"
          ]
        },
        {
          "output_type": "stream",
          "name": "stdout",
          "text": [
            "Downloading data from https://s3.amazonaws.com/fcp-indi/data/Projects/ABIDE_Initiative/Outputs/cpac/filt_noglobal/rois_cc200/USM_0050433_rois_cc200.1D ...\n"
          ]
        },
        {
          "output_type": "stream",
          "name": "stderr",
          "text": [
            " ...done. (1 seconds, 0 min)\n"
          ]
        },
        {
          "output_type": "stream",
          "name": "stdout",
          "text": [
            "Downloading data from https://s3.amazonaws.com/fcp-indi/data/Projects/ABIDE_Initiative/Outputs/cpac/filt_noglobal/rois_cc200/USM_0050434_rois_cc200.1D ...\n"
          ]
        },
        {
          "output_type": "stream",
          "name": "stderr",
          "text": [
            " ...done. (1 seconds, 0 min)\n"
          ]
        },
        {
          "output_type": "stream",
          "name": "stdout",
          "text": [
            "Downloading data from https://s3.amazonaws.com/fcp-indi/data/Projects/ABIDE_Initiative/Outputs/cpac/filt_noglobal/rois_cc200/USM_0050435_rois_cc200.1D ...\n"
          ]
        },
        {
          "output_type": "stream",
          "name": "stderr",
          "text": [
            " ...done. (1 seconds, 0 min)\n"
          ]
        },
        {
          "output_type": "stream",
          "name": "stdout",
          "text": [
            "Downloading data from https://s3.amazonaws.com/fcp-indi/data/Projects/ABIDE_Initiative/Outputs/cpac/filt_noglobal/rois_cc200/USM_0050436_rois_cc200.1D ...\n"
          ]
        },
        {
          "output_type": "stream",
          "name": "stderr",
          "text": [
            " ...done. (1 seconds, 0 min)\n"
          ]
        },
        {
          "output_type": "stream",
          "name": "stdout",
          "text": [
            "Downloading data from https://s3.amazonaws.com/fcp-indi/data/Projects/ABIDE_Initiative/Outputs/cpac/filt_noglobal/rois_cc200/USM_0050437_rois_cc200.1D ...\n"
          ]
        },
        {
          "output_type": "stream",
          "name": "stderr",
          "text": [
            " ...done. (1 seconds, 0 min)\n"
          ]
        },
        {
          "output_type": "stream",
          "name": "stdout",
          "text": [
            "Downloading data from https://s3.amazonaws.com/fcp-indi/data/Projects/ABIDE_Initiative/Outputs/cpac/filt_noglobal/rois_cc200/USM_0050438_rois_cc200.1D ...\n"
          ]
        },
        {
          "output_type": "stream",
          "name": "stderr",
          "text": [
            " ...done. (1 seconds, 0 min)\n"
          ]
        },
        {
          "output_type": "stream",
          "name": "stdout",
          "text": [
            "Downloading data from https://s3.amazonaws.com/fcp-indi/data/Projects/ABIDE_Initiative/Outputs/cpac/filt_noglobal/rois_cc200/USM_0050439_rois_cc200.1D ...\n"
          ]
        },
        {
          "output_type": "stream",
          "name": "stderr",
          "text": [
            " ...done. (1 seconds, 0 min)\n"
          ]
        },
        {
          "output_type": "stream",
          "name": "stdout",
          "text": [
            "Downloading data from https://s3.amazonaws.com/fcp-indi/data/Projects/ABIDE_Initiative/Outputs/cpac/filt_noglobal/rois_cc200/USM_0050440_rois_cc200.1D ...\n"
          ]
        },
        {
          "output_type": "stream",
          "name": "stderr",
          "text": [
            " ...done. (1 seconds, 0 min)\n"
          ]
        },
        {
          "output_type": "stream",
          "name": "stdout",
          "text": [
            "Downloading data from https://s3.amazonaws.com/fcp-indi/data/Projects/ABIDE_Initiative/Outputs/cpac/filt_noglobal/rois_cc200/USM_0050441_rois_cc200.1D ...\n"
          ]
        },
        {
          "output_type": "stream",
          "name": "stderr",
          "text": [
            " ...done. (1 seconds, 0 min)\n"
          ]
        },
        {
          "output_type": "stream",
          "name": "stdout",
          "text": [
            "Downloading data from https://s3.amazonaws.com/fcp-indi/data/Projects/ABIDE_Initiative/Outputs/cpac/filt_noglobal/rois_cc200/USM_0050442_rois_cc200.1D ...\n"
          ]
        },
        {
          "output_type": "stream",
          "name": "stderr",
          "text": [
            " ...done. (1 seconds, 0 min)\n"
          ]
        },
        {
          "output_type": "stream",
          "name": "stdout",
          "text": [
            "Downloading data from https://s3.amazonaws.com/fcp-indi/data/Projects/ABIDE_Initiative/Outputs/cpac/filt_noglobal/rois_cc200/USM_0050443_rois_cc200.1D ...\n"
          ]
        },
        {
          "output_type": "stream",
          "name": "stderr",
          "text": [
            " ...done. (1 seconds, 0 min)\n"
          ]
        },
        {
          "output_type": "stream",
          "name": "stdout",
          "text": [
            "Downloading data from https://s3.amazonaws.com/fcp-indi/data/Projects/ABIDE_Initiative/Outputs/cpac/filt_noglobal/rois_cc200/USM_0050444_rois_cc200.1D ...\n"
          ]
        },
        {
          "output_type": "stream",
          "name": "stderr",
          "text": [
            " ...done. (1 seconds, 0 min)\n"
          ]
        },
        {
          "output_type": "stream",
          "name": "stdout",
          "text": [
            "Downloading data from https://s3.amazonaws.com/fcp-indi/data/Projects/ABIDE_Initiative/Outputs/cpac/filt_noglobal/rois_cc200/USM_0050445_rois_cc200.1D ...\n"
          ]
        },
        {
          "output_type": "stream",
          "name": "stderr",
          "text": [
            " ...done. (1 seconds, 0 min)\n"
          ]
        },
        {
          "output_type": "stream",
          "name": "stdout",
          "text": [
            "Downloading data from https://s3.amazonaws.com/fcp-indi/data/Projects/ABIDE_Initiative/Outputs/cpac/filt_noglobal/rois_cc200/USM_0050446_rois_cc200.1D ...\n"
          ]
        },
        {
          "output_type": "stream",
          "name": "stderr",
          "text": [
            " ...done. (1 seconds, 0 min)\n"
          ]
        },
        {
          "output_type": "stream",
          "name": "stdout",
          "text": [
            "Downloading data from https://s3.amazonaws.com/fcp-indi/data/Projects/ABIDE_Initiative/Outputs/cpac/filt_noglobal/rois_cc200/USM_0050447_rois_cc200.1D ...\n"
          ]
        },
        {
          "output_type": "stream",
          "name": "stderr",
          "text": [
            " ...done. (1 seconds, 0 min)\n"
          ]
        },
        {
          "output_type": "stream",
          "name": "stdout",
          "text": [
            "Downloading data from https://s3.amazonaws.com/fcp-indi/data/Projects/ABIDE_Initiative/Outputs/cpac/filt_noglobal/rois_cc200/USM_0050448_rois_cc200.1D ...\n"
          ]
        },
        {
          "output_type": "stream",
          "name": "stderr",
          "text": [
            " ...done. (1 seconds, 0 min)\n"
          ]
        },
        {
          "output_type": "stream",
          "name": "stdout",
          "text": [
            "Downloading data from https://s3.amazonaws.com/fcp-indi/data/Projects/ABIDE_Initiative/Outputs/cpac/filt_noglobal/rois_cc200/USM_0050449_rois_cc200.1D ...\n"
          ]
        },
        {
          "output_type": "stream",
          "name": "stderr",
          "text": [
            " ...done. (1 seconds, 0 min)\n"
          ]
        },
        {
          "output_type": "stream",
          "name": "stdout",
          "text": [
            "Downloading data from https://s3.amazonaws.com/fcp-indi/data/Projects/ABIDE_Initiative/Outputs/cpac/filt_noglobal/rois_cc200/USM_0050453_rois_cc200.1D ...\n"
          ]
        },
        {
          "output_type": "stream",
          "name": "stderr",
          "text": [
            " ...done. (1 seconds, 0 min)\n"
          ]
        },
        {
          "output_type": "stream",
          "name": "stdout",
          "text": [
            "Downloading data from https://s3.amazonaws.com/fcp-indi/data/Projects/ABIDE_Initiative/Outputs/cpac/filt_noglobal/rois_cc200/USM_0050455_rois_cc200.1D ...\n"
          ]
        },
        {
          "output_type": "stream",
          "name": "stderr",
          "text": [
            " ...done. (1 seconds, 0 min)\n"
          ]
        },
        {
          "output_type": "stream",
          "name": "stdout",
          "text": [
            "Downloading data from https://s3.amazonaws.com/fcp-indi/data/Projects/ABIDE_Initiative/Outputs/cpac/filt_noglobal/rois_cc200/USM_0050463_rois_cc200.1D ...\n"
          ]
        },
        {
          "output_type": "stream",
          "name": "stderr",
          "text": [
            " ...done. (1 seconds, 0 min)\n"
          ]
        },
        {
          "output_type": "stream",
          "name": "stdout",
          "text": [
            "Downloading data from https://s3.amazonaws.com/fcp-indi/data/Projects/ABIDE_Initiative/Outputs/cpac/filt_noglobal/rois_cc200/USM_0050466_rois_cc200.1D ...\n"
          ]
        },
        {
          "output_type": "stream",
          "name": "stderr",
          "text": [
            " ...done. (1 seconds, 0 min)\n"
          ]
        },
        {
          "output_type": "stream",
          "name": "stdout",
          "text": [
            "Downloading data from https://s3.amazonaws.com/fcp-indi/data/Projects/ABIDE_Initiative/Outputs/cpac/filt_noglobal/rois_cc200/USM_0050467_rois_cc200.1D ...\n"
          ]
        },
        {
          "output_type": "stream",
          "name": "stderr",
          "text": [
            " ...done. (1 seconds, 0 min)\n"
          ]
        },
        {
          "output_type": "stream",
          "name": "stdout",
          "text": [
            "Downloading data from https://s3.amazonaws.com/fcp-indi/data/Projects/ABIDE_Initiative/Outputs/cpac/filt_noglobal/rois_cc200/USM_0050468_rois_cc200.1D ...\n"
          ]
        },
        {
          "output_type": "stream",
          "name": "stderr",
          "text": [
            " ...done. (1 seconds, 0 min)\n"
          ]
        },
        {
          "output_type": "stream",
          "name": "stdout",
          "text": [
            "Downloading data from https://s3.amazonaws.com/fcp-indi/data/Projects/ABIDE_Initiative/Outputs/cpac/filt_noglobal/rois_cc200/USM_0050469_rois_cc200.1D ...\n"
          ]
        },
        {
          "output_type": "stream",
          "name": "stderr",
          "text": [
            " ...done. (1 seconds, 0 min)\n"
          ]
        },
        {
          "output_type": "stream",
          "name": "stdout",
          "text": [
            "Downloading data from https://s3.amazonaws.com/fcp-indi/data/Projects/ABIDE_Initiative/Outputs/cpac/filt_noglobal/rois_cc200/USM_0050470_rois_cc200.1D ...\n"
          ]
        },
        {
          "output_type": "stream",
          "name": "stderr",
          "text": [
            " ...done. (1 seconds, 0 min)\n"
          ]
        },
        {
          "output_type": "stream",
          "name": "stdout",
          "text": [
            "Downloading data from https://s3.amazonaws.com/fcp-indi/data/Projects/ABIDE_Initiative/Outputs/cpac/filt_noglobal/rois_cc200/USM_0050477_rois_cc200.1D ...\n"
          ]
        },
        {
          "output_type": "stream",
          "name": "stderr",
          "text": [
            " ...done. (1 seconds, 0 min)\n"
          ]
        },
        {
          "output_type": "stream",
          "name": "stdout",
          "text": [
            "Downloading data from https://s3.amazonaws.com/fcp-indi/data/Projects/ABIDE_Initiative/Outputs/cpac/filt_noglobal/rois_cc200/USM_0050480_rois_cc200.1D ...\n"
          ]
        },
        {
          "output_type": "stream",
          "name": "stderr",
          "text": [
            " ...done. (1 seconds, 0 min)\n"
          ]
        },
        {
          "output_type": "stream",
          "name": "stdout",
          "text": [
            "Downloading data from https://s3.amazonaws.com/fcp-indi/data/Projects/ABIDE_Initiative/Outputs/cpac/filt_noglobal/rois_cc200/USM_0050481_rois_cc200.1D ...\n"
          ]
        },
        {
          "output_type": "stream",
          "name": "stderr",
          "text": [
            " ...done. (1 seconds, 0 min)\n"
          ]
        },
        {
          "output_type": "stream",
          "name": "stdout",
          "text": [
            "Downloading data from https://s3.amazonaws.com/fcp-indi/data/Projects/ABIDE_Initiative/Outputs/cpac/filt_noglobal/rois_cc200/USM_0050482_rois_cc200.1D ...\n"
          ]
        },
        {
          "output_type": "stream",
          "name": "stderr",
          "text": [
            " ...done. (1 seconds, 0 min)\n"
          ]
        },
        {
          "output_type": "stream",
          "name": "stdout",
          "text": [
            "Downloading data from https://s3.amazonaws.com/fcp-indi/data/Projects/ABIDE_Initiative/Outputs/cpac/filt_noglobal/rois_cc200/USM_0050483_rois_cc200.1D ...\n"
          ]
        },
        {
          "output_type": "stream",
          "name": "stderr",
          "text": [
            " ...done. (1 seconds, 0 min)\n"
          ]
        },
        {
          "output_type": "stream",
          "name": "stdout",
          "text": [
            "Downloading data from https://s3.amazonaws.com/fcp-indi/data/Projects/ABIDE_Initiative/Outputs/cpac/filt_noglobal/rois_cc200/USM_0050485_rois_cc200.1D ...\n"
          ]
        },
        {
          "output_type": "stream",
          "name": "stderr",
          "text": [
            " ...done. (1 seconds, 0 min)\n"
          ]
        },
        {
          "output_type": "stream",
          "name": "stdout",
          "text": [
            "Downloading data from https://s3.amazonaws.com/fcp-indi/data/Projects/ABIDE_Initiative/Outputs/cpac/filt_noglobal/rois_cc200/USM_0050486_rois_cc200.1D ...\n"
          ]
        },
        {
          "output_type": "stream",
          "name": "stderr",
          "text": [
            " ...done. (1 seconds, 0 min)\n"
          ]
        },
        {
          "output_type": "stream",
          "name": "stdout",
          "text": [
            "Downloading data from https://s3.amazonaws.com/fcp-indi/data/Projects/ABIDE_Initiative/Outputs/cpac/filt_noglobal/rois_cc200/USM_0050487_rois_cc200.1D ...\n"
          ]
        },
        {
          "output_type": "stream",
          "name": "stderr",
          "text": [
            " ...done. (1 seconds, 0 min)\n"
          ]
        },
        {
          "output_type": "stream",
          "name": "stdout",
          "text": [
            "Downloading data from https://s3.amazonaws.com/fcp-indi/data/Projects/ABIDE_Initiative/Outputs/cpac/filt_noglobal/rois_cc200/USM_0050488_rois_cc200.1D ...\n"
          ]
        },
        {
          "output_type": "stream",
          "name": "stderr",
          "text": [
            " ...done. (1 seconds, 0 min)\n"
          ]
        },
        {
          "output_type": "stream",
          "name": "stdout",
          "text": [
            "Downloading data from https://s3.amazonaws.com/fcp-indi/data/Projects/ABIDE_Initiative/Outputs/cpac/filt_noglobal/rois_cc200/USM_0050489_rois_cc200.1D ...\n"
          ]
        },
        {
          "output_type": "stream",
          "name": "stderr",
          "text": [
            " ...done. (1 seconds, 0 min)\n"
          ]
        },
        {
          "output_type": "stream",
          "name": "stdout",
          "text": [
            "Downloading data from https://s3.amazonaws.com/fcp-indi/data/Projects/ABIDE_Initiative/Outputs/cpac/filt_noglobal/rois_cc200/USM_0050490_rois_cc200.1D ...\n"
          ]
        },
        {
          "output_type": "stream",
          "name": "stderr",
          "text": [
            " ...done. (1 seconds, 0 min)\n"
          ]
        },
        {
          "output_type": "stream",
          "name": "stdout",
          "text": [
            "Downloading data from https://s3.amazonaws.com/fcp-indi/data/Projects/ABIDE_Initiative/Outputs/cpac/filt_noglobal/rois_cc200/USM_0050491_rois_cc200.1D ...\n"
          ]
        },
        {
          "output_type": "stream",
          "name": "stderr",
          "text": [
            " ...done. (1 seconds, 0 min)\n"
          ]
        },
        {
          "output_type": "stream",
          "name": "stdout",
          "text": [
            "Downloading data from https://s3.amazonaws.com/fcp-indi/data/Projects/ABIDE_Initiative/Outputs/cpac/filt_noglobal/rois_cc200/USM_0050492_rois_cc200.1D ...\n"
          ]
        },
        {
          "output_type": "stream",
          "name": "stderr",
          "text": [
            " ...done. (1 seconds, 0 min)\n"
          ]
        },
        {
          "output_type": "stream",
          "name": "stdout",
          "text": [
            "Downloading data from https://s3.amazonaws.com/fcp-indi/data/Projects/ABIDE_Initiative/Outputs/cpac/filt_noglobal/rois_cc200/USM_0050493_rois_cc200.1D ...\n"
          ]
        },
        {
          "output_type": "stream",
          "name": "stderr",
          "text": [
            " ...done. (1 seconds, 0 min)\n"
          ]
        },
        {
          "output_type": "stream",
          "name": "stdout",
          "text": [
            "Downloading data from https://s3.amazonaws.com/fcp-indi/data/Projects/ABIDE_Initiative/Outputs/cpac/filt_noglobal/rois_cc200/USM_0050494_rois_cc200.1D ...\n"
          ]
        },
        {
          "output_type": "stream",
          "name": "stderr",
          "text": [
            " ...done. (1 seconds, 0 min)\n"
          ]
        },
        {
          "output_type": "stream",
          "name": "stdout",
          "text": [
            "Downloading data from https://s3.amazonaws.com/fcp-indi/data/Projects/ABIDE_Initiative/Outputs/cpac/filt_noglobal/rois_cc200/USM_0050496_rois_cc200.1D ...\n"
          ]
        },
        {
          "output_type": "stream",
          "name": "stderr",
          "text": [
            " ...done. (1 seconds, 0 min)\n"
          ]
        },
        {
          "output_type": "stream",
          "name": "stdout",
          "text": [
            "Downloading data from https://s3.amazonaws.com/fcp-indi/data/Projects/ABIDE_Initiative/Outputs/cpac/filt_noglobal/rois_cc200/USM_0050497_rois_cc200.1D ...\n"
          ]
        },
        {
          "output_type": "stream",
          "name": "stderr",
          "text": [
            " ...done. (1 seconds, 0 min)\n"
          ]
        },
        {
          "output_type": "stream",
          "name": "stdout",
          "text": [
            "Downloading data from https://s3.amazonaws.com/fcp-indi/data/Projects/ABIDE_Initiative/Outputs/cpac/filt_noglobal/rois_cc200/USM_0050498_rois_cc200.1D ...\n"
          ]
        },
        {
          "output_type": "stream",
          "name": "stderr",
          "text": [
            " ...done. (1 seconds, 0 min)\n"
          ]
        },
        {
          "output_type": "stream",
          "name": "stdout",
          "text": [
            "Downloading data from https://s3.amazonaws.com/fcp-indi/data/Projects/ABIDE_Initiative/Outputs/cpac/filt_noglobal/rois_cc200/USM_0050499_rois_cc200.1D ...\n"
          ]
        },
        {
          "output_type": "stream",
          "name": "stderr",
          "text": [
            " ...done. (1 seconds, 0 min)\n"
          ]
        },
        {
          "output_type": "stream",
          "name": "stdout",
          "text": [
            "Downloading data from https://s3.amazonaws.com/fcp-indi/data/Projects/ABIDE_Initiative/Outputs/cpac/filt_noglobal/rois_cc200/USM_0050500_rois_cc200.1D ...\n"
          ]
        },
        {
          "output_type": "stream",
          "name": "stderr",
          "text": [
            " ...done. (1 seconds, 0 min)\n"
          ]
        },
        {
          "output_type": "stream",
          "name": "stdout",
          "text": [
            "Downloading data from https://s3.amazonaws.com/fcp-indi/data/Projects/ABIDE_Initiative/Outputs/cpac/filt_noglobal/rois_cc200/USM_0050501_rois_cc200.1D ...\n"
          ]
        },
        {
          "output_type": "stream",
          "name": "stderr",
          "text": [
            " ...done. (1 seconds, 0 min)\n"
          ]
        },
        {
          "output_type": "stream",
          "name": "stdout",
          "text": [
            "Downloading data from https://s3.amazonaws.com/fcp-indi/data/Projects/ABIDE_Initiative/Outputs/cpac/filt_noglobal/rois_cc200/USM_0050502_rois_cc200.1D ...\n"
          ]
        },
        {
          "output_type": "stream",
          "name": "stderr",
          "text": [
            " ...done. (1 seconds, 0 min)\n"
          ]
        },
        {
          "output_type": "stream",
          "name": "stdout",
          "text": [
            "Downloading data from https://s3.amazonaws.com/fcp-indi/data/Projects/ABIDE_Initiative/Outputs/cpac/filt_noglobal/rois_cc200/USM_0050503_rois_cc200.1D ...\n"
          ]
        },
        {
          "output_type": "stream",
          "name": "stderr",
          "text": [
            " ...done. (1 seconds, 0 min)\n"
          ]
        },
        {
          "output_type": "stream",
          "name": "stdout",
          "text": [
            "Downloading data from https://s3.amazonaws.com/fcp-indi/data/Projects/ABIDE_Initiative/Outputs/cpac/filt_noglobal/rois_cc200/USM_0050504_rois_cc200.1D ...\n"
          ]
        },
        {
          "output_type": "stream",
          "name": "stderr",
          "text": [
            " ...done. (1 seconds, 0 min)\n"
          ]
        },
        {
          "output_type": "stream",
          "name": "stdout",
          "text": [
            "Downloading data from https://s3.amazonaws.com/fcp-indi/data/Projects/ABIDE_Initiative/Outputs/cpac/filt_noglobal/rois_cc200/USM_0050505_rois_cc200.1D ...\n"
          ]
        },
        {
          "output_type": "stream",
          "name": "stderr",
          "text": [
            " ...done. (1 seconds, 0 min)\n"
          ]
        },
        {
          "output_type": "stream",
          "name": "stdout",
          "text": [
            "Downloading data from https://s3.amazonaws.com/fcp-indi/data/Projects/ABIDE_Initiative/Outputs/cpac/filt_noglobal/rois_cc200/USM_0050507_rois_cc200.1D ...\n"
          ]
        },
        {
          "output_type": "stream",
          "name": "stderr",
          "text": [
            " ...done. (1 seconds, 0 min)\n"
          ]
        },
        {
          "output_type": "stream",
          "name": "stdout",
          "text": [
            "Downloading data from https://s3.amazonaws.com/fcp-indi/data/Projects/ABIDE_Initiative/Outputs/cpac/filt_noglobal/rois_cc200/USM_0050509_rois_cc200.1D ...\n"
          ]
        },
        {
          "output_type": "stream",
          "name": "stderr",
          "text": [
            " ...done. (1 seconds, 0 min)\n"
          ]
        },
        {
          "output_type": "stream",
          "name": "stdout",
          "text": [
            "Downloading data from https://s3.amazonaws.com/fcp-indi/data/Projects/ABIDE_Initiative/Outputs/cpac/filt_noglobal/rois_cc200/USM_0050510_rois_cc200.1D ...\n"
          ]
        },
        {
          "output_type": "stream",
          "name": "stderr",
          "text": [
            " ...done. (1 seconds, 0 min)\n"
          ]
        },
        {
          "output_type": "stream",
          "name": "stdout",
          "text": [
            "Downloading data from https://s3.amazonaws.com/fcp-indi/data/Projects/ABIDE_Initiative/Outputs/cpac/filt_noglobal/rois_cc200/USM_0050511_rois_cc200.1D ...\n"
          ]
        },
        {
          "output_type": "stream",
          "name": "stderr",
          "text": [
            " ...done. (1 seconds, 0 min)\n"
          ]
        },
        {
          "output_type": "stream",
          "name": "stdout",
          "text": [
            "Downloading data from https://s3.amazonaws.com/fcp-indi/data/Projects/ABIDE_Initiative/Outputs/cpac/filt_noglobal/rois_cc200/USM_0050514_rois_cc200.1D ...\n"
          ]
        },
        {
          "output_type": "stream",
          "name": "stderr",
          "text": [
            " ...done. (1 seconds, 0 min)\n"
          ]
        },
        {
          "output_type": "stream",
          "name": "stdout",
          "text": [
            "Downloading data from https://s3.amazonaws.com/fcp-indi/data/Projects/ABIDE_Initiative/Outputs/cpac/filt_noglobal/rois_cc200/USM_0050515_rois_cc200.1D ...\n"
          ]
        },
        {
          "output_type": "stream",
          "name": "stderr",
          "text": [
            " ...done. (1 seconds, 0 min)\n"
          ]
        },
        {
          "output_type": "stream",
          "name": "stdout",
          "text": [
            "Downloading data from https://s3.amazonaws.com/fcp-indi/data/Projects/ABIDE_Initiative/Outputs/cpac/filt_noglobal/rois_cc200/USM_0050516_rois_cc200.1D ...\n"
          ]
        },
        {
          "output_type": "stream",
          "name": "stderr",
          "text": [
            " ...done. (1 seconds, 0 min)\n"
          ]
        },
        {
          "output_type": "stream",
          "name": "stdout",
          "text": [
            "Downloading data from https://s3.amazonaws.com/fcp-indi/data/Projects/ABIDE_Initiative/Outputs/cpac/filt_noglobal/rois_cc200/USM_0050518_rois_cc200.1D ...\n"
          ]
        },
        {
          "output_type": "stream",
          "name": "stderr",
          "text": [
            " ...done. (1 seconds, 0 min)\n"
          ]
        },
        {
          "output_type": "stream",
          "name": "stdout",
          "text": [
            "Downloading data from https://s3.amazonaws.com/fcp-indi/data/Projects/ABIDE_Initiative/Outputs/cpac/filt_noglobal/rois_cc200/USM_0050519_rois_cc200.1D ...\n"
          ]
        },
        {
          "output_type": "stream",
          "name": "stderr",
          "text": [
            " ...done. (1 seconds, 0 min)\n"
          ]
        },
        {
          "output_type": "stream",
          "name": "stdout",
          "text": [
            "Downloading data from https://s3.amazonaws.com/fcp-indi/data/Projects/ABIDE_Initiative/Outputs/cpac/filt_noglobal/rois_cc200/USM_0050520_rois_cc200.1D ...\n"
          ]
        },
        {
          "output_type": "stream",
          "name": "stderr",
          "text": [
            " ...done. (1 seconds, 0 min)\n"
          ]
        },
        {
          "output_type": "stream",
          "name": "stdout",
          "text": [
            "Downloading data from https://s3.amazonaws.com/fcp-indi/data/Projects/ABIDE_Initiative/Outputs/cpac/filt_noglobal/rois_cc200/USM_0050521_rois_cc200.1D ...\n"
          ]
        },
        {
          "output_type": "stream",
          "name": "stderr",
          "text": [
            " ...done. (1 seconds, 0 min)\n"
          ]
        },
        {
          "output_type": "stream",
          "name": "stdout",
          "text": [
            "Downloading data from https://s3.amazonaws.com/fcp-indi/data/Projects/ABIDE_Initiative/Outputs/cpac/filt_noglobal/rois_cc200/USM_0050523_rois_cc200.1D ...\n"
          ]
        },
        {
          "output_type": "stream",
          "name": "stderr",
          "text": [
            " ...done. (1 seconds, 0 min)\n"
          ]
        },
        {
          "output_type": "stream",
          "name": "stdout",
          "text": [
            "Downloading data from https://s3.amazonaws.com/fcp-indi/data/Projects/ABIDE_Initiative/Outputs/cpac/filt_noglobal/rois_cc200/USM_0050524_rois_cc200.1D ...\n"
          ]
        },
        {
          "output_type": "stream",
          "name": "stderr",
          "text": [
            " ...done. (1 seconds, 0 min)\n"
          ]
        },
        {
          "output_type": "stream",
          "name": "stdout",
          "text": [
            "Downloading data from https://s3.amazonaws.com/fcp-indi/data/Projects/ABIDE_Initiative/Outputs/cpac/filt_noglobal/rois_cc200/USM_0050525_rois_cc200.1D ...\n"
          ]
        },
        {
          "output_type": "stream",
          "name": "stderr",
          "text": [
            " ...done. (1 seconds, 0 min)\n"
          ]
        },
        {
          "output_type": "stream",
          "name": "stdout",
          "text": [
            "Downloading data from https://s3.amazonaws.com/fcp-indi/data/Projects/ABIDE_Initiative/Outputs/cpac/filt_noglobal/rois_cc200/USM_0050526_rois_cc200.1D ...\n"
          ]
        },
        {
          "output_type": "stream",
          "name": "stderr",
          "text": [
            " ...done. (1 seconds, 0 min)\n"
          ]
        },
        {
          "output_type": "stream",
          "name": "stdout",
          "text": [
            "Downloading data from https://s3.amazonaws.com/fcp-indi/data/Projects/ABIDE_Initiative/Outputs/cpac/filt_noglobal/rois_cc200/USM_0050527_rois_cc200.1D ...\n"
          ]
        },
        {
          "output_type": "stream",
          "name": "stderr",
          "text": [
            " ...done. (1 seconds, 0 min)\n"
          ]
        },
        {
          "output_type": "stream",
          "name": "stdout",
          "text": [
            "Downloading data from https://s3.amazonaws.com/fcp-indi/data/Projects/ABIDE_Initiative/Outputs/cpac/filt_noglobal/rois_cc200/USM_0050528_rois_cc200.1D ...\n"
          ]
        },
        {
          "output_type": "stream",
          "name": "stderr",
          "text": [
            " ...done. (1 seconds, 0 min)\n"
          ]
        },
        {
          "output_type": "stream",
          "name": "stdout",
          "text": [
            "Downloading data from https://s3.amazonaws.com/fcp-indi/data/Projects/ABIDE_Initiative/Outputs/cpac/filt_noglobal/rois_cc200/USM_0050529_rois_cc200.1D ...\n"
          ]
        },
        {
          "output_type": "stream",
          "name": "stderr",
          "text": [
            " ...done. (1 seconds, 0 min)\n"
          ]
        },
        {
          "output_type": "stream",
          "name": "stdout",
          "text": [
            "Downloading data from https://s3.amazonaws.com/fcp-indi/data/Projects/ABIDE_Initiative/Outputs/cpac/filt_noglobal/rois_cc200/USM_0050530_rois_cc200.1D ...\n"
          ]
        },
        {
          "output_type": "stream",
          "name": "stderr",
          "text": [
            " ...done. (1 seconds, 0 min)\n"
          ]
        },
        {
          "output_type": "stream",
          "name": "stdout",
          "text": [
            "Downloading data from https://s3.amazonaws.com/fcp-indi/data/Projects/ABIDE_Initiative/Outputs/cpac/filt_noglobal/rois_cc200/USM_0050531_rois_cc200.1D ...\n"
          ]
        },
        {
          "output_type": "stream",
          "name": "stderr",
          "text": [
            " ...done. (1 seconds, 0 min)\n"
          ]
        },
        {
          "output_type": "stream",
          "name": "stdout",
          "text": [
            "Downloading data from https://s3.amazonaws.com/fcp-indi/data/Projects/ABIDE_Initiative/Outputs/cpac/filt_noglobal/rois_cc200/USM_0050532_rois_cc200.1D ...\n"
          ]
        },
        {
          "output_type": "stream",
          "name": "stderr",
          "text": [
            " ...done. (1 seconds, 0 min)\n"
          ]
        },
        {
          "output_type": "stream",
          "name": "stdout",
          "text": [
            "Downloading data from https://s3.amazonaws.com/fcp-indi/data/Projects/ABIDE_Initiative/Outputs/cpac/filt_noglobal/rois_cc200/Yale_0050551_rois_cc200.1D ...\n"
          ]
        },
        {
          "output_type": "stream",
          "name": "stderr",
          "text": [
            " ...done. (1 seconds, 0 min)\n"
          ]
        },
        {
          "output_type": "stream",
          "name": "stdout",
          "text": [
            "Downloading data from https://s3.amazonaws.com/fcp-indi/data/Projects/ABIDE_Initiative/Outputs/cpac/filt_noglobal/rois_cc200/Yale_0050552_rois_cc200.1D ...\n"
          ]
        },
        {
          "output_type": "stream",
          "name": "stderr",
          "text": [
            " ...done. (1 seconds, 0 min)\n"
          ]
        },
        {
          "output_type": "stream",
          "name": "stdout",
          "text": [
            "Downloading data from https://s3.amazonaws.com/fcp-indi/data/Projects/ABIDE_Initiative/Outputs/cpac/filt_noglobal/rois_cc200/Yale_0050553_rois_cc200.1D ...\n"
          ]
        },
        {
          "output_type": "stream",
          "name": "stderr",
          "text": [
            " ...done. (1 seconds, 0 min)\n"
          ]
        },
        {
          "output_type": "stream",
          "name": "stdout",
          "text": [
            "Downloading data from https://s3.amazonaws.com/fcp-indi/data/Projects/ABIDE_Initiative/Outputs/cpac/filt_noglobal/rois_cc200/Yale_0050554_rois_cc200.1D ...\n"
          ]
        },
        {
          "output_type": "stream",
          "name": "stderr",
          "text": [
            " ...done. (1 seconds, 0 min)\n"
          ]
        },
        {
          "output_type": "stream",
          "name": "stdout",
          "text": [
            "Downloading data from https://s3.amazonaws.com/fcp-indi/data/Projects/ABIDE_Initiative/Outputs/cpac/filt_noglobal/rois_cc200/Yale_0050555_rois_cc200.1D ...\n"
          ]
        },
        {
          "output_type": "stream",
          "name": "stderr",
          "text": [
            " ...done. (1 seconds, 0 min)\n"
          ]
        },
        {
          "output_type": "stream",
          "name": "stdout",
          "text": [
            "Downloading data from https://s3.amazonaws.com/fcp-indi/data/Projects/ABIDE_Initiative/Outputs/cpac/filt_noglobal/rois_cc200/Yale_0050556_rois_cc200.1D ...\n"
          ]
        },
        {
          "output_type": "stream",
          "name": "stderr",
          "text": [
            " ...done. (1 seconds, 0 min)\n"
          ]
        },
        {
          "output_type": "stream",
          "name": "stdout",
          "text": [
            "Downloading data from https://s3.amazonaws.com/fcp-indi/data/Projects/ABIDE_Initiative/Outputs/cpac/filt_noglobal/rois_cc200/Yale_0050557_rois_cc200.1D ...\n"
          ]
        },
        {
          "output_type": "stream",
          "name": "stderr",
          "text": [
            " ...done. (1 seconds, 0 min)\n"
          ]
        },
        {
          "output_type": "stream",
          "name": "stdout",
          "text": [
            "Downloading data from https://s3.amazonaws.com/fcp-indi/data/Projects/ABIDE_Initiative/Outputs/cpac/filt_noglobal/rois_cc200/Yale_0050558_rois_cc200.1D ...\n"
          ]
        },
        {
          "output_type": "stream",
          "name": "stderr",
          "text": [
            " ...done. (1 seconds, 0 min)\n"
          ]
        },
        {
          "output_type": "stream",
          "name": "stdout",
          "text": [
            "Downloading data from https://s3.amazonaws.com/fcp-indi/data/Projects/ABIDE_Initiative/Outputs/cpac/filt_noglobal/rois_cc200/Yale_0050559_rois_cc200.1D ...\n"
          ]
        },
        {
          "output_type": "stream",
          "name": "stderr",
          "text": [
            " ...done. (1 seconds, 0 min)\n"
          ]
        },
        {
          "output_type": "stream",
          "name": "stdout",
          "text": [
            "Downloading data from https://s3.amazonaws.com/fcp-indi/data/Projects/ABIDE_Initiative/Outputs/cpac/filt_noglobal/rois_cc200/Yale_0050560_rois_cc200.1D ...\n"
          ]
        },
        {
          "output_type": "stream",
          "name": "stderr",
          "text": [
            " ...done. (1 seconds, 0 min)\n"
          ]
        },
        {
          "output_type": "stream",
          "name": "stdout",
          "text": [
            "Downloading data from https://s3.amazonaws.com/fcp-indi/data/Projects/ABIDE_Initiative/Outputs/cpac/filt_noglobal/rois_cc200/Yale_0050561_rois_cc200.1D ...\n"
          ]
        },
        {
          "output_type": "stream",
          "name": "stderr",
          "text": [
            " ...done. (1 seconds, 0 min)\n"
          ]
        },
        {
          "output_type": "stream",
          "name": "stdout",
          "text": [
            "Downloading data from https://s3.amazonaws.com/fcp-indi/data/Projects/ABIDE_Initiative/Outputs/cpac/filt_noglobal/rois_cc200/Yale_0050562_rois_cc200.1D ...\n"
          ]
        },
        {
          "output_type": "stream",
          "name": "stderr",
          "text": [
            " ...done. (1 seconds, 0 min)\n"
          ]
        },
        {
          "output_type": "stream",
          "name": "stdout",
          "text": [
            "Downloading data from https://s3.amazonaws.com/fcp-indi/data/Projects/ABIDE_Initiative/Outputs/cpac/filt_noglobal/rois_cc200/Yale_0050563_rois_cc200.1D ...\n"
          ]
        },
        {
          "output_type": "stream",
          "name": "stderr",
          "text": [
            " ...done. (1 seconds, 0 min)\n"
          ]
        },
        {
          "output_type": "stream",
          "name": "stdout",
          "text": [
            "Downloading data from https://s3.amazonaws.com/fcp-indi/data/Projects/ABIDE_Initiative/Outputs/cpac/filt_noglobal/rois_cc200/Yale_0050564_rois_cc200.1D ...\n"
          ]
        },
        {
          "output_type": "stream",
          "name": "stderr",
          "text": [
            " ...done. (1 seconds, 0 min)\n"
          ]
        },
        {
          "output_type": "stream",
          "name": "stdout",
          "text": [
            "Downloading data from https://s3.amazonaws.com/fcp-indi/data/Projects/ABIDE_Initiative/Outputs/cpac/filt_noglobal/rois_cc200/Yale_0050565_rois_cc200.1D ...\n"
          ]
        },
        {
          "output_type": "stream",
          "name": "stderr",
          "text": [
            " ...done. (1 seconds, 0 min)\n"
          ]
        },
        {
          "output_type": "stream",
          "name": "stdout",
          "text": [
            "Downloading data from https://s3.amazonaws.com/fcp-indi/data/Projects/ABIDE_Initiative/Outputs/cpac/filt_noglobal/rois_cc200/Yale_0050566_rois_cc200.1D ...\n"
          ]
        },
        {
          "output_type": "stream",
          "name": "stderr",
          "text": [
            " ...done. (1 seconds, 0 min)\n"
          ]
        },
        {
          "output_type": "stream",
          "name": "stdout",
          "text": [
            "Downloading data from https://s3.amazonaws.com/fcp-indi/data/Projects/ABIDE_Initiative/Outputs/cpac/filt_noglobal/rois_cc200/Yale_0050567_rois_cc200.1D ...\n"
          ]
        },
        {
          "output_type": "stream",
          "name": "stderr",
          "text": [
            " ...done. (1 seconds, 0 min)\n"
          ]
        },
        {
          "output_type": "stream",
          "name": "stdout",
          "text": [
            "Downloading data from https://s3.amazonaws.com/fcp-indi/data/Projects/ABIDE_Initiative/Outputs/cpac/filt_noglobal/rois_cc200/Yale_0050568_rois_cc200.1D ...\n"
          ]
        },
        {
          "output_type": "stream",
          "name": "stderr",
          "text": [
            " ...done. (1 seconds, 0 min)\n"
          ]
        },
        {
          "output_type": "stream",
          "name": "stdout",
          "text": [
            "Downloading data from https://s3.amazonaws.com/fcp-indi/data/Projects/ABIDE_Initiative/Outputs/cpac/filt_noglobal/rois_cc200/Yale_0050569_rois_cc200.1D ...\n"
          ]
        },
        {
          "output_type": "stream",
          "name": "stderr",
          "text": [
            " ...done. (1 seconds, 0 min)\n"
          ]
        },
        {
          "output_type": "stream",
          "name": "stdout",
          "text": [
            "Downloading data from https://s3.amazonaws.com/fcp-indi/data/Projects/ABIDE_Initiative/Outputs/cpac/filt_noglobal/rois_cc200/Yale_0050570_rois_cc200.1D ...\n"
          ]
        },
        {
          "output_type": "stream",
          "name": "stderr",
          "text": [
            " ...done. (1 seconds, 0 min)\n"
          ]
        },
        {
          "output_type": "stream",
          "name": "stdout",
          "text": [
            "Downloading data from https://s3.amazonaws.com/fcp-indi/data/Projects/ABIDE_Initiative/Outputs/cpac/filt_noglobal/rois_cc200/Yale_0050571_rois_cc200.1D ...\n"
          ]
        },
        {
          "output_type": "stream",
          "name": "stderr",
          "text": [
            " ...done. (1 seconds, 0 min)\n"
          ]
        },
        {
          "output_type": "stream",
          "name": "stdout",
          "text": [
            "Downloading data from https://s3.amazonaws.com/fcp-indi/data/Projects/ABIDE_Initiative/Outputs/cpac/filt_noglobal/rois_cc200/Yale_0050572_rois_cc200.1D ...\n"
          ]
        },
        {
          "output_type": "stream",
          "name": "stderr",
          "text": [
            " ...done. (1 seconds, 0 min)\n"
          ]
        },
        {
          "output_type": "stream",
          "name": "stdout",
          "text": [
            "Downloading data from https://s3.amazonaws.com/fcp-indi/data/Projects/ABIDE_Initiative/Outputs/cpac/filt_noglobal/rois_cc200/Yale_0050573_rois_cc200.1D ...\n"
          ]
        },
        {
          "output_type": "stream",
          "name": "stderr",
          "text": [
            " ...done. (1 seconds, 0 min)\n"
          ]
        },
        {
          "output_type": "stream",
          "name": "stdout",
          "text": [
            "Downloading data from https://s3.amazonaws.com/fcp-indi/data/Projects/ABIDE_Initiative/Outputs/cpac/filt_noglobal/rois_cc200/Yale_0050574_rois_cc200.1D ...\n"
          ]
        },
        {
          "output_type": "stream",
          "name": "stderr",
          "text": [
            " ...done. (1 seconds, 0 min)\n"
          ]
        },
        {
          "output_type": "stream",
          "name": "stdout",
          "text": [
            "Downloading data from https://s3.amazonaws.com/fcp-indi/data/Projects/ABIDE_Initiative/Outputs/cpac/filt_noglobal/rois_cc200/Yale_0050575_rois_cc200.1D ...\n"
          ]
        },
        {
          "output_type": "stream",
          "name": "stderr",
          "text": [
            " ...done. (1 seconds, 0 min)\n"
          ]
        },
        {
          "output_type": "stream",
          "name": "stdout",
          "text": [
            "Downloading data from https://s3.amazonaws.com/fcp-indi/data/Projects/ABIDE_Initiative/Outputs/cpac/filt_noglobal/rois_cc200/Yale_0050576_rois_cc200.1D ...\n"
          ]
        },
        {
          "output_type": "stream",
          "name": "stderr",
          "text": [
            " ...done. (1 seconds, 0 min)\n"
          ]
        },
        {
          "output_type": "stream",
          "name": "stdout",
          "text": [
            "Downloading data from https://s3.amazonaws.com/fcp-indi/data/Projects/ABIDE_Initiative/Outputs/cpac/filt_noglobal/rois_cc200/Yale_0050577_rois_cc200.1D ...\n"
          ]
        },
        {
          "output_type": "stream",
          "name": "stderr",
          "text": [
            " ...done. (1 seconds, 0 min)\n"
          ]
        },
        {
          "output_type": "stream",
          "name": "stdout",
          "text": [
            "Downloading data from https://s3.amazonaws.com/fcp-indi/data/Projects/ABIDE_Initiative/Outputs/cpac/filt_noglobal/rois_cc200/Yale_0050578_rois_cc200.1D ...\n"
          ]
        },
        {
          "output_type": "stream",
          "name": "stderr",
          "text": [
            " ...done. (1 seconds, 0 min)\n"
          ]
        },
        {
          "output_type": "stream",
          "name": "stdout",
          "text": [
            "Downloading data from https://s3.amazonaws.com/fcp-indi/data/Projects/ABIDE_Initiative/Outputs/cpac/filt_noglobal/rois_cc200/Yale_0050601_rois_cc200.1D ...\n"
          ]
        },
        {
          "output_type": "stream",
          "name": "stderr",
          "text": [
            " ...done. (1 seconds, 0 min)\n"
          ]
        },
        {
          "output_type": "stream",
          "name": "stdout",
          "text": [
            "Downloading data from https://s3.amazonaws.com/fcp-indi/data/Projects/ABIDE_Initiative/Outputs/cpac/filt_noglobal/rois_cc200/Yale_0050602_rois_cc200.1D ...\n"
          ]
        },
        {
          "output_type": "stream",
          "name": "stderr",
          "text": [
            " ...done. (1 seconds, 0 min)\n"
          ]
        },
        {
          "output_type": "stream",
          "name": "stdout",
          "text": [
            "Downloading data from https://s3.amazonaws.com/fcp-indi/data/Projects/ABIDE_Initiative/Outputs/cpac/filt_noglobal/rois_cc200/Yale_0050603_rois_cc200.1D ...\n"
          ]
        },
        {
          "output_type": "stream",
          "name": "stderr",
          "text": [
            " ...done. (1 seconds, 0 min)\n"
          ]
        },
        {
          "output_type": "stream",
          "name": "stdout",
          "text": [
            "Downloading data from https://s3.amazonaws.com/fcp-indi/data/Projects/ABIDE_Initiative/Outputs/cpac/filt_noglobal/rois_cc200/Yale_0050604_rois_cc200.1D ...\n"
          ]
        },
        {
          "output_type": "stream",
          "name": "stderr",
          "text": [
            " ...done. (1 seconds, 0 min)\n"
          ]
        },
        {
          "output_type": "stream",
          "name": "stdout",
          "text": [
            "Downloading data from https://s3.amazonaws.com/fcp-indi/data/Projects/ABIDE_Initiative/Outputs/cpac/filt_noglobal/rois_cc200/Yale_0050605_rois_cc200.1D ...\n"
          ]
        },
        {
          "output_type": "stream",
          "name": "stderr",
          "text": [
            " ...done. (1 seconds, 0 min)\n"
          ]
        },
        {
          "output_type": "stream",
          "name": "stdout",
          "text": [
            "Downloading data from https://s3.amazonaws.com/fcp-indi/data/Projects/ABIDE_Initiative/Outputs/cpac/filt_noglobal/rois_cc200/Yale_0050606_rois_cc200.1D ...\n"
          ]
        },
        {
          "output_type": "stream",
          "name": "stderr",
          "text": [
            " ...done. (1 seconds, 0 min)\n"
          ]
        },
        {
          "output_type": "stream",
          "name": "stdout",
          "text": [
            "Downloading data from https://s3.amazonaws.com/fcp-indi/data/Projects/ABIDE_Initiative/Outputs/cpac/filt_noglobal/rois_cc200/Yale_0050607_rois_cc200.1D ...\n"
          ]
        },
        {
          "output_type": "stream",
          "name": "stderr",
          "text": [
            " ...done. (1 seconds, 0 min)\n"
          ]
        },
        {
          "output_type": "stream",
          "name": "stdout",
          "text": [
            "Downloading data from https://s3.amazonaws.com/fcp-indi/data/Projects/ABIDE_Initiative/Outputs/cpac/filt_noglobal/rois_cc200/Yale_0050608_rois_cc200.1D ...\n"
          ]
        },
        {
          "output_type": "stream",
          "name": "stderr",
          "text": [
            " ...done. (1 seconds, 0 min)\n"
          ]
        },
        {
          "output_type": "stream",
          "name": "stdout",
          "text": [
            "Downloading data from https://s3.amazonaws.com/fcp-indi/data/Projects/ABIDE_Initiative/Outputs/cpac/filt_noglobal/rois_cc200/Yale_0050609_rois_cc200.1D ...\n"
          ]
        },
        {
          "output_type": "stream",
          "name": "stderr",
          "text": [
            " ...done. (1 seconds, 0 min)\n"
          ]
        },
        {
          "output_type": "stream",
          "name": "stdout",
          "text": [
            "Downloading data from https://s3.amazonaws.com/fcp-indi/data/Projects/ABIDE_Initiative/Outputs/cpac/filt_noglobal/rois_cc200/Yale_0050610_rois_cc200.1D ...\n"
          ]
        },
        {
          "output_type": "stream",
          "name": "stderr",
          "text": [
            " ...done. (1 seconds, 0 min)\n"
          ]
        },
        {
          "output_type": "stream",
          "name": "stdout",
          "text": [
            "Downloading data from https://s3.amazonaws.com/fcp-indi/data/Projects/ABIDE_Initiative/Outputs/cpac/filt_noglobal/rois_cc200/Yale_0050611_rois_cc200.1D ...\n"
          ]
        },
        {
          "output_type": "stream",
          "name": "stderr",
          "text": [
            " ...done. (1 seconds, 0 min)\n"
          ]
        },
        {
          "output_type": "stream",
          "name": "stdout",
          "text": [
            "Downloading data from https://s3.amazonaws.com/fcp-indi/data/Projects/ABIDE_Initiative/Outputs/cpac/filt_noglobal/rois_cc200/Yale_0050612_rois_cc200.1D ...\n"
          ]
        },
        {
          "output_type": "stream",
          "name": "stderr",
          "text": [
            " ...done. (1 seconds, 0 min)\n"
          ]
        },
        {
          "output_type": "stream",
          "name": "stdout",
          "text": [
            "Downloading data from https://s3.amazonaws.com/fcp-indi/data/Projects/ABIDE_Initiative/Outputs/cpac/filt_noglobal/rois_cc200/Yale_0050613_rois_cc200.1D ...\n"
          ]
        },
        {
          "output_type": "stream",
          "name": "stderr",
          "text": [
            " ...done. (1 seconds, 0 min)\n"
          ]
        },
        {
          "output_type": "stream",
          "name": "stdout",
          "text": [
            "Downloading data from https://s3.amazonaws.com/fcp-indi/data/Projects/ABIDE_Initiative/Outputs/cpac/filt_noglobal/rois_cc200/Yale_0050614_rois_cc200.1D ...\n"
          ]
        },
        {
          "output_type": "stream",
          "name": "stderr",
          "text": [
            " ...done. (1 seconds, 0 min)\n"
          ]
        },
        {
          "output_type": "stream",
          "name": "stdout",
          "text": [
            "Downloading data from https://s3.amazonaws.com/fcp-indi/data/Projects/ABIDE_Initiative/Outputs/cpac/filt_noglobal/rois_cc200/Yale_0050615_rois_cc200.1D ...\n"
          ]
        },
        {
          "output_type": "stream",
          "name": "stderr",
          "text": [
            " ...done. (1 seconds, 0 min)\n"
          ]
        },
        {
          "output_type": "stream",
          "name": "stdout",
          "text": [
            "Downloading data from https://s3.amazonaws.com/fcp-indi/data/Projects/ABIDE_Initiative/Outputs/cpac/filt_noglobal/rois_cc200/Yale_0050616_rois_cc200.1D ...\n"
          ]
        },
        {
          "output_type": "stream",
          "name": "stderr",
          "text": [
            " ...done. (1 seconds, 0 min)\n"
          ]
        },
        {
          "output_type": "stream",
          "name": "stdout",
          "text": [
            "Downloading data from https://s3.amazonaws.com/fcp-indi/data/Projects/ABIDE_Initiative/Outputs/cpac/filt_noglobal/rois_cc200/Yale_0050617_rois_cc200.1D ...\n"
          ]
        },
        {
          "output_type": "stream",
          "name": "stderr",
          "text": [
            " ...done. (1 seconds, 0 min)\n"
          ]
        },
        {
          "output_type": "stream",
          "name": "stdout",
          "text": [
            "Downloading data from https://s3.amazonaws.com/fcp-indi/data/Projects/ABIDE_Initiative/Outputs/cpac/filt_noglobal/rois_cc200/Yale_0050618_rois_cc200.1D ...\n"
          ]
        },
        {
          "output_type": "stream",
          "name": "stderr",
          "text": [
            " ...done. (1 seconds, 0 min)\n"
          ]
        },
        {
          "output_type": "stream",
          "name": "stdout",
          "text": [
            "Downloading data from https://s3.amazonaws.com/fcp-indi/data/Projects/ABIDE_Initiative/Outputs/cpac/filt_noglobal/rois_cc200/Yale_0050619_rois_cc200.1D ...\n"
          ]
        },
        {
          "output_type": "stream",
          "name": "stderr",
          "text": [
            " ...done. (1 seconds, 0 min)\n"
          ]
        },
        {
          "output_type": "stream",
          "name": "stdout",
          "text": [
            "Downloading data from https://s3.amazonaws.com/fcp-indi/data/Projects/ABIDE_Initiative/Outputs/cpac/filt_noglobal/rois_cc200/Yale_0050620_rois_cc200.1D ...\n"
          ]
        },
        {
          "output_type": "stream",
          "name": "stderr",
          "text": [
            " ...done. (1 seconds, 0 min)\n"
          ]
        },
        {
          "output_type": "stream",
          "name": "stdout",
          "text": [
            "Downloading data from https://s3.amazonaws.com/fcp-indi/data/Projects/ABIDE_Initiative/Outputs/cpac/filt_noglobal/rois_cc200/Yale_0050621_rois_cc200.1D ...\n"
          ]
        },
        {
          "output_type": "stream",
          "name": "stderr",
          "text": [
            " ...done. (1 seconds, 0 min)\n"
          ]
        },
        {
          "output_type": "stream",
          "name": "stdout",
          "text": [
            "Downloading data from https://s3.amazonaws.com/fcp-indi/data/Projects/ABIDE_Initiative/Outputs/cpac/filt_noglobal/rois_cc200/Yale_0050622_rois_cc200.1D ...\n"
          ]
        },
        {
          "output_type": "stream",
          "name": "stderr",
          "text": [
            " ...done. (1 seconds, 0 min)\n"
          ]
        },
        {
          "output_type": "stream",
          "name": "stdout",
          "text": [
            "Downloading data from https://s3.amazonaws.com/fcp-indi/data/Projects/ABIDE_Initiative/Outputs/cpac/filt_noglobal/rois_cc200/Yale_0050623_rois_cc200.1D ...\n"
          ]
        },
        {
          "output_type": "stream",
          "name": "stderr",
          "text": [
            " ...done. (1 seconds, 0 min)\n"
          ]
        },
        {
          "output_type": "stream",
          "name": "stdout",
          "text": [
            "Downloading data from https://s3.amazonaws.com/fcp-indi/data/Projects/ABIDE_Initiative/Outputs/cpac/filt_noglobal/rois_cc200/Yale_0050624_rois_cc200.1D ...\n"
          ]
        },
        {
          "output_type": "stream",
          "name": "stderr",
          "text": [
            " ...done. (1 seconds, 0 min)\n"
          ]
        },
        {
          "output_type": "stream",
          "name": "stdout",
          "text": [
            "Downloading data from https://s3.amazonaws.com/fcp-indi/data/Projects/ABIDE_Initiative/Outputs/cpac/filt_noglobal/rois_cc200/Yale_0050625_rois_cc200.1D ...\n"
          ]
        },
        {
          "output_type": "stream",
          "name": "stderr",
          "text": [
            " ...done. (1 seconds, 0 min)\n"
          ]
        },
        {
          "output_type": "stream",
          "name": "stdout",
          "text": [
            "Downloading data from https://s3.amazonaws.com/fcp-indi/data/Projects/ABIDE_Initiative/Outputs/cpac/filt_noglobal/rois_cc200/Yale_0050626_rois_cc200.1D ...\n"
          ]
        },
        {
          "output_type": "stream",
          "name": "stderr",
          "text": [
            " ...done. (1 seconds, 0 min)\n"
          ]
        },
        {
          "output_type": "stream",
          "name": "stdout",
          "text": [
            "Downloading data from https://s3.amazonaws.com/fcp-indi/data/Projects/ABIDE_Initiative/Outputs/cpac/filt_noglobal/rois_cc200/Yale_0050627_rois_cc200.1D ...\n"
          ]
        },
        {
          "output_type": "stream",
          "name": "stderr",
          "text": [
            " ...done. (1 seconds, 0 min)\n"
          ]
        },
        {
          "output_type": "stream",
          "name": "stdout",
          "text": [
            "Downloading data from https://s3.amazonaws.com/fcp-indi/data/Projects/ABIDE_Initiative/Outputs/cpac/filt_noglobal/rois_cc200/Yale_0050628_rois_cc200.1D ...\n"
          ]
        },
        {
          "output_type": "stream",
          "name": "stderr",
          "text": [
            " ...done. (1 seconds, 0 min)\n"
          ]
        },
        {
          "output_type": "stream",
          "name": "stdout",
          "text": [
            "Downloading data from https://s3.amazonaws.com/fcp-indi/data/Projects/ABIDE_Initiative/Outputs/cpac/filt_noglobal/rois_cc200/CMU_a_0050642_rois_cc200.1D ...\n"
          ]
        },
        {
          "output_type": "stream",
          "name": "stderr",
          "text": [
            " ...done. (1 seconds, 0 min)\n"
          ]
        },
        {
          "output_type": "stream",
          "name": "stdout",
          "text": [
            "Downloading data from https://s3.amazonaws.com/fcp-indi/data/Projects/ABIDE_Initiative/Outputs/cpac/filt_noglobal/rois_cc200/CMU_b_0050643_rois_cc200.1D ...\n"
          ]
        },
        {
          "output_type": "stream",
          "name": "stderr",
          "text": [
            " ...done. (1 seconds, 0 min)\n"
          ]
        },
        {
          "output_type": "stream",
          "name": "stdout",
          "text": [
            "Downloading data from https://s3.amazonaws.com/fcp-indi/data/Projects/ABIDE_Initiative/Outputs/cpac/filt_noglobal/rois_cc200/CMU_b_0050644_rois_cc200.1D ...\n"
          ]
        },
        {
          "output_type": "stream",
          "name": "stderr",
          "text": [
            " ...done. (1 seconds, 0 min)\n"
          ]
        },
        {
          "output_type": "stream",
          "name": "stdout",
          "text": [
            "Downloading data from https://s3.amazonaws.com/fcp-indi/data/Projects/ABIDE_Initiative/Outputs/cpac/filt_noglobal/rois_cc200/CMU_b_0050645_rois_cc200.1D ...\n"
          ]
        },
        {
          "output_type": "stream",
          "name": "stderr",
          "text": [
            " ...done. (1 seconds, 0 min)\n"
          ]
        },
        {
          "output_type": "stream",
          "name": "stdout",
          "text": [
            "Downloading data from https://s3.amazonaws.com/fcp-indi/data/Projects/ABIDE_Initiative/Outputs/cpac/filt_noglobal/rois_cc200/CMU_a_0050646_rois_cc200.1D ...\n"
          ]
        },
        {
          "output_type": "stream",
          "name": "stderr",
          "text": [
            " ...done. (1 seconds, 0 min)\n"
          ]
        },
        {
          "output_type": "stream",
          "name": "stdout",
          "text": [
            "Downloading data from https://s3.amazonaws.com/fcp-indi/data/Projects/ABIDE_Initiative/Outputs/cpac/filt_noglobal/rois_cc200/CMU_a_0050647_rois_cc200.1D ...\n"
          ]
        },
        {
          "output_type": "stream",
          "name": "stderr",
          "text": [
            " ...done. (1 seconds, 0 min)\n"
          ]
        },
        {
          "output_type": "stream",
          "name": "stdout",
          "text": [
            "Downloading data from https://s3.amazonaws.com/fcp-indi/data/Projects/ABIDE_Initiative/Outputs/cpac/filt_noglobal/rois_cc200/CMU_b_0050648_rois_cc200.1D ...\n"
          ]
        },
        {
          "output_type": "stream",
          "name": "stderr",
          "text": [
            " ...done. (1 seconds, 0 min)\n"
          ]
        },
        {
          "output_type": "stream",
          "name": "stdout",
          "text": [
            "Downloading data from https://s3.amazonaws.com/fcp-indi/data/Projects/ABIDE_Initiative/Outputs/cpac/filt_noglobal/rois_cc200/CMU_a_0050649_rois_cc200.1D ...\n"
          ]
        },
        {
          "output_type": "stream",
          "name": "stderr",
          "text": [
            " ...done. (1 seconds, 0 min)\n"
          ]
        },
        {
          "output_type": "stream",
          "name": "stdout",
          "text": [
            "Downloading data from https://s3.amazonaws.com/fcp-indi/data/Projects/ABIDE_Initiative/Outputs/cpac/filt_noglobal/rois_cc200/CMU_b_0050650_rois_cc200.1D ...\n"
          ]
        },
        {
          "output_type": "stream",
          "name": "stderr",
          "text": [
            " ...done. (1 seconds, 0 min)\n"
          ]
        },
        {
          "output_type": "stream",
          "name": "stdout",
          "text": [
            "Downloading data from https://s3.amazonaws.com/fcp-indi/data/Projects/ABIDE_Initiative/Outputs/cpac/filt_noglobal/rois_cc200/CMU_b_0050651_rois_cc200.1D ...\n"
          ]
        },
        {
          "output_type": "stream",
          "name": "stderr",
          "text": [
            " ...done. (1 seconds, 0 min)\n"
          ]
        },
        {
          "output_type": "stream",
          "name": "stdout",
          "text": [
            "Downloading data from https://s3.amazonaws.com/fcp-indi/data/Projects/ABIDE_Initiative/Outputs/cpac/filt_noglobal/rois_cc200/CMU_b_0050652_rois_cc200.1D ...\n"
          ]
        },
        {
          "output_type": "stream",
          "name": "stderr",
          "text": [
            " ...done. (1 seconds, 0 min)\n"
          ]
        },
        {
          "output_type": "stream",
          "name": "stdout",
          "text": [
            "Downloading data from https://s3.amazonaws.com/fcp-indi/data/Projects/ABIDE_Initiative/Outputs/cpac/filt_noglobal/rois_cc200/CMU_a_0050653_rois_cc200.1D ...\n"
          ]
        },
        {
          "output_type": "stream",
          "name": "stderr",
          "text": [
            " ...done. (1 seconds, 0 min)\n"
          ]
        },
        {
          "output_type": "stream",
          "name": "stdout",
          "text": [
            "Downloading data from https://s3.amazonaws.com/fcp-indi/data/Projects/ABIDE_Initiative/Outputs/cpac/filt_noglobal/rois_cc200/CMU_a_0050654_rois_cc200.1D ...\n"
          ]
        },
        {
          "output_type": "stream",
          "name": "stderr",
          "text": [
            " ...done. (1 seconds, 0 min)\n"
          ]
        },
        {
          "output_type": "stream",
          "name": "stdout",
          "text": [
            "Downloading data from https://s3.amazonaws.com/fcp-indi/data/Projects/ABIDE_Initiative/Outputs/cpac/filt_noglobal/rois_cc200/CMU_b_0050655_rois_cc200.1D ...\n"
          ]
        },
        {
          "output_type": "stream",
          "name": "stderr",
          "text": [
            " ...done. (1 seconds, 0 min)\n"
          ]
        },
        {
          "output_type": "stream",
          "name": "stdout",
          "text": [
            "Downloading data from https://s3.amazonaws.com/fcp-indi/data/Projects/ABIDE_Initiative/Outputs/cpac/filt_noglobal/rois_cc200/CMU_a_0050656_rois_cc200.1D ...\n"
          ]
        },
        {
          "output_type": "stream",
          "name": "stderr",
          "text": [
            " ...done. (1 seconds, 0 min)\n"
          ]
        },
        {
          "output_type": "stream",
          "name": "stdout",
          "text": [
            "Downloading data from https://s3.amazonaws.com/fcp-indi/data/Projects/ABIDE_Initiative/Outputs/cpac/filt_noglobal/rois_cc200/CMU_b_0050657_rois_cc200.1D ...\n"
          ]
        },
        {
          "output_type": "stream",
          "name": "stderr",
          "text": [
            " ...done. (1 seconds, 0 min)\n"
          ]
        },
        {
          "output_type": "stream",
          "name": "stdout",
          "text": [
            "Downloading data from https://s3.amazonaws.com/fcp-indi/data/Projects/ABIDE_Initiative/Outputs/cpac/filt_noglobal/rois_cc200/CMU_b_0050658_rois_cc200.1D ...\n"
          ]
        },
        {
          "output_type": "stream",
          "name": "stderr",
          "text": [
            " ...done. (1 seconds, 0 min)\n"
          ]
        },
        {
          "output_type": "stream",
          "name": "stdout",
          "text": [
            "Downloading data from https://s3.amazonaws.com/fcp-indi/data/Projects/ABIDE_Initiative/Outputs/cpac/filt_noglobal/rois_cc200/CMU_a_0050659_rois_cc200.1D ...\n"
          ]
        },
        {
          "output_type": "stream",
          "name": "stderr",
          "text": [
            " ...done. (1 seconds, 0 min)\n"
          ]
        },
        {
          "output_type": "stream",
          "name": "stdout",
          "text": [
            "Downloading data from https://s3.amazonaws.com/fcp-indi/data/Projects/ABIDE_Initiative/Outputs/cpac/filt_noglobal/rois_cc200/CMU_a_0050660_rois_cc200.1D ...\n"
          ]
        },
        {
          "output_type": "stream",
          "name": "stderr",
          "text": [
            " ...done. (1 seconds, 0 min)\n"
          ]
        },
        {
          "output_type": "stream",
          "name": "stdout",
          "text": [
            "Downloading data from https://s3.amazonaws.com/fcp-indi/data/Projects/ABIDE_Initiative/Outputs/cpac/filt_noglobal/rois_cc200/CMU_b_0050661_rois_cc200.1D ...\n"
          ]
        },
        {
          "output_type": "stream",
          "name": "stderr",
          "text": [
            " ...done. (1 seconds, 0 min)\n"
          ]
        },
        {
          "output_type": "stream",
          "name": "stdout",
          "text": [
            "Downloading data from https://s3.amazonaws.com/fcp-indi/data/Projects/ABIDE_Initiative/Outputs/cpac/filt_noglobal/rois_cc200/CMU_a_0050663_rois_cc200.1D ...\n"
          ]
        },
        {
          "output_type": "stream",
          "name": "stderr",
          "text": [
            " ...done. (1 seconds, 0 min)\n"
          ]
        },
        {
          "output_type": "stream",
          "name": "stdout",
          "text": [
            "Downloading data from https://s3.amazonaws.com/fcp-indi/data/Projects/ABIDE_Initiative/Outputs/cpac/filt_noglobal/rois_cc200/CMU_a_0050664_rois_cc200.1D ...\n"
          ]
        },
        {
          "output_type": "stream",
          "name": "stderr",
          "text": [
            " ...done. (1 seconds, 0 min)\n"
          ]
        },
        {
          "output_type": "stream",
          "name": "stdout",
          "text": [
            "Downloading data from https://s3.amazonaws.com/fcp-indi/data/Projects/ABIDE_Initiative/Outputs/cpac/filt_noglobal/rois_cc200/CMU_a_0050665_rois_cc200.1D ...\n"
          ]
        },
        {
          "output_type": "stream",
          "name": "stderr",
          "text": [
            " ...done. (1 seconds, 0 min)\n"
          ]
        },
        {
          "output_type": "stream",
          "name": "stdout",
          "text": [
            "Downloading data from https://s3.amazonaws.com/fcp-indi/data/Projects/ABIDE_Initiative/Outputs/cpac/filt_noglobal/rois_cc200/CMU_a_0050666_rois_cc200.1D ...\n"
          ]
        },
        {
          "output_type": "stream",
          "name": "stderr",
          "text": [
            " ...done. (1 seconds, 0 min)\n"
          ]
        },
        {
          "output_type": "stream",
          "name": "stdout",
          "text": [
            "Downloading data from https://s3.amazonaws.com/fcp-indi/data/Projects/ABIDE_Initiative/Outputs/cpac/filt_noglobal/rois_cc200/CMU_b_0050667_rois_cc200.1D ...\n"
          ]
        },
        {
          "output_type": "stream",
          "name": "stderr",
          "text": [
            " ...done. (1 seconds, 0 min)\n"
          ]
        },
        {
          "output_type": "stream",
          "name": "stdout",
          "text": [
            "Downloading data from https://s3.amazonaws.com/fcp-indi/data/Projects/ABIDE_Initiative/Outputs/cpac/filt_noglobal/rois_cc200/CMU_a_0050668_rois_cc200.1D ...\n"
          ]
        },
        {
          "output_type": "stream",
          "name": "stderr",
          "text": [
            " ...done. (1 seconds, 0 min)\n"
          ]
        },
        {
          "output_type": "stream",
          "name": "stdout",
          "text": [
            "Downloading data from https://s3.amazonaws.com/fcp-indi/data/Projects/ABIDE_Initiative/Outputs/cpac/filt_noglobal/rois_cc200/CMU_b_0050669_rois_cc200.1D ...\n"
          ]
        },
        {
          "output_type": "stream",
          "name": "stderr",
          "text": [
            " ...done. (1 seconds, 0 min)\n"
          ]
        },
        {
          "output_type": "stream",
          "name": "stdout",
          "text": [
            "Downloading data from https://s3.amazonaws.com/fcp-indi/data/Projects/ABIDE_Initiative/Outputs/cpac/filt_noglobal/rois_cc200/Leuven_1_0050682_rois_cc200.1D ...\n"
          ]
        },
        {
          "output_type": "stream",
          "name": "stderr",
          "text": [
            " ...done. (1 seconds, 0 min)\n"
          ]
        },
        {
          "output_type": "stream",
          "name": "stdout",
          "text": [
            "Downloading data from https://s3.amazonaws.com/fcp-indi/data/Projects/ABIDE_Initiative/Outputs/cpac/filt_noglobal/rois_cc200/Leuven_1_0050683_rois_cc200.1D ...\n"
          ]
        },
        {
          "output_type": "stream",
          "name": "stderr",
          "text": [
            " ...done. (1 seconds, 0 min)\n"
          ]
        },
        {
          "output_type": "stream",
          "name": "stdout",
          "text": [
            "Downloading data from https://s3.amazonaws.com/fcp-indi/data/Projects/ABIDE_Initiative/Outputs/cpac/filt_noglobal/rois_cc200/Leuven_1_0050685_rois_cc200.1D ...\n"
          ]
        },
        {
          "output_type": "stream",
          "name": "stderr",
          "text": [
            " ...done. (1 seconds, 0 min)\n"
          ]
        },
        {
          "output_type": "stream",
          "name": "stdout",
          "text": [
            "Downloading data from https://s3.amazonaws.com/fcp-indi/data/Projects/ABIDE_Initiative/Outputs/cpac/filt_noglobal/rois_cc200/Leuven_1_0050686_rois_cc200.1D ...\n"
          ]
        },
        {
          "output_type": "stream",
          "name": "stderr",
          "text": [
            " ...done. (1 seconds, 0 min)\n"
          ]
        },
        {
          "output_type": "stream",
          "name": "stdout",
          "text": [
            "Downloading data from https://s3.amazonaws.com/fcp-indi/data/Projects/ABIDE_Initiative/Outputs/cpac/filt_noglobal/rois_cc200/Leuven_1_0050687_rois_cc200.1D ...\n"
          ]
        },
        {
          "output_type": "stream",
          "name": "stderr",
          "text": [
            " ...done. (1 seconds, 0 min)\n"
          ]
        },
        {
          "output_type": "stream",
          "name": "stdout",
          "text": [
            "Downloading data from https://s3.amazonaws.com/fcp-indi/data/Projects/ABIDE_Initiative/Outputs/cpac/filt_noglobal/rois_cc200/Leuven_1_0050688_rois_cc200.1D ...\n"
          ]
        },
        {
          "output_type": "stream",
          "name": "stderr",
          "text": [
            " ...done. (1 seconds, 0 min)\n"
          ]
        },
        {
          "output_type": "stream",
          "name": "stdout",
          "text": [
            "Downloading data from https://s3.amazonaws.com/fcp-indi/data/Projects/ABIDE_Initiative/Outputs/cpac/filt_noglobal/rois_cc200/Leuven_1_0050689_rois_cc200.1D ...\n"
          ]
        },
        {
          "output_type": "stream",
          "name": "stderr",
          "text": [
            " ...done. (1 seconds, 0 min)\n"
          ]
        },
        {
          "output_type": "stream",
          "name": "stdout",
          "text": [
            "Downloading data from https://s3.amazonaws.com/fcp-indi/data/Projects/ABIDE_Initiative/Outputs/cpac/filt_noglobal/rois_cc200/Leuven_1_0050690_rois_cc200.1D ...\n"
          ]
        },
        {
          "output_type": "stream",
          "name": "stderr",
          "text": [
            " ...done. (1 seconds, 0 min)\n"
          ]
        },
        {
          "output_type": "stream",
          "name": "stdout",
          "text": [
            "Downloading data from https://s3.amazonaws.com/fcp-indi/data/Projects/ABIDE_Initiative/Outputs/cpac/filt_noglobal/rois_cc200/Leuven_1_0050691_rois_cc200.1D ...\n"
          ]
        },
        {
          "output_type": "stream",
          "name": "stderr",
          "text": [
            " ...done. (1 seconds, 0 min)\n"
          ]
        },
        {
          "output_type": "stream",
          "name": "stdout",
          "text": [
            "Downloading data from https://s3.amazonaws.com/fcp-indi/data/Projects/ABIDE_Initiative/Outputs/cpac/filt_noglobal/rois_cc200/Leuven_1_0050692_rois_cc200.1D ...\n"
          ]
        },
        {
          "output_type": "stream",
          "name": "stderr",
          "text": [
            " ...done. (1 seconds, 0 min)\n"
          ]
        },
        {
          "output_type": "stream",
          "name": "stdout",
          "text": [
            "Downloading data from https://s3.amazonaws.com/fcp-indi/data/Projects/ABIDE_Initiative/Outputs/cpac/filt_noglobal/rois_cc200/Leuven_1_0050693_rois_cc200.1D ...\n"
          ]
        },
        {
          "output_type": "stream",
          "name": "stderr",
          "text": [
            " ...done. (1 seconds, 0 min)\n"
          ]
        },
        {
          "output_type": "stream",
          "name": "stdout",
          "text": [
            "Downloading data from https://s3.amazonaws.com/fcp-indi/data/Projects/ABIDE_Initiative/Outputs/cpac/filt_noglobal/rois_cc200/Leuven_1_0050694_rois_cc200.1D ...\n"
          ]
        },
        {
          "output_type": "stream",
          "name": "stderr",
          "text": [
            " ...done. (1 seconds, 0 min)\n"
          ]
        },
        {
          "output_type": "stream",
          "name": "stdout",
          "text": [
            "Downloading data from https://s3.amazonaws.com/fcp-indi/data/Projects/ABIDE_Initiative/Outputs/cpac/filt_noglobal/rois_cc200/Leuven_1_0050695_rois_cc200.1D ...\n"
          ]
        },
        {
          "output_type": "stream",
          "name": "stderr",
          "text": [
            " ...done. (1 seconds, 0 min)\n"
          ]
        },
        {
          "output_type": "stream",
          "name": "stdout",
          "text": [
            "Downloading data from https://s3.amazonaws.com/fcp-indi/data/Projects/ABIDE_Initiative/Outputs/cpac/filt_noglobal/rois_cc200/Leuven_1_0050696_rois_cc200.1D ...\n"
          ]
        },
        {
          "output_type": "stream",
          "name": "stderr",
          "text": [
            " ...done. (1 seconds, 0 min)\n"
          ]
        },
        {
          "output_type": "stream",
          "name": "stdout",
          "text": [
            "Downloading data from https://s3.amazonaws.com/fcp-indi/data/Projects/ABIDE_Initiative/Outputs/cpac/filt_noglobal/rois_cc200/Leuven_1_0050697_rois_cc200.1D ...\n"
          ]
        },
        {
          "output_type": "stream",
          "name": "stderr",
          "text": [
            " ...done. (1 seconds, 0 min)\n"
          ]
        },
        {
          "output_type": "stream",
          "name": "stdout",
          "text": [
            "Downloading data from https://s3.amazonaws.com/fcp-indi/data/Projects/ABIDE_Initiative/Outputs/cpac/filt_noglobal/rois_cc200/Leuven_1_0050698_rois_cc200.1D ...\n"
          ]
        },
        {
          "output_type": "stream",
          "name": "stderr",
          "text": [
            " ...done. (1 seconds, 0 min)\n"
          ]
        },
        {
          "output_type": "stream",
          "name": "stdout",
          "text": [
            "Downloading data from https://s3.amazonaws.com/fcp-indi/data/Projects/ABIDE_Initiative/Outputs/cpac/filt_noglobal/rois_cc200/Leuven_1_0050699_rois_cc200.1D ...\n"
          ]
        },
        {
          "output_type": "stream",
          "name": "stderr",
          "text": [
            " ...done. (1 seconds, 0 min)\n"
          ]
        },
        {
          "output_type": "stream",
          "name": "stdout",
          "text": [
            "Downloading data from https://s3.amazonaws.com/fcp-indi/data/Projects/ABIDE_Initiative/Outputs/cpac/filt_noglobal/rois_cc200/Leuven_1_0050700_rois_cc200.1D ...\n"
          ]
        },
        {
          "output_type": "stream",
          "name": "stderr",
          "text": [
            " ...done. (1 seconds, 0 min)\n"
          ]
        },
        {
          "output_type": "stream",
          "name": "stdout",
          "text": [
            "Downloading data from https://s3.amazonaws.com/fcp-indi/data/Projects/ABIDE_Initiative/Outputs/cpac/filt_noglobal/rois_cc200/Leuven_1_0050701_rois_cc200.1D ...\n"
          ]
        },
        {
          "output_type": "stream",
          "name": "stderr",
          "text": [
            " ...done. (1 seconds, 0 min)\n"
          ]
        },
        {
          "output_type": "stream",
          "name": "stdout",
          "text": [
            "Downloading data from https://s3.amazonaws.com/fcp-indi/data/Projects/ABIDE_Initiative/Outputs/cpac/filt_noglobal/rois_cc200/Leuven_1_0050702_rois_cc200.1D ...\n"
          ]
        },
        {
          "output_type": "stream",
          "name": "stderr",
          "text": [
            " ...done. (1 seconds, 0 min)\n"
          ]
        },
        {
          "output_type": "stream",
          "name": "stdout",
          "text": [
            "Downloading data from https://s3.amazonaws.com/fcp-indi/data/Projects/ABIDE_Initiative/Outputs/cpac/filt_noglobal/rois_cc200/Leuven_1_0050703_rois_cc200.1D ...\n"
          ]
        },
        {
          "output_type": "stream",
          "name": "stderr",
          "text": [
            " ...done. (1 seconds, 0 min)\n"
          ]
        },
        {
          "output_type": "stream",
          "name": "stdout",
          "text": [
            "Downloading data from https://s3.amazonaws.com/fcp-indi/data/Projects/ABIDE_Initiative/Outputs/cpac/filt_noglobal/rois_cc200/Leuven_1_0050704_rois_cc200.1D ...\n"
          ]
        },
        {
          "output_type": "stream",
          "name": "stderr",
          "text": [
            " ...done. (1 seconds, 0 min)\n"
          ]
        },
        {
          "output_type": "stream",
          "name": "stdout",
          "text": [
            "Downloading data from https://s3.amazonaws.com/fcp-indi/data/Projects/ABIDE_Initiative/Outputs/cpac/filt_noglobal/rois_cc200/Leuven_1_0050705_rois_cc200.1D ...\n"
          ]
        },
        {
          "output_type": "stream",
          "name": "stderr",
          "text": [
            " ...done. (1 seconds, 0 min)\n"
          ]
        },
        {
          "output_type": "stream",
          "name": "stdout",
          "text": [
            "Downloading data from https://s3.amazonaws.com/fcp-indi/data/Projects/ABIDE_Initiative/Outputs/cpac/filt_noglobal/rois_cc200/Leuven_1_0050706_rois_cc200.1D ...\n"
          ]
        },
        {
          "output_type": "stream",
          "name": "stderr",
          "text": [
            " ...done. (1 seconds, 0 min)\n"
          ]
        },
        {
          "output_type": "stream",
          "name": "stdout",
          "text": [
            "Downloading data from https://s3.amazonaws.com/fcp-indi/data/Projects/ABIDE_Initiative/Outputs/cpac/filt_noglobal/rois_cc200/Leuven_1_0050707_rois_cc200.1D ...\n"
          ]
        },
        {
          "output_type": "stream",
          "name": "stderr",
          "text": [
            " ...done. (1 seconds, 0 min)\n"
          ]
        },
        {
          "output_type": "stream",
          "name": "stdout",
          "text": [
            "Downloading data from https://s3.amazonaws.com/fcp-indi/data/Projects/ABIDE_Initiative/Outputs/cpac/filt_noglobal/rois_cc200/Leuven_1_0050708_rois_cc200.1D ...\n"
          ]
        },
        {
          "output_type": "stream",
          "name": "stderr",
          "text": [
            " ...done. (1 seconds, 0 min)\n"
          ]
        },
        {
          "output_type": "stream",
          "name": "stdout",
          "text": [
            "Downloading data from https://s3.amazonaws.com/fcp-indi/data/Projects/ABIDE_Initiative/Outputs/cpac/filt_noglobal/rois_cc200/Leuven_1_0050709_rois_cc200.1D ...\n"
          ]
        },
        {
          "output_type": "stream",
          "name": "stderr",
          "text": [
            " ...done. (1 seconds, 0 min)\n"
          ]
        },
        {
          "output_type": "stream",
          "name": "stdout",
          "text": [
            "Downloading data from https://s3.amazonaws.com/fcp-indi/data/Projects/ABIDE_Initiative/Outputs/cpac/filt_noglobal/rois_cc200/Leuven_1_0050710_rois_cc200.1D ...\n"
          ]
        },
        {
          "output_type": "stream",
          "name": "stderr",
          "text": [
            " ...done. (1 seconds, 0 min)\n"
          ]
        },
        {
          "output_type": "stream",
          "name": "stdout",
          "text": [
            "Downloading data from https://s3.amazonaws.com/fcp-indi/data/Projects/ABIDE_Initiative/Outputs/cpac/filt_noglobal/rois_cc200/Leuven_1_0050711_rois_cc200.1D ...\n"
          ]
        },
        {
          "output_type": "stream",
          "name": "stderr",
          "text": [
            " ...done. (1 seconds, 0 min)\n"
          ]
        },
        {
          "output_type": "stream",
          "name": "stdout",
          "text": [
            "Downloading data from https://s3.amazonaws.com/fcp-indi/data/Projects/ABIDE_Initiative/Outputs/cpac/filt_noglobal/rois_cc200/Leuven_2_0050722_rois_cc200.1D ...\n"
          ]
        },
        {
          "output_type": "stream",
          "name": "stderr",
          "text": [
            " ...done. (1 seconds, 0 min)\n"
          ]
        },
        {
          "output_type": "stream",
          "name": "stdout",
          "text": [
            "Downloading data from https://s3.amazonaws.com/fcp-indi/data/Projects/ABIDE_Initiative/Outputs/cpac/filt_noglobal/rois_cc200/Leuven_2_0050723_rois_cc200.1D ...\n"
          ]
        },
        {
          "output_type": "stream",
          "name": "stderr",
          "text": [
            " ...done. (1 seconds, 0 min)\n"
          ]
        },
        {
          "output_type": "stream",
          "name": "stdout",
          "text": [
            "Downloading data from https://s3.amazonaws.com/fcp-indi/data/Projects/ABIDE_Initiative/Outputs/cpac/filt_noglobal/rois_cc200/Leuven_2_0050724_rois_cc200.1D ...\n"
          ]
        },
        {
          "output_type": "stream",
          "name": "stderr",
          "text": [
            " ...done. (1 seconds, 0 min)\n"
          ]
        },
        {
          "output_type": "stream",
          "name": "stdout",
          "text": [
            "Downloading data from https://s3.amazonaws.com/fcp-indi/data/Projects/ABIDE_Initiative/Outputs/cpac/filt_noglobal/rois_cc200/Leuven_2_0050725_rois_cc200.1D ...\n"
          ]
        },
        {
          "output_type": "stream",
          "name": "stderr",
          "text": [
            " ...done. (1 seconds, 0 min)\n"
          ]
        },
        {
          "output_type": "stream",
          "name": "stdout",
          "text": [
            "Downloading data from https://s3.amazonaws.com/fcp-indi/data/Projects/ABIDE_Initiative/Outputs/cpac/filt_noglobal/rois_cc200/Leuven_2_0050726_rois_cc200.1D ...\n"
          ]
        },
        {
          "output_type": "stream",
          "name": "stderr",
          "text": [
            " ...done. (1 seconds, 0 min)\n"
          ]
        },
        {
          "output_type": "stream",
          "name": "stdout",
          "text": [
            "Downloading data from https://s3.amazonaws.com/fcp-indi/data/Projects/ABIDE_Initiative/Outputs/cpac/filt_noglobal/rois_cc200/Leuven_2_0050727_rois_cc200.1D ...\n"
          ]
        },
        {
          "output_type": "stream",
          "name": "stderr",
          "text": [
            " ...done. (1 seconds, 0 min)\n"
          ]
        },
        {
          "output_type": "stream",
          "name": "stdout",
          "text": [
            "Downloading data from https://s3.amazonaws.com/fcp-indi/data/Projects/ABIDE_Initiative/Outputs/cpac/filt_noglobal/rois_cc200/Leuven_2_0050728_rois_cc200.1D ...\n"
          ]
        },
        {
          "output_type": "stream",
          "name": "stderr",
          "text": [
            " ...done. (1 seconds, 0 min)\n"
          ]
        },
        {
          "output_type": "stream",
          "name": "stdout",
          "text": [
            "Downloading data from https://s3.amazonaws.com/fcp-indi/data/Projects/ABIDE_Initiative/Outputs/cpac/filt_noglobal/rois_cc200/Leuven_2_0050730_rois_cc200.1D ...\n"
          ]
        },
        {
          "output_type": "stream",
          "name": "stderr",
          "text": [
            " ...done. (1 seconds, 0 min)\n"
          ]
        },
        {
          "output_type": "stream",
          "name": "stdout",
          "text": [
            "Downloading data from https://s3.amazonaws.com/fcp-indi/data/Projects/ABIDE_Initiative/Outputs/cpac/filt_noglobal/rois_cc200/Leuven_2_0050731_rois_cc200.1D ...\n"
          ]
        },
        {
          "output_type": "stream",
          "name": "stderr",
          "text": [
            " ...done. (1 seconds, 0 min)\n"
          ]
        },
        {
          "output_type": "stream",
          "name": "stdout",
          "text": [
            "Downloading data from https://s3.amazonaws.com/fcp-indi/data/Projects/ABIDE_Initiative/Outputs/cpac/filt_noglobal/rois_cc200/Leuven_2_0050732_rois_cc200.1D ...\n"
          ]
        },
        {
          "output_type": "stream",
          "name": "stderr",
          "text": [
            " ...done. (1 seconds, 0 min)\n"
          ]
        },
        {
          "output_type": "stream",
          "name": "stdout",
          "text": [
            "Downloading data from https://s3.amazonaws.com/fcp-indi/data/Projects/ABIDE_Initiative/Outputs/cpac/filt_noglobal/rois_cc200/Leuven_2_0050733_rois_cc200.1D ...\n"
          ]
        },
        {
          "output_type": "stream",
          "name": "stderr",
          "text": [
            " ...done. (1 seconds, 0 min)\n"
          ]
        },
        {
          "output_type": "stream",
          "name": "stdout",
          "text": [
            "Downloading data from https://s3.amazonaws.com/fcp-indi/data/Projects/ABIDE_Initiative/Outputs/cpac/filt_noglobal/rois_cc200/Leuven_2_0050735_rois_cc200.1D ...\n"
          ]
        },
        {
          "output_type": "stream",
          "name": "stderr",
          "text": [
            " ...done. (1 seconds, 0 min)\n"
          ]
        },
        {
          "output_type": "stream",
          "name": "stdout",
          "text": [
            "Downloading data from https://s3.amazonaws.com/fcp-indi/data/Projects/ABIDE_Initiative/Outputs/cpac/filt_noglobal/rois_cc200/Leuven_2_0050736_rois_cc200.1D ...\n"
          ]
        },
        {
          "output_type": "stream",
          "name": "stderr",
          "text": [
            " ...done. (1 seconds, 0 min)\n"
          ]
        },
        {
          "output_type": "stream",
          "name": "stdout",
          "text": [
            "Downloading data from https://s3.amazonaws.com/fcp-indi/data/Projects/ABIDE_Initiative/Outputs/cpac/filt_noglobal/rois_cc200/Leuven_2_0050737_rois_cc200.1D ...\n"
          ]
        },
        {
          "output_type": "stream",
          "name": "stderr",
          "text": [
            " ...done. (1 seconds, 0 min)\n"
          ]
        },
        {
          "output_type": "stream",
          "name": "stdout",
          "text": [
            "Downloading data from https://s3.amazonaws.com/fcp-indi/data/Projects/ABIDE_Initiative/Outputs/cpac/filt_noglobal/rois_cc200/Leuven_2_0050738_rois_cc200.1D ...\n"
          ]
        },
        {
          "output_type": "stream",
          "name": "stderr",
          "text": [
            " ...done. (1 seconds, 0 min)\n"
          ]
        },
        {
          "output_type": "stream",
          "name": "stdout",
          "text": [
            "Downloading data from https://s3.amazonaws.com/fcp-indi/data/Projects/ABIDE_Initiative/Outputs/cpac/filt_noglobal/rois_cc200/Leuven_2_0050739_rois_cc200.1D ...\n"
          ]
        },
        {
          "output_type": "stream",
          "name": "stderr",
          "text": [
            " ...done. (1 seconds, 0 min)\n"
          ]
        },
        {
          "output_type": "stream",
          "name": "stdout",
          "text": [
            "Downloading data from https://s3.amazonaws.com/fcp-indi/data/Projects/ABIDE_Initiative/Outputs/cpac/filt_noglobal/rois_cc200/Leuven_2_0050740_rois_cc200.1D ...\n"
          ]
        },
        {
          "output_type": "stream",
          "name": "stderr",
          "text": [
            " ...done. (1 seconds, 0 min)\n"
          ]
        },
        {
          "output_type": "stream",
          "name": "stdout",
          "text": [
            "Downloading data from https://s3.amazonaws.com/fcp-indi/data/Projects/ABIDE_Initiative/Outputs/cpac/filt_noglobal/rois_cc200/Leuven_2_0050741_rois_cc200.1D ...\n"
          ]
        },
        {
          "output_type": "stream",
          "name": "stderr",
          "text": [
            " ...done. (1 seconds, 0 min)\n"
          ]
        },
        {
          "output_type": "stream",
          "name": "stdout",
          "text": [
            "Downloading data from https://s3.amazonaws.com/fcp-indi/data/Projects/ABIDE_Initiative/Outputs/cpac/filt_noglobal/rois_cc200/Leuven_2_0050742_rois_cc200.1D ...\n"
          ]
        },
        {
          "output_type": "stream",
          "name": "stderr",
          "text": [
            " ...done. (1 seconds, 0 min)\n"
          ]
        },
        {
          "output_type": "stream",
          "name": "stdout",
          "text": [
            "Downloading data from https://s3.amazonaws.com/fcp-indi/data/Projects/ABIDE_Initiative/Outputs/cpac/filt_noglobal/rois_cc200/Leuven_2_0050743_rois_cc200.1D ...\n"
          ]
        },
        {
          "output_type": "stream",
          "name": "stderr",
          "text": [
            " ...done. (1 seconds, 0 min)\n"
          ]
        },
        {
          "output_type": "stream",
          "name": "stdout",
          "text": [
            "Downloading data from https://s3.amazonaws.com/fcp-indi/data/Projects/ABIDE_Initiative/Outputs/cpac/filt_noglobal/rois_cc200/Leuven_2_0050744_rois_cc200.1D ...\n"
          ]
        },
        {
          "output_type": "stream",
          "name": "stderr",
          "text": [
            " ...done. (1 seconds, 0 min)\n"
          ]
        },
        {
          "output_type": "stream",
          "name": "stdout",
          "text": [
            "Downloading data from https://s3.amazonaws.com/fcp-indi/data/Projects/ABIDE_Initiative/Outputs/cpac/filt_noglobal/rois_cc200/Leuven_2_0050745_rois_cc200.1D ...\n"
          ]
        },
        {
          "output_type": "stream",
          "name": "stderr",
          "text": [
            " ...done. (1 seconds, 0 min)\n"
          ]
        },
        {
          "output_type": "stream",
          "name": "stdout",
          "text": [
            "Downloading data from https://s3.amazonaws.com/fcp-indi/data/Projects/ABIDE_Initiative/Outputs/cpac/filt_noglobal/rois_cc200/Leuven_2_0050746_rois_cc200.1D ...\n"
          ]
        },
        {
          "output_type": "stream",
          "name": "stderr",
          "text": [
            " ...done. (1 seconds, 0 min)\n"
          ]
        },
        {
          "output_type": "stream",
          "name": "stdout",
          "text": [
            "Downloading data from https://s3.amazonaws.com/fcp-indi/data/Projects/ABIDE_Initiative/Outputs/cpac/filt_noglobal/rois_cc200/Leuven_2_0050747_rois_cc200.1D ...\n"
          ]
        },
        {
          "output_type": "stream",
          "name": "stderr",
          "text": [
            " ...done. (1 seconds, 0 min)\n"
          ]
        },
        {
          "output_type": "stream",
          "name": "stdout",
          "text": [
            "Downloading data from https://s3.amazonaws.com/fcp-indi/data/Projects/ABIDE_Initiative/Outputs/cpac/filt_noglobal/rois_cc200/Leuven_2_0050748_rois_cc200.1D ...\n"
          ]
        },
        {
          "output_type": "stream",
          "name": "stderr",
          "text": [
            " ...done. (1 seconds, 0 min)\n"
          ]
        },
        {
          "output_type": "stream",
          "name": "stdout",
          "text": [
            "Downloading data from https://s3.amazonaws.com/fcp-indi/data/Projects/ABIDE_Initiative/Outputs/cpac/filt_noglobal/rois_cc200/Leuven_2_0050749_rois_cc200.1D ...\n"
          ]
        },
        {
          "output_type": "stream",
          "name": "stderr",
          "text": [
            " ...done. (1 seconds, 0 min)\n"
          ]
        },
        {
          "output_type": "stream",
          "name": "stdout",
          "text": [
            "Downloading data from https://s3.amazonaws.com/fcp-indi/data/Projects/ABIDE_Initiative/Outputs/cpac/filt_noglobal/rois_cc200/Leuven_2_0050750_rois_cc200.1D ...\n"
          ]
        },
        {
          "output_type": "stream",
          "name": "stderr",
          "text": [
            " ...done. (1 seconds, 0 min)\n"
          ]
        },
        {
          "output_type": "stream",
          "name": "stdout",
          "text": [
            "Downloading data from https://s3.amazonaws.com/fcp-indi/data/Projects/ABIDE_Initiative/Outputs/cpac/filt_noglobal/rois_cc200/Leuven_2_0050751_rois_cc200.1D ...\n"
          ]
        },
        {
          "output_type": "stream",
          "name": "stderr",
          "text": [
            " ...done. (1 seconds, 0 min)\n"
          ]
        },
        {
          "output_type": "stream",
          "name": "stdout",
          "text": [
            "Downloading data from https://s3.amazonaws.com/fcp-indi/data/Projects/ABIDE_Initiative/Outputs/cpac/filt_noglobal/rois_cc200/Leuven_2_0050752_rois_cc200.1D ...\n"
          ]
        },
        {
          "output_type": "stream",
          "name": "stderr",
          "text": [
            " ...done. (1 seconds, 0 min)\n"
          ]
        },
        {
          "output_type": "stream",
          "name": "stdout",
          "text": [
            "Downloading data from https://s3.amazonaws.com/fcp-indi/data/Projects/ABIDE_Initiative/Outputs/cpac/filt_noglobal/rois_cc200/Leuven_2_0050753_rois_cc200.1D ...\n"
          ]
        },
        {
          "output_type": "stream",
          "name": "stderr",
          "text": [
            " ...done. (1 seconds, 0 min)\n"
          ]
        },
        {
          "output_type": "stream",
          "name": "stdout",
          "text": [
            "Downloading data from https://s3.amazonaws.com/fcp-indi/data/Projects/ABIDE_Initiative/Outputs/cpac/filt_noglobal/rois_cc200/Leuven_2_0050754_rois_cc200.1D ...\n"
          ]
        },
        {
          "output_type": "stream",
          "name": "stderr",
          "text": [
            " ...done. (1 seconds, 0 min)\n"
          ]
        },
        {
          "output_type": "stream",
          "name": "stdout",
          "text": [
            "Downloading data from https://s3.amazonaws.com/fcp-indi/data/Projects/ABIDE_Initiative/Outputs/cpac/filt_noglobal/rois_cc200/Leuven_2_0050755_rois_cc200.1D ...\n"
          ]
        },
        {
          "output_type": "stream",
          "name": "stderr",
          "text": [
            " ...done. (1 seconds, 0 min)\n"
          ]
        },
        {
          "output_type": "stream",
          "name": "stdout",
          "text": [
            "Downloading data from https://s3.amazonaws.com/fcp-indi/data/Projects/ABIDE_Initiative/Outputs/cpac/filt_noglobal/rois_cc200/Leuven_2_0050756_rois_cc200.1D ...\n"
          ]
        },
        {
          "output_type": "stream",
          "name": "stderr",
          "text": [
            " ...done. (1 seconds, 0 min)\n"
          ]
        },
        {
          "output_type": "stream",
          "name": "stdout",
          "text": [
            "Downloading data from https://s3.amazonaws.com/fcp-indi/data/Projects/ABIDE_Initiative/Outputs/cpac/filt_noglobal/rois_cc200/Leuven_2_0050757_rois_cc200.1D ...\n"
          ]
        },
        {
          "output_type": "stream",
          "name": "stderr",
          "text": [
            " ...done. (1 seconds, 0 min)\n"
          ]
        },
        {
          "output_type": "stream",
          "name": "stdout",
          "text": [
            "Downloading data from https://s3.amazonaws.com/fcp-indi/data/Projects/ABIDE_Initiative/Outputs/cpac/filt_noglobal/rois_cc200/KKI_0050772_rois_cc200.1D ...\n"
          ]
        },
        {
          "output_type": "stream",
          "name": "stderr",
          "text": [
            " ...done. (1 seconds, 0 min)\n"
          ]
        },
        {
          "output_type": "stream",
          "name": "stdout",
          "text": [
            "Downloading data from https://s3.amazonaws.com/fcp-indi/data/Projects/ABIDE_Initiative/Outputs/cpac/filt_noglobal/rois_cc200/KKI_0050773_rois_cc200.1D ...\n"
          ]
        },
        {
          "output_type": "stream",
          "name": "stderr",
          "text": [
            " ...done. (1 seconds, 0 min)\n"
          ]
        },
        {
          "output_type": "stream",
          "name": "stdout",
          "text": [
            "Downloading data from https://s3.amazonaws.com/fcp-indi/data/Projects/ABIDE_Initiative/Outputs/cpac/filt_noglobal/rois_cc200/KKI_0050774_rois_cc200.1D ...\n"
          ]
        },
        {
          "output_type": "stream",
          "name": "stderr",
          "text": [
            " ...done. (1 seconds, 0 min)\n"
          ]
        },
        {
          "output_type": "stream",
          "name": "stdout",
          "text": [
            "Downloading data from https://s3.amazonaws.com/fcp-indi/data/Projects/ABIDE_Initiative/Outputs/cpac/filt_noglobal/rois_cc200/KKI_0050775_rois_cc200.1D ...\n"
          ]
        },
        {
          "output_type": "stream",
          "name": "stderr",
          "text": [
            " ...done. (1 seconds, 0 min)\n"
          ]
        },
        {
          "output_type": "stream",
          "name": "stdout",
          "text": [
            "Downloading data from https://s3.amazonaws.com/fcp-indi/data/Projects/ABIDE_Initiative/Outputs/cpac/filt_noglobal/rois_cc200/KKI_0050776_rois_cc200.1D ...\n"
          ]
        },
        {
          "output_type": "stream",
          "name": "stderr",
          "text": [
            " ...done. (1 seconds, 0 min)\n"
          ]
        },
        {
          "output_type": "stream",
          "name": "stdout",
          "text": [
            "Downloading data from https://s3.amazonaws.com/fcp-indi/data/Projects/ABIDE_Initiative/Outputs/cpac/filt_noglobal/rois_cc200/KKI_0050777_rois_cc200.1D ...\n"
          ]
        },
        {
          "output_type": "stream",
          "name": "stderr",
          "text": [
            " ...done. (1 seconds, 0 min)\n"
          ]
        },
        {
          "output_type": "stream",
          "name": "stdout",
          "text": [
            "Downloading data from https://s3.amazonaws.com/fcp-indi/data/Projects/ABIDE_Initiative/Outputs/cpac/filt_noglobal/rois_cc200/KKI_0050778_rois_cc200.1D ...\n"
          ]
        },
        {
          "output_type": "stream",
          "name": "stderr",
          "text": [
            " ...done. (1 seconds, 0 min)\n"
          ]
        },
        {
          "output_type": "stream",
          "name": "stdout",
          "text": [
            "Downloading data from https://s3.amazonaws.com/fcp-indi/data/Projects/ABIDE_Initiative/Outputs/cpac/filt_noglobal/rois_cc200/KKI_0050779_rois_cc200.1D ...\n"
          ]
        },
        {
          "output_type": "stream",
          "name": "stderr",
          "text": [
            " ...done. (1 seconds, 0 min)\n"
          ]
        },
        {
          "output_type": "stream",
          "name": "stdout",
          "text": [
            "Downloading data from https://s3.amazonaws.com/fcp-indi/data/Projects/ABIDE_Initiative/Outputs/cpac/filt_noglobal/rois_cc200/KKI_0050780_rois_cc200.1D ...\n"
          ]
        },
        {
          "output_type": "stream",
          "name": "stderr",
          "text": [
            " ...done. (1 seconds, 0 min)\n"
          ]
        },
        {
          "output_type": "stream",
          "name": "stdout",
          "text": [
            "Downloading data from https://s3.amazonaws.com/fcp-indi/data/Projects/ABIDE_Initiative/Outputs/cpac/filt_noglobal/rois_cc200/KKI_0050781_rois_cc200.1D ...\n"
          ]
        },
        {
          "output_type": "stream",
          "name": "stderr",
          "text": [
            " ...done. (1 seconds, 0 min)\n"
          ]
        },
        {
          "output_type": "stream",
          "name": "stdout",
          "text": [
            "Downloading data from https://s3.amazonaws.com/fcp-indi/data/Projects/ABIDE_Initiative/Outputs/cpac/filt_noglobal/rois_cc200/KKI_0050782_rois_cc200.1D ...\n"
          ]
        },
        {
          "output_type": "stream",
          "name": "stderr",
          "text": [
            " ...done. (1 seconds, 0 min)\n"
          ]
        },
        {
          "output_type": "stream",
          "name": "stdout",
          "text": [
            "Downloading data from https://s3.amazonaws.com/fcp-indi/data/Projects/ABIDE_Initiative/Outputs/cpac/filt_noglobal/rois_cc200/KKI_0050783_rois_cc200.1D ...\n"
          ]
        },
        {
          "output_type": "stream",
          "name": "stderr",
          "text": [
            " ...done. (1 seconds, 0 min)\n"
          ]
        },
        {
          "output_type": "stream",
          "name": "stdout",
          "text": [
            "Downloading data from https://s3.amazonaws.com/fcp-indi/data/Projects/ABIDE_Initiative/Outputs/cpac/filt_noglobal/rois_cc200/KKI_0050784_rois_cc200.1D ...\n"
          ]
        },
        {
          "output_type": "stream",
          "name": "stderr",
          "text": [
            " ...done. (1 seconds, 0 min)\n"
          ]
        },
        {
          "output_type": "stream",
          "name": "stdout",
          "text": [
            "Downloading data from https://s3.amazonaws.com/fcp-indi/data/Projects/ABIDE_Initiative/Outputs/cpac/filt_noglobal/rois_cc200/KKI_0050785_rois_cc200.1D ...\n"
          ]
        },
        {
          "output_type": "stream",
          "name": "stderr",
          "text": [
            " ...done. (1 seconds, 0 min)\n"
          ]
        },
        {
          "output_type": "stream",
          "name": "stdout",
          "text": [
            "Downloading data from https://s3.amazonaws.com/fcp-indi/data/Projects/ABIDE_Initiative/Outputs/cpac/filt_noglobal/rois_cc200/KKI_0050786_rois_cc200.1D ...\n"
          ]
        },
        {
          "output_type": "stream",
          "name": "stderr",
          "text": [
            " ...done. (1 seconds, 0 min)\n"
          ]
        },
        {
          "output_type": "stream",
          "name": "stdout",
          "text": [
            "Downloading data from https://s3.amazonaws.com/fcp-indi/data/Projects/ABIDE_Initiative/Outputs/cpac/filt_noglobal/rois_cc200/KKI_0050787_rois_cc200.1D ...\n"
          ]
        },
        {
          "output_type": "stream",
          "name": "stderr",
          "text": [
            " ...done. (1 seconds, 0 min)\n"
          ]
        },
        {
          "output_type": "stream",
          "name": "stdout",
          "text": [
            "Downloading data from https://s3.amazonaws.com/fcp-indi/data/Projects/ABIDE_Initiative/Outputs/cpac/filt_noglobal/rois_cc200/KKI_0050788_rois_cc200.1D ...\n"
          ]
        },
        {
          "output_type": "stream",
          "name": "stderr",
          "text": [
            " ...done. (1 seconds, 0 min)\n"
          ]
        },
        {
          "output_type": "stream",
          "name": "stdout",
          "text": [
            "Downloading data from https://s3.amazonaws.com/fcp-indi/data/Projects/ABIDE_Initiative/Outputs/cpac/filt_noglobal/rois_cc200/KKI_0050789_rois_cc200.1D ...\n"
          ]
        },
        {
          "output_type": "stream",
          "name": "stderr",
          "text": [
            " ...done. (1 seconds, 0 min)\n"
          ]
        },
        {
          "output_type": "stream",
          "name": "stdout",
          "text": [
            "Downloading data from https://s3.amazonaws.com/fcp-indi/data/Projects/ABIDE_Initiative/Outputs/cpac/filt_noglobal/rois_cc200/KKI_0050790_rois_cc200.1D ...\n"
          ]
        },
        {
          "output_type": "stream",
          "name": "stderr",
          "text": [
            " ...done. (1 seconds, 0 min)\n"
          ]
        },
        {
          "output_type": "stream",
          "name": "stdout",
          "text": [
            "Downloading data from https://s3.amazonaws.com/fcp-indi/data/Projects/ABIDE_Initiative/Outputs/cpac/filt_noglobal/rois_cc200/KKI_0050791_rois_cc200.1D ...\n"
          ]
        },
        {
          "output_type": "stream",
          "name": "stderr",
          "text": [
            " ...done. (1 seconds, 0 min)\n"
          ]
        },
        {
          "output_type": "stream",
          "name": "stdout",
          "text": [
            "Downloading data from https://s3.amazonaws.com/fcp-indi/data/Projects/ABIDE_Initiative/Outputs/cpac/filt_noglobal/rois_cc200/KKI_0050792_rois_cc200.1D ...\n"
          ]
        },
        {
          "output_type": "stream",
          "name": "stderr",
          "text": [
            " ...done. (1 seconds, 0 min)\n"
          ]
        },
        {
          "output_type": "stream",
          "name": "stdout",
          "text": [
            "Downloading data from https://s3.amazonaws.com/fcp-indi/data/Projects/ABIDE_Initiative/Outputs/cpac/filt_noglobal/rois_cc200/KKI_0050793_rois_cc200.1D ...\n"
          ]
        },
        {
          "output_type": "stream",
          "name": "stderr",
          "text": [
            " ...done. (1 seconds, 0 min)\n"
          ]
        },
        {
          "output_type": "stream",
          "name": "stdout",
          "text": [
            "Downloading data from https://s3.amazonaws.com/fcp-indi/data/Projects/ABIDE_Initiative/Outputs/cpac/filt_noglobal/rois_cc200/KKI_0050794_rois_cc200.1D ...\n"
          ]
        },
        {
          "output_type": "stream",
          "name": "stderr",
          "text": [
            " ...done. (1 seconds, 0 min)\n"
          ]
        },
        {
          "output_type": "stream",
          "name": "stdout",
          "text": [
            "Downloading data from https://s3.amazonaws.com/fcp-indi/data/Projects/ABIDE_Initiative/Outputs/cpac/filt_noglobal/rois_cc200/KKI_0050795_rois_cc200.1D ...\n"
          ]
        },
        {
          "output_type": "stream",
          "name": "stderr",
          "text": [
            " ...done. (1 seconds, 0 min)\n"
          ]
        },
        {
          "output_type": "stream",
          "name": "stdout",
          "text": [
            "Downloading data from https://s3.amazonaws.com/fcp-indi/data/Projects/ABIDE_Initiative/Outputs/cpac/filt_noglobal/rois_cc200/KKI_0050796_rois_cc200.1D ...\n"
          ]
        },
        {
          "output_type": "stream",
          "name": "stderr",
          "text": [
            " ...done. (1 seconds, 0 min)\n"
          ]
        },
        {
          "output_type": "stream",
          "name": "stdout",
          "text": [
            "Downloading data from https://s3.amazonaws.com/fcp-indi/data/Projects/ABIDE_Initiative/Outputs/cpac/filt_noglobal/rois_cc200/KKI_0050797_rois_cc200.1D ...\n"
          ]
        },
        {
          "output_type": "stream",
          "name": "stderr",
          "text": [
            " ...done. (1 seconds, 0 min)\n"
          ]
        },
        {
          "output_type": "stream",
          "name": "stdout",
          "text": [
            "Downloading data from https://s3.amazonaws.com/fcp-indi/data/Projects/ABIDE_Initiative/Outputs/cpac/filt_noglobal/rois_cc200/KKI_0050798_rois_cc200.1D ...\n"
          ]
        },
        {
          "output_type": "stream",
          "name": "stderr",
          "text": [
            " ...done. (1 seconds, 0 min)\n"
          ]
        },
        {
          "output_type": "stream",
          "name": "stdout",
          "text": [
            "Downloading data from https://s3.amazonaws.com/fcp-indi/data/Projects/ABIDE_Initiative/Outputs/cpac/filt_noglobal/rois_cc200/KKI_0050799_rois_cc200.1D ...\n"
          ]
        },
        {
          "output_type": "stream",
          "name": "stderr",
          "text": [
            " ...done. (1 seconds, 0 min)\n"
          ]
        },
        {
          "output_type": "stream",
          "name": "stdout",
          "text": [
            "Downloading data from https://s3.amazonaws.com/fcp-indi/data/Projects/ABIDE_Initiative/Outputs/cpac/filt_noglobal/rois_cc200/KKI_0050800_rois_cc200.1D ...\n"
          ]
        },
        {
          "output_type": "stream",
          "name": "stderr",
          "text": [
            " ...done. (1 seconds, 0 min)\n"
          ]
        },
        {
          "output_type": "stream",
          "name": "stdout",
          "text": [
            "Downloading data from https://s3.amazonaws.com/fcp-indi/data/Projects/ABIDE_Initiative/Outputs/cpac/filt_noglobal/rois_cc200/KKI_0050801_rois_cc200.1D ...\n"
          ]
        },
        {
          "output_type": "stream",
          "name": "stderr",
          "text": [
            " ...done. (1 seconds, 0 min)\n"
          ]
        },
        {
          "output_type": "stream",
          "name": "stdout",
          "text": [
            "Downloading data from https://s3.amazonaws.com/fcp-indi/data/Projects/ABIDE_Initiative/Outputs/cpac/filt_noglobal/rois_cc200/KKI_0050802_rois_cc200.1D ...\n"
          ]
        },
        {
          "output_type": "stream",
          "name": "stderr",
          "text": [
            " ...done. (1 seconds, 0 min)\n"
          ]
        },
        {
          "output_type": "stream",
          "name": "stdout",
          "text": [
            "Downloading data from https://s3.amazonaws.com/fcp-indi/data/Projects/ABIDE_Initiative/Outputs/cpac/filt_noglobal/rois_cc200/KKI_0050803_rois_cc200.1D ...\n"
          ]
        },
        {
          "output_type": "stream",
          "name": "stderr",
          "text": [
            " ...done. (1 seconds, 0 min)\n"
          ]
        },
        {
          "output_type": "stream",
          "name": "stdout",
          "text": [
            "Downloading data from https://s3.amazonaws.com/fcp-indi/data/Projects/ABIDE_Initiative/Outputs/cpac/filt_noglobal/rois_cc200/KKI_0050804_rois_cc200.1D ...\n"
          ]
        },
        {
          "output_type": "stream",
          "name": "stderr",
          "text": [
            " ...done. (1 seconds, 0 min)\n"
          ]
        },
        {
          "output_type": "stream",
          "name": "stdout",
          "text": [
            "Downloading data from https://s3.amazonaws.com/fcp-indi/data/Projects/ABIDE_Initiative/Outputs/cpac/filt_noglobal/rois_cc200/KKI_0050807_rois_cc200.1D ...\n"
          ]
        },
        {
          "output_type": "stream",
          "name": "stderr",
          "text": [
            " ...done. (1 seconds, 0 min)\n"
          ]
        },
        {
          "output_type": "stream",
          "name": "stdout",
          "text": [
            "Downloading data from https://s3.amazonaws.com/fcp-indi/data/Projects/ABIDE_Initiative/Outputs/cpac/filt_noglobal/rois_cc200/KKI_0050812_rois_cc200.1D ...\n"
          ]
        },
        {
          "output_type": "stream",
          "name": "stderr",
          "text": [
            " ...done. (1 seconds, 0 min)\n"
          ]
        },
        {
          "output_type": "stream",
          "name": "stdout",
          "text": [
            "Downloading data from https://s3.amazonaws.com/fcp-indi/data/Projects/ABIDE_Initiative/Outputs/cpac/filt_noglobal/rois_cc200/KKI_0050814_rois_cc200.1D ...\n"
          ]
        },
        {
          "output_type": "stream",
          "name": "stderr",
          "text": [
            " ...done. (1 seconds, 0 min)\n"
          ]
        },
        {
          "output_type": "stream",
          "name": "stdout",
          "text": [
            "Downloading data from https://s3.amazonaws.com/fcp-indi/data/Projects/ABIDE_Initiative/Outputs/cpac/filt_noglobal/rois_cc200/KKI_0050815_rois_cc200.1D ...\n"
          ]
        },
        {
          "output_type": "stream",
          "name": "stderr",
          "text": [
            " ...done. (1 seconds, 0 min)\n"
          ]
        },
        {
          "output_type": "stream",
          "name": "stdout",
          "text": [
            "Downloading data from https://s3.amazonaws.com/fcp-indi/data/Projects/ABIDE_Initiative/Outputs/cpac/filt_noglobal/rois_cc200/KKI_0050816_rois_cc200.1D ...\n"
          ]
        },
        {
          "output_type": "stream",
          "name": "stderr",
          "text": [
            " ...done. (1 seconds, 0 min)\n"
          ]
        },
        {
          "output_type": "stream",
          "name": "stdout",
          "text": [
            "Downloading data from https://s3.amazonaws.com/fcp-indi/data/Projects/ABIDE_Initiative/Outputs/cpac/filt_noglobal/rois_cc200/KKI_0050817_rois_cc200.1D ...\n"
          ]
        },
        {
          "output_type": "stream",
          "name": "stderr",
          "text": [
            " ...done. (1 seconds, 0 min)\n"
          ]
        },
        {
          "output_type": "stream",
          "name": "stdout",
          "text": [
            "Downloading data from https://s3.amazonaws.com/fcp-indi/data/Projects/ABIDE_Initiative/Outputs/cpac/filt_noglobal/rois_cc200/KKI_0050818_rois_cc200.1D ...\n"
          ]
        },
        {
          "output_type": "stream",
          "name": "stderr",
          "text": [
            " ...done. (1 seconds, 0 min)\n"
          ]
        },
        {
          "output_type": "stream",
          "name": "stdout",
          "text": [
            "Downloading data from https://s3.amazonaws.com/fcp-indi/data/Projects/ABIDE_Initiative/Outputs/cpac/filt_noglobal/rois_cc200/KKI_0050819_rois_cc200.1D ...\n"
          ]
        },
        {
          "output_type": "stream",
          "name": "stderr",
          "text": [
            " ...done. (1 seconds, 0 min)\n"
          ]
        },
        {
          "output_type": "stream",
          "name": "stdout",
          "text": [
            "Downloading data from https://s3.amazonaws.com/fcp-indi/data/Projects/ABIDE_Initiative/Outputs/cpac/filt_noglobal/rois_cc200/KKI_0050820_rois_cc200.1D ...\n"
          ]
        },
        {
          "output_type": "stream",
          "name": "stderr",
          "text": [
            " ...done. (1 seconds, 0 min)\n"
          ]
        },
        {
          "output_type": "stream",
          "name": "stdout",
          "text": [
            "Downloading data from https://s3.amazonaws.com/fcp-indi/data/Projects/ABIDE_Initiative/Outputs/cpac/filt_noglobal/rois_cc200/KKI_0050821_rois_cc200.1D ...\n"
          ]
        },
        {
          "output_type": "stream",
          "name": "stderr",
          "text": [
            " ...done. (1 seconds, 0 min)\n"
          ]
        },
        {
          "output_type": "stream",
          "name": "stdout",
          "text": [
            "Downloading data from https://s3.amazonaws.com/fcp-indi/data/Projects/ABIDE_Initiative/Outputs/cpac/filt_noglobal/rois_cc200/KKI_0050822_rois_cc200.1D ...\n"
          ]
        },
        {
          "output_type": "stream",
          "name": "stderr",
          "text": [
            " ...done. (1 seconds, 0 min)\n"
          ]
        },
        {
          "output_type": "stream",
          "name": "stdout",
          "text": [
            "Downloading data from https://s3.amazonaws.com/fcp-indi/data/Projects/ABIDE_Initiative/Outputs/cpac/filt_noglobal/rois_cc200/KKI_0050823_rois_cc200.1D ...\n"
          ]
        },
        {
          "output_type": "stream",
          "name": "stderr",
          "text": [
            " ...done. (1 seconds, 0 min)\n"
          ]
        },
        {
          "output_type": "stream",
          "name": "stdout",
          "text": [
            "Downloading data from https://s3.amazonaws.com/fcp-indi/data/Projects/ABIDE_Initiative/Outputs/cpac/filt_noglobal/rois_cc200/KKI_0050824_rois_cc200.1D ...\n"
          ]
        },
        {
          "output_type": "stream",
          "name": "stderr",
          "text": [
            " ...done. (1 seconds, 0 min)\n"
          ]
        },
        {
          "output_type": "stream",
          "name": "stdout",
          "text": [
            "Downloading data from https://s3.amazonaws.com/fcp-indi/data/Projects/ABIDE_Initiative/Outputs/cpac/filt_noglobal/rois_cc200/KKI_0050825_rois_cc200.1D ...\n"
          ]
        },
        {
          "output_type": "stream",
          "name": "stderr",
          "text": [
            " ...done. (1 seconds, 0 min)\n"
          ]
        },
        {
          "output_type": "stream",
          "name": "stdout",
          "text": [
            "Downloading data from https://s3.amazonaws.com/fcp-indi/data/Projects/ABIDE_Initiative/Outputs/cpac/filt_noglobal/rois_cc200/KKI_0050826_rois_cc200.1D ...\n"
          ]
        },
        {
          "output_type": "stream",
          "name": "stderr",
          "text": [
            " ...done. (1 seconds, 0 min)\n"
          ]
        },
        {
          "output_type": "stream",
          "name": "stdout",
          "text": [
            "Downloading data from https://s3.amazonaws.com/fcp-indi/data/Projects/ABIDE_Initiative/Outputs/cpac/filt_noglobal/rois_cc200/NYU_0050952_rois_cc200.1D ...\n"
          ]
        },
        {
          "output_type": "stream",
          "name": "stderr",
          "text": [
            " ...done. (1 seconds, 0 min)\n"
          ]
        },
        {
          "output_type": "stream",
          "name": "stdout",
          "text": [
            "Downloading data from https://s3.amazonaws.com/fcp-indi/data/Projects/ABIDE_Initiative/Outputs/cpac/filt_noglobal/rois_cc200/NYU_0050954_rois_cc200.1D ...\n"
          ]
        },
        {
          "output_type": "stream",
          "name": "stderr",
          "text": [
            " ...done. (1 seconds, 0 min)\n"
          ]
        },
        {
          "output_type": "stream",
          "name": "stdout",
          "text": [
            "Downloading data from https://s3.amazonaws.com/fcp-indi/data/Projects/ABIDE_Initiative/Outputs/cpac/filt_noglobal/rois_cc200/NYU_0050955_rois_cc200.1D ...\n"
          ]
        },
        {
          "output_type": "stream",
          "name": "stderr",
          "text": [
            " ...done. (1 seconds, 0 min)\n"
          ]
        },
        {
          "output_type": "stream",
          "name": "stdout",
          "text": [
            "Downloading data from https://s3.amazonaws.com/fcp-indi/data/Projects/ABIDE_Initiative/Outputs/cpac/filt_noglobal/rois_cc200/NYU_0050956_rois_cc200.1D ...\n"
          ]
        },
        {
          "output_type": "stream",
          "name": "stderr",
          "text": [
            " ...done. (1 seconds, 0 min)\n"
          ]
        },
        {
          "output_type": "stream",
          "name": "stdout",
          "text": [
            "Downloading data from https://s3.amazonaws.com/fcp-indi/data/Projects/ABIDE_Initiative/Outputs/cpac/filt_noglobal/rois_cc200/NYU_0050957_rois_cc200.1D ...\n"
          ]
        },
        {
          "output_type": "stream",
          "name": "stderr",
          "text": [
            " ...done. (1 seconds, 0 min)\n"
          ]
        },
        {
          "output_type": "stream",
          "name": "stdout",
          "text": [
            "Downloading data from https://s3.amazonaws.com/fcp-indi/data/Projects/ABIDE_Initiative/Outputs/cpac/filt_noglobal/rois_cc200/NYU_0050958_rois_cc200.1D ...\n"
          ]
        },
        {
          "output_type": "stream",
          "name": "stderr",
          "text": [
            " ...done. (1 seconds, 0 min)\n"
          ]
        },
        {
          "output_type": "stream",
          "name": "stdout",
          "text": [
            "Downloading data from https://s3.amazonaws.com/fcp-indi/data/Projects/ABIDE_Initiative/Outputs/cpac/filt_noglobal/rois_cc200/NYU_0050959_rois_cc200.1D ...\n"
          ]
        },
        {
          "output_type": "stream",
          "name": "stderr",
          "text": [
            " ...done. (1 seconds, 0 min)\n"
          ]
        },
        {
          "output_type": "stream",
          "name": "stdout",
          "text": [
            "Downloading data from https://s3.amazonaws.com/fcp-indi/data/Projects/ABIDE_Initiative/Outputs/cpac/filt_noglobal/rois_cc200/NYU_0050960_rois_cc200.1D ...\n"
          ]
        },
        {
          "output_type": "stream",
          "name": "stderr",
          "text": [
            " ...done. (1 seconds, 0 min)\n"
          ]
        },
        {
          "output_type": "stream",
          "name": "stdout",
          "text": [
            "Downloading data from https://s3.amazonaws.com/fcp-indi/data/Projects/ABIDE_Initiative/Outputs/cpac/filt_noglobal/rois_cc200/NYU_0050961_rois_cc200.1D ...\n"
          ]
        },
        {
          "output_type": "stream",
          "name": "stderr",
          "text": [
            " ...done. (1 seconds, 0 min)\n"
          ]
        },
        {
          "output_type": "stream",
          "name": "stdout",
          "text": [
            "Downloading data from https://s3.amazonaws.com/fcp-indi/data/Projects/ABIDE_Initiative/Outputs/cpac/filt_noglobal/rois_cc200/NYU_0050962_rois_cc200.1D ...\n"
          ]
        },
        {
          "output_type": "stream",
          "name": "stderr",
          "text": [
            " ...done. (1 seconds, 0 min)\n"
          ]
        },
        {
          "output_type": "stream",
          "name": "stdout",
          "text": [
            "Downloading data from https://s3.amazonaws.com/fcp-indi/data/Projects/ABIDE_Initiative/Outputs/cpac/filt_noglobal/rois_cc200/NYU_0050964_rois_cc200.1D ...\n"
          ]
        },
        {
          "output_type": "stream",
          "name": "stderr",
          "text": [
            " ...done. (1 seconds, 0 min)\n"
          ]
        },
        {
          "output_type": "stream",
          "name": "stdout",
          "text": [
            "Downloading data from https://s3.amazonaws.com/fcp-indi/data/Projects/ABIDE_Initiative/Outputs/cpac/filt_noglobal/rois_cc200/NYU_0050965_rois_cc200.1D ...\n"
          ]
        },
        {
          "output_type": "stream",
          "name": "stderr",
          "text": [
            " ...done. (1 seconds, 0 min)\n"
          ]
        },
        {
          "output_type": "stream",
          "name": "stdout",
          "text": [
            "Downloading data from https://s3.amazonaws.com/fcp-indi/data/Projects/ABIDE_Initiative/Outputs/cpac/filt_noglobal/rois_cc200/NYU_0050966_rois_cc200.1D ...\n"
          ]
        },
        {
          "output_type": "stream",
          "name": "stderr",
          "text": [
            " ...done. (1 seconds, 0 min)\n"
          ]
        },
        {
          "output_type": "stream",
          "name": "stdout",
          "text": [
            "Downloading data from https://s3.amazonaws.com/fcp-indi/data/Projects/ABIDE_Initiative/Outputs/cpac/filt_noglobal/rois_cc200/NYU_0050967_rois_cc200.1D ...\n"
          ]
        },
        {
          "output_type": "stream",
          "name": "stderr",
          "text": [
            " ...done. (1 seconds, 0 min)\n"
          ]
        },
        {
          "output_type": "stream",
          "name": "stdout",
          "text": [
            "Downloading data from https://s3.amazonaws.com/fcp-indi/data/Projects/ABIDE_Initiative/Outputs/cpac/filt_noglobal/rois_cc200/NYU_0050968_rois_cc200.1D ...\n"
          ]
        },
        {
          "output_type": "stream",
          "name": "stderr",
          "text": [
            " ...done. (1 seconds, 0 min)\n"
          ]
        },
        {
          "output_type": "stream",
          "name": "stdout",
          "text": [
            "Downloading data from https://s3.amazonaws.com/fcp-indi/data/Projects/ABIDE_Initiative/Outputs/cpac/filt_noglobal/rois_cc200/NYU_0050969_rois_cc200.1D ...\n"
          ]
        },
        {
          "output_type": "stream",
          "name": "stderr",
          "text": [
            " ...done. (1 seconds, 0 min)\n"
          ]
        },
        {
          "output_type": "stream",
          "name": "stdout",
          "text": [
            "Downloading data from https://s3.amazonaws.com/fcp-indi/data/Projects/ABIDE_Initiative/Outputs/cpac/filt_noglobal/rois_cc200/NYU_0050970_rois_cc200.1D ...\n"
          ]
        },
        {
          "output_type": "stream",
          "name": "stderr",
          "text": [
            " ...done. (1 seconds, 0 min)\n"
          ]
        },
        {
          "output_type": "stream",
          "name": "stdout",
          "text": [
            "Downloading data from https://s3.amazonaws.com/fcp-indi/data/Projects/ABIDE_Initiative/Outputs/cpac/filt_noglobal/rois_cc200/NYU_0050972_rois_cc200.1D ...\n"
          ]
        },
        {
          "output_type": "stream",
          "name": "stderr",
          "text": [
            " ...done. (1 seconds, 0 min)\n"
          ]
        },
        {
          "output_type": "stream",
          "name": "stdout",
          "text": [
            "Downloading data from https://s3.amazonaws.com/fcp-indi/data/Projects/ABIDE_Initiative/Outputs/cpac/filt_noglobal/rois_cc200/NYU_0050973_rois_cc200.1D ...\n"
          ]
        },
        {
          "output_type": "stream",
          "name": "stderr",
          "text": [
            " ...done. (1 seconds, 0 min)\n"
          ]
        },
        {
          "output_type": "stream",
          "name": "stdout",
          "text": [
            "Downloading data from https://s3.amazonaws.com/fcp-indi/data/Projects/ABIDE_Initiative/Outputs/cpac/filt_noglobal/rois_cc200/NYU_0050974_rois_cc200.1D ...\n"
          ]
        },
        {
          "output_type": "stream",
          "name": "stderr",
          "text": [
            " ...done. (1 seconds, 0 min)\n"
          ]
        },
        {
          "output_type": "stream",
          "name": "stdout",
          "text": [
            "Downloading data from https://s3.amazonaws.com/fcp-indi/data/Projects/ABIDE_Initiative/Outputs/cpac/filt_noglobal/rois_cc200/NYU_0050976_rois_cc200.1D ...\n"
          ]
        },
        {
          "output_type": "stream",
          "name": "stderr",
          "text": [
            " ...done. (1 seconds, 0 min)\n"
          ]
        },
        {
          "output_type": "stream",
          "name": "stdout",
          "text": [
            "Downloading data from https://s3.amazonaws.com/fcp-indi/data/Projects/ABIDE_Initiative/Outputs/cpac/filt_noglobal/rois_cc200/NYU_0050977_rois_cc200.1D ...\n"
          ]
        },
        {
          "output_type": "stream",
          "name": "stderr",
          "text": [
            " ...done. (1 seconds, 0 min)\n"
          ]
        },
        {
          "output_type": "stream",
          "name": "stdout",
          "text": [
            "Downloading data from https://s3.amazonaws.com/fcp-indi/data/Projects/ABIDE_Initiative/Outputs/cpac/filt_noglobal/rois_cc200/NYU_0050978_rois_cc200.1D ...\n"
          ]
        },
        {
          "output_type": "stream",
          "name": "stderr",
          "text": [
            " ...done. (1 seconds, 0 min)\n"
          ]
        },
        {
          "output_type": "stream",
          "name": "stdout",
          "text": [
            "Downloading data from https://s3.amazonaws.com/fcp-indi/data/Projects/ABIDE_Initiative/Outputs/cpac/filt_noglobal/rois_cc200/NYU_0050979_rois_cc200.1D ...\n"
          ]
        },
        {
          "output_type": "stream",
          "name": "stderr",
          "text": [
            " ...done. (1 seconds, 0 min)\n"
          ]
        },
        {
          "output_type": "stream",
          "name": "stdout",
          "text": [
            "Downloading data from https://s3.amazonaws.com/fcp-indi/data/Projects/ABIDE_Initiative/Outputs/cpac/filt_noglobal/rois_cc200/NYU_0050981_rois_cc200.1D ...\n"
          ]
        },
        {
          "output_type": "stream",
          "name": "stderr",
          "text": [
            " ...done. (1 seconds, 0 min)\n"
          ]
        },
        {
          "output_type": "stream",
          "name": "stdout",
          "text": [
            "Downloading data from https://s3.amazonaws.com/fcp-indi/data/Projects/ABIDE_Initiative/Outputs/cpac/filt_noglobal/rois_cc200/NYU_0050982_rois_cc200.1D ...\n"
          ]
        },
        {
          "output_type": "stream",
          "name": "stderr",
          "text": [
            " ...done. (1 seconds, 0 min)\n"
          ]
        },
        {
          "output_type": "stream",
          "name": "stdout",
          "text": [
            "Downloading data from https://s3.amazonaws.com/fcp-indi/data/Projects/ABIDE_Initiative/Outputs/cpac/filt_noglobal/rois_cc200/NYU_0050983_rois_cc200.1D ...\n"
          ]
        },
        {
          "output_type": "stream",
          "name": "stderr",
          "text": [
            " ...done. (1 seconds, 0 min)\n"
          ]
        },
        {
          "output_type": "stream",
          "name": "stdout",
          "text": [
            "Downloading data from https://s3.amazonaws.com/fcp-indi/data/Projects/ABIDE_Initiative/Outputs/cpac/filt_noglobal/rois_cc200/NYU_0050984_rois_cc200.1D ...\n"
          ]
        },
        {
          "output_type": "stream",
          "name": "stderr",
          "text": [
            " ...done. (1 seconds, 0 min)\n"
          ]
        },
        {
          "output_type": "stream",
          "name": "stdout",
          "text": [
            "Downloading data from https://s3.amazonaws.com/fcp-indi/data/Projects/ABIDE_Initiative/Outputs/cpac/filt_noglobal/rois_cc200/NYU_0050985_rois_cc200.1D ...\n"
          ]
        },
        {
          "output_type": "stream",
          "name": "stderr",
          "text": [
            " ...done. (1 seconds, 0 min)\n"
          ]
        },
        {
          "output_type": "stream",
          "name": "stdout",
          "text": [
            "Downloading data from https://s3.amazonaws.com/fcp-indi/data/Projects/ABIDE_Initiative/Outputs/cpac/filt_noglobal/rois_cc200/NYU_0050986_rois_cc200.1D ...\n"
          ]
        },
        {
          "output_type": "stream",
          "name": "stderr",
          "text": [
            " ...done. (1 seconds, 0 min)\n"
          ]
        },
        {
          "output_type": "stream",
          "name": "stdout",
          "text": [
            "Downloading data from https://s3.amazonaws.com/fcp-indi/data/Projects/ABIDE_Initiative/Outputs/cpac/filt_noglobal/rois_cc200/NYU_0050987_rois_cc200.1D ...\n"
          ]
        },
        {
          "output_type": "stream",
          "name": "stderr",
          "text": [
            " ...done. (1 seconds, 0 min)\n"
          ]
        },
        {
          "output_type": "stream",
          "name": "stdout",
          "text": [
            "Downloading data from https://s3.amazonaws.com/fcp-indi/data/Projects/ABIDE_Initiative/Outputs/cpac/filt_noglobal/rois_cc200/NYU_0050988_rois_cc200.1D ...\n"
          ]
        },
        {
          "output_type": "stream",
          "name": "stderr",
          "text": [
            " ...done. (1 seconds, 0 min)\n"
          ]
        },
        {
          "output_type": "stream",
          "name": "stdout",
          "text": [
            "Downloading data from https://s3.amazonaws.com/fcp-indi/data/Projects/ABIDE_Initiative/Outputs/cpac/filt_noglobal/rois_cc200/NYU_0050989_rois_cc200.1D ...\n"
          ]
        },
        {
          "output_type": "stream",
          "name": "stderr",
          "text": [
            " ...done. (1 seconds, 0 min)\n"
          ]
        },
        {
          "output_type": "stream",
          "name": "stdout",
          "text": [
            "Downloading data from https://s3.amazonaws.com/fcp-indi/data/Projects/ABIDE_Initiative/Outputs/cpac/filt_noglobal/rois_cc200/NYU_0050990_rois_cc200.1D ...\n"
          ]
        },
        {
          "output_type": "stream",
          "name": "stderr",
          "text": [
            " ...done. (1 seconds, 0 min)\n"
          ]
        },
        {
          "output_type": "stream",
          "name": "stdout",
          "text": [
            "Downloading data from https://s3.amazonaws.com/fcp-indi/data/Projects/ABIDE_Initiative/Outputs/cpac/filt_noglobal/rois_cc200/NYU_0050991_rois_cc200.1D ...\n"
          ]
        },
        {
          "output_type": "stream",
          "name": "stderr",
          "text": [
            " ...done. (1 seconds, 0 min)\n"
          ]
        },
        {
          "output_type": "stream",
          "name": "stdout",
          "text": [
            "Downloading data from https://s3.amazonaws.com/fcp-indi/data/Projects/ABIDE_Initiative/Outputs/cpac/filt_noglobal/rois_cc200/NYU_0050992_rois_cc200.1D ...\n"
          ]
        },
        {
          "output_type": "stream",
          "name": "stderr",
          "text": [
            " ...done. (1 seconds, 0 min)\n"
          ]
        },
        {
          "output_type": "stream",
          "name": "stdout",
          "text": [
            "Downloading data from https://s3.amazonaws.com/fcp-indi/data/Projects/ABIDE_Initiative/Outputs/cpac/filt_noglobal/rois_cc200/NYU_0050993_rois_cc200.1D ...\n"
          ]
        },
        {
          "output_type": "stream",
          "name": "stderr",
          "text": [
            " ...done. (1 seconds, 0 min)\n"
          ]
        },
        {
          "output_type": "stream",
          "name": "stdout",
          "text": [
            "Downloading data from https://s3.amazonaws.com/fcp-indi/data/Projects/ABIDE_Initiative/Outputs/cpac/filt_noglobal/rois_cc200/NYU_0050994_rois_cc200.1D ...\n"
          ]
        },
        {
          "output_type": "stream",
          "name": "stderr",
          "text": [
            " ...done. (1 seconds, 0 min)\n"
          ]
        },
        {
          "output_type": "stream",
          "name": "stdout",
          "text": [
            "Downloading data from https://s3.amazonaws.com/fcp-indi/data/Projects/ABIDE_Initiative/Outputs/cpac/filt_noglobal/rois_cc200/NYU_0050995_rois_cc200.1D ...\n"
          ]
        },
        {
          "output_type": "stream",
          "name": "stderr",
          "text": [
            " ...done. (1 seconds, 0 min)\n"
          ]
        },
        {
          "output_type": "stream",
          "name": "stdout",
          "text": [
            "Downloading data from https://s3.amazonaws.com/fcp-indi/data/Projects/ABIDE_Initiative/Outputs/cpac/filt_noglobal/rois_cc200/NYU_0050996_rois_cc200.1D ...\n"
          ]
        },
        {
          "output_type": "stream",
          "name": "stderr",
          "text": [
            " ...done. (1 seconds, 0 min)\n"
          ]
        },
        {
          "output_type": "stream",
          "name": "stdout",
          "text": [
            "Downloading data from https://s3.amazonaws.com/fcp-indi/data/Projects/ABIDE_Initiative/Outputs/cpac/filt_noglobal/rois_cc200/NYU_0050997_rois_cc200.1D ...\n"
          ]
        },
        {
          "output_type": "stream",
          "name": "stderr",
          "text": [
            " ...done. (1 seconds, 0 min)\n"
          ]
        },
        {
          "output_type": "stream",
          "name": "stdout",
          "text": [
            "Downloading data from https://s3.amazonaws.com/fcp-indi/data/Projects/ABIDE_Initiative/Outputs/cpac/filt_noglobal/rois_cc200/NYU_0050998_rois_cc200.1D ...\n"
          ]
        },
        {
          "output_type": "stream",
          "name": "stderr",
          "text": [
            " ...done. (1 seconds, 0 min)\n"
          ]
        },
        {
          "output_type": "stream",
          "name": "stdout",
          "text": [
            "Downloading data from https://s3.amazonaws.com/fcp-indi/data/Projects/ABIDE_Initiative/Outputs/cpac/filt_noglobal/rois_cc200/NYU_0050999_rois_cc200.1D ...\n"
          ]
        },
        {
          "output_type": "stream",
          "name": "stderr",
          "text": [
            " ...done. (1 seconds, 0 min)\n"
          ]
        },
        {
          "output_type": "stream",
          "name": "stdout",
          "text": [
            "Downloading data from https://s3.amazonaws.com/fcp-indi/data/Projects/ABIDE_Initiative/Outputs/cpac/filt_noglobal/rois_cc200/NYU_0051000_rois_cc200.1D ...\n"
          ]
        },
        {
          "output_type": "stream",
          "name": "stderr",
          "text": [
            " ...done. (1 seconds, 0 min)\n"
          ]
        },
        {
          "output_type": "stream",
          "name": "stdout",
          "text": [
            "Downloading data from https://s3.amazonaws.com/fcp-indi/data/Projects/ABIDE_Initiative/Outputs/cpac/filt_noglobal/rois_cc200/NYU_0051001_rois_cc200.1D ...\n"
          ]
        },
        {
          "output_type": "stream",
          "name": "stderr",
          "text": [
            " ...done. (1 seconds, 0 min)\n"
          ]
        },
        {
          "output_type": "stream",
          "name": "stdout",
          "text": [
            "Downloading data from https://s3.amazonaws.com/fcp-indi/data/Projects/ABIDE_Initiative/Outputs/cpac/filt_noglobal/rois_cc200/NYU_0051002_rois_cc200.1D ...\n"
          ]
        },
        {
          "output_type": "stream",
          "name": "stderr",
          "text": [
            " ...done. (1 seconds, 0 min)\n"
          ]
        },
        {
          "output_type": "stream",
          "name": "stdout",
          "text": [
            "Downloading data from https://s3.amazonaws.com/fcp-indi/data/Projects/ABIDE_Initiative/Outputs/cpac/filt_noglobal/rois_cc200/NYU_0051003_rois_cc200.1D ...\n"
          ]
        },
        {
          "output_type": "stream",
          "name": "stderr",
          "text": [
            " ...done. (1 seconds, 0 min)\n"
          ]
        },
        {
          "output_type": "stream",
          "name": "stdout",
          "text": [
            "Downloading data from https://s3.amazonaws.com/fcp-indi/data/Projects/ABIDE_Initiative/Outputs/cpac/filt_noglobal/rois_cc200/NYU_0051006_rois_cc200.1D ...\n"
          ]
        },
        {
          "output_type": "stream",
          "name": "stderr",
          "text": [
            " ...done. (1 seconds, 0 min)\n"
          ]
        },
        {
          "output_type": "stream",
          "name": "stdout",
          "text": [
            "Downloading data from https://s3.amazonaws.com/fcp-indi/data/Projects/ABIDE_Initiative/Outputs/cpac/filt_noglobal/rois_cc200/NYU_0051007_rois_cc200.1D ...\n"
          ]
        },
        {
          "output_type": "stream",
          "name": "stderr",
          "text": [
            " ...done. (1 seconds, 0 min)\n"
          ]
        },
        {
          "output_type": "stream",
          "name": "stdout",
          "text": [
            "Downloading data from https://s3.amazonaws.com/fcp-indi/data/Projects/ABIDE_Initiative/Outputs/cpac/filt_noglobal/rois_cc200/NYU_0051008_rois_cc200.1D ...\n"
          ]
        },
        {
          "output_type": "stream",
          "name": "stderr",
          "text": [
            " ...done. (1 seconds, 0 min)\n"
          ]
        },
        {
          "output_type": "stream",
          "name": "stdout",
          "text": [
            "Downloading data from https://s3.amazonaws.com/fcp-indi/data/Projects/ABIDE_Initiative/Outputs/cpac/filt_noglobal/rois_cc200/NYU_0051009_rois_cc200.1D ...\n"
          ]
        },
        {
          "output_type": "stream",
          "name": "stderr",
          "text": [
            " ...done. (1 seconds, 0 min)\n"
          ]
        },
        {
          "output_type": "stream",
          "name": "stdout",
          "text": [
            "Downloading data from https://s3.amazonaws.com/fcp-indi/data/Projects/ABIDE_Initiative/Outputs/cpac/filt_noglobal/rois_cc200/NYU_0051010_rois_cc200.1D ...\n"
          ]
        },
        {
          "output_type": "stream",
          "name": "stderr",
          "text": [
            " ...done. (1 seconds, 0 min)\n"
          ]
        },
        {
          "output_type": "stream",
          "name": "stdout",
          "text": [
            "Downloading data from https://s3.amazonaws.com/fcp-indi/data/Projects/ABIDE_Initiative/Outputs/cpac/filt_noglobal/rois_cc200/NYU_0051011_rois_cc200.1D ...\n"
          ]
        },
        {
          "output_type": "stream",
          "name": "stderr",
          "text": [
            " ...done. (1 seconds, 0 min)\n"
          ]
        },
        {
          "output_type": "stream",
          "name": "stdout",
          "text": [
            "Downloading data from https://s3.amazonaws.com/fcp-indi/data/Projects/ABIDE_Initiative/Outputs/cpac/filt_noglobal/rois_cc200/NYU_0051012_rois_cc200.1D ...\n"
          ]
        },
        {
          "output_type": "stream",
          "name": "stderr",
          "text": [
            " ...done. (1 seconds, 0 min)\n"
          ]
        },
        {
          "output_type": "stream",
          "name": "stdout",
          "text": [
            "Downloading data from https://s3.amazonaws.com/fcp-indi/data/Projects/ABIDE_Initiative/Outputs/cpac/filt_noglobal/rois_cc200/NYU_0051013_rois_cc200.1D ...\n"
          ]
        },
        {
          "output_type": "stream",
          "name": "stderr",
          "text": [
            " ...done. (1 seconds, 0 min)\n"
          ]
        },
        {
          "output_type": "stream",
          "name": "stdout",
          "text": [
            "Downloading data from https://s3.amazonaws.com/fcp-indi/data/Projects/ABIDE_Initiative/Outputs/cpac/filt_noglobal/rois_cc200/NYU_0051014_rois_cc200.1D ...\n"
          ]
        },
        {
          "output_type": "stream",
          "name": "stderr",
          "text": [
            " ...done. (1 seconds, 0 min)\n"
          ]
        },
        {
          "output_type": "stream",
          "name": "stdout",
          "text": [
            "Downloading data from https://s3.amazonaws.com/fcp-indi/data/Projects/ABIDE_Initiative/Outputs/cpac/filt_noglobal/rois_cc200/NYU_0051015_rois_cc200.1D ...\n"
          ]
        },
        {
          "output_type": "stream",
          "name": "stderr",
          "text": [
            " ...done. (1 seconds, 0 min)\n"
          ]
        },
        {
          "output_type": "stream",
          "name": "stdout",
          "text": [
            "Downloading data from https://s3.amazonaws.com/fcp-indi/data/Projects/ABIDE_Initiative/Outputs/cpac/filt_noglobal/rois_cc200/NYU_0051016_rois_cc200.1D ...\n"
          ]
        },
        {
          "output_type": "stream",
          "name": "stderr",
          "text": [
            " ...done. (1 seconds, 0 min)\n"
          ]
        },
        {
          "output_type": "stream",
          "name": "stdout",
          "text": [
            "Downloading data from https://s3.amazonaws.com/fcp-indi/data/Projects/ABIDE_Initiative/Outputs/cpac/filt_noglobal/rois_cc200/NYU_0051017_rois_cc200.1D ...\n"
          ]
        },
        {
          "output_type": "stream",
          "name": "stderr",
          "text": [
            " ...done. (1 seconds, 0 min)\n"
          ]
        },
        {
          "output_type": "stream",
          "name": "stdout",
          "text": [
            "Downloading data from https://s3.amazonaws.com/fcp-indi/data/Projects/ABIDE_Initiative/Outputs/cpac/filt_noglobal/rois_cc200/NYU_0051018_rois_cc200.1D ...\n"
          ]
        },
        {
          "output_type": "stream",
          "name": "stderr",
          "text": [
            " ...done. (1 seconds, 0 min)\n"
          ]
        },
        {
          "output_type": "stream",
          "name": "stdout",
          "text": [
            "Downloading data from https://s3.amazonaws.com/fcp-indi/data/Projects/ABIDE_Initiative/Outputs/cpac/filt_noglobal/rois_cc200/NYU_0051019_rois_cc200.1D ...\n"
          ]
        },
        {
          "output_type": "stream",
          "name": "stderr",
          "text": [
            " ...done. (1 seconds, 0 min)\n"
          ]
        },
        {
          "output_type": "stream",
          "name": "stdout",
          "text": [
            "Downloading data from https://s3.amazonaws.com/fcp-indi/data/Projects/ABIDE_Initiative/Outputs/cpac/filt_noglobal/rois_cc200/NYU_0051020_rois_cc200.1D ...\n"
          ]
        },
        {
          "output_type": "stream",
          "name": "stderr",
          "text": [
            " ...done. (1 seconds, 0 min)\n"
          ]
        },
        {
          "output_type": "stream",
          "name": "stdout",
          "text": [
            "Downloading data from https://s3.amazonaws.com/fcp-indi/data/Projects/ABIDE_Initiative/Outputs/cpac/filt_noglobal/rois_cc200/NYU_0051021_rois_cc200.1D ...\n"
          ]
        },
        {
          "output_type": "stream",
          "name": "stderr",
          "text": [
            " ...done. (1 seconds, 0 min)\n"
          ]
        },
        {
          "output_type": "stream",
          "name": "stdout",
          "text": [
            "Downloading data from https://s3.amazonaws.com/fcp-indi/data/Projects/ABIDE_Initiative/Outputs/cpac/filt_noglobal/rois_cc200/NYU_0051023_rois_cc200.1D ...\n"
          ]
        },
        {
          "output_type": "stream",
          "name": "stderr",
          "text": [
            " ...done. (1 seconds, 0 min)\n"
          ]
        },
        {
          "output_type": "stream",
          "name": "stdout",
          "text": [
            "Downloading data from https://s3.amazonaws.com/fcp-indi/data/Projects/ABIDE_Initiative/Outputs/cpac/filt_noglobal/rois_cc200/NYU_0051024_rois_cc200.1D ...\n"
          ]
        },
        {
          "output_type": "stream",
          "name": "stderr",
          "text": [
            " ...done. (1 seconds, 0 min)\n"
          ]
        },
        {
          "output_type": "stream",
          "name": "stdout",
          "text": [
            "Downloading data from https://s3.amazonaws.com/fcp-indi/data/Projects/ABIDE_Initiative/Outputs/cpac/filt_noglobal/rois_cc200/NYU_0051025_rois_cc200.1D ...\n"
          ]
        },
        {
          "output_type": "stream",
          "name": "stderr",
          "text": [
            " ...done. (1 seconds, 0 min)\n"
          ]
        },
        {
          "output_type": "stream",
          "name": "stdout",
          "text": [
            "Downloading data from https://s3.amazonaws.com/fcp-indi/data/Projects/ABIDE_Initiative/Outputs/cpac/filt_noglobal/rois_cc200/NYU_0051026_rois_cc200.1D ...\n"
          ]
        },
        {
          "output_type": "stream",
          "name": "stderr",
          "text": [
            " ...done. (1 seconds, 0 min)\n"
          ]
        },
        {
          "output_type": "stream",
          "name": "stdout",
          "text": [
            "Downloading data from https://s3.amazonaws.com/fcp-indi/data/Projects/ABIDE_Initiative/Outputs/cpac/filt_noglobal/rois_cc200/NYU_0051027_rois_cc200.1D ...\n"
          ]
        },
        {
          "output_type": "stream",
          "name": "stderr",
          "text": [
            " ...done. (1 seconds, 0 min)\n"
          ]
        },
        {
          "output_type": "stream",
          "name": "stdout",
          "text": [
            "Downloading data from https://s3.amazonaws.com/fcp-indi/data/Projects/ABIDE_Initiative/Outputs/cpac/filt_noglobal/rois_cc200/NYU_0051028_rois_cc200.1D ...\n"
          ]
        },
        {
          "output_type": "stream",
          "name": "stderr",
          "text": [
            " ...done. (1 seconds, 0 min)\n"
          ]
        },
        {
          "output_type": "stream",
          "name": "stdout",
          "text": [
            "Downloading data from https://s3.amazonaws.com/fcp-indi/data/Projects/ABIDE_Initiative/Outputs/cpac/filt_noglobal/rois_cc200/NYU_0051029_rois_cc200.1D ...\n"
          ]
        },
        {
          "output_type": "stream",
          "name": "stderr",
          "text": [
            " ...done. (1 seconds, 0 min)\n"
          ]
        },
        {
          "output_type": "stream",
          "name": "stdout",
          "text": [
            "Downloading data from https://s3.amazonaws.com/fcp-indi/data/Projects/ABIDE_Initiative/Outputs/cpac/filt_noglobal/rois_cc200/NYU_0051030_rois_cc200.1D ...\n"
          ]
        },
        {
          "output_type": "stream",
          "name": "stderr",
          "text": [
            " ...done. (1 seconds, 0 min)\n"
          ]
        },
        {
          "output_type": "stream",
          "name": "stdout",
          "text": [
            "Downloading data from https://s3.amazonaws.com/fcp-indi/data/Projects/ABIDE_Initiative/Outputs/cpac/filt_noglobal/rois_cc200/NYU_0051032_rois_cc200.1D ...\n"
          ]
        },
        {
          "output_type": "stream",
          "name": "stderr",
          "text": [
            " ...done. (1 seconds, 0 min)\n"
          ]
        },
        {
          "output_type": "stream",
          "name": "stdout",
          "text": [
            "Downloading data from https://s3.amazonaws.com/fcp-indi/data/Projects/ABIDE_Initiative/Outputs/cpac/filt_noglobal/rois_cc200/NYU_0051033_rois_cc200.1D ...\n"
          ]
        },
        {
          "output_type": "stream",
          "name": "stderr",
          "text": [
            " ...done. (1 seconds, 0 min)\n"
          ]
        },
        {
          "output_type": "stream",
          "name": "stdout",
          "text": [
            "Downloading data from https://s3.amazonaws.com/fcp-indi/data/Projects/ABIDE_Initiative/Outputs/cpac/filt_noglobal/rois_cc200/NYU_0051034_rois_cc200.1D ...\n"
          ]
        },
        {
          "output_type": "stream",
          "name": "stderr",
          "text": [
            " ...done. (1 seconds, 0 min)\n"
          ]
        },
        {
          "output_type": "stream",
          "name": "stdout",
          "text": [
            "Downloading data from https://s3.amazonaws.com/fcp-indi/data/Projects/ABIDE_Initiative/Outputs/cpac/filt_noglobal/rois_cc200/NYU_0051035_rois_cc200.1D ...\n"
          ]
        },
        {
          "output_type": "stream",
          "name": "stderr",
          "text": [
            " ...done. (1 seconds, 0 min)\n"
          ]
        },
        {
          "output_type": "stream",
          "name": "stdout",
          "text": [
            "Downloading data from https://s3.amazonaws.com/fcp-indi/data/Projects/ABIDE_Initiative/Outputs/cpac/filt_noglobal/rois_cc200/NYU_0051036_rois_cc200.1D ...\n"
          ]
        },
        {
          "output_type": "stream",
          "name": "stderr",
          "text": [
            " ...done. (1 seconds, 0 min)\n"
          ]
        },
        {
          "output_type": "stream",
          "name": "stdout",
          "text": [
            "Downloading data from https://s3.amazonaws.com/fcp-indi/data/Projects/ABIDE_Initiative/Outputs/cpac/filt_noglobal/rois_cc200/NYU_0051038_rois_cc200.1D ...\n"
          ]
        },
        {
          "output_type": "stream",
          "name": "stderr",
          "text": [
            " ...done. (1 seconds, 0 min)\n"
          ]
        },
        {
          "output_type": "stream",
          "name": "stdout",
          "text": [
            "Downloading data from https://s3.amazonaws.com/fcp-indi/data/Projects/ABIDE_Initiative/Outputs/cpac/filt_noglobal/rois_cc200/NYU_0051039_rois_cc200.1D ...\n"
          ]
        },
        {
          "output_type": "stream",
          "name": "stderr",
          "text": [
            " ...done. (1 seconds, 0 min)\n"
          ]
        },
        {
          "output_type": "stream",
          "name": "stdout",
          "text": [
            "Downloading data from https://s3.amazonaws.com/fcp-indi/data/Projects/ABIDE_Initiative/Outputs/cpac/filt_noglobal/rois_cc200/NYU_0051040_rois_cc200.1D ...\n"
          ]
        },
        {
          "output_type": "stream",
          "name": "stderr",
          "text": [
            " ...done. (1 seconds, 0 min)\n"
          ]
        },
        {
          "output_type": "stream",
          "name": "stdout",
          "text": [
            "Downloading data from https://s3.amazonaws.com/fcp-indi/data/Projects/ABIDE_Initiative/Outputs/cpac/filt_noglobal/rois_cc200/NYU_0051041_rois_cc200.1D ...\n"
          ]
        },
        {
          "output_type": "stream",
          "name": "stderr",
          "text": [
            " ...done. (1 seconds, 0 min)\n"
          ]
        },
        {
          "output_type": "stream",
          "name": "stdout",
          "text": [
            "Downloading data from https://s3.amazonaws.com/fcp-indi/data/Projects/ABIDE_Initiative/Outputs/cpac/filt_noglobal/rois_cc200/NYU_0051042_rois_cc200.1D ...\n"
          ]
        },
        {
          "output_type": "stream",
          "name": "stderr",
          "text": [
            " ...done. (1 seconds, 0 min)\n"
          ]
        },
        {
          "output_type": "stream",
          "name": "stdout",
          "text": [
            "Downloading data from https://s3.amazonaws.com/fcp-indi/data/Projects/ABIDE_Initiative/Outputs/cpac/filt_noglobal/rois_cc200/NYU_0051044_rois_cc200.1D ...\n"
          ]
        },
        {
          "output_type": "stream",
          "name": "stderr",
          "text": [
            " ...done. (1 seconds, 0 min)\n"
          ]
        },
        {
          "output_type": "stream",
          "name": "stdout",
          "text": [
            "Downloading data from https://s3.amazonaws.com/fcp-indi/data/Projects/ABIDE_Initiative/Outputs/cpac/filt_noglobal/rois_cc200/NYU_0051045_rois_cc200.1D ...\n"
          ]
        },
        {
          "output_type": "stream",
          "name": "stderr",
          "text": [
            " ...done. (1 seconds, 0 min)\n"
          ]
        },
        {
          "output_type": "stream",
          "name": "stdout",
          "text": [
            "Downloading data from https://s3.amazonaws.com/fcp-indi/data/Projects/ABIDE_Initiative/Outputs/cpac/filt_noglobal/rois_cc200/NYU_0051046_rois_cc200.1D ...\n"
          ]
        },
        {
          "output_type": "stream",
          "name": "stderr",
          "text": [
            " ...done. (1 seconds, 0 min)\n"
          ]
        },
        {
          "output_type": "stream",
          "name": "stdout",
          "text": [
            "Downloading data from https://s3.amazonaws.com/fcp-indi/data/Projects/ABIDE_Initiative/Outputs/cpac/filt_noglobal/rois_cc200/NYU_0051047_rois_cc200.1D ...\n"
          ]
        },
        {
          "output_type": "stream",
          "name": "stderr",
          "text": [
            " ...done. (1 seconds, 0 min)\n"
          ]
        },
        {
          "output_type": "stream",
          "name": "stdout",
          "text": [
            "Downloading data from https://s3.amazonaws.com/fcp-indi/data/Projects/ABIDE_Initiative/Outputs/cpac/filt_noglobal/rois_cc200/NYU_0051048_rois_cc200.1D ...\n"
          ]
        },
        {
          "output_type": "stream",
          "name": "stderr",
          "text": [
            " ...done. (1 seconds, 0 min)\n"
          ]
        },
        {
          "output_type": "stream",
          "name": "stdout",
          "text": [
            "Downloading data from https://s3.amazonaws.com/fcp-indi/data/Projects/ABIDE_Initiative/Outputs/cpac/filt_noglobal/rois_cc200/NYU_0051049_rois_cc200.1D ...\n"
          ]
        },
        {
          "output_type": "stream",
          "name": "stderr",
          "text": [
            " ...done. (1 seconds, 0 min)\n"
          ]
        },
        {
          "output_type": "stream",
          "name": "stdout",
          "text": [
            "Downloading data from https://s3.amazonaws.com/fcp-indi/data/Projects/ABIDE_Initiative/Outputs/cpac/filt_noglobal/rois_cc200/NYU_0051050_rois_cc200.1D ...\n"
          ]
        },
        {
          "output_type": "stream",
          "name": "stderr",
          "text": [
            " ...done. (1 seconds, 0 min)\n"
          ]
        },
        {
          "output_type": "stream",
          "name": "stdout",
          "text": [
            "Downloading data from https://s3.amazonaws.com/fcp-indi/data/Projects/ABIDE_Initiative/Outputs/cpac/filt_noglobal/rois_cc200/NYU_0051051_rois_cc200.1D ...\n"
          ]
        },
        {
          "output_type": "stream",
          "name": "stderr",
          "text": [
            " ...done. (1 seconds, 0 min)\n"
          ]
        },
        {
          "output_type": "stream",
          "name": "stdout",
          "text": [
            "Downloading data from https://s3.amazonaws.com/fcp-indi/data/Projects/ABIDE_Initiative/Outputs/cpac/filt_noglobal/rois_cc200/NYU_0051052_rois_cc200.1D ...\n"
          ]
        },
        {
          "output_type": "stream",
          "name": "stderr",
          "text": [
            " ...done. (1 seconds, 0 min)\n"
          ]
        },
        {
          "output_type": "stream",
          "name": "stdout",
          "text": [
            "Downloading data from https://s3.amazonaws.com/fcp-indi/data/Projects/ABIDE_Initiative/Outputs/cpac/filt_noglobal/rois_cc200/NYU_0051053_rois_cc200.1D ...\n"
          ]
        },
        {
          "output_type": "stream",
          "name": "stderr",
          "text": [
            " ...done. (1 seconds, 0 min)\n"
          ]
        },
        {
          "output_type": "stream",
          "name": "stdout",
          "text": [
            "Downloading data from https://s3.amazonaws.com/fcp-indi/data/Projects/ABIDE_Initiative/Outputs/cpac/filt_noglobal/rois_cc200/NYU_0051054_rois_cc200.1D ...\n"
          ]
        },
        {
          "output_type": "stream",
          "name": "stderr",
          "text": [
            " ...done. (1 seconds, 0 min)\n"
          ]
        },
        {
          "output_type": "stream",
          "name": "stdout",
          "text": [
            "Downloading data from https://s3.amazonaws.com/fcp-indi/data/Projects/ABIDE_Initiative/Outputs/cpac/filt_noglobal/rois_cc200/NYU_0051055_rois_cc200.1D ...\n"
          ]
        },
        {
          "output_type": "stream",
          "name": "stderr",
          "text": [
            " ...done. (1 seconds, 0 min)\n"
          ]
        },
        {
          "output_type": "stream",
          "name": "stdout",
          "text": [
            "Downloading data from https://s3.amazonaws.com/fcp-indi/data/Projects/ABIDE_Initiative/Outputs/cpac/filt_noglobal/rois_cc200/NYU_0051056_rois_cc200.1D ...\n"
          ]
        },
        {
          "output_type": "stream",
          "name": "stderr",
          "text": [
            " ...done. (1 seconds, 0 min)\n"
          ]
        },
        {
          "output_type": "stream",
          "name": "stdout",
          "text": [
            "Downloading data from https://s3.amazonaws.com/fcp-indi/data/Projects/ABIDE_Initiative/Outputs/cpac/filt_noglobal/rois_cc200/NYU_0051057_rois_cc200.1D ...\n"
          ]
        },
        {
          "output_type": "stream",
          "name": "stderr",
          "text": [
            " ...done. (1 seconds, 0 min)\n"
          ]
        },
        {
          "output_type": "stream",
          "name": "stdout",
          "text": [
            "Downloading data from https://s3.amazonaws.com/fcp-indi/data/Projects/ABIDE_Initiative/Outputs/cpac/filt_noglobal/rois_cc200/NYU_0051058_rois_cc200.1D ...\n"
          ]
        },
        {
          "output_type": "stream",
          "name": "stderr",
          "text": [
            " ...done. (1 seconds, 0 min)\n"
          ]
        },
        {
          "output_type": "stream",
          "name": "stdout",
          "text": [
            "Downloading data from https://s3.amazonaws.com/fcp-indi/data/Projects/ABIDE_Initiative/Outputs/cpac/filt_noglobal/rois_cc200/NYU_0051059_rois_cc200.1D ...\n"
          ]
        },
        {
          "output_type": "stream",
          "name": "stderr",
          "text": [
            " ...done. (1 seconds, 0 min)\n"
          ]
        },
        {
          "output_type": "stream",
          "name": "stdout",
          "text": [
            "Downloading data from https://s3.amazonaws.com/fcp-indi/data/Projects/ABIDE_Initiative/Outputs/cpac/filt_noglobal/rois_cc200/NYU_0051060_rois_cc200.1D ...\n"
          ]
        },
        {
          "output_type": "stream",
          "name": "stderr",
          "text": [
            " ...done. (1 seconds, 0 min)\n"
          ]
        },
        {
          "output_type": "stream",
          "name": "stdout",
          "text": [
            "Downloading data from https://s3.amazonaws.com/fcp-indi/data/Projects/ABIDE_Initiative/Outputs/cpac/filt_noglobal/rois_cc200/NYU_0051061_rois_cc200.1D ...\n"
          ]
        },
        {
          "output_type": "stream",
          "name": "stderr",
          "text": [
            " ...done. (1 seconds, 0 min)\n"
          ]
        },
        {
          "output_type": "stream",
          "name": "stdout",
          "text": [
            "Downloading data from https://s3.amazonaws.com/fcp-indi/data/Projects/ABIDE_Initiative/Outputs/cpac/filt_noglobal/rois_cc200/NYU_0051062_rois_cc200.1D ...\n"
          ]
        },
        {
          "output_type": "stream",
          "name": "stderr",
          "text": [
            " ...done. (1 seconds, 0 min)\n"
          ]
        },
        {
          "output_type": "stream",
          "name": "stdout",
          "text": [
            "Downloading data from https://s3.amazonaws.com/fcp-indi/data/Projects/ABIDE_Initiative/Outputs/cpac/filt_noglobal/rois_cc200/NYU_0051063_rois_cc200.1D ...\n"
          ]
        },
        {
          "output_type": "stream",
          "name": "stderr",
          "text": [
            " ...done. (1 seconds, 0 min)\n"
          ]
        },
        {
          "output_type": "stream",
          "name": "stdout",
          "text": [
            "Downloading data from https://s3.amazonaws.com/fcp-indi/data/Projects/ABIDE_Initiative/Outputs/cpac/filt_noglobal/rois_cc200/NYU_0051064_rois_cc200.1D ...\n"
          ]
        },
        {
          "output_type": "stream",
          "name": "stderr",
          "text": [
            " ...done. (1 seconds, 0 min)\n"
          ]
        },
        {
          "output_type": "stream",
          "name": "stdout",
          "text": [
            "Downloading data from https://s3.amazonaws.com/fcp-indi/data/Projects/ABIDE_Initiative/Outputs/cpac/filt_noglobal/rois_cc200/NYU_0051065_rois_cc200.1D ...\n"
          ]
        },
        {
          "output_type": "stream",
          "name": "stderr",
          "text": [
            " ...done. (1 seconds, 0 min)\n"
          ]
        },
        {
          "output_type": "stream",
          "name": "stdout",
          "text": [
            "Downloading data from https://s3.amazonaws.com/fcp-indi/data/Projects/ABIDE_Initiative/Outputs/cpac/filt_noglobal/rois_cc200/NYU_0051066_rois_cc200.1D ...\n"
          ]
        },
        {
          "output_type": "stream",
          "name": "stderr",
          "text": [
            " ...done. (1 seconds, 0 min)\n"
          ]
        },
        {
          "output_type": "stream",
          "name": "stdout",
          "text": [
            "Downloading data from https://s3.amazonaws.com/fcp-indi/data/Projects/ABIDE_Initiative/Outputs/cpac/filt_noglobal/rois_cc200/NYU_0051067_rois_cc200.1D ...\n"
          ]
        },
        {
          "output_type": "stream",
          "name": "stderr",
          "text": [
            " ...done. (1 seconds, 0 min)\n"
          ]
        },
        {
          "output_type": "stream",
          "name": "stdout",
          "text": [
            "Downloading data from https://s3.amazonaws.com/fcp-indi/data/Projects/ABIDE_Initiative/Outputs/cpac/filt_noglobal/rois_cc200/NYU_0051068_rois_cc200.1D ...\n"
          ]
        },
        {
          "output_type": "stream",
          "name": "stderr",
          "text": [
            " ...done. (1 seconds, 0 min)\n"
          ]
        },
        {
          "output_type": "stream",
          "name": "stdout",
          "text": [
            "Downloading data from https://s3.amazonaws.com/fcp-indi/data/Projects/ABIDE_Initiative/Outputs/cpac/filt_noglobal/rois_cc200/NYU_0051069_rois_cc200.1D ...\n"
          ]
        },
        {
          "output_type": "stream",
          "name": "stderr",
          "text": [
            " ...done. (1 seconds, 0 min)\n"
          ]
        },
        {
          "output_type": "stream",
          "name": "stdout",
          "text": [
            "Downloading data from https://s3.amazonaws.com/fcp-indi/data/Projects/ABIDE_Initiative/Outputs/cpac/filt_noglobal/rois_cc200/NYU_0051070_rois_cc200.1D ...\n"
          ]
        },
        {
          "output_type": "stream",
          "name": "stderr",
          "text": [
            " ...done. (1 seconds, 0 min)\n"
          ]
        },
        {
          "output_type": "stream",
          "name": "stdout",
          "text": [
            "Downloading data from https://s3.amazonaws.com/fcp-indi/data/Projects/ABIDE_Initiative/Outputs/cpac/filt_noglobal/rois_cc200/NYU_0051071_rois_cc200.1D ...\n"
          ]
        },
        {
          "output_type": "stream",
          "name": "stderr",
          "text": [
            " ...done. (1 seconds, 0 min)\n"
          ]
        },
        {
          "output_type": "stream",
          "name": "stdout",
          "text": [
            "Downloading data from https://s3.amazonaws.com/fcp-indi/data/Projects/ABIDE_Initiative/Outputs/cpac/filt_noglobal/rois_cc200/NYU_0051072_rois_cc200.1D ...\n"
          ]
        },
        {
          "output_type": "stream",
          "name": "stderr",
          "text": [
            " ...done. (1 seconds, 0 min)\n"
          ]
        },
        {
          "output_type": "stream",
          "name": "stdout",
          "text": [
            "Downloading data from https://s3.amazonaws.com/fcp-indi/data/Projects/ABIDE_Initiative/Outputs/cpac/filt_noglobal/rois_cc200/NYU_0051073_rois_cc200.1D ...\n"
          ]
        },
        {
          "output_type": "stream",
          "name": "stderr",
          "text": [
            " ...done. (1 seconds, 0 min)\n"
          ]
        },
        {
          "output_type": "stream",
          "name": "stdout",
          "text": [
            "Downloading data from https://s3.amazonaws.com/fcp-indi/data/Projects/ABIDE_Initiative/Outputs/cpac/filt_noglobal/rois_cc200/NYU_0051074_rois_cc200.1D ...\n"
          ]
        },
        {
          "output_type": "stream",
          "name": "stderr",
          "text": [
            " ...done. (1 seconds, 0 min)\n"
          ]
        },
        {
          "output_type": "stream",
          "name": "stdout",
          "text": [
            "Downloading data from https://s3.amazonaws.com/fcp-indi/data/Projects/ABIDE_Initiative/Outputs/cpac/filt_noglobal/rois_cc200/NYU_0051075_rois_cc200.1D ...\n"
          ]
        },
        {
          "output_type": "stream",
          "name": "stderr",
          "text": [
            " ...done. (1 seconds, 0 min)\n"
          ]
        },
        {
          "output_type": "stream",
          "name": "stdout",
          "text": [
            "Downloading data from https://s3.amazonaws.com/fcp-indi/data/Projects/ABIDE_Initiative/Outputs/cpac/filt_noglobal/rois_cc200/NYU_0051076_rois_cc200.1D ...\n"
          ]
        },
        {
          "output_type": "stream",
          "name": "stderr",
          "text": [
            " ...done. (1 seconds, 0 min)\n"
          ]
        },
        {
          "output_type": "stream",
          "name": "stdout",
          "text": [
            "Downloading data from https://s3.amazonaws.com/fcp-indi/data/Projects/ABIDE_Initiative/Outputs/cpac/filt_noglobal/rois_cc200/NYU_0051077_rois_cc200.1D ...\n"
          ]
        },
        {
          "output_type": "stream",
          "name": "stderr",
          "text": [
            " ...done. (1 seconds, 0 min)\n"
          ]
        },
        {
          "output_type": "stream",
          "name": "stdout",
          "text": [
            "Downloading data from https://s3.amazonaws.com/fcp-indi/data/Projects/ABIDE_Initiative/Outputs/cpac/filt_noglobal/rois_cc200/NYU_0051078_rois_cc200.1D ...\n"
          ]
        },
        {
          "output_type": "stream",
          "name": "stderr",
          "text": [
            " ...done. (1 seconds, 0 min)\n"
          ]
        },
        {
          "output_type": "stream",
          "name": "stdout",
          "text": [
            "Downloading data from https://s3.amazonaws.com/fcp-indi/data/Projects/ABIDE_Initiative/Outputs/cpac/filt_noglobal/rois_cc200/NYU_0051079_rois_cc200.1D ...\n"
          ]
        },
        {
          "output_type": "stream",
          "name": "stderr",
          "text": [
            " ...done. (1 seconds, 0 min)\n"
          ]
        },
        {
          "output_type": "stream",
          "name": "stdout",
          "text": [
            "Downloading data from https://s3.amazonaws.com/fcp-indi/data/Projects/ABIDE_Initiative/Outputs/cpac/filt_noglobal/rois_cc200/NYU_0051080_rois_cc200.1D ...\n"
          ]
        },
        {
          "output_type": "stream",
          "name": "stderr",
          "text": [
            " ...done. (1 seconds, 0 min)\n"
          ]
        },
        {
          "output_type": "stream",
          "name": "stdout",
          "text": [
            "Downloading data from https://s3.amazonaws.com/fcp-indi/data/Projects/ABIDE_Initiative/Outputs/cpac/filt_noglobal/rois_cc200/NYU_0051081_rois_cc200.1D ...\n"
          ]
        },
        {
          "output_type": "stream",
          "name": "stderr",
          "text": [
            " ...done. (1 seconds, 0 min)\n"
          ]
        },
        {
          "output_type": "stream",
          "name": "stdout",
          "text": [
            "Downloading data from https://s3.amazonaws.com/fcp-indi/data/Projects/ABIDE_Initiative/Outputs/cpac/filt_noglobal/rois_cc200/NYU_0051082_rois_cc200.1D ...\n"
          ]
        },
        {
          "output_type": "stream",
          "name": "stderr",
          "text": [
            " ...done. (1 seconds, 0 min)\n"
          ]
        },
        {
          "output_type": "stream",
          "name": "stdout",
          "text": [
            "Downloading data from https://s3.amazonaws.com/fcp-indi/data/Projects/ABIDE_Initiative/Outputs/cpac/filt_noglobal/rois_cc200/NYU_0051083_rois_cc200.1D ...\n"
          ]
        },
        {
          "output_type": "stream",
          "name": "stderr",
          "text": [
            " ...done. (1 seconds, 0 min)\n"
          ]
        },
        {
          "output_type": "stream",
          "name": "stdout",
          "text": [
            "Downloading data from https://s3.amazonaws.com/fcp-indi/data/Projects/ABIDE_Initiative/Outputs/cpac/filt_noglobal/rois_cc200/NYU_0051084_rois_cc200.1D ...\n"
          ]
        },
        {
          "output_type": "stream",
          "name": "stderr",
          "text": [
            " ...done. (1 seconds, 0 min)\n"
          ]
        },
        {
          "output_type": "stream",
          "name": "stdout",
          "text": [
            "Downloading data from https://s3.amazonaws.com/fcp-indi/data/Projects/ABIDE_Initiative/Outputs/cpac/filt_noglobal/rois_cc200/NYU_0051085_rois_cc200.1D ...\n"
          ]
        },
        {
          "output_type": "stream",
          "name": "stderr",
          "text": [
            " ...done. (1 seconds, 0 min)\n"
          ]
        },
        {
          "output_type": "stream",
          "name": "stdout",
          "text": [
            "Downloading data from https://s3.amazonaws.com/fcp-indi/data/Projects/ABIDE_Initiative/Outputs/cpac/filt_noglobal/rois_cc200/NYU_0051086_rois_cc200.1D ...\n"
          ]
        },
        {
          "output_type": "stream",
          "name": "stderr",
          "text": [
            " ...done. (1 seconds, 0 min)\n"
          ]
        },
        {
          "output_type": "stream",
          "name": "stdout",
          "text": [
            "Downloading data from https://s3.amazonaws.com/fcp-indi/data/Projects/ABIDE_Initiative/Outputs/cpac/filt_noglobal/rois_cc200/NYU_0051087_rois_cc200.1D ...\n"
          ]
        },
        {
          "output_type": "stream",
          "name": "stderr",
          "text": [
            " ...done. (1 seconds, 0 min)\n"
          ]
        },
        {
          "output_type": "stream",
          "name": "stdout",
          "text": [
            "Downloading data from https://s3.amazonaws.com/fcp-indi/data/Projects/ABIDE_Initiative/Outputs/cpac/filt_noglobal/rois_cc200/NYU_0051088_rois_cc200.1D ...\n"
          ]
        },
        {
          "output_type": "stream",
          "name": "stderr",
          "text": [
            " ...done. (1 seconds, 0 min)\n"
          ]
        },
        {
          "output_type": "stream",
          "name": "stdout",
          "text": [
            "Downloading data from https://s3.amazonaws.com/fcp-indi/data/Projects/ABIDE_Initiative/Outputs/cpac/filt_noglobal/rois_cc200/NYU_0051089_rois_cc200.1D ...\n"
          ]
        },
        {
          "output_type": "stream",
          "name": "stderr",
          "text": [
            " ...done. (1 seconds, 0 min)\n"
          ]
        },
        {
          "output_type": "stream",
          "name": "stdout",
          "text": [
            "Downloading data from https://s3.amazonaws.com/fcp-indi/data/Projects/ABIDE_Initiative/Outputs/cpac/filt_noglobal/rois_cc200/NYU_0051090_rois_cc200.1D ...\n"
          ]
        },
        {
          "output_type": "stream",
          "name": "stderr",
          "text": [
            " ...done. (1 seconds, 0 min)\n"
          ]
        },
        {
          "output_type": "stream",
          "name": "stdout",
          "text": [
            "Downloading data from https://s3.amazonaws.com/fcp-indi/data/Projects/ABIDE_Initiative/Outputs/cpac/filt_noglobal/rois_cc200/NYU_0051091_rois_cc200.1D ...\n"
          ]
        },
        {
          "output_type": "stream",
          "name": "stderr",
          "text": [
            " ...done. (1 seconds, 0 min)\n"
          ]
        },
        {
          "output_type": "stream",
          "name": "stdout",
          "text": [
            "Downloading data from https://s3.amazonaws.com/fcp-indi/data/Projects/ABIDE_Initiative/Outputs/cpac/filt_noglobal/rois_cc200/NYU_0051093_rois_cc200.1D ...\n"
          ]
        },
        {
          "output_type": "stream",
          "name": "stderr",
          "text": [
            " ...done. (1 seconds, 0 min)\n"
          ]
        },
        {
          "output_type": "stream",
          "name": "stdout",
          "text": [
            "Downloading data from https://s3.amazonaws.com/fcp-indi/data/Projects/ABIDE_Initiative/Outputs/cpac/filt_noglobal/rois_cc200/NYU_0051094_rois_cc200.1D ...\n"
          ]
        },
        {
          "output_type": "stream",
          "name": "stderr",
          "text": [
            " ...done. (1 seconds, 0 min)\n"
          ]
        },
        {
          "output_type": "stream",
          "name": "stdout",
          "text": [
            "Downloading data from https://s3.amazonaws.com/fcp-indi/data/Projects/ABIDE_Initiative/Outputs/cpac/filt_noglobal/rois_cc200/NYU_0051095_rois_cc200.1D ...\n"
          ]
        },
        {
          "output_type": "stream",
          "name": "stderr",
          "text": [
            " ...done. (1 seconds, 0 min)\n"
          ]
        },
        {
          "output_type": "stream",
          "name": "stdout",
          "text": [
            "Downloading data from https://s3.amazonaws.com/fcp-indi/data/Projects/ABIDE_Initiative/Outputs/cpac/filt_noglobal/rois_cc200/NYU_0051096_rois_cc200.1D ...\n"
          ]
        },
        {
          "output_type": "stream",
          "name": "stderr",
          "text": [
            " ...done. (1 seconds, 0 min)\n"
          ]
        },
        {
          "output_type": "stream",
          "name": "stdout",
          "text": [
            "Downloading data from https://s3.amazonaws.com/fcp-indi/data/Projects/ABIDE_Initiative/Outputs/cpac/filt_noglobal/rois_cc200/NYU_0051097_rois_cc200.1D ...\n"
          ]
        },
        {
          "output_type": "stream",
          "name": "stderr",
          "text": [
            " ...done. (1 seconds, 0 min)\n"
          ]
        },
        {
          "output_type": "stream",
          "name": "stdout",
          "text": [
            "Downloading data from https://s3.amazonaws.com/fcp-indi/data/Projects/ABIDE_Initiative/Outputs/cpac/filt_noglobal/rois_cc200/NYU_0051098_rois_cc200.1D ...\n"
          ]
        },
        {
          "output_type": "stream",
          "name": "stderr",
          "text": [
            " ...done. (1 seconds, 0 min)\n"
          ]
        },
        {
          "output_type": "stream",
          "name": "stdout",
          "text": [
            "Downloading data from https://s3.amazonaws.com/fcp-indi/data/Projects/ABIDE_Initiative/Outputs/cpac/filt_noglobal/rois_cc200/NYU_0051099_rois_cc200.1D ...\n"
          ]
        },
        {
          "output_type": "stream",
          "name": "stderr",
          "text": [
            " ...done. (1 seconds, 0 min)\n"
          ]
        },
        {
          "output_type": "stream",
          "name": "stdout",
          "text": [
            "Downloading data from https://s3.amazonaws.com/fcp-indi/data/Projects/ABIDE_Initiative/Outputs/cpac/filt_noglobal/rois_cc200/NYU_0051100_rois_cc200.1D ...\n"
          ]
        },
        {
          "output_type": "stream",
          "name": "stderr",
          "text": [
            " ...done. (1 seconds, 0 min)\n"
          ]
        },
        {
          "output_type": "stream",
          "name": "stdout",
          "text": [
            "Downloading data from https://s3.amazonaws.com/fcp-indi/data/Projects/ABIDE_Initiative/Outputs/cpac/filt_noglobal/rois_cc200/NYU_0051101_rois_cc200.1D ...\n"
          ]
        },
        {
          "output_type": "stream",
          "name": "stderr",
          "text": [
            " ...done. (1 seconds, 0 min)\n"
          ]
        },
        {
          "output_type": "stream",
          "name": "stdout",
          "text": [
            "Downloading data from https://s3.amazonaws.com/fcp-indi/data/Projects/ABIDE_Initiative/Outputs/cpac/filt_noglobal/rois_cc200/NYU_0051102_rois_cc200.1D ...\n"
          ]
        },
        {
          "output_type": "stream",
          "name": "stderr",
          "text": [
            " ...done. (1 seconds, 0 min)\n"
          ]
        },
        {
          "output_type": "stream",
          "name": "stdout",
          "text": [
            "Downloading data from https://s3.amazonaws.com/fcp-indi/data/Projects/ABIDE_Initiative/Outputs/cpac/filt_noglobal/rois_cc200/NYU_0051103_rois_cc200.1D ...\n"
          ]
        },
        {
          "output_type": "stream",
          "name": "stderr",
          "text": [
            " ...done. (1 seconds, 0 min)\n"
          ]
        },
        {
          "output_type": "stream",
          "name": "stdout",
          "text": [
            "Downloading data from https://s3.amazonaws.com/fcp-indi/data/Projects/ABIDE_Initiative/Outputs/cpac/filt_noglobal/rois_cc200/NYU_0051104_rois_cc200.1D ...\n"
          ]
        },
        {
          "output_type": "stream",
          "name": "stderr",
          "text": [
            " ...done. (1 seconds, 0 min)\n"
          ]
        },
        {
          "output_type": "stream",
          "name": "stdout",
          "text": [
            "Downloading data from https://s3.amazonaws.com/fcp-indi/data/Projects/ABIDE_Initiative/Outputs/cpac/filt_noglobal/rois_cc200/NYU_0051105_rois_cc200.1D ...\n"
          ]
        },
        {
          "output_type": "stream",
          "name": "stderr",
          "text": [
            " ...done. (1 seconds, 0 min)\n"
          ]
        },
        {
          "output_type": "stream",
          "name": "stdout",
          "text": [
            "Downloading data from https://s3.amazonaws.com/fcp-indi/data/Projects/ABIDE_Initiative/Outputs/cpac/filt_noglobal/rois_cc200/NYU_0051106_rois_cc200.1D ...\n"
          ]
        },
        {
          "output_type": "stream",
          "name": "stderr",
          "text": [
            " ...done. (1 seconds, 0 min)\n"
          ]
        },
        {
          "output_type": "stream",
          "name": "stdout",
          "text": [
            "Downloading data from https://s3.amazonaws.com/fcp-indi/data/Projects/ABIDE_Initiative/Outputs/cpac/filt_noglobal/rois_cc200/NYU_0051107_rois_cc200.1D ...\n"
          ]
        },
        {
          "output_type": "stream",
          "name": "stderr",
          "text": [
            " ...done. (1 seconds, 0 min)\n"
          ]
        },
        {
          "output_type": "stream",
          "name": "stdout",
          "text": [
            "Downloading data from https://s3.amazonaws.com/fcp-indi/data/Projects/ABIDE_Initiative/Outputs/cpac/filt_noglobal/rois_cc200/NYU_0051109_rois_cc200.1D ...\n"
          ]
        },
        {
          "output_type": "stream",
          "name": "stderr",
          "text": [
            " ...done. (1 seconds, 0 min)\n"
          ]
        },
        {
          "output_type": "stream",
          "name": "stdout",
          "text": [
            "Downloading data from https://s3.amazonaws.com/fcp-indi/data/Projects/ABIDE_Initiative/Outputs/cpac/filt_noglobal/rois_cc200/NYU_0051110_rois_cc200.1D ...\n"
          ]
        },
        {
          "output_type": "stream",
          "name": "stderr",
          "text": [
            " ...done. (1 seconds, 0 min)\n"
          ]
        },
        {
          "output_type": "stream",
          "name": "stdout",
          "text": [
            "Downloading data from https://s3.amazonaws.com/fcp-indi/data/Projects/ABIDE_Initiative/Outputs/cpac/filt_noglobal/rois_cc200/NYU_0051111_rois_cc200.1D ...\n"
          ]
        },
        {
          "output_type": "stream",
          "name": "stderr",
          "text": [
            " ...done. (1 seconds, 0 min)\n"
          ]
        },
        {
          "output_type": "stream",
          "name": "stdout",
          "text": [
            "Downloading data from https://s3.amazonaws.com/fcp-indi/data/Projects/ABIDE_Initiative/Outputs/cpac/filt_noglobal/rois_cc200/NYU_0051112_rois_cc200.1D ...\n"
          ]
        },
        {
          "output_type": "stream",
          "name": "stderr",
          "text": [
            " ...done. (1 seconds, 0 min)\n"
          ]
        },
        {
          "output_type": "stream",
          "name": "stdout",
          "text": [
            "Downloading data from https://s3.amazonaws.com/fcp-indi/data/Projects/ABIDE_Initiative/Outputs/cpac/filt_noglobal/rois_cc200/NYU_0051113_rois_cc200.1D ...\n"
          ]
        },
        {
          "output_type": "stream",
          "name": "stderr",
          "text": [
            " ...done. (1 seconds, 0 min)\n"
          ]
        },
        {
          "output_type": "stream",
          "name": "stdout",
          "text": [
            "Downloading data from https://s3.amazonaws.com/fcp-indi/data/Projects/ABIDE_Initiative/Outputs/cpac/filt_noglobal/rois_cc200/NYU_0051114_rois_cc200.1D ...\n"
          ]
        },
        {
          "output_type": "stream",
          "name": "stderr",
          "text": [
            " ...done. (1 seconds, 0 min)\n"
          ]
        },
        {
          "output_type": "stream",
          "name": "stdout",
          "text": [
            "Downloading data from https://s3.amazonaws.com/fcp-indi/data/Projects/ABIDE_Initiative/Outputs/cpac/filt_noglobal/rois_cc200/NYU_0051116_rois_cc200.1D ...\n"
          ]
        },
        {
          "output_type": "stream",
          "name": "stderr",
          "text": [
            " ...done. (1 seconds, 0 min)\n"
          ]
        },
        {
          "output_type": "stream",
          "name": "stdout",
          "text": [
            "Downloading data from https://s3.amazonaws.com/fcp-indi/data/Projects/ABIDE_Initiative/Outputs/cpac/filt_noglobal/rois_cc200/NYU_0051117_rois_cc200.1D ...\n"
          ]
        },
        {
          "output_type": "stream",
          "name": "stderr",
          "text": [
            " ...done. (1 seconds, 0 min)\n"
          ]
        },
        {
          "output_type": "stream",
          "name": "stdout",
          "text": [
            "Downloading data from https://s3.amazonaws.com/fcp-indi/data/Projects/ABIDE_Initiative/Outputs/cpac/filt_noglobal/rois_cc200/NYU_0051118_rois_cc200.1D ...\n"
          ]
        },
        {
          "output_type": "stream",
          "name": "stderr",
          "text": [
            " ...done. (1 seconds, 0 min)\n"
          ]
        },
        {
          "output_type": "stream",
          "name": "stdout",
          "text": [
            "Downloading data from https://s3.amazonaws.com/fcp-indi/data/Projects/ABIDE_Initiative/Outputs/cpac/filt_noglobal/rois_cc200/NYU_0051121_rois_cc200.1D ...\n"
          ]
        },
        {
          "output_type": "stream",
          "name": "stderr",
          "text": [
            " ...done. (1 seconds, 0 min)\n"
          ]
        },
        {
          "output_type": "stream",
          "name": "stdout",
          "text": [
            "Downloading data from https://s3.amazonaws.com/fcp-indi/data/Projects/ABIDE_Initiative/Outputs/cpac/filt_noglobal/rois_cc200/NYU_0051122_rois_cc200.1D ...\n"
          ]
        },
        {
          "output_type": "stream",
          "name": "stderr",
          "text": [
            " ...done. (1 seconds, 0 min)\n"
          ]
        },
        {
          "output_type": "stream",
          "name": "stdout",
          "text": [
            "Downloading data from https://s3.amazonaws.com/fcp-indi/data/Projects/ABIDE_Initiative/Outputs/cpac/filt_noglobal/rois_cc200/NYU_0051123_rois_cc200.1D ...\n"
          ]
        },
        {
          "output_type": "stream",
          "name": "stderr",
          "text": [
            " ...done. (1 seconds, 0 min)\n"
          ]
        },
        {
          "output_type": "stream",
          "name": "stdout",
          "text": [
            "Downloading data from https://s3.amazonaws.com/fcp-indi/data/Projects/ABIDE_Initiative/Outputs/cpac/filt_noglobal/rois_cc200/NYU_0051124_rois_cc200.1D ...\n"
          ]
        },
        {
          "output_type": "stream",
          "name": "stderr",
          "text": [
            " ...done. (1 seconds, 0 min)\n"
          ]
        },
        {
          "output_type": "stream",
          "name": "stdout",
          "text": [
            "Downloading data from https://s3.amazonaws.com/fcp-indi/data/Projects/ABIDE_Initiative/Outputs/cpac/filt_noglobal/rois_cc200/NYU_0051126_rois_cc200.1D ...\n"
          ]
        },
        {
          "output_type": "stream",
          "name": "stderr",
          "text": [
            " ...done. (1 seconds, 0 min)\n"
          ]
        },
        {
          "output_type": "stream",
          "name": "stdout",
          "text": [
            "Downloading data from https://s3.amazonaws.com/fcp-indi/data/Projects/ABIDE_Initiative/Outputs/cpac/filt_noglobal/rois_cc200/NYU_0051127_rois_cc200.1D ...\n"
          ]
        },
        {
          "output_type": "stream",
          "name": "stderr",
          "text": [
            " ...done. (1 seconds, 0 min)\n"
          ]
        },
        {
          "output_type": "stream",
          "name": "stdout",
          "text": [
            "Downloading data from https://s3.amazonaws.com/fcp-indi/data/Projects/ABIDE_Initiative/Outputs/cpac/filt_noglobal/rois_cc200/NYU_0051128_rois_cc200.1D ...\n"
          ]
        },
        {
          "output_type": "stream",
          "name": "stderr",
          "text": [
            " ...done. (1 seconds, 0 min)\n"
          ]
        },
        {
          "output_type": "stream",
          "name": "stdout",
          "text": [
            "Downloading data from https://s3.amazonaws.com/fcp-indi/data/Projects/ABIDE_Initiative/Outputs/cpac/filt_noglobal/rois_cc200/NYU_0051129_rois_cc200.1D ...\n"
          ]
        },
        {
          "output_type": "stream",
          "name": "stderr",
          "text": [
            " ...done. (1 seconds, 0 min)\n"
          ]
        },
        {
          "output_type": "stream",
          "name": "stdout",
          "text": [
            "Downloading data from https://s3.amazonaws.com/fcp-indi/data/Projects/ABIDE_Initiative/Outputs/cpac/filt_noglobal/rois_cc200/NYU_0051130_rois_cc200.1D ...\n"
          ]
        },
        {
          "output_type": "stream",
          "name": "stderr",
          "text": [
            " ...done. (1 seconds, 0 min)\n"
          ]
        },
        {
          "output_type": "stream",
          "name": "stdout",
          "text": [
            "Downloading data from https://s3.amazonaws.com/fcp-indi/data/Projects/ABIDE_Initiative/Outputs/cpac/filt_noglobal/rois_cc200/NYU_0051131_rois_cc200.1D ...\n"
          ]
        },
        {
          "output_type": "stream",
          "name": "stderr",
          "text": [
            " ...done. (1 seconds, 0 min)\n"
          ]
        },
        {
          "output_type": "stream",
          "name": "stdout",
          "text": [
            "Downloading data from https://s3.amazonaws.com/fcp-indi/data/Projects/ABIDE_Initiative/Outputs/cpac/filt_noglobal/rois_cc200/Trinity_0051132_rois_cc200.1D ...\n"
          ]
        },
        {
          "output_type": "stream",
          "name": "stderr",
          "text": [
            " ...done. (1 seconds, 0 min)\n"
          ]
        },
        {
          "output_type": "stream",
          "name": "stdout",
          "text": [
            "Downloading data from https://s3.amazonaws.com/fcp-indi/data/Projects/ABIDE_Initiative/Outputs/cpac/filt_noglobal/rois_cc200/Trinity_0051133_rois_cc200.1D ...\n"
          ]
        },
        {
          "output_type": "stream",
          "name": "stderr",
          "text": [
            " ...done. (1 seconds, 0 min)\n"
          ]
        },
        {
          "output_type": "stream",
          "name": "stdout",
          "text": [
            "Downloading data from https://s3.amazonaws.com/fcp-indi/data/Projects/ABIDE_Initiative/Outputs/cpac/filt_noglobal/rois_cc200/Trinity_0051134_rois_cc200.1D ...\n"
          ]
        },
        {
          "output_type": "stream",
          "name": "stderr",
          "text": [
            " ...done. (1 seconds, 0 min)\n"
          ]
        },
        {
          "output_type": "stream",
          "name": "stdout",
          "text": [
            "Downloading data from https://s3.amazonaws.com/fcp-indi/data/Projects/ABIDE_Initiative/Outputs/cpac/filt_noglobal/rois_cc200/Trinity_0051135_rois_cc200.1D ...\n"
          ]
        },
        {
          "output_type": "stream",
          "name": "stderr",
          "text": [
            " ...done. (1 seconds, 0 min)\n"
          ]
        },
        {
          "output_type": "stream",
          "name": "stdout",
          "text": [
            "Downloading data from https://s3.amazonaws.com/fcp-indi/data/Projects/ABIDE_Initiative/Outputs/cpac/filt_noglobal/rois_cc200/Trinity_0051136_rois_cc200.1D ...\n"
          ]
        },
        {
          "output_type": "stream",
          "name": "stderr",
          "text": [
            " ...done. (1 seconds, 0 min)\n"
          ]
        },
        {
          "output_type": "stream",
          "name": "stdout",
          "text": [
            "Downloading data from https://s3.amazonaws.com/fcp-indi/data/Projects/ABIDE_Initiative/Outputs/cpac/filt_noglobal/rois_cc200/Trinity_0051137_rois_cc200.1D ...\n"
          ]
        },
        {
          "output_type": "stream",
          "name": "stderr",
          "text": [
            " ...done. (1 seconds, 0 min)\n"
          ]
        },
        {
          "output_type": "stream",
          "name": "stdout",
          "text": [
            "Downloading data from https://s3.amazonaws.com/fcp-indi/data/Projects/ABIDE_Initiative/Outputs/cpac/filt_noglobal/rois_cc200/Trinity_0051138_rois_cc200.1D ...\n"
          ]
        },
        {
          "output_type": "stream",
          "name": "stderr",
          "text": [
            " ...done. (1 seconds, 0 min)\n"
          ]
        },
        {
          "output_type": "stream",
          "name": "stdout",
          "text": [
            "Downloading data from https://s3.amazonaws.com/fcp-indi/data/Projects/ABIDE_Initiative/Outputs/cpac/filt_noglobal/rois_cc200/Trinity_0051139_rois_cc200.1D ...\n"
          ]
        },
        {
          "output_type": "stream",
          "name": "stderr",
          "text": [
            " ...done. (1 seconds, 0 min)\n"
          ]
        },
        {
          "output_type": "stream",
          "name": "stdout",
          "text": [
            "Downloading data from https://s3.amazonaws.com/fcp-indi/data/Projects/ABIDE_Initiative/Outputs/cpac/filt_noglobal/rois_cc200/Trinity_0051140_rois_cc200.1D ...\n"
          ]
        },
        {
          "output_type": "stream",
          "name": "stderr",
          "text": [
            " ...done. (1 seconds, 0 min)\n"
          ]
        },
        {
          "output_type": "stream",
          "name": "stdout",
          "text": [
            "Downloading data from https://s3.amazonaws.com/fcp-indi/data/Projects/ABIDE_Initiative/Outputs/cpac/filt_noglobal/rois_cc200/Trinity_0051141_rois_cc200.1D ...\n"
          ]
        },
        {
          "output_type": "stream",
          "name": "stderr",
          "text": [
            " ...done. (1 seconds, 0 min)\n"
          ]
        },
        {
          "output_type": "stream",
          "name": "stdout",
          "text": [
            "Downloading data from https://s3.amazonaws.com/fcp-indi/data/Projects/ABIDE_Initiative/Outputs/cpac/filt_noglobal/rois_cc200/Trinity_0051142_rois_cc200.1D ...\n"
          ]
        },
        {
          "output_type": "stream",
          "name": "stderr",
          "text": [
            " ...done. (1 seconds, 0 min)\n"
          ]
        },
        {
          "output_type": "stream",
          "name": "stdout",
          "text": [
            "Downloading data from https://s3.amazonaws.com/fcp-indi/data/Projects/ABIDE_Initiative/Outputs/cpac/filt_noglobal/rois_cc200/NYU_0051146_rois_cc200.1D ...\n"
          ]
        },
        {
          "output_type": "stream",
          "name": "stderr",
          "text": [
            " ...done. (1 seconds, 0 min)\n"
          ]
        },
        {
          "output_type": "stream",
          "name": "stdout",
          "text": [
            "Downloading data from https://s3.amazonaws.com/fcp-indi/data/Projects/ABIDE_Initiative/Outputs/cpac/filt_noglobal/rois_cc200/NYU_0051147_rois_cc200.1D ...\n"
          ]
        },
        {
          "output_type": "stream",
          "name": "stderr",
          "text": [
            " ...done. (1 seconds, 0 min)\n"
          ]
        },
        {
          "output_type": "stream",
          "name": "stdout",
          "text": [
            "Downloading data from https://s3.amazonaws.com/fcp-indi/data/Projects/ABIDE_Initiative/Outputs/cpac/filt_noglobal/rois_cc200/NYU_0051148_rois_cc200.1D ...\n"
          ]
        },
        {
          "output_type": "stream",
          "name": "stderr",
          "text": [
            " ...done. (1 seconds, 0 min)\n"
          ]
        },
        {
          "output_type": "stream",
          "name": "stdout",
          "text": [
            "Downloading data from https://s3.amazonaws.com/fcp-indi/data/Projects/ABIDE_Initiative/Outputs/cpac/filt_noglobal/rois_cc200/NYU_0051149_rois_cc200.1D ...\n"
          ]
        },
        {
          "output_type": "stream",
          "name": "stderr",
          "text": [
            " ...done. (1 seconds, 0 min)\n"
          ]
        },
        {
          "output_type": "stream",
          "name": "stdout",
          "text": [
            "Downloading data from https://s3.amazonaws.com/fcp-indi/data/Projects/ABIDE_Initiative/Outputs/cpac/filt_noglobal/rois_cc200/NYU_0051150_rois_cc200.1D ...\n"
          ]
        },
        {
          "output_type": "stream",
          "name": "stderr",
          "text": [
            " ...done. (1 seconds, 0 min)\n"
          ]
        },
        {
          "output_type": "stream",
          "name": "stdout",
          "text": [
            "Downloading data from https://s3.amazonaws.com/fcp-indi/data/Projects/ABIDE_Initiative/Outputs/cpac/filt_noglobal/rois_cc200/NYU_0051151_rois_cc200.1D ...\n"
          ]
        },
        {
          "output_type": "stream",
          "name": "stderr",
          "text": [
            " ...done. (1 seconds, 0 min)\n"
          ]
        },
        {
          "output_type": "stream",
          "name": "stdout",
          "text": [
            "Downloading data from https://s3.amazonaws.com/fcp-indi/data/Projects/ABIDE_Initiative/Outputs/cpac/filt_noglobal/rois_cc200/NYU_0051152_rois_cc200.1D ...\n"
          ]
        },
        {
          "output_type": "stream",
          "name": "stderr",
          "text": [
            " ...done. (1 seconds, 0 min)\n"
          ]
        },
        {
          "output_type": "stream",
          "name": "stdout",
          "text": [
            "Downloading data from https://s3.amazonaws.com/fcp-indi/data/Projects/ABIDE_Initiative/Outputs/cpac/filt_noglobal/rois_cc200/NYU_0051153_rois_cc200.1D ...\n"
          ]
        },
        {
          "output_type": "stream",
          "name": "stderr",
          "text": [
            " ...done. (1 seconds, 0 min)\n"
          ]
        },
        {
          "output_type": "stream",
          "name": "stdout",
          "text": [
            "Downloading data from https://s3.amazonaws.com/fcp-indi/data/Projects/ABIDE_Initiative/Outputs/cpac/filt_noglobal/rois_cc200/NYU_0051154_rois_cc200.1D ...\n"
          ]
        },
        {
          "output_type": "stream",
          "name": "stderr",
          "text": [
            " ...done. (1 seconds, 0 min)\n"
          ]
        },
        {
          "output_type": "stream",
          "name": "stdout",
          "text": [
            "Downloading data from https://s3.amazonaws.com/fcp-indi/data/Projects/ABIDE_Initiative/Outputs/cpac/filt_noglobal/rois_cc200/NYU_0051155_rois_cc200.1D ...\n"
          ]
        },
        {
          "output_type": "stream",
          "name": "stderr",
          "text": [
            " ...done. (1 seconds, 0 min)\n"
          ]
        },
        {
          "output_type": "stream",
          "name": "stdout",
          "text": [
            "Downloading data from https://s3.amazonaws.com/fcp-indi/data/Projects/ABIDE_Initiative/Outputs/cpac/filt_noglobal/rois_cc200/NYU_0051156_rois_cc200.1D ...\n"
          ]
        },
        {
          "output_type": "stream",
          "name": "stderr",
          "text": [
            " ...done. (1 seconds, 0 min)\n"
          ]
        },
        {
          "output_type": "stream",
          "name": "stdout",
          "text": [
            "Downloading data from https://s3.amazonaws.com/fcp-indi/data/Projects/ABIDE_Initiative/Outputs/cpac/filt_noglobal/rois_cc200/NYU_0051159_rois_cc200.1D ...\n"
          ]
        },
        {
          "output_type": "stream",
          "name": "stderr",
          "text": [
            " ...done. (1 seconds, 0 min)\n"
          ]
        },
        {
          "output_type": "stream",
          "name": "stdout",
          "text": [
            "Downloading data from https://s3.amazonaws.com/fcp-indi/data/Projects/ABIDE_Initiative/Outputs/cpac/filt_noglobal/rois_cc200/Stanford_0051160_rois_cc200.1D ...\n"
          ]
        },
        {
          "output_type": "stream",
          "name": "stderr",
          "text": [
            " ...done. (1 seconds, 0 min)\n"
          ]
        },
        {
          "output_type": "stream",
          "name": "stdout",
          "text": [
            "Downloading data from https://s3.amazonaws.com/fcp-indi/data/Projects/ABIDE_Initiative/Outputs/cpac/filt_noglobal/rois_cc200/Stanford_0051161_rois_cc200.1D ...\n"
          ]
        },
        {
          "output_type": "stream",
          "name": "stderr",
          "text": [
            " ...done. (1 seconds, 0 min)\n"
          ]
        },
        {
          "output_type": "stream",
          "name": "stdout",
          "text": [
            "Downloading data from https://s3.amazonaws.com/fcp-indi/data/Projects/ABIDE_Initiative/Outputs/cpac/filt_noglobal/rois_cc200/Stanford_0051162_rois_cc200.1D ...\n"
          ]
        },
        {
          "output_type": "stream",
          "name": "stderr",
          "text": [
            " ...done. (1 seconds, 0 min)\n"
          ]
        },
        {
          "output_type": "stream",
          "name": "stdout",
          "text": [
            "Downloading data from https://s3.amazonaws.com/fcp-indi/data/Projects/ABIDE_Initiative/Outputs/cpac/filt_noglobal/rois_cc200/Stanford_0051163_rois_cc200.1D ...\n"
          ]
        },
        {
          "output_type": "stream",
          "name": "stderr",
          "text": [
            " ...done. (1 seconds, 0 min)\n"
          ]
        },
        {
          "output_type": "stream",
          "name": "stdout",
          "text": [
            "Downloading data from https://s3.amazonaws.com/fcp-indi/data/Projects/ABIDE_Initiative/Outputs/cpac/filt_noglobal/rois_cc200/Stanford_0051164_rois_cc200.1D ...\n"
          ]
        },
        {
          "output_type": "stream",
          "name": "stderr",
          "text": [
            " ...done. (1 seconds, 0 min)\n"
          ]
        },
        {
          "output_type": "stream",
          "name": "stdout",
          "text": [
            "Downloading data from https://s3.amazonaws.com/fcp-indi/data/Projects/ABIDE_Initiative/Outputs/cpac/filt_noglobal/rois_cc200/Stanford_0051165_rois_cc200.1D ...\n"
          ]
        },
        {
          "output_type": "stream",
          "name": "stderr",
          "text": [
            " ...done. (1 seconds, 0 min)\n"
          ]
        },
        {
          "output_type": "stream",
          "name": "stdout",
          "text": [
            "Downloading data from https://s3.amazonaws.com/fcp-indi/data/Projects/ABIDE_Initiative/Outputs/cpac/filt_noglobal/rois_cc200/Stanford_0051166_rois_cc200.1D ...\n"
          ]
        },
        {
          "output_type": "stream",
          "name": "stderr",
          "text": [
            " ...done. (1 seconds, 0 min)\n"
          ]
        },
        {
          "output_type": "stream",
          "name": "stdout",
          "text": [
            "Downloading data from https://s3.amazonaws.com/fcp-indi/data/Projects/ABIDE_Initiative/Outputs/cpac/filt_noglobal/rois_cc200/Stanford_0051167_rois_cc200.1D ...\n"
          ]
        },
        {
          "output_type": "stream",
          "name": "stderr",
          "text": [
            " ...done. (1 seconds, 0 min)\n"
          ]
        },
        {
          "output_type": "stream",
          "name": "stdout",
          "text": [
            "Downloading data from https://s3.amazonaws.com/fcp-indi/data/Projects/ABIDE_Initiative/Outputs/cpac/filt_noglobal/rois_cc200/Stanford_0051168_rois_cc200.1D ...\n"
          ]
        },
        {
          "output_type": "stream",
          "name": "stderr",
          "text": [
            " ...done. (1 seconds, 0 min)\n"
          ]
        },
        {
          "output_type": "stream",
          "name": "stdout",
          "text": [
            "Downloading data from https://s3.amazonaws.com/fcp-indi/data/Projects/ABIDE_Initiative/Outputs/cpac/filt_noglobal/rois_cc200/Stanford_0051169_rois_cc200.1D ...\n"
          ]
        },
        {
          "output_type": "stream",
          "name": "stderr",
          "text": [
            " ...done. (1 seconds, 0 min)\n"
          ]
        },
        {
          "output_type": "stream",
          "name": "stdout",
          "text": [
            "Downloading data from https://s3.amazonaws.com/fcp-indi/data/Projects/ABIDE_Initiative/Outputs/cpac/filt_noglobal/rois_cc200/Stanford_0051170_rois_cc200.1D ...\n"
          ]
        },
        {
          "output_type": "stream",
          "name": "stderr",
          "text": [
            " ...done. (1 seconds, 0 min)\n"
          ]
        },
        {
          "output_type": "stream",
          "name": "stdout",
          "text": [
            "Downloading data from https://s3.amazonaws.com/fcp-indi/data/Projects/ABIDE_Initiative/Outputs/cpac/filt_noglobal/rois_cc200/Stanford_0051171_rois_cc200.1D ...\n"
          ]
        },
        {
          "output_type": "stream",
          "name": "stderr",
          "text": [
            " ...done. (1 seconds, 0 min)\n"
          ]
        },
        {
          "output_type": "stream",
          "name": "stdout",
          "text": [
            "Downloading data from https://s3.amazonaws.com/fcp-indi/data/Projects/ABIDE_Initiative/Outputs/cpac/filt_noglobal/rois_cc200/Stanford_0051172_rois_cc200.1D ...\n"
          ]
        },
        {
          "output_type": "stream",
          "name": "stderr",
          "text": [
            " ...done. (1 seconds, 0 min)\n"
          ]
        },
        {
          "output_type": "stream",
          "name": "stdout",
          "text": [
            "Downloading data from https://s3.amazonaws.com/fcp-indi/data/Projects/ABIDE_Initiative/Outputs/cpac/filt_noglobal/rois_cc200/Stanford_0051173_rois_cc200.1D ...\n"
          ]
        },
        {
          "output_type": "stream",
          "name": "stderr",
          "text": [
            " ...done. (1 seconds, 0 min)\n"
          ]
        },
        {
          "output_type": "stream",
          "name": "stdout",
          "text": [
            "Downloading data from https://s3.amazonaws.com/fcp-indi/data/Projects/ABIDE_Initiative/Outputs/cpac/filt_noglobal/rois_cc200/Stanford_0051174_rois_cc200.1D ...\n"
          ]
        },
        {
          "output_type": "stream",
          "name": "stderr",
          "text": [
            " ...done. (1 seconds, 0 min)\n"
          ]
        },
        {
          "output_type": "stream",
          "name": "stdout",
          "text": [
            "Downloading data from https://s3.amazonaws.com/fcp-indi/data/Projects/ABIDE_Initiative/Outputs/cpac/filt_noglobal/rois_cc200/Stanford_0051175_rois_cc200.1D ...\n"
          ]
        },
        {
          "output_type": "stream",
          "name": "stderr",
          "text": [
            " ...done. (1 seconds, 0 min)\n"
          ]
        },
        {
          "output_type": "stream",
          "name": "stdout",
          "text": [
            "Downloading data from https://s3.amazonaws.com/fcp-indi/data/Projects/ABIDE_Initiative/Outputs/cpac/filt_noglobal/rois_cc200/Stanford_0051177_rois_cc200.1D ...\n"
          ]
        },
        {
          "output_type": "stream",
          "name": "stderr",
          "text": [
            " ...done. (1 seconds, 0 min)\n"
          ]
        },
        {
          "output_type": "stream",
          "name": "stdout",
          "text": [
            "Downloading data from https://s3.amazonaws.com/fcp-indi/data/Projects/ABIDE_Initiative/Outputs/cpac/filt_noglobal/rois_cc200/Stanford_0051178_rois_cc200.1D ...\n"
          ]
        },
        {
          "output_type": "stream",
          "name": "stderr",
          "text": [
            " ...done. (1 seconds, 0 min)\n"
          ]
        },
        {
          "output_type": "stream",
          "name": "stdout",
          "text": [
            "Downloading data from https://s3.amazonaws.com/fcp-indi/data/Projects/ABIDE_Initiative/Outputs/cpac/filt_noglobal/rois_cc200/Stanford_0051179_rois_cc200.1D ...\n"
          ]
        },
        {
          "output_type": "stream",
          "name": "stderr",
          "text": [
            " ...done. (1 seconds, 0 min)\n"
          ]
        },
        {
          "output_type": "stream",
          "name": "stdout",
          "text": [
            "Downloading data from https://s3.amazonaws.com/fcp-indi/data/Projects/ABIDE_Initiative/Outputs/cpac/filt_noglobal/rois_cc200/Stanford_0051180_rois_cc200.1D ...\n"
          ]
        },
        {
          "output_type": "stream",
          "name": "stderr",
          "text": [
            " ...done. (1 seconds, 0 min)\n"
          ]
        },
        {
          "output_type": "stream",
          "name": "stdout",
          "text": [
            "Downloading data from https://s3.amazonaws.com/fcp-indi/data/Projects/ABIDE_Initiative/Outputs/cpac/filt_noglobal/rois_cc200/Stanford_0051181_rois_cc200.1D ...\n"
          ]
        },
        {
          "output_type": "stream",
          "name": "stderr",
          "text": [
            " ...done. (1 seconds, 0 min)\n"
          ]
        },
        {
          "output_type": "stream",
          "name": "stdout",
          "text": [
            "Downloading data from https://s3.amazonaws.com/fcp-indi/data/Projects/ABIDE_Initiative/Outputs/cpac/filt_noglobal/rois_cc200/Stanford_0051182_rois_cc200.1D ...\n"
          ]
        },
        {
          "output_type": "stream",
          "name": "stderr",
          "text": [
            " ...done. (1 seconds, 0 min)\n"
          ]
        },
        {
          "output_type": "stream",
          "name": "stdout",
          "text": [
            "Downloading data from https://s3.amazonaws.com/fcp-indi/data/Projects/ABIDE_Initiative/Outputs/cpac/filt_noglobal/rois_cc200/Stanford_0051183_rois_cc200.1D ...\n"
          ]
        },
        {
          "output_type": "stream",
          "name": "stderr",
          "text": [
            " ...done. (1 seconds, 0 min)\n"
          ]
        },
        {
          "output_type": "stream",
          "name": "stdout",
          "text": [
            "Downloading data from https://s3.amazonaws.com/fcp-indi/data/Projects/ABIDE_Initiative/Outputs/cpac/filt_noglobal/rois_cc200/Stanford_0051184_rois_cc200.1D ...\n"
          ]
        },
        {
          "output_type": "stream",
          "name": "stderr",
          "text": [
            " ...done. (1 seconds, 0 min)\n"
          ]
        },
        {
          "output_type": "stream",
          "name": "stdout",
          "text": [
            "Downloading data from https://s3.amazonaws.com/fcp-indi/data/Projects/ABIDE_Initiative/Outputs/cpac/filt_noglobal/rois_cc200/Stanford_0051185_rois_cc200.1D ...\n"
          ]
        },
        {
          "output_type": "stream",
          "name": "stderr",
          "text": [
            " ...done. (1 seconds, 0 min)\n"
          ]
        },
        {
          "output_type": "stream",
          "name": "stdout",
          "text": [
            "Downloading data from https://s3.amazonaws.com/fcp-indi/data/Projects/ABIDE_Initiative/Outputs/cpac/filt_noglobal/rois_cc200/Stanford_0051186_rois_cc200.1D ...\n"
          ]
        },
        {
          "output_type": "stream",
          "name": "stderr",
          "text": [
            " ...done. (1 seconds, 0 min)\n"
          ]
        },
        {
          "output_type": "stream",
          "name": "stdout",
          "text": [
            "Downloading data from https://s3.amazonaws.com/fcp-indi/data/Projects/ABIDE_Initiative/Outputs/cpac/filt_noglobal/rois_cc200/Stanford_0051187_rois_cc200.1D ...\n"
          ]
        },
        {
          "output_type": "stream",
          "name": "stderr",
          "text": [
            " ...done. (1 seconds, 0 min)\n"
          ]
        },
        {
          "output_type": "stream",
          "name": "stdout",
          "text": [
            "Downloading data from https://s3.amazonaws.com/fcp-indi/data/Projects/ABIDE_Initiative/Outputs/cpac/filt_noglobal/rois_cc200/Stanford_0051188_rois_cc200.1D ...\n"
          ]
        },
        {
          "output_type": "stream",
          "name": "stderr",
          "text": [
            " ...done. (1 seconds, 0 min)\n"
          ]
        },
        {
          "output_type": "stream",
          "name": "stdout",
          "text": [
            "Downloading data from https://s3.amazonaws.com/fcp-indi/data/Projects/ABIDE_Initiative/Outputs/cpac/filt_noglobal/rois_cc200/Stanford_0051189_rois_cc200.1D ...\n"
          ]
        },
        {
          "output_type": "stream",
          "name": "stderr",
          "text": [
            " ...done. (1 seconds, 0 min)\n"
          ]
        },
        {
          "output_type": "stream",
          "name": "stdout",
          "text": [
            "Downloading data from https://s3.amazonaws.com/fcp-indi/data/Projects/ABIDE_Initiative/Outputs/cpac/filt_noglobal/rois_cc200/Stanford_0051190_rois_cc200.1D ...\n"
          ]
        },
        {
          "output_type": "stream",
          "name": "stderr",
          "text": [
            " ...done. (1 seconds, 0 min)\n"
          ]
        },
        {
          "output_type": "stream",
          "name": "stdout",
          "text": [
            "Downloading data from https://s3.amazonaws.com/fcp-indi/data/Projects/ABIDE_Initiative/Outputs/cpac/filt_noglobal/rois_cc200/Stanford_0051191_rois_cc200.1D ...\n"
          ]
        },
        {
          "output_type": "stream",
          "name": "stderr",
          "text": [
            " ...done. (1 seconds, 0 min)\n"
          ]
        },
        {
          "output_type": "stream",
          "name": "stdout",
          "text": [
            "Downloading data from https://s3.amazonaws.com/fcp-indi/data/Projects/ABIDE_Initiative/Outputs/cpac/filt_noglobal/rois_cc200/Stanford_0051192_rois_cc200.1D ...\n"
          ]
        },
        {
          "output_type": "stream",
          "name": "stderr",
          "text": [
            " ...done. (1 seconds, 0 min)\n"
          ]
        },
        {
          "output_type": "stream",
          "name": "stdout",
          "text": [
            "Downloading data from https://s3.amazonaws.com/fcp-indi/data/Projects/ABIDE_Initiative/Outputs/cpac/filt_noglobal/rois_cc200/Stanford_0051193_rois_cc200.1D ...\n"
          ]
        },
        {
          "output_type": "stream",
          "name": "stderr",
          "text": [
            " ...done. (1 seconds, 0 min)\n"
          ]
        },
        {
          "output_type": "stream",
          "name": "stdout",
          "text": [
            "Downloading data from https://s3.amazonaws.com/fcp-indi/data/Projects/ABIDE_Initiative/Outputs/cpac/filt_noglobal/rois_cc200/Stanford_0051194_rois_cc200.1D ...\n"
          ]
        },
        {
          "output_type": "stream",
          "name": "stderr",
          "text": [
            " ...done. (1 seconds, 0 min)\n"
          ]
        },
        {
          "output_type": "stream",
          "name": "stdout",
          "text": [
            "Downloading data from https://s3.amazonaws.com/fcp-indi/data/Projects/ABIDE_Initiative/Outputs/cpac/filt_noglobal/rois_cc200/Stanford_0051195_rois_cc200.1D ...\n"
          ]
        },
        {
          "output_type": "stream",
          "name": "stderr",
          "text": [
            " ...done. (1 seconds, 0 min)\n"
          ]
        },
        {
          "output_type": "stream",
          "name": "stdout",
          "text": [
            "Downloading data from https://s3.amazonaws.com/fcp-indi/data/Projects/ABIDE_Initiative/Outputs/cpac/filt_noglobal/rois_cc200/Stanford_0051196_rois_cc200.1D ...\n"
          ]
        },
        {
          "output_type": "stream",
          "name": "stderr",
          "text": [
            " ...done. (1 seconds, 0 min)\n"
          ]
        },
        {
          "output_type": "stream",
          "name": "stdout",
          "text": [
            "Downloading data from https://s3.amazonaws.com/fcp-indi/data/Projects/ABIDE_Initiative/Outputs/cpac/filt_noglobal/rois_cc200/Stanford_0051197_rois_cc200.1D ...\n"
          ]
        },
        {
          "output_type": "stream",
          "name": "stderr",
          "text": [
            " ...done. (1 seconds, 0 min)\n"
          ]
        },
        {
          "output_type": "stream",
          "name": "stdout",
          "text": [
            "Downloading data from https://s3.amazonaws.com/fcp-indi/data/Projects/ABIDE_Initiative/Outputs/cpac/filt_noglobal/rois_cc200/Stanford_0051198_rois_cc200.1D ...\n"
          ]
        },
        {
          "output_type": "stream",
          "name": "stderr",
          "text": [
            " ...done. (1 seconds, 0 min)\n"
          ]
        },
        {
          "output_type": "stream",
          "name": "stdout",
          "text": [
            "Downloading data from https://s3.amazonaws.com/fcp-indi/data/Projects/ABIDE_Initiative/Outputs/cpac/filt_noglobal/rois_cc200/Stanford_0051199_rois_cc200.1D ...\n"
          ]
        },
        {
          "output_type": "stream",
          "name": "stderr",
          "text": [
            " ...done. (1 seconds, 0 min)\n"
          ]
        },
        {
          "output_type": "stream",
          "name": "stdout",
          "text": [
            "Downloading data from https://s3.amazonaws.com/fcp-indi/data/Projects/ABIDE_Initiative/Outputs/cpac/filt_noglobal/rois_cc200/UCLA_1_0051201_rois_cc200.1D ...\n"
          ]
        },
        {
          "output_type": "stream",
          "name": "stderr",
          "text": [
            " ...done. (1 seconds, 0 min)\n"
          ]
        },
        {
          "output_type": "stream",
          "name": "stdout",
          "text": [
            "Downloading data from https://s3.amazonaws.com/fcp-indi/data/Projects/ABIDE_Initiative/Outputs/cpac/filt_noglobal/rois_cc200/UCLA_1_0051202_rois_cc200.1D ...\n"
          ]
        },
        {
          "output_type": "stream",
          "name": "stderr",
          "text": [
            " ...done. (1 seconds, 0 min)\n"
          ]
        },
        {
          "output_type": "stream",
          "name": "stdout",
          "text": [
            "Downloading data from https://s3.amazonaws.com/fcp-indi/data/Projects/ABIDE_Initiative/Outputs/cpac/filt_noglobal/rois_cc200/UCLA_1_0051203_rois_cc200.1D ...\n"
          ]
        },
        {
          "output_type": "stream",
          "name": "stderr",
          "text": [
            " ...done. (1 seconds, 0 min)\n"
          ]
        },
        {
          "output_type": "stream",
          "name": "stdout",
          "text": [
            "Downloading data from https://s3.amazonaws.com/fcp-indi/data/Projects/ABIDE_Initiative/Outputs/cpac/filt_noglobal/rois_cc200/UCLA_1_0051204_rois_cc200.1D ...\n"
          ]
        },
        {
          "output_type": "stream",
          "name": "stderr",
          "text": [
            " ...done. (1 seconds, 0 min)\n"
          ]
        },
        {
          "output_type": "stream",
          "name": "stdout",
          "text": [
            "Downloading data from https://s3.amazonaws.com/fcp-indi/data/Projects/ABIDE_Initiative/Outputs/cpac/filt_noglobal/rois_cc200/UCLA_1_0051205_rois_cc200.1D ...\n"
          ]
        },
        {
          "output_type": "stream",
          "name": "stderr",
          "text": [
            " ...done. (1 seconds, 0 min)\n"
          ]
        },
        {
          "output_type": "stream",
          "name": "stdout",
          "text": [
            "Downloading data from https://s3.amazonaws.com/fcp-indi/data/Projects/ABIDE_Initiative/Outputs/cpac/filt_noglobal/rois_cc200/UCLA_1_0051206_rois_cc200.1D ...\n"
          ]
        },
        {
          "output_type": "stream",
          "name": "stderr",
          "text": [
            " ...done. (1 seconds, 0 min)\n"
          ]
        },
        {
          "output_type": "stream",
          "name": "stdout",
          "text": [
            "Downloading data from https://s3.amazonaws.com/fcp-indi/data/Projects/ABIDE_Initiative/Outputs/cpac/filt_noglobal/rois_cc200/UCLA_1_0051207_rois_cc200.1D ...\n"
          ]
        },
        {
          "output_type": "stream",
          "name": "stderr",
          "text": [
            " ...done. (1 seconds, 0 min)\n"
          ]
        },
        {
          "output_type": "stream",
          "name": "stdout",
          "text": [
            "Downloading data from https://s3.amazonaws.com/fcp-indi/data/Projects/ABIDE_Initiative/Outputs/cpac/filt_noglobal/rois_cc200/UCLA_1_0051208_rois_cc200.1D ...\n"
          ]
        },
        {
          "output_type": "stream",
          "name": "stderr",
          "text": [
            " ...done. (1 seconds, 0 min)\n"
          ]
        },
        {
          "output_type": "stream",
          "name": "stdout",
          "text": [
            "Downloading data from https://s3.amazonaws.com/fcp-indi/data/Projects/ABIDE_Initiative/Outputs/cpac/filt_noglobal/rois_cc200/UCLA_1_0051209_rois_cc200.1D ...\n"
          ]
        },
        {
          "output_type": "stream",
          "name": "stderr",
          "text": [
            " ...done. (1 seconds, 0 min)\n"
          ]
        },
        {
          "output_type": "stream",
          "name": "stdout",
          "text": [
            "Downloading data from https://s3.amazonaws.com/fcp-indi/data/Projects/ABIDE_Initiative/Outputs/cpac/filt_noglobal/rois_cc200/UCLA_1_0051210_rois_cc200.1D ...\n"
          ]
        },
        {
          "output_type": "stream",
          "name": "stderr",
          "text": [
            " ...done. (1 seconds, 0 min)\n"
          ]
        },
        {
          "output_type": "stream",
          "name": "stdout",
          "text": [
            "Downloading data from https://s3.amazonaws.com/fcp-indi/data/Projects/ABIDE_Initiative/Outputs/cpac/filt_noglobal/rois_cc200/UCLA_1_0051211_rois_cc200.1D ...\n"
          ]
        },
        {
          "output_type": "stream",
          "name": "stderr",
          "text": [
            " ...done. (1 seconds, 0 min)\n"
          ]
        },
        {
          "output_type": "stream",
          "name": "stdout",
          "text": [
            "Downloading data from https://s3.amazonaws.com/fcp-indi/data/Projects/ABIDE_Initiative/Outputs/cpac/filt_noglobal/rois_cc200/UCLA_1_0051212_rois_cc200.1D ...\n"
          ]
        },
        {
          "output_type": "stream",
          "name": "stderr",
          "text": [
            " ...done. (1 seconds, 0 min)\n"
          ]
        },
        {
          "output_type": "stream",
          "name": "stdout",
          "text": [
            "Downloading data from https://s3.amazonaws.com/fcp-indi/data/Projects/ABIDE_Initiative/Outputs/cpac/filt_noglobal/rois_cc200/UCLA_1_0051213_rois_cc200.1D ...\n"
          ]
        },
        {
          "output_type": "stream",
          "name": "stderr",
          "text": [
            " ...done. (1 seconds, 0 min)\n"
          ]
        },
        {
          "output_type": "stream",
          "name": "stdout",
          "text": [
            "Downloading data from https://s3.amazonaws.com/fcp-indi/data/Projects/ABIDE_Initiative/Outputs/cpac/filt_noglobal/rois_cc200/UCLA_1_0051214_rois_cc200.1D ...\n"
          ]
        },
        {
          "output_type": "stream",
          "name": "stderr",
          "text": [
            " ...done. (1 seconds, 0 min)\n"
          ]
        },
        {
          "output_type": "stream",
          "name": "stdout",
          "text": [
            "Downloading data from https://s3.amazonaws.com/fcp-indi/data/Projects/ABIDE_Initiative/Outputs/cpac/filt_noglobal/rois_cc200/UCLA_1_0051215_rois_cc200.1D ...\n"
          ]
        },
        {
          "output_type": "stream",
          "name": "stderr",
          "text": [
            " ...done. (1 seconds, 0 min)\n"
          ]
        },
        {
          "output_type": "stream",
          "name": "stdout",
          "text": [
            "Downloading data from https://s3.amazonaws.com/fcp-indi/data/Projects/ABIDE_Initiative/Outputs/cpac/filt_noglobal/rois_cc200/UCLA_1_0051216_rois_cc200.1D ...\n"
          ]
        },
        {
          "output_type": "stream",
          "name": "stderr",
          "text": [
            " ...done. (1 seconds, 0 min)\n"
          ]
        },
        {
          "output_type": "stream",
          "name": "stdout",
          "text": [
            "Downloading data from https://s3.amazonaws.com/fcp-indi/data/Projects/ABIDE_Initiative/Outputs/cpac/filt_noglobal/rois_cc200/UCLA_1_0051217_rois_cc200.1D ...\n"
          ]
        },
        {
          "output_type": "stream",
          "name": "stderr",
          "text": [
            " ...done. (1 seconds, 0 min)\n"
          ]
        },
        {
          "output_type": "stream",
          "name": "stdout",
          "text": [
            "Downloading data from https://s3.amazonaws.com/fcp-indi/data/Projects/ABIDE_Initiative/Outputs/cpac/filt_noglobal/rois_cc200/UCLA_1_0051218_rois_cc200.1D ...\n"
          ]
        },
        {
          "output_type": "stream",
          "name": "stderr",
          "text": [
            " ...done. (1 seconds, 0 min)\n"
          ]
        },
        {
          "output_type": "stream",
          "name": "stdout",
          "text": [
            "Downloading data from https://s3.amazonaws.com/fcp-indi/data/Projects/ABIDE_Initiative/Outputs/cpac/filt_noglobal/rois_cc200/UCLA_1_0051219_rois_cc200.1D ...\n"
          ]
        },
        {
          "output_type": "stream",
          "name": "stderr",
          "text": [
            " ...done. (1 seconds, 0 min)\n"
          ]
        },
        {
          "output_type": "stream",
          "name": "stdout",
          "text": [
            "Downloading data from https://s3.amazonaws.com/fcp-indi/data/Projects/ABIDE_Initiative/Outputs/cpac/filt_noglobal/rois_cc200/UCLA_1_0051220_rois_cc200.1D ...\n"
          ]
        },
        {
          "output_type": "stream",
          "name": "stderr",
          "text": [
            " ...done. (1 seconds, 0 min)\n"
          ]
        },
        {
          "output_type": "stream",
          "name": "stdout",
          "text": [
            "Downloading data from https://s3.amazonaws.com/fcp-indi/data/Projects/ABIDE_Initiative/Outputs/cpac/filt_noglobal/rois_cc200/UCLA_1_0051221_rois_cc200.1D ...\n"
          ]
        },
        {
          "output_type": "stream",
          "name": "stderr",
          "text": [
            " ...done. (1 seconds, 0 min)\n"
          ]
        },
        {
          "output_type": "stream",
          "name": "stdout",
          "text": [
            "Downloading data from https://s3.amazonaws.com/fcp-indi/data/Projects/ABIDE_Initiative/Outputs/cpac/filt_noglobal/rois_cc200/UCLA_1_0051222_rois_cc200.1D ...\n"
          ]
        },
        {
          "output_type": "stream",
          "name": "stderr",
          "text": [
            " ...done. (1 seconds, 0 min)\n"
          ]
        },
        {
          "output_type": "stream",
          "name": "stdout",
          "text": [
            "Downloading data from https://s3.amazonaws.com/fcp-indi/data/Projects/ABIDE_Initiative/Outputs/cpac/filt_noglobal/rois_cc200/UCLA_1_0051223_rois_cc200.1D ...\n"
          ]
        },
        {
          "output_type": "stream",
          "name": "stderr",
          "text": [
            " ...done. (1 seconds, 0 min)\n"
          ]
        },
        {
          "output_type": "stream",
          "name": "stdout",
          "text": [
            "Downloading data from https://s3.amazonaws.com/fcp-indi/data/Projects/ABIDE_Initiative/Outputs/cpac/filt_noglobal/rois_cc200/UCLA_1_0051224_rois_cc200.1D ...\n"
          ]
        },
        {
          "output_type": "stream",
          "name": "stderr",
          "text": [
            " ...done. (1 seconds, 0 min)\n"
          ]
        },
        {
          "output_type": "stream",
          "name": "stdout",
          "text": [
            "Downloading data from https://s3.amazonaws.com/fcp-indi/data/Projects/ABIDE_Initiative/Outputs/cpac/filt_noglobal/rois_cc200/UCLA_1_0051225_rois_cc200.1D ...\n"
          ]
        },
        {
          "output_type": "stream",
          "name": "stderr",
          "text": [
            " ...done. (1 seconds, 0 min)\n"
          ]
        },
        {
          "output_type": "stream",
          "name": "stdout",
          "text": [
            "Downloading data from https://s3.amazonaws.com/fcp-indi/data/Projects/ABIDE_Initiative/Outputs/cpac/filt_noglobal/rois_cc200/UCLA_1_0051226_rois_cc200.1D ...\n"
          ]
        },
        {
          "output_type": "stream",
          "name": "stderr",
          "text": [
            " ...done. (1 seconds, 0 min)\n"
          ]
        },
        {
          "output_type": "stream",
          "name": "stdout",
          "text": [
            "Downloading data from https://s3.amazonaws.com/fcp-indi/data/Projects/ABIDE_Initiative/Outputs/cpac/filt_noglobal/rois_cc200/UCLA_1_0051227_rois_cc200.1D ...\n"
          ]
        },
        {
          "output_type": "stream",
          "name": "stderr",
          "text": [
            " ...done. (1 seconds, 0 min)\n"
          ]
        },
        {
          "output_type": "stream",
          "name": "stdout",
          "text": [
            "Downloading data from https://s3.amazonaws.com/fcp-indi/data/Projects/ABIDE_Initiative/Outputs/cpac/filt_noglobal/rois_cc200/UCLA_1_0051228_rois_cc200.1D ...\n"
          ]
        },
        {
          "output_type": "stream",
          "name": "stderr",
          "text": [
            " ...done. (1 seconds, 0 min)\n"
          ]
        },
        {
          "output_type": "stream",
          "name": "stdout",
          "text": [
            "Downloading data from https://s3.amazonaws.com/fcp-indi/data/Projects/ABIDE_Initiative/Outputs/cpac/filt_noglobal/rois_cc200/UCLA_1_0051229_rois_cc200.1D ...\n"
          ]
        },
        {
          "output_type": "stream",
          "name": "stderr",
          "text": [
            " ...done. (1 seconds, 0 min)\n"
          ]
        },
        {
          "output_type": "stream",
          "name": "stdout",
          "text": [
            "Downloading data from https://s3.amazonaws.com/fcp-indi/data/Projects/ABIDE_Initiative/Outputs/cpac/filt_noglobal/rois_cc200/UCLA_1_0051230_rois_cc200.1D ...\n"
          ]
        },
        {
          "output_type": "stream",
          "name": "stderr",
          "text": [
            " ...done. (1 seconds, 0 min)\n"
          ]
        },
        {
          "output_type": "stream",
          "name": "stdout",
          "text": [
            "Downloading data from https://s3.amazonaws.com/fcp-indi/data/Projects/ABIDE_Initiative/Outputs/cpac/filt_noglobal/rois_cc200/UCLA_1_0051231_rois_cc200.1D ...\n"
          ]
        },
        {
          "output_type": "stream",
          "name": "stderr",
          "text": [
            " ...done. (1 seconds, 0 min)\n"
          ]
        },
        {
          "output_type": "stream",
          "name": "stdout",
          "text": [
            "Downloading data from https://s3.amazonaws.com/fcp-indi/data/Projects/ABIDE_Initiative/Outputs/cpac/filt_noglobal/rois_cc200/UCLA_1_0051234_rois_cc200.1D ...\n"
          ]
        },
        {
          "output_type": "stream",
          "name": "stderr",
          "text": [
            " ...done. (1 seconds, 0 min)\n"
          ]
        },
        {
          "output_type": "stream",
          "name": "stdout",
          "text": [
            "Downloading data from https://s3.amazonaws.com/fcp-indi/data/Projects/ABIDE_Initiative/Outputs/cpac/filt_noglobal/rois_cc200/UCLA_1_0051235_rois_cc200.1D ...\n"
          ]
        },
        {
          "output_type": "stream",
          "name": "stderr",
          "text": [
            " ...done. (1 seconds, 0 min)\n"
          ]
        },
        {
          "output_type": "stream",
          "name": "stdout",
          "text": [
            "Downloading data from https://s3.amazonaws.com/fcp-indi/data/Projects/ABIDE_Initiative/Outputs/cpac/filt_noglobal/rois_cc200/UCLA_1_0051236_rois_cc200.1D ...\n"
          ]
        },
        {
          "output_type": "stream",
          "name": "stderr",
          "text": [
            " ...done. (1 seconds, 0 min)\n"
          ]
        },
        {
          "output_type": "stream",
          "name": "stdout",
          "text": [
            "Downloading data from https://s3.amazonaws.com/fcp-indi/data/Projects/ABIDE_Initiative/Outputs/cpac/filt_noglobal/rois_cc200/UCLA_1_0051237_rois_cc200.1D ...\n"
          ]
        },
        {
          "output_type": "stream",
          "name": "stderr",
          "text": [
            " ...done. (1 seconds, 0 min)\n"
          ]
        },
        {
          "output_type": "stream",
          "name": "stdout",
          "text": [
            "Downloading data from https://s3.amazonaws.com/fcp-indi/data/Projects/ABIDE_Initiative/Outputs/cpac/filt_noglobal/rois_cc200/UCLA_1_0051238_rois_cc200.1D ...\n"
          ]
        },
        {
          "output_type": "stream",
          "name": "stderr",
          "text": [
            " ...done. (1 seconds, 0 min)\n"
          ]
        },
        {
          "output_type": "stream",
          "name": "stdout",
          "text": [
            "Downloading data from https://s3.amazonaws.com/fcp-indi/data/Projects/ABIDE_Initiative/Outputs/cpac/filt_noglobal/rois_cc200/UCLA_1_0051239_rois_cc200.1D ...\n"
          ]
        },
        {
          "output_type": "stream",
          "name": "stderr",
          "text": [
            " ...done. (1 seconds, 0 min)\n"
          ]
        },
        {
          "output_type": "stream",
          "name": "stdout",
          "text": [
            "Downloading data from https://s3.amazonaws.com/fcp-indi/data/Projects/ABIDE_Initiative/Outputs/cpac/filt_noglobal/rois_cc200/UCLA_1_0051240_rois_cc200.1D ...\n"
          ]
        },
        {
          "output_type": "stream",
          "name": "stderr",
          "text": [
            " ...done. (1 seconds, 0 min)\n"
          ]
        },
        {
          "output_type": "stream",
          "name": "stdout",
          "text": [
            "Downloading data from https://s3.amazonaws.com/fcp-indi/data/Projects/ABIDE_Initiative/Outputs/cpac/filt_noglobal/rois_cc200/UCLA_1_0051241_rois_cc200.1D ...\n"
          ]
        },
        {
          "output_type": "stream",
          "name": "stderr",
          "text": [
            " ...done. (1 seconds, 0 min)\n"
          ]
        },
        {
          "output_type": "stream",
          "name": "stdout",
          "text": [
            "Downloading data from https://s3.amazonaws.com/fcp-indi/data/Projects/ABIDE_Initiative/Outputs/cpac/filt_noglobal/rois_cc200/UCLA_1_0051248_rois_cc200.1D ...\n"
          ]
        },
        {
          "output_type": "stream",
          "name": "stderr",
          "text": [
            " ...done. (1 seconds, 0 min)\n"
          ]
        },
        {
          "output_type": "stream",
          "name": "stdout",
          "text": [
            "Downloading data from https://s3.amazonaws.com/fcp-indi/data/Projects/ABIDE_Initiative/Outputs/cpac/filt_noglobal/rois_cc200/UCLA_1_0051249_rois_cc200.1D ...\n"
          ]
        },
        {
          "output_type": "stream",
          "name": "stderr",
          "text": [
            " ...done. (1 seconds, 0 min)\n"
          ]
        },
        {
          "output_type": "stream",
          "name": "stdout",
          "text": [
            "Downloading data from https://s3.amazonaws.com/fcp-indi/data/Projects/ABIDE_Initiative/Outputs/cpac/filt_noglobal/rois_cc200/UCLA_1_0051250_rois_cc200.1D ...\n"
          ]
        },
        {
          "output_type": "stream",
          "name": "stderr",
          "text": [
            " ...done. (1 seconds, 0 min)\n"
          ]
        },
        {
          "output_type": "stream",
          "name": "stdout",
          "text": [
            "Downloading data from https://s3.amazonaws.com/fcp-indi/data/Projects/ABIDE_Initiative/Outputs/cpac/filt_noglobal/rois_cc200/UCLA_1_0051251_rois_cc200.1D ...\n"
          ]
        },
        {
          "output_type": "stream",
          "name": "stderr",
          "text": [
            " ...done. (1 seconds, 0 min)\n"
          ]
        },
        {
          "output_type": "stream",
          "name": "stdout",
          "text": [
            "Downloading data from https://s3.amazonaws.com/fcp-indi/data/Projects/ABIDE_Initiative/Outputs/cpac/filt_noglobal/rois_cc200/UCLA_1_0051252_rois_cc200.1D ...\n"
          ]
        },
        {
          "output_type": "stream",
          "name": "stderr",
          "text": [
            " ...done. (1 seconds, 0 min)\n"
          ]
        },
        {
          "output_type": "stream",
          "name": "stdout",
          "text": [
            "Downloading data from https://s3.amazonaws.com/fcp-indi/data/Projects/ABIDE_Initiative/Outputs/cpac/filt_noglobal/rois_cc200/UCLA_1_0051253_rois_cc200.1D ...\n"
          ]
        },
        {
          "output_type": "stream",
          "name": "stderr",
          "text": [
            " ...done. (1 seconds, 0 min)\n"
          ]
        },
        {
          "output_type": "stream",
          "name": "stdout",
          "text": [
            "Downloading data from https://s3.amazonaws.com/fcp-indi/data/Projects/ABIDE_Initiative/Outputs/cpac/filt_noglobal/rois_cc200/UCLA_1_0051254_rois_cc200.1D ...\n"
          ]
        },
        {
          "output_type": "stream",
          "name": "stderr",
          "text": [
            " ...done. (1 seconds, 0 min)\n"
          ]
        },
        {
          "output_type": "stream",
          "name": "stdout",
          "text": [
            "Downloading data from https://s3.amazonaws.com/fcp-indi/data/Projects/ABIDE_Initiative/Outputs/cpac/filt_noglobal/rois_cc200/UCLA_1_0051255_rois_cc200.1D ...\n"
          ]
        },
        {
          "output_type": "stream",
          "name": "stderr",
          "text": [
            " ...done. (1 seconds, 0 min)\n"
          ]
        },
        {
          "output_type": "stream",
          "name": "stdout",
          "text": [
            "Downloading data from https://s3.amazonaws.com/fcp-indi/data/Projects/ABIDE_Initiative/Outputs/cpac/filt_noglobal/rois_cc200/UCLA_1_0051256_rois_cc200.1D ...\n"
          ]
        },
        {
          "output_type": "stream",
          "name": "stderr",
          "text": [
            " ...done. (1 seconds, 0 min)\n"
          ]
        },
        {
          "output_type": "stream",
          "name": "stdout",
          "text": [
            "Downloading data from https://s3.amazonaws.com/fcp-indi/data/Projects/ABIDE_Initiative/Outputs/cpac/filt_noglobal/rois_cc200/UCLA_1_0051257_rois_cc200.1D ...\n"
          ]
        },
        {
          "output_type": "stream",
          "name": "stderr",
          "text": [
            " ...done. (1 seconds, 0 min)\n"
          ]
        },
        {
          "output_type": "stream",
          "name": "stdout",
          "text": [
            "Downloading data from https://s3.amazonaws.com/fcp-indi/data/Projects/ABIDE_Initiative/Outputs/cpac/filt_noglobal/rois_cc200/UCLA_1_0051258_rois_cc200.1D ...\n"
          ]
        },
        {
          "output_type": "stream",
          "name": "stderr",
          "text": [
            " ...done. (1 seconds, 0 min)\n"
          ]
        },
        {
          "output_type": "stream",
          "name": "stdout",
          "text": [
            "Downloading data from https://s3.amazonaws.com/fcp-indi/data/Projects/ABIDE_Initiative/Outputs/cpac/filt_noglobal/rois_cc200/UCLA_1_0051260_rois_cc200.1D ...\n"
          ]
        },
        {
          "output_type": "stream",
          "name": "stderr",
          "text": [
            " ...done. (1 seconds, 0 min)\n"
          ]
        },
        {
          "output_type": "stream",
          "name": "stdout",
          "text": [
            "Downloading data from https://s3.amazonaws.com/fcp-indi/data/Projects/ABIDE_Initiative/Outputs/cpac/filt_noglobal/rois_cc200/UCLA_1_0051261_rois_cc200.1D ...\n"
          ]
        },
        {
          "output_type": "stream",
          "name": "stderr",
          "text": [
            " ...done. (1 seconds, 0 min)\n"
          ]
        },
        {
          "output_type": "stream",
          "name": "stdout",
          "text": [
            "Downloading data from https://s3.amazonaws.com/fcp-indi/data/Projects/ABIDE_Initiative/Outputs/cpac/filt_noglobal/rois_cc200/UCLA_1_0051262_rois_cc200.1D ...\n"
          ]
        },
        {
          "output_type": "stream",
          "name": "stderr",
          "text": [
            " ...done. (1 seconds, 0 min)\n"
          ]
        },
        {
          "output_type": "stream",
          "name": "stdout",
          "text": [
            "Downloading data from https://s3.amazonaws.com/fcp-indi/data/Projects/ABIDE_Initiative/Outputs/cpac/filt_noglobal/rois_cc200/UCLA_1_0051263_rois_cc200.1D ...\n"
          ]
        },
        {
          "output_type": "stream",
          "name": "stderr",
          "text": [
            " ...done. (1 seconds, 0 min)\n"
          ]
        },
        {
          "output_type": "stream",
          "name": "stdout",
          "text": [
            "Downloading data from https://s3.amazonaws.com/fcp-indi/data/Projects/ABIDE_Initiative/Outputs/cpac/filt_noglobal/rois_cc200/UCLA_1_0051264_rois_cc200.1D ...\n"
          ]
        },
        {
          "output_type": "stream",
          "name": "stderr",
          "text": [
            " ...done. (1 seconds, 0 min)\n"
          ]
        },
        {
          "output_type": "stream",
          "name": "stdout",
          "text": [
            "Downloading data from https://s3.amazonaws.com/fcp-indi/data/Projects/ABIDE_Initiative/Outputs/cpac/filt_noglobal/rois_cc200/UCLA_1_0051265_rois_cc200.1D ...\n"
          ]
        },
        {
          "output_type": "stream",
          "name": "stderr",
          "text": [
            " ...done. (1 seconds, 0 min)\n"
          ]
        },
        {
          "output_type": "stream",
          "name": "stdout",
          "text": [
            "Downloading data from https://s3.amazonaws.com/fcp-indi/data/Projects/ABIDE_Initiative/Outputs/cpac/filt_noglobal/rois_cc200/UCLA_1_0051266_rois_cc200.1D ...\n"
          ]
        },
        {
          "output_type": "stream",
          "name": "stderr",
          "text": [
            " ...done. (1 seconds, 0 min)\n"
          ]
        },
        {
          "output_type": "stream",
          "name": "stdout",
          "text": [
            "Downloading data from https://s3.amazonaws.com/fcp-indi/data/Projects/ABIDE_Initiative/Outputs/cpac/filt_noglobal/rois_cc200/UCLA_1_0051267_rois_cc200.1D ...\n"
          ]
        },
        {
          "output_type": "stream",
          "name": "stderr",
          "text": [
            " ...done. (1 seconds, 0 min)\n"
          ]
        },
        {
          "output_type": "stream",
          "name": "stdout",
          "text": [
            "Downloading data from https://s3.amazonaws.com/fcp-indi/data/Projects/ABIDE_Initiative/Outputs/cpac/filt_noglobal/rois_cc200/UCLA_1_0051268_rois_cc200.1D ...\n"
          ]
        },
        {
          "output_type": "stream",
          "name": "stderr",
          "text": [
            " ...done. (1 seconds, 0 min)\n"
          ]
        },
        {
          "output_type": "stream",
          "name": "stdout",
          "text": [
            "Downloading data from https://s3.amazonaws.com/fcp-indi/data/Projects/ABIDE_Initiative/Outputs/cpac/filt_noglobal/rois_cc200/UCLA_1_0051269_rois_cc200.1D ...\n"
          ]
        },
        {
          "output_type": "stream",
          "name": "stderr",
          "text": [
            " ...done. (1 seconds, 0 min)\n"
          ]
        },
        {
          "output_type": "stream",
          "name": "stdout",
          "text": [
            "Downloading data from https://s3.amazonaws.com/fcp-indi/data/Projects/ABIDE_Initiative/Outputs/cpac/filt_noglobal/rois_cc200/UCLA_1_0051271_rois_cc200.1D ...\n"
          ]
        },
        {
          "output_type": "stream",
          "name": "stderr",
          "text": [
            " ...done. (1 seconds, 0 min)\n"
          ]
        },
        {
          "output_type": "stream",
          "name": "stdout",
          "text": [
            "Downloading data from https://s3.amazonaws.com/fcp-indi/data/Projects/ABIDE_Initiative/Outputs/cpac/filt_noglobal/rois_cc200/UCLA_1_0051272_rois_cc200.1D ...\n"
          ]
        },
        {
          "output_type": "stream",
          "name": "stderr",
          "text": [
            " ...done. (1 seconds, 0 min)\n"
          ]
        },
        {
          "output_type": "stream",
          "name": "stdout",
          "text": [
            "Downloading data from https://s3.amazonaws.com/fcp-indi/data/Projects/ABIDE_Initiative/Outputs/cpac/filt_noglobal/rois_cc200/UCLA_1_0051273_rois_cc200.1D ...\n"
          ]
        },
        {
          "output_type": "stream",
          "name": "stderr",
          "text": [
            " ...done. (0 seconds, 0 min)\n"
          ]
        },
        {
          "output_type": "stream",
          "name": "stdout",
          "text": [
            "Downloading data from https://s3.amazonaws.com/fcp-indi/data/Projects/ABIDE_Initiative/Outputs/cpac/filt_noglobal/rois_cc200/UCLA_1_0051274_rois_cc200.1D ...\n"
          ]
        },
        {
          "output_type": "stream",
          "name": "stderr",
          "text": [
            " ...done. (1 seconds, 0 min)\n"
          ]
        },
        {
          "output_type": "stream",
          "name": "stdout",
          "text": [
            "Downloading data from https://s3.amazonaws.com/fcp-indi/data/Projects/ABIDE_Initiative/Outputs/cpac/filt_noglobal/rois_cc200/UCLA_1_0051275_rois_cc200.1D ...\n"
          ]
        },
        {
          "output_type": "stream",
          "name": "stderr",
          "text": [
            " ...done. (1 seconds, 0 min)\n"
          ]
        },
        {
          "output_type": "stream",
          "name": "stdout",
          "text": [
            "Downloading data from https://s3.amazonaws.com/fcp-indi/data/Projects/ABIDE_Initiative/Outputs/cpac/filt_noglobal/rois_cc200/UCLA_1_0051276_rois_cc200.1D ...\n"
          ]
        },
        {
          "output_type": "stream",
          "name": "stderr",
          "text": [
            " ...done. (1 seconds, 0 min)\n"
          ]
        },
        {
          "output_type": "stream",
          "name": "stdout",
          "text": [
            "Downloading data from https://s3.amazonaws.com/fcp-indi/data/Projects/ABIDE_Initiative/Outputs/cpac/filt_noglobal/rois_cc200/UCLA_1_0051277_rois_cc200.1D ...\n"
          ]
        },
        {
          "output_type": "stream",
          "name": "stderr",
          "text": [
            " ...done. (1 seconds, 0 min)\n"
          ]
        },
        {
          "output_type": "stream",
          "name": "stdout",
          "text": [
            "Downloading data from https://s3.amazonaws.com/fcp-indi/data/Projects/ABIDE_Initiative/Outputs/cpac/filt_noglobal/rois_cc200/UCLA_1_0051278_rois_cc200.1D ...\n"
          ]
        },
        {
          "output_type": "stream",
          "name": "stderr",
          "text": [
            " ...done. (1 seconds, 0 min)\n"
          ]
        },
        {
          "output_type": "stream",
          "name": "stdout",
          "text": [
            "Downloading data from https://s3.amazonaws.com/fcp-indi/data/Projects/ABIDE_Initiative/Outputs/cpac/filt_noglobal/rois_cc200/UCLA_1_0051279_rois_cc200.1D ...\n"
          ]
        },
        {
          "output_type": "stream",
          "name": "stderr",
          "text": [
            " ...done. (1 seconds, 0 min)\n"
          ]
        },
        {
          "output_type": "stream",
          "name": "stdout",
          "text": [
            "Downloading data from https://s3.amazonaws.com/fcp-indi/data/Projects/ABIDE_Initiative/Outputs/cpac/filt_noglobal/rois_cc200/UCLA_1_0051280_rois_cc200.1D ...\n"
          ]
        },
        {
          "output_type": "stream",
          "name": "stderr",
          "text": [
            " ...done. (1 seconds, 0 min)\n"
          ]
        },
        {
          "output_type": "stream",
          "name": "stdout",
          "text": [
            "Downloading data from https://s3.amazonaws.com/fcp-indi/data/Projects/ABIDE_Initiative/Outputs/cpac/filt_noglobal/rois_cc200/UCLA_1_0051281_rois_cc200.1D ...\n"
          ]
        },
        {
          "output_type": "stream",
          "name": "stderr",
          "text": [
            " ...done. (1 seconds, 0 min)\n"
          ]
        },
        {
          "output_type": "stream",
          "name": "stdout",
          "text": [
            "Downloading data from https://s3.amazonaws.com/fcp-indi/data/Projects/ABIDE_Initiative/Outputs/cpac/filt_noglobal/rois_cc200/UCLA_1_0051282_rois_cc200.1D ...\n"
          ]
        },
        {
          "output_type": "stream",
          "name": "stderr",
          "text": [
            " ...done. (1 seconds, 0 min)\n"
          ]
        },
        {
          "output_type": "stream",
          "name": "stdout",
          "text": [
            "Downloading data from https://s3.amazonaws.com/fcp-indi/data/Projects/ABIDE_Initiative/Outputs/cpac/filt_noglobal/rois_cc200/UCLA_2_0051291_rois_cc200.1D ...\n"
          ]
        },
        {
          "output_type": "stream",
          "name": "stderr",
          "text": [
            " ...done. (1 seconds, 0 min)\n"
          ]
        },
        {
          "output_type": "stream",
          "name": "stdout",
          "text": [
            "Downloading data from https://s3.amazonaws.com/fcp-indi/data/Projects/ABIDE_Initiative/Outputs/cpac/filt_noglobal/rois_cc200/UCLA_2_0051292_rois_cc200.1D ...\n"
          ]
        },
        {
          "output_type": "stream",
          "name": "stderr",
          "text": [
            " ...done. (1 seconds, 0 min)\n"
          ]
        },
        {
          "output_type": "stream",
          "name": "stdout",
          "text": [
            "Downloading data from https://s3.amazonaws.com/fcp-indi/data/Projects/ABIDE_Initiative/Outputs/cpac/filt_noglobal/rois_cc200/UCLA_2_0051293_rois_cc200.1D ...\n"
          ]
        },
        {
          "output_type": "stream",
          "name": "stderr",
          "text": [
            " ...done. (1 seconds, 0 min)\n"
          ]
        },
        {
          "output_type": "stream",
          "name": "stdout",
          "text": [
            "Downloading data from https://s3.amazonaws.com/fcp-indi/data/Projects/ABIDE_Initiative/Outputs/cpac/filt_noglobal/rois_cc200/UCLA_2_0051294_rois_cc200.1D ...\n"
          ]
        },
        {
          "output_type": "stream",
          "name": "stderr",
          "text": [
            " ...done. (1 seconds, 0 min)\n"
          ]
        },
        {
          "output_type": "stream",
          "name": "stdout",
          "text": [
            "Downloading data from https://s3.amazonaws.com/fcp-indi/data/Projects/ABIDE_Initiative/Outputs/cpac/filt_noglobal/rois_cc200/UCLA_2_0051295_rois_cc200.1D ...\n"
          ]
        },
        {
          "output_type": "stream",
          "name": "stderr",
          "text": [
            " ...done. (1 seconds, 0 min)\n"
          ]
        },
        {
          "output_type": "stream",
          "name": "stdout",
          "text": [
            "Downloading data from https://s3.amazonaws.com/fcp-indi/data/Projects/ABIDE_Initiative/Outputs/cpac/filt_noglobal/rois_cc200/UCLA_2_0051296_rois_cc200.1D ...\n"
          ]
        },
        {
          "output_type": "stream",
          "name": "stderr",
          "text": [
            " ...done. (1 seconds, 0 min)\n"
          ]
        },
        {
          "output_type": "stream",
          "name": "stdout",
          "text": [
            "Downloading data from https://s3.amazonaws.com/fcp-indi/data/Projects/ABIDE_Initiative/Outputs/cpac/filt_noglobal/rois_cc200/UCLA_2_0051297_rois_cc200.1D ...\n"
          ]
        },
        {
          "output_type": "stream",
          "name": "stderr",
          "text": [
            " ...done. (0 seconds, 0 min)\n"
          ]
        },
        {
          "output_type": "stream",
          "name": "stdout",
          "text": [
            "Downloading data from https://s3.amazonaws.com/fcp-indi/data/Projects/ABIDE_Initiative/Outputs/cpac/filt_noglobal/rois_cc200/UCLA_2_0051298_rois_cc200.1D ...\n"
          ]
        },
        {
          "output_type": "stream",
          "name": "stderr",
          "text": [
            " ...done. (1 seconds, 0 min)\n"
          ]
        },
        {
          "output_type": "stream",
          "name": "stdout",
          "text": [
            "Downloading data from https://s3.amazonaws.com/fcp-indi/data/Projects/ABIDE_Initiative/Outputs/cpac/filt_noglobal/rois_cc200/UCLA_2_0051299_rois_cc200.1D ...\n"
          ]
        },
        {
          "output_type": "stream",
          "name": "stderr",
          "text": [
            " ...done. (1 seconds, 0 min)\n"
          ]
        },
        {
          "output_type": "stream",
          "name": "stdout",
          "text": [
            "Downloading data from https://s3.amazonaws.com/fcp-indi/data/Projects/ABIDE_Initiative/Outputs/cpac/filt_noglobal/rois_cc200/UCLA_2_0051300_rois_cc200.1D ...\n"
          ]
        },
        {
          "output_type": "stream",
          "name": "stderr",
          "text": [
            " ...done. (1 seconds, 0 min)\n"
          ]
        },
        {
          "output_type": "stream",
          "name": "stdout",
          "text": [
            "Downloading data from https://s3.amazonaws.com/fcp-indi/data/Projects/ABIDE_Initiative/Outputs/cpac/filt_noglobal/rois_cc200/UCLA_2_0051301_rois_cc200.1D ...\n"
          ]
        },
        {
          "output_type": "stream",
          "name": "stderr",
          "text": [
            " ...done. (1 seconds, 0 min)\n"
          ]
        },
        {
          "output_type": "stream",
          "name": "stdout",
          "text": [
            "Downloading data from https://s3.amazonaws.com/fcp-indi/data/Projects/ABIDE_Initiative/Outputs/cpac/filt_noglobal/rois_cc200/UCLA_2_0051302_rois_cc200.1D ...\n"
          ]
        },
        {
          "output_type": "stream",
          "name": "stderr",
          "text": [
            " ...done. (1 seconds, 0 min)\n"
          ]
        },
        {
          "output_type": "stream",
          "name": "stdout",
          "text": [
            "Downloading data from https://s3.amazonaws.com/fcp-indi/data/Projects/ABIDE_Initiative/Outputs/cpac/filt_noglobal/rois_cc200/UCLA_2_0051303_rois_cc200.1D ...\n"
          ]
        },
        {
          "output_type": "stream",
          "name": "stderr",
          "text": [
            " ...done. (1 seconds, 0 min)\n"
          ]
        },
        {
          "output_type": "stream",
          "name": "stdout",
          "text": [
            "Downloading data from https://s3.amazonaws.com/fcp-indi/data/Projects/ABIDE_Initiative/Outputs/cpac/filt_noglobal/rois_cc200/UCLA_2_0051304_rois_cc200.1D ...\n"
          ]
        },
        {
          "output_type": "stream",
          "name": "stderr",
          "text": [
            " ...done. (1 seconds, 0 min)\n"
          ]
        },
        {
          "output_type": "stream",
          "name": "stdout",
          "text": [
            "Downloading data from https://s3.amazonaws.com/fcp-indi/data/Projects/ABIDE_Initiative/Outputs/cpac/filt_noglobal/rois_cc200/UCLA_2_0051305_rois_cc200.1D ...\n"
          ]
        },
        {
          "output_type": "stream",
          "name": "stderr",
          "text": [
            " ...done. (1 seconds, 0 min)\n"
          ]
        },
        {
          "output_type": "stream",
          "name": "stdout",
          "text": [
            "Downloading data from https://s3.amazonaws.com/fcp-indi/data/Projects/ABIDE_Initiative/Outputs/cpac/filt_noglobal/rois_cc200/UCLA_2_0051306_rois_cc200.1D ...\n"
          ]
        },
        {
          "output_type": "stream",
          "name": "stderr",
          "text": [
            " ...done. (1 seconds, 0 min)\n"
          ]
        },
        {
          "output_type": "stream",
          "name": "stdout",
          "text": [
            "Downloading data from https://s3.amazonaws.com/fcp-indi/data/Projects/ABIDE_Initiative/Outputs/cpac/filt_noglobal/rois_cc200/UCLA_2_0051307_rois_cc200.1D ...\n"
          ]
        },
        {
          "output_type": "stream",
          "name": "stderr",
          "text": [
            " ...done. (1 seconds, 0 min)\n"
          ]
        },
        {
          "output_type": "stream",
          "name": "stdout",
          "text": [
            "Downloading data from https://s3.amazonaws.com/fcp-indi/data/Projects/ABIDE_Initiative/Outputs/cpac/filt_noglobal/rois_cc200/UCLA_2_0051308_rois_cc200.1D ...\n"
          ]
        },
        {
          "output_type": "stream",
          "name": "stderr",
          "text": [
            " ...done. (1 seconds, 0 min)\n"
          ]
        },
        {
          "output_type": "stream",
          "name": "stdout",
          "text": [
            "Downloading data from https://s3.amazonaws.com/fcp-indi/data/Projects/ABIDE_Initiative/Outputs/cpac/filt_noglobal/rois_cc200/UCLA_2_0051309_rois_cc200.1D ...\n"
          ]
        },
        {
          "output_type": "stream",
          "name": "stderr",
          "text": [
            " ...done. (1 seconds, 0 min)\n"
          ]
        },
        {
          "output_type": "stream",
          "name": "stdout",
          "text": [
            "Downloading data from https://s3.amazonaws.com/fcp-indi/data/Projects/ABIDE_Initiative/Outputs/cpac/filt_noglobal/rois_cc200/UCLA_2_0051311_rois_cc200.1D ...\n"
          ]
        },
        {
          "output_type": "stream",
          "name": "stderr",
          "text": [
            " ...done. (0 seconds, 0 min)\n"
          ]
        },
        {
          "output_type": "stream",
          "name": "stdout",
          "text": [
            "Downloading data from https://s3.amazonaws.com/fcp-indi/data/Projects/ABIDE_Initiative/Outputs/cpac/filt_noglobal/rois_cc200/UCLA_2_0051312_rois_cc200.1D ...\n"
          ]
        },
        {
          "output_type": "stream",
          "name": "stderr",
          "text": [
            " ...done. (1 seconds, 0 min)\n"
          ]
        },
        {
          "output_type": "stream",
          "name": "stdout",
          "text": [
            "Downloading data from https://s3.amazonaws.com/fcp-indi/data/Projects/ABIDE_Initiative/Outputs/cpac/filt_noglobal/rois_cc200/UCLA_2_0051313_rois_cc200.1D ...\n"
          ]
        },
        {
          "output_type": "stream",
          "name": "stderr",
          "text": [
            " ...done. (1 seconds, 0 min)\n"
          ]
        },
        {
          "output_type": "stream",
          "name": "stdout",
          "text": [
            "Downloading data from https://s3.amazonaws.com/fcp-indi/data/Projects/ABIDE_Initiative/Outputs/cpac/filt_noglobal/rois_cc200/UCLA_2_0051314_rois_cc200.1D ...\n"
          ]
        },
        {
          "output_type": "stream",
          "name": "stderr",
          "text": [
            " ...done. (1 seconds, 0 min)\n"
          ]
        },
        {
          "output_type": "stream",
          "name": "stdout",
          "text": [
            "Downloading data from https://s3.amazonaws.com/fcp-indi/data/Projects/ABIDE_Initiative/Outputs/cpac/filt_noglobal/rois_cc200/UCLA_2_0051315_rois_cc200.1D ...\n"
          ]
        },
        {
          "output_type": "stream",
          "name": "stderr",
          "text": [
            " ...done. (1 seconds, 0 min)\n"
          ]
        },
        {
          "output_type": "stream",
          "name": "stdout",
          "text": [
            "Downloading data from https://s3.amazonaws.com/fcp-indi/data/Projects/ABIDE_Initiative/Outputs/cpac/filt_noglobal/rois_cc200/UCLA_2_0051316_rois_cc200.1D ...\n"
          ]
        },
        {
          "output_type": "stream",
          "name": "stderr",
          "text": [
            " ...done. (1 seconds, 0 min)\n"
          ]
        },
        {
          "output_type": "stream",
          "name": "stdout",
          "text": [
            "Downloading data from https://s3.amazonaws.com/fcp-indi/data/Projects/ABIDE_Initiative/Outputs/cpac/filt_noglobal/rois_cc200/UCLA_2_0051317_rois_cc200.1D ...\n"
          ]
        },
        {
          "output_type": "stream",
          "name": "stderr",
          "text": [
            " ...done. (1 seconds, 0 min)\n"
          ]
        },
        {
          "output_type": "stream",
          "name": "stdout",
          "text": [
            "Downloading data from https://s3.amazonaws.com/fcp-indi/data/Projects/ABIDE_Initiative/Outputs/cpac/filt_noglobal/rois_cc200/MaxMun_a_0051318_rois_cc200.1D ...\n"
          ]
        },
        {
          "output_type": "stream",
          "name": "stderr",
          "text": [
            " ...done. (0 seconds, 0 min)\n"
          ]
        },
        {
          "output_type": "stream",
          "name": "stdout",
          "text": [
            "Downloading data from https://s3.amazonaws.com/fcp-indi/data/Projects/ABIDE_Initiative/Outputs/cpac/filt_noglobal/rois_cc200/MaxMun_a_0051319_rois_cc200.1D ...\n"
          ]
        },
        {
          "output_type": "stream",
          "name": "stderr",
          "text": [
            " ...done. (1 seconds, 0 min)\n"
          ]
        },
        {
          "output_type": "stream",
          "name": "stdout",
          "text": [
            "Downloading data from https://s3.amazonaws.com/fcp-indi/data/Projects/ABIDE_Initiative/Outputs/cpac/filt_noglobal/rois_cc200/MaxMun_a_0051320_rois_cc200.1D ...\n"
          ]
        },
        {
          "output_type": "stream",
          "name": "stderr",
          "text": [
            " ...done. (1 seconds, 0 min)\n"
          ]
        },
        {
          "output_type": "stream",
          "name": "stdout",
          "text": [
            "Downloading data from https://s3.amazonaws.com/fcp-indi/data/Projects/ABIDE_Initiative/Outputs/cpac/filt_noglobal/rois_cc200/MaxMun_a_0051321_rois_cc200.1D ...\n"
          ]
        },
        {
          "output_type": "stream",
          "name": "stderr",
          "text": [
            " ...done. (1 seconds, 0 min)\n"
          ]
        },
        {
          "output_type": "stream",
          "name": "stdout",
          "text": [
            "Downloading data from https://s3.amazonaws.com/fcp-indi/data/Projects/ABIDE_Initiative/Outputs/cpac/filt_noglobal/rois_cc200/MaxMun_b_0051322_rois_cc200.1D ...\n"
          ]
        },
        {
          "output_type": "stream",
          "name": "stderr",
          "text": [
            " ...done. (1 seconds, 0 min)\n"
          ]
        },
        {
          "output_type": "stream",
          "name": "stdout",
          "text": [
            "Downloading data from https://s3.amazonaws.com/fcp-indi/data/Projects/ABIDE_Initiative/Outputs/cpac/filt_noglobal/rois_cc200/MaxMun_b_0051323_rois_cc200.1D ...\n"
          ]
        },
        {
          "output_type": "stream",
          "name": "stderr",
          "text": [
            " ...done. (1 seconds, 0 min)\n"
          ]
        },
        {
          "output_type": "stream",
          "name": "stdout",
          "text": [
            "Downloading data from https://s3.amazonaws.com/fcp-indi/data/Projects/ABIDE_Initiative/Outputs/cpac/filt_noglobal/rois_cc200/MaxMun_b_0051324_rois_cc200.1D ...\n"
          ]
        },
        {
          "output_type": "stream",
          "name": "stderr",
          "text": [
            " ...done. (1 seconds, 0 min)\n"
          ]
        },
        {
          "output_type": "stream",
          "name": "stdout",
          "text": [
            "Downloading data from https://s3.amazonaws.com/fcp-indi/data/Projects/ABIDE_Initiative/Outputs/cpac/filt_noglobal/rois_cc200/MaxMun_b_0051325_rois_cc200.1D ...\n"
          ]
        },
        {
          "output_type": "stream",
          "name": "stderr",
          "text": [
            " ...done. (1 seconds, 0 min)\n"
          ]
        },
        {
          "output_type": "stream",
          "name": "stdout",
          "text": [
            "Downloading data from https://s3.amazonaws.com/fcp-indi/data/Projects/ABIDE_Initiative/Outputs/cpac/filt_noglobal/rois_cc200/MaxMun_b_0051326_rois_cc200.1D ...\n"
          ]
        },
        {
          "output_type": "stream",
          "name": "stderr",
          "text": [
            " ...done. (1 seconds, 0 min)\n"
          ]
        },
        {
          "output_type": "stream",
          "name": "stdout",
          "text": [
            "Downloading data from https://s3.amazonaws.com/fcp-indi/data/Projects/ABIDE_Initiative/Outputs/cpac/filt_noglobal/rois_cc200/MaxMun_b_0051327_rois_cc200.1D ...\n"
          ]
        },
        {
          "output_type": "stream",
          "name": "stderr",
          "text": [
            " ...done. (1 seconds, 0 min)\n"
          ]
        },
        {
          "output_type": "stream",
          "name": "stdout",
          "text": [
            "Downloading data from https://s3.amazonaws.com/fcp-indi/data/Projects/ABIDE_Initiative/Outputs/cpac/filt_noglobal/rois_cc200/MaxMun_c_0051328_rois_cc200.1D ...\n"
          ]
        },
        {
          "output_type": "stream",
          "name": "stderr",
          "text": [
            " ...done. (1 seconds, 0 min)\n"
          ]
        },
        {
          "output_type": "stream",
          "name": "stdout",
          "text": [
            "Downloading data from https://s3.amazonaws.com/fcp-indi/data/Projects/ABIDE_Initiative/Outputs/cpac/filt_noglobal/rois_cc200/MaxMun_d_0051329_rois_cc200.1D ...\n"
          ]
        },
        {
          "output_type": "stream",
          "name": "stderr",
          "text": [
            " ...done. (1 seconds, 0 min)\n"
          ]
        },
        {
          "output_type": "stream",
          "name": "stdout",
          "text": [
            "Downloading data from https://s3.amazonaws.com/fcp-indi/data/Projects/ABIDE_Initiative/Outputs/cpac/filt_noglobal/rois_cc200/MaxMun_d_0051330_rois_cc200.1D ...\n"
          ]
        },
        {
          "output_type": "stream",
          "name": "stderr",
          "text": [
            " ...done. (1 seconds, 0 min)\n"
          ]
        },
        {
          "output_type": "stream",
          "name": "stdout",
          "text": [
            "Downloading data from https://s3.amazonaws.com/fcp-indi/data/Projects/ABIDE_Initiative/Outputs/cpac/filt_noglobal/rois_cc200/MaxMun_d_0051331_rois_cc200.1D ...\n"
          ]
        },
        {
          "output_type": "stream",
          "name": "stderr",
          "text": [
            " ...done. (1 seconds, 0 min)\n"
          ]
        },
        {
          "output_type": "stream",
          "name": "stdout",
          "text": [
            "Downloading data from https://s3.amazonaws.com/fcp-indi/data/Projects/ABIDE_Initiative/Outputs/cpac/filt_noglobal/rois_cc200/MaxMun_c_0051332_rois_cc200.1D ...\n"
          ]
        },
        {
          "output_type": "stream",
          "name": "stderr",
          "text": [
            " ...done. (1 seconds, 0 min)\n"
          ]
        },
        {
          "output_type": "stream",
          "name": "stdout",
          "text": [
            "Downloading data from https://s3.amazonaws.com/fcp-indi/data/Projects/ABIDE_Initiative/Outputs/cpac/filt_noglobal/rois_cc200/MaxMun_c_0051333_rois_cc200.1D ...\n"
          ]
        },
        {
          "output_type": "stream",
          "name": "stderr",
          "text": [
            " ...done. (1 seconds, 0 min)\n"
          ]
        },
        {
          "output_type": "stream",
          "name": "stdout",
          "text": [
            "Downloading data from https://s3.amazonaws.com/fcp-indi/data/Projects/ABIDE_Initiative/Outputs/cpac/filt_noglobal/rois_cc200/MaxMun_c_0051334_rois_cc200.1D ...\n"
          ]
        },
        {
          "output_type": "stream",
          "name": "stderr",
          "text": [
            " ...done. (1 seconds, 0 min)\n"
          ]
        },
        {
          "output_type": "stream",
          "name": "stdout",
          "text": [
            "Downloading data from https://s3.amazonaws.com/fcp-indi/data/Projects/ABIDE_Initiative/Outputs/cpac/filt_noglobal/rois_cc200/MaxMun_c_0051335_rois_cc200.1D ...\n"
          ]
        },
        {
          "output_type": "stream",
          "name": "stderr",
          "text": [
            " ...done. (1 seconds, 0 min)\n"
          ]
        },
        {
          "output_type": "stream",
          "name": "stdout",
          "text": [
            "Downloading data from https://s3.amazonaws.com/fcp-indi/data/Projects/ABIDE_Initiative/Outputs/cpac/filt_noglobal/rois_cc200/MaxMun_c_0051336_rois_cc200.1D ...\n"
          ]
        },
        {
          "output_type": "stream",
          "name": "stderr",
          "text": [
            " ...done. (1 seconds, 0 min)\n"
          ]
        },
        {
          "output_type": "stream",
          "name": "stdout",
          "text": [
            "Downloading data from https://s3.amazonaws.com/fcp-indi/data/Projects/ABIDE_Initiative/Outputs/cpac/filt_noglobal/rois_cc200/MaxMun_c_0051338_rois_cc200.1D ...\n"
          ]
        },
        {
          "output_type": "stream",
          "name": "stderr",
          "text": [
            " ...done. (1 seconds, 0 min)\n"
          ]
        },
        {
          "output_type": "stream",
          "name": "stdout",
          "text": [
            "Downloading data from https://s3.amazonaws.com/fcp-indi/data/Projects/ABIDE_Initiative/Outputs/cpac/filt_noglobal/rois_cc200/MaxMun_c_0051339_rois_cc200.1D ...\n"
          ]
        },
        {
          "output_type": "stream",
          "name": "stderr",
          "text": [
            " ...done. (1 seconds, 0 min)\n"
          ]
        },
        {
          "output_type": "stream",
          "name": "stdout",
          "text": [
            "Downloading data from https://s3.amazonaws.com/fcp-indi/data/Projects/ABIDE_Initiative/Outputs/cpac/filt_noglobal/rois_cc200/MaxMun_c_0051340_rois_cc200.1D ...\n"
          ]
        },
        {
          "output_type": "stream",
          "name": "stderr",
          "text": [
            " ...done. (1 seconds, 0 min)\n"
          ]
        },
        {
          "output_type": "stream",
          "name": "stdout",
          "text": [
            "Downloading data from https://s3.amazonaws.com/fcp-indi/data/Projects/ABIDE_Initiative/Outputs/cpac/filt_noglobal/rois_cc200/MaxMun_c_0051341_rois_cc200.1D ...\n"
          ]
        },
        {
          "output_type": "stream",
          "name": "stderr",
          "text": [
            " ...done. (1 seconds, 0 min)\n"
          ]
        },
        {
          "output_type": "stream",
          "name": "stdout",
          "text": [
            "Downloading data from https://s3.amazonaws.com/fcp-indi/data/Projects/ABIDE_Initiative/Outputs/cpac/filt_noglobal/rois_cc200/MaxMun_c_0051342_rois_cc200.1D ...\n"
          ]
        },
        {
          "output_type": "stream",
          "name": "stderr",
          "text": [
            " ...done. (1 seconds, 0 min)\n"
          ]
        },
        {
          "output_type": "stream",
          "name": "stdout",
          "text": [
            "Downloading data from https://s3.amazonaws.com/fcp-indi/data/Projects/ABIDE_Initiative/Outputs/cpac/filt_noglobal/rois_cc200/MaxMun_c_0051343_rois_cc200.1D ...\n"
          ]
        },
        {
          "output_type": "stream",
          "name": "stderr",
          "text": [
            " ...done. (1 seconds, 0 min)\n"
          ]
        },
        {
          "output_type": "stream",
          "name": "stdout",
          "text": [
            "Downloading data from https://s3.amazonaws.com/fcp-indi/data/Projects/ABIDE_Initiative/Outputs/cpac/filt_noglobal/rois_cc200/MaxMun_c_0051344_rois_cc200.1D ...\n"
          ]
        },
        {
          "output_type": "stream",
          "name": "stderr",
          "text": [
            " ...done. (1 seconds, 0 min)\n"
          ]
        },
        {
          "output_type": "stream",
          "name": "stdout",
          "text": [
            "Downloading data from https://s3.amazonaws.com/fcp-indi/data/Projects/ABIDE_Initiative/Outputs/cpac/filt_noglobal/rois_cc200/MaxMun_c_0051345_rois_cc200.1D ...\n"
          ]
        },
        {
          "output_type": "stream",
          "name": "stderr",
          "text": [
            " ...done. (1 seconds, 0 min)\n"
          ]
        },
        {
          "output_type": "stream",
          "name": "stdout",
          "text": [
            "Downloading data from https://s3.amazonaws.com/fcp-indi/data/Projects/ABIDE_Initiative/Outputs/cpac/filt_noglobal/rois_cc200/MaxMun_c_0051346_rois_cc200.1D ...\n"
          ]
        },
        {
          "output_type": "stream",
          "name": "stderr",
          "text": [
            " ...done. (0 seconds, 0 min)\n"
          ]
        },
        {
          "output_type": "stream",
          "name": "stdout",
          "text": [
            "Downloading data from https://s3.amazonaws.com/fcp-indi/data/Projects/ABIDE_Initiative/Outputs/cpac/filt_noglobal/rois_cc200/MaxMun_c_0051347_rois_cc200.1D ...\n"
          ]
        },
        {
          "output_type": "stream",
          "name": "stderr",
          "text": [
            " ...done. (1 seconds, 0 min)\n"
          ]
        },
        {
          "output_type": "stream",
          "name": "stdout",
          "text": [
            "Downloading data from https://s3.amazonaws.com/fcp-indi/data/Projects/ABIDE_Initiative/Outputs/cpac/filt_noglobal/rois_cc200/MaxMun_c_0051348_rois_cc200.1D ...\n"
          ]
        },
        {
          "output_type": "stream",
          "name": "stderr",
          "text": [
            " ...done. (1 seconds, 0 min)\n"
          ]
        },
        {
          "output_type": "stream",
          "name": "stdout",
          "text": [
            "Downloading data from https://s3.amazonaws.com/fcp-indi/data/Projects/ABIDE_Initiative/Outputs/cpac/filt_noglobal/rois_cc200/MaxMun_d_0051349_rois_cc200.1D ...\n"
          ]
        },
        {
          "output_type": "stream",
          "name": "stderr",
          "text": [
            " ...done. (1 seconds, 0 min)\n"
          ]
        },
        {
          "output_type": "stream",
          "name": "stdout",
          "text": [
            "Downloading data from https://s3.amazonaws.com/fcp-indi/data/Projects/ABIDE_Initiative/Outputs/cpac/filt_noglobal/rois_cc200/MaxMun_d_0051350_rois_cc200.1D ...\n"
          ]
        },
        {
          "output_type": "stream",
          "name": "stderr",
          "text": [
            " ...done. (1 seconds, 0 min)\n"
          ]
        },
        {
          "output_type": "stream",
          "name": "stdout",
          "text": [
            "Downloading data from https://s3.amazonaws.com/fcp-indi/data/Projects/ABIDE_Initiative/Outputs/cpac/filt_noglobal/rois_cc200/MaxMun_d_0051351_rois_cc200.1D ...\n"
          ]
        },
        {
          "output_type": "stream",
          "name": "stderr",
          "text": [
            " ...done. (1 seconds, 0 min)\n"
          ]
        },
        {
          "output_type": "stream",
          "name": "stdout",
          "text": [
            "Downloading data from https://s3.amazonaws.com/fcp-indi/data/Projects/ABIDE_Initiative/Outputs/cpac/filt_noglobal/rois_cc200/MaxMun_d_0051352_rois_cc200.1D ...\n"
          ]
        },
        {
          "output_type": "stream",
          "name": "stderr",
          "text": [
            " ...done. (1 seconds, 0 min)\n"
          ]
        },
        {
          "output_type": "stream",
          "name": "stdout",
          "text": [
            "Downloading data from https://s3.amazonaws.com/fcp-indi/data/Projects/ABIDE_Initiative/Outputs/cpac/filt_noglobal/rois_cc200/MaxMun_d_0051353_rois_cc200.1D ...\n"
          ]
        },
        {
          "output_type": "stream",
          "name": "stderr",
          "text": [
            " ...done. (1 seconds, 0 min)\n"
          ]
        },
        {
          "output_type": "stream",
          "name": "stdout",
          "text": [
            "Downloading data from https://s3.amazonaws.com/fcp-indi/data/Projects/ABIDE_Initiative/Outputs/cpac/filt_noglobal/rois_cc200/MaxMun_d_0051354_rois_cc200.1D ...\n"
          ]
        },
        {
          "output_type": "stream",
          "name": "stderr",
          "text": [
            " ...done. (1 seconds, 0 min)\n"
          ]
        },
        {
          "output_type": "stream",
          "name": "stdout",
          "text": [
            "Downloading data from https://s3.amazonaws.com/fcp-indi/data/Projects/ABIDE_Initiative/Outputs/cpac/filt_noglobal/rois_cc200/MaxMun_d_0051355_rois_cc200.1D ...\n"
          ]
        },
        {
          "output_type": "stream",
          "name": "stderr",
          "text": [
            " ...done. (1 seconds, 0 min)\n"
          ]
        },
        {
          "output_type": "stream",
          "name": "stdout",
          "text": [
            "Downloading data from https://s3.amazonaws.com/fcp-indi/data/Projects/ABIDE_Initiative/Outputs/cpac/filt_noglobal/rois_cc200/MaxMun_d_0051356_rois_cc200.1D ...\n"
          ]
        },
        {
          "output_type": "stream",
          "name": "stderr",
          "text": [
            " ...done. (1 seconds, 0 min)\n"
          ]
        },
        {
          "output_type": "stream",
          "name": "stdout",
          "text": [
            "Downloading data from https://s3.amazonaws.com/fcp-indi/data/Projects/ABIDE_Initiative/Outputs/cpac/filt_noglobal/rois_cc200/MaxMun_d_0051357_rois_cc200.1D ...\n"
          ]
        },
        {
          "output_type": "stream",
          "name": "stderr",
          "text": [
            " ...done. (1 seconds, 0 min)\n"
          ]
        },
        {
          "output_type": "stream",
          "name": "stdout",
          "text": [
            "Downloading data from https://s3.amazonaws.com/fcp-indi/data/Projects/ABIDE_Initiative/Outputs/cpac/filt_noglobal/rois_cc200/MaxMun_d_0051358_rois_cc200.1D ...\n"
          ]
        },
        {
          "output_type": "stream",
          "name": "stderr",
          "text": [
            " ...done. (1 seconds, 0 min)\n"
          ]
        },
        {
          "output_type": "stream",
          "name": "stdout",
          "text": [
            "Downloading data from https://s3.amazonaws.com/fcp-indi/data/Projects/ABIDE_Initiative/Outputs/cpac/filt_noglobal/rois_cc200/MaxMun_d_0051359_rois_cc200.1D ...\n"
          ]
        },
        {
          "output_type": "stream",
          "name": "stderr",
          "text": [
            " ...done. (1 seconds, 0 min)\n"
          ]
        },
        {
          "output_type": "stream",
          "name": "stdout",
          "text": [
            "Downloading data from https://s3.amazonaws.com/fcp-indi/data/Projects/ABIDE_Initiative/Outputs/cpac/filt_noglobal/rois_cc200/MaxMun_d_0051360_rois_cc200.1D ...\n"
          ]
        },
        {
          "output_type": "stream",
          "name": "stderr",
          "text": [
            " ...done. (1 seconds, 0 min)\n"
          ]
        },
        {
          "output_type": "stream",
          "name": "stdout",
          "text": [
            "Downloading data from https://s3.amazonaws.com/fcp-indi/data/Projects/ABIDE_Initiative/Outputs/cpac/filt_noglobal/rois_cc200/MaxMun_d_0051361_rois_cc200.1D ...\n"
          ]
        },
        {
          "output_type": "stream",
          "name": "stderr",
          "text": [
            " ...done. (1 seconds, 0 min)\n"
          ]
        },
        {
          "output_type": "stream",
          "name": "stdout",
          "text": [
            "Downloading data from https://s3.amazonaws.com/fcp-indi/data/Projects/ABIDE_Initiative/Outputs/cpac/filt_noglobal/rois_cc200/MaxMun_a_0051362_rois_cc200.1D ...\n"
          ]
        },
        {
          "output_type": "stream",
          "name": "stderr",
          "text": [
            " ...done. (1 seconds, 0 min)\n"
          ]
        },
        {
          "output_type": "stream",
          "name": "stdout",
          "text": [
            "Downloading data from https://s3.amazonaws.com/fcp-indi/data/Projects/ABIDE_Initiative/Outputs/cpac/filt_noglobal/rois_cc200/MaxMun_a_0051363_rois_cc200.1D ...\n"
          ]
        },
        {
          "output_type": "stream",
          "name": "stderr",
          "text": [
            " ...done. (1 seconds, 0 min)\n"
          ]
        },
        {
          "output_type": "stream",
          "name": "stdout",
          "text": [
            "Downloading data from https://s3.amazonaws.com/fcp-indi/data/Projects/ABIDE_Initiative/Outputs/cpac/filt_noglobal/rois_cc200/MaxMun_a_0051364_rois_cc200.1D ...\n"
          ]
        },
        {
          "output_type": "stream",
          "name": "stderr",
          "text": [
            " ...done. (1 seconds, 0 min)\n"
          ]
        },
        {
          "output_type": "stream",
          "name": "stdout",
          "text": [
            "Downloading data from https://s3.amazonaws.com/fcp-indi/data/Projects/ABIDE_Initiative/Outputs/cpac/filt_noglobal/rois_cc200/MaxMun_a_0051365_rois_cc200.1D ...\n"
          ]
        },
        {
          "output_type": "stream",
          "name": "stderr",
          "text": [
            " ...done. (1 seconds, 0 min)\n"
          ]
        },
        {
          "output_type": "stream",
          "name": "stdout",
          "text": [
            "Downloading data from https://s3.amazonaws.com/fcp-indi/data/Projects/ABIDE_Initiative/Outputs/cpac/filt_noglobal/rois_cc200/MaxMun_a_0051369_rois_cc200.1D ...\n"
          ]
        },
        {
          "output_type": "stream",
          "name": "stderr",
          "text": [
            " ...done. (1 seconds, 0 min)\n"
          ]
        },
        {
          "output_type": "stream",
          "name": "stdout",
          "text": [
            "Downloading data from https://s3.amazonaws.com/fcp-indi/data/Projects/ABIDE_Initiative/Outputs/cpac/filt_noglobal/rois_cc200/MaxMun_a_0051370_rois_cc200.1D ...\n"
          ]
        },
        {
          "output_type": "stream",
          "name": "stderr",
          "text": [
            " ...done. (1 seconds, 0 min)\n"
          ]
        },
        {
          "output_type": "stream",
          "name": "stdout",
          "text": [
            "Downloading data from https://s3.amazonaws.com/fcp-indi/data/Projects/ABIDE_Initiative/Outputs/cpac/filt_noglobal/rois_cc200/MaxMun_a_0051373_rois_cc200.1D ...\n"
          ]
        },
        {
          "output_type": "stream",
          "name": "stderr",
          "text": [
            " ...done. (1 seconds, 0 min)\n"
          ]
        },
        {
          "output_type": "stream",
          "name": "stdout",
          "text": [
            "Downloading data from https://s3.amazonaws.com/fcp-indi/data/Projects/ABIDE_Initiative/Outputs/cpac/filt_noglobal/rois_cc200/Caltech_0051456_rois_cc200.1D ...\n"
          ]
        },
        {
          "output_type": "stream",
          "name": "stderr",
          "text": [
            " ...done. (1 seconds, 0 min)\n"
          ]
        },
        {
          "output_type": "stream",
          "name": "stdout",
          "text": [
            "Downloading data from https://s3.amazonaws.com/fcp-indi/data/Projects/ABIDE_Initiative/Outputs/cpac/filt_noglobal/rois_cc200/Caltech_0051457_rois_cc200.1D ...\n"
          ]
        },
        {
          "output_type": "stream",
          "name": "stderr",
          "text": [
            " ...done. (1 seconds, 0 min)\n"
          ]
        },
        {
          "output_type": "stream",
          "name": "stdout",
          "text": [
            "Downloading data from https://s3.amazonaws.com/fcp-indi/data/Projects/ABIDE_Initiative/Outputs/cpac/filt_noglobal/rois_cc200/Caltech_0051458_rois_cc200.1D ...\n"
          ]
        },
        {
          "output_type": "stream",
          "name": "stderr",
          "text": [
            " ...done. (1 seconds, 0 min)\n"
          ]
        },
        {
          "output_type": "stream",
          "name": "stdout",
          "text": [
            "Downloading data from https://s3.amazonaws.com/fcp-indi/data/Projects/ABIDE_Initiative/Outputs/cpac/filt_noglobal/rois_cc200/Caltech_0051459_rois_cc200.1D ...\n"
          ]
        },
        {
          "output_type": "stream",
          "name": "stderr",
          "text": [
            " ...done. (1 seconds, 0 min)\n"
          ]
        },
        {
          "output_type": "stream",
          "name": "stdout",
          "text": [
            "Downloading data from https://s3.amazonaws.com/fcp-indi/data/Projects/ABIDE_Initiative/Outputs/cpac/filt_noglobal/rois_cc200/Caltech_0051460_rois_cc200.1D ...\n"
          ]
        },
        {
          "output_type": "stream",
          "name": "stderr",
          "text": [
            " ...done. (1 seconds, 0 min)\n"
          ]
        },
        {
          "output_type": "stream",
          "name": "stdout",
          "text": [
            "Downloading data from https://s3.amazonaws.com/fcp-indi/data/Projects/ABIDE_Initiative/Outputs/cpac/filt_noglobal/rois_cc200/Caltech_0051461_rois_cc200.1D ...\n"
          ]
        },
        {
          "output_type": "stream",
          "name": "stderr",
          "text": [
            " ...done. (1 seconds, 0 min)\n"
          ]
        },
        {
          "output_type": "stream",
          "name": "stdout",
          "text": [
            "Downloading data from https://s3.amazonaws.com/fcp-indi/data/Projects/ABIDE_Initiative/Outputs/cpac/filt_noglobal/rois_cc200/Caltech_0051462_rois_cc200.1D ...\n"
          ]
        },
        {
          "output_type": "stream",
          "name": "stderr",
          "text": [
            " ...done. (1 seconds, 0 min)\n"
          ]
        },
        {
          "output_type": "stream",
          "name": "stdout",
          "text": [
            "Downloading data from https://s3.amazonaws.com/fcp-indi/data/Projects/ABIDE_Initiative/Outputs/cpac/filt_noglobal/rois_cc200/Caltech_0051463_rois_cc200.1D ...\n"
          ]
        },
        {
          "output_type": "stream",
          "name": "stderr",
          "text": [
            " ...done. (1 seconds, 0 min)\n"
          ]
        },
        {
          "output_type": "stream",
          "name": "stdout",
          "text": [
            "Downloading data from https://s3.amazonaws.com/fcp-indi/data/Projects/ABIDE_Initiative/Outputs/cpac/filt_noglobal/rois_cc200/Caltech_0051464_rois_cc200.1D ...\n"
          ]
        },
        {
          "output_type": "stream",
          "name": "stderr",
          "text": [
            " ...done. (1 seconds, 0 min)\n"
          ]
        },
        {
          "output_type": "stream",
          "name": "stdout",
          "text": [
            "Downloading data from https://s3.amazonaws.com/fcp-indi/data/Projects/ABIDE_Initiative/Outputs/cpac/filt_noglobal/rois_cc200/Caltech_0051465_rois_cc200.1D ...\n"
          ]
        },
        {
          "output_type": "stream",
          "name": "stderr",
          "text": [
            " ...done. (1 seconds, 0 min)\n"
          ]
        },
        {
          "output_type": "stream",
          "name": "stdout",
          "text": [
            "Downloading data from https://s3.amazonaws.com/fcp-indi/data/Projects/ABIDE_Initiative/Outputs/cpac/filt_noglobal/rois_cc200/Caltech_0051466_rois_cc200.1D ...\n"
          ]
        },
        {
          "output_type": "stream",
          "name": "stderr",
          "text": [
            " ...done. (1 seconds, 0 min)\n"
          ]
        },
        {
          "output_type": "stream",
          "name": "stdout",
          "text": [
            "Downloading data from https://s3.amazonaws.com/fcp-indi/data/Projects/ABIDE_Initiative/Outputs/cpac/filt_noglobal/rois_cc200/Caltech_0051467_rois_cc200.1D ...\n"
          ]
        },
        {
          "output_type": "stream",
          "name": "stderr",
          "text": [
            " ...done. (1 seconds, 0 min)\n"
          ]
        },
        {
          "output_type": "stream",
          "name": "stdout",
          "text": [
            "Downloading data from https://s3.amazonaws.com/fcp-indi/data/Projects/ABIDE_Initiative/Outputs/cpac/filt_noglobal/rois_cc200/Caltech_0051468_rois_cc200.1D ...\n"
          ]
        },
        {
          "output_type": "stream",
          "name": "stderr",
          "text": [
            " ...done. (0 seconds, 0 min)\n"
          ]
        },
        {
          "output_type": "stream",
          "name": "stdout",
          "text": [
            "Downloading data from https://s3.amazonaws.com/fcp-indi/data/Projects/ABIDE_Initiative/Outputs/cpac/filt_noglobal/rois_cc200/Caltech_0051469_rois_cc200.1D ...\n"
          ]
        },
        {
          "output_type": "stream",
          "name": "stderr",
          "text": [
            " ...done. (1 seconds, 0 min)\n"
          ]
        },
        {
          "output_type": "stream",
          "name": "stdout",
          "text": [
            "Downloading data from https://s3.amazonaws.com/fcp-indi/data/Projects/ABIDE_Initiative/Outputs/cpac/filt_noglobal/rois_cc200/Caltech_0051470_rois_cc200.1D ...\n"
          ]
        },
        {
          "output_type": "stream",
          "name": "stderr",
          "text": [
            " ...done. (1 seconds, 0 min)\n"
          ]
        },
        {
          "output_type": "stream",
          "name": "stdout",
          "text": [
            "Downloading data from https://s3.amazonaws.com/fcp-indi/data/Projects/ABIDE_Initiative/Outputs/cpac/filt_noglobal/rois_cc200/Caltech_0051471_rois_cc200.1D ...\n"
          ]
        },
        {
          "output_type": "stream",
          "name": "stderr",
          "text": [
            " ...done. (1 seconds, 0 min)\n"
          ]
        },
        {
          "output_type": "stream",
          "name": "stdout",
          "text": [
            "Downloading data from https://s3.amazonaws.com/fcp-indi/data/Projects/ABIDE_Initiative/Outputs/cpac/filt_noglobal/rois_cc200/Caltech_0051472_rois_cc200.1D ...\n"
          ]
        },
        {
          "output_type": "stream",
          "name": "stderr",
          "text": [
            " ...done. (1 seconds, 0 min)\n"
          ]
        },
        {
          "output_type": "stream",
          "name": "stdout",
          "text": [
            "Downloading data from https://s3.amazonaws.com/fcp-indi/data/Projects/ABIDE_Initiative/Outputs/cpac/filt_noglobal/rois_cc200/Caltech_0051473_rois_cc200.1D ...\n"
          ]
        },
        {
          "output_type": "stream",
          "name": "stderr",
          "text": [
            " ...done. (1 seconds, 0 min)\n"
          ]
        },
        {
          "output_type": "stream",
          "name": "stdout",
          "text": [
            "Downloading data from https://s3.amazonaws.com/fcp-indi/data/Projects/ABIDE_Initiative/Outputs/cpac/filt_noglobal/rois_cc200/Caltech_0051474_rois_cc200.1D ...\n"
          ]
        },
        {
          "output_type": "stream",
          "name": "stderr",
          "text": [
            " ...done. (1 seconds, 0 min)\n"
          ]
        },
        {
          "output_type": "stream",
          "name": "stdout",
          "text": [
            "Downloading data from https://s3.amazonaws.com/fcp-indi/data/Projects/ABIDE_Initiative/Outputs/cpac/filt_noglobal/rois_cc200/Caltech_0051476_rois_cc200.1D ...\n"
          ]
        },
        {
          "output_type": "stream",
          "name": "stderr",
          "text": [
            " ...done. (1 seconds, 0 min)\n"
          ]
        },
        {
          "output_type": "stream",
          "name": "stdout",
          "text": [
            "Downloading data from https://s3.amazonaws.com/fcp-indi/data/Projects/ABIDE_Initiative/Outputs/cpac/filt_noglobal/rois_cc200/Caltech_0051477_rois_cc200.1D ...\n"
          ]
        },
        {
          "output_type": "stream",
          "name": "stderr",
          "text": [
            " ...done. (1 seconds, 0 min)\n"
          ]
        },
        {
          "output_type": "stream",
          "name": "stdout",
          "text": [
            "Downloading data from https://s3.amazonaws.com/fcp-indi/data/Projects/ABIDE_Initiative/Outputs/cpac/filt_noglobal/rois_cc200/Caltech_0051478_rois_cc200.1D ...\n"
          ]
        },
        {
          "output_type": "stream",
          "name": "stderr",
          "text": [
            " ...done. (1 seconds, 0 min)\n"
          ]
        },
        {
          "output_type": "stream",
          "name": "stdout",
          "text": [
            "Downloading data from https://s3.amazonaws.com/fcp-indi/data/Projects/ABIDE_Initiative/Outputs/cpac/filt_noglobal/rois_cc200/Caltech_0051479_rois_cc200.1D ...\n"
          ]
        },
        {
          "output_type": "stream",
          "name": "stderr",
          "text": [
            " ...done. (1 seconds, 0 min)\n"
          ]
        },
        {
          "output_type": "stream",
          "name": "stdout",
          "text": [
            "Downloading data from https://s3.amazonaws.com/fcp-indi/data/Projects/ABIDE_Initiative/Outputs/cpac/filt_noglobal/rois_cc200/Caltech_0051480_rois_cc200.1D ...\n"
          ]
        },
        {
          "output_type": "stream",
          "name": "stderr",
          "text": [
            " ...done. (1 seconds, 0 min)\n"
          ]
        },
        {
          "output_type": "stream",
          "name": "stdout",
          "text": [
            "Downloading data from https://s3.amazonaws.com/fcp-indi/data/Projects/ABIDE_Initiative/Outputs/cpac/filt_noglobal/rois_cc200/Caltech_0051481_rois_cc200.1D ...\n"
          ]
        },
        {
          "output_type": "stream",
          "name": "stderr",
          "text": [
            " ...done. (1 seconds, 0 min)\n"
          ]
        },
        {
          "output_type": "stream",
          "name": "stdout",
          "text": [
            "Downloading data from https://s3.amazonaws.com/fcp-indi/data/Projects/ABIDE_Initiative/Outputs/cpac/filt_noglobal/rois_cc200/Caltech_0051482_rois_cc200.1D ...\n"
          ]
        },
        {
          "output_type": "stream",
          "name": "stderr",
          "text": [
            " ...done. (1 seconds, 0 min)\n"
          ]
        },
        {
          "output_type": "stream",
          "name": "stdout",
          "text": [
            "Downloading data from https://s3.amazonaws.com/fcp-indi/data/Projects/ABIDE_Initiative/Outputs/cpac/filt_noglobal/rois_cc200/Caltech_0051483_rois_cc200.1D ...\n"
          ]
        },
        {
          "output_type": "stream",
          "name": "stderr",
          "text": [
            " ...done. (1 seconds, 0 min)\n"
          ]
        },
        {
          "output_type": "stream",
          "name": "stdout",
          "text": [
            "Downloading data from https://s3.amazonaws.com/fcp-indi/data/Projects/ABIDE_Initiative/Outputs/cpac/filt_noglobal/rois_cc200/Caltech_0051484_rois_cc200.1D ...\n"
          ]
        },
        {
          "output_type": "stream",
          "name": "stderr",
          "text": [
            " ...done. (1 seconds, 0 min)\n"
          ]
        },
        {
          "output_type": "stream",
          "name": "stdout",
          "text": [
            "Downloading data from https://s3.amazonaws.com/fcp-indi/data/Projects/ABIDE_Initiative/Outputs/cpac/filt_noglobal/rois_cc200/Caltech_0051485_rois_cc200.1D ...\n"
          ]
        },
        {
          "output_type": "stream",
          "name": "stderr",
          "text": [
            " ...done. (1 seconds, 0 min)\n"
          ]
        },
        {
          "output_type": "stream",
          "name": "stdout",
          "text": [
            "Downloading data from https://s3.amazonaws.com/fcp-indi/data/Projects/ABIDE_Initiative/Outputs/cpac/filt_noglobal/rois_cc200/Caltech_0051486_rois_cc200.1D ...\n"
          ]
        },
        {
          "output_type": "stream",
          "name": "stderr",
          "text": [
            " ...done. (1 seconds, 0 min)\n"
          ]
        },
        {
          "output_type": "stream",
          "name": "stdout",
          "text": [
            "Downloading data from https://s3.amazonaws.com/fcp-indi/data/Projects/ABIDE_Initiative/Outputs/cpac/filt_noglobal/rois_cc200/Caltech_0051487_rois_cc200.1D ...\n"
          ]
        },
        {
          "output_type": "stream",
          "name": "stderr",
          "text": [
            " ...done. (1 seconds, 0 min)\n"
          ]
        },
        {
          "output_type": "stream",
          "name": "stdout",
          "text": [
            "Downloading data from https://s3.amazonaws.com/fcp-indi/data/Projects/ABIDE_Initiative/Outputs/cpac/filt_noglobal/rois_cc200/Caltech_0051488_rois_cc200.1D ...\n"
          ]
        },
        {
          "output_type": "stream",
          "name": "stderr",
          "text": [
            " ...done. (1 seconds, 0 min)\n"
          ]
        },
        {
          "output_type": "stream",
          "name": "stdout",
          "text": [
            "Downloading data from https://s3.amazonaws.com/fcp-indi/data/Projects/ABIDE_Initiative/Outputs/cpac/filt_noglobal/rois_cc200/Caltech_0051489_rois_cc200.1D ...\n"
          ]
        },
        {
          "output_type": "stream",
          "name": "stderr",
          "text": [
            " ...done. (1 seconds, 0 min)\n"
          ]
        },
        {
          "output_type": "stream",
          "name": "stdout",
          "text": [
            "Downloading data from https://s3.amazonaws.com/fcp-indi/data/Projects/ABIDE_Initiative/Outputs/cpac/filt_noglobal/rois_cc200/Caltech_0051490_rois_cc200.1D ...\n"
          ]
        },
        {
          "output_type": "stream",
          "name": "stderr",
          "text": [
            " ...done. (1 seconds, 0 min)\n"
          ]
        },
        {
          "output_type": "stream",
          "name": "stdout",
          "text": [
            "Downloading data from https://s3.amazonaws.com/fcp-indi/data/Projects/ABIDE_Initiative/Outputs/cpac/filt_noglobal/rois_cc200/Caltech_0051491_rois_cc200.1D ...\n"
          ]
        },
        {
          "output_type": "stream",
          "name": "stderr",
          "text": [
            " ...done. (1 seconds, 0 min)\n"
          ]
        },
        {
          "output_type": "stream",
          "name": "stdout",
          "text": [
            "Downloading data from https://s3.amazonaws.com/fcp-indi/data/Projects/ABIDE_Initiative/Outputs/cpac/filt_noglobal/rois_cc200/Caltech_0051492_rois_cc200.1D ...\n"
          ]
        },
        {
          "output_type": "stream",
          "name": "stderr",
          "text": [
            " ...done. (1 seconds, 0 min)\n"
          ]
        },
        {
          "output_type": "stream",
          "name": "stdout",
          "text": [
            "Downloading data from https://s3.amazonaws.com/fcp-indi/data/Projects/ABIDE_Initiative/Outputs/cpac/filt_noglobal/rois_cc200/Caltech_0051493_rois_cc200.1D ...\n"
          ]
        },
        {
          "output_type": "stream",
          "name": "stderr",
          "text": [
            " ...done. (1 seconds, 0 min)\n"
          ]
        },
        {
          "output_type": "stream",
          "name": "stdout",
          "text": [
            "Downloading data from https://s3.amazonaws.com/fcp-indi/data/Projects/ABIDE_Initiative/Outputs/cpac/filt_noglobal/rois_cc200/SBL_0051556_rois_cc200.1D ...\n"
          ]
        },
        {
          "output_type": "stream",
          "name": "stderr",
          "text": [
            " ...done. (1 seconds, 0 min)\n"
          ]
        },
        {
          "output_type": "stream",
          "name": "stdout",
          "text": [
            "Downloading data from https://s3.amazonaws.com/fcp-indi/data/Projects/ABIDE_Initiative/Outputs/cpac/filt_noglobal/rois_cc200/SBL_0051557_rois_cc200.1D ...\n"
          ]
        },
        {
          "output_type": "stream",
          "name": "stderr",
          "text": [
            " ...done. (1 seconds, 0 min)\n"
          ]
        },
        {
          "output_type": "stream",
          "name": "stdout",
          "text": [
            "Downloading data from https://s3.amazonaws.com/fcp-indi/data/Projects/ABIDE_Initiative/Outputs/cpac/filt_noglobal/rois_cc200/SBL_0051558_rois_cc200.1D ...\n"
          ]
        },
        {
          "output_type": "stream",
          "name": "stderr",
          "text": [
            " ...done. (1 seconds, 0 min)\n"
          ]
        },
        {
          "output_type": "stream",
          "name": "stdout",
          "text": [
            "Downloading data from https://s3.amazonaws.com/fcp-indi/data/Projects/ABIDE_Initiative/Outputs/cpac/filt_noglobal/rois_cc200/SBL_0051559_rois_cc200.1D ...\n"
          ]
        },
        {
          "output_type": "stream",
          "name": "stderr",
          "text": [
            " ...done. (1 seconds, 0 min)\n"
          ]
        },
        {
          "output_type": "stream",
          "name": "stdout",
          "text": [
            "Downloading data from https://s3.amazonaws.com/fcp-indi/data/Projects/ABIDE_Initiative/Outputs/cpac/filt_noglobal/rois_cc200/SBL_0051560_rois_cc200.1D ...\n"
          ]
        },
        {
          "output_type": "stream",
          "name": "stderr",
          "text": [
            " ...done. (1 seconds, 0 min)\n"
          ]
        },
        {
          "output_type": "stream",
          "name": "stdout",
          "text": [
            "Downloading data from https://s3.amazonaws.com/fcp-indi/data/Projects/ABIDE_Initiative/Outputs/cpac/filt_noglobal/rois_cc200/SBL_0051561_rois_cc200.1D ...\n"
          ]
        },
        {
          "output_type": "stream",
          "name": "stderr",
          "text": [
            " ...done. (1 seconds, 0 min)\n"
          ]
        },
        {
          "output_type": "stream",
          "name": "stdout",
          "text": [
            "Downloading data from https://s3.amazonaws.com/fcp-indi/data/Projects/ABIDE_Initiative/Outputs/cpac/filt_noglobal/rois_cc200/SBL_0051562_rois_cc200.1D ...\n"
          ]
        },
        {
          "output_type": "stream",
          "name": "stderr",
          "text": [
            " ...done. (1 seconds, 0 min)\n"
          ]
        },
        {
          "output_type": "stream",
          "name": "stdout",
          "text": [
            "Downloading data from https://s3.amazonaws.com/fcp-indi/data/Projects/ABIDE_Initiative/Outputs/cpac/filt_noglobal/rois_cc200/SBL_0051563_rois_cc200.1D ...\n"
          ]
        },
        {
          "output_type": "stream",
          "name": "stderr",
          "text": [
            " ...done. (1 seconds, 0 min)\n"
          ]
        },
        {
          "output_type": "stream",
          "name": "stdout",
          "text": [
            "Downloading data from https://s3.amazonaws.com/fcp-indi/data/Projects/ABIDE_Initiative/Outputs/cpac/filt_noglobal/rois_cc200/SBL_0051564_rois_cc200.1D ...\n"
          ]
        },
        {
          "output_type": "stream",
          "name": "stderr",
          "text": [
            " ...done. (1 seconds, 0 min)\n"
          ]
        },
        {
          "output_type": "stream",
          "name": "stdout",
          "text": [
            "Downloading data from https://s3.amazonaws.com/fcp-indi/data/Projects/ABIDE_Initiative/Outputs/cpac/filt_noglobal/rois_cc200/SBL_0051565_rois_cc200.1D ...\n"
          ]
        },
        {
          "output_type": "stream",
          "name": "stderr",
          "text": [
            " ...done. (1 seconds, 0 min)\n"
          ]
        },
        {
          "output_type": "stream",
          "name": "stdout",
          "text": [
            "Downloading data from https://s3.amazonaws.com/fcp-indi/data/Projects/ABIDE_Initiative/Outputs/cpac/filt_noglobal/rois_cc200/SBL_0051566_rois_cc200.1D ...\n"
          ]
        },
        {
          "output_type": "stream",
          "name": "stderr",
          "text": [
            " ...done. (1 seconds, 0 min)\n"
          ]
        },
        {
          "output_type": "stream",
          "name": "stdout",
          "text": [
            "Downloading data from https://s3.amazonaws.com/fcp-indi/data/Projects/ABIDE_Initiative/Outputs/cpac/filt_noglobal/rois_cc200/SBL_0051567_rois_cc200.1D ...\n"
          ]
        },
        {
          "output_type": "stream",
          "name": "stderr",
          "text": [
            " ...done. (1 seconds, 0 min)\n"
          ]
        },
        {
          "output_type": "stream",
          "name": "stdout",
          "text": [
            "Downloading data from https://s3.amazonaws.com/fcp-indi/data/Projects/ABIDE_Initiative/Outputs/cpac/filt_noglobal/rois_cc200/SBL_0051568_rois_cc200.1D ...\n"
          ]
        },
        {
          "output_type": "stream",
          "name": "stderr",
          "text": [
            " ...done. (1 seconds, 0 min)\n"
          ]
        },
        {
          "output_type": "stream",
          "name": "stdout",
          "text": [
            "Downloading data from https://s3.amazonaws.com/fcp-indi/data/Projects/ABIDE_Initiative/Outputs/cpac/filt_noglobal/rois_cc200/SBL_0051569_rois_cc200.1D ...\n"
          ]
        },
        {
          "output_type": "stream",
          "name": "stderr",
          "text": [
            " ...done. (1 seconds, 0 min)\n"
          ]
        },
        {
          "output_type": "stream",
          "name": "stdout",
          "text": [
            "Downloading data from https://s3.amazonaws.com/fcp-indi/data/Projects/ABIDE_Initiative/Outputs/cpac/filt_noglobal/rois_cc200/SBL_0051570_rois_cc200.1D ...\n"
          ]
        },
        {
          "output_type": "stream",
          "name": "stderr",
          "text": [
            " ...done. (1 seconds, 0 min)\n"
          ]
        },
        {
          "output_type": "stream",
          "name": "stdout",
          "text": [
            "Downloading data from https://s3.amazonaws.com/fcp-indi/data/Projects/ABIDE_Initiative/Outputs/cpac/filt_noglobal/rois_cc200/SBL_0051571_rois_cc200.1D ...\n"
          ]
        },
        {
          "output_type": "stream",
          "name": "stderr",
          "text": [
            " ...done. (1 seconds, 0 min)\n"
          ]
        },
        {
          "output_type": "stream",
          "name": "stdout",
          "text": [
            "Downloading data from https://s3.amazonaws.com/fcp-indi/data/Projects/ABIDE_Initiative/Outputs/cpac/filt_noglobal/rois_cc200/SBL_0051572_rois_cc200.1D ...\n"
          ]
        },
        {
          "output_type": "stream",
          "name": "stderr",
          "text": [
            " ...done. (1 seconds, 0 min)\n"
          ]
        },
        {
          "output_type": "stream",
          "name": "stdout",
          "text": [
            "Downloading data from https://s3.amazonaws.com/fcp-indi/data/Projects/ABIDE_Initiative/Outputs/cpac/filt_noglobal/rois_cc200/SBL_0051573_rois_cc200.1D ...\n"
          ]
        },
        {
          "output_type": "stream",
          "name": "stderr",
          "text": [
            " ...done. (1 seconds, 0 min)\n"
          ]
        },
        {
          "output_type": "stream",
          "name": "stdout",
          "text": [
            "Downloading data from https://s3.amazonaws.com/fcp-indi/data/Projects/ABIDE_Initiative/Outputs/cpac/filt_noglobal/rois_cc200/SBL_0051574_rois_cc200.1D ...\n"
          ]
        },
        {
          "output_type": "stream",
          "name": "stderr",
          "text": [
            " ...done. (1 seconds, 0 min)\n"
          ]
        },
        {
          "output_type": "stream",
          "name": "stdout",
          "text": [
            "Downloading data from https://s3.amazonaws.com/fcp-indi/data/Projects/ABIDE_Initiative/Outputs/cpac/filt_noglobal/rois_cc200/SBL_0051575_rois_cc200.1D ...\n"
          ]
        },
        {
          "output_type": "stream",
          "name": "stderr",
          "text": [
            " ...done. (1 seconds, 0 min)\n"
          ]
        },
        {
          "output_type": "stream",
          "name": "stdout",
          "text": [
            "Downloading data from https://s3.amazonaws.com/fcp-indi/data/Projects/ABIDE_Initiative/Outputs/cpac/filt_noglobal/rois_cc200/SBL_0051576_rois_cc200.1D ...\n"
          ]
        },
        {
          "output_type": "stream",
          "name": "stderr",
          "text": [
            " ...done. (1 seconds, 0 min)\n"
          ]
        },
        {
          "output_type": "stream",
          "name": "stdout",
          "text": [
            "Downloading data from https://s3.amazonaws.com/fcp-indi/data/Projects/ABIDE_Initiative/Outputs/cpac/filt_noglobal/rois_cc200/SBL_0051577_rois_cc200.1D ...\n"
          ]
        },
        {
          "output_type": "stream",
          "name": "stderr",
          "text": [
            " ...done. (1 seconds, 0 min)\n"
          ]
        },
        {
          "output_type": "stream",
          "name": "stdout",
          "text": [
            "Downloading data from https://s3.amazonaws.com/fcp-indi/data/Projects/ABIDE_Initiative/Outputs/cpac/filt_noglobal/rois_cc200/SBL_0051578_rois_cc200.1D ...\n"
          ]
        },
        {
          "output_type": "stream",
          "name": "stderr",
          "text": [
            " ...done. (1 seconds, 0 min)\n"
          ]
        },
        {
          "output_type": "stream",
          "name": "stdout",
          "text": [
            "Downloading data from https://s3.amazonaws.com/fcp-indi/data/Projects/ABIDE_Initiative/Outputs/cpac/filt_noglobal/rois_cc200/SBL_0051579_rois_cc200.1D ...\n"
          ]
        },
        {
          "output_type": "stream",
          "name": "stderr",
          "text": [
            " ...done. (1 seconds, 0 min)\n"
          ]
        },
        {
          "output_type": "stream",
          "name": "stdout",
          "text": [
            "Downloading data from https://s3.amazonaws.com/fcp-indi/data/Projects/ABIDE_Initiative/Outputs/cpac/filt_noglobal/rois_cc200/SBL_0051580_rois_cc200.1D ...\n"
          ]
        },
        {
          "output_type": "stream",
          "name": "stderr",
          "text": [
            " ...done. (1 seconds, 0 min)\n"
          ]
        },
        {
          "output_type": "stream",
          "name": "stdout",
          "text": [
            "Downloading data from https://s3.amazonaws.com/fcp-indi/data/Projects/ABIDE_Initiative/Outputs/cpac/filt_noglobal/rois_cc200/SBL_0051581_rois_cc200.1D ...\n"
          ]
        },
        {
          "output_type": "stream",
          "name": "stderr",
          "text": [
            " ...done. (1 seconds, 0 min)\n"
          ]
        },
        {
          "output_type": "stream",
          "name": "stdout",
          "text": [
            "Downloading data from https://s3.amazonaws.com/fcp-indi/data/Projects/ABIDE_Initiative/Outputs/cpac/filt_noglobal/rois_cc200/SBL_0051582_rois_cc200.1D ...\n"
          ]
        },
        {
          "output_type": "stream",
          "name": "stderr",
          "text": [
            " ...done. (1 seconds, 0 min)\n"
          ]
        },
        {
          "output_type": "stream",
          "name": "stdout",
          "text": [
            "Downloading data from https://s3.amazonaws.com/fcp-indi/data/Projects/ABIDE_Initiative/Outputs/cpac/filt_noglobal/rois_cc200/SBL_0051583_rois_cc200.1D ...\n"
          ]
        },
        {
          "output_type": "stream",
          "name": "stderr",
          "text": [
            " ...done. (1 seconds, 0 min)\n"
          ]
        },
        {
          "output_type": "stream",
          "name": "stdout",
          "text": [
            "Downloading data from https://s3.amazonaws.com/fcp-indi/data/Projects/ABIDE_Initiative/Outputs/cpac/filt_noglobal/rois_cc200/SBL_0051584_rois_cc200.1D ...\n"
          ]
        },
        {
          "output_type": "stream",
          "name": "stderr",
          "text": [
            " ...done. (1 seconds, 0 min)\n"
          ]
        },
        {
          "output_type": "stream",
          "name": "stdout",
          "text": [
            "Downloading data from https://s3.amazonaws.com/fcp-indi/data/Projects/ABIDE_Initiative/Outputs/cpac/filt_noglobal/rois_cc200/SBL_0051585_rois_cc200.1D ...\n"
          ]
        },
        {
          "output_type": "stream",
          "name": "stderr",
          "text": [
            " ...done. (1 seconds, 0 min)\n"
          ]
        },
        {
          "output_type": "stream",
          "name": "stdout",
          "text": [
            "Downloading data from https://s3.amazonaws.com/fcp-indi/data/Projects/ABIDE_Initiative/Outputs/cpac/filt_noglobal/rois_cc200/MaxMun_a_0051606_rois_cc200.1D ...\n"
          ]
        },
        {
          "output_type": "stream",
          "name": "stderr",
          "text": [
            " ...done. (1 seconds, 0 min)\n"
          ]
        },
        {
          "output_type": "stream",
          "name": "stdout",
          "text": [
            "Downloading data from https://s3.amazonaws.com/fcp-indi/data/Projects/ABIDE_Initiative/Outputs/cpac/filt_noglobal/rois_cc200/MaxMun_a_0051607_rois_cc200.1D ...\n"
          ]
        },
        {
          "output_type": "stream",
          "name": "stderr",
          "text": [
            " ...done. (1 seconds, 0 min)\n"
          ]
        },
        {
          "output_type": "stream",
          "name": "stdout",
          "text": [
            "Reading timeseries file /content/BrainGNN/data/ABIDE_pcp/cpac/filt_noglobal/50128/Olin_0050128_rois_cc200.1D\n",
            "Reading timeseries file /content/BrainGNN/data/ABIDE_pcp/cpac/filt_noglobal/51203/UCLA_1_0051203_rois_cc200.1D\n",
            "Reading timeseries file /content/BrainGNN/data/ABIDE_pcp/cpac/filt_noglobal/50325/UM_1_0050325_rois_cc200.1D\n",
            "Reading timeseries file /content/BrainGNN/data/ABIDE_pcp/cpac/filt_noglobal/50117/Olin_0050117_rois_cc200.1D\n",
            "Reading timeseries file /content/BrainGNN/data/ABIDE_pcp/cpac/filt_noglobal/50573/Yale_0050573_rois_cc200.1D\n",
            "Reading timeseries file /content/BrainGNN/data/ABIDE_pcp/cpac/filt_noglobal/50741/Leuven_2_0050741_rois_cc200.1D\n",
            "Reading timeseries file /content/BrainGNN/data/ABIDE_pcp/cpac/filt_noglobal/50779/KKI_0050779_rois_cc200.1D\n",
            "Reading timeseries file /content/BrainGNN/data/ABIDE_pcp/cpac/filt_noglobal/51009/NYU_0051009_rois_cc200.1D\n",
            "Reading timeseries file /content/BrainGNN/data/ABIDE_pcp/cpac/filt_noglobal/50746/Leuven_2_0050746_rois_cc200.1D\n",
            "Reading timeseries file /content/BrainGNN/data/ABIDE_pcp/cpac/filt_noglobal/50574/Yale_0050574_rois_cc200.1D\n",
            "Reading timeseries file /content/BrainGNN/data/ABIDE_pcp/cpac/filt_noglobal/50110/Olin_0050110_rois_cc200.1D\n",
            "Reading timeseries file /content/BrainGNN/data/ABIDE_pcp/cpac/filt_noglobal/50322/UM_1_0050322_rois_cc200.1D\n",
            "Reading timeseries file /content/BrainGNN/data/ABIDE_pcp/cpac/filt_noglobal/51036/NYU_0051036_rois_cc200.1D\n",
            "Reading timeseries file /content/BrainGNN/data/ABIDE_pcp/cpac/filt_noglobal/51204/UCLA_1_0051204_rois_cc200.1D\n",
            "Reading timeseries file /content/BrainGNN/data/ABIDE_pcp/cpac/filt_noglobal/50119/Olin_0050119_rois_cc200.1D\n",
            "Reading timeseries file /content/BrainGNN/data/ABIDE_pcp/cpac/filt_noglobal/50126/Olin_0050126_rois_cc200.1D\n",
            "Reading timeseries file /content/BrainGNN/data/ABIDE_pcp/cpac/filt_noglobal/50314/UM_1_0050314_rois_cc200.1D\n",
            "Reading timeseries file /content/BrainGNN/data/ABIDE_pcp/cpac/filt_noglobal/51490/Caltech_0051490_rois_cc200.1D\n",
            "Reading timeseries file /content/BrainGNN/data/ABIDE_pcp/cpac/filt_noglobal/50784/KKI_0050784_rois_cc200.1D\n",
            "Reading timeseries file /content/BrainGNN/data/ABIDE_pcp/cpac/filt_noglobal/51464/Caltech_0051464_rois_cc200.1D\n",
            "Reading timeseries file /content/BrainGNN/data/ABIDE_pcp/cpac/filt_noglobal/51000/NYU_0051000_rois_cc200.1D\n",
            "Reading timeseries file /content/BrainGNN/data/ABIDE_pcp/cpac/filt_noglobal/51038/NYU_0051038_rois_cc200.1D\n",
            "Reading timeseries file /content/BrainGNN/data/ABIDE_pcp/cpac/filt_noglobal/50748/Leuven_2_0050748_rois_cc200.1D\n",
            "Reading timeseries file /content/BrainGNN/data/ABIDE_pcp/cpac/filt_noglobal/51235/UCLA_1_0051235_rois_cc200.1D\n",
            "Reading timeseries file /content/BrainGNN/data/ABIDE_pcp/cpac/filt_noglobal/51007/NYU_0051007_rois_cc200.1D\n",
            "Reading timeseries file /content/BrainGNN/data/ABIDE_pcp/cpac/filt_noglobal/51463/Caltech_0051463_rois_cc200.1D\n",
            "Reading timeseries file /content/BrainGNN/data/ABIDE_pcp/cpac/filt_noglobal/50783/KKI_0050783_rois_cc200.1D\n",
            "Reading timeseries file /content/BrainGNN/data/ABIDE_pcp/cpac/filt_noglobal/50777/KKI_0050777_rois_cc200.1D\n",
            "Reading timeseries file /content/BrainGNN/data/ABIDE_pcp/cpac/filt_noglobal/50313/UM_1_0050313_rois_cc200.1D\n",
            "Reading timeseries file /content/BrainGNN/data/ABIDE_pcp/cpac/filt_noglobal/50121/Olin_0050121_rois_cc200.1D\n",
            "Reading timeseries file /content/BrainGNN/data/ABIDE_pcp/cpac/filt_noglobal/51053/NYU_0051053_rois_cc200.1D\n",
            "Reading timeseries file /content/BrainGNN/data/ABIDE_pcp/cpac/filt_noglobal/51261/UCLA_1_0051261_rois_cc200.1D\n",
            "Reading timeseries file /content/BrainGNN/data/ABIDE_pcp/cpac/filt_noglobal/50723/Leuven_2_0050723_rois_cc200.1D\n",
            "Reading timeseries file /content/BrainGNN/data/ABIDE_pcp/cpac/filt_noglobal/50511/USM_0050511_rois_cc200.1D\n",
            "Reading timeseries file /content/BrainGNN/data/ABIDE_pcp/cpac/filt_noglobal/51295/UCLA_2_0051295_rois_cc200.1D\n",
            "Reading timeseries file /content/BrainGNN/data/ABIDE_pcp/cpac/filt_noglobal/50347/UM_1_0050347_rois_cc200.1D\n",
            "Reading timeseries file /content/BrainGNN/data/ABIDE_pcp/cpac/filt_noglobal/50982/NYU_0050982_rois_cc200.1D\n",
            "Reading timeseries file /content/BrainGNN/data/ABIDE_pcp/cpac/filt_noglobal/50976/NYU_0050976_rois_cc200.1D\n",
            "Reading timeseries file /content/BrainGNN/data/ABIDE_pcp/cpac/filt_noglobal/51098/NYU_0051098_rois_cc200.1D\n",
            "Reading timeseries file /content/BrainGNN/data/ABIDE_pcp/cpac/filt_noglobal/51292/UCLA_2_0051292_rois_cc200.1D\n",
            "Reading timeseries file /content/BrainGNN/data/ABIDE_pcp/cpac/filt_noglobal/50340/UM_1_0050340_rois_cc200.1D\n",
            "Reading timeseries file /content/BrainGNN/data/ABIDE_pcp/cpac/filt_noglobal/50516/USM_0050516_rois_cc200.1D\n",
            "Reading timeseries file /content/BrainGNN/data/ABIDE_pcp/cpac/filt_noglobal/50724/Leuven_2_0050724_rois_cc200.1D\n",
            "Reading timeseries file /content/BrainGNN/data/ABIDE_pcp/cpac/filt_noglobal/51266/UCLA_1_0051266_rois_cc200.1D\n",
            "Reading timeseries file /content/BrainGNN/data/ABIDE_pcp/cpac/filt_noglobal/51054/NYU_0051054_rois_cc200.1D\n",
            "Reading timeseries file /content/BrainGNN/data/ABIDE_pcp/cpac/filt_noglobal/50186/SDSU_0050186_rois_cc200.1D\n",
            "Reading timeseries file /content/BrainGNN/data/ABIDE_pcp/cpac/filt_noglobal/50529/USM_0050529_rois_cc200.1D\n",
            "Reading timeseries file /content/BrainGNN/data/ABIDE_pcp/cpac/filt_noglobal/50985/NYU_0050985_rois_cc200.1D\n",
            "Reading timeseries file /content/BrainGNN/data/ABIDE_pcp/cpac/filt_noglobal/50520/USM_0050520_rois_cc200.1D\n",
            "Reading timeseries file /content/BrainGNN/data/ABIDE_pcp/cpac/filt_noglobal/50376/UM_1_0050376_rois_cc200.1D\n",
            "Reading timeseries file /content/BrainGNN/data/ABIDE_pcp/cpac/filt_noglobal/50978/NYU_0050978_rois_cc200.1D\n",
            "Reading timeseries file /content/BrainGNN/data/ABIDE_pcp/cpac/filt_noglobal/50144/OHSU_0050144_rois_cc200.1D\n",
            "Reading timeseries file /content/BrainGNN/data/ABIDE_pcp/cpac/filt_noglobal/51096/NYU_0051096_rois_cc200.1D\n",
            "Reading timeseries file /content/BrainGNN/data/ABIDE_pcp/cpac/filt_noglobal/50382/UM_2_0050382_rois_cc200.1D\n",
            "Reading timeseries file /content/BrainGNN/data/ABIDE_pcp/cpac/filt_noglobal/51250/UCLA_1_0051250_rois_cc200.1D\n",
            "Reading timeseries file /content/BrainGNN/data/ABIDE_pcp/cpac/filt_noglobal/51062/NYU_0051062_rois_cc200.1D\n",
            "Reading timeseries file /content/BrainGNN/data/ABIDE_pcp/cpac/filt_noglobal/50349/UM_1_0050349_rois_cc200.1D\n",
            "Reading timeseries file /content/BrainGNN/data/ABIDE_pcp/cpac/filt_noglobal/51065/NYU_0051065_rois_cc200.1D\n",
            "Reading timeseries file /content/BrainGNN/data/ABIDE_pcp/cpac/filt_noglobal/50385/UM_2_0050385_rois_cc200.1D\n",
            "Reading timeseries file /content/BrainGNN/data/ABIDE_pcp/cpac/filt_noglobal/51257/UCLA_1_0051257_rois_cc200.1D\n",
            "Reading timeseries file /content/BrainGNN/data/ABIDE_pcp/cpac/filt_noglobal/50143/OHSU_0050143_rois_cc200.1D\n",
            "Reading timeseries file /content/BrainGNN/data/ABIDE_pcp/cpac/filt_noglobal/51091/NYU_0051091_rois_cc200.1D\n",
            "Reading timeseries file /content/BrainGNN/data/ABIDE_pcp/cpac/filt_noglobal/50371/UM_1_0050371_rois_cc200.1D\n",
            "Reading timeseries file /content/BrainGNN/data/ABIDE_pcp/cpac/filt_noglobal/50527/USM_0050527_rois_cc200.1D\n",
            "Reading timeseries file /content/BrainGNN/data/ABIDE_pcp/cpac/filt_noglobal/51268/UCLA_1_0051268_rois_cc200.1D\n",
            "Reading timeseries file /content/BrainGNN/data/ABIDE_pcp/cpac/filt_noglobal/50188/SDSU_0050188_rois_cc200.1D\n",
            "Reading timeseries file /content/BrainGNN/data/ABIDE_pcp/cpac/filt_noglobal/50518/USM_0050518_rois_cc200.1D\n",
            "Reading timeseries file /content/BrainGNN/data/ABIDE_pcp/cpac/filt_noglobal/50749/Leuven_2_0050749_rois_cc200.1D\n",
            "Reading timeseries file /content/BrainGNN/data/ABIDE_pcp/cpac/filt_noglobal/51039/NYU_0051039_rois_cc200.1D\n",
            "Reading timeseries file /content/BrainGNN/data/ABIDE_pcp/cpac/filt_noglobal/50776/KKI_0050776_rois_cc200.1D\n",
            "Reading timeseries file /content/BrainGNN/data/ABIDE_pcp/cpac/filt_noglobal/50120/Olin_0050120_rois_cc200.1D\n",
            "Reading timeseries file /content/BrainGNN/data/ABIDE_pcp/cpac/filt_noglobal/50312/UM_1_0050312_rois_cc200.1D\n",
            "Reading timeseries file /content/BrainGNN/data/ABIDE_pcp/cpac/filt_noglobal/51006/NYU_0051006_rois_cc200.1D\n",
            "Reading timeseries file /content/BrainGNN/data/ABIDE_pcp/cpac/filt_noglobal/51234/UCLA_1_0051234_rois_cc200.1D\n",
            "Reading timeseries file /content/BrainGNN/data/ABIDE_pcp/cpac/filt_noglobal/50782/KKI_0050782_rois_cc200.1D\n",
            "Reading timeseries file /content/BrainGNN/data/ABIDE_pcp/cpac/filt_noglobal/51462/Caltech_0051462_rois_cc200.1D\n",
            "Reading timeseries file /content/BrainGNN/data/ABIDE_pcp/cpac/filt_noglobal/50118/Olin_0050118_rois_cc200.1D\n",
            "Reading timeseries file /content/BrainGNN/data/ABIDE_pcp/cpac/filt_noglobal/51465/Caltech_0051465_rois_cc200.1D\n",
            "Reading timeseries file /content/BrainGNN/data/ABIDE_pcp/cpac/filt_noglobal/50785/KKI_0050785_rois_cc200.1D\n",
            "Reading timeseries file /content/BrainGNN/data/ABIDE_pcp/cpac/filt_noglobal/51001/NYU_0051001_rois_cc200.1D\n",
            "Reading timeseries file /content/BrainGNN/data/ABIDE_pcp/cpac/filt_noglobal/50315/UM_1_0050315_rois_cc200.1D\n",
            "Reading timeseries file /content/BrainGNN/data/ABIDE_pcp/cpac/filt_noglobal/50127/Olin_0050127_rois_cc200.1D\n",
            "Reading timeseries file /content/BrainGNN/data/ABIDE_pcp/cpac/filt_noglobal/51491/Caltech_0051491_rois_cc200.1D\n",
            "Reading timeseries file /content/BrainGNN/data/ABIDE_pcp/cpac/filt_noglobal/51008/NYU_0051008_rois_cc200.1D\n",
            "Reading timeseries file /content/BrainGNN/data/ABIDE_pcp/cpac/filt_noglobal/50778/KKI_0050778_rois_cc200.1D\n",
            "Reading timeseries file /content/BrainGNN/data/ABIDE_pcp/cpac/filt_noglobal/51205/UCLA_1_0051205_rois_cc200.1D\n",
            "Reading timeseries file /content/BrainGNN/data/ABIDE_pcp/cpac/filt_noglobal/50575/Yale_0050575_rois_cc200.1D\n",
            "Reading timeseries file /content/BrainGNN/data/ABIDE_pcp/cpac/filt_noglobal/50747/Leuven_2_0050747_rois_cc200.1D\n",
            "Reading timeseries file /content/BrainGNN/data/ABIDE_pcp/cpac/filt_noglobal/50111/Olin_0050111_rois_cc200.1D\n",
            "Reading timeseries file /content/BrainGNN/data/ABIDE_pcp/cpac/filt_noglobal/50129/Olin_0050129_rois_cc200.1D\n",
            "Reading timeseries file /content/BrainGNN/data/ABIDE_pcp/cpac/filt_noglobal/50116/Olin_0050116_rois_cc200.1D\n",
            "Reading timeseries file /content/BrainGNN/data/ABIDE_pcp/cpac/filt_noglobal/50324/UM_1_0050324_rois_cc200.1D\n",
            "Reading timeseries file /content/BrainGNN/data/ABIDE_pcp/cpac/filt_noglobal/50740/Leuven_2_0050740_rois_cc200.1D\n",
            "Reading timeseries file /content/BrainGNN/data/ABIDE_pcp/cpac/filt_noglobal/50572/Yale_0050572_rois_cc200.1D\n",
            "Reading timeseries file /content/BrainGNN/data/ABIDE_pcp/cpac/filt_noglobal/51030/NYU_0051030_rois_cc200.1D\n",
            "Reading timeseries file /content/BrainGNN/data/ABIDE_pcp/cpac/filt_noglobal/51202/UCLA_1_0051202_rois_cc200.1D\n",
            "Reading timeseries file /content/BrainGNN/data/ABIDE_pcp/cpac/filt_noglobal/50370/UM_1_0050370_rois_cc200.1D\n",
            "Reading timeseries file /content/BrainGNN/data/ABIDE_pcp/cpac/filt_noglobal/50142/OHSU_0050142_rois_cc200.1D\n",
            "Reading timeseries file /content/BrainGNN/data/ABIDE_pcp/cpac/filt_noglobal/51090/NYU_0051090_rois_cc200.1D\n",
            "Reading timeseries file /content/BrainGNN/data/ABIDE_pcp/cpac/filt_noglobal/50526/USM_0050526_rois_cc200.1D\n",
            "Reading timeseries file /content/BrainGNN/data/ABIDE_pcp/cpac/filt_noglobal/51256/UCLA_1_0051256_rois_cc200.1D\n",
            "Reading timeseries file /content/BrainGNN/data/ABIDE_pcp/cpac/filt_noglobal/51064/NYU_0051064_rois_cc200.1D\n",
            "Reading timeseries file /content/BrainGNN/data/ABIDE_pcp/cpac/filt_noglobal/50519/USM_0050519_rois_cc200.1D\n",
            "Reading timeseries file /content/BrainGNN/data/ABIDE_pcp/cpac/filt_noglobal/50189/SDSU_0050189_rois_cc200.1D\n",
            "Reading timeseries file /content/BrainGNN/data/ABIDE_pcp/cpac/filt_noglobal/51269/UCLA_1_0051269_rois_cc200.1D\n",
            "Reading timeseries file /content/BrainGNN/data/ABIDE_pcp/cpac/filt_noglobal/51063/NYU_0051063_rois_cc200.1D\n",
            "Reading timeseries file /content/BrainGNN/data/ABIDE_pcp/cpac/filt_noglobal/50383/UM_2_0050383_rois_cc200.1D\n",
            "Reading timeseries file /content/BrainGNN/data/ABIDE_pcp/cpac/filt_noglobal/51251/UCLA_1_0051251_rois_cc200.1D\n",
            "Reading timeseries file /content/BrainGNN/data/ABIDE_pcp/cpac/filt_noglobal/50521/USM_0050521_rois_cc200.1D\n",
            "Reading timeseries file /content/BrainGNN/data/ABIDE_pcp/cpac/filt_noglobal/50145/OHSU_0050145_rois_cc200.1D\n",
            "Reading timeseries file /content/BrainGNN/data/ABIDE_pcp/cpac/filt_noglobal/51097/NYU_0051097_rois_cc200.1D\n",
            "Reading timeseries file /content/BrainGNN/data/ABIDE_pcp/cpac/filt_noglobal/50979/NYU_0050979_rois_cc200.1D\n",
            "Reading timeseries file /content/BrainGNN/data/ABIDE_pcp/cpac/filt_noglobal/50377/UM_1_0050377_rois_cc200.1D\n",
            "Reading timeseries file /content/BrainGNN/data/ABIDE_pcp/cpac/filt_noglobal/50348/UM_1_0050348_rois_cc200.1D\n",
            "Reading timeseries file /content/BrainGNN/data/ABIDE_pcp/cpac/filt_noglobal/51055/NYU_0051055_rois_cc200.1D\n",
            "Reading timeseries file /content/BrainGNN/data/ABIDE_pcp/cpac/filt_noglobal/50187/SDSU_0050187_rois_cc200.1D\n",
            "Reading timeseries file /content/BrainGNN/data/ABIDE_pcp/cpac/filt_noglobal/51267/UCLA_1_0051267_rois_cc200.1D\n",
            "Reading timeseries file /content/BrainGNN/data/ABIDE_pcp/cpac/filt_noglobal/51293/UCLA_2_0051293_rois_cc200.1D\n",
            "Reading timeseries file /content/BrainGNN/data/ABIDE_pcp/cpac/filt_noglobal/50341/UM_1_0050341_rois_cc200.1D\n",
            "Reading timeseries file /content/BrainGNN/data/ABIDE_pcp/cpac/filt_noglobal/50725/Leuven_2_0050725_rois_cc200.1D\n",
            "Reading timeseries file /content/BrainGNN/data/ABIDE_pcp/cpac/filt_noglobal/51258/UCLA_1_0051258_rois_cc200.1D\n",
            "Reading timeseries file /content/BrainGNN/data/ABIDE_pcp/cpac/filt_noglobal/50984/NYU_0050984_rois_cc200.1D\n",
            "Reading timeseries file /content/BrainGNN/data/ABIDE_pcp/cpac/filt_noglobal/50528/USM_0050528_rois_cc200.1D\n",
            "Reading timeseries file /content/BrainGNN/data/ABIDE_pcp/cpac/filt_noglobal/50970/NYU_0050970_rois_cc200.1D\n",
            "Reading timeseries file /content/BrainGNN/data/ABIDE_pcp/cpac/filt_noglobal/50510/USM_0050510_rois_cc200.1D\n",
            "Reading timeseries file /content/BrainGNN/data/ABIDE_pcp/cpac/filt_noglobal/50722/Leuven_2_0050722_rois_cc200.1D\n",
            "Reading timeseries file /content/BrainGNN/data/ABIDE_pcp/cpac/filt_noglobal/51294/UCLA_2_0051294_rois_cc200.1D\n",
            "Reading timeseries file /content/BrainGNN/data/ABIDE_pcp/cpac/filt_noglobal/50346/UM_1_0050346_rois_cc200.1D\n",
            "Reading timeseries file /content/BrainGNN/data/ABIDE_pcp/cpac/filt_noglobal/51260/UCLA_1_0051260_rois_cc200.1D\n",
            "Reading timeseries file /content/BrainGNN/data/ABIDE_pcp/cpac/filt_noglobal/51052/NYU_0051052_rois_cc200.1D\n",
            "Reading timeseries file /content/BrainGNN/data/ABIDE_pcp/cpac/filt_noglobal/51099/NYU_0051099_rois_cc200.1D\n",
            "Reading timeseries file /content/BrainGNN/data/ABIDE_pcp/cpac/filt_noglobal/50977/NYU_0050977_rois_cc200.1D\n",
            "Reading timeseries file /content/BrainGNN/data/ABIDE_pcp/cpac/filt_noglobal/50379/UM_1_0050379_rois_cc200.1D\n",
            "Reading timeseries file /content/BrainGNN/data/ABIDE_pcp/cpac/filt_noglobal/50983/NYU_0050983_rois_cc200.1D\n",
            "Reading timeseries file /content/BrainGNN/data/ABIDE_pcp/cpac/filt_noglobal/50039/Pitt_0050039_rois_cc200.1D\n",
            "Reading timeseries file /content/BrainGNN/data/ABIDE_pcp/cpac/filt_noglobal/50496/USM_0050496_rois_cc200.1D\n",
            "Reading timeseries file /content/BrainGNN/data/ABIDE_pcp/cpac/filt_noglobal/51312/UCLA_2_0051312_rois_cc200.1D\n",
            "Reading timeseries file /content/BrainGNN/data/ABIDE_pcp/cpac/filt_noglobal/50234/Trinity_0050234_rois_cc200.1D\n",
            "Reading timeseries file /content/BrainGNN/data/ABIDE_pcp/cpac/filt_noglobal/50006/Pitt_0050006_rois_cc200.1D\n",
            "Reading timeseries file /content/BrainGNN/data/ABIDE_pcp/cpac/filt_noglobal/50650/CMU_b_0050650_rois_cc200.1D\n",
            "Reading timeseries file /content/BrainGNN/data/ABIDE_pcp/cpac/filt_noglobal/50802/KKI_0050802_rois_cc200.1D\n",
            "Reading timeseries file /content/BrainGNN/data/ABIDE_pcp/cpac/filt_noglobal/50668/CMU_a_0050668_rois_cc200.1D\n",
            "Reading timeseries file /content/BrainGNN/data/ABIDE_pcp/cpac/filt_noglobal/51118/NYU_0051118_rois_cc200.1D\n",
            "Reading timeseries file /content/BrainGNN/data/ABIDE_pcp/cpac/filt_noglobal/50657/CMU_b_0050657_rois_cc200.1D\n",
            "Reading timeseries file /content/BrainGNN/data/ABIDE_pcp/cpac/filt_noglobal/50233/Trinity_0050233_rois_cc200.1D\n",
            "Reading timeseries file /content/BrainGNN/data/ABIDE_pcp/cpac/filt_noglobal/51127/NYU_0051127_rois_cc200.1D\n",
            "Reading timeseries file /content/BrainGNN/data/ABIDE_pcp/cpac/filt_noglobal/51315/UCLA_2_0051315_rois_cc200.1D\n",
            "Reading timeseries file /content/BrainGNN/data/ABIDE_pcp/cpac/filt_noglobal/50491/USM_0050491_rois_cc200.1D\n",
            "Reading timeseries file /content/BrainGNN/data/ABIDE_pcp/cpac/filt_noglobal/50008/Pitt_0050008_rois_cc200.1D\n",
            "Reading timeseries file /content/BrainGNN/data/ABIDE_pcp/cpac/filt_noglobal/50498/USM_0050498_rois_cc200.1D\n",
            "Reading timeseries file /content/BrainGNN/data/ABIDE_pcp/cpac/filt_noglobal/50037/Pitt_0050037_rois_cc200.1D\n",
            "Reading timeseries file /content/BrainGNN/data/ABIDE_pcp/cpac/filt_noglobal/50205/SDSU_0050205_rois_cc200.1D\n",
            "Reading timeseries file /content/BrainGNN/data/ABIDE_pcp/cpac/filt_noglobal/50661/CMU_b_0050661_rois_cc200.1D\n",
            "Reading timeseries file /content/BrainGNN/data/ABIDE_pcp/cpac/filt_noglobal/51581/SBL_0051581_rois_cc200.1D\n",
            "Reading timeseries file /content/BrainGNN/data/ABIDE_pcp/cpac/filt_noglobal/50453/USM_0050453_rois_cc200.1D\n",
            "Reading timeseries file /content/BrainGNN/data/ABIDE_pcp/cpac/filt_noglobal/50695/Leuven_1_0050695_rois_cc200.1D\n",
            "Reading timeseries file /content/BrainGNN/data/ABIDE_pcp/cpac/filt_noglobal/51575/SBL_0051575_rois_cc200.1D\n",
            "Reading timeseries file /content/BrainGNN/data/ABIDE_pcp/cpac/filt_noglobal/51111/NYU_0051111_rois_cc200.1D\n",
            "Reading timeseries file /content/BrainGNN/data/ABIDE_pcp/cpac/filt_noglobal/51323/MaxMun_b_0051323_rois_cc200.1D\n",
            "Reading timeseries file /content/BrainGNN/data/ABIDE_pcp/cpac/filt_noglobal/51129/NYU_0051129_rois_cc200.1D\n",
            "Reading timeseries file /content/BrainGNN/data/ABIDE_pcp/cpac/filt_noglobal/50659/CMU_a_0050659_rois_cc200.1D\n",
            "Reading timeseries file /content/BrainGNN/data/ABIDE_pcp/cpac/filt_noglobal/51324/MaxMun_b_0051324_rois_cc200.1D\n",
            "Reading timeseries file /content/BrainGNN/data/ABIDE_pcp/cpac/filt_noglobal/51116/NYU_0051116_rois_cc200.1D\n",
            "Reading timeseries file /content/BrainGNN/data/ABIDE_pcp/cpac/filt_noglobal/51572/SBL_0051572_rois_cc200.1D\n",
            "Reading timeseries file /content/BrainGNN/data/ABIDE_pcp/cpac/filt_noglobal/50692/Leuven_1_0050692_rois_cc200.1D\n",
            "Reading timeseries file /content/BrainGNN/data/ABIDE_pcp/cpac/filt_noglobal/50666/CMU_a_0050666_rois_cc200.1D\n",
            "Reading timeseries file /content/BrainGNN/data/ABIDE_pcp/cpac/filt_noglobal/50202/SDSU_0050202_rois_cc200.1D\n",
            "Reading timeseries file /content/BrainGNN/data/ABIDE_pcp/cpac/filt_noglobal/50030/Pitt_0050030_rois_cc200.1D\n",
            "Reading timeseries file /content/BrainGNN/data/ABIDE_pcp/cpac/filt_noglobal/51142/Trinity_0051142_rois_cc200.1D\n",
            "Reading timeseries file /content/BrainGNN/data/ABIDE_pcp/cpac/filt_noglobal/51370/MaxMun_a_0051370_rois_cc200.1D\n",
            "Reading timeseries file /content/BrainGNN/data/ABIDE_pcp/cpac/filt_noglobal/50269/Trinity_0050269_rois_cc200.1D\n",
            "Reading timeseries file /content/BrainGNN/data/ABIDE_pcp/cpac/filt_noglobal/51189/Stanford_0051189_rois_cc200.1D\n",
            "Reading timeseries file /content/BrainGNN/data/ABIDE_pcp/cpac/filt_noglobal/50251/Trinity_0050251_rois_cc200.1D\n",
            "Reading timeseries file /content/BrainGNN/data/ABIDE_pcp/cpac/filt_noglobal/50407/UM_2_0050407_rois_cc200.1D\n",
            "Reading timeseries file /content/BrainGNN/data/ABIDE_pcp/cpac/filt_noglobal/50438/USM_0050438_rois_cc200.1D\n",
            "Reading timeseries file /content/BrainGNN/data/ABIDE_pcp/cpac/filt_noglobal/51348/MaxMun_c_0051348_rois_cc200.1D\n",
            "Reading timeseries file /content/BrainGNN/data/ABIDE_pcp/cpac/filt_noglobal/50603/Yale_0050603_rois_cc200.1D\n",
            "Reading timeseries file /content/BrainGNN/data/ABIDE_pcp/cpac/filt_noglobal/50267/Trinity_0050267_rois_cc200.1D\n",
            "Reading timeseries file /content/BrainGNN/data/ABIDE_pcp/cpac/filt_noglobal/51187/Stanford_0051187_rois_cc200.1D\n",
            "Reading timeseries file /content/BrainGNN/data/ABIDE_pcp/cpac/filt_noglobal/50055/Pitt_0050055_rois_cc200.1D\n",
            "Reading timeseries file /content/BrainGNN/data/ABIDE_pcp/cpac/filt_noglobal/51341/MaxMun_c_0051341_rois_cc200.1D\n",
            "Reading timeseries file /content/BrainGNN/data/ABIDE_pcp/cpac/filt_noglobal/50293/UM_1_0050293_rois_cc200.1D\n",
            "Reading timeseries file /content/BrainGNN/data/ABIDE_pcp/cpac/filt_noglobal/51173/Stanford_0051173_rois_cc200.1D\n",
            "Reading timeseries file /content/BrainGNN/data/ABIDE_pcp/cpac/filt_noglobal/51174/Stanford_0051174_rois_cc200.1D\n",
            "Reading timeseries file /content/BrainGNN/data/ABIDE_pcp/cpac/filt_noglobal/51346/MaxMun_c_0051346_rois_cc200.1D\n",
            "Reading timeseries file /content/BrainGNN/data/ABIDE_pcp/cpac/filt_noglobal/50294/UM_1_0050294_rois_cc200.1D\n",
            "Reading timeseries file /content/BrainGNN/data/ABIDE_pcp/cpac/filt_noglobal/51180/Stanford_0051180_rois_cc200.1D\n",
            "Reading timeseries file /content/BrainGNN/data/ABIDE_pcp/cpac/filt_noglobal/50052/Pitt_0050052_rois_cc200.1D\n",
            "Reading timeseries file /content/BrainGNN/data/ABIDE_pcp/cpac/filt_noglobal/50260/Trinity_0050260_rois_cc200.1D\n",
            "Reading timeseries file /content/BrainGNN/data/ABIDE_pcp/cpac/filt_noglobal/50604/Yale_0050604_rois_cc200.1D\n",
            "Reading timeseries file /content/BrainGNN/data/ABIDE_pcp/cpac/filt_noglobal/50436/USM_0050436_rois_cc200.1D\n",
            "Reading timeseries file /content/BrainGNN/data/ABIDE_pcp/cpac/filt_noglobal/50658/CMU_b_0050658_rois_cc200.1D\n",
            "Reading timeseries file /content/BrainGNN/data/ABIDE_pcp/cpac/filt_noglobal/51128/NYU_0051128_rois_cc200.1D\n",
            "Reading timeseries file /content/BrainGNN/data/ABIDE_pcp/cpac/filt_noglobal/50667/CMU_b_0050667_rois_cc200.1D\n",
            "Reading timeseries file /content/BrainGNN/data/ABIDE_pcp/cpac/filt_noglobal/50455/USM_0050455_rois_cc200.1D\n",
            "Reading timeseries file /content/BrainGNN/data/ABIDE_pcp/cpac/filt_noglobal/50031/Pitt_0050031_rois_cc200.1D\n",
            "Reading timeseries file /content/BrainGNN/data/ABIDE_pcp/cpac/filt_noglobal/50203/SDSU_0050203_rois_cc200.1D\n",
            "Reading timeseries file /content/BrainGNN/data/ABIDE_pcp/cpac/filt_noglobal/51117/NYU_0051117_rois_cc200.1D\n",
            "Reading timeseries file /content/BrainGNN/data/ABIDE_pcp/cpac/filt_noglobal/51325/MaxMun_b_0051325_rois_cc200.1D\n",
            "Reading timeseries file /content/BrainGNN/data/ABIDE_pcp/cpac/filt_noglobal/50693/Leuven_1_0050693_rois_cc200.1D\n",
            "Reading timeseries file /content/BrainGNN/data/ABIDE_pcp/cpac/filt_noglobal/51573/SBL_0051573_rois_cc200.1D\n",
            "Reading timeseries file /content/BrainGNN/data/ABIDE_pcp/cpac/filt_noglobal/50499/USM_0050499_rois_cc200.1D\n",
            "Reading timeseries file /content/BrainGNN/data/ABIDE_pcp/cpac/filt_noglobal/50009/Pitt_0050009_rois_cc200.1D\n",
            "Reading timeseries file /content/BrainGNN/data/ABIDE_pcp/cpac/filt_noglobal/51574/SBL_0051574_rois_cc200.1D\n",
            "Reading timeseries file /content/BrainGNN/data/ABIDE_pcp/cpac/filt_noglobal/50694/Leuven_1_0050694_rois_cc200.1D\n",
            "Reading timeseries file /content/BrainGNN/data/ABIDE_pcp/cpac/filt_noglobal/51322/MaxMun_b_0051322_rois_cc200.1D\n",
            "Reading timeseries file /content/BrainGNN/data/ABIDE_pcp/cpac/filt_noglobal/51110/NYU_0051110_rois_cc200.1D\n",
            "Reading timeseries file /content/BrainGNN/data/ABIDE_pcp/cpac/filt_noglobal/50204/SDSU_0050204_rois_cc200.1D\n",
            "Reading timeseries file /content/BrainGNN/data/ABIDE_pcp/cpac/filt_noglobal/50036/Pitt_0050036_rois_cc200.1D\n",
            "Reading timeseries file /content/BrainGNN/data/ABIDE_pcp/cpac/filt_noglobal/51580/SBL_0051580_rois_cc200.1D\n",
            "Reading timeseries file /content/BrainGNN/data/ABIDE_pcp/cpac/filt_noglobal/50660/CMU_a_0050660_rois_cc200.1D\n",
            "Reading timeseries file /content/BrainGNN/data/ABIDE_pcp/cpac/filt_noglobal/50803/KKI_0050803_rois_cc200.1D\n",
            "Reading timeseries file /content/BrainGNN/data/ABIDE_pcp/cpac/filt_noglobal/50669/CMU_b_0050669_rois_cc200.1D\n",
            "Reading timeseries file /content/BrainGNN/data/ABIDE_pcp/cpac/filt_noglobal/51314/UCLA_2_0051314_rois_cc200.1D\n",
            "Reading timeseries file /content/BrainGNN/data/ABIDE_pcp/cpac/filt_noglobal/51126/NYU_0051126_rois_cc200.1D\n",
            "Reading timeseries file /content/BrainGNN/data/ABIDE_pcp/cpac/filt_noglobal/50490/USM_0050490_rois_cc200.1D\n",
            "Reading timeseries file /content/BrainGNN/data/ABIDE_pcp/cpac/filt_noglobal/50656/CMU_a_0050656_rois_cc200.1D\n",
            "Reading timeseries file /content/BrainGNN/data/ABIDE_pcp/cpac/filt_noglobal/50232/Trinity_0050232_rois_cc200.1D\n",
            "Reading timeseries file /content/BrainGNN/data/ABIDE_pcp/cpac/filt_noglobal/50038/Pitt_0050038_rois_cc200.1D\n",
            "Reading timeseries file /content/BrainGNN/data/ABIDE_pcp/cpac/filt_noglobal/50804/KKI_0050804_rois_cc200.1D\n",
            "Reading timeseries file /content/BrainGNN/data/ABIDE_pcp/cpac/filt_noglobal/50007/Pitt_0050007_rois_cc200.1D\n",
            "Reading timeseries file /content/BrainGNN/data/ABIDE_pcp/cpac/filt_noglobal/50235/Trinity_0050235_rois_cc200.1D\n",
            "Reading timeseries file /content/BrainGNN/data/ABIDE_pcp/cpac/filt_noglobal/50651/CMU_b_0050651_rois_cc200.1D\n",
            "Reading timeseries file /content/BrainGNN/data/ABIDE_pcp/cpac/filt_noglobal/50463/USM_0050463_rois_cc200.1D\n",
            "Reading timeseries file /content/BrainGNN/data/ABIDE_pcp/cpac/filt_noglobal/50497/USM_0050497_rois_cc200.1D\n",
            "Reading timeseries file /content/BrainGNN/data/ABIDE_pcp/cpac/filt_noglobal/51121/NYU_0051121_rois_cc200.1D\n",
            "Reading timeseries file /content/BrainGNN/data/ABIDE_pcp/cpac/filt_noglobal/51313/UCLA_2_0051313_rois_cc200.1D\n",
            "Reading timeseries file /content/BrainGNN/data/ABIDE_pcp/cpac/filt_noglobal/50261/Trinity_0050261_rois_cc200.1D\n",
            "Reading timeseries file /content/BrainGNN/data/ABIDE_pcp/cpac/filt_noglobal/51181/Stanford_0051181_rois_cc200.1D\n",
            "Reading timeseries file /content/BrainGNN/data/ABIDE_pcp/cpac/filt_noglobal/50053/Pitt_0050053_rois_cc200.1D\n",
            "Reading timeseries file /content/BrainGNN/data/ABIDE_pcp/cpac/filt_noglobal/50437/USM_0050437_rois_cc200.1D\n",
            "Reading timeseries file /content/BrainGNN/data/ABIDE_pcp/cpac/filt_noglobal/50605/Yale_0050605_rois_cc200.1D\n",
            "Reading timeseries file /content/BrainGNN/data/ABIDE_pcp/cpac/filt_noglobal/51347/MaxMun_c_0051347_rois_cc200.1D\n",
            "Reading timeseries file /content/BrainGNN/data/ABIDE_pcp/cpac/filt_noglobal/50295/UM_1_0050295_rois_cc200.1D\n",
            "Reading timeseries file /content/BrainGNN/data/ABIDE_pcp/cpac/filt_noglobal/51175/Stanford_0051175_rois_cc200.1D\n",
            "Reading timeseries file /content/BrainGNN/data/ABIDE_pcp/cpac/filt_noglobal/50408/UM_2_0050408_rois_cc200.1D\n",
            "Reading timeseries file /content/BrainGNN/data/ABIDE_pcp/cpac/filt_noglobal/51172/Stanford_0051172_rois_cc200.1D\n",
            "Reading timeseries file /content/BrainGNN/data/ABIDE_pcp/cpac/filt_noglobal/51340/MaxMun_c_0051340_rois_cc200.1D\n",
            "Reading timeseries file /content/BrainGNN/data/ABIDE_pcp/cpac/filt_noglobal/50292/UM_1_0050292_rois_cc200.1D\n",
            "Reading timeseries file /content/BrainGNN/data/ABIDE_pcp/cpac/filt_noglobal/50602/Yale_0050602_rois_cc200.1D\n",
            "Reading timeseries file /content/BrainGNN/data/ABIDE_pcp/cpac/filt_noglobal/51186/Stanford_0051186_rois_cc200.1D\n",
            "Reading timeseries file /content/BrainGNN/data/ABIDE_pcp/cpac/filt_noglobal/50054/Pitt_0050054_rois_cc200.1D\n",
            "Reading timeseries file /content/BrainGNN/data/ABIDE_pcp/cpac/filt_noglobal/50266/Trinity_0050266_rois_cc200.1D\n",
            "Reading timeseries file /content/BrainGNN/data/ABIDE_pcp/cpac/filt_noglobal/50259/Trinity_0050259_rois_cc200.1D\n",
            "Reading timeseries file /content/BrainGNN/data/ABIDE_pcp/cpac/filt_noglobal/50250/Trinity_0050250_rois_cc200.1D\n",
            "Reading timeseries file /content/BrainGNN/data/ABIDE_pcp/cpac/filt_noglobal/50406/UM_2_0050406_rois_cc200.1D\n",
            "Reading timeseries file /content/BrainGNN/data/ABIDE_pcp/cpac/filt_noglobal/51349/MaxMun_d_0051349_rois_cc200.1D\n",
            "Reading timeseries file /content/BrainGNN/data/ABIDE_pcp/cpac/filt_noglobal/50439/USM_0050439_rois_cc200.1D\n",
            "Reading timeseries file /content/BrainGNN/data/ABIDE_pcp/cpac/filt_noglobal/50257/Trinity_0050257_rois_cc200.1D\n",
            "Reading timeseries file /content/BrainGNN/data/ABIDE_pcp/cpac/filt_noglobal/51188/Stanford_0051188_rois_cc200.1D\n",
            "Reading timeseries file /content/BrainGNN/data/ABIDE_pcp/cpac/filt_noglobal/50268/Trinity_0050268_rois_cc200.1D\n",
            "Reading timeseries file /content/BrainGNN/data/ABIDE_pcp/cpac/filt_noglobal/51195/Stanford_0051195_rois_cc200.1D\n",
            "Reading timeseries file /content/BrainGNN/data/ABIDE_pcp/cpac/filt_noglobal/50047/Pitt_0050047_rois_cc200.1D\n",
            "Reading timeseries file /content/BrainGNN/data/ABIDE_pcp/cpac/filt_noglobal/50275/UM_1_0050275_rois_cc200.1D\n",
            "Reading timeseries file /content/BrainGNN/data/ABIDE_pcp/cpac/filt_noglobal/50611/Yale_0050611_rois_cc200.1D\n",
            "Reading timeseries file /content/BrainGNN/data/ABIDE_pcp/cpac/filt_noglobal/51161/Stanford_0051161_rois_cc200.1D\n",
            "Reading timeseries file /content/BrainGNN/data/ABIDE_pcp/cpac/filt_noglobal/51353/MaxMun_d_0051353_rois_cc200.1D\n",
            "Reading timeseries file /content/BrainGNN/data/ABIDE_pcp/cpac/filt_noglobal/50281/UM_1_0050281_rois_cc200.1D\n",
            "Reading timeseries file /content/BrainGNN/data/ABIDE_pcp/cpac/filt_noglobal/51159/NYU_0051159_rois_cc200.1D\n",
            "Reading timeseries file /content/BrainGNN/data/ABIDE_pcp/cpac/filt_noglobal/51354/MaxMun_d_0051354_rois_cc200.1D\n",
            "Reading timeseries file /content/BrainGNN/data/ABIDE_pcp/cpac/filt_noglobal/50286/UM_1_0050286_rois_cc200.1D\n",
            "Reading timeseries file /content/BrainGNN/data/ABIDE_pcp/cpac/filt_noglobal/51166/Stanford_0051166_rois_cc200.1D\n",
            "Reading timeseries file /content/BrainGNN/data/ABIDE_pcp/cpac/filt_noglobal/50424/UM_2_0050424_rois_cc200.1D\n",
            "Reading timeseries file /content/BrainGNN/data/ABIDE_pcp/cpac/filt_noglobal/50616/Yale_0050616_rois_cc200.1D\n",
            "Reading timeseries file /content/BrainGNN/data/ABIDE_pcp/cpac/filt_noglobal/50272/UM_1_0050272_rois_cc200.1D\n",
            "Reading timeseries file /content/BrainGNN/data/ABIDE_pcp/cpac/filt_noglobal/51192/Stanford_0051192_rois_cc200.1D\n",
            "Reading timeseries file /content/BrainGNN/data/ABIDE_pcp/cpac/filt_noglobal/50040/Pitt_0050040_rois_cc200.1D\n",
            "Reading timeseries file /content/BrainGNN/data/ABIDE_pcp/cpac/filt_noglobal/50049/Pitt_0050049_rois_cc200.1D\n",
            "Reading timeseries file /content/BrainGNN/data/ABIDE_pcp/cpac/filt_noglobal/51362/MaxMun_a_0051362_rois_cc200.1D\n",
            "Reading timeseries file /content/BrainGNN/data/ABIDE_pcp/cpac/filt_noglobal/51150/NYU_0051150_rois_cc200.1D\n",
            "Reading timeseries file /content/BrainGNN/data/ABIDE_pcp/cpac/filt_noglobal/50412/UM_2_0050412_rois_cc200.1D\n",
            "Reading timeseries file /content/BrainGNN/data/ABIDE_pcp/cpac/filt_noglobal/50620/Yale_0050620_rois_cc200.1D\n",
            "Reading timeseries file /content/BrainGNN/data/ABIDE_pcp/cpac/filt_noglobal/50618/Yale_0050618_rois_cc200.1D\n",
            "Reading timeseries file /content/BrainGNN/data/ABIDE_pcp/cpac/filt_noglobal/50288/UM_1_0050288_rois_cc200.1D\n",
            "Reading timeseries file /content/BrainGNN/data/ABIDE_pcp/cpac/filt_noglobal/51168/Stanford_0051168_rois_cc200.1D\n",
            "Reading timeseries file /content/BrainGNN/data/ABIDE_pcp/cpac/filt_noglobal/50627/Yale_0050627_rois_cc200.1D\n",
            "Reading timeseries file /content/BrainGNN/data/ABIDE_pcp/cpac/filt_noglobal/50415/UM_2_0050415_rois_cc200.1D\n",
            "Reading timeseries file /content/BrainGNN/data/ABIDE_pcp/cpac/filt_noglobal/50243/Trinity_0050243_rois_cc200.1D\n",
            "Reading timeseries file /content/BrainGNN/data/ABIDE_pcp/cpac/filt_noglobal/51365/MaxMun_a_0051365_rois_cc200.1D\n",
            "Reading timeseries file /content/BrainGNN/data/ABIDE_pcp/cpac/filt_noglobal/50441/USM_0050441_rois_cc200.1D\n",
            "Reading timeseries file /content/BrainGNN/data/ABIDE_pcp/cpac/filt_noglobal/50217/SDSU_0050217_rois_cc200.1D\n",
            "Reading timeseries file /content/BrainGNN/data/ABIDE_pcp/cpac/filt_noglobal/50025/Pitt_0050025_rois_cc200.1D\n",
            "Reading timeseries file /content/BrainGNN/data/ABIDE_pcp/cpac/filt_noglobal/50819/KKI_0050819_rois_cc200.1D\n",
            "Reading timeseries file /content/BrainGNN/data/ABIDE_pcp/cpac/filt_noglobal/51331/MaxMun_d_0051331_rois_cc200.1D\n",
            "Reading timeseries file /content/BrainGNN/data/ABIDE_pcp/cpac/filt_noglobal/51103/NYU_0051103_rois_cc200.1D\n",
            "Reading timeseries file /content/BrainGNN/data/ABIDE_pcp/cpac/filt_noglobal/51567/SBL_0051567_rois_cc200.1D\n",
            "Reading timeseries file /content/BrainGNN/data/ABIDE_pcp/cpac/filt_noglobal/50687/Leuven_1_0050687_rois_cc200.1D\n",
            "Reading timeseries file /content/BrainGNN/data/ABIDE_pcp/cpac/filt_noglobal/50826/KKI_0050826_rois_cc200.1D\n",
            "Reading timeseries file /content/BrainGNN/data/ABIDE_pcp/cpac/filt_noglobal/51558/SBL_0051558_rois_cc200.1D\n",
            "Reading timeseries file /content/BrainGNN/data/ABIDE_pcp/cpac/filt_noglobal/51560/SBL_0051560_rois_cc200.1D\n",
            "Reading timeseries file /content/BrainGNN/data/ABIDE_pcp/cpac/filt_noglobal/51104/NYU_0051104_rois_cc200.1D\n",
            "Reading timeseries file /content/BrainGNN/data/ABIDE_pcp/cpac/filt_noglobal/51336/MaxMun_c_0051336_rois_cc200.1D\n",
            "Reading timeseries file /content/BrainGNN/data/ABIDE_pcp/cpac/filt_noglobal/50022/Pitt_0050022_rois_cc200.1D\n",
            "Reading timeseries file /content/BrainGNN/data/ABIDE_pcp/cpac/filt_noglobal/50210/SDSU_0050210_rois_cc200.1D\n",
            "Reading timeseries file /content/BrainGNN/data/ABIDE_pcp/cpac/filt_noglobal/50446/USM_0050446_rois_cc200.1D\n",
            "Reading timeseries file /content/BrainGNN/data/ABIDE_pcp/cpac/filt_noglobal/51309/UCLA_2_0051309_rois_cc200.1D\n",
            "Reading timeseries file /content/BrainGNN/data/ABIDE_pcp/cpac/filt_noglobal/50821/KKI_0050821_rois_cc200.1D\n",
            "Reading timeseries file /content/BrainGNN/data/ABIDE_pcp/cpac/filt_noglobal/51132/Trinity_0051132_rois_cc200.1D\n",
            "Reading timeseries file /content/BrainGNN/data/ABIDE_pcp/cpac/filt_noglobal/51300/UCLA_2_0051300_rois_cc200.1D\n",
            "Reading timeseries file /content/BrainGNN/data/ABIDE_pcp/cpac/filt_noglobal/51556/SBL_0051556_rois_cc200.1D\n",
            "Reading timeseries file /content/BrainGNN/data/ABIDE_pcp/cpac/filt_noglobal/50642/CMU_a_0050642_rois_cc200.1D\n",
            "Reading timeseries file /content/BrainGNN/data/ABIDE_pcp/cpac/filt_noglobal/50470/USM_0050470_rois_cc200.1D\n",
            "Reading timeseries file /content/BrainGNN/data/ABIDE_pcp/cpac/filt_noglobal/50014/Pitt_0050014_rois_cc200.1D\n",
            "Reading timeseries file /content/BrainGNN/data/ABIDE_pcp/cpac/filt_noglobal/51569/SBL_0051569_rois_cc200.1D\n",
            "Reading timeseries file /content/BrainGNN/data/ABIDE_pcp/cpac/filt_noglobal/50689/Leuven_1_0050689_rois_cc200.1D\n",
            "Reading timeseries file /content/BrainGNN/data/ABIDE_pcp/cpac/filt_noglobal/50817/KKI_0050817_rois_cc200.1D\n",
            "Reading timeseries file /content/BrainGNN/data/ABIDE_pcp/cpac/filt_noglobal/50013/Pitt_0050013_rois_cc200.1D\n",
            "Reading timeseries file /content/BrainGNN/data/ABIDE_pcp/cpac/filt_noglobal/50477/USM_0050477_rois_cc200.1D\n",
            "Reading timeseries file /content/BrainGNN/data/ABIDE_pcp/cpac/filt_noglobal/50645/CMU_b_0050645_rois_cc200.1D\n",
            "Reading timeseries file /content/BrainGNN/data/ABIDE_pcp/cpac/filt_noglobal/50483/USM_0050483_rois_cc200.1D\n",
            "Reading timeseries file /content/BrainGNN/data/ABIDE_pcp/cpac/filt_noglobal/51307/UCLA_2_0051307_rois_cc200.1D\n",
            "Reading timeseries file /content/BrainGNN/data/ABIDE_pcp/cpac/filt_noglobal/51135/Trinity_0051135_rois_cc200.1D\n",
            "Reading timeseries file /content/BrainGNN/data/ABIDE_pcp/cpac/filt_noglobal/50448/USM_0050448_rois_cc200.1D\n",
            "Reading timeseries file /content/BrainGNN/data/ABIDE_pcp/cpac/filt_noglobal/51338/MaxMun_c_0051338_rois_cc200.1D\n",
            "Reading timeseries file /content/BrainGNN/data/ABIDE_pcp/cpac/filt_noglobal/51169/Stanford_0051169_rois_cc200.1D\n",
            "Reading timeseries file /content/BrainGNN/data/ABIDE_pcp/cpac/filt_noglobal/50289/UM_1_0050289_rois_cc200.1D\n",
            "Reading timeseries file /content/BrainGNN/data/ABIDE_pcp/cpac/filt_noglobal/50619/Yale_0050619_rois_cc200.1D\n",
            "Reading timeseries file /content/BrainGNN/data/ABIDE_pcp/cpac/filt_noglobal/51364/MaxMun_a_0051364_rois_cc200.1D\n",
            "Reading timeseries file /content/BrainGNN/data/ABIDE_pcp/cpac/filt_noglobal/51156/NYU_0051156_rois_cc200.1D\n",
            "Reading timeseries file /content/BrainGNN/data/ABIDE_pcp/cpac/filt_noglobal/50414/UM_2_0050414_rois_cc200.1D\n",
            "Reading timeseries file /content/BrainGNN/data/ABIDE_pcp/cpac/filt_noglobal/50626/Yale_0050626_rois_cc200.1D\n",
            "Reading timeseries file /content/BrainGNN/data/ABIDE_pcp/cpac/filt_noglobal/50242/Trinity_0050242_rois_cc200.1D\n",
            "Reading timeseries file /content/BrainGNN/data/ABIDE_pcp/cpac/filt_noglobal/50048/Pitt_0050048_rois_cc200.1D\n",
            "Reading timeseries file /content/BrainGNN/data/ABIDE_pcp/cpac/filt_noglobal/50245/Trinity_0050245_rois_cc200.1D\n",
            "Reading timeseries file /content/BrainGNN/data/ABIDE_pcp/cpac/filt_noglobal/50621/Yale_0050621_rois_cc200.1D\n",
            "Reading timeseries file /content/BrainGNN/data/ABIDE_pcp/cpac/filt_noglobal/50413/UM_2_0050413_rois_cc200.1D\n",
            "Reading timeseries file /content/BrainGNN/data/ABIDE_pcp/cpac/filt_noglobal/51151/NYU_0051151_rois_cc200.1D\n",
            "Reading timeseries file /content/BrainGNN/data/ABIDE_pcp/cpac/filt_noglobal/51363/MaxMun_a_0051363_rois_cc200.1D\n",
            "Reading timeseries file /content/BrainGNN/data/ABIDE_pcp/cpac/filt_noglobal/50628/Yale_0050628_rois_cc200.1D\n",
            "Reading timeseries file /content/BrainGNN/data/ABIDE_pcp/cpac/filt_noglobal/50617/Yale_0050617_rois_cc200.1D\n",
            "Reading timeseries file /content/BrainGNN/data/ABIDE_pcp/cpac/filt_noglobal/50425/UM_2_0050425_rois_cc200.1D\n",
            "Reading timeseries file /content/BrainGNN/data/ABIDE_pcp/cpac/filt_noglobal/51193/Stanford_0051193_rois_cc200.1D\n",
            "Reading timeseries file /content/BrainGNN/data/ABIDE_pcp/cpac/filt_noglobal/50041/Pitt_0050041_rois_cc200.1D\n",
            "Reading timeseries file /content/BrainGNN/data/ABIDE_pcp/cpac/filt_noglobal/50273/UM_1_0050273_rois_cc200.1D\n",
            "Reading timeseries file /content/BrainGNN/data/ABIDE_pcp/cpac/filt_noglobal/51167/Stanford_0051167_rois_cc200.1D\n",
            "Reading timeseries file /content/BrainGNN/data/ABIDE_pcp/cpac/filt_noglobal/51355/MaxMun_d_0051355_rois_cc200.1D\n",
            "Reading timeseries file /content/BrainGNN/data/ABIDE_pcp/cpac/filt_noglobal/50287/UM_1_0050287_rois_cc200.1D\n",
            "Reading timeseries file /content/BrainGNN/data/ABIDE_pcp/cpac/filt_noglobal/51352/MaxMun_d_0051352_rois_cc200.1D\n",
            "Reading timeseries file /content/BrainGNN/data/ABIDE_pcp/cpac/filt_noglobal/50280/UM_1_0050280_rois_cc200.1D\n",
            "Reading timeseries file /content/BrainGNN/data/ABIDE_pcp/cpac/filt_noglobal/51160/Stanford_0051160_rois_cc200.1D\n",
            "Reading timeseries file /content/BrainGNN/data/ABIDE_pcp/cpac/filt_noglobal/50274/UM_1_0050274_rois_cc200.1D\n",
            "Reading timeseries file /content/BrainGNN/data/ABIDE_pcp/cpac/filt_noglobal/51194/Stanford_0051194_rois_cc200.1D\n",
            "Reading timeseries file /content/BrainGNN/data/ABIDE_pcp/cpac/filt_noglobal/50046/Pitt_0050046_rois_cc200.1D\n",
            "Reading timeseries file /content/BrainGNN/data/ABIDE_pcp/cpac/filt_noglobal/50422/UM_2_0050422_rois_cc200.1D\n",
            "Reading timeseries file /content/BrainGNN/data/ABIDE_pcp/cpac/filt_noglobal/50610/Yale_0050610_rois_cc200.1D\n",
            "Reading timeseries file /content/BrainGNN/data/ABIDE_pcp/cpac/filt_noglobal/50482/USM_0050482_rois_cc200.1D\n",
            "Reading timeseries file /content/BrainGNN/data/ABIDE_pcp/cpac/filt_noglobal/51134/Trinity_0051134_rois_cc200.1D\n",
            "Reading timeseries file /content/BrainGNN/data/ABIDE_pcp/cpac/filt_noglobal/51306/UCLA_2_0051306_rois_cc200.1D\n",
            "Reading timeseries file /content/BrainGNN/data/ABIDE_pcp/cpac/filt_noglobal/50012/Pitt_0050012_rois_cc200.1D\n",
            "Reading timeseries file /content/BrainGNN/data/ABIDE_pcp/cpac/filt_noglobal/50644/CMU_b_0050644_rois_cc200.1D\n",
            "Reading timeseries file /content/BrainGNN/data/ABIDE_pcp/cpac/filt_noglobal/51339/MaxMun_c_0051339_rois_cc200.1D\n",
            "Reading timeseries file /content/BrainGNN/data/ABIDE_pcp/cpac/filt_noglobal/50449/USM_0050449_rois_cc200.1D\n",
            "Reading timeseries file /content/BrainGNN/data/ABIDE_pcp/cpac/filt_noglobal/50643/CMU_b_0050643_rois_cc200.1D\n",
            "Reading timeseries file /content/BrainGNN/data/ABIDE_pcp/cpac/filt_noglobal/50015/Pitt_0050015_rois_cc200.1D\n",
            "Reading timeseries file /content/BrainGNN/data/ABIDE_pcp/cpac/filt_noglobal/51301/UCLA_2_0051301_rois_cc200.1D\n",
            "Reading timeseries file /content/BrainGNN/data/ABIDE_pcp/cpac/filt_noglobal/51133/Trinity_0051133_rois_cc200.1D\n",
            "Reading timeseries file /content/BrainGNN/data/ABIDE_pcp/cpac/filt_noglobal/50485/USM_0050485_rois_cc200.1D\n",
            "Reading timeseries file /content/BrainGNN/data/ABIDE_pcp/cpac/filt_noglobal/51557/SBL_0051557_rois_cc200.1D\n",
            "Reading timeseries file /content/BrainGNN/data/ABIDE_pcp/cpac/filt_noglobal/50816/KKI_0050816_rois_cc200.1D\n",
            "Reading timeseries file /content/BrainGNN/data/ABIDE_pcp/cpac/filt_noglobal/50688/Leuven_1_0050688_rois_cc200.1D\n",
            "Reading timeseries file /content/BrainGNN/data/ABIDE_pcp/cpac/filt_noglobal/51568/SBL_0051568_rois_cc200.1D\n",
            "Reading timeseries file /content/BrainGNN/data/ABIDE_pcp/cpac/filt_noglobal/50211/SDSU_0050211_rois_cc200.1D\n",
            "Reading timeseries file /content/BrainGNN/data/ABIDE_pcp/cpac/filt_noglobal/50023/Pitt_0050023_rois_cc200.1D\n",
            "Reading timeseries file /content/BrainGNN/data/ABIDE_pcp/cpac/filt_noglobal/50447/USM_0050447_rois_cc200.1D\n",
            "Reading timeseries file /content/BrainGNN/data/ABIDE_pcp/cpac/filt_noglobal/51561/SBL_0051561_rois_cc200.1D\n",
            "Reading timeseries file /content/BrainGNN/data/ABIDE_pcp/cpac/filt_noglobal/51105/NYU_0051105_rois_cc200.1D\n",
            "Reading timeseries file /content/BrainGNN/data/ABIDE_pcp/cpac/filt_noglobal/50820/KKI_0050820_rois_cc200.1D\n",
            "Reading timeseries file /content/BrainGNN/data/ABIDE_pcp/cpac/filt_noglobal/51308/UCLA_2_0051308_rois_cc200.1D\n",
            "Reading timeseries file /content/BrainGNN/data/ABIDE_pcp/cpac/filt_noglobal/51102/NYU_0051102_rois_cc200.1D\n",
            "Reading timeseries file /content/BrainGNN/data/ABIDE_pcp/cpac/filt_noglobal/51330/MaxMun_d_0051330_rois_cc200.1D\n",
            "Reading timeseries file /content/BrainGNN/data/ABIDE_pcp/cpac/filt_noglobal/50686/Leuven_1_0050686_rois_cc200.1D\n",
            "Reading timeseries file /content/BrainGNN/data/ABIDE_pcp/cpac/filt_noglobal/51566/SBL_0051566_rois_cc200.1D\n",
            "Reading timeseries file /content/BrainGNN/data/ABIDE_pcp/cpac/filt_noglobal/50440/USM_0050440_rois_cc200.1D\n",
            "Reading timeseries file /content/BrainGNN/data/ABIDE_pcp/cpac/filt_noglobal/50818/KKI_0050818_rois_cc200.1D\n",
            "Reading timeseries file /content/BrainGNN/data/ABIDE_pcp/cpac/filt_noglobal/50024/Pitt_0050024_rois_cc200.1D\n",
            "Reading timeseries file /content/BrainGNN/data/ABIDE_pcp/cpac/filt_noglobal/50216/SDSU_0050216_rois_cc200.1D\n",
            "Reading timeseries file /content/BrainGNN/data/ABIDE_pcp/cpac/filt_noglobal/51559/SBL_0051559_rois_cc200.1D\n",
            "Reading timeseries file /content/BrainGNN/data/ABIDE_pcp/cpac/filt_noglobal/50169/OHSU_0050169_rois_cc200.1D\n",
            "Reading timeseries file /content/BrainGNN/data/ABIDE_pcp/cpac/filt_noglobal/50955/NYU_0050955_rois_cc200.1D\n",
            "Reading timeseries file /content/BrainGNN/data/ABIDE_pcp/cpac/filt_noglobal/50156/OHSU_0050156_rois_cc200.1D\n",
            "Reading timeseries file /content/BrainGNN/data/ABIDE_pcp/cpac/filt_noglobal/51084/NYU_0051084_rois_cc200.1D\n",
            "Reading timeseries file /content/BrainGNN/data/ABIDE_pcp/cpac/filt_noglobal/50364/UM_1_0050364_rois_cc200.1D\n",
            "Reading timeseries file /content/BrainGNN/data/ABIDE_pcp/cpac/filt_noglobal/50700/Leuven_1_0050700_rois_cc200.1D\n",
            "Reading timeseries file /content/BrainGNN/data/ABIDE_pcp/cpac/filt_noglobal/50532/USM_0050532_rois_cc200.1D\n",
            "Reading timeseries file /content/BrainGNN/data/ABIDE_pcp/cpac/filt_noglobal/51070/NYU_0051070_rois_cc200.1D\n",
            "Reading timeseries file /content/BrainGNN/data/ABIDE_pcp/cpac/filt_noglobal/50390/UM_2_0050390_rois_cc200.1D\n",
            "Reading timeseries file /content/BrainGNN/data/ABIDE_pcp/cpac/filt_noglobal/51048/NYU_0051048_rois_cc200.1D\n",
            "Reading timeseries file /content/BrainGNN/data/ABIDE_pcp/cpac/filt_noglobal/50952/NYU_0050952_rois_cc200.1D\n",
            "Reading timeseries file /content/BrainGNN/data/ABIDE_pcp/cpac/filt_noglobal/50738/Leuven_2_0050738_rois_cc200.1D\n",
            "Reading timeseries file /content/BrainGNN/data/ABIDE_pcp/cpac/filt_noglobal/50397/UM_2_0050397_rois_cc200.1D\n",
            "Reading timeseries file /content/BrainGNN/data/ABIDE_pcp/cpac/filt_noglobal/51077/NYU_0051077_rois_cc200.1D\n",
            "Reading timeseries file /content/BrainGNN/data/ABIDE_pcp/cpac/filt_noglobal/50999/NYU_0050999_rois_cc200.1D\n",
            "Reading timeseries file /content/BrainGNN/data/ABIDE_pcp/cpac/filt_noglobal/50707/Leuven_1_0050707_rois_cc200.1D\n",
            "Reading timeseries file /content/BrainGNN/data/ABIDE_pcp/cpac/filt_noglobal/50363/UM_1_0050363_rois_cc200.1D\n",
            "Reading timeseries file /content/BrainGNN/data/ABIDE_pcp/cpac/filt_noglobal/51083/NYU_0051083_rois_cc200.1D\n",
            "Reading timeseries file /content/BrainGNN/data/ABIDE_pcp/cpac/filt_noglobal/50990/NYU_0050990_rois_cc200.1D\n",
            "Reading timeseries file /content/BrainGNN/data/ABIDE_pcp/cpac/filt_noglobal/50158/OHSU_0050158_rois_cc200.1D\n",
            "Reading timeseries file /content/BrainGNN/data/ABIDE_pcp/cpac/filt_noglobal/50964/NYU_0050964_rois_cc200.1D\n",
            "Reading timeseries file /content/BrainGNN/data/ABIDE_pcp/cpac/filt_noglobal/51273/UCLA_1_0051273_rois_cc200.1D\n",
            "Reading timeseries file /content/BrainGNN/data/ABIDE_pcp/cpac/filt_noglobal/51041/NYU_0051041_rois_cc200.1D\n",
            "Reading timeseries file /content/BrainGNN/data/ABIDE_pcp/cpac/filt_noglobal/50193/SDSU_0050193_rois_cc200.1D\n",
            "Reading timeseries file /content/BrainGNN/data/ABIDE_pcp/cpac/filt_noglobal/50355/UM_1_0050355_rois_cc200.1D\n",
            "Reading timeseries file /content/BrainGNN/data/ABIDE_pcp/cpac/filt_noglobal/50167/OHSU_0050167_rois_cc200.1D\n",
            "Reading timeseries file /content/BrainGNN/data/ABIDE_pcp/cpac/filt_noglobal/50503/USM_0050503_rois_cc200.1D\n",
            "Reading timeseries file /content/BrainGNN/data/ABIDE_pcp/cpac/filt_noglobal/50731/Leuven_2_0050731_rois_cc200.1D\n",
            "Reading timeseries file /content/BrainGNN/data/ABIDE_pcp/cpac/filt_noglobal/50709/Leuven_1_0050709_rois_cc200.1D\n",
            "Reading timeseries file /content/BrainGNN/data/ABIDE_pcp/cpac/filt_noglobal/50399/UM_2_0050399_rois_cc200.1D\n",
            "Reading timeseries file /content/BrainGNN/data/ABIDE_pcp/cpac/filt_noglobal/51079/NYU_0051079_rois_cc200.1D\n",
            "Reading timeseries file /content/BrainGNN/data/ABIDE_pcp/cpac/filt_noglobal/50997/NYU_0050997_rois_cc200.1D\n",
            "Reading timeseries file /content/BrainGNN/data/ABIDE_pcp/cpac/filt_noglobal/50736/Leuven_2_0050736_rois_cc200.1D\n",
            "Reading timeseries file /content/BrainGNN/data/ABIDE_pcp/cpac/filt_noglobal/50504/USM_0050504_rois_cc200.1D\n",
            "Reading timeseries file /content/BrainGNN/data/ABIDE_pcp/cpac/filt_noglobal/50160/OHSU_0050160_rois_cc200.1D\n",
            "Reading timeseries file /content/BrainGNN/data/ABIDE_pcp/cpac/filt_noglobal/51280/UCLA_1_0051280_rois_cc200.1D\n",
            "Reading timeseries file /content/BrainGNN/data/ABIDE_pcp/cpac/filt_noglobal/50352/UM_1_0050352_rois_cc200.1D\n",
            "Reading timeseries file /content/BrainGNN/data/ABIDE_pcp/cpac/filt_noglobal/51046/NYU_0051046_rois_cc200.1D\n",
            "Reading timeseries file /content/BrainGNN/data/ABIDE_pcp/cpac/filt_noglobal/50194/SDSU_0050194_rois_cc200.1D\n",
            "Reading timeseries file /content/BrainGNN/data/ABIDE_pcp/cpac/filt_noglobal/51274/UCLA_1_0051274_rois_cc200.1D\n",
            "Reading timeseries file /content/BrainGNN/data/ABIDE_pcp/cpac/filt_noglobal/51482/Caltech_0051482_rois_cc200.1D\n",
            "Reading timeseries file /content/BrainGNN/data/ABIDE_pcp/cpac/filt_noglobal/50306/UM_1_0050306_rois_cc200.1D\n",
            "Reading timeseries file /content/BrainGNN/data/ABIDE_pcp/cpac/filt_noglobal/50134/Olin_0050134_rois_cc200.1D\n",
            "Reading timeseries file /content/BrainGNN/data/ABIDE_pcp/cpac/filt_noglobal/51220/UCLA_1_0051220_rois_cc200.1D\n",
            "Reading timeseries file /content/BrainGNN/data/ABIDE_pcp/cpac/filt_noglobal/51012/NYU_0051012_rois_cc200.1D\n",
            "Reading timeseries file /content/BrainGNN/data/ABIDE_pcp/cpac/filt_noglobal/51476/Caltech_0051476_rois_cc200.1D\n",
            "Reading timeseries file /content/BrainGNN/data/ABIDE_pcp/cpac/filt_noglobal/50796/KKI_0050796_rois_cc200.1D\n",
            "Reading timeseries file /content/BrainGNN/data/ABIDE_pcp/cpac/filt_noglobal/50339/UM_1_0050339_rois_cc200.1D\n",
            "Reading timeseries file /content/BrainGNN/data/ABIDE_pcp/cpac/filt_noglobal/50791/KKI_0050791_rois_cc200.1D\n",
            "Reading timeseries file /content/BrainGNN/data/ABIDE_pcp/cpac/filt_noglobal/51471/Caltech_0051471_rois_cc200.1D\n",
            "Reading timeseries file /content/BrainGNN/data/ABIDE_pcp/cpac/filt_noglobal/51015/NYU_0051015_rois_cc200.1D\n",
            "Reading timeseries file /content/BrainGNN/data/ABIDE_pcp/cpac/filt_noglobal/51227/UCLA_1_0051227_rois_cc200.1D\n",
            "Reading timeseries file /content/BrainGNN/data/ABIDE_pcp/cpac/filt_noglobal/50133/Olin_0050133_rois_cc200.1D\n",
            "Reading timeseries file /content/BrainGNN/data/ABIDE_pcp/cpac/filt_noglobal/50301/UM_1_0050301_rois_cc200.1D\n",
            "Reading timeseries file /content/BrainGNN/data/ABIDE_pcp/cpac/filt_noglobal/50557/Yale_0050557_rois_cc200.1D\n",
            "Reading timeseries file /content/BrainGNN/data/ABIDE_pcp/cpac/filt_noglobal/51485/Caltech_0051485_rois_cc200.1D\n",
            "Reading timeseries file /content/BrainGNN/data/ABIDE_pcp/cpac/filt_noglobal/51218/UCLA_1_0051218_rois_cc200.1D\n",
            "Reading timeseries file /content/BrainGNN/data/ABIDE_pcp/cpac/filt_noglobal/50568/Yale_0050568_rois_cc200.1D\n",
            "Reading timeseries file /content/BrainGNN/data/ABIDE_pcp/cpac/filt_noglobal/51023/NYU_0051023_rois_cc200.1D\n",
            "Reading timeseries file /content/BrainGNN/data/ABIDE_pcp/cpac/filt_noglobal/51211/UCLA_1_0051211_rois_cc200.1D\n",
            "Reading timeseries file /content/BrainGNN/data/ABIDE_pcp/cpac/filt_noglobal/50753/Leuven_2_0050753_rois_cc200.1D\n",
            "Reading timeseries file /content/BrainGNN/data/ABIDE_pcp/cpac/filt_noglobal/50561/Yale_0050561_rois_cc200.1D\n",
            "Reading timeseries file /content/BrainGNN/data/ABIDE_pcp/cpac/filt_noglobal/50105/Olin_0050105_rois_cc200.1D\n",
            "Reading timeseries file /content/BrainGNN/data/ABIDE_pcp/cpac/filt_noglobal/50337/UM_1_0050337_rois_cc200.1D\n",
            "Reading timeseries file /content/BrainGNN/data/ABIDE_pcp/cpac/filt_noglobal/51478/Caltech_0051478_rois_cc200.1D\n",
            "Reading timeseries file /content/BrainGNN/data/ABIDE_pcp/cpac/filt_noglobal/50798/KKI_0050798_rois_cc200.1D\n",
            "Reading timeseries file /content/BrainGNN/data/ABIDE_pcp/cpac/filt_noglobal/50308/UM_1_0050308_rois_cc200.1D\n",
            "Reading timeseries file /content/BrainGNN/data/ABIDE_pcp/cpac/filt_noglobal/50330/UM_1_0050330_rois_cc200.1D\n",
            "Reading timeseries file /content/BrainGNN/data/ABIDE_pcp/cpac/filt_noglobal/50102/Olin_0050102_rois_cc200.1D\n",
            "Reading timeseries file /content/BrainGNN/data/ABIDE_pcp/cpac/filt_noglobal/50566/Yale_0050566_rois_cc200.1D\n",
            "Reading timeseries file /content/BrainGNN/data/ABIDE_pcp/cpac/filt_noglobal/50754/Leuven_2_0050754_rois_cc200.1D\n",
            "Reading timeseries file /content/BrainGNN/data/ABIDE_pcp/cpac/filt_noglobal/51216/UCLA_1_0051216_rois_cc200.1D\n",
            "Reading timeseries file /content/BrainGNN/data/ABIDE_pcp/cpac/filt_noglobal/51024/NYU_0051024_rois_cc200.1D\n",
            "Reading timeseries file /content/BrainGNN/data/ABIDE_pcp/cpac/filt_noglobal/50559/Yale_0050559_rois_cc200.1D\n",
            "Reading timeseries file /content/BrainGNN/data/ABIDE_pcp/cpac/filt_noglobal/51229/UCLA_1_0051229_rois_cc200.1D\n",
            "Reading timeseries file /content/BrainGNN/data/ABIDE_pcp/cpac/filt_noglobal/50996/NYU_0050996_rois_cc200.1D\n",
            "Reading timeseries file /content/BrainGNN/data/ABIDE_pcp/cpac/filt_noglobal/51078/NYU_0051078_rois_cc200.1D\n",
            "Reading timeseries file /content/BrainGNN/data/ABIDE_pcp/cpac/filt_noglobal/50962/NYU_0050962_rois_cc200.1D\n",
            "Reading timeseries file /content/BrainGNN/data/ABIDE_pcp/cpac/filt_noglobal/50708/Leuven_1_0050708_rois_cc200.1D\n",
            "Reading timeseries file /content/BrainGNN/data/ABIDE_pcp/cpac/filt_noglobal/51275/UCLA_1_0051275_rois_cc200.1D\n",
            "Reading timeseries file /content/BrainGNN/data/ABIDE_pcp/cpac/filt_noglobal/51047/NYU_0051047_rois_cc200.1D\n",
            "Reading timeseries file /content/BrainGNN/data/ABIDE_pcp/cpac/filt_noglobal/50195/SDSU_0050195_rois_cc200.1D\n",
            "Reading timeseries file /content/BrainGNN/data/ABIDE_pcp/cpac/filt_noglobal/50505/USM_0050505_rois_cc200.1D\n",
            "Reading timeseries file /content/BrainGNN/data/ABIDE_pcp/cpac/filt_noglobal/50737/Leuven_2_0050737_rois_cc200.1D\n",
            "Reading timeseries file /content/BrainGNN/data/ABIDE_pcp/cpac/filt_noglobal/51281/UCLA_1_0051281_rois_cc200.1D\n",
            "Reading timeseries file /content/BrainGNN/data/ABIDE_pcp/cpac/filt_noglobal/50353/UM_1_0050353_rois_cc200.1D\n",
            "Reading timeseries file /content/BrainGNN/data/ABIDE_pcp/cpac/filt_noglobal/50161/OHSU_0050161_rois_cc200.1D\n",
            "Reading timeseries file /content/BrainGNN/data/ABIDE_pcp/cpac/filt_noglobal/50965/NYU_0050965_rois_cc200.1D\n",
            "Reading timeseries file /content/BrainGNN/data/ABIDE_pcp/cpac/filt_noglobal/50159/OHSU_0050159_rois_cc200.1D\n",
            "Reading timeseries file /content/BrainGNN/data/ABIDE_pcp/cpac/filt_noglobal/50991/NYU_0050991_rois_cc200.1D\n",
            "Reading timeseries file /content/BrainGNN/data/ABIDE_pcp/cpac/filt_noglobal/50166/OHSU_0050166_rois_cc200.1D\n",
            "Reading timeseries file /content/BrainGNN/data/ABIDE_pcp/cpac/filt_noglobal/50354/UM_1_0050354_rois_cc200.1D\n",
            "Reading timeseries file /content/BrainGNN/data/ABIDE_pcp/cpac/filt_noglobal/50730/Leuven_2_0050730_rois_cc200.1D\n",
            "Reading timeseries file /content/BrainGNN/data/ABIDE_pcp/cpac/filt_noglobal/50502/USM_0050502_rois_cc200.1D\n",
            "Reading timeseries file /content/BrainGNN/data/ABIDE_pcp/cpac/filt_noglobal/51040/NYU_0051040_rois_cc200.1D\n",
            "Reading timeseries file /content/BrainGNN/data/ABIDE_pcp/cpac/filt_noglobal/50192/SDSU_0050192_rois_cc200.1D\n",
            "Reading timeseries file /content/BrainGNN/data/ABIDE_pcp/cpac/filt_noglobal/51272/UCLA_1_0051272_rois_cc200.1D\n",
            "Reading timeseries file /content/BrainGNN/data/ABIDE_pcp/cpac/filt_noglobal/50739/Leuven_2_0050739_rois_cc200.1D\n",
            "Reading timeseries file /content/BrainGNN/data/ABIDE_pcp/cpac/filt_noglobal/51049/NYU_0051049_rois_cc200.1D\n",
            "Reading timeseries file /content/BrainGNN/data/ABIDE_pcp/cpac/filt_noglobal/50706/Leuven_1_0050706_rois_cc200.1D\n",
            "Reading timeseries file /content/BrainGNN/data/ABIDE_pcp/cpac/filt_noglobal/50150/OHSU_0050150_rois_cc200.1D\n",
            "Reading timeseries file /content/BrainGNN/data/ABIDE_pcp/cpac/filt_noglobal/51082/NYU_0051082_rois_cc200.1D\n",
            "Reading timeseries file /content/BrainGNN/data/ABIDE_pcp/cpac/filt_noglobal/50362/UM_1_0050362_rois_cc200.1D\n",
            "Reading timeseries file /content/BrainGNN/data/ABIDE_pcp/cpac/filt_noglobal/50998/NYU_0050998_rois_cc200.1D\n",
            "Reading timeseries file /content/BrainGNN/data/ABIDE_pcp/cpac/filt_noglobal/51076/NYU_0051076_rois_cc200.1D\n",
            "Reading timeseries file /content/BrainGNN/data/ABIDE_pcp/cpac/filt_noglobal/50954/NYU_0050954_rois_cc200.1D\n",
            "Reading timeseries file /content/BrainGNN/data/ABIDE_pcp/cpac/filt_noglobal/50168/OHSU_0050168_rois_cc200.1D\n",
            "Reading timeseries file /content/BrainGNN/data/ABIDE_pcp/cpac/filt_noglobal/50391/UM_2_0050391_rois_cc200.1D\n",
            "Reading timeseries file /content/BrainGNN/data/ABIDE_pcp/cpac/filt_noglobal/51071/NYU_0051071_rois_cc200.1D\n",
            "Reading timeseries file /content/BrainGNN/data/ABIDE_pcp/cpac/filt_noglobal/50365/UM_1_0050365_rois_cc200.1D\n",
            "Reading timeseries file /content/BrainGNN/data/ABIDE_pcp/cpac/filt_noglobal/50157/OHSU_0050157_rois_cc200.1D\n",
            "Reading timeseries file /content/BrainGNN/data/ABIDE_pcp/cpac/filt_noglobal/51085/NYU_0051085_rois_cc200.1D\n",
            "Reading timeseries file /content/BrainGNN/data/ABIDE_pcp/cpac/filt_noglobal/50701/Leuven_1_0050701_rois_cc200.1D\n",
            "Reading timeseries file /content/BrainGNN/data/ABIDE_pcp/cpac/filt_noglobal/51025/NYU_0051025_rois_cc200.1D\n",
            "Reading timeseries file /content/BrainGNN/data/ABIDE_pcp/cpac/filt_noglobal/51217/UCLA_1_0051217_rois_cc200.1D\n",
            "Reading timeseries file /content/BrainGNN/data/ABIDE_pcp/cpac/filt_noglobal/50103/Olin_0050103_rois_cc200.1D\n",
            "Reading timeseries file /content/BrainGNN/data/ABIDE_pcp/cpac/filt_noglobal/50331/UM_1_0050331_rois_cc200.1D\n",
            "Reading timeseries file /content/BrainGNN/data/ABIDE_pcp/cpac/filt_noglobal/50755/Leuven_2_0050755_rois_cc200.1D\n",
            "Reading timeseries file /content/BrainGNN/data/ABIDE_pcp/cpac/filt_noglobal/50567/Yale_0050567_rois_cc200.1D\n",
            "Reading timeseries file /content/BrainGNN/data/ABIDE_pcp/cpac/filt_noglobal/51228/UCLA_1_0051228_rois_cc200.1D\n",
            "Reading timeseries file /content/BrainGNN/data/ABIDE_pcp/cpac/filt_noglobal/50558/Yale_0050558_rois_cc200.1D\n",
            "Reading timeseries file /content/BrainGNN/data/ABIDE_pcp/cpac/filt_noglobal/50560/Yale_0050560_rois_cc200.1D\n",
            "Reading timeseries file /content/BrainGNN/data/ABIDE_pcp/cpac/filt_noglobal/50752/Leuven_2_0050752_rois_cc200.1D\n",
            "Reading timeseries file /content/BrainGNN/data/ABIDE_pcp/cpac/filt_noglobal/50336/UM_1_0050336_rois_cc200.1D\n",
            "Reading timeseries file /content/BrainGNN/data/ABIDE_pcp/cpac/filt_noglobal/50104/Olin_0050104_rois_cc200.1D\n",
            "Reading timeseries file /content/BrainGNN/data/ABIDE_pcp/cpac/filt_noglobal/51210/UCLA_1_0051210_rois_cc200.1D\n",
            "Reading timeseries file /content/BrainGNN/data/ABIDE_pcp/cpac/filt_noglobal/50799/KKI_0050799_rois_cc200.1D\n",
            "Reading timeseries file /content/BrainGNN/data/ABIDE_pcp/cpac/filt_noglobal/51479/Caltech_0051479_rois_cc200.1D\n",
            "Reading timeseries file /content/BrainGNN/data/ABIDE_pcp/cpac/filt_noglobal/50300/UM_1_0050300_rois_cc200.1D\n",
            "Reading timeseries file /content/BrainGNN/data/ABIDE_pcp/cpac/filt_noglobal/50132/Olin_0050132_rois_cc200.1D\n",
            "Reading timeseries file /content/BrainGNN/data/ABIDE_pcp/cpac/filt_noglobal/50556/Yale_0050556_rois_cc200.1D\n",
            "Reading timeseries file /content/BrainGNN/data/ABIDE_pcp/cpac/filt_noglobal/51484/Caltech_0051484_rois_cc200.1D\n",
            "Reading timeseries file /content/BrainGNN/data/ABIDE_pcp/cpac/filt_noglobal/51470/Caltech_0051470_rois_cc200.1D\n",
            "Reading timeseries file /content/BrainGNN/data/ABIDE_pcp/cpac/filt_noglobal/50790/KKI_0050790_rois_cc200.1D\n",
            "Reading timeseries file /content/BrainGNN/data/ABIDE_pcp/cpac/filt_noglobal/51226/UCLA_1_0051226_rois_cc200.1D\n",
            "Reading timeseries file /content/BrainGNN/data/ABIDE_pcp/cpac/filt_noglobal/51014/NYU_0051014_rois_cc200.1D\n",
            "Reading timeseries file /content/BrainGNN/data/ABIDE_pcp/cpac/filt_noglobal/50569/Yale_0050569_rois_cc200.1D\n",
            "Reading timeseries file /content/BrainGNN/data/ABIDE_pcp/cpac/filt_noglobal/51219/UCLA_1_0051219_rois_cc200.1D\n",
            "Reading timeseries file /content/BrainGNN/data/ABIDE_pcp/cpac/filt_noglobal/51013/NYU_0051013_rois_cc200.1D\n",
            "Reading timeseries file /content/BrainGNN/data/ABIDE_pcp/cpac/filt_noglobal/51221/UCLA_1_0051221_rois_cc200.1D\n",
            "Reading timeseries file /content/BrainGNN/data/ABIDE_pcp/cpac/filt_noglobal/50797/KKI_0050797_rois_cc200.1D\n",
            "Reading timeseries file /content/BrainGNN/data/ABIDE_pcp/cpac/filt_noglobal/51477/Caltech_0051477_rois_cc200.1D\n",
            "Reading timeseries file /content/BrainGNN/data/ABIDE_pcp/cpac/filt_noglobal/50551/Yale_0050551_rois_cc200.1D\n",
            "Reading timeseries file /content/BrainGNN/data/ABIDE_pcp/cpac/filt_noglobal/51483/Caltech_0051483_rois_cc200.1D\n",
            "Reading timeseries file /content/BrainGNN/data/ABIDE_pcp/cpac/filt_noglobal/50135/Olin_0050135_rois_cc200.1D\n",
            "Reading timeseries file /content/BrainGNN/data/ABIDE_pcp/cpac/filt_noglobal/50307/UM_1_0050307_rois_cc200.1D\n",
            "Reading timeseries file /content/BrainGNN/data/ABIDE_pcp/cpac/filt_noglobal/50338/UM_1_0050338_rois_cc200.1D\n",
            "Reading timeseries file /content/BrainGNN/data/ABIDE_pcp/cpac/filt_noglobal/50171/OHSU_0050171_rois_cc200.1D\n",
            "Reading timeseries file /content/BrainGNN/data/ABIDE_pcp/cpac/filt_noglobal/50343/UM_1_0050343_rois_cc200.1D\n",
            "Reading timeseries file /content/BrainGNN/data/ABIDE_pcp/cpac/filt_noglobal/51291/UCLA_2_0051291_rois_cc200.1D\n",
            "Reading timeseries file /content/BrainGNN/data/ABIDE_pcp/cpac/filt_noglobal/50727/Leuven_2_0050727_rois_cc200.1D\n",
            "Reading timeseries file /content/BrainGNN/data/ABIDE_pcp/cpac/filt_noglobal/50515/USM_0050515_rois_cc200.1D\n",
            "Reading timeseries file /content/BrainGNN/data/ABIDE_pcp/cpac/filt_noglobal/50185/SDSU_0050185_rois_cc200.1D\n",
            "Reading timeseries file /content/BrainGNN/data/ABIDE_pcp/cpac/filt_noglobal/51057/NYU_0051057_rois_cc200.1D\n",
            "Reading timeseries file /content/BrainGNN/data/ABIDE_pcp/cpac/filt_noglobal/51265/UCLA_1_0051265_rois_cc200.1D\n",
            "Reading timeseries file /content/BrainGNN/data/ABIDE_pcp/cpac/filt_noglobal/50972/NYU_0050972_rois_cc200.1D\n",
            "Reading timeseries file /content/BrainGNN/data/ABIDE_pcp/cpac/filt_noglobal/50388/UM_2_0050388_rois_cc200.1D\n",
            "Reading timeseries file /content/BrainGNN/data/ABIDE_pcp/cpac/filt_noglobal/50986/NYU_0050986_rois_cc200.1D\n",
            "Reading timeseries file /content/BrainGNN/data/ABIDE_pcp/cpac/filt_noglobal/51068/NYU_0051068_rois_cc200.1D\n",
            "Reading timeseries file /content/BrainGNN/data/ABIDE_pcp/cpac/filt_noglobal/51262/UCLA_1_0051262_rois_cc200.1D\n",
            "Reading timeseries file /content/BrainGNN/data/ABIDE_pcp/cpac/filt_noglobal/50182/SDSU_0050182_rois_cc200.1D\n",
            "Reading timeseries file /content/BrainGNN/data/ABIDE_pcp/cpac/filt_noglobal/51050/NYU_0051050_rois_cc200.1D\n",
            "Reading timeseries file /content/BrainGNN/data/ABIDE_pcp/cpac/filt_noglobal/51606/MaxMun_a_0051606_rois_cc200.1D\n",
            "Reading timeseries file /content/BrainGNN/data/ABIDE_pcp/cpac/filt_noglobal/50344/UM_1_0050344_rois_cc200.1D\n",
            "Reading timeseries file /content/BrainGNN/data/ABIDE_pcp/cpac/filt_noglobal/51296/UCLA_2_0051296_rois_cc200.1D\n",
            "Reading timeseries file /content/BrainGNN/data/ABIDE_pcp/cpac/filt_noglobal/50981/NYU_0050981_rois_cc200.1D\n",
            "Reading timeseries file /content/BrainGNN/data/ABIDE_pcp/cpac/filt_noglobal/50149/OHSU_0050149_rois_cc200.1D\n",
            "Reading timeseries file /content/BrainGNN/data/ABIDE_pcp/cpac/filt_noglobal/51254/UCLA_1_0051254_rois_cc200.1D\n",
            "Reading timeseries file /content/BrainGNN/data/ABIDE_pcp/cpac/filt_noglobal/50386/UM_2_0050386_rois_cc200.1D\n",
            "Reading timeseries file /content/BrainGNN/data/ABIDE_pcp/cpac/filt_noglobal/50988/NYU_0050988_rois_cc200.1D\n",
            "Reading timeseries file /content/BrainGNN/data/ABIDE_pcp/cpac/filt_noglobal/51066/NYU_0051066_rois_cc200.1D\n",
            "Reading timeseries file /content/BrainGNN/data/ABIDE_pcp/cpac/filt_noglobal/50372/UM_1_0050372_rois_cc200.1D\n",
            "Reading timeseries file /content/BrainGNN/data/ABIDE_pcp/cpac/filt_noglobal/50524/USM_0050524_rois_cc200.1D\n",
            "Reading timeseries file /content/BrainGNN/data/ABIDE_pcp/cpac/filt_noglobal/51059/NYU_0051059_rois_cc200.1D\n",
            "Reading timeseries file /content/BrainGNN/data/ABIDE_pcp/cpac/filt_noglobal/50711/Leuven_1_0050711_rois_cc200.1D\n",
            "Reading timeseries file /content/BrainGNN/data/ABIDE_pcp/cpac/filt_noglobal/50523/USM_0050523_rois_cc200.1D\n",
            "Reading timeseries file /content/BrainGNN/data/ABIDE_pcp/cpac/filt_noglobal/51095/NYU_0051095_rois_cc200.1D\n",
            "Reading timeseries file /content/BrainGNN/data/ABIDE_pcp/cpac/filt_noglobal/50147/OHSU_0050147_rois_cc200.1D\n",
            "Reading timeseries file /content/BrainGNN/data/ABIDE_pcp/cpac/filt_noglobal/50375/UM_1_0050375_rois_cc200.1D\n",
            "Reading timeseries file /content/BrainGNN/data/ABIDE_pcp/cpac/filt_noglobal/51061/NYU_0051061_rois_cc200.1D\n",
            "Reading timeseries file /content/BrainGNN/data/ABIDE_pcp/cpac/filt_noglobal/51253/UCLA_1_0051253_rois_cc200.1D\n",
            "Reading timeseries file /content/BrainGNN/data/ABIDE_pcp/cpac/filt_noglobal/50381/UM_1_0050381_rois_cc200.1D\n",
            "Reading timeseries file /content/BrainGNN/data/ABIDE_pcp/cpac/filt_noglobal/51298/UCLA_2_0051298_rois_cc200.1D\n",
            "Reading timeseries file /content/BrainGNN/data/ABIDE_pcp/cpac/filt_noglobal/51238/UCLA_1_0051238_rois_cc200.1D\n",
            "Reading timeseries file /content/BrainGNN/data/ABIDE_pcp/cpac/filt_noglobal/50577/Yale_0050577_rois_cc200.1D\n",
            "Reading timeseries file /content/BrainGNN/data/ABIDE_pcp/cpac/filt_noglobal/50745/Leuven_2_0050745_rois_cc200.1D\n",
            "Reading timeseries file /content/BrainGNN/data/ABIDE_pcp/cpac/filt_noglobal/50321/UM_1_0050321_rois_cc200.1D\n",
            "Reading timeseries file /content/BrainGNN/data/ABIDE_pcp/cpac/filt_noglobal/50113/Olin_0050113_rois_cc200.1D\n",
            "Reading timeseries file /content/BrainGNN/data/ABIDE_pcp/cpac/filt_noglobal/51207/UCLA_1_0051207_rois_cc200.1D\n",
            "Reading timeseries file /content/BrainGNN/data/ABIDE_pcp/cpac/filt_noglobal/51035/NYU_0051035_rois_cc200.1D\n",
            "Reading timeseries file /content/BrainGNN/data/ABIDE_pcp/cpac/filt_noglobal/51469/Caltech_0051469_rois_cc200.1D\n",
            "Reading timeseries file /content/BrainGNN/data/ABIDE_pcp/cpac/filt_noglobal/50789/KKI_0050789_rois_cc200.1D\n",
            "Reading timeseries file /content/BrainGNN/data/ABIDE_pcp/cpac/filt_noglobal/50319/UM_1_0050319_rois_cc200.1D\n",
            "Reading timeseries file /content/BrainGNN/data/ABIDE_pcp/cpac/filt_noglobal/51456/Caltech_0051456_rois_cc200.1D\n",
            "Reading timeseries file /content/BrainGNN/data/ABIDE_pcp/cpac/filt_noglobal/51032/NYU_0051032_rois_cc200.1D\n",
            "Reading timeseries file /content/BrainGNN/data/ABIDE_pcp/cpac/filt_noglobal/50114/Olin_0050114_rois_cc200.1D\n",
            "Reading timeseries file /content/BrainGNN/data/ABIDE_pcp/cpac/filt_noglobal/50326/UM_1_0050326_rois_cc200.1D\n",
            "Reading timeseries file /content/BrainGNN/data/ABIDE_pcp/cpac/filt_noglobal/50742/Leuven_2_0050742_rois_cc200.1D\n",
            "Reading timeseries file /content/BrainGNN/data/ABIDE_pcp/cpac/filt_noglobal/50570/Yale_0050570_rois_cc200.1D\n",
            "Reading timeseries file /content/BrainGNN/data/ABIDE_pcp/cpac/filt_noglobal/51209/UCLA_1_0051209_rois_cc200.1D\n",
            "Reading timeseries file /content/BrainGNN/data/ABIDE_pcp/cpac/filt_noglobal/51236/UCLA_1_0051236_rois_cc200.1D\n",
            "Reading timeseries file /content/BrainGNN/data/ABIDE_pcp/cpac/filt_noglobal/50780/KKI_0050780_rois_cc200.1D\n",
            "Reading timeseries file /content/BrainGNN/data/ABIDE_pcp/cpac/filt_noglobal/51460/Caltech_0051460_rois_cc200.1D\n",
            "Reading timeseries file /content/BrainGNN/data/ABIDE_pcp/cpac/filt_noglobal/50774/KKI_0050774_rois_cc200.1D\n",
            "Reading timeseries file /content/BrainGNN/data/ABIDE_pcp/cpac/filt_noglobal/50122/Olin_0050122_rois_cc200.1D\n",
            "Reading timeseries file /content/BrainGNN/data/ABIDE_pcp/cpac/filt_noglobal/50310/UM_1_0050310_rois_cc200.1D\n",
            "Reading timeseries file /content/BrainGNN/data/ABIDE_pcp/cpac/filt_noglobal/51458/Caltech_0051458_rois_cc200.1D\n",
            "Reading timeseries file /content/BrainGNN/data/ABIDE_pcp/cpac/filt_noglobal/50317/UM_1_0050317_rois_cc200.1D\n",
            "Reading timeseries file /content/BrainGNN/data/ABIDE_pcp/cpac/filt_noglobal/50125/Olin_0050125_rois_cc200.1D\n",
            "Reading timeseries file /content/BrainGNN/data/ABIDE_pcp/cpac/filt_noglobal/51493/Caltech_0051493_rois_cc200.1D\n",
            "Reading timeseries file /content/BrainGNN/data/ABIDE_pcp/cpac/filt_noglobal/50773/KKI_0050773_rois_cc200.1D\n",
            "Reading timeseries file /content/BrainGNN/data/ABIDE_pcp/cpac/filt_noglobal/51467/Caltech_0051467_rois_cc200.1D\n",
            "Reading timeseries file /content/BrainGNN/data/ABIDE_pcp/cpac/filt_noglobal/50787/KKI_0050787_rois_cc200.1D\n",
            "Reading timeseries file /content/BrainGNN/data/ABIDE_pcp/cpac/filt_noglobal/51231/UCLA_1_0051231_rois_cc200.1D\n",
            "Reading timeseries file /content/BrainGNN/data/ABIDE_pcp/cpac/filt_noglobal/51003/NYU_0051003_rois_cc200.1D\n",
            "Reading timeseries file /content/BrainGNN/data/ABIDE_pcp/cpac/filt_noglobal/51252/UCLA_1_0051252_rois_cc200.1D\n",
            "Reading timeseries file /content/BrainGNN/data/ABIDE_pcp/cpac/filt_noglobal/50380/UM_1_0050380_rois_cc200.1D\n",
            "Reading timeseries file /content/BrainGNN/data/ABIDE_pcp/cpac/filt_noglobal/51060/NYU_0051060_rois_cc200.1D\n",
            "Reading timeseries file /content/BrainGNN/data/ABIDE_pcp/cpac/filt_noglobal/50710/Leuven_1_0050710_rois_cc200.1D\n",
            "Reading timeseries file /content/BrainGNN/data/ABIDE_pcp/cpac/filt_noglobal/50374/UM_1_0050374_rois_cc200.1D\n",
            "Reading timeseries file /content/BrainGNN/data/ABIDE_pcp/cpac/filt_noglobal/51094/NYU_0051094_rois_cc200.1D\n",
            "Reading timeseries file /content/BrainGNN/data/ABIDE_pcp/cpac/filt_noglobal/50146/OHSU_0050146_rois_cc200.1D\n",
            "Reading timeseries file /content/BrainGNN/data/ABIDE_pcp/cpac/filt_noglobal/51299/UCLA_2_0051299_rois_cc200.1D\n",
            "Reading timeseries file /content/BrainGNN/data/ABIDE_pcp/cpac/filt_noglobal/51093/NYU_0051093_rois_cc200.1D\n",
            "Reading timeseries file /content/BrainGNN/data/ABIDE_pcp/cpac/filt_noglobal/50373/UM_1_0050373_rois_cc200.1D\n",
            "Reading timeseries file /content/BrainGNN/data/ABIDE_pcp/cpac/filt_noglobal/50525/USM_0050525_rois_cc200.1D\n",
            "Reading timeseries file /content/BrainGNN/data/ABIDE_pcp/cpac/filt_noglobal/51067/NYU_0051067_rois_cc200.1D\n",
            "Reading timeseries file /content/BrainGNN/data/ABIDE_pcp/cpac/filt_noglobal/50989/NYU_0050989_rois_cc200.1D\n",
            "Reading timeseries file /content/BrainGNN/data/ABIDE_pcp/cpac/filt_noglobal/51255/UCLA_1_0051255_rois_cc200.1D\n",
            "Reading timeseries file /content/BrainGNN/data/ABIDE_pcp/cpac/filt_noglobal/50387/UM_2_0050387_rois_cc200.1D\n",
            "Reading timeseries file /content/BrainGNN/data/ABIDE_pcp/cpac/filt_noglobal/50728/Leuven_2_0050728_rois_cc200.1D\n",
            "Reading timeseries file /content/BrainGNN/data/ABIDE_pcp/cpac/filt_noglobal/51058/NYU_0051058_rois_cc200.1D\n",
            "Reading timeseries file /content/BrainGNN/data/ABIDE_pcp/cpac/filt_noglobal/50345/UM_1_0050345_rois_cc200.1D\n",
            "Reading timeseries file /content/BrainGNN/data/ABIDE_pcp/cpac/filt_noglobal/51297/UCLA_2_0051297_rois_cc200.1D\n",
            "Reading timeseries file /content/BrainGNN/data/ABIDE_pcp/cpac/filt_noglobal/50183/SDSU_0050183_rois_cc200.1D\n",
            "Reading timeseries file /content/BrainGNN/data/ABIDE_pcp/cpac/filt_noglobal/51051/NYU_0051051_rois_cc200.1D\n",
            "Reading timeseries file /content/BrainGNN/data/ABIDE_pcp/cpac/filt_noglobal/51263/UCLA_1_0051263_rois_cc200.1D\n",
            "Reading timeseries file /content/BrainGNN/data/ABIDE_pcp/cpac/filt_noglobal/51607/MaxMun_a_0051607_rois_cc200.1D\n",
            "Reading timeseries file /content/BrainGNN/data/ABIDE_pcp/cpac/filt_noglobal/50148/OHSU_0050148_rois_cc200.1D\n",
            "Reading timeseries file /content/BrainGNN/data/ABIDE_pcp/cpac/filt_noglobal/50974/NYU_0050974_rois_cc200.1D\n",
            "Reading timeseries file /content/BrainGNN/data/ABIDE_pcp/cpac/filt_noglobal/51264/UCLA_1_0051264_rois_cc200.1D\n",
            "Reading timeseries file /content/BrainGNN/data/ABIDE_pcp/cpac/filt_noglobal/50184/SDSU_0050184_rois_cc200.1D\n",
            "Reading timeseries file /content/BrainGNN/data/ABIDE_pcp/cpac/filt_noglobal/51056/NYU_0051056_rois_cc200.1D\n",
            "Reading timeseries file /content/BrainGNN/data/ABIDE_pcp/cpac/filt_noglobal/50342/UM_1_0050342_rois_cc200.1D\n",
            "Reading timeseries file /content/BrainGNN/data/ABIDE_pcp/cpac/filt_noglobal/50170/OHSU_0050170_rois_cc200.1D\n",
            "Reading timeseries file /content/BrainGNN/data/ABIDE_pcp/cpac/filt_noglobal/50514/USM_0050514_rois_cc200.1D\n",
            "Reading timeseries file /content/BrainGNN/data/ABIDE_pcp/cpac/filt_noglobal/50726/Leuven_2_0050726_rois_cc200.1D\n",
            "Reading timeseries file /content/BrainGNN/data/ABIDE_pcp/cpac/filt_noglobal/51069/NYU_0051069_rois_cc200.1D\n",
            "Reading timeseries file /content/BrainGNN/data/ABIDE_pcp/cpac/filt_noglobal/50987/NYU_0050987_rois_cc200.1D\n",
            "Reading timeseries file /content/BrainGNN/data/ABIDE_pcp/cpac/filt_noglobal/50973/NYU_0050973_rois_cc200.1D\n",
            "Reading timeseries file /content/BrainGNN/data/ABIDE_pcp/cpac/filt_noglobal/51459/Caltech_0051459_rois_cc200.1D\n",
            "Reading timeseries file /content/BrainGNN/data/ABIDE_pcp/cpac/filt_noglobal/50329/UM_1_0050329_rois_cc200.1D\n",
            "Reading timeseries file /content/BrainGNN/data/ABIDE_pcp/cpac/filt_noglobal/50786/KKI_0050786_rois_cc200.1D\n",
            "Reading timeseries file /content/BrainGNN/data/ABIDE_pcp/cpac/filt_noglobal/51466/Caltech_0051466_rois_cc200.1D\n",
            "Reading timeseries file /content/BrainGNN/data/ABIDE_pcp/cpac/filt_noglobal/51002/NYU_0051002_rois_cc200.1D\n",
            "Reading timeseries file /content/BrainGNN/data/ABIDE_pcp/cpac/filt_noglobal/51230/UCLA_1_0051230_rois_cc200.1D\n",
            "Reading timeseries file /content/BrainGNN/data/ABIDE_pcp/cpac/filt_noglobal/50124/Olin_0050124_rois_cc200.1D\n",
            "Reading timeseries file /content/BrainGNN/data/ABIDE_pcp/cpac/filt_noglobal/50316/UM_1_0050316_rois_cc200.1D\n",
            "Reading timeseries file /content/BrainGNN/data/ABIDE_pcp/cpac/filt_noglobal/50772/KKI_0050772_rois_cc200.1D\n",
            "Reading timeseries file /content/BrainGNN/data/ABIDE_pcp/cpac/filt_noglobal/51492/Caltech_0051492_rois_cc200.1D\n",
            "Reading timeseries file /content/BrainGNN/data/ABIDE_pcp/cpac/filt_noglobal/50578/Yale_0050578_rois_cc200.1D\n",
            "Reading timeseries file /content/BrainGNN/data/ABIDE_pcp/cpac/filt_noglobal/51208/UCLA_1_0051208_rois_cc200.1D\n",
            "Reading timeseries file /content/BrainGNN/data/ABIDE_pcp/cpac/filt_noglobal/50775/KKI_0050775_rois_cc200.1D\n",
            "Reading timeseries file /content/BrainGNN/data/ABIDE_pcp/cpac/filt_noglobal/50311/UM_1_0050311_rois_cc200.1D\n",
            "Reading timeseries file /content/BrainGNN/data/ABIDE_pcp/cpac/filt_noglobal/50123/Olin_0050123_rois_cc200.1D\n",
            "Reading timeseries file /content/BrainGNN/data/ABIDE_pcp/cpac/filt_noglobal/51237/UCLA_1_0051237_rois_cc200.1D\n",
            "Reading timeseries file /content/BrainGNN/data/ABIDE_pcp/cpac/filt_noglobal/51461/Caltech_0051461_rois_cc200.1D\n",
            "Reading timeseries file /content/BrainGNN/data/ABIDE_pcp/cpac/filt_noglobal/50781/KKI_0050781_rois_cc200.1D\n",
            "Reading timeseries file /content/BrainGNN/data/ABIDE_pcp/cpac/filt_noglobal/50318/UM_1_0050318_rois_cc200.1D\n",
            "Reading timeseries file /content/BrainGNN/data/ABIDE_pcp/cpac/filt_noglobal/50788/KKI_0050788_rois_cc200.1D\n",
            "Reading timeseries file /content/BrainGNN/data/ABIDE_pcp/cpac/filt_noglobal/51468/Caltech_0051468_rois_cc200.1D\n",
            "Reading timeseries file /content/BrainGNN/data/ABIDE_pcp/cpac/filt_noglobal/50327/UM_1_0050327_rois_cc200.1D\n",
            "Reading timeseries file /content/BrainGNN/data/ABIDE_pcp/cpac/filt_noglobal/50115/Olin_0050115_rois_cc200.1D\n",
            "Reading timeseries file /content/BrainGNN/data/ABIDE_pcp/cpac/filt_noglobal/50571/Yale_0050571_rois_cc200.1D\n",
            "Reading timeseries file /content/BrainGNN/data/ABIDE_pcp/cpac/filt_noglobal/50743/Leuven_2_0050743_rois_cc200.1D\n",
            "Reading timeseries file /content/BrainGNN/data/ABIDE_pcp/cpac/filt_noglobal/51457/Caltech_0051457_rois_cc200.1D\n",
            "Reading timeseries file /content/BrainGNN/data/ABIDE_pcp/cpac/filt_noglobal/51201/UCLA_1_0051201_rois_cc200.1D\n",
            "Reading timeseries file /content/BrainGNN/data/ABIDE_pcp/cpac/filt_noglobal/51033/NYU_0051033_rois_cc200.1D\n",
            "Reading timeseries file /content/BrainGNN/data/ABIDE_pcp/cpac/filt_noglobal/51239/UCLA_1_0051239_rois_cc200.1D\n",
            "Reading timeseries file /content/BrainGNN/data/ABIDE_pcp/cpac/filt_noglobal/51034/NYU_0051034_rois_cc200.1D\n",
            "Reading timeseries file /content/BrainGNN/data/ABIDE_pcp/cpac/filt_noglobal/51206/UCLA_1_0051206_rois_cc200.1D\n",
            "Reading timeseries file /content/BrainGNN/data/ABIDE_pcp/cpac/filt_noglobal/50744/Leuven_2_0050744_rois_cc200.1D\n",
            "Reading timeseries file /content/BrainGNN/data/ABIDE_pcp/cpac/filt_noglobal/50576/Yale_0050576_rois_cc200.1D\n",
            "Reading timeseries file /content/BrainGNN/data/ABIDE_pcp/cpac/filt_noglobal/50112/Olin_0050112_rois_cc200.1D\n",
            "Reading timeseries file /content/BrainGNN/data/ABIDE_pcp/cpac/filt_noglobal/50320/UM_1_0050320_rois_cc200.1D\n",
            "Reading timeseries file /content/BrainGNN/data/ABIDE_pcp/cpac/filt_noglobal/50060/Pitt_0050060_rois_cc200.1D\n",
            "Reading timeseries file /content/BrainGNN/data/ABIDE_pcp/cpac/filt_noglobal/50252/Trinity_0050252_rois_cc200.1D\n",
            "Reading timeseries file /content/BrainGNN/data/ABIDE_pcp/cpac/filt_noglobal/50404/UM_2_0050404_rois_cc200.1D\n",
            "Reading timeseries file /content/BrainGNN/data/ABIDE_pcp/cpac/filt_noglobal/51146/NYU_0051146_rois_cc200.1D\n",
            "Reading timeseries file /content/BrainGNN/data/ABIDE_pcp/cpac/filt_noglobal/50609/Yale_0050609_rois_cc200.1D\n",
            "Reading timeseries file /content/BrainGNN/data/ABIDE_pcp/cpac/filt_noglobal/50299/UM_1_0050299_rois_cc200.1D\n",
            "Reading timeseries file /content/BrainGNN/data/ABIDE_pcp/cpac/filt_noglobal/51179/Stanford_0051179_rois_cc200.1D\n",
            "Reading timeseries file /content/BrainGNN/data/ABIDE_pcp/cpac/filt_noglobal/51373/MaxMun_a_0051373_rois_cc200.1D\n",
            "Reading timeseries file /content/BrainGNN/data/ABIDE_pcp/cpac/filt_noglobal/51141/Trinity_0051141_rois_cc200.1D\n",
            "Reading timeseries file /content/BrainGNN/data/ABIDE_pcp/cpac/filt_noglobal/50403/UM_2_0050403_rois_cc200.1D\n",
            "Reading timeseries file /content/BrainGNN/data/ABIDE_pcp/cpac/filt_noglobal/50255/Trinity_0050255_rois_cc200.1D\n",
            "Reading timeseries file /content/BrainGNN/data/ABIDE_pcp/cpac/filt_noglobal/50058/Pitt_0050058_rois_cc200.1D\n",
            "Reading timeseries file /content/BrainGNN/data/ABIDE_pcp/cpac/filt_noglobal/50297/UM_1_0050297_rois_cc200.1D\n",
            "Reading timeseries file /content/BrainGNN/data/ABIDE_pcp/cpac/filt_noglobal/51345/MaxMun_c_0051345_rois_cc200.1D\n",
            "Reading timeseries file /content/BrainGNN/data/ABIDE_pcp/cpac/filt_noglobal/51177/Stanford_0051177_rois_cc200.1D\n",
            "Reading timeseries file /content/BrainGNN/data/ABIDE_pcp/cpac/filt_noglobal/50263/Trinity_0050263_rois_cc200.1D\n",
            "Reading timeseries file /content/BrainGNN/data/ABIDE_pcp/cpac/filt_noglobal/50051/Pitt_0050051_rois_cc200.1D\n",
            "Reading timeseries file /content/BrainGNN/data/ABIDE_pcp/cpac/filt_noglobal/51183/Stanford_0051183_rois_cc200.1D\n",
            "Reading timeseries file /content/BrainGNN/data/ABIDE_pcp/cpac/filt_noglobal/50435/USM_0050435_rois_cc200.1D\n",
            "Reading timeseries file /content/BrainGNN/data/ABIDE_pcp/cpac/filt_noglobal/50607/Yale_0050607_rois_cc200.1D\n",
            "Reading timeseries file /content/BrainGNN/data/ABIDE_pcp/cpac/filt_noglobal/51148/NYU_0051148_rois_cc200.1D\n",
            "Reading timeseries file /content/BrainGNN/data/ABIDE_pcp/cpac/filt_noglobal/50056/Pitt_0050056_rois_cc200.1D\n",
            "Reading timeseries file /content/BrainGNN/data/ABIDE_pcp/cpac/filt_noglobal/51184/Stanford_0051184_rois_cc200.1D\n",
            "Reading timeseries file /content/BrainGNN/data/ABIDE_pcp/cpac/filt_noglobal/50264/Trinity_0050264_rois_cc200.1D\n",
            "Reading timeseries file /content/BrainGNN/data/ABIDE_pcp/cpac/filt_noglobal/51170/Stanford_0051170_rois_cc200.1D\n",
            "Reading timeseries file /content/BrainGNN/data/ABIDE_pcp/cpac/filt_noglobal/50290/UM_1_0050290_rois_cc200.1D\n",
            "Reading timeseries file /content/BrainGNN/data/ABIDE_pcp/cpac/filt_noglobal/51342/MaxMun_c_0051342_rois_cc200.1D\n",
            "Reading timeseries file /content/BrainGNN/data/ABIDE_pcp/cpac/filt_noglobal/50801/KKI_0050801_rois_cc200.1D\n",
            "Reading timeseries file /content/BrainGNN/data/ABIDE_pcp/cpac/filt_noglobal/51329/MaxMun_d_0051329_rois_cc200.1D\n",
            "Reading timeseries file /content/BrainGNN/data/ABIDE_pcp/cpac/filt_noglobal/50466/USM_0050466_rois_cc200.1D\n",
            "Reading timeseries file /content/BrainGNN/data/ABIDE_pcp/cpac/filt_noglobal/50654/CMU_a_0050654_rois_cc200.1D\n",
            "Reading timeseries file /content/BrainGNN/data/ABIDE_pcp/cpac/filt_noglobal/51316/UCLA_2_0051316_rois_cc200.1D\n",
            "Reading timeseries file /content/BrainGNN/data/ABIDE_pcp/cpac/filt_noglobal/51124/NYU_0051124_rois_cc200.1D\n",
            "Reading timeseries file /content/BrainGNN/data/ABIDE_pcp/cpac/filt_noglobal/50492/USM_0050492_rois_cc200.1D\n",
            "Reading timeseries file /content/BrainGNN/data/ABIDE_pcp/cpac/filt_noglobal/51578/SBL_0051578_rois_cc200.1D\n",
            "Reading timeseries file /content/BrainGNN/data/ABIDE_pcp/cpac/filt_noglobal/50698/Leuven_1_0050698_rois_cc200.1D\n",
            "Reading timeseries file /content/BrainGNN/data/ABIDE_pcp/cpac/filt_noglobal/50208/SDSU_0050208_rois_cc200.1D\n",
            "Reading timeseries file /content/BrainGNN/data/ABIDE_pcp/cpac/filt_noglobal/51123/NYU_0051123_rois_cc200.1D\n",
            "Reading timeseries file /content/BrainGNN/data/ABIDE_pcp/cpac/filt_noglobal/51311/UCLA_2_0051311_rois_cc200.1D\n",
            "Reading timeseries file /content/BrainGNN/data/ABIDE_pcp/cpac/filt_noglobal/50005/Pitt_0050005_rois_cc200.1D\n",
            "Reading timeseries file /content/BrainGNN/data/ABIDE_pcp/cpac/filt_noglobal/50237/Trinity_0050237_rois_cc200.1D\n",
            "Reading timeseries file /content/BrainGNN/data/ABIDE_pcp/cpac/filt_noglobal/50653/CMU_a_0050653_rois_cc200.1D\n",
            "Reading timeseries file /content/BrainGNN/data/ABIDE_pcp/cpac/filt_noglobal/51318/MaxMun_a_0051318_rois_cc200.1D\n",
            "Reading timeseries file /content/BrainGNN/data/ABIDE_pcp/cpac/filt_noglobal/50468/USM_0050468_rois_cc200.1D\n",
            "Reading timeseries file /content/BrainGNN/data/ABIDE_pcp/cpac/filt_noglobal/51327/MaxMun_b_0051327_rois_cc200.1D\n",
            "Reading timeseries file /content/BrainGNN/data/ABIDE_pcp/cpac/filt_noglobal/50691/Leuven_1_0050691_rois_cc200.1D\n",
            "Reading timeseries file /content/BrainGNN/data/ABIDE_pcp/cpac/filt_noglobal/51571/SBL_0051571_rois_cc200.1D\n",
            "Reading timeseries file /content/BrainGNN/data/ABIDE_pcp/cpac/filt_noglobal/50665/CMU_a_0050665_rois_cc200.1D\n",
            "Reading timeseries file /content/BrainGNN/data/ABIDE_pcp/cpac/filt_noglobal/51585/SBL_0051585_rois_cc200.1D\n",
            "Reading timeseries file /content/BrainGNN/data/ABIDE_pcp/cpac/filt_noglobal/50033/Pitt_0050033_rois_cc200.1D\n",
            "Reading timeseries file /content/BrainGNN/data/ABIDE_pcp/cpac/filt_noglobal/50201/SDSU_0050201_rois_cc200.1D\n",
            "Reading timeseries file /content/BrainGNN/data/ABIDE_pcp/cpac/filt_noglobal/50239/Trinity_0050239_rois_cc200.1D\n",
            "Reading timeseries file /content/BrainGNN/data/ABIDE_pcp/cpac/filt_noglobal/50206/SDSU_0050206_rois_cc200.1D\n",
            "Reading timeseries file /content/BrainGNN/data/ABIDE_pcp/cpac/filt_noglobal/50034/Pitt_0050034_rois_cc200.1D\n",
            "Reading timeseries file /content/BrainGNN/data/ABIDE_pcp/cpac/filt_noglobal/51582/SBL_0051582_rois_cc200.1D\n",
            "Reading timeseries file /content/BrainGNN/data/ABIDE_pcp/cpac/filt_noglobal/51576/SBL_0051576_rois_cc200.1D\n",
            "Reading timeseries file /content/BrainGNN/data/ABIDE_pcp/cpac/filt_noglobal/50696/Leuven_1_0050696_rois_cc200.1D\n",
            "Reading timeseries file /content/BrainGNN/data/ABIDE_pcp/cpac/filt_noglobal/51320/MaxMun_a_0051320_rois_cc200.1D\n",
            "Reading timeseries file /content/BrainGNN/data/ABIDE_pcp/cpac/filt_noglobal/51112/NYU_0051112_rois_cc200.1D\n",
            "Reading timeseries file /content/BrainGNN/data/ABIDE_pcp/cpac/filt_noglobal/50291/UM_1_0050291_rois_cc200.1D\n",
            "Reading timeseries file /content/BrainGNN/data/ABIDE_pcp/cpac/filt_noglobal/51343/MaxMun_c_0051343_rois_cc200.1D\n",
            "Reading timeseries file /content/BrainGNN/data/ABIDE_pcp/cpac/filt_noglobal/51171/Stanford_0051171_rois_cc200.1D\n",
            "Reading timeseries file /content/BrainGNN/data/ABIDE_pcp/cpac/filt_noglobal/50433/USM_0050433_rois_cc200.1D\n",
            "Reading timeseries file /content/BrainGNN/data/ABIDE_pcp/cpac/filt_noglobal/50601/Yale_0050601_rois_cc200.1D\n",
            "Reading timeseries file /content/BrainGNN/data/ABIDE_pcp/cpac/filt_noglobal/50265/Trinity_0050265_rois_cc200.1D\n",
            "Reading timeseries file /content/BrainGNN/data/ABIDE_pcp/cpac/filt_noglobal/50057/Pitt_0050057_rois_cc200.1D\n",
            "Reading timeseries file /content/BrainGNN/data/ABIDE_pcp/cpac/filt_noglobal/51185/Stanford_0051185_rois_cc200.1D\n",
            "Reading timeseries file /content/BrainGNN/data/ABIDE_pcp/cpac/filt_noglobal/50050/Pitt_0050050_rois_cc200.1D\n",
            "Reading timeseries file /content/BrainGNN/data/ABIDE_pcp/cpac/filt_noglobal/51182/Stanford_0051182_rois_cc200.1D\n",
            "Reading timeseries file /content/BrainGNN/data/ABIDE_pcp/cpac/filt_noglobal/50262/Trinity_0050262_rois_cc200.1D\n",
            "Reading timeseries file /content/BrainGNN/data/ABIDE_pcp/cpac/filt_noglobal/50606/Yale_0050606_rois_cc200.1D\n",
            "Reading timeseries file /content/BrainGNN/data/ABIDE_pcp/cpac/filt_noglobal/50434/USM_0050434_rois_cc200.1D\n",
            "Reading timeseries file /content/BrainGNN/data/ABIDE_pcp/cpac/filt_noglobal/50296/UM_1_0050296_rois_cc200.1D\n",
            "Reading timeseries file /content/BrainGNN/data/ABIDE_pcp/cpac/filt_noglobal/51344/MaxMun_c_0051344_rois_cc200.1D\n",
            "Reading timeseries file /content/BrainGNN/data/ABIDE_pcp/cpac/filt_noglobal/51149/NYU_0051149_rois_cc200.1D\n",
            "Reading timeseries file /content/BrainGNN/data/ABIDE_pcp/cpac/filt_noglobal/50402/UM_2_0050402_rois_cc200.1D\n",
            "Reading timeseries file /content/BrainGNN/data/ABIDE_pcp/cpac/filt_noglobal/50254/Trinity_0050254_rois_cc200.1D\n",
            "Reading timeseries file /content/BrainGNN/data/ABIDE_pcp/cpac/filt_noglobal/51140/Trinity_0051140_rois_cc200.1D\n",
            "Reading timeseries file /content/BrainGNN/data/ABIDE_pcp/cpac/filt_noglobal/50059/Pitt_0050059_rois_cc200.1D\n",
            "Reading timeseries file /content/BrainGNN/data/ABIDE_pcp/cpac/filt_noglobal/51147/NYU_0051147_rois_cc200.1D\n",
            "Reading timeseries file /content/BrainGNN/data/ABIDE_pcp/cpac/filt_noglobal/50253/Trinity_0050253_rois_cc200.1D\n",
            "Reading timeseries file /content/BrainGNN/data/ABIDE_pcp/cpac/filt_noglobal/50405/UM_2_0050405_rois_cc200.1D\n",
            "Reading timeseries file /content/BrainGNN/data/ABIDE_pcp/cpac/filt_noglobal/51178/Stanford_0051178_rois_cc200.1D\n",
            "Reading timeseries file /content/BrainGNN/data/ABIDE_pcp/cpac/filt_noglobal/50298/UM_1_0050298_rois_cc200.1D\n",
            "Reading timeseries file /content/BrainGNN/data/ABIDE_pcp/cpac/filt_noglobal/50608/Yale_0050608_rois_cc200.1D\n",
            "Reading timeseries file /content/BrainGNN/data/ABIDE_pcp/cpac/filt_noglobal/50697/Leuven_1_0050697_rois_cc200.1D\n",
            "Reading timeseries file /content/BrainGNN/data/ABIDE_pcp/cpac/filt_noglobal/51577/SBL_0051577_rois_cc200.1D\n",
            "Reading timeseries file /content/BrainGNN/data/ABIDE_pcp/cpac/filt_noglobal/51113/NYU_0051113_rois_cc200.1D\n",
            "Reading timeseries file /content/BrainGNN/data/ABIDE_pcp/cpac/filt_noglobal/51321/MaxMun_a_0051321_rois_cc200.1D\n",
            "Reading timeseries file /content/BrainGNN/data/ABIDE_pcp/cpac/filt_noglobal/50035/Pitt_0050035_rois_cc200.1D\n",
            "Reading timeseries file /content/BrainGNN/data/ABIDE_pcp/cpac/filt_noglobal/50207/SDSU_0050207_rois_cc200.1D\n",
            "Reading timeseries file /content/BrainGNN/data/ABIDE_pcp/cpac/filt_noglobal/50663/CMU_a_0050663_rois_cc200.1D\n",
            "Reading timeseries file /content/BrainGNN/data/ABIDE_pcp/cpac/filt_noglobal/51583/SBL_0051583_rois_cc200.1D\n",
            "Reading timeseries file /content/BrainGNN/data/ABIDE_pcp/cpac/filt_noglobal/50469/USM_0050469_rois_cc200.1D\n",
            "Reading timeseries file /content/BrainGNN/data/ABIDE_pcp/cpac/filt_noglobal/51319/MaxMun_a_0051319_rois_cc200.1D\n",
            "Reading timeseries file /content/BrainGNN/data/ABIDE_pcp/cpac/filt_noglobal/51584/SBL_0051584_rois_cc200.1D\n",
            "Reading timeseries file /content/BrainGNN/data/ABIDE_pcp/cpac/filt_noglobal/50664/CMU_a_0050664_rois_cc200.1D\n",
            "Reading timeseries file /content/BrainGNN/data/ABIDE_pcp/cpac/filt_noglobal/50200/SDSU_0050200_rois_cc200.1D\n",
            "Reading timeseries file /content/BrainGNN/data/ABIDE_pcp/cpac/filt_noglobal/50032/Pitt_0050032_rois_cc200.1D\n",
            "Reading timeseries file /content/BrainGNN/data/ABIDE_pcp/cpac/filt_noglobal/51326/MaxMun_b_0051326_rois_cc200.1D\n",
            "Reading timeseries file /content/BrainGNN/data/ABIDE_pcp/cpac/filt_noglobal/51114/NYU_0051114_rois_cc200.1D\n",
            "Reading timeseries file /content/BrainGNN/data/ABIDE_pcp/cpac/filt_noglobal/51570/SBL_0051570_rois_cc200.1D\n",
            "Reading timeseries file /content/BrainGNN/data/ABIDE_pcp/cpac/filt_noglobal/50690/Leuven_1_0050690_rois_cc200.1D\n",
            "Reading timeseries file /content/BrainGNN/data/ABIDE_pcp/cpac/filt_noglobal/50807/KKI_0050807_rois_cc200.1D\n",
            "Reading timeseries file /content/BrainGNN/data/ABIDE_pcp/cpac/filt_noglobal/50209/SDSU_0050209_rois_cc200.1D\n",
            "Reading timeseries file /content/BrainGNN/data/ABIDE_pcp/cpac/filt_noglobal/50699/Leuven_1_0050699_rois_cc200.1D\n",
            "Reading timeseries file /content/BrainGNN/data/ABIDE_pcp/cpac/filt_noglobal/51579/SBL_0051579_rois_cc200.1D\n",
            "Reading timeseries file /content/BrainGNN/data/ABIDE_pcp/cpac/filt_noglobal/50236/Trinity_0050236_rois_cc200.1D\n",
            "Reading timeseries file /content/BrainGNN/data/ABIDE_pcp/cpac/filt_noglobal/50004/Pitt_0050004_rois_cc200.1D\n",
            "Reading timeseries file /content/BrainGNN/data/ABIDE_pcp/cpac/filt_noglobal/50652/CMU_b_0050652_rois_cc200.1D\n",
            "Reading timeseries file /content/BrainGNN/data/ABIDE_pcp/cpac/filt_noglobal/50494/USM_0050494_rois_cc200.1D\n",
            "Reading timeseries file /content/BrainGNN/data/ABIDE_pcp/cpac/filt_noglobal/51122/NYU_0051122_rois_cc200.1D\n",
            "Reading timeseries file /content/BrainGNN/data/ABIDE_pcp/cpac/filt_noglobal/51328/MaxMun_c_0051328_rois_cc200.1D\n",
            "Reading timeseries file /content/BrainGNN/data/ABIDE_pcp/cpac/filt_noglobal/50800/KKI_0050800_rois_cc200.1D\n",
            "Reading timeseries file /content/BrainGNN/data/ABIDE_pcp/cpac/filt_noglobal/51317/UCLA_2_0051317_rois_cc200.1D\n",
            "Reading timeseries file /content/BrainGNN/data/ABIDE_pcp/cpac/filt_noglobal/50493/USM_0050493_rois_cc200.1D\n",
            "Reading timeseries file /content/BrainGNN/data/ABIDE_pcp/cpac/filt_noglobal/50655/CMU_b_0050655_rois_cc200.1D\n",
            "Reading timeseries file /content/BrainGNN/data/ABIDE_pcp/cpac/filt_noglobal/50467/USM_0050467_rois_cc200.1D\n",
            "Reading timeseries file /content/BrainGNN/data/ABIDE_pcp/cpac/filt_noglobal/50003/Pitt_0050003_rois_cc200.1D\n",
            "Reading timeseries file /content/BrainGNN/data/ABIDE_pcp/cpac/filt_noglobal/51563/SBL_0051563_rois_cc200.1D\n",
            "Reading timeseries file /content/BrainGNN/data/ABIDE_pcp/cpac/filt_noglobal/50683/Leuven_1_0050683_rois_cc200.1D\n",
            "Reading timeseries file /content/BrainGNN/data/ABIDE_pcp/cpac/filt_noglobal/51335/MaxMun_c_0051335_rois_cc200.1D\n",
            "Reading timeseries file /content/BrainGNN/data/ABIDE_pcp/cpac/filt_noglobal/51107/NYU_0051107_rois_cc200.1D\n",
            "Reading timeseries file /content/BrainGNN/data/ABIDE_pcp/cpac/filt_noglobal/50213/SDSU_0050213_rois_cc200.1D\n",
            "Reading timeseries file /content/BrainGNN/data/ABIDE_pcp/cpac/filt_noglobal/50445/USM_0050445_rois_cc200.1D\n",
            "Reading timeseries file /content/BrainGNN/data/ABIDE_pcp/cpac/filt_noglobal/51138/Trinity_0051138_rois_cc200.1D\n",
            "Reading timeseries file /content/BrainGNN/data/ABIDE_pcp/cpac/filt_noglobal/50648/CMU_b_0050648_rois_cc200.1D\n",
            "Reading timeseries file /content/BrainGNN/data/ABIDE_pcp/cpac/filt_noglobal/50822/KKI_0050822_rois_cc200.1D\n",
            "Reading timeseries file /content/BrainGNN/data/ABIDE_pcp/cpac/filt_noglobal/50442/USM_0050442_rois_cc200.1D\n",
            "Reading timeseries file /content/BrainGNN/data/ABIDE_pcp/cpac/filt_noglobal/50026/Pitt_0050026_rois_cc200.1D\n",
            "Reading timeseries file /content/BrainGNN/data/ABIDE_pcp/cpac/filt_noglobal/50214/SDSU_0050214_rois_cc200.1D\n",
            "Reading timeseries file /content/BrainGNN/data/ABIDE_pcp/cpac/filt_noglobal/51100/NYU_0051100_rois_cc200.1D\n",
            "Reading timeseries file /content/BrainGNN/data/ABIDE_pcp/cpac/filt_noglobal/51332/MaxMun_c_0051332_rois_cc200.1D\n",
            "Reading timeseries file /content/BrainGNN/data/ABIDE_pcp/cpac/filt_noglobal/51564/SBL_0051564_rois_cc200.1D\n",
            "Reading timeseries file /content/BrainGNN/data/ABIDE_pcp/cpac/filt_noglobal/50019/Pitt_0050019_rois_cc200.1D\n",
            "Reading timeseries file /content/BrainGNN/data/ABIDE_pcp/cpac/filt_noglobal/50825/KKI_0050825_rois_cc200.1D\n",
            "Reading timeseries file /content/BrainGNN/data/ABIDE_pcp/cpac/filt_noglobal/50489/USM_0050489_rois_cc200.1D\n",
            "Reading timeseries file /content/BrainGNN/data/ABIDE_pcp/cpac/filt_noglobal/50010/Pitt_0050010_rois_cc200.1D\n",
            "Reading timeseries file /content/BrainGNN/data/ABIDE_pcp/cpac/filt_noglobal/50646/CMU_a_0050646_rois_cc200.1D\n",
            "Reading timeseries file /content/BrainGNN/data/ABIDE_pcp/cpac/filt_noglobal/50480/USM_0050480_rois_cc200.1D\n",
            "Reading timeseries file /content/BrainGNN/data/ABIDE_pcp/cpac/filt_noglobal/51136/Trinity_0051136_rois_cc200.1D\n",
            "Reading timeseries file /content/BrainGNN/data/ABIDE_pcp/cpac/filt_noglobal/51304/UCLA_2_0051304_rois_cc200.1D\n",
            "Reading timeseries file /content/BrainGNN/data/ABIDE_pcp/cpac/filt_noglobal/51109/NYU_0051109_rois_cc200.1D\n",
            "Reading timeseries file /content/BrainGNN/data/ABIDE_pcp/cpac/filt_noglobal/51303/UCLA_2_0051303_rois_cc200.1D\n",
            "Reading timeseries file /content/BrainGNN/data/ABIDE_pcp/cpac/filt_noglobal/51131/NYU_0051131_rois_cc200.1D\n",
            "Reading timeseries file /content/BrainGNN/data/ABIDE_pcp/cpac/filt_noglobal/50487/USM_0050487_rois_cc200.1D\n",
            "Reading timeseries file /content/BrainGNN/data/ABIDE_pcp/cpac/filt_noglobal/50017/Pitt_0050017_rois_cc200.1D\n",
            "Reading timeseries file /content/BrainGNN/data/ABIDE_pcp/cpac/filt_noglobal/50028/Pitt_0050028_rois_cc200.1D\n",
            "Reading timeseries file /content/BrainGNN/data/ABIDE_pcp/cpac/filt_noglobal/50814/KKI_0050814_rois_cc200.1D\n",
            "Reading timeseries file /content/BrainGNN/data/ABIDE_pcp/cpac/filt_noglobal/50418/UM_2_0050418_rois_cc200.1D\n",
            "Reading timeseries file /content/BrainGNN/data/ABIDE_pcp/cpac/filt_noglobal/51165/Stanford_0051165_rois_cc200.1D\n",
            "Reading timeseries file /content/BrainGNN/data/ABIDE_pcp/cpac/filt_noglobal/50285/UM_1_0050285_rois_cc200.1D\n",
            "Reading timeseries file /content/BrainGNN/data/ABIDE_pcp/cpac/filt_noglobal/51357/MaxMun_d_0051357_rois_cc200.1D\n",
            "Reading timeseries file /content/BrainGNN/data/ABIDE_pcp/cpac/filt_noglobal/50615/Yale_0050615_rois_cc200.1D\n",
            "Reading timeseries file /content/BrainGNN/data/ABIDE_pcp/cpac/filt_noglobal/50427/UM_2_0050427_rois_cc200.1D\n",
            "Reading timeseries file /content/BrainGNN/data/ABIDE_pcp/cpac/filt_noglobal/50043/Pitt_0050043_rois_cc200.1D\n",
            "Reading timeseries file /content/BrainGNN/data/ABIDE_pcp/cpac/filt_noglobal/51191/Stanford_0051191_rois_cc200.1D\n",
            "Reading timeseries file /content/BrainGNN/data/ABIDE_pcp/cpac/filt_noglobal/50271/Trinity_0050271_rois_cc200.1D\n",
            "Reading timeseries file /content/BrainGNN/data/ABIDE_pcp/cpac/filt_noglobal/50249/Trinity_0050249_rois_cc200.1D\n",
            "Reading timeseries file /content/BrainGNN/data/ABIDE_pcp/cpac/filt_noglobal/50276/UM_1_0050276_rois_cc200.1D\n",
            "Reading timeseries file /content/BrainGNN/data/ABIDE_pcp/cpac/filt_noglobal/50044/Pitt_0050044_rois_cc200.1D\n",
            "Reading timeseries file /content/BrainGNN/data/ABIDE_pcp/cpac/filt_noglobal/51196/Stanford_0051196_rois_cc200.1D\n",
            "Reading timeseries file /content/BrainGNN/data/ABIDE_pcp/cpac/filt_noglobal/50612/Yale_0050612_rois_cc200.1D\n",
            "Reading timeseries file /content/BrainGNN/data/ABIDE_pcp/cpac/filt_noglobal/50282/UM_1_0050282_rois_cc200.1D\n",
            "Reading timeseries file /content/BrainGNN/data/ABIDE_pcp/cpac/filt_noglobal/51350/MaxMun_d_0051350_rois_cc200.1D\n",
            "Reading timeseries file /content/BrainGNN/data/ABIDE_pcp/cpac/filt_noglobal/51162/Stanford_0051162_rois_cc200.1D\n",
            "Reading timeseries file /content/BrainGNN/data/ABIDE_pcp/cpac/filt_noglobal/51359/MaxMun_d_0051359_rois_cc200.1D\n",
            "Reading timeseries file /content/BrainGNN/data/ABIDE_pcp/cpac/filt_noglobal/50416/UM_2_0050416_rois_cc200.1D\n",
            "Reading timeseries file /content/BrainGNN/data/ABIDE_pcp/cpac/filt_noglobal/50624/Yale_0050624_rois_cc200.1D\n",
            "Reading timeseries file /content/BrainGNN/data/ABIDE_pcp/cpac/filt_noglobal/50240/Trinity_0050240_rois_cc200.1D\n",
            "Reading timeseries file /content/BrainGNN/data/ABIDE_pcp/cpac/filt_noglobal/51154/NYU_0051154_rois_cc200.1D\n",
            "Reading timeseries file /content/BrainGNN/data/ABIDE_pcp/cpac/filt_noglobal/50278/UM_1_0050278_rois_cc200.1D\n",
            "Reading timeseries file /content/BrainGNN/data/ABIDE_pcp/cpac/filt_noglobal/51198/Stanford_0051198_rois_cc200.1D\n",
            "Reading timeseries file /content/BrainGNN/data/ABIDE_pcp/cpac/filt_noglobal/51153/NYU_0051153_rois_cc200.1D\n",
            "Reading timeseries file /content/BrainGNN/data/ABIDE_pcp/cpac/filt_noglobal/51361/MaxMun_d_0051361_rois_cc200.1D\n",
            "Reading timeseries file /content/BrainGNN/data/ABIDE_pcp/cpac/filt_noglobal/50247/Trinity_0050247_rois_cc200.1D\n",
            "Reading timeseries file /content/BrainGNN/data/ABIDE_pcp/cpac/filt_noglobal/50623/Yale_0050623_rois_cc200.1D\n",
            "Reading timeseries file /content/BrainGNN/data/ABIDE_pcp/cpac/filt_noglobal/50411/UM_2_0050411_rois_cc200.1D\n",
            "Reading timeseries file /content/BrainGNN/data/ABIDE_pcp/cpac/filt_noglobal/50016/Pitt_0050016_rois_cc200.1D\n",
            "Reading timeseries file /content/BrainGNN/data/ABIDE_pcp/cpac/filt_noglobal/51130/NYU_0051130_rois_cc200.1D\n",
            "Reading timeseries file /content/BrainGNN/data/ABIDE_pcp/cpac/filt_noglobal/51302/UCLA_2_0051302_rois_cc200.1D\n",
            "Reading timeseries file /content/BrainGNN/data/ABIDE_pcp/cpac/filt_noglobal/50486/USM_0050486_rois_cc200.1D\n",
            "Reading timeseries file /content/BrainGNN/data/ABIDE_pcp/cpac/filt_noglobal/50815/KKI_0050815_rois_cc200.1D\n",
            "Reading timeseries file /content/BrainGNN/data/ABIDE_pcp/cpac/filt_noglobal/50029/Pitt_0050029_rois_cc200.1D\n",
            "Reading timeseries file /content/BrainGNN/data/ABIDE_pcp/cpac/filt_noglobal/50481/USM_0050481_rois_cc200.1D\n",
            "Reading timeseries file /content/BrainGNN/data/ABIDE_pcp/cpac/filt_noglobal/51305/UCLA_2_0051305_rois_cc200.1D\n",
            "Reading timeseries file /content/BrainGNN/data/ABIDE_pcp/cpac/filt_noglobal/51137/Trinity_0051137_rois_cc200.1D\n",
            "Reading timeseries file /content/BrainGNN/data/ABIDE_pcp/cpac/filt_noglobal/50011/Pitt_0050011_rois_cc200.1D\n",
            "Reading timeseries file /content/BrainGNN/data/ABIDE_pcp/cpac/filt_noglobal/50647/CMU_a_0050647_rois_cc200.1D\n",
            "Reading timeseries file /content/BrainGNN/data/ABIDE_pcp/cpac/filt_noglobal/50812/KKI_0050812_rois_cc200.1D\n",
            "Reading timeseries file /content/BrainGNN/data/ABIDE_pcp/cpac/filt_noglobal/51333/MaxMun_c_0051333_rois_cc200.1D\n",
            "Reading timeseries file /content/BrainGNN/data/ABIDE_pcp/cpac/filt_noglobal/51101/NYU_0051101_rois_cc200.1D\n",
            "Reading timeseries file /content/BrainGNN/data/ABIDE_pcp/cpac/filt_noglobal/51565/SBL_0051565_rois_cc200.1D\n",
            "Reading timeseries file /content/BrainGNN/data/ABIDE_pcp/cpac/filt_noglobal/50685/Leuven_1_0050685_rois_cc200.1D\n",
            "Reading timeseries file /content/BrainGNN/data/ABIDE_pcp/cpac/filt_noglobal/50443/USM_0050443_rois_cc200.1D\n",
            "Reading timeseries file /content/BrainGNN/data/ABIDE_pcp/cpac/filt_noglobal/50215/SDSU_0050215_rois_cc200.1D\n",
            "Reading timeseries file /content/BrainGNN/data/ABIDE_pcp/cpac/filt_noglobal/50027/Pitt_0050027_rois_cc200.1D\n",
            "Reading timeseries file /content/BrainGNN/data/ABIDE_pcp/cpac/filt_noglobal/50488/USM_0050488_rois_cc200.1D\n",
            "Reading timeseries file /content/BrainGNN/data/ABIDE_pcp/cpac/filt_noglobal/50824/KKI_0050824_rois_cc200.1D\n",
            "Reading timeseries file /content/BrainGNN/data/ABIDE_pcp/cpac/filt_noglobal/50020/Pitt_0050020_rois_cc200.1D\n",
            "Reading timeseries file /content/BrainGNN/data/ABIDE_pcp/cpac/filt_noglobal/50212/SDSU_0050212_rois_cc200.1D\n",
            "Reading timeseries file /content/BrainGNN/data/ABIDE_pcp/cpac/filt_noglobal/50444/USM_0050444_rois_cc200.1D\n",
            "Reading timeseries file /content/BrainGNN/data/ABIDE_pcp/cpac/filt_noglobal/50682/Leuven_1_0050682_rois_cc200.1D\n",
            "Reading timeseries file /content/BrainGNN/data/ABIDE_pcp/cpac/filt_noglobal/51562/SBL_0051562_rois_cc200.1D\n",
            "Reading timeseries file /content/BrainGNN/data/ABIDE_pcp/cpac/filt_noglobal/51106/NYU_0051106_rois_cc200.1D\n",
            "Reading timeseries file /content/BrainGNN/data/ABIDE_pcp/cpac/filt_noglobal/51334/MaxMun_c_0051334_rois_cc200.1D\n",
            "Reading timeseries file /content/BrainGNN/data/ABIDE_pcp/cpac/filt_noglobal/50649/CMU_a_0050649_rois_cc200.1D\n",
            "Reading timeseries file /content/BrainGNN/data/ABIDE_pcp/cpac/filt_noglobal/50823/KKI_0050823_rois_cc200.1D\n",
            "Reading timeseries file /content/BrainGNN/data/ABIDE_pcp/cpac/filt_noglobal/51139/Trinity_0051139_rois_cc200.1D\n",
            "Reading timeseries file /content/BrainGNN/data/ABIDE_pcp/cpac/filt_noglobal/51199/Stanford_0051199_rois_cc200.1D\n",
            "Reading timeseries file /content/BrainGNN/data/ABIDE_pcp/cpac/filt_noglobal/50279/UM_1_0050279_rois_cc200.1D\n",
            "Reading timeseries file /content/BrainGNN/data/ABIDE_pcp/cpac/filt_noglobal/50246/Trinity_0050246_rois_cc200.1D\n",
            "Reading timeseries file /content/BrainGNN/data/ABIDE_pcp/cpac/filt_noglobal/50410/UM_2_0050410_rois_cc200.1D\n",
            "Reading timeseries file /content/BrainGNN/data/ABIDE_pcp/cpac/filt_noglobal/50622/Yale_0050622_rois_cc200.1D\n",
            "Reading timeseries file /content/BrainGNN/data/ABIDE_pcp/cpac/filt_noglobal/51360/MaxMun_d_0051360_rois_cc200.1D\n",
            "Reading timeseries file /content/BrainGNN/data/ABIDE_pcp/cpac/filt_noglobal/51152/NYU_0051152_rois_cc200.1D\n",
            "Reading timeseries file /content/BrainGNN/data/ABIDE_pcp/cpac/filt_noglobal/51358/MaxMun_d_0051358_rois_cc200.1D\n",
            "Reading timeseries file /content/BrainGNN/data/ABIDE_pcp/cpac/filt_noglobal/50428/UM_2_0050428_rois_cc200.1D\n",
            "Reading timeseries file /content/BrainGNN/data/ABIDE_pcp/cpac/filt_noglobal/51155/NYU_0051155_rois_cc200.1D\n",
            "Reading timeseries file /content/BrainGNN/data/ABIDE_pcp/cpac/filt_noglobal/50625/Yale_0050625_rois_cc200.1D\n",
            "Reading timeseries file /content/BrainGNN/data/ABIDE_pcp/cpac/filt_noglobal/50417/UM_2_0050417_rois_cc200.1D\n",
            "Reading timeseries file /content/BrainGNN/data/ABIDE_pcp/cpac/filt_noglobal/50241/Trinity_0050241_rois_cc200.1D\n",
            "Reading timeseries file /content/BrainGNN/data/ABIDE_pcp/cpac/filt_noglobal/50248/Trinity_0050248_rois_cc200.1D\n",
            "Reading timeseries file /content/BrainGNN/data/ABIDE_pcp/cpac/filt_noglobal/51163/Stanford_0051163_rois_cc200.1D\n",
            "Reading timeseries file /content/BrainGNN/data/ABIDE_pcp/cpac/filt_noglobal/50283/UM_1_0050283_rois_cc200.1D\n",
            "Reading timeseries file /content/BrainGNN/data/ABIDE_pcp/cpac/filt_noglobal/51351/MaxMun_d_0051351_rois_cc200.1D\n",
            "Reading timeseries file /content/BrainGNN/data/ABIDE_pcp/cpac/filt_noglobal/50045/Pitt_0050045_rois_cc200.1D\n",
            "Reading timeseries file /content/BrainGNN/data/ABIDE_pcp/cpac/filt_noglobal/51197/Stanford_0051197_rois_cc200.1D\n",
            "Reading timeseries file /content/BrainGNN/data/ABIDE_pcp/cpac/filt_noglobal/50277/UM_1_0050277_rois_cc200.1D\n",
            "Reading timeseries file /content/BrainGNN/data/ABIDE_pcp/cpac/filt_noglobal/50613/Yale_0050613_rois_cc200.1D\n",
            "Reading timeseries file /content/BrainGNN/data/ABIDE_pcp/cpac/filt_noglobal/50421/UM_2_0050421_rois_cc200.1D\n",
            "Reading timeseries file /content/BrainGNN/data/ABIDE_pcp/cpac/filt_noglobal/50419/UM_2_0050419_rois_cc200.1D\n",
            "Reading timeseries file /content/BrainGNN/data/ABIDE_pcp/cpac/filt_noglobal/51369/MaxMun_a_0051369_rois_cc200.1D\n",
            "Reading timeseries file /content/BrainGNN/data/ABIDE_pcp/cpac/filt_noglobal/50426/UM_2_0050426_rois_cc200.1D\n",
            "Reading timeseries file /content/BrainGNN/data/ABIDE_pcp/cpac/filt_noglobal/50614/Yale_0050614_rois_cc200.1D\n",
            "Reading timeseries file /content/BrainGNN/data/ABIDE_pcp/cpac/filt_noglobal/50270/Trinity_0050270_rois_cc200.1D\n",
            "Reading timeseries file /content/BrainGNN/data/ABIDE_pcp/cpac/filt_noglobal/50042/Pitt_0050042_rois_cc200.1D\n",
            "Reading timeseries file /content/BrainGNN/data/ABIDE_pcp/cpac/filt_noglobal/51190/Stanford_0051190_rois_cc200.1D\n",
            "Reading timeseries file /content/BrainGNN/data/ABIDE_pcp/cpac/filt_noglobal/50284/UM_1_0050284_rois_cc200.1D\n",
            "Reading timeseries file /content/BrainGNN/data/ABIDE_pcp/cpac/filt_noglobal/51356/MaxMun_d_0051356_rois_cc200.1D\n",
            "Reading timeseries file /content/BrainGNN/data/ABIDE_pcp/cpac/filt_noglobal/51164/Stanford_0051164_rois_cc200.1D\n",
            "Reading timeseries file /content/BrainGNN/data/ABIDE_pcp/cpac/filt_noglobal/51472/Caltech_0051472_rois_cc200.1D\n",
            "Reading timeseries file /content/BrainGNN/data/ABIDE_pcp/cpac/filt_noglobal/50792/KKI_0050792_rois_cc200.1D\n",
            "Reading timeseries file /content/BrainGNN/data/ABIDE_pcp/cpac/filt_noglobal/51224/UCLA_1_0051224_rois_cc200.1D\n",
            "Reading timeseries file /content/BrainGNN/data/ABIDE_pcp/cpac/filt_noglobal/51016/NYU_0051016_rois_cc200.1D\n",
            "Reading timeseries file /content/BrainGNN/data/ABIDE_pcp/cpac/filt_noglobal/50302/UM_1_0050302_rois_cc200.1D\n",
            "Reading timeseries file /content/BrainGNN/data/ABIDE_pcp/cpac/filt_noglobal/50130/Olin_0050130_rois_cc200.1D\n",
            "Reading timeseries file /content/BrainGNN/data/ABIDE_pcp/cpac/filt_noglobal/51486/Caltech_0051486_rois_cc200.1D\n",
            "Reading timeseries file /content/BrainGNN/data/ABIDE_pcp/cpac/filt_noglobal/50554/Yale_0050554_rois_cc200.1D\n",
            "Reading timeseries file /content/BrainGNN/data/ABIDE_pcp/cpac/filt_noglobal/51029/NYU_0051029_rois_cc200.1D\n",
            "Reading timeseries file /content/BrainGNN/data/ABIDE_pcp/cpac/filt_noglobal/51481/Caltech_0051481_rois_cc200.1D\n",
            "Reading timeseries file /content/BrainGNN/data/ABIDE_pcp/cpac/filt_noglobal/50553/Yale_0050553_rois_cc200.1D\n",
            "Reading timeseries file /content/BrainGNN/data/ABIDE_pcp/cpac/filt_noglobal/50305/UM_1_0050305_rois_cc200.1D\n",
            "Reading timeseries file /content/BrainGNN/data/ABIDE_pcp/cpac/filt_noglobal/51011/NYU_0051011_rois_cc200.1D\n",
            "Reading timeseries file /content/BrainGNN/data/ABIDE_pcp/cpac/filt_noglobal/51223/UCLA_1_0051223_rois_cc200.1D\n",
            "Reading timeseries file /content/BrainGNN/data/ABIDE_pcp/cpac/filt_noglobal/50795/KKI_0050795_rois_cc200.1D\n",
            "Reading timeseries file /content/BrainGNN/data/ABIDE_pcp/cpac/filt_noglobal/50333/UM_1_0050333_rois_cc200.1D\n",
            "Reading timeseries file /content/BrainGNN/data/ABIDE_pcp/cpac/filt_noglobal/50757/Leuven_2_0050757_rois_cc200.1D\n",
            "Reading timeseries file /content/BrainGNN/data/ABIDE_pcp/cpac/filt_noglobal/50565/Yale_0050565_rois_cc200.1D\n",
            "Reading timeseries file /content/BrainGNN/data/ABIDE_pcp/cpac/filt_noglobal/51027/NYU_0051027_rois_cc200.1D\n",
            "Reading timeseries file /content/BrainGNN/data/ABIDE_pcp/cpac/filt_noglobal/51215/UCLA_1_0051215_rois_cc200.1D\n",
            "Reading timeseries file /content/BrainGNN/data/ABIDE_pcp/cpac/filt_noglobal/51488/Caltech_0051488_rois_cc200.1D\n",
            "Reading timeseries file /content/BrainGNN/data/ABIDE_pcp/cpac/filt_noglobal/51018/NYU_0051018_rois_cc200.1D\n",
            "Reading timeseries file /content/BrainGNN/data/ABIDE_pcp/cpac/filt_noglobal/51212/UCLA_1_0051212_rois_cc200.1D\n",
            "Reading timeseries file /content/BrainGNN/data/ABIDE_pcp/cpac/filt_noglobal/51020/NYU_0051020_rois_cc200.1D\n",
            "Reading timeseries file /content/BrainGNN/data/ABIDE_pcp/cpac/filt_noglobal/50562/Yale_0050562_rois_cc200.1D\n",
            "Reading timeseries file /content/BrainGNN/data/ABIDE_pcp/cpac/filt_noglobal/50750/Leuven_2_0050750_rois_cc200.1D\n",
            "Reading timeseries file /content/BrainGNN/data/ABIDE_pcp/cpac/filt_noglobal/50334/UM_1_0050334_rois_cc200.1D\n",
            "Reading timeseries file /content/BrainGNN/data/ABIDE_pcp/cpac/filt_noglobal/50106/Olin_0050106_rois_cc200.1D\n",
            "Reading timeseries file /content/BrainGNN/data/ABIDE_pcp/cpac/filt_noglobal/51279/UCLA_1_0051279_rois_cc200.1D\n",
            "Reading timeseries file /content/BrainGNN/data/ABIDE_pcp/cpac/filt_noglobal/50199/SDSU_0050199_rois_cc200.1D\n",
            "Reading timeseries file /content/BrainGNN/data/ABIDE_pcp/cpac/filt_noglobal/50509/USM_0050509_rois_cc200.1D\n",
            "Reading timeseries file /content/BrainGNN/data/ABIDE_pcp/cpac/filt_noglobal/51074/NYU_0051074_rois_cc200.1D\n",
            "Reading timeseries file /content/BrainGNN/data/ABIDE_pcp/cpac/filt_noglobal/50704/Leuven_1_0050704_rois_cc200.1D\n",
            "Reading timeseries file /content/BrainGNN/data/ABIDE_pcp/cpac/filt_noglobal/51080/NYU_0051080_rois_cc200.1D\n",
            "Reading timeseries file /content/BrainGNN/data/ABIDE_pcp/cpac/filt_noglobal/50152/OHSU_0050152_rois_cc200.1D\n",
            "Reading timeseries file /content/BrainGNN/data/ABIDE_pcp/cpac/filt_noglobal/50360/UM_1_0050360_rois_cc200.1D\n",
            "Reading timeseries file /content/BrainGNN/data/ABIDE_pcp/cpac/filt_noglobal/50956/NYU_0050956_rois_cc200.1D\n",
            "Reading timeseries file /content/BrainGNN/data/ABIDE_pcp/cpac/filt_noglobal/50358/UM_1_0050358_rois_cc200.1D\n",
            "Reading timeseries file /content/BrainGNN/data/ABIDE_pcp/cpac/filt_noglobal/50367/UM_1_0050367_rois_cc200.1D\n",
            "Reading timeseries file /content/BrainGNN/data/ABIDE_pcp/cpac/filt_noglobal/51087/NYU_0051087_rois_cc200.1D\n",
            "Reading timeseries file /content/BrainGNN/data/ABIDE_pcp/cpac/filt_noglobal/50969/NYU_0050969_rois_cc200.1D\n",
            "Reading timeseries file /content/BrainGNN/data/ABIDE_pcp/cpac/filt_noglobal/50531/USM_0050531_rois_cc200.1D\n",
            "Reading timeseries file /content/BrainGNN/data/ABIDE_pcp/cpac/filt_noglobal/50703/Leuven_1_0050703_rois_cc200.1D\n",
            "Reading timeseries file /content/BrainGNN/data/ABIDE_pcp/cpac/filt_noglobal/51241/UCLA_1_0051241_rois_cc200.1D\n",
            "Reading timeseries file /content/BrainGNN/data/ABIDE_pcp/cpac/filt_noglobal/51073/NYU_0051073_rois_cc200.1D\n",
            "Reading timeseries file /content/BrainGNN/data/ABIDE_pcp/cpac/filt_noglobal/50960/NYU_0050960_rois_cc200.1D\n",
            "Reading timeseries file /content/BrainGNN/data/ABIDE_pcp/cpac/filt_noglobal/50994/NYU_0050994_rois_cc200.1D\n",
            "Reading timeseries file /content/BrainGNN/data/ABIDE_pcp/cpac/filt_noglobal/51248/UCLA_1_0051248_rois_cc200.1D\n",
            "Reading timeseries file /content/BrainGNN/data/ABIDE_pcp/cpac/filt_noglobal/50507/USM_0050507_rois_cc200.1D\n",
            "Reading timeseries file /content/BrainGNN/data/ABIDE_pcp/cpac/filt_noglobal/50735/Leuven_2_0050735_rois_cc200.1D\n",
            "Reading timeseries file /content/BrainGNN/data/ABIDE_pcp/cpac/filt_noglobal/50351/UM_1_0050351_rois_cc200.1D\n",
            "Reading timeseries file /content/BrainGNN/data/ABIDE_pcp/cpac/filt_noglobal/50163/OHSU_0050163_rois_cc200.1D\n",
            "Reading timeseries file /content/BrainGNN/data/ABIDE_pcp/cpac/filt_noglobal/51277/UCLA_1_0051277_rois_cc200.1D\n",
            "Reading timeseries file /content/BrainGNN/data/ABIDE_pcp/cpac/filt_noglobal/50197/SDSU_0050197_rois_cc200.1D\n",
            "Reading timeseries file /content/BrainGNN/data/ABIDE_pcp/cpac/filt_noglobal/51045/NYU_0051045_rois_cc200.1D\n",
            "Reading timeseries file /content/BrainGNN/data/ABIDE_pcp/cpac/filt_noglobal/50993/NYU_0050993_rois_cc200.1D\n",
            "Reading timeseries file /content/BrainGNN/data/ABIDE_pcp/cpac/filt_noglobal/50369/UM_1_0050369_rois_cc200.1D\n",
            "Reading timeseries file /content/BrainGNN/data/ABIDE_pcp/cpac/filt_noglobal/51089/NYU_0051089_rois_cc200.1D\n",
            "Reading timeseries file /content/BrainGNN/data/ABIDE_pcp/cpac/filt_noglobal/50967/NYU_0050967_rois_cc200.1D\n",
            "Reading timeseries file /content/BrainGNN/data/ABIDE_pcp/cpac/filt_noglobal/50190/SDSU_0050190_rois_cc200.1D\n",
            "Reading timeseries file /content/BrainGNN/data/ABIDE_pcp/cpac/filt_noglobal/51042/NYU_0051042_rois_cc200.1D\n",
            "Reading timeseries file /content/BrainGNN/data/ABIDE_pcp/cpac/filt_noglobal/50164/OHSU_0050164_rois_cc200.1D\n",
            "Reading timeseries file /content/BrainGNN/data/ABIDE_pcp/cpac/filt_noglobal/50958/NYU_0050958_rois_cc200.1D\n",
            "Reading timeseries file /content/BrainGNN/data/ABIDE_pcp/cpac/filt_noglobal/50356/UM_1_0050356_rois_cc200.1D\n",
            "Reading timeseries file /content/BrainGNN/data/ABIDE_pcp/cpac/filt_noglobal/50732/Leuven_2_0050732_rois_cc200.1D\n",
            "Reading timeseries file /content/BrainGNN/data/ABIDE_pcp/cpac/filt_noglobal/50500/USM_0050500_rois_cc200.1D\n",
            "Reading timeseries file /content/BrainGNN/data/ABIDE_pcp/cpac/filt_noglobal/50751/Leuven_2_0050751_rois_cc200.1D\n",
            "Reading timeseries file /content/BrainGNN/data/ABIDE_pcp/cpac/filt_noglobal/50563/Yale_0050563_rois_cc200.1D\n",
            "Reading timeseries file /content/BrainGNN/data/ABIDE_pcp/cpac/filt_noglobal/50107/Olin_0050107_rois_cc200.1D\n",
            "Reading timeseries file /content/BrainGNN/data/ABIDE_pcp/cpac/filt_noglobal/50335/UM_1_0050335_rois_cc200.1D\n",
            "Reading timeseries file /content/BrainGNN/data/ABIDE_pcp/cpac/filt_noglobal/51021/NYU_0051021_rois_cc200.1D\n",
            "Reading timeseries file /content/BrainGNN/data/ABIDE_pcp/cpac/filt_noglobal/51213/UCLA_1_0051213_rois_cc200.1D\n",
            "Reading timeseries file /content/BrainGNN/data/ABIDE_pcp/cpac/filt_noglobal/51214/UCLA_1_0051214_rois_cc200.1D\n",
            "Reading timeseries file /content/BrainGNN/data/ABIDE_pcp/cpac/filt_noglobal/51026/NYU_0051026_rois_cc200.1D\n",
            "Reading timeseries file /content/BrainGNN/data/ABIDE_pcp/cpac/filt_noglobal/50332/UM_1_0050332_rois_cc200.1D\n",
            "Reading timeseries file /content/BrainGNN/data/ABIDE_pcp/cpac/filt_noglobal/50564/Yale_0050564_rois_cc200.1D\n",
            "Reading timeseries file /content/BrainGNN/data/ABIDE_pcp/cpac/filt_noglobal/50756/Leuven_2_0050756_rois_cc200.1D\n",
            "Reading timeseries file /content/BrainGNN/data/ABIDE_pcp/cpac/filt_noglobal/51019/NYU_0051019_rois_cc200.1D\n",
            "Reading timeseries file /content/BrainGNN/data/ABIDE_pcp/cpac/filt_noglobal/51489/Caltech_0051489_rois_cc200.1D\n",
            "Reading timeseries file /content/BrainGNN/data/ABIDE_pcp/cpac/filt_noglobal/51222/UCLA_1_0051222_rois_cc200.1D\n",
            "Reading timeseries file /content/BrainGNN/data/ABIDE_pcp/cpac/filt_noglobal/51010/NYU_0051010_rois_cc200.1D\n",
            "Reading timeseries file /content/BrainGNN/data/ABIDE_pcp/cpac/filt_noglobal/51474/Caltech_0051474_rois_cc200.1D\n",
            "Reading timeseries file /content/BrainGNN/data/ABIDE_pcp/cpac/filt_noglobal/50794/KKI_0050794_rois_cc200.1D\n",
            "Reading timeseries file /content/BrainGNN/data/ABIDE_pcp/cpac/filt_noglobal/51480/Caltech_0051480_rois_cc200.1D\n",
            "Reading timeseries file /content/BrainGNN/data/ABIDE_pcp/cpac/filt_noglobal/50552/Yale_0050552_rois_cc200.1D\n",
            "Reading timeseries file /content/BrainGNN/data/ABIDE_pcp/cpac/filt_noglobal/50304/UM_1_0050304_rois_cc200.1D\n",
            "Reading timeseries file /content/BrainGNN/data/ABIDE_pcp/cpac/filt_noglobal/50136/Olin_0050136_rois_cc200.1D\n",
            "Reading timeseries file /content/BrainGNN/data/ABIDE_pcp/cpac/filt_noglobal/50109/Olin_0050109_rois_cc200.1D\n",
            "Reading timeseries file /content/BrainGNN/data/ABIDE_pcp/cpac/filt_noglobal/50131/Olin_0050131_rois_cc200.1D\n",
            "Reading timeseries file /content/BrainGNN/data/ABIDE_pcp/cpac/filt_noglobal/50303/UM_1_0050303_rois_cc200.1D\n",
            "Reading timeseries file /content/BrainGNN/data/ABIDE_pcp/cpac/filt_noglobal/51487/Caltech_0051487_rois_cc200.1D\n",
            "Reading timeseries file /content/BrainGNN/data/ABIDE_pcp/cpac/filt_noglobal/50555/Yale_0050555_rois_cc200.1D\n",
            "Reading timeseries file /content/BrainGNN/data/ABIDE_pcp/cpac/filt_noglobal/50793/KKI_0050793_rois_cc200.1D\n",
            "Reading timeseries file /content/BrainGNN/data/ABIDE_pcp/cpac/filt_noglobal/51473/Caltech_0051473_rois_cc200.1D\n",
            "Reading timeseries file /content/BrainGNN/data/ABIDE_pcp/cpac/filt_noglobal/51017/NYU_0051017_rois_cc200.1D\n",
            "Reading timeseries file /content/BrainGNN/data/ABIDE_pcp/cpac/filt_noglobal/51225/UCLA_1_0051225_rois_cc200.1D\n",
            "Reading timeseries file /content/BrainGNN/data/ABIDE_pcp/cpac/filt_noglobal/51028/NYU_0051028_rois_cc200.1D\n",
            "Reading timeseries file /content/BrainGNN/data/ABIDE_pcp/cpac/filt_noglobal/50966/NYU_0050966_rois_cc200.1D\n",
            "Reading timeseries file /content/BrainGNN/data/ABIDE_pcp/cpac/filt_noglobal/51088/NYU_0051088_rois_cc200.1D\n",
            "Reading timeseries file /content/BrainGNN/data/ABIDE_pcp/cpac/filt_noglobal/50368/UM_1_0050368_rois_cc200.1D\n",
            "Reading timeseries file /content/BrainGNN/data/ABIDE_pcp/cpac/filt_noglobal/50992/NYU_0050992_rois_cc200.1D\n",
            "Reading timeseries file /content/BrainGNN/data/ABIDE_pcp/cpac/filt_noglobal/50357/UM_1_0050357_rois_cc200.1D\n",
            "Reading timeseries file /content/BrainGNN/data/ABIDE_pcp/cpac/filt_noglobal/50959/NYU_0050959_rois_cc200.1D\n",
            "Reading timeseries file /content/BrainGNN/data/ABIDE_pcp/cpac/filt_noglobal/50501/USM_0050501_rois_cc200.1D\n",
            "Reading timeseries file /content/BrainGNN/data/ABIDE_pcp/cpac/filt_noglobal/50733/Leuven_2_0050733_rois_cc200.1D\n",
            "Reading timeseries file /content/BrainGNN/data/ABIDE_pcp/cpac/filt_noglobal/51271/UCLA_1_0051271_rois_cc200.1D\n",
            "Reading timeseries file /content/BrainGNN/data/ABIDE_pcp/cpac/filt_noglobal/50191/SDSU_0050191_rois_cc200.1D\n",
            "Reading timeseries file /content/BrainGNN/data/ABIDE_pcp/cpac/filt_noglobal/51249/UCLA_1_0051249_rois_cc200.1D\n",
            "Reading timeseries file /content/BrainGNN/data/ABIDE_pcp/cpac/filt_noglobal/50995/NYU_0050995_rois_cc200.1D\n",
            "Reading timeseries file /content/BrainGNN/data/ABIDE_pcp/cpac/filt_noglobal/50961/NYU_0050961_rois_cc200.1D\n",
            "Reading timeseries file /content/BrainGNN/data/ABIDE_pcp/cpac/filt_noglobal/50196/SDSU_0050196_rois_cc200.1D\n",
            "Reading timeseries file /content/BrainGNN/data/ABIDE_pcp/cpac/filt_noglobal/51044/NYU_0051044_rois_cc200.1D\n",
            "Reading timeseries file /content/BrainGNN/data/ABIDE_pcp/cpac/filt_noglobal/51276/UCLA_1_0051276_rois_cc200.1D\n",
            "Reading timeseries file /content/BrainGNN/data/ABIDE_pcp/cpac/filt_noglobal/50162/OHSU_0050162_rois_cc200.1D\n",
            "Reading timeseries file /content/BrainGNN/data/ABIDE_pcp/cpac/filt_noglobal/50350/UM_1_0050350_rois_cc200.1D\n",
            "Reading timeseries file /content/BrainGNN/data/ABIDE_pcp/cpac/filt_noglobal/51282/UCLA_1_0051282_rois_cc200.1D\n",
            "Reading timeseries file /content/BrainGNN/data/ABIDE_pcp/cpac/filt_noglobal/50359/UM_1_0050359_rois_cc200.1D\n",
            "Reading timeseries file /content/BrainGNN/data/ABIDE_pcp/cpac/filt_noglobal/50957/NYU_0050957_rois_cc200.1D\n",
            "Reading timeseries file /content/BrainGNN/data/ABIDE_pcp/cpac/filt_noglobal/51072/NYU_0051072_rois_cc200.1D\n",
            "Reading timeseries file /content/BrainGNN/data/ABIDE_pcp/cpac/filt_noglobal/51240/UCLA_1_0051240_rois_cc200.1D\n",
            "Reading timeseries file /content/BrainGNN/data/ABIDE_pcp/cpac/filt_noglobal/50968/NYU_0050968_rois_cc200.1D\n",
            "Reading timeseries file /content/BrainGNN/data/ABIDE_pcp/cpac/filt_noglobal/51086/NYU_0051086_rois_cc200.1D\n",
            "Reading timeseries file /content/BrainGNN/data/ABIDE_pcp/cpac/filt_noglobal/50366/UM_1_0050366_rois_cc200.1D\n",
            "Reading timeseries file /content/BrainGNN/data/ABIDE_pcp/cpac/filt_noglobal/50702/Leuven_1_0050702_rois_cc200.1D\n",
            "Reading timeseries file /content/BrainGNN/data/ABIDE_pcp/cpac/filt_noglobal/50530/USM_0050530_rois_cc200.1D\n",
            "Reading timeseries file /content/BrainGNN/data/ABIDE_pcp/cpac/filt_noglobal/50198/SDSU_0050198_rois_cc200.1D\n",
            "Reading timeseries file /content/BrainGNN/data/ABIDE_pcp/cpac/filt_noglobal/51278/UCLA_1_0051278_rois_cc200.1D\n",
            "Reading timeseries file /content/BrainGNN/data/ABIDE_pcp/cpac/filt_noglobal/50705/Leuven_1_0050705_rois_cc200.1D\n",
            "Reading timeseries file /content/BrainGNN/data/ABIDE_pcp/cpac/filt_noglobal/50361/UM_1_0050361_rois_cc200.1D\n",
            "Reading timeseries file /content/BrainGNN/data/ABIDE_pcp/cpac/filt_noglobal/51081/NYU_0051081_rois_cc200.1D\n",
            "Reading timeseries file /content/BrainGNN/data/ABIDE_pcp/cpac/filt_noglobal/50153/OHSU_0050153_rois_cc200.1D\n",
            "Reading timeseries file /content/BrainGNN/data/ABIDE_pcp/cpac/filt_noglobal/51075/NYU_0051075_rois_cc200.1D\n",
            "Arguments: \n",
            " Namespace(atlas='cc200', seed=123, nclass=2)\n"
          ]
        }
      ]
    },
    {
      "cell_type": "markdown",
      "source": [
        "## Training BrainGNN\n",
        "\n",
        "We run the code with the parsing argument ```--explain=True``` to apply explainability to the model, but it is optional."
      ],
      "metadata": {
        "id": "D_SY_cg-xPv0"
      }
    },
    {
      "cell_type": "code",
      "source": [
        "%run /content/BrainGNN/03-main.py --save_path='/content/BrainGNN/model' --explain=True"
      ],
      "metadata": {
        "colab": {
          "base_uri": "https://localhost:8080/"
        },
        "id": "bdFHZugDoQZA",
        "outputId": "d87db68a-b52b-4d44-b307-51cd3366a998"
      },
      "execution_count": null,
      "outputs": [
        {
          "output_type": "stream",
          "name": "stdout",
          "text": [
            "Network(\n",
            "  (n1): Sequential(\n",
            "    (0): Linear(in_features=200, out_features=8, bias=False)\n",
            "    (1): ReLU()\n",
            "    (2): Linear(in_features=8, out_features=6400, bias=True)\n",
            "  )\n",
            "  (conv1): MyNNConv(200, 32)\n",
            "  (pool1): TopKPooling(32, ratio=0.5, multiplier=1)\n",
            "  (n2): Sequential(\n",
            "    (0): Linear(in_features=200, out_features=8, bias=False)\n",
            "    (1): ReLU()\n",
            "    (2): Linear(in_features=8, out_features=1024, bias=True)\n",
            "  )\n",
            "  (conv2): MyNNConv(32, 32)\n",
            "  (pool2): TopKPooling(32, ratio=0.5, multiplier=1)\n",
            "  (fc1): Linear(in_features=128, out_features=32, bias=True)\n",
            "  (bn1): BatchNorm1d(32, eps=1e-05, momentum=0.1, affine=True, track_running_stats=True)\n",
            "  (fc2): Linear(in_features=32, out_features=512, bias=True)\n",
            "  (bn2): BatchNorm1d(512, eps=1e-05, momentum=0.1, affine=True, track_running_stats=True)\n",
            "  (fc3): Linear(in_features=512, out_features=2, bias=True)\n",
            ")\n",
            "train...........\n",
            "LR 0.01\n",
            "testing...........\n",
            "*====**\n",
            "0m 3s\n",
            "Epoch: 000, Train Loss: 1.2831189, Train Acc: 0.5330113, Validation Loss: 1.0701245, Validation Acc: 0.4879227\n",
            "train...........\n",
            "LR 0.01\n",
            "testing...........\n",
            "*====**\n",
            "0m 3s\n",
            "Epoch: 001, Train Loss: 1.3418418, Train Acc: 0.5330113, Validation Loss: 1.0661973, Validation Acc: 0.4975845\n",
            "train...........\n",
            "LR 0.01\n",
            "testing...........\n",
            "*====**\n",
            "0m 3s\n",
            "Epoch: 002, Train Loss: 1.2170149, Train Acc: 0.5330113, Validation Loss: 1.2300110, Validation Acc: 0.4975845\n",
            "train...........\n",
            "LR 0.01\n",
            "testing...........\n",
            "*====**\n",
            "0m 3s\n",
            "Epoch: 003, Train Loss: 1.1939218, Train Acc: 0.4685990, Validation Loss: 1.0656668, Validation Acc: 0.5024155\n",
            "train...........\n",
            "LR 0.01\n",
            "testing...........\n",
            "*====**\n",
            "0m 3s\n",
            "Epoch: 004, Train Loss: 1.1901010, Train Acc: 0.5426731, Validation Loss: 1.1839526, Validation Acc: 0.4685990\n",
            "train...........\n",
            "LR 0.01\n",
            "testing...........\n",
            "*====**\n",
            "0m 3s\n",
            "Epoch: 005, Train Loss: 1.1974933, Train Acc: 0.5217391, Validation Loss: 1.0065264, Validation Acc: 0.4734300\n",
            "train...........\n",
            "LR 0.01\n",
            "testing...........\n",
            "*====**\n",
            "0m 3s\n",
            "Epoch: 006, Train Loss: 1.1096324, Train Acc: 0.4669887, Validation Loss: 1.0285426, Validation Acc: 0.5072464\n",
            "saving best model\n",
            "train...........\n",
            "LR 0.01\n",
            "testing...........\n",
            "*====**\n",
            "0m 3s\n",
            "Epoch: 007, Train Loss: 1.1359813, Train Acc: 0.4685990, Validation Loss: 1.0368856, Validation Acc: 0.5072464\n",
            "train...........\n",
            "LR 0.01\n",
            "testing...........\n",
            "*====**\n",
            "0m 3s\n",
            "Epoch: 008, Train Loss: 1.0672870, Train Acc: 0.4782609, Validation Loss: 1.1118870, Validation Acc: 0.4975845\n",
            "train...........\n",
            "LR 0.01\n",
            "testing...........\n",
            "*====**\n",
            "0m 3s\n",
            "Epoch: 009, Train Loss: 1.1023578, Train Acc: 0.4669887, Validation Loss: 1.0049228, Validation Acc: 0.5072464\n",
            "saving best model\n",
            "train...........\n",
            "LR 0.01\n",
            "testing...........\n",
            "*====**\n",
            "0m 3s\n",
            "Epoch: 010, Train Loss: 1.1399771, Train Acc: 0.5281804, Validation Loss: 1.0360740, Validation Acc: 0.4734300\n",
            "train...........\n",
            "LR 0.01\n",
            "testing...........\n",
            "*====**\n",
            "0m 3s\n",
            "Epoch: 011, Train Loss: 1.0158162, Train Acc: 0.5297907, Validation Loss: 0.9939293, Validation Acc: 0.4685990\n",
            "saving best model\n",
            "train...........\n",
            "LR 0.01\n",
            "testing...........\n",
            "*====**\n",
            "0m 3s\n",
            "Epoch: 012, Train Loss: 1.0425855, Train Acc: 0.5346216, Validation Loss: 1.1342130, Validation Acc: 0.4927536\n",
            "train...........\n",
            "LR 0.01\n",
            "testing...........\n",
            "*====**\n",
            "0m 3s\n",
            "Epoch: 013, Train Loss: 1.0590826, Train Acc: 0.4991948, Validation Loss: 1.0089295, Validation Acc: 0.4830918\n",
            "train...........\n",
            "LR 0.01\n",
            "testing...........\n",
            "*====**\n",
            "0m 3s\n",
            "Epoch: 014, Train Loss: 1.0538233, Train Acc: 0.5265700, Validation Loss: 1.0162160, Validation Acc: 0.4685990\n",
            "train...........\n",
            "LR 0.01\n",
            "testing...........\n",
            "*====**\n",
            "0m 3s\n",
            "Epoch: 015, Train Loss: 1.0384532, Train Acc: 0.5330113, Validation Loss: 1.0716348, Validation Acc: 0.4927536\n",
            "train...........\n",
            "LR 0.01\n",
            "testing...........\n",
            "*====**\n",
            "0m 3s\n",
            "Epoch: 016, Train Loss: 1.0488520, Train Acc: 0.5249597, Validation Loss: 1.0166294, Validation Acc: 0.4830918\n",
            "train...........\n",
            "LR 0.01\n",
            "testing...........\n",
            "*====**\n",
            "0m 3s\n",
            "Epoch: 017, Train Loss: 1.0013965, Train Acc: 0.5539452, Validation Loss: 0.9896407, Validation Acc: 0.4927536\n",
            "saving best model\n",
            "train...........\n",
            "LR 0.01\n",
            "testing...........\n",
            "*====**\n",
            "0m 3s\n",
            "Epoch: 018, Train Loss: 0.9738870, Train Acc: 0.4669887, Validation Loss: 1.1890470, Validation Acc: 0.5072464\n",
            "train...........\n",
            "LR 0.005\n",
            "testing...........\n",
            "*====**\n",
            "0m 3s\n",
            "Epoch: 019, Train Loss: 0.9486276, Train Acc: 0.4669887, Validation Loss: 1.0701902, Validation Acc: 0.5072464\n",
            "train...........\n",
            "LR 0.005\n",
            "testing...........\n",
            "*====**\n",
            "0m 3s\n",
            "Epoch: 020, Train Loss: 0.9294458, Train Acc: 0.4734300, Validation Loss: 1.0748352, Validation Acc: 0.5024155\n",
            "train...........\n",
            "LR 0.005\n",
            "testing...........\n",
            "*====**\n",
            "0m 3s\n",
            "Epoch: 021, Train Loss: 0.9098876, Train Acc: 0.4685990, Validation Loss: 1.1317838, Validation Acc: 0.5024155\n",
            "train...........\n",
            "LR 0.005\n",
            "testing...........\n",
            "*====**\n",
            "0m 3s\n",
            "Epoch: 022, Train Loss: 0.9045978, Train Acc: 0.4782609, Validation Loss: 1.1227183, Validation Acc: 0.5120773\n",
            "train...........\n",
            "LR 0.005\n",
            "testing...........\n",
            "*====**\n",
            "0m 3s\n",
            "Epoch: 023, Train Loss: 0.8810263, Train Acc: 0.7294686, Validation Loss: 0.9581257, Validation Acc: 0.5507246\n",
            "saving best model\n",
            "train...........\n",
            "LR 0.005\n",
            "testing...........\n",
            "*====**\n",
            "0m 3s\n",
            "Epoch: 024, Train Loss: 0.8513471, Train Acc: 0.5024155, Validation Loss: 1.1230740, Validation Acc: 0.5169082\n",
            "train...........\n",
            "LR 0.005\n",
            "testing...........\n",
            "*====**\n",
            "0m 3s\n",
            "Epoch: 025, Train Loss: 0.8848922, Train Acc: 0.4669887, Validation Loss: 1.0878934, Validation Acc: 0.5072464\n",
            "train...........\n",
            "LR 0.005\n",
            "testing...........\n",
            "*====**\n",
            "0m 3s\n",
            "Epoch: 026, Train Loss: 0.8729188, Train Acc: 0.6457327, Validation Loss: 1.1004846, Validation Acc: 0.5362319\n",
            "train...........\n",
            "LR 0.005\n",
            "testing...........\n",
            "*====**\n",
            "0m 3s\n",
            "Epoch: 027, Train Loss: 0.8510154, Train Acc: 0.4766506, Validation Loss: 1.1922644, Validation Acc: 0.5024155\n",
            "train...........\n",
            "LR 0.005\n",
            "testing...........\n",
            "*====**\n",
            "0m 3s\n",
            "Epoch: 028, Train Loss: 0.8346210, Train Acc: 0.4702093, Validation Loss: 1.5877942, Validation Acc: 0.5072464\n",
            "train...........\n",
            "LR 0.005\n",
            "testing...........\n",
            "*====**\n",
            "0m 3s\n",
            "Epoch: 029, Train Loss: 0.8411648, Train Acc: 0.6441224, Validation Loss: 1.0421405, Validation Acc: 0.5265700\n",
            "train...........\n",
            "LR 0.005\n",
            "testing...........\n",
            "*====**\n",
            "0m 3s\n",
            "Epoch: 030, Train Loss: 0.8287503, Train Acc: 0.5732689, Validation Loss: 1.3612732, Validation Acc: 0.5362319\n",
            "train...........\n",
            "LR 0.005\n",
            "testing...........\n",
            "*====**\n",
            "0m 3s\n",
            "Epoch: 031, Train Loss: 0.8017994, Train Acc: 0.6344605, Validation Loss: 1.1390093, Validation Acc: 0.5458937\n",
            "train...........\n",
            "LR 0.005\n",
            "testing...........\n",
            "*====**\n",
            "0m 3s\n",
            "Epoch: 032, Train Loss: 0.8066135, Train Acc: 0.7246377, Validation Loss: 1.1573441, Validation Acc: 0.5265700\n",
            "train...........\n",
            "LR 0.005\n",
            "testing...........\n",
            "*====**\n",
            "0m 3s\n",
            "Epoch: 033, Train Loss: 0.7784058, Train Acc: 0.6344605, Validation Loss: 1.1361739, Validation Acc: 0.5458937\n",
            "train...........\n",
            "LR 0.005\n",
            "testing...........\n",
            "*====**\n",
            "0m 3s\n",
            "Epoch: 034, Train Loss: 0.7693395, Train Acc: 0.6586151, Validation Loss: 1.2294007, Validation Acc: 0.5507246\n",
            "train...........\n",
            "LR 0.005\n",
            "testing...........\n",
            "*====**\n",
            "0m 3s\n",
            "Epoch: 035, Train Loss: 0.7911577, Train Acc: 0.7037037, Validation Loss: 1.0404315, Validation Acc: 0.5410628\n",
            "train...........\n",
            "LR 0.005\n",
            "testing...........\n",
            "*====**\n",
            "0m 3s\n",
            "Epoch: 036, Train Loss: 0.8002844, Train Acc: 0.6618357, Validation Loss: 1.1565173, Validation Acc: 0.5893720\n",
            "train...........\n",
            "LR 0.005\n",
            "testing...........\n",
            "*====**\n",
            "0m 3s\n",
            "Epoch: 037, Train Loss: 0.7791623, Train Acc: 0.6972625, Validation Loss: 1.0883460, Validation Acc: 0.5555556\n",
            "train...........\n",
            "LR 0.005\n",
            "testing...........\n",
            "*====**\n",
            "0m 3s\n",
            "Epoch: 038, Train Loss: 0.7765096, Train Acc: 0.7552335, Validation Loss: 1.0058207, Validation Acc: 0.5700483\n",
            "train...........\n",
            "LR 0.0025\n",
            "testing...........\n",
            "*====**\n",
            "0m 3s\n",
            "Epoch: 039, Train Loss: 0.7673087, Train Acc: 0.6859903, Validation Loss: 1.1950961, Validation Acc: 0.5410628\n",
            "train...........\n",
            "LR 0.0025\n",
            "testing...........\n",
            "*====**\n",
            "0m 3s\n",
            "Epoch: 040, Train Loss: 0.7603866, Train Acc: 0.5619968, Validation Loss: 1.2310750, Validation Acc: 0.5217391\n",
            "train...........\n",
            "LR 0.0025\n",
            "testing...........\n",
            "*====**\n",
            "0m 3s\n",
            "Epoch: 041, Train Loss: 0.7729545, Train Acc: 0.6924316, Validation Loss: 1.0895620, Validation Acc: 0.5362319\n",
            "train...........\n",
            "LR 0.0025\n",
            "testing...........\n",
            "*====**\n",
            "0m 3s\n",
            "Epoch: 042, Train Loss: 0.7556330, Train Acc: 0.6956522, Validation Loss: 1.1990300, Validation Acc: 0.5652174\n",
            "train...........\n",
            "LR 0.0025\n",
            "testing...........\n",
            "*====**\n",
            "0m 3s\n",
            "Epoch: 043, Train Loss: 0.7567865, Train Acc: 0.5507246, Validation Loss: 1.5024919, Validation Acc: 0.4975845\n",
            "train...........\n",
            "LR 0.0025\n",
            "testing...........\n",
            "*====**\n",
            "0m 3s\n",
            "Epoch: 044, Train Loss: 0.7696483, Train Acc: 0.6795491, Validation Loss: 1.3077455, Validation Acc: 0.5700483\n",
            "train...........\n",
            "LR 0.0025\n",
            "testing...........\n",
            "*====**\n",
            "0m 3s\n",
            "Epoch: 045, Train Loss: 0.7351918, Train Acc: 0.7793881, Validation Loss: 1.2727201, Validation Acc: 0.5700483\n",
            "train...........\n",
            "LR 0.0025\n",
            "testing...........\n",
            "*====**\n",
            "0m 3s\n",
            "Epoch: 046, Train Loss: 0.7283082, Train Acc: 0.7745572, Validation Loss: 1.1023098, Validation Acc: 0.5217391\n",
            "train...........\n",
            "LR 0.0025\n",
            "testing...........\n",
            "*====**\n",
            "0m 3s\n",
            "Epoch: 047, Train Loss: 0.7179839, Train Acc: 0.8115942, Validation Loss: 1.2194661, Validation Acc: 0.5555556\n",
            "train...........\n",
            "LR 0.0025\n",
            "testing...........\n",
            "*====**\n",
            "0m 3s\n",
            "Epoch: 048, Train Loss: 0.7300033, Train Acc: 0.5265700, Validation Loss: 1.3743448, Validation Acc: 0.5265700\n",
            "train...........\n",
            "LR 0.0025\n",
            "testing...........\n",
            "*====**\n",
            "0m 3s\n",
            "Epoch: 049, Train Loss: 0.7260830, Train Acc: 0.6747182, Validation Loss: 1.0716031, Validation Acc: 0.5314010\n",
            "train...........\n",
            "LR 0.0025\n",
            "testing...........\n",
            "*====**\n",
            "0m 3s\n",
            "Epoch: 050, Train Loss: 0.7105836, Train Acc: 0.7858293, Validation Loss: 1.1078737, Validation Acc: 0.5652174\n",
            "train...........\n",
            "LR 0.0025\n",
            "testing...........\n",
            "*====**\n",
            "0m 3s\n",
            "Epoch: 051, Train Loss: 0.7326055, Train Acc: 0.7278583, Validation Loss: 1.1052200, Validation Acc: 0.5507246\n",
            "train...........\n",
            "LR 0.0025\n",
            "testing...........\n",
            "*====**\n",
            "0m 3s\n",
            "Epoch: 052, Train Loss: 0.7118609, Train Acc: 0.8003221, Validation Loss: 1.1352722, Validation Acc: 0.5555556\n",
            "train...........\n",
            "LR 0.0025\n",
            "testing...........\n",
            "*====**\n",
            "0m 3s\n",
            "Epoch: 053, Train Loss: 0.7415554, Train Acc: 0.8083736, Validation Loss: 1.2211643, Validation Acc: 0.5555556\n",
            "train...........\n",
            "LR 0.0025\n",
            "testing...........\n",
            "*====**\n",
            "0m 3s\n",
            "Epoch: 054, Train Loss: 0.6995964, Train Acc: 0.6859903, Validation Loss: 1.4490545, Validation Acc: 0.5458937\n",
            "train...........\n",
            "LR 0.0025\n",
            "testing...........\n",
            "*====**\n",
            "0m 3s\n",
            "Epoch: 055, Train Loss: 0.7189824, Train Acc: 0.7826087, Validation Loss: 1.1101734, Validation Acc: 0.5265700\n",
            "train...........\n",
            "LR 0.0025\n",
            "testing...........\n",
            "*====**\n",
            "0m 3s\n",
            "Epoch: 056, Train Loss: 0.7054138, Train Acc: 0.5700483, Validation Loss: 1.7688346, Validation Acc: 0.5217391\n",
            "train...........\n",
            "LR 0.0025\n",
            "testing...........\n",
            "*====**\n",
            "0m 3s\n",
            "Epoch: 057, Train Loss: 0.7170954, Train Acc: 0.6618357, Validation Loss: 1.0518741, Validation Acc: 0.5362319\n",
            "train...........\n",
            "LR 0.0025\n",
            "testing...........\n",
            "*====**\n",
            "0m 3s\n",
            "Epoch: 058, Train Loss: 0.7083802, Train Acc: 0.6247987, Validation Loss: 1.4009205, Validation Acc: 0.5217391\n",
            "train...........\n",
            "LR 0.00125\n",
            "testing...........\n",
            "*====**\n",
            "0m 3s\n",
            "Epoch: 059, Train Loss: 0.7020030, Train Acc: 0.6103060, Validation Loss: 1.5782441, Validation Acc: 0.5362319\n",
            "train...........\n",
            "LR 0.00125\n",
            "testing...........\n",
            "*====**\n",
            "0m 3s\n",
            "Epoch: 060, Train Loss: 0.6574542, Train Acc: 0.6489533, Validation Loss: 1.4838887, Validation Acc: 0.5362319\n",
            "train...........\n",
            "LR 0.00125\n",
            "testing...........\n",
            "*====**\n",
            "0m 3s\n",
            "Epoch: 061, Train Loss: 0.6518071, Train Acc: 0.8534622, Validation Loss: 1.2172429, Validation Acc: 0.5652174\n",
            "train...........\n",
            "LR 0.00125\n",
            "testing...........\n",
            "*====**\n",
            "0m 3s\n",
            "Epoch: 062, Train Loss: 0.6641503, Train Acc: 0.8502415, Validation Loss: 1.1583395, Validation Acc: 0.5507246\n",
            "train...........\n",
            "LR 0.00125\n",
            "testing...........\n",
            "*====**\n",
            "0m 3s\n",
            "Epoch: 063, Train Loss: 0.6480353, Train Acc: 0.8276973, Validation Loss: 1.3190725, Validation Acc: 0.5700483\n",
            "train...........\n",
            "LR 0.00125\n",
            "testing...........\n",
            "*====**\n",
            "0m 3s\n",
            "Epoch: 064, Train Loss: 0.6407905, Train Acc: 0.7938808, Validation Loss: 1.0880404, Validation Acc: 0.5507246\n",
            "train...........\n",
            "LR 0.00125\n",
            "testing...........\n",
            "*====**\n",
            "0m 3s\n",
            "Epoch: 065, Train Loss: 0.6624749, Train Acc: 0.7439614, Validation Loss: 1.1124468, Validation Acc: 0.5458937\n",
            "train...........\n",
            "LR 0.00125\n",
            "testing...........\n",
            "*====**\n",
            "0m 3s\n",
            "Epoch: 066, Train Loss: 0.6667678, Train Acc: 0.5700483, Validation Loss: 4.4470130, Validation Acc: 0.5072464\n",
            "train...........\n",
            "LR 0.00125\n",
            "testing...........\n",
            "*====**\n",
            "0m 3s\n",
            "Epoch: 067, Train Loss: 0.6606343, Train Acc: 0.7342995, Validation Loss: 1.4457630, Validation Acc: 0.5845411\n",
            "train...........\n",
            "LR 0.00125\n",
            "testing...........\n",
            "*====**\n",
            "0m 3s\n",
            "Epoch: 068, Train Loss: 0.6546784, Train Acc: 0.7359098, Validation Loss: 1.2187220, Validation Acc: 0.5555556\n",
            "train...........\n",
            "LR 0.00125\n",
            "testing...........\n",
            "*====**\n",
            "0m 3s\n",
            "Epoch: 069, Train Loss: 0.6333579, Train Acc: 0.7745572, Validation Loss: 1.0683575, Validation Acc: 0.5652174\n",
            "train...........\n",
            "LR 0.00125\n",
            "testing...........\n",
            "*====**\n",
            "0m 3s\n",
            "Epoch: 070, Train Loss: 0.6340775, Train Acc: 0.6570048, Validation Loss: 1.2935971, Validation Acc: 0.5265700\n",
            "train...........\n",
            "LR 0.00125\n",
            "testing...........\n",
            "*====**\n",
            "0m 3s\n",
            "Epoch: 071, Train Loss: 0.6313102, Train Acc: 0.6908213, Validation Loss: 1.4430620, Validation Acc: 0.5603865\n",
            "train...........\n",
            "LR 0.00125\n",
            "testing...........\n",
            "*====**\n",
            "0m 3s\n",
            "Epoch: 072, Train Loss: 0.6405791, Train Acc: 0.8711755, Validation Loss: 1.1499124, Validation Acc: 0.5410628\n",
            "train...........\n",
            "LR 0.00125\n",
            "testing...........\n",
            "*====**\n",
            "0m 3s\n",
            "Epoch: 073, Train Loss: 0.6061621, Train Acc: 0.7069243, Validation Loss: 1.3834890, Validation Acc: 0.5314010\n",
            "train...........\n",
            "LR 0.00125\n",
            "testing...........\n",
            "*====**\n",
            "0m 3s\n",
            "Epoch: 074, Train Loss: 0.6145496, Train Acc: 0.8695652, Validation Loss: 1.4346422, Validation Acc: 0.5410628\n",
            "train...........\n",
            "LR 0.00125\n",
            "testing...........\n",
            "*====**\n",
            "0m 3s\n",
            "Epoch: 075, Train Loss: 0.6254110, Train Acc: 0.7085346, Validation Loss: 1.8930851, Validation Acc: 0.5410628\n",
            "train...........\n",
            "LR 0.00125\n",
            "testing...........\n",
            "*====**\n",
            "0m 3s\n",
            "Epoch: 076, Train Loss: 0.6544422, Train Acc: 0.8808374, Validation Loss: 1.2233376, Validation Acc: 0.5700483\n",
            "train...........\n",
            "LR 0.00125\n",
            "testing...........\n",
            "*====**\n",
            "0m 3s\n",
            "Epoch: 077, Train Loss: 0.6327240, Train Acc: 0.7165862, Validation Loss: 1.1403520, Validation Acc: 0.5265700\n",
            "train...........\n",
            "LR 0.00125\n",
            "testing...........\n",
            "*====**\n",
            "0m 3s\n",
            "Epoch: 078, Train Loss: 0.6358358, Train Acc: 0.8373591, Validation Loss: 1.4238348, Validation Acc: 0.5507246\n",
            "train...........\n",
            "LR 0.000625\n",
            "testing...........\n",
            "*====**\n",
            "0m 3s\n",
            "Epoch: 079, Train Loss: 0.5980664, Train Acc: 0.8405797, Validation Loss: 1.5064088, Validation Acc: 0.5169082\n",
            "train...........\n",
            "LR 0.000625\n",
            "testing...........\n",
            "*====**\n",
            "0m 3s\n",
            "Epoch: 080, Train Loss: 0.6083428, Train Acc: 0.8019324, Validation Loss: 1.6343958, Validation Acc: 0.5169082\n",
            "train...........\n",
            "LR 0.000625\n",
            "testing...........\n",
            "*====**\n",
            "0m 3s\n",
            "Epoch: 081, Train Loss: 0.6022166, Train Acc: 0.8937198, Validation Loss: 1.3971295, Validation Acc: 0.5507246\n",
            "train...........\n",
            "LR 0.000625\n",
            "testing...........\n",
            "*====**\n",
            "0m 3s\n",
            "Epoch: 082, Train Loss: 0.5969134, Train Acc: 0.8582931, Validation Loss: 1.2152042, Validation Acc: 0.5555556\n",
            "train...........\n",
            "LR 0.000625\n",
            "testing...........\n",
            "*====**\n",
            "0m 3s\n",
            "Epoch: 083, Train Loss: 0.5816496, Train Acc: 0.8615137, Validation Loss: 1.2008660, Validation Acc: 0.5652174\n",
            "train...........\n",
            "LR 0.000625\n",
            "testing...........\n",
            "*====**\n",
            "0m 3s\n",
            "Epoch: 084, Train Loss: 0.5893585, Train Acc: 0.9066023, Validation Loss: 1.3768784, Validation Acc: 0.5652174\n",
            "train...........\n",
            "LR 0.000625\n",
            "testing...........\n",
            "*====**\n",
            "0m 3s\n",
            "Epoch: 085, Train Loss: 0.5852989, Train Acc: 0.8325282, Validation Loss: 1.5130956, Validation Acc: 0.5652174\n",
            "train...........\n",
            "LR 0.000625\n",
            "testing...........\n",
            "*====**\n",
            "0m 3s\n",
            "Epoch: 086, Train Loss: 0.5722975, Train Acc: 0.9017713, Validation Loss: 1.3175381, Validation Acc: 0.5652174\n",
            "train...........\n",
            "LR 0.000625\n",
            "testing...........\n",
            "*====**\n",
            "0m 3s\n",
            "Epoch: 087, Train Loss: 0.5813334, Train Acc: 0.8582931, Validation Loss: 1.6424517, Validation Acc: 0.5603865\n",
            "train...........\n",
            "LR 0.000625\n",
            "testing...........\n",
            "*====**\n",
            "0m 3s\n",
            "Epoch: 088, Train Loss: 0.6042384, Train Acc: 0.9033816, Validation Loss: 1.5151938, Validation Acc: 0.5555556\n",
            "train...........\n",
            "LR 0.000625\n",
            "testing...........\n",
            "*====**\n",
            "0m 3s\n",
            "Epoch: 089, Train Loss: 0.5917425, Train Acc: 0.7938808, Validation Loss: 1.3198738, Validation Acc: 0.5458937\n",
            "train...........\n",
            "LR 0.000625\n",
            "testing...........\n",
            "*====**\n",
            "0m 3s\n",
            "Epoch: 090, Train Loss: 0.5807005, Train Acc: 0.9098229, Validation Loss: 1.5184194, Validation Acc: 0.5603865\n",
            "train...........\n",
            "LR 0.000625\n",
            "testing...........\n",
            "*====**\n",
            "0m 3s\n",
            "Epoch: 091, Train Loss: 0.5691870, Train Acc: 0.8599034, Validation Loss: 1.6680813, Validation Acc: 0.5458937\n",
            "train...........\n",
            "LR 0.000625\n",
            "testing...........\n",
            "*====**\n",
            "0m 3s\n",
            "Epoch: 092, Train Loss: 0.5871673, Train Acc: 0.8953301, Validation Loss: 1.4421574, Validation Acc: 0.5652174\n",
            "train...........\n",
            "LR 0.000625\n",
            "testing...........\n",
            "*====**\n",
            "0m 3s\n",
            "Epoch: 093, Train Loss: 0.5740044, Train Acc: 0.8518519, Validation Loss: 1.3500643, Validation Acc: 0.5410628\n",
            "train...........\n",
            "LR 0.000625\n",
            "testing...........\n",
            "*====**\n",
            "0m 3s\n",
            "Epoch: 094, Train Loss: 0.5770821, Train Acc: 0.8518519, Validation Loss: 1.4712404, Validation Acc: 0.5265700\n",
            "train...........\n",
            "LR 0.000625\n",
            "testing...........\n",
            "*====**\n",
            "0m 3s\n",
            "Epoch: 095, Train Loss: 0.5718085, Train Acc: 0.8067633, Validation Loss: 1.5908937, Validation Acc: 0.5555556\n",
            "train...........\n",
            "LR 0.000625\n",
            "testing...........\n",
            "*====**\n",
            "0m 3s\n",
            "Epoch: 096, Train Loss: 0.5610054, Train Acc: 0.8647343, Validation Loss: 1.6797881, Validation Acc: 0.5700483\n",
            "train...........\n",
            "LR 0.000625\n",
            "testing...........\n",
            "*====**\n",
            "0m 3s\n",
            "Epoch: 097, Train Loss: 0.5768269, Train Acc: 0.8421900, Validation Loss: 1.5708024, Validation Acc: 0.5169082\n",
            "train...........\n",
            "LR 0.000625\n",
            "testing...........\n",
            "*====**\n",
            "0m 3s\n",
            "Epoch: 098, Train Loss: 0.5622618, Train Acc: 0.8405797, Validation Loss: 1.4254294, Validation Acc: 0.5797101\n",
            "train...........\n",
            "LR 0.0003125\n",
            "testing...........\n",
            "*====**\n",
            "0m 3s\n",
            "Epoch: 099, Train Loss: 0.5614917, Train Acc: 0.8953301, Validation Loss: 1.4931306, Validation Acc: 0.5700483\n",
            "testing...........\n",
            "===========================\n",
            "Test Acc: 0.5458937, Test Loss: 0.9556956 \n",
            "Namespace(epoch=0, n_epochs=100, batchSize=100, dataroot='/content/BrainGNN/data/ABIDE_pcp/cpac/filt_noglobal', fold=0, lr=0.01, stepsize=20, gamma=0.5, weightdecay=0.005, lamb0=1, lamb1=0, lamb2=0, lamb3=0.1, lamb4=0.1, lamb5=0.1, ratio=0.5, indim=200, nroi=200, nclass=2, load_model=False, save_model=True, optim='Adam', save_path='/content/BrainGNN/model', model_file_name='save_model', explain=True, print_explainability_report=True)\n",
            "\n",
            "Explainability report:\n",
            "\n",
            "Explanation for sample 4: [0, 6, 10, 11, 16, 18, 19, 24, 32, 34, 35, 37, 42, 45, 48, 51, 52, 57, 58, 63, 66, 67, 70, 71, 83, 84, 85, 95, 101, 106, 112, 121, 123, 130, 133, 135, 140, 141, 143, 147, 153, 154, 156, 161, 163, 164, 165, 167, 192, 193]\n",
            "\n",
            "Explanation for sample 5: [3, 6, 14, 17, 19, 22, 23, 29, 31, 34, 38, 40, 46, 47, 51, 54, 56, 58, 66, 67, 74, 76, 77, 78, 91, 93, 98, 111, 120, 121, 123, 125, 127, 134, 136, 139, 147, 157, 159, 160, 161, 164, 165, 182, 183, 184, 189, 193, 198, 199]\n",
            "\n",
            "Explanation for sample 7: [10, 14, 19, 25, 27, 32, 34, 41, 43, 46, 50, 52, 55, 56, 66, 70, 72, 82, 83, 84, 85, 89, 99, 102, 106, 109, 114, 120, 123, 127, 128, 130, 133, 134, 140, 147, 149, 150, 151, 153, 158, 176, 177, 184, 187, 188, 189, 193, 195, 198]\n",
            "\n",
            "Explanation for sample 13: [3, 6, 7, 17, 18, 19, 20, 24, 27, 29, 32, 34, 36, 41, 44, 55, 58, 59, 61, 66, 75, 83, 85, 87, 93, 97, 107, 112, 120, 123, 127, 134, 136, 140, 141, 150, 153, 156, 164, 165, 167, 168, 177, 179, 181, 182, 183, 184, 186, 199]\n",
            "\n",
            "Explanation for sample 18: [3, 9, 19, 20, 24, 32, 34, 35, 40, 46, 51, 53, 54, 55, 58, 66, 69, 71, 74, 77, 82, 83, 84, 85, 86, 87, 88, 89, 93, 95, 118, 119, 120, 124, 125, 128, 130, 144, 151, 161, 166, 167, 175, 180, 181, 183, 189, 193, 197, 198]\n",
            "\n",
            "Explanation for sample 28: [0, 4, 6, 14, 16, 17, 24, 26, 28, 29, 33, 41, 44, 46, 52, 56, 58, 63, 68, 70, 76, 79, 81, 82, 83, 91, 93, 112, 114, 115, 119, 123, 124, 125, 131, 134, 138, 143, 147, 154, 160, 163, 165, 167, 177, 181, 182, 186, 191, 197]\n",
            "\n",
            "Explanation for sample 31: [3, 6, 7, 14, 20, 26, 27, 32, 34, 54, 55, 56, 58, 59, 63, 64, 65, 78, 85, 86, 87, 89, 91, 92, 93, 95, 110, 115, 120, 121, 122, 123, 124, 129, 133, 134, 136, 144, 145, 153, 154, 156, 159, 175, 178, 179, 183, 184, 187, 191]\n",
            "\n",
            "Explanation for sample 35: [14, 16, 19, 22, 24, 26, 31, 33, 37, 38, 41, 42, 43, 51, 55, 60, 73, 74, 77, 83, 85, 86, 87, 93, 96, 112, 115, 119, 123, 125, 129, 133, 134, 138, 143, 144, 147, 160, 163, 164, 165, 166, 167, 172, 177, 180, 181, 185, 189, 197]\n",
            "\n",
            "Explanation for sample 36: [7, 12, 19, 27, 31, 32, 33, 41, 49, 51, 52, 55, 59, 63, 65, 72, 73, 75, 82, 85, 87, 90, 95, 97, 108, 110, 112, 114, 115, 118, 120, 122, 127, 133, 140, 143, 145, 148, 153, 156, 160, 164, 167, 170, 181, 183, 185, 186, 192, 195]\n",
            "\n",
            "Explanation for sample 41: [3, 4, 6, 14, 17, 19, 21, 24, 37, 41, 44, 45, 46, 50, 51, 56, 57, 58, 66, 67, 70, 81, 82, 83, 85, 93, 112, 118, 119, 123, 126, 129, 134, 136, 140, 143, 147, 148, 152, 159, 163, 164, 165, 177, 181, 183, 189, 193, 197, 198]\n",
            "\n",
            "Explanation for sample 42: [1, 2, 4, 7, 18, 22, 26, 32, 33, 37, 41, 45, 50, 51, 55, 56, 57, 60, 70, 71, 73, 77, 81, 95, 98, 100, 111, 113, 115, 116, 134, 135, 138, 140, 143, 148, 150, 155, 159, 164, 165, 166, 168, 169, 172, 179, 181, 182, 190, 197]\n",
            "\n",
            "Explanation for sample 43: [3, 4, 14, 17, 20, 21, 24, 28, 34, 41, 45, 46, 54, 56, 58, 61, 64, 65, 66, 67, 74, 78, 87, 97, 106, 110, 115, 118, 120, 121, 123, 127, 134, 136, 147, 151, 153, 159, 160, 163, 164, 167, 175, 179, 181, 183, 184, 186, 193, 199]\n",
            "\n",
            "Explanation for sample 48: [0, 7, 9, 10, 11, 14, 23, 29, 32, 33, 34, 38, 45, 46, 53, 54, 58, 67, 69, 70, 71, 73, 86, 88, 89, 93, 96, 97, 98, 103, 108, 115, 119, 124, 125, 134, 137, 138, 141, 144, 147, 156, 157, 165, 169, 171, 174, 177, 178, 184]\n",
            "\n",
            "Explanation for sample 50: [4, 5, 21, 22, 23, 24, 28, 29, 32, 34, 35, 39, 42, 43, 46, 53, 54, 56, 59, 63, 69, 70, 74, 75, 80, 84, 85, 92, 97, 101, 102, 104, 115, 120, 130, 133, 138, 141, 146, 149, 161, 166, 169, 175, 178, 179, 187, 188, 196, 199]\n",
            "\n",
            "Explanation for sample 52: [1, 4, 10, 14, 19, 39, 41, 50, 51, 52, 53, 56, 67, 70, 71, 73, 77, 81, 82, 87, 90, 91, 103, 107, 108, 109, 111, 116, 128, 129, 132, 134, 138, 140, 141, 147, 148, 150, 153, 154, 159, 168, 172, 176, 180, 181, 182, 190, 195, 199]\n",
            "\n",
            "Explanation for sample 54: [1, 3, 7, 9, 13, 19, 20, 23, 27, 30, 34, 42, 58, 63, 64, 67, 78, 79, 82, 84, 87, 92, 95, 97, 102, 110, 115, 117, 119, 120, 121, 122, 127, 128, 134, 136, 140, 142, 147, 149, 152, 153, 170, 175, 178, 179, 183, 196, 197, 198]\n",
            "\n",
            "Explanation for sample 55: [6, 10, 11, 14, 19, 23, 24, 30, 32, 34, 35, 40, 51, 52, 55, 58, 65, 66, 68, 73, 77, 81, 82, 85, 87, 89, 93, 109, 115, 118, 120, 123, 126, 127, 128, 131, 133, 134, 143, 145, 153, 156, 163, 165, 183, 184, 187, 189, 195, 199]\n",
            "\n",
            "Explanation for sample 57: [0, 12, 13, 16, 19, 20, 25, 34, 42, 43, 46, 53, 54, 56, 58, 59, 61, 65, 66, 67, 73, 78, 87, 89, 92, 97, 101, 107, 111, 115, 118, 120, 127, 128, 130, 133, 136, 140, 141, 143, 145, 150, 153, 156, 163, 168, 169, 180, 184, 199]\n",
            "\n",
            "Explanation for sample 72: [0, 2, 6, 10, 13, 18, 23, 26, 28, 30, 35, 36, 42, 46, 51, 52, 55, 58, 59, 70, 77, 82, 83, 84, 85, 92, 93, 96, 102, 112, 117, 119, 121, 123, 130, 134, 135, 146, 149, 151, 168, 169, 171, 177, 178, 186, 189, 193, 197, 198]\n",
            "\n",
            "Explanation for sample 85: [1, 4, 7, 10, 13, 27, 33, 41, 42, 43, 45, 56, 59, 60, 65, 67, 73, 81, 86, 89, 91, 93, 94, 107, 109, 112, 116, 121, 122, 123, 128, 132, 144, 147, 148, 149, 153, 154, 165, 168, 172, 178, 182, 184, 185, 186, 187, 189, 196, 198]\n",
            "\n",
            "Explanation for sample 95: [2, 4, 6, 11, 12, 14, 19, 21, 22, 29, 37, 39, 46, 51, 53, 55, 56, 58, 60, 69, 70, 79, 82, 85, 88, 92, 103, 105, 107, 109, 111, 112, 124, 126, 129, 134, 141, 148, 150, 154, 162, 173, 176, 181, 183, 187, 189, 193, 197, 198]\n",
            "\n",
            "Explanation for sample 98: [7, 14, 16, 20, 22, 24, 38, 43, 45, 51, 53, 56, 69, 70, 73, 80, 82, 85, 88, 98, 101, 104, 107, 109, 110, 111, 112, 119, 122, 123, 128, 130, 131, 137, 140, 141, 148, 150, 157, 158, 163, 165, 168, 174, 175, 176, 178, 180, 188, 194]\n",
            "\n",
            "Explanation for sample 100: [7, 11, 12, 16, 19, 20, 22, 24, 27, 30, 33, 35, 41, 49, 51, 52, 58, 63, 70, 74, 75, 89, 92, 93, 95, 104, 112, 115, 123, 124, 127, 133, 140, 141, 147, 150, 151, 153, 155, 161, 164, 167, 170, 176, 178, 179, 181, 182, 185, 187]\n",
            "\n",
            "Explanation for sample 102: [4, 16, 19, 21, 24, 26, 33, 41, 43, 46, 51, 52, 58, 66, 68, 69, 73, 74, 82, 84, 85, 88, 92, 96, 100, 101, 106, 107, 112, 118, 123, 129, 130, 131, 140, 146, 149, 150, 159, 161, 163, 164, 169, 176, 179, 180, 183, 194, 198, 199]\n",
            "\n",
            "Explanation for sample 103: [0, 2, 6, 10, 11, 14, 16, 17, 19, 25, 29, 35, 36, 38, 45, 46, 50, 51, 56, 67, 71, 77, 80, 82, 85, 93, 101, 107, 112, 114, 115, 123, 126, 129, 130, 134, 141, 144, 146, 147, 157, 161, 165, 172, 174, 175, 186, 189, 193, 198]\n",
            "\n",
            "Explanation for sample 114: [0, 2, 12, 19, 26, 27, 28, 34, 43, 45, 54, 57, 58, 66, 69, 73, 78, 79, 81, 83, 84, 87, 92, 97, 101, 104, 105, 109, 115, 125, 126, 127, 129, 131, 132, 136, 140, 141, 147, 148, 150, 163, 164, 167, 175, 177, 178, 179, 186, 195]\n",
            "\n",
            "Explanation for sample 117: [0, 3, 5, 7, 12, 19, 25, 28, 32, 40, 43, 46, 54, 58, 82, 83, 84, 85, 89, 93, 101, 116, 118, 124, 128, 130, 133, 141, 143, 145, 147, 148, 160, 161, 166, 167, 169, 171, 172, 174, 175, 177, 180, 181, 183, 189, 195, 196, 198, 199]\n",
            "\n",
            "Explanation for sample 131: [6, 11, 14, 16, 19, 21, 22, 26, 29, 30, 32, 34, 35, 41, 42, 50, 51, 52, 58, 67, 83, 85, 86, 92, 102, 106, 109, 112, 115, 117, 123, 127, 128, 129, 131, 135, 144, 147, 150, 154, 159, 163, 165, 170, 171, 179, 182, 189, 193, 197]\n",
            "\n",
            "Explanation for sample 134: [2, 6, 7, 19, 20, 23, 24, 29, 34, 35, 44, 45, 50, 51, 55, 57, 59, 60, 63, 64, 74, 81, 83, 85, 87, 89, 95, 97, 110, 112, 113, 116, 122, 131, 140, 143, 145, 146, 160, 164, 165, 167, 168, 172, 173, 181, 186, 187, 197, 198]\n",
            "\n",
            "Explanation for sample 138: [2, 3, 10, 12, 14, 18, 19, 20, 22, 24, 28, 29, 34, 37, 38, 46, 51, 53, 54, 58, 74, 78, 83, 85, 91, 93, 97, 98, 102, 105, 112, 115, 120, 121, 124, 130, 134, 136, 140, 147, 163, 164, 166, 167, 168, 169, 182, 193, 197, 198]\n",
            "\n",
            "Explanation for sample 145: [2, 9, 17, 19, 22, 26, 29, 31, 34, 36, 40, 41, 42, 44, 47, 50, 51, 58, 67, 69, 76, 77, 78, 79, 83, 85, 86, 88, 91, 93, 102, 109, 110, 118, 119, 121, 122, 123, 134, 136, 147, 152, 154, 159, 175, 177, 180, 184, 193, 197]\n",
            "\n",
            "Explanation for sample 147: [10, 11, 17, 19, 22, 27, 29, 32, 33, 41, 44, 46, 47, 54, 55, 56, 58, 59, 60, 66, 70, 74, 82, 83, 87, 93, 109, 112, 120, 123, 124, 128, 129, 136, 145, 147, 150, 152, 153, 156, 163, 164, 166, 167, 168, 177, 182, 183, 189, 197]\n",
            "\n",
            "Explanation for sample 156: [2, 3, 11, 13, 18, 19, 22, 24, 29, 34, 36, 39, 41, 42, 47, 57, 63, 66, 67, 68, 73, 74, 85, 87, 90, 99, 102, 103, 104, 106, 115, 120, 121, 127, 136, 138, 140, 145, 147, 151, 152, 168, 172, 177, 178, 182, 184, 185, 192, 199]\n",
            "\n",
            "Explanation for sample 161: [0, 1, 4, 9, 10, 19, 25, 35, 36, 40, 45, 46, 48, 51, 53, 61, 66, 69, 76, 79, 80, 83, 84, 86, 88, 96, 98, 101, 102, 107, 119, 121, 125, 130, 131, 136, 137, 141, 143, 144, 145, 151, 152, 169, 171, 176, 177, 178, 188, 198]\n",
            "\n",
            "Explanation for sample 162: [6, 11, 12, 14, 19, 21, 22, 24, 28, 29, 39, 41, 45, 47, 51, 52, 55, 56, 67, 73, 74, 75, 78, 83, 85, 92, 93, 112, 123, 124, 128, 129, 140, 143, 147, 148, 150, 153, 159, 161, 163, 164, 168, 169, 170, 179, 181, 182, 193, 197]\n",
            "\n",
            "Explanation for sample 164: [6, 10, 11, 12, 16, 17, 19, 24, 27, 29, 33, 40, 41, 42, 51, 52, 54, 59, 60, 70, 71, 72, 73, 77, 78, 81, 82, 85, 102, 111, 112, 113, 115, 140, 143, 148, 150, 161, 163, 166, 167, 168, 171, 172, 182, 186, 189, 193, 197, 198]\n",
            "\n",
            "Explanation for sample 167: [5, 11, 16, 17, 20, 22, 24, 26, 27, 31, 32, 33, 41, 42, 43, 47, 67, 68, 70, 83, 85, 95, 105, 107, 110, 112, 116, 117, 119, 120, 123, 124, 129, 134, 140, 143, 148, 150, 161, 166, 167, 168, 175, 182, 189, 193, 194, 195, 197, 198]\n",
            "\n",
            "Explanation for sample 171: [10, 11, 17, 19, 26, 29, 34, 36, 41, 45, 47, 54, 58, 61, 66, 67, 68, 73, 74, 82, 83, 85, 93, 103, 106, 112, 120, 126, 129, 132, 134, 136, 141, 147, 148, 151, 153, 161, 165, 167, 168, 171, 172, 175, 177, 186, 189, 193, 197, 198]\n",
            "\n",
            "Explanation for sample 172: [7, 10, 16, 19, 28, 34, 38, 46, 47, 51, 52, 53, 67, 73, 80, 81, 83, 85, 89, 92, 95, 106, 107, 112, 115, 116, 121, 128, 129, 140, 141, 142, 153, 161, 164, 166, 167, 168, 170, 171, 176, 177, 179, 183, 187, 188, 189, 193, 195, 198]\n",
            "\n",
            "Explanation for sample 182: [2, 3, 4, 10, 13, 15, 18, 21, 24, 30, 36, 45, 47, 50, 54, 55, 57, 67, 74, 82, 91, 104, 108, 113, 117, 120, 121, 123, 129, 131, 134, 138, 147, 148, 151, 159, 161, 163, 165, 166, 169, 173, 175, 178, 179, 182, 189, 193, 194, 198]\n",
            "\n",
            "Explanation for sample 184: [1, 3, 12, 17, 19, 24, 28, 29, 33, 34, 42, 43, 44, 51, 53, 55, 58, 63, 67, 75, 78, 81, 85, 87, 97, 112, 115, 118, 120, 124, 127, 129, 130, 136, 137, 141, 147, 153, 156, 161, 164, 168, 176, 177, 179, 182, 183, 193, 195, 197]\n",
            "\n",
            "Explanation for sample 188: [6, 10, 11, 13, 21, 22, 24, 26, 28, 34, 37, 41, 52, 56, 58, 63, 73, 74, 76, 78, 79, 83, 85, 87, 90, 106, 108, 112, 114, 115, 119, 126, 128, 129, 138, 143, 149, 152, 153, 155, 156, 159, 163, 167, 168, 170, 175, 179, 182, 186]\n",
            "\n",
            "Explanation for sample 196: [4, 9, 10, 11, 14, 15, 19, 24, 34, 35, 40, 50, 51, 52, 58, 66, 71, 73, 74, 76, 85, 91, 93, 98, 100, 102, 108, 111, 112, 118, 119, 120, 123, 126, 134, 136, 138, 139, 143, 147, 152, 159, 161, 167, 168, 175, 177, 180, 182, 198]\n",
            "\n",
            "Explanation for sample 200: [4, 6, 10, 11, 13, 14, 19, 20, 21, 22, 24, 48, 56, 61, 66, 67, 68, 69, 73, 74, 77, 81, 83, 87, 91, 93, 95, 101, 106, 108, 112, 116, 120, 121, 128, 130, 133, 134, 137, 138, 140, 143, 145, 147, 151, 161, 163, 164, 168, 171]\n",
            "\n",
            "Explanation for sample 203: [0, 3, 4, 6, 7, 12, 19, 26, 35, 38, 39, 41, 51, 52, 54, 56, 61, 66, 70, 73, 82, 83, 85, 87, 97, 98, 107, 111, 112, 116, 120, 121, 124, 128, 129, 140, 148, 150, 152, 153, 156, 161, 164, 165, 168, 172, 189, 193, 195, 198]\n",
            "\n",
            "Explanation for sample 204: [4, 7, 11, 21, 22, 24, 26, 29, 31, 34, 35, 37, 41, 52, 55, 63, 65, 66, 73, 77, 79, 81, 83, 86, 87, 100, 102, 103, 112, 114, 115, 116, 118, 120, 124, 128, 131, 134, 136, 138, 140, 143, 145, 147, 148, 164, 166, 168, 182, 197]\n",
            "\n",
            "Explanation for sample 210: [0, 1, 11, 12, 14, 15, 19, 22, 24, 38, 39, 41, 50, 52, 53, 54, 58, 59, 73, 74, 79, 81, 87, 90, 94, 100, 101, 103, 112, 116, 123, 124, 127, 128, 129, 138, 141, 146, 150, 159, 164, 166, 168, 169, 172, 173, 181, 182, 187, 190]\n",
            "\n",
            "Explanation for sample 221: [8, 10, 24, 33, 34, 37, 38, 48, 58, 60, 61, 62, 68, 84, 86, 87, 91, 94, 97, 98, 102, 105, 106, 109, 128, 129, 130, 132, 136, 139, 141, 143, 144, 148, 150, 151, 152, 154, 164, 165, 169, 172, 180, 181, 190, 191, 194, 195, 197, 198]\n",
            "\n",
            "Explanation for sample 226: [0, 4, 12, 14, 19, 21, 22, 26, 29, 35, 39, 43, 46, 51, 76, 77, 79, 82, 83, 85, 93, 98, 107, 109, 111, 117, 119, 121, 129, 130, 134, 136, 137, 138, 140, 141, 143, 147, 149, 152, 157, 166, 168, 171, 174, 188, 192, 194, 195, 197]\n",
            "\n",
            "Explanation for sample 229: [1, 6, 7, 19, 22, 24, 26, 29, 33, 41, 42, 50, 51, 55, 56, 59, 61, 71, 72, 81, 85, 87, 89, 91, 92, 94, 95, 98, 108, 112, 115, 116, 123, 124, 131, 133, 140, 150, 153, 155, 156, 164, 165, 166, 168, 170, 181, 182, 183, 187]\n",
            "\n",
            "Explanation for sample 235: [0, 4, 11, 15, 18, 24, 32, 39, 41, 43, 46, 51, 52, 53, 56, 59, 67, 69, 70, 74, 79, 80, 84, 85, 87, 88, 97, 107, 109, 112, 114, 115, 121, 123, 126, 129, 130, 131, 134, 141, 147, 149, 153, 167, 168, 169, 176, 179, 193, 197]\n",
            "\n",
            "Explanation for sample 239: [0, 2, 4, 7, 9, 14, 15, 18, 20, 27, 30, 34, 41, 43, 50, 56, 59, 64, 67, 70, 72, 73, 79, 81, 84, 89, 98, 101, 108, 112, 115, 117, 119, 128, 130, 131, 140, 153, 155, 159, 164, 170, 174, 178, 179, 184, 186, 187, 191, 194]\n",
            "\n",
            "Explanation for sample 252: [1, 3, 15, 16, 19, 26, 29, 30, 33, 34, 35, 41, 42, 46, 51, 58, 67, 73, 83, 85, 87, 89, 93, 98, 115, 116, 127, 128, 129, 132, 133, 134, 136, 144, 147, 152, 153, 160, 161, 163, 164, 169, 170, 175, 179, 180, 185, 189, 197, 198]\n",
            "\n",
            "Explanation for sample 260: [6, 8, 10, 11, 19, 24, 26, 29, 34, 35, 41, 42, 46, 50, 56, 58, 67, 68, 70, 71, 73, 77, 82, 91, 100, 102, 108, 109, 111, 112, 128, 129, 134, 136, 140, 143, 145, 147, 154, 161, 168, 177, 178, 180, 189, 193, 195, 197, 198, 199]\n",
            "\n",
            "Explanation for sample 261: [3, 10, 11, 12, 19, 29, 32, 33, 34, 38, 41, 44, 46, 48, 56, 58, 65, 66, 68, 71, 72, 78, 82, 83, 85, 87, 93, 106, 112, 115, 116, 118, 120, 122, 123, 127, 128, 140, 143, 149, 153, 163, 164, 170, 177, 179, 183, 184, 195, 199]\n",
            "\n",
            "Explanation for sample 267: [0, 3, 4, 9, 11, 21, 35, 41, 46, 50, 52, 56, 58, 59, 66, 70, 73, 82, 84, 87, 90, 93, 101, 103, 108, 112, 115, 118, 120, 123, 130, 132, 133, 134, 136, 140, 142, 143, 145, 152, 153, 157, 164, 168, 177, 178, 179, 182, 190, 192]\n",
            "\n",
            "Explanation for sample 269: [3, 7, 14, 15, 16, 20, 23, 24, 26, 27, 31, 32, 38, 42, 46, 48, 50, 55, 56, 59, 71, 73, 77, 78, 82, 91, 95, 100, 111, 112, 122, 123, 124, 128, 129, 134, 136, 138, 140, 143, 147, 153, 156, 159, 163, 175, 177, 197, 198, 199]\n",
            "\n",
            "Explanation for sample 272: [0, 3, 4, 10, 11, 13, 19, 21, 22, 23, 24, 25, 34, 36, 41, 58, 61, 65, 66, 67, 81, 83, 87, 106, 118, 120, 121, 128, 129, 132, 140, 143, 145, 147, 157, 161, 163, 164, 168, 176, 177, 180, 181, 184, 185, 189, 193, 195, 198, 199]\n",
            "\n",
            "Explanation for sample 273: [11, 12, 16, 24, 27, 29, 32, 33, 37, 39, 42, 46, 51, 52, 55, 58, 59, 65, 68, 70, 74, 80, 82, 83, 84, 85, 86, 87, 95, 97, 105, 106, 111, 120, 123, 129, 134, 143, 147, 153, 159, 163, 167, 173, 175, 177, 189, 193, 197, 198]\n",
            "\n",
            "Explanation for sample 274: [6, 21, 24, 32, 35, 37, 38, 43, 52, 55, 60, 70, 72, 73, 74, 82, 83, 87, 90, 91, 93, 94, 97, 101, 102, 107, 109, 111, 112, 115, 123, 126, 127, 128, 134, 140, 141, 143, 147, 148, 149, 156, 157, 159, 163, 164, 172, 175, 177, 197]\n",
            "\n",
            "Explanation for sample 279: [0, 3, 4, 11, 19, 21, 22, 27, 32, 34, 41, 43, 46, 52, 58, 59, 60, 65, 66, 67, 69, 73, 74, 83, 87, 90, 91, 92, 95, 97, 103, 107, 111, 112, 123, 128, 134, 135, 136, 138, 140, 143, 153, 156, 167, 168, 182, 187, 190, 192]\n",
            "\n",
            "Explanation for sample 280: [3, 4, 6, 7, 11, 16, 19, 21, 27, 30, 35, 37, 38, 41, 50, 55, 56, 58, 59, 60, 65, 70, 74, 86, 87, 92, 97, 108, 109, 112, 115, 123, 131, 136, 138, 142, 143, 148, 153, 156, 157, 159, 168, 175, 179, 182, 189, 193, 194, 198]\n",
            "\n",
            "Explanation for sample 285: [7, 10, 14, 19, 23, 29, 34, 38, 51, 52, 56, 64, 65, 67, 68, 70, 73, 78, 85, 86, 87, 91, 95, 97, 98, 106, 109, 111, 112, 115, 116, 120, 122, 128, 129, 147, 152, 153, 156, 161, 170, 174, 177, 179, 184, 186, 187, 193, 195, 197]\n",
            "\n",
            "Explanation for sample 299: [1, 3, 10, 14, 21, 23, 35, 38, 39, 41, 43, 51, 56, 67, 73, 79, 81, 82, 85, 87, 90, 91, 93, 98, 102, 103, 106, 111, 112, 116, 120, 121, 124, 134, 138, 140, 143, 145, 149, 153, 161, 164, 168, 178, 183, 186, 189, 192, 193, 198]\n",
            "\n",
            "Explanation for sample 308: [4, 8, 11, 14, 15, 19, 21, 29, 35, 38, 41, 46, 47, 50, 51, 58, 69, 70, 73, 74, 76, 79, 83, 85, 86, 88, 93, 102, 108, 109, 112, 119, 123, 125, 129, 130, 134, 147, 149, 159, 161, 166, 168, 175, 177, 182, 186, 187, 189, 191]\n",
            "\n",
            "Explanation for sample 310: [1, 20, 22, 24, 26, 27, 30, 31, 32, 49, 52, 55, 56, 59, 63, 68, 70, 71, 73, 74, 77, 82, 89, 91, 92, 93, 101, 109, 111, 112, 115, 116, 123, 131, 133, 135, 140, 141, 143, 155, 163, 165, 168, 169, 170, 179, 182, 187, 196, 198]\n",
            "\n",
            "Explanation for sample 313: [0, 3, 11, 21, 22, 23, 24, 26, 27, 28, 29, 32, 39, 41, 50, 51, 52, 56, 58, 65, 70, 75, 84, 85, 93, 101, 103, 107, 112, 115, 118, 120, 123, 127, 128, 130, 134, 136, 138, 141, 143, 158, 164, 167, 170, 175, 179, 184, 197, 199]\n",
            "\n",
            "Explanation for sample 314: [1, 8, 15, 23, 29, 35, 42, 51, 52, 53, 54, 57, 67, 69, 73, 79, 82, 85, 88, 93, 96, 98, 102, 107, 109, 111, 115, 116, 134, 140, 141, 142, 143, 147, 149, 151, 153, 157, 161, 163, 168, 169, 170, 176, 178, 180, 184, 188, 197, 198]\n",
            "\n",
            "Explanation for sample 316: [0, 1, 6, 9, 15, 20, 27, 30, 35, 37, 40, 42, 48, 51, 53, 55, 56, 59, 60, 74, 75, 78, 81, 85, 86, 87, 89, 92, 95, 97, 102, 105, 107, 113, 114, 115, 122, 133, 134, 135, 141, 156, 165, 166, 172, 173, 179, 186, 189, 193]\n",
            "\n",
            "Explanation for sample 318: [2, 6, 11, 14, 15, 17, 18, 24, 29, 35, 42, 46, 50, 51, 54, 56, 65, 80, 82, 83, 85, 87, 92, 93, 97, 102, 108, 109, 112, 118, 120, 127, 128, 129, 134, 143, 145, 147, 153, 156, 159, 163, 165, 172, 177, 179, 184, 187, 189, 198]\n",
            "\n",
            "Explanation for sample 326: [1, 3, 12, 14, 16, 19, 22, 23, 24, 30, 32, 52, 58, 65, 66, 77, 82, 86, 87, 96, 97, 101, 109, 112, 115, 116, 118, 120, 127, 128, 130, 134, 139, 143, 144, 145, 153, 154, 159, 160, 163, 164, 166, 169, 170, 178, 180, 183, 187, 199]\n",
            "\n",
            "Explanation for sample 327: [6, 9, 10, 13, 15, 22, 24, 26, 29, 34, 35, 38, 40, 41, 48, 51, 59, 60, 70, 73, 79, 85, 86, 94, 96, 97, 98, 101, 102, 106, 109, 112, 116, 119, 123, 125, 128, 130, 131, 134, 140, 144, 147, 152, 154, 163, 164, 165, 168, 195]\n",
            "\n",
            "Explanation for sample 328: [0, 3, 15, 16, 25, 26, 27, 32, 38, 42, 43, 53, 63, 67, 82, 87, 89, 97, 101, 106, 107, 112, 118, 120, 122, 130, 133, 136, 137, 141, 143, 145, 153, 156, 157, 158, 159, 160, 161, 164, 169, 171, 172, 174, 176, 181, 183, 184, 186, 187]\n",
            "\n",
            "Explanation for sample 336: [4, 6, 8, 9, 13, 16, 24, 27, 40, 42, 46, 48, 51, 58, 63, 67, 73, 77, 81, 85, 86, 89, 93, 95, 103, 108, 112, 115, 118, 121, 123, 126, 132, 133, 134, 137, 141, 144, 152, 153, 163, 165, 172, 173, 181, 187, 190, 193, 195, 197]\n",
            "\n",
            "Explanation for sample 338: [8, 14, 19, 22, 24, 29, 34, 36, 41, 44, 46, 47, 51, 55, 58, 67, 72, 73, 74, 82, 87, 91, 93, 112, 115, 123, 124, 128, 134, 136, 140, 143, 147, 148, 150, 151, 153, 154, 163, 164, 167, 168, 171, 177, 180, 183, 189, 193, 195, 197]\n",
            "\n",
            "Explanation for sample 344: [4, 9, 14, 16, 17, 19, 20, 21, 24, 34, 35, 38, 39, 40, 43, 44, 46, 49, 51, 52, 56, 63, 67, 70, 85, 87, 93, 101, 107, 108, 112, 114, 123, 125, 130, 134, 140, 143, 147, 159, 161, 163, 164, 168, 169, 175, 177, 189, 193, 195]\n",
            "\n",
            "Explanation for sample 345: [4, 8, 19, 20, 21, 24, 27, 30, 34, 35, 37, 49, 51, 52, 58, 59, 61, 70, 74, 79, 82, 85, 92, 101, 102, 103, 106, 110, 112, 118, 119, 122, 128, 133, 136, 140, 142, 143, 144, 161, 165, 166, 167, 171, 179, 181, 184, 186, 192, 198]\n",
            "\n",
            "Explanation for sample 346: [1, 2, 14, 26, 28, 29, 34, 36, 43, 46, 47, 50, 51, 52, 57, 59, 61, 67, 71, 77, 78, 82, 85, 87, 97, 100, 106, 107, 120, 122, 129, 134, 136, 137, 141, 144, 145, 151, 153, 164, 167, 171, 175, 176, 177, 184, 189, 193, 197, 198]\n",
            "\n",
            "Explanation for sample 348: [3, 14, 17, 21, 22, 28, 29, 34, 37, 38, 40, 47, 48, 49, 50, 51, 63, 67, 69, 70, 71, 75, 83, 85, 93, 97, 98, 108, 112, 123, 126, 128, 129, 132, 133, 134, 140, 147, 164, 168, 171, 174, 180, 183, 185, 186, 189, 193, 194, 198]\n",
            "\n",
            "Explanation for sample 351: [1, 10, 12, 13, 16, 17, 19, 29, 32, 37, 38, 47, 48, 51, 52, 56, 58, 65, 67, 68, 69, 70, 81, 82, 84, 93, 106, 120, 121, 123, 124, 132, 134, 136, 139, 140, 143, 144, 152, 163, 164, 171, 175, 177, 189, 193, 195, 197, 198, 199]\n",
            "\n",
            "Explanation for sample 353: [0, 2, 10, 16, 18, 28, 29, 34, 37, 40, 41, 52, 57, 61, 67, 68, 70, 80, 81, 84, 85, 86, 91, 97, 111, 117, 120, 121, 123, 129, 130, 134, 140, 142, 143, 144, 146, 147, 151, 154, 157, 161, 165, 174, 180, 185, 189, 193, 197, 199]\n",
            "\n",
            "Explanation for sample 363: [1, 8, 9, 11, 13, 14, 29, 35, 38, 40, 47, 48, 50, 51, 57, 61, 62, 69, 76, 79, 82, 85, 87, 88, 97, 98, 99, 102, 111, 116, 117, 119, 121, 123, 125, 126, 134, 136, 147, 151, 153, 161, 171, 175, 177, 178, 189, 191, 193, 198]\n",
            "\n",
            "Explanation for sample 367: [0, 6, 11, 13, 14, 16, 30, 31, 34, 35, 38, 39, 46, 50, 52, 57, 59, 61, 70, 76, 77, 81, 86, 87, 89, 91, 106, 107, 108, 114, 116, 120, 121, 123, 128, 130, 133, 135, 140, 144, 151, 154, 159, 164, 168, 180, 181, 193, 196, 198]\n",
            "\n",
            "Explanation for sample 369: [6, 9, 10, 13, 22, 24, 34, 35, 37, 40, 41, 51, 58, 60, 63, 68, 71, 73, 84, 85, 87, 89, 92, 96, 97, 102, 105, 107, 109, 114, 116, 120, 121, 123, 129, 142, 143, 150, 152, 153, 156, 172, 175, 180, 181, 186, 187, 193, 195, 198]\n",
            "\n",
            "Explanation for sample 375: [0, 3, 6, 10, 19, 20, 25, 26, 31, 34, 41, 46, 49, 51, 53, 58, 65, 67, 70, 71, 74, 76, 82, 83, 87, 93, 96, 106, 111, 119, 120, 123, 125, 128, 130, 134, 136, 137, 141, 144, 151, 152, 157, 161, 166, 169, 173, 187, 193, 199]\n",
            "\n",
            "Explanation for sample 378: [6, 9, 10, 17, 18, 19, 22, 23, 24, 32, 33, 37, 39, 40, 47, 51, 54, 55, 56, 58, 60, 63, 66, 67, 70, 82, 83, 84, 85, 93, 94, 107, 111, 115, 120, 124, 125, 130, 136, 144, 151, 152, 161, 166, 172, 175, 183, 186, 191, 193]\n",
            "\n",
            "Explanation for sample 381: [4, 6, 19, 38, 47, 51, 52, 55, 56, 58, 59, 60, 61, 62, 66, 67, 70, 73, 83, 85, 86, 87, 90, 94, 97, 103, 106, 108, 112, 120, 123, 128, 132, 133, 138, 140, 147, 151, 153, 165, 168, 171, 172, 177, 188, 190, 192, 193, 198, 199]\n",
            "\n",
            "Explanation for sample 384: [2, 3, 12, 13, 14, 16, 18, 19, 23, 30, 32, 34, 38, 46, 48, 52, 58, 61, 63, 65, 68, 74, 75, 77, 97, 101, 104, 106, 109, 115, 118, 119, 120, 127, 129, 133, 134, 136, 142, 143, 149, 159, 160, 163, 177, 181, 183, 192, 196, 199]\n",
            "\n",
            "Explanation for sample 387: [4, 12, 14, 18, 19, 22, 29, 31, 41, 42, 43, 51, 53, 55, 58, 67, 70, 77, 81, 82, 85, 98, 100, 105, 107, 108, 111, 121, 123, 128, 129, 134, 139, 140, 141, 152, 157, 159, 163, 164, 168, 172, 174, 176, 180, 183, 189, 190, 193, 197]\n",
            "\n",
            "Explanation for sample 389: [1, 2, 3, 9, 11, 18, 19, 32, 35, 38, 39, 40, 41, 45, 46, 48, 57, 58, 66, 67, 69, 70, 76, 79, 81, 82, 90, 98, 105, 106, 115, 117, 119, 125, 126, 132, 136, 138, 143, 148, 152, 167, 172, 173, 175, 185, 186, 191, 193, 194]\n",
            "\n",
            "Explanation for sample 397: [0, 3, 9, 11, 16, 24, 34, 35, 39, 46, 48, 52, 54, 56, 57, 58, 65, 66, 70, 73, 74, 76, 79, 93, 97, 101, 102, 106, 108, 112, 118, 119, 123, 125, 132, 136, 143, 147, 152, 163, 164, 166, 171, 177, 178, 182, 191, 192, 194, 195]\n",
            "\n",
            "Explanation for sample 406: [3, 6, 16, 18, 19, 26, 29, 32, 36, 38, 41, 42, 46, 47, 55, 56, 58, 61, 67, 69, 81, 82, 83, 84, 85, 91, 93, 101, 104, 112, 118, 121, 134, 136, 143, 144, 154, 161, 168, 169, 171, 178, 180, 186, 188, 189, 191, 193, 197, 198]\n",
            "\n",
            "Explanation for sample 421: [3, 6, 7, 12, 19, 26, 27, 28, 31, 34, 42, 46, 54, 58, 65, 66, 67, 78, 82, 85, 86, 87, 97, 105, 106, 109, 111, 118, 120, 127, 128, 130, 139, 145, 151, 153, 154, 156, 160, 161, 164, 177, 178, 183, 184, 188, 190, 193, 197, 199]\n",
            "\n",
            "Explanation for sample 425: [0, 15, 19, 22, 24, 25, 35, 37, 38, 41, 46, 47, 48, 52, 58, 62, 66, 73, 74, 79, 81, 82, 84, 87, 93, 98, 99, 101, 112, 123, 130, 131, 134, 140, 142, 143, 146, 147, 149, 153, 156, 158, 163, 165, 169, 171, 177, 178, 189, 197]\n",
            "\n",
            "Explanation for sample 426: [3, 4, 12, 14, 19, 29, 34, 39, 46, 51, 52, 58, 66, 67, 73, 77, 82, 83, 85, 87, 91, 97, 103, 109, 111, 118, 124, 128, 129, 132, 136, 140, 143, 144, 145, 148, 152, 153, 154, 159, 161, 163, 164, 177, 180, 183, 189, 193, 195, 198]\n",
            "\n",
            "Explanation for sample 427: [1, 11, 18, 23, 24, 26, 27, 28, 30, 34, 37, 41, 52, 57, 63, 64, 65, 74, 75, 85, 88, 90, 92, 97, 103, 105, 110, 112, 115, 118, 120, 122, 131, 132, 133, 143, 144, 151, 159, 165, 168, 169, 170, 179, 185, 189, 193, 197, 198, 199]\n",
            "\n",
            "Explanation for sample 429: [6, 16, 26, 32, 33, 37, 41, 45, 46, 59, 60, 63, 78, 81, 82, 83, 84, 86, 93, 98, 99, 109, 112, 115, 116, 118, 123, 124, 125, 126, 129, 133, 134, 140, 144, 148, 149, 157, 160, 166, 167, 168, 170, 177, 179, 181, 182, 183, 197, 199]\n",
            "\n",
            "Explanation for sample 431: [2, 3, 14, 18, 19, 21, 26, 28, 29, 31, 34, 39, 40, 41, 50, 56, 61, 65, 66, 69, 73, 85, 86, 87, 88, 91, 96, 103, 104, 106, 108, 111, 112, 118, 120, 123, 128, 130, 134, 136, 138, 141, 144, 164, 169, 183, 184, 189, 197, 199]\n",
            "\n",
            "Explanation for sample 437: [2, 3, 4, 13, 14, 17, 19, 28, 29, 34, 36, 37, 39, 47, 51, 53, 57, 58, 65, 68, 69, 75, 78, 81, 85, 87, 92, 97, 104, 106, 120, 121, 129, 136, 141, 143, 145, 152, 153, 156, 163, 168, 175, 178, 179, 182, 184, 189, 193, 199]\n",
            "\n",
            "Explanation for sample 453: [2, 3, 7, 15, 26, 28, 29, 33, 35, 36, 40, 41, 42, 47, 52, 59, 61, 62, 68, 70, 77, 82, 85, 86, 89, 91, 92, 93, 98, 102, 106, 109, 111, 121, 131, 134, 143, 144, 149, 150, 154, 159, 161, 163, 170, 182, 184, 187, 195, 198]\n",
            "\n",
            "Explanation for sample 456: [0, 3, 4, 7, 20, 25, 26, 27, 29, 31, 34, 35, 40, 41, 42, 46, 51, 52, 59, 66, 70, 82, 83, 84, 87, 95, 97, 100, 101, 102, 110, 115, 118, 121, 130, 133, 134, 141, 147, 149, 152, 153, 156, 163, 168, 169, 175, 177, 179, 197]\n",
            "\n",
            "Explanation for sample 457: [4, 10, 11, 14, 21, 26, 27, 29, 31, 32, 34, 35, 37, 41, 42, 51, 74, 77, 79, 82, 85, 87, 97, 102, 105, 108, 109, 111, 115, 119, 120, 124, 126, 127, 134, 136, 140, 142, 145, 153, 154, 156, 161, 164, 166, 180, 189, 193, 197, 198]\n",
            "\n",
            "Explanation for sample 462: [3, 6, 19, 29, 31, 32, 34, 37, 41, 47, 51, 52, 53, 55, 58, 60, 65, 66, 77, 82, 85, 86, 87, 97, 112, 115, 118, 120, 124, 127, 128, 136, 140, 141, 143, 145, 151, 153, 156, 161, 167, 170, 171, 177, 178, 179, 183, 184, 195, 199]\n",
            "\n",
            "Explanation for sample 487: [1, 6, 18, 21, 24, 32, 34, 37, 51, 53, 54, 58, 60, 61, 65, 66, 67, 70, 82, 85, 88, 91, 93, 101, 105, 106, 112, 118, 120, 123, 124, 126, 130, 131, 134, 141, 143, 154, 159, 160, 161, 163, 164, 167, 177, 181, 185, 192, 195, 198]\n",
            "\n",
            "Explanation for sample 492: [6, 12, 13, 16, 17, 19, 21, 22, 31, 32, 39, 43, 44, 46, 48, 50, 54, 55, 56, 57, 58, 63, 67, 71, 73, 79, 81, 83, 90, 91, 93, 100, 106, 107, 112, 119, 136, 138, 147, 154, 155, 163, 165, 170, 175, 177, 180, 185, 186, 193]\n",
            "\n",
            "Explanation for sample 499: [13, 16, 17, 18, 22, 24, 28, 32, 34, 37, 41, 44, 45, 47, 54, 58, 60, 65, 66, 68, 73, 79, 82, 93, 103, 106, 112, 118, 120, 124, 129, 132, 134, 136, 143, 147, 148, 152, 154, 156, 164, 166, 167, 168, 177, 184, 185, 190, 195, 199]\n",
            "\n",
            "Explanation for sample 505: [1, 10, 11, 12, 16, 19, 22, 24, 29, 33, 37, 38, 40, 41, 46, 48, 51, 52, 58, 66, 71, 72, 73, 82, 83, 85, 93, 102, 105, 106, 112, 114, 116, 128, 129, 134, 140, 143, 147, 150, 152, 161, 163, 168, 175, 179, 183, 189, 193, 198]\n",
            "\n",
            "Explanation for sample 511: [1, 6, 16, 18, 19, 22, 24, 27, 29, 32, 36, 41, 46, 49, 52, 55, 58, 59, 60, 66, 70, 74, 86, 95, 98, 104, 112, 123, 124, 126, 129, 130, 131, 134, 140, 141, 143, 147, 159, 163, 164, 165, 167, 168, 177, 178, 184, 186, 187, 197]\n",
            "\n",
            "Explanation for sample 525: [2, 3, 4, 10, 21, 25, 28, 29, 43, 45, 51, 57, 61, 67, 80, 82, 85, 87, 88, 91, 103, 105, 108, 115, 116, 120, 121, 127, 128, 129, 138, 141, 146, 152, 153, 154, 156, 161, 166, 167, 173, 174, 175, 177, 182, 186, 189, 190, 193, 198]\n",
            "\n",
            "Explanation for sample 532: [10, 14, 17, 19, 20, 26, 29, 32, 33, 40, 43, 44, 46, 47, 51, 54, 58, 59, 61, 66, 69, 82, 83, 85, 88, 91, 93, 104, 105, 106, 109, 111, 124, 129, 134, 143, 147, 154, 159, 160, 163, 164, 167, 169, 175, 177, 178, 181, 186, 197]\n",
            "\n",
            "Explanation for sample 534: [0, 7, 15, 18, 20, 28, 32, 34, 35, 38, 41, 46, 47, 52, 53, 66, 67, 69, 71, 73, 79, 87, 95, 103, 104, 107, 115, 120, 121, 123, 130, 133, 137, 140, 142, 143, 149, 153, 158, 160, 164, 168, 171, 176, 178, 183, 184, 192, 193, 195]\n",
            "\n",
            "Explanation for sample 541: [0, 6, 12, 13, 16, 20, 22, 24, 27, 51, 58, 59, 66, 67, 70, 74, 82, 83, 91, 92, 93, 101, 105, 106, 110, 112, 114, 115, 118, 123, 127, 129, 130, 133, 134, 140, 143, 147, 160, 161, 163, 164, 170, 177, 179, 181, 183, 184, 189, 193]\n",
            "\n",
            "Explanation for sample 566: [3, 4, 19, 21, 22, 32, 34, 36, 39, 46, 47, 51, 58, 65, 66, 70, 74, 82, 83, 85, 90, 91, 103, 108, 109, 115, 118, 120, 121, 129, 132, 134, 136, 138, 140, 145, 147, 154, 164, 166, 168, 171, 177, 178, 182, 183, 184, 190, 192, 199]\n",
            "\n",
            "Explanation for sample 567: [6, 11, 19, 20, 21, 27, 33, 34, 39, 41, 46, 52, 54, 55, 58, 65, 66, 67, 70, 78, 81, 83, 87, 93, 95, 103, 112, 120, 123, 129, 132, 134, 138, 140, 143, 145, 148, 153, 154, 156, 163, 164, 168, 172, 183, 184, 185, 190, 193, 198]\n",
            "\n",
            "Explanation for sample 571: [2, 4, 8, 9, 11, 14, 17, 19, 27, 29, 36, 40, 43, 46, 47, 51, 65, 66, 79, 81, 82, 83, 87, 91, 93, 98, 101, 105, 109, 110, 112, 119, 120, 125, 127, 129, 131, 132, 154, 157, 161, 168, 169, 172, 173, 175, 177, 181, 189, 193]\n",
            "\n",
            "Explanation for sample 594: [12, 19, 22, 23, 24, 32, 37, 41, 43, 52, 53, 56, 58, 66, 70, 74, 82, 85, 87, 88, 89, 92, 105, 107, 115, 120, 123, 127, 129, 131, 140, 141, 142, 143, 144, 145, 154, 156, 164, 166, 167, 170, 176, 177, 179, 180, 183, 184, 195, 199]\n",
            "\n",
            "Explanation for sample 597: [0, 3, 15, 21, 25, 34, 43, 48, 53, 58, 61, 63, 68, 69, 71, 82, 87, 88, 89, 92, 101, 104, 107, 118, 120, 121, 127, 128, 130, 131, 132, 137, 141, 145, 155, 157, 161, 165, 168, 169, 170, 171, 174, 176, 178, 179, 183, 187, 188, 198]\n",
            "\n",
            "Explanation for sample 600: [3, 9, 10, 13, 16, 19, 24, 25, 26, 31, 33, 38, 42, 47, 48, 52, 58, 65, 66, 70, 73, 83, 85, 87, 91, 100, 101, 102, 106, 120, 123, 128, 131, 139, 141, 143, 144, 145, 153, 161, 163, 164, 171, 184, 188, 189, 193, 195, 197, 198]\n",
            "\n",
            "Explanation for sample 603: [4, 15, 19, 20, 21, 22, 30, 39, 49, 51, 55, 56, 58, 63, 64, 68, 70, 76, 82, 89, 91, 92, 95, 100, 109, 112, 114, 115, 118, 124, 128, 130, 131, 134, 135, 154, 155, 157, 162, 167, 169, 170, 171, 172, 179, 180, 181, 196, 197, 198]\n",
            "\n",
            "Explanation for sample 605: [1, 3, 7, 10, 14, 16, 22, 24, 26, 27, 31, 34, 37, 40, 41, 50, 51, 55, 58, 60, 66, 70, 71, 72, 73, 82, 85, 93, 96, 98, 110, 112, 122, 123, 134, 140, 149, 150, 152, 153, 154, 159, 165, 172, 177, 179, 184, 189, 193, 197]\n",
            "\n",
            "Explanation for sample 614: [3, 16, 19, 23, 32, 34, 38, 41, 48, 52, 56, 58, 59, 61, 63, 65, 66, 67, 68, 69, 70, 73, 74, 82, 87, 88, 90, 93, 97, 105, 106, 112, 118, 120, 133, 134, 136, 138, 139, 140, 145, 152, 153, 156, 159, 171, 177, 184, 192, 199]\n",
            "\n",
            "Explanation for sample 620: [0, 4, 7, 17, 19, 20, 22, 25, 32, 34, 41, 43, 44, 48, 51, 53, 64, 66, 69, 73, 82, 83, 85, 98, 101, 107, 110, 120, 121, 122, 127, 128, 130, 134, 136, 140, 141, 143, 147, 150, 151, 152, 157, 164, 168, 174, 175, 181, 182, 198]\n",
            "\n",
            "Explanation for sample 623: [3, 6, 11, 14, 19, 20, 24, 31, 32, 34, 37, 41, 50, 52, 54, 60, 66, 72, 74, 81, 85, 87, 89, 93, 97, 103, 109, 111, 112, 118, 120, 123, 124, 128, 129, 133, 134, 136, 139, 143, 153, 154, 159, 160, 164, 167, 181, 182, 183, 195]\n",
            "\n",
            "Explanation for sample 626: [6, 7, 11, 14, 23, 24, 25, 30, 32, 34, 41, 43, 49, 51, 56, 67, 70, 73, 74, 83, 85, 87, 93, 95, 97, 105, 109, 112, 115, 117, 120, 123, 128, 129, 134, 136, 145, 147, 149, 153, 155, 156, 159, 164, 167, 170, 177, 180, 181, 199]\n",
            "\n",
            "Explanation for sample 633: [3, 6, 12, 16, 19, 22, 24, 32, 33, 34, 35, 37, 39, 41, 54, 55, 58, 60, 67, 70, 72, 74, 79, 81, 85, 89, 93, 112, 114, 116, 118, 120, 123, 124, 125, 140, 147, 148, 150, 163, 164, 165, 166, 167, 168, 177, 181, 182, 183, 196]\n",
            "\n",
            "Explanation for sample 648: [7, 15, 20, 22, 27, 29, 30, 34, 39, 40, 41, 50, 54, 56, 58, 59, 67, 85, 86, 89, 92, 93, 101, 103, 110, 115, 120, 122, 129, 130, 133, 140, 142, 150, 151, 153, 154, 155, 156, 157, 159, 161, 168, 169, 170, 179, 182, 184, 193, 197]\n",
            "\n",
            "Explanation for sample 650: [3, 6, 7, 12, 13, 16, 19, 20, 23, 24, 27, 34, 37, 39, 41, 52, 58, 59, 64, 65, 66, 67, 73, 75, 78, 82, 85, 87, 89, 95, 110, 112, 115, 118, 120, 122, 123, 127, 133, 136, 145, 157, 159, 163, 164, 165, 168, 184, 192, 199]\n",
            "\n",
            "Explanation for sample 655: [11, 16, 19, 20, 24, 26, 31, 32, 35, 37, 41, 42, 50, 51, 52, 55, 56, 59, 60, 64, 67, 71, 73, 77, 89, 93, 97, 98, 100, 103, 110, 112, 114, 123, 125, 138, 140, 143, 145, 153, 154, 156, 157, 163, 164, 168, 182, 183, 193, 199]\n",
            "\n",
            "Explanation for sample 663: [0, 6, 14, 20, 22, 32, 43, 46, 48, 49, 56, 58, 63, 66, 67, 68, 69, 71, 77, 79, 84, 89, 93, 94, 98, 101, 106, 107, 110, 111, 112, 115, 116, 121, 123, 127, 128, 129, 130, 133, 134, 135, 141, 142, 143, 149, 150, 158, 165, 174]\n",
            "\n",
            "Explanation for sample 666: [3, 10, 11, 29, 34, 37, 39, 41, 44, 46, 50, 51, 54, 56, 58, 66, 67, 74, 82, 83, 85, 86, 93, 108, 111, 114, 115, 118, 120, 123, 124, 126, 134, 140, 145, 147, 148, 150, 154, 159, 164, 175, 177, 179, 183, 189, 193, 195, 197, 198]\n",
            "\n",
            "Explanation for sample 667: [11, 15, 16, 18, 22, 24, 29, 30, 33, 38, 41, 46, 49, 51, 53, 67, 73, 74, 76, 79, 82, 87, 89, 92, 98, 107, 112, 113, 115, 121, 123, 126, 131, 135, 138, 143, 148, 155, 163, 166, 168, 169, 170, 177, 178, 181, 182, 187, 189, 194]\n",
            "\n",
            "Explanation for sample 670: [4, 10, 16, 20, 39, 40, 48, 51, 52, 64, 67, 68, 70, 73, 81, 82, 83, 85, 87, 89, 92, 93, 106, 109, 115, 116, 125, 127, 128, 129, 133, 135, 139, 140, 143, 152, 153, 161, 163, 164, 166, 170, 174, 179, 180, 186, 187, 189, 193, 198]\n",
            "\n",
            "Explanation for sample 677: [0, 6, 15, 16, 25, 26, 29, 34, 40, 41, 43, 52, 56, 62, 68, 73, 76, 83, 85, 86, 87, 93, 101, 115, 116, 127, 130, 134, 140, 141, 142, 149, 150, 153, 154, 163, 165, 168, 172, 177, 179, 180, 182, 184, 187, 190, 193, 194, 195, 197]\n",
            "\n",
            "Explanation for sample 678: [0, 12, 19, 20, 25, 26, 43, 55, 62, 63, 67, 82, 83, 84, 85, 89, 91, 93, 101, 107, 111, 115, 120, 124, 125, 127, 128, 131, 134, 135, 137, 139, 141, 144, 150, 153, 155, 157, 159, 164, 170, 174, 176, 177, 179, 181, 183, 187, 194, 195]\n",
            "\n",
            "Explanation for sample 682: [6, 10, 11, 12, 13, 24, 28, 32, 37, 41, 46, 52, 54, 55, 66, 68, 70, 77, 78, 81, 82, 85, 86, 89, 98, 100, 106, 109, 111, 112, 115, 122, 123, 124, 127, 128, 135, 143, 152, 160, 163, 165, 166, 167, 170, 179, 180, 181, 198, 199]\n",
            "\n",
            "Explanation for sample 684: [6, 7, 15, 16, 18, 19, 20, 22, 24, 27, 32, 35, 38, 41, 46, 49, 56, 68, 70, 73, 82, 83, 85, 92, 93, 106, 112, 115, 118, 123, 127, 128, 133, 140, 144, 146, 150, 152, 155, 163, 164, 168, 170, 179, 184, 187, 193, 195, 197, 198]\n",
            "\n",
            "Explanation for sample 685: [1, 3, 6, 12, 16, 19, 21, 22, 24, 32, 33, 39, 46, 51, 54, 56, 58, 65, 66, 67, 70, 82, 85, 89, 95, 102, 107, 115, 116, 118, 120, 124, 128, 136, 137, 140, 141, 144, 147, 150, 152, 154, 156, 164, 174, 181, 183, 184, 189, 199]\n",
            "\n",
            "Explanation for sample 689: [1, 10, 15, 20, 22, 26, 27, 29, 31, 32, 38, 41, 49, 55, 59, 60, 64, 67, 68, 73, 76, 77, 82, 85, 87, 89, 91, 98, 100, 106, 109, 115, 116, 120, 122, 123, 128, 133, 139, 140, 145, 149, 161, 168, 180, 181, 184, 187, 193, 197]\n",
            "\n",
            "Explanation for sample 692: [3, 19, 20, 25, 26, 27, 30, 32, 40, 41, 42, 53, 54, 55, 56, 65, 66, 77, 82, 85, 100, 102, 105, 106, 109, 111, 118, 120, 128, 129, 132, 140, 145, 152, 157, 158, 162, 168, 172, 174, 177, 180, 183, 184, 189, 193, 194, 195, 196, 199]\n",
            "\n",
            "Explanation for sample 694: [0, 3, 6, 7, 9, 12, 15, 20, 24, 26, 27, 30, 34, 38, 46, 54, 58, 59, 63, 64, 66, 73, 78, 83, 91, 92, 93, 97, 109, 115, 118, 122, 130, 131, 133, 135, 140, 144, 150, 155, 160, 167, 170, 177, 179, 183, 184, 187, 195, 197]\n",
            "\n",
            "Explanation for sample 696: [3, 7, 16, 19, 20, 32, 35, 36, 40, 42, 58, 59, 60, 65, 66, 68, 70, 74, 77, 85, 87, 93, 97, 106, 115, 118, 120, 121, 122, 123, 124, 126, 127, 128, 133, 136, 143, 144, 148, 159, 163, 168, 172, 174, 177, 179, 183, 184, 190, 198]\n",
            "\n",
            "Explanation for sample 706: [9, 12, 17, 22, 29, 30, 32, 35, 39, 40, 42, 54, 55, 58, 63, 78, 82, 85, 89, 98, 105, 111, 118, 127, 128, 129, 133, 134, 141, 143, 145, 147, 154, 159, 160, 163, 164, 166, 167, 171, 172, 175, 181, 183, 186, 189, 193, 195, 197, 198]\n",
            "\n",
            "Explanation for sample 719: [3, 10, 12, 16, 19, 29, 32, 33, 37, 38, 40, 44, 58, 59, 61, 66, 68, 74, 82, 84, 85, 87, 91, 105, 106, 114, 115, 120, 126, 127, 128, 137, 140, 142, 143, 145, 148, 153, 156, 163, 165, 170, 177, 178, 187, 189, 193, 195, 198, 199]\n",
            "\n",
            "Explanation for sample 723: [0, 7, 20, 24, 29, 33, 34, 43, 44, 62, 64, 66, 67, 68, 70, 73, 77, 82, 83, 84, 85, 87, 89, 93, 95, 97, 101, 106, 107, 109, 115, 116, 123, 128, 130, 133, 141, 145, 152, 153, 154, 156, 157, 170, 177, 179, 180, 189, 193, 194]\n",
            "\n",
            "Explanation for sample 725: [1, 10, 12, 13, 14, 20, 28, 29, 32, 46, 51, 52, 54, 58, 59, 70, 71, 78, 85, 89, 93, 95, 114, 123, 124, 129, 132, 134, 144, 147, 148, 152, 153, 154, 160, 161, 165, 166, 167, 168, 171, 172, 181, 182, 186, 187, 189, 190, 193, 199]\n",
            "\n",
            "Explanation for sample 728: [3, 14, 17, 20, 21, 27, 28, 34, 35, 36, 39, 40, 41, 46, 47, 51, 58, 60, 64, 67, 77, 79, 81, 82, 85, 87, 102, 105, 107, 109, 110, 115, 117, 121, 124, 128, 141, 144, 151, 153, 157, 165, 166, 167, 170, 175, 184, 185, 189, 198]\n",
            "\n",
            "Explanation for sample 730: [3, 4, 15, 26, 31, 32, 41, 51, 52, 56, 62, 65, 70, 71, 77, 82, 85, 86, 90, 92, 100, 103, 106, 115, 120, 121, 127, 128, 129, 139, 140, 143, 144, 145, 152, 153, 154, 155, 159, 166, 170, 179, 180, 183, 189, 193, 195, 197, 198, 199]\n",
            "\n",
            "Explanation for sample 732: [4, 10, 11, 14, 19, 26, 38, 39, 40, 41, 46, 52, 53, 56, 67, 70, 73, 77, 82, 83, 85, 86, 87, 93, 98, 100, 103, 111, 119, 124, 128, 132, 134, 140, 147, 152, 153, 156, 157, 158, 167, 168, 172, 180, 181, 186, 193, 194, 197, 198]\n",
            "\n",
            "Explanation for sample 748: [0, 7, 15, 20, 33, 35, 40, 51, 53, 56, 58, 64, 69, 77, 85, 86, 87, 93, 97, 98, 99, 102, 107, 113, 115, 123, 128, 129, 130, 131, 133, 139, 144, 147, 154, 157, 158, 165, 169, 170, 174, 176, 179, 180, 188, 189, 193, 194, 197, 198]\n",
            "\n",
            "Explanation for sample 753: [0, 15, 19, 28, 31, 32, 35, 42, 43, 53, 54, 58, 66, 69, 73, 76, 79, 82, 83, 84, 88, 91, 93, 109, 115, 118, 124, 125, 131, 134, 136, 137, 141, 143, 144, 147, 152, 154, 158, 159, 163, 167, 171, 174, 180, 183, 188, 189, 191, 198]\n",
            "\n",
            "Explanation for sample 773: [1, 3, 4, 7, 16, 18, 20, 22, 25, 40, 41, 51, 52, 53, 58, 60, 67, 69, 87, 89, 94, 98, 102, 103, 105, 106, 112, 115, 117, 123, 128, 135, 138, 140, 143, 149, 150, 152, 153, 156, 157, 167, 168, 172, 174, 181, 187, 190, 192, 193]\n",
            "\n",
            "Explanation for sample 775: [3, 16, 19, 20, 22, 32, 33, 35, 37, 40, 42, 55, 58, 59, 61, 66, 72, 77, 82, 84, 85, 92, 95, 104, 106, 109, 112, 114, 115, 120, 123, 128, 129, 131, 133, 136, 139, 144, 154, 155, 163, 169, 170, 175, 178, 179, 180, 183, 198, 199]\n",
            "\n",
            "Explanation for sample 776: [0, 8, 11, 22, 25, 33, 34, 35, 37, 38, 40, 48, 51, 56, 60, 61, 62, 66, 68, 70, 73, 79, 82, 85, 86, 91, 105, 112, 117, 119, 121, 123, 129, 138, 139, 140, 142, 143, 154, 161, 164, 175, 180, 184, 185, 189, 192, 195, 197, 199]\n",
            "\n",
            "Explanation for sample 779: [6, 11, 19, 22, 24, 25, 29, 34, 55, 58, 59, 61, 65, 81, 82, 86, 87, 92, 93, 97, 98, 112, 113, 115, 118, 120, 123, 127, 131, 136, 138, 143, 145, 148, 153, 155, 156, 160, 161, 165, 169, 170, 172, 179, 182, 183, 184, 186, 197, 198]\n",
            "\n",
            "Explanation for sample 788: [11, 15, 16, 21, 22, 24, 32, 33, 35, 39, 40, 41, 51, 55, 58, 73, 74, 82, 85, 87, 89, 92, 93, 95, 97, 98, 103, 112, 115, 124, 127, 128, 131, 134, 135, 138, 150, 153, 155, 156, 163, 167, 168, 169, 170, 179, 182, 187, 189, 198]\n",
            "\n",
            "Explanation for sample 792: [4, 6, 11, 12, 16, 19, 21, 24, 28, 30, 32, 33, 37, 39, 45, 51, 54, 55, 56, 60, 67, 70, 73, 74, 75, 82, 85, 90, 93, 112, 127, 129, 131, 135, 140, 145, 147, 150, 155, 159, 162, 163, 165, 166, 167, 168, 182, 183, 185, 195]\n",
            "\n",
            "Explanation for sample 799: [6, 10, 11, 12, 15, 19, 24, 28, 30, 32, 34, 37, 38, 41, 45, 46, 55, 56, 67, 73, 74, 80, 81, 84, 87, 92, 97, 106, 112, 115, 116, 122, 124, 133, 146, 148, 153, 155, 156, 165, 167, 168, 169, 170, 172, 179, 182, 187, 190, 192]\n",
            "\n",
            "Explanation for sample 800: [0, 1, 2, 11, 13, 16, 17, 18, 20, 25, 27, 29, 43, 52, 59, 68, 69, 73, 74, 79, 83, 84, 90, 93, 96, 101, 112, 116, 119, 126, 130, 131, 132, 134, 141, 146, 147, 151, 152, 156, 157, 159, 162, 168, 173, 175, 185, 186, 192, 197]\n",
            "\n",
            "Explanation for sample 810: [2, 3, 5, 11, 15, 23, 26, 28, 31, 32, 41, 42, 45, 50, 52, 56, 57, 64, 71, 73, 74, 76, 77, 80, 82, 109, 116, 127, 128, 129, 136, 138, 139, 140, 143, 146, 152, 159, 166, 167, 168, 173, 180, 182, 183, 185, 189, 195, 196, 199]\n",
            "\n",
            "Explanation for sample 811: [1, 9, 10, 22, 35, 37, 41, 43, 51, 55, 57, 59, 60, 68, 73, 75, 79, 81, 82, 85, 87, 91, 94, 98, 99, 102, 106, 117, 122, 127, 128, 129, 133, 140, 143, 144, 152, 153, 154, 157, 164, 167, 168, 182, 184, 186, 187, 194, 195, 199]\n",
            "\n",
            "Explanation for sample 820: [7, 12, 23, 26, 27, 29, 33, 34, 36, 40, 42, 50, 51, 54, 58, 60, 67, 77, 85, 97, 100, 102, 103, 105, 106, 111, 115, 118, 121, 124, 128, 129, 132, 134, 136, 140, 144, 147, 150, 156, 161, 164, 168, 170, 171, 178, 180, 186, 190, 193]\n",
            "\n",
            "Explanation for sample 829: [0, 6, 7, 14, 15, 20, 24, 32, 35, 38, 46, 53, 55, 56, 58, 63, 69, 70, 73, 75, 85, 88, 96, 107, 109, 111, 113, 115, 124, 127, 129, 130, 131, 134, 135, 141, 143, 148, 153, 154, 155, 157, 160, 170, 172, 174, 175, 187, 191, 196]\n",
            "\n",
            "Explanation for sample 834: [3, 7, 10, 12, 19, 34, 41, 54, 56, 58, 65, 67, 68, 70, 78, 82, 87, 106, 108, 110, 111, 116, 118, 120, 122, 123, 128, 129, 136, 140, 145, 150, 151, 156, 159, 160, 163, 164, 166, 167, 168, 174, 175, 177, 183, 184, 193, 195, 198, 199]\n",
            "\n",
            "Explanation for sample 835: [0, 3, 6, 9, 12, 13, 15, 19, 22, 25, 34, 41, 42, 46, 54, 55, 56, 60, 73, 75, 77, 78, 81, 86, 89, 93, 101, 111, 115, 118, 120, 124, 130, 134, 136, 140, 143, 145, 147, 149, 157, 158, 160, 166, 172, 174, 179, 181, 183, 195]\n",
            "\n",
            "Explanation for sample 840: [3, 14, 16, 19, 24, 29, 30, 35, 36, 37, 38, 40, 41, 47, 52, 56, 67, 68, 70, 82, 86, 87, 89, 91, 93, 102, 112, 123, 126, 128, 129, 131, 133, 134, 142, 143, 147, 154, 159, 160, 163, 168, 169, 170, 175, 176, 188, 189, 197, 198]\n",
            "\n",
            "Explanation for sample 841: [6, 12, 16, 19, 22, 23, 24, 33, 34, 37, 48, 51, 52, 58, 63, 68, 70, 77, 82, 83, 85, 92, 93, 97, 100, 112, 118, 123, 127, 128, 129, 134, 136, 139, 140, 143, 144, 148, 150, 152, 154, 155, 161, 163, 165, 175, 180, 181, 189, 197]\n",
            "\n",
            "Explanation for sample 844: [11, 19, 22, 25, 34, 35, 39, 52, 53, 58, 63, 66, 69, 73, 74, 79, 83, 87, 88, 93, 97, 101, 104, 107, 117, 118, 119, 120, 121, 123, 124, 125, 131, 132, 134, 137, 141, 143, 150, 166, 167, 169, 171, 177, 178, 179, 182, 185, 187, 192]\n",
            "\n",
            "Explanation for sample 851: [0, 4, 14, 15, 19, 20, 21, 24, 25, 30, 34, 43, 47, 50, 51, 52, 58, 64, 73, 82, 83, 85, 87, 88, 92, 93, 97, 99, 104, 107, 111, 120, 131, 134, 135, 137, 140, 143, 147, 151, 154, 156, 157, 159, 161, 171, 174, 188, 189, 198]\n",
            "\n",
            "Explanation for sample 866: [0, 3, 6, 16, 19, 22, 24, 28, 32, 39, 40, 41, 47, 52, 53, 56, 57, 58, 67, 70, 73, 74, 82, 85, 93, 98, 101, 107, 112, 113, 114, 116, 121, 127, 128, 129, 130, 140, 143, 144, 147, 150, 154, 163, 165, 167, 180, 186, 193, 198]\n",
            "\n",
            "Explanation for sample 871: [8, 9, 18, 19, 26, 31, 34, 40, 41, 43, 46, 51, 56, 58, 61, 70, 80, 83, 85, 86, 87, 88, 91, 96, 98, 102, 107, 111, 112, 117, 121, 123, 125, 133, 134, 144, 151, 154, 165, 168, 175, 177, 178, 180, 189, 191, 193, 194, 197, 198]\n",
            "\n",
            "Explanation for sample 880: [2, 4, 6, 10, 14, 16, 18, 19, 24, 29, 32, 40, 41, 47, 51, 52, 54, 58, 61, 77, 83, 85, 86, 91, 93, 102, 106, 109, 115, 117, 118, 120, 121, 123, 129, 133, 139, 141, 143, 144, 146, 147, 152, 154, 179, 180, 183, 189, 195, 198]\n",
            "\n",
            "Explanation for sample 886: [0, 6, 11, 14, 20, 21, 24, 27, 28, 36, 37, 45, 47, 53, 56, 58, 61, 63, 66, 70, 82, 88, 89, 91, 92, 104, 110, 112, 115, 122, 129, 130, 131, 134, 146, 147, 151, 152, 154, 159, 160, 163, 170, 171, 175, 177, 178, 179, 186, 197]\n",
            "\n",
            "Explanation for sample 887: [3, 10, 14, 17, 23, 31, 34, 40, 44, 46, 50, 52, 56, 58, 65, 66, 67, 70, 71, 73, 77, 82, 83, 85, 91, 108, 109, 111, 112, 120, 128, 132, 136, 140, 147, 151, 159, 165, 168, 177, 180, 183, 184, 185, 189, 190, 193, 195, 197, 198]\n",
            "\n",
            "Explanation for sample 893: [2, 4, 14, 21, 24, 27, 39, 41, 45, 46, 50, 52, 53, 56, 58, 59, 61, 66, 67, 69, 70, 77, 78, 82, 83, 87, 88, 91, 97, 104, 107, 111, 120, 121, 122, 127, 129, 134, 136, 141, 145, 153, 154, 156, 159, 161, 168, 175, 177, 178]\n",
            "\n",
            "Explanation for sample 898: [4, 10, 13, 14, 16, 19, 20, 30, 34, 41, 51, 53, 54, 56, 58, 64, 66, 67, 68, 69, 70, 84, 89, 91, 93, 98, 99, 101, 111, 116, 118, 120, 127, 128, 129, 130, 131, 134, 142, 143, 147, 159, 163, 167, 168, 184, 187, 192, 193, 195]\n",
            "\n",
            "Explanation for sample 901: [3, 19, 29, 34, 47, 49, 53, 54, 58, 61, 65, 78, 82, 85, 91, 93, 94, 96, 97, 105, 114, 115, 118, 121, 128, 131, 132, 133, 134, 135, 141, 143, 145, 148, 149, 156, 160, 161, 163, 172, 177, 178, 179, 181, 183, 186, 187, 189, 197, 198]\n",
            "\n",
            "Explanation for sample 904: [0, 16, 22, 24, 25, 26, 29, 32, 33, 34, 35, 40, 41, 43, 47, 51, 53, 56, 84, 85, 86, 97, 99, 101, 107, 112, 121, 123, 124, 129, 130, 131, 137, 141, 142, 148, 149, 151, 159, 161, 163, 166, 169, 175, 176, 186, 188, 189, 194, 195]\n",
            "\n",
            "Explanation for sample 906: [4, 6, 9, 10, 11, 14, 19, 20, 32, 38, 39, 42, 51, 54, 57, 58, 60, 64, 71, 89, 90, 93, 98, 101, 106, 110, 112, 115, 116, 117, 121, 124, 129, 130, 132, 133, 134, 143, 147, 152, 157, 161, 170, 175, 177, 179, 181, 185, 186, 197]\n",
            "\n",
            "Explanation for sample 913: [0, 1, 13, 17, 18, 25, 28, 37, 38, 41, 46, 51, 60, 68, 72, 73, 79, 81, 85, 94, 95, 96, 98, 101, 107, 112, 113, 115, 116, 121, 123, 126, 130, 148, 149, 157, 158, 165, 168, 169, 170, 173, 174, 175, 178, 179, 184, 190, 197, 198]\n",
            "\n",
            "Explanation for sample 914: [3, 6, 9, 11, 15, 16, 19, 22, 24, 26, 35, 37, 40, 41, 49, 55, 60, 67, 74, 82, 83, 85, 86, 93, 98, 105, 112, 116, 121, 123, 124, 125, 126, 132, 134, 135, 143, 148, 150, 162, 163, 166, 168, 175, 182, 185, 186, 187, 194, 196]\n",
            "\n",
            "Explanation for sample 918: [3, 12, 14, 16, 20, 24, 26, 29, 32, 37, 38, 41, 50, 51, 71, 78, 83, 85, 86, 89, 93, 103, 106, 109, 110, 111, 112, 119, 122, 123, 126, 129, 133, 134, 140, 147, 148, 159, 161, 163, 168, 177, 180, 181, 183, 186, 192, 195, 197, 199]\n",
            "\n",
            "Explanation for sample 923: [3, 10, 12, 19, 22, 26, 29, 31, 42, 46, 51, 52, 66, 68, 70, 73, 74, 82, 86, 99, 100, 106, 109, 111, 119, 120, 123, 128, 133, 136, 138, 139, 140, 143, 145, 152, 153, 154, 159, 160, 163, 164, 166, 167, 168, 172, 177, 180, 188, 197]\n",
            "\n",
            "Explanation for sample 929: [0, 6, 14, 19, 20, 22, 24, 29, 35, 41, 46, 53, 55, 56, 58, 63, 67, 69, 70, 73, 82, 86, 87, 93, 94, 101, 102, 109, 110, 112, 123, 126, 128, 133, 134, 143, 144, 148, 150, 159, 165, 176, 177, 178, 180, 181, 187, 190, 193, 198]\n",
            "\n",
            "Explanation for sample 944: [6, 19, 21, 26, 27, 30, 34, 37, 38, 42, 46, 48, 49, 52, 58, 59, 63, 66, 67, 70, 83, 87, 91, 92, 93, 97, 98, 105, 114, 118, 126, 127, 133, 134, 136, 140, 144, 147, 153, 154, 156, 163, 164, 170, 175, 179, 183, 187, 197, 199]\n",
            "\n",
            "Explanation for sample 947: [3, 9, 14, 19, 20, 22, 27, 29, 30, 34, 35, 37, 46, 48, 51, 54, 59, 61, 66, 71, 85, 87, 89, 92, 94, 95, 98, 101, 102, 115, 121, 124, 129, 131, 133, 139, 140, 143, 144, 148, 156, 164, 170, 179, 180, 181, 187, 189, 193, 198]\n",
            "\n",
            "Explanation for sample 948: [3, 5, 6, 10, 11, 14, 15, 19, 22, 24, 37, 41, 43, 46, 51, 52, 54, 67, 69, 73, 74, 75, 82, 83, 85, 93, 98, 111, 112, 119, 123, 126, 128, 129, 134, 136, 140, 143, 146, 147, 150, 154, 166, 167, 168, 182, 183, 193, 197, 198]\n",
            "\n",
            "Explanation for sample 951: [3, 19, 32, 34, 36, 38, 47, 50, 52, 54, 56, 57, 58, 59, 62, 65, 66, 73, 78, 87, 97, 98, 103, 106, 108, 112, 115, 118, 120, 121, 128, 133, 134, 136, 140, 143, 145, 153, 159, 167, 168, 171, 172, 177, 181, 183, 184, 185, 188, 192]\n",
            "\n",
            "Explanation for sample 952: [1, 3, 4, 8, 10, 17, 20, 21, 27, 34, 35, 39, 41, 46, 50, 51, 52, 55, 56, 62, 66, 71, 73, 77, 79, 81, 93, 98, 103, 106, 108, 119, 120, 121, 124, 128, 134, 136, 145, 148, 155, 159, 170, 179, 183, 185, 190, 191, 192, 195]\n",
            "\n",
            "Explanation for sample 965: [3, 15, 19, 23, 28, 30, 32, 41, 45, 48, 52, 54, 57, 61, 66, 67, 68, 73, 75, 78, 82, 85, 100, 106, 109, 111, 112, 115, 120, 121, 123, 127, 129, 130, 131, 133, 134, 142, 144, 145, 152, 153, 164, 178, 179, 183, 184, 192, 193, 195]\n",
            "\n",
            "Explanation for sample 967: [2, 6, 7, 8, 9, 13, 17, 25, 29, 32, 40, 42, 53, 55, 69, 73, 81, 83, 84, 85, 88, 93, 96, 98, 101, 102, 103, 104, 113, 117, 126, 129, 131, 132, 134, 135, 143, 147, 161, 164, 165, 171, 173, 175, 178, 185, 186, 189, 191, 193]\n",
            "\n",
            "Explanation for sample 968: [8, 9, 14, 20, 22, 26, 27, 28, 29, 31, 35, 36, 40, 41, 42, 43, 45, 51, 52, 54, 70, 76, 77, 79, 85, 86, 100, 101, 108, 111, 119, 125, 129, 130, 134, 141, 144, 147, 154, 158, 159, 161, 175, 180, 181, 187, 190, 193, 195, 197]\n",
            "\n",
            "Explanation for sample 972: [3, 19, 20, 22, 23, 27, 31, 32, 41, 52, 53, 56, 58, 65, 66, 67, 70, 73, 82, 84, 86, 87, 97, 101, 104, 111, 115, 118, 120, 123, 125, 127, 130, 140, 141, 143, 145, 149, 153, 156, 164, 177, 183, 184, 186, 187, 192, 195, 197, 199]\n",
            "\n",
            "Explanation for sample 974: [4, 7, 9, 11, 12, 17, 19, 20, 24, 26, 29, 31, 33, 38, 39, 41, 42, 44, 46, 51, 52, 54, 57, 58, 61, 63, 72, 89, 93, 98, 99, 108, 112, 123, 133, 138, 140, 143, 148, 150, 160, 166, 169, 172, 173, 180, 181, 185, 186, 197]\n",
            "\n",
            "Explanation for sample 986: [4, 8, 9, 10, 14, 15, 17, 19, 21, 24, 29, 31, 34, 35, 40, 41, 42, 46, 50, 51, 58, 67, 77, 85, 87, 102, 105, 109, 115, 117, 118, 127, 128, 129, 131, 140, 143, 147, 154, 161, 163, 179, 180, 184, 186, 189, 193, 195, 197, 198]\n",
            "\n",
            "Explanation for sample 987: [0, 1, 3, 4, 7, 8, 10, 11, 14, 15, 18, 19, 20, 21, 22, 23, 26, 29, 31, 32, 33, 35, 40, 41, 42, 43, 44, 46, 49, 50, 51, 52, 53, 55, 56, 60, 62, 66, 69, 70, 71, 72, 73, 74, 75, 76, 77, 79, 81, 83]\n",
            "\n",
            "Explanation for sample 992: [3, 14, 15, 20, 22, 26, 29, 31, 32, 35, 40, 41, 42, 51, 52, 55, 56, 63, 69, 77, 82, 85, 87, 100, 101, 102, 106, 115, 121, 123, 129, 130, 131, 134, 136, 139, 143, 144, 150, 155, 159, 163, 164, 170, 174, 184, 187, 195, 197, 199]\n",
            "\n",
            "Explanation for sample 1001: [6, 9, 10, 12, 17, 24, 26, 28, 34, 35, 37, 41, 44, 46, 49, 50, 51, 55, 58, 61, 66, 67, 71, 73, 77, 78, 83, 85, 86, 87, 93, 108, 111, 112, 120, 123, 128, 129, 134, 136, 146, 147, 163, 167, 170, 177, 180, 181, 193, 197]\n",
            "\n",
            "Explanation for sample 1004: [11, 12, 14, 17, 19, 32, 34, 36, 37, 39, 41, 46, 47, 52, 54, 55, 56, 57, 58, 66, 67, 70, 74, 82, 83, 91, 93, 105, 118, 119, 121, 124, 126, 128, 129, 136, 140, 143, 147, 151, 154, 159, 172, 177, 181, 183, 186, 189, 195, 197]\n",
            "\n",
            "Explanation for sample 1005: [2, 6, 9, 11, 18, 24, 26, 29, 31, 35, 42, 47, 51, 52, 58, 61, 63, 68, 70, 74, 79, 82, 85, 86, 87, 101, 109, 112, 114, 120, 121, 123, 129, 147, 151, 152, 154, 161, 163, 165, 167, 171, 175, 177, 180, 189, 193, 197, 198, 199]\n",
            "\n",
            "Explanation for sample 1011: [1, 2, 3, 13, 14, 21, 26, 31, 38, 39, 41, 45, 47, 51, 52, 57, 61, 67, 70, 74, 81, 82, 85, 86, 91, 93, 105, 109, 111, 112, 121, 123, 128, 129, 132, 138, 144, 147, 154, 165, 172, 175, 177, 180, 189, 190, 192, 193, 197, 198]\n",
            "\n",
            "Explanation for sample 1017: [2, 3, 6, 10, 13, 14, 17, 18, 21, 36, 41, 46, 47, 48, 50, 52, 55, 56, 58, 61, 66, 67, 70, 73, 81, 82, 83, 85, 87, 91, 93, 97, 98, 102, 112, 116, 123, 126, 129, 134, 145, 147, 151, 154, 159, 168, 177, 180, 193, 197]\n",
            "\n",
            "Explanation for sample 1018: [1, 2, 17, 18, 22, 26, 29, 36, 40, 43, 47, 53, 57, 58, 59, 61, 62, 67, 69, 81, 82, 83, 86, 87, 88, 91, 93, 104, 107, 111, 115, 121, 123, 128, 134, 141, 144, 153, 154, 158, 161, 165, 176, 177, 178, 184, 189, 193, 197, 198]\n",
            "\n",
            "Explanation for sample 1023: [6, 10, 11, 14, 17, 22, 26, 29, 37, 38, 41, 44, 45, 46, 52, 55, 57, 60, 63, 66, 67, 73, 83, 93, 94, 102, 103, 105, 111, 112, 124, 128, 129, 134, 138, 140, 144, 147, 148, 150, 159, 166, 167, 168, 169, 177, 182, 193, 195, 197]\n",
            "\n",
            "Explanation for sample 1024: [10, 11, 25, 28, 29, 31, 32, 38, 39, 42, 46, 50, 51, 52, 58, 68, 74, 77, 82, 83, 84, 85, 86, 93, 105, 106, 107, 112, 116, 128, 129, 132, 134, 140, 143, 152, 153, 159, 160, 161, 163, 167, 172, 173, 175, 177, 186, 190, 195, 197]\n",
            "\n",
            "Explanation for sample 1025: [3, 14, 26, 29, 34, 36, 43, 46, 47, 52, 53, 56, 58, 61, 65, 70, 73, 82, 86, 88, 91, 93, 99, 106, 107, 109, 120, 121, 123, 128, 130, 134, 136, 143, 144, 147, 151, 152, 154, 159, 168, 177, 180, 182, 183, 184, 189, 193, 197, 198]\n",
            "\n",
            "Explanation for sample 1028: [2, 3, 5, 6, 12, 13, 14, 30, 34, 41, 46, 54, 58, 63, 71, 74, 78, 83, 84, 89, 90, 93, 95, 103, 105, 106, 112, 124, 126, 127, 128, 129, 132, 133, 134, 143, 148, 152, 167, 172, 176, 177, 180, 181, 185, 186, 187, 189, 190, 192]\n",
            "\n",
            "Explanation for sample 1033: [7, 10, 12, 19, 22, 23, 24, 27, 32, 34, 52, 53, 54, 55, 56, 58, 59, 65, 73, 82, 85, 87, 101, 106, 114, 115, 118, 120, 124, 127, 133, 136, 139, 140, 143, 145, 148, 150, 152, 153, 156, 157, 164, 166, 174, 176, 183, 184, 185, 199]\n",
            "\n",
            "\n",
            "Explainability metrics:\n",
            "Fidelity: -0.039861902594566345  |  Sparsity: 0.26164804129562425  |  Mask entropy (normalized): 0.9759248495101929\n",
            "\n",
            "\n",
            "Suggested biomarker: [85, 58, 19, 134, 82, 112, 41, 143, 51, 93]\n"
          ]
        }
      ]
    }
  ]
}