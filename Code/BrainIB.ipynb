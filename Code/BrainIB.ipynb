{
  "cells": [
    {
      "cell_type": "markdown",
      "source": [
        "# Downloading model code files"
      ],
      "metadata": {
        "id": "8LpUVYUskCPY"
      }
    },
    {
      "cell_type": "code",
      "source": [
        "import gdown\n",
        "\n",
        "url = 'https://drive.google.com/uc?id=1vmAjWaYt5glvrOu0glbKJ5ydXeMDZnxD'\n",
        "gdown.download(url, output='BrainIB.zip',quiet=False)\n",
        "\n",
        "!unzip BrainIB.zip -d BrainIB_tmp\n",
        "!mv BrainIB_tmp/content/* BrainIB/\n",
        "!rm -rf BrainIB_tmp"
      ],
      "metadata": {
        "colab": {
          "base_uri": "https://localhost:8080/"
        },
        "id": "AFVjwZflTeA8",
        "outputId": "5ced0442-eab0-416e-e0b4-7dde5c3a887e"
      },
      "execution_count": null,
      "outputs": [
        {
          "output_type": "stream",
          "name": "stderr",
          "text": [
            "Downloading...\n",
            "From (original): https://drive.google.com/uc?id=1vmAjWaYt5glvrOu0glbKJ5ydXeMDZnxD\n",
            "From (redirected): https://drive.google.com/uc?id=1vmAjWaYt5glvrOu0glbKJ5ydXeMDZnxD&confirm=t&uuid=3760e425-2257-4897-b52e-f7a348194e63\n",
            "To: /content/BrainIB.zip\n",
            "100%|██████████| 125M/125M [00:01<00:00, 112MB/s]\n"
          ]
        },
        {
          "output_type": "stream",
          "name": "stdout",
          "text": [
            "Archive:  BrainIB.zip\n",
            "   creating: BrainIB_tmp/content/BrainIB/\n",
            "  inflating: BrainIB_tmp/content/BrainIB/README.md  \n",
            "   creating: BrainIB_tmp/content/BrainIB/BrainIB_V2/\n",
            "  inflating: BrainIB_tmp/content/BrainIB/BrainIB_V2/README.md  \n",
            "   creating: BrainIB_tmp/content/BrainIB/BrainIB_V2/SGSIB/\n",
            "  inflating: BrainIB_tmp/content/BrainIB/BrainIB_V2/SGSIB/explainability.py  \n",
            "   creating: BrainIB_tmp/content/BrainIB/BrainIB_V2/SGSIB/__pycache__/\n",
            "  inflating: BrainIB_tmp/content/BrainIB/BrainIB_V2/SGSIB/__pycache__/explainability.cpython-311.pyc  \n",
            "  inflating: BrainIB_tmp/content/BrainIB/BrainIB_V2/SGSIB/__pycache__/GNN.cpython-311.pyc  \n",
            "  inflating: BrainIB_tmp/content/BrainIB/BrainIB_V2/SGSIB/__pycache__/sub_graph_generator.cpython-311.pyc  \n",
            "  inflating: BrainIB_tmp/content/BrainIB/BrainIB_V2/SGSIB/__pycache__/utils.cpython-311.pyc  \n",
            "  inflating: BrainIB_tmp/content/BrainIB/BrainIB_V2/SGSIB/GNN.py  \n",
            "  inflating: BrainIB_tmp/content/BrainIB/BrainIB_V2/SGSIB/sub_graph_generator.py  \n",
            "  inflating: BrainIB_tmp/content/BrainIB/BrainIB_V2/SGSIB/utils.py  \n",
            "   creating: BrainIB_tmp/content/BrainIB/BrainIB_V2/data/\n",
            "   creating: BrainIB_tmp/content/BrainIB/BrainIB_V2/data/__pycache__/\n",
            "  inflating: BrainIB_tmp/content/BrainIB/BrainIB_V2/data/__pycache__/create_dataset.cpython-311.pyc  \n",
            "  inflating: BrainIB_tmp/content/BrainIB/BrainIB_V2/data/create_dataset.py  \n",
            "  inflating: BrainIB_tmp/content/BrainIB/BrainIB_V2/data/md_AAL_0.4.mat  \n",
            "  inflating: BrainIB_tmp/content/BrainIB/BrainIB_V2/Supplementary Material for SGGIB.pdf  \n",
            "  inflating: BrainIB_tmp/content/BrainIB/BrainIB_V2/TOWARDS A MORE STABLE AND GENERAL SUBGRAPH INFORMATION BOTTLENECK.pdf  \n",
            "  inflating: BrainIB_tmp/content/BrainIB/BrainIB_V2/SGSIB_main.py  \n",
            "  inflating: BrainIB_tmp/content/BrainIB/stable_training.png  \n",
            "  inflating: BrainIB_tmp/content/BrainIB/overall.png  \n",
            "   creating: BrainIB_tmp/content/BrainIB/BrainIB_V1/\n",
            "  inflating: BrainIB_tmp/content/BrainIB/BrainIB_V1/graphCNNb.py  \n",
            "   creating: BrainIB_tmp/content/BrainIB/BrainIB_V1/data/\n",
            "  inflating: BrainIB_tmp/content/BrainIB/BrainIB_V1/data/create_data.py  \n",
            "  inflating: BrainIB_tmp/content/BrainIB/BrainIB_V1/pre_subgraph.py  \n",
            "  inflating: BrainIB_tmp/content/BrainIB/BrainIB_V1/main.py  \n",
            "  inflating: BrainIB_tmp/content/BrainIB/BrainIB_V1/mlp.py  \n",
            "  inflating: BrainIB_tmp/content/BrainIB/BrainIB_V1/utilis.py  \n",
            "  inflating: BrainIB_tmp/content/BrainIB/interpretability.png  \n",
            "  inflating: BrainIB_tmp/content/BrainIB/framework.png  \n",
            "   creating: BrainIB_tmp/content/BrainIB/.git/\n",
            "   creating: BrainIB_tmp/content/BrainIB/.git/logs/\n",
            "  inflating: BrainIB_tmp/content/BrainIB/.git/logs/HEAD  \n",
            "   creating: BrainIB_tmp/content/BrainIB/.git/logs/refs/\n",
            "   creating: BrainIB_tmp/content/BrainIB/.git/logs/refs/heads/\n",
            "  inflating: BrainIB_tmp/content/BrainIB/.git/logs/refs/heads/main  \n",
            "   creating: BrainIB_tmp/content/BrainIB/.git/logs/refs/remotes/\n",
            "   creating: BrainIB_tmp/content/BrainIB/.git/logs/refs/remotes/origin/\n",
            "  inflating: BrainIB_tmp/content/BrainIB/.git/logs/refs/remotes/origin/HEAD  \n",
            "   creating: BrainIB_tmp/content/BrainIB/.git/hooks/\n",
            "  inflating: BrainIB_tmp/content/BrainIB/.git/hooks/commit-msg.sample  \n",
            "  inflating: BrainIB_tmp/content/BrainIB/.git/hooks/pre-receive.sample  \n",
            "  inflating: BrainIB_tmp/content/BrainIB/.git/hooks/prepare-commit-msg.sample  \n",
            "  inflating: BrainIB_tmp/content/BrainIB/.git/hooks/update.sample  \n",
            "  inflating: BrainIB_tmp/content/BrainIB/.git/hooks/pre-commit.sample  \n",
            "  inflating: BrainIB_tmp/content/BrainIB/.git/hooks/post-update.sample  \n",
            "  inflating: BrainIB_tmp/content/BrainIB/.git/hooks/pre-rebase.sample  \n",
            "  inflating: BrainIB_tmp/content/BrainIB/.git/hooks/fsmonitor-watchman.sample  \n",
            "  inflating: BrainIB_tmp/content/BrainIB/.git/hooks/applypatch-msg.sample  \n",
            "  inflating: BrainIB_tmp/content/BrainIB/.git/hooks/push-to-checkout.sample  \n",
            "  inflating: BrainIB_tmp/content/BrainIB/.git/hooks/pre-push.sample  \n",
            "  inflating: BrainIB_tmp/content/BrainIB/.git/hooks/pre-applypatch.sample  \n",
            "  inflating: BrainIB_tmp/content/BrainIB/.git/hooks/pre-merge-commit.sample  \n",
            "  inflating: BrainIB_tmp/content/BrainIB/.git/config  \n",
            "  inflating: BrainIB_tmp/content/BrainIB/.git/packed-refs  \n",
            "  inflating: BrainIB_tmp/content/BrainIB/.git/description  \n",
            "   creating: BrainIB_tmp/content/BrainIB/.git/info/\n",
            "  inflating: BrainIB_tmp/content/BrainIB/.git/info/exclude  \n",
            "   creating: BrainIB_tmp/content/BrainIB/.git/objects/\n",
            "   creating: BrainIB_tmp/content/BrainIB/.git/objects/info/\n",
            "   creating: BrainIB_tmp/content/BrainIB/.git/objects/pack/\n",
            "  inflating: BrainIB_tmp/content/BrainIB/.git/objects/pack/pack-0884be0ea2902e74f5f0f0add882af54c3428b0f.idx  \n",
            "  inflating: BrainIB_tmp/content/BrainIB/.git/objects/pack/pack-0884be0ea2902e74f5f0f0add882af54c3428b0f.pack  \n",
            "  inflating: BrainIB_tmp/content/BrainIB/.git/index  \n",
            "   creating: BrainIB_tmp/content/BrainIB/.git/branches/\n",
            " extracting: BrainIB_tmp/content/BrainIB/.git/HEAD  \n",
            "   creating: BrainIB_tmp/content/BrainIB/.git/refs/\n",
            "   creating: BrainIB_tmp/content/BrainIB/.git/refs/heads/\n",
            "  inflating: BrainIB_tmp/content/BrainIB/.git/refs/heads/main  \n",
            "   creating: BrainIB_tmp/content/BrainIB/.git/refs/tags/\n",
            "   creating: BrainIB_tmp/content/BrainIB/.git/refs/remotes/\n",
            "   creating: BrainIB_tmp/content/BrainIB/.git/refs/remotes/origin/\n",
            " extracting: BrainIB_tmp/content/BrainIB/.git/refs/remotes/origin/HEAD  \n"
          ]
        }
      ]
    },
    {
      "cell_type": "markdown",
      "source": [
        "# Downloading dataset"
      ],
      "metadata": {
        "id": "CyElTonOkF4i"
      }
    },
    {
      "cell_type": "code",
      "execution_count": null,
      "metadata": {
        "colab": {
          "base_uri": "https://localhost:8080/",
          "height": 142
        },
        "id": "dpc3FOpxue4K",
        "outputId": "608f9d5c-92d5-4e6b-edca-37ac3217c561"
      },
      "outputs": [
        {
          "output_type": "stream",
          "name": "stderr",
          "text": [
            "Downloading...\n",
            "From (original): https://drive.google.com/uc?id=1x06xHbCL3pwsuOZvA8a6y6QKHQUWM1I8\n",
            "From (redirected): https://drive.google.com/uc?id=1x06xHbCL3pwsuOZvA8a6y6QKHQUWM1I8&confirm=t&uuid=a1f7b6ec-4ce2-4e10-b949-83039948e640\n",
            "To: /content/BrainIB/BrainIB_V2/data/md_AAL_0.4.mat\n",
            "100%|██████████| 119M/119M [00:01<00:00, 91.1MB/s]\n"
          ]
        },
        {
          "output_type": "execute_result",
          "data": {
            "text/plain": [
              "'/content/BrainIB/BrainIB_V2/data/md_AAL_0.4.mat'"
            ],
            "application/vnd.google.colaboratory.intrinsic+json": {
              "type": "string"
            }
          },
          "metadata": {},
          "execution_count": 2
        }
      ],
      "source": [
        "import gdown\n",
        "\n",
        "url = 'https://drive.google.com/uc?id=1x06xHbCL3pwsuOZvA8a6y6QKHQUWM1I8'\n",
        "output = '/content/BrainIB/BrainIB_V2/data/md_AAL_0.4.mat'\n",
        "gdown.download(url, output, quiet=False)"
      ]
    },
    {
      "cell_type": "markdown",
      "metadata": {
        "id": "b5ZgzN2B2-gr"
      },
      "source": [
        "# Installing dependencies\n",
        "\n",
        "Please restart the runtime after running the cell below, before running the remaining cells/."
      ]
    },
    {
      "cell_type": "code",
      "execution_count": null,
      "metadata": {
        "colab": {
          "base_uri": "https://localhost:8080/",
          "height": 1000
        },
        "id": "e1THTmELwdBY",
        "outputId": "f68b6f77-e1e2-48f0-e0cb-17f92ca3c511"
      },
      "outputs": [
        {
          "output_type": "stream",
          "name": "stdout",
          "text": [
            "Looking in links: https://data.pyg.org/whl/torch-2.1.1+cu121.html\n",
            "Collecting torch-scatter\n",
            "  Downloading https://data.pyg.org/whl/torch-2.1.0%2Bcu121/torch_scatter-2.1.2%2Bpt21cu121-cp311-cp311-linux_x86_64.whl (10.8 MB)\n",
            "\u001b[2K     \u001b[90m━━━━━━━━━━━━━━━━━━━━━━━━━━━━━━━━━━━━━━━━\u001b[0m \u001b[32m10.8/10.8 MB\u001b[0m \u001b[31m95.5 MB/s\u001b[0m eta \u001b[36m0:00:00\u001b[0m\n",
            "\u001b[?25hCollecting torch-sparse\n",
            "  Downloading https://data.pyg.org/whl/torch-2.1.0%2Bcu121/torch_sparse-0.6.18%2Bpt21cu121-cp311-cp311-linux_x86_64.whl (5.1 MB)\n",
            "\u001b[2K     \u001b[90m━━━━━━━━━━━━━━━━━━━━━━━━━━━━━━━━━━━━━━━━\u001b[0m \u001b[32m5.1/5.1 MB\u001b[0m \u001b[31m82.9 MB/s\u001b[0m eta \u001b[36m0:00:00\u001b[0m\n",
            "\u001b[?25hCollecting torch-cluster\n",
            "  Downloading https://data.pyg.org/whl/torch-2.1.0%2Bcu121/torch_cluster-1.6.3%2Bpt21cu121-cp311-cp311-linux_x86_64.whl (3.3 MB)\n",
            "\u001b[2K     \u001b[90m━━━━━━━━━━━━━━━━━━━━━━━━━━━━━━━━━━━━━━━━\u001b[0m \u001b[32m3.3/3.3 MB\u001b[0m \u001b[31m108.6 MB/s\u001b[0m eta \u001b[36m0:00:00\u001b[0m\n",
            "\u001b[?25hCollecting torch-spline-conv\n",
            "  Downloading https://data.pyg.org/whl/torch-2.1.0%2Bcu121/torch_spline_conv-1.2.2%2Bpt21cu121-cp311-cp311-linux_x86_64.whl (935 kB)\n",
            "\u001b[2K     \u001b[90m━━━━━━━━━━━━━━━━━━━━━━━━━━━━━━━━━━━━━━\u001b[0m \u001b[32m936.0/936.0 kB\u001b[0m \u001b[31m61.2 MB/s\u001b[0m eta \u001b[36m0:00:00\u001b[0m\n",
            "\u001b[?25hRequirement already satisfied: scipy in /usr/local/lib/python3.11/dist-packages (from torch-sparse) (1.15.3)\n",
            "Requirement already satisfied: numpy<2.5,>=1.23.5 in /usr/local/lib/python3.11/dist-packages (from scipy->torch-sparse) (2.0.2)\n",
            "Installing collected packages: torch-spline-conv, torch-scatter, torch-sparse, torch-cluster\n",
            "Successfully installed torch-cluster-1.6.3+pt21cu121 torch-scatter-2.1.2+pt21cu121 torch-sparse-0.6.18+pt21cu121 torch-spline-conv-1.2.2+pt21cu121\n",
            "Collecting torch_geometric==2.4.0\n",
            "  Downloading torch_geometric-2.4.0-py3-none-any.whl.metadata (63 kB)\n",
            "\u001b[2K     \u001b[90m━━━━━━━━━━━━━━━━━━━━━━━━━━━━━━━━━━━━━━━━\u001b[0m \u001b[32m63.9/63.9 kB\u001b[0m \u001b[31m3.0 MB/s\u001b[0m eta \u001b[36m0:00:00\u001b[0m\n",
            "\u001b[?25hCollecting torchaudio==2.1.1\n",
            "  Downloading torchaudio-2.1.1-cp311-cp311-manylinux1_x86_64.whl.metadata (6.4 kB)\n",
            "Collecting torchvision==0.16.1\n",
            "  Downloading torchvision-0.16.1-cp311-cp311-manylinux1_x86_64.whl.metadata (6.6 kB)\n",
            "Collecting numpy==1.26.2\n",
            "  Downloading numpy-1.26.2-cp311-cp311-manylinux_2_17_x86_64.manylinux2014_x86_64.whl.metadata (61 kB)\n",
            "\u001b[2K     \u001b[90m━━━━━━━━━━━━━━━━━━━━━━━━━━━━━━━━━━━━━━━━\u001b[0m \u001b[32m61.2/61.2 kB\u001b[0m \u001b[31m5.1 MB/s\u001b[0m eta \u001b[36m0:00:00\u001b[0m\n",
            "\u001b[?25hRequirement already satisfied: tqdm in /usr/local/lib/python3.11/dist-packages (from torch_geometric==2.4.0) (4.67.1)\n",
            "Requirement already satisfied: scipy in /usr/local/lib/python3.11/dist-packages (from torch_geometric==2.4.0) (1.15.3)\n",
            "Requirement already satisfied: jinja2 in /usr/local/lib/python3.11/dist-packages (from torch_geometric==2.4.0) (3.1.6)\n",
            "Requirement already satisfied: requests in /usr/local/lib/python3.11/dist-packages (from torch_geometric==2.4.0) (2.32.3)\n",
            "Requirement already satisfied: pyparsing in /usr/local/lib/python3.11/dist-packages (from torch_geometric==2.4.0) (3.2.3)\n",
            "Requirement already satisfied: scikit-learn in /usr/local/lib/python3.11/dist-packages (from torch_geometric==2.4.0) (1.6.1)\n",
            "Requirement already satisfied: psutil>=5.8.0 in /usr/local/lib/python3.11/dist-packages (from torch_geometric==2.4.0) (5.9.5)\n",
            "Collecting torch==2.1.1 (from torchaudio==2.1.1)\n",
            "  Downloading torch-2.1.1-cp311-cp311-manylinux1_x86_64.whl.metadata (25 kB)\n",
            "Requirement already satisfied: pillow!=8.3.*,>=5.3.0 in /usr/local/lib/python3.11/dist-packages (from torchvision==0.16.1) (11.2.1)\n",
            "Requirement already satisfied: filelock in /usr/local/lib/python3.11/dist-packages (from torch==2.1.1->torchaudio==2.1.1) (3.18.0)\n",
            "Requirement already satisfied: typing-extensions in /usr/local/lib/python3.11/dist-packages (from torch==2.1.1->torchaudio==2.1.1) (4.14.1)\n",
            "Requirement already satisfied: sympy in /usr/local/lib/python3.11/dist-packages (from torch==2.1.1->torchaudio==2.1.1) (1.13.1)\n",
            "Requirement already satisfied: networkx in /usr/local/lib/python3.11/dist-packages (from torch==2.1.1->torchaudio==2.1.1) (3.5)\n",
            "Requirement already satisfied: fsspec in /usr/local/lib/python3.11/dist-packages (from torch==2.1.1->torchaudio==2.1.1) (2025.3.2)\n",
            "Collecting nvidia-cuda-nvrtc-cu12==12.1.105 (from torch==2.1.1->torchaudio==2.1.1)\n",
            "  Downloading nvidia_cuda_nvrtc_cu12-12.1.105-py3-none-manylinux1_x86_64.whl.metadata (1.5 kB)\n",
            "Collecting nvidia-cuda-runtime-cu12==12.1.105 (from torch==2.1.1->torchaudio==2.1.1)\n",
            "  Downloading nvidia_cuda_runtime_cu12-12.1.105-py3-none-manylinux1_x86_64.whl.metadata (1.5 kB)\n",
            "Collecting nvidia-cuda-cupti-cu12==12.1.105 (from torch==2.1.1->torchaudio==2.1.1)\n",
            "  Downloading nvidia_cuda_cupti_cu12-12.1.105-py3-none-manylinux1_x86_64.whl.metadata (1.6 kB)\n",
            "Collecting nvidia-cudnn-cu12==8.9.2.26 (from torch==2.1.1->torchaudio==2.1.1)\n",
            "  Downloading nvidia_cudnn_cu12-8.9.2.26-py3-none-manylinux1_x86_64.whl.metadata (1.6 kB)\n",
            "Collecting nvidia-cublas-cu12==12.1.3.1 (from torch==2.1.1->torchaudio==2.1.1)\n",
            "  Downloading nvidia_cublas_cu12-12.1.3.1-py3-none-manylinux1_x86_64.whl.metadata (1.5 kB)\n",
            "Collecting nvidia-cufft-cu12==11.0.2.54 (from torch==2.1.1->torchaudio==2.1.1)\n",
            "  Downloading nvidia_cufft_cu12-11.0.2.54-py3-none-manylinux1_x86_64.whl.metadata (1.5 kB)\n",
            "Collecting nvidia-curand-cu12==10.3.2.106 (from torch==2.1.1->torchaudio==2.1.1)\n",
            "  Downloading nvidia_curand_cu12-10.3.2.106-py3-none-manylinux1_x86_64.whl.metadata (1.5 kB)\n",
            "Collecting nvidia-cusolver-cu12==11.4.5.107 (from torch==2.1.1->torchaudio==2.1.1)\n",
            "  Downloading nvidia_cusolver_cu12-11.4.5.107-py3-none-manylinux1_x86_64.whl.metadata (1.6 kB)\n",
            "Collecting nvidia-cusparse-cu12==12.1.0.106 (from torch==2.1.1->torchaudio==2.1.1)\n",
            "  Downloading nvidia_cusparse_cu12-12.1.0.106-py3-none-manylinux1_x86_64.whl.metadata (1.6 kB)\n",
            "Collecting nvidia-nccl-cu12==2.18.1 (from torch==2.1.1->torchaudio==2.1.1)\n",
            "  Downloading nvidia_nccl_cu12-2.18.1-py3-none-manylinux1_x86_64.whl.metadata (1.8 kB)\n",
            "Collecting nvidia-nvtx-cu12==12.1.105 (from torch==2.1.1->torchaudio==2.1.1)\n",
            "  Downloading nvidia_nvtx_cu12-12.1.105-py3-none-manylinux1_x86_64.whl.metadata (1.7 kB)\n",
            "Collecting triton==2.1.0 (from torch==2.1.1->torchaudio==2.1.1)\n",
            "  Downloading triton-2.1.0-0-cp311-cp311-manylinux2014_x86_64.manylinux_2_17_x86_64.whl.metadata (1.3 kB)\n",
            "Requirement already satisfied: nvidia-nvjitlink-cu12 in /usr/local/lib/python3.11/dist-packages (from nvidia-cusolver-cu12==11.4.5.107->torch==2.1.1->torchaudio==2.1.1) (12.5.82)\n",
            "Requirement already satisfied: MarkupSafe>=2.0 in /usr/local/lib/python3.11/dist-packages (from jinja2->torch_geometric==2.4.0) (3.0.2)\n",
            "Requirement already satisfied: charset-normalizer<4,>=2 in /usr/local/lib/python3.11/dist-packages (from requests->torch_geometric==2.4.0) (3.4.2)\n",
            "Requirement already satisfied: idna<4,>=2.5 in /usr/local/lib/python3.11/dist-packages (from requests->torch_geometric==2.4.0) (3.10)\n",
            "Requirement already satisfied: urllib3<3,>=1.21.1 in /usr/local/lib/python3.11/dist-packages (from requests->torch_geometric==2.4.0) (2.4.0)\n",
            "Requirement already satisfied: certifi>=2017.4.17 in /usr/local/lib/python3.11/dist-packages (from requests->torch_geometric==2.4.0) (2025.6.15)\n",
            "Requirement already satisfied: joblib>=1.2.0 in /usr/local/lib/python3.11/dist-packages (from scikit-learn->torch_geometric==2.4.0) (1.5.1)\n",
            "Requirement already satisfied: threadpoolctl>=3.1.0 in /usr/local/lib/python3.11/dist-packages (from scikit-learn->torch_geometric==2.4.0) (3.6.0)\n",
            "Requirement already satisfied: mpmath<1.4,>=1.1.0 in /usr/local/lib/python3.11/dist-packages (from sympy->torch==2.1.1->torchaudio==2.1.1) (1.3.0)\n",
            "Downloading torch_geometric-2.4.0-py3-none-any.whl (1.0 MB)\n",
            "\u001b[2K   \u001b[90m━━━━━━━━━━━━━━━━━━━━━━━━━━━━━━━━━━━━━━━━\u001b[0m \u001b[32m1.0/1.0 MB\u001b[0m \u001b[31m33.6 MB/s\u001b[0m eta \u001b[36m0:00:00\u001b[0m\n",
            "\u001b[?25hDownloading torchaudio-2.1.1-cp311-cp311-manylinux1_x86_64.whl (3.3 MB)\n",
            "\u001b[2K   \u001b[90m━━━━━━━━━━━━━━━━━━━━━━━━━━━━━━━━━━━━━━━━\u001b[0m \u001b[32m3.3/3.3 MB\u001b[0m \u001b[31m104.6 MB/s\u001b[0m eta \u001b[36m0:00:00\u001b[0m\n",
            "\u001b[?25hDownloading torchvision-0.16.1-cp311-cp311-manylinux1_x86_64.whl (6.8 MB)\n",
            "\u001b[2K   \u001b[90m━━━━━━━━━━━━━━━━━━━━━━━━━━━━━━━━━━━━━━━━\u001b[0m \u001b[32m6.8/6.8 MB\u001b[0m \u001b[31m115.0 MB/s\u001b[0m eta \u001b[36m0:00:00\u001b[0m\n",
            "\u001b[?25hDownloading numpy-1.26.2-cp311-cp311-manylinux_2_17_x86_64.manylinux2014_x86_64.whl (18.2 MB)\n",
            "\u001b[2K   \u001b[90m━━━━━━━━━━━━━━━━━━━━━━━━━━━━━━━━━━━━━━━━\u001b[0m \u001b[32m18.2/18.2 MB\u001b[0m \u001b[31m108.2 MB/s\u001b[0m eta \u001b[36m0:00:00\u001b[0m\n",
            "\u001b[?25hDownloading torch-2.1.1-cp311-cp311-manylinux1_x86_64.whl (670.2 MB)\n",
            "\u001b[2K   \u001b[90m━━━━━━━━━━━━━━━━━━━━━━━━━━━━━━━━━━━━━━━━\u001b[0m \u001b[32m670.2/670.2 MB\u001b[0m \u001b[31m2.8 MB/s\u001b[0m eta \u001b[36m0:00:00\u001b[0m\n",
            "\u001b[?25hDownloading nvidia_cublas_cu12-12.1.3.1-py3-none-manylinux1_x86_64.whl (410.6 MB)\n",
            "\u001b[2K   \u001b[90m━━━━━━━━━━━━━━━━━━━━━━━━━━━━━━━━━━━━━━━━\u001b[0m \u001b[32m410.6/410.6 MB\u001b[0m \u001b[31m3.8 MB/s\u001b[0m eta \u001b[36m0:00:00\u001b[0m\n",
            "\u001b[?25hDownloading nvidia_cuda_cupti_cu12-12.1.105-py3-none-manylinux1_x86_64.whl (14.1 MB)\n",
            "\u001b[2K   \u001b[90m━━━━━━━━━━━━━━━━━━━━━━━━━━━━━━━━━━━━━━━━\u001b[0m \u001b[32m14.1/14.1 MB\u001b[0m \u001b[31m83.0 MB/s\u001b[0m eta \u001b[36m0:00:00\u001b[0m\n",
            "\u001b[?25hDownloading nvidia_cuda_nvrtc_cu12-12.1.105-py3-none-manylinux1_x86_64.whl (23.7 MB)\n",
            "\u001b[2K   \u001b[90m━━━━━━━━━━━━━━━━━━━━━━━━━━━━━━━━━━━━━━━━\u001b[0m \u001b[32m23.7/23.7 MB\u001b[0m \u001b[31m72.4 MB/s\u001b[0m eta \u001b[36m0:00:00\u001b[0m\n",
            "\u001b[?25hDownloading nvidia_cuda_runtime_cu12-12.1.105-py3-none-manylinux1_x86_64.whl (823 kB)\n",
            "\u001b[2K   \u001b[90m━━━━━━━━━━━━━━━━━━━━━━━━━━━━━━━━━━━━━━━━\u001b[0m \u001b[32m823.6/823.6 kB\u001b[0m \u001b[31m48.5 MB/s\u001b[0m eta \u001b[36m0:00:00\u001b[0m\n",
            "\u001b[?25hDownloading nvidia_cudnn_cu12-8.9.2.26-py3-none-manylinux1_x86_64.whl (731.7 MB)\n",
            "\u001b[2K   \u001b[90m━━━━━━━━━━━━━━━━━━━━━━━━━━━━━━━━━━━━━━━━\u001b[0m \u001b[32m731.7/731.7 MB\u001b[0m \u001b[31m1.3 MB/s\u001b[0m eta \u001b[36m0:00:00\u001b[0m\n",
            "\u001b[?25hDownloading nvidia_cufft_cu12-11.0.2.54-py3-none-manylinux1_x86_64.whl (121.6 MB)\n",
            "\u001b[2K   \u001b[90m━━━━━━━━━━━━━━━━━━━━━━━━━━━━━━━━━━━━━━━━\u001b[0m \u001b[32m121.6/121.6 MB\u001b[0m \u001b[31m7.7 MB/s\u001b[0m eta \u001b[36m0:00:00\u001b[0m\n",
            "\u001b[?25hDownloading nvidia_curand_cu12-10.3.2.106-py3-none-manylinux1_x86_64.whl (56.5 MB)\n",
            "\u001b[2K   \u001b[90m━━━━━━━━━━━━━━━━━━━━━━━━━━━━━━━━━━━━━━━━\u001b[0m \u001b[32m56.5/56.5 MB\u001b[0m \u001b[31m11.9 MB/s\u001b[0m eta \u001b[36m0:00:00\u001b[0m\n",
            "\u001b[?25hDownloading nvidia_cusolver_cu12-11.4.5.107-py3-none-manylinux1_x86_64.whl (124.2 MB)\n",
            "\u001b[2K   \u001b[90m━━━━━━━━━━━━━━━━━━━━━━━━━━━━━━━━━━━━━━━━\u001b[0m \u001b[32m124.2/124.2 MB\u001b[0m \u001b[31m8.0 MB/s\u001b[0m eta \u001b[36m0:00:00\u001b[0m\n",
            "\u001b[?25hDownloading nvidia_cusparse_cu12-12.1.0.106-py3-none-manylinux1_x86_64.whl (196.0 MB)\n",
            "\u001b[2K   \u001b[90m━━━━━━━━━━━━━━━━━━━━━━━━━━━━━━━━━━━━━━━━\u001b[0m \u001b[32m196.0/196.0 MB\u001b[0m \u001b[31m5.9 MB/s\u001b[0m eta \u001b[36m0:00:00\u001b[0m\n",
            "\u001b[?25hDownloading nvidia_nccl_cu12-2.18.1-py3-none-manylinux1_x86_64.whl (209.8 MB)\n",
            "\u001b[2K   \u001b[90m━━━━━━━━━━━━━━━━━━━━━━━━━━━━━━━━━━━━━━━━\u001b[0m \u001b[32m209.8/209.8 MB\u001b[0m \u001b[31m7.1 MB/s\u001b[0m eta \u001b[36m0:00:00\u001b[0m\n",
            "\u001b[?25hDownloading nvidia_nvtx_cu12-12.1.105-py3-none-manylinux1_x86_64.whl (99 kB)\n",
            "\u001b[2K   \u001b[90m━━━━━━━━━━━━━━━━━━━━━━━━━━━━━━━━━━━━━━━━\u001b[0m \u001b[32m99.1/99.1 kB\u001b[0m \u001b[31m9.3 MB/s\u001b[0m eta \u001b[36m0:00:00\u001b[0m\n",
            "\u001b[?25hDownloading triton-2.1.0-0-cp311-cp311-manylinux2014_x86_64.manylinux_2_17_x86_64.whl (89.2 MB)\n",
            "\u001b[2K   \u001b[90m━━━━━━━━━━━━━━━━━━━━━━━━━━━━━━━━━━━━━━━━\u001b[0m \u001b[32m89.2/89.2 MB\u001b[0m \u001b[31m8.7 MB/s\u001b[0m eta \u001b[36m0:00:00\u001b[0m\n",
            "\u001b[?25hInstalling collected packages: triton, nvidia-nvtx-cu12, nvidia-nccl-cu12, nvidia-cusparse-cu12, nvidia-curand-cu12, nvidia-cufft-cu12, nvidia-cuda-runtime-cu12, nvidia-cuda-nvrtc-cu12, nvidia-cuda-cupti-cu12, nvidia-cublas-cu12, numpy, nvidia-cusolver-cu12, nvidia-cudnn-cu12, torch, torchvision, torchaudio, torch_geometric\n",
            "  Attempting uninstall: triton\n",
            "    Found existing installation: triton 3.2.0\n",
            "    Uninstalling triton-3.2.0:\n",
            "      Successfully uninstalled triton-3.2.0\n",
            "  Attempting uninstall: nvidia-nvtx-cu12\n",
            "    Found existing installation: nvidia-nvtx-cu12 12.4.127\n",
            "    Uninstalling nvidia-nvtx-cu12-12.4.127:\n",
            "      Successfully uninstalled nvidia-nvtx-cu12-12.4.127\n",
            "  Attempting uninstall: nvidia-nccl-cu12\n",
            "    Found existing installation: nvidia-nccl-cu12 2.21.5\n",
            "    Uninstalling nvidia-nccl-cu12-2.21.5:\n",
            "      Successfully uninstalled nvidia-nccl-cu12-2.21.5\n",
            "  Attempting uninstall: nvidia-cusparse-cu12\n",
            "    Found existing installation: nvidia-cusparse-cu12 12.5.1.3\n",
            "    Uninstalling nvidia-cusparse-cu12-12.5.1.3:\n",
            "      Successfully uninstalled nvidia-cusparse-cu12-12.5.1.3\n",
            "  Attempting uninstall: nvidia-curand-cu12\n",
            "    Found existing installation: nvidia-curand-cu12 10.3.6.82\n",
            "    Uninstalling nvidia-curand-cu12-10.3.6.82:\n",
            "      Successfully uninstalled nvidia-curand-cu12-10.3.6.82\n",
            "  Attempting uninstall: nvidia-cufft-cu12\n",
            "    Found existing installation: nvidia-cufft-cu12 11.2.3.61\n",
            "    Uninstalling nvidia-cufft-cu12-11.2.3.61:\n",
            "      Successfully uninstalled nvidia-cufft-cu12-11.2.3.61\n",
            "  Attempting uninstall: nvidia-cuda-runtime-cu12\n",
            "    Found existing installation: nvidia-cuda-runtime-cu12 12.5.82\n",
            "    Uninstalling nvidia-cuda-runtime-cu12-12.5.82:\n",
            "      Successfully uninstalled nvidia-cuda-runtime-cu12-12.5.82\n",
            "  Attempting uninstall: nvidia-cuda-nvrtc-cu12\n",
            "    Found existing installation: nvidia-cuda-nvrtc-cu12 12.5.82\n",
            "    Uninstalling nvidia-cuda-nvrtc-cu12-12.5.82:\n",
            "      Successfully uninstalled nvidia-cuda-nvrtc-cu12-12.5.82\n",
            "  Attempting uninstall: nvidia-cuda-cupti-cu12\n",
            "    Found existing installation: nvidia-cuda-cupti-cu12 12.5.82\n",
            "    Uninstalling nvidia-cuda-cupti-cu12-12.5.82:\n",
            "      Successfully uninstalled nvidia-cuda-cupti-cu12-12.5.82\n",
            "  Attempting uninstall: nvidia-cublas-cu12\n",
            "    Found existing installation: nvidia-cublas-cu12 12.5.3.2\n",
            "    Uninstalling nvidia-cublas-cu12-12.5.3.2:\n",
            "      Successfully uninstalled nvidia-cublas-cu12-12.5.3.2\n",
            "  Attempting uninstall: numpy\n",
            "    Found existing installation: numpy 2.0.2\n",
            "    Uninstalling numpy-2.0.2:\n",
            "      Successfully uninstalled numpy-2.0.2\n",
            "  Attempting uninstall: nvidia-cusolver-cu12\n",
            "    Found existing installation: nvidia-cusolver-cu12 11.6.3.83\n",
            "    Uninstalling nvidia-cusolver-cu12-11.6.3.83:\n",
            "      Successfully uninstalled nvidia-cusolver-cu12-11.6.3.83\n",
            "  Attempting uninstall: nvidia-cudnn-cu12\n",
            "    Found existing installation: nvidia-cudnn-cu12 9.3.0.75\n",
            "    Uninstalling nvidia-cudnn-cu12-9.3.0.75:\n",
            "      Successfully uninstalled nvidia-cudnn-cu12-9.3.0.75\n",
            "  Attempting uninstall: torch\n",
            "    Found existing installation: torch 2.6.0+cu124\n",
            "    Uninstalling torch-2.6.0+cu124:\n",
            "      Successfully uninstalled torch-2.6.0+cu124\n",
            "  Attempting uninstall: torchvision\n",
            "    Found existing installation: torchvision 0.21.0+cu124\n",
            "    Uninstalling torchvision-0.21.0+cu124:\n",
            "      Successfully uninstalled torchvision-0.21.0+cu124\n",
            "  Attempting uninstall: torchaudio\n",
            "    Found existing installation: torchaudio 2.6.0+cu124\n",
            "    Uninstalling torchaudio-2.6.0+cu124:\n",
            "      Successfully uninstalled torchaudio-2.6.0+cu124\n",
            "\u001b[31mERROR: pip's dependency resolver does not currently take into account all the packages that are installed. This behaviour is the source of the following dependency conflicts.\n",
            "thinc 8.3.6 requires numpy<3.0.0,>=2.0.0, but you have numpy 1.26.2 which is incompatible.\n",
            "opencv-python-headless 4.12.0.88 requires numpy<2.3.0,>=2; python_version >= \"3.9\", but you have numpy 1.26.2 which is incompatible.\u001b[0m\u001b[31m\n",
            "\u001b[0mSuccessfully installed numpy-1.26.2 nvidia-cublas-cu12-12.1.3.1 nvidia-cuda-cupti-cu12-12.1.105 nvidia-cuda-nvrtc-cu12-12.1.105 nvidia-cuda-runtime-cu12-12.1.105 nvidia-cudnn-cu12-8.9.2.26 nvidia-cufft-cu12-11.0.2.54 nvidia-curand-cu12-10.3.2.106 nvidia-cusolver-cu12-11.4.5.107 nvidia-cusparse-cu12-12.1.0.106 nvidia-nccl-cu12-2.18.1 nvidia-nvtx-cu12-12.1.105 torch-2.1.1 torch_geometric-2.4.0 torchaudio-2.1.1 torchvision-0.16.1 triton-2.1.0\n"
          ]
        },
        {
          "output_type": "display_data",
          "data": {
            "application/vnd.colab-display-data+json": {
              "pip_warning": {
                "packages": [
                  "numpy"
                ]
              },
              "id": "7fc4e32792454f14bb61d659081a31b0"
            }
          },
          "metadata": {}
        }
      ],
      "source": [
        "# Installing all dependencies\n",
        "!pip install torch-scatter torch-sparse torch-cluster torch-spline-conv -f https://data.pyg.org/whl/torch-2.1.1+cu121.html\n",
        "!pip install torch_geometric==2.4.0 torchaudio==2.1.1 torchvision==0.16.1 numpy==1.26.2"
      ]
    },
    {
      "cell_type": "markdown",
      "source": [
        "# Running the model"
      ],
      "metadata": {
        "id": "7R__Am2Hkgbt"
      }
    },
    {
      "cell_type": "markdown",
      "source": [
        "## Training and testing pipeline"
      ],
      "metadata": {
        "id": "2hK95tJkosQ0"
      }
    },
    {
      "cell_type": "code",
      "execution_count": null,
      "metadata": {
        "colab": {
          "base_uri": "https://localhost:8080/"
        },
        "id": "yEJki70jvmxH",
        "outputId": "fc882320-4027-4166-afe0-d20e46c113b0"
      },
      "outputs": [
        {
          "output_type": "stream",
          "name": "stderr",
          "text": [
            "Epoch 1: 100%|██████████| 1/1 [00:00<00:00,  3.08it/s]\n"
          ]
        },
        {
          "output_type": "stream",
          "name": "stdout",
          "text": [
            "edge number (pre/after): (1026368/229242)\n",
            "train (correct/samples) : (475/989)\n",
            "test (correct/samples): (53/110)\n",
            "accuracy (train/test): (0.480283/0.481818)\n",
            "best accuracy in epoch 1 (train / test): (0.48028311133384705 / 0.48181816935539246)\n"
          ]
        },
        {
          "output_type": "stream",
          "name": "stderr",
          "text": [
            "Epoch 2: 100%|██████████| 1/1 [00:00<00:00,  8.70it/s]\n"
          ]
        },
        {
          "output_type": "stream",
          "name": "stdout",
          "text": [
            "edge number (pre/after): (1026368/237218)\n",
            "train (correct/samples) : (475/989)\n",
            "test (correct/samples): (53/110)\n",
            "accuracy (train/test): (0.480283/0.481818)\n",
            "best accuracy in epoch 2 (train / test): (0.48028311133384705 / 0.48181816935539246)\n"
          ]
        },
        {
          "output_type": "stream",
          "name": "stderr",
          "text": [
            "Epoch 3: 100%|██████████| 1/1 [00:00<00:00,  6.85it/s]\n"
          ]
        },
        {
          "output_type": "stream",
          "name": "stdout",
          "text": [
            "edge number (pre/after): (1026368/237496)\n",
            "train (correct/samples) : (475/989)\n",
            "test (correct/samples): (53/110)\n",
            "accuracy (train/test): (0.480283/0.481818)\n",
            "best accuracy in epoch 3 (train / test): (0.48028311133384705 / 0.48181816935539246)\n"
          ]
        },
        {
          "output_type": "stream",
          "name": "stderr",
          "text": [
            "Epoch 4: 100%|██████████| 1/1 [00:00<00:00,  7.50it/s]\n"
          ]
        },
        {
          "output_type": "stream",
          "name": "stdout",
          "text": [
            "edge number (pre/after): (1026368/237512)\n",
            "train (correct/samples) : (475/989)\n",
            "test (correct/samples): (53/110)\n",
            "accuracy (train/test): (0.480283/0.481818)\n",
            "best accuracy in epoch 4 (train / test): (0.48028311133384705 / 0.48181816935539246)\n"
          ]
        },
        {
          "output_type": "stream",
          "name": "stderr",
          "text": [
            "Epoch 5: 100%|██████████| 1/1 [00:00<00:00,  8.57it/s]\n"
          ]
        },
        {
          "output_type": "stream",
          "name": "stdout",
          "text": [
            "edge number (pre/after): (1026368/237512)\n",
            "train (correct/samples) : (475/989)\n",
            "test (correct/samples): (53/110)\n",
            "accuracy (train/test): (0.480283/0.481818)\n",
            "best accuracy in epoch 5 (train / test): (0.48028311133384705 / 0.48181816935539246)\n"
          ]
        },
        {
          "output_type": "stream",
          "name": "stderr",
          "text": [
            "Epoch 6: 100%|██████████| 1/1 [00:00<00:00,  8.80it/s]\n"
          ]
        },
        {
          "output_type": "stream",
          "name": "stdout",
          "text": [
            "edge number (pre/after): (1026368/237512)\n",
            "train (correct/samples) : (475/989)\n",
            "test (correct/samples): (53/110)\n",
            "accuracy (train/test): (0.480283/0.481818)\n",
            "best accuracy in epoch 6 (train / test): (0.48028311133384705 / 0.48181816935539246)\n"
          ]
        },
        {
          "output_type": "stream",
          "name": "stderr",
          "text": [
            "Epoch 7: 100%|██████████| 1/1 [00:00<00:00,  6.50it/s]\n"
          ]
        },
        {
          "output_type": "stream",
          "name": "stdout",
          "text": [
            "edge number (pre/after): (1026368/237512)\n",
            "train (correct/samples) : (475/989)\n",
            "test (correct/samples): (53/110)\n",
            "accuracy (train/test): (0.480283/0.481818)\n",
            "best accuracy in epoch 7 (train / test): (0.48028311133384705 / 0.48181816935539246)\n"
          ]
        },
        {
          "output_type": "stream",
          "name": "stderr",
          "text": [
            "Epoch 8: 100%|██████████| 1/1 [00:00<00:00,  7.85it/s]\n"
          ]
        },
        {
          "output_type": "stream",
          "name": "stdout",
          "text": [
            "edge number (pre/after): (1026368/237512)\n",
            "train (correct/samples) : (475/989)\n",
            "test (correct/samples): (53/110)\n",
            "accuracy (train/test): (0.480283/0.481818)\n",
            "best accuracy in epoch 8 (train / test): (0.48028311133384705 / 0.48181816935539246)\n"
          ]
        },
        {
          "output_type": "stream",
          "name": "stderr",
          "text": [
            "Epoch 9: 100%|██████████| 1/1 [00:00<00:00,  8.88it/s]\n"
          ]
        },
        {
          "output_type": "stream",
          "name": "stdout",
          "text": [
            "edge number (pre/after): (1026368/237512)\n",
            "train (correct/samples) : (475/989)\n",
            "test (correct/samples): (53/110)\n",
            "accuracy (train/test): (0.480283/0.481818)\n",
            "best accuracy in epoch 9 (train / test): (0.48028311133384705 / 0.48181816935539246)\n"
          ]
        },
        {
          "output_type": "stream",
          "name": "stderr",
          "text": [
            "Epoch 10: 100%|██████████| 1/1 [00:00<00:00,  8.42it/s]\n"
          ]
        },
        {
          "output_type": "stream",
          "name": "stdout",
          "text": [
            "edge number (pre/after): (1026368/237512)\n",
            "train (correct/samples) : (475/989)\n",
            "test (correct/samples): (53/110)\n",
            "accuracy (train/test): (0.480283/0.481818)\n",
            "best accuracy in epoch 10 (train / test): (0.48028311133384705 / 0.48181816935539246)\n"
          ]
        },
        {
          "output_type": "stream",
          "name": "stderr",
          "text": [
            "Epoch 11: 100%|██████████| 1/1 [00:00<00:00,  8.76it/s]\n"
          ]
        },
        {
          "output_type": "stream",
          "name": "stdout",
          "text": [
            "edge number (pre/after): (1026368/237512)\n",
            "train (correct/samples) : (475/989)\n",
            "test (correct/samples): (53/110)\n",
            "accuracy (train/test): (0.480283/0.481818)\n",
            "best accuracy in epoch 11 (train / test): (0.48028311133384705 / 0.48181816935539246)\n"
          ]
        },
        {
          "output_type": "stream",
          "name": "stderr",
          "text": [
            "Epoch 12: 100%|██████████| 1/1 [00:00<00:00,  8.65it/s]\n"
          ]
        },
        {
          "output_type": "stream",
          "name": "stdout",
          "text": [
            "edge number (pre/after): (1026368/237512)\n",
            "train (correct/samples) : (475/989)\n",
            "test (correct/samples): (53/110)\n",
            "accuracy (train/test): (0.480283/0.481818)\n",
            "best accuracy in epoch 12 (train / test): (0.48028311133384705 / 0.48181816935539246)\n"
          ]
        },
        {
          "output_type": "stream",
          "name": "stderr",
          "text": [
            "Epoch 13: 100%|██████████| 1/1 [00:00<00:00,  9.19it/s]\n"
          ]
        },
        {
          "output_type": "stream",
          "name": "stdout",
          "text": [
            "edge number (pre/after): (1026368/237512)\n",
            "train (correct/samples) : (475/989)\n",
            "test (correct/samples): (53/110)\n",
            "accuracy (train/test): (0.480283/0.481818)\n",
            "best accuracy in epoch 13 (train / test): (0.48028311133384705 / 0.48181816935539246)\n"
          ]
        },
        {
          "output_type": "stream",
          "name": "stderr",
          "text": [
            "Epoch 14: 100%|██████████| 1/1 [00:00<00:00,  8.37it/s]\n"
          ]
        },
        {
          "output_type": "stream",
          "name": "stdout",
          "text": [
            "edge number (pre/after): (1026368/237512)\n",
            "train (correct/samples) : (475/989)\n",
            "test (correct/samples): (53/110)\n",
            "accuracy (train/test): (0.480283/0.481818)\n",
            "best accuracy in epoch 14 (train / test): (0.48028311133384705 / 0.48181816935539246)\n"
          ]
        },
        {
          "output_type": "stream",
          "name": "stderr",
          "text": [
            "Epoch 15: 100%|██████████| 1/1 [00:00<00:00,  8.66it/s]\n"
          ]
        },
        {
          "output_type": "stream",
          "name": "stdout",
          "text": [
            "edge number (pre/after): (1026368/237512)\n",
            "train (correct/samples) : (475/989)\n",
            "test (correct/samples): (53/110)\n",
            "accuracy (train/test): (0.480283/0.481818)\n",
            "best accuracy in epoch 15 (train / test): (0.48028311133384705 / 0.48181816935539246)\n"
          ]
        },
        {
          "output_type": "stream",
          "name": "stderr",
          "text": [
            "Epoch 16: 100%|██████████| 1/1 [00:00<00:00,  7.74it/s]\n"
          ]
        },
        {
          "output_type": "stream",
          "name": "stdout",
          "text": [
            "edge number (pre/after): (1026368/237512)\n",
            "train (correct/samples) : (475/989)\n",
            "test (correct/samples): (53/110)\n",
            "accuracy (train/test): (0.480283/0.481818)\n",
            "best accuracy in epoch 16 (train / test): (0.48028311133384705 / 0.48181816935539246)\n"
          ]
        },
        {
          "output_type": "stream",
          "name": "stderr",
          "text": [
            "Epoch 17: 100%|██████████| 1/1 [00:00<00:00,  9.13it/s]\n"
          ]
        },
        {
          "output_type": "stream",
          "name": "stdout",
          "text": [
            "edge number (pre/after): (1026368/237512)\n",
            "train (correct/samples) : (475/989)\n",
            "test (correct/samples): (53/110)\n",
            "accuracy (train/test): (0.480283/0.481818)\n",
            "best accuracy in epoch 17 (train / test): (0.48028311133384705 / 0.48181816935539246)\n"
          ]
        },
        {
          "output_type": "stream",
          "name": "stderr",
          "text": [
            "Epoch 18: 100%|██████████| 1/1 [00:00<00:00,  9.20it/s]\n"
          ]
        },
        {
          "output_type": "stream",
          "name": "stdout",
          "text": [
            "edge number (pre/after): (1026368/237512)\n",
            "train (correct/samples) : (475/989)\n",
            "test (correct/samples): (53/110)\n",
            "accuracy (train/test): (0.480283/0.481818)\n",
            "best accuracy in epoch 18 (train / test): (0.48028311133384705 / 0.48181816935539246)\n"
          ]
        },
        {
          "output_type": "stream",
          "name": "stderr",
          "text": [
            "Epoch 19: 100%|██████████| 1/1 [00:00<00:00,  8.43it/s]\n"
          ]
        },
        {
          "output_type": "stream",
          "name": "stdout",
          "text": [
            "edge number (pre/after): (1026368/237512)\n",
            "train (correct/samples) : (475/989)\n",
            "test (correct/samples): (53/110)\n",
            "accuracy (train/test): (0.480283/0.481818)\n",
            "best accuracy in epoch 19 (train / test): (0.48028311133384705 / 0.48181816935539246)\n"
          ]
        },
        {
          "output_type": "stream",
          "name": "stderr",
          "text": [
            "Epoch 20: 100%|██████████| 1/1 [00:00<00:00,  7.38it/s]\n"
          ]
        },
        {
          "output_type": "stream",
          "name": "stdout",
          "text": [
            "edge number (pre/after): (1026368/237512)\n",
            "train (correct/samples) : (475/989)\n",
            "test (correct/samples): (53/110)\n",
            "accuracy (train/test): (0.480283/0.481818)\n",
            "best accuracy in epoch 20 (train / test): (0.48028311133384705 / 0.48181816935539246)\n"
          ]
        },
        {
          "output_type": "stream",
          "name": "stderr",
          "text": [
            "Epoch 21: 100%|██████████| 1/1 [00:00<00:00,  8.37it/s]\n"
          ]
        },
        {
          "output_type": "stream",
          "name": "stdout",
          "text": [
            "edge number (pre/after): (1026368/237512)\n",
            "train (correct/samples) : (475/989)\n",
            "test (correct/samples): (53/110)\n",
            "accuracy (train/test): (0.480283/0.481818)\n",
            "best accuracy in epoch 21 (train / test): (0.48028311133384705 / 0.48181816935539246)\n"
          ]
        },
        {
          "output_type": "stream",
          "name": "stderr",
          "text": [
            "Epoch 22: 100%|██████████| 1/1 [00:00<00:00,  7.91it/s]\n"
          ]
        },
        {
          "output_type": "stream",
          "name": "stdout",
          "text": [
            "edge number (pre/after): (1026368/237512)\n",
            "train (correct/samples) : (475/989)\n",
            "test (correct/samples): (53/110)\n",
            "accuracy (train/test): (0.480283/0.481818)\n",
            "best accuracy in epoch 22 (train / test): (0.48028311133384705 / 0.48181816935539246)\n"
          ]
        },
        {
          "output_type": "stream",
          "name": "stderr",
          "text": [
            "Epoch 23: 100%|██████████| 1/1 [00:00<00:00,  8.84it/s]\n"
          ]
        },
        {
          "output_type": "stream",
          "name": "stdout",
          "text": [
            "edge number (pre/after): (1026368/237512)\n",
            "train (correct/samples) : (475/989)\n",
            "test (correct/samples): (53/110)\n",
            "accuracy (train/test): (0.480283/0.481818)\n",
            "best accuracy in epoch 23 (train / test): (0.48028311133384705 / 0.48181816935539246)\n"
          ]
        },
        {
          "output_type": "stream",
          "name": "stderr",
          "text": [
            "Epoch 24: 100%|██████████| 1/1 [00:00<00:00,  6.01it/s]\n"
          ]
        },
        {
          "output_type": "stream",
          "name": "stdout",
          "text": [
            "edge number (pre/after): (1026368/237512)\n",
            "train (correct/samples) : (475/989)\n",
            "test (correct/samples): (53/110)\n",
            "accuracy (train/test): (0.480283/0.481818)\n",
            "best accuracy in epoch 24 (train / test): (0.48028311133384705 / 0.48181816935539246)\n"
          ]
        },
        {
          "output_type": "stream",
          "name": "stderr",
          "text": [
            "Epoch 25: 100%|██████████| 1/1 [00:00<00:00,  8.87it/s]\n"
          ]
        },
        {
          "output_type": "stream",
          "name": "stdout",
          "text": [
            "edge number (pre/after): (1026368/237512)\n",
            "train (correct/samples) : (475/989)\n",
            "test (correct/samples): (53/110)\n",
            "accuracy (train/test): (0.480283/0.481818)\n",
            "best accuracy in epoch 25 (train / test): (0.48028311133384705 / 0.48181816935539246)\n"
          ]
        },
        {
          "output_type": "stream",
          "name": "stderr",
          "text": [
            "Epoch 26: 100%|██████████| 1/1 [00:00<00:00,  8.60it/s]\n"
          ]
        },
        {
          "output_type": "stream",
          "name": "stdout",
          "text": [
            "edge number (pre/after): (1026368/237512)\n",
            "train (correct/samples) : (475/989)\n",
            "test (correct/samples): (53/110)\n",
            "accuracy (train/test): (0.480283/0.481818)\n",
            "best accuracy in epoch 26 (train / test): (0.48028311133384705 / 0.48181816935539246)\n"
          ]
        },
        {
          "output_type": "stream",
          "name": "stderr",
          "text": [
            "Epoch 27: 100%|██████████| 1/1 [00:00<00:00,  8.62it/s]\n"
          ]
        },
        {
          "output_type": "stream",
          "name": "stdout",
          "text": [
            "edge number (pre/after): (1026368/237512)\n",
            "train (correct/samples) : (475/989)\n",
            "test (correct/samples): (53/110)\n",
            "accuracy (train/test): (0.480283/0.481818)\n",
            "best accuracy in epoch 27 (train / test): (0.48028311133384705 / 0.48181816935539246)\n"
          ]
        },
        {
          "output_type": "stream",
          "name": "stderr",
          "text": [
            "Epoch 28: 100%|██████████| 1/1 [00:00<00:00,  8.91it/s]\n"
          ]
        },
        {
          "output_type": "stream",
          "name": "stdout",
          "text": [
            "edge number (pre/after): (1026368/237512)\n",
            "train (correct/samples) : (475/989)\n",
            "test (correct/samples): (53/110)\n",
            "accuracy (train/test): (0.480283/0.481818)\n",
            "best accuracy in epoch 28 (train / test): (0.48028311133384705 / 0.48181816935539246)\n"
          ]
        },
        {
          "output_type": "stream",
          "name": "stderr",
          "text": [
            "Epoch 29: 100%|██████████| 1/1 [00:00<00:00,  8.72it/s]\n"
          ]
        },
        {
          "output_type": "stream",
          "name": "stdout",
          "text": [
            "edge number (pre/after): (1026368/237512)\n",
            "train (correct/samples) : (475/989)\n",
            "test (correct/samples): (53/110)\n",
            "accuracy (train/test): (0.480283/0.481818)\n",
            "best accuracy in epoch 29 (train / test): (0.48028311133384705 / 0.48181816935539246)\n"
          ]
        },
        {
          "output_type": "stream",
          "name": "stderr",
          "text": [
            "Epoch 30: 100%|██████████| 1/1 [00:00<00:00,  8.78it/s]\n"
          ]
        },
        {
          "output_type": "stream",
          "name": "stdout",
          "text": [
            "edge number (pre/after): (1026368/237512)\n",
            "train (correct/samples) : (475/989)\n",
            "test (correct/samples): (53/110)\n",
            "accuracy (train/test): (0.480283/0.481818)\n",
            "best accuracy in epoch 30 (train / test): (0.48028311133384705 / 0.48181816935539246)\n"
          ]
        },
        {
          "output_type": "stream",
          "name": "stderr",
          "text": [
            "Epoch 31: 100%|██████████| 1/1 [00:00<00:00,  8.36it/s]\n"
          ]
        },
        {
          "output_type": "stream",
          "name": "stdout",
          "text": [
            "edge number (pre/after): (1026368/237512)\n",
            "train (correct/samples) : (475/989)\n",
            "test (correct/samples): (53/110)\n",
            "accuracy (train/test): (0.480283/0.481818)\n",
            "best accuracy in epoch 31 (train / test): (0.48028311133384705 / 0.48181816935539246)\n"
          ]
        },
        {
          "output_type": "stream",
          "name": "stderr",
          "text": [
            "Epoch 32: 100%|██████████| 1/1 [00:00<00:00,  7.81it/s]\n"
          ]
        },
        {
          "output_type": "stream",
          "name": "stdout",
          "text": [
            "edge number (pre/after): (1026368/237512)\n",
            "train (correct/samples) : (475/989)\n",
            "test (correct/samples): (53/110)\n",
            "accuracy (train/test): (0.480283/0.481818)\n",
            "best accuracy in epoch 32 (train / test): (0.48028311133384705 / 0.48181816935539246)\n"
          ]
        },
        {
          "output_type": "stream",
          "name": "stderr",
          "text": [
            "Epoch 33: 100%|██████████| 1/1 [00:00<00:00,  5.36it/s]\n"
          ]
        },
        {
          "output_type": "stream",
          "name": "stdout",
          "text": [
            "edge number (pre/after): (1026368/237512)\n",
            "train (correct/samples) : (475/989)\n",
            "test (correct/samples): (53/110)\n",
            "accuracy (train/test): (0.480283/0.481818)\n",
            "best accuracy in epoch 33 (train / test): (0.48028311133384705 / 0.48181816935539246)\n"
          ]
        },
        {
          "output_type": "stream",
          "name": "stderr",
          "text": [
            "Epoch 34: 100%|██████████| 1/1 [00:00<00:00,  8.39it/s]\n"
          ]
        },
        {
          "output_type": "stream",
          "name": "stdout",
          "text": [
            "edge number (pre/after): (1026368/237512)\n",
            "train (correct/samples) : (475/989)\n",
            "test (correct/samples): (53/110)\n",
            "accuracy (train/test): (0.480283/0.481818)\n",
            "best accuracy in epoch 34 (train / test): (0.48028311133384705 / 0.48181816935539246)\n"
          ]
        },
        {
          "output_type": "stream",
          "name": "stderr",
          "text": [
            "Epoch 35: 100%|██████████| 1/1 [00:00<00:00,  8.46it/s]\n"
          ]
        },
        {
          "output_type": "stream",
          "name": "stdout",
          "text": [
            "edge number (pre/after): (1026368/237512)\n",
            "train (correct/samples) : (475/989)\n",
            "test (correct/samples): (53/110)\n",
            "accuracy (train/test): (0.480283/0.481818)\n",
            "best accuracy in epoch 35 (train / test): (0.48028311133384705 / 0.48181816935539246)\n"
          ]
        },
        {
          "output_type": "stream",
          "name": "stderr",
          "text": [
            "Epoch 36: 100%|██████████| 1/1 [00:00<00:00,  8.63it/s]\n"
          ]
        },
        {
          "output_type": "stream",
          "name": "stdout",
          "text": [
            "edge number (pre/after): (1026368/237512)\n",
            "train (correct/samples) : (475/989)\n",
            "test (correct/samples): (53/110)\n",
            "accuracy (train/test): (0.480283/0.481818)\n",
            "best accuracy in epoch 36 (train / test): (0.48028311133384705 / 0.48181816935539246)\n"
          ]
        },
        {
          "output_type": "stream",
          "name": "stderr",
          "text": [
            "Epoch 37: 100%|██████████| 1/1 [00:00<00:00,  6.56it/s]\n"
          ]
        },
        {
          "output_type": "stream",
          "name": "stdout",
          "text": [
            "edge number (pre/after): (1026368/237512)\n",
            "train (correct/samples) : (475/989)\n",
            "test (correct/samples): (53/110)\n",
            "accuracy (train/test): (0.480283/0.481818)\n",
            "best accuracy in epoch 37 (train / test): (0.48028311133384705 / 0.48181816935539246)\n"
          ]
        },
        {
          "output_type": "stream",
          "name": "stderr",
          "text": [
            "Epoch 38: 100%|██████████| 1/1 [00:00<00:00,  7.73it/s]\n"
          ]
        },
        {
          "output_type": "stream",
          "name": "stdout",
          "text": [
            "edge number (pre/after): (1026368/237512)\n",
            "train (correct/samples) : (475/989)\n",
            "test (correct/samples): (53/110)\n",
            "accuracy (train/test): (0.480283/0.481818)\n",
            "best accuracy in epoch 38 (train / test): (0.48028311133384705 / 0.48181816935539246)\n"
          ]
        },
        {
          "output_type": "stream",
          "name": "stderr",
          "text": [
            "Epoch 39: 100%|██████████| 1/1 [00:00<00:00,  8.74it/s]\n"
          ]
        },
        {
          "output_type": "stream",
          "name": "stdout",
          "text": [
            "edge number (pre/after): (1026368/237512)\n",
            "train (correct/samples) : (475/989)\n",
            "test (correct/samples): (53/110)\n",
            "accuracy (train/test): (0.480283/0.481818)\n",
            "best accuracy in epoch 39 (train / test): (0.48028311133384705 / 0.48181816935539246)\n"
          ]
        },
        {
          "output_type": "stream",
          "name": "stderr",
          "text": [
            "Epoch 40: 100%|██████████| 1/1 [00:00<00:00,  3.46it/s]\n"
          ]
        },
        {
          "output_type": "stream",
          "name": "stdout",
          "text": [
            "edge number (pre/after): (1026368/237512)\n",
            "train (correct/samples) : (475/989)\n",
            "test (correct/samples): (53/110)\n",
            "accuracy (train/test): (0.480283/0.481818)\n",
            "best accuracy in epoch 40 (train / test): (0.48028311133384705 / 0.48181816935539246)\n"
          ]
        },
        {
          "output_type": "stream",
          "name": "stderr",
          "text": [
            "Epoch 41: 100%|██████████| 1/1 [00:00<00:00,  5.80it/s]\n"
          ]
        },
        {
          "output_type": "stream",
          "name": "stdout",
          "text": [
            "edge number (pre/after): (1026368/237512)\n",
            "train (correct/samples) : (475/989)\n",
            "test (correct/samples): (53/110)\n",
            "accuracy (train/test): (0.480283/0.481818)\n",
            "best accuracy in epoch 41 (train / test): (0.48028311133384705 / 0.48181816935539246)\n"
          ]
        },
        {
          "output_type": "stream",
          "name": "stderr",
          "text": [
            "Epoch 42: 100%|██████████| 1/1 [00:00<00:00,  8.52it/s]\n"
          ]
        },
        {
          "output_type": "stream",
          "name": "stdout",
          "text": [
            "edge number (pre/after): (1026368/237512)\n",
            "train (correct/samples) : (475/989)\n",
            "test (correct/samples): (53/110)\n",
            "accuracy (train/test): (0.480283/0.481818)\n",
            "best accuracy in epoch 42 (train / test): (0.48028311133384705 / 0.48181816935539246)\n"
          ]
        },
        {
          "output_type": "stream",
          "name": "stderr",
          "text": [
            "Epoch 43: 100%|██████████| 1/1 [00:00<00:00,  8.61it/s]\n"
          ]
        },
        {
          "output_type": "stream",
          "name": "stdout",
          "text": [
            "edge number (pre/after): (1026368/237512)\n",
            "train (correct/samples) : (475/989)\n",
            "test (correct/samples): (53/110)\n",
            "accuracy (train/test): (0.480283/0.481818)\n",
            "best accuracy in epoch 43 (train / test): (0.48028311133384705 / 0.48181816935539246)\n"
          ]
        },
        {
          "output_type": "stream",
          "name": "stderr",
          "text": [
            "Epoch 44: 100%|██████████| 1/1 [00:00<00:00,  8.48it/s]\n"
          ]
        },
        {
          "output_type": "stream",
          "name": "stdout",
          "text": [
            "edge number (pre/after): (1026368/237512)\n",
            "train (correct/samples) : (475/989)\n",
            "test (correct/samples): (53/110)\n",
            "accuracy (train/test): (0.480283/0.481818)\n",
            "best accuracy in epoch 44 (train / test): (0.48028311133384705 / 0.48181816935539246)\n"
          ]
        },
        {
          "output_type": "stream",
          "name": "stderr",
          "text": [
            "Epoch 45: 100%|██████████| 1/1 [00:00<00:00,  8.40it/s]\n"
          ]
        },
        {
          "output_type": "stream",
          "name": "stdout",
          "text": [
            "edge number (pre/after): (1026368/237512)\n",
            "train (correct/samples) : (475/989)\n",
            "test (correct/samples): (53/110)\n",
            "accuracy (train/test): (0.480283/0.481818)\n",
            "best accuracy in epoch 45 (train / test): (0.48028311133384705 / 0.48181816935539246)\n"
          ]
        },
        {
          "output_type": "stream",
          "name": "stderr",
          "text": [
            "Epoch 46: 100%|██████████| 1/1 [00:00<00:00,  8.31it/s]\n"
          ]
        },
        {
          "output_type": "stream",
          "name": "stdout",
          "text": [
            "edge number (pre/after): (1026368/237512)\n",
            "train (correct/samples) : (475/989)\n",
            "test (correct/samples): (53/110)\n",
            "accuracy (train/test): (0.480283/0.481818)\n",
            "best accuracy in epoch 46 (train / test): (0.48028311133384705 / 0.48181816935539246)\n"
          ]
        },
        {
          "output_type": "stream",
          "name": "stderr",
          "text": [
            "Epoch 47: 100%|██████████| 1/1 [00:00<00:00,  8.37it/s]\n"
          ]
        },
        {
          "output_type": "stream",
          "name": "stdout",
          "text": [
            "edge number (pre/after): (1026368/237512)\n",
            "train (correct/samples) : (475/989)\n",
            "test (correct/samples): (53/110)\n",
            "accuracy (train/test): (0.480283/0.481818)\n",
            "best accuracy in epoch 47 (train / test): (0.48028311133384705 / 0.48181816935539246)\n"
          ]
        },
        {
          "output_type": "stream",
          "name": "stderr",
          "text": [
            "Epoch 48: 100%|██████████| 1/1 [00:00<00:00,  8.69it/s]\n"
          ]
        },
        {
          "output_type": "stream",
          "name": "stdout",
          "text": [
            "edge number (pre/after): (1026368/237512)\n",
            "train (correct/samples) : (475/989)\n",
            "test (correct/samples): (53/110)\n",
            "accuracy (train/test): (0.480283/0.481818)\n",
            "best accuracy in epoch 48 (train / test): (0.48028311133384705 / 0.48181816935539246)\n"
          ]
        },
        {
          "output_type": "stream",
          "name": "stderr",
          "text": [
            "Epoch 49: 100%|██████████| 1/1 [00:00<00:00,  7.76it/s]\n"
          ]
        },
        {
          "output_type": "stream",
          "name": "stdout",
          "text": [
            "edge number (pre/after): (1026368/237512)\n",
            "train (correct/samples) : (475/989)\n",
            "test (correct/samples): (53/110)\n",
            "accuracy (train/test): (0.480283/0.481818)\n",
            "best accuracy in epoch 49 (train / test): (0.48028311133384705 / 0.48181816935539246)\n"
          ]
        },
        {
          "output_type": "stream",
          "name": "stderr",
          "text": [
            "Epoch 50: 100%|██████████| 1/1 [00:00<00:00,  8.03it/s]\n"
          ]
        },
        {
          "output_type": "stream",
          "name": "stdout",
          "text": [
            "edge number (pre/after): (1026368/237512)\n",
            "train (correct/samples) : (475/989)\n",
            "test (correct/samples): (53/110)\n",
            "accuracy (train/test): (0.480283/0.481818)\n",
            "best accuracy in epoch 50 (train / test): (0.48028311133384705 / 0.48181816935539246)\n"
          ]
        },
        {
          "output_type": "stream",
          "name": "stderr",
          "text": [
            "Epoch 51: 100%|██████████| 1/1 [00:00<00:00,  8.51it/s]\n"
          ]
        },
        {
          "output_type": "stream",
          "name": "stdout",
          "text": [
            "edge number (pre/after): (1026368/237512)\n",
            "train (correct/samples) : (475/989)\n",
            "test (correct/samples): (53/110)\n",
            "accuracy (train/test): (0.480283/0.481818)\n",
            "best accuracy in epoch 51 (train / test): (0.48028311133384705 / 0.48181816935539246)\n"
          ]
        },
        {
          "output_type": "stream",
          "name": "stderr",
          "text": [
            "Epoch 52: 100%|██████████| 1/1 [00:00<00:00,  8.45it/s]\n"
          ]
        },
        {
          "output_type": "stream",
          "name": "stdout",
          "text": [
            "edge number (pre/after): (1026368/237512)\n",
            "train (correct/samples) : (475/989)\n",
            "test (correct/samples): (53/110)\n",
            "accuracy (train/test): (0.480283/0.481818)\n",
            "best accuracy in epoch 52 (train / test): (0.48028311133384705 / 0.48181816935539246)\n"
          ]
        },
        {
          "output_type": "stream",
          "name": "stderr",
          "text": [
            "Epoch 53: 100%|██████████| 1/1 [00:00<00:00,  8.88it/s]\n"
          ]
        },
        {
          "output_type": "stream",
          "name": "stdout",
          "text": [
            "edge number (pre/after): (1026368/237512)\n",
            "train (correct/samples) : (475/989)\n",
            "test (correct/samples): (53/110)\n",
            "accuracy (train/test): (0.480283/0.481818)\n",
            "best accuracy in epoch 53 (train / test): (0.48028311133384705 / 0.48181816935539246)\n"
          ]
        },
        {
          "output_type": "stream",
          "name": "stderr",
          "text": [
            "Epoch 54: 100%|██████████| 1/1 [00:00<00:00,  6.94it/s]\n"
          ]
        },
        {
          "output_type": "stream",
          "name": "stdout",
          "text": [
            "edge number (pre/after): (1026368/237512)\n",
            "train (correct/samples) : (475/989)\n",
            "test (correct/samples): (53/110)\n",
            "accuracy (train/test): (0.480283/0.481818)\n",
            "best accuracy in epoch 54 (train / test): (0.48028311133384705 / 0.48181816935539246)\n"
          ]
        },
        {
          "output_type": "stream",
          "name": "stderr",
          "text": [
            "Epoch 55: 100%|██████████| 1/1 [00:00<00:00,  8.90it/s]\n"
          ]
        },
        {
          "output_type": "stream",
          "name": "stdout",
          "text": [
            "edge number (pre/after): (1026368/237512)\n",
            "train (correct/samples) : (475/989)\n",
            "test (correct/samples): (53/110)\n",
            "accuracy (train/test): (0.480283/0.481818)\n",
            "best accuracy in epoch 55 (train / test): (0.48028311133384705 / 0.48181816935539246)\n"
          ]
        },
        {
          "output_type": "stream",
          "name": "stderr",
          "text": [
            "Epoch 56: 100%|██████████| 1/1 [00:00<00:00,  9.06it/s]\n"
          ]
        },
        {
          "output_type": "stream",
          "name": "stdout",
          "text": [
            "edge number (pre/after): (1026368/237512)\n",
            "train (correct/samples) : (475/989)\n",
            "test (correct/samples): (53/110)\n",
            "accuracy (train/test): (0.480283/0.481818)\n",
            "best accuracy in epoch 56 (train / test): (0.48028311133384705 / 0.48181816935539246)\n"
          ]
        },
        {
          "output_type": "stream",
          "name": "stderr",
          "text": [
            "Epoch 57: 100%|██████████| 1/1 [00:00<00:00,  8.67it/s]\n"
          ]
        },
        {
          "output_type": "stream",
          "name": "stdout",
          "text": [
            "edge number (pre/after): (1026368/237512)\n",
            "train (correct/samples) : (475/989)\n",
            "test (correct/samples): (53/110)\n",
            "accuracy (train/test): (0.480283/0.481818)\n",
            "best accuracy in epoch 57 (train / test): (0.48028311133384705 / 0.48181816935539246)\n"
          ]
        },
        {
          "output_type": "stream",
          "name": "stderr",
          "text": [
            "Epoch 58: 100%|██████████| 1/1 [00:00<00:00,  6.97it/s]\n"
          ]
        },
        {
          "output_type": "stream",
          "name": "stdout",
          "text": [
            "edge number (pre/after): (1026368/237512)\n",
            "train (correct/samples) : (475/989)\n",
            "test (correct/samples): (53/110)\n",
            "accuracy (train/test): (0.480283/0.481818)\n",
            "best accuracy in epoch 58 (train / test): (0.48028311133384705 / 0.48181816935539246)\n"
          ]
        },
        {
          "output_type": "stream",
          "name": "stderr",
          "text": [
            "Epoch 59: 100%|██████████| 1/1 [00:00<00:00,  8.93it/s]\n"
          ]
        },
        {
          "output_type": "stream",
          "name": "stdout",
          "text": [
            "edge number (pre/after): (1026368/237512)\n",
            "train (correct/samples) : (475/989)\n",
            "test (correct/samples): (53/110)\n",
            "accuracy (train/test): (0.480283/0.481818)\n",
            "best accuracy in epoch 59 (train / test): (0.48028311133384705 / 0.48181816935539246)\n"
          ]
        },
        {
          "output_type": "stream",
          "name": "stderr",
          "text": [
            "Epoch 60: 100%|██████████| 1/1 [00:00<00:00,  8.04it/s]\n"
          ]
        },
        {
          "output_type": "stream",
          "name": "stdout",
          "text": [
            "edge number (pre/after): (1026368/237512)\n",
            "train (correct/samples) : (475/989)\n",
            "test (correct/samples): (53/110)\n",
            "accuracy (train/test): (0.480283/0.481818)\n",
            "best accuracy in epoch 60 (train / test): (0.48028311133384705 / 0.48181816935539246)\n"
          ]
        },
        {
          "output_type": "stream",
          "name": "stderr",
          "text": [
            "Epoch 61: 100%|██████████| 1/1 [00:00<00:00,  9.11it/s]\n"
          ]
        },
        {
          "output_type": "stream",
          "name": "stdout",
          "text": [
            "edge number (pre/after): (1026368/237512)\n",
            "train (correct/samples) : (475/989)\n",
            "test (correct/samples): (53/110)\n",
            "accuracy (train/test): (0.480283/0.481818)\n",
            "best accuracy in epoch 61 (train / test): (0.48028311133384705 / 0.48181816935539246)\n"
          ]
        },
        {
          "output_type": "stream",
          "name": "stderr",
          "text": [
            "Epoch 62: 100%|██████████| 1/1 [00:00<00:00,  8.29it/s]\n"
          ]
        },
        {
          "output_type": "stream",
          "name": "stdout",
          "text": [
            "edge number (pre/after): (1026368/237512)\n",
            "train (correct/samples) : (475/989)\n",
            "test (correct/samples): (53/110)\n",
            "accuracy (train/test): (0.480283/0.481818)\n",
            "best accuracy in epoch 62 (train / test): (0.48028311133384705 / 0.48181816935539246)\n"
          ]
        },
        {
          "output_type": "stream",
          "name": "stderr",
          "text": [
            "Epoch 63: 100%|██████████| 1/1 [00:00<00:00,  8.97it/s]\n"
          ]
        },
        {
          "output_type": "stream",
          "name": "stdout",
          "text": [
            "edge number (pre/after): (1026368/237512)\n",
            "train (correct/samples) : (475/989)\n",
            "test (correct/samples): (53/110)\n",
            "accuracy (train/test): (0.480283/0.481818)\n",
            "best accuracy in epoch 63 (train / test): (0.48028311133384705 / 0.48181816935539246)\n"
          ]
        },
        {
          "output_type": "stream",
          "name": "stderr",
          "text": [
            "Epoch 64: 100%|██████████| 1/1 [00:00<00:00,  8.90it/s]\n"
          ]
        },
        {
          "output_type": "stream",
          "name": "stdout",
          "text": [
            "edge number (pre/after): (1026368/237512)\n",
            "train (correct/samples) : (475/989)\n",
            "test (correct/samples): (53/110)\n",
            "accuracy (train/test): (0.480283/0.481818)\n",
            "best accuracy in epoch 64 (train / test): (0.48028311133384705 / 0.48181816935539246)\n"
          ]
        },
        {
          "output_type": "stream",
          "name": "stderr",
          "text": [
            "Epoch 65: 100%|██████████| 1/1 [00:00<00:00,  8.93it/s]\n"
          ]
        },
        {
          "output_type": "stream",
          "name": "stdout",
          "text": [
            "edge number (pre/after): (1026368/237512)\n",
            "train (correct/samples) : (475/989)\n",
            "test (correct/samples): (53/110)\n",
            "accuracy (train/test): (0.480283/0.481818)\n",
            "best accuracy in epoch 65 (train / test): (0.48028311133384705 / 0.48181816935539246)\n"
          ]
        },
        {
          "output_type": "stream",
          "name": "stderr",
          "text": [
            "Epoch 66: 100%|██████████| 1/1 [00:00<00:00,  8.80it/s]\n"
          ]
        },
        {
          "output_type": "stream",
          "name": "stdout",
          "text": [
            "edge number (pre/after): (1026368/237512)\n",
            "train (correct/samples) : (475/989)\n",
            "test (correct/samples): (53/110)\n",
            "accuracy (train/test): (0.480283/0.481818)\n",
            "best accuracy in epoch 66 (train / test): (0.48028311133384705 / 0.48181816935539246)\n"
          ]
        },
        {
          "output_type": "stream",
          "name": "stderr",
          "text": [
            "Epoch 67: 100%|██████████| 1/1 [00:00<00:00,  5.65it/s]\n"
          ]
        },
        {
          "output_type": "stream",
          "name": "stdout",
          "text": [
            "edge number (pre/after): (1026368/237512)\n",
            "train (correct/samples) : (475/989)\n",
            "test (correct/samples): (53/110)\n",
            "accuracy (train/test): (0.480283/0.481818)\n",
            "best accuracy in epoch 67 (train / test): (0.48028311133384705 / 0.48181816935539246)\n"
          ]
        },
        {
          "output_type": "stream",
          "name": "stderr",
          "text": [
            "Epoch 68: 100%|██████████| 1/1 [00:00<00:00,  8.89it/s]\n"
          ]
        },
        {
          "output_type": "stream",
          "name": "stdout",
          "text": [
            "edge number (pre/after): (1026368/237512)\n",
            "train (correct/samples) : (475/989)\n",
            "test (correct/samples): (53/110)\n",
            "accuracy (train/test): (0.480283/0.481818)\n",
            "best accuracy in epoch 68 (train / test): (0.48028311133384705 / 0.48181816935539246)\n"
          ]
        },
        {
          "output_type": "stream",
          "name": "stderr",
          "text": [
            "Epoch 69: 100%|██████████| 1/1 [00:00<00:00,  8.97it/s]\n"
          ]
        },
        {
          "output_type": "stream",
          "name": "stdout",
          "text": [
            "edge number (pre/after): (1026368/237512)\n",
            "train (correct/samples) : (475/989)\n",
            "test (correct/samples): (53/110)\n",
            "accuracy (train/test): (0.480283/0.481818)\n",
            "best accuracy in epoch 69 (train / test): (0.48028311133384705 / 0.48181816935539246)\n"
          ]
        },
        {
          "output_type": "stream",
          "name": "stderr",
          "text": [
            "Epoch 70: 100%|██████████| 1/1 [00:00<00:00,  8.78it/s]\n"
          ]
        },
        {
          "output_type": "stream",
          "name": "stdout",
          "text": [
            "edge number (pre/after): (1026368/237512)\n",
            "train (correct/samples) : (475/989)\n",
            "test (correct/samples): (53/110)\n",
            "accuracy (train/test): (0.480283/0.481818)\n",
            "best accuracy in epoch 70 (train / test): (0.48028311133384705 / 0.48181816935539246)\n"
          ]
        },
        {
          "output_type": "stream",
          "name": "stderr",
          "text": [
            "Epoch 71: 100%|██████████| 1/1 [00:00<00:00,  6.68it/s]\n"
          ]
        },
        {
          "output_type": "stream",
          "name": "stdout",
          "text": [
            "edge number (pre/after): (1026368/237512)\n",
            "train (correct/samples) : (475/989)\n",
            "test (correct/samples): (53/110)\n",
            "accuracy (train/test): (0.480283/0.481818)\n",
            "best accuracy in epoch 71 (train / test): (0.48028311133384705 / 0.48181816935539246)\n"
          ]
        },
        {
          "output_type": "stream",
          "name": "stderr",
          "text": [
            "Epoch 72: 100%|██████████| 1/1 [00:00<00:00,  8.12it/s]\n"
          ]
        },
        {
          "output_type": "stream",
          "name": "stdout",
          "text": [
            "edge number (pre/after): (1026368/237512)\n",
            "train (correct/samples) : (475/989)\n",
            "test (correct/samples): (53/110)\n",
            "accuracy (train/test): (0.480283/0.481818)\n",
            "best accuracy in epoch 72 (train / test): (0.48028311133384705 / 0.48181816935539246)\n"
          ]
        },
        {
          "output_type": "stream",
          "name": "stderr",
          "text": [
            "Epoch 73: 100%|██████████| 1/1 [00:00<00:00,  8.65it/s]\n"
          ]
        },
        {
          "output_type": "stream",
          "name": "stdout",
          "text": [
            "edge number (pre/after): (1026368/237512)\n",
            "train (correct/samples) : (475/989)\n",
            "test (correct/samples): (53/110)\n",
            "accuracy (train/test): (0.480283/0.481818)\n",
            "best accuracy in epoch 73 (train / test): (0.48028311133384705 / 0.48181816935539246)\n"
          ]
        },
        {
          "output_type": "stream",
          "name": "stderr",
          "text": [
            "Epoch 74: 100%|██████████| 1/1 [00:00<00:00,  7.72it/s]\n"
          ]
        },
        {
          "output_type": "stream",
          "name": "stdout",
          "text": [
            "edge number (pre/after): (1026368/237512)\n",
            "train (correct/samples) : (475/989)\n",
            "test (correct/samples): (53/110)\n",
            "accuracy (train/test): (0.480283/0.481818)\n",
            "best accuracy in epoch 74 (train / test): (0.48028311133384705 / 0.48181816935539246)\n"
          ]
        },
        {
          "output_type": "stream",
          "name": "stderr",
          "text": [
            "Epoch 75: 100%|██████████| 1/1 [00:00<00:00,  8.30it/s]\n"
          ]
        },
        {
          "output_type": "stream",
          "name": "stdout",
          "text": [
            "edge number (pre/after): (1026368/237512)\n",
            "train (correct/samples) : (475/989)\n",
            "test (correct/samples): (53/110)\n",
            "accuracy (train/test): (0.480283/0.481818)\n",
            "best accuracy in epoch 75 (train / test): (0.48028311133384705 / 0.48181816935539246)\n"
          ]
        },
        {
          "output_type": "stream",
          "name": "stderr",
          "text": [
            "Epoch 76: 100%|██████████| 1/1 [00:00<00:00,  8.64it/s]\n"
          ]
        },
        {
          "output_type": "stream",
          "name": "stdout",
          "text": [
            "edge number (pre/after): (1026368/237512)\n",
            "train (correct/samples) : (475/989)\n",
            "test (correct/samples): (53/110)\n",
            "accuracy (train/test): (0.480283/0.481818)\n",
            "best accuracy in epoch 76 (train / test): (0.48028311133384705 / 0.48181816935539246)\n"
          ]
        },
        {
          "output_type": "stream",
          "name": "stderr",
          "text": [
            "Epoch 77: 100%|██████████| 1/1 [00:00<00:00,  7.96it/s]\n"
          ]
        },
        {
          "output_type": "stream",
          "name": "stdout",
          "text": [
            "edge number (pre/after): (1026368/237512)\n",
            "train (correct/samples) : (475/989)\n",
            "test (correct/samples): (53/110)\n",
            "accuracy (train/test): (0.480283/0.481818)\n",
            "best accuracy in epoch 77 (train / test): (0.48028311133384705 / 0.48181816935539246)\n"
          ]
        },
        {
          "output_type": "stream",
          "name": "stderr",
          "text": [
            "Epoch 78: 100%|██████████| 1/1 [00:00<00:00,  7.64it/s]\n"
          ]
        },
        {
          "output_type": "stream",
          "name": "stdout",
          "text": [
            "edge number (pre/after): (1026368/237512)\n",
            "train (correct/samples) : (475/989)\n",
            "test (correct/samples): (53/110)\n",
            "accuracy (train/test): (0.480283/0.481818)\n",
            "best accuracy in epoch 78 (train / test): (0.48028311133384705 / 0.48181816935539246)\n"
          ]
        },
        {
          "output_type": "stream",
          "name": "stderr",
          "text": [
            "Epoch 79: 100%|██████████| 1/1 [00:00<00:00,  8.40it/s]\n"
          ]
        },
        {
          "output_type": "stream",
          "name": "stdout",
          "text": [
            "edge number (pre/after): (1026368/237512)\n",
            "train (correct/samples) : (475/989)\n",
            "test (correct/samples): (53/110)\n",
            "accuracy (train/test): (0.480283/0.481818)\n",
            "best accuracy in epoch 79 (train / test): (0.48028311133384705 / 0.48181816935539246)\n"
          ]
        },
        {
          "output_type": "stream",
          "name": "stderr",
          "text": [
            "Epoch 80: 100%|██████████| 1/1 [00:00<00:00,  8.65it/s]\n"
          ]
        },
        {
          "output_type": "stream",
          "name": "stdout",
          "text": [
            "edge number (pre/after): (1026368/237512)\n",
            "train (correct/samples) : (475/989)\n",
            "test (correct/samples): (53/110)\n",
            "accuracy (train/test): (0.480283/0.481818)\n",
            "best accuracy in epoch 80 (train / test): (0.48028311133384705 / 0.48181816935539246)\n"
          ]
        },
        {
          "output_type": "stream",
          "name": "stderr",
          "text": [
            "Epoch 81: 100%|██████████| 1/1 [00:00<00:00,  8.89it/s]\n"
          ]
        },
        {
          "output_type": "stream",
          "name": "stdout",
          "text": [
            "edge number (pre/after): (1026368/237512)\n",
            "train (correct/samples) : (475/989)\n",
            "test (correct/samples): (53/110)\n",
            "accuracy (train/test): (0.480283/0.481818)\n",
            "best accuracy in epoch 81 (train / test): (0.48028311133384705 / 0.48181816935539246)\n"
          ]
        },
        {
          "output_type": "stream",
          "name": "stderr",
          "text": [
            "Epoch 82: 100%|██████████| 1/1 [00:00<00:00,  8.69it/s]\n"
          ]
        },
        {
          "output_type": "stream",
          "name": "stdout",
          "text": [
            "edge number (pre/after): (1026368/237512)\n",
            "train (correct/samples) : (475/989)\n",
            "test (correct/samples): (53/110)\n",
            "accuracy (train/test): (0.480283/0.481818)\n",
            "best accuracy in epoch 82 (train / test): (0.48028311133384705 / 0.48181816935539246)\n"
          ]
        },
        {
          "output_type": "stream",
          "name": "stderr",
          "text": [
            "Epoch 83: 100%|██████████| 1/1 [00:00<00:00,  8.74it/s]\n"
          ]
        },
        {
          "output_type": "stream",
          "name": "stdout",
          "text": [
            "edge number (pre/after): (1026368/237512)\n",
            "train (correct/samples) : (475/989)\n",
            "test (correct/samples): (53/110)\n",
            "accuracy (train/test): (0.480283/0.481818)\n",
            "best accuracy in epoch 83 (train / test): (0.48028311133384705 / 0.48181816935539246)\n"
          ]
        },
        {
          "output_type": "stream",
          "name": "stderr",
          "text": [
            "Epoch 84: 100%|██████████| 1/1 [00:00<00:00,  6.08it/s]\n"
          ]
        },
        {
          "output_type": "stream",
          "name": "stdout",
          "text": [
            "edge number (pre/after): (1026368/237512)\n",
            "train (correct/samples) : (475/989)\n",
            "test (correct/samples): (53/110)\n",
            "accuracy (train/test): (0.480283/0.481818)\n",
            "best accuracy in epoch 84 (train / test): (0.48028311133384705 / 0.48181816935539246)\n"
          ]
        },
        {
          "output_type": "stream",
          "name": "stderr",
          "text": [
            "Epoch 85: 100%|██████████| 1/1 [00:00<00:00,  8.72it/s]\n"
          ]
        },
        {
          "output_type": "stream",
          "name": "stdout",
          "text": [
            "edge number (pre/after): (1026368/237512)\n",
            "train (correct/samples) : (475/989)\n",
            "test (correct/samples): (53/110)\n",
            "accuracy (train/test): (0.480283/0.481818)\n",
            "best accuracy in epoch 85 (train / test): (0.48028311133384705 / 0.48181816935539246)\n"
          ]
        },
        {
          "output_type": "stream",
          "name": "stderr",
          "text": [
            "Epoch 86: 100%|██████████| 1/1 [00:00<00:00,  8.58it/s]\n"
          ]
        },
        {
          "output_type": "stream",
          "name": "stdout",
          "text": [
            "edge number (pre/after): (1026368/237512)\n",
            "train (correct/samples) : (475/989)\n",
            "test (correct/samples): (53/110)\n",
            "accuracy (train/test): (0.480283/0.481818)\n",
            "best accuracy in epoch 86 (train / test): (0.48028311133384705 / 0.48181816935539246)\n"
          ]
        },
        {
          "output_type": "stream",
          "name": "stderr",
          "text": [
            "Epoch 87: 100%|██████████| 1/1 [00:00<00:00,  8.88it/s]\n"
          ]
        },
        {
          "output_type": "stream",
          "name": "stdout",
          "text": [
            "edge number (pre/after): (1026368/237512)\n",
            "train (correct/samples) : (475/989)\n",
            "test (correct/samples): (53/110)\n",
            "accuracy (train/test): (0.480283/0.481818)\n",
            "best accuracy in epoch 87 (train / test): (0.48028311133384705 / 0.48181816935539246)\n"
          ]
        },
        {
          "output_type": "stream",
          "name": "stderr",
          "text": [
            "Epoch 88: 100%|██████████| 1/1 [00:00<00:00,  7.08it/s]\n"
          ]
        },
        {
          "output_type": "stream",
          "name": "stdout",
          "text": [
            "edge number (pre/after): (1026368/237512)\n",
            "train (correct/samples) : (475/989)\n",
            "test (correct/samples): (53/110)\n",
            "accuracy (train/test): (0.480283/0.481818)\n",
            "best accuracy in epoch 88 (train / test): (0.48028311133384705 / 0.48181816935539246)\n"
          ]
        },
        {
          "output_type": "stream",
          "name": "stderr",
          "text": [
            "Epoch 89: 100%|██████████| 1/1 [00:00<00:00,  7.95it/s]\n"
          ]
        },
        {
          "output_type": "stream",
          "name": "stdout",
          "text": [
            "edge number (pre/after): (1026368/237512)\n",
            "train (correct/samples) : (475/989)\n",
            "test (correct/samples): (53/110)\n",
            "accuracy (train/test): (0.480283/0.481818)\n",
            "best accuracy in epoch 89 (train / test): (0.48028311133384705 / 0.48181816935539246)\n"
          ]
        },
        {
          "output_type": "stream",
          "name": "stderr",
          "text": [
            "Epoch 90: 100%|██████████| 1/1 [00:00<00:00,  8.68it/s]\n"
          ]
        },
        {
          "output_type": "stream",
          "name": "stdout",
          "text": [
            "edge number (pre/after): (1026368/237512)\n",
            "train (correct/samples) : (475/989)\n",
            "test (correct/samples): (53/110)\n",
            "accuracy (train/test): (0.480283/0.481818)\n",
            "best accuracy in epoch 90 (train / test): (0.48028311133384705 / 0.48181816935539246)\n"
          ]
        },
        {
          "output_type": "stream",
          "name": "stderr",
          "text": [
            "Epoch 91: 100%|██████████| 1/1 [00:00<00:00,  8.96it/s]\n"
          ]
        },
        {
          "output_type": "stream",
          "name": "stdout",
          "text": [
            "edge number (pre/after): (1026368/237512)\n",
            "train (correct/samples) : (475/989)\n",
            "test (correct/samples): (53/110)\n",
            "accuracy (train/test): (0.480283/0.481818)\n",
            "best accuracy in epoch 91 (train / test): (0.48028311133384705 / 0.48181816935539246)\n"
          ]
        },
        {
          "output_type": "stream",
          "name": "stderr",
          "text": [
            "Epoch 92: 100%|██████████| 1/1 [00:00<00:00,  8.83it/s]\n"
          ]
        },
        {
          "output_type": "stream",
          "name": "stdout",
          "text": [
            "edge number (pre/after): (1026368/237512)\n",
            "train (correct/samples) : (475/989)\n",
            "test (correct/samples): (53/110)\n",
            "accuracy (train/test): (0.480283/0.481818)\n",
            "best accuracy in epoch 92 (train / test): (0.48028311133384705 / 0.48181816935539246)\n"
          ]
        },
        {
          "output_type": "stream",
          "name": "stderr",
          "text": [
            "Epoch 93: 100%|██████████| 1/1 [00:00<00:00,  7.95it/s]\n"
          ]
        },
        {
          "output_type": "stream",
          "name": "stdout",
          "text": [
            "edge number (pre/after): (1026368/237512)\n",
            "train (correct/samples) : (475/989)\n",
            "test (correct/samples): (53/110)\n",
            "accuracy (train/test): (0.480283/0.481818)\n",
            "best accuracy in epoch 93 (train / test): (0.48028311133384705 / 0.48181816935539246)\n"
          ]
        },
        {
          "output_type": "stream",
          "name": "stderr",
          "text": [
            "Epoch 94: 100%|██████████| 1/1 [00:00<00:00,  7.89it/s]\n"
          ]
        },
        {
          "output_type": "stream",
          "name": "stdout",
          "text": [
            "edge number (pre/after): (1026368/237512)\n",
            "train (correct/samples) : (475/989)\n",
            "test (correct/samples): (53/110)\n",
            "accuracy (train/test): (0.480283/0.481818)\n",
            "best accuracy in epoch 94 (train / test): (0.48028311133384705 / 0.48181816935539246)\n"
          ]
        },
        {
          "output_type": "stream",
          "name": "stderr",
          "text": [
            "Epoch 95: 100%|██████████| 1/1 [00:00<00:00,  8.90it/s]\n"
          ]
        },
        {
          "output_type": "stream",
          "name": "stdout",
          "text": [
            "edge number (pre/after): (1026368/237512)\n",
            "train (correct/samples) : (475/989)\n",
            "test (correct/samples): (53/110)\n",
            "accuracy (train/test): (0.480283/0.481818)\n",
            "best accuracy in epoch 95 (train / test): (0.48028311133384705 / 0.48181816935539246)\n"
          ]
        },
        {
          "output_type": "stream",
          "name": "stderr",
          "text": [
            "Epoch 96: 100%|██████████| 1/1 [00:00<00:00,  8.59it/s]\n"
          ]
        },
        {
          "output_type": "stream",
          "name": "stdout",
          "text": [
            "edge number (pre/after): (1026368/237512)\n",
            "train (correct/samples) : (475/989)\n",
            "test (correct/samples): (53/110)\n",
            "accuracy (train/test): (0.480283/0.481818)\n",
            "best accuracy in epoch 96 (train / test): (0.48028311133384705 / 0.48181816935539246)\n"
          ]
        },
        {
          "output_type": "stream",
          "name": "stderr",
          "text": [
            "Epoch 97: 100%|██████████| 1/1 [00:00<00:00,  8.18it/s]\n"
          ]
        },
        {
          "output_type": "stream",
          "name": "stdout",
          "text": [
            "edge number (pre/after): (1026368/237512)\n",
            "train (correct/samples) : (475/989)\n",
            "test (correct/samples): (53/110)\n",
            "accuracy (train/test): (0.480283/0.481818)\n",
            "best accuracy in epoch 97 (train / test): (0.48028311133384705 / 0.48181816935539246)\n"
          ]
        },
        {
          "output_type": "stream",
          "name": "stderr",
          "text": [
            "Epoch 98: 100%|██████████| 1/1 [00:00<00:00,  8.79it/s]\n"
          ]
        },
        {
          "output_type": "stream",
          "name": "stdout",
          "text": [
            "edge number (pre/after): (1026368/237512)\n",
            "train (correct/samples) : (475/989)\n",
            "test (correct/samples): (53/110)\n",
            "accuracy (train/test): (0.480283/0.481818)\n",
            "best accuracy in epoch 98 (train / test): (0.48028311133384705 / 0.48181816935539246)\n"
          ]
        },
        {
          "output_type": "stream",
          "name": "stderr",
          "text": [
            "Epoch 99: 100%|██████████| 1/1 [00:00<00:00,  8.05it/s]\n"
          ]
        },
        {
          "output_type": "stream",
          "name": "stdout",
          "text": [
            "edge number (pre/after): (1026368/237512)\n",
            "train (correct/samples) : (475/989)\n",
            "test (correct/samples): (53/110)\n",
            "accuracy (train/test): (0.480283/0.481818)\n",
            "best accuracy in epoch 99 (train / test): (0.48028311133384705 / 0.48181816935539246)\n"
          ]
        },
        {
          "output_type": "stream",
          "name": "stderr",
          "text": [
            "Epoch 100: 100%|██████████| 1/1 [00:00<00:00,  8.21it/s]\n"
          ]
        },
        {
          "output_type": "stream",
          "name": "stdout",
          "text": [
            "edge number (pre/after): (1026368/237512)\n",
            "train (correct/samples) : (475/989)\n",
            "test (correct/samples): (53/110)\n",
            "accuracy (train/test): (0.480283/0.481818)\n",
            "best accuracy in epoch 100 (train / test): (0.48028311133384705 / 0.48181816935539246)\n",
            "\n",
            "Explainability report for Fold 0:\n",
            "\n",
            "Explanation for sample 1 (assigned as autistic): [0, 2, 4, 6, 7, 8, 12, 14, 20, 21, 36, 37, 38, 39, 40, 41, 44, 48, 49, 51, 52, 53, 54, 55, 58, 59, 60, 64, 66, 69, 75, 76, 77, 82, 87, 89, 90, 91, 92, 93, 94, 95, 96, 97, 98, 99, 100, 101, 102, 103, 104, 105, 106, 107, 108, 109, 110, 111, 112, 113, 114, 115]\n",
            "\n",
            "Explanation for sample 8 (assigned as control): [0, 34, 35, 40, 41, 44, 45, 58, 59, 60, 66, 67, 68, 69, 72, 73, 74, 75, 76, 84, 89, 90, 91, 92, 93, 94, 95, 96, 97, 98, 99, 100, 101, 102, 103, 104, 105, 106, 107, 108, 109, 110, 111, 112, 113, 114]\n",
            "\n",
            "Explanation for sample 16 (assigned as autistic): [4, 5, 20, 21, 34, 42, 45, 46, 47, 48, 49, 50, 51, 52, 53, 54, 55, 67, 70, 71, 73, 75, 76, 89, 90, 91, 93, 97, 98, 99, 102, 103, 111, 112]\n",
            "\n",
            "Explanation for sample 26 (assigned as autistic): [0, 1, 10, 16, 17, 28, 29, 33, 36, 37, 38, 39, 40, 41, 42, 46, 47, 52, 54, 55, 56, 57, 58, 59, 60, 61, 62, 63, 68, 69, 72, 73, 74, 78, 79, 80, 81, 82, 83, 86, 87, 89, 90, 91, 92, 93, 94, 96, 97, 98, 99, 100, 101, 102, 103, 104, 105, 106, 107, 108, 109, 110, 111, 112, 113, 114, 115]\n",
            "\n",
            "Explanation for sample 46 (assigned as control): [1, 12, 13, 16, 17, 28, 29, 37, 44, 45, 48, 50, 52, 53, 54, 55, 58, 59, 60, 61, 62, 63, 72, 73, 74, 75, 76, 78, 79, 80, 81, 83, 88, 89, 90, 91, 93, 97, 98, 99, 100, 101, 102, 103, 104, 105, 106, 107, 112, 113, 114, 115]\n",
            "\n",
            "Explanation for sample 48 (assigned as control): [7, 36, 40, 41, 44, 45, 46, 58, 59, 60, 61, 62, 63, 67, 68, 69, 70, 71, 72, 73, 75, 76, 77, 82, 83, 86, 90, 91, 92, 93, 94, 96, 98, 99, 100, 101, 102, 103, 104, 105, 106, 107, 108, 110, 111, 112, 113, 114, 115]\n",
            "\n",
            "Explanation for sample 74 (assigned as control): [0, 1, 8, 16, 17, 20, 21, 26, 27, 29, 37, 38, 39, 44, 45, 48, 49, 51, 52, 53, 54, 55, 56, 57, 58, 59, 60, 61, 62, 63, 65, 66, 67, 68, 69, 78, 90, 91, 92, 93, 94, 95, 96, 100, 101, 102, 103, 104, 106, 107, 108, 109]\n",
            "\n",
            "Explanation for sample 77 (assigned as control): [0, 1, 2, 6, 20, 21, 38, 39, 42, 43, 44, 45, 46, 47, 48, 49, 50, 51, 52, 53, 54, 55, 56, 57, 58, 59, 60, 64, 66, 79, 86, 87, 88, 89, 90, 91, 92, 93, 94, 95, 96, 97, 100, 101, 102, 103, 104, 105, 106, 107, 108, 111, 113]\n",
            "\n",
            "Explanation for sample 88 (assigned as autistic): [1, 7, 8, 11, 28, 38, 39, 48, 49, 51, 57, 61, 76, 90, 94, 95, 96, 97, 100, 101, 102, 103, 104, 106, 107, 108, 109, 113, 114, 115]\n",
            "\n",
            "Explanation for sample 89 (assigned as autistic): [0, 1, 16, 28, 29, 32, 33, 38, 42, 43, 44, 45, 46, 47, 48, 49, 50, 51, 52, 53, 54, 55, 56, 57, 58, 59, 60, 61, 62, 63, 78, 80, 83, 88, 89, 91, 96, 97, 98, 99, 100, 101, 102, 103, 104, 106, 107, 109, 110, 111, 115]\n",
            "\n",
            "Explanation for sample 101 (assigned as control): [0, 1, 20, 21, 26, 32, 33, 36, 37, 38, 39, 40, 41, 43, 45, 46, 47, 48, 49, 53, 54, 55, 56, 57, 59, 60, 61, 66, 67, 70, 71, 76, 77, 87, 95, 100, 101, 102, 103, 104, 105, 106, 107, 108, 112, 113, 114, 115]\n",
            "\n",
            "Explanation for sample 102 (assigned as control): [20, 21, 36, 37, 38, 39, 40, 41, 54, 58, 59, 61, 66, 67, 69, 70, 76, 77, 90, 91, 94, 95, 96, 97, 98, 99, 100, 101, 102, 103, 104, 105, 106, 107, 110, 111, 112, 113, 114, 115]\n",
            "\n",
            "Explanation for sample 109 (assigned as control): [17, 32, 33, 36, 37, 38, 39, 40, 41, 42, 44, 45, 46, 48, 49, 50, 51, 52, 53, 54, 55, 56, 59, 60, 64, 70, 71, 72, 73, 74, 75, 76, 77, 78, 86, 88, 89, 90, 91, 93, 94, 96, 97, 98, 99, 100, 101, 102, 103, 104, 105, 106, 107, 110, 111, 112, 113, 115]\n",
            "\n",
            "Explanation for sample 120 (assigned as autistic): [0, 1, 5, 13, 16, 17, 21, 28, 29, 32, 33, 37, 38, 39, 40, 41, 42, 43, 44, 45, 46, 47, 48, 49, 50, 51, 52, 53, 54, 55, 56, 57, 58, 59, 60, 61, 62, 63, 66, 67, 72, 73, 75, 78, 79, 80, 81, 83, 87, 94, 95, 96, 97, 98, 99, 100, 101, 102, 103, 104, 105, 106, 107, 108, 112, 113, 114, 115]\n",
            "\n",
            "Explanation for sample 144 (assigned as control): [2, 3, 4, 5, 6, 8, 9, 20, 21, 24, 25, 26, 27, 34, 35, 36, 37, 38, 39, 40, 41, 44, 45, 46, 47, 49, 50, 51, 52, 53, 64, 66, 67, 70, 71, 72, 73, 75, 76, 77, 90, 91, 92, 93, 94, 95, 96, 97, 98, 99, 100, 101, 102, 103, 104, 105, 106, 108, 109, 110, 111, 112, 113, 115]\n",
            "\n",
            "Explanation for sample 146 (assigned as control): [1, 13, 16, 17, 28, 29, 32, 33, 36, 37, 38, 39, 41, 42, 46, 47, 52, 53, 54, 55, 56, 57, 59, 61, 62, 63, 68, 69, 70, 71, 72, 73, 74, 75, 76, 78, 79, 80, 81, 86, 90, 91, 97, 99, 100, 101, 102, 103, 106, 109]\n",
            "\n",
            "Explanation for sample 147 (assigned as control): [4, 38, 39, 43, 44, 45, 48, 49, 51, 58, 59, 60, 66, 67, 68, 69, 87, 90, 91, 94, 97, 98, 100, 101, 102, 103, 106, 107, 109, 111, 112]\n",
            "\n",
            "Explanation for sample 178 (assigned as autistic): [0, 1, 6, 9, 10, 11, 12, 13, 15, 16, 17, 28, 29, 32, 33, 48, 49, 51, 52, 56, 57, 58, 60, 61, 62, 63, 64, 72, 73, 75, 78, 79, 80, 81, 83, 90, 91, 94, 97, 98, 99, 100, 101, 102, 103, 104, 105, 106, 107, 108, 111, 113, 114, 115]\n",
            "\n",
            "Explanation for sample 180 (assigned as autistic): [0, 1, 15, 17, 19, 36, 40, 41, 46, 49, 52, 53, 54, 55, 56, 57, 59, 61, 72, 73, 74, 75, 79, 90, 91, 94, 96, 97, 98, 99, 100, 101, 102, 103, 106, 107, 111, 112, 113, 114]\n",
            "\n",
            "Explanation for sample 192 (assigned as control): [1, 11, 16, 17, 28, 29, 37, 39, 40, 45, 48, 49, 50, 51, 52, 54, 55, 56, 73, 74, 75, 76, 78, 79, 80, 82, 83, 95, 96, 97, 98, 101, 102, 106, 111, 114, 115]\n",
            "\n",
            "Explanation for sample 211 (assigned as control): [2, 8, 41, 45, 48, 49, 50, 51, 52, 53, 54, 55, 58, 59, 60, 61, 64, 71, 73, 75, 77, 89, 90, 91, 94, 95, 96, 97, 98, 99, 100, 101, 102, 103, 104, 105, 106, 107, 108, 109, 111, 112, 113, 114, 115]\n",
            "\n",
            "Explanation for sample 224 (assigned as autistic): [0, 1, 10, 16, 17, 18, 19, 28, 29, 32, 37, 41, 42, 43, 45, 46, 47, 48, 49, 50, 51, 52, 53, 54, 55, 56, 57, 59, 60, 62, 63, 73, 75, 76, 79, 80, 83, 88, 89, 90, 91, 93, 94, 95, 96, 97, 98, 99, 100, 101, 102, 103, 104, 105, 106, 107, 108, 109, 110, 111, 112, 113, 114, 115]\n",
            "\n",
            "Explanation for sample 247 (assigned as autistic): [0, 1, 18, 19, 20, 21, 41, 43, 46, 47, 48, 49, 50, 51, 52, 53, 54, 55, 56, 57, 58, 59, 60, 61, 66, 68, 69, 70, 73, 75, 76, 77, 86, 90, 91, 96, 97, 98, 99, 100, 102, 103, 104, 105, 111, 112, 113, 114]\n",
            "\n",
            "Explanation for sample 262 (assigned as autistic): [0, 10, 11, 13, 21, 32, 46, 54, 59, 60, 61, 62, 63, 70, 71, 72, 73, 74, 75, 76, 77, 90, 91, 92, 93, 94, 95, 96, 98, 99, 100, 101, 102, 103, 104, 106, 107, 108, 109, 110, 111, 112, 113, 114, 115]\n",
            "\n",
            "Explanation for sample 264 (assigned as autistic): [0, 1, 16, 35, 42, 43, 44, 45, 46, 47, 48, 49, 50, 51, 52, 53, 54, 56, 57, 58, 59, 66, 67, 68, 69, 76, 90, 91, 92, 93, 94, 95, 96, 97, 98, 99, 100, 101, 102, 103, 104, 105, 106, 109, 110, 111, 112, 113, 114, 115]\n",
            "\n",
            "Explanation for sample 271 (assigned as autistic): [0, 1, 3, 7, 10, 13, 18, 19, 26, 28, 36, 37, 38, 39, 41, 45, 56, 57, 60, 61, 66, 67, 68, 70, 71, 72, 73, 76, 77, 79, 82, 83, 86, 87, 91, 93, 94, 95, 97, 99, 100, 101, 102, 103, 108, 109]\n",
            "\n",
            "Explanation for sample 272 (assigned as autistic): [38, 41, 43, 46, 91, 93, 97, 98, 99, 101, 102, 103, 105, 109, 110, 111, 112, 114, 115]\n",
            "\n",
            "Explanation for sample 298 (assigned as autistic): [0, 1, 6, 8, 10, 14, 19, 42, 46, 48, 49, 53, 54, 55, 56, 57, 58, 59, 60, 62, 66, 68, 69, 90, 91, 93, 94, 96, 97, 98, 99, 101, 102, 103, 104, 107, 108, 109, 110, 111, 112]\n",
            "\n",
            "Explanation for sample 303 (assigned as autistic): [6, 8, 18, 19, 36, 37, 38, 40, 42, 43, 44, 45, 46, 47, 48, 49, 50, 51, 52, 54, 58, 59, 60, 62, 66, 67, 68, 83, 88, 90, 91, 92, 93, 94, 95, 96, 97, 98, 99, 100, 101, 102, 103, 104, 105, 107, 109, 110, 111, 112, 113, 114, 115]\n",
            "\n",
            "Explanation for sample 305 (assigned as autistic): [0, 1, 2, 6, 18, 19, 36, 38, 40, 42, 43, 46, 47, 50, 51, 52, 53, 54, 55, 57, 60, 68, 69, 71, 76, 77, 84, 86, 87, 88, 90, 91, 92, 93, 94, 96, 97, 98, 99, 100, 101, 102, 103, 104, 105, 106, 109, 110, 111, 112, 113, 114]\n",
            "\n",
            "Explanation for sample 308 (assigned as autistic): [2, 6, 22, 34, 49, 50, 51, 52, 53, 54, 55, 59, 66, 67, 71, 76, 77, 90, 91, 92, 93, 95, 97, 98, 99, 100, 102, 103, 104, 105, 106, 107, 108, 111, 112, 113, 114, 115]\n",
            "\n",
            "Explanation for sample 312 (assigned as autistic): [18, 34, 35, 44, 45, 46, 47, 49, 52, 53, 54, 55, 58, 59, 60, 66, 67, 68, 69, 83, 88, 89, 90, 91, 92, 93, 94, 95, 96, 97, 98, 99, 100, 101, 102, 103, 104, 105, 106, 108, 109, 110, 111, 112, 113, 114, 115]\n",
            "\n",
            "Explanation for sample 317 (assigned as control): [0, 1, 20, 21, 27, 39, 41, 44, 45, 47, 49, 54, 55, 56, 57, 58, 59, 60, 61, 71, 73, 76, 77, 90, 91, 92, 97, 98, 99, 100, 101, 102, 103, 104, 105, 106, 107, 111, 112, 113, 114, 115]\n",
            "\n",
            "Explanation for sample 320 (assigned as control): [0, 1, 10, 16, 18, 21, 28, 39, 43, 47, 55, 56, 57, 58, 59, 60, 61, 66, 67, 68, 69, 71, 72, 73, 76, 91, 93, 95, 96, 97, 98, 99, 101, 103, 104, 105, 106, 110, 111, 112]\n",
            "\n",
            "Explanation for sample 339 (assigned as control): [1, 4, 18, 19, 20, 21, 26, 27, 38, 42, 43, 44, 46, 47, 48, 52, 53, 54, 56, 68, 69, 70, 71, 76, 90, 91, 93, 94, 95, 96, 97, 98, 99, 100, 101, 102, 103, 104, 105, 106, 107, 108, 109, 110, 111, 112, 113, 114, 115]\n",
            "\n",
            "Explanation for sample 353 (assigned as control): [3, 5, 25, 26, 37, 38, 46, 49, 52, 58, 59, 60, 61, 90, 91, 92, 94, 96, 98, 99, 100, 102, 103, 104, 106, 108, 109, 111, 112, 113, 114, 115]\n",
            "\n",
            "Explanation for sample 356 (assigned as control): [0, 1, 7, 8, 18, 36, 40, 42, 43, 46, 47, 49, 50, 51, 52, 53, 56, 57, 58, 59, 60, 61, 62, 63, 64, 66, 67, 68, 69, 76, 77, 90, 91, 92, 93, 94, 95, 96, 97, 98, 99, 100, 101, 102, 103, 104, 105, 106, 109, 110, 111, 112, 113, 114, 115]\n",
            "\n",
            "Explanation for sample 363 (assigned as control): [0, 1, 4, 11, 17, 18, 19, 38, 39, 41, 56, 57, 59, 60, 62, 63, 68, 76, 77, 79, 83, 90, 91, 92, 93, 94, 95, 96, 97, 98, 99, 100, 101, 102, 103, 104, 105, 106, 107, 108, 109, 110, 111, 112, 113, 114, 115]\n",
            "\n",
            "Explanation for sample 374 (assigned as control): [0, 1, 10, 16, 17, 18, 19, 21, 39, 56, 57, 59, 60, 62, 63, 68, 69, 70, 71, 75, 76, 77, 90, 91, 92, 93, 94, 96, 98, 100, 101, 102, 103, 104, 105, 107, 108, 109, 110, 111, 112, 113, 114, 115]\n",
            "\n",
            "Explanation for sample 377 (assigned as control): [0, 5, 7, 8, 9, 14, 36, 37, 40, 42, 43, 44, 45, 46, 47, 48, 51, 52, 53, 54, 58, 59, 60, 66, 67, 72, 73, 74, 75, 76, 77, 90, 91, 92, 93, 94, 95, 96, 98, 99, 100, 101, 102, 103, 104, 105, 107, 108, 109, 110, 111, 112, 113, 114, 115]\n",
            "\n",
            "Explanation for sample 388 (assigned as control): [1, 6, 16, 17, 18, 19, 32, 33, 36, 37, 38, 39, 43, 44, 47, 54, 55, 57, 58, 59, 61, 62, 63, 68, 69, 76, 77, 79, 86, 89, 90, 91, 92, 93, 94, 95, 96, 97, 98, 99, 100, 101, 102, 103, 104, 106, 107, 108, 110, 111, 112, 113, 114, 115]\n",
            "\n",
            "Explanation for sample 393 (assigned as control): [18, 19, 20, 21, 28, 29, 30, 32, 36, 38, 40, 41, 69, 76, 77, 80, 87, 94, 95, 96, 97, 99, 100, 101, 102, 103, 107, 108, 109, 110]\n",
            "\n",
            "Explanation for sample 397 (assigned as control): [3, 4, 13, 24, 25, 34, 35, 43, 46, 48, 49, 50, 51, 52, 60, 66, 67, 90, 94, 95, 97, 98, 99, 100, 101, 102, 103, 108, 109, 110, 111, 112, 113]\n",
            "\n",
            "Explanation for sample 413 (assigned as control): [0, 1, 18, 19, 34, 37, 38, 39, 42, 43, 44, 45, 46, 47, 48, 49, 50, 51, 52, 53, 54, 55, 56, 57, 58, 59, 66, 67, 68, 69, 76, 77, 90, 91, 94, 95, 96, 97, 98, 99, 100, 101, 102, 103, 104, 105, 107, 109, 110, 111, 112, 113, 115]\n",
            "\n",
            "Explanation for sample 415 (assigned as control): [0, 1, 4, 10, 17, 18, 19, 21, 22, 24, 25, 26, 27, 28, 34, 35, 42, 43, 45, 47, 49, 50, 51, 52, 56, 57, 58, 60, 67, 72, 73, 74, 75, 76, 77, 90, 91, 92, 93, 98, 99, 100, 101, 102, 103, 104, 107, 110, 111, 112, 113]\n",
            "\n",
            "Explanation for sample 423 (assigned as autistic): [0, 2, 18, 28, 29, 36, 41, 43, 44, 45, 47, 48, 49, 50, 51, 53, 58, 59, 61, 62, 63, 66, 72, 73, 74, 75, 76, 77, 79, 88, 94, 96, 98, 99, 101, 102, 103, 107, 108, 109, 111, 112, 113]\n",
            "\n",
            "Explanation for sample 425 (assigned as autistic): [11, 12, 13, 14, 15, 20, 21, 42, 43, 44, 45, 46, 47, 48, 49, 50, 51, 52, 53, 59, 60, 61, 65, 90, 91, 92, 93, 96, 97, 98, 99, 100, 101, 102, 103, 104, 105, 106, 107, 108, 111, 112, 113, 114, 115]\n",
            "\n",
            "Explanation for sample 427 (assigned as autistic): [1, 4, 5, 6, 7, 9, 19, 28, 29, 30, 32, 33, 34, 35, 42, 43, 44, 45, 46, 48, 49, 50, 51, 52, 53, 56, 58, 59, 60, 61, 62, 63, 66, 67, 69, 70, 71, 73, 75, 76, 78, 79, 81, 90, 91, 94, 98, 99, 100, 101, 102, 103, 104, 105, 106, 107, 109, 111, 112]\n",
            "\n",
            "Explanation for sample 441 (assigned as control): [21, 34, 35, 37, 41, 42, 43, 44, 45, 46, 47, 49, 50, 51, 52, 53, 54, 55, 62, 65, 66, 67, 76, 77, 81, 85, 89, 90, 91, 94, 95, 96, 97, 98, 99, 100, 102, 107, 108, 109, 111, 112, 113, 114, 115]\n",
            "\n",
            "Explanation for sample 443 (assigned as control): [1, 4, 5, 8, 9, 14, 18, 26, 44, 45, 47, 48, 49, 50, 51, 52, 53, 54, 56, 57, 58, 59, 60, 69, 70, 82, 83, 84, 86, 88, 89, 90, 91, 92, 93, 94, 95, 96, 97, 98, 99, 100, 101, 102, 103, 106, 107, 108, 109, 110, 111, 112, 113, 115]\n",
            "\n",
            "Explanation for sample 454 (assigned as control): [0, 1, 4, 5, 7, 11, 13, 18, 19, 20, 21, 27, 32, 33, 34, 40, 45, 49, 50, 51, 53, 56, 57, 58, 59, 60, 61, 63, 65, 66, 67, 68, 69, 75, 76, 77, 81, 85, 89, 90, 91, 92, 93, 97, 98, 99, 100, 101, 102, 103, 104, 105, 110, 113, 114]\n",
            "\n",
            "Explanation for sample 456 (assigned as control): [0, 1, 10, 42, 43, 44, 45, 46, 47, 48, 49, 50, 52, 54, 55, 56, 57, 58, 60, 67, 68, 69, 79, 80, 90, 91, 92, 93, 99, 100, 101, 102, 103, 107, 111, 112]\n",
            "\n",
            "Explanation for sample 463 (assigned as control): [20, 21, 42, 44, 45, 46, 48, 49, 50, 51, 52, 53, 54, 55, 59, 70, 90, 91, 95, 96, 97, 98, 99, 100, 101, 102, 103, 104, 105, 106, 107, 111, 112, 113, 114]\n",
            "\n",
            "Explanation for sample 481 (assigned as autistic): [14, 19, 20, 26, 37, 38, 39, 40, 41, 43, 45, 48, 49, 51, 53, 54, 55, 58, 59, 60, 61, 63, 69, 83, 88, 90, 91, 92, 93, 94, 95, 96, 98, 99, 100, 101, 102, 103, 104, 105, 106, 107, 108, 109, 110, 111, 112, 113, 114, 115]\n",
            "\n",
            "Explanation for sample 510 (assigned as autistic): [1, 18, 19, 29, 45, 48, 49, 50, 51, 52, 57, 58, 59, 60, 62, 68, 69, 82, 83, 84, 93, 94, 97, 99, 100, 101, 102, 103, 104, 105, 106, 107, 109, 111, 113, 114, 115]\n",
            "\n",
            "Explanation for sample 551 (assigned as control): [0, 1, 10, 12, 13, 50, 52, 54, 56, 57, 58, 59, 60, 61, 62, 63, 70, 72, 73, 74, 75, 76, 96, 98, 99, 100, 101, 102, 103, 104, 105, 106, 108, 111, 112, 113, 114, 115]\n",
            "\n",
            "Explanation for sample 554 (assigned as control): [12, 17, 18, 20, 21, 28, 29, 36, 37, 38, 40, 41, 42, 43, 44, 45, 46, 47, 48, 49, 50, 52, 53, 54, 55, 58, 59, 60, 62, 63, 67, 72, 73, 75, 76, 77, 80, 83, 86, 87, 90, 91, 92, 93, 96, 97, 98, 99, 100, 102, 103, 104, 105, 106, 107, 108, 110, 111, 112, 113, 114, 115]\n",
            "\n",
            "Explanation for sample 559 (assigned as autistic): [0, 36, 37, 40, 41, 42, 43, 46, 47, 48, 49, 50, 51, 52, 53, 54, 55, 58, 59, 60, 67, 73, 74, 75, 77, 83, 88, 89, 90, 91, 92, 93, 98, 99, 100, 102, 103, 110, 111, 112, 113]\n",
            "\n",
            "Explanation for sample 569 (assigned as autistic): [6, 10, 12, 13, 16, 17, 41, 54, 55, 58, 59, 60, 62, 63, 70, 71, 72, 73, 74, 75, 77, 78, 83, 89, 90, 91, 92, 93, 98, 99, 100, 102, 103, 104, 105, 106, 107, 111, 112, 113, 114, 115]\n",
            "\n",
            "Explanation for sample 589 (assigned as control): [4, 5, 8, 20, 21, 26, 27, 30, 34, 35, 36, 40, 42, 43, 44, 45, 46, 47, 48, 49, 50, 51, 52, 53, 54, 55, 58, 59, 66, 67, 76, 77, 90, 91, 92, 93, 94, 95, 96, 97, 98, 99, 100, 101, 102, 103, 104, 105, 107, 108, 109, 110, 111, 112, 113, 114, 115]\n",
            "\n",
            "Explanation for sample 605 (assigned as control): [0, 1, 16, 17, 18, 19, 28, 29, 41, 42, 43, 44, 45, 46, 47, 48, 49, 50, 51, 52, 53, 54, 55, 56, 57, 58, 59, 60, 61, 62, 63, 67, 68, 69, 72, 73, 75, 76, 77, 78, 79, 80, 81, 82, 83, 89, 90, 91, 92, 93, 94, 95, 97, 98, 99, 100, 101, 102, 103, 104, 105, 106, 107, 108, 109, 111, 112, 113, 114, 115]\n",
            "\n",
            "Explanation for sample 612 (assigned as autistic): [0, 2, 6, 7, 17, 18, 19, 32, 33, 45, 46, 48, 49, 50, 51, 54, 55, 56, 58, 60, 64, 67, 68, 69, 90, 91, 92, 93, 94, 95, 96, 97, 98, 99, 100, 101, 102, 103, 104, 105, 106, 107, 108, 109, 110, 111, 112, 113, 114, 115]\n",
            "\n",
            "Explanation for sample 614 (assigned as autistic): [0, 1, 3, 18, 19, 46, 52, 53, 54, 56, 57, 61, 65, 68, 69, 84, 85, 86, 87, 88, 89, 90, 91, 92, 93, 94, 96, 97, 98, 99, 100, 101, 102, 103, 104, 105, 107, 108, 111, 112]\n",
            "\n",
            "Explanation for sample 622 (assigned as autistic): [0, 1, 3, 9, 18, 19, 21, 40, 46, 52, 57, 58, 59, 60, 61, 64, 68, 69, 72, 74, 76, 85, 89, 90, 91, 98, 100, 101, 102, 103, 106, 107, 111, 112, 113, 114, 115]\n",
            "\n",
            "Explanation for sample 624 (assigned as autistic): [4, 9, 14, 15, 20, 25, 26, 27, 36, 37, 38, 40, 41, 54, 55, 56, 57, 58, 59, 61, 66, 67, 68, 69, 71, 72, 75, 83, 91, 94, 97, 98, 99, 100, 101, 102, 103, 104, 105, 106, 107, 108, 109, 111, 112, 113]\n",
            "\n",
            "Explanation for sample 635 (assigned as control): [0, 10, 11, 16, 17, 21, 28, 29, 36, 37, 38, 39, 40, 41, 53, 54, 55, 56, 63, 68, 72, 73, 74, 75, 76, 77, 78, 79, 81, 83, 84, 85, 86, 87, 88, 89, 90, 91, 94, 95, 96, 97, 98, 99, 100, 101, 102, 103, 104, 105, 106, 107, 108, 109, 110, 111, 112, 113, 114, 115]\n",
            "\n",
            "Explanation for sample 638 (assigned as control): [5, 13, 16, 17, 20, 21, 26, 28, 29, 39, 54, 58, 66, 67, 76, 78, 79, 81, 83, 90, 91, 92, 93, 94, 95, 97, 98, 99, 100, 101, 102, 103, 104, 105, 106, 107, 108, 111, 112, 113, 115]\n",
            "\n",
            "Explanation for sample 640 (assigned as control): [7, 13, 20, 21, 24, 25, 26, 34, 35, 45, 48, 49, 50, 51, 56, 59, 60, 61, 62, 63, 66, 67, 71, 72, 73, 75, 76, 77, 91, 99, 100, 101, 102, 103, 106, 107, 110, 111]\n",
            "\n",
            "Explanation for sample 649 (assigned as autistic): [20, 21, 36, 37, 38, 39, 40, 41, 44, 45, 48, 49, 51, 57, 58, 59, 66, 67, 68, 69, 71, 73, 74, 75, 76, 77, 79, 90, 91, 92, 93, 94, 95, 96, 97, 98, 99, 100, 101, 102, 103, 104, 105, 106, 107, 108, 110, 114, 115]\n",
            "\n",
            "Explanation for sample 670 (assigned as autistic): [0, 7, 10, 11, 12, 13, 16, 17, 19, 28, 29, 32, 33, 37, 50, 51, 52, 55, 56, 57, 60, 61, 62, 63, 66, 67, 68, 69, 70, 72, 73, 74, 75, 76, 78, 79, 80, 81, 85, 90, 91, 92, 93, 94, 95, 96, 97, 98, 99, 100, 101, 102, 103, 104, 105, 106, 107, 108, 109, 110, 111, 112, 113, 115]\n",
            "\n",
            "Explanation for sample 676 (assigned as control): [2, 4, 6, 12, 31, 32, 40, 42, 43, 44, 45, 46, 47, 48, 49, 50, 51, 52, 54, 55, 58, 60, 62, 63, 66, 67, 72, 76, 77, 90, 91, 92, 93, 94, 95, 96, 97, 98, 99, 100, 101, 102, 103, 104, 105, 107, 108, 109, 110, 111, 112, 113, 114, 115]\n",
            "\n",
            "Explanation for sample 682 (assigned as control): [0, 16, 17, 37, 39, 42, 43, 44, 45, 46, 47, 48, 49, 50, 51, 52, 53, 54, 55, 56, 57, 58, 59, 60, 62, 63, 66, 67, 73, 74, 75, 76, 90, 91, 92, 93, 94, 95, 96, 97, 98, 99, 100, 101, 102, 103, 104, 105, 106, 107, 108, 109, 110, 111, 112, 113, 114, 115]\n",
            "\n",
            "Explanation for sample 693 (assigned as control): [16, 20, 21, 36, 37, 38, 39, 40, 41, 42, 43, 44, 45, 46, 47, 48, 49, 50, 51, 52, 53, 54, 55, 56, 59, 63, 69, 70, 71, 76, 77, 78, 80, 90, 91, 94, 96, 97, 98, 99, 100, 101, 102, 103, 104, 106, 107, 108, 109, 110, 111, 112, 113, 114, 115]\n",
            "\n",
            "Explanation for sample 704 (assigned as autistic): [5, 9, 12, 14, 28, 34, 35, 36, 37, 38, 39, 40, 42, 43, 45, 46, 47, 56, 58, 59, 60, 61, 62, 65, 66, 67, 68, 69, 72, 74, 76, 77, 91, 92, 93, 94, 95, 96, 97, 98, 100, 101, 102, 103, 106, 109, 110, 111, 112, 113]\n",
            "\n",
            "Explanation for sample 711 (assigned as autistic): [0, 1, 5, 16, 17, 18, 19, 22, 24, 25, 32, 33, 34, 36, 37, 38, 39, 44, 45, 46, 49, 52, 54, 55, 56, 57, 58, 59, 60, 61, 62, 63, 64, 67, 69, 76, 77, 78, 79, 89, 90, 94, 95, 96, 97, 98, 99, 100, 101, 102, 103, 104, 105, 106, 107, 108, 109, 110, 111, 112, 113, 114, 115]\n",
            "\n",
            "Explanation for sample 720 (assigned as autistic): [1, 11, 16, 17, 18, 19, 29, 32, 37, 39, 41, 42, 43, 44, 45, 46, 47, 48, 49, 51, 52, 55, 57, 58, 59, 62, 63, 66, 67, 78, 79, 80, 81, 83, 91, 93, 94, 95, 96, 97, 98, 99, 100, 101, 102, 103, 104, 106, 108, 109, 111, 112, 113, 114]\n",
            "\n",
            "Explanation for sample 724 (assigned as autistic): [4, 5, 6, 8, 20, 21, 24, 25, 26, 27, 40, 42, 43, 44, 45, 46, 47, 48, 49, 50, 51, 52, 53, 58, 59, 60, 61, 63, 64, 66, 67, 68, 69, 85, 86, 88, 89, 90, 91, 92, 93, 98, 99, 100, 101, 102, 103, 104, 107, 111, 112, 113]\n",
            "\n",
            "Explanation for sample 751 (assigned as control): [0, 1, 3, 4, 5, 7, 9, 16, 17, 18, 19, 21, 24, 26, 27, 32, 56, 57, 58, 59, 60, 61, 62, 63, 76, 77, 80, 81, 86, 87, 88, 89, 90, 91, 92, 93, 96, 97, 98, 99, 100, 101, 102, 103, 106, 107, 108, 109, 110, 111, 112]\n",
            "\n",
            "Explanation for sample 768 (assigned as control): [0, 1, 7, 9, 10, 11, 12, 13, 14, 16, 18, 28, 29, 36, 40, 53, 60, 61, 62, 70, 71, 72, 73, 74, 75, 76, 77, 90, 91, 93, 100, 101, 102, 103, 104, 105, 107, 114, 115]\n",
            "\n",
            "Explanation for sample 769 (assigned as control): [0, 1, 4, 5, 10, 11, 13, 14, 16, 17, 18, 20, 21, 25, 28, 29, 36, 37, 38, 39, 40, 41, 42, 43, 44, 45, 46, 47, 48, 49, 50, 52, 53, 54, 56, 57, 58, 62, 63, 69, 70, 71, 73, 76, 78, 83, 88, 89, 90, 91, 93, 94, 96, 97, 98, 99, 101, 103, 104, 106, 107, 110, 111, 112, 113, 115]\n",
            "\n",
            "Explanation for sample 772 (assigned as autistic): [1, 17, 34, 37, 39, 40, 41, 46, 48, 49, 52, 53, 56, 57, 58, 59, 60, 61, 62, 63, 64, 65, 66, 67, 68, 69, 76, 77, 78, 79, 80, 81, 87, 89, 90, 91, 92, 93, 98, 100, 101, 102, 103, 104, 105, 106, 107, 111, 112, 113, 114]\n",
            "\n",
            "Explanation for sample 779 (assigned as autistic): [4, 5, 26, 32, 35, 44, 46, 47, 52, 53, 56, 57, 58, 59, 60, 61, 69, 76, 77, 86, 90, 91, 92, 93, 94, 96, 97, 98, 99, 100, 101, 102, 103, 104, 105, 109, 110, 111, 112, 113, 114, 115]\n",
            "\n",
            "Explanation for sample 783 (assigned as control): [0, 1, 5, 9, 10, 11, 16, 17, 18, 19, 20, 21, 26, 28, 29, 32, 39, 41, 56, 57, 58, 59, 60, 61, 62, 63, 66, 68, 70, 71, 72, 73, 74, 75, 76, 77, 78, 79, 80, 81, 83, 90, 91, 94, 95, 96, 97, 98, 100, 101, 102, 103, 104, 105, 106, 107, 108, 109, 111, 112, 113, 114, 115]\n",
            "\n",
            "Explanation for sample 792 (assigned as control): [0, 1, 10, 11, 13, 16, 17, 19, 29, 40, 41, 42, 43, 46, 47, 50, 51, 52, 53, 54, 56, 57, 58, 59, 62, 63, 67, 68, 73, 76, 90, 96, 97, 98, 99, 100, 102, 104, 105, 106, 107, 111, 112]\n",
            "\n",
            "Explanation for sample 810 (assigned as autistic): [0, 1, 5, 8, 16, 17, 18, 19, 29, 36, 37, 38, 40, 41, 45, 48, 49, 51, 53, 54, 56, 57, 59, 67, 73, 76, 77, 79, 88, 90, 91, 92, 93, 98, 99, 100, 101, 102, 103, 110, 111, 112, 113, 114, 115]\n",
            "\n",
            "Explanation for sample 815 (assigned as autistic): [0, 1, 18, 36, 37, 38, 39, 40, 41, 43, 45, 46, 47, 49, 51, 52, 53, 54, 55, 56, 57, 58, 59, 60, 66, 67, 69, 76, 82, 83, 86, 87, 88, 89, 90, 91, 92, 93, 94, 95, 96, 97, 98, 99, 100, 101, 102, 103, 104, 105, 106, 107, 108, 109, 110, 111, 112, 113, 114, 115]\n",
            "\n",
            "Explanation for sample 818 (assigned as autistic): [6, 35, 36, 38, 40, 45, 48, 49, 54, 55, 56, 60, 62, 66, 67, 68, 69, 86, 87, 88, 89, 91, 92, 93, 94, 96, 98, 100, 101, 102, 103, 106, 107, 108, 109, 110, 113, 114]\n",
            "\n",
            "Explanation for sample 820 (assigned as autistic): [0, 1, 2, 3, 6, 7, 16, 18, 19, 21, 22, 23, 26, 30, 31, 32, 33, 34, 35, 39, 42, 43, 44, 45, 46, 47, 48, 49, 50, 51, 52, 53, 55, 56, 57, 58, 59, 60, 61, 62, 63, 64, 65, 66, 67, 68, 69, 88, 89, 90, 91, 92, 93, 94, 95, 96, 97, 98, 99, 100, 101, 102, 103, 106, 107, 108, 109, 110, 111, 112, 113, 114, 115]\n",
            "\n",
            "Explanation for sample 832 (assigned as autistic): [0, 2, 6, 14, 18, 19, 36, 37, 38, 39, 40, 41, 60, 68, 69, 70, 72, 74, 76, 77, 82, 86, 90, 91, 93, 94, 95, 96, 97, 98, 99, 100, 101, 102, 103, 104, 105, 107, 109, 110, 111, 112, 113, 114, 115]\n",
            "\n",
            "Explanation for sample 834 (assigned as autistic): [18, 19, 34, 35, 37, 39, 40, 42, 43, 44, 45, 46, 48, 52, 53, 54, 55, 56, 59, 60, 61, 66, 68, 69, 76, 82, 83, 84, 86, 87, 88, 89, 90, 91, 92, 93, 94, 95, 96, 97, 98, 99, 100, 101, 102, 103, 104, 105, 106, 107, 108, 109, 110, 111, 112, 113, 114, 115]\n",
            "\n",
            "Explanation for sample 837 (assigned as autistic): [0, 5, 8, 9, 11, 12, 14, 15, 17, 21, 26, 27, 36, 37, 38, 39, 40, 41, 52, 53, 54, 55, 71, 73, 81, 82, 83, 84, 85, 87, 88, 89, 90, 91, 92, 93, 94, 95, 96, 97, 98, 99, 100, 101, 102, 103, 104, 105, 106, 107, 108, 109, 111, 112, 113, 114, 115]\n",
            "\n",
            "Explanation for sample 855 (assigned as control): [0, 1, 4, 5, 9, 10, 14, 16, 18, 19, 20, 21, 37, 39, 40, 41, 56, 57, 58, 59, 60, 62, 63, 66, 67, 68, 69, 73, 74, 82, 83, 88, 89, 90, 91, 92, 93, 94, 96, 97, 98, 99, 100, 101, 102, 103, 106, 107, 108, 109, 110, 111, 112, 113, 115]\n",
            "\n",
            "Explanation for sample 865 (assigned as control): [6, 21, 22, 23, 26, 30, 31, 32, 35, 37, 39, 40, 41, 42, 51, 52, 58, 59, 64, 66, 67, 70, 71, 76, 82, 83, 87, 88, 90, 91, 92, 93, 94, 95, 96, 97, 98, 99, 100, 101, 102, 103, 104, 105, 106, 108, 109, 110, 111, 112, 113, 114]\n",
            "\n",
            "Explanation for sample 877 (assigned as control): [1, 4, 8, 9, 14, 18, 19, 26, 27, 36, 37, 43, 45, 47, 49, 51, 52, 53, 54, 55, 56, 57, 58, 59, 60, 62, 63, 67, 68, 69, 85, 86, 87, 88, 89, 90, 91, 92, 93, 94, 95, 96, 97, 98, 99, 100, 101, 102, 103, 104, 105, 106, 107, 108, 109, 110, 111, 112, 113, 114, 115]\n",
            "\n",
            "Explanation for sample 882 (assigned as control): [0, 18, 36, 37, 38, 39, 46, 52, 54, 55, 56, 57, 59, 60, 68, 83, 84, 85, 86, 87, 89, 90, 91, 92, 94, 95, 96, 97, 98, 99, 100, 102, 103, 104, 105, 106, 108, 110, 111, 112, 113, 114, 115]\n",
            "\n",
            "Explanation for sample 902 (assigned as control): [26, 36, 38, 39, 48, 49, 50, 51, 52, 53, 54, 55, 58, 59, 60, 89, 90, 91, 93, 94, 98, 99, 100, 101, 102, 103, 107, 108, 109, 111, 114]\n",
            "\n",
            "Explanation for sample 922 (assigned as autistic): [0, 1, 18, 19, 21, 34, 35, 36, 40, 42, 43, 44, 45, 46, 47, 48, 56, 66, 67, 68, 73, 76, 77, 79, 83, 90, 91, 92, 93, 94, 98, 99, 100, 101, 102, 103, 104, 105, 106, 107, 110, 111, 112, 115]\n",
            "\n",
            "Explanation for sample 931 (assigned as control): [24, 25, 76, 88, 89, 90, 91, 92, 93, 94, 95, 96, 98, 100, 101, 104, 106, 107, 110, 111, 112, 113, 114, 115]\n",
            "\n",
            "Explanation for sample 954 (assigned as control): [37, 38, 39, 41, 42, 43, 44, 45, 46, 47, 48, 49, 50, 51, 52, 53, 54, 55, 58, 59, 66, 67, 72, 73, 75, 76, 85, 86, 87, 89, 90, 91, 92, 93, 95, 96, 97, 98, 99, 100, 101, 102, 103, 104, 105, 108, 109, 110, 111, 112, 113, 114, 115]\n",
            "\n",
            "Explanation for sample 960 (assigned as control): [0, 1, 16, 18, 19, 39, 42, 43, 44, 45, 46, 47, 48, 49, 50, 51, 52, 53, 54, 55, 56, 57, 58, 59, 60, 61, 62, 63, 66, 67, 68, 76, 77, 79, 80, 83, 87, 89, 90, 91, 92, 93, 94, 95, 96, 97, 98, 99, 100, 101, 102, 103, 104, 105, 106, 107, 108, 109, 110, 111, 112, 113, 114, 115]\n",
            "\n",
            "Explanation for sample 968 (assigned as control): [19, 39, 42, 43, 44, 45, 46, 47, 48, 49, 50, 51, 52, 53, 54, 55, 90, 91, 92, 93, 94, 95, 96, 97, 98, 99, 100, 101, 102, 103, 104, 105, 106, 107, 108, 109, 110, 111, 112, 113, 114, 115]\n",
            "\n",
            "Explanation for sample 993 (assigned as autistic): [36, 37, 38, 39, 40, 41, 46, 54, 59, 70, 73, 75, 76, 77, 86, 87, 88, 90, 91, 92, 93, 95, 96, 98, 99, 100, 101, 102, 103, 104, 105, 107, 109, 110, 111, 112, 113, 115]\n",
            "\n",
            "Explanation for sample 1019 (assigned as autistic): [0, 1, 18, 19, 34, 35, 38, 42, 46, 47, 51, 53, 54, 55, 56, 57, 58, 59, 60, 61, 64, 65, 66, 67, 68, 69, 84, 85, 89, 90, 91, 93, 94, 95, 96, 97, 98, 99, 100, 101, 102, 103, 104, 105, 106, 107, 108, 109, 110, 111, 112, 113, 114, 115]\n",
            "\n",
            "Explanation for sample 1025 (assigned as autistic): [0, 5, 10, 26, 27, 37, 40, 41, 42, 43, 44, 45, 46, 47, 48, 49, 50, 51, 52, 53, 54, 55, 56, 57, 58, 59, 60, 61, 62, 63, 66, 67, 90, 91, 96, 97, 98, 99, 100, 101, 102, 103, 106, 107, 111, 112, 113]\n",
            "\n",
            "Explanation for sample 1032 (assigned as autistic): [18, 19, 34, 35, 37, 42, 43, 44, 45, 46, 47, 48, 49, 50, 51, 52, 53, 55, 56, 57, 58, 59, 60, 65, 66, 67, 68, 69, 90, 91, 92, 93, 94, 95, 96, 97, 98, 99, 100, 101, 102, 103, 104, 105, 106, 107, 108, 109, 110, 111, 112, 113, 114, 115]\n",
            "\n",
            "Explanation for sample 1040 (assigned as autistic): [0, 10, 37, 38, 39, 42, 43, 44, 45, 46, 47, 49, 54, 66, 67, 76, 77, 90, 91, 93, 94, 95, 96, 97, 98, 99, 104, 105, 108, 109, 111, 113, 114]\n",
            "\n",
            "Explanation for sample 1041 (assigned as autistic): [34, 35, 37, 39, 42, 43, 44, 45, 46, 47, 48, 49, 50, 51, 52, 53, 54, 57, 58, 59, 60, 61, 62, 63, 64, 65, 66, 67, 68, 69, 79, 85, 90, 91, 92, 93, 94, 95, 96, 97, 98, 99, 100, 101, 102, 103, 104, 105, 106, 107, 108, 109, 110, 111, 112, 113, 114, 115]\n",
            "\n",
            "Explanation for sample 1059 (assigned as control): [0, 1, 10, 12, 16, 28, 29, 32, 36, 37, 38, 39, 40, 41, 42, 43, 46, 54, 55, 56, 57, 58, 59, 60, 62, 66, 70, 71, 72, 73, 75, 76, 77, 79, 80, 81, 82, 83, 85, 86, 87, 88, 93, 95, 96, 97, 98, 99, 100, 101, 102, 103, 105, 106, 107, 109, 110, 111, 112, 113, 114]\n",
            "\n",
            "Explanation for sample 1062 (assigned as control): [0, 1, 6, 7, 18, 19, 42, 43, 44, 45, 46, 47, 48, 49, 51, 52, 53, 54, 55, 56, 57, 58, 59, 60, 61, 62, 63, 67, 68, 69, 79, 90, 91, 93, 96, 97, 98, 99, 100, 101, 102, 103, 104, 105, 106, 107, 110, 111, 112, 113]\n",
            "\n",
            "Explanation for sample 1096 (assigned as autistic): [42, 43, 45, 46, 47, 51, 53, 54, 55, 59, 60, 61, 62, 63, 90, 91, 92, 93, 96, 97, 98, 99, 100, 101, 102, 103, 104, 107, 110, 111, 112, 114, 115]\n",
            "\n",
            "\n",
            "Explainability metrics:\n",
            "Fidelity+: 0.008101972751319408  |  Fidelity-: 0.9627580046653748  |  Sparsity: 0.5825235109717869\n",
            "\n",
            "Suggested biomarker: [102, 103, 100, 101, 98, 91, 111, 99, 90, 112]\n",
            "Biomarker consistency: 0.18565796315670013\n",
            "****************************************************************************************************\n",
            "ASD 1-fold validation results: \n",
            "Model Name: SGSIB\n",
            "train accuracy list: tensor([0.4803])\n",
            "mean = 0.48028311133384705, variance = nan\n",
            "test accuracy list: tensor([0.4818])\n",
            "mean = 0.48181816935539246, variance = nan\n",
            "****************************************************************************************************\n"
          ]
        }
      ],
      "source": [
        "%run /content/BrainIB/BrainIB_V2/SGSIB_main.py --epochs=100 --num_of_fold=1 --threshold=0.7 --explain=True"
      ]
    },
    {
      "cell_type": "markdown",
      "source": [
        "# Salient brain regions"
      ],
      "metadata": {
        "id": "_c7bTntzr34i"
      }
    },
    {
      "cell_type": "markdown",
      "source": [
        "Downloading AAL ROI label list"
      ],
      "metadata": {
        "id": "1Xk-VNFHw-kf"
      }
    },
    {
      "cell_type": "code",
      "execution_count": null,
      "metadata": {
        "colab": {
          "base_uri": "https://localhost:8080/",
          "height": 649
        },
        "id": "rBoO7SBysvjd",
        "outputId": "2e619766-7fec-4674-ed1a-c2edc11330dc"
      },
      "outputs": [
        {
          "output_type": "stream",
          "name": "stdout",
          "text": [
            "--2025-07-10 19:31:52--  https://fcp-indi.s3.amazonaws.com/data/Projects/ABIDE_Initiative/Resources/aal_labels.csv\n",
            "Resolving fcp-indi.s3.amazonaws.com (fcp-indi.s3.amazonaws.com)... 52.217.91.52, 3.5.0.201, 54.231.170.233, ...\n",
            "Connecting to fcp-indi.s3.amazonaws.com (fcp-indi.s3.amazonaws.com)|52.217.91.52|:443... connected.\n",
            "HTTP request sent, awaiting response... 200 OK\n",
            "Length: 2351 (2.3K) [application/octet-stream]\n",
            "Saving to: ‘aal_labels.csv.1’\n",
            "\n",
            "aal_labels.csv.1    100%[===================>]   2.30K  --.-KB/s    in 0s      \n",
            "\n",
            "2025-07-10 19:31:53 (154 MB/s) - ‘aal_labels.csv.1’ saved [2351/2351]\n",
            "\n",
            "AAL atlas labels for ABIDE I:\n",
            "\n"
          ]
        },
        {
          "output_type": "execute_result",
          "data": {
            "text/plain": [
              "                   ROI\n",
              "0         Precentral_L\n",
              "1         Precentral_R\n",
              "2        Frontal_Sup_L\n",
              "3        Frontal_Sup_R\n",
              "4    Frontal_Sup_Orb_L\n",
              "..                 ...\n",
              "111           Vermis_6\n",
              "112           Vermis_7\n",
              "113           Vermis_8\n",
              "114           Vermis_9\n",
              "115          Vermis_10\n",
              "\n",
              "[116 rows x 1 columns]"
            ],
            "text/html": [
              "\n",
              "  <div id=\"df-4f644b4b-2bf9-4eb0-8f08-a9271530bb1c\" class=\"colab-df-container\">\n",
              "    <div>\n",
              "<style scoped>\n",
              "    .dataframe tbody tr th:only-of-type {\n",
              "        vertical-align: middle;\n",
              "    }\n",
              "\n",
              "    .dataframe tbody tr th {\n",
              "        vertical-align: top;\n",
              "    }\n",
              "\n",
              "    .dataframe thead th {\n",
              "        text-align: right;\n",
              "    }\n",
              "</style>\n",
              "<table border=\"1\" class=\"dataframe\">\n",
              "  <thead>\n",
              "    <tr style=\"text-align: right;\">\n",
              "      <th></th>\n",
              "      <th>ROI</th>\n",
              "    </tr>\n",
              "  </thead>\n",
              "  <tbody>\n",
              "    <tr>\n",
              "      <th>0</th>\n",
              "      <td>Precentral_L</td>\n",
              "    </tr>\n",
              "    <tr>\n",
              "      <th>1</th>\n",
              "      <td>Precentral_R</td>\n",
              "    </tr>\n",
              "    <tr>\n",
              "      <th>2</th>\n",
              "      <td>Frontal_Sup_L</td>\n",
              "    </tr>\n",
              "    <tr>\n",
              "      <th>3</th>\n",
              "      <td>Frontal_Sup_R</td>\n",
              "    </tr>\n",
              "    <tr>\n",
              "      <th>4</th>\n",
              "      <td>Frontal_Sup_Orb_L</td>\n",
              "    </tr>\n",
              "    <tr>\n",
              "      <th>...</th>\n",
              "      <td>...</td>\n",
              "    </tr>\n",
              "    <tr>\n",
              "      <th>111</th>\n",
              "      <td>Vermis_6</td>\n",
              "    </tr>\n",
              "    <tr>\n",
              "      <th>112</th>\n",
              "      <td>Vermis_7</td>\n",
              "    </tr>\n",
              "    <tr>\n",
              "      <th>113</th>\n",
              "      <td>Vermis_8</td>\n",
              "    </tr>\n",
              "    <tr>\n",
              "      <th>114</th>\n",
              "      <td>Vermis_9</td>\n",
              "    </tr>\n",
              "    <tr>\n",
              "      <th>115</th>\n",
              "      <td>Vermis_10</td>\n",
              "    </tr>\n",
              "  </tbody>\n",
              "</table>\n",
              "<p>116 rows × 1 columns</p>\n",
              "</div>\n",
              "    <div class=\"colab-df-buttons\">\n",
              "\n",
              "  <div class=\"colab-df-container\">\n",
              "    <button class=\"colab-df-convert\" onclick=\"convertToInteractive('df-4f644b4b-2bf9-4eb0-8f08-a9271530bb1c')\"\n",
              "            title=\"Convert this dataframe to an interactive table.\"\n",
              "            style=\"display:none;\">\n",
              "\n",
              "  <svg xmlns=\"http://www.w3.org/2000/svg\" height=\"24px\" viewBox=\"0 -960 960 960\">\n",
              "    <path d=\"M120-120v-720h720v720H120Zm60-500h600v-160H180v160Zm220 220h160v-160H400v160Zm0 220h160v-160H400v160ZM180-400h160v-160H180v160Zm440 0h160v-160H620v160ZM180-180h160v-160H180v160Zm440 0h160v-160H620v160Z\"/>\n",
              "  </svg>\n",
              "    </button>\n",
              "\n",
              "  <style>\n",
              "    .colab-df-container {\n",
              "      display:flex;\n",
              "      gap: 12px;\n",
              "    }\n",
              "\n",
              "    .colab-df-convert {\n",
              "      background-color: #E8F0FE;\n",
              "      border: none;\n",
              "      border-radius: 50%;\n",
              "      cursor: pointer;\n",
              "      display: none;\n",
              "      fill: #1967D2;\n",
              "      height: 32px;\n",
              "      padding: 0 0 0 0;\n",
              "      width: 32px;\n",
              "    }\n",
              "\n",
              "    .colab-df-convert:hover {\n",
              "      background-color: #E2EBFA;\n",
              "      box-shadow: 0px 1px 2px rgba(60, 64, 67, 0.3), 0px 1px 3px 1px rgba(60, 64, 67, 0.15);\n",
              "      fill: #174EA6;\n",
              "    }\n",
              "\n",
              "    .colab-df-buttons div {\n",
              "      margin-bottom: 4px;\n",
              "    }\n",
              "\n",
              "    [theme=dark] .colab-df-convert {\n",
              "      background-color: #3B4455;\n",
              "      fill: #D2E3FC;\n",
              "    }\n",
              "\n",
              "    [theme=dark] .colab-df-convert:hover {\n",
              "      background-color: #434B5C;\n",
              "      box-shadow: 0px 1px 3px 1px rgba(0, 0, 0, 0.15);\n",
              "      filter: drop-shadow(0px 1px 2px rgba(0, 0, 0, 0.3));\n",
              "      fill: #FFFFFF;\n",
              "    }\n",
              "  </style>\n",
              "\n",
              "    <script>\n",
              "      const buttonEl =\n",
              "        document.querySelector('#df-4f644b4b-2bf9-4eb0-8f08-a9271530bb1c button.colab-df-convert');\n",
              "      buttonEl.style.display =\n",
              "        google.colab.kernel.accessAllowed ? 'block' : 'none';\n",
              "\n",
              "      async function convertToInteractive(key) {\n",
              "        const element = document.querySelector('#df-4f644b4b-2bf9-4eb0-8f08-a9271530bb1c');\n",
              "        const dataTable =\n",
              "          await google.colab.kernel.invokeFunction('convertToInteractive',\n",
              "                                                    [key], {});\n",
              "        if (!dataTable) return;\n",
              "\n",
              "        const docLinkHtml = 'Like what you see? Visit the ' +\n",
              "          '<a target=\"_blank\" href=https://colab.research.google.com/notebooks/data_table.ipynb>data table notebook</a>'\n",
              "          + ' to learn more about interactive tables.';\n",
              "        element.innerHTML = '';\n",
              "        dataTable['output_type'] = 'display_data';\n",
              "        await google.colab.output.renderOutput(dataTable, element);\n",
              "        const docLink = document.createElement('div');\n",
              "        docLink.innerHTML = docLinkHtml;\n",
              "        element.appendChild(docLink);\n",
              "      }\n",
              "    </script>\n",
              "  </div>\n",
              "\n",
              "\n",
              "    <div id=\"df-fd789654-8d7e-4f88-a0bc-4e58fa021c61\">\n",
              "      <button class=\"colab-df-quickchart\" onclick=\"quickchart('df-fd789654-8d7e-4f88-a0bc-4e58fa021c61')\"\n",
              "                title=\"Suggest charts\"\n",
              "                style=\"display:none;\">\n",
              "\n",
              "<svg xmlns=\"http://www.w3.org/2000/svg\" height=\"24px\"viewBox=\"0 0 24 24\"\n",
              "     width=\"24px\">\n",
              "    <g>\n",
              "        <path d=\"M19 3H5c-1.1 0-2 .9-2 2v14c0 1.1.9 2 2 2h14c1.1 0 2-.9 2-2V5c0-1.1-.9-2-2-2zM9 17H7v-7h2v7zm4 0h-2V7h2v10zm4 0h-2v-4h2v4z\"/>\n",
              "    </g>\n",
              "</svg>\n",
              "      </button>\n",
              "\n",
              "<style>\n",
              "  .colab-df-quickchart {\n",
              "      --bg-color: #E8F0FE;\n",
              "      --fill-color: #1967D2;\n",
              "      --hover-bg-color: #E2EBFA;\n",
              "      --hover-fill-color: #174EA6;\n",
              "      --disabled-fill-color: #AAA;\n",
              "      --disabled-bg-color: #DDD;\n",
              "  }\n",
              "\n",
              "  [theme=dark] .colab-df-quickchart {\n",
              "      --bg-color: #3B4455;\n",
              "      --fill-color: #D2E3FC;\n",
              "      --hover-bg-color: #434B5C;\n",
              "      --hover-fill-color: #FFFFFF;\n",
              "      --disabled-bg-color: #3B4455;\n",
              "      --disabled-fill-color: #666;\n",
              "  }\n",
              "\n",
              "  .colab-df-quickchart {\n",
              "    background-color: var(--bg-color);\n",
              "    border: none;\n",
              "    border-radius: 50%;\n",
              "    cursor: pointer;\n",
              "    display: none;\n",
              "    fill: var(--fill-color);\n",
              "    height: 32px;\n",
              "    padding: 0;\n",
              "    width: 32px;\n",
              "  }\n",
              "\n",
              "  .colab-df-quickchart:hover {\n",
              "    background-color: var(--hover-bg-color);\n",
              "    box-shadow: 0 1px 2px rgba(60, 64, 67, 0.3), 0 1px 3px 1px rgba(60, 64, 67, 0.15);\n",
              "    fill: var(--button-hover-fill-color);\n",
              "  }\n",
              "\n",
              "  .colab-df-quickchart-complete:disabled,\n",
              "  .colab-df-quickchart-complete:disabled:hover {\n",
              "    background-color: var(--disabled-bg-color);\n",
              "    fill: var(--disabled-fill-color);\n",
              "    box-shadow: none;\n",
              "  }\n",
              "\n",
              "  .colab-df-spinner {\n",
              "    border: 2px solid var(--fill-color);\n",
              "    border-color: transparent;\n",
              "    border-bottom-color: var(--fill-color);\n",
              "    animation:\n",
              "      spin 1s steps(1) infinite;\n",
              "  }\n",
              "\n",
              "  @keyframes spin {\n",
              "    0% {\n",
              "      border-color: transparent;\n",
              "      border-bottom-color: var(--fill-color);\n",
              "      border-left-color: var(--fill-color);\n",
              "    }\n",
              "    20% {\n",
              "      border-color: transparent;\n",
              "      border-left-color: var(--fill-color);\n",
              "      border-top-color: var(--fill-color);\n",
              "    }\n",
              "    30% {\n",
              "      border-color: transparent;\n",
              "      border-left-color: var(--fill-color);\n",
              "      border-top-color: var(--fill-color);\n",
              "      border-right-color: var(--fill-color);\n",
              "    }\n",
              "    40% {\n",
              "      border-color: transparent;\n",
              "      border-right-color: var(--fill-color);\n",
              "      border-top-color: var(--fill-color);\n",
              "    }\n",
              "    60% {\n",
              "      border-color: transparent;\n",
              "      border-right-color: var(--fill-color);\n",
              "    }\n",
              "    80% {\n",
              "      border-color: transparent;\n",
              "      border-right-color: var(--fill-color);\n",
              "      border-bottom-color: var(--fill-color);\n",
              "    }\n",
              "    90% {\n",
              "      border-color: transparent;\n",
              "      border-bottom-color: var(--fill-color);\n",
              "    }\n",
              "  }\n",
              "</style>\n",
              "\n",
              "      <script>\n",
              "        async function quickchart(key) {\n",
              "          const quickchartButtonEl =\n",
              "            document.querySelector('#' + key + ' button');\n",
              "          quickchartButtonEl.disabled = true;  // To prevent multiple clicks.\n",
              "          quickchartButtonEl.classList.add('colab-df-spinner');\n",
              "          try {\n",
              "            const charts = await google.colab.kernel.invokeFunction(\n",
              "                'suggestCharts', [key], {});\n",
              "          } catch (error) {\n",
              "            console.error('Error during call to suggestCharts:', error);\n",
              "          }\n",
              "          quickchartButtonEl.classList.remove('colab-df-spinner');\n",
              "          quickchartButtonEl.classList.add('colab-df-quickchart-complete');\n",
              "        }\n",
              "        (() => {\n",
              "          let quickchartButtonEl =\n",
              "            document.querySelector('#df-fd789654-8d7e-4f88-a0bc-4e58fa021c61 button');\n",
              "          quickchartButtonEl.style.display =\n",
              "            google.colab.kernel.accessAllowed ? 'block' : 'none';\n",
              "        })();\n",
              "      </script>\n",
              "    </div>\n",
              "\n",
              "  <div id=\"id_3f6cf26d-2253-43b7-9c13-3001354f3d2b\">\n",
              "    <style>\n",
              "      .colab-df-generate {\n",
              "        background-color: #E8F0FE;\n",
              "        border: none;\n",
              "        border-radius: 50%;\n",
              "        cursor: pointer;\n",
              "        display: none;\n",
              "        fill: #1967D2;\n",
              "        height: 32px;\n",
              "        padding: 0 0 0 0;\n",
              "        width: 32px;\n",
              "      }\n",
              "\n",
              "      .colab-df-generate:hover {\n",
              "        background-color: #E2EBFA;\n",
              "        box-shadow: 0px 1px 2px rgba(60, 64, 67, 0.3), 0px 1px 3px 1px rgba(60, 64, 67, 0.15);\n",
              "        fill: #174EA6;\n",
              "      }\n",
              "\n",
              "      [theme=dark] .colab-df-generate {\n",
              "        background-color: #3B4455;\n",
              "        fill: #D2E3FC;\n",
              "      }\n",
              "\n",
              "      [theme=dark] .colab-df-generate:hover {\n",
              "        background-color: #434B5C;\n",
              "        box-shadow: 0px 1px 3px 1px rgba(0, 0, 0, 0.15);\n",
              "        filter: drop-shadow(0px 1px 2px rgba(0, 0, 0, 0.3));\n",
              "        fill: #FFFFFF;\n",
              "      }\n",
              "    </style>\n",
              "    <button class=\"colab-df-generate\" onclick=\"generateWithVariable('aal_labels')\"\n",
              "            title=\"Generate code using this dataframe.\"\n",
              "            style=\"display:none;\">\n",
              "\n",
              "  <svg xmlns=\"http://www.w3.org/2000/svg\" height=\"24px\"viewBox=\"0 0 24 24\"\n",
              "       width=\"24px\">\n",
              "    <path d=\"M7,19H8.4L18.45,9,17,7.55,7,17.6ZM5,21V16.75L18.45,3.32a2,2,0,0,1,2.83,0l1.4,1.43a1.91,1.91,0,0,1,.58,1.4,1.91,1.91,0,0,1-.58,1.4L9.25,21ZM18.45,9,17,7.55Zm-12,3A5.31,5.31,0,0,0,4.9,8.1,5.31,5.31,0,0,0,1,6.5,5.31,5.31,0,0,0,4.9,4.9,5.31,5.31,0,0,0,6.5,1,5.31,5.31,0,0,0,8.1,4.9,5.31,5.31,0,0,0,12,6.5,5.46,5.46,0,0,0,6.5,12Z\"/>\n",
              "  </svg>\n",
              "    </button>\n",
              "    <script>\n",
              "      (() => {\n",
              "      const buttonEl =\n",
              "        document.querySelector('#id_3f6cf26d-2253-43b7-9c13-3001354f3d2b button.colab-df-generate');\n",
              "      buttonEl.style.display =\n",
              "        google.colab.kernel.accessAllowed ? 'block' : 'none';\n",
              "\n",
              "      buttonEl.onclick = () => {\n",
              "        google.colab.notebook.generateWithVariable('aal_labels');\n",
              "      }\n",
              "      })();\n",
              "    </script>\n",
              "  </div>\n",
              "\n",
              "    </div>\n",
              "  </div>\n"
            ],
            "application/vnd.google.colaboratory.intrinsic+json": {
              "type": "dataframe",
              "variable_name": "aal_labels",
              "summary": "{\n  \"name\": \"aal_labels\",\n  \"rows\": 116,\n  \"fields\": [\n    {\n      \"column\": \"ROI\",\n      \"properties\": {\n        \"dtype\": \"string\",\n        \"num_unique_values\": 116,\n        \"samples\": [\n          \"Temporal_Pole_Sup_R\",\n          \"Frontal_Sup_Orb_L\",\n          \"Calcarine_L\"\n        ],\n        \"semantic_type\": \"\",\n        \"description\": \"\"\n      }\n    }\n  ]\n}"
            }
          },
          "metadata": {},
          "execution_count": 8
        }
      ],
      "source": [
        "import pandas as pd\n",
        "!wget https://fcp-indi.s3.amazonaws.com/data/Projects/ABIDE_Initiative/Resources/aal_labels.csv\n",
        "\n",
        "aal_labels = pd.read_csv('/content/aal_labels.csv')\n",
        "aal_labels = aal_labels.rename(columns={'Unnamed: 1' : 'ROI'})\n",
        "aal_labels = aal_labels.drop(aal_labels.index[0]) # The first row of the table has an URL rather than a brain region\n",
        "aal_labels = aal_labels.drop('# Generated from ROI_MNI_V4.txt distributed with AAL', axis=1)\n",
        "aal_labels = aal_labels.reset_index(drop=True) #Making the labels 0-indexed\n",
        "print(\"AAL atlas labels for ABIDE I:\\n\")\n",
        "aal_labels"
      ]
    },
    {
      "cell_type": "code",
      "source": [
        "import pickle as pkl\n",
        "import os\n",
        "\n",
        "def print_brain_regions(folder_path='/content/SGSIB/', model_name='saved_model', fold_idx=0):\n",
        "    file_path = f\"{folder_path}{model_name}_model_explainability_report_fold_{fold_idx}.pkl\"\n",
        "\n",
        "    with open(file_path, 'rb') as _file_:\n",
        "        explanations = pkl.load(_file_)\n",
        "\n",
        "    print(explanations['biomarker'])\n",
        "\n",
        "    print(\"Regiões cerebrais identificadas:\")\n",
        "    print(aal_labels.iloc[explanations['biomarker']])"
      ],
      "metadata": {
        "id": "w2YdyT2rrTfK"
      },
      "execution_count": null,
      "outputs": []
    },
    {
      "cell_type": "code",
      "source": [
        "print_brain_regions()"
      ],
      "metadata": {
        "colab": {
          "base_uri": "https://localhost:8080/"
        },
        "id": "RSnD3W1ArnXi",
        "outputId": "107d5e99-c3b0-4b56-8c59-402a98e4408b"
      },
      "execution_count": null,
      "outputs": [
        {
          "output_type": "stream",
          "name": "stdout",
          "text": [
            "[102, 103, 100, 101, 98, 91, 111, 99, 90, 112]\n",
            "Regiões cerebrais identificadas:\n",
            "                   ROI\n",
            "102      Cerebelum_8_L\n",
            "103      Cerebelum_8_R\n",
            "100     Cerebelum_7b_L\n",
            "101     Cerebelum_7b_R\n",
            "98       Cerebelum_6_L\n",
            "91   Cerebelum_Crus1_R\n",
            "111           Vermis_6\n",
            "99       Cerebelum_6_R\n",
            "90   Cerebelum_Crus1_L\n",
            "112           Vermis_7\n"
          ]
        }
      ]
    }
  ],
  "metadata": {
    "accelerator": "GPU",
    "colab": {
      "gpuType": "T4",
      "provenance": []
    },
    "kernelspec": {
      "display_name": "Python 3",
      "name": "python3"
    },
    "language_info": {
      "name": "python"
    }
  },
  "nbformat": 4,
  "nbformat_minor": 0
}