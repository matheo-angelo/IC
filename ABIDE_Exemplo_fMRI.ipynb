{
  "nbformat": 4,
  "nbformat_minor": 0,
  "metadata": {
    "colab": {
      "provenance": [],
      "mount_file_id": "19b4JZwcJuBFO71PzAPOOgpnQxvWkxEgG",
      "authorship_tag": "ABX9TyMRlJbgx7RjRzrm1y75TQgK",
      "include_colab_link": true
    },
    "kernelspec": {
      "name": "python3",
      "display_name": "Python 3"
    },
    "language_info": {
      "name": "python"
    }
  },
  "cells": [
    {
      "cell_type": "markdown",
      "metadata": {
        "id": "view-in-github",
        "colab_type": "text"
      },
      "source": [
        "<a href=\"https://colab.research.google.com/github/matheo-angelo/IC/blob/main/ABIDE_Exemplo_fMRI.ipynb\" target=\"_parent\"><img src=\"https://colab.research.google.com/assets/colab-badge.svg\" alt=\"Open In Colab\"/></a>"
      ]
    },
    {
      "cell_type": "markdown",
      "source": [
        "# Exemplo de fMRI\n",
        "\n",
        "Aqui, o objetivo é entender como funciona o pipeline de dados do exame para uma única amostra, desde o arquivo do exame de fMRI até a construção do grafo."
      ],
      "metadata": {
        "id": "SocOJbHrzJpD"
      }
    },
    {
      "cell_type": "code",
      "execution_count": null,
      "metadata": {
        "id": "haeGN3VPuC-h"
      },
      "outputs": [],
      "source": [
        "def is_colab():\n",
        "    try:\n",
        "        import google.colab\n",
        "        return True\n",
        "    except ImportError:\n",
        "        return False"
      ]
    },
    {
      "cell_type": "code",
      "source": [
        "def get_data_path():\n",
        "    if is_colab():\n",
        "        return '/content/drive/MyDrive/IC/ABIDE I/fmri_CMU_A_ABIDE_0050642.nii.gz'\n",
        "    else:\n",
        "        return '/data/fmri_CMU_A_ABIDE_0050642.nii.gz'\n",
        ""
      ],
      "metadata": {
        "id": "R5bbJW5VwdoU"
      },
      "execution_count": null,
      "outputs": []
    },
    {
      "cell_type": "code",
      "source": [
        "def install_requirements_if_colab():\n",
        "  if is_colab():\n",
        "    !pip install git+https://github.com/matheo-angelo/IC/blob/main/requirements.txt\n",
        "    !pip install -r requirements.txt"
      ],
      "metadata": {
        "id": "LTxsiqYMwuyJ"
      },
      "execution_count": null,
      "outputs": []
    },
    {
      "cell_type": "code",
      "source": [
        "install_requirements_if_colab()\n",
        "#E depois eu abro o arquivo do exame no nibabel ou nilearn"
      ],
      "metadata": {
        "id": "HjG78YdFy0gG"
      },
      "execution_count": null,
      "outputs": []
    }
  ]
}